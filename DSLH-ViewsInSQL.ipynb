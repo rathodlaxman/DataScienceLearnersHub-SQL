{
    "metadata": {
        "kernelspec": {
            "name": "SQL",
            "display_name": "SQL",
            "language": "sql"
        },
        "language_info": {
            "name": "sql",
            "version": ""
        }
    },
    "nbformat_minor": 2,
    "nbformat": 4,
    "cells": [
        {
            "cell_type": "markdown",
            "source": [
                "# **Data Science Learners Hub**\n",
                "\n",
                "**Module : SQL**\n",
                "\n",
                "**Topic :** **VIEWS in SQL**\n",
                "\n",
                "**email** : [datasciencelearnershub@gmail.com](mailto:datasciencelearnershub@gmail.com)"
            ],
            "metadata": {
                "azdata_cell_guid": "0711220c-c04e-4e71-9c65-58faaa7fc5ec"
            },
            "attachments": {}
        },
        {
            "cell_type": "markdown",
            "source": [
                "## **# VIEWS**"
            ],
            "metadata": {
                "azdata_cell_guid": "105d5beb-0b43-492c-83c2-bc9285bf522f"
            },
            "attachments": {}
        },
        {
            "cell_type": "code",
            "source": [
                "USE DataScienceLearnersHub"
            ],
            "metadata": {
                "azdata_cell_guid": "378b2eb3-17b4-4aaa-9322-c0754ccea9b1",
                "language": "sql"
            },
            "outputs": [
                {
                    "output_type": "display_data",
                    "data": {
                        "text/html": "Commands completed successfully."
                    },
                    "metadata": {}
                },
                {
                    "output_type": "display_data",
                    "data": {
                        "text/html": "Total execution time: 00:00:00.006"
                    },
                    "metadata": {}
                }
            ],
            "execution_count": 1
        },
        {
            "cell_type": "markdown",
            "source": [
                "### 1. Create two Simple Tables to illustrate example for VIEWS"
            ],
            "metadata": {
                "language": "sql",
                "azdata_cell_guid": "6e186bf1-3e06-4c37-9c17-9a23b64bc860"
            },
            "attachments": {}
        },
        {
            "cell_type": "markdown",
            "source": [
                "-- Create the first table\n",
                "```sql\n",
                "CREATE TABLE Employees (\n",
                "    EmployeeID INT PRIMARY KEY,\n",
                "    FirstName VARCHAR(50),\n",
                "    LastName VARCHAR(50),\n",
                "    DepartmentID INT\n",
                ");\n",
                "```"
            ],
            "metadata": {
                "language": "",
                "azdata_cell_guid": "30334c5d-24b0-440c-8c90-93b9bbb1be0a"
            },
            "attachments": {}
        },
        {
            "cell_type": "markdown",
            "source": [
                "-- Create the second table\n",
                "```sql\n",
                "CREATE TABLE Departments (\n",
                "    DepartmentID INT PRIMARY KEY,\n",
                "    DepartmentName VARCHAR(50)\n",
                ");\n",
                "```"
            ],
            "metadata": {
                "azdata_cell_guid": "f7214d13-3037-497e-837d-928c90101474"
            },
            "attachments": {}
        },
        {
            "cell_type": "markdown",
            "source": [
                "### 2. Generate insert queries to insert values into the newly created tables"
            ],
            "metadata": {
                "azdata_cell_guid": "f26637c1-8bd2-4355-b8bf-7287c284475e"
            },
            "attachments": {}
        },
        {
            "cell_type": "markdown",
            "source": [
                "```sql\n",
                "INSERT INTO Employees (EmployeeID, FirstName, LastName, DepartmentID)\n",
                "VALUES\n",
                "    (1, 'Laxman', 'Rathod', 101),\n",
                "    (2, 'Padma', 'Chauhan', 102),\n",
                "    (3, 'Vamshi', 'Singh', 101);\n",
                "```"
            ],
            "metadata": {
                "azdata_cell_guid": "e999afd0-3e8b-400e-a198-eb12468ea680"
            },
            "attachments": {}
        },
        {
            "cell_type": "markdown",
            "source": [
                "```sql\n",
                "INSERT INTO Departments (DepartmentID, DepartmentName)\n",
                "VALUES\n",
                "    (101, 'IT'),\n",
                "    (102, 'HR');\n",
                "```"
            ],
            "metadata": {
                "azdata_cell_guid": "d30fde1f-e454-4e36-903c-654f4ea3d1e9"
            },
            "attachments": {}
        },
        {
            "cell_type": "code",
            "source": [
                "SELECT * FROM Employees"
            ],
            "metadata": {
                "language": "sql",
                "azdata_cell_guid": "6db72708-0235-4816-a797-6ee998af9bfe"
            },
            "outputs": [
                {
                    "output_type": "display_data",
                    "data": {
                        "text/html": "(3 rows affected)"
                    },
                    "metadata": {}
                },
                {
                    "output_type": "display_data",
                    "data": {
                        "text/html": "Total execution time: 00:00:00.006"
                    },
                    "metadata": {}
                },
                {
                    "output_type": "execute_result",
                    "execution_count": 4,
                    "data": {
                        "application/vnd.dataresource+json": {
                            "schema": {
                                "fields": [
                                    {
                                        "name": "EmployeeID"
                                    },
                                    {
                                        "name": "FirstName"
                                    },
                                    {
                                        "name": "LastName"
                                    },
                                    {
                                        "name": "DepartmentID"
                                    }
                                ]
                            },
                            "data": [
                                {
                                    "EmployeeID": "1",
                                    "FirstName": "Laxman",
                                    "LastName": "Rathod",
                                    "DepartmentID": "101"
                                },
                                {
                                    "EmployeeID": "2",
                                    "FirstName": "Padma",
                                    "LastName": "Chauhan",
                                    "DepartmentID": "102"
                                },
                                {
                                    "EmployeeID": "3",
                                    "FirstName": "Vamshi",
                                    "LastName": "Singh",
                                    "DepartmentID": "101"
                                }
                            ]
                        },
                        "text/html": "<table><tr><th>EmployeeID</th><th>FirstName</th><th>LastName</th><th>DepartmentID</th></tr><tr><td>1</td><td>Laxman</td><td>Rathod</td><td>101</td></tr><tr><td>2</td><td>Padma</td><td>Chauhan</td><td>102</td></tr><tr><td>3</td><td>Vamshi</td><td>Singh</td><td>101</td></tr></table>"
                    },
                    "metadata": {}
                }
            ],
            "execution_count": 4
        },
        {
            "cell_type": "code",
            "source": [
                "SELECT * FROM Departments"
            ],
            "metadata": {
                "language": "sql",
                "azdata_cell_guid": "aab316ce-eb79-4ad8-9b56-49c6206453bb"
            },
            "outputs": [
                {
                    "output_type": "display_data",
                    "data": {
                        "text/html": "(2 rows affected)"
                    },
                    "metadata": {}
                },
                {
                    "output_type": "display_data",
                    "data": {
                        "text/html": "Total execution time: 00:00:00.019"
                    },
                    "metadata": {}
                },
                {
                    "output_type": "execute_result",
                    "execution_count": 6,
                    "data": {
                        "application/vnd.dataresource+json": {
                            "schema": {
                                "fields": [
                                    {
                                        "name": "DepartmentID"
                                    },
                                    {
                                        "name": "DepartmentName"
                                    }
                                ]
                            },
                            "data": [
                                {
                                    "DepartmentID": "101",
                                    "DepartmentName": "IT"
                                },
                                {
                                    "DepartmentID": "102",
                                    "DepartmentName": "HR"
                                }
                            ]
                        },
                        "text/html": "<table><tr><th>DepartmentID</th><th>DepartmentName</th></tr><tr><td>101</td><td>IT</td></tr><tr><td>102</td><td>HR</td></tr></table>"
                    },
                    "metadata": {}
                }
            ],
            "execution_count": 6
        },
        {
            "cell_type": "markdown",
            "source": [
                "### 3. Explaining VIEWS:\n",
                "\n",
                "- **Definition:** Views are virtual tables generated by a query. They don't store data themselves but provide a way to represent data stored in one or more tables.\n",
                "- **Virtual Table**: A view is a virtual table that doesn't store data itself but represents a pre-defined SQL query stored in the database.\n",
                "- **Dynamic**: It reflects the current data of underlying tables when queried.\n",
                "- **Benefits:**\n",
                "    * Data abstraction and simplification\n",
                "    * Security\n",
                "    * Backward compatibility\n",
                "    * Reusing complex queries"
            ],
            "metadata": {
                "azdata_cell_guid": "bd83cd50-b5e7-49f8-8b6e-cc0192637a6d",
                "language": ""
            },
            "attachments": {}
        },
        {
            "cell_type": "markdown",
            "source": [
                "### 4. Types of Views:"
            ],
            "metadata": {
                "azdata_cell_guid": "6c0b3340-4093-4e20-a1dd-a21a920a4013"
            },
            "attachments": {}
        },
        {
            "cell_type": "markdown",
            "source": [
                "#### a. Simple View:\n",
                "A simple view is a basic representation of data from one or more tables. Here's an example:"
            ],
            "metadata": {
                "azdata_cell_guid": "e243380e-96e1-49fe-a5c6-252ea9cb2f1c"
            },
            "attachments": {}
        },
        {
            "cell_type": "code",
            "source": [
                "-- Simple View\n",
                "CREATE VIEW SimpleEmployeeView AS\n",
                "SELECT EmployeeID, FirstName, LastName, DepartmentID\n",
                "FROM Employees;"
            ],
            "metadata": {
                "azdata_cell_guid": "609f2a4c-00b5-4d0f-bdd0-9241465161a4",
                "language": "sql"
            },
            "outputs": [
                {
                    "output_type": "display_data",
                    "data": {
                        "text/html": "Commands completed successfully."
                    },
                    "metadata": {}
                },
                {
                    "output_type": "display_data",
                    "data": {
                        "text/html": "Total execution time: 00:00:00.051"
                    },
                    "metadata": {}
                }
            ],
            "execution_count": 7
        },
        {
            "cell_type": "code",
            "source": [
                "SELECT * FROM SimpleEmployeeView"
            ],
            "metadata": {
                "language": "sql",
                "azdata_cell_guid": "bb69934c-eb00-4fcd-bff7-f91ccfb67098"
            },
            "outputs": [
                {
                    "output_type": "display_data",
                    "data": {
                        "text/html": "(3 rows affected)"
                    },
                    "metadata": {}
                },
                {
                    "output_type": "display_data",
                    "data": {
                        "text/html": "Total execution time: 00:00:00.016"
                    },
                    "metadata": {}
                },
                {
                    "output_type": "execute_result",
                    "execution_count": 8,
                    "data": {
                        "application/vnd.dataresource+json": {
                            "schema": {
                                "fields": [
                                    {
                                        "name": "EmployeeID"
                                    },
                                    {
                                        "name": "FirstName"
                                    },
                                    {
                                        "name": "LastName"
                                    },
                                    {
                                        "name": "DepartmentID"
                                    }
                                ]
                            },
                            "data": [
                                {
                                    "EmployeeID": "1",
                                    "FirstName": "Laxman",
                                    "LastName": "Rathod",
                                    "DepartmentID": "101"
                                },
                                {
                                    "EmployeeID": "2",
                                    "FirstName": "Padma",
                                    "LastName": "Chauhan",
                                    "DepartmentID": "102"
                                },
                                {
                                    "EmployeeID": "3",
                                    "FirstName": "Vamshi",
                                    "LastName": "Singh",
                                    "DepartmentID": "101"
                                }
                            ]
                        },
                        "text/html": "<table><tr><th>EmployeeID</th><th>FirstName</th><th>LastName</th><th>DepartmentID</th></tr><tr><td>1</td><td>Laxman</td><td>Rathod</td><td>101</td></tr><tr><td>2</td><td>Padma</td><td>Chauhan</td><td>102</td></tr><tr><td>3</td><td>Vamshi</td><td>Singh</td><td>101</td></tr></table>"
                    },
                    "metadata": {}
                }
            ],
            "execution_count": 8
        },
        {
            "cell_type": "markdown",
            "source": [
                "#### b. Indexed View:\n",
                "Indexed views store data physically and can improve query performance. Let's create an indexed view:"
            ],
            "metadata": {
                "language": "sql",
                "azdata_cell_guid": "d31ffc9f-bfb2-4231-b52d-a1afe93bdc94"
            },
            "attachments": {}
        },
        {
            "cell_type": "markdown",
            "source": [
                "-- Indexed View\n",
                "  ```sql\n",
                "CREATE VIEW IndexedAverageSalaryView\n",
                "WITH SCHEMABINDING\n",
                "AS\n",
                "SELECT e.DepartmentID, AVG(e.Salary) AS AvgSalary\n",
                "FROM dbo.Employees e\n",
                "GROUP BY e.DepartmentID;\n",
                "  ```\n",
                ""
            ],
            "metadata": {
                "language": "",
                "azdata_cell_guid": "0516f3c6-7da0-4ee5-8173-444503a17219"
            },
            "attachments": {}
        },
        {
            "cell_type": "markdown",
            "source": [
                "-- Create a clustered index on the view\n",
                "```sql\n",
                "CREATE UNIQUE CLUSTERED INDEX IDX_IndexedAverageSalaryView_DepartmentID\n",
                "ON IndexedAverageSalaryView (DepartmentID);\n",
                "```"
            ],
            "metadata": {
                "azdata_cell_guid": "66dbc672-0a38-4a02-bad9-8cbe248df3ac"
            },
            "attachments": {}
        },
        {
            "cell_type": "markdown",
            "source": [
                "#### c. Complex View:\n",
                "A complex view involves multiple tables or complex queries. Here's an example:"
            ],
            "metadata": {
                "language": "sql",
                "azdata_cell_guid": "558d493d-a54e-4e10-bcf8-63ae0e3b9b95"
            },
            "attachments": {}
        },
        {
            "cell_type": "code",
            "source": [
                "-- Complex View\n",
                "CREATE VIEW ComplexEmployeeView AS\n",
                "SELECT e.EmployeeID, e.FirstName, e.LastName, d.DepartmentName\n",
                "FROM Employees e\n",
                "JOIN Departments d ON e.DepartmentID = d.DepartmentID;\n",
                ""
            ],
            "metadata": {
                "language": "sql",
                "azdata_cell_guid": "8ab02ca6-b8bc-4635-997e-f590799bbb8f"
            },
            "outputs": [
                {
                    "output_type": "display_data",
                    "data": {
                        "text/html": "Commands completed successfully."
                    },
                    "metadata": {}
                },
                {
                    "output_type": "display_data",
                    "data": {
                        "text/html": "Total execution time: 00:00:00.036"
                    },
                    "metadata": {}
                }
            ],
            "execution_count": 10
        },
        {
            "cell_type": "code",
            "source": [
                "SELECT * FROM ComplexEmployeeView"
            ],
            "metadata": {
                "language": "sql",
                "azdata_cell_guid": "f1af1ae6-7231-4fb9-aa97-7bffccad0190"
            },
            "outputs": [
                {
                    "output_type": "display_data",
                    "data": {
                        "text/html": "(3 rows affected)"
                    },
                    "metadata": {}
                },
                {
                    "output_type": "display_data",
                    "data": {
                        "text/html": "Total execution time: 00:00:00.021"
                    },
                    "metadata": {}
                },
                {
                    "output_type": "execute_result",
                    "execution_count": 11,
                    "data": {
                        "application/vnd.dataresource+json": {
                            "schema": {
                                "fields": [
                                    {
                                        "name": "EmployeeID"
                                    },
                                    {
                                        "name": "FirstName"
                                    },
                                    {
                                        "name": "LastName"
                                    },
                                    {
                                        "name": "DepartmentName"
                                    }
                                ]
                            },
                            "data": [
                                {
                                    "EmployeeID": "1",
                                    "FirstName": "Laxman",
                                    "LastName": "Rathod",
                                    "DepartmentName": "IT"
                                },
                                {
                                    "EmployeeID": "2",
                                    "FirstName": "Padma",
                                    "LastName": "Chauhan",
                                    "DepartmentName": "HR"
                                },
                                {
                                    "EmployeeID": "3",
                                    "FirstName": "Vamshi",
                                    "LastName": "Singh",
                                    "DepartmentName": "IT"
                                }
                            ]
                        },
                        "text/html": "<table><tr><th>EmployeeID</th><th>FirstName</th><th>LastName</th><th>DepartmentName</th></tr><tr><td>1</td><td>Laxman</td><td>Rathod</td><td>IT</td></tr><tr><td>2</td><td>Padma</td><td>Chauhan</td><td>HR</td></tr><tr><td>3</td><td>Vamshi</td><td>Singh</td><td>IT</td></tr></table>"
                    },
                    "metadata": {}
                }
            ],
            "execution_count": 11
        },
        {
            "cell_type": "markdown",
            "source": [
                "#### d. Updatable View:\n",
                "Updatable views allow modifications to the underlying data. Here's an example:"
            ],
            "metadata": {
                "language": "sql",
                "azdata_cell_guid": "3223962b-e014-4b01-ad77-4332a727e35e"
            },
            "attachments": {}
        },
        {
            "cell_type": "markdown",
            "source": [
                "-- Updatable View\n",
                "```sql\n",
                "CREATE VIEW UpdatableSalaryView AS\n",
                "SELECT EmployeeID, FirstName, LastName, DepartmentID\n",
                "FROM Employees\n",
                "WHERE Salary > 50000;\n",
                "```\n",
                "\n",
                "-- Grant permissions for updates\n",
                "```sql\n",
                "GRANT UPDATE ON UpdatableSalaryView TO User1;\n",
                "```"
            ],
            "metadata": {
                "language": "",
                "azdata_cell_guid": "356fdc8d-082a-4fa5-a9ac-0d2657da5db8"
            },
            "attachments": {}
        },
        {
            "cell_type": "markdown",
            "source": [
                "### 5. Practical Application:\n",
                "\n",
                "- **Security:** Views can restrict access to certain columns, providing a layer of security.\n",
                "- **Simplifying Queries:** Views can simplify complex queries by encapsulating logic.\n",
                "- **Customizing Data Access**: Presenting tailored views to different users.\n",
                "- **Refactoring Databases**: Encapsulating changes without breaking existing queries.\n",
                "\n",
                "### 6. Peculiarities and Considerations:\n",
                "\n",
                "- **Updatability:** Some views are not directly updatable, especially those involving multiple tables or complex aggregations.\n",
                "- **Performance:** Indexed views can enhance query performance but come with overhead during updates.\n",
                "- **Data Integrity**: Ensure underlying tables maintain consistency.\n",
                "- **Cascading Changes**: Modifications to base tables affect views.\n",
                "\n",
                "### 7. Common Mistakes:\n",
                "\n",
                "- **Complex Views:** Creating overly complex views may lead to performance issues and maintenance challenges.\n",
                "- **Ignoring Security:** Not considering security implications when creating views.\n",
                "- **Incorrect Joins**: Leading to invalid or incomplete results.\n",
                "- **Missing Constraints**: Causing data integrity issues.\n",
                "- **Overusing Views**: Impacting performance and maintainability."
            ],
            "metadata": {
                "azdata_cell_guid": "95656141-66f3-4845-ae5f-5afd2be62d9f"
            },
            "attachments": {}
        },
        {
            "cell_type": "markdown",
            "source": [
                "### 8. Handson :\n",
                "\n",
                "1. **Create a view named \"EmployeeDetails\" to display all columns from the Employees table.**\n",
                "\n",
                "   ```sql\n",
                "   CREATE VIEW EmployeeDetails AS\n",
                "   SELECT * FROM Employees;\n",
                "   ```\n",
                "\n",
                "2. **Explain the difference between a simple view and an indexed view.**\n",
                "\n",
                "   - **Simple View:** Represents a subset of data from one or more tables. It does not store data physically and is not directly updatable if it involves complex queries.\n",
                "   \n",
                "   - **Indexed View:** Also known as a materialized view, it is a view with a clustered index. It physically stores data, allowing for faster query performance but requires additional maintenance during updates.\n",
                "\n",
                "3. **How can views improve security in a database?**\n",
                "\n",
                "   - **Column-Level Security:** Views can limit access to specific columns, allowing users to see only the data they need.\n",
                "   \n",
                "   - **Hide Complexity:** Views can encapsulate complex queries, hiding underlying table structures and making it more challenging for unauthorized users to understand the database schema."
            ],
            "metadata": {
                "azdata_cell_guid": "7b669a57-1bb4-43b4-9391-5e0db307ecd6"
            },
            "attachments": {}
        },
        {
            "cell_type": "markdown",
            "source": [
                "### 9. Practice Questions for Students:\n",
                "\n",
                "1. Create a view to display the total salary for each department.\n",
                "2. Modify the \"EmployeeDetails\" view to include only employees from the IT department.\n",
                "\n",
                "### 10. Do you know ?\n",
                "\n",
                "- **Advantage:** Enhanced security, simplified queries, and improved data management in various real-world applications.\n",
                "- **Mishap:** Poorly designed views may lead to performance bottlenecks or data inconsistencies and difficulties in maintenance."
            ],
            "metadata": {
                "azdata_cell_guid": "89384594-46f0-40d8-8df7-3de5f2b4f112"
            },
            "attachments": {}
        }
    ]
}