{
    "metadata": {
        "kernelspec": {
            "name": "SQL",
            "display_name": "SQL",
            "language": "sql"
        },
        "language_info": {
            "name": "sql",
            "version": ""
        }
    },
    "nbformat_minor": 2,
    "nbformat": 4,
    "cells": [
        {
            "cell_type": "markdown",
            "source": [
                "# **Data Science Learners Hub**\n",
                "\n",
                "**Module : SQL**\n",
                "\n",
                "**Topic :** <span style=\"font-weight: 600; font-family: -apple-system, BlinkMacSystemFont, sans-serif; color: var(--vscode-foreground);\">Generate Scripts for Existing Tables To Export</span>\n",
                "\n",
                "**email** : [datasciencelearnershub@gmail.com](mailto:datasciencelearnershub@gmail.com)"
            ],
            "metadata": {
                "azdata_cell_guid": "b4a02d45-7505-4b5d-88b3-69ceb940e26f"
            },
            "attachments": {}
        },
        {
            "cell_type": "markdown",
            "source": [
                "### **`Steps to Generate Script for Existing Table with Data to Export to Another Database:`**  \n",
                "\n",
                "1. **Default Behavior:**\n",
                "    \n",
                "    - SSMS generates scripts that insert data row-by-row, which may be inefficient for large datasets.\n",
                "2. **Bulk Scripting:**\n",
                "    \n",
                "    - **a.** Right-click on the database in Object Explorer.\n",
                "    - **b.** Select \"Tasks\" \\> \"Generate Scripts.\"\n",
                "    - **c.** Choose the specific table you want to script.\n",
                "    - **d.** On the \"Set Scripting Options\" page, click \"Advanced.\"\n",
                "    - **e.** Set \"Types of data to script\" to \"Schema and data.\"\n",
                "    - **f.** Adjust other options like \"Script for Server Version\" and \"Script Data Compression Options\" if needed.\n",
                "    - **g.** Click \"OK\" to close the \"Advanced Scripting Options\" dialog.\n",
                "    - **h.** Click \"Next\" on the \"Set Scripting Options\" page.\n",
                "    - **i.** Choose to script to a file or a new query window.\n",
                "    - **j.** Review selections and click \"Next\" to start the scripting process.\n",
                "3. **Final Steps:**\n",
                "    \n",
                "    - **a.** Copy the generated script to the clipboard or save it as a .sql file.\n",
                "    - **b.** Connect to the target database.\n",
                "    - **c.** Open a new query window and paste the script.\n",
                "    - **d.** Execute the script to create the table and insert the data into the new database."
            ],
            "metadata": {
                "azdata_cell_guid": "8a87fe01-2e7f-4cb5-bd8b-a8a6431eb383"
            },
            "attachments": {}
        }
    ]
}