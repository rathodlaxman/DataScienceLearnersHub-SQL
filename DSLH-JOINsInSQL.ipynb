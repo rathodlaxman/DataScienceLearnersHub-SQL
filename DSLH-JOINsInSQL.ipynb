{
    "metadata": {
        "kernelspec": {
            "name": "SQL",
            "display_name": "SQL",
            "language": "sql"
        },
        "language_info": {
            "name": "sql",
            "version": ""
        }
    },
    "nbformat_minor": 2,
    "nbformat": 4,
    "cells": [
        {
            "cell_type": "markdown",
            "source": [
                "# **Data Science Learners Hub**\n",
                "\n",
                "**Module : SQL**\n",
                "\n",
                "**Topic :** **JOINS in SQL**\n",
                "\n",
                "**email** : [datasciencelearnershub@gmail.com](mailto:datasciencelearnershub@gmail.com)"
            ],
            "metadata": {
                "azdata_cell_guid": "964487e3-2c36-4125-bdae-f59a262ceb5f"
            },
            "attachments": {}
        },
        {
            "cell_type": "markdown",
            "source": [
                "## **JOINS in SQL**"
            ],
            "metadata": {
                "azdata_cell_guid": "ec343b75-3358-4960-b4c6-b0157ebd3b52"
            },
            "attachments": {}
        },
        {
            "cell_type": "code",
            "source": [
                "USE DataScienceLearnersHub"
            ],
            "metadata": {
                "azdata_cell_guid": "e942aa24-793c-42f3-abec-78198397ba9b",
                "language": "sql"
            },
            "outputs": [
                {
                    "output_type": "display_data",
                    "data": {
                        "text/html": "Commands completed successfully."
                    },
                    "metadata": {}
                },
                {
                    "output_type": "display_data",
                    "data": {
                        "text/html": "Total execution time: 00:00:00.005"
                    },
                    "metadata": {}
                }
            ],
            "execution_count": 1
        },
        {
            "cell_type": "markdown",
            "source": [
                "### 1. Create two simple tables to illustrate examples for JOINs"
            ],
            "metadata": {
                "language": "sql",
                "azdata_cell_guid": "a9b52c70-2fce-47d2-b40c-66a601bfcc7d"
            },
            "attachments": {}
        },
        {
            "cell_type": "code",
            "source": [
                "-- Create the first table\n",
                "CREATE TABLE Employees (\n",
                "    EmployeeID INT PRIMARY KEY,\n",
                "    FirstName VARCHAR(50),\n",
                "    LastName VARCHAR(50),\n",
                "    DepartmentID INT\n",
                ");"
            ],
            "metadata": {
                "language": "sql",
                "azdata_cell_guid": "faa1f8f9-37b6-40ba-850f-4f0312d872aa"
            },
            "outputs": [
                {
                    "output_type": "display_data",
                    "data": {
                        "text/html": "Commands completed successfully."
                    },
                    "metadata": {}
                },
                {
                    "output_type": "display_data",
                    "data": {
                        "text/html": "Total execution time: 00:00:00.041"
                    },
                    "metadata": {}
                }
            ],
            "execution_count": 10
        },
        {
            "cell_type": "code",
            "source": [
                "-- Create the second table\n",
                "CREATE TABLE Departments (\n",
                "    DepartmentID INT PRIMARY KEY,\n",
                "    DepartmentName VARCHAR(50)\n",
                ");"
            ],
            "metadata": {
                "language": "sql",
                "azdata_cell_guid": "5a70208a-95ea-4c71-9e00-6ca6aad6df8c"
            },
            "outputs": [
                {
                    "output_type": "display_data",
                    "data": {
                        "text/html": "Commands completed successfully."
                    },
                    "metadata": {}
                },
                {
                    "output_type": "display_data",
                    "data": {
                        "text/html": "Total execution time: 00:00:00.035"
                    },
                    "metadata": {}
                }
            ],
            "execution_count": 11
        },
        {
            "cell_type": "markdown",
            "source": [
                "### 2. Generate insert queries to insert values into the newly created tables"
            ],
            "metadata": {
                "language": "sql",
                "azdata_cell_guid": "207da387-5f91-48d5-b8c6-14ee04d19599"
            },
            "attachments": {}
        },
        {
            "cell_type": "code",
            "source": [
                "-- Insert values into the Employees table\n",
                "INSERT INTO Employees (EmployeeID, FirstName, LastName, DepartmentID)\n",
                "VALUES\n",
                "    (1, 'Laxman', 'Rathod', 101),\n",
                "    (2, 'Padma', 'Chauhan', 102),\n",
                "    (3, 'Vamshi', 'Singh', 101);"
            ],
            "metadata": {
                "language": "sql",
                "azdata_cell_guid": "26d64387-5083-4ebd-9f7d-5dbd42c48712"
            },
            "outputs": [
                {
                    "output_type": "display_data",
                    "data": {
                        "text/html": "(3 rows affected)"
                    },
                    "metadata": {}
                },
                {
                    "output_type": "display_data",
                    "data": {
                        "text/html": "Total execution time: 00:00:00.018"
                    },
                    "metadata": {}
                }
            ],
            "execution_count": 13
        },
        {
            "cell_type": "code",
            "source": [
                "-- Insert values into the Departments table\n",
                "INSERT INTO Departments (DepartmentID, DepartmentName)\n",
                "VALUES\n",
                "    (101, 'IT'),\n",
                "    (102, 'HR');"
            ],
            "metadata": {
                "language": "sql",
                "azdata_cell_guid": "2d6dcdef-c6b2-4cac-a65d-82bb342b5ceb"
            },
            "outputs": [
                {
                    "output_type": "display_data",
                    "data": {
                        "text/html": "(2 rows affected)"
                    },
                    "metadata": {}
                },
                {
                    "output_type": "display_data",
                    "data": {
                        "text/html": "Total execution time: 00:00:00.011"
                    },
                    "metadata": {}
                }
            ],
            "execution_count": 14
        },
        {
            "cell_type": "code",
            "source": [
                "SELECT * FROM Employees"
            ],
            "metadata": {
                "language": "sql",
                "azdata_cell_guid": "96bc77c6-c672-4492-9769-a95c971d4f4a"
            },
            "outputs": [
                {
                    "output_type": "display_data",
                    "data": {
                        "text/html": "(3 rows affected)"
                    },
                    "metadata": {}
                },
                {
                    "output_type": "display_data",
                    "data": {
                        "text/html": "Total execution time: 00:00:00.005"
                    },
                    "metadata": {}
                },
                {
                    "output_type": "execute_result",
                    "execution_count": 3,
                    "data": {
                        "application/vnd.dataresource+json": {
                            "schema": {
                                "fields": [
                                    {
                                        "name": "EmployeeID"
                                    },
                                    {
                                        "name": "FirstName"
                                    },
                                    {
                                        "name": "LastName"
                                    },
                                    {
                                        "name": "DepartmentID"
                                    }
                                ]
                            },
                            "data": [
                                {
                                    "EmployeeID": "1",
                                    "FirstName": "Laxman",
                                    "LastName": "Rathod",
                                    "DepartmentID": "101"
                                },
                                {
                                    "EmployeeID": "2",
                                    "FirstName": "Padma",
                                    "LastName": "Chauhan",
                                    "DepartmentID": "102"
                                },
                                {
                                    "EmployeeID": "3",
                                    "FirstName": "Vamshi",
                                    "LastName": "Singh",
                                    "DepartmentID": "101"
                                }
                            ]
                        },
                        "text/html": "<table><tr><th>EmployeeID</th><th>FirstName</th><th>LastName</th><th>DepartmentID</th></tr><tr><td>1</td><td>Laxman</td><td>Rathod</td><td>101</td></tr><tr><td>2</td><td>Padma</td><td>Chauhan</td><td>102</td></tr><tr><td>3</td><td>Vamshi</td><td>Singh</td><td>101</td></tr></table>"
                    },
                    "metadata": {}
                }
            ],
            "execution_count": 3
        },
        {
            "cell_type": "code",
            "source": [
                "SELECT * FROM DEpartments"
            ],
            "metadata": {
                "language": "sql",
                "azdata_cell_guid": "b7fe01d1-3140-4878-adb3-26105870f416"
            },
            "outputs": [
                {
                    "output_type": "display_data",
                    "data": {
                        "text/html": "(2 rows affected)"
                    },
                    "metadata": {}
                },
                {
                    "output_type": "display_data",
                    "data": {
                        "text/html": "Total execution time: 00:00:00.005"
                    },
                    "metadata": {}
                },
                {
                    "output_type": "execute_result",
                    "execution_count": 4,
                    "data": {
                        "application/vnd.dataresource+json": {
                            "schema": {
                                "fields": [
                                    {
                                        "name": "DepartmentID"
                                    },
                                    {
                                        "name": "DepartmentName"
                                    }
                                ]
                            },
                            "data": [
                                {
                                    "DepartmentID": "101",
                                    "DepartmentName": "IT"
                                },
                                {
                                    "DepartmentID": "102",
                                    "DepartmentName": "HR"
                                }
                            ]
                        },
                        "text/html": "<table><tr><th>DepartmentID</th><th>DepartmentName</th></tr><tr><td>101</td><td>IT</td></tr><tr><td>102</td><td>HR</td></tr></table>"
                    },
                    "metadata": {}
                }
            ],
            "execution_count": 4
        },
        {
            "cell_type": "markdown",
            "source": [
                "### 3. Understanding JOINs\n",
                "\n",
                "In MS SQL Server, JOINS are used to combine rows from two or more tables based on related columns. They enable you to retrieve data from multiple tables in a single query."
            ],
            "metadata": {
                "language": "sql",
                "azdata_cell_guid": "c83fe1ae-cb27-4e65-a0ed-23eac270e316"
            },
            "attachments": {}
        },
        {
            "cell_type": "markdown",
            "source": [
                "### 4. Types of JOINs\n",
                "\n",
                "#### a. INNER JOIN\n",
                "\n",
                "- Returns only rows where there's a match in both tables based on the specified join condition.\n",
                "\n",
                "```sql\n",
                "-- Syntax\n",
                "SELECT *\n",
                "FROM table1\n",
                "INNER JOIN table2 ON table1.column_name = table2.column_name;\n",
                "```"
            ],
            "metadata": {
                "language": "sql",
                "azdata_cell_guid": "11e152ee-6076-4390-b015-4f772b150026"
            },
            "attachments": {}
        },
        {
            "cell_type": "code",
            "source": [
                "-- Example\n",
                "SELECT *\n",
                "FROM Employees\n",
                "INNER JOIN Departments ON Employees.DepartmentID = Departments.DepartmentID;"
            ],
            "metadata": {
                "language": "sql",
                "azdata_cell_guid": "b8af3f6a-76b6-4646-bd67-89f9825468fa"
            },
            "outputs": [
                {
                    "output_type": "display_data",
                    "data": {
                        "text/html": "(3 rows affected)"
                    },
                    "metadata": {}
                },
                {
                    "output_type": "display_data",
                    "data": {
                        "text/html": "Total execution time: 00:00:00.028"
                    },
                    "metadata": {}
                },
                {
                    "output_type": "execute_result",
                    "metadata": {},
                    "execution_count": 2,
                    "data": {
                        "application/vnd.dataresource+json": {
                            "schema": {
                                "fields": [
                                    {
                                        "name": "EmployeeID"
                                    },
                                    {
                                        "name": "FirstName"
                                    },
                                    {
                                        "name": "LastName"
                                    },
                                    {
                                        "name": "DepartmentID"
                                    },
                                    {
                                        "name": "DepartmentID"
                                    },
                                    {
                                        "name": "DepartmentName"
                                    }
                                ]
                            },
                            "data": [
                                {
                                    "EmployeeID": "1",
                                    "FirstName": "Laxman",
                                    "LastName": "Rathod",
                                    "DepartmentID": "101",
                                    "DepartmentName": "IT"
                                },
                                {
                                    "EmployeeID": "2",
                                    "FirstName": "Padma",
                                    "LastName": "Chauhan",
                                    "DepartmentID": "102",
                                    "DepartmentName": "HR"
                                },
                                {
                                    "EmployeeID": "3",
                                    "FirstName": "Vamshi",
                                    "LastName": "Singh",
                                    "DepartmentID": "101",
                                    "DepartmentName": "IT"
                                }
                            ]
                        },
                        "text/html": [
                            "<table>",
                            "<tr><th>EmployeeID</th><th>FirstName</th><th>LastName</th><th>DepartmentID</th><th>DepartmentID</th><th>DepartmentName</th></tr>",
                            "<tr><td>1</td><td>Laxman</td><td>Rathod</td><td>101</td><td>101</td><td>IT</td></tr>",
                            "<tr><td>2</td><td>Padma</td><td>Chauhan</td><td>102</td><td>102</td><td>HR</td></tr>",
                            "<tr><td>3</td><td>Vamshi</td><td>Singh</td><td>101</td><td>101</td><td>IT</td></tr>",
                            "</table>"
                        ]
                    }
                }
            ],
            "execution_count": 2
        },
        {
            "cell_type": "markdown",
            "source": [
                "#### b. LEFT JOIN (or LEFT OUTER JOIN)\n",
                "\n",
                "- Returns all rows from the left table, and matching rows from the right table.\n",
                "- If there's no match in the right table, NULL values are used for its columns.\n",
                "\n",
                "```sql\n",
                "-- Syntax\n",
                "SELECT *\n",
                "FROM table1\n",
                "LEFT JOIN table2 ON table1.column_name = table2.column_name;\n",
                "```"
            ],
            "metadata": {
                "language": "sql",
                "azdata_cell_guid": "24207bc8-a6e6-4c09-a771-8b3316159abb"
            },
            "attachments": {}
        },
        {
            "cell_type": "code",
            "source": [
                "-- Example\n",
                "SELECT *\n",
                "FROM Employees\n",
                "LEFT JOIN Departments ON Employees.DepartmentID = Departments.DepartmentID;"
            ],
            "metadata": {
                "language": "sql",
                "azdata_cell_guid": "ec7e4b95-147c-4fa6-a3fa-9ab05a4bbe6f"
            },
            "outputs": [
                {
                    "output_type": "display_data",
                    "data": {
                        "text/html": "(3 rows affected)"
                    },
                    "metadata": {}
                },
                {
                    "output_type": "display_data",
                    "data": {
                        "text/html": "Total execution time: 00:00:00.010"
                    },
                    "metadata": {}
                },
                {
                    "output_type": "execute_result",
                    "metadata": {},
                    "execution_count": 3,
                    "data": {
                        "application/vnd.dataresource+json": {
                            "schema": {
                                "fields": [
                                    {
                                        "name": "EmployeeID"
                                    },
                                    {
                                        "name": "FirstName"
                                    },
                                    {
                                        "name": "LastName"
                                    },
                                    {
                                        "name": "DepartmentID"
                                    },
                                    {
                                        "name": "DepartmentID"
                                    },
                                    {
                                        "name": "DepartmentName"
                                    }
                                ]
                            },
                            "data": [
                                {
                                    "EmployeeID": "1",
                                    "FirstName": "Laxman",
                                    "LastName": "Rathod",
                                    "DepartmentID": "101",
                                    "DepartmentName": "IT"
                                },
                                {
                                    "EmployeeID": "2",
                                    "FirstName": "Padma",
                                    "LastName": "Chauhan",
                                    "DepartmentID": "102",
                                    "DepartmentName": "HR"
                                },
                                {
                                    "EmployeeID": "3",
                                    "FirstName": "Vamshi",
                                    "LastName": "Singh",
                                    "DepartmentID": "101",
                                    "DepartmentName": "IT"
                                }
                            ]
                        },
                        "text/html": [
                            "<table>",
                            "<tr><th>EmployeeID</th><th>FirstName</th><th>LastName</th><th>DepartmentID</th><th>DepartmentID</th><th>DepartmentName</th></tr>",
                            "<tr><td>1</td><td>Laxman</td><td>Rathod</td><td>101</td><td>101</td><td>IT</td></tr>",
                            "<tr><td>2</td><td>Padma</td><td>Chauhan</td><td>102</td><td>102</td><td>HR</td></tr>",
                            "<tr><td>3</td><td>Vamshi</td><td>Singh</td><td>101</td><td>101</td><td>IT</td></tr>",
                            "</table>"
                        ]
                    }
                }
            ],
            "execution_count": 3
        },
        {
            "cell_type": "markdown",
            "source": [
                "#### c. RIGHT JOIN (or RIGHT OUTER JOIN)\n",
                "\n",
                "- Opposite of LEFT JOIN; returns all rows from the right table, and matching rows from the left table.\n",
                "\n",
                "```sql\n",
                "-- Syntax\n",
                "SELECT *\n",
                "FROM table1\n",
                "RIGHT JOIN table2 ON table1.column_name = table2.column_name;\n",
                "```"
            ],
            "metadata": {
                "language": "sql",
                "azdata_cell_guid": "e81a352d-9020-4eeb-8ace-4193b5f569cc"
            },
            "attachments": {}
        },
        {
            "cell_type": "code",
            "source": [
                "-- Example\n",
                "SELECT *\n",
                "FROM Employees\n",
                "RIGHT JOIN Departments ON Employees.DepartmentID = Departments.DepartmentID;"
            ],
            "metadata": {
                "language": "sql",
                "azdata_cell_guid": "5053bb3e-b5d9-496d-9f3c-39f52f2ad4a9"
            },
            "outputs": [
                {
                    "output_type": "display_data",
                    "data": {
                        "text/html": "(3 rows affected)"
                    },
                    "metadata": {}
                },
                {
                    "output_type": "display_data",
                    "data": {
                        "text/html": "Total execution time: 00:00:00.005"
                    },
                    "metadata": {}
                },
                {
                    "output_type": "execute_result",
                    "metadata": {},
                    "execution_count": 4,
                    "data": {
                        "application/vnd.dataresource+json": {
                            "schema": {
                                "fields": [
                                    {
                                        "name": "EmployeeID"
                                    },
                                    {
                                        "name": "FirstName"
                                    },
                                    {
                                        "name": "LastName"
                                    },
                                    {
                                        "name": "DepartmentID"
                                    },
                                    {
                                        "name": "DepartmentID"
                                    },
                                    {
                                        "name": "DepartmentName"
                                    }
                                ]
                            },
                            "data": [
                                {
                                    "EmployeeID": "1",
                                    "FirstName": "Laxman",
                                    "LastName": "Rathod",
                                    "DepartmentID": "101",
                                    "DepartmentName": "IT"
                                },
                                {
                                    "EmployeeID": "3",
                                    "FirstName": "Vamshi",
                                    "LastName": "Singh",
                                    "DepartmentID": "101",
                                    "DepartmentName": "IT"
                                },
                                {
                                    "EmployeeID": "2",
                                    "FirstName": "Padma",
                                    "LastName": "Chauhan",
                                    "DepartmentID": "102",
                                    "DepartmentName": "HR"
                                }
                            ]
                        },
                        "text/html": [
                            "<table>",
                            "<tr><th>EmployeeID</th><th>FirstName</th><th>LastName</th><th>DepartmentID</th><th>DepartmentID</th><th>DepartmentName</th></tr>",
                            "<tr><td>1</td><td>Laxman</td><td>Rathod</td><td>101</td><td>101</td><td>IT</td></tr>",
                            "<tr><td>3</td><td>Vamshi</td><td>Singh</td><td>101</td><td>101</td><td>IT</td></tr>",
                            "<tr><td>2</td><td>Padma</td><td>Chauhan</td><td>102</td><td>102</td><td>HR</td></tr>",
                            "</table>"
                        ]
                    }
                }
            ],
            "execution_count": 4
        },
        {
            "cell_type": "markdown",
            "source": [
                "#### d. FULL JOIN (or FULL OUTER JOIN)\n",
                "\n",
                "- Returns all rows from both tables, regardless of whether there's a match.\n",
                "\n",
                "```sql\n",
                "-- Syntax\n",
                "SELECT *\n",
                "FROM table1\n",
                "FULL JOIN table2 ON table1.column_name = table2.column_name;\n",
                "```"
            ],
            "metadata": {
                "language": "sql",
                "azdata_cell_guid": "e35d54d5-bbec-48b6-b3ce-0e2dd282ca03"
            },
            "attachments": {}
        },
        {
            "cell_type": "code",
            "source": [
                "-- Example\n",
                "SELECT *\n",
                "FROM Employees\n",
                "FULL JOIN Departments ON Employees.DepartmentID = Departments.DepartmentID;"
            ],
            "metadata": {
                "language": "sql",
                "azdata_cell_guid": "f9c23a49-6088-4172-94d0-250264c38425"
            },
            "outputs": [
                {
                    "output_type": "display_data",
                    "data": {
                        "text/html": "(3 rows affected)"
                    },
                    "metadata": {}
                },
                {
                    "output_type": "display_data",
                    "data": {
                        "text/html": "Total execution time: 00:00:00.007"
                    },
                    "metadata": {}
                },
                {
                    "output_type": "execute_result",
                    "metadata": {},
                    "execution_count": 5,
                    "data": {
                        "application/vnd.dataresource+json": {
                            "schema": {
                                "fields": [
                                    {
                                        "name": "EmployeeID"
                                    },
                                    {
                                        "name": "FirstName"
                                    },
                                    {
                                        "name": "LastName"
                                    },
                                    {
                                        "name": "DepartmentID"
                                    },
                                    {
                                        "name": "DepartmentID"
                                    },
                                    {
                                        "name": "DepartmentName"
                                    }
                                ]
                            },
                            "data": [
                                {
                                    "EmployeeID": "1",
                                    "FirstName": "Laxman",
                                    "LastName": "Rathod",
                                    "DepartmentID": "101",
                                    "DepartmentName": "IT"
                                },
                                {
                                    "EmployeeID": "2",
                                    "FirstName": "Padma",
                                    "LastName": "Chauhan",
                                    "DepartmentID": "102",
                                    "DepartmentName": "HR"
                                },
                                {
                                    "EmployeeID": "3",
                                    "FirstName": "Vamshi",
                                    "LastName": "Singh",
                                    "DepartmentID": "101",
                                    "DepartmentName": "IT"
                                }
                            ]
                        },
                        "text/html": [
                            "<table>",
                            "<tr><th>EmployeeID</th><th>FirstName</th><th>LastName</th><th>DepartmentID</th><th>DepartmentID</th><th>DepartmentName</th></tr>",
                            "<tr><td>1</td><td>Laxman</td><td>Rathod</td><td>101</td><td>101</td><td>IT</td></tr>",
                            "<tr><td>2</td><td>Padma</td><td>Chauhan</td><td>102</td><td>102</td><td>HR</td></tr>",
                            "<tr><td>3</td><td>Vamshi</td><td>Singh</td><td>101</td><td>101</td><td>IT</td></tr>",
                            "</table>"
                        ]
                    }
                }
            ],
            "execution_count": 5
        },
        {
            "cell_type": "markdown",
            "source": [
                "#### e. SELF JOIN:\n",
                "\n",
                "A SELF JOIN is a regular join, but the table is joined with itself. This is useful when you want to combine rows with related data within the same table.\n",
                "\n",
                "-- Syntax:\n",
                "```sql\n",
                "SELECT *\n",
                "FROM table1\n",
                "JOIN table2 ON table1.column_name = table2.column_name;\n",
                "```"
            ],
            "metadata": {
                "language": "",
                "azdata_cell_guid": "fd5d591e-4c3a-42cf-9a77-029bec096479"
            },
            "attachments": {}
        },
        {
            "cell_type": "code",
            "source": [
                "-- Example: Retrieve a list of employees along with their managers:\n",
                "\n",
                "SELECT e.EmployeeID, e.FirstName, e.LastName, e.DepartmentID, m.EmployeeID AS ManagerID, m.FirstName AS ManagerFirstName, m.LastName AS ManagerLastName\n",
                "FROM Employees e\n",
                "INNER JOIN Employees m ON e.DepartmentID = m.DepartmentID AND e.EmployeeID <> m.EmployeeID;"
            ],
            "metadata": {
                "azdata_cell_guid": "e5f8293e-e46c-447f-99af-da5165a83112",
                "language": "sql"
            },
            "outputs": [
                {
                    "output_type": "display_data",
                    "data": {
                        "text/html": "(2 rows affected)"
                    },
                    "metadata": {}
                },
                {
                    "output_type": "display_data",
                    "data": {
                        "text/html": "Total execution time: 00:00:00.092"
                    },
                    "metadata": {}
                },
                {
                    "output_type": "execute_result",
                    "execution_count": 3,
                    "data": {
                        "application/vnd.dataresource+json": {
                            "schema": {
                                "fields": [
                                    {
                                        "name": "EmployeeID"
                                    },
                                    {
                                        "name": "FirstName"
                                    },
                                    {
                                        "name": "LastName"
                                    },
                                    {
                                        "name": "DepartmentID"
                                    },
                                    {
                                        "name": "ManagerID"
                                    },
                                    {
                                        "name": "ManagerFirstName"
                                    },
                                    {
                                        "name": "ManagerLastName"
                                    }
                                ]
                            },
                            "data": [
                                {
                                    "EmployeeID": "1",
                                    "FirstName": "Laxman",
                                    "LastName": "Rathod",
                                    "DepartmentID": "101",
                                    "ManagerID": "3",
                                    "ManagerFirstName": "Vamshi",
                                    "ManagerLastName": "Singh"
                                },
                                {
                                    "EmployeeID": "3",
                                    "FirstName": "Vamshi",
                                    "LastName": "Singh",
                                    "DepartmentID": "101",
                                    "ManagerID": "1",
                                    "ManagerFirstName": "Laxman",
                                    "ManagerLastName": "Rathod"
                                }
                            ]
                        },
                        "text/html": "<table><tr><th>EmployeeID</th><th>FirstName</th><th>LastName</th><th>DepartmentID</th><th>ManagerID</th><th>ManagerFirstName</th><th>ManagerLastName</th></tr><tr><td>1</td><td>Laxman</td><td>Rathod</td><td>101</td><td>3</td><td>Vamshi</td><td>Singh</td></tr><tr><td>3</td><td>Vamshi</td><td>Singh</td><td>101</td><td>1</td><td>Laxman</td><td>Rathod</td></tr></table>"
                    },
                    "metadata": {}
                }
            ],
            "execution_count": 3
        },
        {
            "cell_type": "markdown",
            "source": [
                "#### Explanation :\n",
                "- In the above example, we're joining the `Employees` table with itself based on the `DepartmentID`. We alias the table as `e` for employees and `m` for managers. The condition `e.EmployeeID <> m.EmployeeID` ensures that we don't match an employee with themselves."
            ],
            "metadata": {
                "language": "sql",
                "azdata_cell_guid": "75658361-8565-43f5-90a8-ef2d4bec2f7f"
            },
            "attachments": {}
        },
        {
            "cell_type": "markdown",
            "source": [
                "#### f. CROSS JOIN:\n",
                "\n",
                "A CROSS JOIN produces a Cartesian product of two tables. It combines each row from the first table with every row from the second table, resulting in every possible combination of rows.\n",
                "\n",
                "-- Syntax:\n",
                "```sql\n",
                "SELECT *\n",
                "FROM table1\n",
                "CROSS JOIN table2;\n",
                "```"
            ],
            "metadata": {
                "language": "sql",
                "azdata_cell_guid": "7226227e-49ac-4b3b-b52d-d41758eb99cb"
            },
            "attachments": {}
        },
        {
            "cell_type": "code",
            "source": [
                "-- Example: Retrieve a list of all possible combinations of employees and departments:\n",
                "\n",
                "SELECT *\n",
                "FROM Employees\n",
                "CROSS JOIN Departments;"
            ],
            "metadata": {
                "language": "sql",
                "azdata_cell_guid": "9d85388d-e583-46c9-bb33-0127fcebc97f"
            },
            "outputs": [
                {
                    "output_type": "display_data",
                    "data": {
                        "text/html": "(6 rows affected)"
                    },
                    "metadata": {}
                },
                {
                    "output_type": "display_data",
                    "data": {
                        "text/html": "Total execution time: 00:00:00.004"
                    },
                    "metadata": {}
                },
                {
                    "output_type": "execute_result",
                    "metadata": {},
                    "execution_count": 6,
                    "data": {
                        "application/vnd.dataresource+json": {
                            "schema": {
                                "fields": [
                                    {
                                        "name": "EmployeeID"
                                    },
                                    {
                                        "name": "FirstName"
                                    },
                                    {
                                        "name": "LastName"
                                    },
                                    {
                                        "name": "DepartmentID"
                                    },
                                    {
                                        "name": "DepartmentID"
                                    },
                                    {
                                        "name": "DepartmentName"
                                    }
                                ]
                            },
                            "data": [
                                {
                                    "EmployeeID": "1",
                                    "FirstName": "Laxman",
                                    "LastName": "Rathod",
                                    "DepartmentID": "101",
                                    "DepartmentName": "IT"
                                },
                                {
                                    "EmployeeID": "2",
                                    "FirstName": "Padma",
                                    "LastName": "Chauhan",
                                    "DepartmentID": "101",
                                    "DepartmentName": "IT"
                                },
                                {
                                    "EmployeeID": "3",
                                    "FirstName": "Vamshi",
                                    "LastName": "Singh",
                                    "DepartmentID": "101",
                                    "DepartmentName": "IT"
                                },
                                {
                                    "EmployeeID": "1",
                                    "FirstName": "Laxman",
                                    "LastName": "Rathod",
                                    "DepartmentID": "102",
                                    "DepartmentName": "HR"
                                },
                                {
                                    "EmployeeID": "2",
                                    "FirstName": "Padma",
                                    "LastName": "Chauhan",
                                    "DepartmentID": "102",
                                    "DepartmentName": "HR"
                                },
                                {
                                    "EmployeeID": "3",
                                    "FirstName": "Vamshi",
                                    "LastName": "Singh",
                                    "DepartmentID": "102",
                                    "DepartmentName": "HR"
                                }
                            ]
                        },
                        "text/html": [
                            "<table>",
                            "<tr><th>EmployeeID</th><th>FirstName</th><th>LastName</th><th>DepartmentID</th><th>DepartmentID</th><th>DepartmentName</th></tr>",
                            "<tr><td>1</td><td>Laxman</td><td>Rathod</td><td>101</td><td>101</td><td>IT</td></tr>",
                            "<tr><td>2</td><td>Padma</td><td>Chauhan</td><td>102</td><td>101</td><td>IT</td></tr>",
                            "<tr><td>3</td><td>Vamshi</td><td>Singh</td><td>101</td><td>101</td><td>IT</td></tr>",
                            "<tr><td>1</td><td>Laxman</td><td>Rathod</td><td>101</td><td>102</td><td>HR</td></tr>",
                            "<tr><td>2</td><td>Padma</td><td>Chauhan</td><td>102</td><td>102</td><td>HR</td></tr>",
                            "<tr><td>3</td><td>Vamshi</td><td>Singh</td><td>101</td><td>102</td><td>HR</td></tr>",
                            "</table>"
                        ]
                    }
                }
            ],
            "execution_count": 6
        },
        {
            "cell_type": "markdown",
            "source": [
                "#### Explanation :\n",
                "- In the above example, the result will contain all possible combinations of rows from the `Employees` table with rows from the `Departments` table. The number of rows in the result will be the product of the number of rows in each table."
            ],
            "metadata": {
                "language": "sql",
                "azdata_cell_guid": "a3e3b51f-21c1-4dc4-8d11-cd5713b54eb0"
            },
            "attachments": {}
        },
        {
            "cell_type": "markdown",
            "source": [
                "### 5. Practical application of JOINs\n",
                "\n",
                "- **Employee-Department Relationship:** Retrieving information about employees and their respective departments.\n",
                "- **Order-Product Relationship:** Obtaining details about orders along with the products ordered.\n",
                "- **Customer-Address Relationship:** Combining customer information with their addresses.\n",
                "- **Social media relationships**: Map connections between users in social networks."
            ],
            "metadata": {
                "language": "sql",
                "azdata_cell_guid": "92d1993a-4384-4e1e-9c44-e35f61b0f67a"
            },
            "attachments": {}
        },
        {
            "cell_type": "markdown",
            "source": [
                "### 6. Peculiarities and Considerations for JOINs\n",
                "\n",
                "- **Performance:** JOINs can impact performance, especially with large datasets, so it's essential to use them judiciously.\n",
                "- **Indexes:** Proper indexing on join columns can significantly improve performance\n",
                "- **Join conditions**: Ensure correct column matches for accurate results.\n",
                "- **Table order**: Left and right tables can impact results in some JOIN types.\n",
                "- **Null values**: Handle potential NULL values appropriately."
            ],
            "metadata": {
                "language": "sql",
                "azdata_cell_guid": "428df3f7-7716-4b00-bca9-3331a40d6ae0"
            },
            "attachments": {}
        },
        {
            "cell_type": "markdown",
            "source": [
                "### 7. Most Common Mistakes with JOINs\n",
                "\n",
                "- **Forgetting ON Clause:** Forgetting to specify the conditions in the ON clause.\n",
                "- **Incorrect Join Type:** Using the wrong type of JOIN for the desired result.\n",
                "- **Incorrect join condition**: Using the wrong columns for the join.\n",
                "- **Missing join condition**: Forgetting to specify the join condition altogether.\n",
                "- **Using INNER JOIN when LEFT or RIGHT JOIN is needed**: Not considering the desired output for unmatched rows."
            ],
            "metadata": {
                "language": "sql",
                "azdata_cell_guid": "386c59e9-31e7-4036-bdb2-3879ca144243"
            },
            "attachments": {}
        },
        {
            "cell_type": "markdown",
            "source": [
                "### 8. Handson"
            ],
            "metadata": {
                "language": "sql",
                "azdata_cell_guid": "ad80c369-5fb4-4a73-b991-2ca7d440a973"
            },
            "attachments": {}
        },
        {
            "cell_type": "markdown",
            "source": [
                "#### Question 1:\n",
                "Retrieve a list of all employees along with their department names."
            ],
            "metadata": {
                "language": "sql",
                "azdata_cell_guid": "dd4dfa31-3223-40f8-bd67-bb09649c919e"
            },
            "attachments": {}
        },
        {
            "cell_type": "code",
            "source": [
                "SELECT *\n",
                "FROM Employees\n",
                "INNER JOIN Departments ON Employees.DepartmentID = Departments.DepartmentID;"
            ],
            "metadata": {
                "language": "sql",
                "azdata_cell_guid": "a261408c-1e7e-443a-8db3-43c1572f14b3"
            },
            "outputs": [
                {
                    "output_type": "display_data",
                    "data": {
                        "text/html": "(3 rows affected)"
                    },
                    "metadata": {}
                },
                {
                    "output_type": "display_data",
                    "data": {
                        "text/html": "Total execution time: 00:00:00.005"
                    },
                    "metadata": {}
                },
                {
                    "output_type": "execute_result",
                    "metadata": {},
                    "execution_count": 9,
                    "data": {
                        "application/vnd.dataresource+json": {
                            "schema": {
                                "fields": [
                                    {
                                        "name": "EmployeeID"
                                    },
                                    {
                                        "name": "FirstName"
                                    },
                                    {
                                        "name": "LastName"
                                    },
                                    {
                                        "name": "DepartmentID"
                                    },
                                    {
                                        "name": "DepartmentID"
                                    },
                                    {
                                        "name": "DepartmentName"
                                    }
                                ]
                            },
                            "data": [
                                {
                                    "EmployeeID": "1",
                                    "FirstName": "Laxman",
                                    "LastName": "Rathod",
                                    "DepartmentID": "101",
                                    "DepartmentName": "IT"
                                },
                                {
                                    "EmployeeID": "2",
                                    "FirstName": "Padma",
                                    "LastName": "Chauhan",
                                    "DepartmentID": "102",
                                    "DepartmentName": "HR"
                                },
                                {
                                    "EmployeeID": "3",
                                    "FirstName": "Vamshi",
                                    "LastName": "Singh",
                                    "DepartmentID": "101",
                                    "DepartmentName": "IT"
                                }
                            ]
                        },
                        "text/html": [
                            "<table>",
                            "<tr><th>EmployeeID</th><th>FirstName</th><th>LastName</th><th>DepartmentID</th><th>DepartmentID</th><th>DepartmentName</th></tr>",
                            "<tr><td>1</td><td>Laxman</td><td>Rathod</td><td>101</td><td>101</td><td>IT</td></tr>",
                            "<tr><td>2</td><td>Padma</td><td>Chauhan</td><td>102</td><td>102</td><td>HR</td></tr>",
                            "<tr><td>3</td><td>Vamshi</td><td>Singh</td><td>101</td><td>101</td><td>IT</td></tr>",
                            "</table>"
                        ]
                    }
                }
            ],
            "execution_count": 9
        },
        {
            "cell_type": "markdown",
            "source": [
                "#### Question 2:\n",
                "Get a list of all departments, including those without any employees."
            ],
            "metadata": {
                "language": "sql",
                "azdata_cell_guid": "cb8a918a-b209-4b7c-b6b2-bafa09a26269"
            },
            "attachments": {}
        },
        {
            "cell_type": "code",
            "source": [
                "SELECT *\n",
                "FROM Departments\n",
                "LEFT JOIN Employees ON Departments.DepartmentID = Employees.DepartmentID;"
            ],
            "metadata": {
                "language": "sql",
                "azdata_cell_guid": "b5a64437-ab80-44c0-873a-ff8658ac52d2"
            },
            "outputs": [
                {
                    "output_type": "display_data",
                    "data": {
                        "text/html": "(3 rows affected)"
                    },
                    "metadata": {}
                },
                {
                    "output_type": "display_data",
                    "data": {
                        "text/html": "Total execution time: 00:00:00.004"
                    },
                    "metadata": {}
                },
                {
                    "output_type": "execute_result",
                    "metadata": {},
                    "execution_count": 7,
                    "data": {
                        "application/vnd.dataresource+json": {
                            "schema": {
                                "fields": [
                                    {
                                        "name": "DepartmentID"
                                    },
                                    {
                                        "name": "DepartmentName"
                                    },
                                    {
                                        "name": "EmployeeID"
                                    },
                                    {
                                        "name": "FirstName"
                                    },
                                    {
                                        "name": "LastName"
                                    },
                                    {
                                        "name": "DepartmentID"
                                    }
                                ]
                            },
                            "data": [
                                {
                                    "DepartmentID": "101",
                                    "DepartmentName": "IT",
                                    "EmployeeID": "1",
                                    "FirstName": "Laxman",
                                    "LastName": "Rathod"
                                },
                                {
                                    "DepartmentID": "101",
                                    "DepartmentName": "IT",
                                    "EmployeeID": "3",
                                    "FirstName": "Vamshi",
                                    "LastName": "Singh"
                                },
                                {
                                    "DepartmentID": "102",
                                    "DepartmentName": "HR",
                                    "EmployeeID": "2",
                                    "FirstName": "Padma",
                                    "LastName": "Chauhan"
                                }
                            ]
                        },
                        "text/html": [
                            "<table>",
                            "<tr><th>DepartmentID</th><th>DepartmentName</th><th>EmployeeID</th><th>FirstName</th><th>LastName</th><th>DepartmentID</th></tr>",
                            "<tr><td>101</td><td>IT</td><td>1</td><td>Laxman</td><td>Rathod</td><td>101</td></tr>",
                            "<tr><td>101</td><td>IT</td><td>3</td><td>Vamshi</td><td>Singh</td><td>101</td></tr>",
                            "<tr><td>102</td><td>HR</td><td>2</td><td>Padma</td><td>Chauhan</td><td>102</td></tr>",
                            "</table>"
                        ]
                    }
                }
            ],
            "execution_count": 7
        },
        {
            "cell_type": "markdown",
            "source": [
                "#### Question 3:\n",
                "Retrieve a list of employees and their departments, including employees without a department."
            ],
            "metadata": {
                "language": "sql",
                "azdata_cell_guid": "2e0d5596-c43f-4ae0-b7e6-cce1511c69e0"
            },
            "attachments": {}
        },
        {
            "cell_type": "code",
            "source": [
                "SELECT *\n",
                "FROM Employees\n",
                "FULL JOIN Departments ON Employees.DepartmentID = Departments.DepartmentID;"
            ],
            "metadata": {
                "language": "sql",
                "azdata_cell_guid": "6029a1e1-9ea5-40a3-b393-1353c1e74615"
            },
            "outputs": [
                {
                    "output_type": "display_data",
                    "data": {
                        "text/html": "(3 rows affected)"
                    },
                    "metadata": {}
                },
                {
                    "output_type": "display_data",
                    "data": {
                        "text/html": "Total execution time: 00:00:00.004"
                    },
                    "metadata": {}
                },
                {
                    "output_type": "execute_result",
                    "metadata": {},
                    "execution_count": 8,
                    "data": {
                        "application/vnd.dataresource+json": {
                            "schema": {
                                "fields": [
                                    {
                                        "name": "EmployeeID"
                                    },
                                    {
                                        "name": "FirstName"
                                    },
                                    {
                                        "name": "LastName"
                                    },
                                    {
                                        "name": "DepartmentID"
                                    },
                                    {
                                        "name": "DepartmentID"
                                    },
                                    {
                                        "name": "DepartmentName"
                                    }
                                ]
                            },
                            "data": [
                                {
                                    "EmployeeID": "1",
                                    "FirstName": "Laxman",
                                    "LastName": "Rathod",
                                    "DepartmentID": "101",
                                    "DepartmentName": "IT"
                                },
                                {
                                    "EmployeeID": "2",
                                    "FirstName": "Padma",
                                    "LastName": "Chauhan",
                                    "DepartmentID": "102",
                                    "DepartmentName": "HR"
                                },
                                {
                                    "EmployeeID": "3",
                                    "FirstName": "Vamshi",
                                    "LastName": "Singh",
                                    "DepartmentID": "101",
                                    "DepartmentName": "IT"
                                }
                            ]
                        },
                        "text/html": [
                            "<table>",
                            "<tr><th>EmployeeID</th><th>FirstName</th><th>LastName</th><th>DepartmentID</th><th>DepartmentID</th><th>DepartmentName</th></tr>",
                            "<tr><td>1</td><td>Laxman</td><td>Rathod</td><td>101</td><td>101</td><td>IT</td></tr>",
                            "<tr><td>2</td><td>Padma</td><td>Chauhan</td><td>102</td><td>102</td><td>HR</td></tr>",
                            "<tr><td>3</td><td>Vamshi</td><td>Singh</td><td>101</td><td>101</td><td>IT</td></tr>",
                            "</table>"
                        ]
                    }
                }
            ],
            "execution_count": 8
        },
        {
            "cell_type": "markdown",
            "source": [
                "### 9\\. Practice Exercise"
            ],
            "metadata": {
                "language": "sql",
                "azdata_cell_guid": "02fb067a-0f1e-47f3-b875-388fc52c26b0"
            },
            "attachments": {}
        },
        {
            "cell_type": "markdown",
            "source": [
                "#### Question 1:\n",
                "Retrieve a list of employees who do not belong to any department.\n",
                "\n",
                "#### Question 2:\n",
                "Get a list of all departments along with the count of employees in each department.\n",
                "\n",
                "#### Question 3:\n",
                "Retrieve the first and last names of employees along with their corresponding department names."
            ],
            "metadata": {
                "language": "sql",
                "azdata_cell_guid": "b88b0e51-717a-4b7d-9dda-2fd98e0489c8"
            },
            "attachments": {}
        }
    ]
}