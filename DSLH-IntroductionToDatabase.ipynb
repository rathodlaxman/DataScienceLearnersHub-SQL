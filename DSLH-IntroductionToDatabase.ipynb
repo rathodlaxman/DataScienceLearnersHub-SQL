{
    "metadata": {
        "kernelspec": {
            "name": "SQL",
            "display_name": "SQL",
            "language": "sql"
        },
        "language_info": {
            "name": "sql",
            "version": ""
        }
    },
    "nbformat_minor": 2,
    "nbformat": 4,
    "cells": [
        {
            "cell_type": "markdown",
            "source": [
                "# **Data Science Learners Hub**\n",
                "\n",
                "**Module : SQL**\n",
                "\n",
                "**Topic :** <span style=\"font-weight: 600; font-family: -apple-system, BlinkMacSystemFont, sans-serif; color: var(--vscode-foreground);\">Introduction to Database</span>\n",
                "\n",
                "**email** : [datasciencelearnershub@gmail.com](mailto:datasciencelearnershub@gmail.com)"
            ],
            "metadata": {
                "azdata_cell_guid": "f087d6b6-7a77-4ba1-b4cf-bf86807ed461"
            },
            "attachments": {}
        },
        {
            "cell_type": "markdown",
            "source": [
                "## **Introduction to Database**\n",
                "\n",
                "**Database** : Any information that is stored in electronic format is referred as database\n",
                "\n",
                "**Relational Database** :\n",
                "\n",
                "- Trying to maintain information in multiple table so that we can co-relate the tables by having a common column.\n",
                "- To avoid maintaining all the data in single table\n",
                "\n",
                "**RDBMS**\n",
                "\n",
                "- Tools to maintian relational database\n",
                "- Ex : SQL Server, Oracle, MySQL,\n",
                "- Mongo DB is not relational db because it dosent follow core principles of rdbms\n",
                "- Stores the data in tabular format where instead of storing all the data split it into multiple tables and corerelate the tables by having the common column between tables.\n",
                "\n",
                "**DBMS**\n",
                "\n",
                "- Storing of data, need not be in a table\n",
                "- It is good to maintain the data\n",
                "- Ex: Storing data in excel, notepad, MS Word etc\n",
                "\n",
                "**Note :**\n",
                "\n",
                "- Maintaining the table in Excel is not actually the table its just the data as it does not have relation with other table"
            ],
            "metadata": {
                "azdata_cell_guid": "96019f5f-ed4e-4945-a1e8-0d9777208735"
            },
            "attachments": {}
        },
        {
            "cell_type": "markdown",
            "source": [
                "**Misc**\n",
                "\n",
                "- When a db is categorised as relational database than u need Structured Query Language(SQL) to interact with the DB\n",
                "- Generally the non relational databases like MongoDB does not support SQL\n",
                "- Server name is used to access the db by anyone on the LAN on the same network, so server name is important. This is the Named instance which u gave while installing Microsoft SQL Server."
            ],
            "metadata": {
                "azdata_cell_guid": "1e1212ed-c0ac-45e1-88fa-e7041a349924"
            },
            "attachments": {}
        },
        {
            "cell_type": "markdown",
            "source": [
                "### **What happens when we create a new database ?**\n",
                "\n",
                "- For every new database created two files get created\n",
                "    - **MDF** : Master Database File\n",
                "        - To store and manage data\n",
                "        - It contains the database objects like table, views, stored procedure etc\n",
                "        - It contains the actual data\n",
                "    - **LDF** : Log Database File\n",
                "        - Whenever u perform any kind of operation on data like DML, DDL etc commands that make changes to the database then those changes are recoded in the LDF file\n",
                "        - LDF files are useful in recovering data/ database\n",
                "        - Usually administrator has the access to this file\n",
                "        - In real world these files are maintained in network drive where u r not allowed to access the file"
            ],
            "metadata": {
                "azdata_cell_guid": "a625feb0-6213-441e-bb17-b0a39dc7c4de"
            },
            "attachments": {}
        },
        {
            "cell_type": "markdown",
            "source": [
                "### **DATABASE SERVER-CLIENT ARCHITECTURE**\n",
                "\n",
                "- In every organisation there will be a database server\n",
                "- **Database Server** : A database server is a software application (SQL Server) which manages storage and retrival of data to clients.\n",
                "- **Client Serve**r : Anyone who wants to acesss the data from database server, we have a software called Client Server which in our case is Management Studio. We can have any number of clients\n",
                "- A single database server is accessed by multiple clients by this we are achieving centralised data management.\n",
                "\n",
                "**Features and limitation of Client-Server architecture**\n",
                "\n",
                "- If anything happens to the client computer the data remains secured\n",
                "- Security is achieved by this architecture as the admin provides priviliges and roles as per the requirement and their appointment.\n",
                "- Clients only have Database Management Studio\n",
                "- If database server is down than client cant access the database\n",
                "- U need to have all the clients connected to the same network\n",
                "- All the relational database follow this architecture"
            ],
            "metadata": {
                "azdata_cell_guid": "a59232eb-9806-4003-9cf6-aef177aa54c8"
            },
            "attachments": {}
        },
        {
            "cell_type": "markdown",
            "source": [
                "### **What happens when we forget sa users password ?**\n",
                "\n",
                "If you forget the SA (System Administrator) password for a SQL Server database, you might face some challenges, but there are several ways to reset or recover it. Here are a few common methods:\n",
                "\n",
                "  \n",
                "\n",
                "1\\. **Windows Authentication:**\n",
                "\n",
                "   If the SQL Server is configured for mixed-mode authentication (Windows Authentication and SQL Server Authentication), and you have administrative privileges on the server, you can log in using Windows Authentication and then reset the SA password.\n",
                "\n",
                "  \n",
                "\n",
                "2\\. **SQL Server Management Studio (SSMS):**\n",
                "\n",
                "   If you have access to SQL Server Management Studio, you can connect to the server using Windows Authentication. Once connected, you can reset the SA password by executing the following SQL command. For example:\n",
                "\n",
                "  \n",
                "\n",
                "   ALTER LOGIN sa WITH PASSWORD = 'NewPassword';\n",
                "\n",
                "  \n",
                "\n",
                "  \n",
                "\n",
                "3\\. **SQL Server Configuration Manager:**\n",
                "\n",
                "   If you have access to the SQL Server Configuration Manager, you can change the authentication mode to mixed-mode and set a new password for the SA account.\n",
                "\n",
                "  \n",
                "\n",
                "4\\. **SQLCMD Utility:**\n",
                "\n",
                "   You can use the SQLCMD utility to connect to the SQL Server and reset the SA password from the command line.\n",
                "\n",
                "  \n",
                "\n",
                "5\\. **Single-User Mode:**\n",
                "\n",
                "   Another option is to start the SQL Server in single-user mode, which allows only one user to connect at a time. You can then connect using SQLCMD or another tool and reset the SA password.\n",
                "\n",
                "  \n",
                "\n",
                "  \n",
                "\n",
                "It's important to note that these methods may require administrative privileges on the server, and some may involve restarting the SQL Server service, which can temporarily impact database availability."
            ],
            "metadata": {
                "azdata_cell_guid": "35d3db58-3841-468e-a3b0-2809e8318f91"
            },
            "attachments": {}
        }
    ]
}