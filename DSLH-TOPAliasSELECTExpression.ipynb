{
    "metadata": {
        "kernelspec": {
            "name": "SQL",
            "display_name": "SQL",
            "language": "sql"
        },
        "language_info": {
            "name": "sql",
            "version": ""
        }
    },
    "nbformat_minor": 2,
    "nbformat": 4,
    "cells": [
        {
            "cell_type": "markdown",
            "source": [
                "# **Data Science Learners Hub**\n",
                "\n",
                "**Module : SQL**\n",
                "\n",
                "**Topic :** **TOP, Alias, SELECT Expression**\n",
                "\n",
                "**email** : [datasciencelearnershub@gmail.com](mailto:datasciencelearnershub@gmail.com)"
            ],
            "metadata": {
                "azdata_cell_guid": "f28fb6bb-9f85-4ac8-88fd-805bce77f094"
            },
            "attachments": {}
        },
        {
            "cell_type": "code",
            "source": [
                "USE DataScienceLearnersHub"
            ],
            "metadata": {
                "azdata_cell_guid": "55295917-53d5-429b-b1fd-8c83cc081850",
                "language": "sql"
            },
            "outputs": [],
            "execution_count": null
        },
        {
            "cell_type": "code",
            "source": [
                "DROP TABLE EMP"
            ],
            "metadata": {
                "language": "sql",
                "azdata_cell_guid": "50bd5e60-2033-4a63-a144-520ba79011ea"
            },
            "outputs": [
                {
                    "output_type": "display_data",
                    "data": {
                        "text/html": "Commands completed successfully."
                    },
                    "metadata": {}
                },
                {
                    "output_type": "display_data",
                    "data": {
                        "text/html": "Total execution time: 00:00:00.031"
                    },
                    "metadata": {}
                }
            ],
            "execution_count": 2
        },
        {
            "cell_type": "code",
            "source": [
                "CREATE TABLE Emp (\n",
                "    id INT PRIMARY KEY,\n",
                "    name VARCHAR(50),\n",
                "    age INT,\n",
                "    gender VARCHAR(10),\n",
                "    salary DECIMAL(10,2),\n",
                "    department VARCHAR(50)\n",
                ");"
            ],
            "metadata": {
                "language": "sql",
                "azdata_cell_guid": "342cb3de-3092-4c2d-afee-908e71a7d299"
            },
            "outputs": [
                {
                    "output_type": "display_data",
                    "data": {
                        "text/html": "Commands completed successfully."
                    },
                    "metadata": {}
                },
                {
                    "output_type": "display_data",
                    "data": {
                        "text/html": "Total execution time: 00:00:00.019"
                    },
                    "metadata": {}
                }
            ],
            "execution_count": 3
        },
        {
            "cell_type": "code",
            "source": [
                "INSERT INTO Emp (id, name, age, gender, salary, department)\n",
                "VALUES \n",
                "    (1, 'Rajesh', 30, 'Male', 60000.00, 'IT'),\n",
                "    (2, 'Padma', 25, 'Female', 55000.50, 'HR'),\n",
                "    (3, 'Laxman', 35, 'Male', 70000.75, 'Finance'),\n",
                "    (4, 'Ganga', 28, 'Female', 48000.25, 'Marketing'),\n",
                "    (5, 'Nikhil', 32, 'Male', 72000.00, 'IT'),\n",
                "    (6, 'Sarita', 29, 'Female', 58000.75, 'HR'),\n",
                "    (7, 'Bunny', 40, 'Male', 85000.50, 'Finance'),\n",
                "    (8, 'Namrata', 26, 'Female', 50000.50, 'Marketing'),\n",
                "    (9, 'Abhiram', 38, 'Male', 78000.25, 'IT'),\n",
                "    (10, 'Tikram', 31, 'Female', 62000.00, 'Finance'),\n",
                "    (11, 'Ramulu', 58, 'Male', 178000.25, 'IT'),\n",
                "    (12, 'Bala', 51, 'Female', 162000.00, 'Finance');"
            ],
            "metadata": {
                "language": "sql",
                "azdata_cell_guid": "cdcb0ecc-3427-48d4-8c01-2b077f326023"
            },
            "outputs": [
                {
                    "output_type": "display_data",
                    "data": {
                        "text/html": "(12 rows affected)"
                    },
                    "metadata": {}
                },
                {
                    "output_type": "display_data",
                    "data": {
                        "text/html": "Total execution time: 00:00:00.040"
                    },
                    "metadata": {}
                }
            ],
            "execution_count": 4
        },
        {
            "cell_type": "code",
            "source": [
                "SELECT * FROM Emp"
            ],
            "metadata": {
                "language": "sql",
                "azdata_cell_guid": "0339d5d6-d328-41a9-a962-26d233a93f90"
            },
            "outputs": [
                {
                    "output_type": "display_data",
                    "data": {
                        "text/html": "(12 rows affected)"
                    },
                    "metadata": {}
                },
                {
                    "output_type": "display_data",
                    "data": {
                        "text/html": "Total execution time: 00:00:00.023"
                    },
                    "metadata": {}
                },
                {
                    "output_type": "execute_result",
                    "execution_count": 5,
                    "data": {
                        "application/vnd.dataresource+json": {
                            "schema": {
                                "fields": [
                                    {
                                        "name": "id"
                                    },
                                    {
                                        "name": "name"
                                    },
                                    {
                                        "name": "age"
                                    },
                                    {
                                        "name": "gender"
                                    },
                                    {
                                        "name": "salary"
                                    },
                                    {
                                        "name": "department"
                                    }
                                ]
                            },
                            "data": [
                                {
                                    "id": "1",
                                    "name": "Rajesh",
                                    "age": "30",
                                    "gender": "Male",
                                    "salary": "60000.00",
                                    "department": "IT"
                                },
                                {
                                    "id": "2",
                                    "name": "Padma",
                                    "age": "25",
                                    "gender": "Female",
                                    "salary": "55000.50",
                                    "department": "HR"
                                },
                                {
                                    "id": "3",
                                    "name": "Laxman",
                                    "age": "35",
                                    "gender": "Male",
                                    "salary": "70000.75",
                                    "department": "Finance"
                                },
                                {
                                    "id": "4",
                                    "name": "Ganga",
                                    "age": "28",
                                    "gender": "Female",
                                    "salary": "48000.25",
                                    "department": "Marketing"
                                },
                                {
                                    "id": "5",
                                    "name": "Nikhil",
                                    "age": "32",
                                    "gender": "Male",
                                    "salary": "72000.00",
                                    "department": "IT"
                                },
                                {
                                    "id": "6",
                                    "name": "Sarita",
                                    "age": "29",
                                    "gender": "Female",
                                    "salary": "58000.75",
                                    "department": "HR"
                                },
                                {
                                    "id": "7",
                                    "name": "Bunny",
                                    "age": "40",
                                    "gender": "Male",
                                    "salary": "85000.50",
                                    "department": "Finance"
                                },
                                {
                                    "id": "8",
                                    "name": "Namrata",
                                    "age": "26",
                                    "gender": "Female",
                                    "salary": "50000.50",
                                    "department": "Marketing"
                                },
                                {
                                    "id": "9",
                                    "name": "Abhiram",
                                    "age": "38",
                                    "gender": "Male",
                                    "salary": "78000.25",
                                    "department": "IT"
                                },
                                {
                                    "id": "10",
                                    "name": "Tikram",
                                    "age": "31",
                                    "gender": "Female",
                                    "salary": "62000.00",
                                    "department": "Finance"
                                },
                                {
                                    "id": "11",
                                    "name": "Ramulu",
                                    "age": "58",
                                    "gender": "Male",
                                    "salary": "178000.25",
                                    "department": "IT"
                                },
                                {
                                    "id": "12",
                                    "name": "Bala",
                                    "age": "51",
                                    "gender": "Female",
                                    "salary": "162000.00",
                                    "department": "Finance"
                                }
                            ]
                        },
                        "text/html": "<table><tr><th>id</th><th>name</th><th>age</th><th>gender</th><th>salary</th><th>department</th></tr><tr><td>1</td><td>Rajesh</td><td>30</td><td>Male</td><td>60000.00</td><td>IT</td></tr><tr><td>2</td><td>Padma</td><td>25</td><td>Female</td><td>55000.50</td><td>HR</td></tr><tr><td>3</td><td>Laxman</td><td>35</td><td>Male</td><td>70000.75</td><td>Finance</td></tr><tr><td>4</td><td>Ganga</td><td>28</td><td>Female</td><td>48000.25</td><td>Marketing</td></tr><tr><td>5</td><td>Nikhil</td><td>32</td><td>Male</td><td>72000.00</td><td>IT</td></tr><tr><td>6</td><td>Sarita</td><td>29</td><td>Female</td><td>58000.75</td><td>HR</td></tr><tr><td>7</td><td>Bunny</td><td>40</td><td>Male</td><td>85000.50</td><td>Finance</td></tr><tr><td>8</td><td>Namrata</td><td>26</td><td>Female</td><td>50000.50</td><td>Marketing</td></tr><tr><td>9</td><td>Abhiram</td><td>38</td><td>Male</td><td>78000.25</td><td>IT</td></tr><tr><td>10</td><td>Tikram</td><td>31</td><td>Female</td><td>62000.00</td><td>Finance</td></tr><tr><td>11</td><td>Ramulu</td><td>58</td><td>Male</td><td>178000.25</td><td>IT</td></tr><tr><td>12</td><td>Bala</td><td>51</td><td>Female</td><td>162000.00</td><td>Finance</td></tr></table>"
                    },
                    "metadata": {}
                }
            ],
            "execution_count": 5
        },
        {
            "cell_type": "code",
            "source": [
                "DROP TABLE Department"
            ],
            "metadata": {
                "language": "sql",
                "azdata_cell_guid": "c2a720b1-eb43-43c6-9382-cba678d84918"
            },
            "outputs": [
                {
                    "output_type": "display_data",
                    "data": {
                        "text/html": "Commands completed successfully."
                    },
                    "metadata": {}
                },
                {
                    "output_type": "display_data",
                    "data": {
                        "text/html": "Total execution time: 00:00:00.022"
                    },
                    "metadata": {}
                }
            ],
            "execution_count": 14
        },
        {
            "cell_type": "code",
            "source": [
                "CREATE TABLE Department (\n",
                "    id INT PRIMARY KEY,\n",
                "    department VARCHAR(50)\n",
                ");\n",
                ""
            ],
            "metadata": {
                "language": "sql",
                "azdata_cell_guid": "dc4ecd4c-b993-4d3c-9b84-6f9faad5645d"
            },
            "outputs": [
                {
                    "output_type": "display_data",
                    "data": {
                        "text/html": "Commands completed successfully."
                    },
                    "metadata": {}
                },
                {
                    "output_type": "display_data",
                    "data": {
                        "text/html": "Total execution time: 00:00:00.011"
                    },
                    "metadata": {}
                }
            ],
            "execution_count": 15
        },
        {
            "cell_type": "code",
            "source": [
                "INSERT INTO Department (id, department)\n",
                "VALUES\n",
                "    (1, 'IT'),\n",
                "    (2, 'HR'),\n",
                "    (3, 'Finance'),\n",
                "    (4, 'Marketing');\n",
                ""
            ],
            "metadata": {
                "language": "sql",
                "azdata_cell_guid": "0c69900e-9c42-413b-a698-87f874d0bfd1"
            },
            "outputs": [
                {
                    "output_type": "display_data",
                    "data": {
                        "text/html": "(4 rows affected)"
                    },
                    "metadata": {}
                },
                {
                    "output_type": "display_data",
                    "data": {
                        "text/html": "Total execution time: 00:00:00.017"
                    },
                    "metadata": {}
                }
            ],
            "execution_count": 16
        },
        {
            "cell_type": "code",
            "source": [
                "SELECT * FROM Department"
            ],
            "metadata": {
                "language": "sql",
                "azdata_cell_guid": "1bedf0f2-3ac5-48cd-98e6-9317c761d9f5"
            },
            "outputs": [
                {
                    "output_type": "display_data",
                    "data": {
                        "text/html": "(4 rows affected)"
                    },
                    "metadata": {}
                },
                {
                    "output_type": "display_data",
                    "data": {
                        "text/html": "Total execution time: 00:00:00.009"
                    },
                    "metadata": {}
                },
                {
                    "output_type": "execute_result",
                    "execution_count": 17,
                    "data": {
                        "application/vnd.dataresource+json": {
                            "schema": {
                                "fields": [
                                    {
                                        "name": "id"
                                    },
                                    {
                                        "name": "department"
                                    }
                                ]
                            },
                            "data": [
                                {
                                    "id": "1",
                                    "department": "IT"
                                },
                                {
                                    "id": "2",
                                    "department": "HR"
                                },
                                {
                                    "id": "3",
                                    "department": "Finance"
                                },
                                {
                                    "id": "4",
                                    "department": "Marketing"
                                }
                            ]
                        },
                        "text/html": "<table><tr><th>id</th><th>department</th></tr><tr><td>1</td><td>IT</td></tr><tr><td>2</td><td>HR</td></tr><tr><td>3</td><td>Finance</td></tr><tr><td>4</td><td>Marketing</td></tr></table>"
                    },
                    "metadata": {}
                }
            ],
            "execution_count": 17
        },
        {
            "cell_type": "markdown",
            "source": [
                "### **1\\. TOP:**\n",
                "\n",
                "- The **TOP** keyword in SQL is employed to limit the number of rows returned by a query. It is often used with the **SELECT** statement to specify the maximum number of rows to retrieve from the result set.\n",
                "\n",
                "**Syntax :**\n",
                "\n",
                "  \n",
                "\n",
                "<span style=\"font-size: 13px;\">SELECT TOP (n) column1, column2, ...</span>\n",
                "\n",
                "<span style=\"font-size: 13px;\">FROM table_name</span>\n",
                "\n",
                "<span style=\"font-size: 13px;\">WHERE condition;</span>\n",
                "\n",
                "  \n",
                "\n",
                "Note : Here **n** <span style=\"color: rgb(0, 0, 0); font-family: &quot;Helvetica Neue&quot;; font-size: 13px;\">is t</span><span style=\"color: rgb(0, 0, 0); font-family: &quot;Helvetica Neue&quot;; font-size: 13px;\">he number of rows to be returned.</span>"
            ],
            "metadata": {
                "language": "sql",
                "azdata_cell_guid": "27385fd6-d190-4960-a76b-eb82b75ee720"
            },
            "attachments": {}
        },
        {
            "cell_type": "code",
            "source": [
                "SELECT TOP 5 id, name, age\n",
                "FROM Emp\n",
                "ORDER BY id;\n",
                "\n",
                "-- Note : The output dispalys only top 5 rows out of the total 12 rows"
            ],
            "metadata": {
                "language": "sql",
                "azdata_cell_guid": "2be45102-ddbe-4804-8dab-afecb851c7d0"
            },
            "outputs": [
                {
                    "output_type": "display_data",
                    "data": {
                        "text/html": "(5 rows affected)"
                    },
                    "metadata": {}
                },
                {
                    "output_type": "display_data",
                    "data": {
                        "text/html": "Total execution time: 00:00:00.024"
                    },
                    "metadata": {}
                },
                {
                    "output_type": "execute_result",
                    "execution_count": 6,
                    "data": {
                        "application/vnd.dataresource+json": {
                            "schema": {
                                "fields": [
                                    {
                                        "name": "id"
                                    },
                                    {
                                        "name": "name"
                                    },
                                    {
                                        "name": "age"
                                    }
                                ]
                            },
                            "data": [
                                {
                                    "id": "1",
                                    "name": "Rajesh",
                                    "age": "30"
                                },
                                {
                                    "id": "2",
                                    "name": "Padma",
                                    "age": "25"
                                },
                                {
                                    "id": "3",
                                    "name": "Laxman",
                                    "age": "35"
                                },
                                {
                                    "id": "4",
                                    "name": "Ganga",
                                    "age": "28"
                                },
                                {
                                    "id": "5",
                                    "name": "Nikhil",
                                    "age": "32"
                                }
                            ]
                        },
                        "text/html": "<table><tr><th>id</th><th>name</th><th>age</th></tr><tr><td>1</td><td>Rajesh</td><td>30</td></tr><tr><td>2</td><td>Padma</td><td>25</td></tr><tr><td>3</td><td>Laxman</td><td>35</td></tr><tr><td>4</td><td>Ganga</td><td>28</td></tr><tr><td>5</td><td>Nikhil</td><td>32</td></tr></table>"
                    },
                    "metadata": {}
                }
            ],
            "execution_count": 6
        },
        {
            "cell_type": "markdown",
            "source": [
                "**2\\. ALIAS:**\n",
                "\n",
                "- In SQL, an alias is a temporary name assigned to a table or column for the duration of a query. Aliases make the output of a query more readable or rename tables or columns in the context of a specific query.\n",
                "- Aliases are often used to make column names more readable.\n",
                "- An alias only exists for the duration of the query.\n",
                "\n",
                "**Syntax for Table Alias :**\n",
                "\n",
                "<span style=\"font-size:13px;\">SELECT alias_name.column1, alias_name.column2, ...</span>\n",
                "\n",
                "<span style=\"font-size:13px;\">FROM table_name AS alias_name</span>\n",
                "\n",
                "<span style=\"font-size:13px;\">WHERE condition;</span>\n",
                "\n",
                "<span style=\"font-size:13px;\"><br></span>\n",
                "\n",
                "<span style=\"font-size:13px;\"><b>Syntax for Column Alias :</b></span>\n",
                "\n",
                "<span style=\"font-size:13px;font-family:-apple-system, BlinkMacSystemFont, sans-serif;\">SELECT column_name AS alias_name</span>\n",
                "\n",
                "<span style=\"font-size:13px;\">FROM table_name</span>\n",
                "\n",
                "<span style=\"font-size:13px;\">WHERE condition;</span>\n",
                "\n",
                "<span style=\"font-size:13px;\"><br></span>\n",
                "\n",
                "**NOTE** :\n",
                "\n",
                "- The Alias name cannot be used in WHERE Clause"
            ],
            "metadata": {
                "language": "sql",
                "azdata_cell_guid": "88dcdeb1-8a2b-4b92-aca1-db0b4bb983ba"
            },
            "attachments": {}
        },
        {
            "cell_type": "markdown",
            "source": [
                "**Question:**\n",
                "\n",
                "What is an alias in SQL, and how is it used?\n",
                "\n",
                "**Answer:**\n",
                "\n",
                "**Purpose of an Alias:**\n",
                "- <mark>A temporary name assigned to a table or column</mark> <mark>`for the duration of a query.`</mark>\n",
                "- Improves readability and renames tables or columns in a specific query.\n",
                "\n",
                "**Usage of Alias:**\n",
                "- Makes column names more readable.\n",
                "- <mark>Exists only for the duration of the query.</mark>\n",
                "\n",
                "**Syntax for Table Alias:**\n",
                "```sql\n",
                "SELECT alias_name.column1, alias_name.column2, ...\n",
                "FROM table_name AS alias_name\n",
                "WHERE condition;\n",
                "```\n",
                "\n",
                "**Syntax for Column Alias:**\n",
                "```sql\n",
                "SELECT column_name AS alias_name\n",
                "FROM table_name\n",
                "WHERE condition;\n",
                "```\n",
                "\n",
                "**Note:**\n",
                "- <mark>**`Alias names cannot be used in the WHERE clause`.**</mark>"
            ],
            "metadata": {
                "language": "sql",
                "azdata_cell_guid": "5c79ba25-1a30-4028-b0f8-3edbffbc34c9"
            },
            "attachments": {}
        },
        {
            "cell_type": "code",
            "source": [
                "-- Column Alias example\n",
                "\n",
                "SELECT id AS EmployeeID, name AS EmployeeName, age AS EmployeeAge\n",
                "FROM Emp\n",
                "WHERE id > 5;\n",
                ""
            ],
            "metadata": {
                "language": "sql",
                "azdata_cell_guid": "7a3562d7-6795-48a1-9c5c-188cb7812977"
            },
            "outputs": [
                {
                    "output_type": "display_data",
                    "data": {
                        "text/html": "(7 rows affected)"
                    },
                    "metadata": {}
                },
                {
                    "output_type": "display_data",
                    "data": {
                        "text/html": "Total execution time: 00:00:00.031"
                    },
                    "metadata": {}
                },
                {
                    "output_type": "execute_result",
                    "execution_count": 8,
                    "data": {
                        "application/vnd.dataresource+json": {
                            "schema": {
                                "fields": [
                                    {
                                        "name": "EmployeeID"
                                    },
                                    {
                                        "name": "EmployeeName"
                                    },
                                    {
                                        "name": "EmployeeAge"
                                    }
                                ]
                            },
                            "data": [
                                {
                                    "EmployeeID": "6",
                                    "EmployeeName": "Sarita",
                                    "EmployeeAge": "29"
                                },
                                {
                                    "EmployeeID": "7",
                                    "EmployeeName": "Bunny",
                                    "EmployeeAge": "40"
                                },
                                {
                                    "EmployeeID": "8",
                                    "EmployeeName": "Namrata",
                                    "EmployeeAge": "26"
                                },
                                {
                                    "EmployeeID": "9",
                                    "EmployeeName": "Abhiram",
                                    "EmployeeAge": "38"
                                },
                                {
                                    "EmployeeID": "10",
                                    "EmployeeName": "Tikram",
                                    "EmployeeAge": "31"
                                },
                                {
                                    "EmployeeID": "11",
                                    "EmployeeName": "Ramulu",
                                    "EmployeeAge": "58"
                                },
                                {
                                    "EmployeeID": "12",
                                    "EmployeeName": "Bala",
                                    "EmployeeAge": "51"
                                }
                            ]
                        },
                        "text/html": "<table><tr><th>EmployeeID</th><th>EmployeeName</th><th>EmployeeAge</th></tr><tr><td>6</td><td>Sarita</td><td>29</td></tr><tr><td>7</td><td>Bunny</td><td>40</td></tr><tr><td>8</td><td>Namrata</td><td>26</td></tr><tr><td>9</td><td>Abhiram</td><td>38</td></tr><tr><td>10</td><td>Tikram</td><td>31</td></tr><tr><td>11</td><td>Ramulu</td><td>58</td></tr><tr><td>12</td><td>Bala</td><td>51</td></tr></table>"
                    },
                    "metadata": {}
                }
            ],
            "execution_count": 8
        },
        {
            "cell_type": "code",
            "source": [
                "-- Table Alias Example\n",
                "\n",
                "SELECT e.id AS EmployeeID, e.name AS EmployeeName, d.department AS EmployeeDepartment\n",
                "FROM Emp AS e\n",
                "JOIN Department AS d ON e.department = d.department\n",
                "WHERE e.salary > 50000;\n",
                ""
            ],
            "metadata": {
                "language": "sql",
                "azdata_cell_guid": "39d355da-fec8-44c2-a4f7-1c190109c387"
            },
            "outputs": [
                {
                    "output_type": "display_data",
                    "data": {
                        "text/html": "(11 rows affected)"
                    },
                    "metadata": {}
                },
                {
                    "output_type": "display_data",
                    "data": {
                        "text/html": "Total execution time: 00:00:00.027"
                    },
                    "metadata": {}
                },
                {
                    "output_type": "execute_result",
                    "execution_count": 18,
                    "data": {
                        "application/vnd.dataresource+json": {
                            "schema": {
                                "fields": [
                                    {
                                        "name": "EmployeeID"
                                    },
                                    {
                                        "name": "EmployeeName"
                                    },
                                    {
                                        "name": "EmployeeDepartment"
                                    }
                                ]
                            },
                            "data": [
                                {
                                    "EmployeeID": "1",
                                    "EmployeeName": "Rajesh",
                                    "EmployeeDepartment": "IT"
                                },
                                {
                                    "EmployeeID": "2",
                                    "EmployeeName": "Padma",
                                    "EmployeeDepartment": "HR"
                                },
                                {
                                    "EmployeeID": "3",
                                    "EmployeeName": "Laxman",
                                    "EmployeeDepartment": "Finance"
                                },
                                {
                                    "EmployeeID": "5",
                                    "EmployeeName": "Nikhil",
                                    "EmployeeDepartment": "IT"
                                },
                                {
                                    "EmployeeID": "6",
                                    "EmployeeName": "Sarita",
                                    "EmployeeDepartment": "HR"
                                },
                                {
                                    "EmployeeID": "7",
                                    "EmployeeName": "Bunny",
                                    "EmployeeDepartment": "Finance"
                                },
                                {
                                    "EmployeeID": "8",
                                    "EmployeeName": "Namrata",
                                    "EmployeeDepartment": "Marketing"
                                },
                                {
                                    "EmployeeID": "9",
                                    "EmployeeName": "Abhiram",
                                    "EmployeeDepartment": "IT"
                                },
                                {
                                    "EmployeeID": "10",
                                    "EmployeeName": "Tikram",
                                    "EmployeeDepartment": "Finance"
                                },
                                {
                                    "EmployeeID": "11",
                                    "EmployeeName": "Ramulu",
                                    "EmployeeDepartment": "IT"
                                },
                                {
                                    "EmployeeID": "12",
                                    "EmployeeName": "Bala",
                                    "EmployeeDepartment": "Finance"
                                }
                            ]
                        },
                        "text/html": "<table><tr><th>EmployeeID</th><th>EmployeeName</th><th>EmployeeDepartment</th></tr><tr><td>1</td><td>Rajesh</td><td>IT</td></tr><tr><td>2</td><td>Padma</td><td>HR</td></tr><tr><td>3</td><td>Laxman</td><td>Finance</td></tr><tr><td>5</td><td>Nikhil</td><td>IT</td></tr><tr><td>6</td><td>Sarita</td><td>HR</td></tr><tr><td>7</td><td>Bunny</td><td>Finance</td></tr><tr><td>8</td><td>Namrata</td><td>Marketing</td></tr><tr><td>9</td><td>Abhiram</td><td>IT</td></tr><tr><td>10</td><td>Tikram</td><td>Finance</td></tr><tr><td>11</td><td>Ramulu</td><td>IT</td></tr><tr><td>12</td><td>Bala</td><td>Finance</td></tr></table>"
                    },
                    "metadata": {}
                }
            ],
            "execution_count": 18
        },
        {
            "cell_type": "markdown",
            "source": [
                "**Question:**\n",
                "\n",
                "What are SELECT expressions in SQL, and how are they used?\n",
                "\n",
                "**Answer:**\n",
                "\n",
                "**Definition of SELECT expressions:**\n",
                "- <mark>Calculate values based on data in columns within a SELECT statement.</mark>\n",
                "- <mark>Can involve mathematical operations, string concatenation, or function calls.</mark>\n",
                "\n",
                "**Note:**\n",
                "- SELECT expressions, like `salary * 1.1 AS IncreasedSalary`,<mark>**` create virtual columns in query results without altering the underlying data in the table.`**</mark>"
            ],
            "metadata": {
                "language": "sql",
                "azdata_cell_guid": "913520db-6b15-4c68-8b28-9e7e46e1dc04"
            },
            "attachments": {}
        },
        {
            "cell_type": "code",
            "source": [
                "-- Example: Calculating a 10% salary increase for employees in the \"IT\" department.\n",
                "SELECT id, name, age, salary, salary * 1.1 AS IncreasedSalary\n",
                "FROM Emp\n",
                "WHERE department = 'IT';\n",
                ""
            ],
            "metadata": {
                "language": "sql",
                "azdata_cell_guid": "badbbf2f-b460-4041-9d62-93e148f09c57"
            },
            "outputs": [
                {
                    "output_type": "display_data",
                    "data": {
                        "text/html": "(4 rows affected)"
                    },
                    "metadata": {}
                },
                {
                    "output_type": "display_data",
                    "data": {
                        "text/html": "Total execution time: 00:00:00.027"
                    },
                    "metadata": {}
                },
                {
                    "output_type": "execute_result",
                    "metadata": {},
                    "execution_count": 2,
                    "data": {
                        "application/vnd.dataresource+json": {
                            "schema": {
                                "fields": [
                                    {
                                        "name": "id"
                                    },
                                    {
                                        "name": "name"
                                    },
                                    {
                                        "name": "age"
                                    },
                                    {
                                        "name": "salary"
                                    },
                                    {
                                        "name": "IncreasedSalary"
                                    }
                                ]
                            },
                            "data": [
                                {
                                    "id": "1",
                                    "name": "Rajesh",
                                    "age": "30",
                                    "salary": "60000.00",
                                    "IncreasedSalary": "66000.000"
                                },
                                {
                                    "id": "5",
                                    "name": "Nikhil",
                                    "age": "32",
                                    "salary": "72000.00",
                                    "IncreasedSalary": "79200.000"
                                },
                                {
                                    "id": "9",
                                    "name": "Abhiram",
                                    "age": "38",
                                    "salary": "78000.25",
                                    "IncreasedSalary": "85800.275"
                                },
                                {
                                    "id": "11",
                                    "name": "Ramulu",
                                    "age": "58",
                                    "salary": "178000.25",
                                    "IncreasedSalary": "195800.275"
                                }
                            ]
                        },
                        "text/html": [
                            "<table>",
                            "<tr><th>id</th><th>name</th><th>age</th><th>salary</th><th>IncreasedSalary</th></tr>",
                            "<tr><td>1</td><td>Rajesh</td><td>30</td><td>60000.00</td><td>66000.000</td></tr>",
                            "<tr><td>5</td><td>Nikhil</td><td>32</td><td>72000.00</td><td>79200.000</td></tr>",
                            "<tr><td>9</td><td>Abhiram</td><td>38</td><td>78000.25</td><td>85800.275</td></tr>",
                            "<tr><td>11</td><td>Ramulu</td><td>58</td><td>178000.25</td><td>195800.275</td></tr>",
                            "</table>"
                        ]
                    }
                }
            ],
            "execution_count": 2
        }
    ]
}