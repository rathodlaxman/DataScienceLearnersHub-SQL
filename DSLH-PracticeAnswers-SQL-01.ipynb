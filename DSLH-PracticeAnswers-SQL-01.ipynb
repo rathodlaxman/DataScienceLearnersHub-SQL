{
    "metadata": {
        "kernelspec": {
            "name": "SQL",
            "display_name": "SQL",
            "language": "sql"
        },
        "language_info": {
            "name": "sql",
            "version": ""
        }
    },
    "nbformat_minor": 2,
    "nbformat": 4,
    "cells": [
        {
            "cell_type": "markdown",
            "source": [
                "# **Data Science Learners Hub**\n",
                "\n",
                "**Module : SQL**\n",
                "\n",
                "**Topic :** Practice Exercise - 01\n",
                "\n",
                "**email** : [datasciencelearnershub@gmail.com](mailto:datasciencelearnershub@gmail.com)"
            ],
            "metadata": {
                "azdata_cell_guid": "3c5d680b-a310-4d29-b930-d63c251a9644"
            },
            "attachments": {}
        },
        {
            "cell_type": "markdown",
            "source": [
                "**Topics Covered**\n",
                "\n",
                "- Create Tables\n",
                "- INSERT\n",
                "- UPDATE\n",
                "- DELETE"
            ],
            "metadata": {
                "azdata_cell_guid": "7625af6d-215c-4e1b-8405-1fc66f0f18af"
            },
            "attachments": {}
        },
        {
            "cell_type": "markdown",
            "source": [
                "### **Practice Questions for Table Creation:**"
            ],
            "metadata": {
                "azdata_cell_guid": "9e3eab91-6dd9-49fb-a2a2-3b9f6c3b3297"
            },
            "attachments": {}
        },
        {
            "cell_type": "code",
            "source": [
                "USE DataScienceLearnersHub"
            ],
            "metadata": {
                "azdata_cell_guid": "12b72902-9035-449c-aeb2-a8ab0433416e",
                "language": "sql"
            },
            "outputs": [
                {
                    "output_type": "display_data",
                    "data": {
                        "text/html": "Commands completed successfully."
                    },
                    "metadata": {}
                },
                {
                    "output_type": "display_data",
                    "data": {
                        "text/html": "Total execution time: 00:00:00.005"
                    },
                    "metadata": {}
                }
            ],
            "execution_count": 1
        },
        {
            "cell_type": "markdown",
            "source": [
                "**1\\. Customers Table:**\n",
                "\n",
                "  \n",
                "\n",
                "Create a table named \\`customers\\` with the following columns:\n",
                "\n",
                "\\- \\`customer\\_id\\` of type \\`INT\\` as the primary key.\n",
                "\n",
                "\\- \\`customer\\_name\\` of type \\`VARCHAR(50)\\` to store the customer's name.\n",
                "\n",
                "\\- \\`email\\` of type \\`VARCHAR(100)\\` as a unique key to store the customer's email address."
            ],
            "metadata": {
                "azdata_cell_guid": "e970b937-895c-446f-b6b5-b8eea42282bf"
            },
            "attachments": {}
        },
        {
            "cell_type": "code",
            "source": [
                "-- 1. Creating a table 'customers'\n",
                "CREATE TABLE customers (\n",
                "    customer_id INT PRIMARY KEY,\n",
                "    customer_name VARCHAR(50),\n",
                "    email VARCHAR(100) UNIQUE\n",
                ");"
            ],
            "metadata": {
                "azdata_cell_guid": "8c208e36-a3e9-4c6f-ba05-4f4a2efeed25",
                "language": "sql"
            },
            "outputs": [
                {
                    "output_type": "display_data",
                    "data": {
                        "text/html": "Commands completed successfully."
                    },
                    "metadata": {}
                },
                {
                    "output_type": "display_data",
                    "data": {
                        "text/html": "Total execution time: 00:00:00.055"
                    },
                    "metadata": {}
                }
            ],
            "execution_count": 2
        },
        {
            "cell_type": "code",
            "source": [
                "SELECT * FROM customers\n",
                "-- Note : we get empty table as no data is inserted as of now"
            ],
            "metadata": {
                "language": "sql",
                "azdata_cell_guid": "b80de2c3-7f42-4512-aea8-7173e409e3ff"
            },
            "outputs": [
                {
                    "output_type": "display_data",
                    "data": {
                        "text/html": "(0 rows affected)"
                    },
                    "metadata": {}
                },
                {
                    "output_type": "display_data",
                    "data": {
                        "text/html": "Total execution time: 00:00:00.059"
                    },
                    "metadata": {}
                },
                {
                    "output_type": "execute_result",
                    "execution_count": 3,
                    "data": {
                        "application/vnd.dataresource+json": {
                            "schema": {
                                "fields": [
                                    {
                                        "name": "customer_id"
                                    },
                                    {
                                        "name": "customer_name"
                                    },
                                    {
                                        "name": "email"
                                    }
                                ]
                            },
                            "data": []
                        },
                        "text/html": "<table><tr><th>customer_id</th><th>customer_name</th><th>email</th></tr></table>"
                    },
                    "metadata": {}
                }
            ],
            "execution_count": 3
        },
        {
            "cell_type": "markdown",
            "source": [
                "**2\\. Orders Table:**\n",
                "\n",
                "  \n",
                "\n",
                "  \n",
                "\n",
                "Design a table named \\`orders\\` with the following columns:\n",
                "\n",
                "\\- \\`order\\_id\\` of type \\`INT\\` as the primary key.\n",
                "\n",
                "\\- \\`customer\\_id\\` of type \\`INT\\` as a foreign key referencing the \\`customer\\_id\\` column in the \\`customers\\` table.\n",
                "\n",
                "\\- \\`order\\_date\\` of type \\`DATE\\` to store the date when the order was placed.\n",
                "\n",
                "\\- \\`total\\_amount\\` of type \\`DECIMAL(10, 2)\\` to represent the total amount of the order."
            ],
            "metadata": {
                "azdata_cell_guid": "4123c82c-ca15-42aa-aefc-8d3d75921542"
            },
            "attachments": {}
        },
        {
            "cell_type": "code",
            "source": [
                "-- 2. Creating an 'orders' table\n",
                "CREATE TABLE orders (\n",
                "    order_id INT PRIMARY KEY,\n",
                "    customer_id INT,\n",
                "    order_date DATE,\n",
                "    total_amount DECIMAL(10, 2),\n",
                "    FOREIGN KEY (customer_id) REFERENCES customers(customer_id)\n",
                ");"
            ],
            "metadata": {
                "azdata_cell_guid": "60323fcc-0880-4c12-9536-4fb49f9262c6",
                "language": "sql"
            },
            "outputs": [
                {
                    "output_type": "display_data",
                    "data": {
                        "text/html": "Commands completed successfully."
                    },
                    "metadata": {}
                },
                {
                    "output_type": "display_data",
                    "data": {
                        "text/html": "Total execution time: 00:00:00.024"
                    },
                    "metadata": {}
                }
            ],
            "execution_count": 4
        },
        {
            "cell_type": "markdown",
            "source": [
                "**3\\. Products Table:**\n",
                "\n",
                "  \n",
                "\n",
                "  \n",
                "\n",
                "Create a table named \\`products\\` with the following columns:\n",
                "\n",
                "\\- \\`product\\_id\\` of type \\`INT\\` as the primary key.\n",
                "\n",
                "\\- \\`product\\_name\\` of type \\`VARCHAR(50)\\` to store the name of the product.\n",
                "\n",
                "\\- \\`price\\` of type \\`DECIMAL(8, 2)\\` to represent the price of the product."
            ],
            "metadata": {
                "azdata_cell_guid": "d8ac3381-0bd4-4a83-821a-41315e58eaaf"
            },
            "attachments": {}
        },
        {
            "cell_type": "code",
            "source": [
                "-- 3. Creating a 'products' table\n",
                "CREATE TABLE products (\n",
                "    product_id INT PRIMARY KEY,\n",
                "    product_name VARCHAR(50),\n",
                "    price DECIMAL(8, 2)\n",
                ");"
            ],
            "metadata": {
                "azdata_cell_guid": "2fe3f744-5509-4cdb-a58b-a5bd7f0b8adf",
                "language": "sql"
            },
            "outputs": [
                {
                    "output_type": "display_data",
                    "data": {
                        "text/html": "Commands completed successfully."
                    },
                    "metadata": {}
                },
                {
                    "output_type": "display_data",
                    "data": {
                        "text/html": "Total execution time: 00:00:00.018"
                    },
                    "metadata": {}
                }
            ],
            "execution_count": 5
        },
        {
            "cell_type": "markdown",
            "source": [
                "### **Now Execute the following INSERT statements**\n",
                "\n",
                "\\-- Inserting values into 'customers'\n",
                "\n",
                "INSERT INTO customers (customer\\_id, customer\\_name, email)\n",
                "\n",
                "VALUES\n",
                "\n",
                "    (1, 'Laxman', 'laxman[@example.com](mailto:john@example.com)'),\n",
                "\n",
                "    (2, 'Padma', 'padma[@example.com](mailto:jane@example.com)'),\n",
                "\n",
                "    (3, 'Harshita', 'harshita[@example.com](mailto:bob@example.com)');\n",
                "\n",
                "\\-- Inserting values into 'orders'\n",
                "\n",
                "INSERT INTO orders (order\\_id, customer\\_id, order\\_date, total\\_amount)\n",
                "\n",
                "VALUES\n",
                "\n",
                "    (101, 1, '2023-01-15', 150.50),\n",
                "\n",
                "    (102, 2, '2023-02-20', 200.75),\n",
                "\n",
                "    (103, 3, '2023-03-10', 100.00);\n",
                "\n",
                "\\-- Inserting values into 'products'\n",
                "\n",
                "INSERT INTO products (product\\_id, product\\_name, price)\n",
                "\n",
                "VALUES\n",
                "\n",
                "    (501, 'Laptop', 800.00),\n",
                "\n",
                "    (502, 'Smartphone', 500.50),\n",
                "\n",
                "    (503, 'Headphones', 50.75);"
            ],
            "metadata": {
                "azdata_cell_guid": "c1a1d0b7-9e67-4cf6-8410-a409b9d7a111"
            },
            "attachments": {}
        },
        {
            "cell_type": "code",
            "source": [
                "-- Inserting values into 'customers'\n",
                "\n",
                "INSERT INTO customers (customer_id, customer_name, email)\n",
                "VALUES\n",
                "    (1, 'Laxman', 'laxman@example.com'),\n",
                "    (2, 'Padma', 'padma@example.com'),\n",
                "    (3, 'Harshita', 'harshita@example.com');"
            ],
            "metadata": {
                "azdata_cell_guid": "0a5f5635-7244-4985-a1ea-9b52e1bf2b61",
                "language": "sql"
            },
            "outputs": [
                {
                    "output_type": "display_data",
                    "data": {
                        "text/html": "(3 rows affected)"
                    },
                    "metadata": {}
                },
                {
                    "output_type": "display_data",
                    "data": {
                        "text/html": "Total execution time: 00:00:00.033"
                    },
                    "metadata": {}
                }
            ],
            "execution_count": 6
        },
        {
            "cell_type": "code",
            "source": [
                "SELECT * FROM customers"
            ],
            "metadata": {
                "language": "sql",
                "azdata_cell_guid": "1184030c-5b60-44a0-af1c-f9f9987b9ff8"
            },
            "outputs": [
                {
                    "output_type": "display_data",
                    "data": {
                        "text/html": "(3 rows affected)"
                    },
                    "metadata": {}
                },
                {
                    "output_type": "display_data",
                    "data": {
                        "text/html": "Total execution time: 00:00:00.030"
                    },
                    "metadata": {}
                },
                {
                    "output_type": "execute_result",
                    "execution_count": 7,
                    "data": {
                        "application/vnd.dataresource+json": {
                            "schema": {
                                "fields": [
                                    {
                                        "name": "customer_id"
                                    },
                                    {
                                        "name": "customer_name"
                                    },
                                    {
                                        "name": "email"
                                    }
                                ]
                            },
                            "data": [
                                {
                                    "customer_id": "1",
                                    "customer_name": "Laxman",
                                    "email": "laxman@example.com"
                                },
                                {
                                    "customer_id": "2",
                                    "customer_name": "Padma",
                                    "email": "padma@example.com"
                                },
                                {
                                    "customer_id": "3",
                                    "customer_name": "Harshita",
                                    "email": "harshita@example.com"
                                }
                            ]
                        },
                        "text/html": "<table><tr><th>customer_id</th><th>customer_name</th><th>email</th></tr><tr><td>1</td><td>Laxman</td><td>laxman@example.com</td></tr><tr><td>2</td><td>Padma</td><td>padma@example.com</td></tr><tr><td>3</td><td>Harshita</td><td>harshita@example.com</td></tr></table>"
                    },
                    "metadata": {}
                }
            ],
            "execution_count": 7
        },
        {
            "cell_type": "code",
            "source": [
                "-- Inserting values into 'orders'\n",
                "\n",
                "INSERT INTO orders (order_id, customer_id, order_date, total_amount)\n",
                "VALUES\n",
                "    (101, 1, '2023-01-15', 150.50),\n",
                "    (102, 2, '2023-02-20', 200.75),\n",
                "    (103, 3, '2023-03-10', 100.00);"
            ],
            "metadata": {
                "language": "sql",
                "azdata_cell_guid": "10ffde52-783f-499c-a92d-45737d021959"
            },
            "outputs": [
                {
                    "output_type": "display_data",
                    "data": {
                        "text/html": "(3 rows affected)"
                    },
                    "metadata": {}
                },
                {
                    "output_type": "display_data",
                    "data": {
                        "text/html": "Total execution time: 00:00:00.047"
                    },
                    "metadata": {}
                }
            ],
            "execution_count": 8
        },
        {
            "cell_type": "code",
            "source": [
                "SELECT * FROM orders"
            ],
            "metadata": {
                "language": "sql",
                "azdata_cell_guid": "a63eee99-c62f-4f86-b9ef-a6503dad14a7"
            },
            "outputs": [
                {
                    "output_type": "display_data",
                    "data": {
                        "text/html": "(3 rows affected)"
                    },
                    "metadata": {}
                },
                {
                    "output_type": "display_data",
                    "data": {
                        "text/html": "Total execution time: 00:00:00.014"
                    },
                    "metadata": {}
                },
                {
                    "output_type": "execute_result",
                    "execution_count": 9,
                    "data": {
                        "application/vnd.dataresource+json": {
                            "schema": {
                                "fields": [
                                    {
                                        "name": "order_id"
                                    },
                                    {
                                        "name": "customer_id"
                                    },
                                    {
                                        "name": "order_date"
                                    },
                                    {
                                        "name": "total_amount"
                                    }
                                ]
                            },
                            "data": [
                                {
                                    "order_id": "101",
                                    "customer_id": "1",
                                    "order_date": "2023-01-15",
                                    "total_amount": "150.50"
                                },
                                {
                                    "order_id": "102",
                                    "customer_id": "2",
                                    "order_date": "2023-02-20",
                                    "total_amount": "200.75"
                                },
                                {
                                    "order_id": "103",
                                    "customer_id": "3",
                                    "order_date": "2023-03-10",
                                    "total_amount": "100.00"
                                }
                            ]
                        },
                        "text/html": "<table><tr><th>order_id</th><th>customer_id</th><th>order_date</th><th>total_amount</th></tr><tr><td>101</td><td>1</td><td>2023-01-15</td><td>150.50</td></tr><tr><td>102</td><td>2</td><td>2023-02-20</td><td>200.75</td></tr><tr><td>103</td><td>3</td><td>2023-03-10</td><td>100.00</td></tr></table>"
                    },
                    "metadata": {}
                }
            ],
            "execution_count": 9
        },
        {
            "cell_type": "code",
            "source": [
                "-- Inserting values into 'products'\n",
                "\n",
                "INSERT INTO products (product_id, product_name, price)\n",
                "VALUES\n",
                "    (501, 'Laptop', 800.00),\n",
                "    (502, 'Smartphone', 500.50),\n",
                "    (503, 'Headphones', 50.75);"
            ],
            "metadata": {
                "language": "sql",
                "azdata_cell_guid": "01e68a84-a6f9-4069-a1fb-1943bd5a0a61"
            },
            "outputs": [
                {
                    "output_type": "display_data",
                    "data": {
                        "text/html": "(3 rows affected)"
                    },
                    "metadata": {}
                },
                {
                    "output_type": "display_data",
                    "data": {
                        "text/html": "Total execution time: 00:00:00.013"
                    },
                    "metadata": {}
                }
            ],
            "execution_count": 10
        },
        {
            "cell_type": "code",
            "source": [
                "SELECT * FROM products"
            ],
            "metadata": {
                "language": "sql",
                "azdata_cell_guid": "7811e27c-2a8e-4fa1-a599-329c23c8d13b"
            },
            "outputs": [
                {
                    "output_type": "display_data",
                    "data": {
                        "text/html": "(3 rows affected)"
                    },
                    "metadata": {}
                },
                {
                    "output_type": "display_data",
                    "data": {
                        "text/html": "Total execution time: 00:00:00.010"
                    },
                    "metadata": {}
                },
                {
                    "output_type": "execute_result",
                    "execution_count": 11,
                    "data": {
                        "application/vnd.dataresource+json": {
                            "schema": {
                                "fields": [
                                    {
                                        "name": "product_id"
                                    },
                                    {
                                        "name": "product_name"
                                    },
                                    {
                                        "name": "price"
                                    }
                                ]
                            },
                            "data": [
                                {
                                    "product_id": "501",
                                    "product_name": "Laptop",
                                    "price": "800.00"
                                },
                                {
                                    "product_id": "502",
                                    "product_name": "Smartphone",
                                    "price": "500.50"
                                },
                                {
                                    "product_id": "503",
                                    "product_name": "Headphones",
                                    "price": "50.75"
                                }
                            ]
                        },
                        "text/html": "<table><tr><th>product_id</th><th>product_name</th><th>price</th></tr><tr><td>501</td><td>Laptop</td><td>800.00</td></tr><tr><td>502</td><td>Smartphone</td><td>500.50</td></tr><tr><td>503</td><td>Headphones</td><td>50.75</td></tr></table>"
                    },
                    "metadata": {}
                }
            ],
            "execution_count": 11
        },
        {
            "cell_type": "markdown",
            "source": [
                "### **Practice Questions for INSERT Statements:**"
            ],
            "metadata": {
                "azdata_cell_guid": "cab40d16-ade0-480e-b893-0d8173287971"
            },
            "attachments": {}
        },
        {
            "cell_type": "markdown",
            "source": [
                "**4\\. Customers Table:**\n",
                "\n",
                "Using the \\`INSERT\\` statement, add a new customer to the \\`customers\\` table with the following details:\n",
                "\n",
                "\\- \\`customer\\_id\\`: 4\n",
                "\n",
                "\\- \\`customer\\_name\\`: 'Naina'\n",
                "\n",
                "\\- \\`email\\`: 'naina[@example.com](mailto:eva@example.com)'"
            ],
            "metadata": {
                "azdata_cell_guid": "460fe9c6-b90a-4091-95b5-4b021abc7399"
            },
            "attachments": {}
        },
        {
            "cell_type": "code",
            "source": [
                "INSERT INTO customers (customer_id, customer_name, email)\n",
                "VALUES (4, 'Naina', 'naina@example.com');\n",
                ""
            ],
            "metadata": {
                "azdata_cell_guid": "d9d37c16-4260-45a5-bcfb-1d5c998e5fad",
                "language": "sql"
            },
            "outputs": [
                {
                    "output_type": "display_data",
                    "data": {
                        "text/html": "(1 row affected)"
                    },
                    "metadata": {}
                },
                {
                    "output_type": "display_data",
                    "data": {
                        "text/html": "Total execution time: 00:00:00.025"
                    },
                    "metadata": {}
                }
            ],
            "execution_count": 12
        },
        {
            "cell_type": "code",
            "source": [
                "SELECT * FROM customers"
            ],
            "metadata": {
                "language": "sql",
                "azdata_cell_guid": "8320579c-9a62-40f0-84c1-a9426e558161"
            },
            "outputs": [
                {
                    "output_type": "display_data",
                    "data": {
                        "text/html": "(4 rows affected)"
                    },
                    "metadata": {}
                },
                {
                    "output_type": "display_data",
                    "data": {
                        "text/html": "Total execution time: 00:00:00.005"
                    },
                    "metadata": {}
                },
                {
                    "output_type": "execute_result",
                    "execution_count": 13,
                    "data": {
                        "application/vnd.dataresource+json": {
                            "schema": {
                                "fields": [
                                    {
                                        "name": "customer_id"
                                    },
                                    {
                                        "name": "customer_name"
                                    },
                                    {
                                        "name": "email"
                                    }
                                ]
                            },
                            "data": [
                                {
                                    "customer_id": "1",
                                    "customer_name": "Laxman",
                                    "email": "laxman@example.com"
                                },
                                {
                                    "customer_id": "2",
                                    "customer_name": "Padma",
                                    "email": "padma@example.com"
                                },
                                {
                                    "customer_id": "3",
                                    "customer_name": "Harshita",
                                    "email": "harshita@example.com"
                                },
                                {
                                    "customer_id": "4",
                                    "customer_name": "Naina",
                                    "email": "naina@example.com"
                                }
                            ]
                        },
                        "text/html": "<table><tr><th>customer_id</th><th>customer_name</th><th>email</th></tr><tr><td>1</td><td>Laxman</td><td>laxman@example.com</td></tr><tr><td>2</td><td>Padma</td><td>padma@example.com</td></tr><tr><td>3</td><td>Harshita</td><td>harshita@example.com</td></tr><tr><td>4</td><td>Naina</td><td>naina@example.com</td></tr></table>"
                    },
                    "metadata": {}
                }
            ],
            "execution_count": 13
        },
        {
            "cell_type": "markdown",
            "source": [
                "**5\\. Orders Table:**\n",
                "\n",
                "Write an \\`INSERT\\` statement to add a new order to the \\`orders\\` table with the following details:\n",
                "\n",
                "\\- \\`order\\_id\\`: 104\n",
                "\n",
                "\\- \\`customer\\_id\\`: 4\n",
                "\n",
                "\\- \\`order\\_date\\`: '2023-04-05'\n",
                "\n",
                "\\- \\`total\\_amount\\`: 120.25"
            ],
            "metadata": {
                "azdata_cell_guid": "a07a79fc-e6c5-4ef6-91d0-466116d95c59"
            },
            "attachments": {}
        },
        {
            "cell_type": "code",
            "source": [
                "INSERT INTO orders (order_id, customer_id, order_date, total_amount)\n",
                "VALUES (104, 4, '2023-04-05', 120.25);\n",
                ""
            ],
            "metadata": {
                "azdata_cell_guid": "749e314d-3730-47c3-9be3-4e4649466309",
                "language": "sql"
            },
            "outputs": [
                {
                    "output_type": "display_data",
                    "data": {
                        "text/html": "(1 row affected)"
                    },
                    "metadata": {}
                },
                {
                    "output_type": "display_data",
                    "data": {
                        "text/html": "Total execution time: 00:00:00.022"
                    },
                    "metadata": {}
                }
            ],
            "execution_count": 14
        },
        {
            "cell_type": "code",
            "source": [
                "SELECT * FROM orders"
            ],
            "metadata": {
                "language": "sql",
                "azdata_cell_guid": "b9c90ecb-3683-4377-a3cd-36bc7c2469a0"
            },
            "outputs": [
                {
                    "output_type": "display_data",
                    "data": {
                        "text/html": "(4 rows affected)"
                    },
                    "metadata": {}
                },
                {
                    "output_type": "display_data",
                    "data": {
                        "text/html": "Total execution time: 00:00:00.005"
                    },
                    "metadata": {}
                },
                {
                    "output_type": "execute_result",
                    "execution_count": 15,
                    "data": {
                        "application/vnd.dataresource+json": {
                            "schema": {
                                "fields": [
                                    {
                                        "name": "order_id"
                                    },
                                    {
                                        "name": "customer_id"
                                    },
                                    {
                                        "name": "order_date"
                                    },
                                    {
                                        "name": "total_amount"
                                    }
                                ]
                            },
                            "data": [
                                {
                                    "order_id": "101",
                                    "customer_id": "1",
                                    "order_date": "2023-01-15",
                                    "total_amount": "150.50"
                                },
                                {
                                    "order_id": "102",
                                    "customer_id": "2",
                                    "order_date": "2023-02-20",
                                    "total_amount": "200.75"
                                },
                                {
                                    "order_id": "103",
                                    "customer_id": "3",
                                    "order_date": "2023-03-10",
                                    "total_amount": "100.00"
                                },
                                {
                                    "order_id": "104",
                                    "customer_id": "4",
                                    "order_date": "2023-04-05",
                                    "total_amount": "120.25"
                                }
                            ]
                        },
                        "text/html": "<table><tr><th>order_id</th><th>customer_id</th><th>order_date</th><th>total_amount</th></tr><tr><td>101</td><td>1</td><td>2023-01-15</td><td>150.50</td></tr><tr><td>102</td><td>2</td><td>2023-02-20</td><td>200.75</td></tr><tr><td>103</td><td>3</td><td>2023-03-10</td><td>100.00</td></tr><tr><td>104</td><td>4</td><td>2023-04-05</td><td>120.25</td></tr></table>"
                    },
                    "metadata": {}
                }
            ],
            "execution_count": 15
        },
        {
            "cell_type": "markdown",
            "source": [
                "**6\\. Products Table:**\n",
                "\n",
                "Using the \\`INSERT\\` statement, add a new product to the \\`products\\` table with the following details:\n",
                "\n",
                "\\- \\`product\\_id\\`: 504\n",
                "\n",
                "\\- \\`product\\_name\\`: 'Tablet'\n",
                "\n",
                "\\- \\`price\\`: 300.00"
            ],
            "metadata": {
                "azdata_cell_guid": "2cf68b3d-6cbc-461d-8ffd-0539176699bb"
            },
            "attachments": {}
        },
        {
            "cell_type": "code",
            "source": [
                "INSERT INTO products (product_id, product_name, price)\n",
                "VALUES (504, 'Tablet', 300.00);\n",
                ""
            ],
            "metadata": {
                "azdata_cell_guid": "55c3c47f-898a-4e64-86f4-0dad8ca92b5b",
                "language": "sql"
            },
            "outputs": [
                {
                    "output_type": "display_data",
                    "data": {
                        "text/html": "(1 row affected)"
                    },
                    "metadata": {}
                },
                {
                    "output_type": "display_data",
                    "data": {
                        "text/html": "Total execution time: 00:00:00.018"
                    },
                    "metadata": {}
                }
            ],
            "execution_count": 16
        },
        {
            "cell_type": "code",
            "source": [
                "SELECT * FROM products"
            ],
            "metadata": {
                "language": "sql",
                "azdata_cell_guid": "2d4b4656-7626-489e-b475-9ae1d836e752"
            },
            "outputs": [
                {
                    "output_type": "display_data",
                    "data": {
                        "text/html": "(4 rows affected)"
                    },
                    "metadata": {}
                },
                {
                    "output_type": "display_data",
                    "data": {
                        "text/html": "Total execution time: 00:00:00.009"
                    },
                    "metadata": {}
                },
                {
                    "output_type": "execute_result",
                    "execution_count": 17,
                    "data": {
                        "application/vnd.dataresource+json": {
                            "schema": {
                                "fields": [
                                    {
                                        "name": "product_id"
                                    },
                                    {
                                        "name": "product_name"
                                    },
                                    {
                                        "name": "price"
                                    }
                                ]
                            },
                            "data": [
                                {
                                    "product_id": "501",
                                    "product_name": "Laptop",
                                    "price": "800.00"
                                },
                                {
                                    "product_id": "502",
                                    "product_name": "Smartphone",
                                    "price": "500.50"
                                },
                                {
                                    "product_id": "503",
                                    "product_name": "Headphones",
                                    "price": "50.75"
                                },
                                {
                                    "product_id": "504",
                                    "product_name": "Tablet",
                                    "price": "300.00"
                                }
                            ]
                        },
                        "text/html": "<table><tr><th>product_id</th><th>product_name</th><th>price</th></tr><tr><td>501</td><td>Laptop</td><td>800.00</td></tr><tr><td>502</td><td>Smartphone</td><td>500.50</td></tr><tr><td>503</td><td>Headphones</td><td>50.75</td></tr><tr><td>504</td><td>Tablet</td><td>300.00</td></tr></table>"
                    },
                    "metadata": {}
                }
            ],
            "execution_count": 17
        },
        {
            "cell_type": "markdown",
            "source": [
                "**7\\. UPDATE:**\n",
                "\n",
                "Write an \\`UPDATE\\` statement to change the 'customer\\_name' of the customer with \\`customer\\_id\\` 2 to 'Sirisha'."
            ],
            "metadata": {
                "azdata_cell_guid": "6cdfefac-f574-492e-b178-58a83a50b060",
                "language": ""
            },
            "attachments": {}
        },
        {
            "cell_type": "code",
            "source": [
                "UPDATE customers\n",
                "SET customer_name = 'Sirisha'\n",
                "WHERE customer_id = 2;\n",
                ""
            ],
            "metadata": {
                "azdata_cell_guid": "335e642b-2397-4118-94ef-be09d50b0f56",
                "language": "sql"
            },
            "outputs": [
                {
                    "output_type": "display_data",
                    "data": {
                        "text/html": "(1 row affected)"
                    },
                    "metadata": {}
                },
                {
                    "output_type": "display_data",
                    "data": {
                        "text/html": "Total execution time: 00:00:00.026"
                    },
                    "metadata": {}
                }
            ],
            "execution_count": 18
        },
        {
            "cell_type": "code",
            "source": [
                "SELECT * FROM customers"
            ],
            "metadata": {
                "language": "sql",
                "azdata_cell_guid": "5f297f6f-7ddf-4868-a1aa-b95c0a2a18a0"
            },
            "outputs": [
                {
                    "output_type": "display_data",
                    "data": {
                        "text/html": "(4 rows affected)"
                    },
                    "metadata": {}
                },
                {
                    "output_type": "display_data",
                    "data": {
                        "text/html": "Total execution time: 00:00:00.009"
                    },
                    "metadata": {}
                },
                {
                    "output_type": "execute_result",
                    "execution_count": 19,
                    "data": {
                        "application/vnd.dataresource+json": {
                            "schema": {
                                "fields": [
                                    {
                                        "name": "customer_id"
                                    },
                                    {
                                        "name": "customer_name"
                                    },
                                    {
                                        "name": "email"
                                    }
                                ]
                            },
                            "data": [
                                {
                                    "customer_id": "1",
                                    "customer_name": "Laxman",
                                    "email": "laxman@example.com"
                                },
                                {
                                    "customer_id": "2",
                                    "customer_name": "Sirisha",
                                    "email": "padma@example.com"
                                },
                                {
                                    "customer_id": "3",
                                    "customer_name": "Harshita",
                                    "email": "harshita@example.com"
                                },
                                {
                                    "customer_id": "4",
                                    "customer_name": "Naina",
                                    "email": "naina@example.com"
                                }
                            ]
                        },
                        "text/html": "<table><tr><th>customer_id</th><th>customer_name</th><th>email</th></tr><tr><td>1</td><td>Laxman</td><td>laxman@example.com</td></tr><tr><td>2</td><td>Sirisha</td><td>padma@example.com</td></tr><tr><td>3</td><td>Harshita</td><td>harshita@example.com</td></tr><tr><td>4</td><td>Naina</td><td>naina@example.com</td></tr></table>"
                    },
                    "metadata": {}
                }
            ],
            "execution_count": 19
        },
        {
            "cell_type": "markdown",
            "source": [
                "**8\\. Write an \\`UPDATE\\` statement to increase the 'price' of the product with \\`product\\_id\\` 503 to 75.00.**"
            ],
            "metadata": {
                "azdata_cell_guid": "3c21d6b2-ba47-4054-8da7-5c629be2290b"
            },
            "attachments": {}
        },
        {
            "cell_type": "code",
            "source": [
                "UPDATE products\n",
                "SET price = 75.00\n",
                "WHERE product_id = 503;\n",
                ""
            ],
            "metadata": {
                "azdata_cell_guid": "1fe3e7f4-e3c9-4e35-9c18-a0ec43232c81",
                "language": "sql"
            },
            "outputs": [
                {
                    "output_type": "display_data",
                    "data": {
                        "text/html": "(1 row affected)"
                    },
                    "metadata": {}
                },
                {
                    "output_type": "display_data",
                    "data": {
                        "text/html": "Total execution time: 00:00:00.019"
                    },
                    "metadata": {}
                }
            ],
            "execution_count": 20
        },
        {
            "cell_type": "code",
            "source": [
                "SELECT * FROM products"
            ],
            "metadata": {
                "language": "sql",
                "azdata_cell_guid": "8cd9949b-5dd1-468f-93dc-e3a324d6196b"
            },
            "outputs": [
                {
                    "output_type": "display_data",
                    "data": {
                        "text/html": "(4 rows affected)"
                    },
                    "metadata": {}
                },
                {
                    "output_type": "display_data",
                    "data": {
                        "text/html": "Total execution time: 00:00:00.007"
                    },
                    "metadata": {}
                },
                {
                    "output_type": "execute_result",
                    "execution_count": 21,
                    "data": {
                        "application/vnd.dataresource+json": {
                            "schema": {
                                "fields": [
                                    {
                                        "name": "product_id"
                                    },
                                    {
                                        "name": "product_name"
                                    },
                                    {
                                        "name": "price"
                                    }
                                ]
                            },
                            "data": [
                                {
                                    "product_id": "501",
                                    "product_name": "Laptop",
                                    "price": "800.00"
                                },
                                {
                                    "product_id": "502",
                                    "product_name": "Smartphone",
                                    "price": "500.50"
                                },
                                {
                                    "product_id": "503",
                                    "product_name": "Headphones",
                                    "price": "75.00"
                                },
                                {
                                    "product_id": "504",
                                    "product_name": "Tablet",
                                    "price": "300.00"
                                }
                            ]
                        },
                        "text/html": "<table><tr><th>product_id</th><th>product_name</th><th>price</th></tr><tr><td>501</td><td>Laptop</td><td>800.00</td></tr><tr><td>502</td><td>Smartphone</td><td>500.50</td></tr><tr><td>503</td><td>Headphones</td><td>75.00</td></tr><tr><td>504</td><td>Tablet</td><td>300.00</td></tr></table>"
                    },
                    "metadata": {}
                }
            ],
            "execution_count": 21
        },
        {
            "cell_type": "markdown",
            "source": [
                "**9\\. Write a \\`DELETE\\` statement to remove the customer with \\`customer\\_id\\` 3 from the 'customers' table.**"
            ],
            "metadata": {
                "azdata_cell_guid": "50630e97-0011-45c8-91d2-eac81c582ebe"
            },
            "attachments": {}
        },
        {
            "cell_type": "code",
            "source": [
                "DELETE FROM customers\n",
                "WHERE customer_id = 3;\n",
                ""
            ],
            "metadata": {
                "azdata_cell_guid": "f666a768-4aad-4b60-899f-ebc6b29a9d42",
                "language": "sql"
            },
            "outputs": [
                {
                    "output_type": "error",
                    "ename": "",
                    "evalue": "Msg 547, Level 16, State 0, Line 1\nThe DELETE statement conflicted with the REFERENCE constraint \"FK__orders__customer__4CA06362\". The conflict occurred in database \"DataScienceLearnersHub\", table \"dbo.orders\", column 'customer_id'.",
                    "traceback": []
                },
                {
                    "output_type": "display_data",
                    "data": {
                        "text/html": "The statement has been terminated."
                    },
                    "metadata": {}
                },
                {
                    "output_type": "display_data",
                    "data": {
                        "text/html": "Total execution time: 00:00:00.063"
                    },
                    "metadata": {}
                }
            ],
            "execution_count": 22
        },
        {
            "cell_type": "markdown",
            "source": [
                "**NOTE** : Here u are getting error message while deleting the record with customer\\_id = 3. \n",
                "\n",
                "  \n",
                "\n",
                "The error you're encountering indicates that there is a foreign key constraint (\\`FK\\_\\_orders\\_\\_customer\\_\\_4CA06362\\`) on the \\`customer\\_id\\` column in the \\`orders\\` table, and it is preventing the deletion of the record from the \\`customers\\` table because there are related records in the \\`orders\\` table.  \n",
                "  \n",
                "  \n",
                "Below are some of the possible solutions"
            ],
            "metadata": {
                "language": "sql",
                "azdata_cell_guid": "2f5fc566-21af-4ae7-87a9-1b75a2651427"
            },
            "attachments": {}
        },
        {
            "cell_type": "markdown",
            "source": [
                "**1\\. Delete Related Records First:**\n",
                "\n",
                "  \n",
                "\n",
                "If you don't need the related records in the \\`orders\\` table and it's acceptable to delete them, you can delete the related records in the \\`orders\\` table first, and then delete the record in the \\`customers\\` table."
            ],
            "metadata": {
                "language": "sql",
                "azdata_cell_guid": "a93723a5-8c27-44c8-ad5d-49ff21f571b5"
            },
            "attachments": {}
        },
        {
            "cell_type": "code",
            "source": [
                "-- Delete related records in 'orders' table\n",
                "DELETE FROM orders\n",
                "WHERE customer_id = 3;"
            ],
            "metadata": {
                "language": "sql",
                "azdata_cell_guid": "3281af18-9210-4b7d-b353-e190cac09a93"
            },
            "outputs": [
                {
                    "output_type": "display_data",
                    "data": {
                        "text/html": "(0 rows affected)"
                    },
                    "metadata": {}
                },
                {
                    "output_type": "display_data",
                    "data": {
                        "text/html": "Total execution time: 00:00:00.003"
                    },
                    "metadata": {}
                }
            ],
            "execution_count": 46
        },
        {
            "cell_type": "code",
            "source": [
                "SELECT * FROM orders"
            ],
            "metadata": {
                "language": "sql",
                "azdata_cell_guid": "60b92d4c-a3b8-4c19-bfa5-40fac5d1180b"
            },
            "outputs": [
                {
                    "output_type": "display_data",
                    "data": {
                        "text/html": "(3 rows affected)"
                    },
                    "metadata": {}
                },
                {
                    "output_type": "display_data",
                    "data": {
                        "text/html": "Total execution time: 00:00:00.007"
                    },
                    "metadata": {}
                },
                {
                    "output_type": "execute_result",
                    "execution_count": 34,
                    "data": {
                        "application/vnd.dataresource+json": {
                            "schema": {
                                "fields": [
                                    {
                                        "name": "order_id"
                                    },
                                    {
                                        "name": "customer_id"
                                    },
                                    {
                                        "name": "order_date"
                                    },
                                    {
                                        "name": "total_amount"
                                    }
                                ]
                            },
                            "data": [
                                {
                                    "order_id": "101",
                                    "customer_id": "1",
                                    "order_date": "2023-01-15",
                                    "total_amount": "150.50"
                                },
                                {
                                    "order_id": "102",
                                    "customer_id": "2",
                                    "order_date": "2023-02-20",
                                    "total_amount": "200.75"
                                },
                                {
                                    "order_id": "104",
                                    "customer_id": "4",
                                    "order_date": "2023-04-05",
                                    "total_amount": "120.25"
                                }
                            ]
                        },
                        "text/html": "<table><tr><th>order_id</th><th>customer_id</th><th>order_date</th><th>total_amount</th></tr><tr><td>101</td><td>1</td><td>2023-01-15</td><td>150.50</td></tr><tr><td>102</td><td>2</td><td>2023-02-20</td><td>200.75</td></tr><tr><td>104</td><td>4</td><td>2023-04-05</td><td>120.25</td></tr></table>"
                    },
                    "metadata": {}
                }
            ],
            "execution_count": 34
        },
        {
            "cell_type": "code",
            "source": [
                "-- Now you can delete the customer\n",
                "DELETE FROM customers\n",
                "WHERE customer_id = 3;"
            ],
            "metadata": {
                "language": "sql",
                "azdata_cell_guid": "fad8f26b-2f01-4206-8dc9-46f719df6fe1"
            },
            "outputs": [
                {
                    "output_type": "display_data",
                    "data": {
                        "text/html": "(1 row affected)"
                    },
                    "metadata": {}
                },
                {
                    "output_type": "display_data",
                    "data": {
                        "text/html": "Total execution time: 00:00:00.006"
                    },
                    "metadata": {}
                }
            ],
            "execution_count": 45
        },
        {
            "cell_type": "code",
            "source": [
                "SELECT * FROM customers"
            ],
            "metadata": {
                "language": "sql",
                "azdata_cell_guid": "8ae335ba-52e1-4aea-b1c2-16efacf701ce"
            },
            "outputs": [
                {
                    "output_type": "display_data",
                    "data": {
                        "text/html": "(3 rows affected)"
                    },
                    "metadata": {}
                },
                {
                    "output_type": "display_data",
                    "data": {
                        "text/html": "Total execution time: 00:00:00.004"
                    },
                    "metadata": {}
                },
                {
                    "output_type": "execute_result",
                    "execution_count": 36,
                    "data": {
                        "application/vnd.dataresource+json": {
                            "schema": {
                                "fields": [
                                    {
                                        "name": "customer_id"
                                    },
                                    {
                                        "name": "customer_name"
                                    },
                                    {
                                        "name": "email"
                                    }
                                ]
                            },
                            "data": [
                                {
                                    "customer_id": "1",
                                    "customer_name": "Laxman",
                                    "email": "laxman@example.com"
                                },
                                {
                                    "customer_id": "2",
                                    "customer_name": "Sirisha",
                                    "email": "padma@example.com"
                                },
                                {
                                    "customer_id": "4",
                                    "customer_name": "Naina",
                                    "email": "naina@example.com"
                                }
                            ]
                        },
                        "text/html": "<table><tr><th>customer_id</th><th>customer_name</th><th>email</th></tr><tr><td>1</td><td>Laxman</td><td>laxman@example.com</td></tr><tr><td>2</td><td>Sirisha</td><td>padma@example.com</td></tr><tr><td>4</td><td>Naina</td><td>naina@example.com</td></tr></table>"
                    },
                    "metadata": {}
                }
            ],
            "execution_count": 36
        },
        {
            "cell_type": "markdown",
            "source": [
                "**2\\. Set NULL for Foreign Key:**\n",
                "\n",
                "  \n",
                "\n",
                "- If your database schema allows it, you might have the option to set the foreign key to \\`NULL\\` on deletion. However, this depends on how the foreign key constraint is defined (whether it allows \\`NULL\\` values)."
            ],
            "metadata": {
                "azdata_cell_guid": "b431b1d4-6ba3-48f8-a684-6df02150792d"
            },
            "attachments": {}
        },
        {
            "cell_type": "code",
            "source": [
                "-- NOTE : Here we are inserting the row with customer_id = 3 again to learn \n",
                "-- different possible solution to overcome the error message (`FK__orders__customer__4CA06362`) above\n",
                "INSERT INTO customers (customer_id, customer_name, email)\n",
                "VALUES (3, 'Harshita', 'harshita@example.com');\n",
                "\n",
                "INSERT INTO orders (order_id, customer_id, order_date, total_amount)\n",
                "VALUES (103, 3, '2023-03-10', 100.00);"
            ],
            "metadata": {
                "azdata_cell_guid": "eb78606f-5e38-4ebc-a9cf-0c59dab5d0de",
                "language": "sql"
            },
            "outputs": [
                {
                    "output_type": "display_data",
                    "data": {
                        "text/html": "(1 row affected)"
                    },
                    "metadata": {}
                },
                {
                    "output_type": "display_data",
                    "data": {
                        "text/html": "(1 row affected)"
                    },
                    "metadata": {}
                },
                {
                    "output_type": "display_data",
                    "data": {
                        "text/html": "Total execution time: 00:00:00.010"
                    },
                    "metadata": {}
                }
            ],
            "execution_count": 37
        },
        {
            "cell_type": "code",
            "source": [
                "SELECT * FROM customers\n",
                "SELECT * FROM orders"
            ],
            "metadata": {
                "language": "sql",
                "azdata_cell_guid": "a4ed0367-4b48-4e7c-ac27-8ada571774f1"
            },
            "outputs": [
                {
                    "output_type": "display_data",
                    "data": {
                        "text/html": "(4 rows affected)"
                    },
                    "metadata": {}
                },
                {
                    "output_type": "display_data",
                    "data": {
                        "text/html": "(4 rows affected)"
                    },
                    "metadata": {}
                },
                {
                    "output_type": "display_data",
                    "data": {
                        "text/html": "Total execution time: 00:00:00.013"
                    },
                    "metadata": {}
                },
                {
                    "output_type": "execute_result",
                    "execution_count": 38,
                    "data": {
                        "application/vnd.dataresource+json": {
                            "schema": {
                                "fields": [
                                    {
                                        "name": "customer_id"
                                    },
                                    {
                                        "name": "customer_name"
                                    },
                                    {
                                        "name": "email"
                                    }
                                ]
                            },
                            "data": [
                                {
                                    "customer_id": "1",
                                    "customer_name": "Laxman",
                                    "email": "laxman@example.com"
                                },
                                {
                                    "customer_id": "2",
                                    "customer_name": "Sirisha",
                                    "email": "padma@example.com"
                                },
                                {
                                    "customer_id": "3",
                                    "customer_name": "Harshita",
                                    "email": "harshita@example.com"
                                },
                                {
                                    "customer_id": "4",
                                    "customer_name": "Naina",
                                    "email": "naina@example.com"
                                }
                            ]
                        },
                        "text/html": "<table><tr><th>customer_id</th><th>customer_name</th><th>email</th></tr><tr><td>1</td><td>Laxman</td><td>laxman@example.com</td></tr><tr><td>2</td><td>Sirisha</td><td>padma@example.com</td></tr><tr><td>3</td><td>Harshita</td><td>harshita@example.com</td></tr><tr><td>4</td><td>Naina</td><td>naina@example.com</td></tr></table>"
                    },
                    "metadata": {}
                },
                {
                    "output_type": "execute_result",
                    "execution_count": 38,
                    "data": {
                        "application/vnd.dataresource+json": {
                            "schema": {
                                "fields": [
                                    {
                                        "name": "order_id"
                                    },
                                    {
                                        "name": "customer_id"
                                    },
                                    {
                                        "name": "order_date"
                                    },
                                    {
                                        "name": "total_amount"
                                    }
                                ]
                            },
                            "data": [
                                {
                                    "order_id": "101",
                                    "customer_id": "1",
                                    "order_date": "2023-01-15",
                                    "total_amount": "150.50"
                                },
                                {
                                    "order_id": "102",
                                    "customer_id": "2",
                                    "order_date": "2023-02-20",
                                    "total_amount": "200.75"
                                },
                                {
                                    "order_id": "103",
                                    "customer_id": "3",
                                    "order_date": "2023-03-10",
                                    "total_amount": "100.00"
                                },
                                {
                                    "order_id": "104",
                                    "customer_id": "4",
                                    "order_date": "2023-04-05",
                                    "total_amount": "120.25"
                                }
                            ]
                        },
                        "text/html": "<table><tr><th>order_id</th><th>customer_id</th><th>order_date</th><th>total_amount</th></tr><tr><td>101</td><td>1</td><td>2023-01-15</td><td>150.50</td></tr><tr><td>102</td><td>2</td><td>2023-02-20</td><td>200.75</td></tr><tr><td>103</td><td>3</td><td>2023-03-10</td><td>100.00</td></tr><tr><td>104</td><td>4</td><td>2023-04-05</td><td>120.25</td></tr></table>"
                    },
                    "metadata": {}
                }
            ],
            "execution_count": 38
        },
        {
            "cell_type": "code",
            "source": [
                "DELETE FROM customers\n",
                "WHERE customer_id = 3;"
            ],
            "metadata": {
                "language": "sql",
                "azdata_cell_guid": "31a3bb3d-08c3-4f47-bfe8-4f98f2dedf72"
            },
            "outputs": [
                {
                    "output_type": "error",
                    "ename": "",
                    "evalue": "Msg 547, Level 16, State 0, Line 1\nThe DELETE statement conflicted with the REFERENCE constraint \"FK__orders__customer__4CA06362\". The conflict occurred in database \"DataScienceLearnersHub\", table \"dbo.orders\", column 'customer_id'.",
                    "traceback": []
                },
                {
                    "output_type": "display_data",
                    "data": {
                        "text/html": "The statement has been terminated."
                    },
                    "metadata": {}
                },
                {
                    "output_type": "display_data",
                    "data": {
                        "text/html": "Total execution time: 00:00:00.005"
                    },
                    "metadata": {}
                }
            ],
            "execution_count": 39
        },
        {
            "cell_type": "code",
            "source": [
                "-- Solution number 2\n",
                "-- Set customer_id to NULL in 'orders' table\n",
                "UPDATE orders\n",
                "SET customer_id = NULL\n",
                "WHERE customer_id = 3;\n",
                ""
            ],
            "metadata": {
                "language": "sql",
                "azdata_cell_guid": "c10a5474-4733-406a-bbf4-b39e883f9edd"
            },
            "outputs": [
                {
                    "output_type": "display_data",
                    "data": {
                        "text/html": "(1 row affected)"
                    },
                    "metadata": {}
                },
                {
                    "output_type": "display_data",
                    "data": {
                        "text/html": "Total execution time: 00:00:00.015"
                    },
                    "metadata": {}
                }
            ],
            "execution_count": 40
        },
        {
            "cell_type": "code",
            "source": [
                "\n",
                "-- Now you can delete the customer\n",
                "DELETE FROM customers\n",
                "WHERE customer_id = 3;"
            ],
            "metadata": {
                "language": "sql",
                "azdata_cell_guid": "87bd7d5b-ee9c-4b34-a079-8f11c10c0cd9"
            },
            "outputs": [
                {
                    "output_type": "display_data",
                    "data": {
                        "text/html": "(1 row affected)"
                    },
                    "metadata": {}
                },
                {
                    "output_type": "display_data",
                    "data": {
                        "text/html": "Total execution time: 00:00:00.012"
                    },
                    "metadata": {}
                }
            ],
            "execution_count": 41
        },
        {
            "cell_type": "code",
            "source": [
                "SELECT * FROM customers\n",
                "SELECT * FROM orders"
            ],
            "metadata": {
                "language": "sql",
                "azdata_cell_guid": "259d0879-7daa-45fc-a3ed-45fa868d7c18"
            },
            "outputs": [
                {
                    "output_type": "display_data",
                    "data": {
                        "text/html": "(3 rows affected)"
                    },
                    "metadata": {}
                },
                {
                    "output_type": "display_data",
                    "data": {
                        "text/html": "(4 rows affected)"
                    },
                    "metadata": {}
                },
                {
                    "output_type": "display_data",
                    "data": {
                        "text/html": "Total execution time: 00:00:00.007"
                    },
                    "metadata": {}
                },
                {
                    "output_type": "execute_result",
                    "execution_count": 42,
                    "data": {
                        "application/vnd.dataresource+json": {
                            "schema": {
                                "fields": [
                                    {
                                        "name": "customer_id"
                                    },
                                    {
                                        "name": "customer_name"
                                    },
                                    {
                                        "name": "email"
                                    }
                                ]
                            },
                            "data": [
                                {
                                    "customer_id": "1",
                                    "customer_name": "Laxman",
                                    "email": "laxman@example.com"
                                },
                                {
                                    "customer_id": "2",
                                    "customer_name": "Sirisha",
                                    "email": "padma@example.com"
                                },
                                {
                                    "customer_id": "4",
                                    "customer_name": "Naina",
                                    "email": "naina@example.com"
                                }
                            ]
                        },
                        "text/html": "<table><tr><th>customer_id</th><th>customer_name</th><th>email</th></tr><tr><td>1</td><td>Laxman</td><td>laxman@example.com</td></tr><tr><td>2</td><td>Sirisha</td><td>padma@example.com</td></tr><tr><td>4</td><td>Naina</td><td>naina@example.com</td></tr></table>"
                    },
                    "metadata": {}
                },
                {
                    "output_type": "execute_result",
                    "execution_count": 42,
                    "data": {
                        "application/vnd.dataresource+json": {
                            "schema": {
                                "fields": [
                                    {
                                        "name": "order_id"
                                    },
                                    {
                                        "name": "customer_id"
                                    },
                                    {
                                        "name": "order_date"
                                    },
                                    {
                                        "name": "total_amount"
                                    }
                                ]
                            },
                            "data": [
                                {
                                    "order_id": "101",
                                    "customer_id": "1",
                                    "order_date": "2023-01-15",
                                    "total_amount": "150.50"
                                },
                                {
                                    "order_id": "102",
                                    "customer_id": "2",
                                    "order_date": "2023-02-20",
                                    "total_amount": "200.75"
                                },
                                {
                                    "order_id": "103",
                                    "customer_id": "NULL",
                                    "order_date": "2023-03-10",
                                    "total_amount": "100.00"
                                },
                                {
                                    "order_id": "104",
                                    "customer_id": "4",
                                    "order_date": "2023-04-05",
                                    "total_amount": "120.25"
                                }
                            ]
                        },
                        "text/html": "<table><tr><th>order_id</th><th>customer_id</th><th>order_date</th><th>total_amount</th></tr><tr><td>101</td><td>1</td><td>2023-01-15</td><td>150.50</td></tr><tr><td>102</td><td>2</td><td>2023-02-20</td><td>200.75</td></tr><tr><td>103</td><td>NULL</td><td>2023-03-10</td><td>100.00</td></tr><tr><td>104</td><td>4</td><td>2023-04-05</td><td>120.25</td></tr></table>"
                    },
                    "metadata": {}
                }
            ],
            "execution_count": 42
        },
        {
            "cell_type": "markdown",
            "source": [
                "**Possible solution no 3 :  Remove Foreign Key Constraint:**\n",
                "\n",
                "  \n",
                "\n",
                "- If you want to delete the customer even if there are related records in the \\`orders\\` table, you might consider removing the foreign key constraint. However, be cautious with this approach, as it might lead to data integrity issues."
            ],
            "metadata": {
                "language": "sql",
                "azdata_cell_guid": "ed7a87e4-9f01-4f44-ac99-bf098349d9ca"
            },
            "attachments": {}
        },
        {
            "cell_type": "code",
            "source": [
                "-- Delete related records in 'orders' table\n",
                "DELETE FROM orders\n",
                "WHERE order_id = 103;"
            ],
            "metadata": {
                "language": "sql",
                "azdata_cell_guid": "970d4ae7-93b8-4512-98f8-690c874c45ae"
            },
            "outputs": [
                {
                    "output_type": "display_data",
                    "data": {
                        "text/html": "(0 rows affected)"
                    },
                    "metadata": {}
                },
                {
                    "output_type": "display_data",
                    "data": {
                        "text/html": "Total execution time: 00:00:00.012"
                    },
                    "metadata": {}
                }
            ],
            "execution_count": 48
        },
        {
            "cell_type": "code",
            "source": [
                "SELECT * FROM orders"
            ],
            "metadata": {
                "language": "sql",
                "azdata_cell_guid": "62a6feae-4e3b-4d4f-8bb0-0c14d2825a63"
            },
            "outputs": [
                {
                    "output_type": "display_data",
                    "data": {
                        "text/html": "(3 rows affected)"
                    },
                    "metadata": {}
                },
                {
                    "output_type": "display_data",
                    "data": {
                        "text/html": "Total execution time: 00:00:00.006"
                    },
                    "metadata": {}
                },
                {
                    "output_type": "execute_result",
                    "execution_count": 49,
                    "data": {
                        "application/vnd.dataresource+json": {
                            "schema": {
                                "fields": [
                                    {
                                        "name": "order_id"
                                    },
                                    {
                                        "name": "customer_id"
                                    },
                                    {
                                        "name": "order_date"
                                    },
                                    {
                                        "name": "total_amount"
                                    }
                                ]
                            },
                            "data": [
                                {
                                    "order_id": "101",
                                    "customer_id": "1",
                                    "order_date": "2023-01-15",
                                    "total_amount": "150.50"
                                },
                                {
                                    "order_id": "102",
                                    "customer_id": "2",
                                    "order_date": "2023-02-20",
                                    "total_amount": "200.75"
                                },
                                {
                                    "order_id": "104",
                                    "customer_id": "4",
                                    "order_date": "2023-04-05",
                                    "total_amount": "120.25"
                                }
                            ]
                        },
                        "text/html": "<table><tr><th>order_id</th><th>customer_id</th><th>order_date</th><th>total_amount</th></tr><tr><td>101</td><td>1</td><td>2023-01-15</td><td>150.50</td></tr><tr><td>102</td><td>2</td><td>2023-02-20</td><td>200.75</td></tr><tr><td>104</td><td>4</td><td>2023-04-05</td><td>120.25</td></tr></table>"
                    },
                    "metadata": {}
                }
            ],
            "execution_count": 49
        },
        {
            "cell_type": "code",
            "source": [
                "-- NOTE : Here we are inserting the row with customer_id = 3 again to learn \n",
                "-- different possible solution to overcome the error message (`FK__orders__customer__4CA06362`) above\n",
                "INSERT INTO customers (customer_id, customer_name, email)\n",
                "VALUES (3, 'Harshita', 'harshita@example.com');\n",
                "\n",
                "INSERT INTO orders (order_id, customer_id, order_date, total_amount)\n",
                "VALUES (103, 3, '2023-03-10', 100.00);"
            ],
            "metadata": {
                "language": "sql",
                "azdata_cell_guid": "208b4224-af1a-4189-99db-26733abfbc05"
            },
            "outputs": [
                {
                    "output_type": "display_data",
                    "data": {
                        "text/html": "(1 row affected)"
                    },
                    "metadata": {}
                },
                {
                    "output_type": "display_data",
                    "data": {
                        "text/html": "(1 row affected)"
                    },
                    "metadata": {}
                },
                {
                    "output_type": "display_data",
                    "data": {
                        "text/html": "Total execution time: 00:00:00.010"
                    },
                    "metadata": {}
                }
            ],
            "execution_count": 50
        },
        {
            "cell_type": "code",
            "source": [
                "-- Drop the foreign key constraint\n",
                "ALTER TABLE orders\n",
                "DROP CONSTRAINT FK__orders__customer__4CA06362;\n",
                "\n",
                ""
            ],
            "metadata": {
                "language": "sql",
                "azdata_cell_guid": "b571920f-1567-40e7-ba30-16916ecaa8ed"
            },
            "outputs": [
                {
                    "output_type": "display_data",
                    "data": {
                        "text/html": "Commands completed successfully."
                    },
                    "metadata": {}
                },
                {
                    "output_type": "display_data",
                    "data": {
                        "text/html": "Total execution time: 00:00:00.041"
                    },
                    "metadata": {}
                }
            ],
            "execution_count": 51
        },
        {
            "cell_type": "code",
            "source": [
                "-- Now you can delete the customer\n",
                "DELETE FROM customers\n",
                "WHERE customer_id = 3;"
            ],
            "metadata": {
                "language": "sql",
                "azdata_cell_guid": "8583d4bd-81aa-49d4-83cb-a11b6ca15e50"
            },
            "outputs": [
                {
                    "output_type": "display_data",
                    "data": {
                        "text/html": "(1 row affected)"
                    },
                    "metadata": {}
                },
                {
                    "output_type": "display_data",
                    "data": {
                        "text/html": "Total execution time: 00:00:00.021"
                    },
                    "metadata": {}
                }
            ],
            "execution_count": 52
        },
        {
            "cell_type": "code",
            "source": [
                "SELECT * FROM customers\n",
                "SELECT * FROM orders"
            ],
            "metadata": {
                "language": "sql",
                "azdata_cell_guid": "0180890d-6107-4fb5-aa1e-c0c2db31c5ac"
            },
            "outputs": [
                {
                    "output_type": "display_data",
                    "data": {
                        "text/html": "(3 rows affected)"
                    },
                    "metadata": {}
                },
                {
                    "output_type": "display_data",
                    "data": {
                        "text/html": "(4 rows affected)"
                    },
                    "metadata": {}
                },
                {
                    "output_type": "display_data",
                    "data": {
                        "text/html": "Total execution time: 00:00:00.021"
                    },
                    "metadata": {}
                },
                {
                    "output_type": "execute_result",
                    "execution_count": 53,
                    "data": {
                        "application/vnd.dataresource+json": {
                            "schema": {
                                "fields": [
                                    {
                                        "name": "customer_id"
                                    },
                                    {
                                        "name": "customer_name"
                                    },
                                    {
                                        "name": "email"
                                    }
                                ]
                            },
                            "data": [
                                {
                                    "customer_id": "1",
                                    "customer_name": "Laxman",
                                    "email": "laxman@example.com"
                                },
                                {
                                    "customer_id": "2",
                                    "customer_name": "Sirisha",
                                    "email": "padma@example.com"
                                },
                                {
                                    "customer_id": "4",
                                    "customer_name": "Naina",
                                    "email": "naina@example.com"
                                }
                            ]
                        },
                        "text/html": "<table><tr><th>customer_id</th><th>customer_name</th><th>email</th></tr><tr><td>1</td><td>Laxman</td><td>laxman@example.com</td></tr><tr><td>2</td><td>Sirisha</td><td>padma@example.com</td></tr><tr><td>4</td><td>Naina</td><td>naina@example.com</td></tr></table>"
                    },
                    "metadata": {}
                },
                {
                    "output_type": "execute_result",
                    "execution_count": 53,
                    "data": {
                        "application/vnd.dataresource+json": {
                            "schema": {
                                "fields": [
                                    {
                                        "name": "order_id"
                                    },
                                    {
                                        "name": "customer_id"
                                    },
                                    {
                                        "name": "order_date"
                                    },
                                    {
                                        "name": "total_amount"
                                    }
                                ]
                            },
                            "data": [
                                {
                                    "order_id": "101",
                                    "customer_id": "1",
                                    "order_date": "2023-01-15",
                                    "total_amount": "150.50"
                                },
                                {
                                    "order_id": "102",
                                    "customer_id": "2",
                                    "order_date": "2023-02-20",
                                    "total_amount": "200.75"
                                },
                                {
                                    "order_id": "103",
                                    "customer_id": "3",
                                    "order_date": "2023-03-10",
                                    "total_amount": "100.00"
                                },
                                {
                                    "order_id": "104",
                                    "customer_id": "4",
                                    "order_date": "2023-04-05",
                                    "total_amount": "120.25"
                                }
                            ]
                        },
                        "text/html": "<table><tr><th>order_id</th><th>customer_id</th><th>order_date</th><th>total_amount</th></tr><tr><td>101</td><td>1</td><td>2023-01-15</td><td>150.50</td></tr><tr><td>102</td><td>2</td><td>2023-02-20</td><td>200.75</td></tr><tr><td>103</td><td>3</td><td>2023-03-10</td><td>100.00</td></tr><tr><td>104</td><td>4</td><td>2023-04-05</td><td>120.25</td></tr></table>"
                    },
                    "metadata": {}
                }
            ],
            "execution_count": 53
        },
        {
            "cell_type": "markdown",
            "source": [
                "**10\\. Write a \\`DELETE\\` statement to remove the product with \\`product\\_id\\` 502 from the '**"
            ],
            "metadata": {
                "azdata_cell_guid": "cc00d066-5e6b-4c34-820c-3921431fda81"
            },
            "attachments": {}
        },
        {
            "cell_type": "code",
            "source": [
                "DELETE FROM products\n",
                "WHERE product_id = 502;\n",
                ""
            ],
            "metadata": {
                "azdata_cell_guid": "80a75c9b-59eb-4370-88c7-ad3f160f1619",
                "language": "sql"
            },
            "outputs": [
                {
                    "output_type": "display_data",
                    "data": {
                        "text/html": "(1 row affected)"
                    },
                    "metadata": {}
                },
                {
                    "output_type": "display_data",
                    "data": {
                        "text/html": "Total execution time: 00:00:00.021"
                    },
                    "metadata": {}
                }
            ],
            "execution_count": 54
        },
        {
            "cell_type": "code",
            "source": [
                "SELECT * FROM products"
            ],
            "metadata": {
                "language": "sql",
                "azdata_cell_guid": "b9862b3c-c80a-4980-8fd5-cdb4e4033ddf"
            },
            "outputs": [
                {
                    "output_type": "display_data",
                    "data": {
                        "text/html": "(3 rows affected)"
                    },
                    "metadata": {}
                },
                {
                    "output_type": "display_data",
                    "data": {
                        "text/html": "Total execution time: 00:00:00.018"
                    },
                    "metadata": {}
                },
                {
                    "output_type": "execute_result",
                    "execution_count": 55,
                    "data": {
                        "application/vnd.dataresource+json": {
                            "schema": {
                                "fields": [
                                    {
                                        "name": "product_id"
                                    },
                                    {
                                        "name": "product_name"
                                    },
                                    {
                                        "name": "price"
                                    }
                                ]
                            },
                            "data": [
                                {
                                    "product_id": "501",
                                    "product_name": "Laptop",
                                    "price": "800.00"
                                },
                                {
                                    "product_id": "503",
                                    "product_name": "Headphones",
                                    "price": "75.00"
                                },
                                {
                                    "product_id": "504",
                                    "product_name": "Tablet",
                                    "price": "300.00"
                                }
                            ]
                        },
                        "text/html": "<table><tr><th>product_id</th><th>product_name</th><th>price</th></tr><tr><td>501</td><td>Laptop</td><td>800.00</td></tr><tr><td>503</td><td>Headphones</td><td>75.00</td></tr><tr><td>504</td><td>Tablet</td><td>300.00</td></tr></table>"
                    },
                    "metadata": {}
                }
            ],
            "execution_count": 55
        }
    ]
}