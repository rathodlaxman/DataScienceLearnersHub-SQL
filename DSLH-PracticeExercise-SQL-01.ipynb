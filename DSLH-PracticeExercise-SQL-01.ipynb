{
    "metadata": {
        "kernelspec": {
            "name": "SQL",
            "display_name": "SQL",
            "language": "sql"
        },
        "language_info": {
            "name": "sql",
            "version": ""
        }
    },
    "nbformat_minor": 2,
    "nbformat": 4,
    "cells": [
        {
            "cell_type": "markdown",
            "source": [
                "# **Data Science Learners Hub**\n",
                "\n",
                "**Module : SQL**\n",
                "\n",
                "**Topic :** <span style=\"color: var(--vscode-foreground); font-family: -apple-system, BlinkMacSystemFont, sans-serif; font-weight: 600;\">Practice Exercise - 01</span>\n",
                "\n",
                "**email** : [datasciencelearnershub@gmail.com](mailto:datasciencelearnershub@gmail.com)"
            ],
            "metadata": {
                "azdata_cell_guid": "3c5d680b-a310-4d29-b930-d63c251a9644"
            },
            "attachments": {}
        },
        {
            "cell_type": "markdown",
            "source": [
                "**Topics Covered**\n",
                "\n",
                "- Create Tables\n",
                "- INSERT\n",
                "- UPDATE\n",
                "- DELETE"
            ],
            "metadata": {
                "azdata_cell_guid": "7625af6d-215c-4e1b-8405-1fc66f0f18af"
            },
            "attachments": {}
        },
        {
            "cell_type": "markdown",
            "source": [
                "### **Practice Questions for Table Creation:**"
            ],
            "metadata": {
                "azdata_cell_guid": "9e3eab91-6dd9-49fb-a2a2-3b9f6c3b3297"
            },
            "attachments": {}
        },
        {
            "cell_type": "markdown",
            "source": [
                "**1\\. Customers Table:**\n",
                "\n",
                "  \n",
                "\n",
                "Create a table named \\`customers\\` with the following columns:\n",
                "\n",
                "\\- \\`customer\\_id\\` of type \\`INT\\` as the primary key.\n",
                "\n",
                "\\- \\`customer\\_name\\` of type \\`VARCHAR(50)\\` to store the customer's name.\n",
                "\n",
                "\\- \\`email\\` of type \\`VARCHAR(100)\\` as a unique key to store the customer's email address."
            ],
            "metadata": {
                "azdata_cell_guid": "e970b937-895c-446f-b6b5-b8eea42282bf"
            },
            "attachments": {}
        },
        {
            "cell_type": "markdown",
            "source": [
                "**2\\. Orders Table:**\n",
                "\n",
                "  \n",
                "\n",
                "  \n",
                "\n",
                "Design a table named \\`orders\\` with the following columns:\n",
                "\n",
                "\\- \\`order\\_id\\` of type \\`INT\\` as the primary key.\n",
                "\n",
                "\\- \\`customer\\_id\\` of type \\`INT\\` as a foreign key referencing the \\`customer\\_id\\` column in the \\`customers\\` table.\n",
                "\n",
                "\\- \\`order\\_date\\` of type \\`DATE\\` to store the date when the order was placed.\n",
                "\n",
                "\\- \\`total\\_amount\\` of type \\`DECIMAL(10, 2)\\` to represent the total amount of the order."
            ],
            "metadata": {
                "azdata_cell_guid": "4123c82c-ca15-42aa-aefc-8d3d75921542"
            },
            "attachments": {}
        },
        {
            "cell_type": "markdown",
            "source": [
                "**3\\. Products Table:**\n",
                "\n",
                "  \n",
                "\n",
                "  \n",
                "\n",
                "Create a table named \\`products\\` with the following columns:\n",
                "\n",
                "\\- \\`product\\_id\\` of type \\`INT\\` as the primary key.\n",
                "\n",
                "\\- \\`product\\_name\\` of type \\`VARCHAR(50)\\` to store the name of the product.\n",
                "\n",
                "\\- \\`price\\` of type \\`DECIMAL(8, 2)\\` to represent the price of the product."
            ],
            "metadata": {
                "azdata_cell_guid": "d8ac3381-0bd4-4a83-821a-41315e58eaaf"
            },
            "attachments": {}
        },
        {
            "cell_type": "markdown",
            "source": [
                "### **Now Execute the following INSERT statements**\n",
                "\n",
                "\\-- Inserting values into 'customers'\n",
                "\n",
                "INSERT INTO customers (customer\\_id, customer\\_name, email)\n",
                "\n",
                "VALUES\n",
                "\n",
                "    (1, 'Laxman', 'laxman[@example.com](mailto:john@example.com)'),\n",
                "\n",
                "    (2, 'Padma', 'padma[@example.com](mailto:jane@example.com)'),\n",
                "\n",
                "    (3, 'Harshita', 'harshita[@example.com](mailto:bob@example.com)');\n",
                "\n",
                "\\-- Inserting values into 'orders'\n",
                "\n",
                "INSERT INTO orders (order\\_id, customer\\_id, order\\_date, total\\_amount)\n",
                "\n",
                "VALUES\n",
                "\n",
                "    (101, 1, '2023-01-15', 150.50),\n",
                "\n",
                "    (102, 2, '2023-02-20', 200.75),\n",
                "\n",
                "    (103, 3, '2023-03-10', 100.00);\n",
                "\n",
                "\\-- Inserting values into 'products'\n",
                "\n",
                "INSERT INTO products (product\\_id, product\\_name, price)\n",
                "\n",
                "VALUES\n",
                "\n",
                "    (501, 'Laptop', 800.00),\n",
                "\n",
                "    (502, 'Smartphone', 500.50),\n",
                "\n",
                "    (503, 'Headphones', 50.75);"
            ],
            "metadata": {
                "azdata_cell_guid": "c1a1d0b7-9e67-4cf6-8410-a409b9d7a111"
            },
            "attachments": {}
        },
        {
            "cell_type": "markdown",
            "source": [
                "### **Practice Questions for INSERT Statements:**"
            ],
            "metadata": {
                "azdata_cell_guid": "cab40d16-ade0-480e-b893-0d8173287971"
            },
            "attachments": {}
        },
        {
            "cell_type": "markdown",
            "source": [
                "**4\\. Customers Table:**\n",
                "\n",
                "Using the \\`INSERT\\` statement, add a new customer to the \\`customers\\` table with the following details:\n",
                "\n",
                "\\- \\`customer\\_id\\`: 4\n",
                "\n",
                "\\- \\`customer\\_name\\`: 'Naina'\n",
                "\n",
                "\\- \\`email\\`: 'naina[@example.com](mailto:eva@example.com)'"
            ],
            "metadata": {
                "azdata_cell_guid": "460fe9c6-b90a-4091-95b5-4b021abc7399"
            },
            "attachments": {}
        },
        {
            "cell_type": "markdown",
            "source": [
                "**5\\. Orders Table:**\n",
                "\n",
                "Write an \\`INSERT\\` statement to add a new order to the \\`orders\\` table with the following details:\n",
                "\n",
                "\\- \\`order\\_id\\`: 104\n",
                "\n",
                "\\- \\`customer\\_id\\`: 4\n",
                "\n",
                "\\- \\`order\\_date\\`: '2023-04-05'\n",
                "\n",
                "\\- \\`total\\_amount\\`: 120.25"
            ],
            "metadata": {
                "azdata_cell_guid": "a07a79fc-e6c5-4ef6-91d0-466116d95c59"
            },
            "attachments": {}
        },
        {
            "cell_type": "markdown",
            "source": [
                "**6\\. Products Table:**\n",
                "\n",
                "Using the \\`INSERT\\` statement, add a new product to the \\`products\\` table with the following details:\n",
                "\n",
                "\\- \\`product\\_id\\`: 504\n",
                "\n",
                "\\- \\`product\\_name\\`: 'Tablet'\n",
                "\n",
                "\\- \\`price\\`: 300.00"
            ],
            "metadata": {
                "azdata_cell_guid": "2cf68b3d-6cbc-461d-8ffd-0539176699bb"
            },
            "attachments": {}
        },
        {
            "cell_type": "markdown",
            "source": [
                "**7\\. UPDATE:**\n",
                "\n",
                "Write an \\`UPDATE\\` statement to change the 'customer\\_name' of the customer with \\`customer\\_id\\` 2 to 'Sirisha'."
            ],
            "metadata": {
                "azdata_cell_guid": "6cdfefac-f574-492e-b178-58a83a50b060",
                "language": ""
            },
            "attachments": {}
        },
        {
            "cell_type": "markdown",
            "source": [
                "**8\\. Write an \\`UPDATE\\` statement to increase the 'price' of the product with \\`product\\_id\\` 503 to 75.00.**"
            ],
            "metadata": {
                "azdata_cell_guid": "3c21d6b2-ba47-4054-8da7-5c629be2290b"
            },
            "attachments": {}
        },
        {
            "cell_type": "markdown",
            "source": [
                "**9\\. Write a \\`DELETE\\` statement to remove the customer with \\`customer\\_id\\` 3 from the 'customers' table.**"
            ],
            "metadata": {
                "azdata_cell_guid": "50630e97-0011-45c8-91d2-eac81c582ebe"
            },
            "attachments": {}
        },
        {
            "cell_type": "markdown",
            "source": [
                "**10\\. Write a \\`DELETE\\` statement to remove the product with \\`product\\_id\\` 502 from the '**"
            ],
            "metadata": {
                "azdata_cell_guid": "cc00d066-5e6b-4c34-820c-3921431fda81"
            },
            "attachments": {}
        }
    ]
}