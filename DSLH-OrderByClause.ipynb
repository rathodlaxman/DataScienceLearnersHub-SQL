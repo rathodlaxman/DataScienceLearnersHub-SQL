{
    "metadata": {
        "kernelspec": {
            "name": "SQL",
            "display_name": "SQL",
            "language": "sql"
        },
        "language_info": {
            "name": "sql",
            "version": ""
        }
    },
    "nbformat_minor": 2,
    "nbformat": 4,
    "cells": [
        {
            "cell_type": "markdown",
            "source": [
                "# **Data Science Learners Hub**\n",
                "\n",
                "**Module : SQL**\n",
                "\n",
                "**Topic :** **ORDER BY Clause**\n",
                "\n",
                "**email** : [datasciencelearnershub@gmail.com](mailto:datasciencelearnershub@gmail.com)"
            ],
            "metadata": {
                "azdata_cell_guid": "e8510179-8904-4984-98c7-341202418d39"
            },
            "attachments": {}
        },
        {
            "cell_type": "code",
            "source": [
                "USE DataScienceLearnersHub"
            ],
            "metadata": {
                "azdata_cell_guid": "780d1e79-eabb-4b6f-98ab-f5c33590ce6f",
                "language": "sql"
            },
            "outputs": [
                {
                    "output_type": "display_data",
                    "data": {
                        "text/html": "Commands completed successfully."
                    },
                    "metadata": {}
                },
                {
                    "output_type": "display_data",
                    "data": {
                        "text/html": "Total execution time: 00:00:00.001"
                    },
                    "metadata": {}
                }
            ],
            "execution_count": 1
        },
        {
            "cell_type": "code",
            "source": [
                "INSERT INTO Emp (id, name, age) VALUES (16,'Arjun', 31)"
            ],
            "metadata": {
                "language": "sql",
                "azdata_cell_guid": "eb33d60d-a569-4d01-a51a-a7436b3a8c69"
            },
            "outputs": [
                {
                    "output_type": "display_data",
                    "data": {
                        "text/html": "(1 row affected)"
                    },
                    "metadata": {}
                },
                {
                    "output_type": "display_data",
                    "data": {
                        "text/html": "Total execution time: 00:00:00.032"
                    },
                    "metadata": {}
                }
            ],
            "execution_count": 7
        },
        {
            "cell_type": "markdown",
            "source": [
                "### **ORDER BY CLause**\n",
                "\n",
                "- The \\`ORDER BY\\` clause in SQL is used to sort the result set of a query in ascending or descending order based on one or more columns. It is often used in conjunction with the \\`SELECT\\` statement to present the data in a specific order.\n",
                "- By default the order is Ascending \\[ASC\\] \n",
                "- Keyword for descending order is \\[DSEC\\]"
            ],
            "metadata": {
                "language": "sql",
                "azdata_cell_guid": "0659433e-750b-4930-aba5-52193bd3ec96"
            },
            "attachments": {}
        },
        {
            "cell_type": "code",
            "source": [
                "-- Order employees by salary in descending order\n",
                "SELECT id, name, salary\n",
                "FROM Emp\n",
                "ORDER BY salary DESC;\n",
                "\n",
                "-- In this example, the `ORDER BY salary DESC` clause sorts the result set based on the \"salary\" column \n",
                "-- in descending order."
            ],
            "metadata": {
                "language": "sql",
                "azdata_cell_guid": "5a4c0cc4-8e78-4c72-a316-5a0ec388866f"
            },
            "outputs": [],
            "execution_count": null
        },
        {
            "cell_type": "markdown",
            "source": [
                "### **Peculiarities of the ORDER BY Clause in SQL:**"
            ],
            "metadata": {
                "language": "sql",
                "azdata_cell_guid": "49cb4b66-a8c6-4f31-acc0-c03bd07f4f38"
            },
            "attachments": {}
        },
        {
            "cell_type": "markdown",
            "source": [
                "### **1\\. Column Aliases:**\n",
                "\n",
                "- You can use column aliases in the \\`ORDER BY\\` clause. However, some database systems may not allow the use of column aliases defined in the \\`SELECT\\` clause in the \\`ORDER BY\\` clause. In such cases, you may need to repeat the original expression. In case of MS SQL it allows both"
            ],
            "metadata": {
                "language": "sql",
                "azdata_cell_guid": "0ac4a0a9-187d-4098-926c-7b7daf850d24"
            },
            "attachments": {}
        },
        {
            "cell_type": "code",
            "source": [
                "-- ORDER BY with Expression\n",
                "\n",
                "SELECT id, name, salary * 1.1 AS IncreasedSalary\n",
                "FROM Emp\n",
                "ORDER BY salary * 1.1 DESC;\n",
                ""
            ],
            "metadata": {
                "language": "sql",
                "azdata_cell_guid": "fb4947e8-44c5-4f88-aaf1-74067b9e831c"
            },
            "outputs": [
                {
                    "output_type": "display_data",
                    "data": {
                        "text/html": "(12 rows affected)"
                    },
                    "metadata": {}
                },
                {
                    "output_type": "display_data",
                    "data": {
                        "text/html": "Total execution time: 00:00:00.005"
                    },
                    "metadata": {}
                },
                {
                    "output_type": "execute_result",
                    "execution_count": 8,
                    "data": {
                        "application/vnd.dataresource+json": {
                            "schema": {
                                "fields": [
                                    {
                                        "name": "id"
                                    },
                                    {
                                        "name": "name"
                                    },
                                    {
                                        "name": "IncreasedSalary"
                                    }
                                ]
                            },
                            "data": [
                                {
                                    "id": "11",
                                    "name": "Ramulu",
                                    "IncreasedSalary": "195800.275"
                                },
                                {
                                    "id": "12",
                                    "name": "Bala",
                                    "IncreasedSalary": "178200.000"
                                },
                                {
                                    "id": "7",
                                    "name": "Bunny",
                                    "IncreasedSalary": "93500.550"
                                },
                                {
                                    "id": "9",
                                    "name": "Abhiram",
                                    "IncreasedSalary": "85800.275"
                                },
                                {
                                    "id": "5",
                                    "name": "Nikhil",
                                    "IncreasedSalary": "79200.000"
                                },
                                {
                                    "id": "3",
                                    "name": "Laxman",
                                    "IncreasedSalary": "77000.825"
                                },
                                {
                                    "id": "10",
                                    "name": "Tikram",
                                    "IncreasedSalary": "68200.000"
                                },
                                {
                                    "id": "1",
                                    "name": "Rajesh",
                                    "IncreasedSalary": "66000.000"
                                },
                                {
                                    "id": "6",
                                    "name": "Sarita",
                                    "IncreasedSalary": "63800.825"
                                },
                                {
                                    "id": "8",
                                    "name": "Namrata",
                                    "IncreasedSalary": "55000.550"
                                },
                                {
                                    "id": "4",
                                    "name": "Ganga",
                                    "IncreasedSalary": "52800.275"
                                },
                                {
                                    "id": "16",
                                    "name": "Arjun",
                                    "IncreasedSalary": "NULL"
                                }
                            ]
                        },
                        "text/html": "<table><tr><th>id</th><th>name</th><th>IncreasedSalary</th></tr><tr><td>11</td><td>Ramulu</td><td>195800.275</td></tr><tr><td>12</td><td>Bala</td><td>178200.000</td></tr><tr><td>7</td><td>Bunny</td><td>93500.550</td></tr><tr><td>9</td><td>Abhiram</td><td>85800.275</td></tr><tr><td>5</td><td>Nikhil</td><td>79200.000</td></tr><tr><td>3</td><td>Laxman</td><td>77000.825</td></tr><tr><td>10</td><td>Tikram</td><td>68200.000</td></tr><tr><td>1</td><td>Rajesh</td><td>66000.000</td></tr><tr><td>6</td><td>Sarita</td><td>63800.825</td></tr><tr><td>8</td><td>Namrata</td><td>55000.550</td></tr><tr><td>4</td><td>Ganga</td><td>52800.275</td></tr><tr><td>16</td><td>Arjun</td><td>NULL</td></tr></table>"
                    },
                    "metadata": {}
                }
            ],
            "execution_count": 8
        },
        {
            "cell_type": "code",
            "source": [
                "-- ORDER BY with COlumn aliases\n",
                "\n",
                "SELECT id, name, salary * 1.1 AS IncreasedSalary\n",
                "FROM Emp\n",
                "ORDER BY IncreasedSalary DESC;\n",
                ""
            ],
            "metadata": {
                "language": "sql",
                "azdata_cell_guid": "8473fdff-73a4-4605-bd71-108b40f564ca"
            },
            "outputs": [
                {
                    "output_type": "display_data",
                    "data": {
                        "text/html": "(12 rows affected)"
                    },
                    "metadata": {}
                },
                {
                    "output_type": "display_data",
                    "data": {
                        "text/html": "Total execution time: 00:00:00.004"
                    },
                    "metadata": {}
                },
                {
                    "output_type": "execute_result",
                    "execution_count": 9,
                    "data": {
                        "application/vnd.dataresource+json": {
                            "schema": {
                                "fields": [
                                    {
                                        "name": "id"
                                    },
                                    {
                                        "name": "name"
                                    },
                                    {
                                        "name": "IncreasedSalary"
                                    }
                                ]
                            },
                            "data": [
                                {
                                    "id": "11",
                                    "name": "Ramulu",
                                    "IncreasedSalary": "195800.275"
                                },
                                {
                                    "id": "12",
                                    "name": "Bala",
                                    "IncreasedSalary": "178200.000"
                                },
                                {
                                    "id": "7",
                                    "name": "Bunny",
                                    "IncreasedSalary": "93500.550"
                                },
                                {
                                    "id": "9",
                                    "name": "Abhiram",
                                    "IncreasedSalary": "85800.275"
                                },
                                {
                                    "id": "5",
                                    "name": "Nikhil",
                                    "IncreasedSalary": "79200.000"
                                },
                                {
                                    "id": "3",
                                    "name": "Laxman",
                                    "IncreasedSalary": "77000.825"
                                },
                                {
                                    "id": "10",
                                    "name": "Tikram",
                                    "IncreasedSalary": "68200.000"
                                },
                                {
                                    "id": "1",
                                    "name": "Rajesh",
                                    "IncreasedSalary": "66000.000"
                                },
                                {
                                    "id": "6",
                                    "name": "Sarita",
                                    "IncreasedSalary": "63800.825"
                                },
                                {
                                    "id": "8",
                                    "name": "Namrata",
                                    "IncreasedSalary": "55000.550"
                                },
                                {
                                    "id": "4",
                                    "name": "Ganga",
                                    "IncreasedSalary": "52800.275"
                                },
                                {
                                    "id": "16",
                                    "name": "Arjun",
                                    "IncreasedSalary": "NULL"
                                }
                            ]
                        },
                        "text/html": "<table><tr><th>id</th><th>name</th><th>IncreasedSalary</th></tr><tr><td>11</td><td>Ramulu</td><td>195800.275</td></tr><tr><td>12</td><td>Bala</td><td>178200.000</td></tr><tr><td>7</td><td>Bunny</td><td>93500.550</td></tr><tr><td>9</td><td>Abhiram</td><td>85800.275</td></tr><tr><td>5</td><td>Nikhil</td><td>79200.000</td></tr><tr><td>3</td><td>Laxman</td><td>77000.825</td></tr><tr><td>10</td><td>Tikram</td><td>68200.000</td></tr><tr><td>1</td><td>Rajesh</td><td>66000.000</td></tr><tr><td>6</td><td>Sarita</td><td>63800.825</td></tr><tr><td>8</td><td>Namrata</td><td>55000.550</td></tr><tr><td>4</td><td>Ganga</td><td>52800.275</td></tr><tr><td>16</td><td>Arjun</td><td>NULL</td></tr></table>"
                    },
                    "metadata": {}
                }
            ],
            "execution_count": 9
        },
        {
            "cell_type": "markdown",
            "source": [
                "### **2\\. Multiple Columns:**\n",
                "\n",
                "- You can order by multiple columns by specifying them in a comma-separated list. The sorting is done in the order specified."
            ],
            "metadata": {
                "language": "sql",
                "azdata_cell_guid": "99baec28-f938-4202-bcf5-4d87abc85f10"
            },
            "attachments": {}
        },
        {
            "cell_type": "code",
            "source": [
                "SELECT id, name, department, salary\n",
                "FROM Emp\n",
                "ORDER BY department ASC, salary DESC;\n",
                ""
            ],
            "metadata": {
                "language": "sql",
                "azdata_cell_guid": "7d721942-63be-4cf7-9413-eb3290b02805"
            },
            "outputs": [
                {
                    "output_type": "display_data",
                    "data": {
                        "text/html": "(12 rows affected)"
                    },
                    "metadata": {}
                },
                {
                    "output_type": "display_data",
                    "data": {
                        "text/html": "Total execution time: 00:00:00.005"
                    },
                    "metadata": {}
                },
                {
                    "output_type": "execute_result",
                    "execution_count": 10,
                    "data": {
                        "application/vnd.dataresource+json": {
                            "schema": {
                                "fields": [
                                    {
                                        "name": "id"
                                    },
                                    {
                                        "name": "name"
                                    },
                                    {
                                        "name": "department"
                                    },
                                    {
                                        "name": "salary"
                                    }
                                ]
                            },
                            "data": [
                                {
                                    "id": "16",
                                    "name": "Arjun",
                                    "department": "NULL",
                                    "salary": "NULL"
                                },
                                {
                                    "id": "12",
                                    "name": "Bala",
                                    "department": "Finance",
                                    "salary": "162000.00"
                                },
                                {
                                    "id": "7",
                                    "name": "Bunny",
                                    "department": "Finance",
                                    "salary": "85000.50"
                                },
                                {
                                    "id": "3",
                                    "name": "Laxman",
                                    "department": "Finance",
                                    "salary": "70000.75"
                                },
                                {
                                    "id": "10",
                                    "name": "Tikram",
                                    "department": "Finance",
                                    "salary": "62000.00"
                                },
                                {
                                    "id": "6",
                                    "name": "Sarita",
                                    "department": "HR",
                                    "salary": "58000.75"
                                },
                                {
                                    "id": "11",
                                    "name": "Ramulu",
                                    "department": "IT",
                                    "salary": "178000.25"
                                },
                                {
                                    "id": "9",
                                    "name": "Abhiram",
                                    "department": "IT",
                                    "salary": "78000.25"
                                },
                                {
                                    "id": "5",
                                    "name": "Nikhil",
                                    "department": "IT",
                                    "salary": "72000.00"
                                },
                                {
                                    "id": "1",
                                    "name": "Rajesh",
                                    "department": "IT",
                                    "salary": "60000.00"
                                },
                                {
                                    "id": "8",
                                    "name": "Namrata",
                                    "department": "Marketing",
                                    "salary": "50000.50"
                                },
                                {
                                    "id": "4",
                                    "name": "Ganga",
                                    "department": "Marketing",
                                    "salary": "48000.25"
                                }
                            ]
                        },
                        "text/html": "<table><tr><th>id</th><th>name</th><th>department</th><th>salary</th></tr><tr><td>16</td><td>Arjun</td><td>NULL</td><td>NULL</td></tr><tr><td>12</td><td>Bala</td><td>Finance</td><td>162000.00</td></tr><tr><td>7</td><td>Bunny</td><td>Finance</td><td>85000.50</td></tr><tr><td>3</td><td>Laxman</td><td>Finance</td><td>70000.75</td></tr><tr><td>10</td><td>Tikram</td><td>Finance</td><td>62000.00</td></tr><tr><td>6</td><td>Sarita</td><td>HR</td><td>58000.75</td></tr><tr><td>11</td><td>Ramulu</td><td>IT</td><td>178000.25</td></tr><tr><td>9</td><td>Abhiram</td><td>IT</td><td>78000.25</td></tr><tr><td>5</td><td>Nikhil</td><td>IT</td><td>72000.00</td></tr><tr><td>1</td><td>Rajesh</td><td>IT</td><td>60000.00</td></tr><tr><td>8</td><td>Namrata</td><td>Marketing</td><td>50000.50</td></tr><tr><td>4</td><td>Ganga</td><td>Marketing</td><td>48000.25</td></tr></table>"
                    },
                    "metadata": {}
                }
            ],
            "execution_count": 10
        },
        {
            "cell_type": "markdown",
            "source": [
                "### **3\\. Sorting with NULLs:**\n",
                "\n",
                "- By default, NULL values are sorted as the highest values in ascending order and the lowest values in descending order. You can use the CASE statement  to control whether NULLs appear at the beginning or end of the result set."
            ],
            "metadata": {
                "language": "sql",
                "azdata_cell_guid": "6116691a-07a2-4205-ab9a-713dbc4ad29b"
            },
            "attachments": {}
        },
        {
            "cell_type": "code",
            "source": [
                "-- Order employees by salary in descending order, treating NULLs as the highest values\n",
                "SELECT id, name, salary\n",
                "FROM Emp\n",
                "ORDER BY CASE WHEN salary IS NULL THEN 1 ELSE 0 END, salary DESC;\n",
                "\n",
                "-- In this query, the `CASE` statement is used to control the sorting of NULL values. \n",
                "-- The result is equivalent to treating NULLs as the highest values."
            ],
            "metadata": {
                "language": "sql",
                "azdata_cell_guid": "33cab341-5732-4246-9f89-08c4c3e0836c"
            },
            "outputs": [
                {
                    "output_type": "display_data",
                    "data": {
                        "text/html": "(12 rows affected)"
                    },
                    "metadata": {}
                },
                {
                    "output_type": "display_data",
                    "data": {
                        "text/html": "Total execution time: 00:00:00.005"
                    },
                    "metadata": {}
                },
                {
                    "output_type": "execute_result",
                    "execution_count": 11,
                    "data": {
                        "application/vnd.dataresource+json": {
                            "schema": {
                                "fields": [
                                    {
                                        "name": "id"
                                    },
                                    {
                                        "name": "name"
                                    },
                                    {
                                        "name": "salary"
                                    }
                                ]
                            },
                            "data": [
                                {
                                    "id": "11",
                                    "name": "Ramulu",
                                    "salary": "178000.25"
                                },
                                {
                                    "id": "12",
                                    "name": "Bala",
                                    "salary": "162000.00"
                                },
                                {
                                    "id": "7",
                                    "name": "Bunny",
                                    "salary": "85000.50"
                                },
                                {
                                    "id": "9",
                                    "name": "Abhiram",
                                    "salary": "78000.25"
                                },
                                {
                                    "id": "5",
                                    "name": "Nikhil",
                                    "salary": "72000.00"
                                },
                                {
                                    "id": "3",
                                    "name": "Laxman",
                                    "salary": "70000.75"
                                },
                                {
                                    "id": "10",
                                    "name": "Tikram",
                                    "salary": "62000.00"
                                },
                                {
                                    "id": "1",
                                    "name": "Rajesh",
                                    "salary": "60000.00"
                                },
                                {
                                    "id": "6",
                                    "name": "Sarita",
                                    "salary": "58000.75"
                                },
                                {
                                    "id": "8",
                                    "name": "Namrata",
                                    "salary": "50000.50"
                                },
                                {
                                    "id": "4",
                                    "name": "Ganga",
                                    "salary": "48000.25"
                                },
                                {
                                    "id": "16",
                                    "name": "Arjun",
                                    "salary": "NULL"
                                }
                            ]
                        },
                        "text/html": "<table><tr><th>id</th><th>name</th><th>salary</th></tr><tr><td>11</td><td>Ramulu</td><td>178000.25</td></tr><tr><td>12</td><td>Bala</td><td>162000.00</td></tr><tr><td>7</td><td>Bunny</td><td>85000.50</td></tr><tr><td>9</td><td>Abhiram</td><td>78000.25</td></tr><tr><td>5</td><td>Nikhil</td><td>72000.00</td></tr><tr><td>3</td><td>Laxman</td><td>70000.75</td></tr><tr><td>10</td><td>Tikram</td><td>62000.00</td></tr><tr><td>1</td><td>Rajesh</td><td>60000.00</td></tr><tr><td>6</td><td>Sarita</td><td>58000.75</td></tr><tr><td>8</td><td>Namrata</td><td>50000.50</td></tr><tr><td>4</td><td>Ganga</td><td>48000.25</td></tr><tr><td>16</td><td>Arjun</td><td>NULL</td></tr></table>"
                    },
                    "metadata": {}
                }
            ],
            "execution_count": 11
        },
        {
            "cell_type": "markdown",
            "source": [
                "### **Understanding the above query**\n",
                "\n",
                "1\\. **CASE Statement:**\n",
                "\n",
                "- The \\`CASE\\` statement is used to create a conditional expression. In this case, it evaluates whether the \"salary\" column is NULL. If a salary is NULL, it assigns a value of 1; otherwise, it assigns a value of 0.\n",
                "    \n",
                "- CASE WHEN salary IS NULL THEN 1 ELSE 0 END\n",
                "    \n",
                "- So, for each row in the result set, this part of the \\`ORDER BY\\` clause will generate either 1 or 0 based on the condition.\n",
                "    \n",
                "\n",
                "2\\. **salary DESC:**\n",
                "\n",
                "- The second part of the \\`ORDER BY\\` clause specifies the sorting based on the \"salary\" column in descending order (\\`DESC\\`). This means that non-NULL salaries will be sorted from highest to lowest.\n",
                "    \n",
                "-  If the \"salary\" is NULL for a particular row, the preceding \\`CASE\\` expression will determine whether it should be treated as the highest (1) or lowest (0) value for sorting purposes.\n",
                "    \n",
                "- So, the combination of the \\`CASE\\` statement and the \\`salary DESC\\` part in the \\`ORDER BY\\` clause achieves the following sorting logic:\n",
                "    \n",
                "    - Rows with NULL salary values will be placed at the end of the result set because they get a value of 1 from the \\`CASE\\` statement (1 is treated as a higher value).\n",
                "        \n",
                "    - Non-NULL salary values will be sorted in descending order (from highest to lowest).\n",
                "        \n",
                "\n",
                "<span style=\"font-size: 13px;\">3.&nbsp;</span>  <span style=\"color: rgb(0, 0, 0); font-family: &quot;Helvetica Neue&quot;; font-size: 13px;\">In summary, this query sorts the result set in a way that places rows with NULL salaries at the end, and among non-NULL salaries, it sorts them from highest to lowest.</span>\n",
                "\n",
                "<span style=\"color: rgb(0, 0, 0); font-family: &quot;Helvetica Neue&quot;; font-size: 13px;\">4.&nbsp;</span> <span style=\"color: rgb(0, 0, 0); font-family: &quot;Helvetica Neue&quot;; font-size: 13px;\">The key is to understand that the </span> **CASE** <span style=\"color: rgb(0, 0, 0); font-family: &quot;Helvetica Neue&quot;; font-size: 13px;\"> statement is used to create a sorting criterion, and the </span> **ORDER BY** <span style=\"color: rgb(0, 0, 0); font-family: &quot;Helvetica Neue&quot;; font-size: 13px;\"> clause then uses this criterion for sorting the result set.</span>"
            ],
            "metadata": {
                "azdata_cell_guid": "b159aff6-0536-4d9a-870a-090920541694"
            },
            "attachments": {}
        },
        {
            "cell_type": "code",
            "source": [
                "SELECT id, name, salary\n",
                "FROM Emp\n",
                "ORDER BY CASE WHEN salary IS NULL THEN 0 ELSE 1 END, salary DESC;"
            ],
            "metadata": {
                "language": "sql",
                "azdata_cell_guid": "47f29a81-c3cf-441d-af15-373f7b3d4e05"
            },
            "outputs": [
                {
                    "output_type": "display_data",
                    "data": {
                        "text/html": "(12 rows affected)"
                    },
                    "metadata": {}
                },
                {
                    "output_type": "display_data",
                    "data": {
                        "text/html": "Total execution time: 00:00:00.025"
                    },
                    "metadata": {}
                },
                {
                    "output_type": "execute_result",
                    "execution_count": 12,
                    "data": {
                        "application/vnd.dataresource+json": {
                            "schema": {
                                "fields": [
                                    {
                                        "name": "id"
                                    },
                                    {
                                        "name": "name"
                                    },
                                    {
                                        "name": "salary"
                                    }
                                ]
                            },
                            "data": [
                                {
                                    "id": "16",
                                    "name": "Arjun",
                                    "salary": "NULL"
                                },
                                {
                                    "id": "11",
                                    "name": "Ramulu",
                                    "salary": "178000.25"
                                },
                                {
                                    "id": "12",
                                    "name": "Bala",
                                    "salary": "162000.00"
                                },
                                {
                                    "id": "7",
                                    "name": "Bunny",
                                    "salary": "85000.50"
                                },
                                {
                                    "id": "9",
                                    "name": "Abhiram",
                                    "salary": "78000.25"
                                },
                                {
                                    "id": "5",
                                    "name": "Nikhil",
                                    "salary": "72000.00"
                                },
                                {
                                    "id": "3",
                                    "name": "Laxman",
                                    "salary": "70000.75"
                                },
                                {
                                    "id": "10",
                                    "name": "Tikram",
                                    "salary": "62000.00"
                                },
                                {
                                    "id": "1",
                                    "name": "Rajesh",
                                    "salary": "60000.00"
                                },
                                {
                                    "id": "6",
                                    "name": "Sarita",
                                    "salary": "58000.75"
                                },
                                {
                                    "id": "8",
                                    "name": "Namrata",
                                    "salary": "50000.50"
                                },
                                {
                                    "id": "4",
                                    "name": "Ganga",
                                    "salary": "48000.25"
                                }
                            ]
                        },
                        "text/html": "<table><tr><th>id</th><th>name</th><th>salary</th></tr><tr><td>16</td><td>Arjun</td><td>NULL</td></tr><tr><td>11</td><td>Ramulu</td><td>178000.25</td></tr><tr><td>12</td><td>Bala</td><td>162000.00</td></tr><tr><td>7</td><td>Bunny</td><td>85000.50</td></tr><tr><td>9</td><td>Abhiram</td><td>78000.25</td></tr><tr><td>5</td><td>Nikhil</td><td>72000.00</td></tr><tr><td>3</td><td>Laxman</td><td>70000.75</td></tr><tr><td>10</td><td>Tikram</td><td>62000.00</td></tr><tr><td>1</td><td>Rajesh</td><td>60000.00</td></tr><tr><td>6</td><td>Sarita</td><td>58000.75</td></tr><tr><td>8</td><td>Namrata</td><td>50000.50</td></tr><tr><td>4</td><td>Ganga</td><td>48000.25</td></tr></table>"
                    },
                    "metadata": {}
                }
            ],
            "execution_count": 12
        },
        {
            "cell_type": "markdown",
            "source": [
                "### **4\\. Sorting by Expression:**\n",
                "\n",
                "- You can sort by an expression rather than a column name. The expression can involve arithmetic operations, functions, or combinations of columns."
            ],
            "metadata": {
                "language": "sql",
                "azdata_cell_guid": "94c2a10f-bb6f-4c96-88d4-aafec01d8fdc"
            },
            "attachments": {}
        },
        {
            "cell_type": "code",
            "source": [
                "SELECT id, name, age\n",
                "FROM Emp\n",
                "ORDER BY CASE WHEN age < 30 THEN 1 ELSE 0 END, age DESC;\n",
                ""
            ],
            "metadata": {
                "language": "sql",
                "azdata_cell_guid": "d4160f54-b618-4f41-a8b9-35b24d9d01aa"
            },
            "outputs": [
                {
                    "output_type": "display_data",
                    "data": {
                        "text/html": "(12 rows affected)"
                    },
                    "metadata": {}
                },
                {
                    "output_type": "display_data",
                    "data": {
                        "text/html": "Total execution time: 00:00:00.050"
                    },
                    "metadata": {}
                },
                {
                    "output_type": "execute_result",
                    "execution_count": 13,
                    "data": {
                        "application/vnd.dataresource+json": {
                            "schema": {
                                "fields": [
                                    {
                                        "name": "id"
                                    },
                                    {
                                        "name": "name"
                                    },
                                    {
                                        "name": "age"
                                    }
                                ]
                            },
                            "data": [
                                {
                                    "id": "11",
                                    "name": "Ramulu",
                                    "age": "58"
                                },
                                {
                                    "id": "12",
                                    "name": "Bala",
                                    "age": "51"
                                },
                                {
                                    "id": "7",
                                    "name": "Bunny",
                                    "age": "40"
                                },
                                {
                                    "id": "9",
                                    "name": "Abhiram",
                                    "age": "38"
                                },
                                {
                                    "id": "3",
                                    "name": "Laxman",
                                    "age": "35"
                                },
                                {
                                    "id": "5",
                                    "name": "Nikhil",
                                    "age": "32"
                                },
                                {
                                    "id": "10",
                                    "name": "Tikram",
                                    "age": "31"
                                },
                                {
                                    "id": "16",
                                    "name": "Arjun",
                                    "age": "31"
                                },
                                {
                                    "id": "1",
                                    "name": "Rajesh",
                                    "age": "30"
                                },
                                {
                                    "id": "6",
                                    "name": "Sarita",
                                    "age": "29"
                                },
                                {
                                    "id": "4",
                                    "name": "Ganga",
                                    "age": "28"
                                },
                                {
                                    "id": "8",
                                    "name": "Namrata",
                                    "age": "26"
                                }
                            ]
                        },
                        "text/html": "<table><tr><th>id</th><th>name</th><th>age</th></tr><tr><td>11</td><td>Ramulu</td><td>58</td></tr><tr><td>12</td><td>Bala</td><td>51</td></tr><tr><td>7</td><td>Bunny</td><td>40</td></tr><tr><td>9</td><td>Abhiram</td><td>38</td></tr><tr><td>3</td><td>Laxman</td><td>35</td></tr><tr><td>5</td><td>Nikhil</td><td>32</td></tr><tr><td>10</td><td>Tikram</td><td>31</td></tr><tr><td>16</td><td>Arjun</td><td>31</td></tr><tr><td>1</td><td>Rajesh</td><td>30</td></tr><tr><td>6</td><td>Sarita</td><td>29</td></tr><tr><td>4</td><td>Ganga</td><td>28</td></tr><tr><td>8</td><td>Namrata</td><td>26</td></tr></table>"
                    },
                    "metadata": {}
                }
            ],
            "execution_count": 13
        },
        {
            "cell_type": "code",
            "source": [
                "SELECT id, name, age\n",
                "FROM Emp\n",
                "ORDER BY LEN(name), age DESC;\n",
                ""
            ],
            "metadata": {
                "language": "sql",
                "azdata_cell_guid": "c5d1db7c-71da-4dee-b2f2-1e6f8763312a"
            },
            "outputs": [
                {
                    "output_type": "display_data",
                    "data": {
                        "text/html": "(12 rows affected)"
                    },
                    "metadata": {}
                },
                {
                    "output_type": "display_data",
                    "data": {
                        "text/html": "Total execution time: 00:00:00.005"
                    },
                    "metadata": {}
                },
                {
                    "output_type": "execute_result",
                    "execution_count": 14,
                    "data": {
                        "application/vnd.dataresource+json": {
                            "schema": {
                                "fields": [
                                    {
                                        "name": "id"
                                    },
                                    {
                                        "name": "name"
                                    },
                                    {
                                        "name": "age"
                                    }
                                ]
                            },
                            "data": [
                                {
                                    "id": "12",
                                    "name": "Bala",
                                    "age": "51"
                                },
                                {
                                    "id": "7",
                                    "name": "Bunny",
                                    "age": "40"
                                },
                                {
                                    "id": "16",
                                    "name": "Arjun",
                                    "age": "31"
                                },
                                {
                                    "id": "4",
                                    "name": "Ganga",
                                    "age": "28"
                                },
                                {
                                    "id": "11",
                                    "name": "Ramulu",
                                    "age": "58"
                                },
                                {
                                    "id": "3",
                                    "name": "Laxman",
                                    "age": "35"
                                },
                                {
                                    "id": "5",
                                    "name": "Nikhil",
                                    "age": "32"
                                },
                                {
                                    "id": "10",
                                    "name": "Tikram",
                                    "age": "31"
                                },
                                {
                                    "id": "1",
                                    "name": "Rajesh",
                                    "age": "30"
                                },
                                {
                                    "id": "6",
                                    "name": "Sarita",
                                    "age": "29"
                                },
                                {
                                    "id": "9",
                                    "name": "Abhiram",
                                    "age": "38"
                                },
                                {
                                    "id": "8",
                                    "name": "Namrata",
                                    "age": "26"
                                }
                            ]
                        },
                        "text/html": "<table><tr><th>id</th><th>name</th><th>age</th></tr><tr><td>12</td><td>Bala</td><td>51</td></tr><tr><td>7</td><td>Bunny</td><td>40</td></tr><tr><td>16</td><td>Arjun</td><td>31</td></tr><tr><td>4</td><td>Ganga</td><td>28</td></tr><tr><td>11</td><td>Ramulu</td><td>58</td></tr><tr><td>3</td><td>Laxman</td><td>35</td></tr><tr><td>5</td><td>Nikhil</td><td>32</td></tr><tr><td>10</td><td>Tikram</td><td>31</td></tr><tr><td>1</td><td>Rajesh</td><td>30</td></tr><tr><td>6</td><td>Sarita</td><td>29</td></tr><tr><td>9</td><td>Abhiram</td><td>38</td></tr><tr><td>8</td><td>Namrata</td><td>26</td></tr></table>"
                    },
                    "metadata": {}
                }
            ],
            "execution_count": 14
        },
        {
            "cell_type": "markdown",
            "source": [
                "### **5\\. Limiting the Result Set:**\n",
                "\n",
                "- You can use the TOP clauses in conjunction with \\`ORDER BY\\` to limit the number of rows returned after sorting."
            ],
            "metadata": {
                "language": "sql",
                "azdata_cell_guid": "a1f0fa2e-30e5-47c0-bd25-85072c8344eb"
            },
            "attachments": {}
        },
        {
            "cell_type": "code",
            "source": [
                "-- Order employees by salary in descending order and limit to 5 rows\n",
                "SELECT TOP 5 id, name, salary\n",
                "FROM Emp\n",
                "ORDER BY salary DESC;\n",
                ""
            ],
            "metadata": {
                "language": "sql",
                "azdata_cell_guid": "3b652069-089c-43aa-b0c1-b429c3c15a4b"
            },
            "outputs": [
                {
                    "output_type": "display_data",
                    "data": {
                        "text/html": "(5 rows affected)"
                    },
                    "metadata": {}
                },
                {
                    "output_type": "display_data",
                    "data": {
                        "text/html": "Total execution time: 00:00:00.023"
                    },
                    "metadata": {}
                },
                {
                    "output_type": "execute_result",
                    "execution_count": 15,
                    "data": {
                        "application/vnd.dataresource+json": {
                            "schema": {
                                "fields": [
                                    {
                                        "name": "id"
                                    },
                                    {
                                        "name": "name"
                                    },
                                    {
                                        "name": "salary"
                                    }
                                ]
                            },
                            "data": [
                                {
                                    "id": "11",
                                    "name": "Ramulu",
                                    "salary": "178000.25"
                                },
                                {
                                    "id": "12",
                                    "name": "Bala",
                                    "salary": "162000.00"
                                },
                                {
                                    "id": "7",
                                    "name": "Bunny",
                                    "salary": "85000.50"
                                },
                                {
                                    "id": "9",
                                    "name": "Abhiram",
                                    "salary": "78000.25"
                                },
                                {
                                    "id": "5",
                                    "name": "Nikhil",
                                    "salary": "72000.00"
                                }
                            ]
                        },
                        "text/html": "<table><tr><th>id</th><th>name</th><th>salary</th></tr><tr><td>11</td><td>Ramulu</td><td>178000.25</td></tr><tr><td>12</td><td>Bala</td><td>162000.00</td></tr><tr><td>7</td><td>Bunny</td><td>85000.50</td></tr><tr><td>9</td><td>Abhiram</td><td>78000.25</td></tr><tr><td>5</td><td>Nikhil</td><td>72000.00</td></tr></table>"
                    },
                    "metadata": {}
                }
            ],
            "execution_count": 15
        }
    ]
}