{
    "metadata": {
        "kernelspec": {
            "name": "SQL",
            "display_name": "SQL",
            "language": "sql"
        },
        "language_info": {
            "name": "sql",
            "version": ""
        }
    },
    "nbformat_minor": 2,
    "nbformat": 4,
    "cells": [
        {
            "cell_type": "markdown",
            "source": [
                "# **Data Science Learners Hub**\n",
                "\n",
                "**Module : SQL**\n",
                "\n",
                "**Topic :** <span style=\"color: var(--vscode-foreground); font-family: -apple-system, BlinkMacSystemFont, sans-serif; font-weight: 600;\">Math Functions</span>\n",
                "\n",
                "**email** : [luckyrathod.forum@gmail.com](mailto:luckyrathod.forum@gmail.com)"
            ],
            "metadata": {
                "azdata_cell_guid": "c0167970-cec0-43a1-bd52-23a6f2aa1d61"
            },
            "attachments": {}
        },
        {
            "cell_type": "markdown",
            "source": [
                "### **What are Math Functions in SQL?**\n",
                "\n",
                "  \n",
                "\n",
                "- Math functions in SQL are operations or functions that perform mathematical calculations on numeric data types. These functions allow you to perform various mathematical operations, such as addition, subtraction, multiplication, division, rounding, and more, on numeric values stored in the database."
            ],
            "metadata": {
                "azdata_cell_guid": "c74abec1-eff6-4b6c-b78c-9feef920be41"
            },
            "attachments": {}
        },
        {
            "cell_type": "code",
            "source": [
                "USE DataScienceLearnersHub"
            ],
            "metadata": {
                "azdata_cell_guid": "58b5dde9-8e61-44cb-9819-d92ed908ccf6",
                "language": "sql"
            },
            "outputs": [
                {
                    "output_type": "display_data",
                    "data": {
                        "text/html": "Commands completed successfully."
                    },
                    "metadata": {}
                },
                {
                    "output_type": "display_data",
                    "data": {
                        "text/html": "Total execution time: 00:00:00.003"
                    },
                    "metadata": {}
                }
            ],
            "execution_count": 3
        },
        {
            "cell_type": "code",
            "source": [
                "SELECT * FROM employeeDetails"
            ],
            "metadata": {
                "language": "sql",
                "azdata_cell_guid": "573fb8a0-a800-49e6-b9b2-3216b5d4bde0"
            },
            "outputs": [
                {
                    "output_type": "display_data",
                    "data": {
                        "text/html": "(18 rows affected)"
                    },
                    "metadata": {}
                },
                {
                    "output_type": "display_data",
                    "data": {
                        "text/html": "Total execution time: 00:00:00.007"
                    },
                    "metadata": {}
                },
                {
                    "output_type": "execute_result",
                    "execution_count": 4,
                    "data": {
                        "application/vnd.dataresource+json": {
                            "schema": {
                                "fields": [
                                    {
                                        "name": "id"
                                    },
                                    {
                                        "name": "name"
                                    },
                                    {
                                        "name": "gender"
                                    },
                                    {
                                        "name": "salary"
                                    },
                                    {
                                        "name": "department"
                                    },
                                    {
                                        "name": "FullName"
                                    },
                                    {
                                        "name": "MonthlySalary"
                                    },
                                    {
                                        "name": "EmailAddress"
                                    },
                                    {
                                        "name": "age"
                                    }
                                ]
                            },
                            "data": [
                                {
                                    "id": "1",
                                    "name": "Laxman",
                                    "gender": "Male",
                                    "salary": "5000",
                                    "department": "Sales",
                                    "FullName": "Laxman Sales",
                                    "MonthlySalary": "416",
                                    "EmailAddress": "Laxman_1@company.com",
                                    "age": "27"
                                },
                                {
                                    "id": "2",
                                    "name": "Padma",
                                    "gender": "Female",
                                    "salary": "6000",
                                    "department": "Finance",
                                    "FullName": "Padma Finance",
                                    "MonthlySalary": "500",
                                    "EmailAddress": "Padma_2@company.com",
                                    "age": "33"
                                },
                                {
                                    "id": "3",
                                    "name": "Naina",
                                    "gender": "Female",
                                    "salary": "7500",
                                    "department": "IT",
                                    "FullName": "Naina IT",
                                    "MonthlySalary": "625",
                                    "EmailAddress": "Naina_3@company.com",
                                    "age": "41"
                                },
                                {
                                    "id": "4",
                                    "name": "Ramulu",
                                    "gender": "Male",
                                    "salary": "6500",
                                    "department": "HR",
                                    "FullName": "Ramulu HR",
                                    "MonthlySalary": "541",
                                    "EmailAddress": "Ramulu_4@company.com",
                                    "age": "36"
                                },
                                {
                                    "id": "5",
                                    "name": "Harshita",
                                    "gender": "Female",
                                    "salary": "5500",
                                    "department": "Marketing",
                                    "FullName": "Harshita Marketing",
                                    "MonthlySalary": "458",
                                    "EmailAddress": "Harshita_5@company.com",
                                    "age": "30"
                                },
                                {
                                    "id": "6",
                                    "name": "Rajesh",
                                    "gender": "Male",
                                    "salary": "8000",
                                    "department": "Sales",
                                    "FullName": "Rajesh Sales",
                                    "MonthlySalary": "666",
                                    "EmailAddress": "Rajesh_6@company.com",
                                    "age": "44"
                                },
                                {
                                    "id": "7",
                                    "name": "Tikram",
                                    "gender": "Male",
                                    "salary": "7200",
                                    "department": "Finance",
                                    "FullName": "Tikram Finance",
                                    "MonthlySalary": "600",
                                    "EmailAddress": "Tikram_7@company.com",
                                    "age": "40"
                                },
                                {
                                    "id": "8",
                                    "name": "Ganga",
                                    "gender": "Female",
                                    "salary": "6600",
                                    "department": "IT",
                                    "FullName": "Ganga IT",
                                    "MonthlySalary": "550",
                                    "EmailAddress": "Ganga_8@company.com",
                                    "age": "36"
                                },
                                {
                                    "id": "9",
                                    "name": "Jamuna",
                                    "gender": "Female",
                                    "salary": "5400",
                                    "department": "HR",
                                    "FullName": "Jamuna HR",
                                    "MonthlySalary": "450",
                                    "EmailAddress": "Jamuna_9@company.com",
                                    "age": "30"
                                },
                                {
                                    "id": "10",
                                    "name": "Namrata",
                                    "gender": "Female",
                                    "salary": "6300",
                                    "department": "Marketing",
                                    "FullName": "Namrata Marketing",
                                    "MonthlySalary": "525",
                                    "EmailAddress": "Namrata_10@company.com",
                                    "age": "35"
                                },
                                {
                                    "id": "11",
                                    "name": "Bunny",
                                    "gender": "Male",
                                    "salary": "5700",
                                    "department": "Sales",
                                    "FullName": "Bunny Sales",
                                    "MonthlySalary": "475",
                                    "EmailAddress": "Bunny_11@company.com",
                                    "age": "31"
                                },
                                {
                                    "id": "12",
                                    "name": "Abhiram",
                                    "gender": "Male",
                                    "salary": "7000",
                                    "department": "Finance",
                                    "FullName": "Abhiram Finance",
                                    "MonthlySalary": "583",
                                    "EmailAddress": "Abhiram_12@company.com",
                                    "age": "38"
                                },
                                {
                                    "id": "13",
                                    "name": "Varsha",
                                    "gender": "Female",
                                    "salary": "7100",
                                    "department": "IT",
                                    "FullName": "Varsha IT",
                                    "MonthlySalary": "591",
                                    "EmailAddress": "Varsha_13@company.com",
                                    "age": "39"
                                },
                                {
                                    "id": "14",
                                    "name": "Ananya",
                                    "gender": "Female",
                                    "salary": "6800",
                                    "department": "HR",
                                    "FullName": "Ananya HR",
                                    "MonthlySalary": "566",
                                    "EmailAddress": "Ananya_14@company.com",
                                    "age": "37"
                                },
                                {
                                    "id": "15",
                                    "name": "Nikhil",
                                    "gender": "Male",
                                    "salary": "5000",
                                    "department": "Marketing",
                                    "FullName": "Nikhil Marketing",
                                    "MonthlySalary": "416",
                                    "EmailAddress": "Nikhil_15@company.com",
                                    "age": "27"
                                },
                                {
                                    "id": "16",
                                    "name": "Bala",
                                    "gender": "Female",
                                    "salary": "5800",
                                    "department": "HR",
                                    "FullName": "Bala HR",
                                    "MonthlySalary": "483",
                                    "EmailAddress": "Bala_16@company.com",
                                    "age": "32"
                                },
                                {
                                    "id": "17",
                                    "name": "Lax%man",
                                    "gender": "Male",
                                    "salary": "5000",
                                    "department": "Sales",
                                    "FullName": "Lax%man Sales",
                                    "MonthlySalary": "416",
                                    "EmailAddress": "Lax%man_17@company.com",
                                    "age": "27"
                                },
                                {
                                    "id": "18",
                                    "name": "Lucky143",
                                    "gender": "Male",
                                    "salary": "20000",
                                    "department": "IT",
                                    "FullName": "Lucky143 IT",
                                    "MonthlySalary": "1666",
                                    "EmailAddress": "Lucky143_18@company.com",
                                    "age": "111"
                                }
                            ]
                        },
                        "text/html": "<table><tr><th>id</th><th>name</th><th>gender</th><th>salary</th><th>department</th><th>FullName</th><th>MonthlySalary</th><th>EmailAddress</th><th>age</th></tr><tr><td>1</td><td>Laxman</td><td>Male</td><td>5000</td><td>Sales</td><td>Laxman Sales</td><td>416</td><td>Laxman_1@company.com</td><td>27</td></tr><tr><td>2</td><td>Padma</td><td>Female</td><td>6000</td><td>Finance</td><td>Padma Finance</td><td>500</td><td>Padma_2@company.com</td><td>33</td></tr><tr><td>3</td><td>Naina</td><td>Female</td><td>7500</td><td>IT</td><td>Naina IT</td><td>625</td><td>Naina_3@company.com</td><td>41</td></tr><tr><td>4</td><td>Ramulu</td><td>Male</td><td>6500</td><td>HR</td><td>Ramulu HR</td><td>541</td><td>Ramulu_4@company.com</td><td>36</td></tr><tr><td>5</td><td>Harshita</td><td>Female</td><td>5500</td><td>Marketing</td><td>Harshita Marketing</td><td>458</td><td>Harshita_5@company.com</td><td>30</td></tr><tr><td>6</td><td>Rajesh</td><td>Male</td><td>8000</td><td>Sales</td><td>Rajesh Sales</td><td>666</td><td>Rajesh_6@company.com</td><td>44</td></tr><tr><td>7</td><td>Tikram</td><td>Male</td><td>7200</td><td>Finance</td><td>Tikram Finance</td><td>600</td><td>Tikram_7@company.com</td><td>40</td></tr><tr><td>8</td><td>Ganga</td><td>Female</td><td>6600</td><td>IT</td><td>Ganga IT</td><td>550</td><td>Ganga_8@company.com</td><td>36</td></tr><tr><td>9</td><td>Jamuna</td><td>Female</td><td>5400</td><td>HR</td><td>Jamuna HR</td><td>450</td><td>Jamuna_9@company.com</td><td>30</td></tr><tr><td>10</td><td>Namrata</td><td>Female</td><td>6300</td><td>Marketing</td><td>Namrata Marketing</td><td>525</td><td>Namrata_10@company.com</td><td>35</td></tr><tr><td>11</td><td>Bunny</td><td>Male</td><td>5700</td><td>Sales</td><td>Bunny Sales</td><td>475</td><td>Bunny_11@company.com</td><td>31</td></tr><tr><td>12</td><td>Abhiram</td><td>Male</td><td>7000</td><td>Finance</td><td>Abhiram Finance</td><td>583</td><td>Abhiram_12@company.com</td><td>38</td></tr><tr><td>13</td><td>Varsha</td><td>Female</td><td>7100</td><td>IT</td><td>Varsha IT</td><td>591</td><td>Varsha_13@company.com</td><td>39</td></tr><tr><td>14</td><td>Ananya</td><td>Female</td><td>6800</td><td>HR</td><td>Ananya HR</td><td>566</td><td>Ananya_14@company.com</td><td>37</td></tr><tr><td>15</td><td>Nikhil</td><td>Male</td><td>5000</td><td>Marketing</td><td>Nikhil Marketing</td><td>416</td><td>Nikhil_15@company.com</td><td>27</td></tr><tr><td>16</td><td>Bala</td><td>Female</td><td>5800</td><td>HR</td><td>Bala HR</td><td>483</td><td>Bala_16@company.com</td><td>32</td></tr><tr><td>17</td><td>Lax%man</td><td>Male</td><td>5000</td><td>Sales</td><td>Lax%man Sales</td><td>416</td><td>Lax%man_17@company.com</td><td>27</td></tr><tr><td>18</td><td>Lucky143</td><td>Male</td><td>20000</td><td>IT</td><td>Lucky143 IT</td><td>1666</td><td>Lucky143_18@company.com</td><td>111</td></tr></table>"
                    },
                    "metadata": {}
                }
            ],
            "execution_count": 4
        },
        {
            "cell_type": "markdown",
            "source": [
                "### **SQL Math Functions/ Operations**\n",
                "| Function         | Syntax                  | Input                   | Return Type | One-line Explanation                         | Peculiarities/Considerations                  |\n",
                "|------------------|-------------------------|-------------------------|-------------|----------------------------------------------|----------------------------------------------|\n",
                "| **Basic Arithmetic Operators** | | | | | |\n",
                "| Addition         | `+`                     | Numeric values          | Numeric     | Adds two numbers together.                   | None                                         |\n",
                "| Subtraction      | `-`                     | Numeric values          | Numeric     | Subtracts one number from another.           | None                                         |\n",
                "| Division         | `/`                     | Numeric values          | Numeric     | Divides one number by another.               | <mark>**Division by zero results in an error.**</mark>        |\n",
                "| Multiplication   | `*`                     | Numeric values          | Numeric     | Multiplies two numbers.                      | None                                         |\n",
                "| **Rounding Functions** | | | | | |\n",
                "| ROUND()          | `ROUND(expression, decimals)` | Numeric value, Integer  | Numeric     | Rounds a number to a specified number of decimal places. | <mark>**`decimals` can be negative for rounding to the left of the decimal point.**</mark> |\n",
                "| CEILING()        | `CEILING(expression)`   | Numeric value           | Integer     | <mark>Rounds up to the nearest integer.</mark>            | None                                         |\n",
                "| FLOOR()          | `FLOOR(expression)`     | Numeric value           | Integer     | <mark>Rounds down to the nearest integer.</mark>          | None                                         |\n",
                "| **Exponential and Logarithmic Functions** | | | | | |\n",
                "| POWER()          | <mark>`POWER(base, exponent)`</mark> | Numeric values          | Numeric     | Raises a number to the power of another.     | None                                         |\n",
                "| SQRT()           | `SQRT(expression)`     | Numeric value           | Numeric     | Returns the square root of a number.         | <mark>**Only accepts non-negative input values.**</mark>      |\n",
                "| ABS()            | <mark>**`ABS(expression)`**</mark>      | Numeric value           | Numeric     | <mark>Returns the absolute (positive) value of a number.</mark> | None                                         |\n",
                "| SIGN()           | <mark>**`SIGN(expression)`**</mark>    | Numeric value           | Integer     | <mark>**Returns the sign of a number (-1, 0, or 1).**</mark> | <mark>**Returns 0 if the number is zero.**</mark>             |\n",
                "| EXP()            | <mark>**`EXP(expression)`**</mark>      | Numeric value           | Numeric     | <mark>**Returns the exponential value of a number (e^x).**</mark> | None                                         |\n",
                "| LOG()            | <mark>**`LOG(expression)`**</mark>      | Numeric value           | Numeric     | Returns the <mark>natural logarithm (base e)</mark> of a number. | <mark>Only accepts positive input values.</mark>          |\n",
                "| LOG10()          | <mark>**`LOG10(expression)`**</mark>    | Numeric value           | Numeric     | Returns the <mark>base 10 logarithm</mark> of a number.   | <mark>Only accepts positive input values.</mark>          |\n",
                "| **Constants and Random Number Generator** | | | | | |\n",
                "| PI()             | <mark>**`PI()`**</mark>                  | None                    | Numeric     | Returns the mathematical constant π (pi).    | None                                         |\n",
                "| RAND()           | <mark>**`RAND()`**</mark>                | None                    | Numeric     | <mark>**Returns a random float value between 0 and 1.**</mark> | <mark>**Calls to RAND() in the same query return different values.**</mark> |\n",
                ""
            ],
            "metadata": {
                "azdata_cell_guid": "10fc0587-5dfe-4a55-8844-58c8cbfd1b9f"
            },
            "attachments": {}
        },
        {
            "cell_type": "code",
            "source": [
                "DROP TABLE math_functions_demo"
            ],
            "metadata": {
                "azdata_cell_guid": "3b512ec3-1f84-49dc-857f-8b0596a989eb",
                "language": "sql"
            },
            "outputs": [
                {
                    "output_type": "display_data",
                    "data": {
                        "text/html": "Commands completed successfully."
                    },
                    "metadata": {}
                },
                {
                    "output_type": "display_data",
                    "data": {
                        "text/html": "Total execution time: 00:00:00.041"
                    },
                    "metadata": {}
                }
            ],
            "execution_count": 6
        },
        {
            "cell_type": "code",
            "source": [
                "-- Create a temporary table for demonstration\n",
                "CREATE TABLE math_functions_demo (\n",
                "    number1 DECIMAL(10, 2),\n",
                "    number2 DECIMAL(10, 2)\n",
                ");\n",
                "\n",
                ""
            ],
            "metadata": {
                "azdata_cell_guid": "dfc244ac-e688-4eba-91c3-a162debb09d3",
                "language": "sql"
            },
            "outputs": [
                {
                    "output_type": "display_data",
                    "data": {
                        "text/html": "Commands completed successfully."
                    },
                    "metadata": {}
                },
                {
                    "output_type": "display_data",
                    "data": {
                        "text/html": "Total execution time: 00:00:00.010"
                    },
                    "metadata": {}
                }
            ],
            "execution_count": 7
        },
        {
            "cell_type": "code",
            "source": [
                "-- Insert sample data\n",
                "INSERT INTO math_functions_demo (number1, number2) VALUES \n",
                "(10.5, 3),\n",
                "(25.75, 4),\n",
                "(7, 2),\n",
                "(15, 0); -- To demonstrate division by zero error"
            ],
            "metadata": {
                "language": "sql",
                "azdata_cell_guid": "cc828f54-7df0-4ab3-a634-617624b5ed21"
            },
            "outputs": [
                {
                    "output_type": "display_data",
                    "data": {
                        "text/html": "(4 rows affected)"
                    },
                    "metadata": {}
                },
                {
                    "output_type": "display_data",
                    "data": {
                        "text/html": "Total execution time: 00:00:00.042"
                    },
                    "metadata": {}
                }
            ],
            "execution_count": 8
        },
        {
            "cell_type": "code",
            "source": [
                "SELECT * FROM math_functions_demo"
            ],
            "metadata": {
                "language": "sql",
                "azdata_cell_guid": "1a2b34f9-6b4c-4c64-a73e-f18cf006b44c"
            },
            "outputs": [
                {
                    "output_type": "display_data",
                    "data": {
                        "text/html": "(4 rows affected)"
                    },
                    "metadata": {}
                },
                {
                    "output_type": "display_data",
                    "data": {
                        "text/html": "Total execution time: 00:00:00.045"
                    },
                    "metadata": {}
                },
                {
                    "output_type": "execute_result",
                    "metadata": {},
                    "execution_count": 9,
                    "data": {
                        "application/vnd.dataresource+json": {
                            "schema": {
                                "fields": [
                                    {
                                        "name": "number1"
                                    },
                                    {
                                        "name": "number2"
                                    }
                                ]
                            },
                            "data": [
                                {
                                    "number1": "10.50",
                                    "number2": "3.00"
                                },
                                {
                                    "number1": "25.75",
                                    "number2": "4.00"
                                },
                                {
                                    "number1": "7.00",
                                    "number2": "2.00"
                                },
                                {
                                    "number1": "15.00",
                                    "number2": "0.00"
                                }
                            ]
                        },
                        "text/html": [
                            "<table>",
                            "<tr><th>number1</th><th>number2</th></tr>",
                            "<tr><td>10.50</td><td>3.00</td></tr>",
                            "<tr><td>25.75</td><td>4.00</td></tr>",
                            "<tr><td>7.00</td><td>2.00</td></tr>",
                            "<tr><td>15.00</td><td>0.00</td></tr>",
                            "</table>"
                        ]
                    }
                }
            ],
            "execution_count": 9
        },
        {
            "cell_type": "markdown",
            "source": [
                "#### Basic Arithmetic Operators\n",
                "\n",
                "| Function         | Syntax             | Input                   | Return Type | One-line Explanation                         | Peculiarities/Considerations                  |\n",
                "|------------------|--------------------|-------------------------|-------------|----------------------------------------------|----------------------------------------------|\n",
                "| Addition         | `+`                | Numeric values          | Numeric     | Adds two numbers together.                   | None                                         |\n",
                "| Subtraction      | `-`                | Numeric values          | Numeric     | Subtracts one number from another.           | None                                         |\n",
                "| Division         | `/`                | Numeric values          | Numeric     | Divides one number by another.               | <mark>**Division by zero results in an error.**</mark>        |\n",
                "| Multiplication   | `*`                | Numeric values          | Numeric     | Multiplies two numbers.                      | None   "
            ],
            "metadata": {
                "language": "sql",
                "azdata_cell_guid": "c34134fb-ad6a-48e1-9a99-fa77811afe49"
            },
            "attachments": {}
        },
        {
            "cell_type": "code",
            "source": [
                "-- Basic Arithmetic Operators\n",
                "SELECT \n",
                "    number1 + number2 AS Addition,\n",
                "    number1 - number2 AS Subtraction,\n",
                "    number1 / number2 AS Division, -- Note: This will cause an error due to division by zero\n",
                "    number1 * number2 AS Multiplication\n",
                "FROM math_functions_demo;"
            ],
            "metadata": {
                "language": "sql",
                "azdata_cell_guid": "41f7e906-c54f-4228-ac36-042c62309a59"
            },
            "outputs": [
                {
                    "output_type": "display_data",
                    "data": {
                        "text/html": "Total execution time: 00:00:00.022"
                    },
                    "metadata": {}
                },
                {
                    "output_type": "execute_result",
                    "metadata": {},
                    "execution_count": 10,
                    "data": {
                        "application/vnd.dataresource+json": {
                            "schema": {
                                "fields": [
                                    {
                                        "name": "Addition"
                                    },
                                    {
                                        "name": "Subtraction"
                                    },
                                    {
                                        "name": "Division"
                                    },
                                    {
                                        "name": "Multiplication"
                                    }
                                ]
                            },
                            "data": [
                                {
                                    "Addition": "13.50",
                                    "Subtraction": "7.50",
                                    "Division": "3.5000000000000",
                                    "Multiplication": "31.5000"
                                },
                                {
                                    "Addition": "29.75",
                                    "Subtraction": "21.75",
                                    "Division": "6.4375000000000",
                                    "Multiplication": "103.0000"
                                },
                                {
                                    "Addition": "9.00",
                                    "Subtraction": "5.00",
                                    "Division": "3.5000000000000",
                                    "Multiplication": "14.0000"
                                }
                            ]
                        },
                        "text/html": [
                            "<table>",
                            "<tr><th>Addition</th><th>Subtraction</th><th>Division</th><th>Multiplication</th></tr>",
                            "<tr><td>13.50</td><td>7.50</td><td>3.5000000000000</td><td>31.5000</td></tr>",
                            "<tr><td>29.75</td><td>21.75</td><td>6.4375000000000</td><td>103.0000</td></tr>",
                            "<tr><td>9.00</td><td>5.00</td><td>3.5000000000000</td><td>14.0000</td></tr>",
                            "</table>"
                        ]
                    }
                },
                {
                    "output_type": "error",
                    "evalue": "Msg 8134, Level 16, State 1, Line 2\nDivide by zero error encountered.",
                    "ename": "",
                    "traceback": []
                }
            ],
            "execution_count": 10
        },
        {
            "cell_type": "markdown",
            "source": [
                "#### Rounding Functions\n",
                "\n",
                "| Function         | Syntax                  | Input                   | Return Type | One-line Explanation                         | Peculiarities/Considerations                  |\n",
                "|------------------|-------------------------|-------------------------|-------------|----------------------------------------------|----------------------------------------------|\n",
                "| ROUND()          | `ROUND(expression, decimals)` | Numeric value, Integer  | Numeric     | Rounds a number to a specified number of decimal places. | <mark>**`decimals` can be negative for rounding to the left of the decimal point.**</mark>|\n",
                "| CEILING()        | `CEILING(expression)`   | Numeric value           | Integer     | <mark>Rounds up to the nearest integer.</mark>            | None                                         |\n",
                "| FLOOR()          | `FLOOR(expression)`     | Numeric value           | Integer     | <mark>Rounds down to the nearest integer. </mark>         | None                                         |"
            ],
            "metadata": {
                "language": "sql",
                "azdata_cell_guid": "77767973-df3d-49a0-b3b2-3e63a310d50a"
            },
            "attachments": {}
        },
        {
            "cell_type": "code",
            "source": [
                "-- Rounding Functions\n",
                "SELECT \n",
                "    ROUND(number1, 1) AS RoundedNumber1,\n",
                "    CEILING(number1) AS CeiledNumber1,\n",
                "    FLOOR(number1) AS FlooredNumber1\n",
                "FROM math_functions_demo;"
            ],
            "metadata": {
                "language": "sql",
                "azdata_cell_guid": "4c453fbd-9655-408a-bd57-d594b0a9a32b"
            },
            "outputs": [
                {
                    "output_type": "display_data",
                    "data": {
                        "text/html": "(4 rows affected)"
                    },
                    "metadata": {}
                },
                {
                    "output_type": "display_data",
                    "data": {
                        "text/html": "Total execution time: 00:00:00.013"
                    },
                    "metadata": {}
                },
                {
                    "output_type": "execute_result",
                    "metadata": {},
                    "execution_count": 11,
                    "data": {
                        "application/vnd.dataresource+json": {
                            "schema": {
                                "fields": [
                                    {
                                        "name": "RoundedNumber1"
                                    },
                                    {
                                        "name": "CeiledNumber1"
                                    },
                                    {
                                        "name": "FlooredNumber1"
                                    }
                                ]
                            },
                            "data": [
                                {
                                    "RoundedNumber1": "10.50",
                                    "CeiledNumber1": "11",
                                    "FlooredNumber1": "10"
                                },
                                {
                                    "RoundedNumber1": "25.80",
                                    "CeiledNumber1": "26",
                                    "FlooredNumber1": "25"
                                },
                                {
                                    "RoundedNumber1": "7.00",
                                    "CeiledNumber1": "7",
                                    "FlooredNumber1": "7"
                                },
                                {
                                    "RoundedNumber1": "15.00",
                                    "CeiledNumber1": "15",
                                    "FlooredNumber1": "15"
                                }
                            ]
                        },
                        "text/html": [
                            "<table>",
                            "<tr><th>RoundedNumber1</th><th>CeiledNumber1</th><th>FlooredNumber1</th></tr>",
                            "<tr><td>10.50</td><td>11</td><td>10</td></tr>",
                            "<tr><td>25.80</td><td>26</td><td>25</td></tr>",
                            "<tr><td>7.00</td><td>7</td><td>7</td></tr>",
                            "<tr><td>15.00</td><td>15</td><td>15</td></tr>",
                            "</table>"
                        ]
                    }
                }
            ],
            "execution_count": 11
        },
        {
            "cell_type": "markdown",
            "source": [
                "#### Exponential and Logarithmic Functions\n",
                "\n",
                "| Function         | Syntax             | Input                   | Return Type | One-line Explanation                         | Peculiarities/Considerations                  |\n",
                "|------------------|--------------------|-------------------------|-------------|----------------------------------------------|----------------------------------------------|\n",
                "| POWER()          | `POWER(base, exponent)` | Numeric values          | Numeric     | <mark>Raises a number to the power of another. </mark>    | None                                         |\n",
                "| SQRT()           | `SQRT(expression)` | Numeric value           | Numeric     | Returns the square root of a number.         | <mark>**Only accepts non-negative input values.**</mark>      |\n",
                "| <mark>**ABS()**</mark>            | `ABS(expression)`  | Numeric value           | Numeric     | Returns the absolute (positive) value of a number. | None                                         |\n",
                "| <mark>**SIGN()**</mark>           | `SIGN(expression)` | Numeric value           | Integer     | <mark>**Returns the sign of a number (-1, 0, or 1).**</mark>  | <mark>**Returns 0 if the number is zero.**</mark>             |\n",
                "| EXP()            | <mark>**`EXP(expression)`**</mark>  | Numeric value           | Numeric     | <mark>**Returns the exponential value of a number (e^x)**</mark>. | None                                         |\n",
                "| LOG()            | <mark>**`LOG(expression)`**</mark>  | Numeric value           | Numeric     | Returns the natural logarithm (base e) of a number. | <mark>Only accepts positive input values.</mark>          |\n",
                "| LOG10()          | <mark>**`LOG10(expression)`**</mark>| Numeric value           | Numeric     | Returns the base 10 logarithm of a number.   | <mark>Only accepts positive input values.</mark>          |\n",
                ""
            ],
            "metadata": {
                "language": "sql",
                "azdata_cell_guid": "47a6b5d2-9f2a-4928-8276-587b598c3285"
            },
            "attachments": {}
        },
        {
            "cell_type": "code",
            "source": [
                "-- Exponential and Logarithmic Functions\n",
                "SELECT \n",
                "    POWER(number1, 2) AS PowerOfNumber1,\n",
                "    SQRT(number1) AS SquareRootOfNumber1,\n",
                "    ABS(number1) AS AbsoluteValueOfNumber1,\n",
                "    SIGN(number1) AS SignOfNumber1,\n",
                "    EXP(number1) AS ExponentialOfNumber1,\n",
                "    LOG(number1) AS NaturalLogarithmOfNumber1,\n",
                "    LOG10(number1) AS LogBase10OfNumber1\n",
                "FROM math_functions_demo;"
            ],
            "metadata": {
                "language": "sql",
                "azdata_cell_guid": "385d2306-d9cc-453c-ba59-3763b55f68cf"
            },
            "outputs": [
                {
                    "output_type": "display_data",
                    "data": {
                        "text/html": "(4 rows affected)"
                    },
                    "metadata": {}
                },
                {
                    "output_type": "display_data",
                    "data": {
                        "text/html": "Total execution time: 00:00:00.030"
                    },
                    "metadata": {}
                },
                {
                    "output_type": "execute_result",
                    "metadata": {},
                    "execution_count": 12,
                    "data": {
                        "application/vnd.dataresource+json": {
                            "schema": {
                                "fields": [
                                    {
                                        "name": "PowerOfNumber1"
                                    },
                                    {
                                        "name": "SquareRootOfNumber1"
                                    },
                                    {
                                        "name": "AbsoluteValueOfNumber1"
                                    },
                                    {
                                        "name": "SignOfNumber1"
                                    },
                                    {
                                        "name": "ExponentialOfNumber1"
                                    },
                                    {
                                        "name": "NaturalLogarithmOfNumber1"
                                    },
                                    {
                                        "name": "LogBase10OfNumber1"
                                    }
                                ]
                            },
                            "data": [
                                {
                                    "PowerOfNumber1": "110.25",
                                    "SquareRootOfNumber1": "3.24037034920393",
                                    "AbsoluteValueOfNumber1": "10.50",
                                    "SignOfNumber1": "1.00",
                                    "ExponentialOfNumber1": "36315.502674246636",
                                    "NaturalLogarithmOfNumber1": "2.3513752571634776",
                                    "LogBase10OfNumber1": "1.021189299069938"
                                },
                                {
                                    "PowerOfNumber1": "663.06",
                                    "SquareRootOfNumber1": "5.07444578254611",
                                    "AbsoluteValueOfNumber1": "25.75",
                                    "SignOfNumber1": "1.00",
                                    "ExponentialOfNumber1": "152434373093.43985",
                                    "NaturalLogarithmOfNumber1": "3.248434627109745",
                                    "LogBase10OfNumber1": "1.4107772333772097"
                                },
                                {
                                    "PowerOfNumber1": "49.00",
                                    "SquareRootOfNumber1": "2.6457513110645907",
                                    "AbsoluteValueOfNumber1": "7.00",
                                    "SignOfNumber1": "1.00",
                                    "ExponentialOfNumber1": "1096.6331584284585",
                                    "NaturalLogarithmOfNumber1": "1.9459101490553132",
                                    "LogBase10OfNumber1": "0.8450980400142568"
                                },
                                {
                                    "PowerOfNumber1": "225.00",
                                    "SquareRootOfNumber1": "3.872983346207417",
                                    "AbsoluteValueOfNumber1": "15.00",
                                    "SignOfNumber1": "1.00",
                                    "ExponentialOfNumber1": "3269017.3724721107",
                                    "NaturalLogarithmOfNumber1": "2.70805020110221",
                                    "LogBase10OfNumber1": "1.1760912590556813"
                                }
                            ]
                        },
                        "text/html": [
                            "<table>",
                            "<tr><th>PowerOfNumber1</th><th>SquareRootOfNumber1</th><th>AbsoluteValueOfNumber1</th><th>SignOfNumber1</th><th>ExponentialOfNumber1</th><th>NaturalLogarithmOfNumber1</th><th>LogBase10OfNumber1</th></tr>",
                            "<tr><td>110.25</td><td>3.24037034920393</td><td>10.50</td><td>1.00</td><td>36315.502674246636</td><td>2.3513752571634776</td><td>1.021189299069938</td></tr>",
                            "<tr><td>663.06</td><td>5.07444578254611</td><td>25.75</td><td>1.00</td><td>152434373093.43985</td><td>3.248434627109745</td><td>1.4107772333772097</td></tr>",
                            "<tr><td>49.00</td><td>2.6457513110645907</td><td>7.00</td><td>1.00</td><td>1096.6331584284585</td><td>1.9459101490553132</td><td>0.8450980400142568</td></tr>",
                            "<tr><td>225.00</td><td>3.872983346207417</td><td>15.00</td><td>1.00</td><td>3269017.3724721107</td><td>2.70805020110221</td><td>1.1760912590556813</td></tr>",
                            "</table>"
                        ]
                    }
                }
            ],
            "execution_count": 12
        },
        {
            "cell_type": "markdown",
            "source": [
                "#### Constants and Random Number Generator\n",
                "\n",
                "| Function         | Syntax             | Input                   | Return Type | One-line Explanation                         | Peculiarities/Considerations                  |\n",
                "|------------------|--------------------|-------------------------|-------------|----------------------------------------------|----------------------------------------------|\n",
                "| PI()             | <mark>**`PI()`**</mark>             | None                    | Numeric     | <mark>**Returns the mathematical constant π (pi).**</mark>    | None                                         |\n",
                "| RAND()           | <mark>**`RAND()`**</mark>           | None                    | Numeric     | <mark>**Returns a random float value between 0 and 1.**</mark> | <mark>**Calls to RAND() in the same query return different values.**</mark> |\n",
                ""
            ],
            "metadata": {
                "azdata_cell_guid": "ff00c824-6ca0-4abe-88bf-5912a878cdad"
            },
            "attachments": {}
        },
        {
            "cell_type": "code",
            "source": [
                "-- Constants and Random Number Generator\n",
                "SELECT \n",
                "    PI() AS PiValue,\n",
                "    RAND() AS RandomValue;"
            ],
            "metadata": {
                "azdata_cell_guid": "b7f10428-4db3-45e7-8d9c-13938338c788",
                "language": "sql"
            },
            "outputs": [
                {
                    "output_type": "display_data",
                    "data": {
                        "text/html": "(1 row affected)"
                    },
                    "metadata": {}
                },
                {
                    "output_type": "display_data",
                    "data": {
                        "text/html": "Total execution time: 00:00:00.005"
                    },
                    "metadata": {}
                },
                {
                    "output_type": "execute_result",
                    "metadata": {},
                    "execution_count": 13,
                    "data": {
                        "application/vnd.dataresource+json": {
                            "schema": {
                                "fields": [
                                    {
                                        "name": "PiValue"
                                    },
                                    {
                                        "name": "RandomValue"
                                    }
                                ]
                            },
                            "data": [
                                {
                                    "PiValue": "3.141592653589793",
                                    "RandomValue": "0.671770657561982"
                                }
                            ]
                        },
                        "text/html": [
                            "<table>",
                            "<tr><th>PiValue</th><th>RandomValue</th></tr>",
                            "<tr><td>3.141592653589793</td><td>0.671770657561982</td></tr>",
                            "</table>"
                        ]
                    }
                }
            ],
            "execution_count": 13
        },
        {
            "cell_type": "markdown",
            "source": [
                "### **Some more examples of Math Functions**"
            ],
            "metadata": {
                "azdata_cell_guid": "1267fd7d-d526-4153-809c-c4a64d2c2ffe"
            },
            "attachments": {}
        },
        {
            "cell_type": "markdown",
            "source": [
                "**<u>Basic Arithmetic Functions:</u>**"
            ],
            "metadata": {
                "azdata_cell_guid": "6b5d27bb-6380-47b6-a3f9-d471d159cf0b"
            },
            "attachments": {}
        },
        {
            "cell_type": "markdown",
            "source": [
                "**Addition (\\`+\\`):**"
            ],
            "metadata": {
                "azdata_cell_guid": "4763187e-e24d-4f7a-8953-c732f66aeeee"
            },
            "attachments": {}
        },
        {
            "cell_type": "code",
            "source": [
                "SELECT TOP 5 name, salary + MonthlySalary AS TotalIncome\n",
                "FROM employeeDetails;\n",
                ""
            ],
            "metadata": {
                "azdata_cell_guid": "3f2274a1-6f42-48bd-85a5-c36fda179030",
                "language": "sql"
            },
            "outputs": [
                {
                    "output_type": "display_data",
                    "data": {
                        "text/html": "(5 rows affected)"
                    },
                    "metadata": {}
                },
                {
                    "output_type": "display_data",
                    "data": {
                        "text/html": "Total execution time: 00:00:00.010"
                    },
                    "metadata": {}
                },
                {
                    "output_type": "execute_result",
                    "execution_count": 4,
                    "data": {
                        "application/vnd.dataresource+json": {
                            "schema": {
                                "fields": [
                                    {
                                        "name": "name"
                                    },
                                    {
                                        "name": "TotalIncome"
                                    }
                                ]
                            },
                            "data": [
                                {
                                    "name": "Laxman",
                                    "TotalIncome": "5416"
                                },
                                {
                                    "name": "Padma",
                                    "TotalIncome": "6500"
                                },
                                {
                                    "name": "Naina",
                                    "TotalIncome": "8125"
                                },
                                {
                                    "name": "Ramulu",
                                    "TotalIncome": "7041"
                                },
                                {
                                    "name": "Harshita",
                                    "TotalIncome": "5958"
                                }
                            ]
                        },
                        "text/html": "<table><tr><th>name</th><th>TotalIncome</th></tr><tr><td>Laxman</td><td>5416</td></tr><tr><td>Padma</td><td>6500</td></tr><tr><td>Naina</td><td>8125</td></tr><tr><td>Ramulu</td><td>7041</td></tr><tr><td>Harshita</td><td>5958</td></tr></table>"
                    },
                    "metadata": {}
                }
            ],
            "execution_count": 4
        },
        {
            "cell_type": "markdown",
            "source": [
                "**Subtraction (\\`-\\`):**"
            ],
            "metadata": {
                "language": "sql",
                "azdata_cell_guid": "dcf9edb4-4fc3-4bf8-aed6-a6cedcb9cae8"
            },
            "attachments": {}
        },
        {
            "cell_type": "code",
            "source": [
                "SELECT TOP 5 name, salary - MonthlySalary AS NetIncome\n",
                "FROM employeeDetails;"
            ],
            "metadata": {
                "language": "sql",
                "azdata_cell_guid": "7aaf00bf-b2e0-4967-9db1-023477ea3e3d"
            },
            "outputs": [
                {
                    "output_type": "display_data",
                    "data": {
                        "text/html": "(5 rows affected)"
                    },
                    "metadata": {}
                },
                {
                    "output_type": "display_data",
                    "data": {
                        "text/html": "Total execution time: 00:00:00.036"
                    },
                    "metadata": {}
                },
                {
                    "output_type": "execute_result",
                    "execution_count": 5,
                    "data": {
                        "application/vnd.dataresource+json": {
                            "schema": {
                                "fields": [
                                    {
                                        "name": "name"
                                    },
                                    {
                                        "name": "NetIncome"
                                    }
                                ]
                            },
                            "data": [
                                {
                                    "name": "Laxman",
                                    "NetIncome": "4584"
                                },
                                {
                                    "name": "Padma",
                                    "NetIncome": "5500"
                                },
                                {
                                    "name": "Naina",
                                    "NetIncome": "6875"
                                },
                                {
                                    "name": "Ramulu",
                                    "NetIncome": "5959"
                                },
                                {
                                    "name": "Harshita",
                                    "NetIncome": "5042"
                                }
                            ]
                        },
                        "text/html": "<table><tr><th>name</th><th>NetIncome</th></tr><tr><td>Laxman</td><td>4584</td></tr><tr><td>Padma</td><td>5500</td></tr><tr><td>Naina</td><td>6875</td></tr><tr><td>Ramulu</td><td>5959</td></tr><tr><td>Harshita</td><td>5042</td></tr></table>"
                    },
                    "metadata": {}
                }
            ],
            "execution_count": 5
        },
        {
            "cell_type": "markdown",
            "source": [
                "**Multiplication (\\`\\*\\`):**"
            ],
            "metadata": {
                "language": "sql",
                "azdata_cell_guid": "07f818db-b597-4761-b217-12bf312801eb"
            },
            "attachments": {}
        },
        {
            "cell_type": "code",
            "source": [
                "SELECT TOP 5 name, salary * 12 AS AnnualSalary\n",
                "FROM employeeDetails;"
            ],
            "metadata": {
                "language": "sql",
                "azdata_cell_guid": "e40a23e6-870a-4e9f-8402-f4e98eadf68f"
            },
            "outputs": [
                {
                    "output_type": "display_data",
                    "data": {
                        "text/html": "(5 rows affected)"
                    },
                    "metadata": {}
                },
                {
                    "output_type": "display_data",
                    "data": {
                        "text/html": "Total execution time: 00:00:00.008"
                    },
                    "metadata": {}
                },
                {
                    "output_type": "execute_result",
                    "execution_count": 7,
                    "data": {
                        "application/vnd.dataresource+json": {
                            "schema": {
                                "fields": [
                                    {
                                        "name": "name"
                                    },
                                    {
                                        "name": "AnnualSalary"
                                    }
                                ]
                            },
                            "data": [
                                {
                                    "name": "Laxman",
                                    "AnnualSalary": "60000"
                                },
                                {
                                    "name": "Padma",
                                    "AnnualSalary": "72000"
                                },
                                {
                                    "name": "Naina",
                                    "AnnualSalary": "90000"
                                },
                                {
                                    "name": "Ramulu",
                                    "AnnualSalary": "78000"
                                },
                                {
                                    "name": "Harshita",
                                    "AnnualSalary": "66000"
                                }
                            ]
                        },
                        "text/html": "<table><tr><th>name</th><th>AnnualSalary</th></tr><tr><td>Laxman</td><td>60000</td></tr><tr><td>Padma</td><td>72000</td></tr><tr><td>Naina</td><td>90000</td></tr><tr><td>Ramulu</td><td>78000</td></tr><tr><td>Harshita</td><td>66000</td></tr></table>"
                    },
                    "metadata": {}
                }
            ],
            "execution_count": 7
        },
        {
            "cell_type": "markdown",
            "source": [
                "**Division (\\`/\\`):**"
            ],
            "metadata": {
                "language": "sql",
                "azdata_cell_guid": "f74f3b3f-e97b-4404-a0bc-767a205c5dd6"
            },
            "attachments": {}
        },
        {
            "cell_type": "code",
            "source": [
                "SELECT TOP 5 name, salary / 12 AS MonthlyAverageSalary\n",
                "FROM employeeDetails;"
            ],
            "metadata": {
                "language": "sql",
                "azdata_cell_guid": "5a64944e-2f78-4a4c-ada2-bfd6df9bf294"
            },
            "outputs": [
                {
                    "output_type": "display_data",
                    "data": {
                        "text/html": "(5 rows affected)"
                    },
                    "metadata": {}
                },
                {
                    "output_type": "display_data",
                    "data": {
                        "text/html": "Total execution time: 00:00:00.011"
                    },
                    "metadata": {}
                },
                {
                    "output_type": "execute_result",
                    "execution_count": 8,
                    "data": {
                        "application/vnd.dataresource+json": {
                            "schema": {
                                "fields": [
                                    {
                                        "name": "name"
                                    },
                                    {
                                        "name": "MonthlyAverageSalary"
                                    }
                                ]
                            },
                            "data": [
                                {
                                    "name": "Laxman",
                                    "MonthlyAverageSalary": "416"
                                },
                                {
                                    "name": "Padma",
                                    "MonthlyAverageSalary": "500"
                                },
                                {
                                    "name": "Naina",
                                    "MonthlyAverageSalary": "625"
                                },
                                {
                                    "name": "Ramulu",
                                    "MonthlyAverageSalary": "541"
                                },
                                {
                                    "name": "Harshita",
                                    "MonthlyAverageSalary": "458"
                                }
                            ]
                        },
                        "text/html": "<table><tr><th>name</th><th>MonthlyAverageSalary</th></tr><tr><td>Laxman</td><td>416</td></tr><tr><td>Padma</td><td>500</td></tr><tr><td>Naina</td><td>625</td></tr><tr><td>Ramulu</td><td>541</td></tr><tr><td>Harshita</td><td>458</td></tr></table>"
                    },
                    "metadata": {}
                }
            ],
            "execution_count": 8
        },
        {
            "cell_type": "markdown",
            "source": [
                "### **Rounding Functions:**"
            ],
            "metadata": {
                "language": "sql",
                "azdata_cell_guid": "5ac4edf1-7086-4615-8932-185cd5ffe43f"
            },
            "attachments": {}
        },
        {
            "cell_type": "markdown",
            "source": [
                "**ROUND()**: Rounds a numeric expression to the specified number of decimal places."
            ],
            "metadata": {
                "language": "sql",
                "azdata_cell_guid": "de47a781-2d48-4170-a39d-bf0f07908c55"
            },
            "attachments": {}
        },
        {
            "cell_type": "code",
            "source": [
                "SELECT TOP 5 name, ROUND(MonthlySalary * 1.1, 2) AS IncreasedSalary\n",
                "FROM employeeDetails;"
            ],
            "metadata": {
                "language": "sql",
                "azdata_cell_guid": "2644f522-f677-4727-84f4-07535e08c936"
            },
            "outputs": [
                {
                    "output_type": "display_data",
                    "data": {
                        "text/html": "(5 rows affected)"
                    },
                    "metadata": {}
                },
                {
                    "output_type": "display_data",
                    "data": {
                        "text/html": "Total execution time: 00:00:00.013"
                    },
                    "metadata": {}
                },
                {
                    "output_type": "execute_result",
                    "execution_count": 10,
                    "data": {
                        "application/vnd.dataresource+json": {
                            "schema": {
                                "fields": [
                                    {
                                        "name": "name"
                                    },
                                    {
                                        "name": "IncreasedSalary"
                                    }
                                ]
                            },
                            "data": [
                                {
                                    "name": "Laxman",
                                    "IncreasedSalary": "457.6"
                                },
                                {
                                    "name": "Padma",
                                    "IncreasedSalary": "550.0"
                                },
                                {
                                    "name": "Naina",
                                    "IncreasedSalary": "687.5"
                                },
                                {
                                    "name": "Ramulu",
                                    "IncreasedSalary": "595.1"
                                },
                                {
                                    "name": "Harshita",
                                    "IncreasedSalary": "503.8"
                                }
                            ]
                        },
                        "text/html": "<table><tr><th>name</th><th>IncreasedSalary</th></tr><tr><td>Laxman</td><td>457.6</td></tr><tr><td>Padma</td><td>550.0</td></tr><tr><td>Naina</td><td>687.5</td></tr><tr><td>Ramulu</td><td>595.1</td></tr><tr><td>Harshita</td><td>503.8</td></tr></table>"
                    },
                    "metadata": {}
                }
            ],
            "execution_count": 10
        },
        {
            "cell_type": "markdown",
            "source": [
                "**CEILING()**"
            ],
            "metadata": {
                "language": "sql",
                "azdata_cell_guid": "3c294c83-8679-4e7a-a11f-e26162da6f43"
            },
            "attachments": {}
        },
        {
            "cell_type": "code",
            "source": [
                "SELECT TOP 5 name, CEILING(salary / 1000.0) AS ThousandMultiplier\n",
                "FROM employeeDetails;"
            ],
            "metadata": {
                "language": "sql",
                "azdata_cell_guid": "c41b271d-f726-4137-a1f3-0c30dc764807"
            },
            "outputs": [
                {
                    "output_type": "display_data",
                    "data": {
                        "text/html": "(5 rows affected)"
                    },
                    "metadata": {}
                },
                {
                    "output_type": "display_data",
                    "data": {
                        "text/html": "Total execution time: 00:00:00.008"
                    },
                    "metadata": {}
                },
                {
                    "output_type": "execute_result",
                    "execution_count": 12,
                    "data": {
                        "application/vnd.dataresource+json": {
                            "schema": {
                                "fields": [
                                    {
                                        "name": "name"
                                    },
                                    {
                                        "name": "ThousandMultiplier"
                                    }
                                ]
                            },
                            "data": [
                                {
                                    "name": "Laxman",
                                    "ThousandMultiplier": "5"
                                },
                                {
                                    "name": "Padma",
                                    "ThousandMultiplier": "6"
                                },
                                {
                                    "name": "Naina",
                                    "ThousandMultiplier": "8"
                                },
                                {
                                    "name": "Ramulu",
                                    "ThousandMultiplier": "7"
                                },
                                {
                                    "name": "Harshita",
                                    "ThousandMultiplier": "6"
                                }
                            ]
                        },
                        "text/html": "<table><tr><th>name</th><th>ThousandMultiplier</th></tr><tr><td>Laxman</td><td>5</td></tr><tr><td>Padma</td><td>6</td></tr><tr><td>Naina</td><td>8</td></tr><tr><td>Ramulu</td><td>7</td></tr><tr><td>Harshita</td><td>6</td></tr></table>"
                    },
                    "metadata": {}
                }
            ],
            "execution_count": 12
        },
        {
            "cell_type": "markdown",
            "source": [
                "**FLOOR()**"
            ],
            "metadata": {
                "language": "sql",
                "azdata_cell_guid": "6a248d90-0d2a-4a3a-af3e-4471b430f45e"
            },
            "attachments": {}
        },
        {
            "cell_type": "code",
            "source": [
                "SELECT TOP 5 name, FLOOR(MonthlySalary / 100) AS HundredDivider\n",
                "FROM employeeDetails;"
            ],
            "metadata": {
                "language": "sql",
                "azdata_cell_guid": "3d837e10-f383-44c2-8243-44c3cef5484b"
            },
            "outputs": [
                {
                    "output_type": "display_data",
                    "data": {
                        "text/html": "(5 rows affected)"
                    },
                    "metadata": {}
                },
                {
                    "output_type": "display_data",
                    "data": {
                        "text/html": "Total execution time: 00:00:00.036"
                    },
                    "metadata": {}
                },
                {
                    "output_type": "execute_result",
                    "execution_count": 13,
                    "data": {
                        "application/vnd.dataresource+json": {
                            "schema": {
                                "fields": [
                                    {
                                        "name": "name"
                                    },
                                    {
                                        "name": "HundredDivider"
                                    }
                                ]
                            },
                            "data": [
                                {
                                    "name": "Laxman",
                                    "HundredDivider": "4"
                                },
                                {
                                    "name": "Padma",
                                    "HundredDivider": "5"
                                },
                                {
                                    "name": "Naina",
                                    "HundredDivider": "6"
                                },
                                {
                                    "name": "Ramulu",
                                    "HundredDivider": "5"
                                },
                                {
                                    "name": "Harshita",
                                    "HundredDivider": "4"
                                }
                            ]
                        },
                        "text/html": "<table><tr><th>name</th><th>HundredDivider</th></tr><tr><td>Laxman</td><td>4</td></tr><tr><td>Padma</td><td>5</td></tr><tr><td>Naina</td><td>6</td></tr><tr><td>Ramulu</td><td>5</td></tr><tr><td>Harshita</td><td>4</td></tr></table>"
                    },
                    "metadata": {}
                }
            ],
            "execution_count": 13
        },
        {
            "cell_type": "markdown",
            "source": [
                "### **Power and Square Root Functions:**"
            ],
            "metadata": {
                "language": "sql",
                "azdata_cell_guid": "4a124c20-e8a1-4761-b823-c3827e33a174"
            },
            "attachments": {}
        },
        {
            "cell_type": "markdown",
            "source": [
                "**POWER()**"
            ],
            "metadata": {
                "language": "sql",
                "azdata_cell_guid": "520aa32b-e126-49ab-acf5-6c864f5648bf"
            },
            "attachments": {}
        },
        {
            "cell_type": "code",
            "source": [
                "SELECT TOP 5 name, POWER(age, 2) AS AgeSquared\n",
                "FROM employeeDetails;"
            ],
            "metadata": {
                "language": "sql",
                "azdata_cell_guid": "944946e4-fa6c-41c5-81c8-01415f6d27af"
            },
            "outputs": [
                {
                    "output_type": "display_data",
                    "data": {
                        "text/html": "(5 rows affected)"
                    },
                    "metadata": {}
                },
                {
                    "output_type": "display_data",
                    "data": {
                        "text/html": "Total execution time: 00:00:00.019"
                    },
                    "metadata": {}
                },
                {
                    "output_type": "execute_result",
                    "execution_count": 14,
                    "data": {
                        "application/vnd.dataresource+json": {
                            "schema": {
                                "fields": [
                                    {
                                        "name": "name"
                                    },
                                    {
                                        "name": "AgeSquared"
                                    }
                                ]
                            },
                            "data": [
                                {
                                    "name": "Laxman",
                                    "AgeSquared": "729"
                                },
                                {
                                    "name": "Padma",
                                    "AgeSquared": "1089"
                                },
                                {
                                    "name": "Naina",
                                    "AgeSquared": "1681"
                                },
                                {
                                    "name": "Ramulu",
                                    "AgeSquared": "1296"
                                },
                                {
                                    "name": "Harshita",
                                    "AgeSquared": "900"
                                }
                            ]
                        },
                        "text/html": "<table><tr><th>name</th><th>AgeSquared</th></tr><tr><td>Laxman</td><td>729</td></tr><tr><td>Padma</td><td>1089</td></tr><tr><td>Naina</td><td>1681</td></tr><tr><td>Ramulu</td><td>1296</td></tr><tr><td>Harshita</td><td>900</td></tr></table>"
                    },
                    "metadata": {}
                }
            ],
            "execution_count": 14
        },
        {
            "cell_type": "markdown",
            "source": [
                "**SQRT()**"
            ],
            "metadata": {
                "language": "sql",
                "azdata_cell_guid": "9eda1146-90f6-4140-8d57-7c64d7a7d86b"
            },
            "attachments": {}
        },
        {
            "cell_type": "code",
            "source": [
                "SELECT TOP 5 name, SQRT(MonthlySalary) AS MonthlySalarySquareRoot\n",
                "FROM employeeDetails;"
            ],
            "metadata": {
                "language": "sql",
                "azdata_cell_guid": "2ebc9c34-5cbc-4c7a-8a15-12ddc9525252"
            },
            "outputs": [
                {
                    "output_type": "display_data",
                    "data": {
                        "text/html": "(5 rows affected)"
                    },
                    "metadata": {}
                },
                {
                    "output_type": "display_data",
                    "data": {
                        "text/html": "Total execution time: 00:00:00.011"
                    },
                    "metadata": {}
                },
                {
                    "output_type": "execute_result",
                    "execution_count": 15,
                    "data": {
                        "application/vnd.dataresource+json": {
                            "schema": {
                                "fields": [
                                    {
                                        "name": "name"
                                    },
                                    {
                                        "name": "MonthlySalarySquareRoot"
                                    }
                                ]
                            },
                            "data": [
                                {
                                    "name": "Laxman",
                                    "MonthlySalarySquareRoot": "20.396078054371138"
                                },
                                {
                                    "name": "Padma",
                                    "MonthlySalarySquareRoot": "22.360679774997898"
                                },
                                {
                                    "name": "Naina",
                                    "MonthlySalarySquareRoot": "25"
                                },
                                {
                                    "name": "Ramulu",
                                    "MonthlySalarySquareRoot": "23.259406699226016"
                                },
                                {
                                    "name": "Harshita",
                                    "MonthlySalarySquareRoot": "21.400934559032695"
                                }
                            ]
                        },
                        "text/html": "<table><tr><th>name</th><th>MonthlySalarySquareRoot</th></tr><tr><td>Laxman</td><td>20.396078054371138</td></tr><tr><td>Padma</td><td>22.360679774997898</td></tr><tr><td>Naina</td><td>25</td></tr><tr><td>Ramulu</td><td>23.259406699226016</td></tr><tr><td>Harshita</td><td>21.400934559032695</td></tr></table>"
                    },
                    "metadata": {}
                }
            ],
            "execution_count": 15
        },
        {
            "cell_type": "markdown",
            "source": [
                "### **Some more Math functions**"
            ],
            "metadata": {
                "language": "sql",
                "azdata_cell_guid": "6945782b-29bb-44b2-8d88-e7b0b2dbca7f"
            },
            "attachments": {}
        },
        {
            "cell_type": "markdown",
            "source": [
                "**ABS() - Absolute Value Function:**\n",
                "\n",
                "- Returns the absolute (positive) value of a numeric expression."
            ],
            "metadata": {
                "language": "sql",
                "azdata_cell_guid": "1bb22e82-3c9e-4f49-a865-30908749d645"
            },
            "attachments": {}
        },
        {
            "cell_type": "code",
            "source": [
                "SELECT ABS(-15) AS AbsoluteValue;"
            ],
            "metadata": {
                "language": "sql",
                "azdata_cell_guid": "0730bacb-327f-4815-bbb7-34fc80a8c10a"
            },
            "outputs": [
                {
                    "output_type": "display_data",
                    "data": {
                        "text/html": "(1 row affected)"
                    },
                    "metadata": {}
                },
                {
                    "output_type": "display_data",
                    "data": {
                        "text/html": "Total execution time: 00:00:00.026"
                    },
                    "metadata": {}
                },
                {
                    "output_type": "execute_result",
                    "execution_count": 1,
                    "data": {
                        "application/vnd.dataresource+json": {
                            "schema": {
                                "fields": [
                                    {
                                        "name": "AbsoluteValue"
                                    }
                                ]
                            },
                            "data": [
                                {
                                    "AbsoluteValue": "15"
                                }
                            ]
                        },
                        "text/html": "<table><tr><th>AbsoluteValue</th></tr><tr><td>15</td></tr></table>"
                    },
                    "metadata": {}
                }
            ],
            "execution_count": 1
        },
        {
            "cell_type": "markdown",
            "source": [
                "**SIGN() - Sign Function:**\n",
                "\n",
                "- Returns the sign of a numeric expression (1 for positive, 0 for zero, -1 for negative"
            ],
            "metadata": {
                "language": "sql",
                "azdata_cell_guid": "e62755b5-1e2e-45fd-a813-45a82038ca06"
            },
            "attachments": {}
        },
        {
            "cell_type": "code",
            "source": [
                "SELECT TOP 5 SIGN(salary - 2000) AS FinancialStatus FROM employeeDetails;"
            ],
            "metadata": {
                "language": "sql",
                "azdata_cell_guid": "d9761761-58b9-4d25-81f6-bab7b1b601c1"
            },
            "outputs": [
                {
                    "output_type": "display_data",
                    "data": {
                        "text/html": "(5 rows affected)"
                    },
                    "metadata": {}
                },
                {
                    "output_type": "display_data",
                    "data": {
                        "text/html": "Total execution time: 00:00:00.009"
                    },
                    "metadata": {}
                },
                {
                    "output_type": "execute_result",
                    "execution_count": 6,
                    "data": {
                        "application/vnd.dataresource+json": {
                            "schema": {
                                "fields": [
                                    {
                                        "name": "FinancialStatus"
                                    }
                                ]
                            },
                            "data": [
                                {
                                    "FinancialStatus": "1"
                                },
                                {
                                    "FinancialStatus": "1"
                                },
                                {
                                    "FinancialStatus": "1"
                                },
                                {
                                    "FinancialStatus": "1"
                                },
                                {
                                    "FinancialStatus": "1"
                                }
                            ]
                        },
                        "text/html": "<table><tr><th>FinancialStatus</th></tr><tr><td>1</td></tr><tr><td>1</td></tr><tr><td>1</td></tr><tr><td>1</td></tr><tr><td>1</td></tr></table>"
                    },
                    "metadata": {}
                }
            ],
            "execution_count": 6
        },
        {
            "cell_type": "markdown",
            "source": [
                "**EXP() - Exponential Function:**\n",
                "\n",
                "   \\- Returns the exponential value of a numeric expression."
            ],
            "metadata": {
                "language": "sql",
                "azdata_cell_guid": "3064469b-e1ba-470a-8663-378bb4fad10e"
            },
            "attachments": {}
        },
        {
            "cell_type": "code",
            "source": [
                "SELECT EXP(2) AS ExponentialValue;"
            ],
            "metadata": {
                "language": "sql",
                "azdata_cell_guid": "390b127f-05a8-4d6d-a850-de5d6b74d10d"
            },
            "outputs": [
                {
                    "output_type": "display_data",
                    "data": {
                        "text/html": "(1 row affected)"
                    },
                    "metadata": {}
                },
                {
                    "output_type": "display_data",
                    "data": {
                        "text/html": "Total execution time: 00:00:00.012"
                    },
                    "metadata": {}
                },
                {
                    "output_type": "execute_result",
                    "execution_count": 7,
                    "data": {
                        "application/vnd.dataresource+json": {
                            "schema": {
                                "fields": [
                                    {
                                        "name": "ExponentialValue"
                                    }
                                ]
                            },
                            "data": [
                                {
                                    "ExponentialValue": "7.38905609893065"
                                }
                            ]
                        },
                        "text/html": "<table><tr><th>ExponentialValue</th></tr><tr><td>7.38905609893065</td></tr></table>"
                    },
                    "metadata": {}
                }
            ],
            "execution_count": 7
        },
        {
            "cell_type": "markdown",
            "source": [
                "**LOG() - Natural Logarithm Function:**\n",
                "\n",
                "   \\- Returns the natural logarithm of a specified number."
            ],
            "metadata": {
                "language": "sql",
                "azdata_cell_guid": "388bdd96-43eb-4648-9200-a2db899036f9"
            },
            "attachments": {}
        },
        {
            "cell_type": "code",
            "source": [
                "SELECT LOG(10) AS NaturalLogarithm;"
            ],
            "metadata": {
                "language": "sql",
                "azdata_cell_guid": "3f2709fc-65d1-4970-bedf-fa98a1fdb003"
            },
            "outputs": [
                {
                    "output_type": "display_data",
                    "data": {
                        "text/html": "(1 row affected)"
                    },
                    "metadata": {}
                },
                {
                    "output_type": "display_data",
                    "data": {
                        "text/html": "Total execution time: 00:00:00.005"
                    },
                    "metadata": {}
                },
                {
                    "output_type": "execute_result",
                    "execution_count": 8,
                    "data": {
                        "application/vnd.dataresource+json": {
                            "schema": {
                                "fields": [
                                    {
                                        "name": "NaturalLogarithm"
                                    }
                                ]
                            },
                            "data": [
                                {
                                    "NaturalLogarithm": "2.302585092994046"
                                }
                            ]
                        },
                        "text/html": "<table><tr><th>NaturalLogarithm</th></tr><tr><td>2.302585092994046</td></tr></table>"
                    },
                    "metadata": {}
                }
            ],
            "execution_count": 8
        },
        {
            "cell_type": "markdown",
            "source": [
                "**LOG10() - Base-10 Logarithm Function:**\n",
                "\n",
                "   \\- Returns the base-10 logarithm of a specified number."
            ],
            "metadata": {
                "language": "sql",
                "azdata_cell_guid": "aa295080-6200-4757-962b-cb6b3e2bd200"
            },
            "attachments": {}
        },
        {
            "cell_type": "code",
            "source": [
                "SELECT LOG10(100) AS LogBase10;"
            ],
            "metadata": {
                "language": "sql",
                "azdata_cell_guid": "5f6d8eb4-a7e1-4d49-8984-440257f2d4b9"
            },
            "outputs": [
                {
                    "output_type": "display_data",
                    "data": {
                        "text/html": "(1 row affected)"
                    },
                    "metadata": {}
                },
                {
                    "output_type": "display_data",
                    "data": {
                        "text/html": "Total execution time: 00:00:00.007"
                    },
                    "metadata": {}
                },
                {
                    "output_type": "execute_result",
                    "execution_count": 9,
                    "data": {
                        "application/vnd.dataresource+json": {
                            "schema": {
                                "fields": [
                                    {
                                        "name": "LogBase10"
                                    }
                                ]
                            },
                            "data": [
                                {
                                    "LogBase10": "2"
                                }
                            ]
                        },
                        "text/html": "<table><tr><th>LogBase10</th></tr><tr><td>2</td></tr></table>"
                    },
                    "metadata": {}
                }
            ],
            "execution_count": 9
        },
        {
            "cell_type": "markdown",
            "source": [
                "**PI() - Pi Function:**\n",
                "\n",
                "   \\- Returns the mathematical constant pi (π)."
            ],
            "metadata": {
                "language": "sql",
                "azdata_cell_guid": "79674cbb-b9c0-4fae-b207-aff28a6259f9"
            },
            "attachments": {}
        },
        {
            "cell_type": "code",
            "source": [
                "SELECT PI() AS PiValue;"
            ],
            "metadata": {
                "language": "sql",
                "azdata_cell_guid": "7bcf3979-da60-43c9-93c8-5879b4b8547a"
            },
            "outputs": [
                {
                    "output_type": "display_data",
                    "data": {
                        "text/html": "(1 row affected)"
                    },
                    "metadata": {}
                },
                {
                    "output_type": "display_data",
                    "data": {
                        "text/html": "Total execution time: 00:00:00.007"
                    },
                    "metadata": {}
                },
                {
                    "output_type": "execute_result",
                    "execution_count": 10,
                    "data": {
                        "application/vnd.dataresource+json": {
                            "schema": {
                                "fields": [
                                    {
                                        "name": "PiValue"
                                    }
                                ]
                            },
                            "data": [
                                {
                                    "PiValue": "3.141592653589793"
                                }
                            ]
                        },
                        "text/html": "<table><tr><th>PiValue</th></tr><tr><td>3.141592653589793</td></tr></table>"
                    },
                    "metadata": {}
                }
            ],
            "execution_count": 10
        },
        {
            "cell_type": "markdown",
            "source": [
                "**RAND() - Random Number Function:**\n",
                "\n",
                "   - Returns a random float value between 0 and 1."
            ],
            "metadata": {
                "language": "sql",
                "azdata_cell_guid": "65e8a473-a4b8-4bc3-ad13-82b2aa91f2c3"
            },
            "attachments": {}
        },
        {
            "cell_type": "code",
            "source": [
                "SELECT RAND() AS RandomValue;"
            ],
            "metadata": {
                "language": "sql",
                "azdata_cell_guid": "eafdb98a-b243-4920-b6bd-549e819b8c95"
            },
            "outputs": [
                {
                    "output_type": "display_data",
                    "data": {
                        "text/html": "(1 row affected)"
                    },
                    "metadata": {}
                },
                {
                    "output_type": "display_data",
                    "data": {
                        "text/html": "Total execution time: 00:00:00.007"
                    },
                    "metadata": {}
                },
                {
                    "output_type": "execute_result",
                    "execution_count": 11,
                    "data": {
                        "application/vnd.dataresource+json": {
                            "schema": {
                                "fields": [
                                    {
                                        "name": "RandomValue"
                                    }
                                ]
                            },
                            "data": [
                                {
                                    "RandomValue": "0.23221384062995562"
                                }
                            ]
                        },
                        "text/html": "<table><tr><th>RandomValue</th></tr><tr><td>0.23221384062995562</td></tr></table>"
                    },
                    "metadata": {}
                }
            ],
            "execution_count": 11
        },
        {
            "cell_type": "markdown",
            "source": [
                "### **Peculiarities and Considerations for Math Functions:**\n",
                "\n",
                "- **Data Type Compatibility:** Ensure that the data types used in math functions are compatible to avoid unexpected results or errors.\n",
                "- **Precision and Scale**: Be mindful of precision and scale when dealing with numeric calculations. Rounding may be necessary to control the number of decimal places.\n",
                "- **Divide by Zero**: Be cautious about dividing by zero, as it can lead to runtime errors. Use appropriate checks or handle such scenarios."
            ],
            "metadata": {
                "language": "sql",
                "azdata_cell_guid": "242298d6-48b8-48bb-bca7-1d88fbdf2fda"
            },
            "attachments": {}
        },
        {
            "cell_type": "markdown",
            "source": [
                "### **Most Common Mistakes while Using Math Functions:**\n",
                "\n",
                "- **Divide by Zero**: Forgetting to check for zero denominators when performing division.\n",
                "- **Data Type Mismatch:** Ensuring that the data types of the operands are compatible with the intended operation.\n",
                "- **Order of Operations:** Understanding the order in which operations are executed in a query and using parentheses to control the sequence if needed.\n",
                "- **Rounding Errors:** Being aware of potential rounding errors, especially when dealing with floating-point numbers."
            ],
            "metadata": {
                "language": "sql",
                "azdata_cell_guid": "c81e29f8-2d61-4f39-84ab-178e8e23ce0c"
            },
            "attachments": {}
        }
    ]
}