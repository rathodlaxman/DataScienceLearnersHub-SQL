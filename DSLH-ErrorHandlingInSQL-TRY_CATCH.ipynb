{
    "metadata": {
        "kernelspec": {
            "name": "SQL",
            "display_name": "SQL",
            "language": "sql"
        },
        "language_info": {
            "name": "sql",
            "version": ""
        }
    },
    "nbformat_minor": 2,
    "nbformat": 4,
    "cells": [
        {
            "cell_type": "markdown",
            "source": [
                "# **Data Science Learners Hub**\n",
                "\n",
                "**Module : SQL**\n",
                "\n",
                "**email** : [datasciencelearnershub@gmail.com](mailto:datasciencelearnershub@gmail.com)"
            ],
            "metadata": {
                "azdata_cell_guid": "a3120483-db6a-4088-b685-acf707e7d95b"
            },
            "attachments": {}
        },
        {
            "cell_type": "markdown",
            "source": [
                "## **# Error handling in MS SQL Server : TRY...CATCH**"
            ],
            "metadata": {
                "azdata_cell_guid": "13b56666-0773-4298-af8b-8c68aee0b6a5"
            },
            "attachments": {}
        },
        {
            "cell_type": "markdown",
            "source": [
                "**1. Introduction:**\n",
                "\n",
                "Error handling in SQL is like having a safety net for your code. Imagine you're cooking, and you want to follow a recipe. If something goes wrong, you'd want to have a backup plan or know how to handle unexpected situations. That's exactly what error handling does in SQL—it helps you gracefully deal with errors that might occur during the execution of your code.\n",
                "\n",
                "**2. Why Learn Error Handling:**\n",
                "\n",
                "Learning about error handling is crucial because it allows you to write more robust and reliable SQL code. It's like having a plan for when things don't go as expected. In a real-world scenario, you wouldn't want your application to crash just because of a small hiccup; error handling helps you prevent that.\n",
                "\n",
                "**3. Real-world Applications:**\n",
                "\n",
                "Consider an online banking system. When a user tries to transfer money between accounts, you want to make sure the transaction completes successfully. Error handling ensures that if something unexpected happens, like a network issue or database problem, the system can gracefully inform the user or roll back the transaction.\n",
                "\n",
                "**4. Syntax and Types:**\n",
                "\n",
                "In SQL, the `TRY...CATCH` block is used for error handling. Here's the basic syntax:\n",
                "\n",
                "```sql\n",
                "BEGIN TRY\n",
                "   -- SQL code that might cause an error\n",
                "END TRY\n",
                "BEGIN CATCH\n",
                "   -- Handling the error, logging, or rolling back changes\n",
                "END CATCH\n",
                "```\n",
                "\n",
                "Now, let's look at a specific example:\n",
                "\n",
                "```sql\n",
                "BEGIN TRY\n",
                "   -- Some code that might cause an error\n",
                "   SELECT 1 / 0;  -- Division by zero to simulate an error\n",
                "END TRY\n",
                "BEGIN CATCH\n",
                "   -- Handling the error\n",
                "   PRINT 'An error occurred. Division by zero is not allowed.';\n",
                "END CATCH\n",
                "```\n",
                "\n",
                "In this example, if there's an attempt to divide by zero, it will be caught in the `CATCH` block, and a message will be printed.\n",
                ""
            ],
            "metadata": {
                "azdata_cell_guid": "fd9a8f7f-7ad8-42a2-9367-d06310464637"
            },
            "attachments": {}
        },
        {
            "cell_type": "markdown",
            "source": [
                "**5. Considerations:**\n",
                "\n",
                "It's important to note that the `TRY...CATCH` block can only catch errors with a severity level greater than 10. Lower severity errors are considered informational and won't trigger the `CATCH` block. Same is discussed in detailed at the end of the topic\n",
                "\n",
                "- Nested TRY...CATCH blocks are allowed for granular error handling.\n",
                "\n",
                "- Use RAISERROR within CATCH to signal specific errors.\n",
                "\n",
                "- Transaction rollback is often essential within CATCH to maintain data integrity.\n",
                "\n",
                "**6. Common Mistakes:**\n",
                "\n",
                "One common mistake is not being specific enough in handling different types of errors. It's essential to have a clear understanding of potential errors that might occur in your code and to handle them appropriately in the `CATCH` block.\n",
                "\n",
                "- Neglecting to handle errors gracefully, leading to abrupt termination or unexpected behavior.\n",
                "\n",
                "- Overusing TRY...CATCH, potentially impacting performance.\n",
                "\n",
                "- Improper rollback of transactions, resulting in partial data updates."
            ],
            "metadata": {
                "azdata_cell_guid": "50aa301f-e386-4cac-bf0c-06e13f4c30a8"
            },
            "attachments": {}
        },
        {
            "cell_type": "markdown",
            "source": [
                "**7. Hands-on Experience:**\n",
                "\n",
                "Let's create a table and generate insert queries to demonstrate error handling:"
            ],
            "metadata": {
                "azdata_cell_guid": "e5868030-c8d8-4faa-886b-1a2cf21a1da7"
            },
            "attachments": {}
        },
        {
            "cell_type": "code",
            "source": [
                "USE DataScienceLearnersHub"
            ],
            "metadata": {
                "azdata_cell_guid": "a44f8c59-5e00-4a6b-b375-120c288fe517",
                "language": "sql"
            },
            "outputs": [
                {
                    "output_type": "display_data",
                    "data": {
                        "text/html": "Commands completed successfully."
                    },
                    "metadata": {}
                },
                {
                    "output_type": "display_data",
                    "data": {
                        "text/html": "Total execution time: 00:00:00.001"
                    },
                    "metadata": {}
                }
            ],
            "execution_count": 1
        },
        {
            "cell_type": "code",
            "source": [
                "DROP TABLE products"
            ],
            "metadata": {
                "language": "sql",
                "azdata_cell_guid": "609d116f-c69d-490b-8be9-dadbb37e22a3"
            },
            "outputs": [
                {
                    "output_type": "display_data",
                    "data": {
                        "text/html": "Commands completed successfully."
                    },
                    "metadata": {}
                },
                {
                    "output_type": "display_data",
                    "data": {
                        "text/html": "Total execution time: 00:00:00.030"
                    },
                    "metadata": {}
                }
            ],
            "execution_count": 3
        },
        {
            "cell_type": "code",
            "source": [
                "-- Creating a Sample Table\n",
                "CREATE TABLE products (\n",
                "    product_id INT PRIMARY KEY,\n",
                "    product_name VARCHAR(50),\n",
                "    price DECIMAL(10,2)\n",
                ");"
            ],
            "metadata": {
                "language": "",
                "azdata_cell_guid": "8bf7423e-484c-4cb5-8d39-ea726230c1d0"
            },
            "outputs": [
                {
                    "output_type": "display_data",
                    "data": {
                        "text/html": "Commands completed successfully."
                    },
                    "metadata": {}
                },
                {
                    "output_type": "display_data",
                    "data": {
                        "text/html": "Total execution time: 00:00:00.010"
                    },
                    "metadata": {}
                }
            ],
            "execution_count": 4
        },
        {
            "cell_type": "code",
            "source": [
                "-- Inserting Sample Data (Intentional Error)\n",
                "BEGIN TRY\n",
                "    INSERT INTO products VALUES (1, 'Laptop', 'Not a valid price');\n",
                "END TRY\n",
                "BEGIN CATCH\n",
                "    PRINT 'An error occurred while inserting data.';\n",
                "END CATCH"
            ],
            "metadata": {
                "azdata_cell_guid": "1ef3e358-c944-45cf-ae4f-df85084587f1",
                "language": "sql"
            },
            "outputs": [
                {
                    "output_type": "display_data",
                    "data": {
                        "text/html": "(0 rows affected)"
                    },
                    "metadata": {}
                },
                {
                    "output_type": "display_data",
                    "data": {
                        "text/html": "An error occurred while inserting data."
                    },
                    "metadata": {}
                },
                {
                    "output_type": "display_data",
                    "data": {
                        "text/html": "Total execution time: 00:00:00.028"
                    },
                    "metadata": {}
                }
            ],
            "execution_count": 5
        },
        {
            "cell_type": "markdown",
            "source": [
                "**Explanation :** In this example, we intentionally inserted invalid data to trigger an error and handled it in the `CATCH` block."
            ],
            "metadata": {
                "language": "sql",
                "azdata_cell_guid": "c241fce8-99b8-4f66-8f3a-1b702fcf1434"
            },
            "attachments": {}
        },
        {
            "cell_type": "markdown",
            "source": [
                "**Question 1. Insert Correct Data:**\n",
                "   - Try inserting a product with a valid price, and observe the result."
            ],
            "metadata": {
                "language": "sql",
                "azdata_cell_guid": "da276731-652c-4733-96f6-9b7fe81b2e7a"
            },
            "attachments": {}
        },
        {
            "cell_type": "code",
            "source": [
                "-- Insert Correct Data\n",
                "BEGIN TRY\n",
                "    INSERT INTO products VALUES (2, 'Tablet', 799.99);\n",
                "END TRY\n",
                "BEGIN CATCH\n",
                "    PRINT 'An error occurred while inserting data.';\n",
                "END CATCH"
            ],
            "metadata": {
                "language": "sql",
                "azdata_cell_guid": "74b41251-1028-454b-8fa6-37637ae54176"
            },
            "outputs": [
                {
                    "output_type": "display_data",
                    "data": {
                        "text/html": "(1 row affected)"
                    },
                    "metadata": {}
                },
                {
                    "output_type": "display_data",
                    "data": {
                        "text/html": "Total execution time: 00:00:00.022"
                    },
                    "metadata": {}
                }
            ],
            "execution_count": 6
        },
        {
            "cell_type": "markdown",
            "source": [
                "**Question 2. Handle Different Error Types:**\n",
                "   - Modify the `TRY` block to attempt to insert a duplicate product_id and handle the error accordingly."
            ],
            "metadata": {
                "language": "sql",
                "azdata_cell_guid": "3713de4e-850e-426c-836f-35dbd2e80e75"
            },
            "attachments": {}
        },
        {
            "cell_type": "code",
            "source": [
                "-- Handle Duplicate Product ID\n",
                "BEGIN TRY\n",
                "    INSERT INTO products VALUES (1, 'Smartphone', 699.99);\n",
                "END TRY\n",
                "BEGIN CATCH\n",
                "    IF ERROR_NUMBER() = 2627\n",
                "        PRINT 'Duplicate product_id. Please choose a different ID.';\n",
                "    ELSE\n",
                "        PRINT 'An error occurred while inserting data.';\n",
                "END CATCH"
            ],
            "metadata": {
                "language": "sql",
                "azdata_cell_guid": "12208814-78f6-411d-8db0-0415e29b6ad0"
            },
            "outputs": [
                {
                    "output_type": "display_data",
                    "data": {
                        "text/html": "(1 row affected)"
                    },
                    "metadata": {}
                },
                {
                    "output_type": "display_data",
                    "data": {
                        "text/html": "Total execution time: 00:00:00.013"
                    },
                    "metadata": {}
                }
            ],
            "execution_count": 7
        },
        {
            "cell_type": "code",
            "source": [
                "-- Handle Duplicate Product ID\n",
                "BEGIN TRY\n",
                "    INSERT INTO products VALUES (1, 'Smartphone', 699.99);\n",
                "END TRY\n",
                "BEGIN CATCH\n",
                "    IF ERROR_NUMBER() = 2627\n",
                "        PRINT 'Duplicate product_id. Please choose a different ID.';\n",
                "    ELSE\n",
                "        PRINT 'An error occurred while inserting data.';\n",
                "END CATCH"
            ],
            "metadata": {
                "language": "sql",
                "azdata_cell_guid": "3a7adf3f-8962-40eb-be71-22ce1dab73bf"
            },
            "outputs": [
                {
                    "output_type": "display_data",
                    "data": {
                        "text/html": "(0 rows affected)"
                    },
                    "metadata": {}
                },
                {
                    "output_type": "display_data",
                    "data": {
                        "text/html": "Duplicate product_id. Please choose a different ID."
                    },
                    "metadata": {}
                },
                {
                    "output_type": "display_data",
                    "data": {
                        "text/html": "Total execution time: 00:00:00.016"
                    },
                    "metadata": {}
                }
            ],
            "execution_count": 8
        },
        {
            "cell_type": "markdown",
            "source": [
                "**3. Update Operation:**\n",
                "   - Implement a `TRY...CATCH` block for an update operation where you try to update a non-existing product. Handle the error appropriately."
            ],
            "metadata": {
                "language": "sql",
                "azdata_cell_guid": "c29b0642-c830-4977-aa88-38a7d71812c5"
            },
            "attachments": {}
        },
        {
            "cell_type": "code",
            "source": [
                "-- Update Operation with Error Handling\n",
                "BEGIN TRY\n",
                "    UPDATE products SET price = 899.99 WHERE product_id = 3;  -- Assuming product_id 3 does not exist\n",
                "END TRY\n",
                "BEGIN CATCH\n",
                "    IF ERROR_NUMBER() = 0\n",
                "        PRINT 'No product found with the specified ID.';\n",
                "    ELSE\n",
                "        PRINT 'An error occurred while updating data.';\n",
                "END CATCH"
            ],
            "metadata": {
                "language": "sql",
                "azdata_cell_guid": "76d79a3f-3054-441c-967c-a3d0821c3d9f",
                "tags": []
            },
            "outputs": [
                {
                    "output_type": "display_data",
                    "data": {
                        "text/html": "(0 rows affected)"
                    },
                    "metadata": {}
                },
                {
                    "output_type": "display_data",
                    "data": {
                        "text/html": "Total execution time: 00:00:00.002"
                    },
                    "metadata": {}
                }
            ],
            "execution_count": 11
        },
        {
            "cell_type": "markdown",
            "source": [
                "**Explanation:**\n",
                "\n",
                "The code appears correct for handling the case where the product with product_id = 3 does not exist. It should print the message \"No product found with the specified ID.\" in the case of non-existing data.\n",
                "\n",
                "However, it's worth noting that SQL Server may not always raise an error if the UPDATE statement does not find any rows to update. In such cases, the ERROR_NUMBER() may not be set to a non-zero value, and the CATCH block might not be triggered.\n",
                "\n",
                "To enhance the error handling, you can also check the @@ROWCOUNT immediately after the UPDATE statement to see if any rows were affected. If @@ROWCOUNT is zero, it indicates that no rows were updated, and you can handle it accordingly.\n",
                "\n",
                "Here's an updated version of the code"
            ],
            "metadata": {
                "azdata_cell_guid": "cc422cdb-f493-435d-841f-338437d1aea7"
            },
            "attachments": {}
        },
        {
            "cell_type": "code",
            "source": [
                "-- Update Operation with Enhanced Error Handling\n",
                "BEGIN TRY\n",
                "    UPDATE products SET price = 899.99 WHERE product_id = 3;  -- Assuming product_id 3 does not exist\n",
                "    IF @@ROWCOUNT = 0\n",
                "        PRINT 'No product found with the specified ID.';\n",
                "END TRY\n",
                "BEGIN CATCH\n",
                "    PRINT 'An error occurred while updating data.';\n",
                "END CATCH\n",
                ""
            ],
            "metadata": {
                "language": "sql",
                "azdata_cell_guid": "c1d088fb-470b-4184-bd7f-7ed84c63c0a9"
            },
            "outputs": [
                {
                    "output_type": "display_data",
                    "data": {
                        "text/html": "(0 rows affected)"
                    },
                    "metadata": {}
                },
                {
                    "output_type": "display_data",
                    "data": {
                        "text/html": "No product found with the specified ID."
                    },
                    "metadata": {}
                },
                {
                    "output_type": "display_data",
                    "data": {
                        "text/html": "Total execution time: 00:00:00.020"
                    },
                    "metadata": {}
                }
            ],
            "execution_count": 13
        },
        {
            "cell_type": "markdown",
            "source": [
                "**4. Transaction Rollback:**\n",
                "   - Use a `TRY...CATCH` block to attempt inserting two products. If the second insert fails, ensure the first one is rolled back."
            ],
            "metadata": {
                "language": "sql",
                "azdata_cell_guid": "08025f8c-cbb6-4ed2-bc67-3f4c6344fef5"
            },
            "attachments": {}
        },
        {
            "cell_type": "code",
            "source": [
                "-- Transaction Rollback\n",
                "BEGIN TRY\n",
                "    BEGIN TRANSACTION;\n",
                "\n",
                "    -- Insert First Product\n",
                "    INSERT INTO products VALUES (4, 'Headphones', 149.99);\n",
                "\n",
                "    -- Intentional Error to Trigger Rollback\n",
                "    INSERT INTO products VALUES (4, 'Camera', 'Invalid price');\n",
                "\n",
                "    COMMIT;\n",
                "END TRY\n",
                "BEGIN CATCH\n",
                "    ROLLBACK;\n",
                "    PRINT 'An error occurred. The transaction was rolled back.';\n",
                "END CATCH"
            ],
            "metadata": {
                "language": "sql",
                "azdata_cell_guid": "c9d1bfa2-68de-4dbd-9212-895f2d00962f"
            },
            "outputs": [
                {
                    "output_type": "display_data",
                    "data": {
                        "text/html": "(1 row affected)"
                    },
                    "metadata": {}
                },
                {
                    "output_type": "display_data",
                    "data": {
                        "text/html": "(0 rows affected)"
                    },
                    "metadata": {}
                },
                {
                    "output_type": "display_data",
                    "data": {
                        "text/html": "An error occurred. The transaction was rolled back."
                    },
                    "metadata": {}
                },
                {
                    "output_type": "display_data",
                    "data": {
                        "text/html": "Total execution time: 00:00:00.015"
                    },
                    "metadata": {}
                }
            ],
            "execution_count": 12
        },
        {
            "cell_type": "markdown",
            "source": [
                "**Note :** These solutions demonstrate how to handle different scenarios using the `TRY...CATCH` block in SQL Server. Feel free to experiment with the code and explore additional error-handling techniques!"
            ],
            "metadata": {
                "language": "sql",
                "azdata_cell_guid": "e95a5ff2-e749-4db4-8f6d-e9ec2ba507fc"
            },
            "attachments": {}
        },
        {
            "cell_type": "markdown",
            "source": [
                "**8. Homework Assignment:**\n",
                "\n",
                "1. **Advanced Error Handling:**\n",
                "   - Research and implement error handling for a scenario involving multiple operations (insert, update, delete) within a single transaction.\n",
                "\n",
                "2. **Logging Errors:**\n",
                "   - Modify the `CATCH` block to log detailed information about the error, such as the error message, severity, and timestamp.\n",
                "\n",
                "3. **User-Friendly Messages:**\n",
                "   - Improve the user experience by providing more user-friendly error messages in the `CATCH` block for different error scenarios.\n",
                "\n",
                "4. **Nested TRY...CATCH:**\n",
                "   - Explore and implement a nested `TRY...CATCH` block for more granular error handling.\n",
                "\n",
                "5. **Error Propagation:**\n",
                "   - Investigate how errors propagate through nested procedures and implement error handling at different levels."
            ],
            "metadata": {
                "language": "sql",
                "azdata_cell_guid": "c7feb4da-c27d-45bd-9960-d70a633a7a6d"
            },
            "attachments": {}
        },
        {
            "cell_type": "markdown",
            "source": [
                "**9. Mishaps and Advantages:**\n",
                "- **Mishap**: Inadequate error handling can lead to data corruption, application crashes, or security vulnerabilities.\n",
                "\n",
                "- **Advantage**: Robust error handling enhances code reliability, user experience, and maintainability.\n",
                "\n",
                "**10. Do you Know ?**\n",
                "\n",
                "Did you know that error handling has evolved over the years in SQL Server? In SQL Server 2012 and later versions, there's a new `THROW` statement that provides more flexibility in rethrowing errors and customizing error messages. Understanding these advancements can help you write more efficient and sophisticated error-handling code in modern SQL Server environments."
            ],
            "metadata": {
                "language": "sql",
                "azdata_cell_guid": "1a9dd3df-fd70-4ecb-8ad0-22c7fda1028a"
            },
            "attachments": {}
        },
        {
            "cell_type": "markdown",
            "source": [
                "**11. Security levels of error messages:**\n",
                "\n",
                "In SQL Server, each error is assigned a severity level that indicates the seriousness of the error. The severity level ranges from 0 to 25, with 0 being a successful operation and 25 indicating a fatal system error. Severity levels from 11 to 19 represent errors that can be corrected by the user, while severity levels from 20 to 25 indicate system problems.\n",
                "\n",
                "The statement \"It's important to note that the `TRY...CATCH` block can only catch errors with a severity level greater than 10. Lower severity errors are considered informational and won't trigger the `CATCH` block\" means that the `TRY...CATCH` construct is designed to capture and handle errors of a certain severity or higher.\n",
                "\n",
                "Here's a breakdown:\n",
                "\n",
                "- **Severity levels 0 to 10**: These are considered informational messages and successful operations. They typically do not indicate an error that needs special handling. The `TRY...CATCH` block does not capture or handle errors with severity levels 0 to 10.\n",
                "\n",
                "- **Severity levels 11 to 19**: These errors are generally less severe and represent issues that can be corrected by the user. The `TRY...CATCH` block can capture and handle errors with severity levels 11 to 19.\n",
                "\n",
                "- **Severity levels 20 to 25**: These errors are more severe and often indicate system problems or issues that require immediate attention. The `TRY...CATCH` block can capture and handle errors with severity levels 20 to 25.\n",
                "\n",
                "In summary, the `TRY...CATCH` block is not intended to capture informational messages or very low severity errors. It is designed to handle errors that may disrupt the normal flow of execution or require special handling, typically errors with severity levels 11 and above. If you want to capture and handle specific lower severity errors, you might need to use other mechanisms, such as checking the error message text or using conditional logic within your code."
            ],
            "metadata": {
                "language": "sql",
                "azdata_cell_guid": "d9163797-9fc4-441b-affb-49362a815fd1"
            },
            "attachments": {}
        }
    ]
}