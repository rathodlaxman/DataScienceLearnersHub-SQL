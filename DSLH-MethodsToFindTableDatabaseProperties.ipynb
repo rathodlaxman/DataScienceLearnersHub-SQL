{
    "metadata": {
        "kernelspec": {
            "name": "SQL",
            "display_name": "SQL",
            "language": "sql"
        },
        "language_info": {
            "name": "sql",
            "version": ""
        }
    },
    "nbformat_minor": 2,
    "nbformat": 4,
    "cells": [
        {
            "cell_type": "markdown",
            "source": [
                "# **Data Science Learners Hub**\n",
                "\n",
                "**Module : SQL**\n",
                "\n",
                "**Topic :** **Methods to Find Table and Database Properties, Table Description etc**\n",
                "\n",
                "**email** : [datasciencelearnershub@gmail.com](mailto:datasciencelearnershub@gmail.com)\n",
                "\n",
                "**Telegram** : [https://t.me/DataScienceLearnersHub](https://t.me/DataScienceLearnersHub)"
            ],
            "metadata": {
                "azdata_cell_guid": "01d40b0d-03ba-4507-aa1e-5a0fd561a721"
            },
            "attachments": {}
        },
        {
            "cell_type": "markdown",
            "source": [
                "### **Methods to Find Table Properties, Table Description etc**"
            ],
            "metadata": {
                "azdata_cell_guid": "6e5c56d8-f2a9-495b-8ac4-0393389386a9"
            },
            "attachments": {}
        },
        {
            "cell_type": "code",
            "source": [
                "USE DataScienceLearnersHub"
            ],
            "metadata": {
                "azdata_cell_guid": "c597de63-b546-42ba-af66-7c7fe88a6763",
                "language": "sql"
            },
            "outputs": [
                {
                    "output_type": "display_data",
                    "data": {
                        "text/html": "Commands completed successfully."
                    },
                    "metadata": {}
                },
                {
                    "output_type": "display_data",
                    "data": {
                        "text/html": "Total execution time: 00:00:00.003"
                    },
                    "metadata": {}
                }
            ],
            "execution_count": 2
        },
        {
            "cell_type": "code",
            "source": [
                "SELECT * FROM Emp"
            ],
            "metadata": {
                "language": "sql",
                "azdata_cell_guid": "105fe857-6180-40a3-b7f3-092b6b6c0992"
            },
            "outputs": [
                {
                    "output_type": "display_data",
                    "data": {
                        "text/html": "(12 rows affected)"
                    },
                    "metadata": {}
                },
                {
                    "output_type": "display_data",
                    "data": {
                        "text/html": "Total execution time: 00:00:00.005"
                    },
                    "metadata": {}
                },
                {
                    "output_type": "execute_result",
                    "execution_count": 3,
                    "data": {
                        "application/vnd.dataresource+json": {
                            "schema": {
                                "fields": [
                                    {
                                        "name": "id"
                                    },
                                    {
                                        "name": "name"
                                    },
                                    {
                                        "name": "age"
                                    },
                                    {
                                        "name": "gender"
                                    },
                                    {
                                        "name": "salary"
                                    },
                                    {
                                        "name": "department"
                                    },
                                    {
                                        "name": "MonthlySalary"
                                    },
                                    {
                                        "name": "EmailAddress"
                                    },
                                    {
                                        "name": "FullName"
                                    }
                                ]
                            },
                            "data": [
                                {
                                    "id": "1",
                                    "name": "Rajesh",
                                    "age": "30",
                                    "gender": "Male",
                                    "salary": "60000.00",
                                    "department": "IT",
                                    "MonthlySalary": "5000.000000",
                                    "EmailAddress": "Rajesh_1@company.com",
                                    "FullName": "Rajesh IT"
                                },
                                {
                                    "id": "3",
                                    "name": "Laxman",
                                    "age": "35",
                                    "gender": "Male",
                                    "salary": "70000.75",
                                    "department": "Finance",
                                    "MonthlySalary": "5833.395833",
                                    "EmailAddress": "Laxman_3@company.com",
                                    "FullName": "Laxman Finance"
                                },
                                {
                                    "id": "4",
                                    "name": "Ganga",
                                    "age": "28",
                                    "gender": "Female",
                                    "salary": "48000.25",
                                    "department": "Marketing",
                                    "MonthlySalary": "4000.020833",
                                    "EmailAddress": "Ganga_4@company.com",
                                    "FullName": "Ganga Marketing"
                                },
                                {
                                    "id": "5",
                                    "name": "Nikhil",
                                    "age": "32",
                                    "gender": "Male",
                                    "salary": "72000.00",
                                    "department": "IT",
                                    "MonthlySalary": "6000.000000",
                                    "EmailAddress": "Nikhil_5@company.com",
                                    "FullName": "Nikhil IT"
                                },
                                {
                                    "id": "6",
                                    "name": "Sarita",
                                    "age": "29",
                                    "gender": "Female",
                                    "salary": "58000.75",
                                    "department": "HR",
                                    "MonthlySalary": "4833.395833",
                                    "EmailAddress": "Sarita_6@company.com",
                                    "FullName": "Sarita HR"
                                },
                                {
                                    "id": "7",
                                    "name": "Bunny",
                                    "age": "40",
                                    "gender": "Male",
                                    "salary": "85000.50",
                                    "department": "Finance",
                                    "MonthlySalary": "7083.375000",
                                    "EmailAddress": "Bunny_7@company.com",
                                    "FullName": "Bunny Finance"
                                },
                                {
                                    "id": "8",
                                    "name": "Namrata",
                                    "age": "26",
                                    "gender": "Female",
                                    "salary": "50000.50",
                                    "department": "Marketing",
                                    "MonthlySalary": "4166.708333",
                                    "EmailAddress": "Namrata_8@company.com",
                                    "FullName": "Namrata Marketing"
                                },
                                {
                                    "id": "9",
                                    "name": "Abhiram",
                                    "age": "38",
                                    "gender": "Male",
                                    "salary": "78000.25",
                                    "department": "IT",
                                    "MonthlySalary": "6500.020833",
                                    "EmailAddress": "Abhiram_9@company.com",
                                    "FullName": "Abhiram IT"
                                },
                                {
                                    "id": "10",
                                    "name": "Tikram",
                                    "age": "31",
                                    "gender": "Female",
                                    "salary": "62000.00",
                                    "department": "Finance",
                                    "MonthlySalary": "5166.666666",
                                    "EmailAddress": "Tikram_10@company.com",
                                    "FullName": "Tikram Finance"
                                },
                                {
                                    "id": "11",
                                    "name": "Ramulu",
                                    "age": "58",
                                    "gender": "Male",
                                    "salary": "178000.25",
                                    "department": "IT",
                                    "MonthlySalary": "14833.354166",
                                    "EmailAddress": "Ramulu_11@company.com",
                                    "FullName": "Ramulu IT"
                                },
                                {
                                    "id": "12",
                                    "name": "Bala",
                                    "age": "51",
                                    "gender": "Female",
                                    "salary": "162000.00",
                                    "department": "Finance",
                                    "MonthlySalary": "13500.000000",
                                    "EmailAddress": "Bala_12@company.com",
                                    "FullName": "Bala Finance"
                                },
                                {
                                    "id": "16",
                                    "name": "Arjun",
                                    "age": "31",
                                    "gender": "NULL",
                                    "salary": "NULL",
                                    "department": "NULL",
                                    "MonthlySalary": "NULL",
                                    "EmailAddress": "Arjun_16@company.com",
                                    "FullName": "Arjun "
                                }
                            ]
                        },
                        "text/html": "<table><tr><th>id</th><th>name</th><th>age</th><th>gender</th><th>salary</th><th>department</th><th>MonthlySalary</th><th>EmailAddress</th><th>FullName</th></tr><tr><td>1</td><td>Rajesh</td><td>30</td><td>Male</td><td>60000.00</td><td>IT</td><td>5000.000000</td><td>Rajesh_1@company.com</td><td>Rajesh IT</td></tr><tr><td>3</td><td>Laxman</td><td>35</td><td>Male</td><td>70000.75</td><td>Finance</td><td>5833.395833</td><td>Laxman_3@company.com</td><td>Laxman Finance</td></tr><tr><td>4</td><td>Ganga</td><td>28</td><td>Female</td><td>48000.25</td><td>Marketing</td><td>4000.020833</td><td>Ganga_4@company.com</td><td>Ganga Marketing</td></tr><tr><td>5</td><td>Nikhil</td><td>32</td><td>Male</td><td>72000.00</td><td>IT</td><td>6000.000000</td><td>Nikhil_5@company.com</td><td>Nikhil IT</td></tr><tr><td>6</td><td>Sarita</td><td>29</td><td>Female</td><td>58000.75</td><td>HR</td><td>4833.395833</td><td>Sarita_6@company.com</td><td>Sarita HR</td></tr><tr><td>7</td><td>Bunny</td><td>40</td><td>Male</td><td>85000.50</td><td>Finance</td><td>7083.375000</td><td>Bunny_7@company.com</td><td>Bunny Finance</td></tr><tr><td>8</td><td>Namrata</td><td>26</td><td>Female</td><td>50000.50</td><td>Marketing</td><td>4166.708333</td><td>Namrata_8@company.com</td><td>Namrata Marketing</td></tr><tr><td>9</td><td>Abhiram</td><td>38</td><td>Male</td><td>78000.25</td><td>IT</td><td>6500.020833</td><td>Abhiram_9@company.com</td><td>Abhiram IT</td></tr><tr><td>10</td><td>Tikram</td><td>31</td><td>Female</td><td>62000.00</td><td>Finance</td><td>5166.666666</td><td>Tikram_10@company.com</td><td>Tikram Finance</td></tr><tr><td>11</td><td>Ramulu</td><td>58</td><td>Male</td><td>178000.25</td><td>IT</td><td>14833.354166</td><td>Ramulu_11@company.com</td><td>Ramulu IT</td></tr><tr><td>12</td><td>Bala</td><td>51</td><td>Female</td><td>162000.00</td><td>Finance</td><td>13500.000000</td><td>Bala_12@company.com</td><td>Bala Finance</td></tr><tr><td>16</td><td>Arjun</td><td>31</td><td>NULL</td><td>NULL</td><td>NULL</td><td>NULL</td><td>Arjun_16@company.com</td><td>Arjun </td></tr></table>"
                    },
                    "metadata": {}
                }
            ],
            "execution_count": 3
        },
        {
            "cell_type": "markdown",
            "source": [
                "### **Method 1 : Column Properties**"
            ],
            "metadata": {
                "language": "sql",
                "azdata_cell_guid": "6293d875-6c40-41f5-9a76-1b29083c5377"
            },
            "attachments": {}
        },
        {
            "cell_type": "code",
            "source": [
                "SELECT name AS COLUMN_NAME, \n",
                "       TYPE_NAME(system_type_id) AS DATA_TYPE\n",
                "FROM sys.columns\n",
                "WHERE OBJECT_NAME(object_id) = 'Emp';"
            ],
            "metadata": {
                "language": "sql",
                "azdata_cell_guid": "234073ff-5855-4f30-af4c-b314d2d0ff4a"
            },
            "outputs": [
                {
                    "output_type": "display_data",
                    "data": {
                        "text/html": "(9 rows affected)"
                    },
                    "metadata": {}
                },
                {
                    "output_type": "display_data",
                    "data": {
                        "text/html": "Total execution time: 00:00:00.016"
                    },
                    "metadata": {}
                },
                {
                    "output_type": "execute_result",
                    "execution_count": 4,
                    "data": {
                        "application/vnd.dataresource+json": {
                            "schema": {
                                "fields": [
                                    {
                                        "name": "COLUMN_NAME"
                                    },
                                    {
                                        "name": "DATA_TYPE"
                                    }
                                ]
                            },
                            "data": [
                                {
                                    "COLUMN_NAME": "id",
                                    "DATA_TYPE": "int"
                                },
                                {
                                    "COLUMN_NAME": "name",
                                    "DATA_TYPE": "varchar"
                                },
                                {
                                    "COLUMN_NAME": "age",
                                    "DATA_TYPE": "int"
                                },
                                {
                                    "COLUMN_NAME": "gender",
                                    "DATA_TYPE": "varchar"
                                },
                                {
                                    "COLUMN_NAME": "salary",
                                    "DATA_TYPE": "decimal"
                                },
                                {
                                    "COLUMN_NAME": "department",
                                    "DATA_TYPE": "varchar"
                                },
                                {
                                    "COLUMN_NAME": "MonthlySalary",
                                    "DATA_TYPE": "decimal"
                                },
                                {
                                    "COLUMN_NAME": "EmailAddress",
                                    "DATA_TYPE": "varchar"
                                },
                                {
                                    "COLUMN_NAME": "FullName",
                                    "DATA_TYPE": "varchar"
                                }
                            ]
                        },
                        "text/html": "<table><tr><th>COLUMN_NAME</th><th>DATA_TYPE</th></tr><tr><td>id</td><td>int</td></tr><tr><td>name</td><td>varchar</td></tr><tr><td>age</td><td>int</td></tr><tr><td>gender</td><td>varchar</td></tr><tr><td>salary</td><td>decimal</td></tr><tr><td>department</td><td>varchar</td></tr><tr><td>MonthlySalary</td><td>decimal</td></tr><tr><td>EmailAddress</td><td>varchar</td></tr><tr><td>FullName</td><td>varchar</td></tr></table>"
                    },
                    "metadata": {}
                }
            ],
            "execution_count": 4
        },
        {
            "cell_type": "markdown",
            "source": [
                "### **Method 2 : Column Properties**"
            ],
            "metadata": {
                "language": "sql",
                "azdata_cell_guid": "17cb878a-a9c1-4bcc-9827-2284d3a0d382"
            },
            "attachments": {}
        },
        {
            "cell_type": "code",
            "source": [
                "SELECT COLUMN_NAME, DATA_TYPE\n",
                "FROM INFORMATION_SCHEMA.COLUMNS\n",
                "WHERE TABLE_NAME = 'Emp';"
            ],
            "metadata": {
                "language": "sql",
                "azdata_cell_guid": "e1d06830-2958-4e3e-9321-b9958c212bd6"
            },
            "outputs": [
                {
                    "output_type": "display_data",
                    "data": {
                        "text/html": "(9 rows affected)"
                    },
                    "metadata": {}
                },
                {
                    "output_type": "display_data",
                    "data": {
                        "text/html": "Total execution time: 00:00:00.033"
                    },
                    "metadata": {}
                },
                {
                    "output_type": "execute_result",
                    "execution_count": 5,
                    "data": {
                        "application/vnd.dataresource+json": {
                            "schema": {
                                "fields": [
                                    {
                                        "name": "COLUMN_NAME"
                                    },
                                    {
                                        "name": "DATA_TYPE"
                                    }
                                ]
                            },
                            "data": [
                                {
                                    "COLUMN_NAME": "id",
                                    "DATA_TYPE": "int"
                                },
                                {
                                    "COLUMN_NAME": "name",
                                    "DATA_TYPE": "varchar"
                                },
                                {
                                    "COLUMN_NAME": "age",
                                    "DATA_TYPE": "int"
                                },
                                {
                                    "COLUMN_NAME": "gender",
                                    "DATA_TYPE": "varchar"
                                },
                                {
                                    "COLUMN_NAME": "salary",
                                    "DATA_TYPE": "decimal"
                                },
                                {
                                    "COLUMN_NAME": "department",
                                    "DATA_TYPE": "varchar"
                                },
                                {
                                    "COLUMN_NAME": "MonthlySalary",
                                    "DATA_TYPE": "decimal"
                                },
                                {
                                    "COLUMN_NAME": "EmailAddress",
                                    "DATA_TYPE": "varchar"
                                },
                                {
                                    "COLUMN_NAME": "FullName",
                                    "DATA_TYPE": "varchar"
                                }
                            ]
                        },
                        "text/html": "<table><tr><th>COLUMN_NAME</th><th>DATA_TYPE</th></tr><tr><td>id</td><td>int</td></tr><tr><td>name</td><td>varchar</td></tr><tr><td>age</td><td>int</td></tr><tr><td>gender</td><td>varchar</td></tr><tr><td>salary</td><td>decimal</td></tr><tr><td>department</td><td>varchar</td></tr><tr><td>MonthlySalary</td><td>decimal</td></tr><tr><td>EmailAddress</td><td>varchar</td></tr><tr><td>FullName</td><td>varchar</td></tr></table>"
                    },
                    "metadata": {}
                }
            ],
            "execution_count": 5
        },
        {
            "cell_type": "markdown",
            "source": [
                "**How to find out what all tables are present in my database in MS SQL Server ?**"
            ],
            "metadata": {
                "azdata_cell_guid": "e8233f44-9ad5-4ace-bcb2-657036ac46d0"
            },
            "attachments": {}
        },
        {
            "cell_type": "code",
            "source": [
                "SELECT table_name\n",
                "FROM information_schema.tables\n",
                "WHERE table_type = 'BASE TABLE';"
            ],
            "metadata": {
                "azdata_cell_guid": "bd35ca82-422b-4c0e-8bc3-b39f5f3218c4",
                "language": "sql"
            },
            "outputs": [
                {
                    "output_type": "display_data",
                    "data": {
                        "text/html": "(7 rows affected)"
                    },
                    "metadata": {}
                },
                {
                    "output_type": "display_data",
                    "data": {
                        "text/html": "Total execution time: 00:00:00.010"
                    },
                    "metadata": {}
                },
                {
                    "output_type": "execute_result",
                    "execution_count": 3,
                    "data": {
                        "application/vnd.dataresource+json": {
                            "schema": {
                                "fields": [
                                    {
                                        "name": "table_name"
                                    }
                                ]
                            },
                            "data": [
                                {
                                    "table_name": "TestConstraints"
                                },
                                {
                                    "table_name": "employeeDetails"
                                },
                                {
                                    "table_name": "Emp"
                                },
                                {
                                    "table_name": "Emp_Temp"
                                },
                                {
                                    "table_name": "TEmp"
                                },
                                {
                                    "table_name": "Emp_Virtual_Column"
                                },
                                {
                                    "table_name": "Employees"
                                }
                            ]
                        },
                        "text/html": "<table><tr><th>table_name</th></tr><tr><td>TestConstraints</td></tr><tr><td>employeeDetails</td></tr><tr><td>Emp</td></tr><tr><td>Emp_Temp</td></tr><tr><td>TEmp</td></tr><tr><td>Emp_Virtual_Column</td></tr><tr><td>Employees</td></tr></table>"
                    },
                    "metadata": {}
                }
            ],
            "execution_count": 3
        },
        {
            "cell_type": "markdown",
            "source": [
                "What is SP\\_HELP in MS SQL ?\n",
                "\n",
                "- In Microsoft SQL Server, \\`SP\\_HELP\\` refers to a system stored procedure that provides information about a database object. The \\`SP\\_HELP\\` procedure can be used to retrieve details about tables, views, stored procedures, constraints, indexes, and other database objects. It's a handy tool for developers and database administrators to gain insights into the structure of the database.\n",
                "    \n",
                "\n",
                "<span style=\"font-size: 13px;\"><b>Syntax :</b></span>\n",
                "\n",
                "SP\\_HELP \\[ \\[ @objname = \\] 'name' \\]\n",
                "\n",
                "  \n",
                "\n",
                "\\`@**objname**\\`: Specifies the name of the object for which you want to retrieve information. **This parameter is optional.**"
            ],
            "metadata": {
                "language": "sql",
                "azdata_cell_guid": "ccf7c833-7e98-4d4a-bb9b-1619a0e7be13"
            },
            "attachments": {}
        },
        {
            "cell_type": "code",
            "source": [
                "-- Get information about a specific table\n",
                "SP_HELP 'Emp';\n",
                "\n",
                ""
            ],
            "metadata": {
                "language": "sql",
                "azdata_cell_guid": "b8f6d1b1-ef13-48c8-a6c9-e65210c73367"
            },
            "outputs": [
                {
                    "output_type": "display_data",
                    "data": {
                        "text/html": " "
                    },
                    "metadata": {}
                },
                {
                    "output_type": "display_data",
                    "data": {
                        "text/html": " "
                    },
                    "metadata": {}
                },
                {
                    "output_type": "display_data",
                    "data": {
                        "text/html": " "
                    },
                    "metadata": {}
                },
                {
                    "output_type": "display_data",
                    "data": {
                        "text/html": " "
                    },
                    "metadata": {}
                },
                {
                    "output_type": "display_data",
                    "data": {
                        "text/html": " "
                    },
                    "metadata": {}
                },
                {
                    "output_type": "display_data",
                    "data": {
                        "text/html": " "
                    },
                    "metadata": {}
                },
                {
                    "output_type": "display_data",
                    "data": {
                        "text/html": " "
                    },
                    "metadata": {}
                },
                {
                    "output_type": "display_data",
                    "data": {
                        "text/html": " "
                    },
                    "metadata": {}
                },
                {
                    "output_type": "display_data",
                    "data": {
                        "text/html": "No foreign keys reference table 'Emp', or you do not have permissions on referencing tables."
                    },
                    "metadata": {}
                },
                {
                    "output_type": "display_data",
                    "data": {
                        "text/html": "No views with schema binding reference table 'Emp'."
                    },
                    "metadata": {}
                },
                {
                    "output_type": "display_data",
                    "data": {
                        "text/html": "Total execution time: 00:00:00.061"
                    },
                    "metadata": {}
                },
                {
                    "output_type": "execute_result",
                    "execution_count": 7,
                    "data": {
                        "application/vnd.dataresource+json": {
                            "schema": {
                                "fields": [
                                    {
                                        "name": "Name"
                                    },
                                    {
                                        "name": "Owner"
                                    },
                                    {
                                        "name": "Type"
                                    },
                                    {
                                        "name": "Created_datetime"
                                    }
                                ]
                            },
                            "data": [
                                {
                                    "Name": "Emp",
                                    "Owner": "dbo",
                                    "Type": "user table",
                                    "Created_datetime": "2023-12-07 07:29:50.313"
                                }
                            ]
                        },
                        "text/html": "<table><tr><th>Name</th><th>Owner</th><th>Type</th><th>Created_datetime</th></tr><tr><td>Emp</td><td>dbo</td><td>user table</td><td>2023-12-07 07:29:50.313</td></tr></table>"
                    },
                    "metadata": {}
                },
                {
                    "output_type": "execute_result",
                    "execution_count": 7,
                    "data": {
                        "application/vnd.dataresource+json": {
                            "schema": {
                                "fields": [
                                    {
                                        "name": "Column_name"
                                    },
                                    {
                                        "name": "Type"
                                    },
                                    {
                                        "name": "Computed"
                                    },
                                    {
                                        "name": "Length"
                                    },
                                    {
                                        "name": "Prec"
                                    },
                                    {
                                        "name": "Scale"
                                    },
                                    {
                                        "name": "Nullable"
                                    },
                                    {
                                        "name": "TrimTrailingBlanks"
                                    },
                                    {
                                        "name": "FixedLenNullInSource"
                                    },
                                    {
                                        "name": "Collation"
                                    }
                                ]
                            },
                            "data": [
                                {
                                    "Column_name": "id",
                                    "Type": "int",
                                    "Computed": "no",
                                    "Length": "4",
                                    "Prec": "10   ",
                                    "Scale": "0    ",
                                    "Nullable": "no",
                                    "TrimTrailingBlanks": "(n/a)",
                                    "FixedLenNullInSource": "(n/a)",
                                    "Collation": "NULL"
                                },
                                {
                                    "Column_name": "name",
                                    "Type": "varchar",
                                    "Computed": "no",
                                    "Length": "50",
                                    "Prec": "     ",
                                    "Scale": "     ",
                                    "Nullable": "yes",
                                    "TrimTrailingBlanks": "no",
                                    "FixedLenNullInSource": "yes",
                                    "Collation": "SQL_Latin1_General_CP1_CI_AS"
                                },
                                {
                                    "Column_name": "age",
                                    "Type": "int",
                                    "Computed": "no",
                                    "Length": "4",
                                    "Prec": "10   ",
                                    "Scale": "0    ",
                                    "Nullable": "yes",
                                    "TrimTrailingBlanks": "(n/a)",
                                    "FixedLenNullInSource": "(n/a)",
                                    "Collation": "NULL"
                                },
                                {
                                    "Column_name": "gender",
                                    "Type": "varchar",
                                    "Computed": "no",
                                    "Length": "10",
                                    "Prec": "     ",
                                    "Scale": "     ",
                                    "Nullable": "yes",
                                    "TrimTrailingBlanks": "no",
                                    "FixedLenNullInSource": "yes",
                                    "Collation": "SQL_Latin1_General_CP1_CI_AS"
                                },
                                {
                                    "Column_name": "salary",
                                    "Type": "decimal",
                                    "Computed": "no",
                                    "Length": "9",
                                    "Prec": "10   ",
                                    "Scale": "2    ",
                                    "Nullable": "yes",
                                    "TrimTrailingBlanks": "(n/a)",
                                    "FixedLenNullInSource": "(n/a)",
                                    "Collation": "NULL"
                                },
                                {
                                    "Column_name": "department",
                                    "Type": "varchar",
                                    "Computed": "no",
                                    "Length": "50",
                                    "Prec": "     ",
                                    "Scale": "     ",
                                    "Nullable": "yes",
                                    "TrimTrailingBlanks": "no",
                                    "FixedLenNullInSource": "yes",
                                    "Collation": "SQL_Latin1_General_CP1_CI_AS"
                                },
                                {
                                    "Column_name": "MonthlySalary",
                                    "Type": "decimal",
                                    "Computed": "yes",
                                    "Length": "9",
                                    "Prec": "14   ",
                                    "Scale": "6    ",
                                    "Nullable": "yes",
                                    "TrimTrailingBlanks": "(n/a)",
                                    "FixedLenNullInSource": "(n/a)",
                                    "Collation": "NULL"
                                },
                                {
                                    "Column_name": "EmailAddress",
                                    "Type": "varchar",
                                    "Computed": "yes",
                                    "Length": "75",
                                    "Prec": "     ",
                                    "Scale": "     ",
                                    "Nullable": "no",
                                    "TrimTrailingBlanks": "no",
                                    "FixedLenNullInSource": "no",
                                    "Collation": "SQL_Latin1_General_CP1_CI_AS"
                                },
                                {
                                    "Column_name": "FullName",
                                    "Type": "varchar",
                                    "Computed": "yes",
                                    "Length": "101",
                                    "Prec": "     ",
                                    "Scale": "     ",
                                    "Nullable": "no",
                                    "TrimTrailingBlanks": "no",
                                    "FixedLenNullInSource": "no",
                                    "Collation": "SQL_Latin1_General_CP1_CI_AS"
                                }
                            ]
                        },
                        "text/html": "<table><tr><th>Column_name</th><th>Type</th><th>Computed</th><th>Length</th><th>Prec</th><th>Scale</th><th>Nullable</th><th>TrimTrailingBlanks</th><th>FixedLenNullInSource</th><th>Collation</th></tr><tr><td>id</td><td>int</td><td>no</td><td>4</td><td>10   </td><td>0    </td><td>no</td><td>(n/a)</td><td>(n/a)</td><td>NULL</td></tr><tr><td>name</td><td>varchar</td><td>no</td><td>50</td><td>     </td><td>     </td><td>yes</td><td>no</td><td>yes</td><td>SQL_Latin1_General_CP1_CI_AS</td></tr><tr><td>age</td><td>int</td><td>no</td><td>4</td><td>10   </td><td>0    </td><td>yes</td><td>(n/a)</td><td>(n/a)</td><td>NULL</td></tr><tr><td>gender</td><td>varchar</td><td>no</td><td>10</td><td>     </td><td>     </td><td>yes</td><td>no</td><td>yes</td><td>SQL_Latin1_General_CP1_CI_AS</td></tr><tr><td>salary</td><td>decimal</td><td>no</td><td>9</td><td>10   </td><td>2    </td><td>yes</td><td>(n/a)</td><td>(n/a)</td><td>NULL</td></tr><tr><td>department</td><td>varchar</td><td>no</td><td>50</td><td>     </td><td>     </td><td>yes</td><td>no</td><td>yes</td><td>SQL_Latin1_General_CP1_CI_AS</td></tr><tr><td>MonthlySalary</td><td>decimal</td><td>yes</td><td>9</td><td>14   </td><td>6    </td><td>yes</td><td>(n/a)</td><td>(n/a)</td><td>NULL</td></tr><tr><td>EmailAddress</td><td>varchar</td><td>yes</td><td>75</td><td>     </td><td>     </td><td>no</td><td>no</td><td>no</td><td>SQL_Latin1_General_CP1_CI_AS</td></tr><tr><td>FullName</td><td>varchar</td><td>yes</td><td>101</td><td>     </td><td>     </td><td>no</td><td>no</td><td>no</td><td>SQL_Latin1_General_CP1_CI_AS</td></tr></table>"
                    },
                    "metadata": {}
                },
                {
                    "output_type": "execute_result",
                    "execution_count": 7,
                    "data": {
                        "application/vnd.dataresource+json": {
                            "schema": {
                                "fields": [
                                    {
                                        "name": "Identity"
                                    },
                                    {
                                        "name": "Seed"
                                    },
                                    {
                                        "name": "Increment"
                                    },
                                    {
                                        "name": "Not For Replication"
                                    }
                                ]
                            },
                            "data": [
                                {
                                    "Identity": "No identity column defined.",
                                    "Seed": "NULL",
                                    "Increment": "NULL",
                                    "Not For Replication": "NULL"
                                }
                            ]
                        },
                        "text/html": "<table><tr><th>Identity</th><th>Seed</th><th>Increment</th><th>Not For Replication</th></tr><tr><td>No identity column defined.</td><td>NULL</td><td>NULL</td><td>NULL</td></tr></table>"
                    },
                    "metadata": {}
                },
                {
                    "output_type": "execute_result",
                    "execution_count": 7,
                    "data": {
                        "application/vnd.dataresource+json": {
                            "schema": {
                                "fields": [
                                    {
                                        "name": "RowGuidCol"
                                    }
                                ]
                            },
                            "data": [
                                {
                                    "RowGuidCol": "No rowguidcol column defined."
                                }
                            ]
                        },
                        "text/html": "<table><tr><th>RowGuidCol</th></tr><tr><td>No rowguidcol column defined.</td></tr></table>"
                    },
                    "metadata": {}
                },
                {
                    "output_type": "execute_result",
                    "execution_count": 7,
                    "data": {
                        "application/vnd.dataresource+json": {
                            "schema": {
                                "fields": [
                                    {
                                        "name": "Data_located_on_filegroup"
                                    }
                                ]
                            },
                            "data": [
                                {
                                    "Data_located_on_filegroup": "PRIMARY"
                                }
                            ]
                        },
                        "text/html": "<table><tr><th>Data_located_on_filegroup</th></tr><tr><td>PRIMARY</td></tr></table>"
                    },
                    "metadata": {}
                },
                {
                    "output_type": "execute_result",
                    "execution_count": 7,
                    "data": {
                        "application/vnd.dataresource+json": {
                            "schema": {
                                "fields": [
                                    {
                                        "name": "index_name"
                                    },
                                    {
                                        "name": "index_description"
                                    },
                                    {
                                        "name": "index_keys"
                                    }
                                ]
                            },
                            "data": [
                                {
                                    "index_name": "PK__Emp__3213E83F9DFC08CC",
                                    "index_description": "clustered, unique, primary key located on PRIMARY",
                                    "index_keys": "id"
                                }
                            ]
                        },
                        "text/html": "<table><tr><th>index_name</th><th>index_description</th><th>index_keys</th></tr><tr><td>PK__Emp__3213E83F9DFC08CC</td><td>clustered, unique, primary key located on PRIMARY</td><td>id</td></tr></table>"
                    },
                    "metadata": {}
                },
                {
                    "output_type": "execute_result",
                    "execution_count": 7,
                    "data": {
                        "application/vnd.dataresource+json": {
                            "schema": {
                                "fields": [
                                    {
                                        "name": "constraint_type"
                                    },
                                    {
                                        "name": "constraint_name"
                                    },
                                    {
                                        "name": "delete_action"
                                    },
                                    {
                                        "name": "update_action"
                                    },
                                    {
                                        "name": "status_enabled"
                                    },
                                    {
                                        "name": "status_for_replication"
                                    },
                                    {
                                        "name": "constraint_keys"
                                    }
                                ]
                            },
                            "data": [
                                {
                                    "constraint_type": "PRIMARY KEY (clustered)",
                                    "constraint_name": "PK__Emp__3213E83F9DFC08CC",
                                    "delete_action": "(n/a)",
                                    "update_action": "(n/a)",
                                    "status_enabled": "(n/a)",
                                    "status_for_replication": "(n/a)",
                                    "constraint_keys": "id"
                                }
                            ]
                        },
                        "text/html": "<table><tr><th>constraint_type</th><th>constraint_name</th><th>delete_action</th><th>update_action</th><th>status_enabled</th><th>status_for_replication</th><th>constraint_keys</th></tr><tr><td>PRIMARY KEY (clustered)</td><td>PK__Emp__3213E83F9DFC08CC</td><td>(n/a)</td><td>(n/a)</td><td>(n/a)</td><td>(n/a)</td><td>id</td></tr></table>"
                    },
                    "metadata": {}
                }
            ],
            "execution_count": 7
        },
        {
            "cell_type": "code",
            "source": [
                "-- Get a list of all objects in the current database\n",
                "SP_HELP"
            ],
            "metadata": {
                "azdata_cell_guid": "a7910cdf-ba00-404d-93a2-51f38648a3c7",
                "language": "sql"
            },
            "outputs": [
                {
                    "output_type": "display_data",
                    "data": {
                        "text/html": " "
                    },
                    "metadata": {}
                },
                {
                    "output_type": "display_data",
                    "data": {
                        "text/html": "Total execution time: 00:00:00.357"
                    },
                    "metadata": {}
                },
                {
                    "output_type": "execute_result",
                    "execution_count": 8,
                    "data": {
                        "application/vnd.dataresource+json": {
                            "schema": {
                                "fields": [
                                    {
                                        "name": "Name"
                                    },
                                    {
                                        "name": "Owner"
                                    },
                                    {
                                        "name": "Object_type"
                                    }
                                ]
                            },
                            "data": [
                                {
                                    "Name": "Emp",
                                    "Owner": "dbo",
                                    "Object_type": "user table"
                                },
                                {
                                    "Name": "Emp_Temp",
                                    "Owner": "dbo",
                                    "Object_type": "user table"
                                },
                                {
                                    "Name": "Emp_Virtual_Column",
                                    "Owner": "dbo",
                                    "Object_type": "user table"
                                },
                                {
                                    "Name": "employeeDetails",
                                    "Owner": "dbo",
                                    "Object_type": "user table"
                                },
                                {
                                    "Name": "Employees",
                                    "Owner": "dbo",
                                    "Object_type": "user table"
                                },
                                {
                                    "Name": "TEmp",
                                    "Owner": "dbo",
                                    "Object_type": "user table"
                                },
                                {
                                    "Name": "TestConstraints",
                                    "Owner": "dbo",
                                    "Object_type": "user table"
                                },
                                {
                                    "Name": "UQ__TestCons__1299A860275465B4",
                                    "Owner": "dbo",
                                    "Object_type": "unique key cns"
                                },
                                {
                                    "Name": "EventNotificationErrorsQueue",
                                    "Owner": "dbo",
                                    "Object_type": "queue"
                                },
                                {
                                    "Name": "QueryNotificationErrorsQueue",
                                    "Owner": "dbo",
                                    "Object_type": "queue"
                                },
                                {
                                    "Name": "ServiceBrokerQueue",
                                    "Owner": "dbo",
                                    "Object_type": "queue"
                                },
                                {
                                    "Name": "PK__Emp__3213E83F9DFC08CC",
                                    "Owner": "dbo",
                                    "Object_type": "primary key cns"
                                },
                                {
                                    "Name": "PK__Emp_Temp__3213E83FD8878CE2",
                                    "Owner": "dbo",
                                    "Object_type": "primary key cns"
                                },
                                {
                                    "Name": "PK__Emp_Virt__3213E83FE3BACB95",
                                    "Owner": "dbo",
                                    "Object_type": "primary key cns"
                                },
                                {
                                    "Name": "PK__employee__3213E83F2AD44362",
                                    "Owner": "dbo",
                                    "Object_type": "primary key cns"
                                },
                                {
                                    "Name": "PK__TEmp__3213E83F23F4B9AD",
                                    "Owner": "dbo",
                                    "Object_type": "primary key cns"
                                },
                                {
                                    "Name": "queue_messages_1977058079",
                                    "Owner": "dbo",
                                    "Object_type": "internal table"
                                },
                                {
                                    "Name": "queue_messages_2009058193",
                                    "Owner": "dbo",
                                    "Object_type": "internal table"
                                },
                                {
                                    "Name": "queue_messages_2041058307",
                                    "Owner": "dbo",
                                    "Object_type": "internal table"
                                },
                                {
                                    "Name": "CK__TestConst__emp_i__37A5467C",
                                    "Owner": "dbo",
                                    "Object_type": "check cns"
                                },
                                {
                                    "Name": "CK__TestConst__emp_s__38996AB5",
                                    "Owner": "dbo",
                                    "Object_type": "check cns"
                                },
                                {
                                    "Name": "CHECK_CONSTRAINTS",
                                    "Owner": "INFORMATION_SCHEMA",
                                    "Object_type": "view"
                                },
                                {
                                    "Name": "COLUMN_DOMAIN_USAGE",
                                    "Owner": "INFORMATION_SCHEMA",
                                    "Object_type": "view"
                                },
                                {
                                    "Name": "COLUMN_PRIVILEGES",
                                    "Owner": "INFORMATION_SCHEMA",
                                    "Object_type": "view"
                                },
                                {
                                    "Name": "COLUMNS",
                                    "Owner": "INFORMATION_SCHEMA",
                                    "Object_type": "view"
                                },
                                {
                                    "Name": "CONSTRAINT_COLUMN_USAGE",
                                    "Owner": "INFORMATION_SCHEMA",
                                    "Object_type": "view"
                                },
                                {
                                    "Name": "CONSTRAINT_TABLE_USAGE",
                                    "Owner": "INFORMATION_SCHEMA",
                                    "Object_type": "view"
                                },
                                {
                                    "Name": "DOMAIN_CONSTRAINTS",
                                    "Owner": "INFORMATION_SCHEMA",
                                    "Object_type": "view"
                                },
                                {
                                    "Name": "DOMAINS",
                                    "Owner": "INFORMATION_SCHEMA",
                                    "Object_type": "view"
                                },
                                {
                                    "Name": "KEY_COLUMN_USAGE",
                                    "Owner": "INFORMATION_SCHEMA",
                                    "Object_type": "view"
                                },
                                {
                                    "Name": "PARAMETERS",
                                    "Owner": "INFORMATION_SCHEMA",
                                    "Object_type": "view"
                                },
                                {
                                    "Name": "REFERENTIAL_CONSTRAINTS",
                                    "Owner": "INFORMATION_SCHEMA",
                                    "Object_type": "view"
                                },
                                {
                                    "Name": "ROUTINE_COLUMNS",
                                    "Owner": "INFORMATION_SCHEMA",
                                    "Object_type": "view"
                                },
                                {
                                    "Name": "ROUTINES",
                                    "Owner": "INFORMATION_SCHEMA",
                                    "Object_type": "view"
                                },
                                {
                                    "Name": "SCHEMATA",
                                    "Owner": "INFORMATION_SCHEMA",
                                    "Object_type": "view"
                                },
                                {
                                    "Name": "SEQUENCES",
                                    "Owner": "INFORMATION_SCHEMA",
                                    "Object_type": "view"
                                },
                                {
                                    "Name": "TABLE_CONSTRAINTS",
                                    "Owner": "INFORMATION_SCHEMA",
                                    "Object_type": "view"
                                },
                                {
                                    "Name": "TABLE_PRIVILEGES",
                                    "Owner": "INFORMATION_SCHEMA",
                                    "Object_type": "view"
                                },
                                {
                                    "Name": "TABLES",
                                    "Owner": "INFORMATION_SCHEMA",
                                    "Object_type": "view"
                                },
                                {
                                    "Name": "VIEW_COLUMN_USAGE",
                                    "Owner": "INFORMATION_SCHEMA",
                                    "Object_type": "view"
                                },
                                {
                                    "Name": "VIEW_TABLE_USAGE",
                                    "Owner": "INFORMATION_SCHEMA",
                                    "Object_type": "view"
                                },
                                {
                                    "Name": "VIEWS",
                                    "Owner": "INFORMATION_SCHEMA",
                                    "Object_type": "view"
                                },
                                {
                                    "Name": "all_columns",
                                    "Owner": "sys",
                                    "Object_type": "view"
                                },
                                {
                                    "Name": "all_objects",
                                    "Owner": "sys",
                                    "Object_type": "view"
                                },
                                {
                                    "Name": "all_parameters",
                                    "Owner": "sys",
                                    "Object_type": "view"
                                },
                                {
                                    "Name": "all_sql_modules",
                                    "Owner": "sys",
                                    "Object_type": "view"
                                },
                                {
                                    "Name": "all_views",
                                    "Owner": "sys",
                                    "Object_type": "view"
                                },
                                {
                                    "Name": "allocation_units",
                                    "Owner": "sys",
                                    "Object_type": "view"
                                },
                                {
                                    "Name": "assemblies",
                                    "Owner": "sys",
                                    "Object_type": "view"
                                },
                                {
                                    "Name": "assembly_files",
                                    "Owner": "sys",
                                    "Object_type": "view"
                                },
                                {
                                    "Name": "assembly_modules",
                                    "Owner": "sys",
                                    "Object_type": "view"
                                },
                                {
                                    "Name": "assembly_references",
                                    "Owner": "sys",
                                    "Object_type": "view"
                                },
                                {
                                    "Name": "assembly_types",
                                    "Owner": "sys",
                                    "Object_type": "view"
                                },
                                {
                                    "Name": "asymmetric_keys",
                                    "Owner": "sys",
                                    "Object_type": "view"
                                },
                                {
                                    "Name": "availability_databases_cluster",
                                    "Owner": "sys",
                                    "Object_type": "view"
                                },
                                {
                                    "Name": "availability_group_listener_ip_addresses",
                                    "Owner": "sys",
                                    "Object_type": "view"
                                },
                                {
                                    "Name": "availability_group_listeners",
                                    "Owner": "sys",
                                    "Object_type": "view"
                                },
                                {
                                    "Name": "availability_groups",
                                    "Owner": "sys",
                                    "Object_type": "view"
                                },
                                {
                                    "Name": "availability_groups_cluster",
                                    "Owner": "sys",
                                    "Object_type": "view"
                                },
                                {
                                    "Name": "availability_read_only_routing_lists",
                                    "Owner": "sys",
                                    "Object_type": "view"
                                },
                                {
                                    "Name": "availability_replicas",
                                    "Owner": "sys",
                                    "Object_type": "view"
                                },
                                {
                                    "Name": "backup_devices",
                                    "Owner": "sys",
                                    "Object_type": "view"
                                },
                                {
                                    "Name": "certificates",
                                    "Owner": "sys",
                                    "Object_type": "view"
                                },
                                {
                                    "Name": "change_tracking_databases",
                                    "Owner": "sys",
                                    "Object_type": "view"
                                },
                                {
                                    "Name": "change_tracking_tables",
                                    "Owner": "sys",
                                    "Object_type": "view"
                                },
                                {
                                    "Name": "check_constraints",
                                    "Owner": "sys",
                                    "Object_type": "view"
                                },
                                {
                                    "Name": "column_encryption_key_values",
                                    "Owner": "sys",
                                    "Object_type": "view"
                                },
                                {
                                    "Name": "column_encryption_keys",
                                    "Owner": "sys",
                                    "Object_type": "view"
                                },
                                {
                                    "Name": "column_master_keys",
                                    "Owner": "sys",
                                    "Object_type": "view"
                                },
                                {
                                    "Name": "column_store_dictionaries",
                                    "Owner": "sys",
                                    "Object_type": "view"
                                },
                                {
                                    "Name": "column_store_row_groups",
                                    "Owner": "sys",
                                    "Object_type": "view"
                                },
                                {
                                    "Name": "column_store_segments",
                                    "Owner": "sys",
                                    "Object_type": "view"
                                },
                                {
                                    "Name": "column_type_usages",
                                    "Owner": "sys",
                                    "Object_type": "view"
                                },
                                {
                                    "Name": "column_xml_schema_collection_usages",
                                    "Owner": "sys",
                                    "Object_type": "view"
                                },
                                {
                                    "Name": "columns",
                                    "Owner": "sys",
                                    "Object_type": "view"
                                },
                                {
                                    "Name": "computed_columns",
                                    "Owner": "sys",
                                    "Object_type": "view"
                                },
                                {
                                    "Name": "configurations",
                                    "Owner": "sys",
                                    "Object_type": "view"
                                },
                                {
                                    "Name": "conversation_endpoints",
                                    "Owner": "sys",
                                    "Object_type": "view"
                                },
                                {
                                    "Name": "conversation_groups",
                                    "Owner": "sys",
                                    "Object_type": "view"
                                },
                                {
                                    "Name": "conversation_priorities",
                                    "Owner": "sys",
                                    "Object_type": "view"
                                },
                                {
                                    "Name": "credentials",
                                    "Owner": "sys",
                                    "Object_type": "view"
                                },
                                {
                                    "Name": "crypt_properties",
                                    "Owner": "sys",
                                    "Object_type": "view"
                                },
                                {
                                    "Name": "cryptographic_providers",
                                    "Owner": "sys",
                                    "Object_type": "view"
                                },
                                {
                                    "Name": "data_spaces",
                                    "Owner": "sys",
                                    "Object_type": "view"
                                },
                                {
                                    "Name": "database_audit_specification_details",
                                    "Owner": "sys",
                                    "Object_type": "view"
                                },
                                {
                                    "Name": "database_audit_specifications",
                                    "Owner": "sys",
                                    "Object_type": "view"
                                },
                                {
                                    "Name": "database_automatic_tuning_mode",
                                    "Owner": "sys",
                                    "Object_type": "view"
                                },
                                {
                                    "Name": "database_automatic_tuning_options",
                                    "Owner": "sys",
                                    "Object_type": "view"
                                },
                                {
                                    "Name": "database_credentials",
                                    "Owner": "sys",
                                    "Object_type": "view"
                                },
                                {
                                    "Name": "database_files",
                                    "Owner": "sys",
                                    "Object_type": "view"
                                },
                                {
                                    "Name": "database_filestream_options",
                                    "Owner": "sys",
                                    "Object_type": "view"
                                },
                                {
                                    "Name": "database_ledger_blocks",
                                    "Owner": "sys",
                                    "Object_type": "view"
                                },
                                {
                                    "Name": "database_ledger_transactions",
                                    "Owner": "sys",
                                    "Object_type": "view"
                                },
                                {
                                    "Name": "database_mirroring",
                                    "Owner": "sys",
                                    "Object_type": "view"
                                },
                                {
                                    "Name": "database_mirroring_endpoints",
                                    "Owner": "sys",
                                    "Object_type": "view"
                                },
                                {
                                    "Name": "database_mirroring_witnesses",
                                    "Owner": "sys",
                                    "Object_type": "view"
                                },
                                {
                                    "Name": "database_permissions",
                                    "Owner": "sys",
                                    "Object_type": "view"
                                },
                                {
                                    "Name": "database_principals",
                                    "Owner": "sys",
                                    "Object_type": "view"
                                },
                                {
                                    "Name": "database_query_store_options",
                                    "Owner": "sys",
                                    "Object_type": "view"
                                },
                                {
                                    "Name": "database_recovery_status",
                                    "Owner": "sys",
                                    "Object_type": "view"
                                },
                                {
                                    "Name": "database_role_members",
                                    "Owner": "sys",
                                    "Object_type": "view"
                                },
                                {
                                    "Name": "database_scoped_configurations",
                                    "Owner": "sys",
                                    "Object_type": "view"
                                },
                                {
                                    "Name": "database_scoped_credentials",
                                    "Owner": "sys",
                                    "Object_type": "view"
                                },
                                {
                                    "Name": "databases",
                                    "Owner": "sys",
                                    "Object_type": "view"
                                },
                                {
                                    "Name": "default_constraints",
                                    "Owner": "sys",
                                    "Object_type": "view"
                                },
                                {
                                    "Name": "destination_data_spaces",
                                    "Owner": "sys",
                                    "Object_type": "view"
                                },
                                {
                                    "Name": "dm_audit_actions",
                                    "Owner": "sys",
                                    "Object_type": "view"
                                },
                                {
                                    "Name": "dm_audit_class_type_map",
                                    "Owner": "sys",
                                    "Object_type": "view"
                                },
                                {
                                    "Name": "dm_broker_activated_tasks",
                                    "Owner": "sys",
                                    "Object_type": "view"
                                },
                                {
                                    "Name": "dm_broker_connections",
                                    "Owner": "sys",
                                    "Object_type": "view"
                                },
                                {
                                    "Name": "dm_broker_forwarded_messages",
                                    "Owner": "sys",
                                    "Object_type": "view"
                                },
                                {
                                    "Name": "dm_broker_queue_monitors",
                                    "Owner": "sys",
                                    "Object_type": "view"
                                },
                                {
                                    "Name": "dm_cache_hit_stats",
                                    "Owner": "sys",
                                    "Object_type": "view"
                                },
                                {
                                    "Name": "dm_cache_size",
                                    "Owner": "sys",
                                    "Object_type": "view"
                                },
                                {
                                    "Name": "dm_cache_stats",
                                    "Owner": "sys",
                                    "Object_type": "view"
                                },
                                {
                                    "Name": "dm_cdc_errors",
                                    "Owner": "sys",
                                    "Object_type": "view"
                                },
                                {
                                    "Name": "dm_cdc_log_scan_sessions",
                                    "Owner": "sys",
                                    "Object_type": "view"
                                },
                                {
                                    "Name": "dm_clr_appdomains",
                                    "Owner": "sys",
                                    "Object_type": "view"
                                },
                                {
                                    "Name": "dm_clr_loaded_assemblies",
                                    "Owner": "sys",
                                    "Object_type": "view"
                                },
                                {
                                    "Name": "dm_clr_properties",
                                    "Owner": "sys",
                                    "Object_type": "view"
                                },
                                {
                                    "Name": "dm_clr_tasks",
                                    "Owner": "sys",
                                    "Object_type": "view"
                                },
                                {
                                    "Name": "dm_cluster_endpoints",
                                    "Owner": "sys",
                                    "Object_type": "view"
                                },
                                {
                                    "Name": "dm_column_encryption_enclave",
                                    "Owner": "sys",
                                    "Object_type": "view"
                                },
                                {
                                    "Name": "dm_column_encryption_enclave_operation_stats",
                                    "Owner": "sys",
                                    "Object_type": "view"
                                },
                                {
                                    "Name": "dm_column_store_object_pool",
                                    "Owner": "sys",
                                    "Object_type": "view"
                                },
                                {
                                    "Name": "dm_cryptographic_provider_properties",
                                    "Owner": "sys",
                                    "Object_type": "view"
                                },
                                {
                                    "Name": "dm_database_encryption_keys",
                                    "Owner": "sys",
                                    "Object_type": "view"
                                },
                                {
                                    "Name": "dm_db_column_store_row_group_operational_stats",
                                    "Owner": "sys",
                                    "Object_type": "view"
                                },
                                {
                                    "Name": "dm_db_column_store_row_group_physical_stats",
                                    "Owner": "sys",
                                    "Object_type": "view"
                                },
                                {
                                    "Name": "dm_db_data_pool_nodes",
                                    "Owner": "sys",
                                    "Object_type": "view"
                                },
                                {
                                    "Name": "dm_db_data_pools",
                                    "Owner": "sys",
                                    "Object_type": "view"
                                },
                                {
                                    "Name": "dm_db_external_language_stats",
                                    "Owner": "sys",
                                    "Object_type": "view"
                                },
                                {
                                    "Name": "dm_db_external_script_execution_stats",
                                    "Owner": "sys",
                                    "Object_type": "view"
                                },
                                {
                                    "Name": "dm_db_file_space_usage",
                                    "Owner": "sys",
                                    "Object_type": "view"
                                },
                                {
                                    "Name": "dm_db_fts_index_physical_stats",
                                    "Owner": "sys",
                                    "Object_type": "view"
                                },
                                {
                                    "Name": "dm_db_index_usage_stats",
                                    "Owner": "sys",
                                    "Object_type": "view"
                                },
                                {
                                    "Name": "dm_db_log_space_usage",
                                    "Owner": "sys",
                                    "Object_type": "view"
                                },
                                {
                                    "Name": "dm_db_mirroring_auto_page_repair",
                                    "Owner": "sys",
                                    "Object_type": "view"
                                },
                                {
                                    "Name": "dm_db_mirroring_connections",
                                    "Owner": "sys",
                                    "Object_type": "view"
                                },
                                {
                                    "Name": "dm_db_mirroring_past_actions",
                                    "Owner": "sys",
                                    "Object_type": "view"
                                },
                                {
                                    "Name": "dm_db_missing_index_details",
                                    "Owner": "sys",
                                    "Object_type": "view"
                                },
                                {
                                    "Name": "dm_db_missing_index_group_stats",
                                    "Owner": "sys",
                                    "Object_type": "view"
                                },
                                {
                                    "Name": "dm_db_missing_index_group_stats_query",
                                    "Owner": "sys",
                                    "Object_type": "view"
                                },
                                {
                                    "Name": "dm_db_missing_index_groups",
                                    "Owner": "sys",
                                    "Object_type": "view"
                                },
                                {
                                    "Name": "dm_db_partition_stats",
                                    "Owner": "sys",
                                    "Object_type": "view"
                                },
                                {
                                    "Name": "dm_db_persisted_sku_features",
                                    "Owner": "sys",
                                    "Object_type": "view"
                                },
                                {
                                    "Name": "dm_db_rda_migration_status",
                                    "Owner": "sys",
                                    "Object_type": "view"
                                },
                                {
                                    "Name": "dm_db_rda_schema_update_status",
                                    "Owner": "sys",
                                    "Object_type": "view"
                                },
                                {
                                    "Name": "dm_db_script_level",
                                    "Owner": "sys",
                                    "Object_type": "view"
                                },
                                {
                                    "Name": "dm_db_session_space_usage",
                                    "Owner": "sys",
                                    "Object_type": "view"
                                },
                                {
                                    "Name": "dm_db_storage_pool_nodes",
                                    "Owner": "sys",
                                    "Object_type": "view"
                                },
                                {
                                    "Name": "dm_db_storage_pools",
                                    "Owner": "sys",
                                    "Object_type": "view"
                                },
                                {
                                    "Name": "dm_db_task_space_usage",
                                    "Owner": "sys",
                                    "Object_type": "view"
                                },
                                {
                                    "Name": "dm_db_tuning_recommendations",
                                    "Owner": "sys",
                                    "Object_type": "view"
                                },
                                {
                                    "Name": "dm_db_uncontained_entities",
                                    "Owner": "sys",
                                    "Object_type": "view"
                                },
                                {
                                    "Name": "dm_db_xtp_checkpoint_files",
                                    "Owner": "sys",
                                    "Object_type": "view"
                                },
                                {
                                    "Name": "dm_db_xtp_checkpoint_internals",
                                    "Owner": "sys",
                                    "Object_type": "view"
                                },
                                {
                                    "Name": "dm_db_xtp_checkpoint_stats",
                                    "Owner": "sys",
                                    "Object_type": "view"
                                },
                                {
                                    "Name": "dm_db_xtp_gc_cycle_stats",
                                    "Owner": "sys",
                                    "Object_type": "view"
                                },
                                {
                                    "Name": "dm_db_xtp_hash_index_stats",
                                    "Owner": "sys",
                                    "Object_type": "view"
                                },
                                {
                                    "Name": "dm_db_xtp_index_stats",
                                    "Owner": "sys",
                                    "Object_type": "view"
                                },
                                {
                                    "Name": "dm_db_xtp_memory_consumers",
                                    "Owner": "sys",
                                    "Object_type": "view"
                                },
                                {
                                    "Name": "dm_db_xtp_nonclustered_index_stats",
                                    "Owner": "sys",
                                    "Object_type": "view"
                                },
                                {
                                    "Name": "dm_db_xtp_object_stats",
                                    "Owner": "sys",
                                    "Object_type": "view"
                                },
                                {
                                    "Name": "dm_db_xtp_table_memory_stats",
                                    "Owner": "sys",
                                    "Object_type": "view"
                                },
                                {
                                    "Name": "dm_db_xtp_transactions",
                                    "Owner": "sys",
                                    "Object_type": "view"
                                },
                                {
                                    "Name": "dm_dist_requests",
                                    "Owner": "sys",
                                    "Object_type": "view"
                                },
                                {
                                    "Name": "dm_distributed_exchange_stats",
                                    "Owner": "sys",
                                    "Object_type": "view"
                                },
                                {
                                    "Name": "dm_dw_databases",
                                    "Owner": "sys",
                                    "Object_type": "view"
                                },
                                {
                                    "Name": "dm_dw_locks",
                                    "Owner": "sys",
                                    "Object_type": "view"
                                },
                                {
                                    "Name": "dm_dw_pit_databases",
                                    "Owner": "sys",
                                    "Object_type": "view"
                                },
                                {
                                    "Name": "dm_dw_quality_clustering",
                                    "Owner": "sys",
                                    "Object_type": "view"
                                },
                                {
                                    "Name": "dm_dw_quality_delta",
                                    "Owner": "sys",
                                    "Object_type": "view"
                                },
                                {
                                    "Name": "dm_dw_quality_index",
                                    "Owner": "sys",
                                    "Object_type": "view"
                                },
                                {
                                    "Name": "dm_dw_quality_row_group",
                                    "Owner": "sys",
                                    "Object_type": "view"
                                },
                                {
                                    "Name": "dm_dw_resource_manager_abort_cache",
                                    "Owner": "sys",
                                    "Object_type": "view"
                                },
                                {
                                    "Name": "dm_dw_resource_manager_active_tran",
                                    "Owner": "sys",
                                    "Object_type": "view"
                                },
                                {
                                    "Name": "dm_dw_tran_manager_abort_cache",
                                    "Owner": "sys",
                                    "Object_type": "view"
                                },
                                {
                                    "Name": "dm_dw_tran_manager_active_cache",
                                    "Owner": "sys",
                                    "Object_type": "view"
                                },
                                {
                                    "Name": "dm_dw_tran_manager_commit_cache",
                                    "Owner": "sys",
                                    "Object_type": "view"
                                },
                                {
                                    "Name": "dm_exec_background_job_queue",
                                    "Owner": "sys",
                                    "Object_type": "view"
                                },
                                {
                                    "Name": "dm_exec_background_job_queue_stats",
                                    "Owner": "sys",
                                    "Object_type": "view"
                                },
                                {
                                    "Name": "dm_exec_cached_plans",
                                    "Owner": "sys",
                                    "Object_type": "view"
                                },
                                {
                                    "Name": "dm_exec_compute_node_errors",
                                    "Owner": "sys",
                                    "Object_type": "view"
                                },
                                {
                                    "Name": "dm_exec_compute_node_status",
                                    "Owner": "sys",
                                    "Object_type": "view"
                                },
                                {
                                    "Name": "dm_exec_compute_nodes",
                                    "Owner": "sys",
                                    "Object_type": "view"
                                },
                                {
                                    "Name": "dm_exec_compute_pools",
                                    "Owner": "sys",
                                    "Object_type": "view"
                                },
                                {
                                    "Name": "dm_exec_connections",
                                    "Owner": "sys",
                                    "Object_type": "view"
                                },
                                {
                                    "Name": "dm_exec_distributed_request_steps",
                                    "Owner": "sys",
                                    "Object_type": "view"
                                },
                                {
                                    "Name": "dm_exec_distributed_requests",
                                    "Owner": "sys",
                                    "Object_type": "view"
                                },
                                {
                                    "Name": "dm_exec_distributed_sql_requests",
                                    "Owner": "sys",
                                    "Object_type": "view"
                                },
                                {
                                    "Name": "dm_exec_dms_services",
                                    "Owner": "sys",
                                    "Object_type": "view"
                                },
                                {
                                    "Name": "dm_exec_dms_workers",
                                    "Owner": "sys",
                                    "Object_type": "view"
                                },
                                {
                                    "Name": "dm_exec_external_operations",
                                    "Owner": "sys",
                                    "Object_type": "view"
                                },
                                {
                                    "Name": "dm_exec_external_work",
                                    "Owner": "sys",
                                    "Object_type": "view"
                                },
                                {
                                    "Name": "dm_exec_function_stats",
                                    "Owner": "sys",
                                    "Object_type": "view"
                                },
                                {
                                    "Name": "dm_exec_procedure_stats",
                                    "Owner": "sys",
                                    "Object_type": "view"
                                },
                                {
                                    "Name": "dm_exec_query_memory_grants",
                                    "Owner": "sys",
                                    "Object_type": "view"
                                },
                                {
                                    "Name": "dm_exec_query_optimizer_info",
                                    "Owner": "sys",
                                    "Object_type": "view"
                                },
                                {
                                    "Name": "dm_exec_query_optimizer_memory_gateways",
                                    "Owner": "sys",
                                    "Object_type": "view"
                                },
                                {
                                    "Name": "dm_exec_query_parallel_workers",
                                    "Owner": "sys",
                                    "Object_type": "view"
                                },
                                {
                                    "Name": "dm_exec_query_profiles",
                                    "Owner": "sys",
                                    "Object_type": "view"
                                },
                                {
                                    "Name": "dm_exec_query_resource_semaphores",
                                    "Owner": "sys",
                                    "Object_type": "view"
                                },
                                {
                                    "Name": "dm_exec_query_stats",
                                    "Owner": "sys",
                                    "Object_type": "view"
                                },
                                {
                                    "Name": "dm_exec_query_transformation_stats",
                                    "Owner": "sys",
                                    "Object_type": "view"
                                },
                                {
                                    "Name": "dm_exec_requests",
                                    "Owner": "sys",
                                    "Object_type": "view"
                                },
                                {
                                    "Name": "dm_exec_requests_history",
                                    "Owner": "sys",
                                    "Object_type": "view"
                                },
                                {
                                    "Name": "dm_exec_session_wait_stats",
                                    "Owner": "sys",
                                    "Object_type": "view"
                                },
                                {
                                    "Name": "dm_exec_sessions",
                                    "Owner": "sys",
                                    "Object_type": "view"
                                },
                                {
                                    "Name": "dm_exec_trigger_stats",
                                    "Owner": "sys",
                                    "Object_type": "view"
                                },
                                {
                                    "Name": "dm_exec_valid_use_hints",
                                    "Owner": "sys",
                                    "Object_type": "view"
                                },
                                {
                                    "Name": "dm_external_authentication",
                                    "Owner": "sys",
                                    "Object_type": "view"
                                },
                                {
                                    "Name": "dm_external_data_processed",
                                    "Owner": "sys",
                                    "Object_type": "view"
                                },
                                {
                                    "Name": "dm_external_script_execution_stats",
                                    "Owner": "sys",
                                    "Object_type": "view"
                                },
                                {
                                    "Name": "dm_external_script_requests",
                                    "Owner": "sys",
                                    "Object_type": "view"
                                },
                                {
                                    "Name": "dm_external_script_resource_usage_stats",
                                    "Owner": "sys",
                                    "Object_type": "view"
                                },
                                {
                                    "Name": "dm_filestream_file_io_handles",
                                    "Owner": "sys",
                                    "Object_type": "view"
                                },
                                {
                                    "Name": "dm_filestream_file_io_requests",
                                    "Owner": "sys",
                                    "Object_type": "view"
                                },
                                {
                                    "Name": "dm_filestream_non_transacted_handles",
                                    "Owner": "sys",
                                    "Object_type": "view"
                                },
                                {
                                    "Name": "dm_fts_active_catalogs",
                                    "Owner": "sys",
                                    "Object_type": "view"
                                },
                                {
                                    "Name": "dm_fts_fdhosts",
                                    "Owner": "sys",
                                    "Object_type": "view"
                                },
                                {
                                    "Name": "dm_fts_index_population",
                                    "Owner": "sys",
                                    "Object_type": "view"
                                },
                                {
                                    "Name": "dm_fts_memory_buffers",
                                    "Owner": "sys",
                                    "Object_type": "view"
                                },
                                {
                                    "Name": "dm_fts_memory_pools",
                                    "Owner": "sys",
                                    "Object_type": "view"
                                },
                                {
                                    "Name": "dm_fts_outstanding_batches",
                                    "Owner": "sys",
                                    "Object_type": "view"
                                },
                                {
                                    "Name": "dm_fts_population_ranges",
                                    "Owner": "sys",
                                    "Object_type": "view"
                                },
                                {
                                    "Name": "dm_fts_semantic_similarity_population",
                                    "Owner": "sys",
                                    "Object_type": "view"
                                },
                                {
                                    "Name": "dm_hadr_ag_threads",
                                    "Owner": "sys",
                                    "Object_type": "view"
                                },
                                {
                                    "Name": "dm_hadr_auto_page_repair",
                                    "Owner": "sys",
                                    "Object_type": "view"
                                },
                                {
                                    "Name": "dm_hadr_automatic_seeding",
                                    "Owner": "sys",
                                    "Object_type": "view"
                                },
                                {
                                    "Name": "dm_hadr_availability_group_states",
                                    "Owner": "sys",
                                    "Object_type": "view"
                                },
                                {
                                    "Name": "dm_hadr_availability_replica_cluster_nodes",
                                    "Owner": "sys",
                                    "Object_type": "view"
                                },
                                {
                                    "Name": "dm_hadr_availability_replica_cluster_states",
                                    "Owner": "sys",
                                    "Object_type": "view"
                                },
                                {
                                    "Name": "dm_hadr_availability_replica_states",
                                    "Owner": "sys",
                                    "Object_type": "view"
                                },
                                {
                                    "Name": "dm_hadr_cached_database_replica_states",
                                    "Owner": "sys",
                                    "Object_type": "view"
                                },
                                {
                                    "Name": "dm_hadr_cached_replica_states",
                                    "Owner": "sys",
                                    "Object_type": "view"
                                },
                                {
                                    "Name": "dm_hadr_cluster",
                                    "Owner": "sys",
                                    "Object_type": "view"
                                },
                                {
                                    "Name": "dm_hadr_cluster_members",
                                    "Owner": "sys",
                                    "Object_type": "view"
                                },
                                {
                                    "Name": "dm_hadr_cluster_networks",
                                    "Owner": "sys",
                                    "Object_type": "view"
                                },
                                {
                                    "Name": "dm_hadr_database_replica_cluster_states",
                                    "Owner": "sys",
                                    "Object_type": "view"
                                },
                                {
                                    "Name": "dm_hadr_database_replica_states",
                                    "Owner": "sys",
                                    "Object_type": "view"
                                },
                                {
                                    "Name": "dm_hadr_db_threads",
                                    "Owner": "sys",
                                    "Object_type": "view"
                                },
                                {
                                    "Name": "dm_hadr_instance_node_map",
                                    "Owner": "sys",
                                    "Object_type": "view"
                                },
                                {
                                    "Name": "dm_hadr_name_id_map",
                                    "Owner": "sys",
                                    "Object_type": "view"
                                },
                                {
                                    "Name": "dm_hadr_physical_seeding_stats",
                                    "Owner": "sys",
                                    "Object_type": "view"
                                },
                                {
                                    "Name": "dm_hpc_device_stats",
                                    "Owner": "sys",
                                    "Object_type": "view"
                                },
                                {
                                    "Name": "dm_hpc_thread_proxy_stats",
                                    "Owner": "sys",
                                    "Object_type": "view"
                                },
                                {
                                    "Name": "dm_io_backup_tapes",
                                    "Owner": "sys",
                                    "Object_type": "view"
                                },
                                {
                                    "Name": "dm_io_cluster_shared_drives",
                                    "Owner": "sys",
                                    "Object_type": "view"
                                },
                                {
                                    "Name": "dm_io_cluster_valid_path_names",
                                    "Owner": "sys",
                                    "Object_type": "view"
                                },
                                {
                                    "Name": "dm_io_pending_io_requests",
                                    "Owner": "sys",
                                    "Object_type": "view"
                                },
                                {
                                    "Name": "dm_logpool_hashentries",
                                    "Owner": "sys",
                                    "Object_type": "view"
                                },
                                {
                                    "Name": "dm_logpool_stats",
                                    "Owner": "sys",
                                    "Object_type": "view"
                                },
                                {
                                    "Name": "dm_os_buffer_descriptors",
                                    "Owner": "sys",
                                    "Object_type": "view"
                                },
                                {
                                    "Name": "dm_os_buffer_pool_extension_configuration",
                                    "Owner": "sys",
                                    "Object_type": "view"
                                },
                                {
                                    "Name": "dm_os_child_instances",
                                    "Owner": "sys",
                                    "Object_type": "view"
                                },
                                {
                                    "Name": "dm_os_cluster_nodes",
                                    "Owner": "sys",
                                    "Object_type": "view"
                                },
                                {
                                    "Name": "dm_os_cluster_properties",
                                    "Owner": "sys",
                                    "Object_type": "view"
                                },
                                {
                                    "Name": "dm_os_dispatcher_pools",
                                    "Owner": "sys",
                                    "Object_type": "view"
                                },
                                {
                                    "Name": "dm_os_dispatchers",
                                    "Owner": "sys",
                                    "Object_type": "view"
                                },
                                {
                                    "Name": "dm_os_enumerate_fixed_drives",
                                    "Owner": "sys",
                                    "Object_type": "view"
                                },
                                {
                                    "Name": "dm_os_host_info",
                                    "Owner": "sys",
                                    "Object_type": "view"
                                },
                                {
                                    "Name": "dm_os_hosts",
                                    "Owner": "sys",
                                    "Object_type": "view"
                                },
                                {
                                    "Name": "dm_os_job_object",
                                    "Owner": "sys",
                                    "Object_type": "view"
                                },
                                {
                                    "Name": "dm_os_latch_stats",
                                    "Owner": "sys",
                                    "Object_type": "view"
                                },
                                {
                                    "Name": "dm_os_loaded_modules",
                                    "Owner": "sys",
                                    "Object_type": "view"
                                },
                                {
                                    "Name": "dm_os_memory_allocations",
                                    "Owner": "sys",
                                    "Object_type": "view"
                                },
                                {
                                    "Name": "dm_os_memory_broker_clerks",
                                    "Owner": "sys",
                                    "Object_type": "view"
                                },
                                {
                                    "Name": "dm_os_memory_brokers",
                                    "Owner": "sys",
                                    "Object_type": "view"
                                },
                                {
                                    "Name": "dm_os_memory_cache_clock_hands",
                                    "Owner": "sys",
                                    "Object_type": "view"
                                },
                                {
                                    "Name": "dm_os_memory_cache_counters",
                                    "Owner": "sys",
                                    "Object_type": "view"
                                },
                                {
                                    "Name": "dm_os_memory_cache_entries",
                                    "Owner": "sys",
                                    "Object_type": "view"
                                },
                                {
                                    "Name": "dm_os_memory_cache_hash_tables",
                                    "Owner": "sys",
                                    "Object_type": "view"
                                },
                                {
                                    "Name": "dm_os_memory_clerks",
                                    "Owner": "sys",
                                    "Object_type": "view"
                                },
                                {
                                    "Name": "dm_os_memory_node_access_stats",
                                    "Owner": "sys",
                                    "Object_type": "view"
                                },
                                {
                                    "Name": "dm_os_memory_nodes",
                                    "Owner": "sys",
                                    "Object_type": "view"
                                },
                                {
                                    "Name": "dm_os_memory_objects",
                                    "Owner": "sys",
                                    "Object_type": "view"
                                },
                                {
                                    "Name": "dm_os_memory_pools",
                                    "Owner": "sys",
                                    "Object_type": "view"
                                },
                                {
                                    "Name": "dm_os_nodes",
                                    "Owner": "sys",
                                    "Object_type": "view"
                                },
                                {
                                    "Name": "dm_os_performance_counters",
                                    "Owner": "sys",
                                    "Object_type": "view"
                                },
                                {
                                    "Name": "dm_os_process_memory",
                                    "Owner": "sys",
                                    "Object_type": "view"
                                },
                                {
                                    "Name": "dm_os_ring_buffers",
                                    "Owner": "sys",
                                    "Object_type": "view"
                                },
                                {
                                    "Name": "dm_os_schedulers",
                                    "Owner": "sys",
                                    "Object_type": "view"
                                },
                                {
                                    "Name": "dm_os_server_diagnostics_log_configurations",
                                    "Owner": "sys",
                                    "Object_type": "view"
                                },
                                {
                                    "Name": "dm_os_spinlock_stats",
                                    "Owner": "sys",
                                    "Object_type": "view"
                                },
                                {
                                    "Name": "dm_os_stacks",
                                    "Owner": "sys",
                                    "Object_type": "view"
                                },
                                {
                                    "Name": "dm_os_sublatches",
                                    "Owner": "sys",
                                    "Object_type": "view"
                                },
                                {
                                    "Name": "dm_os_sys_info",
                                    "Owner": "sys",
                                    "Object_type": "view"
                                },
                                {
                                    "Name": "dm_os_sys_memory",
                                    "Owner": "sys",
                                    "Object_type": "view"
                                },
                                {
                                    "Name": "dm_os_tasks",
                                    "Owner": "sys",
                                    "Object_type": "view"
                                },
                                {
                                    "Name": "dm_os_threads",
                                    "Owner": "sys",
                                    "Object_type": "view"
                                },
                                {
                                    "Name": "dm_os_virtual_address_dump",
                                    "Owner": "sys",
                                    "Object_type": "view"
                                },
                                {
                                    "Name": "dm_os_wait_stats",
                                    "Owner": "sys",
                                    "Object_type": "view"
                                },
                                {
                                    "Name": "dm_os_waiting_tasks",
                                    "Owner": "sys",
                                    "Object_type": "view"
                                },
                                {
                                    "Name": "dm_os_windows_info",
                                    "Owner": "sys",
                                    "Object_type": "view"
                                },
                                {
                                    "Name": "dm_os_worker_local_storage",
                                    "Owner": "sys",
                                    "Object_type": "view"
                                },
                                {
                                    "Name": "dm_os_workers",
                                    "Owner": "sys",
                                    "Object_type": "view"
                                },
                                {
                                    "Name": "dm_pal_cpu_stats",
                                    "Owner": "sys",
                                    "Object_type": "view"
                                },
                                {
                                    "Name": "dm_pal_disk_stats",
                                    "Owner": "sys",
                                    "Object_type": "view"
                                },
                                {
                                    "Name": "dm_pal_net_stats",
                                    "Owner": "sys",
                                    "Object_type": "view"
                                },
                                {
                                    "Name": "dm_pal_processes",
                                    "Owner": "sys",
                                    "Object_type": "view"
                                },
                                {
                                    "Name": "dm_pal_spinlock_stats",
                                    "Owner": "sys",
                                    "Object_type": "view"
                                },
                                {
                                    "Name": "dm_pal_vm_stats",
                                    "Owner": "sys",
                                    "Object_type": "view"
                                },
                                {
                                    "Name": "dm_pal_wait_stats",
                                    "Owner": "sys",
                                    "Object_type": "view"
                                },
                                {
                                    "Name": "dm_qn_subscriptions",
                                    "Owner": "sys",
                                    "Object_type": "view"
                                },
                                {
                                    "Name": "dm_repl_articles",
                                    "Owner": "sys",
                                    "Object_type": "view"
                                },
                                {
                                    "Name": "dm_repl_schemas",
                                    "Owner": "sys",
                                    "Object_type": "view"
                                },
                                {
                                    "Name": "dm_repl_tranhash",
                                    "Owner": "sys",
                                    "Object_type": "view"
                                },
                                {
                                    "Name": "dm_repl_traninfo",
                                    "Owner": "sys",
                                    "Object_type": "view"
                                },
                                {
                                    "Name": "dm_request_phases",
                                    "Owner": "sys",
                                    "Object_type": "view"
                                },
                                {
                                    "Name": "dm_resource_governor_configuration",
                                    "Owner": "sys",
                                    "Object_type": "view"
                                },
                                {
                                    "Name": "dm_resource_governor_external_resource_pool_affinity",
                                    "Owner": "sys",
                                    "Object_type": "view"
                                },
                                {
                                    "Name": "dm_resource_governor_external_resource_pools",
                                    "Owner": "sys",
                                    "Object_type": "view"
                                },
                                {
                                    "Name": "dm_resource_governor_resource_pool_affinity",
                                    "Owner": "sys",
                                    "Object_type": "view"
                                },
                                {
                                    "Name": "dm_resource_governor_resource_pool_volumes",
                                    "Owner": "sys",
                                    "Object_type": "view"
                                },
                                {
                                    "Name": "dm_resource_governor_resource_pools",
                                    "Owner": "sys",
                                    "Object_type": "view"
                                },
                                {
                                    "Name": "dm_resource_governor_workload_groups",
                                    "Owner": "sys",
                                    "Object_type": "view"
                                },
                                {
                                    "Name": "dm_server_audit_status",
                                    "Owner": "sys",
                                    "Object_type": "view"
                                },
                                {
                                    "Name": "dm_server_memory_dumps",
                                    "Owner": "sys",
                                    "Object_type": "view"
                                },
                                {
                                    "Name": "dm_server_registry",
                                    "Owner": "sys",
                                    "Object_type": "view"
                                },
                                {
                                    "Name": "dm_server_services",
                                    "Owner": "sys",
                                    "Object_type": "view"
                                },
                                {
                                    "Name": "dm_tcp_listener_states",
                                    "Owner": "sys",
                                    "Object_type": "view"
                                },
                                {
                                    "Name": "dm_toad_tuning_zones",
                                    "Owner": "sys",
                                    "Object_type": "view"
                                },
                                {
                                    "Name": "dm_toad_work_item_handlers",
                                    "Owner": "sys",
                                    "Object_type": "view"
                                },
                                {
                                    "Name": "dm_toad_work_items",
                                    "Owner": "sys",
                                    "Object_type": "view"
                                },
                                {
                                    "Name": "dm_tran_aborted_transactions",
                                    "Owner": "sys",
                                    "Object_type": "view"
                                },
                                {
                                    "Name": "dm_tran_active_snapshot_database_transactions",
                                    "Owner": "sys",
                                    "Object_type": "view"
                                },
                                {
                                    "Name": "dm_tran_active_transactions",
                                    "Owner": "sys",
                                    "Object_type": "view"
                                },
                                {
                                    "Name": "dm_tran_commit_table",
                                    "Owner": "sys",
                                    "Object_type": "view"
                                },
                                {
                                    "Name": "dm_tran_current_snapshot",
                                    "Owner": "sys",
                                    "Object_type": "view"
                                },
                                {
                                    "Name": "dm_tran_current_transaction",
                                    "Owner": "sys",
                                    "Object_type": "view"
                                },
                                {
                                    "Name": "dm_tran_database_transactions",
                                    "Owner": "sys",
                                    "Object_type": "view"
                                },
                                {
                                    "Name": "dm_tran_global_recovery_transactions",
                                    "Owner": "sys",
                                    "Object_type": "view"
                                },
                                {
                                    "Name": "dm_tran_global_transactions",
                                    "Owner": "sys",
                                    "Object_type": "view"
                                },
                                {
                                    "Name": "dm_tran_global_transactions_enlistments",
                                    "Owner": "sys",
                                    "Object_type": "view"
                                },
                                {
                                    "Name": "dm_tran_global_transactions_log",
                                    "Owner": "sys",
                                    "Object_type": "view"
                                },
                                {
                                    "Name": "dm_tran_locks",
                                    "Owner": "sys",
                                    "Object_type": "view"
                                },
                                {
                                    "Name": "dm_tran_persistent_version_store",
                                    "Owner": "sys",
                                    "Object_type": "view"
                                },
                                {
                                    "Name": "dm_tran_persistent_version_store_stats",
                                    "Owner": "sys",
                                    "Object_type": "view"
                                },
                                {
                                    "Name": "dm_tran_session_transactions",
                                    "Owner": "sys",
                                    "Object_type": "view"
                                },
                                {
                                    "Name": "dm_tran_top_version_generators",
                                    "Owner": "sys",
                                    "Object_type": "view"
                                },
                                {
                                    "Name": "dm_tran_transactions_snapshot",
                                    "Owner": "sys",
                                    "Object_type": "view"
                                },
                                {
                                    "Name": "dm_tran_version_store",
                                    "Owner": "sys",
                                    "Object_type": "view"
                                },
                                {
                                    "Name": "dm_tran_version_store_space_usage",
                                    "Owner": "sys",
                                    "Object_type": "view"
                                },
                                {
                                    "Name": "dm_xe_map_values",
                                    "Owner": "sys",
                                    "Object_type": "view"
                                },
                                {
                                    "Name": "dm_xe_object_columns",
                                    "Owner": "sys",
                                    "Object_type": "view"
                                },
                                {
                                    "Name": "dm_xe_objects",
                                    "Owner": "sys",
                                    "Object_type": "view"
                                },
                                {
                                    "Name": "dm_xe_packages",
                                    "Owner": "sys",
                                    "Object_type": "view"
                                },
                                {
                                    "Name": "dm_xe_session_event_actions",
                                    "Owner": "sys",
                                    "Object_type": "view"
                                },
                                {
                                    "Name": "dm_xe_session_events",
                                    "Owner": "sys",
                                    "Object_type": "view"
                                },
                                {
                                    "Name": "dm_xe_session_object_columns",
                                    "Owner": "sys",
                                    "Object_type": "view"
                                },
                                {
                                    "Name": "dm_xe_session_targets",
                                    "Owner": "sys",
                                    "Object_type": "view"
                                },
                                {
                                    "Name": "dm_xe_sessions",
                                    "Owner": "sys",
                                    "Object_type": "view"
                                },
                                {
                                    "Name": "dm_xtp_gc_queue_stats",
                                    "Owner": "sys",
                                    "Object_type": "view"
                                },
                                {
                                    "Name": "dm_xtp_gc_stats",
                                    "Owner": "sys",
                                    "Object_type": "view"
                                },
                                {
                                    "Name": "dm_xtp_system_memory_consumers",
                                    "Owner": "sys",
                                    "Object_type": "view"
                                },
                                {
                                    "Name": "dm_xtp_threads",
                                    "Owner": "sys",
                                    "Object_type": "view"
                                },
                                {
                                    "Name": "dm_xtp_transaction_recent_rows",
                                    "Owner": "sys",
                                    "Object_type": "view"
                                },
                                {
                                    "Name": "dm_xtp_transaction_stats",
                                    "Owner": "sys",
                                    "Object_type": "view"
                                },
                                {
                                    "Name": "edge_constraint_clauses",
                                    "Owner": "sys",
                                    "Object_type": "view"
                                },
                                {
                                    "Name": "edge_constraints",
                                    "Owner": "sys",
                                    "Object_type": "view"
                                },
                                {
                                    "Name": "endpoint_webmethods",
                                    "Owner": "sys",
                                    "Object_type": "view"
                                },
                                {
                                    "Name": "endpoints",
                                    "Owner": "sys",
                                    "Object_type": "view"
                                },
                                {
                                    "Name": "event_notification_event_types",
                                    "Owner": "sys",
                                    "Object_type": "view"
                                },
                                {
                                    "Name": "event_notifications",
                                    "Owner": "sys",
                                    "Object_type": "view"
                                },
                                {
                                    "Name": "events",
                                    "Owner": "sys",
                                    "Object_type": "view"
                                },
                                {
                                    "Name": "extended_procedures",
                                    "Owner": "sys",
                                    "Object_type": "view"
                                },
                                {
                                    "Name": "extended_properties",
                                    "Owner": "sys",
                                    "Object_type": "view"
                                },
                                {
                                    "Name": "external_data_sources",
                                    "Owner": "sys",
                                    "Object_type": "view"
                                },
                                {
                                    "Name": "external_file_formats",
                                    "Owner": "sys",
                                    "Object_type": "view"
                                },
                                {
                                    "Name": "external_job_streams",
                                    "Owner": "sys",
                                    "Object_type": "view"
                                },
                                {
                                    "Name": "external_language_files",
                                    "Owner": "sys",
                                    "Object_type": "view"
                                },
                                {
                                    "Name": "external_languages",
                                    "Owner": "sys",
                                    "Object_type": "view"
                                },
                                {
                                    "Name": "external_libraries",
                                    "Owner": "sys",
                                    "Object_type": "view"
                                },
                                {
                                    "Name": "external_libraries_installed",
                                    "Owner": "sys",
                                    "Object_type": "view"
                                },
                                {
                                    "Name": "external_library_files",
                                    "Owner": "sys",
                                    "Object_type": "view"
                                },
                                {
                                    "Name": "external_library_setup_errors",
                                    "Owner": "sys",
                                    "Object_type": "view"
                                },
                                {
                                    "Name": "external_stream_columns",
                                    "Owner": "sys",
                                    "Object_type": "view"
                                },
                                {
                                    "Name": "external_streaming_jobs",
                                    "Owner": "sys",
                                    "Object_type": "view"
                                },
                                {
                                    "Name": "external_streams",
                                    "Owner": "sys",
                                    "Object_type": "view"
                                },
                                {
                                    "Name": "external_table_columns",
                                    "Owner": "sys",
                                    "Object_type": "view"
                                },
                                {
                                    "Name": "external_tables",
                                    "Owner": "sys",
                                    "Object_type": "view"
                                },
                                {
                                    "Name": "filegroups",
                                    "Owner": "sys",
                                    "Object_type": "view"
                                },
                                {
                                    "Name": "filetable_system_defined_objects",
                                    "Owner": "sys",
                                    "Object_type": "view"
                                },
                                {
                                    "Name": "filetables",
                                    "Owner": "sys",
                                    "Object_type": "view"
                                },
                                {
                                    "Name": "foreign_key_columns",
                                    "Owner": "sys",
                                    "Object_type": "view"
                                },
                                {
                                    "Name": "foreign_keys",
                                    "Owner": "sys",
                                    "Object_type": "view"
                                },
                                {
                                    "Name": "fulltext_catalogs",
                                    "Owner": "sys",
                                    "Object_type": "view"
                                },
                                {
                                    "Name": "fulltext_document_types",
                                    "Owner": "sys",
                                    "Object_type": "view"
                                },
                                {
                                    "Name": "fulltext_index_catalog_usages",
                                    "Owner": "sys",
                                    "Object_type": "view"
                                },
                                {
                                    "Name": "fulltext_index_columns",
                                    "Owner": "sys",
                                    "Object_type": "view"
                                },
                                {
                                    "Name": "fulltext_index_fragments",
                                    "Owner": "sys",
                                    "Object_type": "view"
                                },
                                {
                                    "Name": "fulltext_indexes",
                                    "Owner": "sys",
                                    "Object_type": "view"
                                },
                                {
                                    "Name": "fulltext_languages",
                                    "Owner": "sys",
                                    "Object_type": "view"
                                },
                                {
                                    "Name": "fulltext_semantic_language_statistics_database",
                                    "Owner": "sys",
                                    "Object_type": "view"
                                },
                                {
                                    "Name": "fulltext_semantic_languages",
                                    "Owner": "sys",
                                    "Object_type": "view"
                                },
                                {
                                    "Name": "fulltext_stoplists",
                                    "Owner": "sys",
                                    "Object_type": "view"
                                },
                                {
                                    "Name": "fulltext_stopwords",
                                    "Owner": "sys",
                                    "Object_type": "view"
                                },
                                {
                                    "Name": "fulltext_system_stopwords",
                                    "Owner": "sys",
                                    "Object_type": "view"
                                },
                                {
                                    "Name": "function_order_columns",
                                    "Owner": "sys",
                                    "Object_type": "view"
                                },
                                {
                                    "Name": "hash_indexes",
                                    "Owner": "sys",
                                    "Object_type": "view"
                                },
                                {
                                    "Name": "http_endpoints",
                                    "Owner": "sys",
                                    "Object_type": "view"
                                },
                                {
                                    "Name": "identity_columns",
                                    "Owner": "sys",
                                    "Object_type": "view"
                                },
                                {
                                    "Name": "index_columns",
                                    "Owner": "sys",
                                    "Object_type": "view"
                                },
                                {
                                    "Name": "index_resumable_operations",
                                    "Owner": "sys",
                                    "Object_type": "view"
                                },
                                {
                                    "Name": "indexes",
                                    "Owner": "sys",
                                    "Object_type": "view"
                                },
                                {
                                    "Name": "internal_partitions",
                                    "Owner": "sys",
                                    "Object_type": "view"
                                },
                                {
                                    "Name": "internal_tables",
                                    "Owner": "sys",
                                    "Object_type": "view"
                                },
                                {
                                    "Name": "key_constraints",
                                    "Owner": "sys",
                                    "Object_type": "view"
                                },
                                {
                                    "Name": "key_encryptions",
                                    "Owner": "sys",
                                    "Object_type": "view"
                                },
                                {
                                    "Name": "linked_logins",
                                    "Owner": "sys",
                                    "Object_type": "view"
                                },
                                {
                                    "Name": "login_token",
                                    "Owner": "sys",
                                    "Object_type": "view"
                                },
                                {
                                    "Name": "masked_columns",
                                    "Owner": "sys",
                                    "Object_type": "view"
                                },
                                {
                                    "Name": "master_files",
                                    "Owner": "sys",
                                    "Object_type": "view"
                                },
                                {
                                    "Name": "master_key_passwords",
                                    "Owner": "sys",
                                    "Object_type": "view"
                                },
                                {
                                    "Name": "memory_optimized_tables_internal_attributes",
                                    "Owner": "sys",
                                    "Object_type": "view"
                                },
                                {
                                    "Name": "message_type_xml_schema_collection_usages",
                                    "Owner": "sys",
                                    "Object_type": "view"
                                },
                                {
                                    "Name": "messages",
                                    "Owner": "sys",
                                    "Object_type": "view"
                                },
                                {
                                    "Name": "module_assembly_usages",
                                    "Owner": "sys",
                                    "Object_type": "view"
                                },
                                {
                                    "Name": "numbered_procedure_parameters",
                                    "Owner": "sys",
                                    "Object_type": "view"
                                },
                                {
                                    "Name": "numbered_procedures",
                                    "Owner": "sys",
                                    "Object_type": "view"
                                },
                                {
                                    "Name": "objects",
                                    "Owner": "sys",
                                    "Object_type": "view"
                                },
                                {
                                    "Name": "openkeys",
                                    "Owner": "sys",
                                    "Object_type": "view"
                                },
                                {
                                    "Name": "parameter_type_usages",
                                    "Owner": "sys",
                                    "Object_type": "view"
                                },
                                {
                                    "Name": "parameter_xml_schema_collection_usages",
                                    "Owner": "sys",
                                    "Object_type": "view"
                                },
                                {
                                    "Name": "parameters",
                                    "Owner": "sys",
                                    "Object_type": "view"
                                },
                                {
                                    "Name": "partition_functions",
                                    "Owner": "sys",
                                    "Object_type": "view"
                                },
                                {
                                    "Name": "partition_parameters",
                                    "Owner": "sys",
                                    "Object_type": "view"
                                },
                                {
                                    "Name": "partition_range_values",
                                    "Owner": "sys",
                                    "Object_type": "view"
                                },
                                {
                                    "Name": "partition_schemes",
                                    "Owner": "sys",
                                    "Object_type": "view"
                                },
                                {
                                    "Name": "partitions",
                                    "Owner": "sys",
                                    "Object_type": "view"
                                },
                                {
                                    "Name": "periods",
                                    "Owner": "sys",
                                    "Object_type": "view"
                                },
                                {
                                    "Name": "plan_guides",
                                    "Owner": "sys",
                                    "Object_type": "view"
                                },
                                {
                                    "Name": "procedures",
                                    "Owner": "sys",
                                    "Object_type": "view"
                                },
                                {
                                    "Name": "query_context_settings",
                                    "Owner": "sys",
                                    "Object_type": "view"
                                },
                                {
                                    "Name": "query_store_plan",
                                    "Owner": "sys",
                                    "Object_type": "view"
                                },
                                {
                                    "Name": "query_store_query",
                                    "Owner": "sys",
                                    "Object_type": "view"
                                },
                                {
                                    "Name": "query_store_query_hints",
                                    "Owner": "sys",
                                    "Object_type": "view"
                                },
                                {
                                    "Name": "query_store_query_text",
                                    "Owner": "sys",
                                    "Object_type": "view"
                                },
                                {
                                    "Name": "query_store_runtime_stats",
                                    "Owner": "sys",
                                    "Object_type": "view"
                                },
                                {
                                    "Name": "query_store_runtime_stats_interval",
                                    "Owner": "sys",
                                    "Object_type": "view"
                                },
                                {
                                    "Name": "query_store_wait_stats",
                                    "Owner": "sys",
                                    "Object_type": "view"
                                },
                                {
                                    "Name": "registered_search_properties",
                                    "Owner": "sys",
                                    "Object_type": "view"
                                },
                                {
                                    "Name": "registered_search_property_lists",
                                    "Owner": "sys",
                                    "Object_type": "view"
                                },
                                {
                                    "Name": "remote_data_archive_databases",
                                    "Owner": "sys",
                                    "Object_type": "view"
                                },
                                {
                                    "Name": "remote_data_archive_tables",
                                    "Owner": "sys",
                                    "Object_type": "view"
                                },
                                {
                                    "Name": "remote_logins",
                                    "Owner": "sys",
                                    "Object_type": "view"
                                },
                                {
                                    "Name": "remote_service_bindings",
                                    "Owner": "sys",
                                    "Object_type": "view"
                                },
                                {
                                    "Name": "resource_governor_configuration",
                                    "Owner": "sys",
                                    "Object_type": "view"
                                },
                                {
                                    "Name": "resource_governor_external_resource_pool_affinity",
                                    "Owner": "sys",
                                    "Object_type": "view"
                                },
                                {
                                    "Name": "resource_governor_external_resource_pools",
                                    "Owner": "sys",
                                    "Object_type": "view"
                                },
                                {
                                    "Name": "resource_governor_resource_pool_affinity",
                                    "Owner": "sys",
                                    "Object_type": "view"
                                },
                                {
                                    "Name": "resource_governor_resource_pools",
                                    "Owner": "sys",
                                    "Object_type": "view"
                                },
                                {
                                    "Name": "resource_governor_workload_groups",
                                    "Owner": "sys",
                                    "Object_type": "view"
                                },
                                {
                                    "Name": "routes",
                                    "Owner": "sys",
                                    "Object_type": "view"
                                },
                                {
                                    "Name": "schemas",
                                    "Owner": "sys",
                                    "Object_type": "view"
                                },
                                {
                                    "Name": "securable_classes",
                                    "Owner": "sys",
                                    "Object_type": "view"
                                },
                                {
                                    "Name": "security_policies",
                                    "Owner": "sys",
                                    "Object_type": "view"
                                },
                                {
                                    "Name": "security_predicates",
                                    "Owner": "sys",
                                    "Object_type": "view"
                                },
                                {
                                    "Name": "selective_xml_index_namespaces",
                                    "Owner": "sys",
                                    "Object_type": "view"
                                },
                                {
                                    "Name": "selective_xml_index_paths",
                                    "Owner": "sys",
                                    "Object_type": "view"
                                },
                                {
                                    "Name": "sensitivity_classifications",
                                    "Owner": "sys",
                                    "Object_type": "view"
                                },
                                {
                                    "Name": "sequences",
                                    "Owner": "sys",
                                    "Object_type": "view"
                                },
                                {
                                    "Name": "server_assembly_modules",
                                    "Owner": "sys",
                                    "Object_type": "view"
                                },
                                {
                                    "Name": "server_audit_specification_details",
                                    "Owner": "sys",
                                    "Object_type": "view"
                                },
                                {
                                    "Name": "server_audit_specifications",
                                    "Owner": "sys",
                                    "Object_type": "view"
                                },
                                {
                                    "Name": "server_audits",
                                    "Owner": "sys",
                                    "Object_type": "view"
                                },
                                {
                                    "Name": "server_event_notifications",
                                    "Owner": "sys",
                                    "Object_type": "view"
                                },
                                {
                                    "Name": "server_event_session_actions",
                                    "Owner": "sys",
                                    "Object_type": "view"
                                },
                                {
                                    "Name": "server_event_session_events",
                                    "Owner": "sys",
                                    "Object_type": "view"
                                },
                                {
                                    "Name": "server_event_session_fields",
                                    "Owner": "sys",
                                    "Object_type": "view"
                                },
                                {
                                    "Name": "server_event_session_targets",
                                    "Owner": "sys",
                                    "Object_type": "view"
                                },
                                {
                                    "Name": "server_event_sessions",
                                    "Owner": "sys",
                                    "Object_type": "view"
                                },
                                {
                                    "Name": "server_events",
                                    "Owner": "sys",
                                    "Object_type": "view"
                                },
                                {
                                    "Name": "server_file_audits",
                                    "Owner": "sys",
                                    "Object_type": "view"
                                },
                                {
                                    "Name": "server_memory_optimized_hybrid_buffer_pool_configuration",
                                    "Owner": "sys",
                                    "Object_type": "view"
                                },
                                {
                                    "Name": "server_permissions",
                                    "Owner": "sys",
                                    "Object_type": "view"
                                },
                                {
                                    "Name": "server_principal_credentials",
                                    "Owner": "sys",
                                    "Object_type": "view"
                                },
                                {
                                    "Name": "server_principals",
                                    "Owner": "sys",
                                    "Object_type": "view"
                                },
                                {
                                    "Name": "server_role_members",
                                    "Owner": "sys",
                                    "Object_type": "view"
                                },
                                {
                                    "Name": "server_sql_modules",
                                    "Owner": "sys",
                                    "Object_type": "view"
                                },
                                {
                                    "Name": "server_trigger_events",
                                    "Owner": "sys",
                                    "Object_type": "view"
                                },
                                {
                                    "Name": "server_triggers",
                                    "Owner": "sys",
                                    "Object_type": "view"
                                },
                                {
                                    "Name": "servers",
                                    "Owner": "sys",
                                    "Object_type": "view"
                                },
                                {
                                    "Name": "service_broker_endpoints",
                                    "Owner": "sys",
                                    "Object_type": "view"
                                },
                                {
                                    "Name": "service_contract_message_usages",
                                    "Owner": "sys",
                                    "Object_type": "view"
                                },
                                {
                                    "Name": "service_contract_usages",
                                    "Owner": "sys",
                                    "Object_type": "view"
                                },
                                {
                                    "Name": "service_contracts",
                                    "Owner": "sys",
                                    "Object_type": "view"
                                },
                                {
                                    "Name": "service_message_types",
                                    "Owner": "sys",
                                    "Object_type": "view"
                                },
                                {
                                    "Name": "service_queue_usages",
                                    "Owner": "sys",
                                    "Object_type": "view"
                                },
                                {
                                    "Name": "service_queues",
                                    "Owner": "sys",
                                    "Object_type": "view"
                                },
                                {
                                    "Name": "services",
                                    "Owner": "sys",
                                    "Object_type": "view"
                                },
                                {
                                    "Name": "soap_endpoints",
                                    "Owner": "sys",
                                    "Object_type": "view"
                                },
                                {
                                    "Name": "spatial_index_tessellations",
                                    "Owner": "sys",
                                    "Object_type": "view"
                                },
                                {
                                    "Name": "spatial_indexes",
                                    "Owner": "sys",
                                    "Object_type": "view"
                                },
                                {
                                    "Name": "spatial_reference_systems",
                                    "Owner": "sys",
                                    "Object_type": "view"
                                },
                                {
                                    "Name": "sql_dependencies",
                                    "Owner": "sys",
                                    "Object_type": "view"
                                },
                                {
                                    "Name": "sql_expression_dependencies",
                                    "Owner": "sys",
                                    "Object_type": "view"
                                },
                                {
                                    "Name": "sql_logins",
                                    "Owner": "sys",
                                    "Object_type": "view"
                                },
                                {
                                    "Name": "sql_modules",
                                    "Owner": "sys",
                                    "Object_type": "view"
                                },
                                {
                                    "Name": "stats",
                                    "Owner": "sys",
                                    "Object_type": "view"
                                },
                                {
                                    "Name": "stats_columns",
                                    "Owner": "sys",
                                    "Object_type": "view"
                                },
                                {
                                    "Name": "symmetric_keys",
                                    "Owner": "sys",
                                    "Object_type": "view"
                                },
                                {
                                    "Name": "synonyms",
                                    "Owner": "sys",
                                    "Object_type": "view"
                                },
                                {
                                    "Name": "sysaltfiles",
                                    "Owner": "sys",
                                    "Object_type": "view"
                                },
                                {
                                    "Name": "syscacheobjects",
                                    "Owner": "sys",
                                    "Object_type": "view"
                                },
                                {
                                    "Name": "syscharsets",
                                    "Owner": "sys",
                                    "Object_type": "view"
                                },
                                {
                                    "Name": "syscolumns",
                                    "Owner": "sys",
                                    "Object_type": "view"
                                },
                                {
                                    "Name": "syscomments",
                                    "Owner": "sys",
                                    "Object_type": "view"
                                },
                                {
                                    "Name": "sysconfigures",
                                    "Owner": "sys",
                                    "Object_type": "view"
                                },
                                {
                                    "Name": "sysconstraints",
                                    "Owner": "sys",
                                    "Object_type": "view"
                                },
                                {
                                    "Name": "syscscontainers",
                                    "Owner": "sys",
                                    "Object_type": "view"
                                },
                                {
                                    "Name": "syscurconfigs",
                                    "Owner": "sys",
                                    "Object_type": "view"
                                },
                                {
                                    "Name": "syscursorcolumns",
                                    "Owner": "sys",
                                    "Object_type": "view"
                                },
                                {
                                    "Name": "syscursorrefs",
                                    "Owner": "sys",
                                    "Object_type": "view"
                                },
                                {
                                    "Name": "syscursors",
                                    "Owner": "sys",
                                    "Object_type": "view"
                                },
                                {
                                    "Name": "syscursortables",
                                    "Owner": "sys",
                                    "Object_type": "view"
                                },
                                {
                                    "Name": "sysdatabases",
                                    "Owner": "sys",
                                    "Object_type": "view"
                                },
                                {
                                    "Name": "sysdepends",
                                    "Owner": "sys",
                                    "Object_type": "view"
                                },
                                {
                                    "Name": "sysdevices",
                                    "Owner": "sys",
                                    "Object_type": "view"
                                },
                                {
                                    "Name": "sysfilegroups",
                                    "Owner": "sys",
                                    "Object_type": "view"
                                },
                                {
                                    "Name": "sysfiles",
                                    "Owner": "sys",
                                    "Object_type": "view"
                                },
                                {
                                    "Name": "sysforeignkeys",
                                    "Owner": "sys",
                                    "Object_type": "view"
                                },
                                {
                                    "Name": "sysfulltextcatalogs",
                                    "Owner": "sys",
                                    "Object_type": "view"
                                },
                                {
                                    "Name": "sysindexes",
                                    "Owner": "sys",
                                    "Object_type": "view"
                                },
                                {
                                    "Name": "sysindexkeys",
                                    "Owner": "sys",
                                    "Object_type": "view"
                                },
                                {
                                    "Name": "syslanguages",
                                    "Owner": "sys",
                                    "Object_type": "view"
                                },
                                {
                                    "Name": "syslockinfo",
                                    "Owner": "sys",
                                    "Object_type": "view"
                                },
                                {
                                    "Name": "syslogins",
                                    "Owner": "sys",
                                    "Object_type": "view"
                                },
                                {
                                    "Name": "sysmembers",
                                    "Owner": "sys",
                                    "Object_type": "view"
                                },
                                {
                                    "Name": "sysmessages",
                                    "Owner": "sys",
                                    "Object_type": "view"
                                },
                                {
                                    "Name": "sysobjects",
                                    "Owner": "sys",
                                    "Object_type": "view"
                                },
                                {
                                    "Name": "sysoledbusers",
                                    "Owner": "sys",
                                    "Object_type": "view"
                                },
                                {
                                    "Name": "sysopentapes",
                                    "Owner": "sys",
                                    "Object_type": "view"
                                },
                                {
                                    "Name": "sysperfinfo",
                                    "Owner": "sys",
                                    "Object_type": "view"
                                },
                                {
                                    "Name": "syspermissions",
                                    "Owner": "sys",
                                    "Object_type": "view"
                                },
                                {
                                    "Name": "sysprocesses",
                                    "Owner": "sys",
                                    "Object_type": "view"
                                },
                                {
                                    "Name": "sysprotects",
                                    "Owner": "sys",
                                    "Object_type": "view"
                                },
                                {
                                    "Name": "sysreferences",
                                    "Owner": "sys",
                                    "Object_type": "view"
                                },
                                {
                                    "Name": "sysremotelogins",
                                    "Owner": "sys",
                                    "Object_type": "view"
                                },
                                {
                                    "Name": "sysservers",
                                    "Owner": "sys",
                                    "Object_type": "view"
                                },
                                {
                                    "Name": "system_columns",
                                    "Owner": "sys",
                                    "Object_type": "view"
                                },
                                {
                                    "Name": "system_components_surface_area_configuration",
                                    "Owner": "sys",
                                    "Object_type": "view"
                                },
                                {
                                    "Name": "system_internals_allocation_units",
                                    "Owner": "sys",
                                    "Object_type": "view"
                                },
                                {
                                    "Name": "system_internals_partition_columns",
                                    "Owner": "sys",
                                    "Object_type": "view"
                                },
                                {
                                    "Name": "system_internals_partitions",
                                    "Owner": "sys",
                                    "Object_type": "view"
                                },
                                {
                                    "Name": "system_objects",
                                    "Owner": "sys",
                                    "Object_type": "view"
                                },
                                {
                                    "Name": "system_parameters",
                                    "Owner": "sys",
                                    "Object_type": "view"
                                },
                                {
                                    "Name": "system_sql_modules",
                                    "Owner": "sys",
                                    "Object_type": "view"
                                },
                                {
                                    "Name": "system_views",
                                    "Owner": "sys",
                                    "Object_type": "view"
                                },
                                {
                                    "Name": "systypes",
                                    "Owner": "sys",
                                    "Object_type": "view"
                                },
                                {
                                    "Name": "sysusers",
                                    "Owner": "sys",
                                    "Object_type": "view"
                                },
                                {
                                    "Name": "table_types",
                                    "Owner": "sys",
                                    "Object_type": "view"
                                },
                                {
                                    "Name": "tables",
                                    "Owner": "sys",
                                    "Object_type": "view"
                                },
                                {
                                    "Name": "tcp_endpoints",
                                    "Owner": "sys",
                                    "Object_type": "view"
                                },
                                {
                                    "Name": "time_zone_info",
                                    "Owner": "sys",
                                    "Object_type": "view"
                                },
                                {
                                    "Name": "trace_categories",
                                    "Owner": "sys",
                                    "Object_type": "view"
                                },
                                {
                                    "Name": "trace_columns",
                                    "Owner": "sys",
                                    "Object_type": "view"
                                },
                                {
                                    "Name": "trace_event_bindings",
                                    "Owner": "sys",
                                    "Object_type": "view"
                                },
                                {
                                    "Name": "trace_events",
                                    "Owner": "sys",
                                    "Object_type": "view"
                                },
                                {
                                    "Name": "trace_subclass_values",
                                    "Owner": "sys",
                                    "Object_type": "view"
                                },
                                {
                                    "Name": "traces",
                                    "Owner": "sys",
                                    "Object_type": "view"
                                },
                                {
                                    "Name": "transmission_queue",
                                    "Owner": "sys",
                                    "Object_type": "view"
                                },
                                {
                                    "Name": "trigger_event_types",
                                    "Owner": "sys",
                                    "Object_type": "view"
                                },
                                {
                                    "Name": "trigger_events",
                                    "Owner": "sys",
                                    "Object_type": "view"
                                },
                                {
                                    "Name": "triggers",
                                    "Owner": "sys",
                                    "Object_type": "view"
                                },
                                {
                                    "Name": "trusted_assemblies",
                                    "Owner": "sys",
                                    "Object_type": "view"
                                },
                                {
                                    "Name": "type_assembly_usages",
                                    "Owner": "sys",
                                    "Object_type": "view"
                                },
                                {
                                    "Name": "types",
                                    "Owner": "sys",
                                    "Object_type": "view"
                                },
                                {
                                    "Name": "user_token",
                                    "Owner": "sys",
                                    "Object_type": "view"
                                },
                                {
                                    "Name": "via_endpoints",
                                    "Owner": "sys",
                                    "Object_type": "view"
                                },
                                {
                                    "Name": "views",
                                    "Owner": "sys",
                                    "Object_type": "view"
                                },
                                {
                                    "Name": "xml_indexes",
                                    "Owner": "sys",
                                    "Object_type": "view"
                                },
                                {
                                    "Name": "xml_schema_attributes",
                                    "Owner": "sys",
                                    "Object_type": "view"
                                },
                                {
                                    "Name": "xml_schema_collections",
                                    "Owner": "sys",
                                    "Object_type": "view"
                                },
                                {
                                    "Name": "xml_schema_component_placements",
                                    "Owner": "sys",
                                    "Object_type": "view"
                                },
                                {
                                    "Name": "xml_schema_components",
                                    "Owner": "sys",
                                    "Object_type": "view"
                                },
                                {
                                    "Name": "xml_schema_elements",
                                    "Owner": "sys",
                                    "Object_type": "view"
                                },
                                {
                                    "Name": "xml_schema_facets",
                                    "Owner": "sys",
                                    "Object_type": "view"
                                },
                                {
                                    "Name": "xml_schema_model_groups",
                                    "Owner": "sys",
                                    "Object_type": "view"
                                },
                                {
                                    "Name": "xml_schema_namespaces",
                                    "Owner": "sys",
                                    "Object_type": "view"
                                },
                                {
                                    "Name": "xml_schema_types",
                                    "Owner": "sys",
                                    "Object_type": "view"
                                },
                                {
                                    "Name": "xml_schema_wildcard_namespaces",
                                    "Owner": "sys",
                                    "Object_type": "view"
                                },
                                {
                                    "Name": "xml_schema_wildcards",
                                    "Owner": "sys",
                                    "Object_type": "view"
                                },
                                {
                                    "Name": "trace_xe_action_map",
                                    "Owner": "sys",
                                    "Object_type": "user table"
                                },
                                {
                                    "Name": "trace_xe_event_map",
                                    "Owner": "sys",
                                    "Object_type": "user table"
                                },
                                {
                                    "Name": "fn_EnumCurrentPrincipals",
                                    "Owner": "sys",
                                    "Object_type": "table function"
                                },
                                {
                                    "Name": "fn_helpdatatypemap",
                                    "Owner": "sys",
                                    "Object_type": "table function"
                                },
                                {
                                    "Name": "fn_listextendedproperty",
                                    "Owner": "sys",
                                    "Object_type": "table function"
                                },
                                {
                                    "Name": "fn_my_permissions",
                                    "Owner": "sys",
                                    "Object_type": "table function"
                                },
                                {
                                    "Name": "fn_PageResCracker",
                                    "Owner": "sys",
                                    "Object_type": "table function"
                                },
                                {
                                    "Name": "fn_PhysLocCracker",
                                    "Owner": "sys",
                                    "Object_type": "table function"
                                },
                                {
                                    "Name": "fn_replgetcolidfrombitmap",
                                    "Owner": "sys",
                                    "Object_type": "table function"
                                },
                                {
                                    "Name": "fn_RowDumpCracker",
                                    "Owner": "sys",
                                    "Object_type": "table function"
                                },
                                {
                                    "Name": "fn_servershareddrives",
                                    "Owner": "sys",
                                    "Object_type": "table function"
                                },
                                {
                                    "Name": "fn_sqlagent_job_history",
                                    "Owner": "sys",
                                    "Object_type": "table function"
                                },
                                {
                                    "Name": "fn_sqlagent_jobs",
                                    "Owner": "sys",
                                    "Object_type": "table function"
                                },
                                {
                                    "Name": "fn_sqlagent_jobsteps",
                                    "Owner": "sys",
                                    "Object_type": "table function"
                                },
                                {
                                    "Name": "fn_sqlagent_jobsteps_logs",
                                    "Owner": "sys",
                                    "Object_type": "table function"
                                },
                                {
                                    "Name": "fn_sqlagent_subsystems",
                                    "Owner": "sys",
                                    "Object_type": "table function"
                                },
                                {
                                    "Name": "fn_trace_geteventinfo",
                                    "Owner": "sys",
                                    "Object_type": "table function"
                                },
                                {
                                    "Name": "fn_trace_getfilterinfo",
                                    "Owner": "sys",
                                    "Object_type": "table function"
                                },
                                {
                                    "Name": "fn_trace_getinfo",
                                    "Owner": "sys",
                                    "Object_type": "table function"
                                },
                                {
                                    "Name": "fn_virtualfilestats",
                                    "Owner": "sys",
                                    "Object_type": "table function"
                                },
                                {
                                    "Name": "fn_virtualservernodes",
                                    "Owner": "sys",
                                    "Object_type": "table function"
                                },
                                {
                                    "Name": "sysallocunits",
                                    "Owner": "sys",
                                    "Object_type": "system table"
                                },
                                {
                                    "Name": "sysasymkeys",
                                    "Owner": "sys",
                                    "Object_type": "system table"
                                },
                                {
                                    "Name": "sysaudacts",
                                    "Owner": "sys",
                                    "Object_type": "system table"
                                },
                                {
                                    "Name": "sysbinobjs",
                                    "Owner": "sys",
                                    "Object_type": "system table"
                                },
                                {
                                    "Name": "sysbinsubobjs",
                                    "Owner": "sys",
                                    "Object_type": "system table"
                                },
                                {
                                    "Name": "sysbrickfiles",
                                    "Owner": "sys",
                                    "Object_type": "system table"
                                },
                                {
                                    "Name": "syscerts",
                                    "Owner": "sys",
                                    "Object_type": "system table"
                                },
                                {
                                    "Name": "syschildinsts",
                                    "Owner": "sys",
                                    "Object_type": "system table"
                                },
                                {
                                    "Name": "sysclones",
                                    "Owner": "sys",
                                    "Object_type": "system table"
                                },
                                {
                                    "Name": "sysclsobjs",
                                    "Owner": "sys",
                                    "Object_type": "system table"
                                },
                                {
                                    "Name": "syscolpars",
                                    "Owner": "sys",
                                    "Object_type": "system table"
                                },
                                {
                                    "Name": "syscompfragments",
                                    "Owner": "sys",
                                    "Object_type": "system table"
                                },
                                {
                                    "Name": "sysconvgroup",
                                    "Owner": "sys",
                                    "Object_type": "system table"
                                },
                                {
                                    "Name": "syscscolsegments",
                                    "Owner": "sys",
                                    "Object_type": "system table"
                                },
                                {
                                    "Name": "syscsdictionaries",
                                    "Owner": "sys",
                                    "Object_type": "system table"
                                },
                                {
                                    "Name": "syscsrowgroups",
                                    "Owner": "sys",
                                    "Object_type": "system table"
                                },
                                {
                                    "Name": "sysdbfiles",
                                    "Owner": "sys",
                                    "Object_type": "system table"
                                },
                                {
                                    "Name": "sysdbfrag",
                                    "Owner": "sys",
                                    "Object_type": "system table"
                                },
                                {
                                    "Name": "sysdbreg",
                                    "Owner": "sys",
                                    "Object_type": "system table"
                                },
                                {
                                    "Name": "sysdercv",
                                    "Owner": "sys",
                                    "Object_type": "system table"
                                },
                                {
                                    "Name": "sysdesend",
                                    "Owner": "sys",
                                    "Object_type": "system table"
                                },
                                {
                                    "Name": "sysendpts",
                                    "Owner": "sys",
                                    "Object_type": "system table"
                                },
                                {
                                    "Name": "sysextfileformats",
                                    "Owner": "sys",
                                    "Object_type": "system table"
                                },
                                {
                                    "Name": "sysextsources",
                                    "Owner": "sys",
                                    "Object_type": "system table"
                                },
                                {
                                    "Name": "sysexttables",
                                    "Owner": "sys",
                                    "Object_type": "system table"
                                },
                                {
                                    "Name": "sysfgfrag",
                                    "Owner": "sys",
                                    "Object_type": "system table"
                                },
                                {
                                    "Name": "sysfiles1",
                                    "Owner": "sys",
                                    "Object_type": "system table"
                                },
                                {
                                    "Name": "sysfoqueues",
                                    "Owner": "sys",
                                    "Object_type": "system table"
                                },
                                {
                                    "Name": "sysfos",
                                    "Owner": "sys",
                                    "Object_type": "system table"
                                },
                                {
                                    "Name": "sysftinds",
                                    "Owner": "sys",
                                    "Object_type": "system table"
                                },
                                {
                                    "Name": "sysftproperties",
                                    "Owner": "sys",
                                    "Object_type": "system table"
                                },
                                {
                                    "Name": "sysftsemanticsdb",
                                    "Owner": "sys",
                                    "Object_type": "system table"
                                },
                                {
                                    "Name": "sysftstops",
                                    "Owner": "sys",
                                    "Object_type": "system table"
                                },
                                {
                                    "Name": "sysguidrefs",
                                    "Owner": "sys",
                                    "Object_type": "system table"
                                },
                                {
                                    "Name": "sysidxstats",
                                    "Owner": "sys",
                                    "Object_type": "system table"
                                },
                                {
                                    "Name": "sysiscols",
                                    "Owner": "sys",
                                    "Object_type": "system table"
                                },
                                {
                                    "Name": "syslnklgns",
                                    "Owner": "sys",
                                    "Object_type": "system table"
                                },
                                {
                                    "Name": "sysmultiobjrefs",
                                    "Owner": "sys",
                                    "Object_type": "system table"
                                },
                                {
                                    "Name": "sysmultiobjvalues",
                                    "Owner": "sys",
                                    "Object_type": "system table"
                                },
                                {
                                    "Name": "sysnsobjs",
                                    "Owner": "sys",
                                    "Object_type": "system table"
                                },
                                {
                                    "Name": "sysobjkeycrypts",
                                    "Owner": "sys",
                                    "Object_type": "system table"
                                },
                                {
                                    "Name": "sysobjvalues",
                                    "Owner": "sys",
                                    "Object_type": "system table"
                                },
                                {
                                    "Name": "sysowners",
                                    "Owner": "sys",
                                    "Object_type": "system table"
                                },
                                {
                                    "Name": "sysphfg",
                                    "Owner": "sys",
                                    "Object_type": "system table"
                                },
                                {
                                    "Name": "syspriorities",
                                    "Owner": "sys",
                                    "Object_type": "system table"
                                },
                                {
                                    "Name": "sysprivs",
                                    "Owner": "sys",
                                    "Object_type": "system table"
                                },
                                {
                                    "Name": "syspru",
                                    "Owner": "sys",
                                    "Object_type": "system table"
                                },
                                {
                                    "Name": "sysprufiles",
                                    "Owner": "sys",
                                    "Object_type": "system table"
                                },
                                {
                                    "Name": "sysqnames",
                                    "Owner": "sys",
                                    "Object_type": "system table"
                                },
                                {
                                    "Name": "sysremsvcbinds",
                                    "Owner": "sys",
                                    "Object_type": "system table"
                                },
                                {
                                    "Name": "sysrmtlgns",
                                    "Owner": "sys",
                                    "Object_type": "system table"
                                },
                                {
                                    "Name": "sysrowsetrefs",
                                    "Owner": "sys",
                                    "Object_type": "system table"
                                },
                                {
                                    "Name": "sysrowsets",
                                    "Owner": "sys",
                                    "Object_type": "system table"
                                },
                                {
                                    "Name": "sysrscols",
                                    "Owner": "sys",
                                    "Object_type": "system table"
                                },
                                {
                                    "Name": "sysrts",
                                    "Owner": "sys",
                                    "Object_type": "system table"
                                },
                                {
                                    "Name": "sysscalartypes",
                                    "Owner": "sys",
                                    "Object_type": "system table"
                                },
                                {
                                    "Name": "sysschobjs",
                                    "Owner": "sys",
                                    "Object_type": "system table"
                                },
                                {
                                    "Name": "sysseobjvalues",
                                    "Owner": "sys",
                                    "Object_type": "system table"
                                },
                                {
                                    "Name": "syssingleobjrefs",
                                    "Owner": "sys",
                                    "Object_type": "system table"
                                },
                                {
                                    "Name": "syssoftobjrefs",
                                    "Owner": "sys",
                                    "Object_type": "system table"
                                },
                                {
                                    "Name": "syssqlguides",
                                    "Owner": "sys",
                                    "Object_type": "system table"
                                },
                                {
                                    "Name": "systypedsubobjs",
                                    "Owner": "sys",
                                    "Object_type": "system table"
                                },
                                {
                                    "Name": "sysusermsgs",
                                    "Owner": "sys",
                                    "Object_type": "system table"
                                },
                                {
                                    "Name": "syswebmethods",
                                    "Owner": "sys",
                                    "Object_type": "system table"
                                },
                                {
                                    "Name": "sysxlgns",
                                    "Owner": "sys",
                                    "Object_type": "system table"
                                },
                                {
                                    "Name": "sysxmitbody",
                                    "Owner": "sys",
                                    "Object_type": "system table"
                                },
                                {
                                    "Name": "sysxmitqueue",
                                    "Owner": "sys",
                                    "Object_type": "system table"
                                },
                                {
                                    "Name": "sysxmlcomponent",
                                    "Owner": "sys",
                                    "Object_type": "system table"
                                },
                                {
                                    "Name": "sysxmlfacet",
                                    "Owner": "sys",
                                    "Object_type": "system table"
                                },
                                {
                                    "Name": "sysxmlplacement",
                                    "Owner": "sys",
                                    "Object_type": "system table"
                                },
                                {
                                    "Name": "sysxprops",
                                    "Owner": "sys",
                                    "Object_type": "system table"
                                },
                                {
                                    "Name": "sysxsrvs",
                                    "Owner": "sys",
                                    "Object_type": "system table"
                                },
                                {
                                    "Name": "sp_add_agent_parameter",
                                    "Owner": "sys",
                                    "Object_type": "stored procedure"
                                },
                                {
                                    "Name": "sp_add_agent_profile",
                                    "Owner": "sys",
                                    "Object_type": "stored procedure"
                                },
                                {
                                    "Name": "sp_add_columnstore_column_dictionary",
                                    "Owner": "sys",
                                    "Object_type": "stored procedure"
                                },
                                {
                                    "Name": "sp_add_data_file_recover_suspect_db",
                                    "Owner": "sys",
                                    "Object_type": "stored procedure"
                                },
                                {
                                    "Name": "sp_add_log_file_recover_suspect_db",
                                    "Owner": "sys",
                                    "Object_type": "stored procedure"
                                },
                                {
                                    "Name": "sp_add_log_shipping_alert_job",
                                    "Owner": "sys",
                                    "Object_type": "stored procedure"
                                },
                                {
                                    "Name": "sp_add_log_shipping_primary_database",
                                    "Owner": "sys",
                                    "Object_type": "stored procedure"
                                },
                                {
                                    "Name": "sp_add_log_shipping_primary_secondary",
                                    "Owner": "sys",
                                    "Object_type": "stored procedure"
                                },
                                {
                                    "Name": "sp_add_log_shipping_secondary_database",
                                    "Owner": "sys",
                                    "Object_type": "stored procedure"
                                },
                                {
                                    "Name": "sp_add_log_shipping_secondary_primary",
                                    "Owner": "sys",
                                    "Object_type": "stored procedure"
                                },
                                {
                                    "Name": "sp_addapprole",
                                    "Owner": "sys",
                                    "Object_type": "stored procedure"
                                },
                                {
                                    "Name": "sp_addarticle",
                                    "Owner": "sys",
                                    "Object_type": "stored procedure"
                                },
                                {
                                    "Name": "sp_adddatatype",
                                    "Owner": "sys",
                                    "Object_type": "stored procedure"
                                },
                                {
                                    "Name": "sp_adddatatypemapping",
                                    "Owner": "sys",
                                    "Object_type": "stored procedure"
                                },
                                {
                                    "Name": "sp_adddistpublisher",
                                    "Owner": "sys",
                                    "Object_type": "stored procedure"
                                },
                                {
                                    "Name": "sp_adddistributiondb",
                                    "Owner": "sys",
                                    "Object_type": "stored procedure"
                                },
                                {
                                    "Name": "sp_adddistributor",
                                    "Owner": "sys",
                                    "Object_type": "stored procedure"
                                },
                                {
                                    "Name": "sp_adddynamicsnapshot_job",
                                    "Owner": "sys",
                                    "Object_type": "stored procedure"
                                },
                                {
                                    "Name": "sp_addextendedproc",
                                    "Owner": "sys",
                                    "Object_type": "stored procedure"
                                },
                                {
                                    "Name": "sp_addextendedproperty",
                                    "Owner": "sys",
                                    "Object_type": "stored procedure"
                                },
                                {
                                    "Name": "sp_addlinkedserver",
                                    "Owner": "sys",
                                    "Object_type": "stored procedure"
                                },
                                {
                                    "Name": "sp_addlinkedsrvlogin",
                                    "Owner": "sys",
                                    "Object_type": "stored procedure"
                                },
                                {
                                    "Name": "sp_addlogin",
                                    "Owner": "sys",
                                    "Object_type": "stored procedure"
                                },
                                {
                                    "Name": "sp_addlogreader_agent",
                                    "Owner": "sys",
                                    "Object_type": "stored procedure"
                                },
                                {
                                    "Name": "sp_addmergealternatepublisher",
                                    "Owner": "sys",
                                    "Object_type": "stored procedure"
                                },
                                {
                                    "Name": "sp_addmergearticle",
                                    "Owner": "sys",
                                    "Object_type": "stored procedure"
                                },
                                {
                                    "Name": "sp_addmergefilter",
                                    "Owner": "sys",
                                    "Object_type": "stored procedure"
                                },
                                {
                                    "Name": "sp_addmergelogsettings",
                                    "Owner": "sys",
                                    "Object_type": "stored procedure"
                                },
                                {
                                    "Name": "sp_addmergepartition",
                                    "Owner": "sys",
                                    "Object_type": "stored procedure"
                                },
                                {
                                    "Name": "sp_addmergepublication",
                                    "Owner": "sys",
                                    "Object_type": "stored procedure"
                                },
                                {
                                    "Name": "sp_addmergepullsubscription",
                                    "Owner": "sys",
                                    "Object_type": "stored procedure"
                                },
                                {
                                    "Name": "sp_addmergepullsubscription_agent",
                                    "Owner": "sys",
                                    "Object_type": "stored procedure"
                                },
                                {
                                    "Name": "sp_addmergepushsubscription_agent",
                                    "Owner": "sys",
                                    "Object_type": "stored procedure"
                                },
                                {
                                    "Name": "sp_addmergesubscription",
                                    "Owner": "sys",
                                    "Object_type": "stored procedure"
                                },
                                {
                                    "Name": "sp_addmessage",
                                    "Owner": "sys",
                                    "Object_type": "stored procedure"
                                },
                                {
                                    "Name": "sp_addpublication",
                                    "Owner": "sys",
                                    "Object_type": "stored procedure"
                                },
                                {
                                    "Name": "sp_addpublication_snapshot",
                                    "Owner": "sys",
                                    "Object_type": "stored procedure"
                                },
                                {
                                    "Name": "sp_addpullsubscription",
                                    "Owner": "sys",
                                    "Object_type": "stored procedure"
                                },
                                {
                                    "Name": "sp_addpullsubscription_agent",
                                    "Owner": "sys",
                                    "Object_type": "stored procedure"
                                },
                                {
                                    "Name": "sp_addpushsubscription_agent",
                                    "Owner": "sys",
                                    "Object_type": "stored procedure"
                                },
                                {
                                    "Name": "sp_addqreader_agent",
                                    "Owner": "sys",
                                    "Object_type": "stored procedure"
                                },
                                {
                                    "Name": "sp_addqueued_artinfo",
                                    "Owner": "sys",
                                    "Object_type": "stored procedure"
                                },
                                {
                                    "Name": "sp_addremotelogin",
                                    "Owner": "sys",
                                    "Object_type": "stored procedure"
                                },
                                {
                                    "Name": "sp_addrole",
                                    "Owner": "sys",
                                    "Object_type": "stored procedure"
                                },
                                {
                                    "Name": "sp_addrolemember",
                                    "Owner": "sys",
                                    "Object_type": "stored procedure"
                                },
                                {
                                    "Name": "sp_addscriptexec",
                                    "Owner": "sys",
                                    "Object_type": "stored procedure"
                                },
                                {
                                    "Name": "sp_addserver",
                                    "Owner": "sys",
                                    "Object_type": "stored procedure"
                                },
                                {
                                    "Name": "sp_addsrvrolemember",
                                    "Owner": "sys",
                                    "Object_type": "stored procedure"
                                },
                                {
                                    "Name": "sp_addsubscriber",
                                    "Owner": "sys",
                                    "Object_type": "stored procedure"
                                },
                                {
                                    "Name": "sp_addsubscriber_schedule",
                                    "Owner": "sys",
                                    "Object_type": "stored procedure"
                                },
                                {
                                    "Name": "sp_addsubscription",
                                    "Owner": "sys",
                                    "Object_type": "stored procedure"
                                },
                                {
                                    "Name": "sp_addsynctriggers",
                                    "Owner": "sys",
                                    "Object_type": "stored procedure"
                                },
                                {
                                    "Name": "sp_addsynctriggerscore",
                                    "Owner": "sys",
                                    "Object_type": "stored procedure"
                                },
                                {
                                    "Name": "sp_addtabletocontents",
                                    "Owner": "sys",
                                    "Object_type": "stored procedure"
                                },
                                {
                                    "Name": "sp_addtype",
                                    "Owner": "sys",
                                    "Object_type": "stored procedure"
                                },
                                {
                                    "Name": "sp_addumpdevice",
                                    "Owner": "sys",
                                    "Object_type": "stored procedure"
                                },
                                {
                                    "Name": "sp_adduser",
                                    "Owner": "sys",
                                    "Object_type": "stored procedure"
                                },
                                {
                                    "Name": "sp_adjustpublisheridentityrange",
                                    "Owner": "sys",
                                    "Object_type": "stored procedure"
                                },
                                {
                                    "Name": "sp_altermessage",
                                    "Owner": "sys",
                                    "Object_type": "stored procedure"
                                },
                                {
                                    "Name": "sp_approlepassword",
                                    "Owner": "sys",
                                    "Object_type": "stored procedure"
                                },
                                {
                                    "Name": "sp_article_validation",
                                    "Owner": "sys",
                                    "Object_type": "stored procedure"
                                },
                                {
                                    "Name": "sp_articlecolumn",
                                    "Owner": "sys",
                                    "Object_type": "stored procedure"
                                },
                                {
                                    "Name": "sp_articlefilter",
                                    "Owner": "sys",
                                    "Object_type": "stored procedure"
                                },
                                {
                                    "Name": "sp_articleview",
                                    "Owner": "sys",
                                    "Object_type": "stored procedure"
                                },
                                {
                                    "Name": "sp_assemblies_rowset",
                                    "Owner": "sys",
                                    "Object_type": "stored procedure"
                                },
                                {
                                    "Name": "sp_assemblies_rowset_rmt",
                                    "Owner": "sys",
                                    "Object_type": "stored procedure"
                                },
                                {
                                    "Name": "sp_assemblies_rowset2",
                                    "Owner": "sys",
                                    "Object_type": "stored procedure"
                                },
                                {
                                    "Name": "sp_assembly_dependencies_rowset",
                                    "Owner": "sys",
                                    "Object_type": "stored procedure"
                                },
                                {
                                    "Name": "sp_assembly_dependencies_rowset_rmt",
                                    "Owner": "sys",
                                    "Object_type": "stored procedure"
                                },
                                {
                                    "Name": "sp_assembly_dependencies_rowset2",
                                    "Owner": "sys",
                                    "Object_type": "stored procedure"
                                },
                                {
                                    "Name": "sp_attach_db",
                                    "Owner": "sys",
                                    "Object_type": "stored procedure"
                                },
                                {
                                    "Name": "sp_attach_single_file_db",
                                    "Owner": "sys",
                                    "Object_type": "stored procedure"
                                },
                                {
                                    "Name": "sp_attachsubscription",
                                    "Owner": "sys",
                                    "Object_type": "stored procedure"
                                },
                                {
                                    "Name": "sp_autostats",
                                    "Owner": "sys",
                                    "Object_type": "stored procedure"
                                },
                                {
                                    "Name": "sp_bcp_dbcmptlevel",
                                    "Owner": "sys",
                                    "Object_type": "stored procedure"
                                },
                                {
                                    "Name": "sp_bindefault",
                                    "Owner": "sys",
                                    "Object_type": "stored procedure"
                                },
                                {
                                    "Name": "sp_bindrule",
                                    "Owner": "sys",
                                    "Object_type": "stored procedure"
                                },
                                {
                                    "Name": "sp_browsemergesnapshotfolder",
                                    "Owner": "sys",
                                    "Object_type": "stored procedure"
                                },
                                {
                                    "Name": "sp_browsereplcmds",
                                    "Owner": "sys",
                                    "Object_type": "stored procedure"
                                },
                                {
                                    "Name": "sp_browsesnapshotfolder",
                                    "Owner": "sys",
                                    "Object_type": "stored procedure"
                                },
                                {
                                    "Name": "sp_can_tlog_be_applied",
                                    "Owner": "sys",
                                    "Object_type": "stored procedure"
                                },
                                {
                                    "Name": "sp_catalogs",
                                    "Owner": "sys",
                                    "Object_type": "stored procedure"
                                },
                                {
                                    "Name": "sp_catalogs_rowset",
                                    "Owner": "sys",
                                    "Object_type": "stored procedure"
                                },
                                {
                                    "Name": "sp_catalogs_rowset_rmt",
                                    "Owner": "sys",
                                    "Object_type": "stored procedure"
                                },
                                {
                                    "Name": "sp_catalogs_rowset2",
                                    "Owner": "sys",
                                    "Object_type": "stored procedure"
                                },
                                {
                                    "Name": "sp_cdc_add_job",
                                    "Owner": "sys",
                                    "Object_type": "stored procedure"
                                },
                                {
                                    "Name": "sp_cdc_change_job",
                                    "Owner": "sys",
                                    "Object_type": "stored procedure"
                                },
                                {
                                    "Name": "sp_cdc_cleanup_change_table",
                                    "Owner": "sys",
                                    "Object_type": "stored procedure"
                                },
                                {
                                    "Name": "sp_cdc_dbsnapshotLSN",
                                    "Owner": "sys",
                                    "Object_type": "stored procedure"
                                },
                                {
                                    "Name": "sp_cdc_disable_db",
                                    "Owner": "sys",
                                    "Object_type": "stored procedure"
                                },
                                {
                                    "Name": "sp_cdc_disable_table",
                                    "Owner": "sys",
                                    "Object_type": "stored procedure"
                                },
                                {
                                    "Name": "sp_cdc_drop_job",
                                    "Owner": "sys",
                                    "Object_type": "stored procedure"
                                },
                                {
                                    "Name": "sp_cdc_enable_db",
                                    "Owner": "sys",
                                    "Object_type": "stored procedure"
                                },
                                {
                                    "Name": "sp_cdc_enable_table",
                                    "Owner": "sys",
                                    "Object_type": "stored procedure"
                                },
                                {
                                    "Name": "sp_cdc_generate_wrapper_function",
                                    "Owner": "sys",
                                    "Object_type": "stored procedure"
                                },
                                {
                                    "Name": "sp_cdc_get_captured_columns",
                                    "Owner": "sys",
                                    "Object_type": "stored procedure"
                                },
                                {
                                    "Name": "sp_cdc_get_ddl_history",
                                    "Owner": "sys",
                                    "Object_type": "stored procedure"
                                },
                                {
                                    "Name": "sp_cdc_help_change_data_capture",
                                    "Owner": "sys",
                                    "Object_type": "stored procedure"
                                },
                                {
                                    "Name": "sp_cdc_help_jobs",
                                    "Owner": "sys",
                                    "Object_type": "stored procedure"
                                },
                                {
                                    "Name": "sp_cdc_restoredb",
                                    "Owner": "sys",
                                    "Object_type": "stored procedure"
                                },
                                {
                                    "Name": "sp_cdc_scan",
                                    "Owner": "sys",
                                    "Object_type": "stored procedure"
                                },
                                {
                                    "Name": "sp_cdc_start_job",
                                    "Owner": "sys",
                                    "Object_type": "stored procedure"
                                },
                                {
                                    "Name": "sp_cdc_stop_job",
                                    "Owner": "sys",
                                    "Object_type": "stored procedure"
                                },
                                {
                                    "Name": "sp_cdc_vupgrade",
                                    "Owner": "sys",
                                    "Object_type": "stored procedure"
                                },
                                {
                                    "Name": "sp_cdc_vupgrade_databases",
                                    "Owner": "sys",
                                    "Object_type": "stored procedure"
                                },
                                {
                                    "Name": "sp_certify_removable",
                                    "Owner": "sys",
                                    "Object_type": "stored procedure"
                                },
                                {
                                    "Name": "sp_change_agent_parameter",
                                    "Owner": "sys",
                                    "Object_type": "stored procedure"
                                },
                                {
                                    "Name": "sp_change_agent_profile",
                                    "Owner": "sys",
                                    "Object_type": "stored procedure"
                                },
                                {
                                    "Name": "sp_change_log_shipping_primary_database",
                                    "Owner": "sys",
                                    "Object_type": "stored procedure"
                                },
                                {
                                    "Name": "sp_change_log_shipping_secondary_database",
                                    "Owner": "sys",
                                    "Object_type": "stored procedure"
                                },
                                {
                                    "Name": "sp_change_log_shipping_secondary_primary",
                                    "Owner": "sys",
                                    "Object_type": "stored procedure"
                                },
                                {
                                    "Name": "sp_change_repl_serverport",
                                    "Owner": "sys",
                                    "Object_type": "stored procedure"
                                },
                                {
                                    "Name": "sp_change_subscription_properties",
                                    "Owner": "sys",
                                    "Object_type": "stored procedure"
                                },
                                {
                                    "Name": "sp_change_users_login",
                                    "Owner": "sys",
                                    "Object_type": "stored procedure"
                                },
                                {
                                    "Name": "sp_changearticle",
                                    "Owner": "sys",
                                    "Object_type": "stored procedure"
                                },
                                {
                                    "Name": "sp_changearticlecolumndatatype",
                                    "Owner": "sys",
                                    "Object_type": "stored procedure"
                                },
                                {
                                    "Name": "sp_changedbowner",
                                    "Owner": "sys",
                                    "Object_type": "stored procedure"
                                },
                                {
                                    "Name": "sp_changedistpublisher",
                                    "Owner": "sys",
                                    "Object_type": "stored procedure"
                                },
                                {
                                    "Name": "sp_changedistributiondb",
                                    "Owner": "sys",
                                    "Object_type": "stored procedure"
                                },
                                {
                                    "Name": "sp_changedistributor_password",
                                    "Owner": "sys",
                                    "Object_type": "stored procedure"
                                },
                                {
                                    "Name": "sp_changedistributor_property",
                                    "Owner": "sys",
                                    "Object_type": "stored procedure"
                                },
                                {
                                    "Name": "sp_changedynamicsnapshot_job",
                                    "Owner": "sys",
                                    "Object_type": "stored procedure"
                                },
                                {
                                    "Name": "sp_changelogreader_agent",
                                    "Owner": "sys",
                                    "Object_type": "stored procedure"
                                },
                                {
                                    "Name": "sp_changemergearticle",
                                    "Owner": "sys",
                                    "Object_type": "stored procedure"
                                },
                                {
                                    "Name": "sp_changemergefilter",
                                    "Owner": "sys",
                                    "Object_type": "stored procedure"
                                },
                                {
                                    "Name": "sp_changemergelogsettings",
                                    "Owner": "sys",
                                    "Object_type": "stored procedure"
                                },
                                {
                                    "Name": "sp_changemergepublication",
                                    "Owner": "sys",
                                    "Object_type": "stored procedure"
                                },
                                {
                                    "Name": "sp_changemergepullsubscription",
                                    "Owner": "sys",
                                    "Object_type": "stored procedure"
                                },
                                {
                                    "Name": "sp_changemergesubscription",
                                    "Owner": "sys",
                                    "Object_type": "stored procedure"
                                },
                                {
                                    "Name": "sp_changeobjectowner",
                                    "Owner": "sys",
                                    "Object_type": "stored procedure"
                                },
                                {
                                    "Name": "sp_changepublication",
                                    "Owner": "sys",
                                    "Object_type": "stored procedure"
                                },
                                {
                                    "Name": "sp_changepublication_snapshot",
                                    "Owner": "sys",
                                    "Object_type": "stored procedure"
                                },
                                {
                                    "Name": "sp_changeqreader_agent",
                                    "Owner": "sys",
                                    "Object_type": "stored procedure"
                                },
                                {
                                    "Name": "sp_changereplicationserverpasswords",
                                    "Owner": "sys",
                                    "Object_type": "stored procedure"
                                },
                                {
                                    "Name": "sp_changesubscriber",
                                    "Owner": "sys",
                                    "Object_type": "stored procedure"
                                },
                                {
                                    "Name": "sp_changesubscriber_schedule",
                                    "Owner": "sys",
                                    "Object_type": "stored procedure"
                                },
                                {
                                    "Name": "sp_changesubscription",
                                    "Owner": "sys",
                                    "Object_type": "stored procedure"
                                },
                                {
                                    "Name": "sp_changesubscriptiondtsinfo",
                                    "Owner": "sys",
                                    "Object_type": "stored procedure"
                                },
                                {
                                    "Name": "sp_changesubstatus",
                                    "Owner": "sys",
                                    "Object_type": "stored procedure"
                                },
                                {
                                    "Name": "sp_check_constbytable_rowset",
                                    "Owner": "sys",
                                    "Object_type": "stored procedure"
                                },
                                {
                                    "Name": "sp_check_constbytable_rowset2",
                                    "Owner": "sys",
                                    "Object_type": "stored procedure"
                                },
                                {
                                    "Name": "sp_check_constraints_rowset",
                                    "Owner": "sys",
                                    "Object_type": "stored procedure"
                                },
                                {
                                    "Name": "sp_check_constraints_rowset2",
                                    "Owner": "sys",
                                    "Object_type": "stored procedure"
                                },
                                {
                                    "Name": "sp_check_dynamic_filters",
                                    "Owner": "sys",
                                    "Object_type": "stored procedure"
                                },
                                {
                                    "Name": "sp_check_for_sync_trigger",
                                    "Owner": "sys",
                                    "Object_type": "stored procedure"
                                },
                                {
                                    "Name": "sp_check_join_filter",
                                    "Owner": "sys",
                                    "Object_type": "stored procedure"
                                },
                                {
                                    "Name": "sp_check_log_shipping_monitor_alert",
                                    "Owner": "sys",
                                    "Object_type": "stored procedure"
                                },
                                {
                                    "Name": "sp_check_publication_access",
                                    "Owner": "sys",
                                    "Object_type": "stored procedure"
                                },
                                {
                                    "Name": "sp_check_removable",
                                    "Owner": "sys",
                                    "Object_type": "stored procedure"
                                },
                                {
                                    "Name": "sp_check_subset_filter",
                                    "Owner": "sys",
                                    "Object_type": "stored procedure"
                                },
                                {
                                    "Name": "sp_check_sync_trigger",
                                    "Owner": "sys",
                                    "Object_type": "stored procedure"
                                },
                                {
                                    "Name": "sp_checkinvalidivarticle",
                                    "Owner": "sys",
                                    "Object_type": "stored procedure"
                                },
                                {
                                    "Name": "sp_checkOraclepackageversion",
                                    "Owner": "sys",
                                    "Object_type": "stored procedure"
                                },
                                {
                                    "Name": "sp_clean_db_file_free_space",
                                    "Owner": "sys",
                                    "Object_type": "stored procedure"
                                },
                                {
                                    "Name": "sp_clean_db_free_space",
                                    "Owner": "sys",
                                    "Object_type": "stored procedure"
                                },
                                {
                                    "Name": "sp_cleanmergelogfiles",
                                    "Owner": "sys",
                                    "Object_type": "stored procedure"
                                },
                                {
                                    "Name": "sp_cleanup_data_retention",
                                    "Owner": "sys",
                                    "Object_type": "stored procedure"
                                },
                                {
                                    "Name": "sp_cleanup_log_shipping_history",
                                    "Owner": "sys",
                                    "Object_type": "stored procedure"
                                },
                                {
                                    "Name": "sp_cleanup_temporal_history",
                                    "Owner": "sys",
                                    "Object_type": "stored procedure"
                                },
                                {
                                    "Name": "sp_cleanupdbreplication",
                                    "Owner": "sys",
                                    "Object_type": "stored procedure"
                                },
                                {
                                    "Name": "sp_column_privileges",
                                    "Owner": "sys",
                                    "Object_type": "stored procedure"
                                },
                                {
                                    "Name": "sp_column_privileges_ex",
                                    "Owner": "sys",
                                    "Object_type": "stored procedure"
                                },
                                {
                                    "Name": "sp_column_privileges_rowset",
                                    "Owner": "sys",
                                    "Object_type": "stored procedure"
                                },
                                {
                                    "Name": "sp_column_privileges_rowset_rmt",
                                    "Owner": "sys",
                                    "Object_type": "stored procedure"
                                },
                                {
                                    "Name": "sp_column_privileges_rowset2",
                                    "Owner": "sys",
                                    "Object_type": "stored procedure"
                                },
                                {
                                    "Name": "sp_columns",
                                    "Owner": "sys",
                                    "Object_type": "stored procedure"
                                },
                                {
                                    "Name": "sp_columns_100",
                                    "Owner": "sys",
                                    "Object_type": "stored procedure"
                                },
                                {
                                    "Name": "sp_columns_100_rowset",
                                    "Owner": "sys",
                                    "Object_type": "stored procedure"
                                },
                                {
                                    "Name": "sp_columns_100_rowset2",
                                    "Owner": "sys",
                                    "Object_type": "stored procedure"
                                },
                                {
                                    "Name": "sp_columns_90",
                                    "Owner": "sys",
                                    "Object_type": "stored procedure"
                                },
                                {
                                    "Name": "sp_columns_90_rowset",
                                    "Owner": "sys",
                                    "Object_type": "stored procedure"
                                },
                                {
                                    "Name": "sp_columns_90_rowset_rmt",
                                    "Owner": "sys",
                                    "Object_type": "stored procedure"
                                },
                                {
                                    "Name": "sp_columns_90_rowset2",
                                    "Owner": "sys",
                                    "Object_type": "stored procedure"
                                },
                                {
                                    "Name": "sp_columns_ex",
                                    "Owner": "sys",
                                    "Object_type": "stored procedure"
                                },
                                {
                                    "Name": "sp_columns_ex_100",
                                    "Owner": "sys",
                                    "Object_type": "stored procedure"
                                },
                                {
                                    "Name": "sp_columns_ex_90",
                                    "Owner": "sys",
                                    "Object_type": "stored procedure"
                                },
                                {
                                    "Name": "sp_columns_managed",
                                    "Owner": "sys",
                                    "Object_type": "stored procedure"
                                },
                                {
                                    "Name": "sp_columns_rowset",
                                    "Owner": "sys",
                                    "Object_type": "stored procedure"
                                },
                                {
                                    "Name": "sp_columns_rowset_rmt",
                                    "Owner": "sys",
                                    "Object_type": "stored procedure"
                                },
                                {
                                    "Name": "sp_columns_rowset2",
                                    "Owner": "sys",
                                    "Object_type": "stored procedure"
                                },
                                {
                                    "Name": "sp_configure",
                                    "Owner": "sys",
                                    "Object_type": "stored procedure"
                                },
                                {
                                    "Name": "sp_configure_peerconflictdetection",
                                    "Owner": "sys",
                                    "Object_type": "stored procedure"
                                },
                                {
                                    "Name": "sp_constr_col_usage_rowset",
                                    "Owner": "sys",
                                    "Object_type": "stored procedure"
                                },
                                {
                                    "Name": "sp_constr_col_usage_rowset2",
                                    "Owner": "sys",
                                    "Object_type": "stored procedure"
                                },
                                {
                                    "Name": "sp_control_plan_guide",
                                    "Owner": "sys",
                                    "Object_type": "stored procedure"
                                },
                                {
                                    "Name": "sp_copymergesnapshot",
                                    "Owner": "sys",
                                    "Object_type": "stored procedure"
                                },
                                {
                                    "Name": "sp_copysnapshot",
                                    "Owner": "sys",
                                    "Object_type": "stored procedure"
                                },
                                {
                                    "Name": "sp_copysubscription",
                                    "Owner": "sys",
                                    "Object_type": "stored procedure"
                                },
                                {
                                    "Name": "sp_create_plan_guide",
                                    "Owner": "sys",
                                    "Object_type": "stored procedure"
                                },
                                {
                                    "Name": "sp_create_plan_guide_from_handle",
                                    "Owner": "sys",
                                    "Object_type": "stored procedure"
                                },
                                {
                                    "Name": "sp_create_removable",
                                    "Owner": "sys",
                                    "Object_type": "stored procedure"
                                },
                                {
                                    "Name": "sp_create_streaming_job",
                                    "Owner": "sys",
                                    "Object_type": "stored procedure"
                                },
                                {
                                    "Name": "sp_createmergepalrole",
                                    "Owner": "sys",
                                    "Object_type": "stored procedure"
                                },
                                {
                                    "Name": "sp_createstats",
                                    "Owner": "sys",
                                    "Object_type": "stored procedure"
                                },
                                {
                                    "Name": "sp_createtranpalrole",
                                    "Owner": "sys",
                                    "Object_type": "stored procedure"
                                },
                                {
                                    "Name": "sp_cursor_list",
                                    "Owner": "sys",
                                    "Object_type": "stored procedure"
                                },
                                {
                                    "Name": "sp_cycle_errorlog",
                                    "Owner": "sys",
                                    "Object_type": "stored procedure"
                                },
                                {
                                    "Name": "sp_data_pool_database_query_state",
                                    "Owner": "sys",
                                    "Object_type": "stored procedure"
                                },
                                {
                                    "Name": "sp_data_pool_table_query_state",
                                    "Owner": "sys",
                                    "Object_type": "stored procedure"
                                },
                                {
                                    "Name": "sp_data_source_objects",
                                    "Owner": "sys",
                                    "Object_type": "stored procedure"
                                },
                                {
                                    "Name": "sp_data_source_table_columns",
                                    "Owner": "sys",
                                    "Object_type": "stored procedure"
                                },
                                {
                                    "Name": "sp_databases",
                                    "Owner": "sys",
                                    "Object_type": "stored procedure"
                                },
                                {
                                    "Name": "sp_datatype_info",
                                    "Owner": "sys",
                                    "Object_type": "stored procedure"
                                },
                                {
                                    "Name": "sp_datatype_info_100",
                                    "Owner": "sys",
                                    "Object_type": "stored procedure"
                                },
                                {
                                    "Name": "sp_datatype_info_90",
                                    "Owner": "sys",
                                    "Object_type": "stored procedure"
                                },
                                {
                                    "Name": "sp_db_ebcdic277_2",
                                    "Owner": "sys",
                                    "Object_type": "stored procedure"
                                },
                                {
                                    "Name": "sp_db_increased_partitions",
                                    "Owner": "sys",
                                    "Object_type": "stored procedure"
                                },
                                {
                                    "Name": "sp_db_selective_xml_index",
                                    "Owner": "sys",
                                    "Object_type": "stored procedure"
                                },
                                {
                                    "Name": "sp_db_vardecimal_storage_format",
                                    "Owner": "sys",
                                    "Object_type": "stored procedure"
                                },
                                {
                                    "Name": "sp_dbcmptlevel",
                                    "Owner": "sys",
                                    "Object_type": "stored procedure"
                                },
                                {
                                    "Name": "sp_dbfixedrolepermission",
                                    "Owner": "sys",
                                    "Object_type": "stored procedure"
                                },
                                {
                                    "Name": "sp_dbmmonitoraddmonitoring",
                                    "Owner": "sys",
                                    "Object_type": "stored procedure"
                                },
                                {
                                    "Name": "sp_dbmmonitorchangealert",
                                    "Owner": "sys",
                                    "Object_type": "stored procedure"
                                },
                                {
                                    "Name": "sp_dbmmonitorchangemonitoring",
                                    "Owner": "sys",
                                    "Object_type": "stored procedure"
                                },
                                {
                                    "Name": "sp_dbmmonitordropalert",
                                    "Owner": "sys",
                                    "Object_type": "stored procedure"
                                },
                                {
                                    "Name": "sp_dbmmonitordropmonitoring",
                                    "Owner": "sys",
                                    "Object_type": "stored procedure"
                                },
                                {
                                    "Name": "sp_dbmmonitorhelpalert",
                                    "Owner": "sys",
                                    "Object_type": "stored procedure"
                                },
                                {
                                    "Name": "sp_dbmmonitorhelpmonitoring",
                                    "Owner": "sys",
                                    "Object_type": "stored procedure"
                                },
                                {
                                    "Name": "sp_dbmmonitorresults",
                                    "Owner": "sys",
                                    "Object_type": "stored procedure"
                                },
                                {
                                    "Name": "sp_dbmmonitorupdate",
                                    "Owner": "sys",
                                    "Object_type": "stored procedure"
                                },
                                {
                                    "Name": "sp_dbremove",
                                    "Owner": "sys",
                                    "Object_type": "stored procedure"
                                },
                                {
                                    "Name": "sp_ddopen",
                                    "Owner": "sys",
                                    "Object_type": "stored procedure"
                                },
                                {
                                    "Name": "sp_defaultdb",
                                    "Owner": "sys",
                                    "Object_type": "stored procedure"
                                },
                                {
                                    "Name": "sp_defaultlanguage",
                                    "Owner": "sys",
                                    "Object_type": "stored procedure"
                                },
                                {
                                    "Name": "sp_delete_backup",
                                    "Owner": "sys",
                                    "Object_type": "stored procedure"
                                },
                                {
                                    "Name": "sp_delete_log_shipping_alert_job",
                                    "Owner": "sys",
                                    "Object_type": "stored procedure"
                                },
                                {
                                    "Name": "sp_delete_log_shipping_primary_database",
                                    "Owner": "sys",
                                    "Object_type": "stored procedure"
                                },
                                {
                                    "Name": "sp_delete_log_shipping_primary_secondary",
                                    "Owner": "sys",
                                    "Object_type": "stored procedure"
                                },
                                {
                                    "Name": "sp_delete_log_shipping_secondary_database",
                                    "Owner": "sys",
                                    "Object_type": "stored procedure"
                                },
                                {
                                    "Name": "sp_delete_log_shipping_secondary_primary",
                                    "Owner": "sys",
                                    "Object_type": "stored procedure"
                                },
                                {
                                    "Name": "sp_deletemergeconflictrow",
                                    "Owner": "sys",
                                    "Object_type": "stored procedure"
                                },
                                {
                                    "Name": "sp_deletepeerrequesthistory",
                                    "Owner": "sys",
                                    "Object_type": "stored procedure"
                                },
                                {
                                    "Name": "sp_deletetracertokenhistory",
                                    "Owner": "sys",
                                    "Object_type": "stored procedure"
                                },
                                {
                                    "Name": "sp_denylogin",
                                    "Owner": "sys",
                                    "Object_type": "stored procedure"
                                },
                                {
                                    "Name": "sp_depends",
                                    "Owner": "sys",
                                    "Object_type": "stored procedure"
                                },
                                {
                                    "Name": "sp_describe_cursor",
                                    "Owner": "sys",
                                    "Object_type": "stored procedure"
                                },
                                {
                                    "Name": "sp_describe_cursor_columns",
                                    "Owner": "sys",
                                    "Object_type": "stored procedure"
                                },
                                {
                                    "Name": "sp_describe_cursor_tables",
                                    "Owner": "sys",
                                    "Object_type": "stored procedure"
                                },
                                {
                                    "Name": "sp_detach_db",
                                    "Owner": "sys",
                                    "Object_type": "stored procedure"
                                },
                                {
                                    "Name": "sp_disableagentoffload",
                                    "Owner": "sys",
                                    "Object_type": "stored procedure"
                                },
                                {
                                    "Name": "sp_distcounters",
                                    "Owner": "sys",
                                    "Object_type": "stored procedure"
                                },
                                {
                                    "Name": "sp_drop_agent_parameter",
                                    "Owner": "sys",
                                    "Object_type": "stored procedure"
                                },
                                {
                                    "Name": "sp_drop_agent_profile",
                                    "Owner": "sys",
                                    "Object_type": "stored procedure"
                                },
                                {
                                    "Name": "sp_drop_streaming_job",
                                    "Owner": "sys",
                                    "Object_type": "stored procedure"
                                },
                                {
                                    "Name": "sp_dropanonymousagent",
                                    "Owner": "sys",
                                    "Object_type": "stored procedure"
                                },
                                {
                                    "Name": "sp_dropanonymoussubscription",
                                    "Owner": "sys",
                                    "Object_type": "stored procedure"
                                },
                                {
                                    "Name": "sp_dropapprole",
                                    "Owner": "sys",
                                    "Object_type": "stored procedure"
                                },
                                {
                                    "Name": "sp_droparticle",
                                    "Owner": "sys",
                                    "Object_type": "stored procedure"
                                },
                                {
                                    "Name": "sp_dropdatatypemapping",
                                    "Owner": "sys",
                                    "Object_type": "stored procedure"
                                },
                                {
                                    "Name": "sp_dropdevice",
                                    "Owner": "sys",
                                    "Object_type": "stored procedure"
                                },
                                {
                                    "Name": "sp_dropdistpublisher",
                                    "Owner": "sys",
                                    "Object_type": "stored procedure"
                                },
                                {
                                    "Name": "sp_dropdistributiondb",
                                    "Owner": "sys",
                                    "Object_type": "stored procedure"
                                },
                                {
                                    "Name": "sp_dropdistributor",
                                    "Owner": "sys",
                                    "Object_type": "stored procedure"
                                },
                                {
                                    "Name": "sp_dropdynamicsnapshot_job",
                                    "Owner": "sys",
                                    "Object_type": "stored procedure"
                                },
                                {
                                    "Name": "sp_dropextendedproc",
                                    "Owner": "sys",
                                    "Object_type": "stored procedure"
                                },
                                {
                                    "Name": "sp_dropextendedproperty",
                                    "Owner": "sys",
                                    "Object_type": "stored procedure"
                                },
                                {
                                    "Name": "sp_droplinkedsrvlogin",
                                    "Owner": "sys",
                                    "Object_type": "stored procedure"
                                },
                                {
                                    "Name": "sp_droplogin",
                                    "Owner": "sys",
                                    "Object_type": "stored procedure"
                                },
                                {
                                    "Name": "sp_dropmergealternatepublisher",
                                    "Owner": "sys",
                                    "Object_type": "stored procedure"
                                },
                                {
                                    "Name": "sp_dropmergearticle",
                                    "Owner": "sys",
                                    "Object_type": "stored procedure"
                                },
                                {
                                    "Name": "sp_dropmergefilter",
                                    "Owner": "sys",
                                    "Object_type": "stored procedure"
                                },
                                {
                                    "Name": "sp_dropmergelogsettings",
                                    "Owner": "sys",
                                    "Object_type": "stored procedure"
                                },
                                {
                                    "Name": "sp_dropmergepartition",
                                    "Owner": "sys",
                                    "Object_type": "stored procedure"
                                },
                                {
                                    "Name": "sp_dropmergepublication",
                                    "Owner": "sys",
                                    "Object_type": "stored procedure"
                                },
                                {
                                    "Name": "sp_dropmergepullsubscription",
                                    "Owner": "sys",
                                    "Object_type": "stored procedure"
                                },
                                {
                                    "Name": "sp_dropmergesubscription",
                                    "Owner": "sys",
                                    "Object_type": "stored procedure"
                                },
                                {
                                    "Name": "sp_dropmessage",
                                    "Owner": "sys",
                                    "Object_type": "stored procedure"
                                },
                                {
                                    "Name": "sp_droppublication",
                                    "Owner": "sys",
                                    "Object_type": "stored procedure"
                                },
                                {
                                    "Name": "sp_droppublisher",
                                    "Owner": "sys",
                                    "Object_type": "stored procedure"
                                },
                                {
                                    "Name": "sp_droppullsubscription",
                                    "Owner": "sys",
                                    "Object_type": "stored procedure"
                                },
                                {
                                    "Name": "sp_dropremotelogin",
                                    "Owner": "sys",
                                    "Object_type": "stored procedure"
                                },
                                {
                                    "Name": "sp_dropreplsymmetrickey",
                                    "Owner": "sys",
                                    "Object_type": "stored procedure"
                                },
                                {
                                    "Name": "sp_droprole",
                                    "Owner": "sys",
                                    "Object_type": "stored procedure"
                                },
                                {
                                    "Name": "sp_droprolemember",
                                    "Owner": "sys",
                                    "Object_type": "stored procedure"
                                },
                                {
                                    "Name": "sp_dropserver",
                                    "Owner": "sys",
                                    "Object_type": "stored procedure"
                                },
                                {
                                    "Name": "sp_dropsrvrolemember",
                                    "Owner": "sys",
                                    "Object_type": "stored procedure"
                                },
                                {
                                    "Name": "sp_dropsubscriber",
                                    "Owner": "sys",
                                    "Object_type": "stored procedure"
                                },
                                {
                                    "Name": "sp_dropsubscription",
                                    "Owner": "sys",
                                    "Object_type": "stored procedure"
                                },
                                {
                                    "Name": "sp_droptype",
                                    "Owner": "sys",
                                    "Object_type": "stored procedure"
                                },
                                {
                                    "Name": "sp_dropuser",
                                    "Owner": "sys",
                                    "Object_type": "stored procedure"
                                },
                                {
                                    "Name": "sp_dsninfo",
                                    "Owner": "sys",
                                    "Object_type": "stored procedure"
                                },
                                {
                                    "Name": "sp_enable_heterogeneous_subscription",
                                    "Owner": "sys",
                                    "Object_type": "stored procedure"
                                },
                                {
                                    "Name": "sp_enableagentoffload",
                                    "Owner": "sys",
                                    "Object_type": "stored procedure"
                                },
                                {
                                    "Name": "sp_enum_oledb_providers",
                                    "Owner": "sys",
                                    "Object_type": "stored procedure"
                                },
                                {
                                    "Name": "sp_enumcustomresolvers",
                                    "Owner": "sys",
                                    "Object_type": "stored procedure"
                                },
                                {
                                    "Name": "sp_enumdsn",
                                    "Owner": "sys",
                                    "Object_type": "stored procedure"
                                },
                                {
                                    "Name": "sp_enumeratependingschemachanges",
                                    "Owner": "sys",
                                    "Object_type": "stored procedure"
                                },
                                {
                                    "Name": "sp_enumerrorlogs",
                                    "Owner": "sys",
                                    "Object_type": "stored procedure"
                                },
                                {
                                    "Name": "sp_enumfullsubscribers",
                                    "Owner": "sys",
                                    "Object_type": "stored procedure"
                                },
                                {
                                    "Name": "sp_enumoledbdatasources",
                                    "Owner": "sys",
                                    "Object_type": "stored procedure"
                                },
                                {
                                    "Name": "sp_estimate_data_compression_savings",
                                    "Owner": "sys",
                                    "Object_type": "stored procedure"
                                },
                                {
                                    "Name": "sp_estimated_rowsize_reduction_for_vardecimal",
                                    "Owner": "sys",
                                    "Object_type": "stored procedure"
                                },
                                {
                                    "Name": "sp_expired_subscription_cleanup",
                                    "Owner": "sys",
                                    "Object_type": "stored procedure"
                                },
                                {
                                    "Name": "sp_filestream_force_garbage_collection",
                                    "Owner": "sys",
                                    "Object_type": "stored procedure"
                                },
                                {
                                    "Name": "sp_filestream_recalculate_container_size",
                                    "Owner": "sys",
                                    "Object_type": "stored procedure"
                                },
                                {
                                    "Name": "sp_firstonly_bitmap",
                                    "Owner": "sys",
                                    "Object_type": "stored procedure"
                                },
                                {
                                    "Name": "sp_fkeys",
                                    "Owner": "sys",
                                    "Object_type": "stored procedure"
                                },
                                {
                                    "Name": "sp_flush_commit_table",
                                    "Owner": "sys",
                                    "Object_type": "stored procedure"
                                },
                                {
                                    "Name": "sp_flush_commit_table_on_demand",
                                    "Owner": "sys",
                                    "Object_type": "stored procedure"
                                },
                                {
                                    "Name": "sp_flush_CT_internal_table_on_demand",
                                    "Owner": "sys",
                                    "Object_type": "stored procedure"
                                },
                                {
                                    "Name": "sp_flush_ledger_transactions_table",
                                    "Owner": "sys",
                                    "Object_type": "stored procedure"
                                },
                                {
                                    "Name": "sp_foreign_keys_rowset",
                                    "Owner": "sys",
                                    "Object_type": "stored procedure"
                                },
                                {
                                    "Name": "sp_foreign_keys_rowset_rmt",
                                    "Owner": "sys",
                                    "Object_type": "stored procedure"
                                },
                                {
                                    "Name": "sp_foreign_keys_rowset2",
                                    "Owner": "sys",
                                    "Object_type": "stored procedure"
                                },
                                {
                                    "Name": "sp_foreign_keys_rowset3",
                                    "Owner": "sys",
                                    "Object_type": "stored procedure"
                                },
                                {
                                    "Name": "sp_foreignkeys",
                                    "Owner": "sys",
                                    "Object_type": "stored procedure"
                                },
                                {
                                    "Name": "sp_fulltext_catalog",
                                    "Owner": "sys",
                                    "Object_type": "stored procedure"
                                },
                                {
                                    "Name": "sp_fulltext_column",
                                    "Owner": "sys",
                                    "Object_type": "stored procedure"
                                },
                                {
                                    "Name": "sp_fulltext_database",
                                    "Owner": "sys",
                                    "Object_type": "stored procedure"
                                },
                                {
                                    "Name": "sp_fulltext_load_thesaurus_file",
                                    "Owner": "sys",
                                    "Object_type": "stored procedure"
                                },
                                {
                                    "Name": "sp_fulltext_recycle_crawl_log",
                                    "Owner": "sys",
                                    "Object_type": "stored procedure"
                                },
                                {
                                    "Name": "sp_fulltext_semantic_register_language_statistics_db",
                                    "Owner": "sys",
                                    "Object_type": "stored procedure"
                                },
                                {
                                    "Name": "sp_fulltext_semantic_unregister_language_statistics_db",
                                    "Owner": "sys",
                                    "Object_type": "stored procedure"
                                },
                                {
                                    "Name": "sp_fulltext_service",
                                    "Owner": "sys",
                                    "Object_type": "stored procedure"
                                },
                                {
                                    "Name": "sp_fulltext_table",
                                    "Owner": "sys",
                                    "Object_type": "stored procedure"
                                },
                                {
                                    "Name": "sp_generate_agent_parameter",
                                    "Owner": "sys",
                                    "Object_type": "stored procedure"
                                },
                                {
                                    "Name": "sp_generate_database_ledger_digest",
                                    "Owner": "sys",
                                    "Object_type": "stored procedure"
                                },
                                {
                                    "Name": "sp_generatefilters",
                                    "Owner": "sys",
                                    "Object_type": "stored procedure"
                                },
                                {
                                    "Name": "sp_get_distributor",
                                    "Owner": "sys",
                                    "Object_type": "stored procedure"
                                },
                                {
                                    "Name": "sp_get_job_status_mergesubscription_agent",
                                    "Owner": "sys",
                                    "Object_type": "stored procedure"
                                },
                                {
                                    "Name": "sp_get_mergepublishedarticleproperties",
                                    "Owner": "sys",
                                    "Object_type": "stored procedure"
                                },
                                {
                                    "Name": "sp_get_Oracle_publisher_metadata",
                                    "Owner": "sys",
                                    "Object_type": "stored procedure"
                                },
                                {
                                    "Name": "sp_get_redirected_publisher",
                                    "Owner": "sys",
                                    "Object_type": "stored procedure"
                                },
                                {
                                    "Name": "sp_get_streaming_job",
                                    "Owner": "sys",
                                    "Object_type": "stored procedure"
                                },
                                {
                                    "Name": "sp_getagentparameterlist",
                                    "Owner": "sys",
                                    "Object_type": "stored procedure"
                                },
                                {
                                    "Name": "sp_getapplock",
                                    "Owner": "sys",
                                    "Object_type": "stored procedure"
                                },
                                {
                                    "Name": "sp_getdefaultdatatypemapping",
                                    "Owner": "sys",
                                    "Object_type": "stored procedure"
                                },
                                {
                                    "Name": "sp_getdistributorplatform",
                                    "Owner": "sys",
                                    "Object_type": "stored procedure"
                                },
                                {
                                    "Name": "sp_getmergedeletetype",
                                    "Owner": "sys",
                                    "Object_type": "stored procedure"
                                },
                                {
                                    "Name": "sp_getProcessorUsage",
                                    "Owner": "sys",
                                    "Object_type": "stored procedure"
                                },
                                {
                                    "Name": "sp_getpublisherlink",
                                    "Owner": "sys",
                                    "Object_type": "stored procedure"
                                },
                                {
                                    "Name": "sp_getqueuedarticlesynctraninfo",
                                    "Owner": "sys",
                                    "Object_type": "stored procedure"
                                },
                                {
                                    "Name": "sp_getqueuedrows",
                                    "Owner": "sys",
                                    "Object_type": "stored procedure"
                                },
                                {
                                    "Name": "sp_getsqlqueueversion",
                                    "Owner": "sys",
                                    "Object_type": "stored procedure"
                                },
                                {
                                    "Name": "sp_getsubscription_status_hsnapshot",
                                    "Owner": "sys",
                                    "Object_type": "stored procedure"
                                },
                                {
                                    "Name": "sp_getsubscriptiondtspackagename",
                                    "Owner": "sys",
                                    "Object_type": "stored procedure"
                                },
                                {
                                    "Name": "sp_gettopologyinfo",
                                    "Owner": "sys",
                                    "Object_type": "stored procedure"
                                },
                                {
                                    "Name": "sp_getVolumeFreeSpace",
                                    "Owner": "sys",
                                    "Object_type": "stored procedure"
                                },
                                {
                                    "Name": "sp_grant_publication_access",
                                    "Owner": "sys",
                                    "Object_type": "stored procedure"
                                },
                                {
                                    "Name": "sp_grantdbaccess",
                                    "Owner": "sys",
                                    "Object_type": "stored procedure"
                                },
                                {
                                    "Name": "sp_grantlogin",
                                    "Owner": "sys",
                                    "Object_type": "stored procedure"
                                },
                                {
                                    "Name": "sp_help",
                                    "Owner": "sys",
                                    "Object_type": "stored procedure"
                                },
                                {
                                    "Name": "sp_help_agent_default",
                                    "Owner": "sys",
                                    "Object_type": "stored procedure"
                                },
                                {
                                    "Name": "sp_help_agent_parameter",
                                    "Owner": "sys",
                                    "Object_type": "stored procedure"
                                },
                                {
                                    "Name": "sp_help_agent_profile",
                                    "Owner": "sys",
                                    "Object_type": "stored procedure"
                                },
                                {
                                    "Name": "sp_help_datatype_mapping",
                                    "Owner": "sys",
                                    "Object_type": "stored procedure"
                                },
                                {
                                    "Name": "sp_help_fulltext_catalog_components",
                                    "Owner": "sys",
                                    "Object_type": "stored procedure"
                                },
                                {
                                    "Name": "sp_help_fulltext_catalogs",
                                    "Owner": "sys",
                                    "Object_type": "stored procedure"
                                },
                                {
                                    "Name": "sp_help_fulltext_catalogs_cursor",
                                    "Owner": "sys",
                                    "Object_type": "stored procedure"
                                },
                                {
                                    "Name": "sp_help_fulltext_columns",
                                    "Owner": "sys",
                                    "Object_type": "stored procedure"
                                },
                                {
                                    "Name": "sp_help_fulltext_columns_cursor",
                                    "Owner": "sys",
                                    "Object_type": "stored procedure"
                                },
                                {
                                    "Name": "sp_help_fulltext_system_components",
                                    "Owner": "sys",
                                    "Object_type": "stored procedure"
                                },
                                {
                                    "Name": "sp_help_fulltext_tables",
                                    "Owner": "sys",
                                    "Object_type": "stored procedure"
                                },
                                {
                                    "Name": "sp_help_fulltext_tables_cursor",
                                    "Owner": "sys",
                                    "Object_type": "stored procedure"
                                },
                                {
                                    "Name": "sp_help_log_shipping_alert_job",
                                    "Owner": "sys",
                                    "Object_type": "stored procedure"
                                },
                                {
                                    "Name": "sp_help_log_shipping_monitor",
                                    "Owner": "sys",
                                    "Object_type": "stored procedure"
                                },
                                {
                                    "Name": "sp_help_log_shipping_monitor_primary",
                                    "Owner": "sys",
                                    "Object_type": "stored procedure"
                                },
                                {
                                    "Name": "sp_help_log_shipping_monitor_secondary",
                                    "Owner": "sys",
                                    "Object_type": "stored procedure"
                                },
                                {
                                    "Name": "sp_help_log_shipping_primary_database",
                                    "Owner": "sys",
                                    "Object_type": "stored procedure"
                                },
                                {
                                    "Name": "sp_help_log_shipping_primary_secondary",
                                    "Owner": "sys",
                                    "Object_type": "stored procedure"
                                },
                                {
                                    "Name": "sp_help_log_shipping_secondary_database",
                                    "Owner": "sys",
                                    "Object_type": "stored procedure"
                                },
                                {
                                    "Name": "sp_help_log_shipping_secondary_primary",
                                    "Owner": "sys",
                                    "Object_type": "stored procedure"
                                },
                                {
                                    "Name": "sp_help_peerconflictdetection",
                                    "Owner": "sys",
                                    "Object_type": "stored procedure"
                                },
                                {
                                    "Name": "sp_help_publication_access",
                                    "Owner": "sys",
                                    "Object_type": "stored procedure"
                                },
                                {
                                    "Name": "sp_help_spatial_geography_histogram",
                                    "Owner": "sys",
                                    "Object_type": "stored procedure"
                                },
                                {
                                    "Name": "sp_help_spatial_geography_index",
                                    "Owner": "sys",
                                    "Object_type": "stored procedure"
                                },
                                {
                                    "Name": "sp_help_spatial_geography_index_xml",
                                    "Owner": "sys",
                                    "Object_type": "stored procedure"
                                },
                                {
                                    "Name": "sp_help_spatial_geometry_histogram",
                                    "Owner": "sys",
                                    "Object_type": "stored procedure"
                                },
                                {
                                    "Name": "sp_help_spatial_geometry_index",
                                    "Owner": "sys",
                                    "Object_type": "stored procedure"
                                },
                                {
                                    "Name": "sp_help_spatial_geometry_index_xml",
                                    "Owner": "sys",
                                    "Object_type": "stored procedure"
                                },
                                {
                                    "Name": "sp_helpallowmerge_publication",
                                    "Owner": "sys",
                                    "Object_type": "stored procedure"
                                },
                                {
                                    "Name": "sp_helparticle",
                                    "Owner": "sys",
                                    "Object_type": "stored procedure"
                                },
                                {
                                    "Name": "sp_helparticlecolumns",
                                    "Owner": "sys",
                                    "Object_type": "stored procedure"
                                },
                                {
                                    "Name": "sp_helparticledts",
                                    "Owner": "sys",
                                    "Object_type": "stored procedure"
                                },
                                {
                                    "Name": "sp_helpconstraint",
                                    "Owner": "sys",
                                    "Object_type": "stored procedure"
                                },
                                {
                                    "Name": "sp_helpdatatypemap",
                                    "Owner": "sys",
                                    "Object_type": "stored procedure"
                                },
                                {
                                    "Name": "sp_helpdb",
                                    "Owner": "sys",
                                    "Object_type": "stored procedure"
                                },
                                {
                                    "Name": "sp_helpdbfixedrole",
                                    "Owner": "sys",
                                    "Object_type": "stored procedure"
                                },
                                {
                                    "Name": "sp_helpdevice",
                                    "Owner": "sys",
                                    "Object_type": "stored procedure"
                                },
                                {
                                    "Name": "sp_helpdistpublisher",
                                    "Owner": "sys",
                                    "Object_type": "stored procedure"
                                },
                                {
                                    "Name": "sp_helpdistributiondb",
                                    "Owner": "sys",
                                    "Object_type": "stored procedure"
                                },
                                {
                                    "Name": "sp_helpdistributor",
                                    "Owner": "sys",
                                    "Object_type": "stored procedure"
                                },
                                {
                                    "Name": "sp_helpdistributor_properties",
                                    "Owner": "sys",
                                    "Object_type": "stored procedure"
                                },
                                {
                                    "Name": "sp_helpdynamicsnapshot_job",
                                    "Owner": "sys",
                                    "Object_type": "stored procedure"
                                },
                                {
                                    "Name": "sp_helpextendedproc",
                                    "Owner": "sys",
                                    "Object_type": "stored procedure"
                                },
                                {
                                    "Name": "sp_helpfile",
                                    "Owner": "sys",
                                    "Object_type": "stored procedure"
                                },
                                {
                                    "Name": "sp_helpfilegroup",
                                    "Owner": "sys",
                                    "Object_type": "stored procedure"
                                },
                                {
                                    "Name": "sp_helpindex",
                                    "Owner": "sys",
                                    "Object_type": "stored procedure"
                                },
                                {
                                    "Name": "sp_helplanguage",
                                    "Owner": "sys",
                                    "Object_type": "stored procedure"
                                },
                                {
                                    "Name": "sp_helplinkedsrvlogin",
                                    "Owner": "sys",
                                    "Object_type": "stored procedure"
                                },
                                {
                                    "Name": "sp_helplogins",
                                    "Owner": "sys",
                                    "Object_type": "stored procedure"
                                },
                                {
                                    "Name": "sp_helplogreader_agent",
                                    "Owner": "sys",
                                    "Object_type": "stored procedure"
                                },
                                {
                                    "Name": "sp_helpmergealternatepublisher",
                                    "Owner": "sys",
                                    "Object_type": "stored procedure"
                                },
                                {
                                    "Name": "sp_helpmergearticle",
                                    "Owner": "sys",
                                    "Object_type": "stored procedure"
                                },
                                {
                                    "Name": "sp_helpmergearticlecolumn",
                                    "Owner": "sys",
                                    "Object_type": "stored procedure"
                                },
                                {
                                    "Name": "sp_helpmergearticleconflicts",
                                    "Owner": "sys",
                                    "Object_type": "stored procedure"
                                },
                                {
                                    "Name": "sp_helpmergeconflictrows",
                                    "Owner": "sys",
                                    "Object_type": "stored procedure"
                                },
                                {
                                    "Name": "sp_helpmergedeleteconflictrows",
                                    "Owner": "sys",
                                    "Object_type": "stored procedure"
                                },
                                {
                                    "Name": "sp_helpmergefilter",
                                    "Owner": "sys",
                                    "Object_type": "stored procedure"
                                },
                                {
                                    "Name": "sp_helpmergelogfiles",
                                    "Owner": "sys",
                                    "Object_type": "stored procedure"
                                },
                                {
                                    "Name": "sp_helpmergelogfileswithdata",
                                    "Owner": "sys",
                                    "Object_type": "stored procedure"
                                },
                                {
                                    "Name": "sp_helpmergelogsettings",
                                    "Owner": "sys",
                                    "Object_type": "stored procedure"
                                },
                                {
                                    "Name": "sp_helpmergepartition",
                                    "Owner": "sys",
                                    "Object_type": "stored procedure"
                                },
                                {
                                    "Name": "sp_helpmergepublication",
                                    "Owner": "sys",
                                    "Object_type": "stored procedure"
                                },
                                {
                                    "Name": "sp_helpmergepullsubscription",
                                    "Owner": "sys",
                                    "Object_type": "stored procedure"
                                },
                                {
                                    "Name": "sp_helpmergesubscription",
                                    "Owner": "sys",
                                    "Object_type": "stored procedure"
                                },
                                {
                                    "Name": "sp_helpntgroup",
                                    "Owner": "sys",
                                    "Object_type": "stored procedure"
                                },
                                {
                                    "Name": "sp_helppeerrequests",
                                    "Owner": "sys",
                                    "Object_type": "stored procedure"
                                },
                                {
                                    "Name": "sp_helppeerresponses",
                                    "Owner": "sys",
                                    "Object_type": "stored procedure"
                                },
                                {
                                    "Name": "sp_helppublication",
                                    "Owner": "sys",
                                    "Object_type": "stored procedure"
                                },
                                {
                                    "Name": "sp_helppublication_snapshot",
                                    "Owner": "sys",
                                    "Object_type": "stored procedure"
                                },
                                {
                                    "Name": "sp_helppublicationsync",
                                    "Owner": "sys",
                                    "Object_type": "stored procedure"
                                },
                                {
                                    "Name": "sp_helppullsubscription",
                                    "Owner": "sys",
                                    "Object_type": "stored procedure"
                                },
                                {
                                    "Name": "sp_helpqreader_agent",
                                    "Owner": "sys",
                                    "Object_type": "stored procedure"
                                },
                                {
                                    "Name": "sp_helpremotelogin",
                                    "Owner": "sys",
                                    "Object_type": "stored procedure"
                                },
                                {
                                    "Name": "sp_helpreplfailovermode",
                                    "Owner": "sys",
                                    "Object_type": "stored procedure"
                                },
                                {
                                    "Name": "sp_helpreplicationdb",
                                    "Owner": "sys",
                                    "Object_type": "stored procedure"
                                },
                                {
                                    "Name": "sp_helpreplicationdboption",
                                    "Owner": "sys",
                                    "Object_type": "stored procedure"
                                },
                                {
                                    "Name": "sp_helpreplicationoption",
                                    "Owner": "sys",
                                    "Object_type": "stored procedure"
                                },
                                {
                                    "Name": "sp_helprole",
                                    "Owner": "sys",
                                    "Object_type": "stored procedure"
                                },
                                {
                                    "Name": "sp_helprolemember",
                                    "Owner": "sys",
                                    "Object_type": "stored procedure"
                                },
                                {
                                    "Name": "sp_helprotect",
                                    "Owner": "sys",
                                    "Object_type": "stored procedure"
                                },
                                {
                                    "Name": "sp_helpserver",
                                    "Owner": "sys",
                                    "Object_type": "stored procedure"
                                },
                                {
                                    "Name": "sp_helpsort",
                                    "Owner": "sys",
                                    "Object_type": "stored procedure"
                                },
                                {
                                    "Name": "sp_helpsrvrole",
                                    "Owner": "sys",
                                    "Object_type": "stored procedure"
                                },
                                {
                                    "Name": "sp_helpsrvrolemember",
                                    "Owner": "sys",
                                    "Object_type": "stored procedure"
                                },
                                {
                                    "Name": "sp_helpstats",
                                    "Owner": "sys",
                                    "Object_type": "stored procedure"
                                },
                                {
                                    "Name": "sp_helpsubscriberinfo",
                                    "Owner": "sys",
                                    "Object_type": "stored procedure"
                                },
                                {
                                    "Name": "sp_helpsubscription",
                                    "Owner": "sys",
                                    "Object_type": "stored procedure"
                                },
                                {
                                    "Name": "sp_helpsubscription_properties",
                                    "Owner": "sys",
                                    "Object_type": "stored procedure"
                                },
                                {
                                    "Name": "sp_helpsubscriptionerrors",
                                    "Owner": "sys",
                                    "Object_type": "stored procedure"
                                },
                                {
                                    "Name": "sp_helptext",
                                    "Owner": "sys",
                                    "Object_type": "stored procedure"
                                },
                                {
                                    "Name": "sp_helptracertokenhistory",
                                    "Owner": "sys",
                                    "Object_type": "stored procedure"
                                },
                                {
                                    "Name": "sp_helptracertokens",
                                    "Owner": "sys",
                                    "Object_type": "stored procedure"
                                },
                                {
                                    "Name": "sp_helptrigger",
                                    "Owner": "sys",
                                    "Object_type": "stored procedure"
                                },
                                {
                                    "Name": "sp_helpuser",
                                    "Owner": "sys",
                                    "Object_type": "stored procedure"
                                },
                                {
                                    "Name": "sp_helpxactsetjob",
                                    "Owner": "sys",
                                    "Object_type": "stored procedure"
                                },
                                {
                                    "Name": "sp_http_generate_wsdl_defaultcomplexorsimple",
                                    "Owner": "sys",
                                    "Object_type": "stored procedure"
                                },
                                {
                                    "Name": "sp_http_generate_wsdl_defaultsimpleorcomplex",
                                    "Owner": "sys",
                                    "Object_type": "stored procedure"
                                },
                                {
                                    "Name": "sp_identitycolumnforreplication",
                                    "Owner": "sys",
                                    "Object_type": "stored procedure"
                                },
                                {
                                    "Name": "sp_IH_LR_GetCacheData",
                                    "Owner": "sys",
                                    "Object_type": "stored procedure"
                                },
                                {
                                    "Name": "sp_IHadd_sync_command",
                                    "Owner": "sys",
                                    "Object_type": "stored procedure"
                                },
                                {
                                    "Name": "sp_IHarticlecolumn",
                                    "Owner": "sys",
                                    "Object_type": "stored procedure"
                                },
                                {
                                    "Name": "sp_IHget_loopback_detection",
                                    "Owner": "sys",
                                    "Object_type": "stored procedure"
                                },
                                {
                                    "Name": "sp_IHScriptIdxFile",
                                    "Owner": "sys",
                                    "Object_type": "stored procedure"
                                },
                                {
                                    "Name": "sp_IHScriptSchFile",
                                    "Owner": "sys",
                                    "Object_type": "stored procedure"
                                },
                                {
                                    "Name": "sp_IHValidateRowFilter",
                                    "Owner": "sys",
                                    "Object_type": "stored procedure"
                                },
                                {
                                    "Name": "sp_IHXactSetJob",
                                    "Owner": "sys",
                                    "Object_type": "stored procedure"
                                },
                                {
                                    "Name": "sp_indexcolumns_managed",
                                    "Owner": "sys",
                                    "Object_type": "stored procedure"
                                },
                                {
                                    "Name": "sp_indexes",
                                    "Owner": "sys",
                                    "Object_type": "stored procedure"
                                },
                                {
                                    "Name": "sp_indexes_100_rowset",
                                    "Owner": "sys",
                                    "Object_type": "stored procedure"
                                },
                                {
                                    "Name": "sp_indexes_100_rowset2",
                                    "Owner": "sys",
                                    "Object_type": "stored procedure"
                                },
                                {
                                    "Name": "sp_indexes_90_rowset",
                                    "Owner": "sys",
                                    "Object_type": "stored procedure"
                                },
                                {
                                    "Name": "sp_indexes_90_rowset_rmt",
                                    "Owner": "sys",
                                    "Object_type": "stored procedure"
                                },
                                {
                                    "Name": "sp_indexes_90_rowset2",
                                    "Owner": "sys",
                                    "Object_type": "stored procedure"
                                },
                                {
                                    "Name": "sp_indexes_managed",
                                    "Owner": "sys",
                                    "Object_type": "stored procedure"
                                },
                                {
                                    "Name": "sp_indexes_rowset",
                                    "Owner": "sys",
                                    "Object_type": "stored procedure"
                                },
                                {
                                    "Name": "sp_indexes_rowset_rmt",
                                    "Owner": "sys",
                                    "Object_type": "stored procedure"
                                },
                                {
                                    "Name": "sp_indexes_rowset2",
                                    "Owner": "sys",
                                    "Object_type": "stored procedure"
                                },
                                {
                                    "Name": "sp_indexoption",
                                    "Owner": "sys",
                                    "Object_type": "stored procedure"
                                },
                                {
                                    "Name": "sp_invalidate_textptr",
                                    "Owner": "sys",
                                    "Object_type": "stored procedure"
                                },
                                {
                                    "Name": "sp_is_columnstore_column_dictionary_enabled",
                                    "Owner": "sys",
                                    "Object_type": "stored procedure"
                                },
                                {
                                    "Name": "sp_is_makegeneration_needed",
                                    "Owner": "sys",
                                    "Object_type": "stored procedure"
                                },
                                {
                                    "Name": "sp_ivindexhasnullcols",
                                    "Owner": "sys",
                                    "Object_type": "stored procedure"
                                },
                                {
                                    "Name": "sp_kill_filestream_non_transacted_handles",
                                    "Owner": "sys",
                                    "Object_type": "stored procedure"
                                },
                                {
                                    "Name": "sp_kill_oldest_transaction_on_secondary",
                                    "Owner": "sys",
                                    "Object_type": "stored procedure"
                                },
                                {
                                    "Name": "sp_ldw_apply_file_updates_for_ext_table",
                                    "Owner": "sys",
                                    "Object_type": "stored procedure"
                                },
                                {
                                    "Name": "sp_ldw_get_file_updates_for_ext_table",
                                    "Owner": "sys",
                                    "Object_type": "stored procedure"
                                },
                                {
                                    "Name": "sp_ldw_insert_container_and_partition_for_ext_table",
                                    "Owner": "sys",
                                    "Object_type": "stored procedure"
                                },
                                {
                                    "Name": "sp_ldw_internal_tables_clean_up",
                                    "Owner": "sys",
                                    "Object_type": "stored procedure"
                                },
                                {
                                    "Name": "sp_ldw_normalize_ext_tab_name",
                                    "Owner": "sys",
                                    "Object_type": "stored procedure"
                                },
                                {
                                    "Name": "sp_ldw_refresh_internal_table_on_distribution",
                                    "Owner": "sys",
                                    "Object_type": "stored procedure"
                                },
                                {
                                    "Name": "sp_ldw_select_entries_from_internal_table",
                                    "Owner": "sys",
                                    "Object_type": "stored procedure"
                                },
                                {
                                    "Name": "sp_ldw_update_stats_for_ext_table",
                                    "Owner": "sys",
                                    "Object_type": "stored procedure"
                                },
                                {
                                    "Name": "sp_lightweightmergemetadataretentioncleanup",
                                    "Owner": "sys",
                                    "Object_type": "stored procedure"
                                },
                                {
                                    "Name": "sp_link_publication",
                                    "Owner": "sys",
                                    "Object_type": "stored procedure"
                                },
                                {
                                    "Name": "sp_linkedservers",
                                    "Owner": "sys",
                                    "Object_type": "stored procedure"
                                },
                                {
                                    "Name": "sp_linkedservers_rowset",
                                    "Owner": "sys",
                                    "Object_type": "stored procedure"
                                },
                                {
                                    "Name": "sp_linkedservers_rowset2",
                                    "Owner": "sys",
                                    "Object_type": "stored procedure"
                                },
                                {
                                    "Name": "sp_lock",
                                    "Owner": "sys",
                                    "Object_type": "stored procedure"
                                },
                                {
                                    "Name": "sp_logshippinginstallmetadata",
                                    "Owner": "sys",
                                    "Object_type": "stored procedure"
                                },
                                {
                                    "Name": "sp_lookupcustomresolver",
                                    "Owner": "sys",
                                    "Object_type": "stored procedure"
                                },
                                {
                                    "Name": "sp_mapdown_bitmap",
                                    "Owner": "sys",
                                    "Object_type": "stored procedure"
                                },
                                {
                                    "Name": "sp_markpendingschemachange",
                                    "Owner": "sys",
                                    "Object_type": "stored procedure"
                                },
                                {
                                    "Name": "sp_marksubscriptionvalidation",
                                    "Owner": "sys",
                                    "Object_type": "stored procedure"
                                },
                                {
                                    "Name": "sp_memory_leak_detection",
                                    "Owner": "sys",
                                    "Object_type": "stored procedure"
                                },
                                {
                                    "Name": "sp_memory_optimized_cs_migration",
                                    "Owner": "sys",
                                    "Object_type": "stored procedure"
                                },
                                {
                                    "Name": "sp_mergearticlecolumn",
                                    "Owner": "sys",
                                    "Object_type": "stored procedure"
                                },
                                {
                                    "Name": "sp_mergecleanupmetadata",
                                    "Owner": "sys",
                                    "Object_type": "stored procedure"
                                },
                                {
                                    "Name": "sp_mergedummyupdate",
                                    "Owner": "sys",
                                    "Object_type": "stored procedure"
                                },
                                {
                                    "Name": "sp_mergemetadataretentioncleanup",
                                    "Owner": "sys",
                                    "Object_type": "stored procedure"
                                },
                                {
                                    "Name": "sp_mergesubscription_cleanup",
                                    "Owner": "sys",
                                    "Object_type": "stored procedure"
                                },
                                {
                                    "Name": "sp_mergesubscriptionsummary",
                                    "Owner": "sys",
                                    "Object_type": "stored procedure"
                                },
                                {
                                    "Name": "sp_metadata_sync_connector_add",
                                    "Owner": "sys",
                                    "Object_type": "stored procedure"
                                },
                                {
                                    "Name": "sp_metadata_sync_connector_drop",
                                    "Owner": "sys",
                                    "Object_type": "stored procedure"
                                },
                                {
                                    "Name": "sp_metadata_sync_connectors_status",
                                    "Owner": "sys",
                                    "Object_type": "stored procedure"
                                },
                                {
                                    "Name": "sp_monitor",
                                    "Owner": "sys",
                                    "Object_type": "stored procedure"
                                },
                                {
                                    "Name": "sp_MS_marksystemobject",
                                    "Owner": "sys",
                                    "Object_type": "stored procedure"
                                },
                                {
                                    "Name": "sp_MS_replication_installed",
                                    "Owner": "sys",
                                    "Object_type": "stored procedure"
                                },
                                {
                                    "Name": "sp_MSacquireHeadofQueueLock",
                                    "Owner": "sys",
                                    "Object_type": "stored procedure"
                                },
                                {
                                    "Name": "sp_MSacquireserverresourcefordynamicsnapshot",
                                    "Owner": "sys",
                                    "Object_type": "stored procedure"
                                },
                                {
                                    "Name": "sp_MSacquireSlotLock",
                                    "Owner": "sys",
                                    "Object_type": "stored procedure"
                                },
                                {
                                    "Name": "sp_MSacquiresnapshotdeliverysessionlock",
                                    "Owner": "sys",
                                    "Object_type": "stored procedure"
                                },
                                {
                                    "Name": "sp_MSactivate_auto_sub",
                                    "Owner": "sys",
                                    "Object_type": "stored procedure"
                                },
                                {
                                    "Name": "sp_MSactivatelogbasedarticleobject",
                                    "Owner": "sys",
                                    "Object_type": "stored procedure"
                                },
                                {
                                    "Name": "sp_MSactivateprocedureexecutionarticleobject",
                                    "Owner": "sys",
                                    "Object_type": "stored procedure"
                                },
                                {
                                    "Name": "sp_MSadd_anonymous_agent",
                                    "Owner": "sys",
                                    "Object_type": "stored procedure"
                                },
                                {
                                    "Name": "sp_MSadd_article",
                                    "Owner": "sys",
                                    "Object_type": "stored procedure"
                                },
                                {
                                    "Name": "sp_MSadd_compensating_cmd",
                                    "Owner": "sys",
                                    "Object_type": "stored procedure"
                                },
                                {
                                    "Name": "sp_MSadd_distribution_agent",
                                    "Owner": "sys",
                                    "Object_type": "stored procedure"
                                },
                                {
                                    "Name": "sp_MSadd_distribution_history",
                                    "Owner": "sys",
                                    "Object_type": "stored procedure"
                                },
                                {
                                    "Name": "sp_MSadd_dynamic_snapshot_location",
                                    "Owner": "sys",
                                    "Object_type": "stored procedure"
                                },
                                {
                                    "Name": "sp_MSadd_filteringcolumn",
                                    "Owner": "sys",
                                    "Object_type": "stored procedure"
                                },
                                {
                                    "Name": "sp_MSadd_log_shipping_error_detail",
                                    "Owner": "sys",
                                    "Object_type": "stored procedure"
                                },
                                {
                                    "Name": "sp_MSadd_log_shipping_history_detail",
                                    "Owner": "sys",
                                    "Object_type": "stored procedure"
                                },
                                {
                                    "Name": "sp_MSadd_logreader_agent",
                                    "Owner": "sys",
                                    "Object_type": "stored procedure"
                                },
                                {
                                    "Name": "sp_MSadd_logreader_history",
                                    "Owner": "sys",
                                    "Object_type": "stored procedure"
                                },
                                {
                                    "Name": "sp_MSadd_merge_agent",
                                    "Owner": "sys",
                                    "Object_type": "stored procedure"
                                },
                                {
                                    "Name": "sp_MSadd_merge_anonymous_agent",
                                    "Owner": "sys",
                                    "Object_type": "stored procedure"
                                },
                                {
                                    "Name": "sp_MSadd_merge_history",
                                    "Owner": "sys",
                                    "Object_type": "stored procedure"
                                },
                                {
                                    "Name": "sp_MSadd_merge_history90",
                                    "Owner": "sys",
                                    "Object_type": "stored procedure"
                                },
                                {
                                    "Name": "sp_MSadd_merge_subscription",
                                    "Owner": "sys",
                                    "Object_type": "stored procedure"
                                },
                                {
                                    "Name": "sp_MSadd_mergereplcommand",
                                    "Owner": "sys",
                                    "Object_type": "stored procedure"
                                },
                                {
                                    "Name": "sp_MSadd_mergesubentry_indistdb",
                                    "Owner": "sys",
                                    "Object_type": "stored procedure"
                                },
                                {
                                    "Name": "sp_MSadd_publication",
                                    "Owner": "sys",
                                    "Object_type": "stored procedure"
                                },
                                {
                                    "Name": "sp_MSadd_qreader_agent",
                                    "Owner": "sys",
                                    "Object_type": "stored procedure"
                                },
                                {
                                    "Name": "sp_MSadd_qreader_history",
                                    "Owner": "sys",
                                    "Object_type": "stored procedure"
                                },
                                {
                                    "Name": "sp_MSadd_repl_alert",
                                    "Owner": "sys",
                                    "Object_type": "stored procedure"
                                },
                                {
                                    "Name": "sp_MSadd_repl_command",
                                    "Owner": "sys",
                                    "Object_type": "stored procedure"
                                },
                                {
                                    "Name": "sp_MSadd_repl_commands27hp",
                                    "Owner": "sys",
                                    "Object_type": "stored procedure"
                                },
                                {
                                    "Name": "sp_MSadd_repl_error",
                                    "Owner": "sys",
                                    "Object_type": "stored procedure"
                                },
                                {
                                    "Name": "sp_MSadd_replcmds_mcit",
                                    "Owner": "sys",
                                    "Object_type": "stored procedure"
                                },
                                {
                                    "Name": "sp_MSadd_replmergealert",
                                    "Owner": "sys",
                                    "Object_type": "stored procedure"
                                },
                                {
                                    "Name": "sp_MSadd_snapshot_agent",
                                    "Owner": "sys",
                                    "Object_type": "stored procedure"
                                },
                                {
                                    "Name": "sp_MSadd_snapshot_history",
                                    "Owner": "sys",
                                    "Object_type": "stored procedure"
                                },
                                {
                                    "Name": "sp_MSadd_subscriber_info",
                                    "Owner": "sys",
                                    "Object_type": "stored procedure"
                                },
                                {
                                    "Name": "sp_MSadd_subscriber_schedule",
                                    "Owner": "sys",
                                    "Object_type": "stored procedure"
                                },
                                {
                                    "Name": "sp_MSadd_subscription",
                                    "Owner": "sys",
                                    "Object_type": "stored procedure"
                                },
                                {
                                    "Name": "sp_MSadd_subscription_3rd",
                                    "Owner": "sys",
                                    "Object_type": "stored procedure"
                                },
                                {
                                    "Name": "sp_MSadd_tracer_history",
                                    "Owner": "sys",
                                    "Object_type": "stored procedure"
                                },
                                {
                                    "Name": "sp_MSadd_tracer_token",
                                    "Owner": "sys",
                                    "Object_type": "stored procedure"
                                },
                                {
                                    "Name": "sp_MSaddanonymousreplica",
                                    "Owner": "sys",
                                    "Object_type": "stored procedure"
                                },
                                {
                                    "Name": "sp_MSadddynamicsnapshotjobatdistributor",
                                    "Owner": "sys",
                                    "Object_type": "stored procedure"
                                },
                                {
                                    "Name": "sp_MSaddguidcolumn",
                                    "Owner": "sys",
                                    "Object_type": "stored procedure"
                                },
                                {
                                    "Name": "sp_MSaddguidindex",
                                    "Owner": "sys",
                                    "Object_type": "stored procedure"
                                },
                                {
                                    "Name": "sp_MSaddinitialarticle",
                                    "Owner": "sys",
                                    "Object_type": "stored procedure"
                                },
                                {
                                    "Name": "sp_MSaddinitialpublication",
                                    "Owner": "sys",
                                    "Object_type": "stored procedure"
                                },
                                {
                                    "Name": "sp_MSaddinitialschemaarticle",
                                    "Owner": "sys",
                                    "Object_type": "stored procedure"
                                },
                                {
                                    "Name": "sp_MSaddinitialsubscription",
                                    "Owner": "sys",
                                    "Object_type": "stored procedure"
                                },
                                {
                                    "Name": "sp_MSaddlightweightmergearticle",
                                    "Owner": "sys",
                                    "Object_type": "stored procedure"
                                },
                                {
                                    "Name": "sp_MSaddmergedynamicsnapshotjob",
                                    "Owner": "sys",
                                    "Object_type": "stored procedure"
                                },
                                {
                                    "Name": "sp_MSaddmergetriggers",
                                    "Owner": "sys",
                                    "Object_type": "stored procedure"
                                },
                                {
                                    "Name": "sp_MSaddmergetriggers_from_template",
                                    "Owner": "sys",
                                    "Object_type": "stored procedure"
                                },
                                {
                                    "Name": "sp_MSaddmergetriggers_internal",
                                    "Owner": "sys",
                                    "Object_type": "stored procedure"
                                },
                                {
                                    "Name": "sp_MSaddpeerlsn",
                                    "Owner": "sys",
                                    "Object_type": "stored procedure"
                                },
                                {
                                    "Name": "sp_MSaddsubscriptionarticles",
                                    "Owner": "sys",
                                    "Object_type": "stored procedure"
                                },
                                {
                                    "Name": "sp_MSadjust_pub_identity",
                                    "Owner": "sys",
                                    "Object_type": "stored procedure"
                                },
                                {
                                    "Name": "sp_MSagent_retry_stethoscope",
                                    "Owner": "sys",
                                    "Object_type": "stored procedure"
                                },
                                {
                                    "Name": "sp_MSagent_stethoscope",
                                    "Owner": "sys",
                                    "Object_type": "stored procedure"
                                },
                                {
                                    "Name": "sp_MSallocate_new_identity_range",
                                    "Owner": "sys",
                                    "Object_type": "stored procedure"
                                },
                                {
                                    "Name": "sp_MSalreadyhavegeneration",
                                    "Owner": "sys",
                                    "Object_type": "stored procedure"
                                },
                                {
                                    "Name": "sp_MSanonymous_status",
                                    "Owner": "sys",
                                    "Object_type": "stored procedure"
                                },
                                {
                                    "Name": "sp_MSarticlecleanup",
                                    "Owner": "sys",
                                    "Object_type": "stored procedure"
                                },
                                {
                                    "Name": "sp_MSbrowsesnapshotfolder",
                                    "Owner": "sys",
                                    "Object_type": "stored procedure"
                                },
                                {
                                    "Name": "sp_MScache_agent_parameter",
                                    "Owner": "sys",
                                    "Object_type": "stored procedure"
                                },
                                {
                                    "Name": "sp_MScdc_capture_job",
                                    "Owner": "sys",
                                    "Object_type": "stored procedure"
                                },
                                {
                                    "Name": "sp_MScdc_cleanup_job",
                                    "Owner": "sys",
                                    "Object_type": "stored procedure"
                                },
                                {
                                    "Name": "sp_MScdc_db_ddl_event",
                                    "Owner": "sys",
                                    "Object_type": "stored procedure"
                                },
                                {
                                    "Name": "sp_MScdc_ddl_event",
                                    "Owner": "sys",
                                    "Object_type": "stored procedure"
                                },
                                {
                                    "Name": "sp_MScdc_logddl",
                                    "Owner": "sys",
                                    "Object_type": "stored procedure"
                                },
                                {
                                    "Name": "sp_MSchange_article",
                                    "Owner": "sys",
                                    "Object_type": "stored procedure"
                                },
                                {
                                    "Name": "sp_MSchange_distribution_agent_properties",
                                    "Owner": "sys",
                                    "Object_type": "stored procedure"
                                },
                                {
                                    "Name": "sp_MSchange_logreader_agent_properties",
                                    "Owner": "sys",
                                    "Object_type": "stored procedure"
                                },
                                {
                                    "Name": "sp_MSchange_merge_agent_properties",
                                    "Owner": "sys",
                                    "Object_type": "stored procedure"
                                },
                                {
                                    "Name": "sp_MSchange_mergearticle",
                                    "Owner": "sys",
                                    "Object_type": "stored procedure"
                                },
                                {
                                    "Name": "sp_MSchange_mergepublication",
                                    "Owner": "sys",
                                    "Object_type": "stored procedure"
                                },
                                {
                                    "Name": "sp_MSchange_originatorid",
                                    "Owner": "sys",
                                    "Object_type": "stored procedure"
                                },
                                {
                                    "Name": "sp_MSchange_priority",
                                    "Owner": "sys",
                                    "Object_type": "stored procedure"
                                },
                                {
                                    "Name": "sp_MSchange_publication",
                                    "Owner": "sys",
                                    "Object_type": "stored procedure"
                                },
                                {
                                    "Name": "sp_MSchange_retention",
                                    "Owner": "sys",
                                    "Object_type": "stored procedure"
                                },
                                {
                                    "Name": "sp_MSchange_retention_period_unit",
                                    "Owner": "sys",
                                    "Object_type": "stored procedure"
                                },
                                {
                                    "Name": "sp_MSchange_snapshot_agent_properties",
                                    "Owner": "sys",
                                    "Object_type": "stored procedure"
                                },
                                {
                                    "Name": "sp_MSchange_subscription_dts_info",
                                    "Owner": "sys",
                                    "Object_type": "stored procedure"
                                },
                                {
                                    "Name": "sp_MSchangearticleresolver",
                                    "Owner": "sys",
                                    "Object_type": "stored procedure"
                                },
                                {
                                    "Name": "sp_MSchangedynamicsnapshotjobatdistributor",
                                    "Owner": "sys",
                                    "Object_type": "stored procedure"
                                },
                                {
                                    "Name": "sp_MSchangedynsnaplocationatdistributor",
                                    "Owner": "sys",
                                    "Object_type": "stored procedure"
                                },
                                {
                                    "Name": "sp_MSchangeobjectowner",
                                    "Owner": "sys",
                                    "Object_type": "stored procedure"
                                },
                                {
                                    "Name": "sp_MScheck_agent_instance",
                                    "Owner": "sys",
                                    "Object_type": "stored procedure"
                                },
                                {
                                    "Name": "sp_MScheck_dropobject",
                                    "Owner": "sys",
                                    "Object_type": "stored procedure"
                                },
                                {
                                    "Name": "sp_MScheck_Jet_Subscriber",
                                    "Owner": "sys",
                                    "Object_type": "stored procedure"
                                },
                                {
                                    "Name": "sp_MScheck_logicalrecord_metadatamatch",
                                    "Owner": "sys",
                                    "Object_type": "stored procedure"
                                },
                                {
                                    "Name": "sp_MScheck_merge_subscription_count",
                                    "Owner": "sys",
                                    "Object_type": "stored procedure"
                                },
                                {
                                    "Name": "sp_MScheck_pub_identity",
                                    "Owner": "sys",
                                    "Object_type": "stored procedure"
                                },
                                {
                                    "Name": "sp_MScheck_pull_access",
                                    "Owner": "sys",
                                    "Object_type": "stored procedure"
                                },
                                {
                                    "Name": "sp_MScheck_snapshot_agent",
                                    "Owner": "sys",
                                    "Object_type": "stored procedure"
                                },
                                {
                                    "Name": "sp_MScheck_subscription",
                                    "Owner": "sys",
                                    "Object_type": "stored procedure"
                                },
                                {
                                    "Name": "sp_MScheck_subscription_expiry",
                                    "Owner": "sys",
                                    "Object_type": "stored procedure"
                                },
                                {
                                    "Name": "sp_MScheck_subscription_partition",
                                    "Owner": "sys",
                                    "Object_type": "stored procedure"
                                },
                                {
                                    "Name": "sp_MScheck_tran_retention",
                                    "Owner": "sys",
                                    "Object_type": "stored procedure"
                                },
                                {
                                    "Name": "sp_MScheckexistsgeneration",
                                    "Owner": "sys",
                                    "Object_type": "stored procedure"
                                },
                                {
                                    "Name": "sp_MScheckexistsrecguid",
                                    "Owner": "sys",
                                    "Object_type": "stored procedure"
                                },
                                {
                                    "Name": "sp_MScheckfailedprevioussync",
                                    "Owner": "sys",
                                    "Object_type": "stored procedure"
                                },
                                {
                                    "Name": "sp_MScheckidentityrange",
                                    "Owner": "sys",
                                    "Object_type": "stored procedure"
                                },
                                {
                                    "Name": "sp_MScheckIsPubOfSub",
                                    "Owner": "sys",
                                    "Object_type": "stored procedure"
                                },
                                {
                                    "Name": "sp_MSchecksharedagentforpublication",
                                    "Owner": "sys",
                                    "Object_type": "stored procedure"
                                },
                                {
                                    "Name": "sp_MSchecksnapshotstatus",
                                    "Owner": "sys",
                                    "Object_type": "stored procedure"
                                },
                                {
                                    "Name": "sp_MScleanup_agent_entry",
                                    "Owner": "sys",
                                    "Object_type": "stored procedure"
                                },
                                {
                                    "Name": "sp_MScleanup_conflict",
                                    "Owner": "sys",
                                    "Object_type": "stored procedure"
                                },
                                {
                                    "Name": "sp_MScleanup_publication_ADinfo",
                                    "Owner": "sys",
                                    "Object_type": "stored procedure"
                                },
                                {
                                    "Name": "sp_MScleanup_subscription_distside_entry",
                                    "Owner": "sys",
                                    "Object_type": "stored procedure"
                                },
                                {
                                    "Name": "sp_MScleanupdynamicsnapshotfolder",
                                    "Owner": "sys",
                                    "Object_type": "stored procedure"
                                },
                                {
                                    "Name": "sp_MScleanupdynsnapshotvws",
                                    "Owner": "sys",
                                    "Object_type": "stored procedure"
                                },
                                {
                                    "Name": "sp_MSCleanupForPullReinit",
                                    "Owner": "sys",
                                    "Object_type": "stored procedure"
                                },
                                {
                                    "Name": "sp_MScleanupmergepublisher_internal",
                                    "Owner": "sys",
                                    "Object_type": "stored procedure"
                                },
                                {
                                    "Name": "sp_MSclear_dynamic_snapshot_location",
                                    "Owner": "sys",
                                    "Object_type": "stored procedure"
                                },
                                {
                                    "Name": "sp_MSclearresetpartialsnapshotprogressbit",
                                    "Owner": "sys",
                                    "Object_type": "stored procedure"
                                },
                                {
                                    "Name": "sp_MScomputelastsentgen",
                                    "Owner": "sys",
                                    "Object_type": "stored procedure"
                                },
                                {
                                    "Name": "sp_MScomputemergearticlescreationorder",
                                    "Owner": "sys",
                                    "Object_type": "stored procedure"
                                },
                                {
                                    "Name": "sp_MScomputemergeunresolvedrefs",
                                    "Owner": "sys",
                                    "Object_type": "stored procedure"
                                },
                                {
                                    "Name": "sp_MSconflicttableexists",
                                    "Owner": "sys",
                                    "Object_type": "stored procedure"
                                },
                                {
                                    "Name": "sp_MScreate_all_article_repl_views",
                                    "Owner": "sys",
                                    "Object_type": "stored procedure"
                                },
                                {
                                    "Name": "sp_MScreate_article_repl_views",
                                    "Owner": "sys",
                                    "Object_type": "stored procedure"
                                },
                                {
                                    "Name": "sp_MScreate_dist_tables",
                                    "Owner": "sys",
                                    "Object_type": "stored procedure"
                                },
                                {
                                    "Name": "sp_MScreate_logical_record_views",
                                    "Owner": "sys",
                                    "Object_type": "stored procedure"
                                },
                                {
                                    "Name": "sp_MScreate_sub_tables",
                                    "Owner": "sys",
                                    "Object_type": "stored procedure"
                                },
                                {
                                    "Name": "sp_MScreate_tempgenhistorytable",
                                    "Owner": "sys",
                                    "Object_type": "stored procedure"
                                },
                                {
                                    "Name": "sp_MScreatedisabledmltrigger",
                                    "Owner": "sys",
                                    "Object_type": "stored procedure"
                                },
                                {
                                    "Name": "sp_MScreatedummygeneration",
                                    "Owner": "sys",
                                    "Object_type": "stored procedure"
                                },
                                {
                                    "Name": "sp_MScreateglobalreplica",
                                    "Owner": "sys",
                                    "Object_type": "stored procedure"
                                },
                                {
                                    "Name": "sp_MScreatelightweightinsertproc",
                                    "Owner": "sys",
                                    "Object_type": "stored procedure"
                                },
                                {
                                    "Name": "sp_MScreatelightweightmultipurposeproc",
                                    "Owner": "sys",
                                    "Object_type": "stored procedure"
                                },
                                {
                                    "Name": "sp_MScreatelightweightprocstriggersconstraints",
                                    "Owner": "sys",
                                    "Object_type": "stored procedure"
                                },
                                {
                                    "Name": "sp_MScreatelightweightupdateproc",
                                    "Owner": "sys",
                                    "Object_type": "stored procedure"
                                },
                                {
                                    "Name": "sp_MScreatemergedynamicsnapshot",
                                    "Owner": "sys",
                                    "Object_type": "stored procedure"
                                },
                                {
                                    "Name": "sp_MScreateretry",
                                    "Owner": "sys",
                                    "Object_type": "stored procedure"
                                },
                                {
                                    "Name": "sp_MSdbuseraccess",
                                    "Owner": "sys",
                                    "Object_type": "stored procedure"
                                },
                                {
                                    "Name": "sp_MSdbuserpriv",
                                    "Owner": "sys",
                                    "Object_type": "stored procedure"
                                },
                                {
                                    "Name": "sp_MSdefer_check",
                                    "Owner": "sys",
                                    "Object_type": "stored procedure"
                                },
                                {
                                    "Name": "sp_MSdelete_tracer_history",
                                    "Owner": "sys",
                                    "Object_type": "stored procedure"
                                },
                                {
                                    "Name": "sp_MSdeletefoldercontents",
                                    "Owner": "sys",
                                    "Object_type": "stored procedure"
                                },
                                {
                                    "Name": "sp_MSdeletemetadataactionrequest",
                                    "Owner": "sys",
                                    "Object_type": "stored procedure"
                                },
                                {
                                    "Name": "sp_MSdeletepeerconflictrow",
                                    "Owner": "sys",
                                    "Object_type": "stored procedure"
                                },
                                {
                                    "Name": "sp_MSdeleteretry",
                                    "Owner": "sys",
                                    "Object_type": "stored procedure"
                                },
                                {
                                    "Name": "sp_MSdeletetranconflictrow",
                                    "Owner": "sys",
                                    "Object_type": "stored procedure"
                                },
                                {
                                    "Name": "sp_MSdelgenzero",
                                    "Owner": "sys",
                                    "Object_type": "stored procedure"
                                },
                                {
                                    "Name": "sp_MSdelrow",
                                    "Owner": "sys",
                                    "Object_type": "stored procedure"
                                },
                                {
                                    "Name": "sp_MSdelrowsbatch",
                                    "Owner": "sys",
                                    "Object_type": "stored procedure"
                                },
                                {
                                    "Name": "sp_MSdelrowsbatch_downloadonly",
                                    "Owner": "sys",
                                    "Object_type": "stored procedure"
                                },
                                {
                                    "Name": "sp_MSdelsubrows",
                                    "Owner": "sys",
                                    "Object_type": "stored procedure"
                                },
                                {
                                    "Name": "sp_MSdelsubrowsbatch",
                                    "Owner": "sys",
                                    "Object_type": "stored procedure"
                                },
                                {
                                    "Name": "sp_MSdependencies",
                                    "Owner": "sys",
                                    "Object_type": "stored procedure"
                                },
                                {
                                    "Name": "sp_MSdetect_nonlogged_shutdown",
                                    "Owner": "sys",
                                    "Object_type": "stored procedure"
                                },
                                {
                                    "Name": "sp_MSdetectinvalidpeerconfiguration",
                                    "Owner": "sys",
                                    "Object_type": "stored procedure"
                                },
                                {
                                    "Name": "sp_MSdetectinvalidpeersubscription",
                                    "Owner": "sys",
                                    "Object_type": "stored procedure"
                                },
                                {
                                    "Name": "sp_MSdist_activate_auto_sub",
                                    "Owner": "sys",
                                    "Object_type": "stored procedure"
                                },
                                {
                                    "Name": "sp_MSdist_adjust_identity",
                                    "Owner": "sys",
                                    "Object_type": "stored procedure"
                                },
                                {
                                    "Name": "sp_MSdistpublisher_cleanup",
                                    "Owner": "sys",
                                    "Object_type": "stored procedure"
                                },
                                {
                                    "Name": "sp_MSdistribution_counters",
                                    "Owner": "sys",
                                    "Object_type": "stored procedure"
                                },
                                {
                                    "Name": "sp_MSdistributoravailable",
                                    "Owner": "sys",
                                    "Object_type": "stored procedure"
                                },
                                {
                                    "Name": "sp_MSdodatabasesnapshotinitiation",
                                    "Owner": "sys",
                                    "Object_type": "stored procedure"
                                },
                                {
                                    "Name": "sp_MSdopartialdatabasesnapshotinitiation",
                                    "Owner": "sys",
                                    "Object_type": "stored procedure"
                                },
                                {
                                    "Name": "sp_MSdrop_6x_publication",
                                    "Owner": "sys",
                                    "Object_type": "stored procedure"
                                },
                                {
                                    "Name": "sp_MSdrop_6x_replication_agent",
                                    "Owner": "sys",
                                    "Object_type": "stored procedure"
                                },
                                {
                                    "Name": "sp_MSdrop_anonymous_entry",
                                    "Owner": "sys",
                                    "Object_type": "stored procedure"
                                },
                                {
                                    "Name": "sp_MSdrop_article",
                                    "Owner": "sys",
                                    "Object_type": "stored procedure"
                                },
                                {
                                    "Name": "sp_MSdrop_distribution_agent",
                                    "Owner": "sys",
                                    "Object_type": "stored procedure"
                                },
                                {
                                    "Name": "sp_MSdrop_distribution_agentid_dbowner_proxy",
                                    "Owner": "sys",
                                    "Object_type": "stored procedure"
                                },
                                {
                                    "Name": "sp_MSdrop_dynamic_snapshot_agent",
                                    "Owner": "sys",
                                    "Object_type": "stored procedure"
                                },
                                {
                                    "Name": "sp_MSdrop_logreader_agent",
                                    "Owner": "sys",
                                    "Object_type": "stored procedure"
                                },
                                {
                                    "Name": "sp_MSdrop_merge_agent",
                                    "Owner": "sys",
                                    "Object_type": "stored procedure"
                                },
                                {
                                    "Name": "sp_MSdrop_merge_subscription",
                                    "Owner": "sys",
                                    "Object_type": "stored procedure"
                                },
                                {
                                    "Name": "sp_MSdrop_publication",
                                    "Owner": "sys",
                                    "Object_type": "stored procedure"
                                },
                                {
                                    "Name": "sp_MSdrop_qreader_history",
                                    "Owner": "sys",
                                    "Object_type": "stored procedure"
                                },
                                {
                                    "Name": "sp_MSdrop_snapshot_agent",
                                    "Owner": "sys",
                                    "Object_type": "stored procedure"
                                },
                                {
                                    "Name": "sp_MSdrop_snapshot_dirs",
                                    "Owner": "sys",
                                    "Object_type": "stored procedure"
                                },
                                {
                                    "Name": "sp_MSdrop_subscriber_info",
                                    "Owner": "sys",
                                    "Object_type": "stored procedure"
                                },
                                {
                                    "Name": "sp_MSdrop_subscription",
                                    "Owner": "sys",
                                    "Object_type": "stored procedure"
                                },
                                {
                                    "Name": "sp_MSdrop_subscription_3rd",
                                    "Owner": "sys",
                                    "Object_type": "stored procedure"
                                },
                                {
                                    "Name": "sp_MSdrop_tempgenhistorytable",
                                    "Owner": "sys",
                                    "Object_type": "stored procedure"
                                },
                                {
                                    "Name": "sp_MSdroparticleconstraints",
                                    "Owner": "sys",
                                    "Object_type": "stored procedure"
                                },
                                {
                                    "Name": "sp_MSdroparticletombstones",
                                    "Owner": "sys",
                                    "Object_type": "stored procedure"
                                },
                                {
                                    "Name": "sp_MSdropconstraints",
                                    "Owner": "sys",
                                    "Object_type": "stored procedure"
                                },
                                {
                                    "Name": "sp_MSdropdynsnapshotvws",
                                    "Owner": "sys",
                                    "Object_type": "stored procedure"
                                },
                                {
                                    "Name": "sp_MSdropfkreferencingarticle",
                                    "Owner": "sys",
                                    "Object_type": "stored procedure"
                                },
                                {
                                    "Name": "sp_MSdropmergearticle",
                                    "Owner": "sys",
                                    "Object_type": "stored procedure"
                                },
                                {
                                    "Name": "sp_MSdropmergedynamicsnapshotjob",
                                    "Owner": "sys",
                                    "Object_type": "stored procedure"
                                },
                                {
                                    "Name": "sp_MSdropobsoletearticle",
                                    "Owner": "sys",
                                    "Object_type": "stored procedure"
                                },
                                {
                                    "Name": "sp_MSdropretry",
                                    "Owner": "sys",
                                    "Object_type": "stored procedure"
                                },
                                {
                                    "Name": "sp_MSdroptemptable",
                                    "Owner": "sys",
                                    "Object_type": "stored procedure"
                                },
                                {
                                    "Name": "sp_MSdummyupdate",
                                    "Owner": "sys",
                                    "Object_type": "stored procedure"
                                },
                                {
                                    "Name": "sp_MSdummyupdate_logicalrecord",
                                    "Owner": "sys",
                                    "Object_type": "stored procedure"
                                },
                                {
                                    "Name": "sp_MSdummyupdate90",
                                    "Owner": "sys",
                                    "Object_type": "stored procedure"
                                },
                                {
                                    "Name": "sp_MSdummyupdatelightweight",
                                    "Owner": "sys",
                                    "Object_type": "stored procedure"
                                },
                                {
                                    "Name": "sp_MSdynamicsnapshotjobexistsatdistributor",
                                    "Owner": "sys",
                                    "Object_type": "stored procedure"
                                },
                                {
                                    "Name": "sp_MSenable_publication_for_het_sub",
                                    "Owner": "sys",
                                    "Object_type": "stored procedure"
                                },
                                {
                                    "Name": "sp_MSensure_single_instance",
                                    "Owner": "sys",
                                    "Object_type": "stored procedure"
                                },
                                {
                                    "Name": "sp_MSenum_distribution",
                                    "Owner": "sys",
                                    "Object_type": "stored procedure"
                                },
                                {
                                    "Name": "sp_MSenum_distribution_s",
                                    "Owner": "sys",
                                    "Object_type": "stored procedure"
                                },
                                {
                                    "Name": "sp_MSenum_distribution_sd",
                                    "Owner": "sys",
                                    "Object_type": "stored procedure"
                                },
                                {
                                    "Name": "sp_MSenum_logicalrecord_changes",
                                    "Owner": "sys",
                                    "Object_type": "stored procedure"
                                },
                                {
                                    "Name": "sp_MSenum_logreader",
                                    "Owner": "sys",
                                    "Object_type": "stored procedure"
                                },
                                {
                                    "Name": "sp_MSenum_logreader_s",
                                    "Owner": "sys",
                                    "Object_type": "stored procedure"
                                },
                                {
                                    "Name": "sp_MSenum_logreader_sd",
                                    "Owner": "sys",
                                    "Object_type": "stored procedure"
                                },
                                {
                                    "Name": "sp_MSenum_merge",
                                    "Owner": "sys",
                                    "Object_type": "stored procedure"
                                },
                                {
                                    "Name": "sp_MSenum_merge_agent_properties",
                                    "Owner": "sys",
                                    "Object_type": "stored procedure"
                                },
                                {
                                    "Name": "sp_MSenum_merge_s",
                                    "Owner": "sys",
                                    "Object_type": "stored procedure"
                                },
                                {
                                    "Name": "sp_MSenum_merge_sd",
                                    "Owner": "sys",
                                    "Object_type": "stored procedure"
                                },
                                {
                                    "Name": "sp_MSenum_merge_subscriptions",
                                    "Owner": "sys",
                                    "Object_type": "stored procedure"
                                },
                                {
                                    "Name": "sp_MSenum_merge_subscriptions_90_publication",
                                    "Owner": "sys",
                                    "Object_type": "stored procedure"
                                },
                                {
                                    "Name": "sp_MSenum_merge_subscriptions_90_publisher",
                                    "Owner": "sys",
                                    "Object_type": "stored procedure"
                                },
                                {
                                    "Name": "sp_MSenum_metadataaction_requests",
                                    "Owner": "sys",
                                    "Object_type": "stored procedure"
                                },
                                {
                                    "Name": "sp_MSenum_qreader",
                                    "Owner": "sys",
                                    "Object_type": "stored procedure"
                                },
                                {
                                    "Name": "sp_MSenum_qreader_s",
                                    "Owner": "sys",
                                    "Object_type": "stored procedure"
                                },
                                {
                                    "Name": "sp_MSenum_qreader_sd",
                                    "Owner": "sys",
                                    "Object_type": "stored procedure"
                                },
                                {
                                    "Name": "sp_MSenum_replication_agents",
                                    "Owner": "sys",
                                    "Object_type": "stored procedure"
                                },
                                {
                                    "Name": "sp_MSenum_replication_job",
                                    "Owner": "sys",
                                    "Object_type": "stored procedure"
                                },
                                {
                                    "Name": "sp_MSenum_replqueues",
                                    "Owner": "sys",
                                    "Object_type": "stored procedure"
                                },
                                {
                                    "Name": "sp_MSenum_replsqlqueues",
                                    "Owner": "sys",
                                    "Object_type": "stored procedure"
                                },
                                {
                                    "Name": "sp_MSenum_snapshot",
                                    "Owner": "sys",
                                    "Object_type": "stored procedure"
                                },
                                {
                                    "Name": "sp_MSenum_snapshot_s",
                                    "Owner": "sys",
                                    "Object_type": "stored procedure"
                                },
                                {
                                    "Name": "sp_MSenum_snapshot_sd",
                                    "Owner": "sys",
                                    "Object_type": "stored procedure"
                                },
                                {
                                    "Name": "sp_MSenum_subscriptions",
                                    "Owner": "sys",
                                    "Object_type": "stored procedure"
                                },
                                {
                                    "Name": "sp_MSenumallpublications",
                                    "Owner": "sys",
                                    "Object_type": "stored procedure"
                                },
                                {
                                    "Name": "sp_MSenumallsubscriptions",
                                    "Owner": "sys",
                                    "Object_type": "stored procedure"
                                },
                                {
                                    "Name": "sp_MSenumarticleslightweight",
                                    "Owner": "sys",
                                    "Object_type": "stored procedure"
                                },
                                {
                                    "Name": "sp_MSenumchanges",
                                    "Owner": "sys",
                                    "Object_type": "stored procedure"
                                },
                                {
                                    "Name": "sp_MSenumchanges_belongtopartition",
                                    "Owner": "sys",
                                    "Object_type": "stored procedure"
                                },
                                {
                                    "Name": "sp_MSenumchanges_notbelongtopartition",
                                    "Owner": "sys",
                                    "Object_type": "stored procedure"
                                },
                                {
                                    "Name": "sp_MSenumchangesdirect",
                                    "Owner": "sys",
                                    "Object_type": "stored procedure"
                                },
                                {
                                    "Name": "sp_MSenumchangeslightweight",
                                    "Owner": "sys",
                                    "Object_type": "stored procedure"
                                },
                                {
                                    "Name": "sp_MSenumcolumns",
                                    "Owner": "sys",
                                    "Object_type": "stored procedure"
                                },
                                {
                                    "Name": "sp_MSenumcolumnslightweight",
                                    "Owner": "sys",
                                    "Object_type": "stored procedure"
                                },
                                {
                                    "Name": "sp_MSenumdeletes_forpartition",
                                    "Owner": "sys",
                                    "Object_type": "stored procedure"
                                },
                                {
                                    "Name": "sp_MSenumdeleteslightweight",
                                    "Owner": "sys",
                                    "Object_type": "stored procedure"
                                },
                                {
                                    "Name": "sp_MSenumdeletesmetadata",
                                    "Owner": "sys",
                                    "Object_type": "stored procedure"
                                },
                                {
                                    "Name": "sp_MSenumdistributionagentproperties",
                                    "Owner": "sys",
                                    "Object_type": "stored procedure"
                                },
                                {
                                    "Name": "sp_MSenumerate_PAL",
                                    "Owner": "sys",
                                    "Object_type": "stored procedure"
                                },
                                {
                                    "Name": "sp_MSenumgenerations",
                                    "Owner": "sys",
                                    "Object_type": "stored procedure"
                                },
                                {
                                    "Name": "sp_MSenumgenerations90",
                                    "Owner": "sys",
                                    "Object_type": "stored procedure"
                                },
                                {
                                    "Name": "sp_MSenumpartialchanges",
                                    "Owner": "sys",
                                    "Object_type": "stored procedure"
                                },
                                {
                                    "Name": "sp_MSenumpartialchangesdirect",
                                    "Owner": "sys",
                                    "Object_type": "stored procedure"
                                },
                                {
                                    "Name": "sp_MSenumpartialdeletes",
                                    "Owner": "sys",
                                    "Object_type": "stored procedure"
                                },
                                {
                                    "Name": "sp_MSenumpubreferences",
                                    "Owner": "sys",
                                    "Object_type": "stored procedure"
                                },
                                {
                                    "Name": "sp_MSenumreplicas",
                                    "Owner": "sys",
                                    "Object_type": "stored procedure"
                                },
                                {
                                    "Name": "sp_MSenumreplicas90",
                                    "Owner": "sys",
                                    "Object_type": "stored procedure"
                                },
                                {
                                    "Name": "sp_MSenumretries",
                                    "Owner": "sys",
                                    "Object_type": "stored procedure"
                                },
                                {
                                    "Name": "sp_MSenumschemachange",
                                    "Owner": "sys",
                                    "Object_type": "stored procedure"
                                },
                                {
                                    "Name": "sp_MSenumsubscriptions",
                                    "Owner": "sys",
                                    "Object_type": "stored procedure"
                                },
                                {
                                    "Name": "sp_MSenumthirdpartypublicationvendornames",
                                    "Owner": "sys",
                                    "Object_type": "stored procedure"
                                },
                                {
                                    "Name": "sp_MSestimatemergesnapshotworkload",
                                    "Owner": "sys",
                                    "Object_type": "stored procedure"
                                },
                                {
                                    "Name": "sp_MSestimatesnapshotworkload",
                                    "Owner": "sys",
                                    "Object_type": "stored procedure"
                                },
                                {
                                    "Name": "sp_MSevalsubscriberinfo",
                                    "Owner": "sys",
                                    "Object_type": "stored procedure"
                                },
                                {
                                    "Name": "sp_MSevaluate_change_membership_for_all_articles_in_pubid",
                                    "Owner": "sys",
                                    "Object_type": "stored procedure"
                                },
                                {
                                    "Name": "sp_MSevaluate_change_membership_for_pubid",
                                    "Owner": "sys",
                                    "Object_type": "stored procedure"
                                },
                                {
                                    "Name": "sp_MSevaluate_change_membership_for_row",
                                    "Owner": "sys",
                                    "Object_type": "stored procedure"
                                },
                                {
                                    "Name": "sp_MSexecwithlsnoutput",
                                    "Owner": "sys",
                                    "Object_type": "stored procedure"
                                },
                                {
                                    "Name": "sp_MSfast_delete_trans",
                                    "Owner": "sys",
                                    "Object_type": "stored procedure"
                                },
                                {
                                    "Name": "sp_MSfetchAdjustidentityrange",
                                    "Owner": "sys",
                                    "Object_type": "stored procedure"
                                },
                                {
                                    "Name": "sp_MSfetchidentityrange",
                                    "Owner": "sys",
                                    "Object_type": "stored procedure"
                                },
                                {
                                    "Name": "sp_MSfillupmissingcols",
                                    "Owner": "sys",
                                    "Object_type": "stored procedure"
                                },
                                {
                                    "Name": "sp_MSfilterclause",
                                    "Owner": "sys",
                                    "Object_type": "stored procedure"
                                },
                                {
                                    "Name": "sp_MSfix_6x_tasks",
                                    "Owner": "sys",
                                    "Object_type": "stored procedure"
                                },
                                {
                                    "Name": "sp_MSfixlineageversions",
                                    "Owner": "sys",
                                    "Object_type": "stored procedure"
                                },
                                {
                                    "Name": "sp_MSFixSubColumnBitmaps",
                                    "Owner": "sys",
                                    "Object_type": "stored procedure"
                                },
                                {
                                    "Name": "sp_MSfixupbeforeimagetables",
                                    "Owner": "sys",
                                    "Object_type": "stored procedure"
                                },
                                {
                                    "Name": "sp_MSflush_access_cache",
                                    "Owner": "sys",
                                    "Object_type": "stored procedure"
                                },
                                {
                                    "Name": "sp_MSforce_drop_distribution_jobs",
                                    "Owner": "sys",
                                    "Object_type": "stored procedure"
                                },
                                {
                                    "Name": "sp_MSforcereenumeration",
                                    "Owner": "sys",
                                    "Object_type": "stored procedure"
                                },
                                {
                                    "Name": "sp_MSforeach_worker",
                                    "Owner": "sys",
                                    "Object_type": "stored procedure"
                                },
                                {
                                    "Name": "sp_MSforeachdb",
                                    "Owner": "sys",
                                    "Object_type": "stored procedure"
                                },
                                {
                                    "Name": "sp_MSforeachtable",
                                    "Owner": "sys",
                                    "Object_type": "stored procedure"
                                },
                                {
                                    "Name": "sp_MSgenerateexpandproc",
                                    "Owner": "sys",
                                    "Object_type": "stored procedure"
                                },
                                {
                                    "Name": "sp_MSget_agent_names",
                                    "Owner": "sys",
                                    "Object_type": "stored procedure"
                                },
                                {
                                    "Name": "sp_MSget_attach_state",
                                    "Owner": "sys",
                                    "Object_type": "stored procedure"
                                },
                                {
                                    "Name": "sp_MSget_DDL_after_regular_snapshot",
                                    "Owner": "sys",
                                    "Object_type": "stored procedure"
                                },
                                {
                                    "Name": "sp_MSget_dynamic_snapshot_location",
                                    "Owner": "sys",
                                    "Object_type": "stored procedure"
                                },
                                {
                                    "Name": "sp_MSget_identity_range_info",
                                    "Owner": "sys",
                                    "Object_type": "stored procedure"
                                },
                                {
                                    "Name": "sp_MSget_jobstate",
                                    "Owner": "sys",
                                    "Object_type": "stored procedure"
                                },
                                {
                                    "Name": "sp_MSget_last_transaction",
                                    "Owner": "sys",
                                    "Object_type": "stored procedure"
                                },
                                {
                                    "Name": "sp_MSget_latest_peerlsn",
                                    "Owner": "sys",
                                    "Object_type": "stored procedure"
                                },
                                {
                                    "Name": "sp_MSget_load_hint",
                                    "Owner": "sys",
                                    "Object_type": "stored procedure"
                                },
                                {
                                    "Name": "sp_MSget_log_shipping_new_sessionid",
                                    "Owner": "sys",
                                    "Object_type": "stored procedure"
                                },
                                {
                                    "Name": "sp_MSget_logicalrecord_lineage",
                                    "Owner": "sys",
                                    "Object_type": "stored procedure"
                                },
                                {
                                    "Name": "sp_MSget_max_used_identity",
                                    "Owner": "sys",
                                    "Object_type": "stored procedure"
                                },
                                {
                                    "Name": "sp_MSget_min_seqno",
                                    "Owner": "sys",
                                    "Object_type": "stored procedure"
                                },
                                {
                                    "Name": "sp_MSget_MSmerge_rowtrack_colinfo",
                                    "Owner": "sys",
                                    "Object_type": "stored procedure"
                                },
                                {
                                    "Name": "sp_MSget_new_xact_seqno",
                                    "Owner": "sys",
                                    "Object_type": "stored procedure"
                                },
                                {
                                    "Name": "sp_MSget_oledbinfo",
                                    "Owner": "sys",
                                    "Object_type": "stored procedure"
                                },
                                {
                                    "Name": "sp_MSget_partitionid_eval_proc",
                                    "Owner": "sys",
                                    "Object_type": "stored procedure"
                                },
                                {
                                    "Name": "sp_MSget_publication_from_taskname",
                                    "Owner": "sys",
                                    "Object_type": "stored procedure"
                                },
                                {
                                    "Name": "sp_MSget_publisher_rpc",
                                    "Owner": "sys",
                                    "Object_type": "stored procedure"
                                },
                                {
                                    "Name": "sp_MSget_repl_cmds_anonymous",
                                    "Owner": "sys",
                                    "Object_type": "stored procedure"
                                },
                                {
                                    "Name": "sp_MSget_repl_commands",
                                    "Owner": "sys",
                                    "Object_type": "stored procedure"
                                },
                                {
                                    "Name": "sp_MSget_repl_error",
                                    "Owner": "sys",
                                    "Object_type": "stored procedure"
                                },
                                {
                                    "Name": "sp_MSget_server_portinfo",
                                    "Owner": "sys",
                                    "Object_type": "stored procedure"
                                },
                                {
                                    "Name": "sp_MSget_session_statistics",
                                    "Owner": "sys",
                                    "Object_type": "stored procedure"
                                },
                                {
                                    "Name": "sp_MSget_shared_agent",
                                    "Owner": "sys",
                                    "Object_type": "stored procedure"
                                },
                                {
                                    "Name": "sp_MSget_snapshot_history",
                                    "Owner": "sys",
                                    "Object_type": "stored procedure"
                                },
                                {
                                    "Name": "sp_MSget_subscriber_partition_id",
                                    "Owner": "sys",
                                    "Object_type": "stored procedure"
                                },
                                {
                                    "Name": "sp_MSget_subscription_dts_info",
                                    "Owner": "sys",
                                    "Object_type": "stored procedure"
                                },
                                {
                                    "Name": "sp_MSget_subscription_guid",
                                    "Owner": "sys",
                                    "Object_type": "stored procedure"
                                },
                                {
                                    "Name": "sp_MSget_synctran_commands",
                                    "Owner": "sys",
                                    "Object_type": "stored procedure"
                                },
                                {
                                    "Name": "sp_MSget_type_wrapper",
                                    "Owner": "sys",
                                    "Object_type": "stored procedure"
                                },
                                {
                                    "Name": "sp_MSgetagentoffloadinfo",
                                    "Owner": "sys",
                                    "Object_type": "stored procedure"
                                },
                                {
                                    "Name": "sp_MSgetalertinfo",
                                    "Owner": "sys",
                                    "Object_type": "stored procedure"
                                },
                                {
                                    "Name": "sp_MSgetalternaterecgens",
                                    "Owner": "sys",
                                    "Object_type": "stored procedure"
                                },
                                {
                                    "Name": "sp_MSgetarticlereinitvalue",
                                    "Owner": "sys",
                                    "Object_type": "stored procedure"
                                },
                                {
                                    "Name": "sp_MSgetchangecount",
                                    "Owner": "sys",
                                    "Object_type": "stored procedure"
                                },
                                {
                                    "Name": "sp_MSgetconflictinsertproc",
                                    "Owner": "sys",
                                    "Object_type": "stored procedure"
                                },
                                {
                                    "Name": "sp_MSgetconflicttablename",
                                    "Owner": "sys",
                                    "Object_type": "stored procedure"
                                },
                                {
                                    "Name": "sp_MSGetCurrentPrincipal",
                                    "Owner": "sys",
                                    "Object_type": "stored procedure"
                                },
                                {
                                    "Name": "sp_MSgetdatametadatabatch",
                                    "Owner": "sys",
                                    "Object_type": "stored procedure"
                                },
                                {
                                    "Name": "sp_MSgetdbversion",
                                    "Owner": "sys",
                                    "Object_type": "stored procedure"
                                },
                                {
                                    "Name": "sp_MSgetdynamicsnapshotapplock",
                                    "Owner": "sys",
                                    "Object_type": "stored procedure"
                                },
                                {
                                    "Name": "sp_MSgetdynsnapvalidationtoken",
                                    "Owner": "sys",
                                    "Object_type": "stored procedure"
                                },
                                {
                                    "Name": "sp_MSgetgenstatus4rows",
                                    "Owner": "sys",
                                    "Object_type": "stored procedure"
                                },
                                {
                                    "Name": "sp_MSgetisvalidwindowsloginfromdistributor",
                                    "Owner": "sys",
                                    "Object_type": "stored procedure"
                                },
                                {
                                    "Name": "sp_MSgetlastrecgen",
                                    "Owner": "sys",
                                    "Object_type": "stored procedure"
                                },
                                {
                                    "Name": "sp_MSgetlastsentgen",
                                    "Owner": "sys",
                                    "Object_type": "stored procedure"
                                },
                                {
                                    "Name": "sp_MSgetlastsentrecgens",
                                    "Owner": "sys",
                                    "Object_type": "stored procedure"
                                },
                                {
                                    "Name": "sp_MSgetlastupdatedtime",
                                    "Owner": "sys",
                                    "Object_type": "stored procedure"
                                },
                                {
                                    "Name": "sp_MSgetlightweightmetadatabatch",
                                    "Owner": "sys",
                                    "Object_type": "stored procedure"
                                },
                                {
                                    "Name": "sp_MSgetmakegenerationapplock",
                                    "Owner": "sys",
                                    "Object_type": "stored procedure"
                                },
                                {
                                    "Name": "sp_MSgetmakegenerationapplock_90",
                                    "Owner": "sys",
                                    "Object_type": "stored procedure"
                                },
                                {
                                    "Name": "sp_MSgetmaxbcpgen",
                                    "Owner": "sys",
                                    "Object_type": "stored procedure"
                                },
                                {
                                    "Name": "sp_MSgetmaxsnapshottimestamp",
                                    "Owner": "sys",
                                    "Object_type": "stored procedure"
                                },
                                {
                                    "Name": "sp_MSgetmergeadminapplock",
                                    "Owner": "sys",
                                    "Object_type": "stored procedure"
                                },
                                {
                                    "Name": "sp_MSgetmetadata_changedlogicalrecordmembers",
                                    "Owner": "sys",
                                    "Object_type": "stored procedure"
                                },
                                {
                                    "Name": "sp_MSgetmetadatabatch",
                                    "Owner": "sys",
                                    "Object_type": "stored procedure"
                                },
                                {
                                    "Name": "sp_MSgetmetadatabatch90",
                                    "Owner": "sys",
                                    "Object_type": "stored procedure"
                                },
                                {
                                    "Name": "sp_MSgetmetadatabatch90new",
                                    "Owner": "sys",
                                    "Object_type": "stored procedure"
                                },
                                {
                                    "Name": "sp_MSgetonerow",
                                    "Owner": "sys",
                                    "Object_type": "stored procedure"
                                },
                                {
                                    "Name": "sp_MSgetonerowlightweight",
                                    "Owner": "sys",
                                    "Object_type": "stored procedure"
                                },
                                {
                                    "Name": "sp_MSgetpeerconflictrow",
                                    "Owner": "sys",
                                    "Object_type": "stored procedure"
                                },
                                {
                                    "Name": "sp_MSgetpeerlsns",
                                    "Owner": "sys",
                                    "Object_type": "stored procedure"
                                },
                                {
                                    "Name": "sp_MSgetpeertopeercommands",
                                    "Owner": "sys",
                                    "Object_type": "stored procedure"
                                },
                                {
                                    "Name": "sp_MSgetpeerwinnerrow",
                                    "Owner": "sys",
                                    "Object_type": "stored procedure"
                                },
                                {
                                    "Name": "sp_MSgetpubinfo",
                                    "Owner": "sys",
                                    "Object_type": "stored procedure"
                                },
                                {
                                    "Name": "sp_MSgetreplicainfo",
                                    "Owner": "sys",
                                    "Object_type": "stored procedure"
                                },
                                {
                                    "Name": "sp_MSgetreplicastate",
                                    "Owner": "sys",
                                    "Object_type": "stored procedure"
                                },
                                {
                                    "Name": "sp_MSgetrowmetadata",
                                    "Owner": "sys",
                                    "Object_type": "stored procedure"
                                },
                                {
                                    "Name": "sp_MSgetrowmetadatalightweight",
                                    "Owner": "sys",
                                    "Object_type": "stored procedure"
                                },
                                {
                                    "Name": "sp_MSGetServerProperties",
                                    "Owner": "sys",
                                    "Object_type": "stored procedure"
                                },
                                {
                                    "Name": "sp_MSgetsetupbelong_cost",
                                    "Owner": "sys",
                                    "Object_type": "stored procedure"
                                },
                                {
                                    "Name": "sp_MSgetsubscriberinfo",
                                    "Owner": "sys",
                                    "Object_type": "stored procedure"
                                },
                                {
                                    "Name": "sp_MSgetsupportabilitysettings",
                                    "Owner": "sys",
                                    "Object_type": "stored procedure"
                                },
                                {
                                    "Name": "sp_MSgettrancftsrcrow",
                                    "Owner": "sys",
                                    "Object_type": "stored procedure"
                                },
                                {
                                    "Name": "sp_MSgettranconflictrow",
                                    "Owner": "sys",
                                    "Object_type": "stored procedure"
                                },
                                {
                                    "Name": "sp_MSgetversion",
                                    "Owner": "sys",
                                    "Object_type": "stored procedure"
                                },
                                {
                                    "Name": "sp_MSgrantconnectreplication",
                                    "Owner": "sys",
                                    "Object_type": "stored procedure"
                                },
                                {
                                    "Name": "sp_MShaschangeslightweight",
                                    "Owner": "sys",
                                    "Object_type": "stored procedure"
                                },
                                {
                                    "Name": "sp_MShasdbaccess",
                                    "Owner": "sys",
                                    "Object_type": "stored procedure"
                                },
                                {
                                    "Name": "sp_MShelp_article",
                                    "Owner": "sys",
                                    "Object_type": "stored procedure"
                                },
                                {
                                    "Name": "sp_MShelp_distdb",
                                    "Owner": "sys",
                                    "Object_type": "stored procedure"
                                },
                                {
                                    "Name": "sp_MShelp_distribution_agentid",
                                    "Owner": "sys",
                                    "Object_type": "stored procedure"
                                },
                                {
                                    "Name": "sp_MShelp_identity_property",
                                    "Owner": "sys",
                                    "Object_type": "stored procedure"
                                },
                                {
                                    "Name": "sp_MShelp_logreader_agentid",
                                    "Owner": "sys",
                                    "Object_type": "stored procedure"
                                },
                                {
                                    "Name": "sp_MShelp_merge_agentid",
                                    "Owner": "sys",
                                    "Object_type": "stored procedure"
                                },
                                {
                                    "Name": "sp_MShelp_profile",
                                    "Owner": "sys",
                                    "Object_type": "stored procedure"
                                },
                                {
                                    "Name": "sp_MShelp_profilecache",
                                    "Owner": "sys",
                                    "Object_type": "stored procedure"
                                },
                                {
                                    "Name": "sp_MShelp_publication",
                                    "Owner": "sys",
                                    "Object_type": "stored procedure"
                                },
                                {
                                    "Name": "sp_MShelp_repl_agent",
                                    "Owner": "sys",
                                    "Object_type": "stored procedure"
                                },
                                {
                                    "Name": "sp_MShelp_replication_status",
                                    "Owner": "sys",
                                    "Object_type": "stored procedure"
                                },
                                {
                                    "Name": "sp_MShelp_replication_table",
                                    "Owner": "sys",
                                    "Object_type": "stored procedure"
                                },
                                {
                                    "Name": "sp_MShelp_snapshot_agent",
                                    "Owner": "sys",
                                    "Object_type": "stored procedure"
                                },
                                {
                                    "Name": "sp_MShelp_snapshot_agentid",
                                    "Owner": "sys",
                                    "Object_type": "stored procedure"
                                },
                                {
                                    "Name": "sp_MShelp_subscriber_info",
                                    "Owner": "sys",
                                    "Object_type": "stored procedure"
                                },
                                {
                                    "Name": "sp_MShelp_subscription",
                                    "Owner": "sys",
                                    "Object_type": "stored procedure"
                                },
                                {
                                    "Name": "sp_MShelp_subscription_status",
                                    "Owner": "sys",
                                    "Object_type": "stored procedure"
                                },
                                {
                                    "Name": "sp_MShelpcolumns",
                                    "Owner": "sys",
                                    "Object_type": "stored procedure"
                                },
                                {
                                    "Name": "sp_MShelpconflictpublications",
                                    "Owner": "sys",
                                    "Object_type": "stored procedure"
                                },
                                {
                                    "Name": "sp_MShelpcreatebeforetable",
                                    "Owner": "sys",
                                    "Object_type": "stored procedure"
                                },
                                {
                                    "Name": "sp_MShelpdestowner",
                                    "Owner": "sys",
                                    "Object_type": "stored procedure"
                                },
                                {
                                    "Name": "sp_MShelpdynamicsnapshotjobatdistributor",
                                    "Owner": "sys",
                                    "Object_type": "stored procedure"
                                },
                                {
                                    "Name": "sp_MShelpfulltextindex",
                                    "Owner": "sys",
                                    "Object_type": "stored procedure"
                                },
                                {
                                    "Name": "sp_MShelpfulltextscript",
                                    "Owner": "sys",
                                    "Object_type": "stored procedure"
                                },
                                {
                                    "Name": "sp_MShelpindex",
                                    "Owner": "sys",
                                    "Object_type": "stored procedure"
                                },
                                {
                                    "Name": "sp_MShelplogreader_agent",
                                    "Owner": "sys",
                                    "Object_type": "stored procedure"
                                },
                                {
                                    "Name": "sp_MShelpmergearticles",
                                    "Owner": "sys",
                                    "Object_type": "stored procedure"
                                },
                                {
                                    "Name": "sp_MShelpmergeconflictcounts",
                                    "Owner": "sys",
                                    "Object_type": "stored procedure"
                                },
                                {
                                    "Name": "sp_MShelpmergedynamicsnapshotjob",
                                    "Owner": "sys",
                                    "Object_type": "stored procedure"
                                },
                                {
                                    "Name": "sp_MShelpmergeidentity",
                                    "Owner": "sys",
                                    "Object_type": "stored procedure"
                                },
                                {
                                    "Name": "sp_MShelpmergeschemaarticles",
                                    "Owner": "sys",
                                    "Object_type": "stored procedure"
                                },
                                {
                                    "Name": "sp_MShelpobjectpublications",
                                    "Owner": "sys",
                                    "Object_type": "stored procedure"
                                },
                                {
                                    "Name": "sp_MShelpreplicationtriggers",
                                    "Owner": "sys",
                                    "Object_type": "stored procedure"
                                },
                                {
                                    "Name": "sp_MShelpsnapshot_agent",
                                    "Owner": "sys",
                                    "Object_type": "stored procedure"
                                },
                                {
                                    "Name": "sp_MShelpsummarypublication",
                                    "Owner": "sys",
                                    "Object_type": "stored procedure"
                                },
                                {
                                    "Name": "sp_MShelptracertokenhistory",
                                    "Owner": "sys",
                                    "Object_type": "stored procedure"
                                },
                                {
                                    "Name": "sp_MShelptracertokens",
                                    "Owner": "sys",
                                    "Object_type": "stored procedure"
                                },
                                {
                                    "Name": "sp_MShelptranconflictcounts",
                                    "Owner": "sys",
                                    "Object_type": "stored procedure"
                                },
                                {
                                    "Name": "sp_MShelptype",
                                    "Owner": "sys",
                                    "Object_type": "stored procedure"
                                },
                                {
                                    "Name": "sp_MShelpvalidationdate",
                                    "Owner": "sys",
                                    "Object_type": "stored procedure"
                                },
                                {
                                    "Name": "sp_MSIfExistsSubscription",
                                    "Owner": "sys",
                                    "Object_type": "stored procedure"
                                },
                                {
                                    "Name": "sp_MSindexspace",
                                    "Owner": "sys",
                                    "Object_type": "stored procedure"
                                },
                                {
                                    "Name": "sp_MSinit_publication_access",
                                    "Owner": "sys",
                                    "Object_type": "stored procedure"
                                },
                                {
                                    "Name": "sp_MSinit_subscription_agent",
                                    "Owner": "sys",
                                    "Object_type": "stored procedure"
                                },
                                {
                                    "Name": "sp_MSinitdynamicsubscriber",
                                    "Owner": "sys",
                                    "Object_type": "stored procedure"
                                },
                                {
                                    "Name": "sp_MSinsert_identity",
                                    "Owner": "sys",
                                    "Object_type": "stored procedure"
                                },
                                {
                                    "Name": "sp_MSinsertdeleteconflict",
                                    "Owner": "sys",
                                    "Object_type": "stored procedure"
                                },
                                {
                                    "Name": "sp_MSinserterrorlineage",
                                    "Owner": "sys",
                                    "Object_type": "stored procedure"
                                },
                                {
                                    "Name": "sp_MSinsertgenerationschemachanges",
                                    "Owner": "sys",
                                    "Object_type": "stored procedure"
                                },
                                {
                                    "Name": "sp_MSinsertgenhistory",
                                    "Owner": "sys",
                                    "Object_type": "stored procedure"
                                },
                                {
                                    "Name": "sp_MSinsertlightweightschemachange",
                                    "Owner": "sys",
                                    "Object_type": "stored procedure"
                                },
                                {
                                    "Name": "sp_MSinsertschemachange",
                                    "Owner": "sys",
                                    "Object_type": "stored procedure"
                                },
                                {
                                    "Name": "sp_MSinvalidate_snapshot",
                                    "Owner": "sys",
                                    "Object_type": "stored procedure"
                                },
                                {
                                    "Name": "sp_MSIsContainedAGSession",
                                    "Owner": "sys",
                                    "Object_type": "stored procedure"
                                },
                                {
                                    "Name": "sp_MSisnonpkukupdateinconflict",
                                    "Owner": "sys",
                                    "Object_type": "stored procedure"
                                },
                                {
                                    "Name": "sp_MSispeertopeeragent",
                                    "Owner": "sys",
                                    "Object_type": "stored procedure"
                                },
                                {
                                    "Name": "sp_MSispkupdateinconflict",
                                    "Owner": "sys",
                                    "Object_type": "stored procedure"
                                },
                                {
                                    "Name": "sp_MSispublicationqueued",
                                    "Owner": "sys",
                                    "Object_type": "stored procedure"
                                },
                                {
                                    "Name": "sp_MSisreplmergeagent",
                                    "Owner": "sys",
                                    "Object_type": "stored procedure"
                                },
                                {
                                    "Name": "sp_MSissnapshotitemapplied",
                                    "Owner": "sys",
                                    "Object_type": "stored procedure"
                                },
                                {
                                    "Name": "sp_MSkilldb",
                                    "Owner": "sys",
                                    "Object_type": "stored procedure"
                                },
                                {
                                    "Name": "sp_MSlock_auto_sub",
                                    "Owner": "sys",
                                    "Object_type": "stored procedure"
                                },
                                {
                                    "Name": "sp_MSlock_distribution_agent",
                                    "Owner": "sys",
                                    "Object_type": "stored procedure"
                                },
                                {
                                    "Name": "sp_MSlocktable",
                                    "Owner": "sys",
                                    "Object_type": "stored procedure"
                                },
                                {
                                    "Name": "sp_MSloginmappings",
                                    "Owner": "sys",
                                    "Object_type": "stored procedure"
                                },
                                {
                                    "Name": "sp_MSmakearticleprocs",
                                    "Owner": "sys",
                                    "Object_type": "stored procedure"
                                },
                                {
                                    "Name": "sp_MSmakebatchinsertproc",
                                    "Owner": "sys",
                                    "Object_type": "stored procedure"
                                },
                                {
                                    "Name": "sp_MSmakebatchupdateproc",
                                    "Owner": "sys",
                                    "Object_type": "stored procedure"
                                },
                                {
                                    "Name": "sp_MSmakeconflictinsertproc",
                                    "Owner": "sys",
                                    "Object_type": "stored procedure"
                                },
                                {
                                    "Name": "sp_MSmakectsview",
                                    "Owner": "sys",
                                    "Object_type": "stored procedure"
                                },
                                {
                                    "Name": "sp_MSmakedeleteproc",
                                    "Owner": "sys",
                                    "Object_type": "stored procedure"
                                },
                                {
                                    "Name": "sp_MSmakedynsnapshotvws",
                                    "Owner": "sys",
                                    "Object_type": "stored procedure"
                                },
                                {
                                    "Name": "sp_MSmakeexpandproc",
                                    "Owner": "sys",
                                    "Object_type": "stored procedure"
                                },
                                {
                                    "Name": "sp_MSmakegeneration",
                                    "Owner": "sys",
                                    "Object_type": "stored procedure"
                                },
                                {
                                    "Name": "sp_MSmakeinsertproc",
                                    "Owner": "sys",
                                    "Object_type": "stored procedure"
                                },
                                {
                                    "Name": "sp_MSmakemetadataselectproc",
                                    "Owner": "sys",
                                    "Object_type": "stored procedure"
                                },
                                {
                                    "Name": "sp_MSmakeselectproc",
                                    "Owner": "sys",
                                    "Object_type": "stored procedure"
                                },
                                {
                                    "Name": "sp_MSmakesystableviews",
                                    "Owner": "sys",
                                    "Object_type": "stored procedure"
                                },
                                {
                                    "Name": "sp_MSmakeupdateproc",
                                    "Owner": "sys",
                                    "Object_type": "stored procedure"
                                },
                                {
                                    "Name": "sp_MSmap_partitionid_to_generations",
                                    "Owner": "sys",
                                    "Object_type": "stored procedure"
                                },
                                {
                                    "Name": "sp_MSmarkreinit",
                                    "Owner": "sys",
                                    "Object_type": "stored procedure"
                                },
                                {
                                    "Name": "sp_MSmatchkey",
                                    "Owner": "sys",
                                    "Object_type": "stored procedure"
                                },
                                {
                                    "Name": "sp_MSmerge_alterschemaonly",
                                    "Owner": "sys",
                                    "Object_type": "stored procedure"
                                },
                                {
                                    "Name": "sp_MSmerge_altertrigger",
                                    "Owner": "sys",
                                    "Object_type": "stored procedure"
                                },
                                {
                                    "Name": "sp_MSmerge_alterview",
                                    "Owner": "sys",
                                    "Object_type": "stored procedure"
                                },
                                {
                                    "Name": "sp_MSmerge_ddldispatcher",
                                    "Owner": "sys",
                                    "Object_type": "stored procedure"
                                },
                                {
                                    "Name": "sp_MSmerge_getgencount",
                                    "Owner": "sys",
                                    "Object_type": "stored procedure"
                                },
                                {
                                    "Name": "sp_MSmerge_getgencur_public",
                                    "Owner": "sys",
                                    "Object_type": "stored procedure"
                                },
                                {
                                    "Name": "sp_MSmerge_is_snapshot_required",
                                    "Owner": "sys",
                                    "Object_type": "stored procedure"
                                },
                                {
                                    "Name": "sp_MSmerge_log_identity_range_allocations",
                                    "Owner": "sys",
                                    "Object_type": "stored procedure"
                                },
                                {
                                    "Name": "sp_MSmerge_parsegenlist",
                                    "Owner": "sys",
                                    "Object_type": "stored procedure"
                                },
                                {
                                    "Name": "sp_MSmerge_upgrade_subscriber",
                                    "Owner": "sys",
                                    "Object_type": "stored procedure"
                                },
                                {
                                    "Name": "sp_MSmergesubscribedb",
                                    "Owner": "sys",
                                    "Object_type": "stored procedure"
                                },
                                {
                                    "Name": "sp_MSmergeupdatelastsyncinfo",
                                    "Owner": "sys",
                                    "Object_type": "stored procedure"
                                },
                                {
                                    "Name": "sp_MSneedmergemetadataretentioncleanup",
                                    "Owner": "sys",
                                    "Object_type": "stored procedure"
                                },
                                {
                                    "Name": "sp_MSNonSQLDDL",
                                    "Owner": "sys",
                                    "Object_type": "stored procedure"
                                },
                                {
                                    "Name": "sp_MSNonSQLDDLForSchemaDDL",
                                    "Owner": "sys",
                                    "Object_type": "stored procedure"
                                },
                                {
                                    "Name": "sp_MSobjectprivs",
                                    "Owner": "sys",
                                    "Object_type": "stored procedure"
                                },
                                {
                                    "Name": "sp_MSpeerapplyresponse",
                                    "Owner": "sys",
                                    "Object_type": "stored procedure"
                                },
                                {
                                    "Name": "sp_MSpeerapplytopologyinfo",
                                    "Owner": "sys",
                                    "Object_type": "stored procedure"
                                },
                                {
                                    "Name": "sp_MSpeerconflictdetection_statuscollection_applyresponse",
                                    "Owner": "sys",
                                    "Object_type": "stored procedure"
                                },
                                {
                                    "Name": "sp_MSpeerconflictdetection_statuscollection_sendresponse",
                                    "Owner": "sys",
                                    "Object_type": "stored procedure"
                                },
                                {
                                    "Name": "sp_MSpeerconflictdetection_topology_applyresponse",
                                    "Owner": "sys",
                                    "Object_type": "stored procedure"
                                },
                                {
                                    "Name": "sp_MSpeerdbinfo",
                                    "Owner": "sys",
                                    "Object_type": "stored procedure"
                                },
                                {
                                    "Name": "sp_MSpeersendresponse",
                                    "Owner": "sys",
                                    "Object_type": "stored procedure"
                                },
                                {
                                    "Name": "sp_MSpeersendtopologyinfo",
                                    "Owner": "sys",
                                    "Object_type": "stored procedure"
                                },
                                {
                                    "Name": "sp_MSpeertopeerfwdingexec",
                                    "Owner": "sys",
                                    "Object_type": "stored procedure"
                                },
                                {
                                    "Name": "sp_MSpost_auto_proc",
                                    "Owner": "sys",
                                    "Object_type": "stored procedure"
                                },
                                {
                                    "Name": "sp_MSpostapplyscript_forsubscriberprocs",
                                    "Owner": "sys",
                                    "Object_type": "stored procedure"
                                },
                                {
                                    "Name": "sp_MSprep_exclusive",
                                    "Owner": "sys",
                                    "Object_type": "stored procedure"
                                },
                                {
                                    "Name": "sp_MSprepare_mergearticle",
                                    "Owner": "sys",
                                    "Object_type": "stored procedure"
                                },
                                {
                                    "Name": "sp_MSprofile_in_use",
                                    "Owner": "sys",
                                    "Object_type": "stored procedure"
                                },
                                {
                                    "Name": "sp_MSproxiedmetadata",
                                    "Owner": "sys",
                                    "Object_type": "stored procedure"
                                },
                                {
                                    "Name": "sp_MSproxiedmetadatabatch",
                                    "Owner": "sys",
                                    "Object_type": "stored procedure"
                                },
                                {
                                    "Name": "sp_MSproxiedmetadatalightweight",
                                    "Owner": "sys",
                                    "Object_type": "stored procedure"
                                },
                                {
                                    "Name": "sp_MSpub_adjust_identity",
                                    "Owner": "sys",
                                    "Object_type": "stored procedure"
                                },
                                {
                                    "Name": "sp_MSpublication_access",
                                    "Owner": "sys",
                                    "Object_type": "stored procedure"
                                },
                                {
                                    "Name": "sp_MSpublicationcleanup",
                                    "Owner": "sys",
                                    "Object_type": "stored procedure"
                                },
                                {
                                    "Name": "sp_MSpublicationview",
                                    "Owner": "sys",
                                    "Object_type": "stored procedure"
                                },
                                {
                                    "Name": "sp_MSquery_syncstates",
                                    "Owner": "sys",
                                    "Object_type": "stored procedure"
                                },
                                {
                                    "Name": "sp_MSquerysubtype",
                                    "Owner": "sys",
                                    "Object_type": "stored procedure"
                                },
                                {
                                    "Name": "sp_MSrecordsnapshotdeliveryprogress",
                                    "Owner": "sys",
                                    "Object_type": "stored procedure"
                                },
                                {
                                    "Name": "sp_MSreenable_check",
                                    "Owner": "sys",
                                    "Object_type": "stored procedure"
                                },
                                {
                                    "Name": "sp_MSrefresh_anonymous",
                                    "Owner": "sys",
                                    "Object_type": "stored procedure"
                                },
                                {
                                    "Name": "sp_MSrefresh_publisher_idrange",
                                    "Owner": "sys",
                                    "Object_type": "stored procedure"
                                },
                                {
                                    "Name": "sp_MSregenerate_mergetriggersprocs",
                                    "Owner": "sys",
                                    "Object_type": "stored procedure"
                                },
                                {
                                    "Name": "sp_MSregisterdynsnapseqno",
                                    "Owner": "sys",
                                    "Object_type": "stored procedure"
                                },
                                {
                                    "Name": "sp_MSregistermergesnappubid",
                                    "Owner": "sys",
                                    "Object_type": "stored procedure"
                                },
                                {
                                    "Name": "sp_MSregistersubscription",
                                    "Owner": "sys",
                                    "Object_type": "stored procedure"
                                },
                                {
                                    "Name": "sp_MSreinit_failed_subscriptions",
                                    "Owner": "sys",
                                    "Object_type": "stored procedure"
                                },
                                {
                                    "Name": "sp_MSreinit_hub",
                                    "Owner": "sys",
                                    "Object_type": "stored procedure"
                                },
                                {
                                    "Name": "sp_MSreinit_subscription",
                                    "Owner": "sys",
                                    "Object_type": "stored procedure"
                                },
                                {
                                    "Name": "sp_MSreinitoverlappingmergepublications",
                                    "Owner": "sys",
                                    "Object_type": "stored procedure"
                                },
                                {
                                    "Name": "sp_MSreleasedynamicsnapshotapplock",
                                    "Owner": "sys",
                                    "Object_type": "stored procedure"
                                },
                                {
                                    "Name": "sp_MSreleasemakegenerationapplock",
                                    "Owner": "sys",
                                    "Object_type": "stored procedure"
                                },
                                {
                                    "Name": "sp_MSreleasemergeadminapplock",
                                    "Owner": "sys",
                                    "Object_type": "stored procedure"
                                },
                                {
                                    "Name": "sp_MSreleaseSlotLock",
                                    "Owner": "sys",
                                    "Object_type": "stored procedure"
                                },
                                {
                                    "Name": "sp_MSreleasesnapshotdeliverysessionlock",
                                    "Owner": "sys",
                                    "Object_type": "stored procedure"
                                },
                                {
                                    "Name": "sp_MSremove_mergereplcommand",
                                    "Owner": "sys",
                                    "Object_type": "stored procedure"
                                },
                                {
                                    "Name": "sp_MSremoveoffloadparameter",
                                    "Owner": "sys",
                                    "Object_type": "stored procedure"
                                },
                                {
                                    "Name": "sp_MSrepl_agentstatussummary",
                                    "Owner": "sys",
                                    "Object_type": "stored procedure"
                                },
                                {
                                    "Name": "sp_MSrepl_backup_complete",
                                    "Owner": "sys",
                                    "Object_type": "stored procedure"
                                },
                                {
                                    "Name": "sp_MSrepl_backup_start",
                                    "Owner": "sys",
                                    "Object_type": "stored procedure"
                                },
                                {
                                    "Name": "sp_MSrepl_check_publisher",
                                    "Owner": "sys",
                                    "Object_type": "stored procedure"
                                },
                                {
                                    "Name": "sp_MSrepl_createdatatypemappings",
                                    "Owner": "sys",
                                    "Object_type": "stored procedure"
                                },
                                {
                                    "Name": "sp_MSrepl_distributionagentstatussummary",
                                    "Owner": "sys",
                                    "Object_type": "stored procedure"
                                },
                                {
                                    "Name": "sp_MSrepl_dropdatatypemappings",
                                    "Owner": "sys",
                                    "Object_type": "stored procedure"
                                },
                                {
                                    "Name": "sp_MSrepl_enumarticlecolumninfo",
                                    "Owner": "sys",
                                    "Object_type": "stored procedure"
                                },
                                {
                                    "Name": "sp_MSrepl_enumpublications",
                                    "Owner": "sys",
                                    "Object_type": "stored procedure"
                                },
                                {
                                    "Name": "sp_MSrepl_enumpublishertables",
                                    "Owner": "sys",
                                    "Object_type": "stored procedure"
                                },
                                {
                                    "Name": "sp_MSrepl_enumsubscriptions",
                                    "Owner": "sys",
                                    "Object_type": "stored procedure"
                                },
                                {
                                    "Name": "sp_MSrepl_enumtablecolumninfo",
                                    "Owner": "sys",
                                    "Object_type": "stored procedure"
                                },
                                {
                                    "Name": "sp_MSrepl_FixPALRole",
                                    "Owner": "sys",
                                    "Object_type": "stored procedure"
                                },
                                {
                                    "Name": "sp_MSrepl_getdistributorinfo",
                                    "Owner": "sys",
                                    "Object_type": "stored procedure"
                                },
                                {
                                    "Name": "sp_MSrepl_getpkfkrelation",
                                    "Owner": "sys",
                                    "Object_type": "stored procedure"
                                },
                                {
                                    "Name": "sp_MSrepl_gettype_mappings",
                                    "Owner": "sys",
                                    "Object_type": "stored procedure"
                                },
                                {
                                    "Name": "sp_MSrepl_helparticlermo",
                                    "Owner": "sys",
                                    "Object_type": "stored procedure"
                                },
                                {
                                    "Name": "sp_MSrepl_init_backup_lsns",
                                    "Owner": "sys",
                                    "Object_type": "stored procedure"
                                },
                                {
                                    "Name": "sp_MSrepl_isdbowner",
                                    "Owner": "sys",
                                    "Object_type": "stored procedure"
                                },
                                {
                                    "Name": "sp_MSrepl_IsLastPubInSharedSubscription",
                                    "Owner": "sys",
                                    "Object_type": "stored procedure"
                                },
                                {
                                    "Name": "sp_MSrepl_IsUserInAnyPAL",
                                    "Owner": "sys",
                                    "Object_type": "stored procedure"
                                },
                                {
                                    "Name": "sp_MSrepl_linkedservers_rowset",
                                    "Owner": "sys",
                                    "Object_type": "stored procedure"
                                },
                                {
                                    "Name": "sp_MSrepl_mergeagentstatussummary",
                                    "Owner": "sys",
                                    "Object_type": "stored procedure"
                                },
                                {
                                    "Name": "sp_MSrepl_monitor_job_at_failover",
                                    "Owner": "sys",
                                    "Object_type": "stored procedure"
                                },
                                {
                                    "Name": "sp_MSrepl_PAL_rolecheck",
                                    "Owner": "sys",
                                    "Object_type": "stored procedure"
                                },
                                {
                                    "Name": "sp_MSrepl_raiserror",
                                    "Owner": "sys",
                                    "Object_type": "stored procedure"
                                },
                                {
                                    "Name": "sp_MSrepl_reinit_jobsync_table",
                                    "Owner": "sys",
                                    "Object_type": "stored procedure"
                                },
                                {
                                    "Name": "sp_MSrepl_schema",
                                    "Owner": "sys",
                                    "Object_type": "stored procedure"
                                },
                                {
                                    "Name": "sp_MSrepl_setNFR",
                                    "Owner": "sys",
                                    "Object_type": "stored procedure"
                                },
                                {
                                    "Name": "sp_MSrepl_snapshot_helparticlecolumns",
                                    "Owner": "sys",
                                    "Object_type": "stored procedure"
                                },
                                {
                                    "Name": "sp_MSrepl_snapshot_helppublication",
                                    "Owner": "sys",
                                    "Object_type": "stored procedure"
                                },
                                {
                                    "Name": "sp_MSrepl_startup_internal",
                                    "Owner": "sys",
                                    "Object_type": "stored procedure"
                                },
                                {
                                    "Name": "sp_MSrepl_subscription_rowset",
                                    "Owner": "sys",
                                    "Object_type": "stored procedure"
                                },
                                {
                                    "Name": "sp_MSrepl_testadminconnection",
                                    "Owner": "sys",
                                    "Object_type": "stored procedure"
                                },
                                {
                                    "Name": "sp_MSrepl_testconnection",
                                    "Owner": "sys",
                                    "Object_type": "stored procedure"
                                },
                                {
                                    "Name": "sp_MSreplagentjobexists",
                                    "Owner": "sys",
                                    "Object_type": "stored procedure"
                                },
                                {
                                    "Name": "sp_MSreplcheck_permission",
                                    "Owner": "sys",
                                    "Object_type": "stored procedure"
                                },
                                {
                                    "Name": "sp_MSreplcheck_pull",
                                    "Owner": "sys",
                                    "Object_type": "stored procedure"
                                },
                                {
                                    "Name": "sp_MSreplcheck_subscribe",
                                    "Owner": "sys",
                                    "Object_type": "stored procedure"
                                },
                                {
                                    "Name": "sp_MSreplcheck_subscribe_withddladmin",
                                    "Owner": "sys",
                                    "Object_type": "stored procedure"
                                },
                                {
                                    "Name": "sp_MSreplcheckoffloadserver",
                                    "Owner": "sys",
                                    "Object_type": "stored procedure"
                                },
                                {
                                    "Name": "sp_MSreplcopyscriptfile",
                                    "Owner": "sys",
                                    "Object_type": "stored procedure"
                                },
                                {
                                    "Name": "sp_MSreplraiserror",
                                    "Owner": "sys",
                                    "Object_type": "stored procedure"
                                },
                                {
                                    "Name": "sp_MSreplremoveuncdir",
                                    "Owner": "sys",
                                    "Object_type": "stored procedure"
                                },
                                {
                                    "Name": "sp_MSreplupdateschema",
                                    "Owner": "sys",
                                    "Object_type": "stored procedure"
                                },
                                {
                                    "Name": "sp_MSrequestreenumeration",
                                    "Owner": "sys",
                                    "Object_type": "stored procedure"
                                },
                                {
                                    "Name": "sp_MSrequestreenumeration_lightweight",
                                    "Owner": "sys",
                                    "Object_type": "stored procedure"
                                },
                                {
                                    "Name": "sp_MSreset_attach_state",
                                    "Owner": "sys",
                                    "Object_type": "stored procedure"
                                },
                                {
                                    "Name": "sp_MSreset_queued_reinit",
                                    "Owner": "sys",
                                    "Object_type": "stored procedure"
                                },
                                {
                                    "Name": "sp_MSreset_subscription",
                                    "Owner": "sys",
                                    "Object_type": "stored procedure"
                                },
                                {
                                    "Name": "sp_MSreset_subscription_seqno",
                                    "Owner": "sys",
                                    "Object_type": "stored procedure"
                                },
                                {
                                    "Name": "sp_MSreset_synctran_bit",
                                    "Owner": "sys",
                                    "Object_type": "stored procedure"
                                },
                                {
                                    "Name": "sp_MSreset_transaction",
                                    "Owner": "sys",
                                    "Object_type": "stored procedure"
                                },
                                {
                                    "Name": "sp_MSresetsnapshotdeliveryprogress",
                                    "Owner": "sys",
                                    "Object_type": "stored procedure"
                                },
                                {
                                    "Name": "sp_MSrestoresavedforeignkeys",
                                    "Owner": "sys",
                                    "Object_type": "stored procedure"
                                },
                                {
                                    "Name": "sp_MSretrieve_publication_attributes",
                                    "Owner": "sys",
                                    "Object_type": "stored procedure"
                                },
                                {
                                    "Name": "sp_MSscript_article_view",
                                    "Owner": "sys",
                                    "Object_type": "stored procedure"
                                },
                                {
                                    "Name": "sp_MSscript_dri",
                                    "Owner": "sys",
                                    "Object_type": "stored procedure"
                                },
                                {
                                    "Name": "sp_MSscript_pub_upd_trig",
                                    "Owner": "sys",
                                    "Object_type": "stored procedure"
                                },
                                {
                                    "Name": "sp_MSscript_sync_del_proc",
                                    "Owner": "sys",
                                    "Object_type": "stored procedure"
                                },
                                {
                                    "Name": "sp_MSscript_sync_del_trig",
                                    "Owner": "sys",
                                    "Object_type": "stored procedure"
                                },
                                {
                                    "Name": "sp_MSscript_sync_ins_proc",
                                    "Owner": "sys",
                                    "Object_type": "stored procedure"
                                },
                                {
                                    "Name": "sp_MSscript_sync_ins_trig",
                                    "Owner": "sys",
                                    "Object_type": "stored procedure"
                                },
                                {
                                    "Name": "sp_MSscript_sync_upd_proc",
                                    "Owner": "sys",
                                    "Object_type": "stored procedure"
                                },
                                {
                                    "Name": "sp_MSscript_sync_upd_trig",
                                    "Owner": "sys",
                                    "Object_type": "stored procedure"
                                },
                                {
                                    "Name": "sp_MSscriptcustomdelproc",
                                    "Owner": "sys",
                                    "Object_type": "stored procedure"
                                },
                                {
                                    "Name": "sp_MSscriptcustominsproc",
                                    "Owner": "sys",
                                    "Object_type": "stored procedure"
                                },
                                {
                                    "Name": "sp_MSscriptcustomupdproc",
                                    "Owner": "sys",
                                    "Object_type": "stored procedure"
                                },
                                {
                                    "Name": "sp_MSscriptdatabase",
                                    "Owner": "sys",
                                    "Object_type": "stored procedure"
                                },
                                {
                                    "Name": "sp_MSscriptdb_worker",
                                    "Owner": "sys",
                                    "Object_type": "stored procedure"
                                },
                                {
                                    "Name": "sp_MSscriptforeignkeyrestore",
                                    "Owner": "sys",
                                    "Object_type": "stored procedure"
                                },
                                {
                                    "Name": "sp_MSscriptsubscriberprocs",
                                    "Owner": "sys",
                                    "Object_type": "stored procedure"
                                },
                                {
                                    "Name": "sp_MSscriptviewproc",
                                    "Owner": "sys",
                                    "Object_type": "stored procedure"
                                },
                                {
                                    "Name": "sp_MSsendtosqlqueue",
                                    "Owner": "sys",
                                    "Object_type": "stored procedure"
                                },
                                {
                                    "Name": "sp_MSset_dynamic_filter_options",
                                    "Owner": "sys",
                                    "Object_type": "stored procedure"
                                },
                                {
                                    "Name": "sp_MSset_logicalrecord_metadata",
                                    "Owner": "sys",
                                    "Object_type": "stored procedure"
                                },
                                {
                                    "Name": "sp_MSset_new_identity_range",
                                    "Owner": "sys",
                                    "Object_type": "stored procedure"
                                },
                                {
                                    "Name": "sp_MSset_oledb_prop",
                                    "Owner": "sys",
                                    "Object_type": "stored procedure"
                                },
                                {
                                    "Name": "sp_MSset_repl_serveroptions",
                                    "Owner": "sys",
                                    "Object_type": "stored procedure"
                                },
                                {
                                    "Name": "sp_MSset_snapshot_xact_seqno",
                                    "Owner": "sys",
                                    "Object_type": "stored procedure"
                                },
                                {
                                    "Name": "sp_MSset_sub_guid",
                                    "Owner": "sys",
                                    "Object_type": "stored procedure"
                                },
                                {
                                    "Name": "sp_MSset_subscription_properties",
                                    "Owner": "sys",
                                    "Object_type": "stored procedure"
                                },
                                {
                                    "Name": "sp_MSsetaccesslist",
                                    "Owner": "sys",
                                    "Object_type": "stored procedure"
                                },
                                {
                                    "Name": "sp_MSsetalertinfo",
                                    "Owner": "sys",
                                    "Object_type": "stored procedure"
                                },
                                {
                                    "Name": "sp_MSsetartprocs",
                                    "Owner": "sys",
                                    "Object_type": "stored procedure"
                                },
                                {
                                    "Name": "sp_MSsetbit",
                                    "Owner": "sys",
                                    "Object_type": "stored procedure"
                                },
                                {
                                    "Name": "sp_MSsetconflictscript",
                                    "Owner": "sys",
                                    "Object_type": "stored procedure"
                                },
                                {
                                    "Name": "sp_MSsetconflicttable",
                                    "Owner": "sys",
                                    "Object_type": "stored procedure"
                                },
                                {
                                    "Name": "sp_MSsetcontext_bypasswholeddleventbit",
                                    "Owner": "sys",
                                    "Object_type": "stored procedure"
                                },
                                {
                                    "Name": "sp_MSsetcontext_replagent",
                                    "Owner": "sys",
                                    "Object_type": "stored procedure"
                                },
                                {
                                    "Name": "sp_MSsetgentozero",
                                    "Owner": "sys",
                                    "Object_type": "stored procedure"
                                },
                                {
                                    "Name": "sp_MSsetlastrecgen",
                                    "Owner": "sys",
                                    "Object_type": "stored procedure"
                                },
                                {
                                    "Name": "sp_MSsetlastsentgen",
                                    "Owner": "sys",
                                    "Object_type": "stored procedure"
                                },
                                {
                                    "Name": "sp_MSsetreplicainfo",
                                    "Owner": "sys",
                                    "Object_type": "stored procedure"
                                },
                                {
                                    "Name": "sp_MSsetreplicaschemaversion",
                                    "Owner": "sys",
                                    "Object_type": "stored procedure"
                                },
                                {
                                    "Name": "sp_MSsetreplicastatus",
                                    "Owner": "sys",
                                    "Object_type": "stored procedure"
                                },
                                {
                                    "Name": "sp_MSsetrowmetadata",
                                    "Owner": "sys",
                                    "Object_type": "stored procedure"
                                },
                                {
                                    "Name": "sp_MSSetServerProperties",
                                    "Owner": "sys",
                                    "Object_type": "stored procedure"
                                },
                                {
                                    "Name": "sp_MSsetsubscriberinfo",
                                    "Owner": "sys",
                                    "Object_type": "stored procedure"
                                },
                                {
                                    "Name": "sp_MSsettopology",
                                    "Owner": "sys",
                                    "Object_type": "stored procedure"
                                },
                                {
                                    "Name": "sp_MSsetup_identity_range",
                                    "Owner": "sys",
                                    "Object_type": "stored procedure"
                                },
                                {
                                    "Name": "sp_MSsetup_partition_groups",
                                    "Owner": "sys",
                                    "Object_type": "stored procedure"
                                },
                                {
                                    "Name": "sp_MSsetup_use_partition_groups",
                                    "Owner": "sys",
                                    "Object_type": "stored procedure"
                                },
                                {
                                    "Name": "sp_MSsetupbelongs",
                                    "Owner": "sys",
                                    "Object_type": "stored procedure"
                                },
                                {
                                    "Name": "sp_MSsetupnosyncsubwithlsnatdist",
                                    "Owner": "sys",
                                    "Object_type": "stored procedure"
                                },
                                {
                                    "Name": "sp_MSsetupnosyncsubwithlsnatdist_cleanup",
                                    "Owner": "sys",
                                    "Object_type": "stored procedure"
                                },
                                {
                                    "Name": "sp_MSsetupnosyncsubwithlsnatdist_helper",
                                    "Owner": "sys",
                                    "Object_type": "stored procedure"
                                },
                                {
                                    "Name": "sp_MSSharedFixedDisk",
                                    "Owner": "sys",
                                    "Object_type": "stored procedure"
                                },
                                {
                                    "Name": "sp_MSSQLDMO70_version",
                                    "Owner": "sys",
                                    "Object_type": "stored procedure"
                                },
                                {
                                    "Name": "sp_MSSQLDMO80_version",
                                    "Owner": "sys",
                                    "Object_type": "stored procedure"
                                },
                                {
                                    "Name": "sp_MSSQLDMO90_version",
                                    "Owner": "sys",
                                    "Object_type": "stored procedure"
                                },
                                {
                                    "Name": "sp_MSSQLOLE_version",
                                    "Owner": "sys",
                                    "Object_type": "stored procedure"
                                },
                                {
                                    "Name": "sp_MSSQLOLE65_version",
                                    "Owner": "sys",
                                    "Object_type": "stored procedure"
                                },
                                {
                                    "Name": "sp_MSstartdistribution_agent",
                                    "Owner": "sys",
                                    "Object_type": "stored procedure"
                                },
                                {
                                    "Name": "sp_MSstartmerge_agent",
                                    "Owner": "sys",
                                    "Object_type": "stored procedure"
                                },
                                {
                                    "Name": "sp_MSstartsnapshot_agent",
                                    "Owner": "sys",
                                    "Object_type": "stored procedure"
                                },
                                {
                                    "Name": "sp_MSstopdistribution_agent",
                                    "Owner": "sys",
                                    "Object_type": "stored procedure"
                                },
                                {
                                    "Name": "sp_MSstopmerge_agent",
                                    "Owner": "sys",
                                    "Object_type": "stored procedure"
                                },
                                {
                                    "Name": "sp_MSstopsnapshot_agent",
                                    "Owner": "sys",
                                    "Object_type": "stored procedure"
                                },
                                {
                                    "Name": "sp_MSsub_check_identity",
                                    "Owner": "sys",
                                    "Object_type": "stored procedure"
                                },
                                {
                                    "Name": "sp_MSsub_set_identity",
                                    "Owner": "sys",
                                    "Object_type": "stored procedure"
                                },
                                {
                                    "Name": "sp_MSsubscription_status",
                                    "Owner": "sys",
                                    "Object_type": "stored procedure"
                                },
                                {
                                    "Name": "sp_MSsubscriptionvalidated",
                                    "Owner": "sys",
                                    "Object_type": "stored procedure"
                                },
                                {
                                    "Name": "sp_MStablechecks",
                                    "Owner": "sys",
                                    "Object_type": "stored procedure"
                                },
                                {
                                    "Name": "sp_MStablekeys",
                                    "Owner": "sys",
                                    "Object_type": "stored procedure"
                                },
                                {
                                    "Name": "sp_MStablerefs",
                                    "Owner": "sys",
                                    "Object_type": "stored procedure"
                                },
                                {
                                    "Name": "sp_MStablespace",
                                    "Owner": "sys",
                                    "Object_type": "stored procedure"
                                },
                                {
                                    "Name": "sp_MStestbit",
                                    "Owner": "sys",
                                    "Object_type": "stored procedure"
                                },
                                {
                                    "Name": "sp_MStran_ddlrepl",
                                    "Owner": "sys",
                                    "Object_type": "stored procedure"
                                },
                                {
                                    "Name": "sp_MStran_is_snapshot_required",
                                    "Owner": "sys",
                                    "Object_type": "stored procedure"
                                },
                                {
                                    "Name": "sp_MStrypurgingoldsnapshotdeliveryprogress",
                                    "Owner": "sys",
                                    "Object_type": "stored procedure"
                                },
                                {
                                    "Name": "sp_MSuniquename",
                                    "Owner": "sys",
                                    "Object_type": "stored procedure"
                                },
                                {
                                    "Name": "sp_MSunmarkifneeded",
                                    "Owner": "sys",
                                    "Object_type": "stored procedure"
                                },
                                {
                                    "Name": "sp_MSunmarkreplinfo",
                                    "Owner": "sys",
                                    "Object_type": "stored procedure"
                                },
                                {
                                    "Name": "sp_MSunmarkschemaobject",
                                    "Owner": "sys",
                                    "Object_type": "stored procedure"
                                },
                                {
                                    "Name": "sp_MSunregistersubscription",
                                    "Owner": "sys",
                                    "Object_type": "stored procedure"
                                },
                                {
                                    "Name": "sp_MSupdate_agenttype_default",
                                    "Owner": "sys",
                                    "Object_type": "stored procedure"
                                },
                                {
                                    "Name": "sp_MSupdate_singlelogicalrecordmetadata",
                                    "Owner": "sys",
                                    "Object_type": "stored procedure"
                                },
                                {
                                    "Name": "sp_MSupdate_subscriber_info",
                                    "Owner": "sys",
                                    "Object_type": "stored procedure"
                                },
                                {
                                    "Name": "sp_MSupdate_subscriber_schedule",
                                    "Owner": "sys",
                                    "Object_type": "stored procedure"
                                },
                                {
                                    "Name": "sp_MSupdate_subscriber_tracer_history",
                                    "Owner": "sys",
                                    "Object_type": "stored procedure"
                                },
                                {
                                    "Name": "sp_MSupdate_subscription",
                                    "Owner": "sys",
                                    "Object_type": "stored procedure"
                                },
                                {
                                    "Name": "sp_MSupdate_tracer_history",
                                    "Owner": "sys",
                                    "Object_type": "stored procedure"
                                },
                                {
                                    "Name": "sp_MSupdatecachedpeerlsn",
                                    "Owner": "sys",
                                    "Object_type": "stored procedure"
                                },
                                {
                                    "Name": "sp_MSupdategenerations_afterbcp",
                                    "Owner": "sys",
                                    "Object_type": "stored procedure"
                                },
                                {
                                    "Name": "sp_MSupdategenhistory",
                                    "Owner": "sys",
                                    "Object_type": "stored procedure"
                                },
                                {
                                    "Name": "sp_MSupdateinitiallightweightsubscription",
                                    "Owner": "sys",
                                    "Object_type": "stored procedure"
                                },
                                {
                                    "Name": "sp_MSupdatelastsyncinfo",
                                    "Owner": "sys",
                                    "Object_type": "stored procedure"
                                },
                                {
                                    "Name": "sp_MSupdatepeerlsn",
                                    "Owner": "sys",
                                    "Object_type": "stored procedure"
                                },
                                {
                                    "Name": "sp_MSupdaterecgen",
                                    "Owner": "sys",
                                    "Object_type": "stored procedure"
                                },
                                {
                                    "Name": "sp_MSupdatereplicastate",
                                    "Owner": "sys",
                                    "Object_type": "stored procedure"
                                },
                                {
                                    "Name": "sp_MSupdatesysmergearticles",
                                    "Owner": "sys",
                                    "Object_type": "stored procedure"
                                },
                                {
                                    "Name": "sp_MSuplineageversion",
                                    "Owner": "sys",
                                    "Object_type": "stored procedure"
                                },
                                {
                                    "Name": "sp_MSuploadsupportabilitydata",
                                    "Owner": "sys",
                                    "Object_type": "stored procedure"
                                },
                                {
                                    "Name": "sp_MSuselightweightreplication",
                                    "Owner": "sys",
                                    "Object_type": "stored procedure"
                                },
                                {
                                    "Name": "sp_MSvalidate_dest_recgen",
                                    "Owner": "sys",
                                    "Object_type": "stored procedure"
                                },
                                {
                                    "Name": "sp_MSvalidate_subscription",
                                    "Owner": "sys",
                                    "Object_type": "stored procedure"
                                },
                                {
                                    "Name": "sp_MSvalidate_wellpartitioned_articles",
                                    "Owner": "sys",
                                    "Object_type": "stored procedure"
                                },
                                {
                                    "Name": "sp_MSvalidatearticle",
                                    "Owner": "sys",
                                    "Object_type": "stored procedure"
                                },
                                {
                                    "Name": "sp_MSwritemergeperfcounter",
                                    "Owner": "sys",
                                    "Object_type": "stored procedure"
                                },
                                {
                                    "Name": "sp_objectfilegroup",
                                    "Owner": "sys",
                                    "Object_type": "stored procedure"
                                },
                                {
                                    "Name": "sp_oledb_database",
                                    "Owner": "sys",
                                    "Object_type": "stored procedure"
                                },
                                {
                                    "Name": "sp_oledb_defdb",
                                    "Owner": "sys",
                                    "Object_type": "stored procedure"
                                },
                                {
                                    "Name": "sp_oledb_deflang",
                                    "Owner": "sys",
                                    "Object_type": "stored procedure"
                                },
                                {
                                    "Name": "sp_oledb_language",
                                    "Owner": "sys",
                                    "Object_type": "stored procedure"
                                },
                                {
                                    "Name": "sp_oledb_ro_usrname",
                                    "Owner": "sys",
                                    "Object_type": "stored procedure"
                                },
                                {
                                    "Name": "sp_oledbinfo",
                                    "Owner": "sys",
                                    "Object_type": "stored procedure"
                                },
                                {
                                    "Name": "sp_ORbitmap",
                                    "Owner": "sys",
                                    "Object_type": "stored procedure"
                                },
                                {
                                    "Name": "sp_password",
                                    "Owner": "sys",
                                    "Object_type": "stored procedure"
                                },
                                {
                                    "Name": "sp_peerconflictdetection_tableaug",
                                    "Owner": "sys",
                                    "Object_type": "stored procedure"
                                },
                                {
                                    "Name": "sp_persistent_version_cleanup",
                                    "Owner": "sys",
                                    "Object_type": "stored procedure"
                                },
                                {
                                    "Name": "sp_pkeys",
                                    "Owner": "sys",
                                    "Object_type": "stored procedure"
                                },
                                {
                                    "Name": "sp_posttracertoken",
                                    "Owner": "sys",
                                    "Object_type": "stored procedure"
                                },
                                {
                                    "Name": "sp_primary_keys_rowset",
                                    "Owner": "sys",
                                    "Object_type": "stored procedure"
                                },
                                {
                                    "Name": "sp_primary_keys_rowset_rmt",
                                    "Owner": "sys",
                                    "Object_type": "stored procedure"
                                },
                                {
                                    "Name": "sp_primary_keys_rowset2",
                                    "Owner": "sys",
                                    "Object_type": "stored procedure"
                                },
                                {
                                    "Name": "sp_primarykeys",
                                    "Owner": "sys",
                                    "Object_type": "stored procedure"
                                },
                                {
                                    "Name": "sp_procedure_params_100_managed",
                                    "Owner": "sys",
                                    "Object_type": "stored procedure"
                                },
                                {
                                    "Name": "sp_procedure_params_100_rowset",
                                    "Owner": "sys",
                                    "Object_type": "stored procedure"
                                },
                                {
                                    "Name": "sp_procedure_params_100_rowset2",
                                    "Owner": "sys",
                                    "Object_type": "stored procedure"
                                },
                                {
                                    "Name": "sp_procedure_params_90_rowset",
                                    "Owner": "sys",
                                    "Object_type": "stored procedure"
                                },
                                {
                                    "Name": "sp_procedure_params_90_rowset2",
                                    "Owner": "sys",
                                    "Object_type": "stored procedure"
                                },
                                {
                                    "Name": "sp_procedure_params_managed",
                                    "Owner": "sys",
                                    "Object_type": "stored procedure"
                                },
                                {
                                    "Name": "sp_procedure_params_rowset",
                                    "Owner": "sys",
                                    "Object_type": "stored procedure"
                                },
                                {
                                    "Name": "sp_procedure_params_rowset2",
                                    "Owner": "sys",
                                    "Object_type": "stored procedure"
                                },
                                {
                                    "Name": "sp_procedures_rowset",
                                    "Owner": "sys",
                                    "Object_type": "stored procedure"
                                },
                                {
                                    "Name": "sp_procedures_rowset2",
                                    "Owner": "sys",
                                    "Object_type": "stored procedure"
                                },
                                {
                                    "Name": "sp_processlogshippingmonitorhistory",
                                    "Owner": "sys",
                                    "Object_type": "stored procedure"
                                },
                                {
                                    "Name": "sp_processlogshippingmonitorprimary",
                                    "Owner": "sys",
                                    "Object_type": "stored procedure"
                                },
                                {
                                    "Name": "sp_processlogshippingmonitorsecondary",
                                    "Owner": "sys",
                                    "Object_type": "stored procedure"
                                },
                                {
                                    "Name": "sp_processlogshippingretentioncleanup",
                                    "Owner": "sys",
                                    "Object_type": "stored procedure"
                                },
                                {
                                    "Name": "sp_procoption",
                                    "Owner": "sys",
                                    "Object_type": "stored procedure"
                                },
                                {
                                    "Name": "sp_prop_oledb_provider",
                                    "Owner": "sys",
                                    "Object_type": "stored procedure"
                                },
                                {
                                    "Name": "sp_provider_types_100_rowset",
                                    "Owner": "sys",
                                    "Object_type": "stored procedure"
                                },
                                {
                                    "Name": "sp_provider_types_90_rowset",
                                    "Owner": "sys",
                                    "Object_type": "stored procedure"
                                },
                                {
                                    "Name": "sp_provider_types_rowset",
                                    "Owner": "sys",
                                    "Object_type": "stored procedure"
                                },
                                {
                                    "Name": "sp_publication_validation",
                                    "Owner": "sys",
                                    "Object_type": "stored procedure"
                                },
                                {
                                    "Name": "sp_publicationsummary",
                                    "Owner": "sys",
                                    "Object_type": "stored procedure"
                                },
                                {
                                    "Name": "sp_publishdb",
                                    "Owner": "sys",
                                    "Object_type": "stored procedure"
                                },
                                {
                                    "Name": "sp_publisherproperty",
                                    "Owner": "sys",
                                    "Object_type": "stored procedure"
                                },
                                {
                                    "Name": "sp_readerrorlog",
                                    "Owner": "sys",
                                    "Object_type": "stored procedure"
                                },
                                {
                                    "Name": "sp_recompile",
                                    "Owner": "sys",
                                    "Object_type": "stored procedure"
                                },
                                {
                                    "Name": "sp_redirect_publisher",
                                    "Owner": "sys",
                                    "Object_type": "stored procedure"
                                },
                                {
                                    "Name": "sp_refresh_heterogeneous_publisher",
                                    "Owner": "sys",
                                    "Object_type": "stored procedure"
                                },
                                {
                                    "Name": "sp_refresh_log_shipping_monitor",
                                    "Owner": "sys",
                                    "Object_type": "stored procedure"
                                },
                                {
                                    "Name": "sp_refresh_parameter_encryption",
                                    "Owner": "sys",
                                    "Object_type": "stored procedure"
                                },
                                {
                                    "Name": "sp_refresh_single_snapshot_view",
                                    "Owner": "sys",
                                    "Object_type": "stored procedure"
                                },
                                {
                                    "Name": "sp_refresh_snapshot_views",
                                    "Owner": "sys",
                                    "Object_type": "stored procedure"
                                },
                                {
                                    "Name": "sp_refreshsqlmodule",
                                    "Owner": "sys",
                                    "Object_type": "stored procedure"
                                },
                                {
                                    "Name": "sp_refreshsubscriptions",
                                    "Owner": "sys",
                                    "Object_type": "stored procedure"
                                },
                                {
                                    "Name": "sp_refreshview",
                                    "Owner": "sys",
                                    "Object_type": "stored procedure"
                                },
                                {
                                    "Name": "sp_register_custom_scripting",
                                    "Owner": "sys",
                                    "Object_type": "stored procedure"
                                },
                                {
                                    "Name": "sp_registercustomresolver",
                                    "Owner": "sys",
                                    "Object_type": "stored procedure"
                                },
                                {
                                    "Name": "sp_reinitmergepullsubscription",
                                    "Owner": "sys",
                                    "Object_type": "stored procedure"
                                },
                                {
                                    "Name": "sp_reinitmergesubscription",
                                    "Owner": "sys",
                                    "Object_type": "stored procedure"
                                },
                                {
                                    "Name": "sp_reinitpullsubscription",
                                    "Owner": "sys",
                                    "Object_type": "stored procedure"
                                },
                                {
                                    "Name": "sp_reinitsubscription",
                                    "Owner": "sys",
                                    "Object_type": "stored procedure"
                                },
                                {
                                    "Name": "sp_releaseapplock",
                                    "Owner": "sys",
                                    "Object_type": "stored procedure"
                                },
                                {
                                    "Name": "sp_remoteoption",
                                    "Owner": "sys",
                                    "Object_type": "stored procedure"
                                },
                                {
                                    "Name": "sp_remove_columnstore_column_dictionary",
                                    "Owner": "sys",
                                    "Object_type": "stored procedure"
                                },
                                {
                                    "Name": "sp_removedbreplication",
                                    "Owner": "sys",
                                    "Object_type": "stored procedure"
                                },
                                {
                                    "Name": "sp_removedistpublisherdbreplication",
                                    "Owner": "sys",
                                    "Object_type": "stored procedure"
                                },
                                {
                                    "Name": "sp_removesrvreplication",
                                    "Owner": "sys",
                                    "Object_type": "stored procedure"
                                },
                                {
                                    "Name": "sp_rename",
                                    "Owner": "sys",
                                    "Object_type": "stored procedure"
                                },
                                {
                                    "Name": "sp_renamedb",
                                    "Owner": "sys",
                                    "Object_type": "stored procedure"
                                },
                                {
                                    "Name": "sp_repladdcolumn",
                                    "Owner": "sys",
                                    "Object_type": "stored procedure"
                                },
                                {
                                    "Name": "sp_replcleanupccsprocs",
                                    "Owner": "sys",
                                    "Object_type": "stored procedure"
                                },
                                {
                                    "Name": "sp_repldeletequeuedtran",
                                    "Owner": "sys",
                                    "Object_type": "stored procedure"
                                },
                                {
                                    "Name": "sp_repldropcolumn",
                                    "Owner": "sys",
                                    "Object_type": "stored procedure"
                                },
                                {
                                    "Name": "sp_replgetparsedddlcmd",
                                    "Owner": "sys",
                                    "Object_type": "stored procedure"
                                },
                                {
                                    "Name": "sp_replica",
                                    "Owner": "sys",
                                    "Object_type": "stored procedure"
                                },
                                {
                                    "Name": "sp_replication_agent_checkup",
                                    "Owner": "sys",
                                    "Object_type": "stored procedure"
                                },
                                {
                                    "Name": "sp_replicationdboption",
                                    "Owner": "sys",
                                    "Object_type": "stored procedure"
                                },
                                {
                                    "Name": "sp_replincrementlsn",
                                    "Owner": "sys",
                                    "Object_type": "stored procedure"
                                },
                                {
                                    "Name": "sp_replmonitorchangepublicationthreshold",
                                    "Owner": "sys",
                                    "Object_type": "stored procedure"
                                },
                                {
                                    "Name": "sp_replmonitorgetoriginalpublisher",
                                    "Owner": "sys",
                                    "Object_type": "stored procedure"
                                },
                                {
                                    "Name": "sp_replmonitorhelpmergesession",
                                    "Owner": "sys",
                                    "Object_type": "stored procedure"
                                },
                                {
                                    "Name": "sp_replmonitorhelpmergesessiondetail",
                                    "Owner": "sys",
                                    "Object_type": "stored procedure"
                                },
                                {
                                    "Name": "sp_replmonitorhelpmergesubscriptionmoreinfo",
                                    "Owner": "sys",
                                    "Object_type": "stored procedure"
                                },
                                {
                                    "Name": "sp_replmonitorhelppublication",
                                    "Owner": "sys",
                                    "Object_type": "stored procedure"
                                },
                                {
                                    "Name": "sp_replmonitorhelppublicationthresholds",
                                    "Owner": "sys",
                                    "Object_type": "stored procedure"
                                },
                                {
                                    "Name": "sp_replmonitorhelppublisher",
                                    "Owner": "sys",
                                    "Object_type": "stored procedure"
                                },
                                {
                                    "Name": "sp_replmonitorhelpsubscription",
                                    "Owner": "sys",
                                    "Object_type": "stored procedure"
                                },
                                {
                                    "Name": "sp_replmonitorrefreshjob",
                                    "Owner": "sys",
                                    "Object_type": "stored procedure"
                                },
                                {
                                    "Name": "sp_replmonitorsubscriptionpendingcmds",
                                    "Owner": "sys",
                                    "Object_type": "stored procedure"
                                },
                                {
                                    "Name": "sp_replpostsyncstatus",
                                    "Owner": "sys",
                                    "Object_type": "stored procedure"
                                },
                                {
                                    "Name": "sp_replqueuemonitor",
                                    "Owner": "sys",
                                    "Object_type": "stored procedure"
                                },
                                {
                                    "Name": "sp_replrestart",
                                    "Owner": "sys",
                                    "Object_type": "stored procedure"
                                },
                                {
                                    "Name": "sp_replrethrow",
                                    "Owner": "sys",
                                    "Object_type": "stored procedure"
                                },
                                {
                                    "Name": "sp_replsetoriginator",
                                    "Owner": "sys",
                                    "Object_type": "stored procedure"
                                },
                                {
                                    "Name": "sp_replshowcmds",
                                    "Owner": "sys",
                                    "Object_type": "stored procedure"
                                },
                                {
                                    "Name": "sp_replsqlqgetrows",
                                    "Owner": "sys",
                                    "Object_type": "stored procedure"
                                },
                                {
                                    "Name": "sp_replsync",
                                    "Owner": "sys",
                                    "Object_type": "stored procedure"
                                },
                                {
                                    "Name": "sp_requestpeerresponse",
                                    "Owner": "sys",
                                    "Object_type": "stored procedure"
                                },
                                {
                                    "Name": "sp_requestpeertopologyinfo",
                                    "Owner": "sys",
                                    "Object_type": "stored procedure"
                                },
                                {
                                    "Name": "sp_resetsnapshotdeliveryprogress",
                                    "Owner": "sys",
                                    "Object_type": "stored procedure"
                                },
                                {
                                    "Name": "sp_resetstatus",
                                    "Owner": "sys",
                                    "Object_type": "stored procedure"
                                },
                                {
                                    "Name": "sp_resign_database",
                                    "Owner": "sys",
                                    "Object_type": "stored procedure"
                                },
                                {
                                    "Name": "sp_resolve_logins",
                                    "Owner": "sys",
                                    "Object_type": "stored procedure"
                                },
                                {
                                    "Name": "sp_restore_filelistonly",
                                    "Owner": "sys",
                                    "Object_type": "stored procedure"
                                },
                                {
                                    "Name": "sp_restoredbreplication",
                                    "Owner": "sys",
                                    "Object_type": "stored procedure"
                                },
                                {
                                    "Name": "sp_restoremergeidentityrange",
                                    "Owner": "sys",
                                    "Object_type": "stored procedure"
                                },
                                {
                                    "Name": "sp_resyncmergesubscription",
                                    "Owner": "sys",
                                    "Object_type": "stored procedure"
                                },
                                {
                                    "Name": "sp_revoke_publication_access",
                                    "Owner": "sys",
                                    "Object_type": "stored procedure"
                                },
                                {
                                    "Name": "sp_revokedbaccess",
                                    "Owner": "sys",
                                    "Object_type": "stored procedure"
                                },
                                {
                                    "Name": "sp_revokelogin",
                                    "Owner": "sys",
                                    "Object_type": "stored procedure"
                                },
                                {
                                    "Name": "sp_schemafilter",
                                    "Owner": "sys",
                                    "Object_type": "stored procedure"
                                },
                                {
                                    "Name": "sp_schemata_rowset",
                                    "Owner": "sys",
                                    "Object_type": "stored procedure"
                                },
                                {
                                    "Name": "sp_script_reconciliation_delproc",
                                    "Owner": "sys",
                                    "Object_type": "stored procedure"
                                },
                                {
                                    "Name": "sp_script_reconciliation_insproc",
                                    "Owner": "sys",
                                    "Object_type": "stored procedure"
                                },
                                {
                                    "Name": "sp_script_reconciliation_sinsproc",
                                    "Owner": "sys",
                                    "Object_type": "stored procedure"
                                },
                                {
                                    "Name": "sp_script_reconciliation_vdelproc",
                                    "Owner": "sys",
                                    "Object_type": "stored procedure"
                                },
                                {
                                    "Name": "sp_script_reconciliation_xdelproc",
                                    "Owner": "sys",
                                    "Object_type": "stored procedure"
                                },
                                {
                                    "Name": "sp_script_synctran_commands",
                                    "Owner": "sys",
                                    "Object_type": "stored procedure"
                                },
                                {
                                    "Name": "sp_scriptdelproc",
                                    "Owner": "sys",
                                    "Object_type": "stored procedure"
                                },
                                {
                                    "Name": "sp_scriptdynamicupdproc",
                                    "Owner": "sys",
                                    "Object_type": "stored procedure"
                                },
                                {
                                    "Name": "sp_scriptinsproc",
                                    "Owner": "sys",
                                    "Object_type": "stored procedure"
                                },
                                {
                                    "Name": "sp_scriptmappedupdproc",
                                    "Owner": "sys",
                                    "Object_type": "stored procedure"
                                },
                                {
                                    "Name": "sp_scriptpublicationcustomprocs",
                                    "Owner": "sys",
                                    "Object_type": "stored procedure"
                                },
                                {
                                    "Name": "sp_scriptsinsproc",
                                    "Owner": "sys",
                                    "Object_type": "stored procedure"
                                },
                                {
                                    "Name": "sp_scriptsubconflicttable",
                                    "Owner": "sys",
                                    "Object_type": "stored procedure"
                                },
                                {
                                    "Name": "sp_scriptsupdproc",
                                    "Owner": "sys",
                                    "Object_type": "stored procedure"
                                },
                                {
                                    "Name": "sp_scriptupdproc",
                                    "Owner": "sys",
                                    "Object_type": "stored procedure"
                                },
                                {
                                    "Name": "sp_scriptvdelproc",
                                    "Owner": "sys",
                                    "Object_type": "stored procedure"
                                },
                                {
                                    "Name": "sp_scriptvupdproc",
                                    "Owner": "sys",
                                    "Object_type": "stored procedure"
                                },
                                {
                                    "Name": "sp_scriptxdelproc",
                                    "Owner": "sys",
                                    "Object_type": "stored procedure"
                                },
                                {
                                    "Name": "sp_scriptxupdproc",
                                    "Owner": "sys",
                                    "Object_type": "stored procedure"
                                },
                                {
                                    "Name": "sp_sequence_get_range",
                                    "Owner": "sys",
                                    "Object_type": "stored procedure"
                                },
                                {
                                    "Name": "sp_server_info",
                                    "Owner": "sys",
                                    "Object_type": "stored procedure"
                                },
                                {
                                    "Name": "sp_serveroption",
                                    "Owner": "sys",
                                    "Object_type": "stored procedure"
                                },
                                {
                                    "Name": "sp_setapprole",
                                    "Owner": "sys",
                                    "Object_type": "stored procedure"
                                },
                                {
                                    "Name": "sp_SetAutoSAPasswordAndDisable",
                                    "Owner": "sys",
                                    "Object_type": "stored procedure"
                                },
                                {
                                    "Name": "sp_setdefaultdatatypemapping",
                                    "Owner": "sys",
                                    "Object_type": "stored procedure"
                                },
                                {
                                    "Name": "sp_setnetname",
                                    "Owner": "sys",
                                    "Object_type": "stored procedure"
                                },
                                {
                                    "Name": "sp_setOraclepackageversion",
                                    "Owner": "sys",
                                    "Object_type": "stored procedure"
                                },
                                {
                                    "Name": "sp_setreplfailovermode",
                                    "Owner": "sys",
                                    "Object_type": "stored procedure"
                                },
                                {
                                    "Name": "sp_setsubscriptionxactseqno",
                                    "Owner": "sys",
                                    "Object_type": "stored procedure"
                                },
                                {
                                    "Name": "sp_settriggerorder",
                                    "Owner": "sys",
                                    "Object_type": "stored procedure"
                                },
                                {
                                    "Name": "sp_showcolv",
                                    "Owner": "sys",
                                    "Object_type": "stored procedure"
                                },
                                {
                                    "Name": "sp_showlineage",
                                    "Owner": "sys",
                                    "Object_type": "stored procedure"
                                },
                                {
                                    "Name": "sp_showpendingchanges",
                                    "Owner": "sys",
                                    "Object_type": "stored procedure"
                                },
                                {
                                    "Name": "sp_showrowreplicainfo",
                                    "Owner": "sys",
                                    "Object_type": "stored procedure"
                                },
                                {
                                    "Name": "sp_spaceused",
                                    "Owner": "sys",
                                    "Object_type": "stored procedure"
                                },
                                {
                                    "Name": "sp_sparse_columns_100_rowset",
                                    "Owner": "sys",
                                    "Object_type": "stored procedure"
                                },
                                {
                                    "Name": "sp_special_columns",
                                    "Owner": "sys",
                                    "Object_type": "stored procedure"
                                },
                                {
                                    "Name": "sp_special_columns_100",
                                    "Owner": "sys",
                                    "Object_type": "stored procedure"
                                },
                                {
                                    "Name": "sp_special_columns_90",
                                    "Owner": "sys",
                                    "Object_type": "stored procedure"
                                },
                                {
                                    "Name": "sp_sproc_columns",
                                    "Owner": "sys",
                                    "Object_type": "stored procedure"
                                },
                                {
                                    "Name": "sp_sproc_columns_100",
                                    "Owner": "sys",
                                    "Object_type": "stored procedure"
                                },
                                {
                                    "Name": "sp_sproc_columns_90",
                                    "Owner": "sys",
                                    "Object_type": "stored procedure"
                                },
                                {
                                    "Name": "sp_sqlagent_add_job",
                                    "Owner": "sys",
                                    "Object_type": "stored procedure"
                                },
                                {
                                    "Name": "sp_sqlagent_add_jobstep",
                                    "Owner": "sys",
                                    "Object_type": "stored procedure"
                                },
                                {
                                    "Name": "sp_sqlagent_delete_job",
                                    "Owner": "sys",
                                    "Object_type": "stored procedure"
                                },
                                {
                                    "Name": "sp_sqlagent_help_jobstep",
                                    "Owner": "sys",
                                    "Object_type": "stored procedure"
                                },
                                {
                                    "Name": "sp_sqlagent_log_job_history",
                                    "Owner": "sys",
                                    "Object_type": "stored procedure"
                                },
                                {
                                    "Name": "sp_sqlagent_start_job",
                                    "Owner": "sys",
                                    "Object_type": "stored procedure"
                                },
                                {
                                    "Name": "sp_sqlagent_stop_job",
                                    "Owner": "sys",
                                    "Object_type": "stored procedure"
                                },
                                {
                                    "Name": "sp_sqlagent_verify_database_context",
                                    "Owner": "sys",
                                    "Object_type": "stored procedure"
                                },
                                {
                                    "Name": "sp_sqlagent_write_jobstep_log",
                                    "Owner": "sys",
                                    "Object_type": "stored procedure"
                                },
                                {
                                    "Name": "sp_sqlexec",
                                    "Owner": "sys",
                                    "Object_type": "stored procedure"
                                },
                                {
                                    "Name": "sp_sqljdbc_xa_install",
                                    "Owner": "sys",
                                    "Object_type": "stored procedure"
                                },
                                {
                                    "Name": "sp_sqljdbc_xa_uninstall",
                                    "Owner": "sys",
                                    "Object_type": "stored procedure"
                                },
                                {
                                    "Name": "sp_srvrolepermission",
                                    "Owner": "sys",
                                    "Object_type": "stored procedure"
                                },
                                {
                                    "Name": "sp_start_streaming_job",
                                    "Owner": "sys",
                                    "Object_type": "stored procedure"
                                },
                                {
                                    "Name": "sp_startmergepullsubscription_agent",
                                    "Owner": "sys",
                                    "Object_type": "stored procedure"
                                },
                                {
                                    "Name": "sp_startmergepushsubscription_agent",
                                    "Owner": "sys",
                                    "Object_type": "stored procedure"
                                },
                                {
                                    "Name": "sp_startpublication_snapshot",
                                    "Owner": "sys",
                                    "Object_type": "stored procedure"
                                },
                                {
                                    "Name": "sp_startpullsubscription_agent",
                                    "Owner": "sys",
                                    "Object_type": "stored procedure"
                                },
                                {
                                    "Name": "sp_startpushsubscription_agent",
                                    "Owner": "sys",
                                    "Object_type": "stored procedure"
                                },
                                {
                                    "Name": "sp_statistics",
                                    "Owner": "sys",
                                    "Object_type": "stored procedure"
                                },
                                {
                                    "Name": "sp_statistics_100",
                                    "Owner": "sys",
                                    "Object_type": "stored procedure"
                                },
                                {
                                    "Name": "sp_statistics_rowset",
                                    "Owner": "sys",
                                    "Object_type": "stored procedure"
                                },
                                {
                                    "Name": "sp_statistics_rowset2",
                                    "Owner": "sys",
                                    "Object_type": "stored procedure"
                                },
                                {
                                    "Name": "sp_stop_streaming_job",
                                    "Owner": "sys",
                                    "Object_type": "stored procedure"
                                },
                                {
                                    "Name": "sp_stopmergepullsubscription_agent",
                                    "Owner": "sys",
                                    "Object_type": "stored procedure"
                                },
                                {
                                    "Name": "sp_stopmergepushsubscription_agent",
                                    "Owner": "sys",
                                    "Object_type": "stored procedure"
                                },
                                {
                                    "Name": "sp_stoppublication_snapshot",
                                    "Owner": "sys",
                                    "Object_type": "stored procedure"
                                },
                                {
                                    "Name": "sp_stoppullsubscription_agent",
                                    "Owner": "sys",
                                    "Object_type": "stored procedure"
                                },
                                {
                                    "Name": "sp_stoppushsubscription_agent",
                                    "Owner": "sys",
                                    "Object_type": "stored procedure"
                                },
                                {
                                    "Name": "sp_stored_procedures",
                                    "Owner": "sys",
                                    "Object_type": "stored procedure"
                                },
                                {
                                    "Name": "sp_subscribe",
                                    "Owner": "sys",
                                    "Object_type": "stored procedure"
                                },
                                {
                                    "Name": "sp_subscription_cleanup",
                                    "Owner": "sys",
                                    "Object_type": "stored procedure"
                                },
                                {
                                    "Name": "sp_subscriptionsummary",
                                    "Owner": "sys",
                                    "Object_type": "stored procedure"
                                },
                                {
                                    "Name": "sp_synapse_link_enable_db",
                                    "Owner": "sys",
                                    "Object_type": "stored procedure"
                                },
                                {
                                    "Name": "sp_synapse_link_enable_table",
                                    "Owner": "sys",
                                    "Object_type": "stored procedure"
                                },
                                {
                                    "Name": "sp_syspolicy_execute_policy",
                                    "Owner": "sys",
                                    "Object_type": "stored procedure"
                                },
                                {
                                    "Name": "sp_syspolicy_subscribe_to_policy_category",
                                    "Owner": "sys",
                                    "Object_type": "stored procedure"
                                },
                                {
                                    "Name": "sp_syspolicy_unsubscribe_from_policy_category",
                                    "Owner": "sys",
                                    "Object_type": "stored procedure"
                                },
                                {
                                    "Name": "sp_syspolicy_update_ddl_trigger",
                                    "Owner": "sys",
                                    "Object_type": "stored procedure"
                                },
                                {
                                    "Name": "sp_syspolicy_update_event_notification",
                                    "Owner": "sys",
                                    "Object_type": "stored procedure"
                                },
                                {
                                    "Name": "sp_table_constraints_rowset",
                                    "Owner": "sys",
                                    "Object_type": "stored procedure"
                                },
                                {
                                    "Name": "sp_table_constraints_rowset2",
                                    "Owner": "sys",
                                    "Object_type": "stored procedure"
                                },
                                {
                                    "Name": "sp_table_privileges",
                                    "Owner": "sys",
                                    "Object_type": "stored procedure"
                                },
                                {
                                    "Name": "sp_table_privileges_ex",
                                    "Owner": "sys",
                                    "Object_type": "stored procedure"
                                },
                                {
                                    "Name": "sp_table_privileges_rowset",
                                    "Owner": "sys",
                                    "Object_type": "stored procedure"
                                },
                                {
                                    "Name": "sp_table_privileges_rowset_rmt",
                                    "Owner": "sys",
                                    "Object_type": "stored procedure"
                                },
                                {
                                    "Name": "sp_table_privileges_rowset2",
                                    "Owner": "sys",
                                    "Object_type": "stored procedure"
                                },
                                {
                                    "Name": "sp_table_statistics_rowset",
                                    "Owner": "sys",
                                    "Object_type": "stored procedure"
                                },
                                {
                                    "Name": "sp_table_statistics2_rowset",
                                    "Owner": "sys",
                                    "Object_type": "stored procedure"
                                },
                                {
                                    "Name": "sp_table_type_columns_100",
                                    "Owner": "sys",
                                    "Object_type": "stored procedure"
                                },
                                {
                                    "Name": "sp_table_type_columns_100_rowset",
                                    "Owner": "sys",
                                    "Object_type": "stored procedure"
                                },
                                {
                                    "Name": "sp_table_type_pkeys",
                                    "Owner": "sys",
                                    "Object_type": "stored procedure"
                                },
                                {
                                    "Name": "sp_table_type_primary_keys_rowset",
                                    "Owner": "sys",
                                    "Object_type": "stored procedure"
                                },
                                {
                                    "Name": "sp_table_types",
                                    "Owner": "sys",
                                    "Object_type": "stored procedure"
                                },
                                {
                                    "Name": "sp_table_types_rowset",
                                    "Owner": "sys",
                                    "Object_type": "stored procedure"
                                },
                                {
                                    "Name": "sp_table_validation",
                                    "Owner": "sys",
                                    "Object_type": "stored procedure"
                                },
                                {
                                    "Name": "sp_tablecollations",
                                    "Owner": "sys",
                                    "Object_type": "stored procedure"
                                },
                                {
                                    "Name": "sp_tablecollations_100",
                                    "Owner": "sys",
                                    "Object_type": "stored procedure"
                                },
                                {
                                    "Name": "sp_tablecollations_90",
                                    "Owner": "sys",
                                    "Object_type": "stored procedure"
                                },
                                {
                                    "Name": "sp_tableoption",
                                    "Owner": "sys",
                                    "Object_type": "stored procedure"
                                },
                                {
                                    "Name": "sp_tables",
                                    "Owner": "sys",
                                    "Object_type": "stored procedure"
                                },
                                {
                                    "Name": "sp_tables_ex",
                                    "Owner": "sys",
                                    "Object_type": "stored procedure"
                                },
                                {
                                    "Name": "sp_tables_info_90_rowset",
                                    "Owner": "sys",
                                    "Object_type": "stored procedure"
                                },
                                {
                                    "Name": "sp_tables_info_90_rowset_64",
                                    "Owner": "sys",
                                    "Object_type": "stored procedure"
                                },
                                {
                                    "Name": "sp_tables_info_90_rowset2",
                                    "Owner": "sys",
                                    "Object_type": "stored procedure"
                                },
                                {
                                    "Name": "sp_tables_info_90_rowset2_64",
                                    "Owner": "sys",
                                    "Object_type": "stored procedure"
                                },
                                {
                                    "Name": "sp_tables_info_rowset",
                                    "Owner": "sys",
                                    "Object_type": "stored procedure"
                                },
                                {
                                    "Name": "sp_tables_info_rowset_64",
                                    "Owner": "sys",
                                    "Object_type": "stored procedure"
                                },
                                {
                                    "Name": "sp_tables_info_rowset2",
                                    "Owner": "sys",
                                    "Object_type": "stored procedure"
                                },
                                {
                                    "Name": "sp_tables_info_rowset2_64",
                                    "Owner": "sys",
                                    "Object_type": "stored procedure"
                                },
                                {
                                    "Name": "sp_tables_rowset",
                                    "Owner": "sys",
                                    "Object_type": "stored procedure"
                                },
                                {
                                    "Name": "sp_tables_rowset_rmt",
                                    "Owner": "sys",
                                    "Object_type": "stored procedure"
                                },
                                {
                                    "Name": "sp_tables_rowset2",
                                    "Owner": "sys",
                                    "Object_type": "stored procedure"
                                },
                                {
                                    "Name": "sp_tableswc",
                                    "Owner": "sys",
                                    "Object_type": "stored procedure"
                                },
                                {
                                    "Name": "sp_trace_getdata",
                                    "Owner": "sys",
                                    "Object_type": "stored procedure"
                                },
                                {
                                    "Name": "sp_unbindefault",
                                    "Owner": "sys",
                                    "Object_type": "stored procedure"
                                },
                                {
                                    "Name": "sp_unbindrule",
                                    "Owner": "sys",
                                    "Object_type": "stored procedure"
                                },
                                {
                                    "Name": "sp_unregister_custom_scripting",
                                    "Owner": "sys",
                                    "Object_type": "stored procedure"
                                },
                                {
                                    "Name": "sp_unregistercustomresolver",
                                    "Owner": "sys",
                                    "Object_type": "stored procedure"
                                },
                                {
                                    "Name": "sp_unsetapprole",
                                    "Owner": "sys",
                                    "Object_type": "stored procedure"
                                },
                                {
                                    "Name": "sp_unsubscribe",
                                    "Owner": "sys",
                                    "Object_type": "stored procedure"
                                },
                                {
                                    "Name": "sp_update_agent_profile",
                                    "Owner": "sys",
                                    "Object_type": "stored procedure"
                                },
                                {
                                    "Name": "sp_updateextendedproperty",
                                    "Owner": "sys",
                                    "Object_type": "stored procedure"
                                },
                                {
                                    "Name": "sp_updatestats",
                                    "Owner": "sys",
                                    "Object_type": "stored procedure"
                                },
                                {
                                    "Name": "sp_upgrade_log_shipping",
                                    "Owner": "sys",
                                    "Object_type": "stored procedure"
                                },
                                {
                                    "Name": "sp_user_counter1",
                                    "Owner": "sys",
                                    "Object_type": "stored procedure"
                                },
                                {
                                    "Name": "sp_user_counter10",
                                    "Owner": "sys",
                                    "Object_type": "stored procedure"
                                },
                                {
                                    "Name": "sp_user_counter2",
                                    "Owner": "sys",
                                    "Object_type": "stored procedure"
                                },
                                {
                                    "Name": "sp_user_counter3",
                                    "Owner": "sys",
                                    "Object_type": "stored procedure"
                                },
                                {
                                    "Name": "sp_user_counter4",
                                    "Owner": "sys",
                                    "Object_type": "stored procedure"
                                },
                                {
                                    "Name": "sp_user_counter5",
                                    "Owner": "sys",
                                    "Object_type": "stored procedure"
                                },
                                {
                                    "Name": "sp_user_counter6",
                                    "Owner": "sys",
                                    "Object_type": "stored procedure"
                                },
                                {
                                    "Name": "sp_user_counter7",
                                    "Owner": "sys",
                                    "Object_type": "stored procedure"
                                },
                                {
                                    "Name": "sp_user_counter8",
                                    "Owner": "sys",
                                    "Object_type": "stored procedure"
                                },
                                {
                                    "Name": "sp_user_counter9",
                                    "Owner": "sys",
                                    "Object_type": "stored procedure"
                                },
                                {
                                    "Name": "sp_usertypes_rowset",
                                    "Owner": "sys",
                                    "Object_type": "stored procedure"
                                },
                                {
                                    "Name": "sp_usertypes_rowset_rmt",
                                    "Owner": "sys",
                                    "Object_type": "stored procedure"
                                },
                                {
                                    "Name": "sp_usertypes_rowset2",
                                    "Owner": "sys",
                                    "Object_type": "stored procedure"
                                },
                                {
                                    "Name": "sp_validate_redirected_publisher",
                                    "Owner": "sys",
                                    "Object_type": "stored procedure"
                                },
                                {
                                    "Name": "sp_validate_replica_hosts_as_publishers",
                                    "Owner": "sys",
                                    "Object_type": "stored procedure"
                                },
                                {
                                    "Name": "sp_validatecache",
                                    "Owner": "sys",
                                    "Object_type": "stored procedure"
                                },
                                {
                                    "Name": "sp_validatelogins",
                                    "Owner": "sys",
                                    "Object_type": "stored procedure"
                                },
                                {
                                    "Name": "sp_validatemergepublication",
                                    "Owner": "sys",
                                    "Object_type": "stored procedure"
                                },
                                {
                                    "Name": "sp_validatemergepullsubscription",
                                    "Owner": "sys",
                                    "Object_type": "stored procedure"
                                },
                                {
                                    "Name": "sp_validatemergesubscription",
                                    "Owner": "sys",
                                    "Object_type": "stored procedure"
                                },
                                {
                                    "Name": "sp_validlang",
                                    "Owner": "sys",
                                    "Object_type": "stored procedure"
                                },
                                {
                                    "Name": "sp_validname",
                                    "Owner": "sys",
                                    "Object_type": "stored procedure"
                                },
                                {
                                    "Name": "sp_verifypublisher",
                                    "Owner": "sys",
                                    "Object_type": "stored procedure"
                                },
                                {
                                    "Name": "sp_views_rowset",
                                    "Owner": "sys",
                                    "Object_type": "stored procedure"
                                },
                                {
                                    "Name": "sp_views_rowset2",
                                    "Owner": "sys",
                                    "Object_type": "stored procedure"
                                },
                                {
                                    "Name": "sp_vupgrade_mergeobjects",
                                    "Owner": "sys",
                                    "Object_type": "stored procedure"
                                },
                                {
                                    "Name": "sp_vupgrade_mergetables",
                                    "Owner": "sys",
                                    "Object_type": "stored procedure"
                                },
                                {
                                    "Name": "sp_vupgrade_mergetables_v2",
                                    "Owner": "sys",
                                    "Object_type": "stored procedure"
                                },
                                {
                                    "Name": "sp_vupgrade_replication",
                                    "Owner": "sys",
                                    "Object_type": "stored procedure"
                                },
                                {
                                    "Name": "sp_vupgrade_replsecurity_metadata",
                                    "Owner": "sys",
                                    "Object_type": "stored procedure"
                                },
                                {
                                    "Name": "sp_who",
                                    "Owner": "sys",
                                    "Object_type": "stored procedure"
                                },
                                {
                                    "Name": "sp_who2",
                                    "Owner": "sys",
                                    "Object_type": "stored procedure"
                                },
                                {
                                    "Name": "sp_xml_schema_rowset",
                                    "Owner": "sys",
                                    "Object_type": "stored procedure"
                                },
                                {
                                    "Name": "sp_xml_schema_rowset2",
                                    "Owner": "sys",
                                    "Object_type": "stored procedure"
                                },
                                {
                                    "Name": "sp_xtp_bind_db_resource_pool",
                                    "Owner": "sys",
                                    "Object_type": "stored procedure"
                                },
                                {
                                    "Name": "sp_xtp_checkpoint_force_garbage_collection",
                                    "Owner": "sys",
                                    "Object_type": "stored procedure"
                                },
                                {
                                    "Name": "sp_xtp_control_proc_exec_stats",
                                    "Owner": "sys",
                                    "Object_type": "stored procedure"
                                },
                                {
                                    "Name": "sp_xtp_control_query_exec_stats",
                                    "Owner": "sys",
                                    "Object_type": "stored procedure"
                                },
                                {
                                    "Name": "sp_xtp_flush_temporal_history",
                                    "Owner": "sys",
                                    "Object_type": "stored procedure"
                                },
                                {
                                    "Name": "sp_xtp_kill_active_transactions",
                                    "Owner": "sys",
                                    "Object_type": "stored procedure"
                                },
                                {
                                    "Name": "sp_xtp_merge_checkpoint_files",
                                    "Owner": "sys",
                                    "Object_type": "stored procedure"
                                },
                                {
                                    "Name": "sp_xtp_objects_present",
                                    "Owner": "sys",
                                    "Object_type": "stored procedure"
                                },
                                {
                                    "Name": "sp_xtp_set_memory_quota",
                                    "Owner": "sys",
                                    "Object_type": "stored procedure"
                                },
                                {
                                    "Name": "sp_xtp_slo_can_downgrade",
                                    "Owner": "sys",
                                    "Object_type": "stored procedure"
                                },
                                {
                                    "Name": "sp_xtp_slo_downgrade_finished",
                                    "Owner": "sys",
                                    "Object_type": "stored procedure"
                                },
                                {
                                    "Name": "sp_xtp_slo_prepare_to_downgrade",
                                    "Owner": "sys",
                                    "Object_type": "stored procedure"
                                },
                                {
                                    "Name": "sp_xtp_unbind_db_resource_pool",
                                    "Owner": "sys",
                                    "Object_type": "stored procedure"
                                },
                                {
                                    "Name": "xp_grantlogin",
                                    "Owner": "sys",
                                    "Object_type": "stored procedure"
                                },
                                {
                                    "Name": "xp_logininfo",
                                    "Owner": "sys",
                                    "Object_type": "stored procedure"
                                },
                                {
                                    "Name": "xp_repl_convert_encrypt_sysadmin_wrapper",
                                    "Owner": "sys",
                                    "Object_type": "stored procedure"
                                },
                                {
                                    "Name": "xp_revokelogin",
                                    "Owner": "sys",
                                    "Object_type": "stored procedure"
                                },
                                {
                                    "Name": "fn_cColvEntries_80",
                                    "Owner": "sys",
                                    "Object_type": "scalar function"
                                },
                                {
                                    "Name": "fn_cdc_check_parameters",
                                    "Owner": "sys",
                                    "Object_type": "scalar function"
                                },
                                {
                                    "Name": "fn_cdc_get_column_ordinal",
                                    "Owner": "sys",
                                    "Object_type": "scalar function"
                                },
                                {
                                    "Name": "fn_cdc_get_max_lsn",
                                    "Owner": "sys",
                                    "Object_type": "scalar function"
                                },
                                {
                                    "Name": "fn_cdc_get_min_lsn",
                                    "Owner": "sys",
                                    "Object_type": "scalar function"
                                },
                                {
                                    "Name": "fn_cdc_has_column_changed",
                                    "Owner": "sys",
                                    "Object_type": "scalar function"
                                },
                                {
                                    "Name": "fn_cdc_hexstrtobin",
                                    "Owner": "sys",
                                    "Object_type": "scalar function"
                                },
                                {
                                    "Name": "fn_cdc_is_ddl_handling_enabled",
                                    "Owner": "sys",
                                    "Object_type": "scalar function"
                                },
                                {
                                    "Name": "fn_cdc_map_lsn_to_time",
                                    "Owner": "sys",
                                    "Object_type": "scalar function"
                                },
                                {
                                    "Name": "fn_cdc_map_time_to_lsn",
                                    "Owner": "sys",
                                    "Object_type": "scalar function"
                                },
                                {
                                    "Name": "fn_fIsColTracked",
                                    "Owner": "sys",
                                    "Object_type": "scalar function"
                                },
                                {
                                    "Name": "fn_GetCurrentPrincipal",
                                    "Owner": "sys",
                                    "Object_type": "scalar function"
                                },
                                {
                                    "Name": "fn_getproviderstring",
                                    "Owner": "sys",
                                    "Object_type": "scalar function"
                                },
                                {
                                    "Name": "fn_GetRowsetIdFromRowDump",
                                    "Owner": "sys",
                                    "Object_type": "scalar function"
                                },
                                {
                                    "Name": "fn_getserverportfromproviderstring",
                                    "Owner": "sys",
                                    "Object_type": "scalar function"
                                },
                                {
                                    "Name": "fn_hadr_backup_is_preferred_replica",
                                    "Owner": "sys",
                                    "Object_type": "scalar function"
                                },
                                {
                                    "Name": "fn_hadr_is_primary_replica",
                                    "Owner": "sys",
                                    "Object_type": "scalar function"
                                },
                                {
                                    "Name": "fn_hadr_is_same_replica",
                                    "Owner": "sys",
                                    "Object_type": "scalar function"
                                },
                                {
                                    "Name": "fn_IsBitSetInBitmask",
                                    "Owner": "sys",
                                    "Object_type": "scalar function"
                                },
                                {
                                    "Name": "fn_isrolemember",
                                    "Owner": "sys",
                                    "Object_type": "scalar function"
                                },
                                {
                                    "Name": "fn_MapSchemaType",
                                    "Owner": "sys",
                                    "Object_type": "scalar function"
                                },
                                {
                                    "Name": "fn_MSdayasnumber",
                                    "Owner": "sys",
                                    "Object_type": "scalar function"
                                },
                                {
                                    "Name": "fn_MSgeneration_downloadonly",
                                    "Owner": "sys",
                                    "Object_type": "scalar function"
                                },
                                {
                                    "Name": "fn_MSget_dynamic_filter_login",
                                    "Owner": "sys",
                                    "Object_type": "scalar function"
                                },
                                {
                                    "Name": "fn_MSorbitmaps",
                                    "Owner": "sys",
                                    "Object_type": "scalar function"
                                },
                                {
                                    "Name": "fn_MSrepl_getsrvidfromdistdb",
                                    "Owner": "sys",
                                    "Object_type": "scalar function"
                                },
                                {
                                    "Name": "fn_MSrepl_map_resolver_clsid",
                                    "Owner": "sys",
                                    "Object_type": "scalar function"
                                },
                                {
                                    "Name": "fn_MStestbit",
                                    "Owner": "sys",
                                    "Object_type": "scalar function"
                                },
                                {
                                    "Name": "fn_MSvector_downloadonly",
                                    "Owner": "sys",
                                    "Object_type": "scalar function"
                                },
                                {
                                    "Name": "fn_numberOf1InBinaryAfterLoc",
                                    "Owner": "sys",
                                    "Object_type": "scalar function"
                                },
                                {
                                    "Name": "fn_numberOf1InVarBinary",
                                    "Owner": "sys",
                                    "Object_type": "scalar function"
                                },
                                {
                                    "Name": "fn_PhysLocFormatter",
                                    "Owner": "sys",
                                    "Object_type": "scalar function"
                                },
                                {
                                    "Name": "fn_repladjustcolumnmap",
                                    "Owner": "sys",
                                    "Object_type": "scalar function"
                                },
                                {
                                    "Name": "fn_repldecryptver4",
                                    "Owner": "sys",
                                    "Object_type": "scalar function"
                                },
                                {
                                    "Name": "fn_replformatdatetime",
                                    "Owner": "sys",
                                    "Object_type": "scalar function"
                                },
                                {
                                    "Name": "fn_replgetparsedddlcmd",
                                    "Owner": "sys",
                                    "Object_type": "scalar function"
                                },
                                {
                                    "Name": "fn_replp2pversiontotranid",
                                    "Owner": "sys",
                                    "Object_type": "scalar function"
                                },
                                {
                                    "Name": "fn_replreplacesinglequote",
                                    "Owner": "sys",
                                    "Object_type": "scalar function"
                                },
                                {
                                    "Name": "fn_replreplacesinglequoteplusprotectstring",
                                    "Owner": "sys",
                                    "Object_type": "scalar function"
                                },
                                {
                                    "Name": "fn_repluniquename",
                                    "Owner": "sys",
                                    "Object_type": "scalar function"
                                },
                                {
                                    "Name": "fn_replvarbintoint",
                                    "Owner": "sys",
                                    "Object_type": "scalar function"
                                },
                                {
                                    "Name": "fn_sqlvarbasetostr",
                                    "Owner": "sys",
                                    "Object_type": "scalar function"
                                },
                                {
                                    "Name": "fn_varbintohexstr",
                                    "Owner": "sys",
                                    "Object_type": "scalar function"
                                },
                                {
                                    "Name": "fn_varbintohexsubstring",
                                    "Owner": "sys",
                                    "Object_type": "scalar function"
                                },
                                {
                                    "Name": "fn_yukonsecuritymodelrequired",
                                    "Owner": "sys",
                                    "Object_type": "scalar function"
                                },
                                {
                                    "Name": "backup_metadata_store",
                                    "Owner": "sys",
                                    "Object_type": "internal table"
                                },
                                {
                                    "Name": "db_ledger_blocks",
                                    "Owner": "sys",
                                    "Object_type": "internal table"
                                },
                                {
                                    "Name": "db_ledger_transactions",
                                    "Owner": "sys",
                                    "Object_type": "internal table"
                                },
                                {
                                    "Name": "filestream_tombstone_2073058421",
                                    "Owner": "sys",
                                    "Object_type": "internal table"
                                },
                                {
                                    "Name": "filetable_updates_2105058535",
                                    "Owner": "sys",
                                    "Object_type": "internal table"
                                },
                                {
                                    "Name": "persistent_version_store",
                                    "Owner": "sys",
                                    "Object_type": "internal table"
                                },
                                {
                                    "Name": "persistent_version_store_long_term",
                                    "Owner": "sys",
                                    "Object_type": "internal table"
                                },
                                {
                                    "Name": "plan_persist_context_settings",
                                    "Owner": "sys",
                                    "Object_type": "internal table"
                                },
                                {
                                    "Name": "plan_persist_plan",
                                    "Owner": "sys",
                                    "Object_type": "internal table"
                                },
                                {
                                    "Name": "plan_persist_query",
                                    "Owner": "sys",
                                    "Object_type": "internal table"
                                },
                                {
                                    "Name": "plan_persist_query_hints",
                                    "Owner": "sys",
                                    "Object_type": "internal table"
                                },
                                {
                                    "Name": "plan_persist_query_template_parameterization",
                                    "Owner": "sys",
                                    "Object_type": "internal table"
                                },
                                {
                                    "Name": "plan_persist_query_text",
                                    "Owner": "sys",
                                    "Object_type": "internal table"
                                },
                                {
                                    "Name": "plan_persist_runtime_stats",
                                    "Owner": "sys",
                                    "Object_type": "internal table"
                                },
                                {
                                    "Name": "plan_persist_runtime_stats_interval",
                                    "Owner": "sys",
                                    "Object_type": "internal table"
                                },
                                {
                                    "Name": "plan_persist_wait_stats",
                                    "Owner": "sys",
                                    "Object_type": "internal table"
                                },
                                {
                                    "Name": "sqlagent_job_history",
                                    "Owner": "sys",
                                    "Object_type": "internal table"
                                },
                                {
                                    "Name": "sqlagent_jobs",
                                    "Owner": "sys",
                                    "Object_type": "internal table"
                                },
                                {
                                    "Name": "sqlagent_jobsteps",
                                    "Owner": "sys",
                                    "Object_type": "internal table"
                                },
                                {
                                    "Name": "sqlagent_jobsteps_logs",
                                    "Owner": "sys",
                                    "Object_type": "internal table"
                                },
                                {
                                    "Name": "syscommittab",
                                    "Owner": "sys",
                                    "Object_type": "internal table"
                                },
                                {
                                    "Name": "wpr_bucket_table",
                                    "Owner": "sys",
                                    "Object_type": "internal table"
                                },
                                {
                                    "Name": "dm_cryptographic_provider_algorithms",
                                    "Owner": "sys",
                                    "Object_type": "inline function"
                                },
                                {
                                    "Name": "dm_cryptographic_provider_keys",
                                    "Owner": "sys",
                                    "Object_type": "inline function"
                                },
                                {
                                    "Name": "dm_cryptographic_provider_sessions",
                                    "Owner": "sys",
                                    "Object_type": "inline function"
                                },
                                {
                                    "Name": "dm_db_database_page_allocations",
                                    "Owner": "sys",
                                    "Object_type": "inline function"
                                },
                                {
                                    "Name": "dm_db_incremental_stats_properties",
                                    "Owner": "sys",
                                    "Object_type": "inline function"
                                },
                                {
                                    "Name": "dm_db_index_operational_stats",
                                    "Owner": "sys",
                                    "Object_type": "inline function"
                                },
                                {
                                    "Name": "dm_db_index_physical_stats",
                                    "Owner": "sys",
                                    "Object_type": "inline function"
                                },
                                {
                                    "Name": "dm_db_log_info",
                                    "Owner": "sys",
                                    "Object_type": "inline function"
                                },
                                {
                                    "Name": "dm_db_log_stats",
                                    "Owner": "sys",
                                    "Object_type": "inline function"
                                },
                                {
                                    "Name": "dm_db_missing_index_columns",
                                    "Owner": "sys",
                                    "Object_type": "inline function"
                                },
                                {
                                    "Name": "dm_db_objects_disabled_on_compatibility_level_change",
                                    "Owner": "sys",
                                    "Object_type": "inline function"
                                },
                                {
                                    "Name": "dm_db_page_info",
                                    "Owner": "sys",
                                    "Object_type": "inline function"
                                },
                                {
                                    "Name": "dm_db_stats_histogram",
                                    "Owner": "sys",
                                    "Object_type": "inline function"
                                },
                                {
                                    "Name": "dm_db_stats_properties",
                                    "Owner": "sys",
                                    "Object_type": "inline function"
                                },
                                {
                                    "Name": "dm_db_stats_properties_internal",
                                    "Owner": "sys",
                                    "Object_type": "inline function"
                                },
                                {
                                    "Name": "dm_exec_cached_plan_dependent_objects",
                                    "Owner": "sys",
                                    "Object_type": "inline function"
                                },
                                {
                                    "Name": "dm_exec_cursors",
                                    "Owner": "sys",
                                    "Object_type": "inline function"
                                },
                                {
                                    "Name": "dm_exec_describe_first_result_set",
                                    "Owner": "sys",
                                    "Object_type": "inline function"
                                },
                                {
                                    "Name": "dm_exec_describe_first_result_set_for_object",
                                    "Owner": "sys",
                                    "Object_type": "inline function"
                                },
                                {
                                    "Name": "dm_exec_input_buffer",
                                    "Owner": "sys",
                                    "Object_type": "inline function"
                                },
                                {
                                    "Name": "dm_exec_plan_attributes",
                                    "Owner": "sys",
                                    "Object_type": "inline function"
                                },
                                {
                                    "Name": "dm_exec_query_plan",
                                    "Owner": "sys",
                                    "Object_type": "inline function"
                                },
                                {
                                    "Name": "dm_exec_query_plan_stats",
                                    "Owner": "sys",
                                    "Object_type": "inline function"
                                },
                                {
                                    "Name": "dm_exec_query_statistics_xml",
                                    "Owner": "sys",
                                    "Object_type": "inline function"
                                },
                                {
                                    "Name": "dm_exec_sql_text",
                                    "Owner": "sys",
                                    "Object_type": "inline function"
                                },
                                {
                                    "Name": "dm_exec_text_query_plan",
                                    "Owner": "sys",
                                    "Object_type": "inline function"
                                },
                                {
                                    "Name": "dm_exec_xml_handles",
                                    "Owner": "sys",
                                    "Object_type": "inline function"
                                },
                                {
                                    "Name": "dm_fts_index_keywords",
                                    "Owner": "sys",
                                    "Object_type": "inline function"
                                },
                                {
                                    "Name": "dm_fts_index_keywords_by_document",
                                    "Owner": "sys",
                                    "Object_type": "inline function"
                                },
                                {
                                    "Name": "dm_fts_index_keywords_by_property",
                                    "Owner": "sys",
                                    "Object_type": "inline function"
                                },
                                {
                                    "Name": "dm_fts_index_keywords_position_by_document",
                                    "Owner": "sys",
                                    "Object_type": "inline function"
                                },
                                {
                                    "Name": "dm_fts_parser",
                                    "Owner": "sys",
                                    "Object_type": "inline function"
                                },
                                {
                                    "Name": "dm_io_virtual_file_stats",
                                    "Owner": "sys",
                                    "Object_type": "inline function"
                                },
                                {
                                    "Name": "dm_logconsumer_cachebufferrefs",
                                    "Owner": "sys",
                                    "Object_type": "inline function"
                                },
                                {
                                    "Name": "dm_logconsumer_privatecachebuffers",
                                    "Owner": "sys",
                                    "Object_type": "inline function"
                                },
                                {
                                    "Name": "dm_logpool_consumers",
                                    "Owner": "sys",
                                    "Object_type": "inline function"
                                },
                                {
                                    "Name": "dm_logpool_sharedcachebuffers",
                                    "Owner": "sys",
                                    "Object_type": "inline function"
                                },
                                {
                                    "Name": "dm_logpoolmgr_freepools",
                                    "Owner": "sys",
                                    "Object_type": "inline function"
                                },
                                {
                                    "Name": "dm_logpoolmgr_respoolsize",
                                    "Owner": "sys",
                                    "Object_type": "inline function"
                                },
                                {
                                    "Name": "dm_logpoolmgr_stats",
                                    "Owner": "sys",
                                    "Object_type": "inline function"
                                },
                                {
                                    "Name": "dm_os_enumerate_filesystem",
                                    "Owner": "sys",
                                    "Object_type": "inline function"
                                },
                                {
                                    "Name": "dm_os_file_exists",
                                    "Owner": "sys",
                                    "Object_type": "inline function"
                                },
                                {
                                    "Name": "dm_os_volume_stats",
                                    "Owner": "sys",
                                    "Object_type": "inline function"
                                },
                                {
                                    "Name": "dm_sql_referenced_entities",
                                    "Owner": "sys",
                                    "Object_type": "inline function"
                                },
                                {
                                    "Name": "dm_sql_referencing_entities",
                                    "Owner": "sys",
                                    "Object_type": "inline function"
                                },
                                {
                                    "Name": "dm_xcs_enumerate_blobdirectory",
                                    "Owner": "sys",
                                    "Object_type": "inline function"
                                },
                                {
                                    "Name": "fn_builtin_permissions",
                                    "Owner": "sys",
                                    "Object_type": "inline function"
                                },
                                {
                                    "Name": "fn_check_object_signatures",
                                    "Owner": "sys",
                                    "Object_type": "inline function"
                                },
                                {
                                    "Name": "fn_column_store_row_groups",
                                    "Owner": "sys",
                                    "Object_type": "inline function"
                                },
                                {
                                    "Name": "fn_db_backup_file_snapshots",
                                    "Owner": "sys",
                                    "Object_type": "inline function"
                                },
                                {
                                    "Name": "fn_dblog",
                                    "Owner": "sys",
                                    "Object_type": "inline function"
                                },
                                {
                                    "Name": "fn_dblog_xtp",
                                    "Owner": "sys",
                                    "Object_type": "inline function"
                                },
                                {
                                    "Name": "fn_dbslog",
                                    "Owner": "sys",
                                    "Object_type": "inline function"
                                },
                                {
                                    "Name": "fn_dump_dblog",
                                    "Owner": "sys",
                                    "Object_type": "inline function"
                                },
                                {
                                    "Name": "fn_dump_dblog_xtp",
                                    "Owner": "sys",
                                    "Object_type": "inline function"
                                },
                                {
                                    "Name": "fn_full_dblog",
                                    "Owner": "sys",
                                    "Object_type": "inline function"
                                },
                                {
                                    "Name": "fn_get_audit_file",
                                    "Owner": "sys",
                                    "Object_type": "inline function"
                                },
                                {
                                    "Name": "fn_get_sql",
                                    "Owner": "sys",
                                    "Object_type": "inline function"
                                },
                                {
                                    "Name": "fn_hadr_distributed_ag_database_replica",
                                    "Owner": "sys",
                                    "Object_type": "inline function"
                                },
                                {
                                    "Name": "fn_hadr_distributed_ag_replica",
                                    "Owner": "sys",
                                    "Object_type": "inline function"
                                },
                                {
                                    "Name": "fn_helpcollations",
                                    "Owner": "sys",
                                    "Object_type": "inline function"
                                },
                                {
                                    "Name": "fn_MSxe_read_event_stream",
                                    "Owner": "sys",
                                    "Object_type": "inline function"
                                },
                                {
                                    "Name": "fn_stmt_sql_handle_from_sql_stmt",
                                    "Owner": "sys",
                                    "Object_type": "inline function"
                                },
                                {
                                    "Name": "fn_trace_gettable",
                                    "Owner": "sys",
                                    "Object_type": "inline function"
                                },
                                {
                                    "Name": "fn_translate_permissions",
                                    "Owner": "sys",
                                    "Object_type": "inline function"
                                },
                                {
                                    "Name": "fn_validate_plan_guide",
                                    "Owner": "sys",
                                    "Object_type": "inline function"
                                },
                                {
                                    "Name": "fn_xcs_get_file_rowcount",
                                    "Owner": "sys",
                                    "Object_type": "inline function"
                                },
                                {
                                    "Name": "fn_xe_file_target_read_file",
                                    "Owner": "sys",
                                    "Object_type": "inline function"
                                },
                                {
                                    "Name": "sp_add_trusted_assembly",
                                    "Owner": "sys",
                                    "Object_type": "extended stored proc"
                                },
                                {
                                    "Name": "sp_AddFunctionalUnitToComponent",
                                    "Owner": "sys",
                                    "Object_type": "extended stored proc"
                                },
                                {
                                    "Name": "sp_alter_nt_job_mem_configs",
                                    "Owner": "sys",
                                    "Object_type": "extended stored proc"
                                },
                                {
                                    "Name": "sp_audit_write",
                                    "Owner": "sys",
                                    "Object_type": "extended stored proc"
                                },
                                {
                                    "Name": "sp_autoindex_cancel_dta",
                                    "Owner": "sys",
                                    "Object_type": "extended stored proc"
                                },
                                {
                                    "Name": "sp_autoindex_invoke_dta",
                                    "Owner": "sys",
                                    "Object_type": "extended stored proc"
                                },
                                {
                                    "Name": "sp_availability_group_command_internal",
                                    "Owner": "sys",
                                    "Object_type": "extended stored proc"
                                },
                                {
                                    "Name": "sp_begin_parallel_nested_tran",
                                    "Owner": "sys",
                                    "Object_type": "extended stored proc"
                                },
                                {
                                    "Name": "sp_bindsession",
                                    "Owner": "sys",
                                    "Object_type": "extended stored proc"
                                },
                                {
                                    "Name": "sp_build_histogram",
                                    "Owner": "sys",
                                    "Object_type": "extended stored proc"
                                },
                                {
                                    "Name": "sp_change_tracking_waitforchanges",
                                    "Owner": "sys",
                                    "Object_type": "extended stored proc"
                                },
                                {
                                    "Name": "sp_cleanup_all_openrowset_statistics",
                                    "Owner": "sys",
                                    "Object_type": "extended stored proc"
                                },
                                {
                                    "Name": "sp_cleanup_all_user_data_in_master",
                                    "Owner": "sys",
                                    "Object_type": "extended stored proc"
                                },
                                {
                                    "Name": "sp_cloud_update_blob_tier",
                                    "Owner": "sys",
                                    "Object_type": "extended stored proc"
                                },
                                {
                                    "Name": "sp_collect_backend_plan",
                                    "Owner": "sys",
                                    "Object_type": "extended stored proc"
                                },
                                {
                                    "Name": "sp_commit_parallel_nested_tran",
                                    "Owner": "sys",
                                    "Object_type": "extended stored proc"
                                },
                                {
                                    "Name": "sp_configure_automatic_tuning",
                                    "Owner": "sys",
                                    "Object_type": "extended stored proc"
                                },
                                {
                                    "Name": "sp_control_dbmasterkey_password",
                                    "Owner": "sys",
                                    "Object_type": "extended stored proc"
                                },
                                {
                                    "Name": "sp_create_asymmetric_key_from_external_key",
                                    "Owner": "sys",
                                    "Object_type": "extended stored proc"
                                },
                                {
                                    "Name": "sp_create_format_type",
                                    "Owner": "sys",
                                    "Object_type": "extended stored proc"
                                },
                                {
                                    "Name": "sp_create_openrowset_statistics",
                                    "Owner": "sys",
                                    "Object_type": "extended stored proc"
                                },
                                {
                                    "Name": "sp_createorphan",
                                    "Owner": "sys",
                                    "Object_type": "extended stored proc"
                                },
                                {
                                    "Name": "sp_cursor",
                                    "Owner": "sys",
                                    "Object_type": "extended stored proc"
                                },
                                {
                                    "Name": "sp_cursorclose",
                                    "Owner": "sys",
                                    "Object_type": "extended stored proc"
                                },
                                {
                                    "Name": "sp_cursorexecute",
                                    "Owner": "sys",
                                    "Object_type": "extended stored proc"
                                },
                                {
                                    "Name": "sp_cursorfetch",
                                    "Owner": "sys",
                                    "Object_type": "extended stored proc"
                                },
                                {
                                    "Name": "sp_cursoropen",
                                    "Owner": "sys",
                                    "Object_type": "extended stored proc"
                                },
                                {
                                    "Name": "sp_cursoroption",
                                    "Owner": "sys",
                                    "Object_type": "extended stored proc"
                                },
                                {
                                    "Name": "sp_cursorprepare",
                                    "Owner": "sys",
                                    "Object_type": "extended stored proc"
                                },
                                {
                                    "Name": "sp_cursorprepexec",
                                    "Owner": "sys",
                                    "Object_type": "extended stored proc"
                                },
                                {
                                    "Name": "sp_cursorunprepare",
                                    "Owner": "sys",
                                    "Object_type": "extended stored proc"
                                },
                                {
                                    "Name": "sp_delete_backup_file_snapshot",
                                    "Owner": "sys",
                                    "Object_type": "extended stored proc"
                                },
                                {
                                    "Name": "sp_delete_http_namespace_reservation",
                                    "Owner": "sys",
                                    "Object_type": "extended stored proc"
                                },
                                {
                                    "Name": "sp_describe_first_result_set",
                                    "Owner": "sys",
                                    "Object_type": "extended stored proc"
                                },
                                {
                                    "Name": "sp_describe_parameter_encryption",
                                    "Owner": "sys",
                                    "Object_type": "extended stored proc"
                                },
                                {
                                    "Name": "sp_describe_undeclared_parameters",
                                    "Owner": "sys",
                                    "Object_type": "extended stored proc"
                                },
                                {
                                    "Name": "sp_diagnostic_showplan_log_dbid",
                                    "Owner": "sys",
                                    "Object_type": "extended stored proc"
                                },
                                {
                                    "Name": "sp_drop_format_type",
                                    "Owner": "sys",
                                    "Object_type": "extended stored proc"
                                },
                                {
                                    "Name": "sp_drop_openrowset_statistics",
                                    "Owner": "sys",
                                    "Object_type": "extended stored proc"
                                },
                                {
                                    "Name": "sp_drop_trusted_assembly",
                                    "Owner": "sys",
                                    "Object_type": "extended stored proc"
                                },
                                {
                                    "Name": "sp_droporphans",
                                    "Owner": "sys",
                                    "Object_type": "extended stored proc"
                                },
                                {
                                    "Name": "sp_enable_sql_debug",
                                    "Owner": "sys",
                                    "Object_type": "extended stored proc"
                                },
                                {
                                    "Name": "sp_enclave_send_keys",
                                    "Owner": "sys",
                                    "Object_type": "extended stored proc"
                                },
                                {
                                    "Name": "sp_execute",
                                    "Owner": "sys",
                                    "Object_type": "extended stored proc"
                                },
                                {
                                    "Name": "sp_execute_external_script",
                                    "Owner": "sys",
                                    "Object_type": "extended stored proc"
                                },
                                {
                                    "Name": "sp_execute_remote",
                                    "Owner": "sys",
                                    "Object_type": "extended stored proc"
                                },
                                {
                                    "Name": "sp_executesql",
                                    "Owner": "sys",
                                    "Object_type": "extended stored proc"
                                },
                                {
                                    "Name": "sp_executesql_metrics",
                                    "Owner": "sys",
                                    "Object_type": "extended stored proc"
                                },
                                {
                                    "Name": "sp_fido_build_basic_histogram",
                                    "Owner": "sys",
                                    "Object_type": "extended stored proc"
                                },
                                {
                                    "Name": "sp_fido_build_histogram",
                                    "Owner": "sys",
                                    "Object_type": "extended stored proc"
                                },
                                {
                                    "Name": "sp_fido_get_glm_server_update_lock",
                                    "Owner": "sys",
                                    "Object_type": "extended stored proc"
                                },
                                {
                                    "Name": "sp_fido_glms_execute_command",
                                    "Owner": "sys",
                                    "Object_type": "extended stored proc"
                                },
                                {
                                    "Name": "sp_fido_glms_set_storage_containers",
                                    "Owner": "sys",
                                    "Object_type": "extended stored proc"
                                },
                                {
                                    "Name": "sp_fido_glms_unregister_appname",
                                    "Owner": "sys",
                                    "Object_type": "extended stored proc"
                                },
                                {
                                    "Name": "sp_fido_indexstore_update_topology",
                                    "Owner": "sys",
                                    "Object_type": "extended stored proc"
                                },
                                {
                                    "Name": "sp_fido_remove_retention_policy",
                                    "Owner": "sys",
                                    "Object_type": "extended stored proc"
                                },
                                {
                                    "Name": "sp_fido_set_ddl_step",
                                    "Owner": "sys",
                                    "Object_type": "extended stored proc"
                                },
                                {
                                    "Name": "sp_fido_set_retention_policy",
                                    "Owner": "sys",
                                    "Object_type": "extended stored proc"
                                },
                                {
                                    "Name": "sp_fido_set_tran",
                                    "Owner": "sys",
                                    "Object_type": "extended stored proc"
                                },
                                {
                                    "Name": "sp_fido_setup_endpoints",
                                    "Owner": "sys",
                                    "Object_type": "extended stored proc"
                                },
                                {
                                    "Name": "sp_fido_setup_glms",
                                    "Owner": "sys",
                                    "Object_type": "extended stored proc"
                                },
                                {
                                    "Name": "sp_fido_tran_abort",
                                    "Owner": "sys",
                                    "Object_type": "extended stored proc"
                                },
                                {
                                    "Name": "sp_fido_tran_begin",
                                    "Owner": "sys",
                                    "Object_type": "extended stored proc"
                                },
                                {
                                    "Name": "sp_fido_tran_commit",
                                    "Owner": "sys",
                                    "Object_type": "extended stored proc"
                                },
                                {
                                    "Name": "sp_fido_tran_get_state",
                                    "Owner": "sys",
                                    "Object_type": "extended stored proc"
                                },
                                {
                                    "Name": "sp_fido_tran_set_token",
                                    "Owner": "sys",
                                    "Object_type": "extended stored proc"
                                },
                                {
                                    "Name": "sp_flush_log",
                                    "Owner": "sys",
                                    "Object_type": "extended stored proc"
                                },
                                {
                                    "Name": "sp_force_slog_truncation",
                                    "Owner": "sys",
                                    "Object_type": "extended stored proc"
                                },
                                {
                                    "Name": "sp_fulltext_getdata",
                                    "Owner": "sys",
                                    "Object_type": "extended stored proc"
                                },
                                {
                                    "Name": "sp_fulltext_keymappings",
                                    "Owner": "sys",
                                    "Object_type": "extended stored proc"
                                },
                                {
                                    "Name": "sp_fulltext_pendingchanges",
                                    "Owner": "sys",
                                    "Object_type": "extended stored proc"
                                },
                                {
                                    "Name": "sp_generate_openrowset_statistics_props",
                                    "Owner": "sys",
                                    "Object_type": "extended stored proc"
                                },
                                {
                                    "Name": "sp_get_database_scoped_credential",
                                    "Owner": "sys",
                                    "Object_type": "extended stored proc"
                                },
                                {
                                    "Name": "sp_get_dmv_collector_views",
                                    "Owner": "sys",
                                    "Object_type": "extended stored proc"
                                },
                                {
                                    "Name": "sp_get_fido_lock",
                                    "Owner": "sys",
                                    "Object_type": "extended stored proc"
                                },
                                {
                                    "Name": "sp_get_fido_lock_batch",
                                    "Owner": "sys",
                                    "Object_type": "extended stored proc"
                                },
                                {
                                    "Name": "sp_get_file_splits",
                                    "Owner": "sys",
                                    "Object_type": "extended stored proc"
                                },
                                {
                                    "Name": "sp_get_migration_vlf_state",
                                    "Owner": "sys",
                                    "Object_type": "extended stored proc"
                                },
                                {
                                    "Name": "sp_get_openrowset_statistics_additional_props",
                                    "Owner": "sys",
                                    "Object_type": "extended stored proc"
                                },
                                {
                                    "Name": "sp_get_openrowset_statistics_cardinality",
                                    "Owner": "sys",
                                    "Object_type": "extended stored proc"
                                },
                                {
                                    "Name": "sp_get_query_template",
                                    "Owner": "sys",
                                    "Object_type": "extended stored proc"
                                },
                                {
                                    "Name": "sp_get_total_openrowset_statistics_count",
                                    "Owner": "sys",
                                    "Object_type": "extended stored proc"
                                },
                                {
                                    "Name": "sp_getbindtoken",
                                    "Owner": "sys",
                                    "Object_type": "extended stored proc"
                                },
                                {
                                    "Name": "sp_getschemalock",
                                    "Owner": "sys",
                                    "Object_type": "extended stored proc"
                                },
                                {
                                    "Name": "sp_http_generate_wsdl_complex",
                                    "Owner": "sys",
                                    "Object_type": "extended stored proc"
                                },
                                {
                                    "Name": "sp_http_generate_wsdl_simple",
                                    "Owner": "sys",
                                    "Object_type": "extended stored proc"
                                },
                                {
                                    "Name": "sp_internal_alter_nt_job_limits",
                                    "Owner": "sys",
                                    "Object_type": "extended stored proc"
                                },
                                {
                                    "Name": "sp_migrate_user_to_contained",
                                    "Owner": "sys",
                                    "Object_type": "extended stored proc"
                                },
                                {
                                    "Name": "sp_new_parallel_nested_tran_id",
                                    "Owner": "sys",
                                    "Object_type": "extended stored proc"
                                },
                                {
                                    "Name": "sp_OACreate",
                                    "Owner": "sys",
                                    "Object_type": "extended stored proc"
                                },
                                {
                                    "Name": "sp_OADestroy",
                                    "Owner": "sys",
                                    "Object_type": "extended stored proc"
                                },
                                {
                                    "Name": "sp_OAGetErrorInfo",
                                    "Owner": "sys",
                                    "Object_type": "extended stored proc"
                                },
                                {
                                    "Name": "sp_OAGetProperty",
                                    "Owner": "sys",
                                    "Object_type": "extended stored proc"
                                },
                                {
                                    "Name": "sp_OAMethod",
                                    "Owner": "sys",
                                    "Object_type": "extended stored proc"
                                },
                                {
                                    "Name": "sp_OASetProperty",
                                    "Owner": "sys",
                                    "Object_type": "extended stored proc"
                                },
                                {
                                    "Name": "sp_OAStop",
                                    "Owner": "sys",
                                    "Object_type": "extended stored proc"
                                },
                                {
                                    "Name": "sp_polybase_authorize",
                                    "Owner": "sys",
                                    "Object_type": "extended stored proc"
                                },
                                {
                                    "Name": "sp_polybase_join_group",
                                    "Owner": "sys",
                                    "Object_type": "extended stored proc"
                                },
                                {
                                    "Name": "sp_polybase_leave_group",
                                    "Owner": "sys",
                                    "Object_type": "extended stored proc"
                                },
                                {
                                    "Name": "sp_polybase_show_objects",
                                    "Owner": "sys",
                                    "Object_type": "extended stored proc"
                                },
                                {
                                    "Name": "sp_PostAgentInfo",
                                    "Owner": "sys",
                                    "Object_type": "extended stored proc"
                                },
                                {
                                    "Name": "sp_prepare",
                                    "Owner": "sys",
                                    "Object_type": "extended stored proc"
                                },
                                {
                                    "Name": "sp_prepexec",
                                    "Owner": "sys",
                                    "Object_type": "extended stored proc"
                                },
                                {
                                    "Name": "sp_prepexecrpc",
                                    "Owner": "sys",
                                    "Object_type": "extended stored proc"
                                },
                                {
                                    "Name": "sp_process_memory_leak_record",
                                    "Owner": "sys",
                                    "Object_type": "extended stored proc"
                                },
                                {
                                    "Name": "sp_publish_database_to_syms",
                                    "Owner": "sys",
                                    "Object_type": "extended stored proc"
                                },
                                {
                                    "Name": "sp_query_store_clear_hints",
                                    "Owner": "sys",
                                    "Object_type": "extended stored proc"
                                },
                                {
                                    "Name": "sp_query_store_consistency_check",
                                    "Owner": "sys",
                                    "Object_type": "extended stored proc"
                                },
                                {
                                    "Name": "sp_query_store_flush_db",
                                    "Owner": "sys",
                                    "Object_type": "extended stored proc"
                                },
                                {
                                    "Name": "sp_query_store_force_plan",
                                    "Owner": "sys",
                                    "Object_type": "extended stored proc"
                                },
                                {
                                    "Name": "sp_query_store_remove_plan",
                                    "Owner": "sys",
                                    "Object_type": "extended stored proc"
                                },
                                {
                                    "Name": "sp_query_store_remove_query",
                                    "Owner": "sys",
                                    "Object_type": "extended stored proc"
                                },
                                {
                                    "Name": "sp_query_store_reset_exec_stats",
                                    "Owner": "sys",
                                    "Object_type": "extended stored proc"
                                },
                                {
                                    "Name": "sp_query_store_set_hints",
                                    "Owner": "sys",
                                    "Object_type": "extended stored proc"
                                },
                                {
                                    "Name": "sp_query_store_unforce_plan",
                                    "Owner": "sys",
                                    "Object_type": "extended stored proc"
                                },
                                {
                                    "Name": "sp_rbpex_exec_cmd",
                                    "Owner": "sys",
                                    "Object_type": "extended stored proc"
                                },
                                {
                                    "Name": "sp_rda_deauthorize_db",
                                    "Owner": "sys",
                                    "Object_type": "extended stored proc"
                                },
                                {
                                    "Name": "sp_rda_get_rpo_duration",
                                    "Owner": "sys",
                                    "Object_type": "extended stored proc"
                                },
                                {
                                    "Name": "sp_rda_reauthorize_db",
                                    "Owner": "sys",
                                    "Object_type": "extended stored proc"
                                },
                                {
                                    "Name": "sp_rda_reconcile_batch",
                                    "Owner": "sys",
                                    "Object_type": "extended stored proc"
                                },
                                {
                                    "Name": "sp_rda_reconcile_columns",
                                    "Owner": "sys",
                                    "Object_type": "extended stored proc"
                                },
                                {
                                    "Name": "sp_rda_reconcile_indexes",
                                    "Owner": "sys",
                                    "Object_type": "extended stored proc"
                                },
                                {
                                    "Name": "sp_rda_set_query_mode",
                                    "Owner": "sys",
                                    "Object_type": "extended stored proc"
                                },
                                {
                                    "Name": "sp_rda_set_rpo_duration",
                                    "Owner": "sys",
                                    "Object_type": "extended stored proc"
                                },
                                {
                                    "Name": "sp_rda_test_connection",
                                    "Owner": "sys",
                                    "Object_type": "extended stored proc"
                                },
                                {
                                    "Name": "sp_release_all_fido_locks",
                                    "Owner": "sys",
                                    "Object_type": "extended stored proc"
                                },
                                {
                                    "Name": "sp_release_fido_lock",
                                    "Owner": "sys",
                                    "Object_type": "extended stored proc"
                                },
                                {
                                    "Name": "sp_releaseschemalock",
                                    "Owner": "sys",
                                    "Object_type": "extended stored proc"
                                },
                                {
                                    "Name": "sp_remote_data_archive_event",
                                    "Owner": "sys",
                                    "Object_type": "extended stored proc"
                                },
                                {
                                    "Name": "sp_repl_generate_subscriber_event",
                                    "Owner": "sys",
                                    "Object_type": "extended stored proc"
                                },
                                {
                                    "Name": "sp_repl_generate_sync_status_event",
                                    "Owner": "sys",
                                    "Object_type": "extended stored proc"
                                },
                                {
                                    "Name": "sp_repl_generateevent",
                                    "Owner": "sys",
                                    "Object_type": "extended stored proc"
                                },
                                {
                                    "Name": "sp_replcmds",
                                    "Owner": "sys",
                                    "Object_type": "extended stored proc"
                                },
                                {
                                    "Name": "sp_replcounters",
                                    "Owner": "sys",
                                    "Object_type": "extended stored proc"
                                },
                                {
                                    "Name": "sp_replddlparser",
                                    "Owner": "sys",
                                    "Object_type": "extended stored proc"
                                },
                                {
                                    "Name": "sp_repldone",
                                    "Owner": "sys",
                                    "Object_type": "extended stored proc"
                                },
                                {
                                    "Name": "sp_replflush",
                                    "Owner": "sys",
                                    "Object_type": "extended stored proc"
                                },
                                {
                                    "Name": "sp_replhelp",
                                    "Owner": "sys",
                                    "Object_type": "extended stored proc"
                                },
                                {
                                    "Name": "sp_replsendtoqueue",
                                    "Owner": "sys",
                                    "Object_type": "extended stored proc"
                                },
                                {
                                    "Name": "sp_replsetsyncstatus",
                                    "Owner": "sys",
                                    "Object_type": "extended stored proc"
                                },
                                {
                                    "Name": "sp_repltrans",
                                    "Owner": "sys",
                                    "Object_type": "extended stored proc"
                                },
                                {
                                    "Name": "sp_replwritetovarbin",
                                    "Owner": "sys",
                                    "Object_type": "extended stored proc"
                                },
                                {
                                    "Name": "sp_reserve_http_namespace",
                                    "Owner": "sys",
                                    "Object_type": "extended stored proc"
                                },
                                {
                                    "Name": "sp_reset_connection",
                                    "Owner": "sys",
                                    "Object_type": "extended stored proc"
                                },
                                {
                                    "Name": "sp_reset_session_context",
                                    "Owner": "sys",
                                    "Object_type": "extended stored proc"
                                },
                                {
                                    "Name": "sp_resyncexecute",
                                    "Owner": "sys",
                                    "Object_type": "extended stored proc"
                                },
                                {
                                    "Name": "sp_resyncexecutesql",
                                    "Owner": "sys",
                                    "Object_type": "extended stored proc"
                                },
                                {
                                    "Name": "sp_resyncprepare",
                                    "Owner": "sys",
                                    "Object_type": "extended stored proc"
                                },
                                {
                                    "Name": "sp_resyncuniquetable",
                                    "Owner": "sys",
                                    "Object_type": "extended stored proc"
                                },
                                {
                                    "Name": "sp_rollback_parallel_nested_tran",
                                    "Owner": "sys",
                                    "Object_type": "extended stored proc"
                                },
                                {
                                    "Name": "sp_server_diagnostics",
                                    "Owner": "sys",
                                    "Object_type": "extended stored proc"
                                },
                                {
                                    "Name": "sp_set_data_processed_limit",
                                    "Owner": "sys",
                                    "Object_type": "extended stored proc"
                                },
                                {
                                    "Name": "sp_set_distributed_query_context",
                                    "Owner": "sys",
                                    "Object_type": "extended stored proc"
                                },
                                {
                                    "Name": "sp_set_session_context",
                                    "Owner": "sys",
                                    "Object_type": "extended stored proc"
                                },
                                {
                                    "Name": "sp_set_session_resource_group",
                                    "Owner": "sys",
                                    "Object_type": "extended stored proc"
                                },
                                {
                                    "Name": "sp_SetOBDCertificate",
                                    "Owner": "sys",
                                    "Object_type": "extended stored proc"
                                },
                                {
                                    "Name": "sp_setuserbylogin",
                                    "Owner": "sys",
                                    "Object_type": "extended stored proc"
                                },
                                {
                                    "Name": "sp_show_openrowset_statistics",
                                    "Owner": "sys",
                                    "Object_type": "extended stored proc"
                                },
                                {
                                    "Name": "sp_showinitialmemo_xml",
                                    "Owner": "sys",
                                    "Object_type": "extended stored proc"
                                },
                                {
                                    "Name": "sp_showmemo_xml",
                                    "Owner": "sys",
                                    "Object_type": "extended stored proc"
                                },
                                {
                                    "Name": "sp_sm_detach",
                                    "Owner": "sys",
                                    "Object_type": "extended stored proc"
                                },
                                {
                                    "Name": "sp_spaceused_remote_data_archive",
                                    "Owner": "sys",
                                    "Object_type": "extended stored proc"
                                },
                                {
                                    "Name": "sp_start_fixed_vlf",
                                    "Owner": "sys",
                                    "Object_type": "extended stored proc"
                                },
                                {
                                    "Name": "sp_start_user_instance",
                                    "Owner": "sys",
                                    "Object_type": "extended stored proc"
                                },
                                {
                                    "Name": "sp_testlinkedserver",
                                    "Owner": "sys",
                                    "Object_type": "extended stored proc"
                                },
                                {
                                    "Name": "sp_trace_create",
                                    "Owner": "sys",
                                    "Object_type": "extended stored proc"
                                },
                                {
                                    "Name": "sp_trace_generateevent",
                                    "Owner": "sys",
                                    "Object_type": "extended stored proc"
                                },
                                {
                                    "Name": "sp_trace_setevent",
                                    "Owner": "sys",
                                    "Object_type": "extended stored proc"
                                },
                                {
                                    "Name": "sp_trace_setfilter",
                                    "Owner": "sys",
                                    "Object_type": "extended stored proc"
                                },
                                {
                                    "Name": "sp_trace_setstatus",
                                    "Owner": "sys",
                                    "Object_type": "extended stored proc"
                                },
                                {
                                    "Name": "sp_try_set_session_context",
                                    "Owner": "sys",
                                    "Object_type": "extended stored proc"
                                },
                                {
                                    "Name": "sp_unprepare",
                                    "Owner": "sys",
                                    "Object_type": "extended stored proc"
                                },
                                {
                                    "Name": "sp_update_logical_pause_flag",
                                    "Owner": "sys",
                                    "Object_type": "extended stored proc"
                                },
                                {
                                    "Name": "sp_update_user_instance",
                                    "Owner": "sys",
                                    "Object_type": "extended stored proc"
                                },
                                {
                                    "Name": "sp_verify_database_ledger",
                                    "Owner": "sys",
                                    "Object_type": "extended stored proc"
                                },
                                {
                                    "Name": "sp_xa_commit",
                                    "Owner": "sys",
                                    "Object_type": "extended stored proc"
                                },
                                {
                                    "Name": "sp_xa_end",
                                    "Owner": "sys",
                                    "Object_type": "extended stored proc"
                                },
                                {
                                    "Name": "sp_xa_forget",
                                    "Owner": "sys",
                                    "Object_type": "extended stored proc"
                                },
                                {
                                    "Name": "sp_xa_forget_ex",
                                    "Owner": "sys",
                                    "Object_type": "extended stored proc"
                                },
                                {
                                    "Name": "sp_xa_init",
                                    "Owner": "sys",
                                    "Object_type": "extended stored proc"
                                },
                                {
                                    "Name": "sp_xa_init_ex",
                                    "Owner": "sys",
                                    "Object_type": "extended stored proc"
                                },
                                {
                                    "Name": "sp_xa_prepare",
                                    "Owner": "sys",
                                    "Object_type": "extended stored proc"
                                },
                                {
                                    "Name": "sp_xa_prepare_ex",
                                    "Owner": "sys",
                                    "Object_type": "extended stored proc"
                                },
                                {
                                    "Name": "sp_xa_recover",
                                    "Owner": "sys",
                                    "Object_type": "extended stored proc"
                                },
                                {
                                    "Name": "sp_xa_rollback",
                                    "Owner": "sys",
                                    "Object_type": "extended stored proc"
                                },
                                {
                                    "Name": "sp_xa_rollback_ex",
                                    "Owner": "sys",
                                    "Object_type": "extended stored proc"
                                },
                                {
                                    "Name": "sp_xa_start",
                                    "Owner": "sys",
                                    "Object_type": "extended stored proc"
                                },
                                {
                                    "Name": "sp_xcs_mark_column_relation",
                                    "Owner": "sys",
                                    "Object_type": "extended stored proc"
                                },
                                {
                                    "Name": "sp_xml_preparedocument",
                                    "Owner": "sys",
                                    "Object_type": "extended stored proc"
                                },
                                {
                                    "Name": "sp_xml_removedocument",
                                    "Owner": "sys",
                                    "Object_type": "extended stored proc"
                                },
                                {
                                    "Name": "sp_xp_cmdshell_proxy_account",
                                    "Owner": "sys",
                                    "Object_type": "extended stored proc"
                                },
                                {
                                    "Name": "xp_availablemedia",
                                    "Owner": "sys",
                                    "Object_type": "extended stored proc"
                                },
                                {
                                    "Name": "xp_cmdshell",
                                    "Owner": "sys",
                                    "Object_type": "extended stored proc"
                                },
                                {
                                    "Name": "xp_copy_file",
                                    "Owner": "sys",
                                    "Object_type": "extended stored proc"
                                },
                                {
                                    "Name": "xp_copy_files",
                                    "Owner": "sys",
                                    "Object_type": "extended stored proc"
                                },
                                {
                                    "Name": "xp_create_subdir",
                                    "Owner": "sys",
                                    "Object_type": "extended stored proc"
                                },
                                {
                                    "Name": "xp_delete_file",
                                    "Owner": "sys",
                                    "Object_type": "extended stored proc"
                                },
                                {
                                    "Name": "xp_delete_files",
                                    "Owner": "sys",
                                    "Object_type": "extended stored proc"
                                },
                                {
                                    "Name": "xp_dirtree",
                                    "Owner": "sys",
                                    "Object_type": "extended stored proc"
                                },
                                {
                                    "Name": "xp_enum_oledb_providers",
                                    "Owner": "sys",
                                    "Object_type": "extended stored proc"
                                },
                                {
                                    "Name": "xp_enumerrorlogs",
                                    "Owner": "sys",
                                    "Object_type": "extended stored proc"
                                },
                                {
                                    "Name": "xp_enumgroups",
                                    "Owner": "sys",
                                    "Object_type": "extended stored proc"
                                },
                                {
                                    "Name": "xp_fileexist",
                                    "Owner": "sys",
                                    "Object_type": "extended stored proc"
                                },
                                {
                                    "Name": "xp_fixeddrives",
                                    "Owner": "sys",
                                    "Object_type": "extended stored proc"
                                },
                                {
                                    "Name": "xp_get_tape_devices",
                                    "Owner": "sys",
                                    "Object_type": "extended stored proc"
                                },
                                {
                                    "Name": "xp_getnetname",
                                    "Owner": "sys",
                                    "Object_type": "extended stored proc"
                                },
                                {
                                    "Name": "xp_instance_regaddmultistring",
                                    "Owner": "sys",
                                    "Object_type": "extended stored proc"
                                },
                                {
                                    "Name": "xp_instance_regdeletekey",
                                    "Owner": "sys",
                                    "Object_type": "extended stored proc"
                                },
                                {
                                    "Name": "xp_instance_regdeletevalue",
                                    "Owner": "sys",
                                    "Object_type": "extended stored proc"
                                },
                                {
                                    "Name": "xp_instance_regenumkeys",
                                    "Owner": "sys",
                                    "Object_type": "extended stored proc"
                                },
                                {
                                    "Name": "xp_instance_regenumvalues",
                                    "Owner": "sys",
                                    "Object_type": "extended stored proc"
                                },
                                {
                                    "Name": "xp_instance_regread",
                                    "Owner": "sys",
                                    "Object_type": "extended stored proc"
                                },
                                {
                                    "Name": "xp_instance_regremovemultistring",
                                    "Owner": "sys",
                                    "Object_type": "extended stored proc"
                                },
                                {
                                    "Name": "xp_instance_regwrite",
                                    "Owner": "sys",
                                    "Object_type": "extended stored proc"
                                },
                                {
                                    "Name": "xp_logevent",
                                    "Owner": "sys",
                                    "Object_type": "extended stored proc"
                                },
                                {
                                    "Name": "xp_loginconfig",
                                    "Owner": "sys",
                                    "Object_type": "extended stored proc"
                                },
                                {
                                    "Name": "xp_msver",
                                    "Owner": "sys",
                                    "Object_type": "extended stored proc"
                                },
                                {
                                    "Name": "xp_msx_enlist",
                                    "Owner": "sys",
                                    "Object_type": "extended stored proc"
                                },
                                {
                                    "Name": "xp_passAgentInfo",
                                    "Owner": "sys",
                                    "Object_type": "extended stored proc"
                                },
                                {
                                    "Name": "xp_prop_oledb_provider",
                                    "Owner": "sys",
                                    "Object_type": "extended stored proc"
                                },
                                {
                                    "Name": "xp_qv",
                                    "Owner": "sys",
                                    "Object_type": "extended stored proc"
                                },
                                {
                                    "Name": "xp_readerrorlog",
                                    "Owner": "sys",
                                    "Object_type": "extended stored proc"
                                },
                                {
                                    "Name": "xp_regaddmultistring",
                                    "Owner": "sys",
                                    "Object_type": "extended stored proc"
                                },
                                {
                                    "Name": "xp_regdeletekey",
                                    "Owner": "sys",
                                    "Object_type": "extended stored proc"
                                },
                                {
                                    "Name": "xp_regdeletevalue",
                                    "Owner": "sys",
                                    "Object_type": "extended stored proc"
                                },
                                {
                                    "Name": "xp_regenumkeys",
                                    "Owner": "sys",
                                    "Object_type": "extended stored proc"
                                },
                                {
                                    "Name": "xp_regenumvalues",
                                    "Owner": "sys",
                                    "Object_type": "extended stored proc"
                                },
                                {
                                    "Name": "xp_regread",
                                    "Owner": "sys",
                                    "Object_type": "extended stored proc"
                                },
                                {
                                    "Name": "xp_regremovemultistring",
                                    "Owner": "sys",
                                    "Object_type": "extended stored proc"
                                },
                                {
                                    "Name": "xp_regwrite",
                                    "Owner": "sys",
                                    "Object_type": "extended stored proc"
                                },
                                {
                                    "Name": "xp_replposteor",
                                    "Owner": "sys",
                                    "Object_type": "extended stored proc"
                                },
                                {
                                    "Name": "xp_servicecontrol",
                                    "Owner": "sys",
                                    "Object_type": "extended stored proc"
                                },
                                {
                                    "Name": "xp_sprintf",
                                    "Owner": "sys",
                                    "Object_type": "extended stored proc"
                                },
                                {
                                    "Name": "xp_sqlagent_enum_jobs",
                                    "Owner": "sys",
                                    "Object_type": "extended stored proc"
                                },
                                {
                                    "Name": "xp_sqlagent_is_starting",
                                    "Owner": "sys",
                                    "Object_type": "extended stored proc"
                                },
                                {
                                    "Name": "xp_sqlagent_monitor",
                                    "Owner": "sys",
                                    "Object_type": "extended stored proc"
                                },
                                {
                                    "Name": "xp_sqlagent_notify",
                                    "Owner": "sys",
                                    "Object_type": "extended stored proc"
                                },
                                {
                                    "Name": "xp_sqlagent_param",
                                    "Owner": "sys",
                                    "Object_type": "extended stored proc"
                                },
                                {
                                    "Name": "xp_sqlmaint",
                                    "Owner": "sys",
                                    "Object_type": "extended stored proc"
                                },
                                {
                                    "Name": "xp_sscanf",
                                    "Owner": "sys",
                                    "Object_type": "extended stored proc"
                                },
                                {
                                    "Name": "xp_subdirs",
                                    "Owner": "sys",
                                    "Object_type": "extended stored proc"
                                },
                                {
                                    "Name": "xp_sysmail_activate",
                                    "Owner": "sys",
                                    "Object_type": "extended stored proc"
                                },
                                {
                                    "Name": "xp_sysmail_attachment_load",
                                    "Owner": "sys",
                                    "Object_type": "extended stored proc"
                                },
                                {
                                    "Name": "xp_sysmail_format_query",
                                    "Owner": "sys",
                                    "Object_type": "extended stored proc"
                                },
                                {
                                    "Name": "fn_cdc_decrement_lsn",
                                    "Owner": "sys",
                                    "Object_type": "assembly scalar function"
                                },
                                {
                                    "Name": "fn_cdc_increment_lsn",
                                    "Owner": "sys",
                                    "Object_type": "assembly scalar function"
                                },
                                {
                                    "Name": "fn_cdc_is_bit_set",
                                    "Owner": "sys",
                                    "Object_type": "assembly scalar function"
                                },
                                {
                                    "Name": "fn_repl_hash_binary",
                                    "Owner": "sys",
                                    "Object_type": "assembly scalar function"
                                },
                                {
                                    "Name": "GeographyCollectionAggregate",
                                    "Owner": "sys",
                                    "Object_type": "aggregate function"
                                },
                                {
                                    "Name": "GeographyConvexHullAggregate",
                                    "Owner": "sys",
                                    "Object_type": "aggregate function"
                                },
                                {
                                    "Name": "GeographyEnvelopeAggregate",
                                    "Owner": "sys",
                                    "Object_type": "aggregate function"
                                },
                                {
                                    "Name": "GeographyUnionAggregate",
                                    "Owner": "sys",
                                    "Object_type": "aggregate function"
                                },
                                {
                                    "Name": "GeometryCollectionAggregate",
                                    "Owner": "sys",
                                    "Object_type": "aggregate function"
                                },
                                {
                                    "Name": "GeometryConvexHullAggregate",
                                    "Owner": "sys",
                                    "Object_type": "aggregate function"
                                },
                                {
                                    "Name": "GeometryEnvelopeAggregate",
                                    "Owner": "sys",
                                    "Object_type": "aggregate function"
                                },
                                {
                                    "Name": "GeometryUnionAggregate",
                                    "Owner": "sys",
                                    "Object_type": "aggregate function"
                                },
                                {
                                    "Name": "ORMask",
                                    "Owner": "sys",
                                    "Object_type": "aggregate function"
                                },
                                {
                                    "Name": "sp_FuzzyLookupTableMaintenanceInstall",
                                    "Owner": "sys",
                                    "Object_type": " assembly stored procedure"
                                },
                                {
                                    "Name": "sp_FuzzyLookupTableMaintenanceInvoke",
                                    "Owner": "sys",
                                    "Object_type": " assembly stored procedure"
                                },
                                {
                                    "Name": "sp_FuzzyLookupTableMaintenanceUninstall",
                                    "Owner": "sys",
                                    "Object_type": " assembly stored procedure"
                                }
                            ]
                        },
                        "text/html": "<table><tr><th>Name</th><th>Owner</th><th>Object_type</th></tr><tr><td>Emp</td><td>dbo</td><td>user table</td></tr><tr><td>Emp_Temp</td><td>dbo</td><td>user table</td></tr><tr><td>Emp_Virtual_Column</td><td>dbo</td><td>user table</td></tr><tr><td>employeeDetails</td><td>dbo</td><td>user table</td></tr><tr><td>Employees</td><td>dbo</td><td>user table</td></tr><tr><td>TEmp</td><td>dbo</td><td>user table</td></tr><tr><td>TestConstraints</td><td>dbo</td><td>user table</td></tr><tr><td>UQ__TestCons__1299A860275465B4</td><td>dbo</td><td>unique key cns</td></tr><tr><td>EventNotificationErrorsQueue</td><td>dbo</td><td>queue</td></tr><tr><td>QueryNotificationErrorsQueue</td><td>dbo</td><td>queue</td></tr><tr><td>ServiceBrokerQueue</td><td>dbo</td><td>queue</td></tr><tr><td>PK__Emp__3213E83F9DFC08CC</td><td>dbo</td><td>primary key cns</td></tr><tr><td>PK__Emp_Temp__3213E83FD8878CE2</td><td>dbo</td><td>primary key cns</td></tr><tr><td>PK__Emp_Virt__3213E83FE3BACB95</td><td>dbo</td><td>primary key cns</td></tr><tr><td>PK__employee__3213E83F2AD44362</td><td>dbo</td><td>primary key cns</td></tr><tr><td>PK__TEmp__3213E83F23F4B9AD</td><td>dbo</td><td>primary key cns</td></tr><tr><td>queue_messages_1977058079</td><td>dbo</td><td>internal table</td></tr><tr><td>queue_messages_2009058193</td><td>dbo</td><td>internal table</td></tr><tr><td>queue_messages_2041058307</td><td>dbo</td><td>internal table</td></tr><tr><td>CK__TestConst__emp_i__37A5467C</td><td>dbo</td><td>check cns</td></tr><tr><td>CK__TestConst__emp_s__38996AB5</td><td>dbo</td><td>check cns</td></tr><tr><td>CHECK_CONSTRAINTS</td><td>INFORMATION_SCHEMA</td><td>view</td></tr><tr><td>COLUMN_DOMAIN_USAGE</td><td>INFORMATION_SCHEMA</td><td>view</td></tr><tr><td>COLUMN_PRIVILEGES</td><td>INFORMATION_SCHEMA</td><td>view</td></tr><tr><td>COLUMNS</td><td>INFORMATION_SCHEMA</td><td>view</td></tr><tr><td>CONSTRAINT_COLUMN_USAGE</td><td>INFORMATION_SCHEMA</td><td>view</td></tr><tr><td>CONSTRAINT_TABLE_USAGE</td><td>INFORMATION_SCHEMA</td><td>view</td></tr><tr><td>DOMAIN_CONSTRAINTS</td><td>INFORMATION_SCHEMA</td><td>view</td></tr><tr><td>DOMAINS</td><td>INFORMATION_SCHEMA</td><td>view</td></tr><tr><td>KEY_COLUMN_USAGE</td><td>INFORMATION_SCHEMA</td><td>view</td></tr><tr><td>PARAMETERS</td><td>INFORMATION_SCHEMA</td><td>view</td></tr><tr><td>REFERENTIAL_CONSTRAINTS</td><td>INFORMATION_SCHEMA</td><td>view</td></tr><tr><td>ROUTINE_COLUMNS</td><td>INFORMATION_SCHEMA</td><td>view</td></tr><tr><td>ROUTINES</td><td>INFORMATION_SCHEMA</td><td>view</td></tr><tr><td>SCHEMATA</td><td>INFORMATION_SCHEMA</td><td>view</td></tr><tr><td>SEQUENCES</td><td>INFORMATION_SCHEMA</td><td>view</td></tr><tr><td>TABLE_CONSTRAINTS</td><td>INFORMATION_SCHEMA</td><td>view</td></tr><tr><td>TABLE_PRIVILEGES</td><td>INFORMATION_SCHEMA</td><td>view</td></tr><tr><td>TABLES</td><td>INFORMATION_SCHEMA</td><td>view</td></tr><tr><td>VIEW_COLUMN_USAGE</td><td>INFORMATION_SCHEMA</td><td>view</td></tr><tr><td>VIEW_TABLE_USAGE</td><td>INFORMATION_SCHEMA</td><td>view</td></tr><tr><td>VIEWS</td><td>INFORMATION_SCHEMA</td><td>view</td></tr><tr><td>all_columns</td><td>sys</td><td>view</td></tr><tr><td>all_objects</td><td>sys</td><td>view</td></tr><tr><td>all_parameters</td><td>sys</td><td>view</td></tr><tr><td>all_sql_modules</td><td>sys</td><td>view</td></tr><tr><td>all_views</td><td>sys</td><td>view</td></tr><tr><td>allocation_units</td><td>sys</td><td>view</td></tr><tr><td>assemblies</td><td>sys</td><td>view</td></tr><tr><td>assembly_files</td><td>sys</td><td>view</td></tr><tr><td>assembly_modules</td><td>sys</td><td>view</td></tr><tr><td>assembly_references</td><td>sys</td><td>view</td></tr><tr><td>assembly_types</td><td>sys</td><td>view</td></tr><tr><td>asymmetric_keys</td><td>sys</td><td>view</td></tr><tr><td>availability_databases_cluster</td><td>sys</td><td>view</td></tr><tr><td>availability_group_listener_ip_addresses</td><td>sys</td><td>view</td></tr><tr><td>availability_group_listeners</td><td>sys</td><td>view</td></tr><tr><td>availability_groups</td><td>sys</td><td>view</td></tr><tr><td>availability_groups_cluster</td><td>sys</td><td>view</td></tr><tr><td>availability_read_only_routing_lists</td><td>sys</td><td>view</td></tr><tr><td>availability_replicas</td><td>sys</td><td>view</td></tr><tr><td>backup_devices</td><td>sys</td><td>view</td></tr><tr><td>certificates</td><td>sys</td><td>view</td></tr><tr><td>change_tracking_databases</td><td>sys</td><td>view</td></tr><tr><td>change_tracking_tables</td><td>sys</td><td>view</td></tr><tr><td>check_constraints</td><td>sys</td><td>view</td></tr><tr><td>column_encryption_key_values</td><td>sys</td><td>view</td></tr><tr><td>column_encryption_keys</td><td>sys</td><td>view</td></tr><tr><td>column_master_keys</td><td>sys</td><td>view</td></tr><tr><td>column_store_dictionaries</td><td>sys</td><td>view</td></tr><tr><td>column_store_row_groups</td><td>sys</td><td>view</td></tr><tr><td>column_store_segments</td><td>sys</td><td>view</td></tr><tr><td>column_type_usages</td><td>sys</td><td>view</td></tr><tr><td>column_xml_schema_collection_usages</td><td>sys</td><td>view</td></tr><tr><td>columns</td><td>sys</td><td>view</td></tr><tr><td>computed_columns</td><td>sys</td><td>view</td></tr><tr><td>configurations</td><td>sys</td><td>view</td></tr><tr><td>conversation_endpoints</td><td>sys</td><td>view</td></tr><tr><td>conversation_groups</td><td>sys</td><td>view</td></tr><tr><td>conversation_priorities</td><td>sys</td><td>view</td></tr><tr><td>credentials</td><td>sys</td><td>view</td></tr><tr><td>crypt_properties</td><td>sys</td><td>view</td></tr><tr><td>cryptographic_providers</td><td>sys</td><td>view</td></tr><tr><td>data_spaces</td><td>sys</td><td>view</td></tr><tr><td>database_audit_specification_details</td><td>sys</td><td>view</td></tr><tr><td>database_audit_specifications</td><td>sys</td><td>view</td></tr><tr><td>database_automatic_tuning_mode</td><td>sys</td><td>view</td></tr><tr><td>database_automatic_tuning_options</td><td>sys</td><td>view</td></tr><tr><td>database_credentials</td><td>sys</td><td>view</td></tr><tr><td>database_files</td><td>sys</td><td>view</td></tr><tr><td>database_filestream_options</td><td>sys</td><td>view</td></tr><tr><td>database_ledger_blocks</td><td>sys</td><td>view</td></tr><tr><td>database_ledger_transactions</td><td>sys</td><td>view</td></tr><tr><td>database_mirroring</td><td>sys</td><td>view</td></tr><tr><td>database_mirroring_endpoints</td><td>sys</td><td>view</td></tr><tr><td>database_mirroring_witnesses</td><td>sys</td><td>view</td></tr><tr><td>database_permissions</td><td>sys</td><td>view</td></tr><tr><td>database_principals</td><td>sys</td><td>view</td></tr><tr><td>database_query_store_options</td><td>sys</td><td>view</td></tr><tr><td>database_recovery_status</td><td>sys</td><td>view</td></tr><tr><td>database_role_members</td><td>sys</td><td>view</td></tr><tr><td>database_scoped_configurations</td><td>sys</td><td>view</td></tr><tr><td>database_scoped_credentials</td><td>sys</td><td>view</td></tr><tr><td>databases</td><td>sys</td><td>view</td></tr><tr><td>default_constraints</td><td>sys</td><td>view</td></tr><tr><td>destination_data_spaces</td><td>sys</td><td>view</td></tr><tr><td>dm_audit_actions</td><td>sys</td><td>view</td></tr><tr><td>dm_audit_class_type_map</td><td>sys</td><td>view</td></tr><tr><td>dm_broker_activated_tasks</td><td>sys</td><td>view</td></tr><tr><td>dm_broker_connections</td><td>sys</td><td>view</td></tr><tr><td>dm_broker_forwarded_messages</td><td>sys</td><td>view</td></tr><tr><td>dm_broker_queue_monitors</td><td>sys</td><td>view</td></tr><tr><td>dm_cache_hit_stats</td><td>sys</td><td>view</td></tr><tr><td>dm_cache_size</td><td>sys</td><td>view</td></tr><tr><td>dm_cache_stats</td><td>sys</td><td>view</td></tr><tr><td>dm_cdc_errors</td><td>sys</td><td>view</td></tr><tr><td>dm_cdc_log_scan_sessions</td><td>sys</td><td>view</td></tr><tr><td>dm_clr_appdomains</td><td>sys</td><td>view</td></tr><tr><td>dm_clr_loaded_assemblies</td><td>sys</td><td>view</td></tr><tr><td>dm_clr_properties</td><td>sys</td><td>view</td></tr><tr><td>dm_clr_tasks</td><td>sys</td><td>view</td></tr><tr><td>dm_cluster_endpoints</td><td>sys</td><td>view</td></tr><tr><td>dm_column_encryption_enclave</td><td>sys</td><td>view</td></tr><tr><td>dm_column_encryption_enclave_operation_stats</td><td>sys</td><td>view</td></tr><tr><td>dm_column_store_object_pool</td><td>sys</td><td>view</td></tr><tr><td>dm_cryptographic_provider_properties</td><td>sys</td><td>view</td></tr><tr><td>dm_database_encryption_keys</td><td>sys</td><td>view</td></tr><tr><td>dm_db_column_store_row_group_operational_stats</td><td>sys</td><td>view</td></tr><tr><td>dm_db_column_store_row_group_physical_stats</td><td>sys</td><td>view</td></tr><tr><td>dm_db_data_pool_nodes</td><td>sys</td><td>view</td></tr><tr><td>dm_db_data_pools</td><td>sys</td><td>view</td></tr><tr><td>dm_db_external_language_stats</td><td>sys</td><td>view</td></tr><tr><td>dm_db_external_script_execution_stats</td><td>sys</td><td>view</td></tr><tr><td>dm_db_file_space_usage</td><td>sys</td><td>view</td></tr><tr><td>dm_db_fts_index_physical_stats</td><td>sys</td><td>view</td></tr><tr><td>dm_db_index_usage_stats</td><td>sys</td><td>view</td></tr><tr><td>dm_db_log_space_usage</td><td>sys</td><td>view</td></tr><tr><td>dm_db_mirroring_auto_page_repair</td><td>sys</td><td>view</td></tr><tr><td>dm_db_mirroring_connections</td><td>sys</td><td>view</td></tr><tr><td>dm_db_mirroring_past_actions</td><td>sys</td><td>view</td></tr><tr><td>dm_db_missing_index_details</td><td>sys</td><td>view</td></tr><tr><td>dm_db_missing_index_group_stats</td><td>sys</td><td>view</td></tr><tr><td>dm_db_missing_index_group_stats_query</td><td>sys</td><td>view</td></tr><tr><td>dm_db_missing_index_groups</td><td>sys</td><td>view</td></tr><tr><td>dm_db_partition_stats</td><td>sys</td><td>view</td></tr><tr><td>dm_db_persisted_sku_features</td><td>sys</td><td>view</td></tr><tr><td>dm_db_rda_migration_status</td><td>sys</td><td>view</td></tr><tr><td>dm_db_rda_schema_update_status</td><td>sys</td><td>view</td></tr><tr><td>dm_db_script_level</td><td>sys</td><td>view</td></tr><tr><td>dm_db_session_space_usage</td><td>sys</td><td>view</td></tr><tr><td>dm_db_storage_pool_nodes</td><td>sys</td><td>view</td></tr><tr><td>dm_db_storage_pools</td><td>sys</td><td>view</td></tr><tr><td>dm_db_task_space_usage</td><td>sys</td><td>view</td></tr><tr><td>dm_db_tuning_recommendations</td><td>sys</td><td>view</td></tr><tr><td>dm_db_uncontained_entities</td><td>sys</td><td>view</td></tr><tr><td>dm_db_xtp_checkpoint_files</td><td>sys</td><td>view</td></tr><tr><td>dm_db_xtp_checkpoint_internals</td><td>sys</td><td>view</td></tr><tr><td>dm_db_xtp_checkpoint_stats</td><td>sys</td><td>view</td></tr><tr><td>dm_db_xtp_gc_cycle_stats</td><td>sys</td><td>view</td></tr><tr><td>dm_db_xtp_hash_index_stats</td><td>sys</td><td>view</td></tr><tr><td>dm_db_xtp_index_stats</td><td>sys</td><td>view</td></tr><tr><td>dm_db_xtp_memory_consumers</td><td>sys</td><td>view</td></tr><tr><td>dm_db_xtp_nonclustered_index_stats</td><td>sys</td><td>view</td></tr><tr><td>dm_db_xtp_object_stats</td><td>sys</td><td>view</td></tr><tr><td>dm_db_xtp_table_memory_stats</td><td>sys</td><td>view</td></tr><tr><td>dm_db_xtp_transactions</td><td>sys</td><td>view</td></tr><tr><td>dm_dist_requests</td><td>sys</td><td>view</td></tr><tr><td>dm_distributed_exchange_stats</td><td>sys</td><td>view</td></tr><tr><td>dm_dw_databases</td><td>sys</td><td>view</td></tr><tr><td>dm_dw_locks</td><td>sys</td><td>view</td></tr><tr><td>dm_dw_pit_databases</td><td>sys</td><td>view</td></tr><tr><td>dm_dw_quality_clustering</td><td>sys</td><td>view</td></tr><tr><td>dm_dw_quality_delta</td><td>sys</td><td>view</td></tr><tr><td>dm_dw_quality_index</td><td>sys</td><td>view</td></tr><tr><td>dm_dw_quality_row_group</td><td>sys</td><td>view</td></tr><tr><td>dm_dw_resource_manager_abort_cache</td><td>sys</td><td>view</td></tr><tr><td>dm_dw_resource_manager_active_tran</td><td>sys</td><td>view</td></tr><tr><td>dm_dw_tran_manager_abort_cache</td><td>sys</td><td>view</td></tr><tr><td>dm_dw_tran_manager_active_cache</td><td>sys</td><td>view</td></tr><tr><td>dm_dw_tran_manager_commit_cache</td><td>sys</td><td>view</td></tr><tr><td>dm_exec_background_job_queue</td><td>sys</td><td>view</td></tr><tr><td>dm_exec_background_job_queue_stats</td><td>sys</td><td>view</td></tr><tr><td>dm_exec_cached_plans</td><td>sys</td><td>view</td></tr><tr><td>dm_exec_compute_node_errors</td><td>sys</td><td>view</td></tr><tr><td>dm_exec_compute_node_status</td><td>sys</td><td>view</td></tr><tr><td>dm_exec_compute_nodes</td><td>sys</td><td>view</td></tr><tr><td>dm_exec_compute_pools</td><td>sys</td><td>view</td></tr><tr><td>dm_exec_connections</td><td>sys</td><td>view</td></tr><tr><td>dm_exec_distributed_request_steps</td><td>sys</td><td>view</td></tr><tr><td>dm_exec_distributed_requests</td><td>sys</td><td>view</td></tr><tr><td>dm_exec_distributed_sql_requests</td><td>sys</td><td>view</td></tr><tr><td>dm_exec_dms_services</td><td>sys</td><td>view</td></tr><tr><td>dm_exec_dms_workers</td><td>sys</td><td>view</td></tr><tr><td>dm_exec_external_operations</td><td>sys</td><td>view</td></tr><tr><td>dm_exec_external_work</td><td>sys</td><td>view</td></tr><tr><td>dm_exec_function_stats</td><td>sys</td><td>view</td></tr><tr><td>dm_exec_procedure_stats</td><td>sys</td><td>view</td></tr><tr><td>dm_exec_query_memory_grants</td><td>sys</td><td>view</td></tr><tr><td>dm_exec_query_optimizer_info</td><td>sys</td><td>view</td></tr><tr><td>dm_exec_query_optimizer_memory_gateways</td><td>sys</td><td>view</td></tr><tr><td>dm_exec_query_parallel_workers</td><td>sys</td><td>view</td></tr><tr><td>dm_exec_query_profiles</td><td>sys</td><td>view</td></tr><tr><td>dm_exec_query_resource_semaphores</td><td>sys</td><td>view</td></tr><tr><td>dm_exec_query_stats</td><td>sys</td><td>view</td></tr><tr><td>dm_exec_query_transformation_stats</td><td>sys</td><td>view</td></tr><tr><td>dm_exec_requests</td><td>sys</td><td>view</td></tr><tr><td>dm_exec_requests_history</td><td>sys</td><td>view</td></tr><tr><td>dm_exec_session_wait_stats</td><td>sys</td><td>view</td></tr><tr><td>dm_exec_sessions</td><td>sys</td><td>view</td></tr><tr><td>dm_exec_trigger_stats</td><td>sys</td><td>view</td></tr><tr><td>dm_exec_valid_use_hints</td><td>sys</td><td>view</td></tr><tr><td>dm_external_authentication</td><td>sys</td><td>view</td></tr><tr><td>dm_external_data_processed</td><td>sys</td><td>view</td></tr><tr><td>dm_external_script_execution_stats</td><td>sys</td><td>view</td></tr><tr><td>dm_external_script_requests</td><td>sys</td><td>view</td></tr><tr><td>dm_external_script_resource_usage_stats</td><td>sys</td><td>view</td></tr><tr><td>dm_filestream_file_io_handles</td><td>sys</td><td>view</td></tr><tr><td>dm_filestream_file_io_requests</td><td>sys</td><td>view</td></tr><tr><td>dm_filestream_non_transacted_handles</td><td>sys</td><td>view</td></tr><tr><td>dm_fts_active_catalogs</td><td>sys</td><td>view</td></tr><tr><td>dm_fts_fdhosts</td><td>sys</td><td>view</td></tr><tr><td>dm_fts_index_population</td><td>sys</td><td>view</td></tr><tr><td>dm_fts_memory_buffers</td><td>sys</td><td>view</td></tr><tr><td>dm_fts_memory_pools</td><td>sys</td><td>view</td></tr><tr><td>dm_fts_outstanding_batches</td><td>sys</td><td>view</td></tr><tr><td>dm_fts_population_ranges</td><td>sys</td><td>view</td></tr><tr><td>dm_fts_semantic_similarity_population</td><td>sys</td><td>view</td></tr><tr><td>dm_hadr_ag_threads</td><td>sys</td><td>view</td></tr><tr><td>dm_hadr_auto_page_repair</td><td>sys</td><td>view</td></tr><tr><td>dm_hadr_automatic_seeding</td><td>sys</td><td>view</td></tr><tr><td>dm_hadr_availability_group_states</td><td>sys</td><td>view</td></tr><tr><td>dm_hadr_availability_replica_cluster_nodes</td><td>sys</td><td>view</td></tr><tr><td>dm_hadr_availability_replica_cluster_states</td><td>sys</td><td>view</td></tr><tr><td>dm_hadr_availability_replica_states</td><td>sys</td><td>view</td></tr><tr><td>dm_hadr_cached_database_replica_states</td><td>sys</td><td>view</td></tr><tr><td>dm_hadr_cached_replica_states</td><td>sys</td><td>view</td></tr><tr><td>dm_hadr_cluster</td><td>sys</td><td>view</td></tr><tr><td>dm_hadr_cluster_members</td><td>sys</td><td>view</td></tr><tr><td>dm_hadr_cluster_networks</td><td>sys</td><td>view</td></tr><tr><td>dm_hadr_database_replica_cluster_states</td><td>sys</td><td>view</td></tr><tr><td>dm_hadr_database_replica_states</td><td>sys</td><td>view</td></tr><tr><td>dm_hadr_db_threads</td><td>sys</td><td>view</td></tr><tr><td>dm_hadr_instance_node_map</td><td>sys</td><td>view</td></tr><tr><td>dm_hadr_name_id_map</td><td>sys</td><td>view</td></tr><tr><td>dm_hadr_physical_seeding_stats</td><td>sys</td><td>view</td></tr><tr><td>dm_hpc_device_stats</td><td>sys</td><td>view</td></tr><tr><td>dm_hpc_thread_proxy_stats</td><td>sys</td><td>view</td></tr><tr><td>dm_io_backup_tapes</td><td>sys</td><td>view</td></tr><tr><td>dm_io_cluster_shared_drives</td><td>sys</td><td>view</td></tr><tr><td>dm_io_cluster_valid_path_names</td><td>sys</td><td>view</td></tr><tr><td>dm_io_pending_io_requests</td><td>sys</td><td>view</td></tr><tr><td>dm_logpool_hashentries</td><td>sys</td><td>view</td></tr><tr><td>dm_logpool_stats</td><td>sys</td><td>view</td></tr><tr><td>dm_os_buffer_descriptors</td><td>sys</td><td>view</td></tr><tr><td>dm_os_buffer_pool_extension_configuration</td><td>sys</td><td>view</td></tr><tr><td>dm_os_child_instances</td><td>sys</td><td>view</td></tr><tr><td>dm_os_cluster_nodes</td><td>sys</td><td>view</td></tr><tr><td>dm_os_cluster_properties</td><td>sys</td><td>view</td></tr><tr><td>dm_os_dispatcher_pools</td><td>sys</td><td>view</td></tr><tr><td>dm_os_dispatchers</td><td>sys</td><td>view</td></tr><tr><td>dm_os_enumerate_fixed_drives</td><td>sys</td><td>view</td></tr><tr><td>dm_os_host_info</td><td>sys</td><td>view</td></tr><tr><td>dm_os_hosts</td><td>sys</td><td>view</td></tr><tr><td>dm_os_job_object</td><td>sys</td><td>view</td></tr><tr><td>dm_os_latch_stats</td><td>sys</td><td>view</td></tr><tr><td>dm_os_loaded_modules</td><td>sys</td><td>view</td></tr><tr><td>dm_os_memory_allocations</td><td>sys</td><td>view</td></tr><tr><td>dm_os_memory_broker_clerks</td><td>sys</td><td>view</td></tr><tr><td>dm_os_memory_brokers</td><td>sys</td><td>view</td></tr><tr><td>dm_os_memory_cache_clock_hands</td><td>sys</td><td>view</td></tr><tr><td>dm_os_memory_cache_counters</td><td>sys</td><td>view</td></tr><tr><td>dm_os_memory_cache_entries</td><td>sys</td><td>view</td></tr><tr><td>dm_os_memory_cache_hash_tables</td><td>sys</td><td>view</td></tr><tr><td>dm_os_memory_clerks</td><td>sys</td><td>view</td></tr><tr><td>dm_os_memory_node_access_stats</td><td>sys</td><td>view</td></tr><tr><td>dm_os_memory_nodes</td><td>sys</td><td>view</td></tr><tr><td>dm_os_memory_objects</td><td>sys</td><td>view</td></tr><tr><td>dm_os_memory_pools</td><td>sys</td><td>view</td></tr><tr><td>dm_os_nodes</td><td>sys</td><td>view</td></tr><tr><td>dm_os_performance_counters</td><td>sys</td><td>view</td></tr><tr><td>dm_os_process_memory</td><td>sys</td><td>view</td></tr><tr><td>dm_os_ring_buffers</td><td>sys</td><td>view</td></tr><tr><td>dm_os_schedulers</td><td>sys</td><td>view</td></tr><tr><td>dm_os_server_diagnostics_log_configurations</td><td>sys</td><td>view</td></tr><tr><td>dm_os_spinlock_stats</td><td>sys</td><td>view</td></tr><tr><td>dm_os_stacks</td><td>sys</td><td>view</td></tr><tr><td>dm_os_sublatches</td><td>sys</td><td>view</td></tr><tr><td>dm_os_sys_info</td><td>sys</td><td>view</td></tr><tr><td>dm_os_sys_memory</td><td>sys</td><td>view</td></tr><tr><td>dm_os_tasks</td><td>sys</td><td>view</td></tr><tr><td>dm_os_threads</td><td>sys</td><td>view</td></tr><tr><td>dm_os_virtual_address_dump</td><td>sys</td><td>view</td></tr><tr><td>dm_os_wait_stats</td><td>sys</td><td>view</td></tr><tr><td>dm_os_waiting_tasks</td><td>sys</td><td>view</td></tr><tr><td>dm_os_windows_info</td><td>sys</td><td>view</td></tr><tr><td>dm_os_worker_local_storage</td><td>sys</td><td>view</td></tr><tr><td>dm_os_workers</td><td>sys</td><td>view</td></tr><tr><td>dm_pal_cpu_stats</td><td>sys</td><td>view</td></tr><tr><td>dm_pal_disk_stats</td><td>sys</td><td>view</td></tr><tr><td>dm_pal_net_stats</td><td>sys</td><td>view</td></tr><tr><td>dm_pal_processes</td><td>sys</td><td>view</td></tr><tr><td>dm_pal_spinlock_stats</td><td>sys</td><td>view</td></tr><tr><td>dm_pal_vm_stats</td><td>sys</td><td>view</td></tr><tr><td>dm_pal_wait_stats</td><td>sys</td><td>view</td></tr><tr><td>dm_qn_subscriptions</td><td>sys</td><td>view</td></tr><tr><td>dm_repl_articles</td><td>sys</td><td>view</td></tr><tr><td>dm_repl_schemas</td><td>sys</td><td>view</td></tr><tr><td>dm_repl_tranhash</td><td>sys</td><td>view</td></tr><tr><td>dm_repl_traninfo</td><td>sys</td><td>view</td></tr><tr><td>dm_request_phases</td><td>sys</td><td>view</td></tr><tr><td>dm_resource_governor_configuration</td><td>sys</td><td>view</td></tr><tr><td>dm_resource_governor_external_resource_pool_affinity</td><td>sys</td><td>view</td></tr><tr><td>dm_resource_governor_external_resource_pools</td><td>sys</td><td>view</td></tr><tr><td>dm_resource_governor_resource_pool_affinity</td><td>sys</td><td>view</td></tr><tr><td>dm_resource_governor_resource_pool_volumes</td><td>sys</td><td>view</td></tr><tr><td>dm_resource_governor_resource_pools</td><td>sys</td><td>view</td></tr><tr><td>dm_resource_governor_workload_groups</td><td>sys</td><td>view</td></tr><tr><td>dm_server_audit_status</td><td>sys</td><td>view</td></tr><tr><td>dm_server_memory_dumps</td><td>sys</td><td>view</td></tr><tr><td>dm_server_registry</td><td>sys</td><td>view</td></tr><tr><td>dm_server_services</td><td>sys</td><td>view</td></tr><tr><td>dm_tcp_listener_states</td><td>sys</td><td>view</td></tr><tr><td>dm_toad_tuning_zones</td><td>sys</td><td>view</td></tr><tr><td>dm_toad_work_item_handlers</td><td>sys</td><td>view</td></tr><tr><td>dm_toad_work_items</td><td>sys</td><td>view</td></tr><tr><td>dm_tran_aborted_transactions</td><td>sys</td><td>view</td></tr><tr><td>dm_tran_active_snapshot_database_transactions</td><td>sys</td><td>view</td></tr><tr><td>dm_tran_active_transactions</td><td>sys</td><td>view</td></tr><tr><td>dm_tran_commit_table</td><td>sys</td><td>view</td></tr><tr><td>dm_tran_current_snapshot</td><td>sys</td><td>view</td></tr><tr><td>dm_tran_current_transaction</td><td>sys</td><td>view</td></tr><tr><td>dm_tran_database_transactions</td><td>sys</td><td>view</td></tr><tr><td>dm_tran_global_recovery_transactions</td><td>sys</td><td>view</td></tr><tr><td>dm_tran_global_transactions</td><td>sys</td><td>view</td></tr><tr><td>dm_tran_global_transactions_enlistments</td><td>sys</td><td>view</td></tr><tr><td>dm_tran_global_transactions_log</td><td>sys</td><td>view</td></tr><tr><td>dm_tran_locks</td><td>sys</td><td>view</td></tr><tr><td>dm_tran_persistent_version_store</td><td>sys</td><td>view</td></tr><tr><td>dm_tran_persistent_version_store_stats</td><td>sys</td><td>view</td></tr><tr><td>dm_tran_session_transactions</td><td>sys</td><td>view</td></tr><tr><td>dm_tran_top_version_generators</td><td>sys</td><td>view</td></tr><tr><td>dm_tran_transactions_snapshot</td><td>sys</td><td>view</td></tr><tr><td>dm_tran_version_store</td><td>sys</td><td>view</td></tr><tr><td>dm_tran_version_store_space_usage</td><td>sys</td><td>view</td></tr><tr><td>dm_xe_map_values</td><td>sys</td><td>view</td></tr><tr><td>dm_xe_object_columns</td><td>sys</td><td>view</td></tr><tr><td>dm_xe_objects</td><td>sys</td><td>view</td></tr><tr><td>dm_xe_packages</td><td>sys</td><td>view</td></tr><tr><td>dm_xe_session_event_actions</td><td>sys</td><td>view</td></tr><tr><td>dm_xe_session_events</td><td>sys</td><td>view</td></tr><tr><td>dm_xe_session_object_columns</td><td>sys</td><td>view</td></tr><tr><td>dm_xe_session_targets</td><td>sys</td><td>view</td></tr><tr><td>dm_xe_sessions</td><td>sys</td><td>view</td></tr><tr><td>dm_xtp_gc_queue_stats</td><td>sys</td><td>view</td></tr><tr><td>dm_xtp_gc_stats</td><td>sys</td><td>view</td></tr><tr><td>dm_xtp_system_memory_consumers</td><td>sys</td><td>view</td></tr><tr><td>dm_xtp_threads</td><td>sys</td><td>view</td></tr><tr><td>dm_xtp_transaction_recent_rows</td><td>sys</td><td>view</td></tr><tr><td>dm_xtp_transaction_stats</td><td>sys</td><td>view</td></tr><tr><td>edge_constraint_clauses</td><td>sys</td><td>view</td></tr><tr><td>edge_constraints</td><td>sys</td><td>view</td></tr><tr><td>endpoint_webmethods</td><td>sys</td><td>view</td></tr><tr><td>endpoints</td><td>sys</td><td>view</td></tr><tr><td>event_notification_event_types</td><td>sys</td><td>view</td></tr><tr><td>event_notifications</td><td>sys</td><td>view</td></tr><tr><td>events</td><td>sys</td><td>view</td></tr><tr><td>extended_procedures</td><td>sys</td><td>view</td></tr><tr><td>extended_properties</td><td>sys</td><td>view</td></tr><tr><td>external_data_sources</td><td>sys</td><td>view</td></tr><tr><td>external_file_formats</td><td>sys</td><td>view</td></tr><tr><td>external_job_streams</td><td>sys</td><td>view</td></tr><tr><td>external_language_files</td><td>sys</td><td>view</td></tr><tr><td>external_languages</td><td>sys</td><td>view</td></tr><tr><td>external_libraries</td><td>sys</td><td>view</td></tr><tr><td>external_libraries_installed</td><td>sys</td><td>view</td></tr><tr><td>external_library_files</td><td>sys</td><td>view</td></tr><tr><td>external_library_setup_errors</td><td>sys</td><td>view</td></tr><tr><td>external_stream_columns</td><td>sys</td><td>view</td></tr><tr><td>external_streaming_jobs</td><td>sys</td><td>view</td></tr><tr><td>external_streams</td><td>sys</td><td>view</td></tr><tr><td>external_table_columns</td><td>sys</td><td>view</td></tr><tr><td>external_tables</td><td>sys</td><td>view</td></tr><tr><td>filegroups</td><td>sys</td><td>view</td></tr><tr><td>filetable_system_defined_objects</td><td>sys</td><td>view</td></tr><tr><td>filetables</td><td>sys</td><td>view</td></tr><tr><td>foreign_key_columns</td><td>sys</td><td>view</td></tr><tr><td>foreign_keys</td><td>sys</td><td>view</td></tr><tr><td>fulltext_catalogs</td><td>sys</td><td>view</td></tr><tr><td>fulltext_document_types</td><td>sys</td><td>view</td></tr><tr><td>fulltext_index_catalog_usages</td><td>sys</td><td>view</td></tr><tr><td>fulltext_index_columns</td><td>sys</td><td>view</td></tr><tr><td>fulltext_index_fragments</td><td>sys</td><td>view</td></tr><tr><td>fulltext_indexes</td><td>sys</td><td>view</td></tr><tr><td>fulltext_languages</td><td>sys</td><td>view</td></tr><tr><td>fulltext_semantic_language_statistics_database</td><td>sys</td><td>view</td></tr><tr><td>fulltext_semantic_languages</td><td>sys</td><td>view</td></tr><tr><td>fulltext_stoplists</td><td>sys</td><td>view</td></tr><tr><td>fulltext_stopwords</td><td>sys</td><td>view</td></tr><tr><td>fulltext_system_stopwords</td><td>sys</td><td>view</td></tr><tr><td>function_order_columns</td><td>sys</td><td>view</td></tr><tr><td>hash_indexes</td><td>sys</td><td>view</td></tr><tr><td>http_endpoints</td><td>sys</td><td>view</td></tr><tr><td>identity_columns</td><td>sys</td><td>view</td></tr><tr><td>index_columns</td><td>sys</td><td>view</td></tr><tr><td>index_resumable_operations</td><td>sys</td><td>view</td></tr><tr><td>indexes</td><td>sys</td><td>view</td></tr><tr><td>internal_partitions</td><td>sys</td><td>view</td></tr><tr><td>internal_tables</td><td>sys</td><td>view</td></tr><tr><td>key_constraints</td><td>sys</td><td>view</td></tr><tr><td>key_encryptions</td><td>sys</td><td>view</td></tr><tr><td>linked_logins</td><td>sys</td><td>view</td></tr><tr><td>login_token</td><td>sys</td><td>view</td></tr><tr><td>masked_columns</td><td>sys</td><td>view</td></tr><tr><td>master_files</td><td>sys</td><td>view</td></tr><tr><td>master_key_passwords</td><td>sys</td><td>view</td></tr><tr><td>memory_optimized_tables_internal_attributes</td><td>sys</td><td>view</td></tr><tr><td>message_type_xml_schema_collection_usages</td><td>sys</td><td>view</td></tr><tr><td>messages</td><td>sys</td><td>view</td></tr><tr><td>module_assembly_usages</td><td>sys</td><td>view</td></tr><tr><td>numbered_procedure_parameters</td><td>sys</td><td>view</td></tr><tr><td>numbered_procedures</td><td>sys</td><td>view</td></tr><tr><td>objects</td><td>sys</td><td>view</td></tr><tr><td>openkeys</td><td>sys</td><td>view</td></tr><tr><td>parameter_type_usages</td><td>sys</td><td>view</td></tr><tr><td>parameter_xml_schema_collection_usages</td><td>sys</td><td>view</td></tr><tr><td>parameters</td><td>sys</td><td>view</td></tr><tr><td>partition_functions</td><td>sys</td><td>view</td></tr><tr><td>partition_parameters</td><td>sys</td><td>view</td></tr><tr><td>partition_range_values</td><td>sys</td><td>view</td></tr><tr><td>partition_schemes</td><td>sys</td><td>view</td></tr><tr><td>partitions</td><td>sys</td><td>view</td></tr><tr><td>periods</td><td>sys</td><td>view</td></tr><tr><td>plan_guides</td><td>sys</td><td>view</td></tr><tr><td>procedures</td><td>sys</td><td>view</td></tr><tr><td>query_context_settings</td><td>sys</td><td>view</td></tr><tr><td>query_store_plan</td><td>sys</td><td>view</td></tr><tr><td>query_store_query</td><td>sys</td><td>view</td></tr><tr><td>query_store_query_hints</td><td>sys</td><td>view</td></tr><tr><td>query_store_query_text</td><td>sys</td><td>view</td></tr><tr><td>query_store_runtime_stats</td><td>sys</td><td>view</td></tr><tr><td>query_store_runtime_stats_interval</td><td>sys</td><td>view</td></tr><tr><td>query_store_wait_stats</td><td>sys</td><td>view</td></tr><tr><td>registered_search_properties</td><td>sys</td><td>view</td></tr><tr><td>registered_search_property_lists</td><td>sys</td><td>view</td></tr><tr><td>remote_data_archive_databases</td><td>sys</td><td>view</td></tr><tr><td>remote_data_archive_tables</td><td>sys</td><td>view</td></tr><tr><td>remote_logins</td><td>sys</td><td>view</td></tr><tr><td>remote_service_bindings</td><td>sys</td><td>view</td></tr><tr><td>resource_governor_configuration</td><td>sys</td><td>view</td></tr><tr><td>resource_governor_external_resource_pool_affinity</td><td>sys</td><td>view</td></tr><tr><td>resource_governor_external_resource_pools</td><td>sys</td><td>view</td></tr><tr><td>resource_governor_resource_pool_affinity</td><td>sys</td><td>view</td></tr><tr><td>resource_governor_resource_pools</td><td>sys</td><td>view</td></tr><tr><td>resource_governor_workload_groups</td><td>sys</td><td>view</td></tr><tr><td>routes</td><td>sys</td><td>view</td></tr><tr><td>schemas</td><td>sys</td><td>view</td></tr><tr><td>securable_classes</td><td>sys</td><td>view</td></tr><tr><td>security_policies</td><td>sys</td><td>view</td></tr><tr><td>security_predicates</td><td>sys</td><td>view</td></tr><tr><td>selective_xml_index_namespaces</td><td>sys</td><td>view</td></tr><tr><td>selective_xml_index_paths</td><td>sys</td><td>view</td></tr><tr><td>sensitivity_classifications</td><td>sys</td><td>view</td></tr><tr><td>sequences</td><td>sys</td><td>view</td></tr><tr><td>server_assembly_modules</td><td>sys</td><td>view</td></tr><tr><td>server_audit_specification_details</td><td>sys</td><td>view</td></tr><tr><td>server_audit_specifications</td><td>sys</td><td>view</td></tr><tr><td>server_audits</td><td>sys</td><td>view</td></tr><tr><td>server_event_notifications</td><td>sys</td><td>view</td></tr><tr><td>server_event_session_actions</td><td>sys</td><td>view</td></tr><tr><td>server_event_session_events</td><td>sys</td><td>view</td></tr><tr><td>server_event_session_fields</td><td>sys</td><td>view</td></tr><tr><td>server_event_session_targets</td><td>sys</td><td>view</td></tr><tr><td>server_event_sessions</td><td>sys</td><td>view</td></tr><tr><td>server_events</td><td>sys</td><td>view</td></tr><tr><td>server_file_audits</td><td>sys</td><td>view</td></tr><tr><td>server_memory_optimized_hybrid_buffer_pool_configuration</td><td>sys</td><td>view</td></tr><tr><td>server_permissions</td><td>sys</td><td>view</td></tr><tr><td>server_principal_credentials</td><td>sys</td><td>view</td></tr><tr><td>server_principals</td><td>sys</td><td>view</td></tr><tr><td>server_role_members</td><td>sys</td><td>view</td></tr><tr><td>server_sql_modules</td><td>sys</td><td>view</td></tr><tr><td>server_trigger_events</td><td>sys</td><td>view</td></tr><tr><td>server_triggers</td><td>sys</td><td>view</td></tr><tr><td>servers</td><td>sys</td><td>view</td></tr><tr><td>service_broker_endpoints</td><td>sys</td><td>view</td></tr><tr><td>service_contract_message_usages</td><td>sys</td><td>view</td></tr><tr><td>service_contract_usages</td><td>sys</td><td>view</td></tr><tr><td>service_contracts</td><td>sys</td><td>view</td></tr><tr><td>service_message_types</td><td>sys</td><td>view</td></tr><tr><td>service_queue_usages</td><td>sys</td><td>view</td></tr><tr><td>service_queues</td><td>sys</td><td>view</td></tr><tr><td>services</td><td>sys</td><td>view</td></tr><tr><td>soap_endpoints</td><td>sys</td><td>view</td></tr><tr><td>spatial_index_tessellations</td><td>sys</td><td>view</td></tr><tr><td>spatial_indexes</td><td>sys</td><td>view</td></tr><tr><td>spatial_reference_systems</td><td>sys</td><td>view</td></tr><tr><td>sql_dependencies</td><td>sys</td><td>view</td></tr><tr><td>sql_expression_dependencies</td><td>sys</td><td>view</td></tr><tr><td>sql_logins</td><td>sys</td><td>view</td></tr><tr><td>sql_modules</td><td>sys</td><td>view</td></tr><tr><td>stats</td><td>sys</td><td>view</td></tr><tr><td>stats_columns</td><td>sys</td><td>view</td></tr><tr><td>symmetric_keys</td><td>sys</td><td>view</td></tr><tr><td>synonyms</td><td>sys</td><td>view</td></tr><tr><td>sysaltfiles</td><td>sys</td><td>view</td></tr><tr><td>syscacheobjects</td><td>sys</td><td>view</td></tr><tr><td>syscharsets</td><td>sys</td><td>view</td></tr><tr><td>syscolumns</td><td>sys</td><td>view</td></tr><tr><td>syscomments</td><td>sys</td><td>view</td></tr><tr><td>sysconfigures</td><td>sys</td><td>view</td></tr><tr><td>sysconstraints</td><td>sys</td><td>view</td></tr><tr><td>syscscontainers</td><td>sys</td><td>view</td></tr><tr><td>syscurconfigs</td><td>sys</td><td>view</td></tr><tr><td>syscursorcolumns</td><td>sys</td><td>view</td></tr><tr><td>syscursorrefs</td><td>sys</td><td>view</td></tr><tr><td>syscursors</td><td>sys</td><td>view</td></tr><tr><td>syscursortables</td><td>sys</td><td>view</td></tr><tr><td>sysdatabases</td><td>sys</td><td>view</td></tr><tr><td>sysdepends</td><td>sys</td><td>view</td></tr><tr><td>sysdevices</td><td>sys</td><td>view</td></tr><tr><td>sysfilegroups</td><td>sys</td><td>view</td></tr><tr><td>sysfiles</td><td>sys</td><td>view</td></tr><tr><td>sysforeignkeys</td><td>sys</td><td>view</td></tr><tr><td>sysfulltextcatalogs</td><td>sys</td><td>view</td></tr><tr><td>sysindexes</td><td>sys</td><td>view</td></tr><tr><td>sysindexkeys</td><td>sys</td><td>view</td></tr><tr><td>syslanguages</td><td>sys</td><td>view</td></tr><tr><td>syslockinfo</td><td>sys</td><td>view</td></tr><tr><td>syslogins</td><td>sys</td><td>view</td></tr><tr><td>sysmembers</td><td>sys</td><td>view</td></tr><tr><td>sysmessages</td><td>sys</td><td>view</td></tr><tr><td>sysobjects</td><td>sys</td><td>view</td></tr><tr><td>sysoledbusers</td><td>sys</td><td>view</td></tr><tr><td>sysopentapes</td><td>sys</td><td>view</td></tr><tr><td>sysperfinfo</td><td>sys</td><td>view</td></tr><tr><td>syspermissions</td><td>sys</td><td>view</td></tr><tr><td>sysprocesses</td><td>sys</td><td>view</td></tr><tr><td>sysprotects</td><td>sys</td><td>view</td></tr><tr><td>sysreferences</td><td>sys</td><td>view</td></tr><tr><td>sysremotelogins</td><td>sys</td><td>view</td></tr><tr><td>sysservers</td><td>sys</td><td>view</td></tr><tr><td>system_columns</td><td>sys</td><td>view</td></tr><tr><td>system_components_surface_area_configuration</td><td>sys</td><td>view</td></tr><tr><td>system_internals_allocation_units</td><td>sys</td><td>view</td></tr><tr><td>system_internals_partition_columns</td><td>sys</td><td>view</td></tr><tr><td>system_internals_partitions</td><td>sys</td><td>view</td></tr><tr><td>system_objects</td><td>sys</td><td>view</td></tr><tr><td>system_parameters</td><td>sys</td><td>view</td></tr><tr><td>system_sql_modules</td><td>sys</td><td>view</td></tr><tr><td>system_views</td><td>sys</td><td>view</td></tr><tr><td>systypes</td><td>sys</td><td>view</td></tr><tr><td>sysusers</td><td>sys</td><td>view</td></tr><tr><td>table_types</td><td>sys</td><td>view</td></tr><tr><td>tables</td><td>sys</td><td>view</td></tr><tr><td>tcp_endpoints</td><td>sys</td><td>view</td></tr><tr><td>time_zone_info</td><td>sys</td><td>view</td></tr><tr><td>trace_categories</td><td>sys</td><td>view</td></tr><tr><td>trace_columns</td><td>sys</td><td>view</td></tr><tr><td>trace_event_bindings</td><td>sys</td><td>view</td></tr><tr><td>trace_events</td><td>sys</td><td>view</td></tr><tr><td>trace_subclass_values</td><td>sys</td><td>view</td></tr><tr><td>traces</td><td>sys</td><td>view</td></tr><tr><td>transmission_queue</td><td>sys</td><td>view</td></tr><tr><td>trigger_event_types</td><td>sys</td><td>view</td></tr><tr><td>trigger_events</td><td>sys</td><td>view</td></tr><tr><td>triggers</td><td>sys</td><td>view</td></tr><tr><td>trusted_assemblies</td><td>sys</td><td>view</td></tr><tr><td>type_assembly_usages</td><td>sys</td><td>view</td></tr><tr><td>types</td><td>sys</td><td>view</td></tr><tr><td>user_token</td><td>sys</td><td>view</td></tr><tr><td>via_endpoints</td><td>sys</td><td>view</td></tr><tr><td>views</td><td>sys</td><td>view</td></tr><tr><td>xml_indexes</td><td>sys</td><td>view</td></tr><tr><td>xml_schema_attributes</td><td>sys</td><td>view</td></tr><tr><td>xml_schema_collections</td><td>sys</td><td>view</td></tr><tr><td>xml_schema_component_placements</td><td>sys</td><td>view</td></tr><tr><td>xml_schema_components</td><td>sys</td><td>view</td></tr><tr><td>xml_schema_elements</td><td>sys</td><td>view</td></tr><tr><td>xml_schema_facets</td><td>sys</td><td>view</td></tr><tr><td>xml_schema_model_groups</td><td>sys</td><td>view</td></tr><tr><td>xml_schema_namespaces</td><td>sys</td><td>view</td></tr><tr><td>xml_schema_types</td><td>sys</td><td>view</td></tr><tr><td>xml_schema_wildcard_namespaces</td><td>sys</td><td>view</td></tr><tr><td>xml_schema_wildcards</td><td>sys</td><td>view</td></tr><tr><td>trace_xe_action_map</td><td>sys</td><td>user table</td></tr><tr><td>trace_xe_event_map</td><td>sys</td><td>user table</td></tr><tr><td>fn_EnumCurrentPrincipals</td><td>sys</td><td>table function</td></tr><tr><td>fn_helpdatatypemap</td><td>sys</td><td>table function</td></tr><tr><td>fn_listextendedproperty</td><td>sys</td><td>table function</td></tr><tr><td>fn_my_permissions</td><td>sys</td><td>table function</td></tr><tr><td>fn_PageResCracker</td><td>sys</td><td>table function</td></tr><tr><td>fn_PhysLocCracker</td><td>sys</td><td>table function</td></tr><tr><td>fn_replgetcolidfrombitmap</td><td>sys</td><td>table function</td></tr><tr><td>fn_RowDumpCracker</td><td>sys</td><td>table function</td></tr><tr><td>fn_servershareddrives</td><td>sys</td><td>table function</td></tr><tr><td>fn_sqlagent_job_history</td><td>sys</td><td>table function</td></tr><tr><td>fn_sqlagent_jobs</td><td>sys</td><td>table function</td></tr><tr><td>fn_sqlagent_jobsteps</td><td>sys</td><td>table function</td></tr><tr><td>fn_sqlagent_jobsteps_logs</td><td>sys</td><td>table function</td></tr><tr><td>fn_sqlagent_subsystems</td><td>sys</td><td>table function</td></tr><tr><td>fn_trace_geteventinfo</td><td>sys</td><td>table function</td></tr><tr><td>fn_trace_getfilterinfo</td><td>sys</td><td>table function</td></tr><tr><td>fn_trace_getinfo</td><td>sys</td><td>table function</td></tr><tr><td>fn_virtualfilestats</td><td>sys</td><td>table function</td></tr><tr><td>fn_virtualservernodes</td><td>sys</td><td>table function</td></tr><tr><td>sysallocunits</td><td>sys</td><td>system table</td></tr><tr><td>sysasymkeys</td><td>sys</td><td>system table</td></tr><tr><td>sysaudacts</td><td>sys</td><td>system table</td></tr><tr><td>sysbinobjs</td><td>sys</td><td>system table</td></tr><tr><td>sysbinsubobjs</td><td>sys</td><td>system table</td></tr><tr><td>sysbrickfiles</td><td>sys</td><td>system table</td></tr><tr><td>syscerts</td><td>sys</td><td>system table</td></tr><tr><td>syschildinsts</td><td>sys</td><td>system table</td></tr><tr><td>sysclones</td><td>sys</td><td>system table</td></tr><tr><td>sysclsobjs</td><td>sys</td><td>system table</td></tr><tr><td>syscolpars</td><td>sys</td><td>system table</td></tr><tr><td>syscompfragments</td><td>sys</td><td>system table</td></tr><tr><td>sysconvgroup</td><td>sys</td><td>system table</td></tr><tr><td>syscscolsegments</td><td>sys</td><td>system table</td></tr><tr><td>syscsdictionaries</td><td>sys</td><td>system table</td></tr><tr><td>syscsrowgroups</td><td>sys</td><td>system table</td></tr><tr><td>sysdbfiles</td><td>sys</td><td>system table</td></tr><tr><td>sysdbfrag</td><td>sys</td><td>system table</td></tr><tr><td>sysdbreg</td><td>sys</td><td>system table</td></tr><tr><td>sysdercv</td><td>sys</td><td>system table</td></tr><tr><td>sysdesend</td><td>sys</td><td>system table</td></tr><tr><td>sysendpts</td><td>sys</td><td>system table</td></tr><tr><td>sysextfileformats</td><td>sys</td><td>system table</td></tr><tr><td>sysextsources</td><td>sys</td><td>system table</td></tr><tr><td>sysexttables</td><td>sys</td><td>system table</td></tr><tr><td>sysfgfrag</td><td>sys</td><td>system table</td></tr><tr><td>sysfiles1</td><td>sys</td><td>system table</td></tr><tr><td>sysfoqueues</td><td>sys</td><td>system table</td></tr><tr><td>sysfos</td><td>sys</td><td>system table</td></tr><tr><td>sysftinds</td><td>sys</td><td>system table</td></tr><tr><td>sysftproperties</td><td>sys</td><td>system table</td></tr><tr><td>sysftsemanticsdb</td><td>sys</td><td>system table</td></tr><tr><td>sysftstops</td><td>sys</td><td>system table</td></tr><tr><td>sysguidrefs</td><td>sys</td><td>system table</td></tr><tr><td>sysidxstats</td><td>sys</td><td>system table</td></tr><tr><td>sysiscols</td><td>sys</td><td>system table</td></tr><tr><td>syslnklgns</td><td>sys</td><td>system table</td></tr><tr><td>sysmultiobjrefs</td><td>sys</td><td>system table</td></tr><tr><td>sysmultiobjvalues</td><td>sys</td><td>system table</td></tr><tr><td>sysnsobjs</td><td>sys</td><td>system table</td></tr><tr><td>sysobjkeycrypts</td><td>sys</td><td>system table</td></tr><tr><td>sysobjvalues</td><td>sys</td><td>system table</td></tr><tr><td>sysowners</td><td>sys</td><td>system table</td></tr><tr><td>sysphfg</td><td>sys</td><td>system table</td></tr><tr><td>syspriorities</td><td>sys</td><td>system table</td></tr><tr><td>sysprivs</td><td>sys</td><td>system table</td></tr><tr><td>syspru</td><td>sys</td><td>system table</td></tr><tr><td>sysprufiles</td><td>sys</td><td>system table</td></tr><tr><td>sysqnames</td><td>sys</td><td>system table</td></tr><tr><td>sysremsvcbinds</td><td>sys</td><td>system table</td></tr><tr><td>sysrmtlgns</td><td>sys</td><td>system table</td></tr><tr><td>sysrowsetrefs</td><td>sys</td><td>system table</td></tr><tr><td>sysrowsets</td><td>sys</td><td>system table</td></tr><tr><td>sysrscols</td><td>sys</td><td>system table</td></tr><tr><td>sysrts</td><td>sys</td><td>system table</td></tr><tr><td>sysscalartypes</td><td>sys</td><td>system table</td></tr><tr><td>sysschobjs</td><td>sys</td><td>system table</td></tr><tr><td>sysseobjvalues</td><td>sys</td><td>system table</td></tr><tr><td>syssingleobjrefs</td><td>sys</td><td>system table</td></tr><tr><td>syssoftobjrefs</td><td>sys</td><td>system table</td></tr><tr><td>syssqlguides</td><td>sys</td><td>system table</td></tr><tr><td>systypedsubobjs</td><td>sys</td><td>system table</td></tr><tr><td>sysusermsgs</td><td>sys</td><td>system table</td></tr><tr><td>syswebmethods</td><td>sys</td><td>system table</td></tr><tr><td>sysxlgns</td><td>sys</td><td>system table</td></tr><tr><td>sysxmitbody</td><td>sys</td><td>system table</td></tr><tr><td>sysxmitqueue</td><td>sys</td><td>system table</td></tr><tr><td>sysxmlcomponent</td><td>sys</td><td>system table</td></tr><tr><td>sysxmlfacet</td><td>sys</td><td>system table</td></tr><tr><td>sysxmlplacement</td><td>sys</td><td>system table</td></tr><tr><td>sysxprops</td><td>sys</td><td>system table</td></tr><tr><td>sysxsrvs</td><td>sys</td><td>system table</td></tr><tr><td>sp_add_agent_parameter</td><td>sys</td><td>stored procedure</td></tr><tr><td>sp_add_agent_profile</td><td>sys</td><td>stored procedure</td></tr><tr><td>sp_add_columnstore_column_dictionary</td><td>sys</td><td>stored procedure</td></tr><tr><td>sp_add_data_file_recover_suspect_db</td><td>sys</td><td>stored procedure</td></tr><tr><td>sp_add_log_file_recover_suspect_db</td><td>sys</td><td>stored procedure</td></tr><tr><td>sp_add_log_shipping_alert_job</td><td>sys</td><td>stored procedure</td></tr><tr><td>sp_add_log_shipping_primary_database</td><td>sys</td><td>stored procedure</td></tr><tr><td>sp_add_log_shipping_primary_secondary</td><td>sys</td><td>stored procedure</td></tr><tr><td>sp_add_log_shipping_secondary_database</td><td>sys</td><td>stored procedure</td></tr><tr><td>sp_add_log_shipping_secondary_primary</td><td>sys</td><td>stored procedure</td></tr><tr><td>sp_addapprole</td><td>sys</td><td>stored procedure</td></tr><tr><td>sp_addarticle</td><td>sys</td><td>stored procedure</td></tr><tr><td>sp_adddatatype</td><td>sys</td><td>stored procedure</td></tr><tr><td>sp_adddatatypemapping</td><td>sys</td><td>stored procedure</td></tr><tr><td>sp_adddistpublisher</td><td>sys</td><td>stored procedure</td></tr><tr><td>sp_adddistributiondb</td><td>sys</td><td>stored procedure</td></tr><tr><td>sp_adddistributor</td><td>sys</td><td>stored procedure</td></tr><tr><td>sp_adddynamicsnapshot_job</td><td>sys</td><td>stored procedure</td></tr><tr><td>sp_addextendedproc</td><td>sys</td><td>stored procedure</td></tr><tr><td>sp_addextendedproperty</td><td>sys</td><td>stored procedure</td></tr><tr><td>sp_addlinkedserver</td><td>sys</td><td>stored procedure</td></tr><tr><td>sp_addlinkedsrvlogin</td><td>sys</td><td>stored procedure</td></tr><tr><td>sp_addlogin</td><td>sys</td><td>stored procedure</td></tr><tr><td>sp_addlogreader_agent</td><td>sys</td><td>stored procedure</td></tr><tr><td>sp_addmergealternatepublisher</td><td>sys</td><td>stored procedure</td></tr><tr><td>sp_addmergearticle</td><td>sys</td><td>stored procedure</td></tr><tr><td>sp_addmergefilter</td><td>sys</td><td>stored procedure</td></tr><tr><td>sp_addmergelogsettings</td><td>sys</td><td>stored procedure</td></tr><tr><td>sp_addmergepartition</td><td>sys</td><td>stored procedure</td></tr><tr><td>sp_addmergepublication</td><td>sys</td><td>stored procedure</td></tr><tr><td>sp_addmergepullsubscription</td><td>sys</td><td>stored procedure</td></tr><tr><td>sp_addmergepullsubscription_agent</td><td>sys</td><td>stored procedure</td></tr><tr><td>sp_addmergepushsubscription_agent</td><td>sys</td><td>stored procedure</td></tr><tr><td>sp_addmergesubscription</td><td>sys</td><td>stored procedure</td></tr><tr><td>sp_addmessage</td><td>sys</td><td>stored procedure</td></tr><tr><td>sp_addpublication</td><td>sys</td><td>stored procedure</td></tr><tr><td>sp_addpublication_snapshot</td><td>sys</td><td>stored procedure</td></tr><tr><td>sp_addpullsubscription</td><td>sys</td><td>stored procedure</td></tr><tr><td>sp_addpullsubscription_agent</td><td>sys</td><td>stored procedure</td></tr><tr><td>sp_addpushsubscription_agent</td><td>sys</td><td>stored procedure</td></tr><tr><td>sp_addqreader_agent</td><td>sys</td><td>stored procedure</td></tr><tr><td>sp_addqueued_artinfo</td><td>sys</td><td>stored procedure</td></tr><tr><td>sp_addremotelogin</td><td>sys</td><td>stored procedure</td></tr><tr><td>sp_addrole</td><td>sys</td><td>stored procedure</td></tr><tr><td>sp_addrolemember</td><td>sys</td><td>stored procedure</td></tr><tr><td>sp_addscriptexec</td><td>sys</td><td>stored procedure</td></tr><tr><td>sp_addserver</td><td>sys</td><td>stored procedure</td></tr><tr><td>sp_addsrvrolemember</td><td>sys</td><td>stored procedure</td></tr><tr><td>sp_addsubscriber</td><td>sys</td><td>stored procedure</td></tr><tr><td>sp_addsubscriber_schedule</td><td>sys</td><td>stored procedure</td></tr><tr><td>sp_addsubscription</td><td>sys</td><td>stored procedure</td></tr><tr><td>sp_addsynctriggers</td><td>sys</td><td>stored procedure</td></tr><tr><td>sp_addsynctriggerscore</td><td>sys</td><td>stored procedure</td></tr><tr><td>sp_addtabletocontents</td><td>sys</td><td>stored procedure</td></tr><tr><td>sp_addtype</td><td>sys</td><td>stored procedure</td></tr><tr><td>sp_addumpdevice</td><td>sys</td><td>stored procedure</td></tr><tr><td>sp_adduser</td><td>sys</td><td>stored procedure</td></tr><tr><td>sp_adjustpublisheridentityrange</td><td>sys</td><td>stored procedure</td></tr><tr><td>sp_altermessage</td><td>sys</td><td>stored procedure</td></tr><tr><td>sp_approlepassword</td><td>sys</td><td>stored procedure</td></tr><tr><td>sp_article_validation</td><td>sys</td><td>stored procedure</td></tr><tr><td>sp_articlecolumn</td><td>sys</td><td>stored procedure</td></tr><tr><td>sp_articlefilter</td><td>sys</td><td>stored procedure</td></tr><tr><td>sp_articleview</td><td>sys</td><td>stored procedure</td></tr><tr><td>sp_assemblies_rowset</td><td>sys</td><td>stored procedure</td></tr><tr><td>sp_assemblies_rowset_rmt</td><td>sys</td><td>stored procedure</td></tr><tr><td>sp_assemblies_rowset2</td><td>sys</td><td>stored procedure</td></tr><tr><td>sp_assembly_dependencies_rowset</td><td>sys</td><td>stored procedure</td></tr><tr><td>sp_assembly_dependencies_rowset_rmt</td><td>sys</td><td>stored procedure</td></tr><tr><td>sp_assembly_dependencies_rowset2</td><td>sys</td><td>stored procedure</td></tr><tr><td>sp_attach_db</td><td>sys</td><td>stored procedure</td></tr><tr><td>sp_attach_single_file_db</td><td>sys</td><td>stored procedure</td></tr><tr><td>sp_attachsubscription</td><td>sys</td><td>stored procedure</td></tr><tr><td>sp_autostats</td><td>sys</td><td>stored procedure</td></tr><tr><td>sp_bcp_dbcmptlevel</td><td>sys</td><td>stored procedure</td></tr><tr><td>sp_bindefault</td><td>sys</td><td>stored procedure</td></tr><tr><td>sp_bindrule</td><td>sys</td><td>stored procedure</td></tr><tr><td>sp_browsemergesnapshotfolder</td><td>sys</td><td>stored procedure</td></tr><tr><td>sp_browsereplcmds</td><td>sys</td><td>stored procedure</td></tr><tr><td>sp_browsesnapshotfolder</td><td>sys</td><td>stored procedure</td></tr><tr><td>sp_can_tlog_be_applied</td><td>sys</td><td>stored procedure</td></tr><tr><td>sp_catalogs</td><td>sys</td><td>stored procedure</td></tr><tr><td>sp_catalogs_rowset</td><td>sys</td><td>stored procedure</td></tr><tr><td>sp_catalogs_rowset_rmt</td><td>sys</td><td>stored procedure</td></tr><tr><td>sp_catalogs_rowset2</td><td>sys</td><td>stored procedure</td></tr><tr><td>sp_cdc_add_job</td><td>sys</td><td>stored procedure</td></tr><tr><td>sp_cdc_change_job</td><td>sys</td><td>stored procedure</td></tr><tr><td>sp_cdc_cleanup_change_table</td><td>sys</td><td>stored procedure</td></tr><tr><td>sp_cdc_dbsnapshotLSN</td><td>sys</td><td>stored procedure</td></tr><tr><td>sp_cdc_disable_db</td><td>sys</td><td>stored procedure</td></tr><tr><td>sp_cdc_disable_table</td><td>sys</td><td>stored procedure</td></tr><tr><td>sp_cdc_drop_job</td><td>sys</td><td>stored procedure</td></tr><tr><td>sp_cdc_enable_db</td><td>sys</td><td>stored procedure</td></tr><tr><td>sp_cdc_enable_table</td><td>sys</td><td>stored procedure</td></tr><tr><td>sp_cdc_generate_wrapper_function</td><td>sys</td><td>stored procedure</td></tr><tr><td>sp_cdc_get_captured_columns</td><td>sys</td><td>stored procedure</td></tr><tr><td>sp_cdc_get_ddl_history</td><td>sys</td><td>stored procedure</td></tr><tr><td>sp_cdc_help_change_data_capture</td><td>sys</td><td>stored procedure</td></tr><tr><td>sp_cdc_help_jobs</td><td>sys</td><td>stored procedure</td></tr><tr><td>sp_cdc_restoredb</td><td>sys</td><td>stored procedure</td></tr><tr><td>sp_cdc_scan</td><td>sys</td><td>stored procedure</td></tr><tr><td>sp_cdc_start_job</td><td>sys</td><td>stored procedure</td></tr><tr><td>sp_cdc_stop_job</td><td>sys</td><td>stored procedure</td></tr><tr><td>sp_cdc_vupgrade</td><td>sys</td><td>stored procedure</td></tr><tr><td>sp_cdc_vupgrade_databases</td><td>sys</td><td>stored procedure</td></tr><tr><td>sp_certify_removable</td><td>sys</td><td>stored procedure</td></tr><tr><td>sp_change_agent_parameter</td><td>sys</td><td>stored procedure</td></tr><tr><td>sp_change_agent_profile</td><td>sys</td><td>stored procedure</td></tr><tr><td>sp_change_log_shipping_primary_database</td><td>sys</td><td>stored procedure</td></tr><tr><td>sp_change_log_shipping_secondary_database</td><td>sys</td><td>stored procedure</td></tr><tr><td>sp_change_log_shipping_secondary_primary</td><td>sys</td><td>stored procedure</td></tr><tr><td>sp_change_repl_serverport</td><td>sys</td><td>stored procedure</td></tr><tr><td>sp_change_subscription_properties</td><td>sys</td><td>stored procedure</td></tr><tr><td>sp_change_users_login</td><td>sys</td><td>stored procedure</td></tr><tr><td>sp_changearticle</td><td>sys</td><td>stored procedure</td></tr><tr><td>sp_changearticlecolumndatatype</td><td>sys</td><td>stored procedure</td></tr><tr><td>sp_changedbowner</td><td>sys</td><td>stored procedure</td></tr><tr><td>sp_changedistpublisher</td><td>sys</td><td>stored procedure</td></tr><tr><td>sp_changedistributiondb</td><td>sys</td><td>stored procedure</td></tr><tr><td>sp_changedistributor_password</td><td>sys</td><td>stored procedure</td></tr><tr><td>sp_changedistributor_property</td><td>sys</td><td>stored procedure</td></tr><tr><td>sp_changedynamicsnapshot_job</td><td>sys</td><td>stored procedure</td></tr><tr><td>sp_changelogreader_agent</td><td>sys</td><td>stored procedure</td></tr><tr><td>sp_changemergearticle</td><td>sys</td><td>stored procedure</td></tr><tr><td>sp_changemergefilter</td><td>sys</td><td>stored procedure</td></tr><tr><td>sp_changemergelogsettings</td><td>sys</td><td>stored procedure</td></tr><tr><td>sp_changemergepublication</td><td>sys</td><td>stored procedure</td></tr><tr><td>sp_changemergepullsubscription</td><td>sys</td><td>stored procedure</td></tr><tr><td>sp_changemergesubscription</td><td>sys</td><td>stored procedure</td></tr><tr><td>sp_changeobjectowner</td><td>sys</td><td>stored procedure</td></tr><tr><td>sp_changepublication</td><td>sys</td><td>stored procedure</td></tr><tr><td>sp_changepublication_snapshot</td><td>sys</td><td>stored procedure</td></tr><tr><td>sp_changeqreader_agent</td><td>sys</td><td>stored procedure</td></tr><tr><td>sp_changereplicationserverpasswords</td><td>sys</td><td>stored procedure</td></tr><tr><td>sp_changesubscriber</td><td>sys</td><td>stored procedure</td></tr><tr><td>sp_changesubscriber_schedule</td><td>sys</td><td>stored procedure</td></tr><tr><td>sp_changesubscription</td><td>sys</td><td>stored procedure</td></tr><tr><td>sp_changesubscriptiondtsinfo</td><td>sys</td><td>stored procedure</td></tr><tr><td>sp_changesubstatus</td><td>sys</td><td>stored procedure</td></tr><tr><td>sp_check_constbytable_rowset</td><td>sys</td><td>stored procedure</td></tr><tr><td>sp_check_constbytable_rowset2</td><td>sys</td><td>stored procedure</td></tr><tr><td>sp_check_constraints_rowset</td><td>sys</td><td>stored procedure</td></tr><tr><td>sp_check_constraints_rowset2</td><td>sys</td><td>stored procedure</td></tr><tr><td>sp_check_dynamic_filters</td><td>sys</td><td>stored procedure</td></tr><tr><td>sp_check_for_sync_trigger</td><td>sys</td><td>stored procedure</td></tr><tr><td>sp_check_join_filter</td><td>sys</td><td>stored procedure</td></tr><tr><td>sp_check_log_shipping_monitor_alert</td><td>sys</td><td>stored procedure</td></tr><tr><td>sp_check_publication_access</td><td>sys</td><td>stored procedure</td></tr><tr><td>sp_check_removable</td><td>sys</td><td>stored procedure</td></tr><tr><td>sp_check_subset_filter</td><td>sys</td><td>stored procedure</td></tr><tr><td>sp_check_sync_trigger</td><td>sys</td><td>stored procedure</td></tr><tr><td>sp_checkinvalidivarticle</td><td>sys</td><td>stored procedure</td></tr><tr><td>sp_checkOraclepackageversion</td><td>sys</td><td>stored procedure</td></tr><tr><td>sp_clean_db_file_free_space</td><td>sys</td><td>stored procedure</td></tr><tr><td>sp_clean_db_free_space</td><td>sys</td><td>stored procedure</td></tr><tr><td>sp_cleanmergelogfiles</td><td>sys</td><td>stored procedure</td></tr><tr><td>sp_cleanup_data_retention</td><td>sys</td><td>stored procedure</td></tr><tr><td>sp_cleanup_log_shipping_history</td><td>sys</td><td>stored procedure</td></tr><tr><td>sp_cleanup_temporal_history</td><td>sys</td><td>stored procedure</td></tr><tr><td>sp_cleanupdbreplication</td><td>sys</td><td>stored procedure</td></tr><tr><td>sp_column_privileges</td><td>sys</td><td>stored procedure</td></tr><tr><td>sp_column_privileges_ex</td><td>sys</td><td>stored procedure</td></tr><tr><td>sp_column_privileges_rowset</td><td>sys</td><td>stored procedure</td></tr><tr><td>sp_column_privileges_rowset_rmt</td><td>sys</td><td>stored procedure</td></tr><tr><td>sp_column_privileges_rowset2</td><td>sys</td><td>stored procedure</td></tr><tr><td>sp_columns</td><td>sys</td><td>stored procedure</td></tr><tr><td>sp_columns_100</td><td>sys</td><td>stored procedure</td></tr><tr><td>sp_columns_100_rowset</td><td>sys</td><td>stored procedure</td></tr><tr><td>sp_columns_100_rowset2</td><td>sys</td><td>stored procedure</td></tr><tr><td>sp_columns_90</td><td>sys</td><td>stored procedure</td></tr><tr><td>sp_columns_90_rowset</td><td>sys</td><td>stored procedure</td></tr><tr><td>sp_columns_90_rowset_rmt</td><td>sys</td><td>stored procedure</td></tr><tr><td>sp_columns_90_rowset2</td><td>sys</td><td>stored procedure</td></tr><tr><td>sp_columns_ex</td><td>sys</td><td>stored procedure</td></tr><tr><td>sp_columns_ex_100</td><td>sys</td><td>stored procedure</td></tr><tr><td>sp_columns_ex_90</td><td>sys</td><td>stored procedure</td></tr><tr><td>sp_columns_managed</td><td>sys</td><td>stored procedure</td></tr><tr><td>sp_columns_rowset</td><td>sys</td><td>stored procedure</td></tr><tr><td>sp_columns_rowset_rmt</td><td>sys</td><td>stored procedure</td></tr><tr><td>sp_columns_rowset2</td><td>sys</td><td>stored procedure</td></tr><tr><td>sp_configure</td><td>sys</td><td>stored procedure</td></tr><tr><td>sp_configure_peerconflictdetection</td><td>sys</td><td>stored procedure</td></tr><tr><td>sp_constr_col_usage_rowset</td><td>sys</td><td>stored procedure</td></tr><tr><td>sp_constr_col_usage_rowset2</td><td>sys</td><td>stored procedure</td></tr><tr><td>sp_control_plan_guide</td><td>sys</td><td>stored procedure</td></tr><tr><td>sp_copymergesnapshot</td><td>sys</td><td>stored procedure</td></tr><tr><td>sp_copysnapshot</td><td>sys</td><td>stored procedure</td></tr><tr><td>sp_copysubscription</td><td>sys</td><td>stored procedure</td></tr><tr><td>sp_create_plan_guide</td><td>sys</td><td>stored procedure</td></tr><tr><td>sp_create_plan_guide_from_handle</td><td>sys</td><td>stored procedure</td></tr><tr><td>sp_create_removable</td><td>sys</td><td>stored procedure</td></tr><tr><td>sp_create_streaming_job</td><td>sys</td><td>stored procedure</td></tr><tr><td>sp_createmergepalrole</td><td>sys</td><td>stored procedure</td></tr><tr><td>sp_createstats</td><td>sys</td><td>stored procedure</td></tr><tr><td>sp_createtranpalrole</td><td>sys</td><td>stored procedure</td></tr><tr><td>sp_cursor_list</td><td>sys</td><td>stored procedure</td></tr><tr><td>sp_cycle_errorlog</td><td>sys</td><td>stored procedure</td></tr><tr><td>sp_data_pool_database_query_state</td><td>sys</td><td>stored procedure</td></tr><tr><td>sp_data_pool_table_query_state</td><td>sys</td><td>stored procedure</td></tr><tr><td>sp_data_source_objects</td><td>sys</td><td>stored procedure</td></tr><tr><td>sp_data_source_table_columns</td><td>sys</td><td>stored procedure</td></tr><tr><td>sp_databases</td><td>sys</td><td>stored procedure</td></tr><tr><td>sp_datatype_info</td><td>sys</td><td>stored procedure</td></tr><tr><td>sp_datatype_info_100</td><td>sys</td><td>stored procedure</td></tr><tr><td>sp_datatype_info_90</td><td>sys</td><td>stored procedure</td></tr><tr><td>sp_db_ebcdic277_2</td><td>sys</td><td>stored procedure</td></tr><tr><td>sp_db_increased_partitions</td><td>sys</td><td>stored procedure</td></tr><tr><td>sp_db_selective_xml_index</td><td>sys</td><td>stored procedure</td></tr><tr><td>sp_db_vardecimal_storage_format</td><td>sys</td><td>stored procedure</td></tr><tr><td>sp_dbcmptlevel</td><td>sys</td><td>stored procedure</td></tr><tr><td>sp_dbfixedrolepermission</td><td>sys</td><td>stored procedure</td></tr><tr><td>sp_dbmmonitoraddmonitoring</td><td>sys</td><td>stored procedure</td></tr><tr><td>sp_dbmmonitorchangealert</td><td>sys</td><td>stored procedure</td></tr><tr><td>sp_dbmmonitorchangemonitoring</td><td>sys</td><td>stored procedure</td></tr><tr><td>sp_dbmmonitordropalert</td><td>sys</td><td>stored procedure</td></tr><tr><td>sp_dbmmonitordropmonitoring</td><td>sys</td><td>stored procedure</td></tr><tr><td>sp_dbmmonitorhelpalert</td><td>sys</td><td>stored procedure</td></tr><tr><td>sp_dbmmonitorhelpmonitoring</td><td>sys</td><td>stored procedure</td></tr><tr><td>sp_dbmmonitorresults</td><td>sys</td><td>stored procedure</td></tr><tr><td>sp_dbmmonitorupdate</td><td>sys</td><td>stored procedure</td></tr><tr><td>sp_dbremove</td><td>sys</td><td>stored procedure</td></tr><tr><td>sp_ddopen</td><td>sys</td><td>stored procedure</td></tr><tr><td>sp_defaultdb</td><td>sys</td><td>stored procedure</td></tr><tr><td>sp_defaultlanguage</td><td>sys</td><td>stored procedure</td></tr><tr><td>sp_delete_backup</td><td>sys</td><td>stored procedure</td></tr><tr><td>sp_delete_log_shipping_alert_job</td><td>sys</td><td>stored procedure</td></tr><tr><td>sp_delete_log_shipping_primary_database</td><td>sys</td><td>stored procedure</td></tr><tr><td>sp_delete_log_shipping_primary_secondary</td><td>sys</td><td>stored procedure</td></tr><tr><td>sp_delete_log_shipping_secondary_database</td><td>sys</td><td>stored procedure</td></tr><tr><td>sp_delete_log_shipping_secondary_primary</td><td>sys</td><td>stored procedure</td></tr><tr><td>sp_deletemergeconflictrow</td><td>sys</td><td>stored procedure</td></tr><tr><td>sp_deletepeerrequesthistory</td><td>sys</td><td>stored procedure</td></tr><tr><td>sp_deletetracertokenhistory</td><td>sys</td><td>stored procedure</td></tr><tr><td>sp_denylogin</td><td>sys</td><td>stored procedure</td></tr><tr><td>sp_depends</td><td>sys</td><td>stored procedure</td></tr><tr><td>sp_describe_cursor</td><td>sys</td><td>stored procedure</td></tr><tr><td>sp_describe_cursor_columns</td><td>sys</td><td>stored procedure</td></tr><tr><td>sp_describe_cursor_tables</td><td>sys</td><td>stored procedure</td></tr><tr><td>sp_detach_db</td><td>sys</td><td>stored procedure</td></tr><tr><td>sp_disableagentoffload</td><td>sys</td><td>stored procedure</td></tr><tr><td>sp_distcounters</td><td>sys</td><td>stored procedure</td></tr><tr><td>sp_drop_agent_parameter</td><td>sys</td><td>stored procedure</td></tr><tr><td>sp_drop_agent_profile</td><td>sys</td><td>stored procedure</td></tr><tr><td>sp_drop_streaming_job</td><td>sys</td><td>stored procedure</td></tr><tr><td>sp_dropanonymousagent</td><td>sys</td><td>stored procedure</td></tr><tr><td>sp_dropanonymoussubscription</td><td>sys</td><td>stored procedure</td></tr><tr><td>sp_dropapprole</td><td>sys</td><td>stored procedure</td></tr><tr><td>sp_droparticle</td><td>sys</td><td>stored procedure</td></tr><tr><td>sp_dropdatatypemapping</td><td>sys</td><td>stored procedure</td></tr><tr><td>sp_dropdevice</td><td>sys</td><td>stored procedure</td></tr><tr><td>sp_dropdistpublisher</td><td>sys</td><td>stored procedure</td></tr><tr><td>sp_dropdistributiondb</td><td>sys</td><td>stored procedure</td></tr><tr><td>sp_dropdistributor</td><td>sys</td><td>stored procedure</td></tr><tr><td>sp_dropdynamicsnapshot_job</td><td>sys</td><td>stored procedure</td></tr><tr><td>sp_dropextendedproc</td><td>sys</td><td>stored procedure</td></tr><tr><td>sp_dropextendedproperty</td><td>sys</td><td>stored procedure</td></tr><tr><td>sp_droplinkedsrvlogin</td><td>sys</td><td>stored procedure</td></tr><tr><td>sp_droplogin</td><td>sys</td><td>stored procedure</td></tr><tr><td>sp_dropmergealternatepublisher</td><td>sys</td><td>stored procedure</td></tr><tr><td>sp_dropmergearticle</td><td>sys</td><td>stored procedure</td></tr><tr><td>sp_dropmergefilter</td><td>sys</td><td>stored procedure</td></tr><tr><td>sp_dropmergelogsettings</td><td>sys</td><td>stored procedure</td></tr><tr><td>sp_dropmergepartition</td><td>sys</td><td>stored procedure</td></tr><tr><td>sp_dropmergepublication</td><td>sys</td><td>stored procedure</td></tr><tr><td>sp_dropmergepullsubscription</td><td>sys</td><td>stored procedure</td></tr><tr><td>sp_dropmergesubscription</td><td>sys</td><td>stored procedure</td></tr><tr><td>sp_dropmessage</td><td>sys</td><td>stored procedure</td></tr><tr><td>sp_droppublication</td><td>sys</td><td>stored procedure</td></tr><tr><td>sp_droppublisher</td><td>sys</td><td>stored procedure</td></tr><tr><td>sp_droppullsubscription</td><td>sys</td><td>stored procedure</td></tr><tr><td>sp_dropremotelogin</td><td>sys</td><td>stored procedure</td></tr><tr><td>sp_dropreplsymmetrickey</td><td>sys</td><td>stored procedure</td></tr><tr><td>sp_droprole</td><td>sys</td><td>stored procedure</td></tr><tr><td>sp_droprolemember</td><td>sys</td><td>stored procedure</td></tr><tr><td>sp_dropserver</td><td>sys</td><td>stored procedure</td></tr><tr><td>sp_dropsrvrolemember</td><td>sys</td><td>stored procedure</td></tr><tr><td>sp_dropsubscriber</td><td>sys</td><td>stored procedure</td></tr><tr><td>sp_dropsubscription</td><td>sys</td><td>stored procedure</td></tr><tr><td>sp_droptype</td><td>sys</td><td>stored procedure</td></tr><tr><td>sp_dropuser</td><td>sys</td><td>stored procedure</td></tr><tr><td>sp_dsninfo</td><td>sys</td><td>stored procedure</td></tr><tr><td>sp_enable_heterogeneous_subscription</td><td>sys</td><td>stored procedure</td></tr><tr><td>sp_enableagentoffload</td><td>sys</td><td>stored procedure</td></tr><tr><td>sp_enum_oledb_providers</td><td>sys</td><td>stored procedure</td></tr><tr><td>sp_enumcustomresolvers</td><td>sys</td><td>stored procedure</td></tr><tr><td>sp_enumdsn</td><td>sys</td><td>stored procedure</td></tr><tr><td>sp_enumeratependingschemachanges</td><td>sys</td><td>stored procedure</td></tr><tr><td>sp_enumerrorlogs</td><td>sys</td><td>stored procedure</td></tr><tr><td>sp_enumfullsubscribers</td><td>sys</td><td>stored procedure</td></tr><tr><td>sp_enumoledbdatasources</td><td>sys</td><td>stored procedure</td></tr><tr><td>sp_estimate_data_compression_savings</td><td>sys</td><td>stored procedure</td></tr><tr><td>sp_estimated_rowsize_reduction_for_vardecimal</td><td>sys</td><td>stored procedure</td></tr><tr><td>sp_expired_subscription_cleanup</td><td>sys</td><td>stored procedure</td></tr><tr><td>sp_filestream_force_garbage_collection</td><td>sys</td><td>stored procedure</td></tr><tr><td>sp_filestream_recalculate_container_size</td><td>sys</td><td>stored procedure</td></tr><tr><td>sp_firstonly_bitmap</td><td>sys</td><td>stored procedure</td></tr><tr><td>sp_fkeys</td><td>sys</td><td>stored procedure</td></tr><tr><td>sp_flush_commit_table</td><td>sys</td><td>stored procedure</td></tr><tr><td>sp_flush_commit_table_on_demand</td><td>sys</td><td>stored procedure</td></tr><tr><td>sp_flush_CT_internal_table_on_demand</td><td>sys</td><td>stored procedure</td></tr><tr><td>sp_flush_ledger_transactions_table</td><td>sys</td><td>stored procedure</td></tr><tr><td>sp_foreign_keys_rowset</td><td>sys</td><td>stored procedure</td></tr><tr><td>sp_foreign_keys_rowset_rmt</td><td>sys</td><td>stored procedure</td></tr><tr><td>sp_foreign_keys_rowset2</td><td>sys</td><td>stored procedure</td></tr><tr><td>sp_foreign_keys_rowset3</td><td>sys</td><td>stored procedure</td></tr><tr><td>sp_foreignkeys</td><td>sys</td><td>stored procedure</td></tr><tr><td>sp_fulltext_catalog</td><td>sys</td><td>stored procedure</td></tr><tr><td>sp_fulltext_column</td><td>sys</td><td>stored procedure</td></tr><tr><td>sp_fulltext_database</td><td>sys</td><td>stored procedure</td></tr><tr><td>sp_fulltext_load_thesaurus_file</td><td>sys</td><td>stored procedure</td></tr><tr><td>sp_fulltext_recycle_crawl_log</td><td>sys</td><td>stored procedure</td></tr><tr><td>sp_fulltext_semantic_register_language_statistics_db</td><td>sys</td><td>stored procedure</td></tr><tr><td>sp_fulltext_semantic_unregister_language_statistics_db</td><td>sys</td><td>stored procedure</td></tr><tr><td>sp_fulltext_service</td><td>sys</td><td>stored procedure</td></tr><tr><td>sp_fulltext_table</td><td>sys</td><td>stored procedure</td></tr><tr><td>sp_generate_agent_parameter</td><td>sys</td><td>stored procedure</td></tr><tr><td>sp_generate_database_ledger_digest</td><td>sys</td><td>stored procedure</td></tr><tr><td>sp_generatefilters</td><td>sys</td><td>stored procedure</td></tr><tr><td>sp_get_distributor</td><td>sys</td><td>stored procedure</td></tr><tr><td>sp_get_job_status_mergesubscription_agent</td><td>sys</td><td>stored procedure</td></tr><tr><td>sp_get_mergepublishedarticleproperties</td><td>sys</td><td>stored procedure</td></tr><tr><td>sp_get_Oracle_publisher_metadata</td><td>sys</td><td>stored procedure</td></tr><tr><td>sp_get_redirected_publisher</td><td>sys</td><td>stored procedure</td></tr><tr><td>sp_get_streaming_job</td><td>sys</td><td>stored procedure</td></tr><tr><td>sp_getagentparameterlist</td><td>sys</td><td>stored procedure</td></tr><tr><td>sp_getapplock</td><td>sys</td><td>stored procedure</td></tr><tr><td>sp_getdefaultdatatypemapping</td><td>sys</td><td>stored procedure</td></tr><tr><td>sp_getdistributorplatform</td><td>sys</td><td>stored procedure</td></tr><tr><td>sp_getmergedeletetype</td><td>sys</td><td>stored procedure</td></tr><tr><td>sp_getProcessorUsage</td><td>sys</td><td>stored procedure</td></tr><tr><td>sp_getpublisherlink</td><td>sys</td><td>stored procedure</td></tr><tr><td>sp_getqueuedarticlesynctraninfo</td><td>sys</td><td>stored procedure</td></tr><tr><td>sp_getqueuedrows</td><td>sys</td><td>stored procedure</td></tr><tr><td>sp_getsqlqueueversion</td><td>sys</td><td>stored procedure</td></tr><tr><td>sp_getsubscription_status_hsnapshot</td><td>sys</td><td>stored procedure</td></tr><tr><td>sp_getsubscriptiondtspackagename</td><td>sys</td><td>stored procedure</td></tr><tr><td>sp_gettopologyinfo</td><td>sys</td><td>stored procedure</td></tr><tr><td>sp_getVolumeFreeSpace</td><td>sys</td><td>stored procedure</td></tr><tr><td>sp_grant_publication_access</td><td>sys</td><td>stored procedure</td></tr><tr><td>sp_grantdbaccess</td><td>sys</td><td>stored procedure</td></tr><tr><td>sp_grantlogin</td><td>sys</td><td>stored procedure</td></tr><tr><td>sp_help</td><td>sys</td><td>stored procedure</td></tr><tr><td>sp_help_agent_default</td><td>sys</td><td>stored procedure</td></tr><tr><td>sp_help_agent_parameter</td><td>sys</td><td>stored procedure</td></tr><tr><td>sp_help_agent_profile</td><td>sys</td><td>stored procedure</td></tr><tr><td>sp_help_datatype_mapping</td><td>sys</td><td>stored procedure</td></tr><tr><td>sp_help_fulltext_catalog_components</td><td>sys</td><td>stored procedure</td></tr><tr><td>sp_help_fulltext_catalogs</td><td>sys</td><td>stored procedure</td></tr><tr><td>sp_help_fulltext_catalogs_cursor</td><td>sys</td><td>stored procedure</td></tr><tr><td>sp_help_fulltext_columns</td><td>sys</td><td>stored procedure</td></tr><tr><td>sp_help_fulltext_columns_cursor</td><td>sys</td><td>stored procedure</td></tr><tr><td>sp_help_fulltext_system_components</td><td>sys</td><td>stored procedure</td></tr><tr><td>sp_help_fulltext_tables</td><td>sys</td><td>stored procedure</td></tr><tr><td>sp_help_fulltext_tables_cursor</td><td>sys</td><td>stored procedure</td></tr><tr><td>sp_help_log_shipping_alert_job</td><td>sys</td><td>stored procedure</td></tr><tr><td>sp_help_log_shipping_monitor</td><td>sys</td><td>stored procedure</td></tr><tr><td>sp_help_log_shipping_monitor_primary</td><td>sys</td><td>stored procedure</td></tr><tr><td>sp_help_log_shipping_monitor_secondary</td><td>sys</td><td>stored procedure</td></tr><tr><td>sp_help_log_shipping_primary_database</td><td>sys</td><td>stored procedure</td></tr><tr><td>sp_help_log_shipping_primary_secondary</td><td>sys</td><td>stored procedure</td></tr><tr><td>sp_help_log_shipping_secondary_database</td><td>sys</td><td>stored procedure</td></tr><tr><td>sp_help_log_shipping_secondary_primary</td><td>sys</td><td>stored procedure</td></tr><tr><td>sp_help_peerconflictdetection</td><td>sys</td><td>stored procedure</td></tr><tr><td>sp_help_publication_access</td><td>sys</td><td>stored procedure</td></tr><tr><td>sp_help_spatial_geography_histogram</td><td>sys</td><td>stored procedure</td></tr><tr><td>sp_help_spatial_geography_index</td><td>sys</td><td>stored procedure</td></tr><tr><td>sp_help_spatial_geography_index_xml</td><td>sys</td><td>stored procedure</td></tr><tr><td>sp_help_spatial_geometry_histogram</td><td>sys</td><td>stored procedure</td></tr><tr><td>sp_help_spatial_geometry_index</td><td>sys</td><td>stored procedure</td></tr><tr><td>sp_help_spatial_geometry_index_xml</td><td>sys</td><td>stored procedure</td></tr><tr><td>sp_helpallowmerge_publication</td><td>sys</td><td>stored procedure</td></tr><tr><td>sp_helparticle</td><td>sys</td><td>stored procedure</td></tr><tr><td>sp_helparticlecolumns</td><td>sys</td><td>stored procedure</td></tr><tr><td>sp_helparticledts</td><td>sys</td><td>stored procedure</td></tr><tr><td>sp_helpconstraint</td><td>sys</td><td>stored procedure</td></tr><tr><td>sp_helpdatatypemap</td><td>sys</td><td>stored procedure</td></tr><tr><td>sp_helpdb</td><td>sys</td><td>stored procedure</td></tr><tr><td>sp_helpdbfixedrole</td><td>sys</td><td>stored procedure</td></tr><tr><td>sp_helpdevice</td><td>sys</td><td>stored procedure</td></tr><tr><td>sp_helpdistpublisher</td><td>sys</td><td>stored procedure</td></tr><tr><td>sp_helpdistributiondb</td><td>sys</td><td>stored procedure</td></tr><tr><td>sp_helpdistributor</td><td>sys</td><td>stored procedure</td></tr><tr><td>sp_helpdistributor_properties</td><td>sys</td><td>stored procedure</td></tr><tr><td>sp_helpdynamicsnapshot_job</td><td>sys</td><td>stored procedure</td></tr><tr><td>sp_helpextendedproc</td><td>sys</td><td>stored procedure</td></tr><tr><td>sp_helpfile</td><td>sys</td><td>stored procedure</td></tr><tr><td>sp_helpfilegroup</td><td>sys</td><td>stored procedure</td></tr><tr><td>sp_helpindex</td><td>sys</td><td>stored procedure</td></tr><tr><td>sp_helplanguage</td><td>sys</td><td>stored procedure</td></tr><tr><td>sp_helplinkedsrvlogin</td><td>sys</td><td>stored procedure</td></tr><tr><td>sp_helplogins</td><td>sys</td><td>stored procedure</td></tr><tr><td>sp_helplogreader_agent</td><td>sys</td><td>stored procedure</td></tr><tr><td>sp_helpmergealternatepublisher</td><td>sys</td><td>stored procedure</td></tr><tr><td>sp_helpmergearticle</td><td>sys</td><td>stored procedure</td></tr><tr><td>sp_helpmergearticlecolumn</td><td>sys</td><td>stored procedure</td></tr><tr><td>sp_helpmergearticleconflicts</td><td>sys</td><td>stored procedure</td></tr><tr><td>sp_helpmergeconflictrows</td><td>sys</td><td>stored procedure</td></tr><tr><td>sp_helpmergedeleteconflictrows</td><td>sys</td><td>stored procedure</td></tr><tr><td>sp_helpmergefilter</td><td>sys</td><td>stored procedure</td></tr><tr><td>sp_helpmergelogfiles</td><td>sys</td><td>stored procedure</td></tr><tr><td>sp_helpmergelogfileswithdata</td><td>sys</td><td>stored procedure</td></tr><tr><td>sp_helpmergelogsettings</td><td>sys</td><td>stored procedure</td></tr><tr><td>sp_helpmergepartition</td><td>sys</td><td>stored procedure</td></tr><tr><td>sp_helpmergepublication</td><td>sys</td><td>stored procedure</td></tr><tr><td>sp_helpmergepullsubscription</td><td>sys</td><td>stored procedure</td></tr><tr><td>sp_helpmergesubscription</td><td>sys</td><td>stored procedure</td></tr><tr><td>sp_helpntgroup</td><td>sys</td><td>stored procedure</td></tr><tr><td>sp_helppeerrequests</td><td>sys</td><td>stored procedure</td></tr><tr><td>sp_helppeerresponses</td><td>sys</td><td>stored procedure</td></tr><tr><td>sp_helppublication</td><td>sys</td><td>stored procedure</td></tr><tr><td>sp_helppublication_snapshot</td><td>sys</td><td>stored procedure</td></tr><tr><td>sp_helppublicationsync</td><td>sys</td><td>stored procedure</td></tr><tr><td>sp_helppullsubscription</td><td>sys</td><td>stored procedure</td></tr><tr><td>sp_helpqreader_agent</td><td>sys</td><td>stored procedure</td></tr><tr><td>sp_helpremotelogin</td><td>sys</td><td>stored procedure</td></tr><tr><td>sp_helpreplfailovermode</td><td>sys</td><td>stored procedure</td></tr><tr><td>sp_helpreplicationdb</td><td>sys</td><td>stored procedure</td></tr><tr><td>sp_helpreplicationdboption</td><td>sys</td><td>stored procedure</td></tr><tr><td>sp_helpreplicationoption</td><td>sys</td><td>stored procedure</td></tr><tr><td>sp_helprole</td><td>sys</td><td>stored procedure</td></tr><tr><td>sp_helprolemember</td><td>sys</td><td>stored procedure</td></tr><tr><td>sp_helprotect</td><td>sys</td><td>stored procedure</td></tr><tr><td>sp_helpserver</td><td>sys</td><td>stored procedure</td></tr><tr><td>sp_helpsort</td><td>sys</td><td>stored procedure</td></tr><tr><td>sp_helpsrvrole</td><td>sys</td><td>stored procedure</td></tr><tr><td>sp_helpsrvrolemember</td><td>sys</td><td>stored procedure</td></tr><tr><td>sp_helpstats</td><td>sys</td><td>stored procedure</td></tr><tr><td>sp_helpsubscriberinfo</td><td>sys</td><td>stored procedure</td></tr><tr><td>sp_helpsubscription</td><td>sys</td><td>stored procedure</td></tr><tr><td>sp_helpsubscription_properties</td><td>sys</td><td>stored procedure</td></tr><tr><td>sp_helpsubscriptionerrors</td><td>sys</td><td>stored procedure</td></tr><tr><td>sp_helptext</td><td>sys</td><td>stored procedure</td></tr><tr><td>sp_helptracertokenhistory</td><td>sys</td><td>stored procedure</td></tr><tr><td>sp_helptracertokens</td><td>sys</td><td>stored procedure</td></tr><tr><td>sp_helptrigger</td><td>sys</td><td>stored procedure</td></tr><tr><td>sp_helpuser</td><td>sys</td><td>stored procedure</td></tr><tr><td>sp_helpxactsetjob</td><td>sys</td><td>stored procedure</td></tr><tr><td>sp_http_generate_wsdl_defaultcomplexorsimple</td><td>sys</td><td>stored procedure</td></tr><tr><td>sp_http_generate_wsdl_defaultsimpleorcomplex</td><td>sys</td><td>stored procedure</td></tr><tr><td>sp_identitycolumnforreplication</td><td>sys</td><td>stored procedure</td></tr><tr><td>sp_IH_LR_GetCacheData</td><td>sys</td><td>stored procedure</td></tr><tr><td>sp_IHadd_sync_command</td><td>sys</td><td>stored procedure</td></tr><tr><td>sp_IHarticlecolumn</td><td>sys</td><td>stored procedure</td></tr><tr><td>sp_IHget_loopback_detection</td><td>sys</td><td>stored procedure</td></tr><tr><td>sp_IHScriptIdxFile</td><td>sys</td><td>stored procedure</td></tr><tr><td>sp_IHScriptSchFile</td><td>sys</td><td>stored procedure</td></tr><tr><td>sp_IHValidateRowFilter</td><td>sys</td><td>stored procedure</td></tr><tr><td>sp_IHXactSetJob</td><td>sys</td><td>stored procedure</td></tr><tr><td>sp_indexcolumns_managed</td><td>sys</td><td>stored procedure</td></tr><tr><td>sp_indexes</td><td>sys</td><td>stored procedure</td></tr><tr><td>sp_indexes_100_rowset</td><td>sys</td><td>stored procedure</td></tr><tr><td>sp_indexes_100_rowset2</td><td>sys</td><td>stored procedure</td></tr><tr><td>sp_indexes_90_rowset</td><td>sys</td><td>stored procedure</td></tr><tr><td>sp_indexes_90_rowset_rmt</td><td>sys</td><td>stored procedure</td></tr><tr><td>sp_indexes_90_rowset2</td><td>sys</td><td>stored procedure</td></tr><tr><td>sp_indexes_managed</td><td>sys</td><td>stored procedure</td></tr><tr><td>sp_indexes_rowset</td><td>sys</td><td>stored procedure</td></tr><tr><td>sp_indexes_rowset_rmt</td><td>sys</td><td>stored procedure</td></tr><tr><td>sp_indexes_rowset2</td><td>sys</td><td>stored procedure</td></tr><tr><td>sp_indexoption</td><td>sys</td><td>stored procedure</td></tr><tr><td>sp_invalidate_textptr</td><td>sys</td><td>stored procedure</td></tr><tr><td>sp_is_columnstore_column_dictionary_enabled</td><td>sys</td><td>stored procedure</td></tr><tr><td>sp_is_makegeneration_needed</td><td>sys</td><td>stored procedure</td></tr><tr><td>sp_ivindexhasnullcols</td><td>sys</td><td>stored procedure</td></tr><tr><td>sp_kill_filestream_non_transacted_handles</td><td>sys</td><td>stored procedure</td></tr><tr><td>sp_kill_oldest_transaction_on_secondary</td><td>sys</td><td>stored procedure</td></tr><tr><td>sp_ldw_apply_file_updates_for_ext_table</td><td>sys</td><td>stored procedure</td></tr><tr><td>sp_ldw_get_file_updates_for_ext_table</td><td>sys</td><td>stored procedure</td></tr><tr><td>sp_ldw_insert_container_and_partition_for_ext_table</td><td>sys</td><td>stored procedure</td></tr><tr><td>sp_ldw_internal_tables_clean_up</td><td>sys</td><td>stored procedure</td></tr><tr><td>sp_ldw_normalize_ext_tab_name</td><td>sys</td><td>stored procedure</td></tr><tr><td>sp_ldw_refresh_internal_table_on_distribution</td><td>sys</td><td>stored procedure</td></tr><tr><td>sp_ldw_select_entries_from_internal_table</td><td>sys</td><td>stored procedure</td></tr><tr><td>sp_ldw_update_stats_for_ext_table</td><td>sys</td><td>stored procedure</td></tr><tr><td>sp_lightweightmergemetadataretentioncleanup</td><td>sys</td><td>stored procedure</td></tr><tr><td>sp_link_publication</td><td>sys</td><td>stored procedure</td></tr><tr><td>sp_linkedservers</td><td>sys</td><td>stored procedure</td></tr><tr><td>sp_linkedservers_rowset</td><td>sys</td><td>stored procedure</td></tr><tr><td>sp_linkedservers_rowset2</td><td>sys</td><td>stored procedure</td></tr><tr><td>sp_lock</td><td>sys</td><td>stored procedure</td></tr><tr><td>sp_logshippinginstallmetadata</td><td>sys</td><td>stored procedure</td></tr><tr><td>sp_lookupcustomresolver</td><td>sys</td><td>stored procedure</td></tr><tr><td>sp_mapdown_bitmap</td><td>sys</td><td>stored procedure</td></tr><tr><td>sp_markpendingschemachange</td><td>sys</td><td>stored procedure</td></tr><tr><td>sp_marksubscriptionvalidation</td><td>sys</td><td>stored procedure</td></tr><tr><td>sp_memory_leak_detection</td><td>sys</td><td>stored procedure</td></tr><tr><td>sp_memory_optimized_cs_migration</td><td>sys</td><td>stored procedure</td></tr><tr><td>sp_mergearticlecolumn</td><td>sys</td><td>stored procedure</td></tr><tr><td>sp_mergecleanupmetadata</td><td>sys</td><td>stored procedure</td></tr><tr><td>sp_mergedummyupdate</td><td>sys</td><td>stored procedure</td></tr><tr><td>sp_mergemetadataretentioncleanup</td><td>sys</td><td>stored procedure</td></tr><tr><td>sp_mergesubscription_cleanup</td><td>sys</td><td>stored procedure</td></tr><tr><td>sp_mergesubscriptionsummary</td><td>sys</td><td>stored procedure</td></tr><tr><td>sp_metadata_sync_connector_add</td><td>sys</td><td>stored procedure</td></tr><tr><td>sp_metadata_sync_connector_drop</td><td>sys</td><td>stored procedure</td></tr><tr><td>sp_metadata_sync_connectors_status</td><td>sys</td><td>stored procedure</td></tr><tr><td>sp_monitor</td><td>sys</td><td>stored procedure</td></tr><tr><td>sp_MS_marksystemobject</td><td>sys</td><td>stored procedure</td></tr><tr><td>sp_MS_replication_installed</td><td>sys</td><td>stored procedure</td></tr><tr><td>sp_MSacquireHeadofQueueLock</td><td>sys</td><td>stored procedure</td></tr><tr><td>sp_MSacquireserverresourcefordynamicsnapshot</td><td>sys</td><td>stored procedure</td></tr><tr><td>sp_MSacquireSlotLock</td><td>sys</td><td>stored procedure</td></tr><tr><td>sp_MSacquiresnapshotdeliverysessionlock</td><td>sys</td><td>stored procedure</td></tr><tr><td>sp_MSactivate_auto_sub</td><td>sys</td><td>stored procedure</td></tr><tr><td>sp_MSactivatelogbasedarticleobject</td><td>sys</td><td>stored procedure</td></tr><tr><td>sp_MSactivateprocedureexecutionarticleobject</td><td>sys</td><td>stored procedure</td></tr><tr><td>sp_MSadd_anonymous_agent</td><td>sys</td><td>stored procedure</td></tr><tr><td>sp_MSadd_article</td><td>sys</td><td>stored procedure</td></tr><tr><td>sp_MSadd_compensating_cmd</td><td>sys</td><td>stored procedure</td></tr><tr><td>sp_MSadd_distribution_agent</td><td>sys</td><td>stored procedure</td></tr><tr><td>sp_MSadd_distribution_history</td><td>sys</td><td>stored procedure</td></tr><tr><td>sp_MSadd_dynamic_snapshot_location</td><td>sys</td><td>stored procedure</td></tr><tr><td>sp_MSadd_filteringcolumn</td><td>sys</td><td>stored procedure</td></tr><tr><td>sp_MSadd_log_shipping_error_detail</td><td>sys</td><td>stored procedure</td></tr><tr><td>sp_MSadd_log_shipping_history_detail</td><td>sys</td><td>stored procedure</td></tr><tr><td>sp_MSadd_logreader_agent</td><td>sys</td><td>stored procedure</td></tr><tr><td>sp_MSadd_logreader_history</td><td>sys</td><td>stored procedure</td></tr><tr><td>sp_MSadd_merge_agent</td><td>sys</td><td>stored procedure</td></tr><tr><td>sp_MSadd_merge_anonymous_agent</td><td>sys</td><td>stored procedure</td></tr><tr><td>sp_MSadd_merge_history</td><td>sys</td><td>stored procedure</td></tr><tr><td>sp_MSadd_merge_history90</td><td>sys</td><td>stored procedure</td></tr><tr><td>sp_MSadd_merge_subscription</td><td>sys</td><td>stored procedure</td></tr><tr><td>sp_MSadd_mergereplcommand</td><td>sys</td><td>stored procedure</td></tr><tr><td>sp_MSadd_mergesubentry_indistdb</td><td>sys</td><td>stored procedure</td></tr><tr><td>sp_MSadd_publication</td><td>sys</td><td>stored procedure</td></tr><tr><td>sp_MSadd_qreader_agent</td><td>sys</td><td>stored procedure</td></tr><tr><td>sp_MSadd_qreader_history</td><td>sys</td><td>stored procedure</td></tr><tr><td>sp_MSadd_repl_alert</td><td>sys</td><td>stored procedure</td></tr><tr><td>sp_MSadd_repl_command</td><td>sys</td><td>stored procedure</td></tr><tr><td>sp_MSadd_repl_commands27hp</td><td>sys</td><td>stored procedure</td></tr><tr><td>sp_MSadd_repl_error</td><td>sys</td><td>stored procedure</td></tr><tr><td>sp_MSadd_replcmds_mcit</td><td>sys</td><td>stored procedure</td></tr><tr><td>sp_MSadd_replmergealert</td><td>sys</td><td>stored procedure</td></tr><tr><td>sp_MSadd_snapshot_agent</td><td>sys</td><td>stored procedure</td></tr><tr><td>sp_MSadd_snapshot_history</td><td>sys</td><td>stored procedure</td></tr><tr><td>sp_MSadd_subscriber_info</td><td>sys</td><td>stored procedure</td></tr><tr><td>sp_MSadd_subscriber_schedule</td><td>sys</td><td>stored procedure</td></tr><tr><td>sp_MSadd_subscription</td><td>sys</td><td>stored procedure</td></tr><tr><td>sp_MSadd_subscription_3rd</td><td>sys</td><td>stored procedure</td></tr><tr><td>sp_MSadd_tracer_history</td><td>sys</td><td>stored procedure</td></tr><tr><td>sp_MSadd_tracer_token</td><td>sys</td><td>stored procedure</td></tr><tr><td>sp_MSaddanonymousreplica</td><td>sys</td><td>stored procedure</td></tr><tr><td>sp_MSadddynamicsnapshotjobatdistributor</td><td>sys</td><td>stored procedure</td></tr><tr><td>sp_MSaddguidcolumn</td><td>sys</td><td>stored procedure</td></tr><tr><td>sp_MSaddguidindex</td><td>sys</td><td>stored procedure</td></tr><tr><td>sp_MSaddinitialarticle</td><td>sys</td><td>stored procedure</td></tr><tr><td>sp_MSaddinitialpublication</td><td>sys</td><td>stored procedure</td></tr><tr><td>sp_MSaddinitialschemaarticle</td><td>sys</td><td>stored procedure</td></tr><tr><td>sp_MSaddinitialsubscription</td><td>sys</td><td>stored procedure</td></tr><tr><td>sp_MSaddlightweightmergearticle</td><td>sys</td><td>stored procedure</td></tr><tr><td>sp_MSaddmergedynamicsnapshotjob</td><td>sys</td><td>stored procedure</td></tr><tr><td>sp_MSaddmergetriggers</td><td>sys</td><td>stored procedure</td></tr><tr><td>sp_MSaddmergetriggers_from_template</td><td>sys</td><td>stored procedure</td></tr><tr><td>sp_MSaddmergetriggers_internal</td><td>sys</td><td>stored procedure</td></tr><tr><td>sp_MSaddpeerlsn</td><td>sys</td><td>stored procedure</td></tr><tr><td>sp_MSaddsubscriptionarticles</td><td>sys</td><td>stored procedure</td></tr><tr><td>sp_MSadjust_pub_identity</td><td>sys</td><td>stored procedure</td></tr><tr><td>sp_MSagent_retry_stethoscope</td><td>sys</td><td>stored procedure</td></tr><tr><td>sp_MSagent_stethoscope</td><td>sys</td><td>stored procedure</td></tr><tr><td>sp_MSallocate_new_identity_range</td><td>sys</td><td>stored procedure</td></tr><tr><td>sp_MSalreadyhavegeneration</td><td>sys</td><td>stored procedure</td></tr><tr><td>sp_MSanonymous_status</td><td>sys</td><td>stored procedure</td></tr><tr><td>sp_MSarticlecleanup</td><td>sys</td><td>stored procedure</td></tr><tr><td>sp_MSbrowsesnapshotfolder</td><td>sys</td><td>stored procedure</td></tr><tr><td>sp_MScache_agent_parameter</td><td>sys</td><td>stored procedure</td></tr><tr><td>sp_MScdc_capture_job</td><td>sys</td><td>stored procedure</td></tr><tr><td>sp_MScdc_cleanup_job</td><td>sys</td><td>stored procedure</td></tr><tr><td>sp_MScdc_db_ddl_event</td><td>sys</td><td>stored procedure</td></tr><tr><td>sp_MScdc_ddl_event</td><td>sys</td><td>stored procedure</td></tr><tr><td>sp_MScdc_logddl</td><td>sys</td><td>stored procedure</td></tr><tr><td>sp_MSchange_article</td><td>sys</td><td>stored procedure</td></tr><tr><td>sp_MSchange_distribution_agent_properties</td><td>sys</td><td>stored procedure</td></tr><tr><td>sp_MSchange_logreader_agent_properties</td><td>sys</td><td>stored procedure</td></tr><tr><td>sp_MSchange_merge_agent_properties</td><td>sys</td><td>stored procedure</td></tr><tr><td>sp_MSchange_mergearticle</td><td>sys</td><td>stored procedure</td></tr><tr><td>sp_MSchange_mergepublication</td><td>sys</td><td>stored procedure</td></tr><tr><td>sp_MSchange_originatorid</td><td>sys</td><td>stored procedure</td></tr><tr><td>sp_MSchange_priority</td><td>sys</td><td>stored procedure</td></tr><tr><td>sp_MSchange_publication</td><td>sys</td><td>stored procedure</td></tr><tr><td>sp_MSchange_retention</td><td>sys</td><td>stored procedure</td></tr><tr><td>sp_MSchange_retention_period_unit</td><td>sys</td><td>stored procedure</td></tr><tr><td>sp_MSchange_snapshot_agent_properties</td><td>sys</td><td>stored procedure</td></tr><tr><td>sp_MSchange_subscription_dts_info</td><td>sys</td><td>stored procedure</td></tr><tr><td>sp_MSchangearticleresolver</td><td>sys</td><td>stored procedure</td></tr><tr><td>sp_MSchangedynamicsnapshotjobatdistributor</td><td>sys</td><td>stored procedure</td></tr><tr><td>sp_MSchangedynsnaplocationatdistributor</td><td>sys</td><td>stored procedure</td></tr><tr><td>sp_MSchangeobjectowner</td><td>sys</td><td>stored procedure</td></tr><tr><td>sp_MScheck_agent_instance</td><td>sys</td><td>stored procedure</td></tr><tr><td>sp_MScheck_dropobject</td><td>sys</td><td>stored procedure</td></tr><tr><td>sp_MScheck_Jet_Subscriber</td><td>sys</td><td>stored procedure</td></tr><tr><td>sp_MScheck_logicalrecord_metadatamatch</td><td>sys</td><td>stored procedure</td></tr><tr><td>sp_MScheck_merge_subscription_count</td><td>sys</td><td>stored procedure</td></tr><tr><td>sp_MScheck_pub_identity</td><td>sys</td><td>stored procedure</td></tr><tr><td>sp_MScheck_pull_access</td><td>sys</td><td>stored procedure</td></tr><tr><td>sp_MScheck_snapshot_agent</td><td>sys</td><td>stored procedure</td></tr><tr><td>sp_MScheck_subscription</td><td>sys</td><td>stored procedure</td></tr><tr><td>sp_MScheck_subscription_expiry</td><td>sys</td><td>stored procedure</td></tr><tr><td>sp_MScheck_subscription_partition</td><td>sys</td><td>stored procedure</td></tr><tr><td>sp_MScheck_tran_retention</td><td>sys</td><td>stored procedure</td></tr><tr><td>sp_MScheckexistsgeneration</td><td>sys</td><td>stored procedure</td></tr><tr><td>sp_MScheckexistsrecguid</td><td>sys</td><td>stored procedure</td></tr><tr><td>sp_MScheckfailedprevioussync</td><td>sys</td><td>stored procedure</td></tr><tr><td>sp_MScheckidentityrange</td><td>sys</td><td>stored procedure</td></tr><tr><td>sp_MScheckIsPubOfSub</td><td>sys</td><td>stored procedure</td></tr><tr><td>sp_MSchecksharedagentforpublication</td><td>sys</td><td>stored procedure</td></tr><tr><td>sp_MSchecksnapshotstatus</td><td>sys</td><td>stored procedure</td></tr><tr><td>sp_MScleanup_agent_entry</td><td>sys</td><td>stored procedure</td></tr><tr><td>sp_MScleanup_conflict</td><td>sys</td><td>stored procedure</td></tr><tr><td>sp_MScleanup_publication_ADinfo</td><td>sys</td><td>stored procedure</td></tr><tr><td>sp_MScleanup_subscription_distside_entry</td><td>sys</td><td>stored procedure</td></tr><tr><td>sp_MScleanupdynamicsnapshotfolder</td><td>sys</td><td>stored procedure</td></tr><tr><td>sp_MScleanupdynsnapshotvws</td><td>sys</td><td>stored procedure</td></tr><tr><td>sp_MSCleanupForPullReinit</td><td>sys</td><td>stored procedure</td></tr><tr><td>sp_MScleanupmergepublisher_internal</td><td>sys</td><td>stored procedure</td></tr><tr><td>sp_MSclear_dynamic_snapshot_location</td><td>sys</td><td>stored procedure</td></tr><tr><td>sp_MSclearresetpartialsnapshotprogressbit</td><td>sys</td><td>stored procedure</td></tr><tr><td>sp_MScomputelastsentgen</td><td>sys</td><td>stored procedure</td></tr><tr><td>sp_MScomputemergearticlescreationorder</td><td>sys</td><td>stored procedure</td></tr><tr><td>sp_MScomputemergeunresolvedrefs</td><td>sys</td><td>stored procedure</td></tr><tr><td>sp_MSconflicttableexists</td><td>sys</td><td>stored procedure</td></tr><tr><td>sp_MScreate_all_article_repl_views</td><td>sys</td><td>stored procedure</td></tr><tr><td>sp_MScreate_article_repl_views</td><td>sys</td><td>stored procedure</td></tr><tr><td>sp_MScreate_dist_tables</td><td>sys</td><td>stored procedure</td></tr><tr><td>sp_MScreate_logical_record_views</td><td>sys</td><td>stored procedure</td></tr><tr><td>sp_MScreate_sub_tables</td><td>sys</td><td>stored procedure</td></tr><tr><td>sp_MScreate_tempgenhistorytable</td><td>sys</td><td>stored procedure</td></tr><tr><td>sp_MScreatedisabledmltrigger</td><td>sys</td><td>stored procedure</td></tr><tr><td>sp_MScreatedummygeneration</td><td>sys</td><td>stored procedure</td></tr><tr><td>sp_MScreateglobalreplica</td><td>sys</td><td>stored procedure</td></tr><tr><td>sp_MScreatelightweightinsertproc</td><td>sys</td><td>stored procedure</td></tr><tr><td>sp_MScreatelightweightmultipurposeproc</td><td>sys</td><td>stored procedure</td></tr><tr><td>sp_MScreatelightweightprocstriggersconstraints</td><td>sys</td><td>stored procedure</td></tr><tr><td>sp_MScreatelightweightupdateproc</td><td>sys</td><td>stored procedure</td></tr><tr><td>sp_MScreatemergedynamicsnapshot</td><td>sys</td><td>stored procedure</td></tr><tr><td>sp_MScreateretry</td><td>sys</td><td>stored procedure</td></tr><tr><td>sp_MSdbuseraccess</td><td>sys</td><td>stored procedure</td></tr><tr><td>sp_MSdbuserpriv</td><td>sys</td><td>stored procedure</td></tr><tr><td>sp_MSdefer_check</td><td>sys</td><td>stored procedure</td></tr><tr><td>sp_MSdelete_tracer_history</td><td>sys</td><td>stored procedure</td></tr><tr><td>sp_MSdeletefoldercontents</td><td>sys</td><td>stored procedure</td></tr><tr><td>sp_MSdeletemetadataactionrequest</td><td>sys</td><td>stored procedure</td></tr><tr><td>sp_MSdeletepeerconflictrow</td><td>sys</td><td>stored procedure</td></tr><tr><td>sp_MSdeleteretry</td><td>sys</td><td>stored procedure</td></tr><tr><td>sp_MSdeletetranconflictrow</td><td>sys</td><td>stored procedure</td></tr><tr><td>sp_MSdelgenzero</td><td>sys</td><td>stored procedure</td></tr><tr><td>sp_MSdelrow</td><td>sys</td><td>stored procedure</td></tr><tr><td>sp_MSdelrowsbatch</td><td>sys</td><td>stored procedure</td></tr><tr><td>sp_MSdelrowsbatch_downloadonly</td><td>sys</td><td>stored procedure</td></tr><tr><td>sp_MSdelsubrows</td><td>sys</td><td>stored procedure</td></tr><tr><td>sp_MSdelsubrowsbatch</td><td>sys</td><td>stored procedure</td></tr><tr><td>sp_MSdependencies</td><td>sys</td><td>stored procedure</td></tr><tr><td>sp_MSdetect_nonlogged_shutdown</td><td>sys</td><td>stored procedure</td></tr><tr><td>sp_MSdetectinvalidpeerconfiguration</td><td>sys</td><td>stored procedure</td></tr><tr><td>sp_MSdetectinvalidpeersubscription</td><td>sys</td><td>stored procedure</td></tr><tr><td>sp_MSdist_activate_auto_sub</td><td>sys</td><td>stored procedure</td></tr><tr><td>sp_MSdist_adjust_identity</td><td>sys</td><td>stored procedure</td></tr><tr><td>sp_MSdistpublisher_cleanup</td><td>sys</td><td>stored procedure</td></tr><tr><td>sp_MSdistribution_counters</td><td>sys</td><td>stored procedure</td></tr><tr><td>sp_MSdistributoravailable</td><td>sys</td><td>stored procedure</td></tr><tr><td>sp_MSdodatabasesnapshotinitiation</td><td>sys</td><td>stored procedure</td></tr><tr><td>sp_MSdopartialdatabasesnapshotinitiation</td><td>sys</td><td>stored procedure</td></tr><tr><td>sp_MSdrop_6x_publication</td><td>sys</td><td>stored procedure</td></tr><tr><td>sp_MSdrop_6x_replication_agent</td><td>sys</td><td>stored procedure</td></tr><tr><td>sp_MSdrop_anonymous_entry</td><td>sys</td><td>stored procedure</td></tr><tr><td>sp_MSdrop_article</td><td>sys</td><td>stored procedure</td></tr><tr><td>sp_MSdrop_distribution_agent</td><td>sys</td><td>stored procedure</td></tr><tr><td>sp_MSdrop_distribution_agentid_dbowner_proxy</td><td>sys</td><td>stored procedure</td></tr><tr><td>sp_MSdrop_dynamic_snapshot_agent</td><td>sys</td><td>stored procedure</td></tr><tr><td>sp_MSdrop_logreader_agent</td><td>sys</td><td>stored procedure</td></tr><tr><td>sp_MSdrop_merge_agent</td><td>sys</td><td>stored procedure</td></tr><tr><td>sp_MSdrop_merge_subscription</td><td>sys</td><td>stored procedure</td></tr><tr><td>sp_MSdrop_publication</td><td>sys</td><td>stored procedure</td></tr><tr><td>sp_MSdrop_qreader_history</td><td>sys</td><td>stored procedure</td></tr><tr><td>sp_MSdrop_snapshot_agent</td><td>sys</td><td>stored procedure</td></tr><tr><td>sp_MSdrop_snapshot_dirs</td><td>sys</td><td>stored procedure</td></tr><tr><td>sp_MSdrop_subscriber_info</td><td>sys</td><td>stored procedure</td></tr><tr><td>sp_MSdrop_subscription</td><td>sys</td><td>stored procedure</td></tr><tr><td>sp_MSdrop_subscription_3rd</td><td>sys</td><td>stored procedure</td></tr><tr><td>sp_MSdrop_tempgenhistorytable</td><td>sys</td><td>stored procedure</td></tr><tr><td>sp_MSdroparticleconstraints</td><td>sys</td><td>stored procedure</td></tr><tr><td>sp_MSdroparticletombstones</td><td>sys</td><td>stored procedure</td></tr><tr><td>sp_MSdropconstraints</td><td>sys</td><td>stored procedure</td></tr><tr><td>sp_MSdropdynsnapshotvws</td><td>sys</td><td>stored procedure</td></tr><tr><td>sp_MSdropfkreferencingarticle</td><td>sys</td><td>stored procedure</td></tr><tr><td>sp_MSdropmergearticle</td><td>sys</td><td>stored procedure</td></tr><tr><td>sp_MSdropmergedynamicsnapshotjob</td><td>sys</td><td>stored procedure</td></tr><tr><td>sp_MSdropobsoletearticle</td><td>sys</td><td>stored procedure</td></tr><tr><td>sp_MSdropretry</td><td>sys</td><td>stored procedure</td></tr><tr><td>sp_MSdroptemptable</td><td>sys</td><td>stored procedure</td></tr><tr><td>sp_MSdummyupdate</td><td>sys</td><td>stored procedure</td></tr><tr><td>sp_MSdummyupdate_logicalrecord</td><td>sys</td><td>stored procedure</td></tr><tr><td>sp_MSdummyupdate90</td><td>sys</td><td>stored procedure</td></tr><tr><td>sp_MSdummyupdatelightweight</td><td>sys</td><td>stored procedure</td></tr><tr><td>sp_MSdynamicsnapshotjobexistsatdistributor</td><td>sys</td><td>stored procedure</td></tr><tr><td>sp_MSenable_publication_for_het_sub</td><td>sys</td><td>stored procedure</td></tr><tr><td>sp_MSensure_single_instance</td><td>sys</td><td>stored procedure</td></tr><tr><td>sp_MSenum_distribution</td><td>sys</td><td>stored procedure</td></tr><tr><td>sp_MSenum_distribution_s</td><td>sys</td><td>stored procedure</td></tr><tr><td>sp_MSenum_distribution_sd</td><td>sys</td><td>stored procedure</td></tr><tr><td>sp_MSenum_logicalrecord_changes</td><td>sys</td><td>stored procedure</td></tr><tr><td>sp_MSenum_logreader</td><td>sys</td><td>stored procedure</td></tr><tr><td>sp_MSenum_logreader_s</td><td>sys</td><td>stored procedure</td></tr><tr><td>sp_MSenum_logreader_sd</td><td>sys</td><td>stored procedure</td></tr><tr><td>sp_MSenum_merge</td><td>sys</td><td>stored procedure</td></tr><tr><td>sp_MSenum_merge_agent_properties</td><td>sys</td><td>stored procedure</td></tr><tr><td>sp_MSenum_merge_s</td><td>sys</td><td>stored procedure</td></tr><tr><td>sp_MSenum_merge_sd</td><td>sys</td><td>stored procedure</td></tr><tr><td>sp_MSenum_merge_subscriptions</td><td>sys</td><td>stored procedure</td></tr><tr><td>sp_MSenum_merge_subscriptions_90_publication</td><td>sys</td><td>stored procedure</td></tr><tr><td>sp_MSenum_merge_subscriptions_90_publisher</td><td>sys</td><td>stored procedure</td></tr><tr><td>sp_MSenum_metadataaction_requests</td><td>sys</td><td>stored procedure</td></tr><tr><td>sp_MSenum_qreader</td><td>sys</td><td>stored procedure</td></tr><tr><td>sp_MSenum_qreader_s</td><td>sys</td><td>stored procedure</td></tr><tr><td>sp_MSenum_qreader_sd</td><td>sys</td><td>stored procedure</td></tr><tr><td>sp_MSenum_replication_agents</td><td>sys</td><td>stored procedure</td></tr><tr><td>sp_MSenum_replication_job</td><td>sys</td><td>stored procedure</td></tr><tr><td>sp_MSenum_replqueues</td><td>sys</td><td>stored procedure</td></tr><tr><td>sp_MSenum_replsqlqueues</td><td>sys</td><td>stored procedure</td></tr><tr><td>sp_MSenum_snapshot</td><td>sys</td><td>stored procedure</td></tr><tr><td>sp_MSenum_snapshot_s</td><td>sys</td><td>stored procedure</td></tr><tr><td>sp_MSenum_snapshot_sd</td><td>sys</td><td>stored procedure</td></tr><tr><td>sp_MSenum_subscriptions</td><td>sys</td><td>stored procedure</td></tr><tr><td>sp_MSenumallpublications</td><td>sys</td><td>stored procedure</td></tr><tr><td>sp_MSenumallsubscriptions</td><td>sys</td><td>stored procedure</td></tr><tr><td>sp_MSenumarticleslightweight</td><td>sys</td><td>stored procedure</td></tr><tr><td>sp_MSenumchanges</td><td>sys</td><td>stored procedure</td></tr><tr><td>sp_MSenumchanges_belongtopartition</td><td>sys</td><td>stored procedure</td></tr><tr><td>sp_MSenumchanges_notbelongtopartition</td><td>sys</td><td>stored procedure</td></tr><tr><td>sp_MSenumchangesdirect</td><td>sys</td><td>stored procedure</td></tr><tr><td>sp_MSenumchangeslightweight</td><td>sys</td><td>stored procedure</td></tr><tr><td>sp_MSenumcolumns</td><td>sys</td><td>stored procedure</td></tr><tr><td>sp_MSenumcolumnslightweight</td><td>sys</td><td>stored procedure</td></tr><tr><td>sp_MSenumdeletes_forpartition</td><td>sys</td><td>stored procedure</td></tr><tr><td>sp_MSenumdeleteslightweight</td><td>sys</td><td>stored procedure</td></tr><tr><td>sp_MSenumdeletesmetadata</td><td>sys</td><td>stored procedure</td></tr><tr><td>sp_MSenumdistributionagentproperties</td><td>sys</td><td>stored procedure</td></tr><tr><td>sp_MSenumerate_PAL</td><td>sys</td><td>stored procedure</td></tr><tr><td>sp_MSenumgenerations</td><td>sys</td><td>stored procedure</td></tr><tr><td>sp_MSenumgenerations90</td><td>sys</td><td>stored procedure</td></tr><tr><td>sp_MSenumpartialchanges</td><td>sys</td><td>stored procedure</td></tr><tr><td>sp_MSenumpartialchangesdirect</td><td>sys</td><td>stored procedure</td></tr><tr><td>sp_MSenumpartialdeletes</td><td>sys</td><td>stored procedure</td></tr><tr><td>sp_MSenumpubreferences</td><td>sys</td><td>stored procedure</td></tr><tr><td>sp_MSenumreplicas</td><td>sys</td><td>stored procedure</td></tr><tr><td>sp_MSenumreplicas90</td><td>sys</td><td>stored procedure</td></tr><tr><td>sp_MSenumretries</td><td>sys</td><td>stored procedure</td></tr><tr><td>sp_MSenumschemachange</td><td>sys</td><td>stored procedure</td></tr><tr><td>sp_MSenumsubscriptions</td><td>sys</td><td>stored procedure</td></tr><tr><td>sp_MSenumthirdpartypublicationvendornames</td><td>sys</td><td>stored procedure</td></tr><tr><td>sp_MSestimatemergesnapshotworkload</td><td>sys</td><td>stored procedure</td></tr><tr><td>sp_MSestimatesnapshotworkload</td><td>sys</td><td>stored procedure</td></tr><tr><td>sp_MSevalsubscriberinfo</td><td>sys</td><td>stored procedure</td></tr><tr><td>sp_MSevaluate_change_membership_for_all_articles_in_pubid</td><td>sys</td><td>stored procedure</td></tr><tr><td>sp_MSevaluate_change_membership_for_pubid</td><td>sys</td><td>stored procedure</td></tr><tr><td>sp_MSevaluate_change_membership_for_row</td><td>sys</td><td>stored procedure</td></tr><tr><td>sp_MSexecwithlsnoutput</td><td>sys</td><td>stored procedure</td></tr><tr><td>sp_MSfast_delete_trans</td><td>sys</td><td>stored procedure</td></tr><tr><td>sp_MSfetchAdjustidentityrange</td><td>sys</td><td>stored procedure</td></tr><tr><td>sp_MSfetchidentityrange</td><td>sys</td><td>stored procedure</td></tr><tr><td>sp_MSfillupmissingcols</td><td>sys</td><td>stored procedure</td></tr><tr><td>sp_MSfilterclause</td><td>sys</td><td>stored procedure</td></tr><tr><td>sp_MSfix_6x_tasks</td><td>sys</td><td>stored procedure</td></tr><tr><td>sp_MSfixlineageversions</td><td>sys</td><td>stored procedure</td></tr><tr><td>sp_MSFixSubColumnBitmaps</td><td>sys</td><td>stored procedure</td></tr><tr><td>sp_MSfixupbeforeimagetables</td><td>sys</td><td>stored procedure</td></tr><tr><td>sp_MSflush_access_cache</td><td>sys</td><td>stored procedure</td></tr><tr><td>sp_MSforce_drop_distribution_jobs</td><td>sys</td><td>stored procedure</td></tr><tr><td>sp_MSforcereenumeration</td><td>sys</td><td>stored procedure</td></tr><tr><td>sp_MSforeach_worker</td><td>sys</td><td>stored procedure</td></tr><tr><td>sp_MSforeachdb</td><td>sys</td><td>stored procedure</td></tr><tr><td>sp_MSforeachtable</td><td>sys</td><td>stored procedure</td></tr><tr><td>sp_MSgenerateexpandproc</td><td>sys</td><td>stored procedure</td></tr><tr><td>sp_MSget_agent_names</td><td>sys</td><td>stored procedure</td></tr><tr><td>sp_MSget_attach_state</td><td>sys</td><td>stored procedure</td></tr><tr><td>sp_MSget_DDL_after_regular_snapshot</td><td>sys</td><td>stored procedure</td></tr><tr><td>sp_MSget_dynamic_snapshot_location</td><td>sys</td><td>stored procedure</td></tr><tr><td>sp_MSget_identity_range_info</td><td>sys</td><td>stored procedure</td></tr><tr><td>sp_MSget_jobstate</td><td>sys</td><td>stored procedure</td></tr><tr><td>sp_MSget_last_transaction</td><td>sys</td><td>stored procedure</td></tr><tr><td>sp_MSget_latest_peerlsn</td><td>sys</td><td>stored procedure</td></tr><tr><td>sp_MSget_load_hint</td><td>sys</td><td>stored procedure</td></tr><tr><td>sp_MSget_log_shipping_new_sessionid</td><td>sys</td><td>stored procedure</td></tr><tr><td>sp_MSget_logicalrecord_lineage</td><td>sys</td><td>stored procedure</td></tr><tr><td>sp_MSget_max_used_identity</td><td>sys</td><td>stored procedure</td></tr><tr><td>sp_MSget_min_seqno</td><td>sys</td><td>stored procedure</td></tr><tr><td>sp_MSget_MSmerge_rowtrack_colinfo</td><td>sys</td><td>stored procedure</td></tr><tr><td>sp_MSget_new_xact_seqno</td><td>sys</td><td>stored procedure</td></tr><tr><td>sp_MSget_oledbinfo</td><td>sys</td><td>stored procedure</td></tr><tr><td>sp_MSget_partitionid_eval_proc</td><td>sys</td><td>stored procedure</td></tr><tr><td>sp_MSget_publication_from_taskname</td><td>sys</td><td>stored procedure</td></tr><tr><td>sp_MSget_publisher_rpc</td><td>sys</td><td>stored procedure</td></tr><tr><td>sp_MSget_repl_cmds_anonymous</td><td>sys</td><td>stored procedure</td></tr><tr><td>sp_MSget_repl_commands</td><td>sys</td><td>stored procedure</td></tr><tr><td>sp_MSget_repl_error</td><td>sys</td><td>stored procedure</td></tr><tr><td>sp_MSget_server_portinfo</td><td>sys</td><td>stored procedure</td></tr><tr><td>sp_MSget_session_statistics</td><td>sys</td><td>stored procedure</td></tr><tr><td>sp_MSget_shared_agent</td><td>sys</td><td>stored procedure</td></tr><tr><td>sp_MSget_snapshot_history</td><td>sys</td><td>stored procedure</td></tr><tr><td>sp_MSget_subscriber_partition_id</td><td>sys</td><td>stored procedure</td></tr><tr><td>sp_MSget_subscription_dts_info</td><td>sys</td><td>stored procedure</td></tr><tr><td>sp_MSget_subscription_guid</td><td>sys</td><td>stored procedure</td></tr><tr><td>sp_MSget_synctran_commands</td><td>sys</td><td>stored procedure</td></tr><tr><td>sp_MSget_type_wrapper</td><td>sys</td><td>stored procedure</td></tr><tr><td>sp_MSgetagentoffloadinfo</td><td>sys</td><td>stored procedure</td></tr><tr><td>sp_MSgetalertinfo</td><td>sys</td><td>stored procedure</td></tr><tr><td>sp_MSgetalternaterecgens</td><td>sys</td><td>stored procedure</td></tr><tr><td>sp_MSgetarticlereinitvalue</td><td>sys</td><td>stored procedure</td></tr><tr><td>sp_MSgetchangecount</td><td>sys</td><td>stored procedure</td></tr><tr><td>sp_MSgetconflictinsertproc</td><td>sys</td><td>stored procedure</td></tr><tr><td>sp_MSgetconflicttablename</td><td>sys</td><td>stored procedure</td></tr><tr><td>sp_MSGetCurrentPrincipal</td><td>sys</td><td>stored procedure</td></tr><tr><td>sp_MSgetdatametadatabatch</td><td>sys</td><td>stored procedure</td></tr><tr><td>sp_MSgetdbversion</td><td>sys</td><td>stored procedure</td></tr><tr><td>sp_MSgetdynamicsnapshotapplock</td><td>sys</td><td>stored procedure</td></tr><tr><td>sp_MSgetdynsnapvalidationtoken</td><td>sys</td><td>stored procedure</td></tr><tr><td>sp_MSgetgenstatus4rows</td><td>sys</td><td>stored procedure</td></tr><tr><td>sp_MSgetisvalidwindowsloginfromdistributor</td><td>sys</td><td>stored procedure</td></tr><tr><td>sp_MSgetlastrecgen</td><td>sys</td><td>stored procedure</td></tr><tr><td>sp_MSgetlastsentgen</td><td>sys</td><td>stored procedure</td></tr><tr><td>sp_MSgetlastsentrecgens</td><td>sys</td><td>stored procedure</td></tr><tr><td>sp_MSgetlastupdatedtime</td><td>sys</td><td>stored procedure</td></tr><tr><td>sp_MSgetlightweightmetadatabatch</td><td>sys</td><td>stored procedure</td></tr><tr><td>sp_MSgetmakegenerationapplock</td><td>sys</td><td>stored procedure</td></tr><tr><td>sp_MSgetmakegenerationapplock_90</td><td>sys</td><td>stored procedure</td></tr><tr><td>sp_MSgetmaxbcpgen</td><td>sys</td><td>stored procedure</td></tr><tr><td>sp_MSgetmaxsnapshottimestamp</td><td>sys</td><td>stored procedure</td></tr><tr><td>sp_MSgetmergeadminapplock</td><td>sys</td><td>stored procedure</td></tr><tr><td>sp_MSgetmetadata_changedlogicalrecordmembers</td><td>sys</td><td>stored procedure</td></tr><tr><td>sp_MSgetmetadatabatch</td><td>sys</td><td>stored procedure</td></tr><tr><td>sp_MSgetmetadatabatch90</td><td>sys</td><td>stored procedure</td></tr><tr><td>sp_MSgetmetadatabatch90new</td><td>sys</td><td>stored procedure</td></tr><tr><td>sp_MSgetonerow</td><td>sys</td><td>stored procedure</td></tr><tr><td>sp_MSgetonerowlightweight</td><td>sys</td><td>stored procedure</td></tr><tr><td>sp_MSgetpeerconflictrow</td><td>sys</td><td>stored procedure</td></tr><tr><td>sp_MSgetpeerlsns</td><td>sys</td><td>stored procedure</td></tr><tr><td>sp_MSgetpeertopeercommands</td><td>sys</td><td>stored procedure</td></tr><tr><td>sp_MSgetpeerwinnerrow</td><td>sys</td><td>stored procedure</td></tr><tr><td>sp_MSgetpubinfo</td><td>sys</td><td>stored procedure</td></tr><tr><td>sp_MSgetreplicainfo</td><td>sys</td><td>stored procedure</td></tr><tr><td>sp_MSgetreplicastate</td><td>sys</td><td>stored procedure</td></tr><tr><td>sp_MSgetrowmetadata</td><td>sys</td><td>stored procedure</td></tr><tr><td>sp_MSgetrowmetadatalightweight</td><td>sys</td><td>stored procedure</td></tr><tr><td>sp_MSGetServerProperties</td><td>sys</td><td>stored procedure</td></tr><tr><td>sp_MSgetsetupbelong_cost</td><td>sys</td><td>stored procedure</td></tr><tr><td>sp_MSgetsubscriberinfo</td><td>sys</td><td>stored procedure</td></tr><tr><td>sp_MSgetsupportabilitysettings</td><td>sys</td><td>stored procedure</td></tr><tr><td>sp_MSgettrancftsrcrow</td><td>sys</td><td>stored procedure</td></tr><tr><td>sp_MSgettranconflictrow</td><td>sys</td><td>stored procedure</td></tr><tr><td>sp_MSgetversion</td><td>sys</td><td>stored procedure</td></tr><tr><td>sp_MSgrantconnectreplication</td><td>sys</td><td>stored procedure</td></tr><tr><td>sp_MShaschangeslightweight</td><td>sys</td><td>stored procedure</td></tr><tr><td>sp_MShasdbaccess</td><td>sys</td><td>stored procedure</td></tr><tr><td>sp_MShelp_article</td><td>sys</td><td>stored procedure</td></tr><tr><td>sp_MShelp_distdb</td><td>sys</td><td>stored procedure</td></tr><tr><td>sp_MShelp_distribution_agentid</td><td>sys</td><td>stored procedure</td></tr><tr><td>sp_MShelp_identity_property</td><td>sys</td><td>stored procedure</td></tr><tr><td>sp_MShelp_logreader_agentid</td><td>sys</td><td>stored procedure</td></tr><tr><td>sp_MShelp_merge_agentid</td><td>sys</td><td>stored procedure</td></tr><tr><td>sp_MShelp_profile</td><td>sys</td><td>stored procedure</td></tr><tr><td>sp_MShelp_profilecache</td><td>sys</td><td>stored procedure</td></tr><tr><td>sp_MShelp_publication</td><td>sys</td><td>stored procedure</td></tr><tr><td>sp_MShelp_repl_agent</td><td>sys</td><td>stored procedure</td></tr><tr><td>sp_MShelp_replication_status</td><td>sys</td><td>stored procedure</td></tr><tr><td>sp_MShelp_replication_table</td><td>sys</td><td>stored procedure</td></tr><tr><td>sp_MShelp_snapshot_agent</td><td>sys</td><td>stored procedure</td></tr><tr><td>sp_MShelp_snapshot_agentid</td><td>sys</td><td>stored procedure</td></tr><tr><td>sp_MShelp_subscriber_info</td><td>sys</td><td>stored procedure</td></tr><tr><td>sp_MShelp_subscription</td><td>sys</td><td>stored procedure</td></tr><tr><td>sp_MShelp_subscription_status</td><td>sys</td><td>stored procedure</td></tr><tr><td>sp_MShelpcolumns</td><td>sys</td><td>stored procedure</td></tr><tr><td>sp_MShelpconflictpublications</td><td>sys</td><td>stored procedure</td></tr><tr><td>sp_MShelpcreatebeforetable</td><td>sys</td><td>stored procedure</td></tr><tr><td>sp_MShelpdestowner</td><td>sys</td><td>stored procedure</td></tr><tr><td>sp_MShelpdynamicsnapshotjobatdistributor</td><td>sys</td><td>stored procedure</td></tr><tr><td>sp_MShelpfulltextindex</td><td>sys</td><td>stored procedure</td></tr><tr><td>sp_MShelpfulltextscript</td><td>sys</td><td>stored procedure</td></tr><tr><td>sp_MShelpindex</td><td>sys</td><td>stored procedure</td></tr><tr><td>sp_MShelplogreader_agent</td><td>sys</td><td>stored procedure</td></tr><tr><td>sp_MShelpmergearticles</td><td>sys</td><td>stored procedure</td></tr><tr><td>sp_MShelpmergeconflictcounts</td><td>sys</td><td>stored procedure</td></tr><tr><td>sp_MShelpmergedynamicsnapshotjob</td><td>sys</td><td>stored procedure</td></tr><tr><td>sp_MShelpmergeidentity</td><td>sys</td><td>stored procedure</td></tr><tr><td>sp_MShelpmergeschemaarticles</td><td>sys</td><td>stored procedure</td></tr><tr><td>sp_MShelpobjectpublications</td><td>sys</td><td>stored procedure</td></tr><tr><td>sp_MShelpreplicationtriggers</td><td>sys</td><td>stored procedure</td></tr><tr><td>sp_MShelpsnapshot_agent</td><td>sys</td><td>stored procedure</td></tr><tr><td>sp_MShelpsummarypublication</td><td>sys</td><td>stored procedure</td></tr><tr><td>sp_MShelptracertokenhistory</td><td>sys</td><td>stored procedure</td></tr><tr><td>sp_MShelptracertokens</td><td>sys</td><td>stored procedure</td></tr><tr><td>sp_MShelptranconflictcounts</td><td>sys</td><td>stored procedure</td></tr><tr><td>sp_MShelptype</td><td>sys</td><td>stored procedure</td></tr><tr><td>sp_MShelpvalidationdate</td><td>sys</td><td>stored procedure</td></tr><tr><td>sp_MSIfExistsSubscription</td><td>sys</td><td>stored procedure</td></tr><tr><td>sp_MSindexspace</td><td>sys</td><td>stored procedure</td></tr><tr><td>sp_MSinit_publication_access</td><td>sys</td><td>stored procedure</td></tr><tr><td>sp_MSinit_subscription_agent</td><td>sys</td><td>stored procedure</td></tr><tr><td>sp_MSinitdynamicsubscriber</td><td>sys</td><td>stored procedure</td></tr><tr><td>sp_MSinsert_identity</td><td>sys</td><td>stored procedure</td></tr><tr><td>sp_MSinsertdeleteconflict</td><td>sys</td><td>stored procedure</td></tr><tr><td>sp_MSinserterrorlineage</td><td>sys</td><td>stored procedure</td></tr><tr><td>sp_MSinsertgenerationschemachanges</td><td>sys</td><td>stored procedure</td></tr><tr><td>sp_MSinsertgenhistory</td><td>sys</td><td>stored procedure</td></tr><tr><td>sp_MSinsertlightweightschemachange</td><td>sys</td><td>stored procedure</td></tr><tr><td>sp_MSinsertschemachange</td><td>sys</td><td>stored procedure</td></tr><tr><td>sp_MSinvalidate_snapshot</td><td>sys</td><td>stored procedure</td></tr><tr><td>sp_MSIsContainedAGSession</td><td>sys</td><td>stored procedure</td></tr><tr><td>sp_MSisnonpkukupdateinconflict</td><td>sys</td><td>stored procedure</td></tr><tr><td>sp_MSispeertopeeragent</td><td>sys</td><td>stored procedure</td></tr><tr><td>sp_MSispkupdateinconflict</td><td>sys</td><td>stored procedure</td></tr><tr><td>sp_MSispublicationqueued</td><td>sys</td><td>stored procedure</td></tr><tr><td>sp_MSisreplmergeagent</td><td>sys</td><td>stored procedure</td></tr><tr><td>sp_MSissnapshotitemapplied</td><td>sys</td><td>stored procedure</td></tr><tr><td>sp_MSkilldb</td><td>sys</td><td>stored procedure</td></tr><tr><td>sp_MSlock_auto_sub</td><td>sys</td><td>stored procedure</td></tr><tr><td>sp_MSlock_distribution_agent</td><td>sys</td><td>stored procedure</td></tr><tr><td>sp_MSlocktable</td><td>sys</td><td>stored procedure</td></tr><tr><td>sp_MSloginmappings</td><td>sys</td><td>stored procedure</td></tr><tr><td>sp_MSmakearticleprocs</td><td>sys</td><td>stored procedure</td></tr><tr><td>sp_MSmakebatchinsertproc</td><td>sys</td><td>stored procedure</td></tr><tr><td>sp_MSmakebatchupdateproc</td><td>sys</td><td>stored procedure</td></tr><tr><td>sp_MSmakeconflictinsertproc</td><td>sys</td><td>stored procedure</td></tr><tr><td>sp_MSmakectsview</td><td>sys</td><td>stored procedure</td></tr><tr><td>sp_MSmakedeleteproc</td><td>sys</td><td>stored procedure</td></tr><tr><td>sp_MSmakedynsnapshotvws</td><td>sys</td><td>stored procedure</td></tr><tr><td>sp_MSmakeexpandproc</td><td>sys</td><td>stored procedure</td></tr><tr><td>sp_MSmakegeneration</td><td>sys</td><td>stored procedure</td></tr><tr><td>sp_MSmakeinsertproc</td><td>sys</td><td>stored procedure</td></tr><tr><td>sp_MSmakemetadataselectproc</td><td>sys</td><td>stored procedure</td></tr><tr><td>sp_MSmakeselectproc</td><td>sys</td><td>stored procedure</td></tr><tr><td>sp_MSmakesystableviews</td><td>sys</td><td>stored procedure</td></tr><tr><td>sp_MSmakeupdateproc</td><td>sys</td><td>stored procedure</td></tr><tr><td>sp_MSmap_partitionid_to_generations</td><td>sys</td><td>stored procedure</td></tr><tr><td>sp_MSmarkreinit</td><td>sys</td><td>stored procedure</td></tr><tr><td>sp_MSmatchkey</td><td>sys</td><td>stored procedure</td></tr><tr><td>sp_MSmerge_alterschemaonly</td><td>sys</td><td>stored procedure</td></tr><tr><td>sp_MSmerge_altertrigger</td><td>sys</td><td>stored procedure</td></tr><tr><td>sp_MSmerge_alterview</td><td>sys</td><td>stored procedure</td></tr><tr><td>sp_MSmerge_ddldispatcher</td><td>sys</td><td>stored procedure</td></tr><tr><td>sp_MSmerge_getgencount</td><td>sys</td><td>stored procedure</td></tr><tr><td>sp_MSmerge_getgencur_public</td><td>sys</td><td>stored procedure</td></tr><tr><td>sp_MSmerge_is_snapshot_required</td><td>sys</td><td>stored procedure</td></tr><tr><td>sp_MSmerge_log_identity_range_allocations</td><td>sys</td><td>stored procedure</td></tr><tr><td>sp_MSmerge_parsegenlist</td><td>sys</td><td>stored procedure</td></tr><tr><td>sp_MSmerge_upgrade_subscriber</td><td>sys</td><td>stored procedure</td></tr><tr><td>sp_MSmergesubscribedb</td><td>sys</td><td>stored procedure</td></tr><tr><td>sp_MSmergeupdatelastsyncinfo</td><td>sys</td><td>stored procedure</td></tr><tr><td>sp_MSneedmergemetadataretentioncleanup</td><td>sys</td><td>stored procedure</td></tr><tr><td>sp_MSNonSQLDDL</td><td>sys</td><td>stored procedure</td></tr><tr><td>sp_MSNonSQLDDLForSchemaDDL</td><td>sys</td><td>stored procedure</td></tr><tr><td>sp_MSobjectprivs</td><td>sys</td><td>stored procedure</td></tr><tr><td>sp_MSpeerapplyresponse</td><td>sys</td><td>stored procedure</td></tr><tr><td>sp_MSpeerapplytopologyinfo</td><td>sys</td><td>stored procedure</td></tr><tr><td>sp_MSpeerconflictdetection_statuscollection_applyresponse</td><td>sys</td><td>stored procedure</td></tr><tr><td>sp_MSpeerconflictdetection_statuscollection_sendresponse</td><td>sys</td><td>stored procedure</td></tr><tr><td>sp_MSpeerconflictdetection_topology_applyresponse</td><td>sys</td><td>stored procedure</td></tr><tr><td>sp_MSpeerdbinfo</td><td>sys</td><td>stored procedure</td></tr><tr><td>sp_MSpeersendresponse</td><td>sys</td><td>stored procedure</td></tr><tr><td>sp_MSpeersendtopologyinfo</td><td>sys</td><td>stored procedure</td></tr><tr><td>sp_MSpeertopeerfwdingexec</td><td>sys</td><td>stored procedure</td></tr><tr><td>sp_MSpost_auto_proc</td><td>sys</td><td>stored procedure</td></tr><tr><td>sp_MSpostapplyscript_forsubscriberprocs</td><td>sys</td><td>stored procedure</td></tr><tr><td>sp_MSprep_exclusive</td><td>sys</td><td>stored procedure</td></tr><tr><td>sp_MSprepare_mergearticle</td><td>sys</td><td>stored procedure</td></tr><tr><td>sp_MSprofile_in_use</td><td>sys</td><td>stored procedure</td></tr><tr><td>sp_MSproxiedmetadata</td><td>sys</td><td>stored procedure</td></tr><tr><td>sp_MSproxiedmetadatabatch</td><td>sys</td><td>stored procedure</td></tr><tr><td>sp_MSproxiedmetadatalightweight</td><td>sys</td><td>stored procedure</td></tr><tr><td>sp_MSpub_adjust_identity</td><td>sys</td><td>stored procedure</td></tr><tr><td>sp_MSpublication_access</td><td>sys</td><td>stored procedure</td></tr><tr><td>sp_MSpublicationcleanup</td><td>sys</td><td>stored procedure</td></tr><tr><td>sp_MSpublicationview</td><td>sys</td><td>stored procedure</td></tr><tr><td>sp_MSquery_syncstates</td><td>sys</td><td>stored procedure</td></tr><tr><td>sp_MSquerysubtype</td><td>sys</td><td>stored procedure</td></tr><tr><td>sp_MSrecordsnapshotdeliveryprogress</td><td>sys</td><td>stored procedure</td></tr><tr><td>sp_MSreenable_check</td><td>sys</td><td>stored procedure</td></tr><tr><td>sp_MSrefresh_anonymous</td><td>sys</td><td>stored procedure</td></tr><tr><td>sp_MSrefresh_publisher_idrange</td><td>sys</td><td>stored procedure</td></tr><tr><td>sp_MSregenerate_mergetriggersprocs</td><td>sys</td><td>stored procedure</td></tr><tr><td>sp_MSregisterdynsnapseqno</td><td>sys</td><td>stored procedure</td></tr><tr><td>sp_MSregistermergesnappubid</td><td>sys</td><td>stored procedure</td></tr><tr><td>sp_MSregistersubscription</td><td>sys</td><td>stored procedure</td></tr><tr><td>sp_MSreinit_failed_subscriptions</td><td>sys</td><td>stored procedure</td></tr><tr><td>sp_MSreinit_hub</td><td>sys</td><td>stored procedure</td></tr><tr><td>sp_MSreinit_subscription</td><td>sys</td><td>stored procedure</td></tr><tr><td>sp_MSreinitoverlappingmergepublications</td><td>sys</td><td>stored procedure</td></tr><tr><td>sp_MSreleasedynamicsnapshotapplock</td><td>sys</td><td>stored procedure</td></tr><tr><td>sp_MSreleasemakegenerationapplock</td><td>sys</td><td>stored procedure</td></tr><tr><td>sp_MSreleasemergeadminapplock</td><td>sys</td><td>stored procedure</td></tr><tr><td>sp_MSreleaseSlotLock</td><td>sys</td><td>stored procedure</td></tr><tr><td>sp_MSreleasesnapshotdeliverysessionlock</td><td>sys</td><td>stored procedure</td></tr><tr><td>sp_MSremove_mergereplcommand</td><td>sys</td><td>stored procedure</td></tr><tr><td>sp_MSremoveoffloadparameter</td><td>sys</td><td>stored procedure</td></tr><tr><td>sp_MSrepl_agentstatussummary</td><td>sys</td><td>stored procedure</td></tr><tr><td>sp_MSrepl_backup_complete</td><td>sys</td><td>stored procedure</td></tr><tr><td>sp_MSrepl_backup_start</td><td>sys</td><td>stored procedure</td></tr><tr><td>sp_MSrepl_check_publisher</td><td>sys</td><td>stored procedure</td></tr><tr><td>sp_MSrepl_createdatatypemappings</td><td>sys</td><td>stored procedure</td></tr><tr><td>sp_MSrepl_distributionagentstatussummary</td><td>sys</td><td>stored procedure</td></tr><tr><td>sp_MSrepl_dropdatatypemappings</td><td>sys</td><td>stored procedure</td></tr><tr><td>sp_MSrepl_enumarticlecolumninfo</td><td>sys</td><td>stored procedure</td></tr><tr><td>sp_MSrepl_enumpublications</td><td>sys</td><td>stored procedure</td></tr><tr><td>sp_MSrepl_enumpublishertables</td><td>sys</td><td>stored procedure</td></tr><tr><td>sp_MSrepl_enumsubscriptions</td><td>sys</td><td>stored procedure</td></tr><tr><td>sp_MSrepl_enumtablecolumninfo</td><td>sys</td><td>stored procedure</td></tr><tr><td>sp_MSrepl_FixPALRole</td><td>sys</td><td>stored procedure</td></tr><tr><td>sp_MSrepl_getdistributorinfo</td><td>sys</td><td>stored procedure</td></tr><tr><td>sp_MSrepl_getpkfkrelation</td><td>sys</td><td>stored procedure</td></tr><tr><td>sp_MSrepl_gettype_mappings</td><td>sys</td><td>stored procedure</td></tr><tr><td>sp_MSrepl_helparticlermo</td><td>sys</td><td>stored procedure</td></tr><tr><td>sp_MSrepl_init_backup_lsns</td><td>sys</td><td>stored procedure</td></tr><tr><td>sp_MSrepl_isdbowner</td><td>sys</td><td>stored procedure</td></tr><tr><td>sp_MSrepl_IsLastPubInSharedSubscription</td><td>sys</td><td>stored procedure</td></tr><tr><td>sp_MSrepl_IsUserInAnyPAL</td><td>sys</td><td>stored procedure</td></tr><tr><td>sp_MSrepl_linkedservers_rowset</td><td>sys</td><td>stored procedure</td></tr><tr><td>sp_MSrepl_mergeagentstatussummary</td><td>sys</td><td>stored procedure</td></tr><tr><td>sp_MSrepl_monitor_job_at_failover</td><td>sys</td><td>stored procedure</td></tr><tr><td>sp_MSrepl_PAL_rolecheck</td><td>sys</td><td>stored procedure</td></tr><tr><td>sp_MSrepl_raiserror</td><td>sys</td><td>stored procedure</td></tr><tr><td>sp_MSrepl_reinit_jobsync_table</td><td>sys</td><td>stored procedure</td></tr><tr><td>sp_MSrepl_schema</td><td>sys</td><td>stored procedure</td></tr><tr><td>sp_MSrepl_setNFR</td><td>sys</td><td>stored procedure</td></tr><tr><td>sp_MSrepl_snapshot_helparticlecolumns</td><td>sys</td><td>stored procedure</td></tr><tr><td>sp_MSrepl_snapshot_helppublication</td><td>sys</td><td>stored procedure</td></tr><tr><td>sp_MSrepl_startup_internal</td><td>sys</td><td>stored procedure</td></tr><tr><td>sp_MSrepl_subscription_rowset</td><td>sys</td><td>stored procedure</td></tr><tr><td>sp_MSrepl_testadminconnection</td><td>sys</td><td>stored procedure</td></tr><tr><td>sp_MSrepl_testconnection</td><td>sys</td><td>stored procedure</td></tr><tr><td>sp_MSreplagentjobexists</td><td>sys</td><td>stored procedure</td></tr><tr><td>sp_MSreplcheck_permission</td><td>sys</td><td>stored procedure</td></tr><tr><td>sp_MSreplcheck_pull</td><td>sys</td><td>stored procedure</td></tr><tr><td>sp_MSreplcheck_subscribe</td><td>sys</td><td>stored procedure</td></tr><tr><td>sp_MSreplcheck_subscribe_withddladmin</td><td>sys</td><td>stored procedure</td></tr><tr><td>sp_MSreplcheckoffloadserver</td><td>sys</td><td>stored procedure</td></tr><tr><td>sp_MSreplcopyscriptfile</td><td>sys</td><td>stored procedure</td></tr><tr><td>sp_MSreplraiserror</td><td>sys</td><td>stored procedure</td></tr><tr><td>sp_MSreplremoveuncdir</td><td>sys</td><td>stored procedure</td></tr><tr><td>sp_MSreplupdateschema</td><td>sys</td><td>stored procedure</td></tr><tr><td>sp_MSrequestreenumeration</td><td>sys</td><td>stored procedure</td></tr><tr><td>sp_MSrequestreenumeration_lightweight</td><td>sys</td><td>stored procedure</td></tr><tr><td>sp_MSreset_attach_state</td><td>sys</td><td>stored procedure</td></tr><tr><td>sp_MSreset_queued_reinit</td><td>sys</td><td>stored procedure</td></tr><tr><td>sp_MSreset_subscription</td><td>sys</td><td>stored procedure</td></tr><tr><td>sp_MSreset_subscription_seqno</td><td>sys</td><td>stored procedure</td></tr><tr><td>sp_MSreset_synctran_bit</td><td>sys</td><td>stored procedure</td></tr><tr><td>sp_MSreset_transaction</td><td>sys</td><td>stored procedure</td></tr><tr><td>sp_MSresetsnapshotdeliveryprogress</td><td>sys</td><td>stored procedure</td></tr><tr><td>sp_MSrestoresavedforeignkeys</td><td>sys</td><td>stored procedure</td></tr><tr><td>sp_MSretrieve_publication_attributes</td><td>sys</td><td>stored procedure</td></tr><tr><td>sp_MSscript_article_view</td><td>sys</td><td>stored procedure</td></tr><tr><td>sp_MSscript_dri</td><td>sys</td><td>stored procedure</td></tr><tr><td>sp_MSscript_pub_upd_trig</td><td>sys</td><td>stored procedure</td></tr><tr><td>sp_MSscript_sync_del_proc</td><td>sys</td><td>stored procedure</td></tr><tr><td>sp_MSscript_sync_del_trig</td><td>sys</td><td>stored procedure</td></tr><tr><td>sp_MSscript_sync_ins_proc</td><td>sys</td><td>stored procedure</td></tr><tr><td>sp_MSscript_sync_ins_trig</td><td>sys</td><td>stored procedure</td></tr><tr><td>sp_MSscript_sync_upd_proc</td><td>sys</td><td>stored procedure</td></tr><tr><td>sp_MSscript_sync_upd_trig</td><td>sys</td><td>stored procedure</td></tr><tr><td>sp_MSscriptcustomdelproc</td><td>sys</td><td>stored procedure</td></tr><tr><td>sp_MSscriptcustominsproc</td><td>sys</td><td>stored procedure</td></tr><tr><td>sp_MSscriptcustomupdproc</td><td>sys</td><td>stored procedure</td></tr><tr><td>sp_MSscriptdatabase</td><td>sys</td><td>stored procedure</td></tr><tr><td>sp_MSscriptdb_worker</td><td>sys</td><td>stored procedure</td></tr><tr><td>sp_MSscriptforeignkeyrestore</td><td>sys</td><td>stored procedure</td></tr><tr><td>sp_MSscriptsubscriberprocs</td><td>sys</td><td>stored procedure</td></tr><tr><td>sp_MSscriptviewproc</td><td>sys</td><td>stored procedure</td></tr><tr><td>sp_MSsendtosqlqueue</td><td>sys</td><td>stored procedure</td></tr><tr><td>sp_MSset_dynamic_filter_options</td><td>sys</td><td>stored procedure</td></tr><tr><td>sp_MSset_logicalrecord_metadata</td><td>sys</td><td>stored procedure</td></tr><tr><td>sp_MSset_new_identity_range</td><td>sys</td><td>stored procedure</td></tr><tr><td>sp_MSset_oledb_prop</td><td>sys</td><td>stored procedure</td></tr><tr><td>sp_MSset_repl_serveroptions</td><td>sys</td><td>stored procedure</td></tr><tr><td>sp_MSset_snapshot_xact_seqno</td><td>sys</td><td>stored procedure</td></tr><tr><td>sp_MSset_sub_guid</td><td>sys</td><td>stored procedure</td></tr><tr><td>sp_MSset_subscription_properties</td><td>sys</td><td>stored procedure</td></tr><tr><td>sp_MSsetaccesslist</td><td>sys</td><td>stored procedure</td></tr><tr><td>sp_MSsetalertinfo</td><td>sys</td><td>stored procedure</td></tr><tr><td>sp_MSsetartprocs</td><td>sys</td><td>stored procedure</td></tr><tr><td>sp_MSsetbit</td><td>sys</td><td>stored procedure</td></tr><tr><td>sp_MSsetconflictscript</td><td>sys</td><td>stored procedure</td></tr><tr><td>sp_MSsetconflicttable</td><td>sys</td><td>stored procedure</td></tr><tr><td>sp_MSsetcontext_bypasswholeddleventbit</td><td>sys</td><td>stored procedure</td></tr><tr><td>sp_MSsetcontext_replagent</td><td>sys</td><td>stored procedure</td></tr><tr><td>sp_MSsetgentozero</td><td>sys</td><td>stored procedure</td></tr><tr><td>sp_MSsetlastrecgen</td><td>sys</td><td>stored procedure</td></tr><tr><td>sp_MSsetlastsentgen</td><td>sys</td><td>stored procedure</td></tr><tr><td>sp_MSsetreplicainfo</td><td>sys</td><td>stored procedure</td></tr><tr><td>sp_MSsetreplicaschemaversion</td><td>sys</td><td>stored procedure</td></tr><tr><td>sp_MSsetreplicastatus</td><td>sys</td><td>stored procedure</td></tr><tr><td>sp_MSsetrowmetadata</td><td>sys</td><td>stored procedure</td></tr><tr><td>sp_MSSetServerProperties</td><td>sys</td><td>stored procedure</td></tr><tr><td>sp_MSsetsubscriberinfo</td><td>sys</td><td>stored procedure</td></tr><tr><td>sp_MSsettopology</td><td>sys</td><td>stored procedure</td></tr><tr><td>sp_MSsetup_identity_range</td><td>sys</td><td>stored procedure</td></tr><tr><td>sp_MSsetup_partition_groups</td><td>sys</td><td>stored procedure</td></tr><tr><td>sp_MSsetup_use_partition_groups</td><td>sys</td><td>stored procedure</td></tr><tr><td>sp_MSsetupbelongs</td><td>sys</td><td>stored procedure</td></tr><tr><td>sp_MSsetupnosyncsubwithlsnatdist</td><td>sys</td><td>stored procedure</td></tr><tr><td>sp_MSsetupnosyncsubwithlsnatdist_cleanup</td><td>sys</td><td>stored procedure</td></tr><tr><td>sp_MSsetupnosyncsubwithlsnatdist_helper</td><td>sys</td><td>stored procedure</td></tr><tr><td>sp_MSSharedFixedDisk</td><td>sys</td><td>stored procedure</td></tr><tr><td>sp_MSSQLDMO70_version</td><td>sys</td><td>stored procedure</td></tr><tr><td>sp_MSSQLDMO80_version</td><td>sys</td><td>stored procedure</td></tr><tr><td>sp_MSSQLDMO90_version</td><td>sys</td><td>stored procedure</td></tr><tr><td>sp_MSSQLOLE_version</td><td>sys</td><td>stored procedure</td></tr><tr><td>sp_MSSQLOLE65_version</td><td>sys</td><td>stored procedure</td></tr><tr><td>sp_MSstartdistribution_agent</td><td>sys</td><td>stored procedure</td></tr><tr><td>sp_MSstartmerge_agent</td><td>sys</td><td>stored procedure</td></tr><tr><td>sp_MSstartsnapshot_agent</td><td>sys</td><td>stored procedure</td></tr><tr><td>sp_MSstopdistribution_agent</td><td>sys</td><td>stored procedure</td></tr><tr><td>sp_MSstopmerge_agent</td><td>sys</td><td>stored procedure</td></tr><tr><td>sp_MSstopsnapshot_agent</td><td>sys</td><td>stored procedure</td></tr><tr><td>sp_MSsub_check_identity</td><td>sys</td><td>stored procedure</td></tr><tr><td>sp_MSsub_set_identity</td><td>sys</td><td>stored procedure</td></tr><tr><td>sp_MSsubscription_status</td><td>sys</td><td>stored procedure</td></tr><tr><td>sp_MSsubscriptionvalidated</td><td>sys</td><td>stored procedure</td></tr><tr><td>sp_MStablechecks</td><td>sys</td><td>stored procedure</td></tr><tr><td>sp_MStablekeys</td><td>sys</td><td>stored procedure</td></tr><tr><td>sp_MStablerefs</td><td>sys</td><td>stored procedure</td></tr><tr><td>sp_MStablespace</td><td>sys</td><td>stored procedure</td></tr><tr><td>sp_MStestbit</td><td>sys</td><td>stored procedure</td></tr><tr><td>sp_MStran_ddlrepl</td><td>sys</td><td>stored procedure</td></tr><tr><td>sp_MStran_is_snapshot_required</td><td>sys</td><td>stored procedure</td></tr><tr><td>sp_MStrypurgingoldsnapshotdeliveryprogress</td><td>sys</td><td>stored procedure</td></tr><tr><td>sp_MSuniquename</td><td>sys</td><td>stored procedure</td></tr><tr><td>sp_MSunmarkifneeded</td><td>sys</td><td>stored procedure</td></tr><tr><td>sp_MSunmarkreplinfo</td><td>sys</td><td>stored procedure</td></tr><tr><td>sp_MSunmarkschemaobject</td><td>sys</td><td>stored procedure</td></tr><tr><td>sp_MSunregistersubscription</td><td>sys</td><td>stored procedure</td></tr><tr><td>sp_MSupdate_agenttype_default</td><td>sys</td><td>stored procedure</td></tr><tr><td>sp_MSupdate_singlelogicalrecordmetadata</td><td>sys</td><td>stored procedure</td></tr><tr><td>sp_MSupdate_subscriber_info</td><td>sys</td><td>stored procedure</td></tr><tr><td>sp_MSupdate_subscriber_schedule</td><td>sys</td><td>stored procedure</td></tr><tr><td>sp_MSupdate_subscriber_tracer_history</td><td>sys</td><td>stored procedure</td></tr><tr><td>sp_MSupdate_subscription</td><td>sys</td><td>stored procedure</td></tr><tr><td>sp_MSupdate_tracer_history</td><td>sys</td><td>stored procedure</td></tr><tr><td>sp_MSupdatecachedpeerlsn</td><td>sys</td><td>stored procedure</td></tr><tr><td>sp_MSupdategenerations_afterbcp</td><td>sys</td><td>stored procedure</td></tr><tr><td>sp_MSupdategenhistory</td><td>sys</td><td>stored procedure</td></tr><tr><td>sp_MSupdateinitiallightweightsubscription</td><td>sys</td><td>stored procedure</td></tr><tr><td>sp_MSupdatelastsyncinfo</td><td>sys</td><td>stored procedure</td></tr><tr><td>sp_MSupdatepeerlsn</td><td>sys</td><td>stored procedure</td></tr><tr><td>sp_MSupdaterecgen</td><td>sys</td><td>stored procedure</td></tr><tr><td>sp_MSupdatereplicastate</td><td>sys</td><td>stored procedure</td></tr><tr><td>sp_MSupdatesysmergearticles</td><td>sys</td><td>stored procedure</td></tr><tr><td>sp_MSuplineageversion</td><td>sys</td><td>stored procedure</td></tr><tr><td>sp_MSuploadsupportabilitydata</td><td>sys</td><td>stored procedure</td></tr><tr><td>sp_MSuselightweightreplication</td><td>sys</td><td>stored procedure</td></tr><tr><td>sp_MSvalidate_dest_recgen</td><td>sys</td><td>stored procedure</td></tr><tr><td>sp_MSvalidate_subscription</td><td>sys</td><td>stored procedure</td></tr><tr><td>sp_MSvalidate_wellpartitioned_articles</td><td>sys</td><td>stored procedure</td></tr><tr><td>sp_MSvalidatearticle</td><td>sys</td><td>stored procedure</td></tr><tr><td>sp_MSwritemergeperfcounter</td><td>sys</td><td>stored procedure</td></tr><tr><td>sp_objectfilegroup</td><td>sys</td><td>stored procedure</td></tr><tr><td>sp_oledb_database</td><td>sys</td><td>stored procedure</td></tr><tr><td>sp_oledb_defdb</td><td>sys</td><td>stored procedure</td></tr><tr><td>sp_oledb_deflang</td><td>sys</td><td>stored procedure</td></tr><tr><td>sp_oledb_language</td><td>sys</td><td>stored procedure</td></tr><tr><td>sp_oledb_ro_usrname</td><td>sys</td><td>stored procedure</td></tr><tr><td>sp_oledbinfo</td><td>sys</td><td>stored procedure</td></tr><tr><td>sp_ORbitmap</td><td>sys</td><td>stored procedure</td></tr><tr><td>sp_password</td><td>sys</td><td>stored procedure</td></tr><tr><td>sp_peerconflictdetection_tableaug</td><td>sys</td><td>stored procedure</td></tr><tr><td>sp_persistent_version_cleanup</td><td>sys</td><td>stored procedure</td></tr><tr><td>sp_pkeys</td><td>sys</td><td>stored procedure</td></tr><tr><td>sp_posttracertoken</td><td>sys</td><td>stored procedure</td></tr><tr><td>sp_primary_keys_rowset</td><td>sys</td><td>stored procedure</td></tr><tr><td>sp_primary_keys_rowset_rmt</td><td>sys</td><td>stored procedure</td></tr><tr><td>sp_primary_keys_rowset2</td><td>sys</td><td>stored procedure</td></tr><tr><td>sp_primarykeys</td><td>sys</td><td>stored procedure</td></tr><tr><td>sp_procedure_params_100_managed</td><td>sys</td><td>stored procedure</td></tr><tr><td>sp_procedure_params_100_rowset</td><td>sys</td><td>stored procedure</td></tr><tr><td>sp_procedure_params_100_rowset2</td><td>sys</td><td>stored procedure</td></tr><tr><td>sp_procedure_params_90_rowset</td><td>sys</td><td>stored procedure</td></tr><tr><td>sp_procedure_params_90_rowset2</td><td>sys</td><td>stored procedure</td></tr><tr><td>sp_procedure_params_managed</td><td>sys</td><td>stored procedure</td></tr><tr><td>sp_procedure_params_rowset</td><td>sys</td><td>stored procedure</td></tr><tr><td>sp_procedure_params_rowset2</td><td>sys</td><td>stored procedure</td></tr><tr><td>sp_procedures_rowset</td><td>sys</td><td>stored procedure</td></tr><tr><td>sp_procedures_rowset2</td><td>sys</td><td>stored procedure</td></tr><tr><td>sp_processlogshippingmonitorhistory</td><td>sys</td><td>stored procedure</td></tr><tr><td>sp_processlogshippingmonitorprimary</td><td>sys</td><td>stored procedure</td></tr><tr><td>sp_processlogshippingmonitorsecondary</td><td>sys</td><td>stored procedure</td></tr><tr><td>sp_processlogshippingretentioncleanup</td><td>sys</td><td>stored procedure</td></tr><tr><td>sp_procoption</td><td>sys</td><td>stored procedure</td></tr><tr><td>sp_prop_oledb_provider</td><td>sys</td><td>stored procedure</td></tr><tr><td>sp_provider_types_100_rowset</td><td>sys</td><td>stored procedure</td></tr><tr><td>sp_provider_types_90_rowset</td><td>sys</td><td>stored procedure</td></tr><tr><td>sp_provider_types_rowset</td><td>sys</td><td>stored procedure</td></tr><tr><td>sp_publication_validation</td><td>sys</td><td>stored procedure</td></tr><tr><td>sp_publicationsummary</td><td>sys</td><td>stored procedure</td></tr><tr><td>sp_publishdb</td><td>sys</td><td>stored procedure</td></tr><tr><td>sp_publisherproperty</td><td>sys</td><td>stored procedure</td></tr><tr><td>sp_readerrorlog</td><td>sys</td><td>stored procedure</td></tr><tr><td>sp_recompile</td><td>sys</td><td>stored procedure</td></tr><tr><td>sp_redirect_publisher</td><td>sys</td><td>stored procedure</td></tr><tr><td>sp_refresh_heterogeneous_publisher</td><td>sys</td><td>stored procedure</td></tr><tr><td>sp_refresh_log_shipping_monitor</td><td>sys</td><td>stored procedure</td></tr><tr><td>sp_refresh_parameter_encryption</td><td>sys</td><td>stored procedure</td></tr><tr><td>sp_refresh_single_snapshot_view</td><td>sys</td><td>stored procedure</td></tr><tr><td>sp_refresh_snapshot_views</td><td>sys</td><td>stored procedure</td></tr><tr><td>sp_refreshsqlmodule</td><td>sys</td><td>stored procedure</td></tr><tr><td>sp_refreshsubscriptions</td><td>sys</td><td>stored procedure</td></tr><tr><td>sp_refreshview</td><td>sys</td><td>stored procedure</td></tr><tr><td>sp_register_custom_scripting</td><td>sys</td><td>stored procedure</td></tr><tr><td>sp_registercustomresolver</td><td>sys</td><td>stored procedure</td></tr><tr><td>sp_reinitmergepullsubscription</td><td>sys</td><td>stored procedure</td></tr><tr><td>sp_reinitmergesubscription</td><td>sys</td><td>stored procedure</td></tr><tr><td>sp_reinitpullsubscription</td><td>sys</td><td>stored procedure</td></tr><tr><td>sp_reinitsubscription</td><td>sys</td><td>stored procedure</td></tr><tr><td>sp_releaseapplock</td><td>sys</td><td>stored procedure</td></tr><tr><td>sp_remoteoption</td><td>sys</td><td>stored procedure</td></tr><tr><td>sp_remove_columnstore_column_dictionary</td><td>sys</td><td>stored procedure</td></tr><tr><td>sp_removedbreplication</td><td>sys</td><td>stored procedure</td></tr><tr><td>sp_removedistpublisherdbreplication</td><td>sys</td><td>stored procedure</td></tr><tr><td>sp_removesrvreplication</td><td>sys</td><td>stored procedure</td></tr><tr><td>sp_rename</td><td>sys</td><td>stored procedure</td></tr><tr><td>sp_renamedb</td><td>sys</td><td>stored procedure</td></tr><tr><td>sp_repladdcolumn</td><td>sys</td><td>stored procedure</td></tr><tr><td>sp_replcleanupccsprocs</td><td>sys</td><td>stored procedure</td></tr><tr><td>sp_repldeletequeuedtran</td><td>sys</td><td>stored procedure</td></tr><tr><td>sp_repldropcolumn</td><td>sys</td><td>stored procedure</td></tr><tr><td>sp_replgetparsedddlcmd</td><td>sys</td><td>stored procedure</td></tr><tr><td>sp_replica</td><td>sys</td><td>stored procedure</td></tr><tr><td>sp_replication_agent_checkup</td><td>sys</td><td>stored procedure</td></tr><tr><td>sp_replicationdboption</td><td>sys</td><td>stored procedure</td></tr><tr><td>sp_replincrementlsn</td><td>sys</td><td>stored procedure</td></tr><tr><td>sp_replmonitorchangepublicationthreshold</td><td>sys</td><td>stored procedure</td></tr><tr><td>sp_replmonitorgetoriginalpublisher</td><td>sys</td><td>stored procedure</td></tr><tr><td>sp_replmonitorhelpmergesession</td><td>sys</td><td>stored procedure</td></tr><tr><td>sp_replmonitorhelpmergesessiondetail</td><td>sys</td><td>stored procedure</td></tr><tr><td>sp_replmonitorhelpmergesubscriptionmoreinfo</td><td>sys</td><td>stored procedure</td></tr><tr><td>sp_replmonitorhelppublication</td><td>sys</td><td>stored procedure</td></tr><tr><td>sp_replmonitorhelppublicationthresholds</td><td>sys</td><td>stored procedure</td></tr><tr><td>sp_replmonitorhelppublisher</td><td>sys</td><td>stored procedure</td></tr><tr><td>sp_replmonitorhelpsubscription</td><td>sys</td><td>stored procedure</td></tr><tr><td>sp_replmonitorrefreshjob</td><td>sys</td><td>stored procedure</td></tr><tr><td>sp_replmonitorsubscriptionpendingcmds</td><td>sys</td><td>stored procedure</td></tr><tr><td>sp_replpostsyncstatus</td><td>sys</td><td>stored procedure</td></tr><tr><td>sp_replqueuemonitor</td><td>sys</td><td>stored procedure</td></tr><tr><td>sp_replrestart</td><td>sys</td><td>stored procedure</td></tr><tr><td>sp_replrethrow</td><td>sys</td><td>stored procedure</td></tr><tr><td>sp_replsetoriginator</td><td>sys</td><td>stored procedure</td></tr><tr><td>sp_replshowcmds</td><td>sys</td><td>stored procedure</td></tr><tr><td>sp_replsqlqgetrows</td><td>sys</td><td>stored procedure</td></tr><tr><td>sp_replsync</td><td>sys</td><td>stored procedure</td></tr><tr><td>sp_requestpeerresponse</td><td>sys</td><td>stored procedure</td></tr><tr><td>sp_requestpeertopologyinfo</td><td>sys</td><td>stored procedure</td></tr><tr><td>sp_resetsnapshotdeliveryprogress</td><td>sys</td><td>stored procedure</td></tr><tr><td>sp_resetstatus</td><td>sys</td><td>stored procedure</td></tr><tr><td>sp_resign_database</td><td>sys</td><td>stored procedure</td></tr><tr><td>sp_resolve_logins</td><td>sys</td><td>stored procedure</td></tr><tr><td>sp_restore_filelistonly</td><td>sys</td><td>stored procedure</td></tr><tr><td>sp_restoredbreplication</td><td>sys</td><td>stored procedure</td></tr><tr><td>sp_restoremergeidentityrange</td><td>sys</td><td>stored procedure</td></tr><tr><td>sp_resyncmergesubscription</td><td>sys</td><td>stored procedure</td></tr><tr><td>sp_revoke_publication_access</td><td>sys</td><td>stored procedure</td></tr><tr><td>sp_revokedbaccess</td><td>sys</td><td>stored procedure</td></tr><tr><td>sp_revokelogin</td><td>sys</td><td>stored procedure</td></tr><tr><td>sp_schemafilter</td><td>sys</td><td>stored procedure</td></tr><tr><td>sp_schemata_rowset</td><td>sys</td><td>stored procedure</td></tr><tr><td>sp_script_reconciliation_delproc</td><td>sys</td><td>stored procedure</td></tr><tr><td>sp_script_reconciliation_insproc</td><td>sys</td><td>stored procedure</td></tr><tr><td>sp_script_reconciliation_sinsproc</td><td>sys</td><td>stored procedure</td></tr><tr><td>sp_script_reconciliation_vdelproc</td><td>sys</td><td>stored procedure</td></tr><tr><td>sp_script_reconciliation_xdelproc</td><td>sys</td><td>stored procedure</td></tr><tr><td>sp_script_synctran_commands</td><td>sys</td><td>stored procedure</td></tr><tr><td>sp_scriptdelproc</td><td>sys</td><td>stored procedure</td></tr><tr><td>sp_scriptdynamicupdproc</td><td>sys</td><td>stored procedure</td></tr><tr><td>sp_scriptinsproc</td><td>sys</td><td>stored procedure</td></tr><tr><td>sp_scriptmappedupdproc</td><td>sys</td><td>stored procedure</td></tr><tr><td>sp_scriptpublicationcustomprocs</td><td>sys</td><td>stored procedure</td></tr><tr><td>sp_scriptsinsproc</td><td>sys</td><td>stored procedure</td></tr><tr><td>sp_scriptsubconflicttable</td><td>sys</td><td>stored procedure</td></tr><tr><td>sp_scriptsupdproc</td><td>sys</td><td>stored procedure</td></tr><tr><td>sp_scriptupdproc</td><td>sys</td><td>stored procedure</td></tr><tr><td>sp_scriptvdelproc</td><td>sys</td><td>stored procedure</td></tr><tr><td>sp_scriptvupdproc</td><td>sys</td><td>stored procedure</td></tr><tr><td>sp_scriptxdelproc</td><td>sys</td><td>stored procedure</td></tr><tr><td>sp_scriptxupdproc</td><td>sys</td><td>stored procedure</td></tr><tr><td>sp_sequence_get_range</td><td>sys</td><td>stored procedure</td></tr><tr><td>sp_server_info</td><td>sys</td><td>stored procedure</td></tr><tr><td>sp_serveroption</td><td>sys</td><td>stored procedure</td></tr><tr><td>sp_setapprole</td><td>sys</td><td>stored procedure</td></tr><tr><td>sp_SetAutoSAPasswordAndDisable</td><td>sys</td><td>stored procedure</td></tr><tr><td>sp_setdefaultdatatypemapping</td><td>sys</td><td>stored procedure</td></tr><tr><td>sp_setnetname</td><td>sys</td><td>stored procedure</td></tr><tr><td>sp_setOraclepackageversion</td><td>sys</td><td>stored procedure</td></tr><tr><td>sp_setreplfailovermode</td><td>sys</td><td>stored procedure</td></tr><tr><td>sp_setsubscriptionxactseqno</td><td>sys</td><td>stored procedure</td></tr><tr><td>sp_settriggerorder</td><td>sys</td><td>stored procedure</td></tr><tr><td>sp_showcolv</td><td>sys</td><td>stored procedure</td></tr><tr><td>sp_showlineage</td><td>sys</td><td>stored procedure</td></tr><tr><td>sp_showpendingchanges</td><td>sys</td><td>stored procedure</td></tr><tr><td>sp_showrowreplicainfo</td><td>sys</td><td>stored procedure</td></tr><tr><td>sp_spaceused</td><td>sys</td><td>stored procedure</td></tr><tr><td>sp_sparse_columns_100_rowset</td><td>sys</td><td>stored procedure</td></tr><tr><td>sp_special_columns</td><td>sys</td><td>stored procedure</td></tr><tr><td>sp_special_columns_100</td><td>sys</td><td>stored procedure</td></tr><tr><td>sp_special_columns_90</td><td>sys</td><td>stored procedure</td></tr><tr><td>sp_sproc_columns</td><td>sys</td><td>stored procedure</td></tr><tr><td>sp_sproc_columns_100</td><td>sys</td><td>stored procedure</td></tr><tr><td>sp_sproc_columns_90</td><td>sys</td><td>stored procedure</td></tr><tr><td>sp_sqlagent_add_job</td><td>sys</td><td>stored procedure</td></tr><tr><td>sp_sqlagent_add_jobstep</td><td>sys</td><td>stored procedure</td></tr><tr><td>sp_sqlagent_delete_job</td><td>sys</td><td>stored procedure</td></tr><tr><td>sp_sqlagent_help_jobstep</td><td>sys</td><td>stored procedure</td></tr><tr><td>sp_sqlagent_log_job_history</td><td>sys</td><td>stored procedure</td></tr><tr><td>sp_sqlagent_start_job</td><td>sys</td><td>stored procedure</td></tr><tr><td>sp_sqlagent_stop_job</td><td>sys</td><td>stored procedure</td></tr><tr><td>sp_sqlagent_verify_database_context</td><td>sys</td><td>stored procedure</td></tr><tr><td>sp_sqlagent_write_jobstep_log</td><td>sys</td><td>stored procedure</td></tr><tr><td>sp_sqlexec</td><td>sys</td><td>stored procedure</td></tr><tr><td>sp_sqljdbc_xa_install</td><td>sys</td><td>stored procedure</td></tr><tr><td>sp_sqljdbc_xa_uninstall</td><td>sys</td><td>stored procedure</td></tr><tr><td>sp_srvrolepermission</td><td>sys</td><td>stored procedure</td></tr><tr><td>sp_start_streaming_job</td><td>sys</td><td>stored procedure</td></tr><tr><td>sp_startmergepullsubscription_agent</td><td>sys</td><td>stored procedure</td></tr><tr><td>sp_startmergepushsubscription_agent</td><td>sys</td><td>stored procedure</td></tr><tr><td>sp_startpublication_snapshot</td><td>sys</td><td>stored procedure</td></tr><tr><td>sp_startpullsubscription_agent</td><td>sys</td><td>stored procedure</td></tr><tr><td>sp_startpushsubscription_agent</td><td>sys</td><td>stored procedure</td></tr><tr><td>sp_statistics</td><td>sys</td><td>stored procedure</td></tr><tr><td>sp_statistics_100</td><td>sys</td><td>stored procedure</td></tr><tr><td>sp_statistics_rowset</td><td>sys</td><td>stored procedure</td></tr><tr><td>sp_statistics_rowset2</td><td>sys</td><td>stored procedure</td></tr><tr><td>sp_stop_streaming_job</td><td>sys</td><td>stored procedure</td></tr><tr><td>sp_stopmergepullsubscription_agent</td><td>sys</td><td>stored procedure</td></tr><tr><td>sp_stopmergepushsubscription_agent</td><td>sys</td><td>stored procedure</td></tr><tr><td>sp_stoppublication_snapshot</td><td>sys</td><td>stored procedure</td></tr><tr><td>sp_stoppullsubscription_agent</td><td>sys</td><td>stored procedure</td></tr><tr><td>sp_stoppushsubscription_agent</td><td>sys</td><td>stored procedure</td></tr><tr><td>sp_stored_procedures</td><td>sys</td><td>stored procedure</td></tr><tr><td>sp_subscribe</td><td>sys</td><td>stored procedure</td></tr><tr><td>sp_subscription_cleanup</td><td>sys</td><td>stored procedure</td></tr><tr><td>sp_subscriptionsummary</td><td>sys</td><td>stored procedure</td></tr><tr><td>sp_synapse_link_enable_db</td><td>sys</td><td>stored procedure</td></tr><tr><td>sp_synapse_link_enable_table</td><td>sys</td><td>stored procedure</td></tr><tr><td>sp_syspolicy_execute_policy</td><td>sys</td><td>stored procedure</td></tr><tr><td>sp_syspolicy_subscribe_to_policy_category</td><td>sys</td><td>stored procedure</td></tr><tr><td>sp_syspolicy_unsubscribe_from_policy_category</td><td>sys</td><td>stored procedure</td></tr><tr><td>sp_syspolicy_update_ddl_trigger</td><td>sys</td><td>stored procedure</td></tr><tr><td>sp_syspolicy_update_event_notification</td><td>sys</td><td>stored procedure</td></tr><tr><td>sp_table_constraints_rowset</td><td>sys</td><td>stored procedure</td></tr><tr><td>sp_table_constraints_rowset2</td><td>sys</td><td>stored procedure</td></tr><tr><td>sp_table_privileges</td><td>sys</td><td>stored procedure</td></tr><tr><td>sp_table_privileges_ex</td><td>sys</td><td>stored procedure</td></tr><tr><td>sp_table_privileges_rowset</td><td>sys</td><td>stored procedure</td></tr><tr><td>sp_table_privileges_rowset_rmt</td><td>sys</td><td>stored procedure</td></tr><tr><td>sp_table_privileges_rowset2</td><td>sys</td><td>stored procedure</td></tr><tr><td>sp_table_statistics_rowset</td><td>sys</td><td>stored procedure</td></tr><tr><td>sp_table_statistics2_rowset</td><td>sys</td><td>stored procedure</td></tr><tr><td>sp_table_type_columns_100</td><td>sys</td><td>stored procedure</td></tr><tr><td>sp_table_type_columns_100_rowset</td><td>sys</td><td>stored procedure</td></tr><tr><td>sp_table_type_pkeys</td><td>sys</td><td>stored procedure</td></tr><tr><td>sp_table_type_primary_keys_rowset</td><td>sys</td><td>stored procedure</td></tr><tr><td>sp_table_types</td><td>sys</td><td>stored procedure</td></tr><tr><td>sp_table_types_rowset</td><td>sys</td><td>stored procedure</td></tr><tr><td>sp_table_validation</td><td>sys</td><td>stored procedure</td></tr><tr><td>sp_tablecollations</td><td>sys</td><td>stored procedure</td></tr><tr><td>sp_tablecollations_100</td><td>sys</td><td>stored procedure</td></tr><tr><td>sp_tablecollations_90</td><td>sys</td><td>stored procedure</td></tr><tr><td>sp_tableoption</td><td>sys</td><td>stored procedure</td></tr><tr><td>sp_tables</td><td>sys</td><td>stored procedure</td></tr><tr><td>sp_tables_ex</td><td>sys</td><td>stored procedure</td></tr><tr><td>sp_tables_info_90_rowset</td><td>sys</td><td>stored procedure</td></tr><tr><td>sp_tables_info_90_rowset_64</td><td>sys</td><td>stored procedure</td></tr><tr><td>sp_tables_info_90_rowset2</td><td>sys</td><td>stored procedure</td></tr><tr><td>sp_tables_info_90_rowset2_64</td><td>sys</td><td>stored procedure</td></tr><tr><td>sp_tables_info_rowset</td><td>sys</td><td>stored procedure</td></tr><tr><td>sp_tables_info_rowset_64</td><td>sys</td><td>stored procedure</td></tr><tr><td>sp_tables_info_rowset2</td><td>sys</td><td>stored procedure</td></tr><tr><td>sp_tables_info_rowset2_64</td><td>sys</td><td>stored procedure</td></tr><tr><td>sp_tables_rowset</td><td>sys</td><td>stored procedure</td></tr><tr><td>sp_tables_rowset_rmt</td><td>sys</td><td>stored procedure</td></tr><tr><td>sp_tables_rowset2</td><td>sys</td><td>stored procedure</td></tr><tr><td>sp_tableswc</td><td>sys</td><td>stored procedure</td></tr><tr><td>sp_trace_getdata</td><td>sys</td><td>stored procedure</td></tr><tr><td>sp_unbindefault</td><td>sys</td><td>stored procedure</td></tr><tr><td>sp_unbindrule</td><td>sys</td><td>stored procedure</td></tr><tr><td>sp_unregister_custom_scripting</td><td>sys</td><td>stored procedure</td></tr><tr><td>sp_unregistercustomresolver</td><td>sys</td><td>stored procedure</td></tr><tr><td>sp_unsetapprole</td><td>sys</td><td>stored procedure</td></tr><tr><td>sp_unsubscribe</td><td>sys</td><td>stored procedure</td></tr><tr><td>sp_update_agent_profile</td><td>sys</td><td>stored procedure</td></tr><tr><td>sp_updateextendedproperty</td><td>sys</td><td>stored procedure</td></tr><tr><td>sp_updatestats</td><td>sys</td><td>stored procedure</td></tr><tr><td>sp_upgrade_log_shipping</td><td>sys</td><td>stored procedure</td></tr><tr><td>sp_user_counter1</td><td>sys</td><td>stored procedure</td></tr><tr><td>sp_user_counter10</td><td>sys</td><td>stored procedure</td></tr><tr><td>sp_user_counter2</td><td>sys</td><td>stored procedure</td></tr><tr><td>sp_user_counter3</td><td>sys</td><td>stored procedure</td></tr><tr><td>sp_user_counter4</td><td>sys</td><td>stored procedure</td></tr><tr><td>sp_user_counter5</td><td>sys</td><td>stored procedure</td></tr><tr><td>sp_user_counter6</td><td>sys</td><td>stored procedure</td></tr><tr><td>sp_user_counter7</td><td>sys</td><td>stored procedure</td></tr><tr><td>sp_user_counter8</td><td>sys</td><td>stored procedure</td></tr><tr><td>sp_user_counter9</td><td>sys</td><td>stored procedure</td></tr><tr><td>sp_usertypes_rowset</td><td>sys</td><td>stored procedure</td></tr><tr><td>sp_usertypes_rowset_rmt</td><td>sys</td><td>stored procedure</td></tr><tr><td>sp_usertypes_rowset2</td><td>sys</td><td>stored procedure</td></tr><tr><td>sp_validate_redirected_publisher</td><td>sys</td><td>stored procedure</td></tr><tr><td>sp_validate_replica_hosts_as_publishers</td><td>sys</td><td>stored procedure</td></tr><tr><td>sp_validatecache</td><td>sys</td><td>stored procedure</td></tr><tr><td>sp_validatelogins</td><td>sys</td><td>stored procedure</td></tr><tr><td>sp_validatemergepublication</td><td>sys</td><td>stored procedure</td></tr><tr><td>sp_validatemergepullsubscription</td><td>sys</td><td>stored procedure</td></tr><tr><td>sp_validatemergesubscription</td><td>sys</td><td>stored procedure</td></tr><tr><td>sp_validlang</td><td>sys</td><td>stored procedure</td></tr><tr><td>sp_validname</td><td>sys</td><td>stored procedure</td></tr><tr><td>sp_verifypublisher</td><td>sys</td><td>stored procedure</td></tr><tr><td>sp_views_rowset</td><td>sys</td><td>stored procedure</td></tr><tr><td>sp_views_rowset2</td><td>sys</td><td>stored procedure</td></tr><tr><td>sp_vupgrade_mergeobjects</td><td>sys</td><td>stored procedure</td></tr><tr><td>sp_vupgrade_mergetables</td><td>sys</td><td>stored procedure</td></tr><tr><td>sp_vupgrade_mergetables_v2</td><td>sys</td><td>stored procedure</td></tr><tr><td>sp_vupgrade_replication</td><td>sys</td><td>stored procedure</td></tr><tr><td>sp_vupgrade_replsecurity_metadata</td><td>sys</td><td>stored procedure</td></tr><tr><td>sp_who</td><td>sys</td><td>stored procedure</td></tr><tr><td>sp_who2</td><td>sys</td><td>stored procedure</td></tr><tr><td>sp_xml_schema_rowset</td><td>sys</td><td>stored procedure</td></tr><tr><td>sp_xml_schema_rowset2</td><td>sys</td><td>stored procedure</td></tr><tr><td>sp_xtp_bind_db_resource_pool</td><td>sys</td><td>stored procedure</td></tr><tr><td>sp_xtp_checkpoint_force_garbage_collection</td><td>sys</td><td>stored procedure</td></tr><tr><td>sp_xtp_control_proc_exec_stats</td><td>sys</td><td>stored procedure</td></tr><tr><td>sp_xtp_control_query_exec_stats</td><td>sys</td><td>stored procedure</td></tr><tr><td>sp_xtp_flush_temporal_history</td><td>sys</td><td>stored procedure</td></tr><tr><td>sp_xtp_kill_active_transactions</td><td>sys</td><td>stored procedure</td></tr><tr><td>sp_xtp_merge_checkpoint_files</td><td>sys</td><td>stored procedure</td></tr><tr><td>sp_xtp_objects_present</td><td>sys</td><td>stored procedure</td></tr><tr><td>sp_xtp_set_memory_quota</td><td>sys</td><td>stored procedure</td></tr><tr><td>sp_xtp_slo_can_downgrade</td><td>sys</td><td>stored procedure</td></tr><tr><td>sp_xtp_slo_downgrade_finished</td><td>sys</td><td>stored procedure</td></tr><tr><td>sp_xtp_slo_prepare_to_downgrade</td><td>sys</td><td>stored procedure</td></tr><tr><td>sp_xtp_unbind_db_resource_pool</td><td>sys</td><td>stored procedure</td></tr><tr><td>xp_grantlogin</td><td>sys</td><td>stored procedure</td></tr><tr><td>xp_logininfo</td><td>sys</td><td>stored procedure</td></tr><tr><td>xp_repl_convert_encrypt_sysadmin_wrapper</td><td>sys</td><td>stored procedure</td></tr><tr><td>xp_revokelogin</td><td>sys</td><td>stored procedure</td></tr><tr><td>fn_cColvEntries_80</td><td>sys</td><td>scalar function</td></tr><tr><td>fn_cdc_check_parameters</td><td>sys</td><td>scalar function</td></tr><tr><td>fn_cdc_get_column_ordinal</td><td>sys</td><td>scalar function</td></tr><tr><td>fn_cdc_get_max_lsn</td><td>sys</td><td>scalar function</td></tr><tr><td>fn_cdc_get_min_lsn</td><td>sys</td><td>scalar function</td></tr><tr><td>fn_cdc_has_column_changed</td><td>sys</td><td>scalar function</td></tr><tr><td>fn_cdc_hexstrtobin</td><td>sys</td><td>scalar function</td></tr><tr><td>fn_cdc_is_ddl_handling_enabled</td><td>sys</td><td>scalar function</td></tr><tr><td>fn_cdc_map_lsn_to_time</td><td>sys</td><td>scalar function</td></tr><tr><td>fn_cdc_map_time_to_lsn</td><td>sys</td><td>scalar function</td></tr><tr><td>fn_fIsColTracked</td><td>sys</td><td>scalar function</td></tr><tr><td>fn_GetCurrentPrincipal</td><td>sys</td><td>scalar function</td></tr><tr><td>fn_getproviderstring</td><td>sys</td><td>scalar function</td></tr><tr><td>fn_GetRowsetIdFromRowDump</td><td>sys</td><td>scalar function</td></tr><tr><td>fn_getserverportfromproviderstring</td><td>sys</td><td>scalar function</td></tr><tr><td>fn_hadr_backup_is_preferred_replica</td><td>sys</td><td>scalar function</td></tr><tr><td>fn_hadr_is_primary_replica</td><td>sys</td><td>scalar function</td></tr><tr><td>fn_hadr_is_same_replica</td><td>sys</td><td>scalar function</td></tr><tr><td>fn_IsBitSetInBitmask</td><td>sys</td><td>scalar function</td></tr><tr><td>fn_isrolemember</td><td>sys</td><td>scalar function</td></tr><tr><td>fn_MapSchemaType</td><td>sys</td><td>scalar function</td></tr><tr><td>fn_MSdayasnumber</td><td>sys</td><td>scalar function</td></tr><tr><td>fn_MSgeneration_downloadonly</td><td>sys</td><td>scalar function</td></tr><tr><td>fn_MSget_dynamic_filter_login</td><td>sys</td><td>scalar function</td></tr><tr><td>fn_MSorbitmaps</td><td>sys</td><td>scalar function</td></tr><tr><td>fn_MSrepl_getsrvidfromdistdb</td><td>sys</td><td>scalar function</td></tr><tr><td>fn_MSrepl_map_resolver_clsid</td><td>sys</td><td>scalar function</td></tr><tr><td>fn_MStestbit</td><td>sys</td><td>scalar function</td></tr><tr><td>fn_MSvector_downloadonly</td><td>sys</td><td>scalar function</td></tr><tr><td>fn_numberOf1InBinaryAfterLoc</td><td>sys</td><td>scalar function</td></tr><tr><td>fn_numberOf1InVarBinary</td><td>sys</td><td>scalar function</td></tr><tr><td>fn_PhysLocFormatter</td><td>sys</td><td>scalar function</td></tr><tr><td>fn_repladjustcolumnmap</td><td>sys</td><td>scalar function</td></tr><tr><td>fn_repldecryptver4</td><td>sys</td><td>scalar function</td></tr><tr><td>fn_replformatdatetime</td><td>sys</td><td>scalar function</td></tr><tr><td>fn_replgetparsedddlcmd</td><td>sys</td><td>scalar function</td></tr><tr><td>fn_replp2pversiontotranid</td><td>sys</td><td>scalar function</td></tr><tr><td>fn_replreplacesinglequote</td><td>sys</td><td>scalar function</td></tr><tr><td>fn_replreplacesinglequoteplusprotectstring</td><td>sys</td><td>scalar function</td></tr><tr><td>fn_repluniquename</td><td>sys</td><td>scalar function</td></tr><tr><td>fn_replvarbintoint</td><td>sys</td><td>scalar function</td></tr><tr><td>fn_sqlvarbasetostr</td><td>sys</td><td>scalar function</td></tr><tr><td>fn_varbintohexstr</td><td>sys</td><td>scalar function</td></tr><tr><td>fn_varbintohexsubstring</td><td>sys</td><td>scalar function</td></tr><tr><td>fn_yukonsecuritymodelrequired</td><td>sys</td><td>scalar function</td></tr><tr><td>backup_metadata_store</td><td>sys</td><td>internal table</td></tr><tr><td>db_ledger_blocks</td><td>sys</td><td>internal table</td></tr><tr><td>db_ledger_transactions</td><td>sys</td><td>internal table</td></tr><tr><td>filestream_tombstone_2073058421</td><td>sys</td><td>internal table</td></tr><tr><td>filetable_updates_2105058535</td><td>sys</td><td>internal table</td></tr><tr><td>persistent_version_store</td><td>sys</td><td>internal table</td></tr><tr><td>persistent_version_store_long_term</td><td>sys</td><td>internal table</td></tr><tr><td>plan_persist_context_settings</td><td>sys</td><td>internal table</td></tr><tr><td>plan_persist_plan</td><td>sys</td><td>internal table</td></tr><tr><td>plan_persist_query</td><td>sys</td><td>internal table</td></tr><tr><td>plan_persist_query_hints</td><td>sys</td><td>internal table</td></tr><tr><td>plan_persist_query_template_parameterization</td><td>sys</td><td>internal table</td></tr><tr><td>plan_persist_query_text</td><td>sys</td><td>internal table</td></tr><tr><td>plan_persist_runtime_stats</td><td>sys</td><td>internal table</td></tr><tr><td>plan_persist_runtime_stats_interval</td><td>sys</td><td>internal table</td></tr><tr><td>plan_persist_wait_stats</td><td>sys</td><td>internal table</td></tr><tr><td>sqlagent_job_history</td><td>sys</td><td>internal table</td></tr><tr><td>sqlagent_jobs</td><td>sys</td><td>internal table</td></tr><tr><td>sqlagent_jobsteps</td><td>sys</td><td>internal table</td></tr><tr><td>sqlagent_jobsteps_logs</td><td>sys</td><td>internal table</td></tr><tr><td>syscommittab</td><td>sys</td><td>internal table</td></tr><tr><td>wpr_bucket_table</td><td>sys</td><td>internal table</td></tr><tr><td>dm_cryptographic_provider_algorithms</td><td>sys</td><td>inline function</td></tr><tr><td>dm_cryptographic_provider_keys</td><td>sys</td><td>inline function</td></tr><tr><td>dm_cryptographic_provider_sessions</td><td>sys</td><td>inline function</td></tr><tr><td>dm_db_database_page_allocations</td><td>sys</td><td>inline function</td></tr><tr><td>dm_db_incremental_stats_properties</td><td>sys</td><td>inline function</td></tr><tr><td>dm_db_index_operational_stats</td><td>sys</td><td>inline function</td></tr><tr><td>dm_db_index_physical_stats</td><td>sys</td><td>inline function</td></tr><tr><td>dm_db_log_info</td><td>sys</td><td>inline function</td></tr><tr><td>dm_db_log_stats</td><td>sys</td><td>inline function</td></tr><tr><td>dm_db_missing_index_columns</td><td>sys</td><td>inline function</td></tr><tr><td>dm_db_objects_disabled_on_compatibility_level_change</td><td>sys</td><td>inline function</td></tr><tr><td>dm_db_page_info</td><td>sys</td><td>inline function</td></tr><tr><td>dm_db_stats_histogram</td><td>sys</td><td>inline function</td></tr><tr><td>dm_db_stats_properties</td><td>sys</td><td>inline function</td></tr><tr><td>dm_db_stats_properties_internal</td><td>sys</td><td>inline function</td></tr><tr><td>dm_exec_cached_plan_dependent_objects</td><td>sys</td><td>inline function</td></tr><tr><td>dm_exec_cursors</td><td>sys</td><td>inline function</td></tr><tr><td>dm_exec_describe_first_result_set</td><td>sys</td><td>inline function</td></tr><tr><td>dm_exec_describe_first_result_set_for_object</td><td>sys</td><td>inline function</td></tr><tr><td>dm_exec_input_buffer</td><td>sys</td><td>inline function</td></tr><tr><td>dm_exec_plan_attributes</td><td>sys</td><td>inline function</td></tr><tr><td>dm_exec_query_plan</td><td>sys</td><td>inline function</td></tr><tr><td>dm_exec_query_plan_stats</td><td>sys</td><td>inline function</td></tr><tr><td>dm_exec_query_statistics_xml</td><td>sys</td><td>inline function</td></tr><tr><td>dm_exec_sql_text</td><td>sys</td><td>inline function</td></tr><tr><td>dm_exec_text_query_plan</td><td>sys</td><td>inline function</td></tr><tr><td>dm_exec_xml_handles</td><td>sys</td><td>inline function</td></tr><tr><td>dm_fts_index_keywords</td><td>sys</td><td>inline function</td></tr><tr><td>dm_fts_index_keywords_by_document</td><td>sys</td><td>inline function</td></tr><tr><td>dm_fts_index_keywords_by_property</td><td>sys</td><td>inline function</td></tr><tr><td>dm_fts_index_keywords_position_by_document</td><td>sys</td><td>inline function</td></tr><tr><td>dm_fts_parser</td><td>sys</td><td>inline function</td></tr><tr><td>dm_io_virtual_file_stats</td><td>sys</td><td>inline function</td></tr><tr><td>dm_logconsumer_cachebufferrefs</td><td>sys</td><td>inline function</td></tr><tr><td>dm_logconsumer_privatecachebuffers</td><td>sys</td><td>inline function</td></tr><tr><td>dm_logpool_consumers</td><td>sys</td><td>inline function</td></tr><tr><td>dm_logpool_sharedcachebuffers</td><td>sys</td><td>inline function</td></tr><tr><td>dm_logpoolmgr_freepools</td><td>sys</td><td>inline function</td></tr><tr><td>dm_logpoolmgr_respoolsize</td><td>sys</td><td>inline function</td></tr><tr><td>dm_logpoolmgr_stats</td><td>sys</td><td>inline function</td></tr><tr><td>dm_os_enumerate_filesystem</td><td>sys</td><td>inline function</td></tr><tr><td>dm_os_file_exists</td><td>sys</td><td>inline function</td></tr><tr><td>dm_os_volume_stats</td><td>sys</td><td>inline function</td></tr><tr><td>dm_sql_referenced_entities</td><td>sys</td><td>inline function</td></tr><tr><td>dm_sql_referencing_entities</td><td>sys</td><td>inline function</td></tr><tr><td>dm_xcs_enumerate_blobdirectory</td><td>sys</td><td>inline function</td></tr><tr><td>fn_builtin_permissions</td><td>sys</td><td>inline function</td></tr><tr><td>fn_check_object_signatures</td><td>sys</td><td>inline function</td></tr><tr><td>fn_column_store_row_groups</td><td>sys</td><td>inline function</td></tr><tr><td>fn_db_backup_file_snapshots</td><td>sys</td><td>inline function</td></tr><tr><td>fn_dblog</td><td>sys</td><td>inline function</td></tr><tr><td>fn_dblog_xtp</td><td>sys</td><td>inline function</td></tr><tr><td>fn_dbslog</td><td>sys</td><td>inline function</td></tr><tr><td>fn_dump_dblog</td><td>sys</td><td>inline function</td></tr><tr><td>fn_dump_dblog_xtp</td><td>sys</td><td>inline function</td></tr><tr><td>fn_full_dblog</td><td>sys</td><td>inline function</td></tr><tr><td>fn_get_audit_file</td><td>sys</td><td>inline function</td></tr><tr><td>fn_get_sql</td><td>sys</td><td>inline function</td></tr><tr><td>fn_hadr_distributed_ag_database_replica</td><td>sys</td><td>inline function</td></tr><tr><td>fn_hadr_distributed_ag_replica</td><td>sys</td><td>inline function</td></tr><tr><td>fn_helpcollations</td><td>sys</td><td>inline function</td></tr><tr><td>fn_MSxe_read_event_stream</td><td>sys</td><td>inline function</td></tr><tr><td>fn_stmt_sql_handle_from_sql_stmt</td><td>sys</td><td>inline function</td></tr><tr><td>fn_trace_gettable</td><td>sys</td><td>inline function</td></tr><tr><td>fn_translate_permissions</td><td>sys</td><td>inline function</td></tr><tr><td>fn_validate_plan_guide</td><td>sys</td><td>inline function</td></tr><tr><td>fn_xcs_get_file_rowcount</td><td>sys</td><td>inline function</td></tr><tr><td>fn_xe_file_target_read_file</td><td>sys</td><td>inline function</td></tr><tr><td>sp_add_trusted_assembly</td><td>sys</td><td>extended stored proc</td></tr><tr><td>sp_AddFunctionalUnitToComponent</td><td>sys</td><td>extended stored proc</td></tr><tr><td>sp_alter_nt_job_mem_configs</td><td>sys</td><td>extended stored proc</td></tr><tr><td>sp_audit_write</td><td>sys</td><td>extended stored proc</td></tr><tr><td>sp_autoindex_cancel_dta</td><td>sys</td><td>extended stored proc</td></tr><tr><td>sp_autoindex_invoke_dta</td><td>sys</td><td>extended stored proc</td></tr><tr><td>sp_availability_group_command_internal</td><td>sys</td><td>extended stored proc</td></tr><tr><td>sp_begin_parallel_nested_tran</td><td>sys</td><td>extended stored proc</td></tr><tr><td>sp_bindsession</td><td>sys</td><td>extended stored proc</td></tr><tr><td>sp_build_histogram</td><td>sys</td><td>extended stored proc</td></tr><tr><td>sp_change_tracking_waitforchanges</td><td>sys</td><td>extended stored proc</td></tr><tr><td>sp_cleanup_all_openrowset_statistics</td><td>sys</td><td>extended stored proc</td></tr><tr><td>sp_cleanup_all_user_data_in_master</td><td>sys</td><td>extended stored proc</td></tr><tr><td>sp_cloud_update_blob_tier</td><td>sys</td><td>extended stored proc</td></tr><tr><td>sp_collect_backend_plan</td><td>sys</td><td>extended stored proc</td></tr><tr><td>sp_commit_parallel_nested_tran</td><td>sys</td><td>extended stored proc</td></tr><tr><td>sp_configure_automatic_tuning</td><td>sys</td><td>extended stored proc</td></tr><tr><td>sp_control_dbmasterkey_password</td><td>sys</td><td>extended stored proc</td></tr><tr><td>sp_create_asymmetric_key_from_external_key</td><td>sys</td><td>extended stored proc</td></tr><tr><td>sp_create_format_type</td><td>sys</td><td>extended stored proc</td></tr><tr><td>sp_create_openrowset_statistics</td><td>sys</td><td>extended stored proc</td></tr><tr><td>sp_createorphan</td><td>sys</td><td>extended stored proc</td></tr><tr><td>sp_cursor</td><td>sys</td><td>extended stored proc</td></tr><tr><td>sp_cursorclose</td><td>sys</td><td>extended stored proc</td></tr><tr><td>sp_cursorexecute</td><td>sys</td><td>extended stored proc</td></tr><tr><td>sp_cursorfetch</td><td>sys</td><td>extended stored proc</td></tr><tr><td>sp_cursoropen</td><td>sys</td><td>extended stored proc</td></tr><tr><td>sp_cursoroption</td><td>sys</td><td>extended stored proc</td></tr><tr><td>sp_cursorprepare</td><td>sys</td><td>extended stored proc</td></tr><tr><td>sp_cursorprepexec</td><td>sys</td><td>extended stored proc</td></tr><tr><td>sp_cursorunprepare</td><td>sys</td><td>extended stored proc</td></tr><tr><td>sp_delete_backup_file_snapshot</td><td>sys</td><td>extended stored proc</td></tr><tr><td>sp_delete_http_namespace_reservation</td><td>sys</td><td>extended stored proc</td></tr><tr><td>sp_describe_first_result_set</td><td>sys</td><td>extended stored proc</td></tr><tr><td>sp_describe_parameter_encryption</td><td>sys</td><td>extended stored proc</td></tr><tr><td>sp_describe_undeclared_parameters</td><td>sys</td><td>extended stored proc</td></tr><tr><td>sp_diagnostic_showplan_log_dbid</td><td>sys</td><td>extended stored proc</td></tr><tr><td>sp_drop_format_type</td><td>sys</td><td>extended stored proc</td></tr><tr><td>sp_drop_openrowset_statistics</td><td>sys</td><td>extended stored proc</td></tr><tr><td>sp_drop_trusted_assembly</td><td>sys</td><td>extended stored proc</td></tr><tr><td>sp_droporphans</td><td>sys</td><td>extended stored proc</td></tr><tr><td>sp_enable_sql_debug</td><td>sys</td><td>extended stored proc</td></tr><tr><td>sp_enclave_send_keys</td><td>sys</td><td>extended stored proc</td></tr><tr><td>sp_execute</td><td>sys</td><td>extended stored proc</td></tr><tr><td>sp_execute_external_script</td><td>sys</td><td>extended stored proc</td></tr><tr><td>sp_execute_remote</td><td>sys</td><td>extended stored proc</td></tr><tr><td>sp_executesql</td><td>sys</td><td>extended stored proc</td></tr><tr><td>sp_executesql_metrics</td><td>sys</td><td>extended stored proc</td></tr><tr><td>sp_fido_build_basic_histogram</td><td>sys</td><td>extended stored proc</td></tr><tr><td>sp_fido_build_histogram</td><td>sys</td><td>extended stored proc</td></tr><tr><td>sp_fido_get_glm_server_update_lock</td><td>sys</td><td>extended stored proc</td></tr><tr><td>sp_fido_glms_execute_command</td><td>sys</td><td>extended stored proc</td></tr><tr><td>sp_fido_glms_set_storage_containers</td><td>sys</td><td>extended stored proc</td></tr><tr><td>sp_fido_glms_unregister_appname</td><td>sys</td><td>extended stored proc</td></tr><tr><td>sp_fido_indexstore_update_topology</td><td>sys</td><td>extended stored proc</td></tr><tr><td>sp_fido_remove_retention_policy</td><td>sys</td><td>extended stored proc</td></tr><tr><td>sp_fido_set_ddl_step</td><td>sys</td><td>extended stored proc</td></tr><tr><td>sp_fido_set_retention_policy</td><td>sys</td><td>extended stored proc</td></tr><tr><td>sp_fido_set_tran</td><td>sys</td><td>extended stored proc</td></tr><tr><td>sp_fido_setup_endpoints</td><td>sys</td><td>extended stored proc</td></tr><tr><td>sp_fido_setup_glms</td><td>sys</td><td>extended stored proc</td></tr><tr><td>sp_fido_tran_abort</td><td>sys</td><td>extended stored proc</td></tr><tr><td>sp_fido_tran_begin</td><td>sys</td><td>extended stored proc</td></tr><tr><td>sp_fido_tran_commit</td><td>sys</td><td>extended stored proc</td></tr><tr><td>sp_fido_tran_get_state</td><td>sys</td><td>extended stored proc</td></tr><tr><td>sp_fido_tran_set_token</td><td>sys</td><td>extended stored proc</td></tr><tr><td>sp_flush_log</td><td>sys</td><td>extended stored proc</td></tr><tr><td>sp_force_slog_truncation</td><td>sys</td><td>extended stored proc</td></tr><tr><td>sp_fulltext_getdata</td><td>sys</td><td>extended stored proc</td></tr><tr><td>sp_fulltext_keymappings</td><td>sys</td><td>extended stored proc</td></tr><tr><td>sp_fulltext_pendingchanges</td><td>sys</td><td>extended stored proc</td></tr><tr><td>sp_generate_openrowset_statistics_props</td><td>sys</td><td>extended stored proc</td></tr><tr><td>sp_get_database_scoped_credential</td><td>sys</td><td>extended stored proc</td></tr><tr><td>sp_get_dmv_collector_views</td><td>sys</td><td>extended stored proc</td></tr><tr><td>sp_get_fido_lock</td><td>sys</td><td>extended stored proc</td></tr><tr><td>sp_get_fido_lock_batch</td><td>sys</td><td>extended stored proc</td></tr><tr><td>sp_get_file_splits</td><td>sys</td><td>extended stored proc</td></tr><tr><td>sp_get_migration_vlf_state</td><td>sys</td><td>extended stored proc</td></tr><tr><td>sp_get_openrowset_statistics_additional_props</td><td>sys</td><td>extended stored proc</td></tr><tr><td>sp_get_openrowset_statistics_cardinality</td><td>sys</td><td>extended stored proc</td></tr><tr><td>sp_get_query_template</td><td>sys</td><td>extended stored proc</td></tr><tr><td>sp_get_total_openrowset_statistics_count</td><td>sys</td><td>extended stored proc</td></tr><tr><td>sp_getbindtoken</td><td>sys</td><td>extended stored proc</td></tr><tr><td>sp_getschemalock</td><td>sys</td><td>extended stored proc</td></tr><tr><td>sp_http_generate_wsdl_complex</td><td>sys</td><td>extended stored proc</td></tr><tr><td>sp_http_generate_wsdl_simple</td><td>sys</td><td>extended stored proc</td></tr><tr><td>sp_internal_alter_nt_job_limits</td><td>sys</td><td>extended stored proc</td></tr><tr><td>sp_migrate_user_to_contained</td><td>sys</td><td>extended stored proc</td></tr><tr><td>sp_new_parallel_nested_tran_id</td><td>sys</td><td>extended stored proc</td></tr><tr><td>sp_OACreate</td><td>sys</td><td>extended stored proc</td></tr><tr><td>sp_OADestroy</td><td>sys</td><td>extended stored proc</td></tr><tr><td>sp_OAGetErrorInfo</td><td>sys</td><td>extended stored proc</td></tr><tr><td>sp_OAGetProperty</td><td>sys</td><td>extended stored proc</td></tr><tr><td>sp_OAMethod</td><td>sys</td><td>extended stored proc</td></tr><tr><td>sp_OASetProperty</td><td>sys</td><td>extended stored proc</td></tr><tr><td>sp_OAStop</td><td>sys</td><td>extended stored proc</td></tr><tr><td>sp_polybase_authorize</td><td>sys</td><td>extended stored proc</td></tr><tr><td>sp_polybase_join_group</td><td>sys</td><td>extended stored proc</td></tr><tr><td>sp_polybase_leave_group</td><td>sys</td><td>extended stored proc</td></tr><tr><td>sp_polybase_show_objects</td><td>sys</td><td>extended stored proc</td></tr><tr><td>sp_PostAgentInfo</td><td>sys</td><td>extended stored proc</td></tr><tr><td>sp_prepare</td><td>sys</td><td>extended stored proc</td></tr><tr><td>sp_prepexec</td><td>sys</td><td>extended stored proc</td></tr><tr><td>sp_prepexecrpc</td><td>sys</td><td>extended stored proc</td></tr><tr><td>sp_process_memory_leak_record</td><td>sys</td><td>extended stored proc</td></tr><tr><td>sp_publish_database_to_syms</td><td>sys</td><td>extended stored proc</td></tr><tr><td>sp_query_store_clear_hints</td><td>sys</td><td>extended stored proc</td></tr><tr><td>sp_query_store_consistency_check</td><td>sys</td><td>extended stored proc</td></tr><tr><td>sp_query_store_flush_db</td><td>sys</td><td>extended stored proc</td></tr><tr><td>sp_query_store_force_plan</td><td>sys</td><td>extended stored proc</td></tr><tr><td>sp_query_store_remove_plan</td><td>sys</td><td>extended stored proc</td></tr><tr><td>sp_query_store_remove_query</td><td>sys</td><td>extended stored proc</td></tr><tr><td>sp_query_store_reset_exec_stats</td><td>sys</td><td>extended stored proc</td></tr><tr><td>sp_query_store_set_hints</td><td>sys</td><td>extended stored proc</td></tr><tr><td>sp_query_store_unforce_plan</td><td>sys</td><td>extended stored proc</td></tr><tr><td>sp_rbpex_exec_cmd</td><td>sys</td><td>extended stored proc</td></tr><tr><td>sp_rda_deauthorize_db</td><td>sys</td><td>extended stored proc</td></tr><tr><td>sp_rda_get_rpo_duration</td><td>sys</td><td>extended stored proc</td></tr><tr><td>sp_rda_reauthorize_db</td><td>sys</td><td>extended stored proc</td></tr><tr><td>sp_rda_reconcile_batch</td><td>sys</td><td>extended stored proc</td></tr><tr><td>sp_rda_reconcile_columns</td><td>sys</td><td>extended stored proc</td></tr><tr><td>sp_rda_reconcile_indexes</td><td>sys</td><td>extended stored proc</td></tr><tr><td>sp_rda_set_query_mode</td><td>sys</td><td>extended stored proc</td></tr><tr><td>sp_rda_set_rpo_duration</td><td>sys</td><td>extended stored proc</td></tr><tr><td>sp_rda_test_connection</td><td>sys</td><td>extended stored proc</td></tr><tr><td>sp_release_all_fido_locks</td><td>sys</td><td>extended stored proc</td></tr><tr><td>sp_release_fido_lock</td><td>sys</td><td>extended stored proc</td></tr><tr><td>sp_releaseschemalock</td><td>sys</td><td>extended stored proc</td></tr><tr><td>sp_remote_data_archive_event</td><td>sys</td><td>extended stored proc</td></tr><tr><td>sp_repl_generate_subscriber_event</td><td>sys</td><td>extended stored proc</td></tr><tr><td>sp_repl_generate_sync_status_event</td><td>sys</td><td>extended stored proc</td></tr><tr><td>sp_repl_generateevent</td><td>sys</td><td>extended stored proc</td></tr><tr><td>sp_replcmds</td><td>sys</td><td>extended stored proc</td></tr><tr><td>sp_replcounters</td><td>sys</td><td>extended stored proc</td></tr><tr><td>sp_replddlparser</td><td>sys</td><td>extended stored proc</td></tr><tr><td>sp_repldone</td><td>sys</td><td>extended stored proc</td></tr><tr><td>sp_replflush</td><td>sys</td><td>extended stored proc</td></tr><tr><td>sp_replhelp</td><td>sys</td><td>extended stored proc</td></tr><tr><td>sp_replsendtoqueue</td><td>sys</td><td>extended stored proc</td></tr><tr><td>sp_replsetsyncstatus</td><td>sys</td><td>extended stored proc</td></tr><tr><td>sp_repltrans</td><td>sys</td><td>extended stored proc</td></tr><tr><td>sp_replwritetovarbin</td><td>sys</td><td>extended stored proc</td></tr><tr><td>sp_reserve_http_namespace</td><td>sys</td><td>extended stored proc</td></tr><tr><td>sp_reset_connection</td><td>sys</td><td>extended stored proc</td></tr><tr><td>sp_reset_session_context</td><td>sys</td><td>extended stored proc</td></tr><tr><td>sp_resyncexecute</td><td>sys</td><td>extended stored proc</td></tr><tr><td>sp_resyncexecutesql</td><td>sys</td><td>extended stored proc</td></tr><tr><td>sp_resyncprepare</td><td>sys</td><td>extended stored proc</td></tr><tr><td>sp_resyncuniquetable</td><td>sys</td><td>extended stored proc</td></tr><tr><td>sp_rollback_parallel_nested_tran</td><td>sys</td><td>extended stored proc</td></tr><tr><td>sp_server_diagnostics</td><td>sys</td><td>extended stored proc</td></tr><tr><td>sp_set_data_processed_limit</td><td>sys</td><td>extended stored proc</td></tr><tr><td>sp_set_distributed_query_context</td><td>sys</td><td>extended stored proc</td></tr><tr><td>sp_set_session_context</td><td>sys</td><td>extended stored proc</td></tr><tr><td>sp_set_session_resource_group</td><td>sys</td><td>extended stored proc</td></tr><tr><td>sp_SetOBDCertificate</td><td>sys</td><td>extended stored proc</td></tr><tr><td>sp_setuserbylogin</td><td>sys</td><td>extended stored proc</td></tr><tr><td>sp_show_openrowset_statistics</td><td>sys</td><td>extended stored proc</td></tr><tr><td>sp_showinitialmemo_xml</td><td>sys</td><td>extended stored proc</td></tr><tr><td>sp_showmemo_xml</td><td>sys</td><td>extended stored proc</td></tr><tr><td>sp_sm_detach</td><td>sys</td><td>extended stored proc</td></tr><tr><td>sp_spaceused_remote_data_archive</td><td>sys</td><td>extended stored proc</td></tr><tr><td>sp_start_fixed_vlf</td><td>sys</td><td>extended stored proc</td></tr><tr><td>sp_start_user_instance</td><td>sys</td><td>extended stored proc</td></tr><tr><td>sp_testlinkedserver</td><td>sys</td><td>extended stored proc</td></tr><tr><td>sp_trace_create</td><td>sys</td><td>extended stored proc</td></tr><tr><td>sp_trace_generateevent</td><td>sys</td><td>extended stored proc</td></tr><tr><td>sp_trace_setevent</td><td>sys</td><td>extended stored proc</td></tr><tr><td>sp_trace_setfilter</td><td>sys</td><td>extended stored proc</td></tr><tr><td>sp_trace_setstatus</td><td>sys</td><td>extended stored proc</td></tr><tr><td>sp_try_set_session_context</td><td>sys</td><td>extended stored proc</td></tr><tr><td>sp_unprepare</td><td>sys</td><td>extended stored proc</td></tr><tr><td>sp_update_logical_pause_flag</td><td>sys</td><td>extended stored proc</td></tr><tr><td>sp_update_user_instance</td><td>sys</td><td>extended stored proc</td></tr><tr><td>sp_verify_database_ledger</td><td>sys</td><td>extended stored proc</td></tr><tr><td>sp_xa_commit</td><td>sys</td><td>extended stored proc</td></tr><tr><td>sp_xa_end</td><td>sys</td><td>extended stored proc</td></tr><tr><td>sp_xa_forget</td><td>sys</td><td>extended stored proc</td></tr><tr><td>sp_xa_forget_ex</td><td>sys</td><td>extended stored proc</td></tr><tr><td>sp_xa_init</td><td>sys</td><td>extended stored proc</td></tr><tr><td>sp_xa_init_ex</td><td>sys</td><td>extended stored proc</td></tr><tr><td>sp_xa_prepare</td><td>sys</td><td>extended stored proc</td></tr><tr><td>sp_xa_prepare_ex</td><td>sys</td><td>extended stored proc</td></tr><tr><td>sp_xa_recover</td><td>sys</td><td>extended stored proc</td></tr><tr><td>sp_xa_rollback</td><td>sys</td><td>extended stored proc</td></tr><tr><td>sp_xa_rollback_ex</td><td>sys</td><td>extended stored proc</td></tr><tr><td>sp_xa_start</td><td>sys</td><td>extended stored proc</td></tr><tr><td>sp_xcs_mark_column_relation</td><td>sys</td><td>extended stored proc</td></tr><tr><td>sp_xml_preparedocument</td><td>sys</td><td>extended stored proc</td></tr><tr><td>sp_xml_removedocument</td><td>sys</td><td>extended stored proc</td></tr><tr><td>sp_xp_cmdshell_proxy_account</td><td>sys</td><td>extended stored proc</td></tr><tr><td>xp_availablemedia</td><td>sys</td><td>extended stored proc</td></tr><tr><td>xp_cmdshell</td><td>sys</td><td>extended stored proc</td></tr><tr><td>xp_copy_file</td><td>sys</td><td>extended stored proc</td></tr><tr><td>xp_copy_files</td><td>sys</td><td>extended stored proc</td></tr><tr><td>xp_create_subdir</td><td>sys</td><td>extended stored proc</td></tr><tr><td>xp_delete_file</td><td>sys</td><td>extended stored proc</td></tr><tr><td>xp_delete_files</td><td>sys</td><td>extended stored proc</td></tr><tr><td>xp_dirtree</td><td>sys</td><td>extended stored proc</td></tr><tr><td>xp_enum_oledb_providers</td><td>sys</td><td>extended stored proc</td></tr><tr><td>xp_enumerrorlogs</td><td>sys</td><td>extended stored proc</td></tr><tr><td>xp_enumgroups</td><td>sys</td><td>extended stored proc</td></tr><tr><td>xp_fileexist</td><td>sys</td><td>extended stored proc</td></tr><tr><td>xp_fixeddrives</td><td>sys</td><td>extended stored proc</td></tr><tr><td>xp_get_tape_devices</td><td>sys</td><td>extended stored proc</td></tr><tr><td>xp_getnetname</td><td>sys</td><td>extended stored proc</td></tr><tr><td>xp_instance_regaddmultistring</td><td>sys</td><td>extended stored proc</td></tr><tr><td>xp_instance_regdeletekey</td><td>sys</td><td>extended stored proc</td></tr><tr><td>xp_instance_regdeletevalue</td><td>sys</td><td>extended stored proc</td></tr><tr><td>xp_instance_regenumkeys</td><td>sys</td><td>extended stored proc</td></tr><tr><td>xp_instance_regenumvalues</td><td>sys</td><td>extended stored proc</td></tr><tr><td>xp_instance_regread</td><td>sys</td><td>extended stored proc</td></tr><tr><td>xp_instance_regremovemultistring</td><td>sys</td><td>extended stored proc</td></tr><tr><td>xp_instance_regwrite</td><td>sys</td><td>extended stored proc</td></tr><tr><td>xp_logevent</td><td>sys</td><td>extended stored proc</td></tr><tr><td>xp_loginconfig</td><td>sys</td><td>extended stored proc</td></tr><tr><td>xp_msver</td><td>sys</td><td>extended stored proc</td></tr><tr><td>xp_msx_enlist</td><td>sys</td><td>extended stored proc</td></tr><tr><td>xp_passAgentInfo</td><td>sys</td><td>extended stored proc</td></tr><tr><td>xp_prop_oledb_provider</td><td>sys</td><td>extended stored proc</td></tr><tr><td>xp_qv</td><td>sys</td><td>extended stored proc</td></tr><tr><td>xp_readerrorlog</td><td>sys</td><td>extended stored proc</td></tr><tr><td>xp_regaddmultistring</td><td>sys</td><td>extended stored proc</td></tr><tr><td>xp_regdeletekey</td><td>sys</td><td>extended stored proc</td></tr><tr><td>xp_regdeletevalue</td><td>sys</td><td>extended stored proc</td></tr><tr><td>xp_regenumkeys</td><td>sys</td><td>extended stored proc</td></tr><tr><td>xp_regenumvalues</td><td>sys</td><td>extended stored proc</td></tr><tr><td>xp_regread</td><td>sys</td><td>extended stored proc</td></tr><tr><td>xp_regremovemultistring</td><td>sys</td><td>extended stored proc</td></tr><tr><td>xp_regwrite</td><td>sys</td><td>extended stored proc</td></tr><tr><td>xp_replposteor</td><td>sys</td><td>extended stored proc</td></tr><tr><td>xp_servicecontrol</td><td>sys</td><td>extended stored proc</td></tr><tr><td>xp_sprintf</td><td>sys</td><td>extended stored proc</td></tr><tr><td>xp_sqlagent_enum_jobs</td><td>sys</td><td>extended stored proc</td></tr><tr><td>xp_sqlagent_is_starting</td><td>sys</td><td>extended stored proc</td></tr><tr><td>xp_sqlagent_monitor</td><td>sys</td><td>extended stored proc</td></tr><tr><td>xp_sqlagent_notify</td><td>sys</td><td>extended stored proc</td></tr><tr><td>xp_sqlagent_param</td><td>sys</td><td>extended stored proc</td></tr><tr><td>xp_sqlmaint</td><td>sys</td><td>extended stored proc</td></tr><tr><td>xp_sscanf</td><td>sys</td><td>extended stored proc</td></tr><tr><td>xp_subdirs</td><td>sys</td><td>extended stored proc</td></tr><tr><td>xp_sysmail_activate</td><td>sys</td><td>extended stored proc</td></tr><tr><td>xp_sysmail_attachment_load</td><td>sys</td><td>extended stored proc</td></tr><tr><td>xp_sysmail_format_query</td><td>sys</td><td>extended stored proc</td></tr><tr><td>fn_cdc_decrement_lsn</td><td>sys</td><td>assembly scalar function</td></tr><tr><td>fn_cdc_increment_lsn</td><td>sys</td><td>assembly scalar function</td></tr><tr><td>fn_cdc_is_bit_set</td><td>sys</td><td>assembly scalar function</td></tr><tr><td>fn_repl_hash_binary</td><td>sys</td><td>assembly scalar function</td></tr><tr><td>GeographyCollectionAggregate</td><td>sys</td><td>aggregate function</td></tr><tr><td>GeographyConvexHullAggregate</td><td>sys</td><td>aggregate function</td></tr><tr><td>GeographyEnvelopeAggregate</td><td>sys</td><td>aggregate function</td></tr><tr><td>GeographyUnionAggregate</td><td>sys</td><td>aggregate function</td></tr><tr><td>GeometryCollectionAggregate</td><td>sys</td><td>aggregate function</td></tr><tr><td>GeometryConvexHullAggregate</td><td>sys</td><td>aggregate function</td></tr><tr><td>GeometryEnvelopeAggregate</td><td>sys</td><td>aggregate function</td></tr><tr><td>GeometryUnionAggregate</td><td>sys</td><td>aggregate function</td></tr><tr><td>ORMask</td><td>sys</td><td>aggregate function</td></tr><tr><td>sp_FuzzyLookupTableMaintenanceInstall</td><td>sys</td><td> assembly stored procedure</td></tr><tr><td>sp_FuzzyLookupTableMaintenanceInvoke</td><td>sys</td><td> assembly stored procedure</td></tr><tr><td>sp_FuzzyLookupTableMaintenanceUninstall</td><td>sys</td><td> assembly stored procedure</td></tr></table>"
                    },
                    "metadata": {}
                },
                {
                    "output_type": "execute_result",
                    "execution_count": 8,
                    "data": {
                        "application/vnd.dataresource+json": {
                            "schema": {
                                "fields": [
                                    {
                                        "name": "User_type"
                                    },
                                    {
                                        "name": "Storage_type"
                                    },
                                    {
                                        "name": "Length"
                                    },
                                    {
                                        "name": "Prec"
                                    },
                                    {
                                        "name": "Scale"
                                    },
                                    {
                                        "name": "Nullable"
                                    },
                                    {
                                        "name": "Default_name"
                                    },
                                    {
                                        "name": "Rule_name"
                                    },
                                    {
                                        "name": "Collation"
                                    }
                                ]
                            },
                            "data": []
                        },
                        "text/html": "<table><tr><th>User_type</th><th>Storage_type</th><th>Length</th><th>Prec</th><th>Scale</th><th>Nullable</th><th>Default_name</th><th>Rule_name</th><th>Collation</th></tr></table>"
                    },
                    "metadata": {}
                }
            ],
            "execution_count": 8
        },
        {
            "cell_type": "markdown",
            "source": [
                "### **Note :**\n",
                "\n",
                "- The information returned by \\`SP\\_HELP\\` includes details such as column names, data types, lengths, nullable status, and other relevant information based on the type of object you're querying.\n",
                "    \n",
                "- Keep in mind that \\`SP\\_HELP\\` is just one of the many tools available in SQL Server for retrieving metadata and information about database objects. Depending on your specific needs, you might also explore other system stored procedures, catalog views, and dynamic management views for querying metadata."
            ],
            "metadata": {
                "azdata_cell_guid": "7d665f28-67a7-488d-a085-98726ee260d1"
            },
            "attachments": {}
        }
    ]
}