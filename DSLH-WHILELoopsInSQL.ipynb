{
    "metadata": {
        "kernelspec": {
            "name": "SQL",
            "display_name": "SQL",
            "language": "sql"
        },
        "language_info": {
            "name": "sql",
            "version": ""
        }
    },
    "nbformat_minor": 2,
    "nbformat": 4,
    "cells": [
        {
            "cell_type": "markdown",
            "source": [
                "# **`Data Science Learners Hub`**\n",
                "\n",
                "**Module : SQL**\n",
                "\n",
                "**email** : [datasciencelearnershub@gmail.com](mailto:datasciencelearnershub@gmail.com)"
            ],
            "metadata": {
                "azdata_cell_guid": "918892d2-3a75-46f2-a6f3-d70a62ed569e"
            },
            "attachments": {}
        },
        {
            "cell_type": "markdown",
            "source": [
                "### **`# WHILE Loop in SQL`**"
            ],
            "metadata": {
                "azdata_cell_guid": "262f7393-beb0-43ef-a4dc-5363742cce17"
            },
            "attachments": {}
        },
        {
            "cell_type": "markdown",
            "source": [
                "**1. Introduction:**\n",
                "\n",
                "The `WHILE` loop in MS SQL Server is a control flow statement that allows you to repeatedly execute a block of SQL statements as long as a specified condition is true. It provides a way to perform iterative tasks in SQL scripts, making it a valuable tool for handling repetitive operations.\n",
                "\n",
                "**2. Why Learn This Topic:**\n",
                "\n",
                "Learning the `WHILE` loop is essential in SQL programming as it adds a dynamic and iterative aspect to your scripts. It allows you to execute a set of SQL statements multiple times until a specific condition is met, providing a solution for scenarios where you need to perform a task repeatedly.\n",
                "\n",
                "**3. Real-world Applications:**\n",
                "\n",
                "Consider a scenario where you have an e-commerce database, and you need to apply a discount to all products in a certain category. The `WHILE` loop can be used to iterate through the products in that category and apply the discount to each one until all products are processed.\n",
                "\n",
                "**4. Syntax:**\n",
                "\n",
                "```sql\n",
                "DECLARE @counter INT = 1;\n",
                "\n",
                "WHILE @counter <= 10\n",
                "BEGIN\n",
                "    -- SQL statements to be executed repeatedly\n",
                "    PRINT 'Iteration ' + CAST(@counter AS VARCHAR(10));\n",
                "    \n",
                "    -- Increment the counter\n",
                "    SET @counter = @counter + 1;\n",
                "END\n",
                "```\n",
                "\n",
                "**5. Practical Applications:**\n",
                "\n",
                "- `Data Transformation`: Iterating through records to apply specific transformations.\n",
                "\n",
                "- `Data Cleanup`: Repeatedly checking and cleaning data based on certain criteria.\n",
                "\n",
                "- `Calculations`: Performing iterative calculations or updates.\n",
                "\n",
                "**6. Considerations:**\n",
                "\n",
                "- Ensure that the condition specified in the `WHILE` loop eventually becomes false to prevent an infinite loop.\n",
                "\n",
                "- Be cautious about the performance implications of using loops in SQL, especially when dealing with large datasets.\n",
                "\n",
                "- `Performance`: Use set-based operations where possible, as loops can be resource-intensive. (`Note :` What are set-based operations is explained at the end)\n",
                "\n",
                "- Use variables to control loop execution and track progress.\n",
                "\n",
                "- Consider alternative looping constructs like cursors or recursive CTEs for specific use cases.\n",
                "\n",
                "**7. Common Mistakes:**\n",
                "\n",
                "- Using `WHILE` loops unnecessarily when a set-based solution might be more efficient.\n",
                "\n",
                "- `Missing Increment/Decrement`: Forgetting to update the loop variable may lead to an infinite loop.\n",
                "\n",
                "- `Incorrect Condition`: Specifying a condition that is always true, causing an infinite loop.\n",
                "\n",
                "- Forgetting to initialize variables used in the condition.\n",
                "\n",
                "- Neglecting to update variables within the loop, leading to infinite loops.\n",
                "\n",
                "\n",
                ""
            ],
            "metadata": {
                "azdata_cell_guid": "2a4f1a1b-66f7-4d1c-b4c2-d8926b391c6a"
            },
            "attachments": {}
        },
        {
            "cell_type": "markdown",
            "source": [
                "**8. Hands-on Experience:**\n",
                "\n",
                "Let's create a sample table and explore the use of the `WHILE` loop:"
            ],
            "metadata": {
                "azdata_cell_guid": "7cdeaad3-76d2-4304-a162-5e631442ac80"
            },
            "attachments": {}
        },
        {
            "cell_type": "code",
            "source": [
                "USE DataScienceLearnersHub\n",
                ""
            ],
            "metadata": {
                "azdata_cell_guid": "ba84bb4a-6372-4671-bb70-d3ca51d0559a",
                "language": "sql"
            },
            "outputs": [
                {
                    "output_type": "display_data",
                    "data": {
                        "text/html": "Commands completed successfully."
                    },
                    "metadata": {}
                },
                {
                    "output_type": "display_data",
                    "data": {
                        "text/html": "Total execution time: 00:00:00.002"
                    },
                    "metadata": {}
                }
            ],
            "execution_count": 1
        },
        {
            "cell_type": "code",
            "source": [
                "DROP TABLE NUmbers"
            ],
            "metadata": {
                "language": "sql",
                "azdata_cell_guid": "161fe22c-5f5c-4b47-bc4b-3a338a9fbf12"
            },
            "outputs": [
                {
                    "output_type": "display_data",
                    "data": {
                        "text/html": "Commands completed successfully."
                    },
                    "metadata": {}
                },
                {
                    "output_type": "display_data",
                    "data": {
                        "text/html": "Total execution time: 00:00:00.025"
                    },
                    "metadata": {}
                }
            ],
            "execution_count": 3
        },
        {
            "cell_type": "code",
            "source": [
                "-- Creating a Sample Table\n",
                "CREATE TABLE Numbers (\n",
                "    Number INT\n",
                ");\n",
                "\n",
                "-- Inserting Sample Data\n",
                "INSERT INTO Numbers VALUES (1);\n",
                "INSERT INTO Numbers VALUES (2);\n",
                "INSERT INTO Numbers VALUES (3);\n",
                "INSERT INTO Numbers VALUES (4);\n",
                "INSERT INTO Numbers VALUES (5);\n",
                "INSERT INTO Numbers VALUES (6);\n",
                "INSERT INTO Numbers VALUES (7);\n",
                "INSERT INTO Numbers VALUES (8);\n",
                "INSERT INTO Numbers VALUES (9);\n",
                "INSERT INTO Numbers VALUES (10);\n",
                "\n",
                "SELECT * FROM Numbers"
            ],
            "metadata": {
                "language": "sql",
                "azdata_cell_guid": "db416bc3-097c-4b02-b60d-0050d4417c4f"
            },
            "outputs": [
                {
                    "output_type": "display_data",
                    "data": {
                        "text/html": "(1 row affected)"
                    },
                    "metadata": {}
                },
                {
                    "output_type": "display_data",
                    "data": {
                        "text/html": "(1 row affected)"
                    },
                    "metadata": {}
                },
                {
                    "output_type": "display_data",
                    "data": {
                        "text/html": "(1 row affected)"
                    },
                    "metadata": {}
                },
                {
                    "output_type": "display_data",
                    "data": {
                        "text/html": "(1 row affected)"
                    },
                    "metadata": {}
                },
                {
                    "output_type": "display_data",
                    "data": {
                        "text/html": "(1 row affected)"
                    },
                    "metadata": {}
                },
                {
                    "output_type": "display_data",
                    "data": {
                        "text/html": "(1 row affected)"
                    },
                    "metadata": {}
                },
                {
                    "output_type": "display_data",
                    "data": {
                        "text/html": "(1 row affected)"
                    },
                    "metadata": {}
                },
                {
                    "output_type": "display_data",
                    "data": {
                        "text/html": "(1 row affected)"
                    },
                    "metadata": {}
                },
                {
                    "output_type": "display_data",
                    "data": {
                        "text/html": "(1 row affected)"
                    },
                    "metadata": {}
                },
                {
                    "output_type": "display_data",
                    "data": {
                        "text/html": "(1 row affected)"
                    },
                    "metadata": {}
                },
                {
                    "output_type": "display_data",
                    "data": {
                        "text/html": "(10 rows affected)"
                    },
                    "metadata": {}
                },
                {
                    "output_type": "display_data",
                    "data": {
                        "text/html": "Total execution time: 00:00:00.051"
                    },
                    "metadata": {}
                },
                {
                    "output_type": "execute_result",
                    "metadata": {},
                    "execution_count": 4,
                    "data": {
                        "application/vnd.dataresource+json": {
                            "schema": {
                                "fields": [
                                    {
                                        "name": "Number"
                                    }
                                ]
                            },
                            "data": [
                                {
                                    "Number": "1"
                                },
                                {
                                    "Number": "2"
                                },
                                {
                                    "Number": "3"
                                },
                                {
                                    "Number": "4"
                                },
                                {
                                    "Number": "5"
                                },
                                {
                                    "Number": "6"
                                },
                                {
                                    "Number": "7"
                                },
                                {
                                    "Number": "8"
                                },
                                {
                                    "Number": "9"
                                },
                                {
                                    "Number": "10"
                                }
                            ]
                        },
                        "text/html": [
                            "<table>",
                            "<tr><th>Number</th></tr>",
                            "<tr><td>1</td></tr>",
                            "<tr><td>2</td></tr>",
                            "<tr><td>3</td></tr>",
                            "<tr><td>4</td></tr>",
                            "<tr><td>5</td></tr>",
                            "<tr><td>6</td></tr>",
                            "<tr><td>7</td></tr>",
                            "<tr><td>8</td></tr>",
                            "<tr><td>9</td></tr>",
                            "<tr><td>10</td></tr>",
                            "</table>"
                        ]
                    }
                }
            ],
            "execution_count": 4
        },
        {
            "cell_type": "markdown",
            "source": [
                "**Questions Based on the Table:**"
            ],
            "metadata": {
                "azdata_cell_guid": "8c8bc441-d651-4563-ac53-26801fcb232b"
            },
            "attachments": {}
        },
        {
            "cell_type": "markdown",
            "source": [
                "**Q1. Simple Iteration:**\n",
                "   - Write a script using the `WHILE` loop to iterate through the Numbers table and print each number."
            ],
            "metadata": {
                "azdata_cell_guid": "c2696a6a-6fa8-45f0-a350-d9ca0c0470de"
            },
            "attachments": {}
        },
        {
            "cell_type": "code",
            "source": [
                "-- Executing Script\n",
                "DECLARE @counter INT = 1;\n",
                "\n",
                "WHILE @counter <= 10\n",
                "BEGIN\n",
                "    DECLARE @number INT;\n",
                "\n",
                "    SELECT @number = Number\n",
                "    FROM Numbers\n",
                "    WHERE Number = @counter;\n",
                "\n",
                "    PRINT 'Number: ' + CAST(@number AS VARCHAR(10));\n",
                "    \n",
                "    -- Increment the counter\n",
                "    SET @counter = @counter + 1;\n",
                "END"
            ],
            "metadata": {
                "azdata_cell_guid": "487c40fe-8e2d-424b-8ac2-02d2f30ab40c",
                "language": "sql"
            },
            "outputs": [
                {
                    "output_type": "display_data",
                    "data": {
                        "text/html": "Number: 1"
                    },
                    "metadata": {}
                },
                {
                    "output_type": "display_data",
                    "data": {
                        "text/html": "Number: 2"
                    },
                    "metadata": {}
                },
                {
                    "output_type": "display_data",
                    "data": {
                        "text/html": "Number: 3"
                    },
                    "metadata": {}
                },
                {
                    "output_type": "display_data",
                    "data": {
                        "text/html": "Number: 4"
                    },
                    "metadata": {}
                },
                {
                    "output_type": "display_data",
                    "data": {
                        "text/html": "Number: 5"
                    },
                    "metadata": {}
                },
                {
                    "output_type": "display_data",
                    "data": {
                        "text/html": "Number: 6"
                    },
                    "metadata": {}
                },
                {
                    "output_type": "display_data",
                    "data": {
                        "text/html": "Number: 7"
                    },
                    "metadata": {}
                },
                {
                    "output_type": "display_data",
                    "data": {
                        "text/html": "Number: 8"
                    },
                    "metadata": {}
                },
                {
                    "output_type": "display_data",
                    "data": {
                        "text/html": "Number: 9"
                    },
                    "metadata": {}
                },
                {
                    "output_type": "display_data",
                    "data": {
                        "text/html": "Number: 10"
                    },
                    "metadata": {}
                },
                {
                    "output_type": "display_data",
                    "data": {
                        "text/html": "Total execution time: 00:00:00.089"
                    },
                    "metadata": {}
                }
            ],
            "execution_count": 5
        },
        {
            "cell_type": "markdown",
            "source": [
                "**2. Conditional Update:**\n",
                "   - Extend the script to update the Numbers table, setting the value to double if it is an even number."
            ],
            "metadata": {
                "language": "sql",
                "azdata_cell_guid": "c35d811b-35b0-4f10-9ef1-71ebebb5a319"
            },
            "attachments": {}
        },
        {
            "cell_type": "code",
            "source": [
                "-- Executing Script\n",
                "DECLARE @counter INT = 1;\n",
                "\n",
                "WHILE @counter <= 10\n",
                "BEGIN\n",
                "    DECLARE @number INT;\n",
                "\n",
                "    SELECT @number = Number\n",
                "    FROM Numbers\n",
                "    WHERE Number = @counter;\n",
                "\n",
                "    -- Check if the number is even\n",
                "    IF @number % 2 = 0\n",
                "    BEGIN\n",
                "        UPDATE Numbers\n",
                "        SET Number = @number * 2\n",
                "        WHERE Number = @counter;\n",
                "    END\n",
                "\n",
                "    -- Increment the counter\n",
                "    SET @counter = @counter + 1;\n",
                "END"
            ],
            "metadata": {
                "language": "sql",
                "azdata_cell_guid": "3bcc1d1d-6f6b-4ac9-8a3e-50cc2892c9a8"
            },
            "outputs": [
                {
                    "output_type": "display_data",
                    "data": {
                        "text/html": "(1 row affected)"
                    },
                    "metadata": {}
                },
                {
                    "output_type": "display_data",
                    "data": {
                        "text/html": "(2 rows affected)"
                    },
                    "metadata": {}
                },
                {
                    "output_type": "display_data",
                    "data": {
                        "text/html": "(1 row affected)"
                    },
                    "metadata": {}
                },
                {
                    "output_type": "display_data",
                    "data": {
                        "text/html": "(3 rows affected)"
                    },
                    "metadata": {}
                },
                {
                    "output_type": "display_data",
                    "data": {
                        "text/html": "(1 row affected)"
                    },
                    "metadata": {}
                },
                {
                    "output_type": "display_data",
                    "data": {
                        "text/html": "Total execution time: 00:00:00.080"
                    },
                    "metadata": {}
                }
            ],
            "execution_count": 6
        },
        {
            "cell_type": "markdown",
            "source": [
                "**9. Homework Assignment:**\n",
                "\n",
                "1. **Advanced Iteration:**\n",
                "   - Write a script using the `WHILE` loop to iterate through the Numbers table and print each number only if it is a prime number.\n",
                "\n",
                "2. **Dynamic Conditions:**\n",
                "   - Experiment with dynamic conditions in the `WHILE` loop. For example, use a variable to store an upper limit, and iterate through the Numbers table until that limit is reached.\n",
                "\n",
                "3. **Nested Loops:**\n",
                "   - Explore the use of nested `WHILE` loops. For instance, create a script that iterates through the Numbers table twice and performs different actions based on the current iteration.\n",
                "\n",
                "4. **Conditional Deletion:**\n",
                "   - Write a script using the `WHILE` loop to iterate through the Numbers table and delete each number that is divisible by 3.\n",
                "\n",
                "5. **Custom Iteration:**\n",
                "   - Implement a custom iteration using the `WHILE` loop to achieve a specific task related to your dataset. For example, updating a column based on complex conditions."
            ],
            "metadata": {
                "azdata_cell_guid": "96d47d66-b118-4c80-a6f8-239e46613390"
            },
            "attachments": {}
        },
        {
            "cell_type": "markdown",
            "source": [
                "**10. Some Facts:**\n",
                "\n",
                "- The `WHILE` loop is a fundamental construct in procedural programming and is widely used in SQL scripts for various purposes.\n",
                "\n",
                "- Efficient use of `WHILE` loops involves carefully designing the loop condition and understanding the impact on performance.\n",
                "\n",
                "- In SQL Server, set-based operations are often preferred over iterative approaches for better performance, but there are scenarios where the `WHILE` loop is the most appropriate solution."
            ],
            "metadata": {
                "azdata_cell_guid": "985fe31b-330d-4432-ace3-343a933e2082"
            },
            "attachments": {}
        },
        {
            "cell_type": "markdown",
            "source": [
                "**11. Extra Innings**\n",
                "\n",
                "**What are set based operations ?**\n",
                "\n",
                "- The statement \"Performance: Use set-based operations where possible, as loops can be resource-intensive\" refers to a best practice in database query optimization.\n",
                "\n",
                "- In the context of SQL Server, set-based operations refer to manipulating entire sets of data at once, typically using SQL statements that operate on entire tables or result sets. Examples of set-based operations include UPDATE, DELETE, and INSERT statements that modify or retrieve data across multiple rows in a single operation.\n",
                "\n",
                "- On the other hand, loops, such as those implemented using the WHILE loop in T-SQL, involve iterating over individual rows one at a time. While loops are procedural and row-wise in nature, which means they process data row by row.\n",
                "\n",
                "- The advice to favor set-based operations over loops is rooted in the efficiency of database engines when handling large datasets. Set-based operations are optimized by the database engine and are generally more efficient because they allow the engine to perform operations on entire sets of data in a single pass. This reduces the need for explicit iteration and can lead to better performance.\n",
                "\n",
                "Here's a breakdown of the key points:\n",
                "\n",
                "a. **Set-Based Operations (Preferred):**\n",
                "   - Operate on entire sets of data.\n",
                "   - Well-optimized and more efficient for large datasets.\n",
                "   - Use SQL statements like UPDATE, DELETE, and INSERT to perform operations across multiple rows simultaneously.\n",
                "\n",
                "b. **Loops (Less Preferred):**\n",
                "   - Operate on data row by row.\n",
                "   - Can be resource-intensive, especially for large datasets.\n",
                "   - Use constructs like the WHILE loop to iterate over individual rows.\n",
                "\n",
                "In summary, while loops have their use cases, it's advisable to leverage set-based operations when possible for improved performance and efficiency. This becomes particularly crucial when dealing with large volumes of data, where set-based operations can lead to faster and more optimized query execution."
            ],
            "metadata": {
                "azdata_cell_guid": "e641a194-a125-4c13-802d-7dd89ce41a62"
            },
            "attachments": {}
        }
    ]
}