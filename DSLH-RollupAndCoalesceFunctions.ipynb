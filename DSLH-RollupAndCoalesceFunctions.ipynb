{
    "metadata": {
        "kernelspec": {
            "name": "SQL",
            "display_name": "SQL",
            "language": "sql"
        },
        "language_info": {
            "name": "sql",
            "version": ""
        }
    },
    "nbformat_minor": 2,
    "nbformat": 4,
    "cells": [
        {
            "cell_type": "markdown",
            "source": [
                "# **Data Science Learners Hub**\n",
                "\n",
                "**Module : SQL**\n",
                "\n",
                "**Topic :** ROLLUP() and  <span style=\"color: rgb(0, 0, 0); font-family: &quot;Helvetica Neue&quot;; font-size: 13px;\">COALESCE() fuctions</span>\n",
                "\n",
                "**email** : [datasciencelearnershub@gmail.com](mailto:datasciencelearnershub@gmail.com)"
            ],
            "metadata": {
                "azdata_cell_guid": "838cad8f-19d4-4d7d-bad6-272a7e9167d1"
            },
            "attachments": {}
        },
        {
            "cell_type": "code",
            "source": [
                "USE DataScienceLearnersHub"
            ],
            "metadata": {
                "azdata_cell_guid": "3c654839-459f-46a6-8ab8-54a9904a83e5",
                "language": "sql"
            },
            "outputs": [
                {
                    "output_type": "display_data",
                    "data": {
                        "text/html": "Commands completed successfully."
                    },
                    "metadata": {}
                },
                {
                    "output_type": "display_data",
                    "data": {
                        "text/html": "Total execution time: 00:00:00.002"
                    },
                    "metadata": {}
                }
            ],
            "execution_count": 1
        },
        {
            "cell_type": "markdown",
            "source": [
                "### **1\\. Create a simple table:**\n",
                "\n",
                "  \n",
                "\n",
                "- Let's create a table named \\`SalesData\\` to illustrate examples for ROLLUP() and COALESCE() functions."
            ],
            "metadata": {
                "language": "sql",
                "azdata_cell_guid": "9f53e28a-85b4-4cc2-927d-10b74950a68d"
            },
            "attachments": {}
        },
        {
            "cell_type": "code",
            "source": [
                "CREATE TABLE tblSalesData (\n",
                "    Region VARCHAR(50),\n",
                "    Country VARCHAR(50),\n",
                "    Product VARCHAR(50),\n",
                "    Sales DECIMAL(10, 2)\n",
                ");"
            ],
            "metadata": {
                "language": "sql",
                "azdata_cell_guid": "1884b7ce-9514-4988-9850-e42d9741c26c"
            },
            "outputs": [
                {
                    "output_type": "display_data",
                    "data": {
                        "text/html": "Commands completed successfully."
                    },
                    "metadata": {}
                },
                {
                    "output_type": "display_data",
                    "data": {
                        "text/html": "Total execution time: 00:00:00.087"
                    },
                    "metadata": {}
                }
            ],
            "execution_count": 2
        },
        {
            "cell_type": "markdown",
            "source": [
                "### **2\\. Insert queries:**\n",
                "\n",
                "  \n",
                "\n",
                "- Insert some sample data into the table:"
            ],
            "metadata": {
                "language": "sql",
                "azdata_cell_guid": "89288405-b610-495c-8b45-253eb44c8b6a"
            },
            "attachments": {}
        },
        {
            "cell_type": "code",
            "source": [
                "INSERT INTO tblSalesData VALUES ('North', 'USA', 'Product A', 100.00);\n",
                "INSERT INTO tblSalesData VALUES ('North', 'India', 'Product B', 150.00);\n",
                "INSERT INTO tblSalesData VALUES ('South', 'Brazil', 'Product A', 200.00);\n",
                "INSERT INTO tblSalesData VALUES ('South', 'Argentina', 'Product B', 120.00);\n",
                "INSERT INTO tblSalesData VALUES ('West', 'USA', 'Product A', 180.00);\n",
                "INSERT INTO tblSalesData VALUES ('West', 'India', 'Product B', 90.00);\n",
                ""
            ],
            "metadata": {
                "language": "sql",
                "azdata_cell_guid": "12067b26-dc59-492d-8cd6-62ce5c75b3f4"
            },
            "outputs": [
                {
                    "output_type": "display_data",
                    "data": {
                        "text/html": "(1 row affected)"
                    },
                    "metadata": {}
                },
                {
                    "output_type": "display_data",
                    "data": {
                        "text/html": "(1 row affected)"
                    },
                    "metadata": {}
                },
                {
                    "output_type": "display_data",
                    "data": {
                        "text/html": "(1 row affected)"
                    },
                    "metadata": {}
                },
                {
                    "output_type": "display_data",
                    "data": {
                        "text/html": "(1 row affected)"
                    },
                    "metadata": {}
                },
                {
                    "output_type": "display_data",
                    "data": {
                        "text/html": "(1 row affected)"
                    },
                    "metadata": {}
                },
                {
                    "output_type": "display_data",
                    "data": {
                        "text/html": "(1 row affected)"
                    },
                    "metadata": {}
                },
                {
                    "output_type": "display_data",
                    "data": {
                        "text/html": "Total execution time: 00:00:00.040"
                    },
                    "metadata": {}
                }
            ],
            "execution_count": 11
        },
        {
            "cell_type": "code",
            "source": [
                "SELECT * FROM tblSalesData"
            ],
            "metadata": {
                "language": "sql",
                "azdata_cell_guid": "30a5a443-9539-4fe1-b400-ce6483acdaf1"
            },
            "outputs": [
                {
                    "output_type": "display_data",
                    "data": {
                        "text/html": "(6 rows affected)"
                    },
                    "metadata": {}
                },
                {
                    "output_type": "display_data",
                    "data": {
                        "text/html": "Total execution time: 00:00:00.005"
                    },
                    "metadata": {}
                },
                {
                    "output_type": "execute_result",
                    "metadata": {},
                    "execution_count": 12,
                    "data": {
                        "application/vnd.dataresource+json": {
                            "schema": {
                                "fields": [
                                    {
                                        "name": "Region"
                                    },
                                    {
                                        "name": "Country"
                                    },
                                    {
                                        "name": "Product"
                                    },
                                    {
                                        "name": "Sales"
                                    }
                                ]
                            },
                            "data": [
                                {
                                    "Region": "North",
                                    "Country": "USA",
                                    "Product": "Product A",
                                    "Sales": "100.00"
                                },
                                {
                                    "Region": "North",
                                    "Country": "India",
                                    "Product": "Product B",
                                    "Sales": "150.00"
                                },
                                {
                                    "Region": "South",
                                    "Country": "Brazil",
                                    "Product": "Product A",
                                    "Sales": "200.00"
                                },
                                {
                                    "Region": "South",
                                    "Country": "Argentina",
                                    "Product": "Product B",
                                    "Sales": "120.00"
                                },
                                {
                                    "Region": "West",
                                    "Country": "USA",
                                    "Product": "Product A",
                                    "Sales": "180.00"
                                },
                                {
                                    "Region": "West",
                                    "Country": "India",
                                    "Product": "Product B",
                                    "Sales": "90.00"
                                }
                            ]
                        },
                        "text/html": [
                            "<table>",
                            "<tr><th>Region</th><th>Country</th><th>Product</th><th>Sales</th></tr>",
                            "<tr><td>North</td><td>USA</td><td>Product A</td><td>100.00</td></tr>",
                            "<tr><td>North</td><td>India</td><td>Product B</td><td>150.00</td></tr>",
                            "<tr><td>South</td><td>Brazil</td><td>Product A</td><td>200.00</td></tr>",
                            "<tr><td>South</td><td>Argentina</td><td>Product B</td><td>120.00</td></tr>",
                            "<tr><td>West</td><td>USA</td><td>Product A</td><td>180.00</td></tr>",
                            "<tr><td>West</td><td>India</td><td>Product B</td><td>90.00</td></tr>",
                            "</table>"
                        ]
                    }
                }
            ],
            "execution_count": 12
        },
        {
            "cell_type": "markdown",
            "source": [
                "### **3\\. ROLLUP() and COALESCE() functions:**\n",
                "\n",
                "  \n",
                "\n",
                "**ROLLUP():**\n",
                "\n",
                "  \n",
                "\n",
                "- The \\`ROLLUP()\\` function is used for generating subtotals and grand totals for a set of columns in the result set. \n",
                "- It produces a result set with additional rows representing higher-level aggregations.\n",
                "\n",
                "**Syntax :**\n",
                "\n",
                "  \n",
                "\n",
                "<span style=\"font-size: 13px;\">SELECT ...</span>\n",
                "\n",
                "<span style=\"font-size: 13px;\">FROM ...</span>\n",
                "\n",
                "<span style=\"font-size: 13px;\">GROUP BY ROLLUP(&lt;column1&gt;, &lt;column2&gt;, ...);</span>\n",
                "\n",
                "  \n",
                "\n",
                "  \n",
                "\n",
                "**COALESCE():**\n",
                "\n",
                "  \n",
                "\n",
                "- The \\`COALESCE()\\` function is used to return the first non-null expression among its arguments. \n",
                "- It is often used to handle NULL values in queries.\n",
                "\n",
                "**Syntax :**\n",
                "\n",
                "  \n",
                "\n",
                "<span style=\"font-size: 13px;\">COALESCE(&lt;expression1&gt;, &lt;expression2&gt;, ..., &lt;default_value&gt;)</span>"
            ],
            "metadata": {
                "language": "sql",
                "azdata_cell_guid": "af8bc5f4-722c-4ed1-94e3-3c9e6ad3e570"
            },
            "attachments": {}
        },
        {
            "cell_type": "markdown",
            "source": [
                "### **4\\. Examples of ROLLUP() and COALESCE() functions uses:**"
            ],
            "metadata": {
                "language": "sql",
                "azdata_cell_guid": "4a1a735e-8d19-4692-bbf4-715b754f3780"
            },
            "attachments": {}
        },
        {
            "cell_type": "markdown",
            "source": [
                "**a. Basic ROLLUP():**\n",
                "\n",
                "- This query will provide subtotals and grand totals for sales at the region and country levels."
            ],
            "metadata": {
                "language": "sql",
                "azdata_cell_guid": "55f23096-72cd-4d18-8398-c22601e6ee65"
            },
            "attachments": {}
        },
        {
            "cell_type": "code",
            "source": [
                "SELECT Region, Country, SUM(Sales) AS TotalSales\n",
                "FROM tblSalesData\n",
                "GROUP BY ROLLUP (Region, Country);"
            ],
            "metadata": {
                "language": "sql",
                "azdata_cell_guid": "f54ab2ea-6430-4b9c-b783-b18b66483c49"
            },
            "outputs": [
                {
                    "output_type": "display_data",
                    "data": {
                        "text/html": "(10 rows affected)"
                    },
                    "metadata": {}
                },
                {
                    "output_type": "display_data",
                    "data": {
                        "text/html": "Total execution time: 00:00:00.006"
                    },
                    "metadata": {}
                },
                {
                    "output_type": "execute_result",
                    "metadata": {},
                    "execution_count": 13,
                    "data": {
                        "application/vnd.dataresource+json": {
                            "schema": {
                                "fields": [
                                    {
                                        "name": "Region"
                                    },
                                    {
                                        "name": "Country"
                                    },
                                    {
                                        "name": "TotalSales"
                                    }
                                ]
                            },
                            "data": [
                                {
                                    "Region": "North",
                                    "Country": "India",
                                    "TotalSales": "150.00"
                                },
                                {
                                    "Region": "North",
                                    "Country": "USA",
                                    "TotalSales": "100.00"
                                },
                                {
                                    "Region": "North",
                                    "Country": "NULL",
                                    "TotalSales": "250.00"
                                },
                                {
                                    "Region": "South",
                                    "Country": "Argentina",
                                    "TotalSales": "120.00"
                                },
                                {
                                    "Region": "South",
                                    "Country": "Brazil",
                                    "TotalSales": "200.00"
                                },
                                {
                                    "Region": "South",
                                    "Country": "NULL",
                                    "TotalSales": "320.00"
                                },
                                {
                                    "Region": "West",
                                    "Country": "India",
                                    "TotalSales": "90.00"
                                },
                                {
                                    "Region": "West",
                                    "Country": "USA",
                                    "TotalSales": "180.00"
                                },
                                {
                                    "Region": "West",
                                    "Country": "NULL",
                                    "TotalSales": "270.00"
                                },
                                {
                                    "Region": "NULL",
                                    "Country": "NULL",
                                    "TotalSales": "840.00"
                                }
                            ]
                        },
                        "text/html": [
                            "<table>",
                            "<tr><th>Region</th><th>Country</th><th>TotalSales</th></tr>",
                            "<tr><td>North</td><td>India</td><td>150.00</td></tr>",
                            "<tr><td>North</td><td>USA</td><td>100.00</td></tr>",
                            "<tr><td>North</td><td>NULL</td><td>250.00</td></tr>",
                            "<tr><td>South</td><td>Argentina</td><td>120.00</td></tr>",
                            "<tr><td>South</td><td>Brazil</td><td>200.00</td></tr>",
                            "<tr><td>South</td><td>NULL</td><td>320.00</td></tr>",
                            "<tr><td>West</td><td>India</td><td>90.00</td></tr>",
                            "<tr><td>West</td><td>USA</td><td>180.00</td></tr>",
                            "<tr><td>West</td><td>NULL</td><td>270.00</td></tr>",
                            "<tr><td>NULL</td><td>NULL</td><td>840.00</td></tr>",
                            "</table>"
                        ]
                    }
                }
            ],
            "execution_count": 13
        },
        {
            "cell_type": "markdown",
            "source": [
                "**b. COALESCE() with NULL handling:**\n",
                "\n",
                "- This query uses COALESCE() to replace NULL values with 0 in the TotalSales column."
            ],
            "metadata": {
                "language": "sql",
                "azdata_cell_guid": "0f44fb14-9394-4ec6-8855-17ff5ea9c2b0"
            },
            "attachments": {}
        },
        {
            "cell_type": "code",
            "source": [
                "INSERT INTO tblSalesData (Region, Country) VALUES ('West', 'Australia');\n",
                "INSERT INTO tblSalesData (Region, Country) VALUES ('North', 'Newzealand');"
            ],
            "metadata": {
                "language": "",
                "azdata_cell_guid": "8be07a9c-4d31-46d6-b94b-e8795b3bdcad"
            },
            "outputs": [
                {
                    "output_type": "display_data",
                    "data": {
                        "text/html": "(1 row affected)"
                    },
                    "metadata": {}
                },
                {
                    "output_type": "display_data",
                    "data": {
                        "text/html": "(1 row affected)"
                    },
                    "metadata": {}
                },
                {
                    "output_type": "display_data",
                    "data": {
                        "text/html": "Total execution time: 00:00:00.017"
                    },
                    "metadata": {}
                }
            ],
            "execution_count": 14
        },
        {
            "cell_type": "code",
            "source": [
                "SELECT * FROM tblSalesData"
            ],
            "metadata": {
                "azdata_cell_guid": "f0b6a078-1f48-493c-aaa0-e4c4c0daa96a",
                "language": "sql"
            },
            "outputs": [
                {
                    "output_type": "display_data",
                    "data": {
                        "text/html": "(8 rows affected)"
                    },
                    "metadata": {}
                },
                {
                    "output_type": "display_data",
                    "data": {
                        "text/html": "Total execution time: 00:00:00.007"
                    },
                    "metadata": {}
                },
                {
                    "output_type": "execute_result",
                    "metadata": {},
                    "execution_count": 15,
                    "data": {
                        "application/vnd.dataresource+json": {
                            "schema": {
                                "fields": [
                                    {
                                        "name": "Region"
                                    },
                                    {
                                        "name": "Country"
                                    },
                                    {
                                        "name": "Product"
                                    },
                                    {
                                        "name": "Sales"
                                    }
                                ]
                            },
                            "data": [
                                {
                                    "Region": "North",
                                    "Country": "USA",
                                    "Product": "Product A",
                                    "Sales": "100.00"
                                },
                                {
                                    "Region": "North",
                                    "Country": "India",
                                    "Product": "Product B",
                                    "Sales": "150.00"
                                },
                                {
                                    "Region": "South",
                                    "Country": "Brazil",
                                    "Product": "Product A",
                                    "Sales": "200.00"
                                },
                                {
                                    "Region": "South",
                                    "Country": "Argentina",
                                    "Product": "Product B",
                                    "Sales": "120.00"
                                },
                                {
                                    "Region": "West",
                                    "Country": "USA",
                                    "Product": "Product A",
                                    "Sales": "180.00"
                                },
                                {
                                    "Region": "West",
                                    "Country": "India",
                                    "Product": "Product B",
                                    "Sales": "90.00"
                                },
                                {
                                    "Region": "West",
                                    "Country": "Australia",
                                    "Product": "NULL",
                                    "Sales": "NULL"
                                },
                                {
                                    "Region": "North",
                                    "Country": "Newzealand",
                                    "Product": "NULL",
                                    "Sales": "NULL"
                                }
                            ]
                        },
                        "text/html": [
                            "<table>",
                            "<tr><th>Region</th><th>Country</th><th>Product</th><th>Sales</th></tr>",
                            "<tr><td>North</td><td>USA</td><td>Product A</td><td>100.00</td></tr>",
                            "<tr><td>North</td><td>India</td><td>Product B</td><td>150.00</td></tr>",
                            "<tr><td>South</td><td>Brazil</td><td>Product A</td><td>200.00</td></tr>",
                            "<tr><td>South</td><td>Argentina</td><td>Product B</td><td>120.00</td></tr>",
                            "<tr><td>West</td><td>USA</td><td>Product A</td><td>180.00</td></tr>",
                            "<tr><td>West</td><td>India</td><td>Product B</td><td>90.00</td></tr>",
                            "<tr><td>West</td><td>Australia</td><td>NULL</td><td>NULL</td></tr>",
                            "<tr><td>North</td><td>Newzealand</td><td>NULL</td><td>NULL</td></tr>",
                            "</table>"
                        ]
                    }
                }
            ],
            "execution_count": 15
        },
        {
            "cell_type": "code",
            "source": [
                "SELECT Region, Country, COALESCE(Product, 'Unknown') AS Product, COALESCE(Sales, 0) AS Sales\n",
                "FROM tblSalesData\n",
                ""
            ],
            "metadata": {
                "language": "sql",
                "azdata_cell_guid": "3c541b01-d594-45dd-9740-f65cd0c5703c"
            },
            "outputs": [
                {
                    "output_type": "display_data",
                    "data": {
                        "text/html": "(8 rows affected)"
                    },
                    "metadata": {}
                },
                {
                    "output_type": "display_data",
                    "data": {
                        "text/html": "Total execution time: 00:00:00.041"
                    },
                    "metadata": {}
                },
                {
                    "output_type": "execute_result",
                    "metadata": {},
                    "execution_count": 17,
                    "data": {
                        "application/vnd.dataresource+json": {
                            "schema": {
                                "fields": [
                                    {
                                        "name": "Region"
                                    },
                                    {
                                        "name": "Country"
                                    },
                                    {
                                        "name": "Product"
                                    },
                                    {
                                        "name": "Sales"
                                    }
                                ]
                            },
                            "data": [
                                {
                                    "Region": "North",
                                    "Country": "USA",
                                    "Product": "Product A",
                                    "Sales": "100.00"
                                },
                                {
                                    "Region": "North",
                                    "Country": "India",
                                    "Product": "Product B",
                                    "Sales": "150.00"
                                },
                                {
                                    "Region": "South",
                                    "Country": "Brazil",
                                    "Product": "Product A",
                                    "Sales": "200.00"
                                },
                                {
                                    "Region": "South",
                                    "Country": "Argentina",
                                    "Product": "Product B",
                                    "Sales": "120.00"
                                },
                                {
                                    "Region": "West",
                                    "Country": "USA",
                                    "Product": "Product A",
                                    "Sales": "180.00"
                                },
                                {
                                    "Region": "West",
                                    "Country": "India",
                                    "Product": "Product B",
                                    "Sales": "90.00"
                                },
                                {
                                    "Region": "West",
                                    "Country": "Australia",
                                    "Product": "Unknown",
                                    "Sales": "0.00"
                                },
                                {
                                    "Region": "North",
                                    "Country": "Newzealand",
                                    "Product": "Unknown",
                                    "Sales": "0.00"
                                }
                            ]
                        },
                        "text/html": [
                            "<table>",
                            "<tr><th>Region</th><th>Country</th><th>Product</th><th>Sales</th></tr>",
                            "<tr><td>North</td><td>USA</td><td>Product A</td><td>100.00</td></tr>",
                            "<tr><td>North</td><td>India</td><td>Product B</td><td>150.00</td></tr>",
                            "<tr><td>South</td><td>Brazil</td><td>Product A</td><td>200.00</td></tr>",
                            "<tr><td>South</td><td>Argentina</td><td>Product B</td><td>120.00</td></tr>",
                            "<tr><td>West</td><td>USA</td><td>Product A</td><td>180.00</td></tr>",
                            "<tr><td>West</td><td>India</td><td>Product B</td><td>90.00</td></tr>",
                            "<tr><td>West</td><td>Australia</td><td>Unknown</td><td>0.00</td></tr>",
                            "<tr><td>North</td><td>Newzealand</td><td>Unknown</td><td>0.00</td></tr>",
                            "</table>"
                        ]
                    }
                }
            ],
            "execution_count": 17
        },
        {
            "cell_type": "code",
            "source": [
                "SELECT *\n",
                "FROM tblSalesData"
            ],
            "metadata": {
                "language": "sql",
                "azdata_cell_guid": "199b9b8b-8107-4ada-bcf8-770e2f4ddf71"
            },
            "outputs": [
                {
                    "output_type": "display_data",
                    "data": {
                        "text/html": "(8 rows affected)"
                    },
                    "metadata": {}
                },
                {
                    "output_type": "display_data",
                    "data": {
                        "text/html": "Total execution time: 00:00:00.016"
                    },
                    "metadata": {}
                },
                {
                    "output_type": "execute_result",
                    "metadata": {},
                    "execution_count": 18,
                    "data": {
                        "application/vnd.dataresource+json": {
                            "schema": {
                                "fields": [
                                    {
                                        "name": "Region"
                                    },
                                    {
                                        "name": "Country"
                                    },
                                    {
                                        "name": "Product"
                                    },
                                    {
                                        "name": "Sales"
                                    }
                                ]
                            },
                            "data": [
                                {
                                    "Region": "North",
                                    "Country": "USA",
                                    "Product": "Product A",
                                    "Sales": "100.00"
                                },
                                {
                                    "Region": "North",
                                    "Country": "India",
                                    "Product": "Product B",
                                    "Sales": "150.00"
                                },
                                {
                                    "Region": "South",
                                    "Country": "Brazil",
                                    "Product": "Product A",
                                    "Sales": "200.00"
                                },
                                {
                                    "Region": "South",
                                    "Country": "Argentina",
                                    "Product": "Product B",
                                    "Sales": "120.00"
                                },
                                {
                                    "Region": "West",
                                    "Country": "USA",
                                    "Product": "Product A",
                                    "Sales": "180.00"
                                },
                                {
                                    "Region": "West",
                                    "Country": "India",
                                    "Product": "Product B",
                                    "Sales": "90.00"
                                },
                                {
                                    "Region": "West",
                                    "Country": "Australia",
                                    "Product": "NULL",
                                    "Sales": "NULL"
                                },
                                {
                                    "Region": "North",
                                    "Country": "Newzealand",
                                    "Product": "NULL",
                                    "Sales": "NULL"
                                }
                            ]
                        },
                        "text/html": [
                            "<table>",
                            "<tr><th>Region</th><th>Country</th><th>Product</th><th>Sales</th></tr>",
                            "<tr><td>North</td><td>USA</td><td>Product A</td><td>100.00</td></tr>",
                            "<tr><td>North</td><td>India</td><td>Product B</td><td>150.00</td></tr>",
                            "<tr><td>South</td><td>Brazil</td><td>Product A</td><td>200.00</td></tr>",
                            "<tr><td>South</td><td>Argentina</td><td>Product B</td><td>120.00</td></tr>",
                            "<tr><td>West</td><td>USA</td><td>Product A</td><td>180.00</td></tr>",
                            "<tr><td>West</td><td>India</td><td>Product B</td><td>90.00</td></tr>",
                            "<tr><td>West</td><td>Australia</td><td>NULL</td><td>NULL</td></tr>",
                            "<tr><td>North</td><td>Newzealand</td><td>NULL</td><td>NULL</td></tr>",
                            "</table>"
                        ]
                    }
                }
            ],
            "execution_count": 18
        },
        {
            "cell_type": "code",
            "source": [
                "SELECT Region, Country,  COALESCE(SUM(Sales), 0) AS TotalSales\n",
                "FROM tblSalesData\n",
                "GROUP BY Region, Country;"
            ],
            "metadata": {
                "language": "sql",
                "azdata_cell_guid": "c72fbc55-c0a6-4e3b-8bd3-85988cd954ae"
            },
            "outputs": [
                {
                    "output_type": "display_data",
                    "data": {
                        "text/html": "Warning: Null value is eliminated by an aggregate or other SET operation."
                    },
                    "metadata": {}
                },
                {
                    "output_type": "display_data",
                    "data": {
                        "text/html": "(8 rows affected)"
                    },
                    "metadata": {}
                },
                {
                    "output_type": "display_data",
                    "data": {
                        "text/html": "Total execution time: 00:00:00.040"
                    },
                    "metadata": {}
                },
                {
                    "output_type": "execute_result",
                    "metadata": {},
                    "execution_count": 19,
                    "data": {
                        "application/vnd.dataresource+json": {
                            "schema": {
                                "fields": [
                                    {
                                        "name": "Region"
                                    },
                                    {
                                        "name": "Country"
                                    },
                                    {
                                        "name": "TotalSales"
                                    }
                                ]
                            },
                            "data": [
                                {
                                    "Region": "South",
                                    "Country": "Argentina",
                                    "TotalSales": "120.00"
                                },
                                {
                                    "Region": "West",
                                    "Country": "Australia",
                                    "TotalSales": "0.00"
                                },
                                {
                                    "Region": "South",
                                    "Country": "Brazil",
                                    "TotalSales": "200.00"
                                },
                                {
                                    "Region": "North",
                                    "Country": "India",
                                    "TotalSales": "150.00"
                                },
                                {
                                    "Region": "West",
                                    "Country": "India",
                                    "TotalSales": "90.00"
                                },
                                {
                                    "Region": "North",
                                    "Country": "Newzealand",
                                    "TotalSales": "0.00"
                                },
                                {
                                    "Region": "North",
                                    "Country": "USA",
                                    "TotalSales": "100.00"
                                },
                                {
                                    "Region": "West",
                                    "Country": "USA",
                                    "TotalSales": "180.00"
                                }
                            ]
                        },
                        "text/html": [
                            "<table>",
                            "<tr><th>Region</th><th>Country</th><th>TotalSales</th></tr>",
                            "<tr><td>South</td><td>Argentina</td><td>120.00</td></tr>",
                            "<tr><td>West</td><td>Australia</td><td>0.00</td></tr>",
                            "<tr><td>South</td><td>Brazil</td><td>200.00</td></tr>",
                            "<tr><td>North</td><td>India</td><td>150.00</td></tr>",
                            "<tr><td>West</td><td>India</td><td>90.00</td></tr>",
                            "<tr><td>North</td><td>Newzealand</td><td>0.00</td></tr>",
                            "<tr><td>North</td><td>USA</td><td>100.00</td></tr>",
                            "<tr><td>West</td><td>USA</td><td>180.00</td></tr>",
                            "</table>"
                        ]
                    }
                }
            ],
            "execution_count": 19
        },
        {
            "cell_type": "markdown",
            "source": [
                "### **5\\. Practical application of ROLLUP() and COALESCE() functions:**\n",
                "\n",
                "  \n",
                "\n",
                "- In real-world scenarios, ROLLUP() is often used in financial reporting, where you need to generate hierarchical totals. \n",
                "- COALESCE() is commonly used to handle NULL values in calculations or aggregations, ensuring more robust query results.\n",
                "- Generating reports with subtotals and grand totals for hierarchical data.\n",
                "- Cleaning and preparing data for further analysis by replacing NULL values.\n",
                "- Creating user-friendly reports with consistent data representation."
            ],
            "metadata": {
                "language": "sql",
                "azdata_cell_guid": "ebe56ee1-3d93-46f7-a313-59d0f25ee2f5"
            },
            "attachments": {}
        },
        {
            "cell_type": "markdown",
            "source": [
                "### **6\\. Peculiarities and Considerations:**\n",
                "\n",
                "  \n",
                "\n",
                "- ROLLUP() generates additional rows, so be mindful of the increased result set size.\n",
                "- ROLLUP() assumes a pre-defined hierarchy in your columns. Order them carefully!\n",
                "- <span style=\"font-family: -apple-system, BlinkMacSystemFont, sans-serif; color: var(--vscode-foreground);\">COALESCE() is useful for handling NULL values, improving the reliability of calculations.</span>\n",
                "- COALESCE() prioritizes non-NULL values. Choose the default value wisely.\n",
                "- Both functions can impact query performance, so use them strategically."
            ],
            "metadata": {
                "language": "sql",
                "azdata_cell_guid": "d055312c-a149-4d75-8a25-21781c40a202"
            },
            "attachments": {}
        },
        {
            "cell_type": "markdown",
            "source": [
                "### **7\\. Common mistakes:**\n",
                "\n",
                "  \n",
                "\n",
                "- Forgetting to use the ROLLUP() function within the GROUP BY clause.\n",
                "- Incorrectly applying COALESCE() to columns that are not nullable.\n",
                "- Misunderstanding the hierarchy in ROLLUP(), leading to incorrect subtotals.\n",
                "- Choosing inappropriate default values in COALESCE() that misrepresent data.\n",
                "- Overusing these functions, potentially impacting query efficiency."
            ],
            "metadata": {
                "language": "sql",
                "azdata_cell_guid": "e0e9bec2-3c6a-4787-a156-9d9d8c6aae9a"
            },
            "attachments": {}
        }
    ]
}