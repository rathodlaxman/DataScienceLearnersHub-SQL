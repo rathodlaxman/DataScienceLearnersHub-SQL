{
    "metadata": {
        "kernelspec": {
            "name": "SQL",
            "display_name": "SQL",
            "language": "sql"
        },
        "language_info": {
            "name": "sql",
            "version": ""
        }
    },
    "nbformat_minor": 2,
    "nbformat": 4,
    "cells": [
        {
            "cell_type": "markdown",
            "source": [
                "# **Data Science Learners Hub**\n",
                "\n",
                "**Module : SQL**\n",
                "\n",
                "**Topic :** **Data Types in MS SQL**\n",
                "\n",
                "**email** : [datasciencelearnershub@gmail.com](mailto:datasciencelearnershub@gmail.com)"
            ],
            "metadata": {
                "azdata_cell_guid": "27488f47-9167-4eb5-b734-c37edfa3d985"
            },
            "attachments": {}
        },
        {
            "cell_type": "markdown",
            "source": [
                "## **What are data types in SQL ?**\n",
                "\n",
                "In Microsoft SQL Server, a data type is an attribute that specifies the type of data that a particular column or variable can hold. It defines the kind of values that can be stored in a database table column or used in a variable in a SQL Server script or procedure. Each data type in SQL Server has a specific set of properties and behavior, and choosing the appropriate data type is crucial for efficient storage and retrieval of data.\n",
                "\n",
                "Here's a brief overview of some popular data types in MS SQL Server along with their applicable ranges:\n",
                "\n",
                "### 1\\. **Numeric Types:**\n",
                "\n",
                "   - **int** : Integer data type, ranging from -2,147,483,648 to 2,147,483,647.\n",
                "\n",
                "   - **smallint** : Small integer data type, ranging from -<mark>32,768 to 32,767</mark>.\n",
                "\n",
                "   - **tinyint** : Tiny integer data type, with values between <mark>0 and 255</mark>.\n",
                "\n",
                "   - **bigint** : Big integer data type, spanning from -9,223,372,036,854,775,808 to 9,223,372,036,854,775,807.\n",
                "\n",
                "   - **decimal / numeric** : <mark>Fixed-point decimal numbers with variable ranges based on precision and scale</mark>.\n",
                "\n",
                "   - **float** : <mark>Floating-point numbers with a range of approximately -1.79E+308 to -2.23E-308, 0, and 2.23E-308 to 1.79E+308.</mark>\n",
                "\n",
                "### 2\\. **Character String Types:**\n",
                "\n",
                "   - **char(n)** : <mark>Fixed-length characte</mark>r string with a maximum length of n characters.\n",
                "\n",
                "   - **varchar(n)** : <mark>Variable-length character</mark> string with a maximum length of n characters. \n",
                "\n",
                "- <mark>It stores UNICODE character i.e English Alphabets only.\n",
                "- If u try to store <mark>non-unicode data</mark> in the variable, than it will get stored but the values <mark>will be shown in the form of ????</mark></mark>\n",
                "\n",
                "   - **nvarchar(n)** : Variable-length character string with a maximum length of n characters. \n",
                "\n",
                "- <mark>It stores both UNICODE and Non-UNICODE character i.e English Alphabets as well as any other language alphabets like Hindi etc.</mark>\n",
                "\n",
                "   - **text** : Variable-length character data supporting up to <mark>2^31-1 characters.</mark>\n",
                "\n",
                "### 3\\. **Date and Time Types:**\n",
                "\n",
                "   - **date** : <mark>Date without a time</mark>, covering the period from <mark>January 1, 0001, through December 31, 9999.</mark>\n",
                "\n",
                "   - **time** : <mark>Time without a date</mark>, ranging from <mark>00:00:00.0000000 through 23:59:59.9999999</mark>.\n",
                "\n",
                "   - **datetime** : Date and time, valid from <mark>January 1, 1753, through December 31, 9999.</mark>\n",
                "\n",
                "   - **`datetime2`** : <mark>Extended date and time with fractional seconds precisio</mark>n, covering <mark>January 1, 0001, through December 31, 9999.</mark>\n",
                "\n",
                "   - **`smalldatetime`** :Date and time with less precision, spanning from <mark>January 1, 1900, through June 6, 2079.</mark>\n",
                "\n",
                "\n",
                "### 4\\. **Binary Types:**\n",
                "\n",
                "   - **binary(n)**: <mark>Fixed-length</mark> binary data with a <mark>maximum length of n bytes.\n",
                "</mark>\n",
                "   - **varbinary(n)** : <mark>Variable-length</mark> binary data with a <mark>maximum length of n bytes.</mark>\n",
                "\n",
                "   - **image** : <mark>Variable-length</mark> binary data supporting up to <mark>2^31-1 bytes.</mark>\n",
                "\n",
                "### 5\\. **Miscellaneous Types:**\n",
                "\n",
                "   - **bit** : Boolean data type with <mark>values of 0 or 1.</mark>\n",
                "\n",
                "   - **uniqueidentifier** : <mark>16-byte Globally Unique Identifier (GUID).</mark>\n",
                "\n",
                "   - **xml**: <mark>Variable-length character data for storing XML documents.</mark>\n",
                "\n",
                "   - **sql\\_variant** : Variable data type.\n",
                "\n",
                "### 6\\. **Rowversion Type**:\n",
                "\n",
                "   - **rowversion** / **timestamp** : <mark>Automatically generated binary numbers used for versioning.</mark>\n",
                "\n",
                "These data types serve specific purposes, and their selection depends on the nature of the data being stored and the operations to be performed on that data. Choosing the right data type ensures proper storage efficiency and data integrity. Additionally, SQL Server allows for the creation of user-defined data types to meet specific requirements."
            ],
            "metadata": {
                "azdata_cell_guid": "f02fb360-7549-4e8b-95cd-d4d7841e64a9"
            },
            "attachments": {}
        },
        {
            "cell_type": "markdown",
            "source": [
                "### **Most frequently used data types**\n",
                "\n",
                "- INT\n",
                "- CHAR(N)\n",
                "- VARCHAR(N)\n",
                "- DECIMAL / NUMERIC\n",
                "- DATE"
            ],
            "metadata": {
                "azdata_cell_guid": "02bfbe4f-3e67-4d58-b019-274deb99c579"
            },
            "attachments": {}
        }
    ]
}