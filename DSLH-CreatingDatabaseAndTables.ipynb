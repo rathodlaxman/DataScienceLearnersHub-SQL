{
    "metadata": {
        "kernelspec": {
            "name": "SQL",
            "display_name": "SQL",
            "language": "sql"
        },
        "language_info": {
            "name": "sql",
            "version": ""
        }
    },
    "nbformat_minor": 2,
    "nbformat": 4,
    "cells": [
        {
            "cell_type": "markdown",
            "source": [
                "# **Data Science Learners Hub**\n",
                "\n",
                "**Module : SQL**\n",
                "\n",
                "**Topic : Creating Database and Tables**\n",
                "\n",
                "**email** : [datasciencelearnershub@gmail.com](mailto:datasciencelearnershub@gmail.com)"
            ],
            "metadata": {
                "azdata_cell_guid": "f854455a-ef2c-4257-8c3e-21acb3b2d1f7"
            },
            "attachments": {}
        },
        {
            "cell_type": "markdown",
            "source": [
                "### **Creating a new database**\n",
                "\n",
                "**Syntax :** \n",
                "\n",
                "CREATE DATABASE database\\_name;"
            ],
            "metadata": {
                "azdata_cell_guid": "39319946-0176-4516-a8b6-41b2f25f407d",
                "language": ""
            },
            "attachments": {}
        },
        {
            "cell_type": "code",
            "source": [
                "CREATE DATABASE DataScienceLearnersHub"
            ],
            "metadata": {
                "azdata_cell_guid": "f9c90203-c31d-4fd3-9b5e-c5fb476eb62d",
                "language": "sql"
            },
            "outputs": [],
            "execution_count": null
        },
        {
            "cell_type": "markdown",
            "source": [
                "### **SQL USE Statement**\n",
                "\n",
                "- The **USE** statement in SQL is used to specify the database that you want to work with or make active. It is often used at the beginning of a SQL script or query to indicate the database context in which the subsequent SQL statements should be executed.\n",
                "    \n",
                "\n",
                "**Syntax :**\n",
                "\n",
                "USE database\\_name;"
            ],
            "metadata": {
                "language": "sql",
                "azdata_cell_guid": "748a99e0-12ea-449c-977b-ae8c3aa8e84e"
            },
            "attachments": {}
        },
        {
            "cell_type": "code",
            "source": [
                "USE DataScienceLearnersHub"
            ],
            "metadata": {
                "language": "sql",
                "azdata_cell_guid": "ba3d0a0b-02c9-4abf-abe6-30093892bd22"
            },
            "outputs": [
                {
                    "output_type": "display_data",
                    "data": {
                        "text/html": "Commands completed successfully."
                    },
                    "metadata": {}
                },
                {
                    "output_type": "display_data",
                    "data": {
                        "text/html": "Total execution time: 00:00:00.004"
                    },
                    "metadata": {}
                }
            ],
            "execution_count": 2
        },
        {
            "cell_type": "markdown",
            "source": [
                "### **Creating a new Table**\n",
                "\n",
                "- **\n",
                "    \n",
                "    The **CREATE TABLE** command in SQL is used to define and create a new table in a database. A table is a structured collection of data organized into rows and columns. Each column in the table represents a specific attribute, and each row represents a record or a data entry.\n",
                "    \n",
                "    The basic syntax for the **CREATE TABLE** statement is as follows:\n",
                "    \n",
                "    **\n",
                "\n",
                "**Syntax:**\n",
                "\n",
                "CREATE TABLE table\\_name (\n",
                "\n",
                "    column1 datatype1,\n",
                "\n",
                "    column2 datatype2,\n",
                "\n",
                "    column3 datatype3,\n",
                "\n",
                "    ...\n",
                "\n",
                "); \n",
                "\n",
                "\\-- **Note :** here semicolon is not mandatory  \n",
                "\n",
                "  \n",
                "\n",
                "Here's a brief explanation of the components:\n",
                "\n",
                "- **table\\_name**: This is the name you give to the table. It should be unique within the database.\n",
                "- **column1, column2, column3, ...**: These are the names of the columns in the table.\n",
                "- **datatype1, datatype2, datatype3, ...**: These are the data types associated with each column, specifying the type of data that can be stored in that column (e.g., VARCHAR for variable-length strings, INT for integers, etc.).\n",
                "\n",
                "When you execute the **CREATE TABLE** command, the following actions typically occur:\n",
                "\n",
                "- **Table Creation:** A new table with the specified name is created in the database.\n",
                "- **Column Definition:** The columns specified in the command are defined with their respective data types.\n",
                "- **Constraints:** Additional constraints, such as primary keys, foreign keys, and uniqueness constraints, can be defined to enforce data integrity rules.\n",
                "- **Table Storage:** The database allocates storage space for the new table on the disk"
            ],
            "metadata": {
                "language": "sql",
                "azdata_cell_guid": "2fdde677-0bf9-42d1-bcdb-52cdfab5f851"
            },
            "attachments": {}
        },
        {
            "cell_type": "code",
            "source": [
                "CREATE TABLE employees (\n",
                "    employee_id INT PRIMARY KEY,\n",
                "    first_name VARCHAR(50),\n",
                "    last_name VARCHAR(50),\n",
                "    salary DECIMAL(10,2)\n",
                ");\n",
                ""
            ],
            "metadata": {
                "language": "sql",
                "azdata_cell_guid": "041b0705-8a91-4273-829a-0a2ba401ee7c"
            },
            "outputs": [
                {
                    "output_type": "display_data",
                    "data": {
                        "text/html": "Commands completed successfully."
                    },
                    "metadata": {}
                },
                {
                    "output_type": "display_data",
                    "data": {
                        "text/html": "Total execution time: 00:00:00.027"
                    },
                    "metadata": {}
                }
            ],
            "execution_count": 1
        },
        {
            "cell_type": "markdown",
            "source": [
                "The above SQL command creates a table named \"employees\" with columns for employee ID, first name, last name, and salary. The **PRIMARY KEY** constraint is used to ensure that the **employee\\_id** column contains unique values.\n",
                "\n",
                "After executing this command, you can start inserting data into the \"employees\" table using the **INSERT INTO** statement, and you can perform various operations on the data using SQL queries."
            ],
            "metadata": {
                "language": "",
                "azdata_cell_guid": "173830b2-42f1-4799-a8c7-978a8f081710"
            },
            "attachments": {}
        }
    ]
}