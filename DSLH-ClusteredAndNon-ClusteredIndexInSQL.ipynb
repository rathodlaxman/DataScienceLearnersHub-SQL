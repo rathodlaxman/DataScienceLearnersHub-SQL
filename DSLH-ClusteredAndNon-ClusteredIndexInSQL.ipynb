{
    "metadata": {
        "kernelspec": {
            "name": "SQL",
            "display_name": "SQL",
            "language": "sql"
        },
        "language_info": {
            "name": "sql",
            "version": ""
        }
    },
    "nbformat_minor": 2,
    "nbformat": 4,
    "cells": [
        {
            "cell_type": "markdown",
            "source": [
                "# **Data Science Learners Hub**\n",
                "\n",
                "**Module : SQL**\n",
                "\n",
                "**email** : [datasciencelearnershub@gmail.com](mailto:datasciencelearnershub@gmail.com)"
            ],
            "metadata": {
                "azdata_cell_guid": "1ea9df3f-3cb7-4258-9da8-866ec8dfcc93"
            },
            "attachments": {}
        },
        {
            "cell_type": "markdown",
            "source": [
                "## **Topic : Clustered and Non-Clustered Index**"
            ],
            "metadata": {
                "azdata_cell_guid": "b9bbd8c4-e7e8-4954-83af-20cf430877f9"
            },
            "attachments": {}
        },
        {
            "cell_type": "markdown",
            "source": [
                "**Introduction:**\n",
                "\n",
                "Simply put, an index in SQL is like the index at the back of a book, helping us locate information quickly. Think of it as the catalog system in a library. When you're searching for a specific book, you don't check every shelf; instead, you refer to the index, which guides you to the right section. SQL Indexes work similarly, making data retrieval more efficient.\n",
                "\n",
                "#### Explanation:\n",
                "\n",
                "- **Indexes:**\n",
                "  Indexes in SQL Server act like a roadmap, helping the database engine quickly find data. They are like an organized catalog that allows you to find information in a book without reading every page.\n",
                "\n",
                "- **Clustered Index:**\n",
                "  Imagine a book where the pages are arranged in a specific order based on the topic. A clustered index does something similar—it determines the physical order of the data in a table.\n",
                "\n",
                "- **Non-Clustered Index:**\n",
                "  Non-clustered indexes are like an index at the end of a book. They provide a sorted list of references to the actual pages but don't dictate the physical order of the pages.\n",
                "\n",
                "#### Importance in SQL:\n",
                "\n",
                "- **Indexes:**\n",
                "  Indexes are crucial for speeding up data retrieval operations, making queries faster. They are like finding information in a library quickly using a well-organized catalog.\n",
                "\n",
                "- **Clustered Index:**\n",
                "  A clustered index is important for organizing the physical order of data, making range queries more efficient. However, there can be only one clustered index per table.\n",
                "\n",
                "- **Non-Clustered Index:**\n",
                "  Non-clustered indexes are essential for optimizing queries that don't benefit from the physical ordering of data. They are particularly useful for speeding up JOIN operations.\n",
                "\n",
                "**Real-world Applications:**\n",
                "\n",
                "Think about online shopping databases or employee records. These are scenarios where indexing is vital. Well-designed indexes enhance the speed of data retrieval, ensuring that your favorite e-commerce website doesn't keep you waiting when you're trying to make a purchase or HR managers can quickly find employee information.\n",
                "\n",
                "**Syntax and Types:**\n",
                "\n",
                "- Syntax for Clustered Index:\n",
                "  ```sql\n",
                "  CREATE CLUSTERED INDEX index_name ON table_name (column1, column2, ...);\n",
                "  ```\n",
                "\n",
                "- Syntax for Non-Clustered Index:\n",
                "  ```sql\n",
                "  CREATE NONCLUSTERED INDEX index_name ON table_name (column1, column2, ...);\n",
                "  ```\n",
                "\n",
                "\n",
                "**Difference Between Clustered and Non-Clustered :**\n",
                "\n",
                "| Feature                     | Clustered Index                 | Non-Clustered Index             |\n",
                "|-----------------------------|---------------------------------|---------------------------------|\n",
                "| **Physical Order**          | Determines the physical order of data in the table. | Does not alter the physical order of data. |\n",
                "| **Number per Table**        | Only one per table.              | Multiple non-clustered indexes can exist. |\n",
                "| **Data Retrieval Speed**    | Generally faster for retrieval operations. | Retrieval speed may be slightly slower. |\n",
                "\n",
                "\n",
                "\n",
                "\n",
                "\n",
                "**Considerations**:\n",
                "\n",
                "- Choose indexes wisely based on the queries you frequently perform.\n",
                "- Avoid over-indexing, as each index comes with a maintenance cost during data modifications (INSERT, UPDATE, DELETE).\n",
                "- Regularly monitor and analyze index usage.\n",
                "- Remember, clustered indexes impact how data is physically stored, so use them judiciously.\n",
                "\n",
                "**Common Mistakes:**\n",
                "\n",
                "Common mistakes include forgetting to update indexes after data modifications or using too many indexes, which can slow down the system. Regular maintenance is key, and striking a balance is crucial."
            ],
            "metadata": {
                "azdata_cell_guid": "f6be1e1b-5c32-488f-adf6-14dc9f04039d"
            },
            "attachments": {}
        },
        {
            "cell_type": "code",
            "source": [
                "USE DataScienceLearnersHub"
            ],
            "metadata": {
                "azdata_cell_guid": "8cfc7fd4-843b-40a6-a9cb-24546c82bbf2",
                "language": "sql"
            },
            "outputs": [
                {
                    "output_type": "display_data",
                    "data": {
                        "text/html": "Commands completed successfully."
                    },
                    "metadata": {}
                },
                {
                    "output_type": "display_data",
                    "data": {
                        "text/html": "Total execution time: 00:00:00.001"
                    },
                    "metadata": {}
                }
            ],
            "execution_count": 1
        },
        {
            "cell_type": "markdown",
            "source": [
                "#### Create Table and Generate Insert Statements:"
            ],
            "metadata": {
                "language": "sql",
                "azdata_cell_guid": "0783b681-31d5-47ae-9bd2-9541a2297344"
            },
            "attachments": {}
        },
        {
            "cell_type": "code",
            "source": [
                "CREATE TABLE ProductsForIndex (\n",
                "    ProductID INT PRIMARY KEY,\n",
                "    ProductName VARCHAR(255),\n",
                "    Price DECIMAL(10, 2)\n",
                ");"
            ],
            "metadata": {
                "language": "sql",
                "azdata_cell_guid": "fdb36a6c-472c-40aa-ac8a-864d43b9aea2"
            },
            "outputs": [
                {
                    "output_type": "display_data",
                    "data": {
                        "text/html": "Commands completed successfully."
                    },
                    "metadata": {}
                },
                {
                    "output_type": "display_data",
                    "data": {
                        "text/html": "Total execution time: 00:00:00.071"
                    },
                    "metadata": {}
                }
            ],
            "execution_count": 17
        },
        {
            "cell_type": "code",
            "source": [
                "-- Insert Statements\n",
                "INSERT INTO ProductsForIndex (ProductID, ProductName, Price) VALUES\n",
                "(1, 'Laptop', 1200.00),\n",
                "(2, 'Smartphone', 699.99),\n",
                "(3, 'Headphones', 99.50),\n",
                "(4, 'Tablet', 499.99);"
            ],
            "metadata": {
                "language": "sql",
                "azdata_cell_guid": "3510ced1-328f-41e7-b41d-2bac6e2be1fa"
            },
            "outputs": [
                {
                    "output_type": "display_data",
                    "data": {
                        "text/html": "(4 rows affected)"
                    },
                    "metadata": {}
                },
                {
                    "output_type": "display_data",
                    "data": {
                        "text/html": "Total execution time: 00:00:00.022"
                    },
                    "metadata": {}
                }
            ],
            "execution_count": 19
        },
        {
            "cell_type": "code",
            "source": [
                "SELECT * FROM ProductsForIndex"
            ],
            "metadata": {
                "language": "sql",
                "azdata_cell_guid": "fbdafd76-391d-4bd6-9fb4-83a55f496753"
            },
            "outputs": [
                {
                    "output_type": "display_data",
                    "data": {
                        "text/html": "(4 rows affected)"
                    },
                    "metadata": {}
                },
                {
                    "output_type": "display_data",
                    "data": {
                        "text/html": "Total execution time: 00:00:00.019"
                    },
                    "metadata": {}
                },
                {
                    "output_type": "execute_result",
                    "execution_count": 20,
                    "data": {
                        "application/vnd.dataresource+json": {
                            "schema": {
                                "fields": [
                                    {
                                        "name": "ProductID"
                                    },
                                    {
                                        "name": "ProductName"
                                    },
                                    {
                                        "name": "Price"
                                    }
                                ]
                            },
                            "data": [
                                {
                                    "ProductID": "1",
                                    "ProductName": "Laptop",
                                    "Price": "1200.00"
                                },
                                {
                                    "ProductID": "2",
                                    "ProductName": "Smartphone",
                                    "Price": "699.99"
                                },
                                {
                                    "ProductID": "3",
                                    "ProductName": "Headphones",
                                    "Price": "99.50"
                                },
                                {
                                    "ProductID": "4",
                                    "ProductName": "Tablet",
                                    "Price": "499.99"
                                }
                            ]
                        },
                        "text/html": "<table><tr><th>ProductID</th><th>ProductName</th><th>Price</th></tr><tr><td>1</td><td>Laptop</td><td>1200.00</td></tr><tr><td>2</td><td>Smartphone</td><td>699.99</td></tr><tr><td>3</td><td>Headphones</td><td>99.50</td></tr><tr><td>4</td><td>Tablet</td><td>499.99</td></tr></table>"
                    },
                    "metadata": {}
                }
            ],
            "execution_count": 20
        },
        {
            "cell_type": "markdown",
            "source": [
                "#### Practice Questions and Solutions:\n",
                "\n",
                "1. **Question 1:**\n",
                "   How would you create a clustered index on the \"Price\" column of the \"ProductsForIndex\" table?"
            ],
            "metadata": {
                "language": "",
                "azdata_cell_guid": "1a5af95b-7aa6-4c90-98fb-22813d345783"
            },
            "attachments": {}
        },
        {
            "cell_type": "code",
            "source": [
                "CREATE CLUSTERED INDEX idx_Price ON ProductsForIndex (Price);"
            ],
            "metadata": {
                "azdata_cell_guid": "b0d084d7-0b61-4d53-aa31-d61d62e741db",
                "language": "sql"
            },
            "outputs": [
                {
                    "output_type": "error",
                    "ename": "",
                    "evalue": "Msg 1902, Level 16, State 3, Line 1\nCannot create more than one clustered index on table 'ProductsForIndex'. Drop the existing clustered index 'PK__Products__B40CC6ED74B88515' before creating another.",
                    "traceback": []
                },
                {
                    "output_type": "display_data",
                    "data": {
                        "text/html": "Total execution time: 00:00:00.011"
                    },
                    "metadata": {}
                }
            ],
            "execution_count": 23
        },
        {
            "cell_type": "markdown",
            "source": [
                "2. **Question 2:**\n",
                "   Create a non-clustered index named \"idx_ProductName\" on the \"ProductName\" column of the \"Products\" table."
            ],
            "metadata": {
                "language": "sql",
                "azdata_cell_guid": "3f3e7659-c0ed-4f87-bf1a-afe485cdb427"
            },
            "attachments": {}
        },
        {
            "cell_type": "code",
            "source": [
                "CREATE NONCLUSTERED INDEX idx_ProductName ON ProductsForIndex (ProductName);"
            ],
            "metadata": {
                "language": "sql",
                "azdata_cell_guid": "78b6b9f1-ed5f-4c6c-87d2-2e8ec00fec06"
            },
            "outputs": [
                {
                    "output_type": "display_data",
                    "data": {
                        "text/html": "Commands completed successfully."
                    },
                    "metadata": {}
                },
                {
                    "output_type": "display_data",
                    "data": {
                        "text/html": "Total execution time: 00:00:00.033"
                    },
                    "metadata": {}
                }
            ],
            "execution_count": 24
        },
        {
            "cell_type": "markdown",
            "source": [
                "#### Homework Exercises:\n",
                "\n",
                "1. **Exercise 1:**\n",
                "   Analyze a specific query and suggest an appropriate index to improve its performance.\n",
                "\n",
                "\n",
                "#### Some Facts:\n",
                "\n",
                "- Indexes play a crucial role in database optimization, allowing databases to handle large volumes of data with efficient query performance.\n",
                "- Regularly maintaining and updating indexes is essential for long-term database health and performance.\n",
                "\n",
                "#### Do you know ?\n",
                "\n",
                "- Did you know that the concept of indexing dates back to ancient times? Babylonians used clay tablets with indexes to organize information efficiently. It's fascinating how this idea has evolved into the database indexing we use today."
            ],
            "metadata": {
                "language": "sql",
                "azdata_cell_guid": "75019436-8c73-4df0-9cca-0127a89b7356"
            },
            "attachments": {}
        }
    ]
}