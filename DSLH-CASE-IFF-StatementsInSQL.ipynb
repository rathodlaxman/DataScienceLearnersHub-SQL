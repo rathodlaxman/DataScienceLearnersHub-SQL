{
    "metadata": {
        "kernelspec": {
            "name": "SQL",
            "display_name": "SQL",
            "language": "sql"
        },
        "language_info": {
            "name": "sql",
            "version": ""
        }
    },
    "nbformat_minor": 2,
    "nbformat": 4,
    "cells": [
        {
            "cell_type": "markdown",
            "source": [
                "# **`Data Science Learners Hub`**\n",
                "\n",
                "**Module : SQL**\n",
                "\n",
                "**email** : [datasciencelearnershub@gmail.com](mailto:datasciencelearnershub@gmail.com)"
            ],
            "metadata": {
                "azdata_cell_guid": "3bce6be8-b58e-4105-8d42-eee058528f8d"
            },
            "attachments": {}
        },
        {
            "cell_type": "markdown",
            "source": [
                "### **`# CASE Statement and IFF Statement in SQL`**"
            ],
            "metadata": {
                "azdata_cell_guid": "dc423e2a-ab75-476e-b762-7654d20fc76e"
            },
            "attachments": {}
        },
        {
            "cell_type": "markdown",
            "source": [
                "**1\\. Introduction:**\n",
                "\n",
                "The CASE and IIF(Inline IF) statements in MS SQL Server are powerful tools for conditional logic, allowing you to perform different actions based on specified conditions. These statements enhance the flexibility of your SQL queries by providing a way to handle various scenarios.\n",
                "\n",
                "**2\\. Why Learn This Topic:**\n",
                "\n",
                "Learning the CASE and IIF statements is essential for SQL developers as it enables them to create dynamic queries that respond to specific conditions. This is particularly useful when you need to transform or filter data based on different criteria.\n",
                "\n",
                "**3\\. Real-world Applications:**\n",
                "\n",
                "Consider a scenario where you have a database of employees, and you need to categorize them based on their salaries. You can use the CASE statement to create salary brackets or use the IIF statement to quickly categorize employees as high or low earners based on a threshold.\n",
                "\n",
                "**4\\. Syntax:**\n",
                "\n",
                "**a. CASE Statement:**\n",
                "\n",
                "```\n",
                "SELECT\n",
                "    column1,\n",
                "    column2,\n",
                "    CASE\n",
                "        WHEN condition1 THEN result1\n",
                "        WHEN condition2 THEN result2\n",
                "        ELSE default_result\n",
                "    END AS new_column\n",
                "FROM\n",
                "    your_table;\n",
                "\n",
                "```\n",
                "\n",
                "Example:\n",
                "\n",
                "```\n",
                "SELECT\n",
                "    EmployeeID,\n",
                "    EmployeeName,\n",
                "    Salary,\n",
                "    CASE\n",
                "        WHEN Salary > 50000 THEN 'High Earner'\n",
                "        WHEN Salary <= 50000 THEN 'Low Earner'\n",
                "        ELSE 'Unknown'\n",
                "    END AS SalaryCategory\n",
                "FROM\n",
                "    Employees;\n",
                "\n",
                "```\n",
                "\n",
                "**b. IIF Statement:**\n",
                "\n",
                "```\n",
                "SELECT\n",
                "    column1,\n",
                "    column2,\n",
                "    IIF(condition, true_result, false_result) AS new_column\n",
                "FROM\n",
                "    your_table;\n",
                "\n",
                "```\n",
                "\n",
                "Example:\n",
                "\n",
                "```\n",
                "SELECT\n",
                "    EmployeeID,\n",
                "    EmployeeName,\n",
                "    Salary,\n",
                "    IIF(Salary > 50000, 'High Earner', 'Low Earner') AS SalaryCategory\n",
                "FROM\n",
                "    Employees;\n",
                "\n",
                "```\n",
                "\n",
                "**5\\. Practical Applications:**\n",
                "\n",
                "- Data Transformation: Converting data based on specific conditions.\n",
                "    \n",
                "- Report Generation: Creating reports with custom categorizations.\n",
                "    \n",
                "- Business Logic Implementation: Applying business rules for decision-making.\n",
                "    \n",
                "\n",
                "**6\\. Considerations:**\n",
                "\n",
                "- The CASE statement is more flexible and allows for multiple conditions, while the IIF statement is a concise version suitable for simple conditions.\n",
                "    \n",
                "- Ensure that the result types for each branch of the CASE or IIF statement are compatible.\n",
                "    \n",
                "- CASE can be more performant for complex scenarios.\n",
                "    \n",
                "\n",
                "**7\\. Common Mistakes:**\n",
                "\n",
                "- Forgetting the ELSE or END clause in the CASE statement, which might lead to unexpected results.\n",
                "    \n",
                "- Using the IIF statement for complex conditions where the CASE statement would be more appropriate.\n",
                "    \n",
                "- Nested Conditions: Careless nesting of conditions can lead to confusion.\n",
                "    \n",
                "- Data Type Mismatch: Ensure consistent data types for results in each branch."
            ],
            "metadata": {
                "azdata_cell_guid": "9990770a-453a-408e-92b0-227f9e4892c2"
            },
            "attachments": {}
        },
        {
            "cell_type": "markdown",
            "source": [
                "**8. Hands-on Experience:**\n",
                "\n",
                "Let's create a sample table and explore the use of CASE and IIF statements:"
            ],
            "metadata": {
                "azdata_cell_guid": "8c53fb6a-a956-4957-8c31-48180ce3eb8d"
            },
            "attachments": {}
        },
        {
            "cell_type": "code",
            "source": [
                "USE DataScienceLearnersHub"
            ],
            "metadata": {
                "azdata_cell_guid": "9803d34e-bddd-42cb-854f-3f21fba0ade6",
                "language": "sql"
            },
            "outputs": [
                {
                    "output_type": "display_data",
                    "data": {
                        "text/html": "Commands completed successfully."
                    },
                    "metadata": {}
                },
                {
                    "output_type": "display_data",
                    "data": {
                        "text/html": "Total execution time: 00:00:00.015"
                    },
                    "metadata": {}
                }
            ],
            "execution_count": 2
        },
        {
            "cell_type": "code",
            "source": [
                "DROP TABLE Employees"
            ],
            "metadata": {
                "language": "sql",
                "azdata_cell_guid": "cb8ed108-cd62-45e7-8763-5002fc3401cf"
            },
            "outputs": [
                {
                    "output_type": "display_data",
                    "data": {
                        "text/html": "Commands completed successfully."
                    },
                    "metadata": {}
                },
                {
                    "output_type": "display_data",
                    "data": {
                        "text/html": "Total execution time: 00:00:00.027"
                    },
                    "metadata": {}
                }
            ],
            "execution_count": 3
        },
        {
            "cell_type": "code",
            "source": [
                "-- Creating a Sample Table\n",
                "CREATE TABLE Employees (\n",
                "    EmployeeID INT PRIMARY KEY,\n",
                "    EmployeeName VARCHAR(50),\n",
                "    Salary DECIMAL(10, 2)\n",
                ");\n",
                "\n",
                "-- Inserting Sample Data\n",
                "INSERT INTO Employees VALUES (1, 'Laxman Rathod', 50000.00);\n",
                "INSERT INTO Employees VALUES (2, 'Ashwanth B', 60000.00);\n",
                "INSERT INTO Employees VALUES (3, 'Dasarath K', 45000.00);\n",
                "\n",
                "SELECT * FROM Employees"
            ],
            "metadata": {
                "language": "sql",
                "azdata_cell_guid": "e71cb100-c759-422d-880c-9efae970341c"
            },
            "outputs": [
                {
                    "output_type": "display_data",
                    "data": {
                        "text/html": "(1 row affected)"
                    },
                    "metadata": {}
                },
                {
                    "output_type": "display_data",
                    "data": {
                        "text/html": "(1 row affected)"
                    },
                    "metadata": {}
                },
                {
                    "output_type": "display_data",
                    "data": {
                        "text/html": "(1 row affected)"
                    },
                    "metadata": {}
                },
                {
                    "output_type": "display_data",
                    "data": {
                        "text/html": "(3 rows affected)"
                    },
                    "metadata": {}
                },
                {
                    "output_type": "display_data",
                    "data": {
                        "text/html": "Total execution time: 00:00:00.145"
                    },
                    "metadata": {}
                },
                {
                    "output_type": "execute_result",
                    "metadata": {},
                    "execution_count": 4,
                    "data": {
                        "application/vnd.dataresource+json": {
                            "schema": {
                                "fields": [
                                    {
                                        "name": "EmployeeID"
                                    },
                                    {
                                        "name": "EmployeeName"
                                    },
                                    {
                                        "name": "Salary"
                                    }
                                ]
                            },
                            "data": [
                                {
                                    "EmployeeID": "1",
                                    "EmployeeName": "Laxman Rathod",
                                    "Salary": "50000.00"
                                },
                                {
                                    "EmployeeID": "2",
                                    "EmployeeName": "Ashwanth B",
                                    "Salary": "60000.00"
                                },
                                {
                                    "EmployeeID": "3",
                                    "EmployeeName": "Dasarath K",
                                    "Salary": "45000.00"
                                }
                            ]
                        },
                        "text/html": [
                            "<table>",
                            "<tr><th>EmployeeID</th><th>EmployeeName</th><th>Salary</th></tr>",
                            "<tr><td>1</td><td>Laxman Rathod</td><td>50000.00</td></tr>",
                            "<tr><td>2</td><td>Ashwanth B</td><td>60000.00</td></tr>",
                            "<tr><td>3</td><td>Dasarath K</td><td>45000.00</td></tr>",
                            "</table>"
                        ]
                    }
                }
            ],
            "execution_count": 4
        },
        {
            "cell_type": "markdown",
            "source": [
                "**Questions Based on the Table:**"
            ],
            "metadata": {
                "azdata_cell_guid": "f3fcb3d4-2380-413d-b11f-e4ce7556a328"
            },
            "attachments": {}
        },
        {
            "cell_type": "markdown",
            "source": [
                "**Q1. Use CASE for Categorization:**\n",
                "   - Create a query that uses the CASE statement to categorize employees into 'Junior' and 'Senior' based on their salary (e.g., Junior if Salary < 50000, Senior otherwise)."
            ],
            "metadata": {
                "azdata_cell_guid": "e9855a53-130c-47f2-8114-ab658ced09ee"
            },
            "attachments": {}
        },
        {
            "cell_type": "code",
            "source": [
                "-- Executing Query\n",
                "SELECT\n",
                "    EmployeeID,\n",
                "    EmployeeName,\n",
                "    Salary,\n",
                "    CASE\n",
                "        WHEN Salary < 50000 THEN 'Junior'\n",
                "        ELSE 'Senior'\n",
                "    END AS EmployeeCategory\n",
                "FROM\n",
                "    Employees;"
            ],
            "metadata": {
                "azdata_cell_guid": "9decba3e-4189-4f41-b651-efb90c04d926",
                "language": "sql"
            },
            "outputs": [
                {
                    "output_type": "display_data",
                    "data": {
                        "text/html": "(3 rows affected)"
                    },
                    "metadata": {}
                },
                {
                    "output_type": "display_data",
                    "data": {
                        "text/html": "Total execution time: 00:00:00.054"
                    },
                    "metadata": {}
                },
                {
                    "output_type": "execute_result",
                    "metadata": {},
                    "execution_count": 5,
                    "data": {
                        "application/vnd.dataresource+json": {
                            "schema": {
                                "fields": [
                                    {
                                        "name": "EmployeeID"
                                    },
                                    {
                                        "name": "EmployeeName"
                                    },
                                    {
                                        "name": "Salary"
                                    },
                                    {
                                        "name": "EmployeeCategory"
                                    }
                                ]
                            },
                            "data": [
                                {
                                    "EmployeeID": "1",
                                    "EmployeeName": "Laxman Rathod",
                                    "Salary": "50000.00",
                                    "EmployeeCategory": "Senior"
                                },
                                {
                                    "EmployeeID": "2",
                                    "EmployeeName": "Ashwanth B",
                                    "Salary": "60000.00",
                                    "EmployeeCategory": "Senior"
                                },
                                {
                                    "EmployeeID": "3",
                                    "EmployeeName": "Dasarath K",
                                    "Salary": "45000.00",
                                    "EmployeeCategory": "Junior"
                                }
                            ]
                        },
                        "text/html": [
                            "<table>",
                            "<tr><th>EmployeeID</th><th>EmployeeName</th><th>Salary</th><th>EmployeeCategory</th></tr>",
                            "<tr><td>1</td><td>Laxman Rathod</td><td>50000.00</td><td>Senior</td></tr>",
                            "<tr><td>2</td><td>Ashwanth B</td><td>60000.00</td><td>Senior</td></tr>",
                            "<tr><td>3</td><td>Dasarath K</td><td>45000.00</td><td>Junior</td></tr>",
                            "</table>"
                        ]
                    }
                }
            ],
            "execution_count": 5
        },
        {
            "cell_type": "markdown",
            "source": [
                "**Q2. Use IIF for High Earners:**\n",
                "   - Create a query that uses the IIF statement to identify employees with a salary greater than 55000 as 'High Earner' and 'Normal Earner' otherwise."
            ],
            "metadata": {
                "language": "sql",
                "azdata_cell_guid": "bb773e28-810d-4ee4-90ff-e7aae77202d8"
            },
            "attachments": {}
        },
        {
            "cell_type": "code",
            "source": [
                "-- Executing Query\n",
                "SELECT\n",
                "    EmployeeID,\n",
                "    EmployeeName,\n",
                "    Salary,\n",
                "    IIF(Salary > 55000, 'High Earner', 'Normal Earner') AS EarnerCategory\n",
                "FROM\n",
                "    Employees;"
            ],
            "metadata": {
                "language": "sql",
                "azdata_cell_guid": "07aefda4-cb25-48c0-bf78-c28b4b1b8aad"
            },
            "outputs": [
                {
                    "output_type": "display_data",
                    "data": {
                        "text/html": "(3 rows affected)"
                    },
                    "metadata": {}
                },
                {
                    "output_type": "display_data",
                    "data": {
                        "text/html": "Total execution time: 00:00:00.078"
                    },
                    "metadata": {}
                },
                {
                    "output_type": "execute_result",
                    "metadata": {},
                    "execution_count": 6,
                    "data": {
                        "application/vnd.dataresource+json": {
                            "schema": {
                                "fields": [
                                    {
                                        "name": "EmployeeID"
                                    },
                                    {
                                        "name": "EmployeeName"
                                    },
                                    {
                                        "name": "Salary"
                                    },
                                    {
                                        "name": "EarnerCategory"
                                    }
                                ]
                            },
                            "data": [
                                {
                                    "EmployeeID": "1",
                                    "EmployeeName": "Laxman Rathod",
                                    "Salary": "50000.00",
                                    "EarnerCategory": "Normal Earner"
                                },
                                {
                                    "EmployeeID": "2",
                                    "EmployeeName": "Ashwanth B",
                                    "Salary": "60000.00",
                                    "EarnerCategory": "High Earner"
                                },
                                {
                                    "EmployeeID": "3",
                                    "EmployeeName": "Dasarath K",
                                    "Salary": "45000.00",
                                    "EarnerCategory": "Normal Earner"
                                }
                            ]
                        },
                        "text/html": [
                            "<table>",
                            "<tr><th>EmployeeID</th><th>EmployeeName</th><th>Salary</th><th>EarnerCategory</th></tr>",
                            "<tr><td>1</td><td>Laxman Rathod</td><td>50000.00</td><td>Normal Earner</td></tr>",
                            "<tr><td>2</td><td>Ashwanth B</td><td>60000.00</td><td>High Earner</td></tr>",
                            "<tr><td>3</td><td>Dasarath K</td><td>45000.00</td><td>Normal Earner</td></tr>",
                            "</table>"
                        ]
                    }
                }
            ],
            "execution_count": 6
        },
        {
            "cell_type": "markdown",
            "source": [
                "**9. Homework Assignment:**\n",
                "\n",
                "1. **Advanced CASE Statement:**\n",
                "   - Create a query that uses the CASE statement to categorize employees into 'Junior,' 'Intermediate,' and 'Senior' based on their years of experience (create a fictional 'Experience' column).\n",
                "\n",
                "2. **Nested IIF Statements:**\n",
                "   - Write a query that uses nested IIF statements to categorize employees into 'A,' 'B,' and 'C' based on their performance ratings.\n",
                "\n",
                "3. **CASE Statement with NULL Handling:**\n",
                "   - Modify the first question to handle NULL values in the Salary column gracefully, considering them as a separate category.\n",
                "\n",
                "4. **IIF Statement with Multiple Conditions:**\n",
                "   - Enhance the second question by adding another condition to categorize employees with a salary greater than 60000 as 'Very High Earner.'\n",
                "\n",
                "5. **Dynamic Categorization:**\n",
                "   - Explore the use of dynamic categorization in a query using both CASE and IIF statements based on user input parameters."
            ],
            "metadata": {
                "language": "sql",
                "azdata_cell_guid": "d2f79853-404d-40ad-acb7-052a9df6371e"
            },
            "attachments": {}
        },
        {
            "cell_type": "markdown",
            "source": [
                "**10. Some Facts:**\n",
                "\n",
                "- The CASE statement can be used in various contexts, such as SELECT, WHERE, and ORDER BY clauses.\n",
                "- IIF is a shorthand version of the CASE statement introduced in SQL Server 2012.\n",
                "- While both statements are powerful, the choice between them depends on the complexity of your conditions and your preference for concise or explicit syntax."
            ],
            "metadata": {
                "language": "sql",
                "azdata_cell_guid": "ce1868ad-13a3-4410-88fb-050439524390"
            },
            "attachments": {}
        }
    ]
}