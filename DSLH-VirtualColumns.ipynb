{
    "metadata": {
        "kernelspec": {
            "name": "SQL",
            "display_name": "SQL",
            "language": "sql"
        },
        "language_info": {
            "name": "sql",
            "version": ""
        }
    },
    "nbformat_minor": 2,
    "nbformat": 4,
    "cells": [
        {
            "cell_type": "markdown",
            "source": [
                "# **Data Science Learners Hub**\n",
                "\n",
                "**Module : SQL**\n",
                "\n",
                "**Topic :** **Virtual Columns**\n",
                "\n",
                "**email** : [luckyrathod.forum@gmail.com](mailto:luckyrathod.forum@gmail.com)"
            ],
            "metadata": {
                "azdata_cell_guid": "0fcaff67-595f-4d52-a80f-c21fa3f8095a"
            },
            "attachments": {}
        },
        {
            "cell_type": "markdown",
            "source": [
                "### **Virtual Columns**\n",
                "\n",
                "- Virtual columns, also known as computed columns or generated columns, are a feature available in some relational database systems, including Microsoft SQL Server. These columns are not physically stored in the database but are computed dynamically based on expressions or formulas involving other columns in the table. Virtual columns provide a convenient way to derive values on-the-fly without the need to store redundant or calculated data explicitly.\n",
                "    \n",
                "- In Microsoft SQL Server, virtual columns are implemented using the **AS** keyword within the column definition. The computed expression or formula is specified after the **AS** keyword.\n",
                "    \n",
                "\n",
                "<span style=\"font-size: 13px;\"><b>Syntax :</b></span>\n",
                "\n",
                "<span style=\"font-size: 13px;\">CREATE TABLE ExampleTable (</span>\n",
                "\n",
                "    <span style=\"font-size: 13px;\">&nbsp; &nbsp; Column1 INT,</span>\n",
                "\n",
                "    <span style=\"font-size: 13px;\">&nbsp; &nbsp; Column2 INT,</span>\n",
                "\n",
                "    <span style=\"font-size: 13px;\">&nbsp; &nbsp; VirtualColumn AS (Column1 + Column2)</span>\n",
                "\n",
                "<span style=\"font-size: 13px;\">);</span>\n",
                "\n",
                "<span style=\"font-size: 13px;\"><br></span>\n",
                "\n",
                "<span style=\"font-size: 13px;\"><b>Explanation</b> :</span>\n",
                "\n",
                "- <span style=\"font-size: 13px;\"><p class=\"p1\" style=\"margin: 0px; font-variant-numeric: normal; font-variant-east-asian: normal; font-variant-alternates: normal; font-kerning: auto; font-optical-sizing: auto; font-feature-settings: normal; font-variation-settings: normal; font-stretch: normal; line-height: normal;\">In the above syntax, the <b>VirtualColumn</b> is a virtual column that is the sum of <b>Column1</b> and <b>Column2</b>.&nbsp;</p></span> \n",
                "- The value of **VirtualColumn** is computed dynamically whenever a query retrieves data from the table."
            ],
            "metadata": {
                "azdata_cell_guid": "f477b323-d086-41a4-b840-87bd55288870"
            },
            "attachments": {}
        },
        {
            "cell_type": "markdown",
            "source": [
                "### **Key points about virtual columns:**\n",
                "\n",
                "1\\. **Computed Expression:**\n",
                "\n",
                "   - The expression used to compute the value of a virtual column can involve mathematical operations, string concatenation, or other SQL functions.\n",
                "\n",
                "2\\. **Data Integrity:**\n",
                "\n",
                "   - Virtual columns do not physically store data; they are calculated on-the-fly. As a result, there is no need to worry about maintaining consistency between the stored values and the computed values.\n",
                "\n",
                "3\\. **Persistence**:\n",
                "\n",
                "   - Virtual columns are not stored on disk; they are computed at runtime. As a result, they do not consume additional storage space.\n",
                "\n",
                "4\\. **Indexing:**\n",
                "\n",
                "   - Depending on the database system and version, virtual columns may or may not be eligible for indexing. Some databases support indexing on virtual columns, allowing for efficient queries based on their computed values.\n",
                "\n",
                "5\\. **Read-Only:**\n",
                "\n",
                "   - Virtual columns are typically read-only. You can query and retrieve values from them, but you cannot explicitly update or insert values into them. Their values are derived based on the specified expression.\n",
                "\n",
                "6\\. **Use Cases:**\n",
                "\n",
                "**Note :** \n",
                "\n",
                "- Virtual columns are useful for scenarios where you need to perform calculations or derive values based on existing columns without storing redundant data. Examples include computing total amounts, concatenating strings, or calculating date differences."
            ],
            "metadata": {
                "azdata_cell_guid": "8d3cc441-c8e1-438a-8b05-bbaf95f05dcc"
            },
            "attachments": {}
        },
        {
            "cell_type": "code",
            "source": [
                "USE DataScienceLearnersHub"
            ],
            "metadata": {
                "azdata_cell_guid": "21dacf5d-14a4-452e-a3c4-49e50bf88674",
                "language": "sql"
            },
            "outputs": [
                {
                    "output_type": "display_data",
                    "data": {
                        "text/html": "Commands completed successfully."
                    },
                    "metadata": {}
                },
                {
                    "output_type": "display_data",
                    "data": {
                        "text/html": "Total execution time: 00:00:00.006"
                    },
                    "metadata": {}
                }
            ],
            "execution_count": 2
        },
        {
            "cell_type": "code",
            "source": [
                "CREATE TABLE Emp_Virtual_Column (\n",
                "    id INT PRIMARY KEY,\n",
                "    name VARCHAR(50),\n",
                "    age INT,\n",
                "    gender VARCHAR(10),\n",
                "    salary DECIMAL(10,2),\n",
                "    department VARCHAR(50)\n",
                ");\n",
                ""
            ],
            "metadata": {
                "azdata_cell_guid": "7fdfa9bf-f1df-4501-b5b9-0fc5b0d9066a",
                "language": "sql"
            },
            "outputs": [
                {
                    "output_type": "display_data",
                    "data": {
                        "text/html": "Commands completed successfully."
                    },
                    "metadata": {}
                },
                {
                    "output_type": "display_data",
                    "data": {
                        "text/html": "Total execution time: 00:00:00.034"
                    },
                    "metadata": {}
                }
            ],
            "execution_count": 3
        },
        {
            "cell_type": "code",
            "source": [
                "SELECT * FROM Emp_Virtual_Column\n",
                "\n",
                "-- NOTE : Here we get empty table as we dont have any values inserted"
            ],
            "metadata": {
                "language": "sql",
                "azdata_cell_guid": "f3bceebd-2187-4e4c-adab-25b1f3d3025c"
            },
            "outputs": [
                {
                    "output_type": "display_data",
                    "data": {
                        "text/html": "(0 rows affected)"
                    },
                    "metadata": {}
                },
                {
                    "output_type": "display_data",
                    "data": {
                        "text/html": "Total execution time: 00:00:00.014"
                    },
                    "metadata": {}
                },
                {
                    "output_type": "execute_result",
                    "metadata": {},
                    "execution_count": 4,
                    "data": {
                        "application/vnd.dataresource+json": {
                            "schema": {
                                "fields": [
                                    {
                                        "name": "id"
                                    },
                                    {
                                        "name": "name"
                                    },
                                    {
                                        "name": "age"
                                    },
                                    {
                                        "name": "gender"
                                    },
                                    {
                                        "name": "salary"
                                    },
                                    {
                                        "name": "department"
                                    }
                                ]
                            },
                            "data": []
                        },
                        "text/html": [
                            "<table>",
                            "<tr><th>id</th><th>name</th><th>age</th><th>gender</th><th>salary</th><th>department</th></tr>",
                            "</table>"
                        ]
                    }
                }
            ],
            "execution_count": 4
        },
        {
            "cell_type": "markdown",
            "source": [
                "1\\. **Example: Concatenating First Name and Last Name as Full Name:**\n",
                "\n",
                "- In this example, the virtual column \\`FullName\\` is created by concatenating the \"name\" and \"department\" columns. The \\`CONCAT\\` function is used to concatenate the two strings with a space in between."
            ],
            "metadata": {
                "language": "sql",
                "azdata_cell_guid": "ff8cfbc6-9713-4476-9fa4-db8f2165ab53"
            },
            "attachments": {}
        },
        {
            "cell_type": "code",
            "source": [
                "ALTER TABLE Emp_Virtual_Column\n",
                "ADD FullName AS (CONCAT(name, ' ', department));\n",
                ""
            ],
            "metadata": {
                "language": "sql",
                "azdata_cell_guid": "8f0d56a2-3764-4d78-83ea-4318733f4e82"
            },
            "outputs": [
                {
                    "output_type": "display_data",
                    "data": {
                        "text/html": "Commands completed successfully."
                    },
                    "metadata": {}
                },
                {
                    "output_type": "display_data",
                    "data": {
                        "text/html": "Total execution time: 00:00:00.013"
                    },
                    "metadata": {}
                }
            ],
            "execution_count": 7
        },
        {
            "cell_type": "markdown",
            "source": [
                "2\\. **Example: Computing Monthly Salary from Annual Salary:**\n",
                "\n",
                "  \n",
                "\n",
                "- Here, the virtual column \\`MonthlySalary\\` is computed by dividing the \"salary\" column by 12, assuming that the \"salary\" column represents an annual salary."
            ],
            "metadata": {
                "language": "sql",
                "azdata_cell_guid": "22775eda-2356-46b4-93c6-abb83f69e58d"
            },
            "attachments": {}
        },
        {
            "cell_type": "code",
            "source": [
                "ALTER TABLE Emp_Virtual_Column\n",
                "ADD MonthlySalary AS (salary / 12);\n",
                ""
            ],
            "metadata": {
                "language": "sql",
                "azdata_cell_guid": "1a23cd6d-08f1-4e5d-8e46-07a9c6c05e9d"
            },
            "outputs": [
                {
                    "output_type": "display_data",
                    "data": {
                        "text/html": "Commands completed successfully."
                    },
                    "metadata": {}
                },
                {
                    "output_type": "display_data",
                    "data": {
                        "text/html": "Total execution time: 00:00:00.008"
                    },
                    "metadata": {}
                }
            ],
            "execution_count": 8
        },
        {
            "cell_type": "markdown",
            "source": [
                "3\\. **Example: Determining Seniority Based on Age:**\n",
                "\n",
                "  \n",
                "\n",
                "- In this example, the virtual column \\`SeniorityStatus\\` is determined based on the \"age\" column. The \\`CASE\\` statement is used to categorize employees into different seniority levels."
            ],
            "metadata": {
                "language": "sql",
                "azdata_cell_guid": "e756e5fc-5872-425b-b264-6c253f926378"
            },
            "attachments": {}
        },
        {
            "cell_type": "code",
            "source": [
                "ALTER TABLE Emp_Virtual_Column\n",
                "ADD SeniorityStatus AS (\n",
                "    CASE\n",
                "        WHEN age >= 10 THEN 'Senior'\n",
                "        WHEN age >= 5 THEN 'Intermediate'\n",
                "        ELSE 'Junior'\n",
                "    END\n",
                ");\n",
                "\n",
                "-- NOTE : The CASE statement will be discussed in details later as a separate topic"
            ],
            "metadata": {
                "language": "sql",
                "azdata_cell_guid": "6f717e96-4dd7-4fa2-b3d3-11a2ab6bb0f0"
            },
            "outputs": [
                {
                    "output_type": "display_data",
                    "data": {
                        "text/html": "Commands completed successfully."
                    },
                    "metadata": {}
                },
                {
                    "output_type": "display_data",
                    "data": {
                        "text/html": "Total execution time: 00:00:00.018"
                    },
                    "metadata": {}
                }
            ],
            "execution_count": 9
        },
        {
            "cell_type": "markdown",
            "source": [
                "4\\. **Example: Generating Employee Email Addresses:**\n",
                "\n",
                "- Here, the virtual column \\`EmailAddress\\` is created by concatenating the \"name,\" \"id,\" and a domain to form a basic email address."
            ],
            "metadata": {
                "language": "sql",
                "azdata_cell_guid": "f22dd956-7df3-4770-ad9e-d209fc7478cc"
            },
            "attachments": {}
        },
        {
            "cell_type": "code",
            "source": [
                "ALTER TABLE Emp_Virtual_Column\n",
                "ADD EmailAddress AS (CONCAT(name, '_', id, '@company.com'));\n",
                ""
            ],
            "metadata": {
                "language": "sql",
                "azdata_cell_guid": "10659779-de67-462e-b3a0-046158125929"
            },
            "outputs": [
                {
                    "output_type": "display_data",
                    "data": {
                        "text/html": "Commands completed successfully."
                    },
                    "metadata": {}
                },
                {
                    "output_type": "display_data",
                    "data": {
                        "text/html": "Total execution time: 00:00:00.014"
                    },
                    "metadata": {}
                }
            ],
            "execution_count": 10
        },
        {
            "cell_type": "markdown",
            "source": [
                "**Insert rows into** <span style=\"color: rgb(33, 33, 33); font-family: Menlo, Monaco, &quot;Courier New&quot;, monospace; font-size: 12px; white-space: pre;\">Emp_Virtual_Column</span> **table which is presently empty**"
            ],
            "metadata": {
                "language": "sql",
                "azdata_cell_guid": "53ef8829-abaf-4239-9181-b40eb14e36ec"
            },
            "attachments": {}
        },
        {
            "cell_type": "code",
            "source": [
                "INSERT INTO Emp_Virtual_Column (id, name, age, gender, salary, department)\n",
                "VALUES \n",
                "    (1, 'Rajesh', 30, 'Male', 60000.00, 'IT'),\n",
                "    (2, 'Padma', 25, 'Female', 55000.50, 'HR'),\n",
                "    (3, 'Laxman', 35, 'Male', 70000.75, 'Finance'),\n",
                "    (4, 'Ganga', 28, 'Female', 48000.25, 'Marketing'),\n",
                "    (5, 'Nikhil', 32, 'Male', 72000.00, 'IT'),\n",
                "    (6, 'Sarita', 29, 'Female', 58000.75, 'HR'),\n",
                "    (7, 'Bunny', 40, 'Male', 85000.50, 'Finance'),\n",
                "    (8, 'Namrata', 26, 'Female', 50000.50, 'Marketing'),\n",
                "    (9, 'Abhiram', 38, 'Male', 78000.25, 'IT'),\n",
                "    (10, 'Tikram', 31, 'Female', 62000.00, 'Finance'),\n",
                "    (11, 'Ramulu', 58, 'Male', 178000.25, 'IT'),\n",
                "    (12, 'Bala', 51, 'Female', 162000.00, 'Finance');"
            ],
            "metadata": {
                "language": "sql",
                "azdata_cell_guid": "e617e8da-e242-4028-a33d-630bf5e2179b"
            },
            "outputs": [
                {
                    "output_type": "display_data",
                    "data": {
                        "text/html": "(12 rows affected)"
                    },
                    "metadata": {}
                },
                {
                    "output_type": "display_data",
                    "data": {
                        "text/html": "Total execution time: 00:00:00.037"
                    },
                    "metadata": {}
                }
            ],
            "execution_count": 11
        },
        {
            "cell_type": "code",
            "source": [
                "SELECT * FROM Emp_Virtual_Column\n",
                "\n",
                "-- NOTE :\n",
                "-- The columns FullName, MonthlySalary, SeniorityStatus, EmailAddress are calculated dynamically even though\n",
                "-- we are not inserting values for them"
            ],
            "metadata": {
                "language": "sql",
                "azdata_cell_guid": "87dec54d-940e-47ec-b523-213ce7403572"
            },
            "outputs": [
                {
                    "output_type": "display_data",
                    "data": {
                        "text/html": "(12 rows affected)"
                    },
                    "metadata": {}
                },
                {
                    "output_type": "display_data",
                    "data": {
                        "text/html": "Total execution time: 00:00:00.025"
                    },
                    "metadata": {}
                },
                {
                    "output_type": "execute_result",
                    "metadata": {},
                    "execution_count": 12,
                    "data": {
                        "application/vnd.dataresource+json": {
                            "schema": {
                                "fields": [
                                    {
                                        "name": "id"
                                    },
                                    {
                                        "name": "name"
                                    },
                                    {
                                        "name": "age"
                                    },
                                    {
                                        "name": "gender"
                                    },
                                    {
                                        "name": "salary"
                                    },
                                    {
                                        "name": "department"
                                    },
                                    {
                                        "name": "FullName"
                                    },
                                    {
                                        "name": "MonthlySalary"
                                    },
                                    {
                                        "name": "SeniorityStatus"
                                    },
                                    {
                                        "name": "EmailAddress"
                                    }
                                ]
                            },
                            "data": [
                                {
                                    "id": "1",
                                    "name": "Rajesh",
                                    "age": "30",
                                    "gender": "Male",
                                    "salary": "60000.00",
                                    "department": "IT",
                                    "FullName": "Rajesh IT",
                                    "MonthlySalary": "5000.000000",
                                    "SeniorityStatus": "Senior",
                                    "EmailAddress": "Rajesh_1@company.com"
                                },
                                {
                                    "id": "2",
                                    "name": "Padma",
                                    "age": "25",
                                    "gender": "Female",
                                    "salary": "55000.50",
                                    "department": "HR",
                                    "FullName": "Padma HR",
                                    "MonthlySalary": "4583.375000",
                                    "SeniorityStatus": "Senior",
                                    "EmailAddress": "Padma_2@company.com"
                                },
                                {
                                    "id": "3",
                                    "name": "Laxman",
                                    "age": "35",
                                    "gender": "Male",
                                    "salary": "70000.75",
                                    "department": "Finance",
                                    "FullName": "Laxman Finance",
                                    "MonthlySalary": "5833.395833",
                                    "SeniorityStatus": "Senior",
                                    "EmailAddress": "Laxman_3@company.com"
                                },
                                {
                                    "id": "4",
                                    "name": "Ganga",
                                    "age": "28",
                                    "gender": "Female",
                                    "salary": "48000.25",
                                    "department": "Marketing",
                                    "FullName": "Ganga Marketing",
                                    "MonthlySalary": "4000.020833",
                                    "SeniorityStatus": "Senior",
                                    "EmailAddress": "Ganga_4@company.com"
                                },
                                {
                                    "id": "5",
                                    "name": "Nikhil",
                                    "age": "32",
                                    "gender": "Male",
                                    "salary": "72000.00",
                                    "department": "IT",
                                    "FullName": "Nikhil IT",
                                    "MonthlySalary": "6000.000000",
                                    "SeniorityStatus": "Senior",
                                    "EmailAddress": "Nikhil_5@company.com"
                                },
                                {
                                    "id": "6",
                                    "name": "Sarita",
                                    "age": "29",
                                    "gender": "Female",
                                    "salary": "58000.75",
                                    "department": "HR",
                                    "FullName": "Sarita HR",
                                    "MonthlySalary": "4833.395833",
                                    "SeniorityStatus": "Senior",
                                    "EmailAddress": "Sarita_6@company.com"
                                },
                                {
                                    "id": "7",
                                    "name": "Bunny",
                                    "age": "40",
                                    "gender": "Male",
                                    "salary": "85000.50",
                                    "department": "Finance",
                                    "FullName": "Bunny Finance",
                                    "MonthlySalary": "7083.375000",
                                    "SeniorityStatus": "Senior",
                                    "EmailAddress": "Bunny_7@company.com"
                                },
                                {
                                    "id": "8",
                                    "name": "Namrata",
                                    "age": "26",
                                    "gender": "Female",
                                    "salary": "50000.50",
                                    "department": "Marketing",
                                    "FullName": "Namrata Marketing",
                                    "MonthlySalary": "4166.708333",
                                    "SeniorityStatus": "Senior",
                                    "EmailAddress": "Namrata_8@company.com"
                                },
                                {
                                    "id": "9",
                                    "name": "Abhiram",
                                    "age": "38",
                                    "gender": "Male",
                                    "salary": "78000.25",
                                    "department": "IT",
                                    "FullName": "Abhiram IT",
                                    "MonthlySalary": "6500.020833",
                                    "SeniorityStatus": "Senior",
                                    "EmailAddress": "Abhiram_9@company.com"
                                },
                                {
                                    "id": "10",
                                    "name": "Tikram",
                                    "age": "31",
                                    "gender": "Female",
                                    "salary": "62000.00",
                                    "department": "Finance",
                                    "FullName": "Tikram Finance",
                                    "MonthlySalary": "5166.666666",
                                    "SeniorityStatus": "Senior",
                                    "EmailAddress": "Tikram_10@company.com"
                                },
                                {
                                    "id": "11",
                                    "name": "Ramulu",
                                    "age": "58",
                                    "gender": "Male",
                                    "salary": "178000.25",
                                    "department": "IT",
                                    "FullName": "Ramulu IT",
                                    "MonthlySalary": "14833.354166",
                                    "SeniorityStatus": "Senior",
                                    "EmailAddress": "Ramulu_11@company.com"
                                },
                                {
                                    "id": "12",
                                    "name": "Bala",
                                    "age": "51",
                                    "gender": "Female",
                                    "salary": "162000.00",
                                    "department": "Finance",
                                    "FullName": "Bala Finance",
                                    "MonthlySalary": "13500.000000",
                                    "SeniorityStatus": "Senior",
                                    "EmailAddress": "Bala_12@company.com"
                                }
                            ]
                        },
                        "text/html": [
                            "<table>",
                            "<tr><th>id</th><th>name</th><th>age</th><th>gender</th><th>salary</th><th>department</th><th>FullName</th><th>MonthlySalary</th><th>SeniorityStatus</th><th>EmailAddress</th></tr>",
                            "<tr><td>1</td><td>Rajesh</td><td>30</td><td>Male</td><td>60000.00</td><td>IT</td><td>Rajesh IT</td><td>5000.000000</td><td>Senior</td><td>Rajesh_1@company.com</td></tr>",
                            "<tr><td>2</td><td>Padma</td><td>25</td><td>Female</td><td>55000.50</td><td>HR</td><td>Padma HR</td><td>4583.375000</td><td>Senior</td><td>Padma_2@company.com</td></tr>",
                            "<tr><td>3</td><td>Laxman</td><td>35</td><td>Male</td><td>70000.75</td><td>Finance</td><td>Laxman Finance</td><td>5833.395833</td><td>Senior</td><td>Laxman_3@company.com</td></tr>",
                            "<tr><td>4</td><td>Ganga</td><td>28</td><td>Female</td><td>48000.25</td><td>Marketing</td><td>Ganga Marketing</td><td>4000.020833</td><td>Senior</td><td>Ganga_4@company.com</td></tr>",
                            "<tr><td>5</td><td>Nikhil</td><td>32</td><td>Male</td><td>72000.00</td><td>IT</td><td>Nikhil IT</td><td>6000.000000</td><td>Senior</td><td>Nikhil_5@company.com</td></tr>",
                            "<tr><td>6</td><td>Sarita</td><td>29</td><td>Female</td><td>58000.75</td><td>HR</td><td>Sarita HR</td><td>4833.395833</td><td>Senior</td><td>Sarita_6@company.com</td></tr>",
                            "<tr><td>7</td><td>Bunny</td><td>40</td><td>Male</td><td>85000.50</td><td>Finance</td><td>Bunny Finance</td><td>7083.375000</td><td>Senior</td><td>Bunny_7@company.com</td></tr>",
                            "<tr><td>8</td><td>Namrata</td><td>26</td><td>Female</td><td>50000.50</td><td>Marketing</td><td>Namrata Marketing</td><td>4166.708333</td><td>Senior</td><td>Namrata_8@company.com</td></tr>",
                            "<tr><td>9</td><td>Abhiram</td><td>38</td><td>Male</td><td>78000.25</td><td>IT</td><td>Abhiram IT</td><td>6500.020833</td><td>Senior</td><td>Abhiram_9@company.com</td></tr>",
                            "<tr><td>10</td><td>Tikram</td><td>31</td><td>Female</td><td>62000.00</td><td>Finance</td><td>Tikram Finance</td><td>5166.666666</td><td>Senior</td><td>Tikram_10@company.com</td></tr>",
                            "<tr><td>11</td><td>Ramulu</td><td>58</td><td>Male</td><td>178000.25</td><td>IT</td><td>Ramulu IT</td><td>14833.354166</td><td>Senior</td><td>Ramulu_11@company.com</td></tr>",
                            "<tr><td>12</td><td>Bala</td><td>51</td><td>Female</td><td>162000.00</td><td>Finance</td><td>Bala Finance</td><td>13500.000000</td><td>Senior</td><td>Bala_12@company.com</td></tr>",
                            "</table>"
                        ]
                    }
                }
            ],
            "execution_count": 12
        },
        {
            "cell_type": "markdown",
            "source": [
                "**Note :**\n",
                "\n",
                "- These examples illustrate how virtual columns can be used to derive values based on existing columns. Keep in mind that the actual expressions used in computed columns will depend on the specific business requirements and the type of calculations or derivations needed. \n",
                "- Additionally, check the specific syntax and functions supported by your database management system."
            ],
            "metadata": {
                "language": "sql",
                "azdata_cell_guid": "b13d50fa-d80b-4bcc-86ae-71da43f5127f"
            },
            "attachments": {}
        }
    ]
}