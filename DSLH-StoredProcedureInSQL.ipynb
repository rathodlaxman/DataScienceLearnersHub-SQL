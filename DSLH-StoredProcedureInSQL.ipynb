{
    "metadata": {
        "kernelspec": {
            "name": "SQL",
            "display_name": "SQL",
            "language": "sql"
        },
        "language_info": {
            "name": "sql",
            "version": ""
        }
    },
    "nbformat_minor": 2,
    "nbformat": 4,
    "cells": [
        {
            "cell_type": "markdown",
            "source": [
                "# **`Data Science Learners Hub`**\n",
                "\n",
                "**Module : SQL**\n",
                "\n",
                "**email** : [datasciencelearnershub@gmail.com](mailto:datasciencelearnershub@gmail.com)"
            ],
            "metadata": {
                "azdata_cell_guid": "9f63eedb-0aa3-4207-8bbc-3494db01d748"
            },
            "attachments": {}
        },
        {
            "cell_type": "markdown",
            "source": [
                "### **`# Stored Procedure in SQL`**"
            ],
            "metadata": {
                "azdata_cell_guid": "fb8cb123-afa4-4255-a872-06f2d5c19d8a"
            },
            "attachments": {}
        },
        {
            "cell_type": "markdown",
            "source": [
                "**1. Introduction:**\n",
                "\n",
                "Stored Procedures are precompiled and stored SQL code that can be executed with a simple call. They are like scripts containing one or more SQL statements that are stored and can be reused.\n",
                "\n",
                "**2. Why Learn This Topic:**\n",
                "\n",
                "Learning about Stored Procedures is essential for several reasons. They provide modularity, security, and efficiency in SQL operations. They are reusable, reducing redundancy in code and enhancing maintenance. Stored Procedures also help in improving performance as the execution plan is cached.\n",
                "\n",
                "**3. Real-world Applications:**\n",
                "\n",
                "Consider a scenario where you have an e-commerce application. You might need to update the status of an order, calculate the total revenue for a specific time period, or retrieve customer information. Instead of writing these SQL queries every time, you can create Stored Procedures for these tasks, making your code cleaner and more maintainable.\n",
                "\n",
                "**4. Syntax:**\n",
                "\n",
                "```sql\n",
                "CREATE PROCEDURE procedure_name\n",
                "    @parameter1 data_type,\n",
                "    @parameter2 data_type\n",
                "AS\n",
                "    -- SQL statements\n",
                "GO\n",
                "```\n",
                "\n",
                "Example:\n",
                "\n",
                "```sql\n",
                "CREATE PROCEDURE GetCustomerOrders\n",
                "    @customerID INT\n",
                "AS\n",
                "    SELECT * FROM Orders WHERE CustomerID = @customerID\n",
                "GO\n",
                "```\n",
                "\n",
                "**6. Practical Applications:**\n",
                "\n",
                "- `Data retrieval`: Encapsulate complex queries for easy reuse.\n",
                "\n",
                "- `Data manipulation`: Perform INSERT, UPDATE, DELETE operations with built-in logic.\n",
                "\n",
                "- `Business logic`: Implement business rules and validations consistently.\n",
                "\n",
                "- `Security`: Control access to sensitive data and operations.\n",
                "\n",
                "**7. Pecularities and Considerations:**\n",
                "\n",
                "- `Parameterization`: Consider parameterizing procedures for flexibility.\n",
                "\n",
                "- `Reusability`: Design procedures to be reusable across different parts of an application.\n",
                "\n",
                "- `Error Handling`: Include error handling mechanisms for robust procedures.\n",
                "\n",
                "- `Input parameters`: Allow customization of behavior.\n",
                "\n",
                "- `Output parameters`: Return values or status information.\n",
                "\n",
                "- `Permissions`: Manage who can execute procedures for security.\n",
                "\n",
                "- `Transactions`: Ensure data consistency within procedures.\n",
                "\n",
                "- Parameters can be input parameters (`@parameter data_type`) or output parameters (`@parameter data_type OUTPUT`).\n",
                "\n",
                "- Always use the `GO` statement to terminate the batch when creating Stored Procedures.\n",
                "\n",
                "**8. Common Mistakes:**\n",
                "\n",
                "- Forgetting the `AS` keyword after the parameters.\n",
                "- Missing the `GO` statement after the procedure definition.\n",
                "- Not specifying parameters correctly.\n",
                ""
            ],
            "metadata": {
                "azdata_cell_guid": "a6b7405a-229f-46ea-b063-edc4dd7e12df"
            },
            "attachments": {}
        },
        {
            "cell_type": "markdown",
            "source": [
                "**9. Hands-on Experience:**\n",
                "\n",
                "Let's create a sample table and use Stored Procedures:"
            ],
            "metadata": {
                "azdata_cell_guid": "6f3106fe-6b68-40a4-8339-e0156f022581"
            },
            "attachments": {}
        },
        {
            "cell_type": "code",
            "source": [
                "USE DataScienceLearnersHub"
            ],
            "metadata": {
                "azdata_cell_guid": "e8db2fd9-313d-40df-b29d-a992e353b1f0",
                "language": "sql"
            },
            "outputs": [
                {
                    "output_type": "display_data",
                    "data": {
                        "text/html": "Commands completed successfully."
                    },
                    "metadata": {}
                },
                {
                    "output_type": "display_data",
                    "data": {
                        "text/html": "Total execution time: 00:00:00.001"
                    },
                    "metadata": {}
                }
            ],
            "execution_count": 1
        },
        {
            "cell_type": "code",
            "source": [
                "DROP TABLE Customers"
            ],
            "metadata": {
                "language": "sql",
                "azdata_cell_guid": "c0ee035d-0442-448e-b854-d189293c2b38"
            },
            "outputs": [
                {
                    "output_type": "display_data",
                    "data": {
                        "text/html": "Commands completed successfully."
                    },
                    "metadata": {}
                },
                {
                    "output_type": "display_data",
                    "data": {
                        "text/html": "Total execution time: 00:00:00.040"
                    },
                    "metadata": {}
                }
            ],
            "execution_count": 5
        },
        {
            "cell_type": "code",
            "source": [
                "-- Creating a Sample Table\n",
                "CREATE TABLE Customers (\n",
                "    CustomerID INT PRIMARY KEY,\n",
                "    CustomerName VARCHAR(50),\n",
                "    Email VARCHAR(50)\n",
                ");\n",
                "\n",
                "-- Inserting Sample Data\n",
                "INSERT INTO Customers VALUES (1, 'Laxman rathod', 'laxman@example.com');\n",
                "INSERT INTO Customers VALUES (2, 'Vijay Jones', 'vijay@example.com');\n",
                "\n",
                "SELECT * FROM Customers;"
            ],
            "metadata": {
                "language": "sql",
                "azdata_cell_guid": "1b105cfb-bfb2-414e-bbe2-f5857a2d883d"
            },
            "outputs": [
                {
                    "output_type": "display_data",
                    "data": {
                        "text/html": "(1 row affected)"
                    },
                    "metadata": {}
                },
                {
                    "output_type": "display_data",
                    "data": {
                        "text/html": "(1 row affected)"
                    },
                    "metadata": {}
                },
                {
                    "output_type": "display_data",
                    "data": {
                        "text/html": "(2 rows affected)"
                    },
                    "metadata": {}
                },
                {
                    "output_type": "display_data",
                    "data": {
                        "text/html": "Total execution time: 00:00:00.038"
                    },
                    "metadata": {}
                },
                {
                    "output_type": "execute_result",
                    "metadata": {},
                    "execution_count": 6,
                    "data": {
                        "application/vnd.dataresource+json": {
                            "schema": {
                                "fields": [
                                    {
                                        "name": "CustomerID"
                                    },
                                    {
                                        "name": "CustomerName"
                                    },
                                    {
                                        "name": "Email"
                                    }
                                ]
                            },
                            "data": [
                                {
                                    "CustomerID": "1",
                                    "CustomerName": "Laxman rathod",
                                    "Email": "laxman@example.com"
                                },
                                {
                                    "CustomerID": "2",
                                    "CustomerName": "Vijay Jones",
                                    "Email": "vijay@example.com"
                                }
                            ]
                        },
                        "text/html": [
                            "<table>",
                            "<tr><th>CustomerID</th><th>CustomerName</th><th>Email</th></tr>",
                            "<tr><td>1</td><td>Laxman rathod</td><td>laxman@example.com</td></tr>",
                            "<tr><td>2</td><td>Vijay Jones</td><td>vijay@example.com</td></tr>",
                            "</table>"
                        ]
                    }
                }
            ],
            "execution_count": 6
        },
        {
            "cell_type": "markdown",
            "source": [
                "Now, let's create a simple Stored Procedure:"
            ],
            "metadata": {
                "language": "sql",
                "azdata_cell_guid": "e8f24cb9-4f20-4896-82fa-dcaf6cc4b9c9"
            },
            "attachments": {}
        },
        {
            "cell_type": "code",
            "source": [
                "-- Creating a Stored Procedure\n",
                "CREATE PROCEDURE GetCustomerByID\n",
                "    @customerID INT\n",
                "AS\n",
                "    SELECT * FROM Customers WHERE CustomerID = @customerID;\n",
                "GO"
            ],
            "metadata": {
                "language": "sql",
                "azdata_cell_guid": "e5f22a43-2824-4deb-b0bb-ae949ca55870"
            },
            "outputs": [
                {
                    "output_type": "display_data",
                    "data": {
                        "text/html": "Commands completed successfully."
                    },
                    "metadata": {}
                },
                {
                    "output_type": "display_data",
                    "data": {
                        "text/html": "Total execution time: 00:00:00.017"
                    },
                    "metadata": {}
                }
            ],
            "execution_count": 7
        },
        {
            "cell_type": "markdown",
            "source": [
                "**Questions Based on the Table:**"
            ],
            "metadata": {
                "language": "sql",
                "azdata_cell_guid": "a3ae8aed-3cde-4882-b72f-0ecdcb62b8d7"
            },
            "attachments": {}
        },
        {
            "cell_type": "markdown",
            "source": [
                "\n",
                "**Q1. Retrieve Customer Information:**\n",
                "   - Use the Stored Procedure `GetCustomerByID` to retrieve information for CustomerID = 1."
            ],
            "metadata": {
                "language": "sql",
                "azdata_cell_guid": "3f6d1fe3-4366-4229-9d15-a3fd807207c9"
            },
            "attachments": {}
        },
        {
            "cell_type": "code",
            "source": [
                "-- Executing Stored Procedure\n",
                "EXEC GetCustomerByID @customerID = 1;"
            ],
            "metadata": {
                "language": "sql",
                "azdata_cell_guid": "97d30613-04c2-463e-bec6-5ce8489beda9"
            },
            "outputs": [
                {
                    "output_type": "display_data",
                    "data": {
                        "text/html": "(1 row affected)"
                    },
                    "metadata": {}
                },
                {
                    "output_type": "display_data",
                    "data": {
                        "text/html": "Total execution time: 00:00:00.043"
                    },
                    "metadata": {}
                },
                {
                    "output_type": "execute_result",
                    "metadata": {},
                    "execution_count": 8,
                    "data": {
                        "application/vnd.dataresource+json": {
                            "schema": {
                                "fields": [
                                    {
                                        "name": "CustomerID"
                                    },
                                    {
                                        "name": "CustomerName"
                                    },
                                    {
                                        "name": "Email"
                                    }
                                ]
                            },
                            "data": [
                                {
                                    "CustomerID": "1",
                                    "CustomerName": "Laxman rathod",
                                    "Email": "laxman@example.com"
                                }
                            ]
                        },
                        "text/html": [
                            "<table>",
                            "<tr><th>CustomerID</th><th>CustomerName</th><th>Email</th></tr>",
                            "<tr><td>1</td><td>Laxman rathod</td><td>laxman@example.com</td></tr>",
                            "</table>"
                        ]
                    }
                }
            ],
            "execution_count": 8
        },
        {
            "cell_type": "markdown",
            "source": [
                "**Q2. Create a New Stored Procedure:**\n",
                "   - Create a new Stored Procedure `GetCustomersWithEmail` that retrieves customers based on their email address."
            ],
            "metadata": {
                "language": "sql",
                "azdata_cell_guid": "0f775075-5494-4c24-b9dc-2c26b4de1576"
            },
            "attachments": {}
        },
        {
            "cell_type": "code",
            "source": [
                "-- Creating a New Stored Procedure\n",
                "CREATE PROCEDURE GetCustomersWithEmail\n",
                "    @email VARCHAR(50)\n",
                "AS\n",
                "    SELECT * FROM Customers WHERE Email = @email;\n",
                "GO\n",
                "\n",
                "-- Executing the New Stored Procedure\n",
                "EXEC GetCustomersWithEmail @email = 'laxman@example.com';"
            ],
            "metadata": {
                "language": "sql",
                "azdata_cell_guid": "defc7323-650e-4461-bf61-fe7427cf4072"
            },
            "outputs": [
                {
                    "output_type": "error",
                    "evalue": "Msg 2714, Level 16, State 3, Procedure GetCustomersWithEmail, Line 2\nThere is already an object named 'GetCustomersWithEmail' in the database.",
                    "ename": "",
                    "traceback": []
                },
                {
                    "output_type": "display_data",
                    "data": {
                        "text/html": "(1 row affected)"
                    },
                    "metadata": {}
                },
                {
                    "output_type": "display_data",
                    "data": {
                        "text/html": "Total execution time: 00:00:00.021"
                    },
                    "metadata": {}
                },
                {
                    "output_type": "execute_result",
                    "metadata": {},
                    "execution_count": 10,
                    "data": {
                        "application/vnd.dataresource+json": {
                            "schema": {
                                "fields": [
                                    {
                                        "name": "CustomerID"
                                    },
                                    {
                                        "name": "CustomerName"
                                    },
                                    {
                                        "name": "Email"
                                    }
                                ]
                            },
                            "data": [
                                {
                                    "CustomerID": "1",
                                    "CustomerName": "Laxman rathod",
                                    "Email": "laxman@example.com"
                                }
                            ]
                        },
                        "text/html": [
                            "<table>",
                            "<tr><th>CustomerID</th><th>CustomerName</th><th>Email</th></tr>",
                            "<tr><td>1</td><td>Laxman rathod</td><td>laxman@example.com</td></tr>",
                            "</table>"
                        ]
                    }
                }
            ],
            "execution_count": 10
        },
        {
            "cell_type": "markdown",
            "source": [
                "**Q3. Update Customer Information:**\n",
                "   - Create a Stored Procedure `UpdateCustomerEmail` that updates the email address for a given customer."
            ],
            "metadata": {
                "language": "sql",
                "azdata_cell_guid": "d57d1ccd-8ba9-4b14-9f2c-0480ca73add7"
            },
            "attachments": {}
        },
        {
            "cell_type": "code",
            "source": [
                "-- Creating a Stored Procedure to Update Email\n",
                "CREATE PROCEDURE UpdateCustomerEmail\n",
                "    @customerID INT,\n",
                "    @newEmail VARCHAR(50)\n",
                "AS\n",
                "    UPDATE Customers SET Email = @newEmail WHERE CustomerID = @customerID;\n",
                "GO"
            ],
            "metadata": {
                "language": "sql",
                "azdata_cell_guid": "a94abae9-7e01-4236-8410-213f758f69e5"
            },
            "outputs": [
                {
                    "output_type": "display_data",
                    "data": {
                        "text/html": "Commands completed successfully."
                    },
                    "metadata": {}
                },
                {
                    "output_type": "display_data",
                    "data": {
                        "text/html": "Total execution time: 00:00:00.026"
                    },
                    "metadata": {}
                }
            ],
            "execution_count": 11
        },
        {
            "cell_type": "code",
            "source": [
                "-- Executing the Stored Procedure\n",
                "EXEC UpdateCustomerEmail @customerID = 2, @newEmail = 'laxman.rathod@example.com';"
            ],
            "metadata": {
                "language": "sql",
                "azdata_cell_guid": "db40b7c5-f18d-4ea8-8a22-dd1aebd23198"
            },
            "outputs": [
                {
                    "output_type": "display_data",
                    "data": {
                        "text/html": "(1 row affected)"
                    },
                    "metadata": {}
                },
                {
                    "output_type": "display_data",
                    "data": {
                        "text/html": "Total execution time: 00:00:00.027"
                    },
                    "metadata": {}
                }
            ],
            "execution_count": 13
        },
        {
            "cell_type": "code",
            "source": [
                "SELECT * FROM Customers"
            ],
            "metadata": {
                "language": "sql",
                "azdata_cell_guid": "0878c18c-6ab0-4188-822f-69fda7922f89"
            },
            "outputs": [
                {
                    "output_type": "display_data",
                    "data": {
                        "text/html": "(2 rows affected)"
                    },
                    "metadata": {}
                },
                {
                    "output_type": "display_data",
                    "data": {
                        "text/html": "Total execution time: 00:00:00.020"
                    },
                    "metadata": {}
                },
                {
                    "output_type": "execute_result",
                    "metadata": {},
                    "execution_count": 14,
                    "data": {
                        "application/vnd.dataresource+json": {
                            "schema": {
                                "fields": [
                                    {
                                        "name": "CustomerID"
                                    },
                                    {
                                        "name": "CustomerName"
                                    },
                                    {
                                        "name": "Email"
                                    }
                                ]
                            },
                            "data": [
                                {
                                    "CustomerID": "1",
                                    "CustomerName": "Laxman rathod",
                                    "Email": "laxman@example.com"
                                },
                                {
                                    "CustomerID": "2",
                                    "CustomerName": "Vijay Jones",
                                    "Email": "laxman.rathod@example.com"
                                }
                            ]
                        },
                        "text/html": [
                            "<table>",
                            "<tr><th>CustomerID</th><th>CustomerName</th><th>Email</th></tr>",
                            "<tr><td>1</td><td>Laxman rathod</td><td>laxman@example.com</td></tr>",
                            "<tr><td>2</td><td>Vijay Jones</td><td>laxman.rathod@example.com</td></tr>",
                            "</table>"
                        ]
                    }
                }
            ],
            "execution_count": 14
        },
        {
            "cell_type": "markdown",
            "source": [
                "**Q4. Delete Customer:**\n",
                "   - Create a Stored Procedure `DeleteCustomer` that deletes a customer based on their ID."
            ],
            "metadata": {
                "language": "sql",
                "azdata_cell_guid": "e0dcf56a-bf45-4bda-b7c6-03ff4134a0bc"
            },
            "attachments": {}
        },
        {
            "cell_type": "code",
            "source": [
                "-- Creating a Stored Procedure to Delete Customer\n",
                "CREATE PROCEDURE DeleteCustomer\n",
                "    @customerID INT\n",
                "AS\n",
                "    DELETE FROM Customers WHERE CustomerID = @customerID;\n",
                "GO"
            ],
            "metadata": {
                "language": "sql",
                "azdata_cell_guid": "5b8c2482-8cb4-4657-aa03-c39e50958ebb"
            },
            "outputs": [
                {
                    "output_type": "display_data",
                    "data": {
                        "text/html": "Commands completed successfully."
                    },
                    "metadata": {}
                },
                {
                    "output_type": "display_data",
                    "data": {
                        "text/html": "Total execution time: 00:00:00.021"
                    },
                    "metadata": {}
                }
            ],
            "execution_count": 15
        },
        {
            "cell_type": "code",
            "source": [
                "-- Executing the Stored Procedure\n",
                "EXEC DeleteCustomer @customerID = 1;"
            ],
            "metadata": {
                "language": "sql",
                "azdata_cell_guid": "a86b498a-c255-415d-b814-e9a4e44ef6b0"
            },
            "outputs": [
                {
                    "output_type": "display_data",
                    "data": {
                        "text/html": "(1 row affected)"
                    },
                    "metadata": {}
                },
                {
                    "output_type": "display_data",
                    "data": {
                        "text/html": "Total execution time: 00:00:00.033"
                    },
                    "metadata": {}
                }
            ],
            "execution_count": 16
        },
        {
            "cell_type": "code",
            "source": [
                "SELECT * FROM Customers"
            ],
            "metadata": {
                "language": "sql",
                "azdata_cell_guid": "3c56783e-ff40-4976-923b-610d543f0c4d"
            },
            "outputs": [
                {
                    "output_type": "display_data",
                    "data": {
                        "text/html": "(1 row affected)"
                    },
                    "metadata": {}
                },
                {
                    "output_type": "display_data",
                    "data": {
                        "text/html": "Total execution time: 00:00:00.011"
                    },
                    "metadata": {}
                },
                {
                    "output_type": "execute_result",
                    "metadata": {},
                    "execution_count": 17,
                    "data": {
                        "application/vnd.dataresource+json": {
                            "schema": {
                                "fields": [
                                    {
                                        "name": "CustomerID"
                                    },
                                    {
                                        "name": "CustomerName"
                                    },
                                    {
                                        "name": "Email"
                                    }
                                ]
                            },
                            "data": [
                                {
                                    "CustomerID": "2",
                                    "CustomerName": "Vijay Jones",
                                    "Email": "laxman.rathod@example.com"
                                }
                            ]
                        },
                        "text/html": [
                            "<table>",
                            "<tr><th>CustomerID</th><th>CustomerName</th><th>Email</th></tr>",
                            "<tr><td>2</td><td>Vijay Jones</td><td>laxman.rathod@example.com</td></tr>",
                            "</table>"
                        ]
                    }
                }
            ],
            "execution_count": 17
        },
        {
            "cell_type": "markdown",
            "source": [
                "**10. Homework Assignment:**\n",
                "\n",
                "1. **Advanced Retrieval:**\n",
                "   - Create a Stored Procedure `GetCustomersByPartialName` that retrieves customers whose names contain a given substring.\n",
                "\n",
                "2. **Insert New Customer:**\n",
                "   - Create a Stored Procedure `InsertNewCustomer` that inserts a new customer into the Customers table.\n",
                "\n",
                "3. **Calculate Customer Count:**\n",
                "   - Create a Stored Procedure `GetCustomerCount` that calculates and returns the total number of customers.\n",
                "\n",
                "4. **Conditional Update:**\n",
                "   - Enhance the `UpdateCustomerEmail` Stored Procedure to update the email address only if the new email is not empty.\n",
                "\n",
                "5. **Dynamic SQL in Stored Procedure:**\n",
                "   - Explore dynamic SQL within a Stored Procedure. Create a Stored Procedure that generates and executes dynamic SQL based on user input."
            ],
            "metadata": {
                "language": "sql",
                "azdata_cell_guid": "82446802-495c-447c-8558-72a9ec4ed744"
            },
            "attachments": {}
        },
        {
            "cell_type": "markdown",
            "source": [
                "**11. Some Facts:**\n",
                "\n",
                "- Stored Procedures can be used to encapsulate complex business logic within the database, reducing the need for extensive application-side code.\n",
                "\n",
                "- They can enhance security by allowing users to execute Stored Procedures without directly accessing the underlying tables.\n",
                "\n",
                "- Stored Procedures can be used to improve performance by reducing network traffic and optimizing execution plans."
            ],
            "metadata": {
                "language": "sql",
                "azdata_cell_guid": "0e817194-a5b9-4363-bcb5-d1a87cc74e0f"
            },
            "attachments": {}
        }
    ]
}