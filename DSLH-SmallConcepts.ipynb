{
    "metadata": {
        "kernelspec": {
            "name": "SQL",
            "display_name": "SQL",
            "language": "sql"
        },
        "language_info": {
            "name": "sql",
            "version": ""
        }
    },
    "nbformat_minor": 2,
    "nbformat": 4,
    "cells": [
        {
            "cell_type": "markdown",
            "source": [
                "# **Data Science Learners Hub**\n",
                "\n",
                "**Module : SQL**\n",
                "\n",
                "**Topic :** <span style=\"color: var(--vscode-foreground); font-family: -apple-system, BlinkMacSystemFont, sans-serif; font-weight: 600;\">Small Concepts - Virtual Columns, Alias, NULL, TOP</span>\n",
                "\n",
                "**email** : [luckyrathod.forum@gmail.com](mailto:luckyrathod.forum@gmail.com)\n",
                "\n",
                "<span style=\"font-family: -apple-system, BlinkMacSystemFont, sans-serif; color: var(--vscode-foreground);\"><b>Author</b></span> <span style=\"font-weight: 600; font-family: -apple-system, BlinkMacSystemFont, sans-serif; color: var(--vscode-foreground);\">:&nbsp;</span>  <span style=\"font-family: -apple-system, BlinkMacSystemFont, sans-serif; color: var(--vscode-foreground);\">Laxman Rathod</span>"
            ],
            "metadata": {
                "azdata_cell_guid": "fab5c640-12fe-4a8e-aa46-e8bc2178aec9"
            },
            "attachments": {}
        },
        {
            "cell_type": "markdown",
            "source": [
                "### **VIRTUAL COLUMNS**\n",
                "\n",
                "- The column which is not present in the underlying table and gets created at the runtime and displayed to u is called **virtual column**. And this is limited to the current select statement only. The lifespan of these virtual columns are till the execution of the query\n",
                "    \n",
                "    Ex : SELECT empno, sal, **sal\\*12** as AnnualSalary from emp\n",
                "    \n",
                "    In above example **sal\\*12** column i.e AnnualSalary is a virtual column"
            ],
            "metadata": {
                "azdata_cell_guid": "4e9360fd-510a-4710-bf4b-05c4d9d10cd8"
            },
            "attachments": {}
        }
    ]
}