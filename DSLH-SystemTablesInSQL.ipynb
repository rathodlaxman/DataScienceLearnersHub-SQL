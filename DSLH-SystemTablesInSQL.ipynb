{
    "metadata": {
        "kernelspec": {
            "name": "SQL",
            "display_name": "SQL",
            "language": "sql"
        },
        "language_info": {
            "name": "sql",
            "version": ""
        }
    },
    "nbformat_minor": 2,
    "nbformat": 4,
    "cells": [
        {
            "cell_type": "markdown",
            "source": [
                "# **`Data Science Learners Hub`**\n",
                "\n",
                "**Module : SQL**\n",
                "\n",
                "**email** : [datasciencelearnershub@gmail.com](mailto:datasciencelearnershub@gmail.com)"
            ],
            "metadata": {
                "azdata_cell_guid": "dceeaa85-3092-4bca-90a8-133d5997db2e"
            },
            "attachments": {}
        },
        {
            "cell_type": "markdown",
            "source": [
                "### **`# System tables`**"
            ],
            "metadata": {
                "azdata_cell_guid": "7f9672e9-183b-408c-b079-8e5e6e52d273"
            },
            "attachments": {}
        },
        {
            "cell_type": "markdown",
            "source": [
                "**1. Introduction:**\n",
                "\n",
                "System Tables in MS SQL Server refer to a set of tables that the system uses to store metadata and configuration information about the database. These tables provide valuable information about the database structure, objects, and settings.\n",
                "\n",
                "**2. Why Learn This Topic:**\n",
                "\n",
                "Learning about System Tables is important as they provide insights into the inner workings of the SQL Server. They offer valuable information about database objects, such as tables, columns, indexes, and constraints. Understanding these tables can help in troubleshooting, optimizing queries, and gaining a deeper understanding of the database schema.\n",
                "\n",
                "**3. Real-world Applications:**\n",
                "\n",
                "Consider a scenario where you are tasked with optimizing a database's performance. By querying system tables, you can analyze the existing indexes on tables, identify unused indexes, and make informed decisions about which indexes to create or remove. System tables also come in handy when you need to generate documentation for the database schema.\n",
                "\n",
                "**4. Syntax:**\n",
                "\n",
                "System Tables are accessed through system views or functions. Some commonly used system views include:\n",
                "\n",
                "- `sys.tables`: Provides information about tables in the database.\n",
                "- `sys.columns`: Contains details about columns in tables.\n",
                "- `sys.indexes`: Offers information about indexes on tables.\n",
                "- `sys.schemas`: Displays details about schemas.\n",
                "\n",
                "Example:\n",
                "\n",
                "```sql\n",
                "-- Query to retrieve information about tables\n",
                "SELECT *\n",
                "FROM sys.tables;\n",
                "```\n",
                "\n",
                "**5. Practical Applications:**\n",
                "\n",
                "- `Information Gathering`: Extract table details, column definitions, indexes, constraints, and more for analysis and troubleshooting.\n",
                "\n",
                "- `Performance Tuning`: Identify potential bottlenecks, analyze query execution plans, and optimize indexes using system tables.\n",
                "\n",
                "- `Security Auditing`: Track user activity, monitor changes, and identify potential security vulnerabilities.\n",
                "\n",
                "- `Troubleshooting`: Pinpoint errors, analyze data inconsistencies, and debug issues using system table information.\n",
                "\n",
                "- `Data Dictionary Creation`: Use metadata for creating data dictionaries or documentation.\n",
                "\n",
                "**6. Considerations:**\n",
                "\n",
                "- It's important to note that the structure of system tables may change across different versions of SQL Server, so always refer to the documentation for the specific version you are using.\n",
                "\n",
                "- Avoid modifying system tables directly, as it can lead to database corruption and other issues.\n",
                "\n",
                "- `Read-Only Nature`: Most system tables are read-only, designed for querying metadata.\n",
                "\n",
                "- `Permissions`: Users may need specific permissions to access certain magical tables.\n",
                "\n",
                "**7. Common Mistakes:**\n",
                "\n",
                "- Modifying system tables directly, which can lead to database corruption.\n",
                "\n",
                "- Relying solely on system tables without understanding their limitations.\n",
                "\n",
                "- `Interpretation Errors`: Misunderstanding system table data without proper context.\n",
                "\n",
                "- `Security Missteps`: Accessing unauthorized information or overlooking security implications.\n",
                "\n",
                ""
            ],
            "metadata": {
                "azdata_cell_guid": "fe9b6283-ace4-4e4b-aa30-1575cf33c39b"
            },
            "attachments": {}
        },
        {
            "cell_type": "markdown",
            "source": [
                "**8. Hands-on Experience:**\n",
                "\n",
                "Let's create a sample database and explore some system tables:"
            ],
            "metadata": {
                "azdata_cell_guid": "b4f98b4c-ee2f-4e7c-b0bb-c8d8398e6d18"
            },
            "attachments": {}
        },
        {
            "cell_type": "code",
            "source": [
                "USE DataScienceLearnersHub"
            ],
            "metadata": {
                "azdata_cell_guid": "5c815c84-85c6-4b30-bbba-1759665f628a",
                "language": "sql"
            },
            "outputs": [
                {
                    "output_type": "display_data",
                    "data": {
                        "text/html": "Commands completed successfully."
                    },
                    "metadata": {}
                },
                {
                    "output_type": "display_data",
                    "data": {
                        "text/html": "Total execution time: 00:00:00.003"
                    },
                    "metadata": {}
                }
            ],
            "execution_count": 1
        },
        {
            "cell_type": "code",
            "source": [
                "-- Creating a Sample Database and Table\n",
                "CREATE DATABASE SampleDB;"
            ],
            "metadata": {
                "language": "sql",
                "azdata_cell_guid": "35e5448e-6a86-4538-b9a5-57694e620cf7"
            },
            "outputs": [
                {
                    "output_type": "display_data",
                    "data": {
                        "text/html": "Commands completed successfully."
                    },
                    "metadata": {}
                },
                {
                    "output_type": "display_data",
                    "data": {
                        "text/html": "Total execution time: 00:00:00.646"
                    },
                    "metadata": {}
                }
            ],
            "execution_count": 3
        },
        {
            "cell_type": "code",
            "source": [
                "USE SampleDB;"
            ],
            "metadata": {
                "language": "sql",
                "azdata_cell_guid": "76d8cbfd-2cdd-40a3-802d-efb1e6fb46c8"
            },
            "outputs": [
                {
                    "output_type": "display_data",
                    "data": {
                        "text/html": "Commands completed successfully."
                    },
                    "metadata": {}
                },
                {
                    "output_type": "display_data",
                    "data": {
                        "text/html": "Total execution time: 00:00:00.008"
                    },
                    "metadata": {}
                }
            ],
            "execution_count": 4
        },
        {
            "cell_type": "code",
            "source": [
                "CREATE TABLE Employees (\n",
                "    EmployeeID INT PRIMARY KEY,\n",
                "    EmployeeName VARCHAR(50),\n",
                "    Salary DECIMAL(10, 2)\n",
                ");\n",
                "\n",
                "-- Inserting Sample Data\n",
                "INSERT INTO Employees VALUES (1, 'laxman', 50000.00);\n",
                "INSERT INTO Employees VALUES (2, 'harshita', 60000.00);\n",
                "\n",
                "SELECT * FROM Employees"
            ],
            "metadata": {
                "language": "sql",
                "azdata_cell_guid": "7faafad3-83e2-436a-8d0d-31899ead034a"
            },
            "outputs": [
                {
                    "output_type": "display_data",
                    "data": {
                        "text/html": "(1 row affected)"
                    },
                    "metadata": {}
                },
                {
                    "output_type": "display_data",
                    "data": {
                        "text/html": "(1 row affected)"
                    },
                    "metadata": {}
                },
                {
                    "output_type": "display_data",
                    "data": {
                        "text/html": "(2 rows affected)"
                    },
                    "metadata": {}
                },
                {
                    "output_type": "display_data",
                    "data": {
                        "text/html": "Total execution time: 00:00:00.087"
                    },
                    "metadata": {}
                },
                {
                    "output_type": "execute_result",
                    "metadata": {},
                    "execution_count": 5,
                    "data": {
                        "application/vnd.dataresource+json": {
                            "schema": {
                                "fields": [
                                    {
                                        "name": "EmployeeID"
                                    },
                                    {
                                        "name": "EmployeeName"
                                    },
                                    {
                                        "name": "Salary"
                                    }
                                ]
                            },
                            "data": [
                                {
                                    "EmployeeID": "1",
                                    "EmployeeName": "laxman",
                                    "Salary": "50000.00"
                                },
                                {
                                    "EmployeeID": "2",
                                    "EmployeeName": "harshita",
                                    "Salary": "60000.00"
                                }
                            ]
                        },
                        "text/html": [
                            "<table>",
                            "<tr><th>EmployeeID</th><th>EmployeeName</th><th>Salary</th></tr>",
                            "<tr><td>1</td><td>laxman</td><td>50000.00</td></tr>",
                            "<tr><td>2</td><td>harshita</td><td>60000.00</td></tr>",
                            "</table>"
                        ]
                    }
                }
            ],
            "execution_count": 5
        },
        {
            "cell_type": "markdown",
            "source": [
                "Now, let's explore some system tables:"
            ],
            "metadata": {
                "language": "sql",
                "azdata_cell_guid": "f0d36abe-7b33-4fe0-bd13-076fce2e0eb7"
            },
            "attachments": {}
        },
        {
            "cell_type": "markdown",
            "source": [
                "**Questions Based on the Table:**"
            ],
            "metadata": {
                "language": "",
                "azdata_cell_guid": "92a29184-e1c6-4d10-8687-c04c09b0ad6e"
            },
            "attachments": {}
        },
        {
            "cell_type": "markdown",
            "source": [
                "**Q1. Retrieve Table Information:**\n",
                "   - Use the `sys.tables` view to retrieve information about all tables in the database."
            ],
            "metadata": {
                "azdata_cell_guid": "29cddbd5-8233-438b-9a65-12adbc2d235b",
                "language": ""
            },
            "attachments": {}
        },
        {
            "cell_type": "code",
            "source": [
                "-- Executing Query\n",
                "SELECT *\n",
                "FROM sys.tables;"
            ],
            "metadata": {
                "azdata_cell_guid": "c8d0b22d-2f63-4af7-97ab-3d8ce38ddb2a",
                "language": "sql"
            },
            "outputs": [
                {
                    "output_type": "display_data",
                    "data": {
                        "text/html": "(1 row affected)"
                    },
                    "metadata": {}
                },
                {
                    "output_type": "display_data",
                    "data": {
                        "text/html": "Total execution time: 00:00:00.290"
                    },
                    "metadata": {}
                },
                {
                    "output_type": "execute_result",
                    "metadata": {},
                    "execution_count": 6,
                    "data": {
                        "application/vnd.dataresource+json": {
                            "schema": {
                                "fields": [
                                    {
                                        "name": "name"
                                    },
                                    {
                                        "name": "object_id"
                                    },
                                    {
                                        "name": "principal_id"
                                    },
                                    {
                                        "name": "schema_id"
                                    },
                                    {
                                        "name": "parent_object_id"
                                    },
                                    {
                                        "name": "type"
                                    },
                                    {
                                        "name": "type_desc"
                                    },
                                    {
                                        "name": "create_date"
                                    },
                                    {
                                        "name": "modify_date"
                                    },
                                    {
                                        "name": "is_ms_shipped"
                                    },
                                    {
                                        "name": "is_published"
                                    },
                                    {
                                        "name": "is_schema_published"
                                    },
                                    {
                                        "name": "lob_data_space_id"
                                    },
                                    {
                                        "name": "filestream_data_space_id"
                                    },
                                    {
                                        "name": "max_column_id_used"
                                    },
                                    {
                                        "name": "lock_on_bulk_load"
                                    },
                                    {
                                        "name": "uses_ansi_nulls"
                                    },
                                    {
                                        "name": "is_replicated"
                                    },
                                    {
                                        "name": "has_replication_filter"
                                    },
                                    {
                                        "name": "is_merge_published"
                                    },
                                    {
                                        "name": "is_sync_tran_subscribed"
                                    },
                                    {
                                        "name": "has_unchecked_assembly_data"
                                    },
                                    {
                                        "name": "text_in_row_limit"
                                    },
                                    {
                                        "name": "large_value_types_out_of_row"
                                    },
                                    {
                                        "name": "is_tracked_by_cdc"
                                    },
                                    {
                                        "name": "lock_escalation"
                                    },
                                    {
                                        "name": "lock_escalation_desc"
                                    },
                                    {
                                        "name": "is_filetable"
                                    },
                                    {
                                        "name": "is_memory_optimized"
                                    },
                                    {
                                        "name": "durability"
                                    },
                                    {
                                        "name": "durability_desc"
                                    },
                                    {
                                        "name": "temporal_type"
                                    },
                                    {
                                        "name": "temporal_type_desc"
                                    },
                                    {
                                        "name": "history_table_id"
                                    },
                                    {
                                        "name": "is_remote_data_archive_enabled"
                                    },
                                    {
                                        "name": "is_external"
                                    },
                                    {
                                        "name": "history_retention_period"
                                    },
                                    {
                                        "name": "history_retention_period_unit"
                                    },
                                    {
                                        "name": "history_retention_period_unit_desc"
                                    },
                                    {
                                        "name": "is_node"
                                    },
                                    {
                                        "name": "is_edge"
                                    },
                                    {
                                        "name": "data_retention_period"
                                    },
                                    {
                                        "name": "data_retention_period_unit"
                                    },
                                    {
                                        "name": "data_retention_period_unit_desc"
                                    },
                                    {
                                        "name": "ledger_type"
                                    },
                                    {
                                        "name": "ledger_type_desc"
                                    },
                                    {
                                        "name": "ledger_view_id"
                                    }
                                ]
                            },
                            "data": [
                                {
                                    "name": "Employees",
                                    "object_id": "901578250",
                                    "principal_id": "NULL",
                                    "schema_id": "1",
                                    "parent_object_id": "0",
                                    "type": "U ",
                                    "type_desc": "USER_TABLE",
                                    "create_date": "2024-01-03 04:36:40.523",
                                    "modify_date": "2024-01-03 04:36:40.523",
                                    "is_ms_shipped": "0",
                                    "is_published": "0",
                                    "is_schema_published": "0",
                                    "lob_data_space_id": "0",
                                    "filestream_data_space_id": "NULL",
                                    "max_column_id_used": "3",
                                    "lock_on_bulk_load": "0",
                                    "uses_ansi_nulls": "1",
                                    "is_replicated": "0",
                                    "has_replication_filter": "0",
                                    "is_merge_published": "0",
                                    "is_sync_tran_subscribed": "0",
                                    "has_unchecked_assembly_data": "0",
                                    "text_in_row_limit": "0",
                                    "large_value_types_out_of_row": "0",
                                    "is_tracked_by_cdc": "0",
                                    "lock_escalation": "0",
                                    "lock_escalation_desc": "TABLE",
                                    "is_filetable": "0",
                                    "is_memory_optimized": "0",
                                    "durability": "0",
                                    "durability_desc": "SCHEMA_AND_DATA",
                                    "temporal_type": "0",
                                    "temporal_type_desc": "NON_TEMPORAL_TABLE",
                                    "history_table_id": "NULL",
                                    "is_remote_data_archive_enabled": "0",
                                    "is_external": "0",
                                    "history_retention_period": "NULL",
                                    "history_retention_period_unit": "NULL",
                                    "history_retention_period_unit_desc": "NULL",
                                    "is_node": "0",
                                    "is_edge": "0",
                                    "data_retention_period": "-1",
                                    "data_retention_period_unit": "-1",
                                    "data_retention_period_unit_desc": "INFINITE",
                                    "ledger_type": "0",
                                    "ledger_type_desc": "NON_LEDGER_TABLE",
                                    "ledger_view_id": "NULL"
                                }
                            ]
                        },
                        "text/html": [
                            "<table>",
                            "<tr><th>name</th><th>object_id</th><th>principal_id</th><th>schema_id</th><th>parent_object_id</th><th>type</th><th>type_desc</th><th>create_date</th><th>modify_date</th><th>is_ms_shipped</th><th>is_published</th><th>is_schema_published</th><th>lob_data_space_id</th><th>filestream_data_space_id</th><th>max_column_id_used</th><th>lock_on_bulk_load</th><th>uses_ansi_nulls</th><th>is_replicated</th><th>has_replication_filter</th><th>is_merge_published</th><th>is_sync_tran_subscribed</th><th>has_unchecked_assembly_data</th><th>text_in_row_limit</th><th>large_value_types_out_of_row</th><th>is_tracked_by_cdc</th><th>lock_escalation</th><th>lock_escalation_desc</th><th>is_filetable</th><th>is_memory_optimized</th><th>durability</th><th>durability_desc</th><th>temporal_type</th><th>temporal_type_desc</th><th>history_table_id</th><th>is_remote_data_archive_enabled</th><th>is_external</th><th>history_retention_period</th><th>history_retention_period_unit</th><th>history_retention_period_unit_desc</th><th>is_node</th><th>is_edge</th><th>data_retention_period</th><th>data_retention_period_unit</th><th>data_retention_period_unit_desc</th><th>ledger_type</th><th>ledger_type_desc</th><th>ledger_view_id</th></tr>",
                            "<tr><td>Employees</td><td>901578250</td><td>NULL</td><td>1</td><td>0</td><td>U </td><td>USER_TABLE</td><td>2024-01-03 04:36:40.523</td><td>2024-01-03 04:36:40.523</td><td>0</td><td>0</td><td>0</td><td>0</td><td>NULL</td><td>3</td><td>0</td><td>1</td><td>0</td><td>0</td><td>0</td><td>0</td><td>0</td><td>0</td><td>0</td><td>0</td><td>0</td><td>TABLE</td><td>0</td><td>0</td><td>0</td><td>SCHEMA_AND_DATA</td><td>0</td><td>NON_TEMPORAL_TABLE</td><td>NULL</td><td>0</td><td>0</td><td>NULL</td><td>NULL</td><td>NULL</td><td>0</td><td>0</td><td>-1</td><td>-1</td><td>INFINITE</td><td>0</td><td>NON_LEDGER_TABLE</td><td>NULL</td></tr>",
                            "</table>"
                        ]
                    }
                }
            ],
            "execution_count": 6
        },
        {
            "cell_type": "markdown",
            "source": [
                "**Q2. Retrieve Column Information:**\n",
                "   - Use the `sys.columns` view to retrieve information about columns in the `Employees` table."
            ],
            "metadata": {
                "language": "sql",
                "azdata_cell_guid": "00816b13-ed39-4d46-b465-178a3c143dec"
            },
            "attachments": {}
        },
        {
            "cell_type": "code",
            "source": [
                "-- Executing Query\n",
                "SELECT *\n",
                "FROM sys.columns\n",
                "WHERE object_id = OBJECT_ID('Employees');"
            ],
            "metadata": {
                "language": "sql",
                "azdata_cell_guid": "96ae5212-4148-4463-8ee4-29fb23c9dda5"
            },
            "outputs": [
                {
                    "output_type": "display_data",
                    "data": {
                        "text/html": "(3 rows affected)"
                    },
                    "metadata": {}
                },
                {
                    "output_type": "display_data",
                    "data": {
                        "text/html": "Total execution time: 00:00:00.098"
                    },
                    "metadata": {}
                },
                {
                    "output_type": "execute_result",
                    "metadata": {},
                    "execution_count": 7,
                    "data": {
                        "application/vnd.dataresource+json": {
                            "schema": {
                                "fields": [
                                    {
                                        "name": "object_id"
                                    },
                                    {
                                        "name": "name"
                                    },
                                    {
                                        "name": "column_id"
                                    },
                                    {
                                        "name": "system_type_id"
                                    },
                                    {
                                        "name": "user_type_id"
                                    },
                                    {
                                        "name": "max_length"
                                    },
                                    {
                                        "name": "precision"
                                    },
                                    {
                                        "name": "scale"
                                    },
                                    {
                                        "name": "collation_name"
                                    },
                                    {
                                        "name": "is_nullable"
                                    },
                                    {
                                        "name": "is_ansi_padded"
                                    },
                                    {
                                        "name": "is_rowguidcol"
                                    },
                                    {
                                        "name": "is_identity"
                                    },
                                    {
                                        "name": "is_computed"
                                    },
                                    {
                                        "name": "is_filestream"
                                    },
                                    {
                                        "name": "is_replicated"
                                    },
                                    {
                                        "name": "is_non_sql_subscribed"
                                    },
                                    {
                                        "name": "is_merge_published"
                                    },
                                    {
                                        "name": "is_dts_replicated"
                                    },
                                    {
                                        "name": "is_xml_document"
                                    },
                                    {
                                        "name": "xml_collection_id"
                                    },
                                    {
                                        "name": "default_object_id"
                                    },
                                    {
                                        "name": "rule_object_id"
                                    },
                                    {
                                        "name": "is_sparse"
                                    },
                                    {
                                        "name": "is_column_set"
                                    },
                                    {
                                        "name": "generated_always_type"
                                    },
                                    {
                                        "name": "generated_always_type_desc"
                                    },
                                    {
                                        "name": "encryption_type"
                                    },
                                    {
                                        "name": "encryption_type_desc"
                                    },
                                    {
                                        "name": "encryption_algorithm_name"
                                    },
                                    {
                                        "name": "column_encryption_key_id"
                                    },
                                    {
                                        "name": "column_encryption_key_database_name"
                                    },
                                    {
                                        "name": "is_hidden"
                                    },
                                    {
                                        "name": "is_masked"
                                    },
                                    {
                                        "name": "graph_type"
                                    },
                                    {
                                        "name": "graph_type_desc"
                                    },
                                    {
                                        "name": "is_data_deletion_filter_column"
                                    }
                                ]
                            },
                            "data": [
                                {
                                    "object_id": "901578250",
                                    "name": "EmployeeID",
                                    "column_id": "1",
                                    "system_type_id": "56",
                                    "user_type_id": "56",
                                    "max_length": "4",
                                    "precision": "10",
                                    "scale": "0",
                                    "collation_name": "NULL",
                                    "is_nullable": "0",
                                    "is_ansi_padded": "0",
                                    "is_rowguidcol": "0",
                                    "is_identity": "0",
                                    "is_computed": "0",
                                    "is_filestream": "0",
                                    "is_replicated": "0",
                                    "is_non_sql_subscribed": "0",
                                    "is_merge_published": "0",
                                    "is_dts_replicated": "0",
                                    "is_xml_document": "0",
                                    "xml_collection_id": "0",
                                    "default_object_id": "0",
                                    "rule_object_id": "0",
                                    "is_sparse": "0",
                                    "is_column_set": "0",
                                    "generated_always_type": "0",
                                    "generated_always_type_desc": "NOT_APPLICABLE",
                                    "encryption_type": "NULL",
                                    "encryption_type_desc": "NULL",
                                    "encryption_algorithm_name": "NULL",
                                    "column_encryption_key_id": "NULL",
                                    "column_encryption_key_database_name": "NULL",
                                    "is_hidden": "0",
                                    "is_masked": "0",
                                    "graph_type": "NULL",
                                    "graph_type_desc": "NULL",
                                    "is_data_deletion_filter_column": "0"
                                },
                                {
                                    "object_id": "901578250",
                                    "name": "EmployeeName",
                                    "column_id": "2",
                                    "system_type_id": "167",
                                    "user_type_id": "167",
                                    "max_length": "50",
                                    "precision": "0",
                                    "scale": "0",
                                    "collation_name": "SQL_Latin1_General_CP1_CI_AS",
                                    "is_nullable": "1",
                                    "is_ansi_padded": "1",
                                    "is_rowguidcol": "0",
                                    "is_identity": "0",
                                    "is_computed": "0",
                                    "is_filestream": "0",
                                    "is_replicated": "0",
                                    "is_non_sql_subscribed": "0",
                                    "is_merge_published": "0",
                                    "is_dts_replicated": "0",
                                    "is_xml_document": "0",
                                    "xml_collection_id": "0",
                                    "default_object_id": "0",
                                    "rule_object_id": "0",
                                    "is_sparse": "0",
                                    "is_column_set": "0",
                                    "generated_always_type": "0",
                                    "generated_always_type_desc": "NOT_APPLICABLE",
                                    "encryption_type": "NULL",
                                    "encryption_type_desc": "NULL",
                                    "encryption_algorithm_name": "NULL",
                                    "column_encryption_key_id": "NULL",
                                    "column_encryption_key_database_name": "NULL",
                                    "is_hidden": "0",
                                    "is_masked": "0",
                                    "graph_type": "NULL",
                                    "graph_type_desc": "NULL",
                                    "is_data_deletion_filter_column": "0"
                                },
                                {
                                    "object_id": "901578250",
                                    "name": "Salary",
                                    "column_id": "3",
                                    "system_type_id": "106",
                                    "user_type_id": "106",
                                    "max_length": "9",
                                    "precision": "10",
                                    "scale": "2",
                                    "collation_name": "NULL",
                                    "is_nullable": "1",
                                    "is_ansi_padded": "0",
                                    "is_rowguidcol": "0",
                                    "is_identity": "0",
                                    "is_computed": "0",
                                    "is_filestream": "0",
                                    "is_replicated": "0",
                                    "is_non_sql_subscribed": "0",
                                    "is_merge_published": "0",
                                    "is_dts_replicated": "0",
                                    "is_xml_document": "0",
                                    "xml_collection_id": "0",
                                    "default_object_id": "0",
                                    "rule_object_id": "0",
                                    "is_sparse": "0",
                                    "is_column_set": "0",
                                    "generated_always_type": "0",
                                    "generated_always_type_desc": "NOT_APPLICABLE",
                                    "encryption_type": "NULL",
                                    "encryption_type_desc": "NULL",
                                    "encryption_algorithm_name": "NULL",
                                    "column_encryption_key_id": "NULL",
                                    "column_encryption_key_database_name": "NULL",
                                    "is_hidden": "0",
                                    "is_masked": "0",
                                    "graph_type": "NULL",
                                    "graph_type_desc": "NULL",
                                    "is_data_deletion_filter_column": "0"
                                }
                            ]
                        },
                        "text/html": [
                            "<table>",
                            "<tr><th>object_id</th><th>name</th><th>column_id</th><th>system_type_id</th><th>user_type_id</th><th>max_length</th><th>precision</th><th>scale</th><th>collation_name</th><th>is_nullable</th><th>is_ansi_padded</th><th>is_rowguidcol</th><th>is_identity</th><th>is_computed</th><th>is_filestream</th><th>is_replicated</th><th>is_non_sql_subscribed</th><th>is_merge_published</th><th>is_dts_replicated</th><th>is_xml_document</th><th>xml_collection_id</th><th>default_object_id</th><th>rule_object_id</th><th>is_sparse</th><th>is_column_set</th><th>generated_always_type</th><th>generated_always_type_desc</th><th>encryption_type</th><th>encryption_type_desc</th><th>encryption_algorithm_name</th><th>column_encryption_key_id</th><th>column_encryption_key_database_name</th><th>is_hidden</th><th>is_masked</th><th>graph_type</th><th>graph_type_desc</th><th>is_data_deletion_filter_column</th></tr>",
                            "<tr><td>901578250</td><td>EmployeeID</td><td>1</td><td>56</td><td>56</td><td>4</td><td>10</td><td>0</td><td>NULL</td><td>0</td><td>0</td><td>0</td><td>0</td><td>0</td><td>0</td><td>0</td><td>0</td><td>0</td><td>0</td><td>0</td><td>0</td><td>0</td><td>0</td><td>0</td><td>0</td><td>0</td><td>NOT_APPLICABLE</td><td>NULL</td><td>NULL</td><td>NULL</td><td>NULL</td><td>NULL</td><td>0</td><td>0</td><td>NULL</td><td>NULL</td><td>0</td></tr>",
                            "<tr><td>901578250</td><td>EmployeeName</td><td>2</td><td>167</td><td>167</td><td>50</td><td>0</td><td>0</td><td>SQL_Latin1_General_CP1_CI_AS</td><td>1</td><td>1</td><td>0</td><td>0</td><td>0</td><td>0</td><td>0</td><td>0</td><td>0</td><td>0</td><td>0</td><td>0</td><td>0</td><td>0</td><td>0</td><td>0</td><td>0</td><td>NOT_APPLICABLE</td><td>NULL</td><td>NULL</td><td>NULL</td><td>NULL</td><td>NULL</td><td>0</td><td>0</td><td>NULL</td><td>NULL</td><td>0</td></tr>",
                            "<tr><td>901578250</td><td>Salary</td><td>3</td><td>106</td><td>106</td><td>9</td><td>10</td><td>2</td><td>NULL</td><td>1</td><td>0</td><td>0</td><td>0</td><td>0</td><td>0</td><td>0</td><td>0</td><td>0</td><td>0</td><td>0</td><td>0</td><td>0</td><td>0</td><td>0</td><td>0</td><td>0</td><td>NOT_APPLICABLE</td><td>NULL</td><td>NULL</td><td>NULL</td><td>NULL</td><td>NULL</td><td>0</td><td>0</td><td>NULL</td><td>NULL</td><td>0</td></tr>",
                            "</table>"
                        ]
                    }
                }
            ],
            "execution_count": 7
        },
        {
            "cell_type": "markdown",
            "source": [
                "**Q3. Identify Primary Key Columns:**\n",
                "   - Use system tables to identify columns that constitute the primary key of a table."
            ],
            "metadata": {
                "language": "sql",
                "azdata_cell_guid": "1b7082d6-64be-4c6c-a280-514aefe1eb98"
            },
            "attachments": {}
        },
        {
            "cell_type": "code",
            "source": [
                "-- Executing Query\n",
                "SELECT *\n",
                "FROM sys.indexes\n",
                "WHERE object_id = OBJECT_ID('Employees') AND is_primary_key = 1;"
            ],
            "metadata": {
                "language": "sql",
                "azdata_cell_guid": "4f8f9246-c7d3-4273-a1bf-cb2b19a417b8"
            },
            "outputs": [
                {
                    "output_type": "display_data",
                    "data": {
                        "text/html": "(1 row affected)"
                    },
                    "metadata": {}
                },
                {
                    "output_type": "display_data",
                    "data": {
                        "text/html": "Total execution time: 00:00:00.082"
                    },
                    "metadata": {}
                },
                {
                    "output_type": "execute_result",
                    "metadata": {},
                    "execution_count": 8,
                    "data": {
                        "application/vnd.dataresource+json": {
                            "schema": {
                                "fields": [
                                    {
                                        "name": "object_id"
                                    },
                                    {
                                        "name": "name"
                                    },
                                    {
                                        "name": "index_id"
                                    },
                                    {
                                        "name": "type"
                                    },
                                    {
                                        "name": "type_desc"
                                    },
                                    {
                                        "name": "is_unique"
                                    },
                                    {
                                        "name": "data_space_id"
                                    },
                                    {
                                        "name": "ignore_dup_key"
                                    },
                                    {
                                        "name": "is_primary_key"
                                    },
                                    {
                                        "name": "is_unique_constraint"
                                    },
                                    {
                                        "name": "fill_factor"
                                    },
                                    {
                                        "name": "is_padded"
                                    },
                                    {
                                        "name": "is_disabled"
                                    },
                                    {
                                        "name": "is_hypothetical"
                                    },
                                    {
                                        "name": "is_ignored_in_optimization"
                                    },
                                    {
                                        "name": "allow_row_locks"
                                    },
                                    {
                                        "name": "allow_page_locks"
                                    },
                                    {
                                        "name": "has_filter"
                                    },
                                    {
                                        "name": "filter_definition"
                                    },
                                    {
                                        "name": "compression_delay"
                                    },
                                    {
                                        "name": "suppress_dup_key_messages"
                                    },
                                    {
                                        "name": "auto_created"
                                    },
                                    {
                                        "name": "optimize_for_sequential_key"
                                    }
                                ]
                            },
                            "data": [
                                {
                                    "object_id": "901578250",
                                    "name": "PK__Employee__7AD04FF14E5A7D04",
                                    "index_id": "1",
                                    "type": "1",
                                    "type_desc": "CLUSTERED",
                                    "is_unique": "1",
                                    "data_space_id": "1",
                                    "ignore_dup_key": "0",
                                    "is_primary_key": "1",
                                    "is_unique_constraint": "0",
                                    "fill_factor": "0",
                                    "is_padded": "0",
                                    "is_disabled": "0",
                                    "is_hypothetical": "0",
                                    "is_ignored_in_optimization": "0",
                                    "allow_row_locks": "1",
                                    "allow_page_locks": "1",
                                    "has_filter": "0",
                                    "filter_definition": "NULL",
                                    "compression_delay": "NULL",
                                    "suppress_dup_key_messages": "0",
                                    "auto_created": "0",
                                    "optimize_for_sequential_key": "0"
                                }
                            ]
                        },
                        "text/html": [
                            "<table>",
                            "<tr><th>object_id</th><th>name</th><th>index_id</th><th>type</th><th>type_desc</th><th>is_unique</th><th>data_space_id</th><th>ignore_dup_key</th><th>is_primary_key</th><th>is_unique_constraint</th><th>fill_factor</th><th>is_padded</th><th>is_disabled</th><th>is_hypothetical</th><th>is_ignored_in_optimization</th><th>allow_row_locks</th><th>allow_page_locks</th><th>has_filter</th><th>filter_definition</th><th>compression_delay</th><th>suppress_dup_key_messages</th><th>auto_created</th><th>optimize_for_sequential_key</th></tr>",
                            "<tr><td>901578250</td><td>PK__Employee__7AD04FF14E5A7D04</td><td>1</td><td>1</td><td>CLUSTERED</td><td>1</td><td>1</td><td>0</td><td>1</td><td>0</td><td>0</td><td>0</td><td>0</td><td>0</td><td>0</td><td>1</td><td>1</td><td>0</td><td>NULL</td><td>NULL</td><td>0</td><td>0</td><td>0</td></tr>",
                            "</table>"
                        ]
                    }
                }
            ],
            "execution_count": 8
        },
        {
            "cell_type": "markdown",
            "source": [
                "**Q4. Find Index Information:**\n",
                "   - Use system tables to find information about indexes on the `Employees` table.\n",
                ""
            ],
            "metadata": {
                "language": "sql",
                "azdata_cell_guid": "8f478f36-e432-4ba1-a69e-9886cd28e535"
            },
            "attachments": {}
        },
        {
            "cell_type": "code",
            "source": [
                "-- Executing Query\n",
                "SELECT *\n",
                "FROM sys.indexes\n",
                "WHERE object_id = OBJECT_ID('Employees');"
            ],
            "metadata": {
                "language": "sql",
                "azdata_cell_guid": "870439c9-5010-424d-acfa-334c6870a507"
            },
            "outputs": [
                {
                    "output_type": "display_data",
                    "data": {
                        "text/html": "(1 row affected)"
                    },
                    "metadata": {}
                },
                {
                    "output_type": "display_data",
                    "data": {
                        "text/html": "Total execution time: 00:00:00.059"
                    },
                    "metadata": {}
                },
                {
                    "output_type": "execute_result",
                    "metadata": {},
                    "execution_count": 9,
                    "data": {
                        "application/vnd.dataresource+json": {
                            "schema": {
                                "fields": [
                                    {
                                        "name": "object_id"
                                    },
                                    {
                                        "name": "name"
                                    },
                                    {
                                        "name": "index_id"
                                    },
                                    {
                                        "name": "type"
                                    },
                                    {
                                        "name": "type_desc"
                                    },
                                    {
                                        "name": "is_unique"
                                    },
                                    {
                                        "name": "data_space_id"
                                    },
                                    {
                                        "name": "ignore_dup_key"
                                    },
                                    {
                                        "name": "is_primary_key"
                                    },
                                    {
                                        "name": "is_unique_constraint"
                                    },
                                    {
                                        "name": "fill_factor"
                                    },
                                    {
                                        "name": "is_padded"
                                    },
                                    {
                                        "name": "is_disabled"
                                    },
                                    {
                                        "name": "is_hypothetical"
                                    },
                                    {
                                        "name": "is_ignored_in_optimization"
                                    },
                                    {
                                        "name": "allow_row_locks"
                                    },
                                    {
                                        "name": "allow_page_locks"
                                    },
                                    {
                                        "name": "has_filter"
                                    },
                                    {
                                        "name": "filter_definition"
                                    },
                                    {
                                        "name": "compression_delay"
                                    },
                                    {
                                        "name": "suppress_dup_key_messages"
                                    },
                                    {
                                        "name": "auto_created"
                                    },
                                    {
                                        "name": "optimize_for_sequential_key"
                                    }
                                ]
                            },
                            "data": [
                                {
                                    "object_id": "901578250",
                                    "name": "PK__Employee__7AD04FF14E5A7D04",
                                    "index_id": "1",
                                    "type": "1",
                                    "type_desc": "CLUSTERED",
                                    "is_unique": "1",
                                    "data_space_id": "1",
                                    "ignore_dup_key": "0",
                                    "is_primary_key": "1",
                                    "is_unique_constraint": "0",
                                    "fill_factor": "0",
                                    "is_padded": "0",
                                    "is_disabled": "0",
                                    "is_hypothetical": "0",
                                    "is_ignored_in_optimization": "0",
                                    "allow_row_locks": "1",
                                    "allow_page_locks": "1",
                                    "has_filter": "0",
                                    "filter_definition": "NULL",
                                    "compression_delay": "NULL",
                                    "suppress_dup_key_messages": "0",
                                    "auto_created": "0",
                                    "optimize_for_sequential_key": "0"
                                }
                            ]
                        },
                        "text/html": [
                            "<table>",
                            "<tr><th>object_id</th><th>name</th><th>index_id</th><th>type</th><th>type_desc</th><th>is_unique</th><th>data_space_id</th><th>ignore_dup_key</th><th>is_primary_key</th><th>is_unique_constraint</th><th>fill_factor</th><th>is_padded</th><th>is_disabled</th><th>is_hypothetical</th><th>is_ignored_in_optimization</th><th>allow_row_locks</th><th>allow_page_locks</th><th>has_filter</th><th>filter_definition</th><th>compression_delay</th><th>suppress_dup_key_messages</th><th>auto_created</th><th>optimize_for_sequential_key</th></tr>",
                            "<tr><td>901578250</td><td>PK__Employee__7AD04FF14E5A7D04</td><td>1</td><td>1</td><td>CLUSTERED</td><td>1</td><td>1</td><td>0</td><td>1</td><td>0</td><td>0</td><td>0</td><td>0</td><td>0</td><td>0</td><td>1</td><td>1</td><td>0</td><td>NULL</td><td>NULL</td><td>0</td><td>0</td><td>0</td></tr>",
                            "</table>"
                        ]
                    }
                }
            ],
            "execution_count": 9
        },
        {
            "cell_type": "markdown",
            "source": [
                "**9.Homework Assignment:**\n",
                "\n",
                "1. **Retrieve Index Columns:**\n",
                "   - Create a query that retrieves the columns included in the indexes for the `Employees` table.\n",
                "\n",
                "2. **Explore Foreign Keys:**\n",
                "   - Investigate the system tables to find information about foreign keys in the database.\n",
                "\n",
                "3. **Identify Unique Constraints:**\n",
                "   - Use system tables to identify unique constraints on tables within the database.\n",
                "\n",
                "4. **Schema Exploration:**\n",
                "   - Query the system tables to explore information about schemas present in the database.\n",
                "\n",
                "5. **System Table Modification Impact:**\n",
                "   - Research and explain the potential impact of directly modifying system tables."
            ],
            "metadata": {
                "language": "sql",
                "azdata_cell_guid": "5e703906-2d4b-4ab8-926b-adcdb200a32d"
            },
            "attachments": {}
        },
        {
            "cell_type": "markdown",
            "source": [
                "**10. Some Facts:**\n",
                "\n",
                "- System tables provide a wealth of information about the database, but relying solely on them without understanding the high-level structure of the database can lead to misinterpretation.\n",
                "\n",
                "- Some system views, such as `sys.objects`, `sys.columns`, and `sys.indexes`, are commonly used for database exploration and optimization.\n",
                "\n",
                "- The information provided by system tables is crucial for database administrators to monitor and maintain the health of a SQL Server database."
            ],
            "metadata": {
                "language": "sql",
                "azdata_cell_guid": "3cbbac17-b97d-41d4-9eac-7bdd6378dc92"
            },
            "attachments": {}
        }
    ]
}