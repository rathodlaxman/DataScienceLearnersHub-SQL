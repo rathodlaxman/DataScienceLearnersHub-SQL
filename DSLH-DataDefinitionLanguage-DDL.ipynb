{
    "metadata": {
        "kernelspec": {
            "name": "SQL",
            "display_name": "SQL",
            "language": "sql"
        },
        "language_info": {
            "name": "sql",
            "version": ""
        }
    },
    "nbformat_minor": 2,
    "nbformat": 4,
    "cells": [
        {
            "cell_type": "markdown",
            "source": [
                "# **Data Science Learners Hub**\n",
                "\n",
                "**Module : SQL**\n",
                "\n",
                "**Topic :** Data Definition Language (DDL)\n",
                "\n",
                "**email** : [datasciencelearnershub@gmail.com](mailto:datasciencelearnershub@gmail.com)"
            ],
            "metadata": {
                "azdata_cell_guid": "b4d64f80-8952-4dac-a750-2d4d0f8f30a9"
            },
            "attachments": {}
        },
        {
            "cell_type": "code",
            "source": [
                "USE DataScienceLearnersHub"
            ],
            "metadata": {
                "azdata_cell_guid": "7a8b62b3-941b-45b3-8928-8af9276d2bfc",
                "language": "sql"
            },
            "outputs": [
                {
                    "output_type": "display_data",
                    "data": {
                        "text/html": "Commands completed successfully."
                    },
                    "metadata": {}
                },
                {
                    "output_type": "display_data",
                    "data": {
                        "text/html": "Total execution time: 00:00:00.003"
                    },
                    "metadata": {}
                }
            ],
            "execution_count": 2
        },
        {
            "cell_type": "markdown",
            "source": [
                "### **1\\. Create a simple table:**\n",
                "\n",
                "  \n",
                "\n",
                "- Let's create a table named \\`Employees\\` to illustrate examples for DDL."
            ],
            "metadata": {
                "language": "sql",
                "azdata_cell_guid": "2abe10ab-cf14-4a3b-aa14-f4a6bda4505b"
            },
            "attachments": {}
        },
        {
            "cell_type": "code",
            "source": [
                "CREATE TABLE tblEmployees (\n",
                "    EmployeeID INT PRIMARY KEY,\n",
                "    FirstName VARCHAR(50),\n",
                "    LastName VARCHAR(50),\n",
                "    Department VARCHAR(50),\n",
                "    Salary DECIMAL(10, 2)\n",
                ");"
            ],
            "metadata": {
                "language": "sql",
                "azdata_cell_guid": "4aaad78a-c665-46b2-8d9d-653044cd524b"
            },
            "outputs": [
                {
                    "output_type": "display_data",
                    "data": {
                        "text/html": "Commands completed successfully."
                    },
                    "metadata": {}
                },
                {
                    "output_type": "display_data",
                    "data": {
                        "text/html": "Total execution time: 00:00:00.042"
                    },
                    "metadata": {}
                }
            ],
            "execution_count": 4
        },
        {
            "cell_type": "markdown",
            "source": [
                "### **2\\. Insert queries:**\n",
                "\n",
                "  \n",
                "\n",
                "- Insert some sample data into the table:"
            ],
            "metadata": {
                "language": "sql",
                "azdata_cell_guid": "d5e1a947-09b7-4aaf-bc57-41641ce8dc58"
            },
            "attachments": {}
        },
        {
            "cell_type": "code",
            "source": [
                "INSERT INTO tblEmployees VALUES (1, 'Laxman', 'Rathod', 'IT', 60000.00);\n",
                "INSERT INTO tblEmployees VALUES (2, 'Abhiram', 'A', 'HR', 50000.00);\n",
                "INSERT INTO tblEmployees VALUES (3, 'Padma', 'Chauhan', 'Finance', 70000.00);\n",
                "INSERT INTO tblEmployees VALUES (4, 'Naresh', 'M', 'IT', 55000.00);\n",
                "INSERT INTO tblEmployees VALUES (5, 'Hari', 'Singh', 'Marketing', 65000.00);"
            ],
            "metadata": {
                "language": "sql",
                "azdata_cell_guid": "00b36243-8618-43e1-8454-76fceafbc0e0"
            },
            "outputs": [
                {
                    "output_type": "display_data",
                    "data": {
                        "text/html": "(1 row affected)"
                    },
                    "metadata": {}
                },
                {
                    "output_type": "display_data",
                    "data": {
                        "text/html": "(1 row affected)"
                    },
                    "metadata": {}
                },
                {
                    "output_type": "display_data",
                    "data": {
                        "text/html": "(1 row affected)"
                    },
                    "metadata": {}
                },
                {
                    "output_type": "display_data",
                    "data": {
                        "text/html": "(1 row affected)"
                    },
                    "metadata": {}
                },
                {
                    "output_type": "display_data",
                    "data": {
                        "text/html": "(1 row affected)"
                    },
                    "metadata": {}
                },
                {
                    "output_type": "display_data",
                    "data": {
                        "text/html": "Total execution time: 00:00:00.035"
                    },
                    "metadata": {}
                }
            ],
            "execution_count": 6
        },
        {
            "cell_type": "markdown",
            "source": [
                "### **3\\. Data Definition Language (DDL) in MS SQL Server:**\n",
                "\n",
                "  \n",
                "\n",
                "- Data Definition Language (DDL) in SQL Server is a set of commands used to define, modify, and delete database structures. \n",
                "- Common DDL commands include CREATE, ALTER, and DROP."
            ],
            "metadata": {
                "language": "sql",
                "azdata_cell_guid": "d5cea3ae-1147-4c72-961f-fdfa9a710562"
            },
            "attachments": {}
        },
        {
            "cell_type": "markdown",
            "source": [
                "### **4\\. Types of DDL Commands:**"
            ],
            "metadata": {
                "language": "sql",
                "azdata_cell_guid": "21647410-d888-444c-b369-43bb6ab8f42a"
            },
            "attachments": {}
        },
        {
            "cell_type": "markdown",
            "source": [
                "**a. CREATE TABLE:**\n",
                "\n",
                "- Creates a new table in the database.\n",
                "\n",
                "**Syntax :**\n",
                "\n",
                "  \n",
                "\n",
                "  CREATE TABLE table\\_name (\n",
                "\n",
                "      column1 datatype,\n",
                "\n",
                "      column2 datatype,\n",
                "\n",
                "      ...\n",
                "\n",
                "  );"
            ],
            "metadata": {
                "language": "sql",
                "azdata_cell_guid": "587fdb46-ddc3-4231-a58f-a9e0e41cce61"
            },
            "attachments": {}
        },
        {
            "cell_type": "code",
            "source": [
                " --  This command creates a new table named `Departments` with columns `DepartmentID` and `DepartmentName`.\n",
                " \n",
                " CREATE TABLE Departments (\n",
                "      DepartmentID INT PRIMARY KEY,\n",
                "      DepartmentName VARCHAR(50)\n",
                "  );"
            ],
            "metadata": {
                "language": "sql",
                "azdata_cell_guid": "9b888345-0191-4124-9ef5-126e770c7270"
            },
            "outputs": [
                {
                    "output_type": "display_data",
                    "data": {
                        "text/html": "Commands completed successfully."
                    },
                    "metadata": {}
                },
                {
                    "output_type": "display_data",
                    "data": {
                        "text/html": "Total execution time: 00:00:00.044"
                    },
                    "metadata": {}
                }
            ],
            "execution_count": 7
        },
        {
            "cell_type": "markdown",
            "source": [
                "**b. ALTER TABLE:**\n",
                "\n",
                "- Modifies an existing table structure, such as adding, modifying, or dropping columns.\n",
                "\n",
                "**Syntax :**\n",
                "\n",
                "  ALTER TABLE table\\_name\n",
                "\n",
                "  \\[ADD column\\_name datatype\\]\n",
                "\n",
                "  \\[ALTER COLUMN column\\_name datatype\\]\n",
                "\n",
                "  \\[DROP COLUMN column\\_name\\];"
            ],
            "metadata": {
                "language": "sql",
                "azdata_cell_guid": "106f2071-ff38-4eab-954e-3b2ee99edcfb"
            },
            "attachments": {}
        },
        {
            "cell_type": "code",
            "source": [
                "SELECT * FROM tblEmployees"
            ],
            "metadata": {
                "language": "sql",
                "azdata_cell_guid": "06a4e1ff-8a8a-4250-b3a8-31b2fb15ae3a"
            },
            "outputs": [
                {
                    "output_type": "display_data",
                    "data": {
                        "text/html": "(5 rows affected)"
                    },
                    "metadata": {}
                },
                {
                    "output_type": "display_data",
                    "data": {
                        "text/html": "Total execution time: 00:00:00.034"
                    },
                    "metadata": {}
                },
                {
                    "output_type": "execute_result",
                    "execution_count": 8,
                    "data": {
                        "application/vnd.dataresource+json": {
                            "schema": {
                                "fields": [
                                    {
                                        "name": "EmployeeID"
                                    },
                                    {
                                        "name": "FirstName"
                                    },
                                    {
                                        "name": "LastName"
                                    },
                                    {
                                        "name": "Department"
                                    },
                                    {
                                        "name": "Salary"
                                    }
                                ]
                            },
                            "data": [
                                {
                                    "EmployeeID": "1",
                                    "FirstName": "Laxman",
                                    "LastName": "Rathod",
                                    "Department": "IT",
                                    "Salary": "60000.00"
                                },
                                {
                                    "EmployeeID": "2",
                                    "FirstName": "Abhiram",
                                    "LastName": "A",
                                    "Department": "HR",
                                    "Salary": "50000.00"
                                },
                                {
                                    "EmployeeID": "3",
                                    "FirstName": "Padma",
                                    "LastName": "Chauhan",
                                    "Department": "Finance",
                                    "Salary": "70000.00"
                                },
                                {
                                    "EmployeeID": "4",
                                    "FirstName": "Naresh",
                                    "LastName": "M",
                                    "Department": "IT",
                                    "Salary": "55000.00"
                                },
                                {
                                    "EmployeeID": "5",
                                    "FirstName": "Hari",
                                    "LastName": "Singh",
                                    "Department": "Marketing",
                                    "Salary": "65000.00"
                                }
                            ]
                        },
                        "text/html": "<table><tr><th>EmployeeID</th><th>FirstName</th><th>LastName</th><th>Department</th><th>Salary</th></tr><tr><td>1</td><td>Laxman</td><td>Rathod</td><td>IT</td><td>60000.00</td></tr><tr><td>2</td><td>Abhiram</td><td>A</td><td>HR</td><td>50000.00</td></tr><tr><td>3</td><td>Padma</td><td>Chauhan</td><td>Finance</td><td>70000.00</td></tr><tr><td>4</td><td>Naresh</td><td>M</td><td>IT</td><td>55000.00</td></tr><tr><td>5</td><td>Hari</td><td>Singh</td><td>Marketing</td><td>65000.00</td></tr></table>"
                    },
                    "metadata": {}
                }
            ],
            "execution_count": 8
        },
        {
            "cell_type": "code",
            "source": [
                "  -- Add a new column\n",
                "  ALTER TABLE tblEmployees\n",
                "  ADD Email VARCHAR(100);"
            ],
            "metadata": {
                "language": "sql",
                "azdata_cell_guid": "bf1251da-519a-463c-8f95-c26842de048c"
            },
            "outputs": [
                {
                    "output_type": "display_data",
                    "data": {
                        "text/html": "Commands completed successfully."
                    },
                    "metadata": {}
                },
                {
                    "output_type": "display_data",
                    "data": {
                        "text/html": "Total execution time: 00:00:00.040"
                    },
                    "metadata": {}
                }
            ],
            "execution_count": 14
        },
        {
            "cell_type": "code",
            "source": [
                "SELECT * FROM tblEmployees"
            ],
            "metadata": {
                "language": "sql",
                "azdata_cell_guid": "25fd10d8-049b-4724-94ed-2f7d33f61ead"
            },
            "outputs": [
                {
                    "output_type": "display_data",
                    "data": {
                        "text/html": "(5 rows affected)"
                    },
                    "metadata": {}
                },
                {
                    "output_type": "display_data",
                    "data": {
                        "text/html": "Total execution time: 00:00:00.030"
                    },
                    "metadata": {}
                },
                {
                    "output_type": "execute_result",
                    "execution_count": 15,
                    "data": {
                        "application/vnd.dataresource+json": {
                            "schema": {
                                "fields": [
                                    {
                                        "name": "EmployeeID"
                                    },
                                    {
                                        "name": "FirstName"
                                    },
                                    {
                                        "name": "LastName"
                                    },
                                    {
                                        "name": "Department"
                                    },
                                    {
                                        "name": "Salary"
                                    },
                                    {
                                        "name": "Email"
                                    }
                                ]
                            },
                            "data": [
                                {
                                    "EmployeeID": "1",
                                    "FirstName": "Laxman",
                                    "LastName": "Rathod",
                                    "Department": "IT",
                                    "Salary": "60000.00",
                                    "Email": "NULL"
                                },
                                {
                                    "EmployeeID": "2",
                                    "FirstName": "Abhiram",
                                    "LastName": "A",
                                    "Department": "HR",
                                    "Salary": "50000.00",
                                    "Email": "NULL"
                                },
                                {
                                    "EmployeeID": "3",
                                    "FirstName": "Padma",
                                    "LastName": "Chauhan",
                                    "Department": "Finance",
                                    "Salary": "70000.00",
                                    "Email": "NULL"
                                },
                                {
                                    "EmployeeID": "4",
                                    "FirstName": "Naresh",
                                    "LastName": "M",
                                    "Department": "IT",
                                    "Salary": "55000.00",
                                    "Email": "NULL"
                                },
                                {
                                    "EmployeeID": "5",
                                    "FirstName": "Hari",
                                    "LastName": "Singh",
                                    "Department": "Marketing",
                                    "Salary": "65000.00",
                                    "Email": "NULL"
                                }
                            ]
                        },
                        "text/html": "<table><tr><th>EmployeeID</th><th>FirstName</th><th>LastName</th><th>Department</th><th>Salary</th><th>Email</th></tr><tr><td>1</td><td>Laxman</td><td>Rathod</td><td>IT</td><td>60000.00</td><td>NULL</td></tr><tr><td>2</td><td>Abhiram</td><td>A</td><td>HR</td><td>50000.00</td><td>NULL</td></tr><tr><td>3</td><td>Padma</td><td>Chauhan</td><td>Finance</td><td>70000.00</td><td>NULL</td></tr><tr><td>4</td><td>Naresh</td><td>M</td><td>IT</td><td>55000.00</td><td>NULL</td></tr><tr><td>5</td><td>Hari</td><td>Singh</td><td>Marketing</td><td>65000.00</td><td>NULL</td></tr></table>"
                    },
                    "metadata": {}
                }
            ],
            "execution_count": 15
        },
        {
            "cell_type": "code",
            "source": [
                "  -- Modify column data type\n",
                "ALTER TABLE tblEmployees\n",
                "ALTER COLUMN Email VARCHAR(100);\n",
                ""
            ],
            "metadata": {
                "language": "sql",
                "azdata_cell_guid": "79f04325-129e-4736-8360-5bdb963dc9c9"
            },
            "outputs": [
                {
                    "output_type": "display_data",
                    "data": {
                        "text/html": "Commands completed successfully."
                    },
                    "metadata": {}
                },
                {
                    "output_type": "display_data",
                    "data": {
                        "text/html": "Total execution time: 00:00:00.024"
                    },
                    "metadata": {}
                }
            ],
            "execution_count": 3
        },
        {
            "cell_type": "markdown",
            "source": [
                "**c. DROP TABLE**\n",
                "\n",
                "- <span style=\"color: rgb(0, 0, 0); font-family: &quot;Helvetica Neue&quot;; font-size: 13px;\">Deletes an existing table and its data.</span>\n",
                "\n",
                "<span style=\"font-size: 13px;\"><b>Syntax :</b></span>\n",
                "\n",
                " DROP TABLE table\\_name;"
            ],
            "metadata": {
                "language": "",
                "azdata_cell_guid": "e1f943b3-fbde-494d-bb27-43744e47aea6"
            },
            "attachments": {}
        },
        {
            "cell_type": "code",
            "source": [
                "DROP TABLE Departments;\n",
                "--   This command deletes the `Departments` table."
            ],
            "metadata": {
                "azdata_cell_guid": "ed766966-979d-4a31-8b68-f8951f44e148",
                "language": "sql"
            },
            "outputs": [
                {
                    "output_type": "display_data",
                    "data": {
                        "text/html": "Commands completed successfully."
                    },
                    "metadata": {}
                },
                {
                    "output_type": "display_data",
                    "data": {
                        "text/html": "Total execution time: 00:00:00.037"
                    },
                    "metadata": {}
                }
            ],
            "execution_count": 4
        },
        {
            "cell_type": "markdown",
            "source": [
                "**d. TRUNCATE TABLE**\n",
                "\n",
                "- Removes all rows from a table but retains the table structure for future use\n",
                "\n",
                "<span style=\"font-size: 13px;\"><b>Syntax :</b></span>\n",
                "\n",
                "  TRUNCATE TABLE table\\_name;"
            ],
            "metadata": {
                "language": "sql",
                "azdata_cell_guid": "8cc222f1-8fc8-4547-8e55-df329bdcaa77"
            },
            "attachments": {}
        },
        {
            "cell_type": "code",
            "source": [
                "SELECT * FROM tblEmployees"
            ],
            "metadata": {
                "language": "sql",
                "azdata_cell_guid": "cc38a4bd-bc0d-4f81-b4d0-9b37ac5c6d43"
            },
            "outputs": [
                {
                    "output_type": "display_data",
                    "data": {
                        "text/html": "(5 rows affected)"
                    },
                    "metadata": {}
                },
                {
                    "output_type": "display_data",
                    "data": {
                        "text/html": "Total execution time: 00:00:00.059"
                    },
                    "metadata": {}
                },
                {
                    "output_type": "execute_result",
                    "metadata": {},
                    "execution_count": 5,
                    "data": {
                        "application/vnd.dataresource+json": {
                            "schema": {
                                "fields": [
                                    {
                                        "name": "EmployeeID"
                                    },
                                    {
                                        "name": "FirstName"
                                    },
                                    {
                                        "name": "LastName"
                                    },
                                    {
                                        "name": "Department"
                                    },
                                    {
                                        "name": "Salary"
                                    },
                                    {
                                        "name": "Email"
                                    }
                                ]
                            },
                            "data": [
                                {
                                    "EmployeeID": "1",
                                    "FirstName": "Laxman",
                                    "LastName": "Rathod",
                                    "Department": "IT",
                                    "Salary": "60000.00",
                                    "Email": "NULL"
                                },
                                {
                                    "EmployeeID": "2",
                                    "FirstName": "Abhiram",
                                    "LastName": "A",
                                    "Department": "HR",
                                    "Salary": "50000.00",
                                    "Email": "NULL"
                                },
                                {
                                    "EmployeeID": "3",
                                    "FirstName": "Padma",
                                    "LastName": "Chauhan",
                                    "Department": "Finance",
                                    "Salary": "70000.00",
                                    "Email": "NULL"
                                },
                                {
                                    "EmployeeID": "4",
                                    "FirstName": "Naresh",
                                    "LastName": "M",
                                    "Department": "IT",
                                    "Salary": "55000.00",
                                    "Email": "NULL"
                                },
                                {
                                    "EmployeeID": "5",
                                    "FirstName": "Hari",
                                    "LastName": "Singh",
                                    "Department": "Marketing",
                                    "Salary": "65000.00",
                                    "Email": "NULL"
                                }
                            ]
                        },
                        "text/html": [
                            "<table>",
                            "<tr><th>EmployeeID</th><th>FirstName</th><th>LastName</th><th>Department</th><th>Salary</th><th>Email</th></tr>",
                            "<tr><td>1</td><td>Laxman</td><td>Rathod</td><td>IT</td><td>60000.00</td><td>NULL</td></tr>",
                            "<tr><td>2</td><td>Abhiram</td><td>A</td><td>HR</td><td>50000.00</td><td>NULL</td></tr>",
                            "<tr><td>3</td><td>Padma</td><td>Chauhan</td><td>Finance</td><td>70000.00</td><td>NULL</td></tr>",
                            "<tr><td>4</td><td>Naresh</td><td>M</td><td>IT</td><td>55000.00</td><td>NULL</td></tr>",
                            "<tr><td>5</td><td>Hari</td><td>Singh</td><td>Marketing</td><td>65000.00</td><td>NULL</td></tr>",
                            "</table>"
                        ]
                    }
                }
            ],
            "execution_count": 5
        },
        {
            "cell_type": "code",
            "source": [
                "--   This command removes all rows from the `Employees` table, but the table structure remains intact.\n",
                "\n",
                "TRUNCATE TABLE tblEmployees;"
            ],
            "metadata": {
                "language": "sql",
                "azdata_cell_guid": "cb2d50f8-6587-4a59-8aca-b8a669aa1751"
            },
            "outputs": [
                {
                    "output_type": "display_data",
                    "data": {
                        "text/html": "Commands completed successfully."
                    },
                    "metadata": {}
                },
                {
                    "output_type": "display_data",
                    "data": {
                        "text/html": "Total execution time: 00:00:00.019"
                    },
                    "metadata": {}
                }
            ],
            "execution_count": 6
        },
        {
            "cell_type": "code",
            "source": [
                "SELECT * FROM tblEmployees"
            ],
            "metadata": {
                "language": "sql",
                "azdata_cell_guid": "735d4c4b-b646-4099-8609-06848155f32a"
            },
            "outputs": [
                {
                    "output_type": "display_data",
                    "data": {
                        "text/html": "(0 rows affected)"
                    },
                    "metadata": {}
                },
                {
                    "output_type": "display_data",
                    "data": {
                        "text/html": "Total execution time: 00:00:00.006"
                    },
                    "metadata": {}
                },
                {
                    "output_type": "execute_result",
                    "metadata": {},
                    "execution_count": 7,
                    "data": {
                        "application/vnd.dataresource+json": {
                            "schema": {
                                "fields": [
                                    {
                                        "name": "EmployeeID"
                                    },
                                    {
                                        "name": "FirstName"
                                    },
                                    {
                                        "name": "LastName"
                                    },
                                    {
                                        "name": "Department"
                                    },
                                    {
                                        "name": "Salary"
                                    },
                                    {
                                        "name": "Email"
                                    }
                                ]
                            },
                            "data": []
                        },
                        "text/html": [
                            "<table>",
                            "<tr><th>EmployeeID</th><th>FirstName</th><th>LastName</th><th>Department</th><th>Salary</th><th>Email</th></tr>",
                            "</table>"
                        ]
                    }
                }
            ],
            "execution_count": 7
        },
        {
            "cell_type": "markdown",
            "source": [
                "**e. RENAME**\n",
                "\n",
                "- Renames an existing table or column.\n",
                "    \n",
                "\n",
                "<span style=\"font-size: 13px;\"><b>Syntax</b> :&nbsp;</span>   <span style=\"color: rgb(0, 0, 0); font-family: &quot;Helvetica Neue&quot;; font-size: 13px;\">sp_rename '[OLD_NAME]', '[NEW_NAME]';</span>"
            ],
            "metadata": {
                "language": "sql",
                "azdata_cell_guid": "00b73735-952f-4998-8894-31d5bc85e8f8"
            },
            "attachments": {}
        },
        {
            "cell_type": "code",
            "source": [
                "  sp_rename 'tblEmployees', 'tblEmployeesNew';"
            ],
            "metadata": {
                "language": "sql",
                "azdata_cell_guid": "80d42b07-27a5-4303-8144-b9eec8ca1a2c"
            },
            "outputs": [
                {
                    "output_type": "display_data",
                    "data": {
                        "text/html": "Caution: Changing any part of an object name could break scripts and stored procedures."
                    },
                    "metadata": {}
                },
                {
                    "output_type": "display_data",
                    "data": {
                        "text/html": "Total execution time: 00:00:00.190"
                    },
                    "metadata": {}
                }
            ],
            "execution_count": 8
        },
        {
            "cell_type": "code",
            "source": [
                "SELECT * FROM tblEmployees"
            ],
            "metadata": {
                "language": "sql",
                "azdata_cell_guid": "aa78d56c-90c6-4938-afa5-22e552cca73f"
            },
            "outputs": [
                {
                    "output_type": "error",
                    "evalue": "Msg 208, Level 16, State 1, Line 1\nInvalid object name 'tblEmployees'.",
                    "ename": "",
                    "traceback": []
                },
                {
                    "output_type": "display_data",
                    "data": {
                        "text/html": "Total execution time: 00:00:00.014"
                    },
                    "metadata": {}
                }
            ],
            "execution_count": 9
        },
        {
            "cell_type": "code",
            "source": [
                "SELECT * FROM tblEmployeesNew"
            ],
            "metadata": {
                "language": "sql",
                "azdata_cell_guid": "d226da80-5ffa-4262-887e-e3f65f0af2cb"
            },
            "outputs": [
                {
                    "output_type": "display_data",
                    "data": {
                        "text/html": "(0 rows affected)"
                    },
                    "metadata": {}
                },
                {
                    "output_type": "display_data",
                    "data": {
                        "text/html": "Total execution time: 00:00:00.007"
                    },
                    "metadata": {}
                },
                {
                    "output_type": "execute_result",
                    "metadata": {},
                    "execution_count": 10,
                    "data": {
                        "application/vnd.dataresource+json": {
                            "schema": {
                                "fields": [
                                    {
                                        "name": "EmployeeID"
                                    },
                                    {
                                        "name": "FirstName"
                                    },
                                    {
                                        "name": "LastName"
                                    },
                                    {
                                        "name": "Department"
                                    },
                                    {
                                        "name": "Salary"
                                    },
                                    {
                                        "name": "Email"
                                    }
                                ]
                            },
                            "data": []
                        },
                        "text/html": [
                            "<table>",
                            "<tr><th>EmployeeID</th><th>FirstName</th><th>LastName</th><th>Department</th><th>Salary</th><th>Email</th></tr>",
                            "</table>"
                        ]
                    }
                }
            ],
            "execution_count": 10
        },
        {
            "cell_type": "markdown",
            "source": [
                "### **5\\. Practical application of DDL:**\n",
                "\n",
                "  \n",
                "\n",
                "DDL commands are essential for database schema management. In real-world scenarios, you use DDL to:\n",
                "\n",
                "  \n",
                "\n",
                "\\- Create tables to store data.\n",
                "\n",
                "\\- Modify tables by adding, modifying, or dropping columns.\n",
                "\n",
                "\\- Delete tables when they are no longer needed.\n",
                "\n",
                "\\- Create or modify indexes, constraints, and other database objects."
            ],
            "metadata": {
                "language": "sql",
                "azdata_cell_guid": "749fa55f-0f6d-4938-a65e-4173cb58aaa9"
            },
            "attachments": {}
        },
        {
            "cell_type": "markdown",
            "source": [
                "### **6\\. Peculiarities and Considerations:**\n",
                "\n",
                "  \n",
                "\n",
                "\\- DDL commands are generally used by database administrators to define and manage the database structure.\n",
                "\n",
                "\\- Be cautious when using DROP commands, as they permanently delete database objects."
            ],
            "metadata": {
                "language": "",
                "azdata_cell_guid": "6c782c0e-9f14-4540-a3ce-bb8d2091151e"
            },
            "attachments": {}
        },
        {
            "cell_type": "markdown",
            "source": [
                "### **7\\. Common mistakes:**\n",
                "\n",
                "  \n",
                "\n",
                "\\- Forgetting to specify the data type for a column when creating a table.\n",
                "\n",
                "\\- Misplacing commas or semicolons in the syntax.\n",
                "\n",
                "\\- Not using proper permissions to execute DDL commands."
            ],
            "metadata": {
                "azdata_cell_guid": "8034a703-b76e-4249-8544-b3b4ff35cc1a"
            },
            "attachments": {}
        }
    ]
}