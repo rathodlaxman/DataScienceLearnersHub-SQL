{
    "metadata": {
        "kernelspec": {
            "name": "SQL",
            "display_name": "SQL",
            "language": "sql"
        },
        "language_info": {
            "name": "sql",
            "version": ""
        }
    },
    "nbformat_minor": 2,
    "nbformat": 4,
    "cells": [
        {
            "cell_type": "markdown",
            "source": [
                "# **Data Science Learners Hub**\n",
                "\n",
                "**Module : SQL**\n",
                "\n",
                "**Topic :** Data Definition Language (DDL)\n",
                "\n",
                "**email** : [datasciencelearnershub@gmail.com](mailto:datasciencelearnershub@gmail.com)"
            ],
            "metadata": {
                "azdata_cell_guid": "b4d64f80-8952-4dac-a750-2d4d0f8f30a9"
            },
            "attachments": {}
        },
        {
            "cell_type": "code",
            "source": [
                "USE DataScienceLearnersHub"
            ],
            "metadata": {
                "azdata_cell_guid": "7a8b62b3-941b-45b3-8928-8af9276d2bfc",
                "language": "sql"
            },
            "outputs": [
                {
                    "output_type": "display_data",
                    "data": {
                        "text/html": "Commands completed successfully."
                    },
                    "metadata": {}
                },
                {
                    "output_type": "display_data",
                    "data": {
                        "text/html": "Total execution time: 00:00:00.001"
                    },
                    "metadata": {}
                }
            ],
            "execution_count": 1
        },
        {
            "cell_type": "markdown",
            "source": [
                "### **1\\. Create a simple table:**\n",
                "\n",
                "  \n",
                "\n",
                "- Let's create a table named \\`Employees\\` to illustrate examples for DDL."
            ],
            "metadata": {
                "language": "sql",
                "azdata_cell_guid": "2abe10ab-cf14-4a3b-aa14-f4a6bda4505b"
            },
            "attachments": {}
        },
        {
            "cell_type": "code",
            "source": [
                "CREATE TABLE tblEmployees (\n",
                "    EmployeeID INT PRIMARY KEY,\n",
                "    FirstName VARCHAR(50),\n",
                "    LastName VARCHAR(50),\n",
                "    Department VARCHAR(50),\n",
                "    Salary DECIMAL(10, 2)\n",
                ");"
            ],
            "metadata": {
                "language": "sql",
                "azdata_cell_guid": "4aaad78a-c665-46b2-8d9d-653044cd524b"
            },
            "outputs": [
                {
                    "output_type": "display_data",
                    "data": {
                        "text/html": "Commands completed successfully."
                    },
                    "metadata": {}
                },
                {
                    "output_type": "display_data",
                    "data": {
                        "text/html": "Total execution time: 00:00:00.042"
                    },
                    "metadata": {}
                }
            ],
            "execution_count": 4
        },
        {
            "cell_type": "markdown",
            "source": [
                "### **2\\. Insert queries:**\n",
                "\n",
                "  \n",
                "\n",
                "- Insert some sample data into the table:"
            ],
            "metadata": {
                "language": "sql",
                "azdata_cell_guid": "d5e1a947-09b7-4aaf-bc57-41641ce8dc58"
            },
            "attachments": {}
        },
        {
            "cell_type": "code",
            "source": [
                "INSERT INTO tblEmployees VALUES (1, 'Laxman', 'Rathod', 'IT', 60000.00);\n",
                "INSERT INTO tblEmployees VALUES (2, 'Abhiram', 'A', 'HR', 50000.00);\n",
                "INSERT INTO tblEmployees VALUES (3, 'Padma', 'Chauhan', 'Finance', 70000.00);\n",
                "INSERT INTO tblEmployees VALUES (4, 'Naresh', 'M', 'IT', 55000.00);\n",
                "INSERT INTO tblEmployees VALUES (5, 'Hari', 'Singh', 'Marketing', 65000.00);"
            ],
            "metadata": {
                "language": "sql",
                "azdata_cell_guid": "00b36243-8618-43e1-8454-76fceafbc0e0"
            },
            "outputs": [
                {
                    "output_type": "display_data",
                    "data": {
                        "text/html": "(1 row affected)"
                    },
                    "metadata": {}
                },
                {
                    "output_type": "display_data",
                    "data": {
                        "text/html": "(1 row affected)"
                    },
                    "metadata": {}
                },
                {
                    "output_type": "display_data",
                    "data": {
                        "text/html": "(1 row affected)"
                    },
                    "metadata": {}
                },
                {
                    "output_type": "display_data",
                    "data": {
                        "text/html": "(1 row affected)"
                    },
                    "metadata": {}
                },
                {
                    "output_type": "display_data",
                    "data": {
                        "text/html": "(1 row affected)"
                    },
                    "metadata": {}
                },
                {
                    "output_type": "display_data",
                    "data": {
                        "text/html": "Total execution time: 00:00:00.035"
                    },
                    "metadata": {}
                }
            ],
            "execution_count": 6
        },
        {
            "cell_type": "markdown",
            "source": [
                "### **3\\. Data Definition Language (DDL) in MS SQL Server:**\n",
                "\n",
                "  \n",
                "\n",
                "- Data Definition Language (DDL) in SQL Server is a set of commands used to define, modify, and delete database structures. \n",
                "- Common DDL commands include CREATE, ALTER, and DROP."
            ],
            "metadata": {
                "language": "sql",
                "azdata_cell_guid": "d5cea3ae-1147-4c72-961f-fdfa9a710562"
            },
            "attachments": {}
        },
        {
            "cell_type": "markdown",
            "source": [
                "### **4\\. Types of DDL Commands:**"
            ],
            "metadata": {
                "language": "sql",
                "azdata_cell_guid": "21647410-d888-444c-b369-43bb6ab8f42a"
            },
            "attachments": {}
        },
        {
            "cell_type": "markdown",
            "source": [
                "**a. CREATE TABLE:**\n",
                "\n",
                "- Creates a new table in the database.\n",
                "\n",
                "**Syntax :**\n",
                "\n",
                "  \n",
                "\n",
                "  CREATE TABLE table\\_name (\n",
                "\n",
                "      column1 datatype,\n",
                "\n",
                "      column2 datatype,\n",
                "\n",
                "      ...\n",
                "\n",
                "  );"
            ],
            "metadata": {
                "language": "sql",
                "azdata_cell_guid": "587fdb46-ddc3-4231-a58f-a9e0e41cce61"
            },
            "attachments": {}
        },
        {
            "cell_type": "code",
            "source": [
                " --  This command creates a new table named `Departments` with columns `DepartmentID` and `DepartmentName`.\n",
                " \n",
                " CREATE TABLE Departments (\n",
                "      DepartmentID INT PRIMARY KEY,\n",
                "      DepartmentName VARCHAR(50)\n",
                "  );"
            ],
            "metadata": {
                "language": "sql",
                "azdata_cell_guid": "9b888345-0191-4124-9ef5-126e770c7270"
            },
            "outputs": [
                {
                    "output_type": "display_data",
                    "data": {
                        "text/html": "Commands completed successfully."
                    },
                    "metadata": {}
                },
                {
                    "output_type": "display_data",
                    "data": {
                        "text/html": "Total execution time: 00:00:00.044"
                    },
                    "metadata": {}
                }
            ],
            "execution_count": 7
        },
        {
            "cell_type": "markdown",
            "source": [
                "**b. ALTER TABLE:**\n",
                "\n",
                "- Modifies an existing table structure, such as adding, modifying, or dropping columns.\n",
                "\n",
                "**Syntax :**\n",
                "\n",
                "  ALTER TABLE table\\_name\n",
                "\n",
                "  \\[ADD column\\_name datatype\\]\n",
                "\n",
                "  \\[ALTER COLUMN column\\_name datatype\\]\n",
                "\n",
                "  \\[DROP COLUMN column\\_name\\];"
            ],
            "metadata": {
                "language": "sql",
                "azdata_cell_guid": "106f2071-ff38-4eab-954e-3b2ee99edcfb"
            },
            "attachments": {}
        },
        {
            "cell_type": "code",
            "source": [
                "SELECT * FROM tblEmployees"
            ],
            "metadata": {
                "language": "sql",
                "azdata_cell_guid": "06a4e1ff-8a8a-4250-b3a8-31b2fb15ae3a"
            },
            "outputs": [
                {
                    "output_type": "display_data",
                    "data": {
                        "text/html": "(5 rows affected)"
                    },
                    "metadata": {}
                },
                {
                    "output_type": "display_data",
                    "data": {
                        "text/html": "Total execution time: 00:00:00.034"
                    },
                    "metadata": {}
                },
                {
                    "output_type": "execute_result",
                    "metadata": {},
                    "execution_count": 8,
                    "data": {
                        "application/vnd.dataresource+json": {
                            "schema": {
                                "fields": [
                                    {
                                        "name": "EmployeeID"
                                    },
                                    {
                                        "name": "FirstName"
                                    },
                                    {
                                        "name": "LastName"
                                    },
                                    {
                                        "name": "Department"
                                    },
                                    {
                                        "name": "Salary"
                                    }
                                ]
                            },
                            "data": [
                                {
                                    "EmployeeID": "1",
                                    "FirstName": "Laxman",
                                    "LastName": "Rathod",
                                    "Department": "IT",
                                    "Salary": "60000.00"
                                },
                                {
                                    "EmployeeID": "2",
                                    "FirstName": "Abhiram",
                                    "LastName": "A",
                                    "Department": "HR",
                                    "Salary": "50000.00"
                                },
                                {
                                    "EmployeeID": "3",
                                    "FirstName": "Padma",
                                    "LastName": "Chauhan",
                                    "Department": "Finance",
                                    "Salary": "70000.00"
                                },
                                {
                                    "EmployeeID": "4",
                                    "FirstName": "Naresh",
                                    "LastName": "M",
                                    "Department": "IT",
                                    "Salary": "55000.00"
                                },
                                {
                                    "EmployeeID": "5",
                                    "FirstName": "Hari",
                                    "LastName": "Singh",
                                    "Department": "Marketing",
                                    "Salary": "65000.00"
                                }
                            ]
                        },
                        "text/html": [
                            "<table>",
                            "<tr><th>EmployeeID</th><th>FirstName</th><th>LastName</th><th>Department</th><th>Salary</th></tr>",
                            "<tr><td>1</td><td>Laxman</td><td>Rathod</td><td>IT</td><td>60000.00</td></tr>",
                            "<tr><td>2</td><td>Abhiram</td><td>A</td><td>HR</td><td>50000.00</td></tr>",
                            "<tr><td>3</td><td>Padma</td><td>Chauhan</td><td>Finance</td><td>70000.00</td></tr>",
                            "<tr><td>4</td><td>Naresh</td><td>M</td><td>IT</td><td>55000.00</td></tr>",
                            "<tr><td>5</td><td>Hari</td><td>Singh</td><td>Marketing</td><td>65000.00</td></tr>",
                            "</table>"
                        ]
                    }
                }
            ],
            "execution_count": 8
        },
        {
            "cell_type": "code",
            "source": [
                "  -- Add a new column\n",
                "  ALTER TABLE tblEmployees\n",
                "  ADD Email VARCHAR(100);"
            ],
            "metadata": {
                "language": "sql",
                "azdata_cell_guid": "bf1251da-519a-463c-8f95-c26842de048c"
            },
            "outputs": [
                {
                    "output_type": "display_data",
                    "data": {
                        "text/html": "Commands completed successfully."
                    },
                    "metadata": {}
                },
                {
                    "output_type": "display_data",
                    "data": {
                        "text/html": "Total execution time: 00:00:00.040"
                    },
                    "metadata": {}
                }
            ],
            "execution_count": 14
        },
        {
            "cell_type": "code",
            "source": [
                "SELECT * FROM tblEmployees"
            ],
            "metadata": {
                "language": "sql",
                "azdata_cell_guid": "25fd10d8-049b-4724-94ed-2f7d33f61ead"
            },
            "outputs": [
                {
                    "output_type": "display_data",
                    "data": {
                        "text/html": "(5 rows affected)"
                    },
                    "metadata": {}
                },
                {
                    "output_type": "display_data",
                    "data": {
                        "text/html": "Total execution time: 00:00:00.030"
                    },
                    "metadata": {}
                },
                {
                    "output_type": "execute_result",
                    "metadata": {},
                    "execution_count": 15,
                    "data": {
                        "application/vnd.dataresource+json": {
                            "schema": {
                                "fields": [
                                    {
                                        "name": "EmployeeID"
                                    },
                                    {
                                        "name": "FirstName"
                                    },
                                    {
                                        "name": "LastName"
                                    },
                                    {
                                        "name": "Department"
                                    },
                                    {
                                        "name": "Salary"
                                    },
                                    {
                                        "name": "Email"
                                    }
                                ]
                            },
                            "data": [
                                {
                                    "EmployeeID": "1",
                                    "FirstName": "Laxman",
                                    "LastName": "Rathod",
                                    "Department": "IT",
                                    "Salary": "60000.00",
                                    "Email": "NULL"
                                },
                                {
                                    "EmployeeID": "2",
                                    "FirstName": "Abhiram",
                                    "LastName": "A",
                                    "Department": "HR",
                                    "Salary": "50000.00",
                                    "Email": "NULL"
                                },
                                {
                                    "EmployeeID": "3",
                                    "FirstName": "Padma",
                                    "LastName": "Chauhan",
                                    "Department": "Finance",
                                    "Salary": "70000.00",
                                    "Email": "NULL"
                                },
                                {
                                    "EmployeeID": "4",
                                    "FirstName": "Naresh",
                                    "LastName": "M",
                                    "Department": "IT",
                                    "Salary": "55000.00",
                                    "Email": "NULL"
                                },
                                {
                                    "EmployeeID": "5",
                                    "FirstName": "Hari",
                                    "LastName": "Singh",
                                    "Department": "Marketing",
                                    "Salary": "65000.00",
                                    "Email": "NULL"
                                }
                            ]
                        },
                        "text/html": [
                            "<table>",
                            "<tr><th>EmployeeID</th><th>FirstName</th><th>LastName</th><th>Department</th><th>Salary</th><th>Email</th></tr>",
                            "<tr><td>1</td><td>Laxman</td><td>Rathod</td><td>IT</td><td>60000.00</td><td>NULL</td></tr>",
                            "<tr><td>2</td><td>Abhiram</td><td>A</td><td>HR</td><td>50000.00</td><td>NULL</td></tr>",
                            "<tr><td>3</td><td>Padma</td><td>Chauhan</td><td>Finance</td><td>70000.00</td><td>NULL</td></tr>",
                            "<tr><td>4</td><td>Naresh</td><td>M</td><td>IT</td><td>55000.00</td><td>NULL</td></tr>",
                            "<tr><td>5</td><td>Hari</td><td>Singh</td><td>Marketing</td><td>65000.00</td><td>NULL</td></tr>",
                            "</table>"
                        ]
                    }
                }
            ],
            "execution_count": 15
        },
        {
            "cell_type": "code",
            "source": [
                "ALTER TABLE tblEmployees\n",
                "ALTER COLUMN Email VARCHAR(100);\n",
                ""
            ],
            "metadata": {
                "language": "sql",
                "azdata_cell_guid": "79f04325-129e-4736-8360-5bdb963dc9c9"
            },
            "outputs": [
                {
                    "output_type": "error",
                    "evalue": "Msg 4924, Level 16, State 1, Line 1\nALTER TABLE ALTER COLUMN failed because column 'Email' does not exist in table 'tblEmployees'.",
                    "ename": "",
                    "traceback": []
                },
                {
                    "output_type": "display_data",
                    "data": {
                        "text/html": "Total execution time: 00:00:00.019"
                    },
                    "metadata": {}
                }
            ],
            "execution_count": 12
        }
    ]
}