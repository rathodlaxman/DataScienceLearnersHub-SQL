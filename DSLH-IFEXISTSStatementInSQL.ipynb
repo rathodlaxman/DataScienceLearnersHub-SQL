{
    "metadata": {
        "kernelspec": {
            "name": "SQL",
            "display_name": "SQL",
            "language": "sql"
        },
        "language_info": {
            "name": "sql",
            "version": ""
        }
    },
    "nbformat_minor": 2,
    "nbformat": 4,
    "cells": [
        {
            "cell_type": "markdown",
            "source": [
                "# **`Data Science Learners Hub`**\n",
                "\n",
                "**Module : SQL**\n",
                "\n",
                "**email** : [datasciencelearnershub@gmail.com](mailto:datasciencelearnershub@gmail.com)"
            ],
            "metadata": {
                "azdata_cell_guid": "16ea951d-e62a-48a2-9254-62dffee333ca"
            },
            "attachments": {}
        },
        {
            "cell_type": "markdown",
            "source": [
                "### **`# IF EXISTS`**"
            ],
            "metadata": {
                "azdata_cell_guid": "d3ce1c93-e1dc-465d-bcd9-bf3cd95045b2"
            },
            "attachments": {}
        },
        {
            "cell_type": "markdown",
            "source": [
                "**1. Introduction:**\n",
                "\n",
                "The `IF EXISTS` statement in MS SQL Server is a powerful construct used to check the existence of a condition before performing a specific action. It's commonly used in scenarios where you want to verify the presence of a particular object or condition before executing a set of SQL statements.\n",
                "\n",
                "**2. Why Learn This Topic:**\n",
                "\n",
                "Learning the `IF EXISTS` statement is crucial in SQL programming as it helps in controlling the flow of your queries and scripts based on the existence of specific conditions. This is particularly useful when dealing with dynamic databases and when you need to perform actions conditionally.\n",
                "\n",
                "**3. Real-world Applications:**\n",
                "\n",
                "Consider a scenario where you are a database administrator responsible for maintaining a database of employees. Before adding a new employee record, you want to ensure that the employee's ID does not already exist in the database to avoid duplication. The `IF EXISTS` statement can be used to check for the existence of the ID before proceeding with the insertion.\n",
                "\n",
                "**4. Syntax:**\n",
                "\n",
                "```sql\n",
                "IF EXISTS (SELECT 1 FROM your_table WHERE your_condition)\n",
                "BEGIN\n",
                "    -- Statements to execute if the condition exists\n",
                "END\n",
                "```\n",
                "\n",
                "Example:\n",
                "\n",
                "```sql\n",
                "IF EXISTS (SELECT 1 FROM Employees WHERE EmployeeID = 101)\n",
                "BEGIN\n",
                "    PRINT 'Employee ID 101 already exists.';\n",
                "END\n",
                "```\n",
                "\n",
                "\n",
                "**5. Practical Applications:**\n",
                "\n",
                "- `Data Validation`: Checking for the existence of certain records before performing operations.\n",
                "\n",
                "- `Error Handling`: Validating the presence of data to avoid errors during updates or deletions.\n",
                "\n",
                "- `Conditional Execution`: Executing specific actions only if certain conditions are met.\n",
                "\n",
                "\n",
                "**6. Considerations:**\n",
                "\n",
                "- The condition specified in the `IF EXISTS` statement should be a valid SQL query that returns a result set.\n",
                "\n",
                "- The `IF EXISTS` statement is often used with subqueries or system views to check the existence of rows or objects in the database.\n",
                "\n",
                "- `Performance`: Ensure that the IF EXISTS condition is optimized to avoid unnecessary processing.\n",
                "\n",
                "- `Nested Statements`: Be cautious with nested statements to maintain readability. Nested IF EXISTS statements are possible for complex logic.\n",
                "\n",
                "- Often used with IF NOT EXISTS for conditional creation.\n",
                "\n",
                "\n",
                "**7. Common Mistakes:**\n",
                "\n",
                "- Forgetting to include the `BEGIN` and `END` blocks after the `IF EXISTS` statement, resulting in incorrect script behavior.\n",
                "\n",
                "- Using `IF EXISTS` without a valid condition, which can lead to unexpected results.\n",
                "\n",
                "- `Incorrect Syntax`: Ensure that the syntax is correct, especially when dealing with subqueries.\n",
                "\n",
                "- `Ambiguous Conditions`: Clearly define conditions to avoid ambiguity.\n",
                "\n",
                ""
            ],
            "metadata": {
                "azdata_cell_guid": "c72e3120-de7b-4148-abb7-55430f722ed0"
            },
            "attachments": {}
        },
        {
            "cell_type": "markdown",
            "source": [
                "**8. Hands-on Experience:**\n",
                "\n",
                "Let's create a sample table and explore the use of the `IF EXISTS` statement:"
            ],
            "metadata": {
                "azdata_cell_guid": "632f23c8-00cd-4772-aeed-0bd25ad37b3f"
            },
            "attachments": {}
        },
        {
            "cell_type": "code",
            "source": [
                "USE DataScienceLearnersHub\n",
                ""
            ],
            "metadata": {
                "azdata_cell_guid": "82efd974-3d66-481b-91eb-0ed9d311cd27",
                "language": "sql"
            },
            "outputs": [
                {
                    "output_type": "display_data",
                    "data": {
                        "text/html": "Commands completed successfully."
                    },
                    "metadata": {}
                },
                {
                    "output_type": "display_data",
                    "data": {
                        "text/html": "Total execution time: 00:00:00.004"
                    },
                    "metadata": {}
                }
            ],
            "execution_count": 2
        },
        {
            "cell_type": "code",
            "source": [
                "DROP TABLE Employees"
            ],
            "metadata": {
                "language": "sql",
                "azdata_cell_guid": "79123b56-2ac8-4cc4-8cdb-0a657ce53020"
            },
            "outputs": [
                {
                    "output_type": "display_data",
                    "data": {
                        "text/html": "Commands completed successfully."
                    },
                    "metadata": {}
                },
                {
                    "output_type": "display_data",
                    "data": {
                        "text/html": "Total execution time: 00:00:00.022"
                    },
                    "metadata": {}
                }
            ],
            "execution_count": 7
        },
        {
            "cell_type": "code",
            "source": [
                "-- Creating a Sample Table\n",
                "CREATE TABLE Employees (\n",
                "    EmployeeID INT PRIMARY KEY,\n",
                "    EmployeeName VARCHAR(50),\n",
                "    Salary DECIMAL(10, 2)\n",
                ");\n",
                "\n",
                "-- Inserting Sample Data\n",
                "INSERT INTO Employees VALUES (101, 'Laxman', 50000.00);\n",
                "INSERT INTO Employees VALUES (102, 'Naina', 60000.00);\n",
                "\n",
                "SELECT * FROM Employees"
            ],
            "metadata": {
                "language": "sql",
                "azdata_cell_guid": "5dd65f84-3d89-478b-97cf-e0e1f3ac3786"
            },
            "outputs": [
                {
                    "output_type": "display_data",
                    "data": {
                        "text/html": "(1 row affected)"
                    },
                    "metadata": {}
                },
                {
                    "output_type": "display_data",
                    "data": {
                        "text/html": "(1 row affected)"
                    },
                    "metadata": {}
                },
                {
                    "output_type": "display_data",
                    "data": {
                        "text/html": "(2 rows affected)"
                    },
                    "metadata": {}
                },
                {
                    "output_type": "display_data",
                    "data": {
                        "text/html": "Total execution time: 00:00:00.039"
                    },
                    "metadata": {}
                },
                {
                    "output_type": "execute_result",
                    "metadata": {},
                    "execution_count": 8,
                    "data": {
                        "application/vnd.dataresource+json": {
                            "schema": {
                                "fields": [
                                    {
                                        "name": "EmployeeID"
                                    },
                                    {
                                        "name": "EmployeeName"
                                    },
                                    {
                                        "name": "Salary"
                                    }
                                ]
                            },
                            "data": [
                                {
                                    "EmployeeID": "101",
                                    "EmployeeName": "Laxman",
                                    "Salary": "50000.00"
                                },
                                {
                                    "EmployeeID": "102",
                                    "EmployeeName": "Naina",
                                    "Salary": "60000.00"
                                }
                            ]
                        },
                        "text/html": [
                            "<table>",
                            "<tr><th>EmployeeID</th><th>EmployeeName</th><th>Salary</th></tr>",
                            "<tr><td>101</td><td>Laxman</td><td>50000.00</td></tr>",
                            "<tr><td>102</td><td>Naina</td><td>60000.00</td></tr>",
                            "</table>"
                        ]
                    }
                }
            ],
            "execution_count": 8
        },
        {
            "cell_type": "markdown",
            "source": [
                "**Questions Based on the Table:**"
            ],
            "metadata": {
                "language": "sql",
                "azdata_cell_guid": "121a5dd1-8c54-494e-82d1-782e64862db9"
            },
            "attachments": {}
        },
        {
            "cell_type": "markdown",
            "source": [
                "**Q1. Check Existing Employee:**\n",
                "   - Create a script using the `IF EXISTS` statement to check if an employee with ID 102 already exists."
            ],
            "metadata": {
                "language": "sql",
                "azdata_cell_guid": "9db4a4c5-c132-478d-8df1-d721340aaedc"
            },
            "attachments": {}
        },
        {
            "cell_type": "code",
            "source": [
                "-- Executing Script\n",
                "IF EXISTS (SELECT 1 FROM Employees WHERE EmployeeID = 102)\n",
                "BEGIN\n",
                "    PRINT 'Employee ID 102 already exists.';\n",
                "END"
            ],
            "metadata": {
                "language": "sql",
                "azdata_cell_guid": "db51b2e0-36e5-478c-81d5-1fce1b26bba5"
            },
            "outputs": [
                {
                    "output_type": "display_data",
                    "data": {
                        "text/html": "Employee ID 102 already exists."
                    },
                    "metadata": {}
                },
                {
                    "output_type": "display_data",
                    "data": {
                        "text/html": "Total execution time: 00:00:00.011"
                    },
                    "metadata": {}
                }
            ],
            "execution_count": 9
        },
        {
            "cell_type": "markdown",
            "source": [
                "**Q2. Conditional Insert:**\n",
                "   - Extend the script to conditionally insert a new employee with ID 103 only if the employee with ID 103 does not already exist."
            ],
            "metadata": {
                "language": "sql",
                "azdata_cell_guid": "3ab796e7-9529-4ea3-be70-337eee94f89f"
            },
            "attachments": {}
        },
        {
            "cell_type": "code",
            "source": [
                "-- Executing Script\n",
                "IF NOT EXISTS (SELECT 1 FROM Employees WHERE EmployeeID = 103)\n",
                "BEGIN\n",
                "    INSERT INTO Employees VALUES (103, 'Harshita Rathod', 55000.00);\n",
                "    PRINT 'Employee ID 103 added successfully.';\n",
                "END"
            ],
            "metadata": {
                "language": "sql",
                "azdata_cell_guid": "4a5de71b-e17b-4a3a-b04b-aee7a5c0be59"
            },
            "outputs": [
                {
                    "output_type": "display_data",
                    "data": {
                        "text/html": "(1 row affected)"
                    },
                    "metadata": {}
                },
                {
                    "output_type": "display_data",
                    "data": {
                        "text/html": "Employee ID 103 added successfully."
                    },
                    "metadata": {}
                },
                {
                    "output_type": "display_data",
                    "data": {
                        "text/html": "Total execution time: 00:00:00.042"
                    },
                    "metadata": {}
                }
            ],
            "execution_count": 10
        },
        {
            "cell_type": "markdown",
            "source": [
                "**9. Homework Assignment:**\n",
                "\n",
                "1. **Update Existing Employee:**\n",
                "   - Write a script using the `IF EXISTS` statement to check if an employee with ID 101 exists. If it does, update the salary to 55000.00.\n",
                "\n",
                "2. **Delete Employee Safely:**\n",
                "   - Create a script that uses the `IF EXISTS` statement to check if an employee with ID 104 exists. If it does, delete the employee; otherwise, print a message indicating that the employee does not exist.\n",
                "\n",
                "3. **Check Salary Range:**\n",
                "   - Use the `IF EXISTS` statement to check if there are any employees with a salary greater than 60000. If such employees exist, print a message indicating the presence of high earners.\n",
                "\n",
                "4. **Conditional Display:**\n",
                "   - Write a script that uses the `IF EXISTS` statement to check if there are any employees in the database. If there are, display the employee information; otherwise, print a message saying no employees are found.\n",
                "\n",
                "5. **Dynamic Conditions:**\n",
                "   - Experiment with dynamic conditions in the `IF EXISTS` statement. For example, use a variable to store an employee ID and check if an employee with that ID exists."
            ],
            "metadata": {
                "language": "",
                "azdata_cell_guid": "2d0f2e13-f144-4156-8984-1657326c1b0f"
            },
            "attachments": {}
        },
        {
            "cell_type": "markdown",
            "source": [
                "**10. Some Facts:**\n",
                "\n",
                "- The `IF EXISTS` statement is a part of Transact-SQL (T-SQL), which is the SQL dialect used by Microsoft SQL Server.\n",
                "\n",
                "- It's a powerful tool for enhancing the conditional logic of your SQL scripts, providing a way to handle various scenarios based on the existence of specific conditions.\n",
                "\n",
                "- Proper use of the `IF EXISTS` statement can contribute to more efficient and error-resistant SQL scripts, especially when dealing with dynamic databases or frequently changing conditions."
            ],
            "metadata": {
                "azdata_cell_guid": "85596bd3-f13f-4730-9f34-94153baf4e12"
            },
            "attachments": {}
        }
    ]
}