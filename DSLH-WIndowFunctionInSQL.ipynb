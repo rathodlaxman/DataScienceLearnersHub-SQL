{
    "metadata": {
        "kernelspec": {
            "name": "SQL",
            "display_name": "SQL",
            "language": "sql"
        },
        "language_info": {
            "name": "sql",
            "version": ""
        }
    },
    "nbformat_minor": 2,
    "nbformat": 4,
    "cells": [
        {
            "cell_type": "markdown",
            "source": [
                "# **Data Science Learners Hub**\n",
                "\n",
                "**Module : SQL**\n",
                "\n",
                "**Topic :** **WINDOW Functions in SQL**\n",
                "\n",
                "**email** : [datasciencelearnershub@gmail.com](mailto:datasciencelearnershub@gmail.com)"
            ],
            "metadata": {
                "azdata_cell_guid": "3a167a67-3f2a-40fb-9b48-cbdb0289972d"
            },
            "attachments": {}
        },
        {
            "cell_type": "markdown",
            "source": [
                "## **# WINDOW Functions in SQL**"
            ],
            "metadata": {
                "azdata_cell_guid": "41c09e92-dfb4-4fd4-97a7-eb09a7e88bd5"
            },
            "attachments": {}
        },
        {
            "cell_type": "markdown",
            "source": [
                "### 1. Create a simple table to illustrate examples for WINDOW Functions"
            ],
            "metadata": {
                "azdata_cell_guid": "c46e557d-9856-4439-872e-31e0e9b66263"
            },
            "attachments": {}
        },
        {
            "cell_type": "code",
            "source": [
                "-- Create a simple table\n",
                "CREATE TABLE Sales (\n",
                "    SalesID INT PRIMARY KEY,\n",
                "    ProductName VARCHAR(50),\n",
                "    SaleDate DATE,\n",
                "    Quantity INT,\n",
                "    Revenue DECIMAL(10, 2)\n",
                ");"
            ],
            "metadata": {
                "azdata_cell_guid": "0fae1808-28bc-4a9c-ad82-44c9730b8d0a",
                "language": "sql"
            },
            "outputs": [
                {
                    "output_type": "display_data",
                    "data": {
                        "text/html": "Commands completed successfully."
                    },
                    "metadata": {}
                },
                {
                    "output_type": "display_data",
                    "data": {
                        "text/html": "Total execution time: 00:00:00.027"
                    },
                    "metadata": {}
                }
            ],
            "execution_count": 1
        },
        {
            "cell_type": "markdown",
            "source": [
                "### 2. Generate insert queries to insert values into the newly created table"
            ],
            "metadata": {
                "language": "sql",
                "azdata_cell_guid": "3c914615-a1bf-4f23-943d-8952f9d7fabc"
            },
            "attachments": {}
        },
        {
            "cell_type": "code",
            "source": [
                "-- Insert values into the Sales table\n",
                "INSERT INTO Sales (SalesID, ProductName, SaleDate, Quantity, Revenue)\n",
                "VALUES\n",
                "    (1, 'Laptop', '2023-01-01', 5, 5000.00),\n",
                "    (2, 'Phone', '2023-01-02', 8, 4000.00),\n",
                "    (3, 'Headphones', '2023-01-03', 10, 800.00),\n",
                "    (4, 'Desk', '2023-01-04', 3, 300.00),\n",
                "    (5, 'Chair', '2023-01-05', 6, 180.00);"
            ],
            "metadata": {
                "language": "",
                "azdata_cell_guid": "eb02b5b7-0dfe-4e45-820e-50869b049fc7"
            },
            "outputs": [
                {
                    "output_type": "display_data",
                    "data": {
                        "text/html": "(5 rows affected)"
                    },
                    "metadata": {}
                },
                {
                    "output_type": "display_data",
                    "data": {
                        "text/html": "Total execution time: 00:00:00.051"
                    },
                    "metadata": {}
                }
            ],
            "execution_count": 2
        },
        {
            "cell_type": "code",
            "source": [
                "SELECT * FROM Sales"
            ],
            "metadata": {
                "azdata_cell_guid": "3df6fabd-a86c-49b6-bf2e-bb3928a4677a",
                "language": "sql"
            },
            "outputs": [
                {
                    "output_type": "display_data",
                    "data": {
                        "text/html": "(5 rows affected)"
                    },
                    "metadata": {}
                },
                {
                    "output_type": "display_data",
                    "data": {
                        "text/html": "Total execution time: 00:00:00.014"
                    },
                    "metadata": {}
                },
                {
                    "output_type": "execute_result",
                    "metadata": {},
                    "execution_count": 3,
                    "data": {
                        "application/vnd.dataresource+json": {
                            "schema": {
                                "fields": [
                                    {
                                        "name": "SalesID"
                                    },
                                    {
                                        "name": "ProductName"
                                    },
                                    {
                                        "name": "SaleDate"
                                    },
                                    {
                                        "name": "Quantity"
                                    },
                                    {
                                        "name": "Revenue"
                                    }
                                ]
                            },
                            "data": [
                                {
                                    "SalesID": "1",
                                    "ProductName": "Laptop",
                                    "SaleDate": "2023-01-01",
                                    "Quantity": "5",
                                    "Revenue": "5000.00"
                                },
                                {
                                    "SalesID": "2",
                                    "ProductName": "Phone",
                                    "SaleDate": "2023-01-02",
                                    "Quantity": "8",
                                    "Revenue": "4000.00"
                                },
                                {
                                    "SalesID": "3",
                                    "ProductName": "Headphones",
                                    "SaleDate": "2023-01-03",
                                    "Quantity": "10",
                                    "Revenue": "800.00"
                                },
                                {
                                    "SalesID": "4",
                                    "ProductName": "Desk",
                                    "SaleDate": "2023-01-04",
                                    "Quantity": "3",
                                    "Revenue": "300.00"
                                },
                                {
                                    "SalesID": "5",
                                    "ProductName": "Chair",
                                    "SaleDate": "2023-01-05",
                                    "Quantity": "6",
                                    "Revenue": "180.00"
                                }
                            ]
                        },
                        "text/html": [
                            "<table>",
                            "<tr><th>SalesID</th><th>ProductName</th><th>SaleDate</th><th>Quantity</th><th>Revenue</th></tr>",
                            "<tr><td>1</td><td>Laptop</td><td>2023-01-01</td><td>5</td><td>5000.00</td></tr>",
                            "<tr><td>2</td><td>Phone</td><td>2023-01-02</td><td>8</td><td>4000.00</td></tr>",
                            "<tr><td>3</td><td>Headphones</td><td>2023-01-03</td><td>10</td><td>800.00</td></tr>",
                            "<tr><td>4</td><td>Desk</td><td>2023-01-04</td><td>3</td><td>300.00</td></tr>",
                            "<tr><td>5</td><td>Chair</td><td>2023-01-05</td><td>6</td><td>180.00</td></tr>",
                            "</table>"
                        ]
                    }
                }
            ],
            "execution_count": 3
        },
        {
            "cell_type": "markdown",
            "source": [
                "### 3. Understanding Window Functions:\n",
                "- Window functions perform calculations over a set of rows (a \"window\") within a result set, without aggregating the results into a single row.\n",
                "- They provide powerful analytical capabilities without losing detail.\n",
                "- They're often used for ranking, moving averages, cumulative sums, and more."
            ],
            "metadata": {
                "language": "sql",
                "azdata_cell_guid": "17f66658-dc8c-4675-aab6-05847dcaba6f"
            },
            "attachments": {}
        },
        {
            "cell_type": "markdown",
            "source": [
                "### 4. Types of Window Functions:\n",
                "\n",
                "- **Ranking Functions**: Assign a rank to each row within a window (e.g., ROW_NUMBER, RANK, DENSE_RANK, NTILE).\n",
                "- **Aggregate Functions**: Perform calculations over a window (e.g., SUM, AVG, MIN, MAX, COUNT).\n",
                "- **Value Functions**: Access values from other rows within the window (e.g., LAG, LEAD, FIRST_VALUE, LAST_VALUE)."
            ],
            "metadata": {
                "language": "sql",
                "azdata_cell_guid": "fa6c4c1c-e2be-4d2c-929e-6f473a72cce6"
            },
            "attachments": {}
        },
        {
            "cell_type": "markdown",
            "source": [
                "#### a. ROW_NUMBER()\n",
                "```sql\n",
                "-- Syntax\n",
                "ROW_NUMBER() OVER (PARTITION BY column1, column2 ORDER BY column3);\n",
                "```\n",
                "\n",
                "- This query calculates a unique row number for each row within a specified window defined by the PARTITION BY clause. The ordering of the rows is determined by the ORDER BY clause."
            ],
            "metadata": {
                "language": "sql",
                "azdata_cell_guid": "4525b0fc-6fc2-4d19-bead-b30abe97bfca"
            },
            "attachments": {}
        },
        {
            "cell_type": "markdown",
            "source": [
                "**Detailed Explanation** : \n",
                "\n",
                "- **`ROW_NUMBER()`:** This is a window function in SQL that assigns a unique number to each row within a specified window. The number is assigned based on the ordering specified in the `ORDER BY` clause.\n",
                "\n",
                "- **`OVER`:** This keyword is used to define the window or set of rows over which the window function operates.\n",
                "\n",
                "- **`(PARTITION BY column1, column2)`:** This part of the syntax is the optional `PARTITION BY` clause. It divides the result set into partitions to which the `ROW_NUMBER()` is applied independently. In other words, within each partition, the row numbers start from 1.\n",
                "\n",
                "- **`ORDER BY column3`:** This is the `ORDER BY` clause that specifies the logical order of rows within each partition. The `ROW_NUMBER()` is assigned based on this order.\n",
                "\n",
                "Putting it all together, the syntax means:\n",
                "\n",
                "- Apply the `ROW_NUMBER()` function.\n",
                "- Operate over a window of rows.\n",
                "- Optionally, divide the rows into partitions based on the values in `column1` and `column2`.\n",
                "- Order the rows within each partition based on the values in `column3`."
            ],
            "metadata": {
                "language": "sql",
                "azdata_cell_guid": "8b3766e9-9294-4384-b4f4-1f1ef191879e"
            },
            "attachments": {}
        },
        {
            "cell_type": "code",
            "source": [
                "-- Example\n",
                "SELECT ProductName, SaleDate, Quantity, ROW_NUMBER() OVER (ORDER BY SaleDate) AS RowNum\n",
                "FROM Sales;"
            ],
            "metadata": {
                "language": "sql",
                "azdata_cell_guid": "1f184c33-2480-4fde-afe7-a6a4ea72f5be"
            },
            "outputs": [
                {
                    "output_type": "display_data",
                    "data": {
                        "text/html": "(5 rows affected)"
                    },
                    "metadata": {}
                },
                {
                    "output_type": "display_data",
                    "data": {
                        "text/html": "Total execution time: 00:00:00.035"
                    },
                    "metadata": {}
                },
                {
                    "output_type": "execute_result",
                    "metadata": {},
                    "execution_count": 4,
                    "data": {
                        "application/vnd.dataresource+json": {
                            "schema": {
                                "fields": [
                                    {
                                        "name": "ProductName"
                                    },
                                    {
                                        "name": "SaleDate"
                                    },
                                    {
                                        "name": "Quantity"
                                    },
                                    {
                                        "name": "RowNum"
                                    }
                                ]
                            },
                            "data": [
                                {
                                    "ProductName": "Laptop",
                                    "SaleDate": "2023-01-01",
                                    "Quantity": "5",
                                    "RowNum": "1"
                                },
                                {
                                    "ProductName": "Phone",
                                    "SaleDate": "2023-01-02",
                                    "Quantity": "8",
                                    "RowNum": "2"
                                },
                                {
                                    "ProductName": "Headphones",
                                    "SaleDate": "2023-01-03",
                                    "Quantity": "10",
                                    "RowNum": "3"
                                },
                                {
                                    "ProductName": "Desk",
                                    "SaleDate": "2023-01-04",
                                    "Quantity": "3",
                                    "RowNum": "4"
                                },
                                {
                                    "ProductName": "Chair",
                                    "SaleDate": "2023-01-05",
                                    "Quantity": "6",
                                    "RowNum": "5"
                                }
                            ]
                        },
                        "text/html": [
                            "<table>",
                            "<tr><th>ProductName</th><th>SaleDate</th><th>Quantity</th><th>RowNum</th></tr>",
                            "<tr><td>Laptop</td><td>2023-01-01</td><td>5</td><td>1</td></tr>",
                            "<tr><td>Phone</td><td>2023-01-02</td><td>8</td><td>2</td></tr>",
                            "<tr><td>Headphones</td><td>2023-01-03</td><td>10</td><td>3</td></tr>",
                            "<tr><td>Desk</td><td>2023-01-04</td><td>3</td><td>4</td></tr>",
                            "<tr><td>Chair</td><td>2023-01-05</td><td>6</td><td>5</td></tr>",
                            "</table>"
                        ]
                    }
                }
            ],
            "execution_count": 4
        },
        {
            "cell_type": "markdown",
            "source": [
                "**Explanation** : In this example, the ROW_NUMBER() function is applied to assign a unique row number (RowNum) to each row in the Sales table. The rows are ordered by the SaleDate in ascending order."
            ],
            "metadata": {
                "language": "sql",
                "azdata_cell_guid": "71b2ff19-7734-415f-ba5b-dd24f37da8fc"
            },
            "attachments": {}
        },
        {
            "cell_type": "markdown",
            "source": [
                "#### b. RANK()\n",
                "```sql\n",
                "-- Syntax\n",
                "RANK() OVER (PARTITION BY column1, column2 ORDER BY column3);\n",
                "```\n",
                "\n",
                "- The RANK() function assigns a rank to each row within a specified window based on the values in the ORDER BY clause. If two rows have the same values, they receive the same rank, and the next rank is skipped."
            ],
            "metadata": {
                "language": "sql",
                "azdata_cell_guid": "7d438a9e-6fae-465d-8201-6b7133f699e7"
            },
            "attachments": {}
        },
        {
            "cell_type": "code",
            "source": [
                "-- Example\n",
                "SELECT ProductName, SaleDate, Quantity, RANK() OVER (ORDER BY Quantity DESC) AS Rank\n",
                "FROM Sales;"
            ],
            "metadata": {
                "language": "sql",
                "azdata_cell_guid": "6412a900-b145-44a3-8240-40f0664b46b0"
            },
            "outputs": [
                {
                    "output_type": "display_data",
                    "data": {
                        "text/html": "(5 rows affected)"
                    },
                    "metadata": {}
                },
                {
                    "output_type": "display_data",
                    "data": {
                        "text/html": "Total execution time: 00:00:00.016"
                    },
                    "metadata": {}
                },
                {
                    "output_type": "execute_result",
                    "metadata": {},
                    "execution_count": 5,
                    "data": {
                        "application/vnd.dataresource+json": {
                            "schema": {
                                "fields": [
                                    {
                                        "name": "ProductName"
                                    },
                                    {
                                        "name": "SaleDate"
                                    },
                                    {
                                        "name": "Quantity"
                                    },
                                    {
                                        "name": "Rank"
                                    }
                                ]
                            },
                            "data": [
                                {
                                    "ProductName": "Headphones",
                                    "SaleDate": "2023-01-03",
                                    "Quantity": "10",
                                    "Rank": "1"
                                },
                                {
                                    "ProductName": "Phone",
                                    "SaleDate": "2023-01-02",
                                    "Quantity": "8",
                                    "Rank": "2"
                                },
                                {
                                    "ProductName": "Chair",
                                    "SaleDate": "2023-01-05",
                                    "Quantity": "6",
                                    "Rank": "3"
                                },
                                {
                                    "ProductName": "Laptop",
                                    "SaleDate": "2023-01-01",
                                    "Quantity": "5",
                                    "Rank": "4"
                                },
                                {
                                    "ProductName": "Desk",
                                    "SaleDate": "2023-01-04",
                                    "Quantity": "3",
                                    "Rank": "5"
                                }
                            ]
                        },
                        "text/html": [
                            "<table>",
                            "<tr><th>ProductName</th><th>SaleDate</th><th>Quantity</th><th>Rank</th></tr>",
                            "<tr><td>Headphones</td><td>2023-01-03</td><td>10</td><td>1</td></tr>",
                            "<tr><td>Phone</td><td>2023-01-02</td><td>8</td><td>2</td></tr>",
                            "<tr><td>Chair</td><td>2023-01-05</td><td>6</td><td>3</td></tr>",
                            "<tr><td>Laptop</td><td>2023-01-01</td><td>5</td><td>4</td></tr>",
                            "<tr><td>Desk</td><td>2023-01-04</td><td>3</td><td>5</td></tr>",
                            "</table>"
                        ]
                    }
                }
            ],
            "execution_count": 5
        },
        {
            "cell_type": "markdown",
            "source": [
                "**Explanation** : In this example, the RANK() function is used to assign a rank (Rank) to each row in the Sales table based on the descending order of the Quantity column. Rows with higher quantities will have lower ranks."
            ],
            "metadata": {
                "language": "sql",
                "azdata_cell_guid": "244b3402-4aae-4b32-b0c3-85ec740225ec"
            },
            "attachments": {}
        },
        {
            "cell_type": "markdown",
            "source": [
                "#### c. DENSE_RANK()\n",
                "```sql\n",
                "-- Syntax\n",
                "DENSE_RANK() OVER (PARTITION BY column1, column2 ORDER BY column3);\n",
                "```\n",
                "\n",
                "- The DENSE_RANK() function is similar to RANK(), but it does not skip ranks when there are ties. Rows with the same values receive the same rank, and the next rank is not skipped."
            ],
            "metadata": {
                "language": "sql",
                "azdata_cell_guid": "733d2583-2ba3-43f8-be27-f5e293751f9b"
            },
            "attachments": {}
        },
        {
            "cell_type": "code",
            "source": [
                "-- Example\n",
                "SELECT ProductName, SaleDate, Quantity, DENSE_RANK() OVER (ORDER BY Revenue DESC) AS DenseRank\n",
                "FROM Sales;"
            ],
            "metadata": {
                "language": "sql",
                "azdata_cell_guid": "338de6e9-7bf0-4844-8419-580ce9991363"
            },
            "outputs": [
                {
                    "output_type": "display_data",
                    "data": {
                        "text/html": "(5 rows affected)"
                    },
                    "metadata": {}
                },
                {
                    "output_type": "display_data",
                    "data": {
                        "text/html": "Total execution time: 00:00:00.018"
                    },
                    "metadata": {}
                },
                {
                    "output_type": "execute_result",
                    "metadata": {},
                    "execution_count": 6,
                    "data": {
                        "application/vnd.dataresource+json": {
                            "schema": {
                                "fields": [
                                    {
                                        "name": "ProductName"
                                    },
                                    {
                                        "name": "SaleDate"
                                    },
                                    {
                                        "name": "Quantity"
                                    },
                                    {
                                        "name": "DenseRank"
                                    }
                                ]
                            },
                            "data": [
                                {
                                    "ProductName": "Laptop",
                                    "SaleDate": "2023-01-01",
                                    "Quantity": "5",
                                    "DenseRank": "1"
                                },
                                {
                                    "ProductName": "Phone",
                                    "SaleDate": "2023-01-02",
                                    "Quantity": "8",
                                    "DenseRank": "2"
                                },
                                {
                                    "ProductName": "Headphones",
                                    "SaleDate": "2023-01-03",
                                    "Quantity": "10",
                                    "DenseRank": "3"
                                },
                                {
                                    "ProductName": "Desk",
                                    "SaleDate": "2023-01-04",
                                    "Quantity": "3",
                                    "DenseRank": "4"
                                },
                                {
                                    "ProductName": "Chair",
                                    "SaleDate": "2023-01-05",
                                    "Quantity": "6",
                                    "DenseRank": "5"
                                }
                            ]
                        },
                        "text/html": [
                            "<table>",
                            "<tr><th>ProductName</th><th>SaleDate</th><th>Quantity</th><th>DenseRank</th></tr>",
                            "<tr><td>Laptop</td><td>2023-01-01</td><td>5</td><td>1</td></tr>",
                            "<tr><td>Phone</td><td>2023-01-02</td><td>8</td><td>2</td></tr>",
                            "<tr><td>Headphones</td><td>2023-01-03</td><td>10</td><td>3</td></tr>",
                            "<tr><td>Desk</td><td>2023-01-04</td><td>3</td><td>4</td></tr>",
                            "<tr><td>Chair</td><td>2023-01-05</td><td>6</td><td>5</td></tr>",
                            "</table>"
                        ]
                    }
                }
            ],
            "execution_count": 6
        },
        {
            "cell_type": "markdown",
            "source": [
                "**Explanation** : In this example, the DENSE_RANK() function is applied to assign a dense rank (DenseRank) to each row in the Sales table based on the descending order of the Revenue column. Ties in revenue values will not result in skipped ranks. "
            ],
            "metadata": {
                "language": "sql",
                "azdata_cell_guid": "79158e36-3b74-43fc-acdc-e06512b96c54"
            },
            "attachments": {}
        },
        {
            "cell_type": "markdown",
            "source": [
                "#### d. SUM() OVER()\n",
                "```sql\n",
                "-- Syntax\n",
                "SUM(column) OVER (PARTITION BY column1, column2 ORDER BY column3 ROWS BETWEEN UNBOUNDED PRECEDING AND CURRENT ROW);\n",
                "```\n",
                "\n",
                "- The SUM() OVER() function calculates the cumulative sum of a column within a specified window. The window is defined by the PARTITION BY and ORDER BY clauses, and the ROWS BETWEEN clause specifies the range of rows to include in the calculation."
            ],
            "metadata": {
                "language": "sql",
                "azdata_cell_guid": "51673958-884a-47f7-a0fb-0e4865c50826"
            },
            "attachments": {}
        },
        {
            "cell_type": "markdown",
            "source": [
                "**Detailed Explanation** :\n",
                "\n",
                "The `ROWS BETWEEN UNBOUNDED PRECEDING AND CURRENT ROW` clause in the `SUM() OVER()` example specifies the range of rows to be included in the cumulative sum calculation. Let's break down what each part of this clause means:\n",
                "\n",
                "- **UNBOUNDED PRECEDING:** This indicates that the window for the cumulative sum starts from the beginning of the partition or result set. In other words, it includes all rows from the start of the partition up to the current row.\n",
                "\n",
                "- **CURRENT ROW:** This specifies that the window extends up to and includes the current row.\n",
                "\n",
                "So, the entire clause `ROWS BETWEEN UNBOUNDED PRECEDING AND CURRENT ROW` ensures that the cumulative sum is calculated by considering all rows from the beginning of the partition up to and including the current row."
            ],
            "metadata": {
                "language": "sql",
                "azdata_cell_guid": "2c063b8e-e64c-4d7c-88ec-feda912226af"
            },
            "attachments": {}
        },
        {
            "cell_type": "code",
            "source": [
                "-- Example\n",
                "SELECT ProductName, SaleDate, Quantity, SUM(Revenue) OVER (ORDER BY SaleDate) AS CumulativeRevenue\n",
                "FROM Sales;"
            ],
            "metadata": {
                "language": "sql",
                "azdata_cell_guid": "8a0dbac7-a8b8-42ba-8199-fc3c095582eb"
            },
            "outputs": [
                {
                    "output_type": "display_data",
                    "data": {
                        "text/html": "(5 rows affected)"
                    },
                    "metadata": {}
                },
                {
                    "output_type": "display_data",
                    "data": {
                        "text/html": "Total execution time: 00:00:00.022"
                    },
                    "metadata": {}
                },
                {
                    "output_type": "execute_result",
                    "metadata": {},
                    "execution_count": 7,
                    "data": {
                        "application/vnd.dataresource+json": {
                            "schema": {
                                "fields": [
                                    {
                                        "name": "ProductName"
                                    },
                                    {
                                        "name": "SaleDate"
                                    },
                                    {
                                        "name": "Quantity"
                                    },
                                    {
                                        "name": "CumulativeRevenue"
                                    }
                                ]
                            },
                            "data": [
                                {
                                    "ProductName": "Laptop",
                                    "SaleDate": "2023-01-01",
                                    "Quantity": "5",
                                    "CumulativeRevenue": "5000.00"
                                },
                                {
                                    "ProductName": "Phone",
                                    "SaleDate": "2023-01-02",
                                    "Quantity": "8",
                                    "CumulativeRevenue": "9000.00"
                                },
                                {
                                    "ProductName": "Headphones",
                                    "SaleDate": "2023-01-03",
                                    "Quantity": "10",
                                    "CumulativeRevenue": "9800.00"
                                },
                                {
                                    "ProductName": "Desk",
                                    "SaleDate": "2023-01-04",
                                    "Quantity": "3",
                                    "CumulativeRevenue": "10100.00"
                                },
                                {
                                    "ProductName": "Chair",
                                    "SaleDate": "2023-01-05",
                                    "Quantity": "6",
                                    "CumulativeRevenue": "10280.00"
                                }
                            ]
                        },
                        "text/html": [
                            "<table>",
                            "<tr><th>ProductName</th><th>SaleDate</th><th>Quantity</th><th>CumulativeRevenue</th></tr>",
                            "<tr><td>Laptop</td><td>2023-01-01</td><td>5</td><td>5000.00</td></tr>",
                            "<tr><td>Phone</td><td>2023-01-02</td><td>8</td><td>9000.00</td></tr>",
                            "<tr><td>Headphones</td><td>2023-01-03</td><td>10</td><td>9800.00</td></tr>",
                            "<tr><td>Desk</td><td>2023-01-04</td><td>3</td><td>10100.00</td></tr>",
                            "<tr><td>Chair</td><td>2023-01-05</td><td>6</td><td>10280.00</td></tr>",
                            "</table>"
                        ]
                    }
                }
            ],
            "execution_count": 7
        },
        {
            "cell_type": "markdown",
            "source": [
                "**Explanation** : In this example, the SUM() OVER() function is used to calculate the cumulative revenue (CumulativeRevenue) for each row in the Sales table. The cumulative sum is ordered by the SaleDate, including all rows from the beginning of the window up to the current row."
            ],
            "metadata": {
                "language": "sql",
                "azdata_cell_guid": "3a55c035-d2a7-4714-ae87-5cacec46044c"
            },
            "attachments": {}
        },
        {
            "cell_type": "markdown",
            "source": [
                "**e. LAG Function:**\n",
                "   - **Syntax:**\n",
                "     ```sql\n",
                "     LAG(column, offset, default) OVER (PARTITION BY partition_column ORDER BY sort_column)\n",
                "     ```\n",
                "   - **Explanation:**\n",
                "     The LAG function returns the value of the specified column from a previous row within the window. The `offset` parameter indicates how many rows back to look, and `default` is the value returned when the specified row is not found."
            ],
            "metadata": {
                "language": "sql",
                "azdata_cell_guid": "8f1297bc-d4fe-4afc-9422-f525fe07a267"
            },
            "attachments": {}
        },
        {
            "cell_type": "code",
            "source": [
                "-- This example returns the quantity of the previous sale for each row, ordered by SaleDate.\n",
                "\n",
                "SELECT ProductName, SaleDate, Quantity, LAG(Quantity, 1, 0) OVER (ORDER BY SaleDate) AS PrevQuantity\n",
                "FROM Sales;\n",
                ""
            ],
            "metadata": {
                "language": "sql",
                "azdata_cell_guid": "9aff58d8-e165-4e88-b524-9f20cc02ef3a"
            },
            "outputs": [
                {
                    "output_type": "display_data",
                    "data": {
                        "text/html": "(5 rows affected)"
                    },
                    "metadata": {}
                },
                {
                    "output_type": "display_data",
                    "data": {
                        "text/html": "Total execution time: 00:00:00.023"
                    },
                    "metadata": {}
                },
                {
                    "output_type": "execute_result",
                    "metadata": {},
                    "execution_count": 8,
                    "data": {
                        "application/vnd.dataresource+json": {
                            "schema": {
                                "fields": [
                                    {
                                        "name": "ProductName"
                                    },
                                    {
                                        "name": "SaleDate"
                                    },
                                    {
                                        "name": "Quantity"
                                    },
                                    {
                                        "name": "PrevQuantity"
                                    }
                                ]
                            },
                            "data": [
                                {
                                    "ProductName": "Laptop",
                                    "SaleDate": "2023-01-01",
                                    "Quantity": "5",
                                    "PrevQuantity": "0"
                                },
                                {
                                    "ProductName": "Phone",
                                    "SaleDate": "2023-01-02",
                                    "Quantity": "8",
                                    "PrevQuantity": "5"
                                },
                                {
                                    "ProductName": "Headphones",
                                    "SaleDate": "2023-01-03",
                                    "Quantity": "10",
                                    "PrevQuantity": "8"
                                },
                                {
                                    "ProductName": "Desk",
                                    "SaleDate": "2023-01-04",
                                    "Quantity": "3",
                                    "PrevQuantity": "10"
                                },
                                {
                                    "ProductName": "Chair",
                                    "SaleDate": "2023-01-05",
                                    "Quantity": "6",
                                    "PrevQuantity": "3"
                                }
                            ]
                        },
                        "text/html": [
                            "<table>",
                            "<tr><th>ProductName</th><th>SaleDate</th><th>Quantity</th><th>PrevQuantity</th></tr>",
                            "<tr><td>Laptop</td><td>2023-01-01</td><td>5</td><td>0</td></tr>",
                            "<tr><td>Phone</td><td>2023-01-02</td><td>8</td><td>5</td></tr>",
                            "<tr><td>Headphones</td><td>2023-01-03</td><td>10</td><td>8</td></tr>",
                            "<tr><td>Desk</td><td>2023-01-04</td><td>3</td><td>10</td></tr>",
                            "<tr><td>Chair</td><td>2023-01-05</td><td>6</td><td>3</td></tr>",
                            "</table>"
                        ]
                    }
                }
            ],
            "execution_count": 8
        },
        {
            "cell_type": "markdown",
            "source": [
                "**f. LEAD Function:**\n",
                "   - **Syntax:**\n",
                "     ```sql\n",
                "     LEAD(column, offset, default) OVER (PARTITION BY partition_column ORDER BY sort_column)\n",
                "     ```\n",
                "   - **Explanation:**\n",
                "     The LEAD function returns the value of the specified column from a subsequent row within the window. Similar to LAG, `offset` indicates how many rows forward to look, and `default` is the value returned when the specified row is not found."
            ],
            "metadata": {
                "language": "sql",
                "azdata_cell_guid": "1f6d40ac-71f1-447f-897e-b1d67d7ba819"
            },
            "attachments": {}
        },
        {
            "cell_type": "code",
            "source": [
                "-- This example returns the quantity of the next sale for each row, ordered by SaleDate.\n",
                "\n",
                "SELECT ProductName, SaleDate, Quantity, LEAD(Quantity, 1, 0) OVER (ORDER BY SaleDate) AS NextQuantity\n",
                "FROM Sales;"
            ],
            "metadata": {
                "language": "sql",
                "azdata_cell_guid": "2d0ddca7-53ad-407d-bf30-ff62b15dce16"
            },
            "outputs": [
                {
                    "output_type": "display_data",
                    "data": {
                        "text/html": "(5 rows affected)"
                    },
                    "metadata": {}
                },
                {
                    "output_type": "display_data",
                    "data": {
                        "text/html": "Total execution time: 00:00:00.014"
                    },
                    "metadata": {}
                },
                {
                    "output_type": "execute_result",
                    "metadata": {},
                    "execution_count": 9,
                    "data": {
                        "application/vnd.dataresource+json": {
                            "schema": {
                                "fields": [
                                    {
                                        "name": "ProductName"
                                    },
                                    {
                                        "name": "SaleDate"
                                    },
                                    {
                                        "name": "Quantity"
                                    },
                                    {
                                        "name": "NextQuantity"
                                    }
                                ]
                            },
                            "data": [
                                {
                                    "ProductName": "Laptop",
                                    "SaleDate": "2023-01-01",
                                    "Quantity": "5",
                                    "NextQuantity": "8"
                                },
                                {
                                    "ProductName": "Phone",
                                    "SaleDate": "2023-01-02",
                                    "Quantity": "8",
                                    "NextQuantity": "10"
                                },
                                {
                                    "ProductName": "Headphones",
                                    "SaleDate": "2023-01-03",
                                    "Quantity": "10",
                                    "NextQuantity": "3"
                                },
                                {
                                    "ProductName": "Desk",
                                    "SaleDate": "2023-01-04",
                                    "Quantity": "3",
                                    "NextQuantity": "6"
                                },
                                {
                                    "ProductName": "Chair",
                                    "SaleDate": "2023-01-05",
                                    "Quantity": "6",
                                    "NextQuantity": "0"
                                }
                            ]
                        },
                        "text/html": [
                            "<table>",
                            "<tr><th>ProductName</th><th>SaleDate</th><th>Quantity</th><th>NextQuantity</th></tr>",
                            "<tr><td>Laptop</td><td>2023-01-01</td><td>5</td><td>8</td></tr>",
                            "<tr><td>Phone</td><td>2023-01-02</td><td>8</td><td>10</td></tr>",
                            "<tr><td>Headphones</td><td>2023-01-03</td><td>10</td><td>3</td></tr>",
                            "<tr><td>Desk</td><td>2023-01-04</td><td>3</td><td>6</td></tr>",
                            "<tr><td>Chair</td><td>2023-01-05</td><td>6</td><td>0</td></tr>",
                            "</table>"
                        ]
                    }
                }
            ],
            "execution_count": 9
        },
        {
            "cell_type": "markdown",
            "source": [
                "**g. FIRST_VALUE Function:**\n",
                "   - **Syntax:**\n",
                "     ```sql\n",
                "     FIRST_VALUE(column) OVER (PARTITION BY partition_column ORDER BY sort_column)\n",
                "     ```\n",
                "   - **Explanation:**\n",
                "     The FIRST_VALUE function returns the value of the specified column from the first row within the window."
            ],
            "metadata": {
                "language": "sql",
                "azdata_cell_guid": "c7268674-d2fe-443b-875d-9ee1c83fb54c"
            },
            "attachments": {}
        },
        {
            "cell_type": "code",
            "source": [
                "-- This example returns the quantity of the first sale for each row, ordered by SaleDate.\n",
                "\n",
                "SELECT ProductName, SaleDate, Quantity, FIRST_VALUE(Quantity) OVER (ORDER BY SaleDate) AS FirstQuantity\n",
                "FROM Sales;"
            ],
            "metadata": {
                "language": "sql",
                "azdata_cell_guid": "5c79803f-c910-4653-ab20-9721b2fe3d7a"
            },
            "outputs": [],
            "execution_count": null
        },
        {
            "cell_type": "markdown",
            "source": [
                " **h. LAST_VALUE Function:**\n",
                "   - **Syntax:**\n",
                "     ```sql\n",
                "     LAST_VALUE(column) OVER (PARTITION BY partition_column ORDER BY sort_column ROWS BETWEEN UNBOUNDED PRECEDING AND UNBOUNDED FOLLOWING)\n",
                "     ```\n",
                "   - **Explanation:**\n",
                "     The LAST_VALUE function returns the value of the specified column from the last row within the window. The `ROWS BETWEEN UNBOUNDED PRECEDING AND UNBOUNDED FOLLOWING` clause ensures that the window spans the entire partition."
            ],
            "metadata": {
                "language": "sql",
                "azdata_cell_guid": "a2a6f256-1c32-43de-b2f8-741a388e6bdd"
            },
            "attachments": {}
        },
        {
            "cell_type": "code",
            "source": [
                "-- This example returns the quantity of the last sale for each row, ordered by SaleDate.\n",
                "\n",
                "SELECT ProductName, SaleDate, Quantity, LAST_VALUE(Quantity) OVER (ORDER BY SaleDate ROWS BETWEEN UNBOUNDED PRECEDING AND UNBOUNDED FOLLOWING) AS LastQuantity\n",
                "FROM Sales;"
            ],
            "metadata": {
                "language": "sql",
                "azdata_cell_guid": "74317b36-82de-40e4-bd47-d6e4241efa99"
            },
            "outputs": [
                {
                    "output_type": "display_data",
                    "data": {
                        "text/html": "(5 rows affected)"
                    },
                    "metadata": {}
                },
                {
                    "output_type": "display_data",
                    "data": {
                        "text/html": "Total execution time: 00:00:00.020"
                    },
                    "metadata": {}
                },
                {
                    "output_type": "execute_result",
                    "metadata": {},
                    "execution_count": 10,
                    "data": {
                        "application/vnd.dataresource+json": {
                            "schema": {
                                "fields": [
                                    {
                                        "name": "ProductName"
                                    },
                                    {
                                        "name": "SaleDate"
                                    },
                                    {
                                        "name": "Quantity"
                                    },
                                    {
                                        "name": "LastQuantity"
                                    }
                                ]
                            },
                            "data": [
                                {
                                    "ProductName": "Laptop",
                                    "SaleDate": "2023-01-01",
                                    "Quantity": "5",
                                    "LastQuantity": "6"
                                },
                                {
                                    "ProductName": "Phone",
                                    "SaleDate": "2023-01-02",
                                    "Quantity": "8",
                                    "LastQuantity": "6"
                                },
                                {
                                    "ProductName": "Headphones",
                                    "SaleDate": "2023-01-03",
                                    "Quantity": "10",
                                    "LastQuantity": "6"
                                },
                                {
                                    "ProductName": "Desk",
                                    "SaleDate": "2023-01-04",
                                    "Quantity": "3",
                                    "LastQuantity": "6"
                                },
                                {
                                    "ProductName": "Chair",
                                    "SaleDate": "2023-01-05",
                                    "Quantity": "6",
                                    "LastQuantity": "6"
                                }
                            ]
                        },
                        "text/html": [
                            "<table>",
                            "<tr><th>ProductName</th><th>SaleDate</th><th>Quantity</th><th>LastQuantity</th></tr>",
                            "<tr><td>Laptop</td><td>2023-01-01</td><td>5</td><td>6</td></tr>",
                            "<tr><td>Phone</td><td>2023-01-02</td><td>8</td><td>6</td></tr>",
                            "<tr><td>Headphones</td><td>2023-01-03</td><td>10</td><td>6</td></tr>",
                            "<tr><td>Desk</td><td>2023-01-04</td><td>3</td><td>6</td></tr>",
                            "<tr><td>Chair</td><td>2023-01-05</td><td>6</td><td>6</td></tr>",
                            "</table>"
                        ]
                    }
                }
            ],
            "execution_count": 10
        },
        {
            "cell_type": "markdown",
            "source": [
                "### 5. Practical Applications:\n",
                "\n",
                "- **Running Totals:** Calculating cumulative values over time.\n",
                "- **Ranking and Percentiles:** Determining ranks or percentiles based on specific criteria.\n",
                "- **Moving Averages:** Calculating averages over a rolling window of data.\n",
                "- **LAG and LEAD:** Useful for calculating the difference between consecutive values, identifying trends, or detecting anomalies.\n",
                "- **FIRST_VALUE and LAST_VALUE:** Helpful for obtaining the initial or final state of a particular column within a window.\n",
                "- Identifying top-performing salespeople within each region.\n",
                "- Comparing values to previous or next rows.\n",
                "- Analyzing trends over time."
            ],
            "metadata": {
                "language": "sql",
                "azdata_cell_guid": "fe0cb6cd-e2c3-476f-91b5-fcd50fc55159"
            },
            "attachments": {}
        },
        {
            "cell_type": "markdown",
            "source": [
                "### 6. Peculiarities and Considerations for WINDOW Functions\n",
                "\n",
                "- **PARTITION BY Clause:** Specifies the columns used to divide the result set into partitions.\n",
                "- **ORDER BY Clause:** Defines the logical order of the rows within each partition.\n",
                "- **Window Specification:** Determines the set of rows used for the calculation.\n",
                "- Consider performance implications, especially with large datasets.\n",
                "- Understand the differences between ranking functions (e.g., handling ties).\n",
                "- Ensure proper ordering in the ORDER BY clause to define the logical order of rows within the window.\n",
                "- Be mindful of NULL values or default values specified in the functions, especially when working with the first or last rows."
            ],
            "metadata": {
                "language": "sql",
                "azdata_cell_guid": "51dfb6fe-f7a1-4d51-9317-a750f848feb1"
            },
            "attachments": {}
        },
        {
            "cell_type": "markdown",
            "source": [
                "### 7. Most common mistakes \n",
                "\n",
                "- **Forgetting PARTITION BY:** Failing to specify the PARTITION BY clause, leading to incorrect results.\n",
                "- **Incorrect ORDER BY:** Misusing the ORDER BY clause, resulting in unexpected rankings or calculations.\n",
                "- Misunderstanding the window frame definition.\n",
                "- Using incorrect function for the desired calculation.\n",
                "- Not considering performance optimization techniques.\n",
                "- Neglecting to include the ORDER BY clause can lead to unexpected results.\n",
                "- Forgetting to specify the appropriate window frame, especially in the case of LAST_VALUE."
            ],
            "metadata": {
                "language": "sql",
                "azdata_cell_guid": "60b6d487-eaa1-4cb4-a59a-651ce6bf0637"
            },
            "attachments": {}
        },
        {
            "cell_type": "markdown",
            "source": [
                "### 8. Handson\n",
                "\n",
                "#### Question 1:\n",
                "Calculate the row number for each sale, ordered by SaleDate.\n",
                "\n",
                "#### Solution:"
            ],
            "metadata": {
                "language": "sql",
                "azdata_cell_guid": "35dbc917-553b-46e4-8715-e1598d0c80a7"
            },
            "attachments": {}
        },
        {
            "cell_type": "code",
            "source": [
                "SELECT ProductName, SaleDate, Quantity, ROW_NUMBER() OVER (ORDER BY SaleDate) AS RowNum\n",
                "FROM Sales;"
            ],
            "metadata": {
                "language": "sql",
                "azdata_cell_guid": "f7ce37b5-d28f-4505-b541-46d60260d0e6"
            },
            "outputs": [
                {
                    "output_type": "display_data",
                    "data": {
                        "text/html": "(5 rows affected)"
                    },
                    "metadata": {}
                },
                {
                    "output_type": "display_data",
                    "data": {
                        "text/html": "Total execution time: 00:00:00.025"
                    },
                    "metadata": {}
                },
                {
                    "output_type": "execute_result",
                    "metadata": {},
                    "execution_count": 11,
                    "data": {
                        "application/vnd.dataresource+json": {
                            "schema": {
                                "fields": [
                                    {
                                        "name": "ProductName"
                                    },
                                    {
                                        "name": "SaleDate"
                                    },
                                    {
                                        "name": "Quantity"
                                    },
                                    {
                                        "name": "RowNum"
                                    }
                                ]
                            },
                            "data": [
                                {
                                    "ProductName": "Laptop",
                                    "SaleDate": "2023-01-01",
                                    "Quantity": "5",
                                    "RowNum": "1"
                                },
                                {
                                    "ProductName": "Phone",
                                    "SaleDate": "2023-01-02",
                                    "Quantity": "8",
                                    "RowNum": "2"
                                },
                                {
                                    "ProductName": "Headphones",
                                    "SaleDate": "2023-01-03",
                                    "Quantity": "10",
                                    "RowNum": "3"
                                },
                                {
                                    "ProductName": "Desk",
                                    "SaleDate": "2023-01-04",
                                    "Quantity": "3",
                                    "RowNum": "4"
                                },
                                {
                                    "ProductName": "Chair",
                                    "SaleDate": "2023-01-05",
                                    "Quantity": "6",
                                    "RowNum": "5"
                                }
                            ]
                        },
                        "text/html": [
                            "<table>",
                            "<tr><th>ProductName</th><th>SaleDate</th><th>Quantity</th><th>RowNum</th></tr>",
                            "<tr><td>Laptop</td><td>2023-01-01</td><td>5</td><td>1</td></tr>",
                            "<tr><td>Phone</td><td>2023-01-02</td><td>8</td><td>2</td></tr>",
                            "<tr><td>Headphones</td><td>2023-01-03</td><td>10</td><td>3</td></tr>",
                            "<tr><td>Desk</td><td>2023-01-04</td><td>3</td><td>4</td></tr>",
                            "<tr><td>Chair</td><td>2023-01-05</td><td>6</td><td>5</td></tr>",
                            "</table>"
                        ]
                    }
                }
            ],
            "execution_count": 11
        },
        {
            "cell_type": "markdown",
            "source": [
                "#### Question 2:\n",
                "Determine the rank of each product based on its quantity in descending order.\n",
                "\n",
                "#### Solution:"
            ],
            "metadata": {
                "language": "sql",
                "azdata_cell_guid": "7d682f4c-48f9-4c6e-b718-19bd8b249cc5"
            },
            "attachments": {}
        },
        {
            "cell_type": "code",
            "source": [
                "SELECT ProductName, SaleDate, Quantity, RANK() OVER (ORDER BY Quantity DESC) AS Rank\n",
                "FROM Sales;"
            ],
            "metadata": {
                "language": "sql",
                "azdata_cell_guid": "c197fe64-352e-4487-a2da-6cd197c70d14"
            },
            "outputs": [
                {
                    "output_type": "display_data",
                    "data": {
                        "text/html": "(5 rows affected)"
                    },
                    "metadata": {}
                },
                {
                    "output_type": "display_data",
                    "data": {
                        "text/html": "Total execution time: 00:00:00.017"
                    },
                    "metadata": {}
                },
                {
                    "output_type": "execute_result",
                    "metadata": {},
                    "execution_count": 12,
                    "data": {
                        "application/vnd.dataresource+json": {
                            "schema": {
                                "fields": [
                                    {
                                        "name": "ProductName"
                                    },
                                    {
                                        "name": "SaleDate"
                                    },
                                    {
                                        "name": "Quantity"
                                    },
                                    {
                                        "name": "Rank"
                                    }
                                ]
                            },
                            "data": [
                                {
                                    "ProductName": "Headphones",
                                    "SaleDate": "2023-01-03",
                                    "Quantity": "10",
                                    "Rank": "1"
                                },
                                {
                                    "ProductName": "Phone",
                                    "SaleDate": "2023-01-02",
                                    "Quantity": "8",
                                    "Rank": "2"
                                },
                                {
                                    "ProductName": "Chair",
                                    "SaleDate": "2023-01-05",
                                    "Quantity": "6",
                                    "Rank": "3"
                                },
                                {
                                    "ProductName": "Laptop",
                                    "SaleDate": "2023-01-01",
                                    "Quantity": "5",
                                    "Rank": "4"
                                },
                                {
                                    "ProductName": "Desk",
                                    "SaleDate": "2023-01-04",
                                    "Quantity": "3",
                                    "Rank": "5"
                                }
                            ]
                        },
                        "text/html": [
                            "<table>",
                            "<tr><th>ProductName</th><th>SaleDate</th><th>Quantity</th><th>Rank</th></tr>",
                            "<tr><td>Headphones</td><td>2023-01-03</td><td>10</td><td>1</td></tr>",
                            "<tr><td>Phone</td><td>2023-01-02</td><td>8</td><td>2</td></tr>",
                            "<tr><td>Chair</td><td>2023-01-05</td><td>6</td><td>3</td></tr>",
                            "<tr><td>Laptop</td><td>2023-01-01</td><td>5</td><td>4</td></tr>",
                            "<tr><td>Desk</td><td>2023-01-04</td><td>3</td><td>5</td></tr>",
                            "</table>"
                        ]
                    }
                }
            ],
            "execution_count": 12
        },
        {
            "cell_type": "markdown",
            "source": [
                "#### Question 3:\n",
                "Calculate the cumulative revenue for each sale ordered by SaleDate.\n",
                "\n",
                "#### Solution:"
            ],
            "metadata": {
                "language": "sql",
                "azdata_cell_guid": "5b748105-7ac0-4739-ac42-29593d6c7cb9"
            },
            "attachments": {}
        },
        {
            "cell_type": "code",
            "source": [
                "SELECT ProductName, SaleDate, Quantity, SUM(Revenue) OVER (ORDER BY SaleDate) AS CumulativeRevenue\n",
                "FROM Sales;"
            ],
            "metadata": {
                "language": "sql",
                "azdata_cell_guid": "545e0e02-f426-4b45-bb68-7962c09d0dd6"
            },
            "outputs": [
                {
                    "output_type": "display_data",
                    "data": {
                        "text/html": "(5 rows affected)"
                    },
                    "metadata": {}
                },
                {
                    "output_type": "display_data",
                    "data": {
                        "text/html": "Total execution time: 00:00:00.018"
                    },
                    "metadata": {}
                },
                {
                    "output_type": "execute_result",
                    "metadata": {},
                    "execution_count": 13,
                    "data": {
                        "application/vnd.dataresource+json": {
                            "schema": {
                                "fields": [
                                    {
                                        "name": "ProductName"
                                    },
                                    {
                                        "name": "SaleDate"
                                    },
                                    {
                                        "name": "Quantity"
                                    },
                                    {
                                        "name": "CumulativeRevenue"
                                    }
                                ]
                            },
                            "data": [
                                {
                                    "ProductName": "Laptop",
                                    "SaleDate": "2023-01-01",
                                    "Quantity": "5",
                                    "CumulativeRevenue": "5000.00"
                                },
                                {
                                    "ProductName": "Phone",
                                    "SaleDate": "2023-01-02",
                                    "Quantity": "8",
                                    "CumulativeRevenue": "9000.00"
                                },
                                {
                                    "ProductName": "Headphones",
                                    "SaleDate": "2023-01-03",
                                    "Quantity": "10",
                                    "CumulativeRevenue": "9800.00"
                                },
                                {
                                    "ProductName": "Desk",
                                    "SaleDate": "2023-01-04",
                                    "Quantity": "3",
                                    "CumulativeRevenue": "10100.00"
                                },
                                {
                                    "ProductName": "Chair",
                                    "SaleDate": "2023-01-05",
                                    "Quantity": "6",
                                    "CumulativeRevenue": "10280.00"
                                }
                            ]
                        },
                        "text/html": [
                            "<table>",
                            "<tr><th>ProductName</th><th>SaleDate</th><th>Quantity</th><th>CumulativeRevenue</th></tr>",
                            "<tr><td>Laptop</td><td>2023-01-01</td><td>5</td><td>5000.00</td></tr>",
                            "<tr><td>Phone</td><td>2023-01-02</td><td>8</td><td>9000.00</td></tr>",
                            "<tr><td>Headphones</td><td>2023-01-03</td><td>10</td><td>9800.00</td></tr>",
                            "<tr><td>Desk</td><td>2023-01-04</td><td>3</td><td>10100.00</td></tr>",
                            "<tr><td>Chair</td><td>2023-01-05</td><td>6</td><td>10280.00</td></tr>",
                            "</table>"
                        ]
                    }
                }
            ],
            "execution_count": 13
        },
        {
            "cell_type": "markdown",
            "source": [
                "### 9. Practice Exercise\n",
                "\n",
                "#### Question 1:\n",
                "Calculate the dense rank for each product based on its revenue in descending order.\n",
                "\n",
                "#### Question 2:\n",
                "Determine the row number for each sale, partitioned by the ProductName and ordered by SaleDate.\n",
                "\n",
                "#### Question 3:\n",
                "Calculate the moving average of Quantity over a window of the last 2 sales ordered by SaleDate."
            ],
            "metadata": {
                "language": "sql",
                "azdata_cell_guid": "18c7c4bc-0c86-4897-8d00-cd81da96ad70"
            },
            "attachments": {}
        },
        {
            "cell_type": "markdown",
            "source": [
                "### 10. Extra Innings"
            ],
            "metadata": {
                "language": "sql",
                "azdata_cell_guid": "b0faf10e-b6b7-4e58-b8d8-03e55c86b41f"
            },
            "attachments": {}
        },
        {
            "cell_type": "markdown",
            "source": [
                "![DSLH-WindowFunction.jpeg](attachment:DSLH-WindowFunction.jpeg)"
            ],
            "metadata": {
                "language": "sql",
                "azdata_cell_guid": "f0c66ba6-d1b4-4262-999f-e2a6adb862be"
            },
            "attachments": {
                "DSLH-WindowFunction.jpeg": {
                    "image/jpeg": "[encoded data removed]"
                }
            }
        }
    ]
}