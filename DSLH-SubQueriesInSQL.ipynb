{
    "metadata": {
        "kernelspec": {
            "name": "SQL",
            "display_name": "SQL",
            "language": "sql"
        },
        "language_info": {
            "name": "sql",
            "version": ""
        }
    },
    "nbformat_minor": 2,
    "nbformat": 4,
    "cells": [
        {
            "cell_type": "markdown",
            "source": [
                "# **Data Science Learners Hub**\n",
                "\n",
                "**Module : SQL**\n",
                "\n",
                "**Topic :** **Sub Queries in SQL**\n",
                "\n",
                "**email** : [datasciencelearnershub@gmail.com](mailto:datasciencelearnershub@gmail.com)"
            ],
            "metadata": {
                "azdata_cell_guid": "911e26de-7975-485d-b548-e10b0b41727d"
            },
            "attachments": {}
        },
        {
            "cell_type": "markdown",
            "source": [
                "## **# Sub Queries in SQL**"
            ],
            "metadata": {
                "azdata_cell_guid": "479dfb8f-5b08-4176-b17f-0d68f06c7d7a"
            },
            "attachments": {}
        },
        {
            "cell_type": "markdown",
            "source": [
                "### 1. Create a simple table to illustrate examples for Sub-Queries"
            ],
            "metadata": {
                "azdata_cell_guid": "dce343b3-0683-40b8-be2b-9efce82cb8c8"
            },
            "attachments": {}
        },
        {
            "cell_type": "code",
            "source": [
                "-- Create a simple table\n",
                "CREATE TABLE Products (\n",
                "    ProductID INT PRIMARY KEY,\n",
                "    ProductName VARCHAR(50),\n",
                "    Category VARCHAR(50),\n",
                "    Price DECIMAL(10, 2)\n",
                ");"
            ],
            "metadata": {
                "azdata_cell_guid": "cda7ef79-0cf1-4e90-b614-625d515dded9",
                "language": "sql"
            },
            "outputs": [
                {
                    "output_type": "display_data",
                    "data": {
                        "text/html": "Commands completed successfully."
                    },
                    "metadata": {}
                },
                {
                    "output_type": "display_data",
                    "data": {
                        "text/html": "Total execution time: 00:00:00.026"
                    },
                    "metadata": {}
                }
            ],
            "execution_count": 1
        },
        {
            "cell_type": "markdown",
            "source": [
                "### 2. Generate insert queries to insert values into the newly created table"
            ],
            "metadata": {
                "language": "sql",
                "azdata_cell_guid": "b1fea62e-19dd-406a-bc2b-3142a85acae3"
            },
            "attachments": {}
        },
        {
            "cell_type": "code",
            "source": [
                "-- Insert values into the Products table\n",
                "INSERT INTO Products (ProductID, ProductName, Category, Price)\n",
                "VALUES\n",
                "    (1, 'Laptop', 'Electronics', 1200.00),\n",
                "    (2, 'Chair', 'Furniture', 80.00),\n",
                "    (3, 'Headphones', 'Electronics', 50.00),\n",
                "    (4, 'Desk', 'Furniture', 150.00),\n",
                "    (5, 'Phone', 'Electronics', 500.00);"
            ],
            "metadata": {
                "language": "sql",
                "azdata_cell_guid": "9bf41242-ea80-49bb-b814-b3a298567e2f"
            },
            "outputs": [
                {
                    "output_type": "display_data",
                    "data": {
                        "text/html": "(5 rows affected)"
                    },
                    "metadata": {}
                },
                {
                    "output_type": "display_data",
                    "data": {
                        "text/html": "Total execution time: 00:00:00.052"
                    },
                    "metadata": {}
                }
            ],
            "execution_count": 2
        },
        {
            "cell_type": "code",
            "source": [
                "SELECT * FROM Products"
            ],
            "metadata": {
                "language": "sql",
                "azdata_cell_guid": "e242d21f-8568-482f-afd3-5be0e987a42a"
            },
            "outputs": [
                {
                    "output_type": "display_data",
                    "data": {
                        "text/html": "(5 rows affected)"
                    },
                    "metadata": {}
                },
                {
                    "output_type": "display_data",
                    "data": {
                        "text/html": "Total execution time: 00:00:00.056"
                    },
                    "metadata": {}
                },
                {
                    "output_type": "execute_result",
                    "metadata": {},
                    "execution_count": 3,
                    "data": {
                        "application/vnd.dataresource+json": {
                            "schema": {
                                "fields": [
                                    {
                                        "name": "ProductID"
                                    },
                                    {
                                        "name": "ProductName"
                                    },
                                    {
                                        "name": "Category"
                                    },
                                    {
                                        "name": "Price"
                                    }
                                ]
                            },
                            "data": [
                                {
                                    "ProductID": "1",
                                    "ProductName": "Laptop",
                                    "Category": "Electronics",
                                    "Price": "1200.00"
                                },
                                {
                                    "ProductID": "2",
                                    "ProductName": "Chair",
                                    "Category": "Furniture",
                                    "Price": "80.00"
                                },
                                {
                                    "ProductID": "3",
                                    "ProductName": "Headphones",
                                    "Category": "Electronics",
                                    "Price": "50.00"
                                },
                                {
                                    "ProductID": "4",
                                    "ProductName": "Desk",
                                    "Category": "Furniture",
                                    "Price": "150.00"
                                },
                                {
                                    "ProductID": "5",
                                    "ProductName": "Phone",
                                    "Category": "Electronics",
                                    "Price": "500.00"
                                }
                            ]
                        },
                        "text/html": [
                            "<table>",
                            "<tr><th>ProductID</th><th>ProductName</th><th>Category</th><th>Price</th></tr>",
                            "<tr><td>1</td><td>Laptop</td><td>Electronics</td><td>1200.00</td></tr>",
                            "<tr><td>2</td><td>Chair</td><td>Furniture</td><td>80.00</td></tr>",
                            "<tr><td>3</td><td>Headphones</td><td>Electronics</td><td>50.00</td></tr>",
                            "<tr><td>4</td><td>Desk</td><td>Furniture</td><td>150.00</td></tr>",
                            "<tr><td>5</td><td>Phone</td><td>Electronics</td><td>500.00</td></tr>",
                            "</table>"
                        ]
                    }
                }
            ],
            "execution_count": 3
        },
        {
            "cell_type": "markdown",
            "source": [
                "### 3. What are Sub-Queries ?\n",
                "\n",
                "- In MS SQL Server, a subquery is a query nested inside another query(SELECT, INSERT, UPDATE, DELETE). It is used to retrieve data that will be used in the main query as a condition or to perform further operations."
            ],
            "metadata": {
                "language": "sql",
                "azdata_cell_guid": "2966fc20-ab4f-4161-8082-8d4009d0b62d"
            },
            "attachments": {}
        },
        {
            "cell_type": "markdown",
            "source": [
                "### 4. Different types of Sub-Queries"
            ],
            "metadata": {
                "language": "sql",
                "azdata_cell_guid": "2a4619ff-4d95-4687-9a02-333fea897199"
            },
            "attachments": {}
        },
        {
            "cell_type": "markdown",
            "source": [
                "#### a. Scalar Subquery\n",
                "- Return a single value.\n",
                "- Use with operators like =, >, <, IN, etc.\n",
                "\n",
                "```sql\n",
                "-- Syntax\n",
                "SELECT column_name\n",
                "FROM table_name\n",
                "WHERE column_name = (SELECT ...);\n",
                "```"
            ],
            "metadata": {
                "language": "sql",
                "azdata_cell_guid": "ac4bd794-0980-4d24-af77-09e57e33edde"
            },
            "attachments": {}
        },
        {
            "cell_type": "code",
            "source": [
                "-- Example\n",
                "SELECT ProductName\n",
                "FROM Products\n",
                "WHERE Price = (SELECT MAX(Price) FROM Products);"
            ],
            "metadata": {
                "language": "sql",
                "azdata_cell_guid": "d40cf2de-4652-4679-8ed9-7b8388287889"
            },
            "outputs": [
                {
                    "output_type": "display_data",
                    "data": {
                        "text/html": "(1 row affected)"
                    },
                    "metadata": {}
                },
                {
                    "output_type": "display_data",
                    "data": {
                        "text/html": "Total execution time: 00:00:00.054"
                    },
                    "metadata": {}
                },
                {
                    "output_type": "execute_result",
                    "metadata": {},
                    "execution_count": 4,
                    "data": {
                        "application/vnd.dataresource+json": {
                            "schema": {
                                "fields": [
                                    {
                                        "name": "ProductName"
                                    }
                                ]
                            },
                            "data": [
                                {
                                    "ProductName": "Laptop"
                                }
                            ]
                        },
                        "text/html": [
                            "<table>",
                            "<tr><th>ProductName</th></tr>",
                            "<tr><td>Laptop</td></tr>",
                            "</table>"
                        ]
                    }
                }
            ],
            "execution_count": 4
        },
        {
            "cell_type": "markdown",
            "source": [
                "#### b. Single-row Subquery\n",
                "```sql\n",
                "-- Syntax\n",
                "SELECT column_name\n",
                "FROM table_name\n",
                "WHERE column_name OPERATOR (SELECT ...);\n",
                "```"
            ],
            "metadata": {
                "language": "sql",
                "azdata_cell_guid": "1eecf942-52fe-40c5-b320-d6dfe338ec95"
            },
            "attachments": {}
        },
        {
            "cell_type": "code",
            "source": [
                "-- Example\n",
                "SELECT ProductName\n",
                "FROM Products\n",
                "WHERE Price > (SELECT AVG(Price) FROM Products);"
            ],
            "metadata": {
                "language": "sql",
                "azdata_cell_guid": "f98b41b0-fe1f-4c4f-8617-4bea864a562a"
            },
            "outputs": [
                {
                    "output_type": "display_data",
                    "data": {
                        "text/html": "(2 rows affected)"
                    },
                    "metadata": {}
                },
                {
                    "output_type": "display_data",
                    "data": {
                        "text/html": "Total execution time: 00:00:00.014"
                    },
                    "metadata": {}
                },
                {
                    "output_type": "execute_result",
                    "metadata": {},
                    "execution_count": 5,
                    "data": {
                        "application/vnd.dataresource+json": {
                            "schema": {
                                "fields": [
                                    {
                                        "name": "ProductName"
                                    }
                                ]
                            },
                            "data": [
                                {
                                    "ProductName": "Laptop"
                                },
                                {
                                    "ProductName": "Phone"
                                }
                            ]
                        },
                        "text/html": [
                            "<table>",
                            "<tr><th>ProductName</th></tr>",
                            "<tr><td>Laptop</td></tr>",
                            "<tr><td>Phone</td></tr>",
                            "</table>"
                        ]
                    }
                }
            ],
            "execution_count": 5
        },
        {
            "cell_type": "markdown",
            "source": [
                "#### c. Multiple-row Subquery\n",
                "\n",
                "- Return multiple values.\n",
                "- Often used with IN, ANY, or ALL operators.\n",
                "\n",
                "```sql\n",
                "-- Syntax\n",
                "SELECT column_name\n",
                "FROM table_name\n",
                "WHERE column_name OPERATOR ALL (SELECT ...);\n",
                "```"
            ],
            "metadata": {
                "language": "sql",
                "azdata_cell_guid": "6e382edf-399d-4923-8589-4446a9e07841"
            },
            "attachments": {}
        },
        {
            "cell_type": "code",
            "source": [
                "-- Example\n",
                "SELECT ProductName\n",
                "FROM Products\n",
                "WHERE Price > ALL (SELECT Price FROM Products WHERE Category = 'Furniture');"
            ],
            "metadata": {
                "language": "sql",
                "azdata_cell_guid": "0efb418f-fafc-489e-adce-3d9d1666a8d3"
            },
            "outputs": [
                {
                    "output_type": "display_data",
                    "data": {
                        "text/html": "(2 rows affected)"
                    },
                    "metadata": {}
                },
                {
                    "output_type": "display_data",
                    "data": {
                        "text/html": "Total execution time: 00:00:00.030"
                    },
                    "metadata": {}
                },
                {
                    "output_type": "execute_result",
                    "metadata": {},
                    "execution_count": 6,
                    "data": {
                        "application/vnd.dataresource+json": {
                            "schema": {
                                "fields": [
                                    {
                                        "name": "ProductName"
                                    }
                                ]
                            },
                            "data": [
                                {
                                    "ProductName": "Laptop"
                                },
                                {
                                    "ProductName": "Phone"
                                }
                            ]
                        },
                        "text/html": [
                            "<table>",
                            "<tr><th>ProductName</th></tr>",
                            "<tr><td>Laptop</td></tr>",
                            "<tr><td>Phone</td></tr>",
                            "</table>"
                        ]
                    }
                }
            ],
            "execution_count": 6
        },
        {
            "cell_type": "markdown",
            "source": [
                "#### d. Correlated Subquery\n",
                "\n",
                "- Dependent on the outer query's row value.\n",
                "- Executed for each row in the outer query.\n",
                "\n",
                "```sql\n",
                "-- Syntax\n",
                "SELECT column_name\n",
                "FROM table_name t1\n",
                "WHERE column_name OPERATOR (SELECT ... FROM table_name t2 WHERE t2.column_name = t1.column_name);\n",
                "```"
            ],
            "metadata": {
                "language": "sql",
                "azdata_cell_guid": "bbb09771-feb7-419f-a248-194109aa75fb"
            },
            "attachments": {}
        },
        {
            "cell_type": "code",
            "source": [
                "-- Example\n",
                "SELECT ProductName\n",
                "FROM Products p1\n",
                "WHERE Price > (SELECT AVG(Price) FROM Products p2 WHERE p2.Category = p1.Category);"
            ],
            "metadata": {
                "language": "sql",
                "azdata_cell_guid": "1744104e-a06c-4d5f-a0c5-07bc6005c23d"
            },
            "outputs": [
                {
                    "output_type": "display_data",
                    "data": {
                        "text/html": "(2 rows affected)"
                    },
                    "metadata": {}
                },
                {
                    "output_type": "display_data",
                    "data": {
                        "text/html": "Total execution time: 00:00:00.022"
                    },
                    "metadata": {}
                },
                {
                    "output_type": "execute_result",
                    "metadata": {},
                    "execution_count": 7,
                    "data": {
                        "application/vnd.dataresource+json": {
                            "schema": {
                                "fields": [
                                    {
                                        "name": "ProductName"
                                    }
                                ]
                            },
                            "data": [
                                {
                                    "ProductName": "Laptop"
                                },
                                {
                                    "ProductName": "Desk"
                                }
                            ]
                        },
                        "text/html": [
                            "<table>",
                            "<tr><th>ProductName</th></tr>",
                            "<tr><td>Laptop</td></tr>",
                            "<tr><td>Desk</td></tr>",
                            "</table>"
                        ]
                    }
                }
            ],
            "execution_count": 7
        },
        {
            "cell_type": "markdown",
            "source": [
                "### 5. Practical applications\n",
                "\n",
                "- **Filtering:** Subqueries can be used to filter data based on results from another query.\n",
                "- **Aggregation:** Calculating aggregates (e.g., average, maximum) within a subquery for use in the main query.\n",
                "- **Conditional Operations:** Using subqueries to perform conditional operations."
            ],
            "metadata": {
                "language": "sql",
                "azdata_cell_guid": "edf2d72b-4476-4c02-b156-84885f26387e"
            },
            "attachments": {}
        },
        {
            "cell_type": "markdown",
            "source": [
                "### 6. Considerations and Peculiarities:\n",
                "\n",
                "- **Performance:** Subqueries can impact performance, so it's important to optimize them.\n",
                "- **Data Type Compatibility:** Ensure that the data types of the columns used in subqueries are compatible.\n",
                "- Avoid overly complex or nested subqueries.\n",
                "- Consider using joins or alternative techniques when applicable."
            ],
            "metadata": {
                "language": "sql",
                "azdata_cell_guid": "d8d040dc-0ee0-43d4-80cd-6e11f6563494"
            },
            "attachments": {}
        },
        {
            "cell_type": "markdown",
            "source": [
                "### 7. Most common mistakes\n",
                "\n",
                "- **Incorrect Syntax:** Not using proper syntax or placing subqueries in inappropriate clauses.\n",
                "- **Data Type Mismatch:** Neglecting to ensure data type compatibility between the subquery and the main query.\n",
                "- Using incorrect operators with subqueries.\n",
                "- Not handling null values appropriately.\n",
                "- Correlated subqueries with unintended side effects."
            ],
            "metadata": {
                "language": "sql",
                "azdata_cell_guid": "b7c1283a-ee45-4cc1-badc-756bfb4ea81e"
            },
            "attachments": {}
        },
        {
            "cell_type": "markdown",
            "source": [
                "### 8. Handson"
            ],
            "metadata": {
                "language": "sql",
                "azdata_cell_guid": "7fea60a1-bf11-46df-8030-eadeb09bd7d7"
            },
            "attachments": {}
        },
        {
            "cell_type": "markdown",
            "source": [
                "#### Question 1:\n",
                "Retrieve the product names with prices higher than the average price for furniture.\n",
                "\n",
                "#### Solution:\n",
                ""
            ],
            "metadata": {
                "language": "sql",
                "azdata_cell_guid": "ca3a48cb-dea8-4682-9f42-07df4a473358"
            },
            "attachments": {}
        },
        {
            "cell_type": "code",
            "source": [
                "SELECT ProductName\n",
                "FROM Products\n",
                "WHERE Price > (SELECT AVG(Price) FROM Products WHERE Category = 'Furniture');"
            ],
            "metadata": {
                "language": "sql",
                "azdata_cell_guid": "85fe2491-7a3f-4b8a-96cc-875242a39d8a"
            },
            "outputs": [
                {
                    "output_type": "display_data",
                    "data": {
                        "text/html": "(3 rows affected)"
                    },
                    "metadata": {}
                },
                {
                    "output_type": "display_data",
                    "data": {
                        "text/html": "Total execution time: 00:00:00.023"
                    },
                    "metadata": {}
                },
                {
                    "output_type": "execute_result",
                    "metadata": {},
                    "execution_count": 8,
                    "data": {
                        "application/vnd.dataresource+json": {
                            "schema": {
                                "fields": [
                                    {
                                        "name": "ProductName"
                                    }
                                ]
                            },
                            "data": [
                                {
                                    "ProductName": "Laptop"
                                },
                                {
                                    "ProductName": "Desk"
                                },
                                {
                                    "ProductName": "Phone"
                                }
                            ]
                        },
                        "text/html": [
                            "<table>",
                            "<tr><th>ProductName</th></tr>",
                            "<tr><td>Laptop</td></tr>",
                            "<tr><td>Desk</td></tr>",
                            "<tr><td>Phone</td></tr>",
                            "</table>"
                        ]
                    }
                }
            ],
            "execution_count": 8
        },
        {
            "cell_type": "markdown",
            "source": [
                "#### Question 2:\n",
                "\n",
                "Find the product with the highest price.\n",
                "\n",
                "#### Solution:\n",
                ""
            ],
            "metadata": {
                "language": "sql",
                "azdata_cell_guid": "4dba122d-08f6-4fe7-b41d-6ccef90858eb"
            },
            "attachments": {}
        },
        {
            "cell_type": "code",
            "source": [
                "\n",
                "SELECT ProductName\n",
                "\n",
                "FROM Products\n",
                "\n",
                "WHERE Price = (SELECT MAX(Price) FROM Products);"
            ],
            "metadata": {
                "language": "sql",
                "azdata_cell_guid": "e0a68330-ab23-40be-be95-faab0cd04af9"
            },
            "outputs": [
                {
                    "output_type": "display_data",
                    "data": {
                        "text/html": "(1 row affected)"
                    },
                    "metadata": {}
                },
                {
                    "output_type": "display_data",
                    "data": {
                        "text/html": "Total execution time: 00:00:00.022"
                    },
                    "metadata": {}
                },
                {
                    "output_type": "execute_result",
                    "metadata": {},
                    "execution_count": 9,
                    "data": {
                        "application/vnd.dataresource+json": {
                            "schema": {
                                "fields": [
                                    {
                                        "name": "ProductName"
                                    }
                                ]
                            },
                            "data": [
                                {
                                    "ProductName": "Laptop"
                                }
                            ]
                        },
                        "text/html": [
                            "<table>",
                            "<tr><th>ProductName</th></tr>",
                            "<tr><td>Laptop</td></tr>",
                            "</table>"
                        ]
                    }
                }
            ],
            "execution_count": 9
        },
        {
            "cell_type": "markdown",
            "source": [
                "#### Question 3:\n",
                "\n",
                "Retrieve the product names with prices higher than the price of the 'Laptop'.\n",
                "\n",
                "#### Solution:\n",
                "\n",
                ""
            ],
            "metadata": {
                "language": "sql",
                "azdata_cell_guid": "656049cf-924f-435a-aa46-dfb7f9785984"
            },
            "attachments": {}
        },
        {
            "cell_type": "code",
            "source": [
                "\n",
                "SELECT ProductName\n",
                "\n",
                "FROM Products\n",
                "\n",
                "WHERE Price > (SELECT Price FROM Products WHERE ProductName = 'Laptop');"
            ],
            "metadata": {
                "language": "sql",
                "azdata_cell_guid": "3ad78bac-22bb-47ad-bf06-1b119b7ab844"
            },
            "outputs": [
                {
                    "output_type": "display_data",
                    "data": {
                        "text/html": "(0 rows affected)"
                    },
                    "metadata": {}
                },
                {
                    "output_type": "display_data",
                    "data": {
                        "text/html": "Total execution time: 00:00:00.045"
                    },
                    "metadata": {}
                },
                {
                    "output_type": "execute_result",
                    "metadata": {},
                    "execution_count": 10,
                    "data": {
                        "application/vnd.dataresource+json": {
                            "schema": {
                                "fields": [
                                    {
                                        "name": "ProductName"
                                    }
                                ]
                            },
                            "data": []
                        },
                        "text/html": [
                            "<table>",
                            "<tr><th>ProductName</th></tr>",
                            "</table>"
                        ]
                    }
                }
            ],
            "execution_count": 10
        },
        {
            "cell_type": "markdown",
            "source": [
                "### 9. Practice Exercise\n",
                "\n",
                "#### Question 1:\n",
                "Retrieve the product names and categories for products with prices greater than $100.\n",
                "\n",
                "#### Question 2:\n",
                "Find the products in the same category as 'Chair' with prices higher than the 'Chair'.\n",
                "\n",
                "#### Question 3:\n",
                "Retrieve the product names and prices for products in the 'Electronics' category."
            ],
            "metadata": {
                "language": "sql",
                "azdata_cell_guid": "4094bc82-e643-4780-ae0e-b3cbc4c1d7b8"
            },
            "attachments": {}
        },
        {
            "cell_type": "markdown",
            "source": [
                "### 10. EXTRAS"
            ],
            "metadata": {
                "language": "sql",
                "azdata_cell_guid": "11e60359-9f42-4036-a32e-948157abbd66"
            },
            "attachments": {}
        },
        {
            "cell_type": "markdown",
            "source": [
                "![](/Users/laxman/Documents/1.PROJECTS/DataScienceLearnersHub/images/DSLH-SubQueries.jpeg)"
            ],
            "metadata": {
                "language": "sql",
                "azdata_cell_guid": "32f4164d-07fa-4836-9ac1-b8d4a1bf521c"
            },
            "attachments": {}
        }
    ]
}