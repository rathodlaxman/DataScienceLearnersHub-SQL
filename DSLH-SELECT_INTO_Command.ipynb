{
    "metadata": {
        "kernelspec": {
            "name": "SQL",
            "display_name": "SQL",
            "language": "sql"
        },
        "language_info": {
            "name": "sql",
            "version": ""
        }
    },
    "nbformat_minor": 2,
    "nbformat": 4,
    "cells": [
        {
            "cell_type": "markdown",
            "source": [
                "# **Data Science Learners Hub**\n",
                "\n",
                "**Module : SQL**\n",
                "\n",
                "**Topic :** **SELECT INTO Command** \n",
                "\n",
                "**email** : [datasciencelearnershub@gmail.com](mailto:datasciencelearnershub@gmail.com)"
            ],
            "metadata": {
                "azdata_cell_guid": "76512454-b03f-443b-80c5-71f9c64e4279"
            },
            "attachments": {}
        },
        {
            "cell_type": "code",
            "source": [
                "USE DataScienceLearnersHub"
            ],
            "metadata": {
                "azdata_cell_guid": "92a75a8f-f920-47a0-a00c-8c435c0c35c1",
                "language": "sql"
            },
            "outputs": [
                {
                    "output_type": "display_data",
                    "data": {
                        "text/html": "Commands completed successfully."
                    },
                    "metadata": {}
                },
                {
                    "output_type": "display_data",
                    "data": {
                        "text/html": "Total execution time: 00:00:00.001"
                    },
                    "metadata": {}
                }
            ],
            "execution_count": 1
        },
        {
            "cell_type": "markdown",
            "source": [
                "### **SELECT INTO**\n",
                "\n",
                "- The \\`SELECT INTO\\` statement in SQL is used to create a new table and populate it with the result set of a \\`SELECT\\` query. It's a convenient way to create a new table on-the-fly based on the columns and data returned by a query. The new table is created with the same structure as the result set of the \\`SELECT\\` query.\n",
                "\n",
                "<span style=\"font-size: 13px;\"><b>Syntax :</b></span>\n",
                "\n",
                "<span style=\"font-size: 13px;\">SELECT column1, column2, ...</span>\n",
                "\n",
                "<span style=\"font-size: 13px;\">INTO new_table</span>\n",
                "\n",
                "<span style=\"font-size: 13px;\">FROM source_table</span>\n",
                "\n",
                "<span style=\"font-size: 13px;\">WHERE condition;</span>\n",
                "\n",
                "<span style=\"font-size: 13px;\"><br></span>\n",
                "\n",
                "<span style=\"font-size: 13px;\"><b>Explanation :</b></span>\n",
                "\n",
                "\\- \\`column1, column2, ...\\`: The columns you want to select from the source table.\n",
                "\n",
                "\\- \\`new\\_table\\`: The name of the new table to be created.\n",
                "\n",
                "\\- \\`source\\_table\\`: The table from which to select data.\n",
                "\n",
                "\\- \\`WHERE condition\\`: Optional condition to filter the rows."
            ],
            "metadata": {
                "language": "sql",
                "azdata_cell_guid": "48d87498-2306-4b74-8a03-cc0b47240743"
            },
            "attachments": {}
        },
        {
            "cell_type": "markdown",
            "source": [
                "**Example :**\n",
                "\n",
                "Now, let's illustrate the \\`SELECT INTO\\` statement with an example. Suppose you have an existing \"Emp\" table, and you want to create a new table called \"Employees\" ."
            ],
            "metadata": {
                "language": "sql",
                "azdata_cell_guid": "cdebfb6f-6293-4c7e-8cbd-12ad205ca87f"
            },
            "attachments": {}
        },
        {
            "cell_type": "code",
            "source": [
                "SELECT * FROM Emp"
            ],
            "metadata": {
                "language": "sql",
                "azdata_cell_guid": "642e6197-0427-433a-9433-bd3ce0ef94e1"
            },
            "outputs": [
                {
                    "output_type": "display_data",
                    "data": {
                        "text/html": "(11 rows affected)"
                    },
                    "metadata": {}
                },
                {
                    "output_type": "display_data",
                    "data": {
                        "text/html": "Total execution time: 00:00:00.024"
                    },
                    "metadata": {}
                },
                {
                    "output_type": "execute_result",
                    "execution_count": 2,
                    "data": {
                        "application/vnd.dataresource+json": {
                            "schema": {
                                "fields": [
                                    {
                                        "name": "id"
                                    },
                                    {
                                        "name": "name"
                                    },
                                    {
                                        "name": "age"
                                    },
                                    {
                                        "name": "gender"
                                    },
                                    {
                                        "name": "salary"
                                    },
                                    {
                                        "name": "department"
                                    },
                                    {
                                        "name": "MonthlySalary"
                                    },
                                    {
                                        "name": "EmailAddress"
                                    },
                                    {
                                        "name": "FullName"
                                    }
                                ]
                            },
                            "data": [
                                {
                                    "id": "1",
                                    "name": "Rajesh",
                                    "age": "30",
                                    "gender": "Male",
                                    "salary": "60000.00",
                                    "department": "IT",
                                    "MonthlySalary": "5000.000000",
                                    "EmailAddress": "Rajesh_1@company.com",
                                    "FullName": "Rajesh IT"
                                },
                                {
                                    "id": "3",
                                    "name": "Laxman",
                                    "age": "35",
                                    "gender": "Male",
                                    "salary": "70000.75",
                                    "department": "Finance",
                                    "MonthlySalary": "5833.395833",
                                    "EmailAddress": "Laxman_3@company.com",
                                    "FullName": "Laxman Finance"
                                },
                                {
                                    "id": "4",
                                    "name": "Ganga",
                                    "age": "28",
                                    "gender": "Female",
                                    "salary": "48000.25",
                                    "department": "Marketing",
                                    "MonthlySalary": "4000.020833",
                                    "EmailAddress": "Ganga_4@company.com",
                                    "FullName": "Ganga Marketing"
                                },
                                {
                                    "id": "5",
                                    "name": "Nikhil",
                                    "age": "32",
                                    "gender": "Male",
                                    "salary": "72000.00",
                                    "department": "IT",
                                    "MonthlySalary": "6000.000000",
                                    "EmailAddress": "Nikhil_5@company.com",
                                    "FullName": "Nikhil IT"
                                },
                                {
                                    "id": "6",
                                    "name": "Sarita",
                                    "age": "29",
                                    "gender": "Female",
                                    "salary": "58000.75",
                                    "department": "HR",
                                    "MonthlySalary": "4833.395833",
                                    "EmailAddress": "Sarita_6@company.com",
                                    "FullName": "Sarita HR"
                                },
                                {
                                    "id": "7",
                                    "name": "Bunny",
                                    "age": "40",
                                    "gender": "Male",
                                    "salary": "85000.50",
                                    "department": "Finance",
                                    "MonthlySalary": "7083.375000",
                                    "EmailAddress": "Bunny_7@company.com",
                                    "FullName": "Bunny Finance"
                                },
                                {
                                    "id": "8",
                                    "name": "Namrata",
                                    "age": "26",
                                    "gender": "Female",
                                    "salary": "50000.50",
                                    "department": "Marketing",
                                    "MonthlySalary": "4166.708333",
                                    "EmailAddress": "Namrata_8@company.com",
                                    "FullName": "Namrata Marketing"
                                },
                                {
                                    "id": "9",
                                    "name": "Abhiram",
                                    "age": "38",
                                    "gender": "Male",
                                    "salary": "78000.25",
                                    "department": "IT",
                                    "MonthlySalary": "6500.020833",
                                    "EmailAddress": "Abhiram_9@company.com",
                                    "FullName": "Abhiram IT"
                                },
                                {
                                    "id": "10",
                                    "name": "Tikram",
                                    "age": "31",
                                    "gender": "Female",
                                    "salary": "62000.00",
                                    "department": "Finance",
                                    "MonthlySalary": "5166.666666",
                                    "EmailAddress": "Tikram_10@company.com",
                                    "FullName": "Tikram Finance"
                                },
                                {
                                    "id": "11",
                                    "name": "Ramulu",
                                    "age": "58",
                                    "gender": "Male",
                                    "salary": "178000.25",
                                    "department": "IT",
                                    "MonthlySalary": "14833.354166",
                                    "EmailAddress": "Ramulu_11@company.com",
                                    "FullName": "Ramulu IT"
                                },
                                {
                                    "id": "12",
                                    "name": "Bala",
                                    "age": "51",
                                    "gender": "Female",
                                    "salary": "162000.00",
                                    "department": "Finance",
                                    "MonthlySalary": "13500.000000",
                                    "EmailAddress": "Bala_12@company.com",
                                    "FullName": "Bala Finance"
                                }
                            ]
                        },
                        "text/html": "<table><tr><th>id</th><th>name</th><th>age</th><th>gender</th><th>salary</th><th>department</th><th>MonthlySalary</th><th>EmailAddress</th><th>FullName</th></tr><tr><td>1</td><td>Rajesh</td><td>30</td><td>Male</td><td>60000.00</td><td>IT</td><td>5000.000000</td><td>Rajesh_1@company.com</td><td>Rajesh IT</td></tr><tr><td>3</td><td>Laxman</td><td>35</td><td>Male</td><td>70000.75</td><td>Finance</td><td>5833.395833</td><td>Laxman_3@company.com</td><td>Laxman Finance</td></tr><tr><td>4</td><td>Ganga</td><td>28</td><td>Female</td><td>48000.25</td><td>Marketing</td><td>4000.020833</td><td>Ganga_4@company.com</td><td>Ganga Marketing</td></tr><tr><td>5</td><td>Nikhil</td><td>32</td><td>Male</td><td>72000.00</td><td>IT</td><td>6000.000000</td><td>Nikhil_5@company.com</td><td>Nikhil IT</td></tr><tr><td>6</td><td>Sarita</td><td>29</td><td>Female</td><td>58000.75</td><td>HR</td><td>4833.395833</td><td>Sarita_6@company.com</td><td>Sarita HR</td></tr><tr><td>7</td><td>Bunny</td><td>40</td><td>Male</td><td>85000.50</td><td>Finance</td><td>7083.375000</td><td>Bunny_7@company.com</td><td>Bunny Finance</td></tr><tr><td>8</td><td>Namrata</td><td>26</td><td>Female</td><td>50000.50</td><td>Marketing</td><td>4166.708333</td><td>Namrata_8@company.com</td><td>Namrata Marketing</td></tr><tr><td>9</td><td>Abhiram</td><td>38</td><td>Male</td><td>78000.25</td><td>IT</td><td>6500.020833</td><td>Abhiram_9@company.com</td><td>Abhiram IT</td></tr><tr><td>10</td><td>Tikram</td><td>31</td><td>Female</td><td>62000.00</td><td>Finance</td><td>5166.666666</td><td>Tikram_10@company.com</td><td>Tikram Finance</td></tr><tr><td>11</td><td>Ramulu</td><td>58</td><td>Male</td><td>178000.25</td><td>IT</td><td>14833.354166</td><td>Ramulu_11@company.com</td><td>Ramulu IT</td></tr><tr><td>12</td><td>Bala</td><td>51</td><td>Female</td><td>162000.00</td><td>Finance</td><td>13500.000000</td><td>Bala_12@company.com</td><td>Bala Finance</td></tr></table>"
                    },
                    "metadata": {}
                }
            ],
            "execution_count": 2
        },
        {
            "cell_type": "code",
            "source": [
                "-- Create a new table \"Employees\" with the structure of the result set from Emp table\n",
                "SELECT *\n",
                "INTO Employees\n",
                "FROM Emp\n",
                "\n",
                "-- Note :\n",
                "-- After executing this query, a new table named \"NewEmployees\" will be created, and \n",
                "-- it will contain the same columns as the \"Employees\" table, with same data "
            ],
            "metadata": {
                "language": "sql",
                "azdata_cell_guid": "b6af6b77-d78f-4255-8637-85fcc7476d97"
            },
            "outputs": [
                {
                    "output_type": "display_data",
                    "data": {
                        "text/html": "(11 rows affected)"
                    },
                    "metadata": {}
                },
                {
                    "output_type": "display_data",
                    "data": {
                        "text/html": "Total execution time: 00:00:00.087"
                    },
                    "metadata": {}
                }
            ],
            "execution_count": 3
        },
        {
            "cell_type": "code",
            "source": [
                "SELECT * FROM Employees\n",
                ""
            ],
            "metadata": {
                "language": "sql",
                "azdata_cell_guid": "93e8a8ab-dbb8-45c1-9da2-ed0bcce6ce02"
            },
            "outputs": [
                {
                    "output_type": "display_data",
                    "data": {
                        "text/html": "(11 rows affected)"
                    },
                    "metadata": {}
                },
                {
                    "output_type": "display_data",
                    "data": {
                        "text/html": "Total execution time: 00:00:00.034"
                    },
                    "metadata": {}
                },
                {
                    "output_type": "execute_result",
                    "execution_count": 4,
                    "data": {
                        "application/vnd.dataresource+json": {
                            "schema": {
                                "fields": [
                                    {
                                        "name": "id"
                                    },
                                    {
                                        "name": "name"
                                    },
                                    {
                                        "name": "age"
                                    },
                                    {
                                        "name": "gender"
                                    },
                                    {
                                        "name": "salary"
                                    },
                                    {
                                        "name": "department"
                                    },
                                    {
                                        "name": "MonthlySalary"
                                    },
                                    {
                                        "name": "EmailAddress"
                                    },
                                    {
                                        "name": "FullName"
                                    }
                                ]
                            },
                            "data": [
                                {
                                    "id": "1",
                                    "name": "Rajesh",
                                    "age": "30",
                                    "gender": "Male",
                                    "salary": "60000.00",
                                    "department": "IT",
                                    "MonthlySalary": "5000.000000",
                                    "EmailAddress": "Rajesh_1@company.com",
                                    "FullName": "Rajesh IT"
                                },
                                {
                                    "id": "3",
                                    "name": "Laxman",
                                    "age": "35",
                                    "gender": "Male",
                                    "salary": "70000.75",
                                    "department": "Finance",
                                    "MonthlySalary": "5833.395833",
                                    "EmailAddress": "Laxman_3@company.com",
                                    "FullName": "Laxman Finance"
                                },
                                {
                                    "id": "4",
                                    "name": "Ganga",
                                    "age": "28",
                                    "gender": "Female",
                                    "salary": "48000.25",
                                    "department": "Marketing",
                                    "MonthlySalary": "4000.020833",
                                    "EmailAddress": "Ganga_4@company.com",
                                    "FullName": "Ganga Marketing"
                                },
                                {
                                    "id": "5",
                                    "name": "Nikhil",
                                    "age": "32",
                                    "gender": "Male",
                                    "salary": "72000.00",
                                    "department": "IT",
                                    "MonthlySalary": "6000.000000",
                                    "EmailAddress": "Nikhil_5@company.com",
                                    "FullName": "Nikhil IT"
                                },
                                {
                                    "id": "6",
                                    "name": "Sarita",
                                    "age": "29",
                                    "gender": "Female",
                                    "salary": "58000.75",
                                    "department": "HR",
                                    "MonthlySalary": "4833.395833",
                                    "EmailAddress": "Sarita_6@company.com",
                                    "FullName": "Sarita HR"
                                },
                                {
                                    "id": "7",
                                    "name": "Bunny",
                                    "age": "40",
                                    "gender": "Male",
                                    "salary": "85000.50",
                                    "department": "Finance",
                                    "MonthlySalary": "7083.375000",
                                    "EmailAddress": "Bunny_7@company.com",
                                    "FullName": "Bunny Finance"
                                },
                                {
                                    "id": "8",
                                    "name": "Namrata",
                                    "age": "26",
                                    "gender": "Female",
                                    "salary": "50000.50",
                                    "department": "Marketing",
                                    "MonthlySalary": "4166.708333",
                                    "EmailAddress": "Namrata_8@company.com",
                                    "FullName": "Namrata Marketing"
                                },
                                {
                                    "id": "9",
                                    "name": "Abhiram",
                                    "age": "38",
                                    "gender": "Male",
                                    "salary": "78000.25",
                                    "department": "IT",
                                    "MonthlySalary": "6500.020833",
                                    "EmailAddress": "Abhiram_9@company.com",
                                    "FullName": "Abhiram IT"
                                },
                                {
                                    "id": "10",
                                    "name": "Tikram",
                                    "age": "31",
                                    "gender": "Female",
                                    "salary": "62000.00",
                                    "department": "Finance",
                                    "MonthlySalary": "5166.666666",
                                    "EmailAddress": "Tikram_10@company.com",
                                    "FullName": "Tikram Finance"
                                },
                                {
                                    "id": "11",
                                    "name": "Ramulu",
                                    "age": "58",
                                    "gender": "Male",
                                    "salary": "178000.25",
                                    "department": "IT",
                                    "MonthlySalary": "14833.354166",
                                    "EmailAddress": "Ramulu_11@company.com",
                                    "FullName": "Ramulu IT"
                                },
                                {
                                    "id": "12",
                                    "name": "Bala",
                                    "age": "51",
                                    "gender": "Female",
                                    "salary": "162000.00",
                                    "department": "Finance",
                                    "MonthlySalary": "13500.000000",
                                    "EmailAddress": "Bala_12@company.com",
                                    "FullName": "Bala Finance"
                                }
                            ]
                        },
                        "text/html": "<table><tr><th>id</th><th>name</th><th>age</th><th>gender</th><th>salary</th><th>department</th><th>MonthlySalary</th><th>EmailAddress</th><th>FullName</th></tr><tr><td>1</td><td>Rajesh</td><td>30</td><td>Male</td><td>60000.00</td><td>IT</td><td>5000.000000</td><td>Rajesh_1@company.com</td><td>Rajesh IT</td></tr><tr><td>3</td><td>Laxman</td><td>35</td><td>Male</td><td>70000.75</td><td>Finance</td><td>5833.395833</td><td>Laxman_3@company.com</td><td>Laxman Finance</td></tr><tr><td>4</td><td>Ganga</td><td>28</td><td>Female</td><td>48000.25</td><td>Marketing</td><td>4000.020833</td><td>Ganga_4@company.com</td><td>Ganga Marketing</td></tr><tr><td>5</td><td>Nikhil</td><td>32</td><td>Male</td><td>72000.00</td><td>IT</td><td>6000.000000</td><td>Nikhil_5@company.com</td><td>Nikhil IT</td></tr><tr><td>6</td><td>Sarita</td><td>29</td><td>Female</td><td>58000.75</td><td>HR</td><td>4833.395833</td><td>Sarita_6@company.com</td><td>Sarita HR</td></tr><tr><td>7</td><td>Bunny</td><td>40</td><td>Male</td><td>85000.50</td><td>Finance</td><td>7083.375000</td><td>Bunny_7@company.com</td><td>Bunny Finance</td></tr><tr><td>8</td><td>Namrata</td><td>26</td><td>Female</td><td>50000.50</td><td>Marketing</td><td>4166.708333</td><td>Namrata_8@company.com</td><td>Namrata Marketing</td></tr><tr><td>9</td><td>Abhiram</td><td>38</td><td>Male</td><td>78000.25</td><td>IT</td><td>6500.020833</td><td>Abhiram_9@company.com</td><td>Abhiram IT</td></tr><tr><td>10</td><td>Tikram</td><td>31</td><td>Female</td><td>62000.00</td><td>Finance</td><td>5166.666666</td><td>Tikram_10@company.com</td><td>Tikram Finance</td></tr><tr><td>11</td><td>Ramulu</td><td>58</td><td>Male</td><td>178000.25</td><td>IT</td><td>14833.354166</td><td>Ramulu_11@company.com</td><td>Ramulu IT</td></tr><tr><td>12</td><td>Bala</td><td>51</td><td>Female</td><td>162000.00</td><td>Finance</td><td>13500.000000</td><td>Bala_12@company.com</td><td>Bala Finance</td></tr></table>"
                    },
                    "metadata": {}
                }
            ],
            "execution_count": 4
        },
        {
            "cell_type": "markdown",
            "source": [
                "### **Note :** \n",
                "\n",
                "- It's important to note that the \\`SELECT INTO\\` statement creates a new table, and it will fail if the specified table already exists. If you want to insert data into an existing table, you should use the \\`INSERT INTO\\` statement instead."
            ],
            "metadata": {
                "language": "sql",
                "azdata_cell_guid": "130d37b9-6055-41c0-946d-b0abf04520ba"
            },
            "attachments": {}
        }
    ]
}