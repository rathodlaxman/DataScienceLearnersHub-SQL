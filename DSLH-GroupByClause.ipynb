{
    "metadata": {
        "kernelspec": {
            "name": "SQL",
            "display_name": "SQL",
            "language": "sql"
        },
        "language_info": {
            "name": "sql",
            "version": ""
        }
    },
    "nbformat_minor": 2,
    "nbformat": 4,
    "cells": [
        {
            "cell_type": "markdown",
            "source": [
                "# **Data Science Learners Hub**\n",
                "\n",
                "**Module : SQL**\n",
                "\n",
                "**Topic :** **GROUP BY Clause**\n",
                "\n",
                "**email** : [datasciencelearnershub@gmail.com](mailto:datasciencelearnershub@gmail.com)"
            ],
            "metadata": {
                "azdata_cell_guid": "346c6b3d-fe4f-4029-8eec-7e146c577b2a"
            },
            "attachments": {}
        },
        {
            "cell_type": "markdown",
            "source": [
                "### **GROUP BY Clause:**\n",
                "\n",
                "- The GROUP BY clause is used to arrange identical data into groups. It is often used with aggregate functions like SUM, COUNT, AVG, MAX, or MIN to perform operations on each group of data.\n",
                "- It is a key player in summarizing and analyzing large datasets."
            ],
            "metadata": {
                "azdata_cell_guid": "7e884ef0-5ad8-4125-9fc5-56de9f3d62ea"
            },
            "attachments": {}
        },
        {
            "cell_type": "code",
            "source": [
                "USE DataScienceLearnersHub"
            ],
            "metadata": {
                "azdata_cell_guid": "cbe8584e-d9d2-49bd-8e42-90ad5c9a61a7",
                "language": "sql"
            },
            "outputs": [
                {
                    "output_type": "display_data",
                    "data": {
                        "text/html": "Commands completed successfully."
                    },
                    "metadata": {}
                },
                {
                    "output_type": "display_data",
                    "data": {
                        "text/html": "Total execution time: 00:00:00.006"
                    },
                    "metadata": {}
                }
            ],
            "execution_count": 1
        },
        {
            "cell_type": "markdown",
            "source": [
                "**Create a simple table:**"
            ],
            "metadata": {
                "language": "sql",
                "azdata_cell_guid": "0d1f4861-453d-441f-8e98-ca8b58ebff4a"
            },
            "attachments": {}
        },
        {
            "cell_type": "code",
            "source": [
                "CREATE TABLE Sales (\n",
                "    SaleID INT PRIMARY KEY,\n",
                "    ProductName VARCHAR(50),\n",
                "    Category VARCHAR(50),\n",
                "    SaleAmount DECIMAL(10, 2),\n",
                "    SaleDate DATE\n",
                ");"
            ],
            "metadata": {
                "azdata_cell_guid": "8aea34de-ce40-49fc-a5aa-ea3bbd573c5c",
                "language": "sql"
            },
            "outputs": [
                {
                    "output_type": "display_data",
                    "data": {
                        "text/html": "Commands completed successfully."
                    },
                    "metadata": {}
                },
                {
                    "output_type": "display_data",
                    "data": {
                        "text/html": "Total execution time: 00:00:00.088"
                    },
                    "metadata": {}
                }
            ],
            "execution_count": 2
        },
        {
            "cell_type": "markdown",
            "source": [
                "**Insert queries**"
            ],
            "metadata": {
                "language": "sql",
                "azdata_cell_guid": "ae95933a-a0f7-4f09-9a9b-d57070bb6c05"
            },
            "attachments": {}
        },
        {
            "cell_type": "code",
            "source": [
                "INSERT INTO Sales VALUES (1, 'Product A', 'Electronics', 500.00, '2023-01-01');\n",
                "INSERT INTO Sales VALUES (2, 'Product B', 'Clothing', 300.00, '2023-01-02');\n",
                "INSERT INTO Sales VALUES (3, 'Product C', 'Electronics', 800.00, '2023-01-03');\n",
                "INSERT INTO Sales VALUES (4, 'Product D', 'Clothing', 450.00, '2023-01-04');\n",
                "INSERT INTO Sales VALUES (5, 'Product E', 'Electronics', 700.00, '2023-01-05');"
            ],
            "metadata": {
                "language": "sql",
                "azdata_cell_guid": "1860cf6a-ddb9-419e-ab41-fa1e41426c8d"
            },
            "outputs": [
                {
                    "output_type": "display_data",
                    "data": {
                        "text/html": "(1 row affected)"
                    },
                    "metadata": {}
                },
                {
                    "output_type": "display_data",
                    "data": {
                        "text/html": "(1 row affected)"
                    },
                    "metadata": {}
                },
                {
                    "output_type": "display_data",
                    "data": {
                        "text/html": "(1 row affected)"
                    },
                    "metadata": {}
                },
                {
                    "output_type": "display_data",
                    "data": {
                        "text/html": "(1 row affected)"
                    },
                    "metadata": {}
                },
                {
                    "output_type": "display_data",
                    "data": {
                        "text/html": "(1 row affected)"
                    },
                    "metadata": {}
                },
                {
                    "output_type": "display_data",
                    "data": {
                        "text/html": "Total execution time: 00:00:00.076"
                    },
                    "metadata": {}
                }
            ],
            "execution_count": 3
        },
        {
            "cell_type": "code",
            "source": [
                "SELECT * FROM Sales"
            ],
            "metadata": {
                "language": "",
                "azdata_cell_guid": "b8a9ab0a-d8fc-4288-ba83-e59bf5b3a5be"
            },
            "outputs": [
                {
                    "output_type": "display_data",
                    "data": {
                        "text/html": "(5 rows affected)"
                    },
                    "metadata": {}
                },
                {
                    "output_type": "display_data",
                    "data": {
                        "text/html": "Total execution time: 00:00:00.051"
                    },
                    "metadata": {}
                },
                {
                    "output_type": "execute_result",
                    "metadata": {},
                    "execution_count": 4,
                    "data": {
                        "application/vnd.dataresource+json": {
                            "schema": {
                                "fields": [
                                    {
                                        "name": "SaleID"
                                    },
                                    {
                                        "name": "ProductName"
                                    },
                                    {
                                        "name": "Category"
                                    },
                                    {
                                        "name": "SaleAmount"
                                    },
                                    {
                                        "name": "SaleDate"
                                    }
                                ]
                            },
                            "data": [
                                {
                                    "SaleID": "1",
                                    "ProductName": "Product A",
                                    "Category": "Electronics",
                                    "SaleAmount": "500.00",
                                    "SaleDate": "2023-01-01"
                                },
                                {
                                    "SaleID": "2",
                                    "ProductName": "Product B",
                                    "Category": "Clothing",
                                    "SaleAmount": "300.00",
                                    "SaleDate": "2023-01-02"
                                },
                                {
                                    "SaleID": "3",
                                    "ProductName": "Product C",
                                    "Category": "Electronics",
                                    "SaleAmount": "800.00",
                                    "SaleDate": "2023-01-03"
                                },
                                {
                                    "SaleID": "4",
                                    "ProductName": "Product D",
                                    "Category": "Clothing",
                                    "SaleAmount": "450.00",
                                    "SaleDate": "2023-01-04"
                                },
                                {
                                    "SaleID": "5",
                                    "ProductName": "Product E",
                                    "Category": "Electronics",
                                    "SaleAmount": "700.00",
                                    "SaleDate": "2023-01-05"
                                }
                            ]
                        },
                        "text/html": [
                            "<table>",
                            "<tr><th>SaleID</th><th>ProductName</th><th>Category</th><th>SaleAmount</th><th>SaleDate</th></tr>",
                            "<tr><td>1</td><td>Product A</td><td>Electronics</td><td>500.00</td><td>2023-01-01</td></tr>",
                            "<tr><td>2</td><td>Product B</td><td>Clothing</td><td>300.00</td><td>2023-01-02</td></tr>",
                            "<tr><td>3</td><td>Product C</td><td>Electronics</td><td>800.00</td><td>2023-01-03</td></tr>",
                            "<tr><td>4</td><td>Product D</td><td>Clothing</td><td>450.00</td><td>2023-01-04</td></tr>",
                            "<tr><td>5</td><td>Product E</td><td>Electronics</td><td>700.00</td><td>2023-01-05</td></tr>",
                            "</table>"
                        ]
                    }
                }
            ],
            "execution_count": 4
        },
        {
            "cell_type": "markdown",
            "source": [
                "**Types of GROUP BY Clause uses:**"
            ],
            "metadata": {
                "azdata_cell_guid": "4103fb81-8d4e-47f9-86a9-58c2d7219235"
            },
            "attachments": {}
        },
        {
            "cell_type": "markdown",
            "source": [
                "**a. Simple GROUP BY:**\n",
                "\n",
                "- This will give you the total sales amount for each category."
            ],
            "metadata": {
                "azdata_cell_guid": "4b54c2ef-a524-47a9-9b3b-da86931b635e"
            },
            "attachments": {}
        },
        {
            "cell_type": "code",
            "source": [
                "SELECT Category, SUM(SaleAmount) AS TotalSales\n",
                "FROM Sales\n",
                "GROUP BY Category;"
            ],
            "metadata": {
                "azdata_cell_guid": "ebf8365f-79c3-4257-9106-f224aa23e1e8",
                "language": "sql"
            },
            "outputs": [
                {
                    "output_type": "display_data",
                    "data": {
                        "text/html": "(2 rows affected)"
                    },
                    "metadata": {}
                },
                {
                    "output_type": "display_data",
                    "data": {
                        "text/html": "Total execution time: 00:00:00.092"
                    },
                    "metadata": {}
                },
                {
                    "output_type": "execute_result",
                    "metadata": {},
                    "execution_count": 5,
                    "data": {
                        "application/vnd.dataresource+json": {
                            "schema": {
                                "fields": [
                                    {
                                        "name": "Category"
                                    },
                                    {
                                        "name": "TotalSales"
                                    }
                                ]
                            },
                            "data": [
                                {
                                    "Category": "Clothing",
                                    "TotalSales": "750.00"
                                },
                                {
                                    "Category": "Electronics",
                                    "TotalSales": "2000.00"
                                }
                            ]
                        },
                        "text/html": [
                            "<table>",
                            "<tr><th>Category</th><th>TotalSales</th></tr>",
                            "<tr><td>Clothing</td><td>750.00</td></tr>",
                            "<tr><td>Electronics</td><td>2000.00</td></tr>",
                            "</table>"
                        ]
                    }
                }
            ],
            "execution_count": 5
        },
        {
            "cell_type": "markdown",
            "source": [
                "**b. GROUP BY with HAVING:**\n",
                "\n",
                "- This will display categories with an average sale amount greater than 400.\n",
                "- Note : The HAVING Clause is discussed in detail separately. The **HAVING** <span style=\"color: rgb(0, 0, 0); font-family: &quot;Helvetica Neue&quot;; font-size: 13px;\"> clause in SQL is used in conjunction with the </span> **GROUP BY** <span style=\"color: rgb(0, 0, 0); font-family: &quot;Helvetica Neue&quot;; font-size: 13px;\"> clause to filter the results of a query based on aggregate conditions. While the </span> **WHERE** <span style=\"color: rgb(0, 0, 0); font-family: &quot;Helvetica Neue&quot;; font-size: 13px;\"> clause filters individual rows before they are grouped and aggregated, the </span> **HAVING** <span style=\"color: rgb(0, 0, 0); font-family: &quot;Helvetica Neue&quot;; font-size: 13px;\"> clause filters the results after the grouping has occurred.</span>"
            ],
            "metadata": {
                "language": "sql",
                "azdata_cell_guid": "8d76afdd-7291-4e24-ac16-0aeba0a1768e"
            },
            "attachments": {}
        },
        {
            "cell_type": "code",
            "source": [
                "SELECT Category, AVG(SaleAmount) AS AvgSales\n",
                "FROM Sales\n",
                "GROUP BY Category\n",
                "HAVING AVG(SaleAmount) > 400;"
            ],
            "metadata": {
                "language": "sql",
                "azdata_cell_guid": "617e9fb8-176c-4d55-a0a6-37600d8918d9"
            },
            "outputs": [
                {
                    "output_type": "display_data",
                    "data": {
                        "text/html": "(1 row affected)"
                    },
                    "metadata": {}
                },
                {
                    "output_type": "display_data",
                    "data": {
                        "text/html": "Total execution time: 00:00:00.053"
                    },
                    "metadata": {}
                },
                {
                    "output_type": "execute_result",
                    "metadata": {},
                    "execution_count": 6,
                    "data": {
                        "application/vnd.dataresource+json": {
                            "schema": {
                                "fields": [
                                    {
                                        "name": "Category"
                                    },
                                    {
                                        "name": "AvgSales"
                                    }
                                ]
                            },
                            "data": [
                                {
                                    "Category": "Electronics",
                                    "AvgSales": "666.666666"
                                }
                            ]
                        },
                        "text/html": [
                            "<table>",
                            "<tr><th>Category</th><th>AvgSales</th></tr>",
                            "<tr><td>Electronics</td><td>666.666666</td></tr>",
                            "</table>"
                        ]
                    }
                }
            ],
            "execution_count": 6
        },
        {
            "cell_type": "markdown",
            "source": [
                "**c. GROUP BY with Multiple Columns:**\n",
                "\n",
                "- This will show the count of sales for each product in each category."
            ],
            "metadata": {
                "language": "sql",
                "azdata_cell_guid": "ea29d4dc-4c5e-402b-9aca-d87ae9eba275"
            },
            "attachments": {}
        },
        {
            "cell_type": "code",
            "source": [
                "SELECT Category, ProductName, COUNT(*) AS SaleCount\n",
                "FROM Sales\n",
                "GROUP BY Category, ProductName;"
            ],
            "metadata": {
                "language": "sql",
                "azdata_cell_guid": "70d291cd-2cd0-4573-9ec1-3554fb2bd715"
            },
            "outputs": [
                {
                    "output_type": "display_data",
                    "data": {
                        "text/html": "(5 rows affected)"
                    },
                    "metadata": {}
                },
                {
                    "output_type": "display_data",
                    "data": {
                        "text/html": "Total execution time: 00:00:00.040"
                    },
                    "metadata": {}
                },
                {
                    "output_type": "execute_result",
                    "metadata": {},
                    "execution_count": 7,
                    "data": {
                        "application/vnd.dataresource+json": {
                            "schema": {
                                "fields": [
                                    {
                                        "name": "Category"
                                    },
                                    {
                                        "name": "ProductName"
                                    },
                                    {
                                        "name": "SaleCount"
                                    }
                                ]
                            },
                            "data": [
                                {
                                    "Category": "Electronics",
                                    "ProductName": "Product A",
                                    "SaleCount": "1"
                                },
                                {
                                    "Category": "Clothing",
                                    "ProductName": "Product B",
                                    "SaleCount": "1"
                                },
                                {
                                    "Category": "Electronics",
                                    "ProductName": "Product C",
                                    "SaleCount": "1"
                                },
                                {
                                    "Category": "Clothing",
                                    "ProductName": "Product D",
                                    "SaleCount": "1"
                                },
                                {
                                    "Category": "Electronics",
                                    "ProductName": "Product E",
                                    "SaleCount": "1"
                                }
                            ]
                        },
                        "text/html": [
                            "<table>",
                            "<tr><th>Category</th><th>ProductName</th><th>SaleCount</th></tr>",
                            "<tr><td>Electronics</td><td>Product A</td><td>1</td></tr>",
                            "<tr><td>Clothing</td><td>Product B</td><td>1</td></tr>",
                            "<tr><td>Electronics</td><td>Product C</td><td>1</td></tr>",
                            "<tr><td>Clothing</td><td>Product D</td><td>1</td></tr>",
                            "<tr><td>Electronics</td><td>Product E</td><td>1</td></tr>",
                            "</table>"
                        ]
                    }
                }
            ],
            "execution_count": 7
        },
        {
            "cell_type": "markdown",
            "source": [
                "### **Practical application of GROUP BY**\n",
                "\n",
                "- In real-world scenarios, GROUP BY is often used in business intelligence, reporting, and data analysis. For example, you might use it to analyze sales performance by region, product category, or time period.\n",
                "- **Real-World Applications:**\n",
                "    - **E-commerce**: Analyzing customer purchase trends, identifying top-selling products.\n",
                "    - **Finance**: Calculating average expense per category, tracking revenue by region.\n",
                "    - **Marketing**: Segmenting customers based on demographics, analyzing campaign effectiveness."
            ],
            "metadata": {
                "language": "sql",
                "azdata_cell_guid": "18304e66-c280-4231-b726-142f49d588c4"
            },
            "attachments": {}
        },
        {
            "cell_type": "markdown",
            "source": [
                "### **Peculiarities and Considerations:**\n",
                "\n",
                "- All selected columns in the SELECT statement that are not part of an aggregate function must be included in the GROUP BY clause.\n",
                "- The order of columns in the GROUP BY clause matters."
            ],
            "metadata": {
                "language": "sql",
                "azdata_cell_guid": "7933ac65-a79d-4fb4-b10a-4f1d7320a36f"
            },
            "attachments": {}
        },
        {
            "cell_type": "markdown",
            "source": [
                "### **Common mistakes:**\n",
                "\n",
                "- Forgetting to include all non-aggregated columns in the GROUP BY clause.\n",
                "- Misusing aggregate functions.\n",
                "- Incorrectly ordering columns in the GROUP BY clause."
            ],
            "metadata": {
                "language": "sql",
                "azdata_cell_guid": "0222c1d6-e4b7-4b22-96f9-facbed3dcb1f"
            },
            "attachments": {}
        },
        {
            "cell_type": "markdown",
            "source": [
                ""
            ],
            "metadata": {
                "language": "sql",
                "azdata_cell_guid": "cb821e1c-fc19-4ac7-8980-a9d8e03b95ef"
            }
        }
    ]
}