{
    "metadata": {
        "kernelspec": {
            "name": "SQL",
            "display_name": "SQL",
            "language": "sql"
        },
        "language_info": {
            "name": "sql",
            "version": ""
        }
    },
    "nbformat_minor": 2,
    "nbformat": 4,
    "cells": [
        {
            "cell_type": "markdown",
            "source": [
                "# **Data Science Learners Hub**\n",
                "\n",
                "**Module : SQL**\n",
                "\n",
                "**email** : [datasciencelearnershub@gmail.com](mailto:datasciencelearnershub@gmail.com)"
            ],
            "metadata": {
                "azdata_cell_guid": "c8be76fe-930d-4131-a997-a291dde65566"
            },
            "attachments": {}
        },
        {
            "cell_type": "markdown",
            "source": [
                "## **Topic : Table Valued Functions (TVFs)**"
            ],
            "metadata": {
                "azdata_cell_guid": "db6fe569-0af2-47f6-b3ae-104f86c61e08"
            },
            "attachments": {}
        },
        {
            "cell_type": "markdown",
            "source": [
                "#### Explanation:\n",
                "\n",
                "Table Valued Functions (TVFs) in MS SQL Server are user-defined functions that return a table as a result. They play a crucial role in enhancing code modularity and reusability, allowing developers to encapsulate complex queries.\n",
                "\n",
                "#### Definition:\n",
                "\n",
                "A Table Valued Function is a user-defined function that returns a table as its result set. It can be used in the FROM clause of a SELECT statement, making it act similar to a regular table.\n",
                "\n",
                "#### Importance in SQL:\n",
                "\n",
                "Table Valued Functions are essential in SQL as they enable the reuse of logic and calculations in queries. They provide a modular approach to data retrieval, making the code more maintainable and scalable.\n",
                "\n",
                "#### Real-World Application:\n",
                "\n",
                "Consider a scenario where a Table Valued Function is used to calculate the total cost of items in a shopping cart. The function could take the item details as parameters and return a table with the calculated total cost for each item.\n",
                "\n",
                "#### Syntax for Table Valued Functions:\n",
                "\n",
                "```sql\n",
                "-- Inline Table Valued Function Syntax\n",
                "CREATE FUNCTION dbo.GetEmployeesByDepartment\n",
                "(\n",
                "    @DepartmentID INT\n",
                ")\n",
                "RETURNS TABLE\n",
                "AS\n",
                "RETURN\n",
                "(\n",
                "    SELECT *\n",
                "    FROM Employee\n",
                "    WHERE DepartmentID = @DepartmentID\n",
                ");\n",
                "```\n",
                "\n",
                "#### Considerations:\n",
                "\n",
                "- Choose appropriate data types for parameters and the return type.\n",
                "- Inline functions are generally more efficient for simple queries.\n",
                "- Multi-Statement functions allow for more complex logic but might have performance implications.\n",
                "\n",
                "#### Common Mistakes:\n",
                "\n",
                "- Incorrectly defining the table structure in the RETURNS clause.\n",
                "- Using the wrong data types for parameters.\n",
                "\n",
                ""
            ],
            "metadata": {
                "azdata_cell_guid": "ee761cc4-280f-46f4-bf70-50bd466bba32"
            },
            "attachments": {}
        },
        {
            "cell_type": "markdown",
            "source": [
                "#### Create Table and Generate Insert Statements:"
            ],
            "metadata": {
                "azdata_cell_guid": "606cd456-414b-41b7-b180-a7e6f3f658a8"
            },
            "attachments": {}
        },
        {
            "cell_type": "code",
            "source": [
                "USE DataScienceLearnersHub"
            ],
            "metadata": {
                "azdata_cell_guid": "6dc0c11a-bea5-48e6-80be-8d83d033d559",
                "language": "sql"
            },
            "outputs": [
                {
                    "output_type": "display_data",
                    "data": {
                        "text/html": "Commands completed successfully."
                    },
                    "metadata": {}
                },
                {
                    "output_type": "display_data",
                    "data": {
                        "text/html": "Total execution time: 00:00:00.001"
                    },
                    "metadata": {}
                }
            ],
            "execution_count": 1
        },
        {
            "cell_type": "code",
            "source": [
                "CREATE TABLE Employee (\n",
                "    EmployeeID INT PRIMARY KEY,\n",
                "    FirstName VARCHAR(50),\n",
                "    LastName VARCHAR(50),\n",
                "    DepartmentID INT\n",
                ");\n",
                "\n",
                "INSERT INTO Employee VALUES (1, 'Laxman', 'Rathod', 101);\n",
                "INSERT INTO Employee VALUES (2, 'Vijay', 'Jones', 102);\n",
                "INSERT INTO Employee VALUES (3, 'Jayanthan', 'M', 101);"
            ],
            "metadata": {
                "language": "sql",
                "azdata_cell_guid": "03fa06af-4424-4811-8c9d-d40e78eaef94"
            },
            "outputs": [
                {
                    "output_type": "display_data",
                    "data": {
                        "text/html": "(1 row affected)"
                    },
                    "metadata": {}
                },
                {
                    "output_type": "display_data",
                    "data": {
                        "text/html": "(1 row affected)"
                    },
                    "metadata": {}
                },
                {
                    "output_type": "display_data",
                    "data": {
                        "text/html": "(1 row affected)"
                    },
                    "metadata": {}
                },
                {
                    "output_type": "display_data",
                    "data": {
                        "text/html": "Total execution time: 00:00:00.026"
                    },
                    "metadata": {}
                }
            ],
            "execution_count": 6
        },
        {
            "cell_type": "code",
            "source": [
                "SELECT * FROM Employee"
            ],
            "metadata": {
                "language": "sql",
                "azdata_cell_guid": "76be9ec0-8293-4f2b-be0f-f620299fe913"
            },
            "outputs": [
                {
                    "output_type": "display_data",
                    "data": {
                        "text/html": "(3 rows affected)"
                    },
                    "metadata": {}
                },
                {
                    "output_type": "display_data",
                    "data": {
                        "text/html": "Total execution time: 00:00:00.008"
                    },
                    "metadata": {}
                },
                {
                    "output_type": "execute_result",
                    "execution_count": 7,
                    "data": {
                        "application/vnd.dataresource+json": {
                            "schema": {
                                "fields": [
                                    {
                                        "name": "EmployeeID"
                                    },
                                    {
                                        "name": "FirstName"
                                    },
                                    {
                                        "name": "LastName"
                                    },
                                    {
                                        "name": "DepartmentID"
                                    }
                                ]
                            },
                            "data": [
                                {
                                    "EmployeeID": "1",
                                    "FirstName": "Laxman",
                                    "LastName": "Rathod",
                                    "DepartmentID": "101"
                                },
                                {
                                    "EmployeeID": "2",
                                    "FirstName": "Vijay",
                                    "LastName": "Jones",
                                    "DepartmentID": "102"
                                },
                                {
                                    "EmployeeID": "3",
                                    "FirstName": "Jayanthan",
                                    "LastName": "M",
                                    "DepartmentID": "101"
                                }
                            ]
                        },
                        "text/html": "<table><tr><th>EmployeeID</th><th>FirstName</th><th>LastName</th><th>DepartmentID</th></tr><tr><td>1</td><td>Laxman</td><td>Rathod</td><td>101</td></tr><tr><td>2</td><td>Vijay</td><td>Jones</td><td>102</td></tr><tr><td>3</td><td>Jayanthan</td><td>M</td><td>101</td></tr></table>"
                    },
                    "metadata": {}
                }
            ],
            "execution_count": 7
        },
        {
            "cell_type": "code",
            "source": [
                "-- Inline Table Valued Function Syntax\n",
                "CREATE FUNCTION dbo.GetEmployeesByDepartment\n",
                "(\n",
                "    @DepartmentID INT\n",
                ")\n",
                "RETURNS TABLE\n",
                "AS\n",
                "RETURN\n",
                "(\n",
                "    SELECT *\n",
                "    FROM Employee\n",
                "    WHERE DepartmentID = @DepartmentID\n",
                ");"
            ],
            "metadata": {
                "language": "sql",
                "azdata_cell_guid": "80cfcd14-bd0a-46aa-9fa1-35a4320005aa"
            },
            "outputs": [
                {
                    "output_type": "display_data",
                    "data": {
                        "text/html": "Commands completed successfully."
                    },
                    "metadata": {}
                },
                {
                    "output_type": "display_data",
                    "data": {
                        "text/html": "Total execution time: 00:00:00.012"
                    },
                    "metadata": {}
                }
            ],
            "execution_count": 8
        },
        {
            "cell_type": "markdown",
            "source": [
                "#### Practice Questions and Solutions:\n",
                "\n",
                "1. **Question 1:**\n",
                "   How would you call the \"GetEmployeesByDepartment\" function to retrieve all employees in the IT department (DepartmentID = 101)?\n",
                "\n",
                "   **Solution:**"
            ],
            "metadata": {
                "language": "sql",
                "azdata_cell_guid": "7b0875f6-5882-46c0-9d06-dd8404d9fceb"
            },
            "attachments": {}
        },
        {
            "cell_type": "code",
            "source": [
                "   SELECT *\n",
                "   FROM dbo.GetEmployeesByDepartment(101);"
            ],
            "metadata": {
                "language": "sql",
                "azdata_cell_guid": "f4a0c9d4-8b9b-45b6-b65f-c8c3ddcd9c04"
            },
            "outputs": [
                {
                    "output_type": "display_data",
                    "data": {
                        "text/html": "(2 rows affected)"
                    },
                    "metadata": {}
                },
                {
                    "output_type": "display_data",
                    "data": {
                        "text/html": "Total execution time: 00:00:00.037"
                    },
                    "metadata": {}
                },
                {
                    "output_type": "execute_result",
                    "execution_count": 9,
                    "data": {
                        "application/vnd.dataresource+json": {
                            "schema": {
                                "fields": [
                                    {
                                        "name": "EmployeeID"
                                    },
                                    {
                                        "name": "FirstName"
                                    },
                                    {
                                        "name": "LastName"
                                    },
                                    {
                                        "name": "DepartmentID"
                                    }
                                ]
                            },
                            "data": [
                                {
                                    "EmployeeID": "1",
                                    "FirstName": "Laxman",
                                    "LastName": "Rathod",
                                    "DepartmentID": "101"
                                },
                                {
                                    "EmployeeID": "3",
                                    "FirstName": "Jayanthan",
                                    "LastName": "M",
                                    "DepartmentID": "101"
                                }
                            ]
                        },
                        "text/html": "<table><tr><th>EmployeeID</th><th>FirstName</th><th>LastName</th><th>DepartmentID</th></tr><tr><td>1</td><td>Laxman</td><td>Rathod</td><td>101</td></tr><tr><td>3</td><td>Jayanthan</td><td>M</td><td>101</td></tr></table>"
                    },
                    "metadata": {}
                }
            ],
            "execution_count": 9
        },
        {
            "cell_type": "markdown",
            "source": [
                "2. **Question 2:**\n",
                "   Modify the function \"GetEmployeesByDepartment\" to include an additional parameter for filtering employees based on their job title.\n",
                "\n",
                "   **Solution:**"
            ],
            "metadata": {
                "language": "sql",
                "azdata_cell_guid": "70acf717-08f1-4660-850b-e72151cd9e19"
            },
            "attachments": {}
        },
        {
            "cell_type": "code",
            "source": [
                "ALTER TABLE Employee\n",
                "ADD JobTitle VARCHAR(50)"
            ],
            "metadata": {
                "language": "sql",
                "azdata_cell_guid": "4465bf18-f326-4566-b087-712a9bc807fc"
            },
            "outputs": [
                {
                    "output_type": "display_data",
                    "data": {
                        "text/html": "Commands completed successfully."
                    },
                    "metadata": {}
                },
                {
                    "output_type": "display_data",
                    "data": {
                        "text/html": "Total execution time: 00:00:00.035"
                    },
                    "metadata": {}
                }
            ],
            "execution_count": 14
        },
        {
            "cell_type": "code",
            "source": [
                "SELECT * FROM Employee"
            ],
            "metadata": {
                "language": "sql",
                "azdata_cell_guid": "ebae15c4-5cd7-4bf6-bd16-57664101c164"
            },
            "outputs": [
                {
                    "output_type": "display_data",
                    "data": {
                        "text/html": "(3 rows affected)"
                    },
                    "metadata": {}
                },
                {
                    "output_type": "display_data",
                    "data": {
                        "text/html": "Total execution time: 00:00:00.019"
                    },
                    "metadata": {}
                },
                {
                    "output_type": "execute_result",
                    "execution_count": 15,
                    "data": {
                        "application/vnd.dataresource+json": {
                            "schema": {
                                "fields": [
                                    {
                                        "name": "EmployeeID"
                                    },
                                    {
                                        "name": "FirstName"
                                    },
                                    {
                                        "name": "LastName"
                                    },
                                    {
                                        "name": "DepartmentID"
                                    },
                                    {
                                        "name": "JobTitle"
                                    }
                                ]
                            },
                            "data": [
                                {
                                    "EmployeeID": "1",
                                    "FirstName": "Laxman",
                                    "LastName": "Rathod",
                                    "DepartmentID": "101",
                                    "JobTitle": "NULL"
                                },
                                {
                                    "EmployeeID": "2",
                                    "FirstName": "Vijay",
                                    "LastName": "Jones",
                                    "DepartmentID": "102",
                                    "JobTitle": "NULL"
                                },
                                {
                                    "EmployeeID": "3",
                                    "FirstName": "Jayanthan",
                                    "LastName": "M",
                                    "DepartmentID": "101",
                                    "JobTitle": "NULL"
                                }
                            ]
                        },
                        "text/html": "<table><tr><th>EmployeeID</th><th>FirstName</th><th>LastName</th><th>DepartmentID</th><th>JobTitle</th></tr><tr><td>1</td><td>Laxman</td><td>Rathod</td><td>101</td><td>NULL</td></tr><tr><td>2</td><td>Vijay</td><td>Jones</td><td>102</td><td>NULL</td></tr><tr><td>3</td><td>Jayanthan</td><td>M</td><td>101</td><td>NULL</td></tr></table>"
                    },
                    "metadata": {}
                }
            ],
            "execution_count": 15
        },
        {
            "cell_type": "code",
            "source": [
                "   ALTER FUNCTION dbo.GetEmployeesByDepartment\n",
                "   (\n",
                "       @DepartmentID INT,\n",
                "       @JobTitle VARCHAR(50)\n",
                "   )\n",
                "   RETURNS TABLE\n",
                "   AS\n",
                "   RETURN\n",
                "   (\n",
                "       SELECT *\n",
                "       FROM Employee\n",
                "       WHERE DepartmentID = @DepartmentID\n",
                "       AND JobTitle = @JobTitle\n",
                "   );"
            ],
            "metadata": {
                "language": "sql",
                "azdata_cell_guid": "88f6a2da-93f5-46d4-b98c-194d4bf4a299"
            },
            "outputs": [
                {
                    "output_type": "display_data",
                    "data": {
                        "text/html": "Commands completed successfully."
                    },
                    "metadata": {}
                },
                {
                    "output_type": "display_data",
                    "data": {
                        "text/html": "Total execution time: 00:00:00.012"
                    },
                    "metadata": {}
                }
            ],
            "execution_count": 16
        },
        {
            "cell_type": "markdown",
            "source": [
                "3. **Question 3:**\n",
                "   Create a new Table Valued Function named \"GetManagers\" that returns employees who are managers.\n",
                "\n",
                "   **Solution:**\n",
                "   ```sql\n",
                "   CREATE FUNCTION dbo.GetManagers\n",
                "   RETURNS TABLE\n",
                "   AS\n",
                "   RETURN\n",
                "   (\n",
                "       SELECT *\n",
                "       FROM Employee\n",
                "       WHERE IsManager = 1\n",
                "   );\n",
                "   ```"
            ],
            "metadata": {
                "language": "sql",
                "azdata_cell_guid": "98521b23-c8a9-4514-b398-0cdf5db6bf17"
            },
            "attachments": {}
        },
        {
            "cell_type": "markdown",
            "source": [
                "#### Homework Exercises:\n",
                "\n",
                "1. **Exercise 1:**\n",
                "   Assign a task that requires students to create a Table Valued Function named \"CalculateDiscount\" that takes item details as parameters and returns a table with the discounted price for each item.\n",
                "\n",
                "2. **Exercise 2:**\n",
                "   Challenge students to modify the \"CalculateDiscount\" function to handle additional parameters for applying different types of discounts.\n",
                "\n",
                "3. **Exercise 3:**\n",
                "   Generate a scenario where students need to create a new Table Valued Function for a specific calculation, such as calculating the average salary of employees in a department.\n",
                "\n",
                "#### Some Facts:\n",
                "\n",
                "- Table Valued Functions play a crucial role in code modularity, making it easier to maintain and manage SQL code.\n",
                "- They are particularly useful when dealing with complex queries that need to be reused across multiple parts of an application."
            ],
            "metadata": {
                "language": "sql",
                "azdata_cell_guid": "ddb0a144-7b2e-49da-b00d-b6bd0d0df30c"
            },
            "attachments": {}
        }
    ]
}