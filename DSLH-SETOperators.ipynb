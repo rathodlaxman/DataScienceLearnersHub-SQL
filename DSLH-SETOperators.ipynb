{
    "metadata": {
        "kernelspec": {
            "name": "SQL",
            "display_name": "SQL",
            "language": "sql"
        },
        "language_info": {
            "name": "sql",
            "version": ""
        }
    },
    "nbformat_minor": 2,
    "nbformat": 4,
    "cells": [
        {
            "cell_type": "markdown",
            "source": [
                "# **Data Science Learners Hub**\n",
                "\n",
                "**Module : SQL**\n",
                "\n",
                "**Topic :** <span style=\"color: var(--vscode-foreground); font-family: -apple-system, BlinkMacSystemFont, sans-serif; font-weight: 600;\">SET Operators in SQL</span>\n",
                "\n",
                "**email** : [luckyrathod.forum@gmail.com](mailto:luckyrathod.forum@gmail.com)"
            ],
            "metadata": {
                "azdata_cell_guid": "94e36e14-17c2-4c55-9b9f-f6f42a9fd10a"
            },
            "attachments": {}
        },
        {
            "cell_type": "code",
            "source": [
                "USE DataScienceLearnersHub"
            ],
            "metadata": {
                "azdata_cell_guid": "172fef11-3f48-4706-898a-c878efe59e31",
                "language": "sql"
            },
            "outputs": [
                {
                    "output_type": "display_data",
                    "data": {
                        "text/html": "Commands completed successfully."
                    },
                    "metadata": {}
                },
                {
                    "output_type": "display_data",
                    "data": {
                        "text/html": "Total execution time: 00:00:00.001"
                    },
                    "metadata": {}
                }
            ],
            "execution_count": 1
        },
        {
            "cell_type": "markdown",
            "source": [
                "**Create a Simple Table:**"
            ],
            "metadata": {
                "language": "sql",
                "azdata_cell_guid": "c9f35723-aa73-4731-9469-ddd1d7a48fdf"
            },
            "attachments": {}
        },
        {
            "cell_type": "code",
            "source": [
                "-- Creating a simple table for SET operator examples\n",
                "CREATE TABLE StudentScores (\n",
                "    StudentID INT PRIMARY KEY,\n",
                "    Subject VARCHAR(50),\n",
                "    Score INT\n",
                ");"
            ],
            "metadata": {
                "language": "sql",
                "azdata_cell_guid": "5eff92c8-3d01-4be0-8de4-9d4eac473b2f"
            },
            "outputs": [
                {
                    "output_type": "display_data",
                    "data": {
                        "text/html": "Commands completed successfully."
                    },
                    "metadata": {}
                },
                {
                    "output_type": "display_data",
                    "data": {
                        "text/html": "Total execution time: 00:00:00.069"
                    },
                    "metadata": {}
                }
            ],
            "execution_count": 2
        },
        {
            "cell_type": "markdown",
            "source": [
                "**Insert Queries:**"
            ],
            "metadata": {
                "language": "sql",
                "azdata_cell_guid": "14d1a9ee-4f39-46dc-971c-a805a06a5e18"
            },
            "attachments": {}
        },
        {
            "cell_type": "code",
            "source": [
                "-- Inserting values into the StudentScores table\n",
                "INSERT INTO StudentScores (StudentID, Subject, Score)\n",
                "VALUES\n",
                "    (1, 'Math', 85),\n",
                "    (2, 'English', 92),\n",
                "    (3, 'Science', 78),\n",
                "    (4, 'History', 88),\n",
                "    (5, 'Math', 90),\n",
                "    (6, 'English', 85),\n",
                "    (7, 'Science', 95),\n",
                "    (8, 'History', 75);"
            ],
            "metadata": {
                "language": "sql",
                "azdata_cell_guid": "98862282-c692-4d1e-954d-b3978995006e"
            },
            "outputs": [
                {
                    "output_type": "display_data",
                    "data": {
                        "text/html": "(8 rows affected)"
                    },
                    "metadata": {}
                },
                {
                    "output_type": "display_data",
                    "data": {
                        "text/html": "Total execution time: 00:00:00.026"
                    },
                    "metadata": {}
                }
            ],
            "execution_count": 3
        },
        {
            "cell_type": "code",
            "source": [
                "SELECT * FROM StudentScores"
            ],
            "metadata": {
                "language": "sql",
                "azdata_cell_guid": "944d8727-ad51-454c-84be-df9d05e2fb23"
            },
            "outputs": [
                {
                    "output_type": "display_data",
                    "data": {
                        "text/html": "(8 rows affected)"
                    },
                    "metadata": {}
                },
                {
                    "output_type": "display_data",
                    "data": {
                        "text/html": "Total execution time: 00:00:00.032"
                    },
                    "metadata": {}
                },
                {
                    "output_type": "execute_result",
                    "metadata": {},
                    "execution_count": 4,
                    "data": {
                        "application/vnd.dataresource+json": {
                            "schema": {
                                "fields": [
                                    {
                                        "name": "StudentID"
                                    },
                                    {
                                        "name": "Subject"
                                    },
                                    {
                                        "name": "Score"
                                    }
                                ]
                            },
                            "data": [
                                {
                                    "StudentID": "1",
                                    "Subject": "Math",
                                    "Score": "85"
                                },
                                {
                                    "StudentID": "2",
                                    "Subject": "English",
                                    "Score": "92"
                                },
                                {
                                    "StudentID": "3",
                                    "Subject": "Science",
                                    "Score": "78"
                                },
                                {
                                    "StudentID": "4",
                                    "Subject": "History",
                                    "Score": "88"
                                },
                                {
                                    "StudentID": "5",
                                    "Subject": "Math",
                                    "Score": "90"
                                },
                                {
                                    "StudentID": "6",
                                    "Subject": "English",
                                    "Score": "85"
                                },
                                {
                                    "StudentID": "7",
                                    "Subject": "Science",
                                    "Score": "95"
                                },
                                {
                                    "StudentID": "8",
                                    "Subject": "History",
                                    "Score": "75"
                                }
                            ]
                        },
                        "text/html": [
                            "<table>",
                            "<tr><th>StudentID</th><th>Subject</th><th>Score</th></tr>",
                            "<tr><td>1</td><td>Math</td><td>85</td></tr>",
                            "<tr><td>2</td><td>English</td><td>92</td></tr>",
                            "<tr><td>3</td><td>Science</td><td>78</td></tr>",
                            "<tr><td>4</td><td>History</td><td>88</td></tr>",
                            "<tr><td>5</td><td>Math</td><td>90</td></tr>",
                            "<tr><td>6</td><td>English</td><td>85</td></tr>",
                            "<tr><td>7</td><td>Science</td><td>95</td></tr>",
                            "<tr><td>8</td><td>History</td><td>75</td></tr>",
                            "</table>"
                        ]
                    }
                }
            ],
            "execution_count": 4
        },
        {
            "cell_type": "markdown",
            "source": [
                "### **SET Operators in MS SQL Server:**"
            ],
            "metadata": {
                "language": "sql",
                "azdata_cell_guid": "73d78c5d-f7fb-461c-9ec2-f2369ba00720"
            },
            "attachments": {}
        },
        {
            "cell_type": "markdown",
            "source": [
                "**\\`UNION\\`:**\n",
                "\n",
                "- Combines the result sets of two or more SELECT statements into a single result set, **removing duplicate rows.**\n",
                "\n",
                "**Syntax :**\n",
                "\n",
                "SELECT column1, column2, ... FROM table1\n",
                "\n",
                "**UNION**\n",
                "\n",
                "SELECT column1, column2, ... FROM table2;"
            ],
            "metadata": {
                "language": "sql",
                "azdata_cell_guid": "012ee45f-c8c9-44c1-b2a2-a82bcc60585b"
            },
            "attachments": {}
        },
        {
            "cell_type": "code",
            "source": [
                "SELECT StudentID, Subject, Score FROM StudentScores WHERE Subject = 'Math'\n",
                "UNION\n",
                "SELECT StudentID, Subject, Score FROM StudentScores WHERE Subject = 'English';"
            ],
            "metadata": {
                "language": "sql",
                "azdata_cell_guid": "62861866-b3c3-492c-860d-05c598fb9c5a"
            },
            "outputs": [
                {
                    "output_type": "display_data",
                    "data": {
                        "text/html": "(4 rows affected)"
                    },
                    "metadata": {}
                },
                {
                    "output_type": "display_data",
                    "data": {
                        "text/html": "Total execution time: 00:00:00.052"
                    },
                    "metadata": {}
                },
                {
                    "output_type": "execute_result",
                    "metadata": {},
                    "execution_count": 5,
                    "data": {
                        "application/vnd.dataresource+json": {
                            "schema": {
                                "fields": [
                                    {
                                        "name": "StudentID"
                                    },
                                    {
                                        "name": "Subject"
                                    },
                                    {
                                        "name": "Score"
                                    }
                                ]
                            },
                            "data": [
                                {
                                    "StudentID": "1",
                                    "Subject": "Math",
                                    "Score": "85"
                                },
                                {
                                    "StudentID": "5",
                                    "Subject": "Math",
                                    "Score": "90"
                                },
                                {
                                    "StudentID": "2",
                                    "Subject": "English",
                                    "Score": "92"
                                },
                                {
                                    "StudentID": "6",
                                    "Subject": "English",
                                    "Score": "85"
                                }
                            ]
                        },
                        "text/html": [
                            "<table>",
                            "<tr><th>StudentID</th><th>Subject</th><th>Score</th></tr>",
                            "<tr><td>1</td><td>Math</td><td>85</td></tr>",
                            "<tr><td>5</td><td>Math</td><td>90</td></tr>",
                            "<tr><td>2</td><td>English</td><td>92</td></tr>",
                            "<tr><td>6</td><td>English</td><td>85</td></tr>",
                            "</table>"
                        ]
                    }
                }
            ],
            "execution_count": 5
        },
        {
            "cell_type": "markdown",
            "source": [
                "**\\`INTERSECT\\`:**\n",
                "\n",
                "- Returns the common rows between the result sets of two SELECT statements.\n",
                "\n",
                "**Syntax :**\n",
                "\n",
                "SELECT column1, column2, ... FROM table1\n",
                "\n",
                "**INTERSECT**\n",
                "\n",
                "SELECT column1, column2, ... FROM table2;"
            ],
            "metadata": {
                "language": "sql",
                "azdata_cell_guid": "b8f4f3e1-f205-4d1f-bd83-2c0f3ac52ff3"
            },
            "attachments": {}
        },
        {
            "cell_type": "code",
            "source": [
                "SELECT StudentID, Subject, Score FROM StudentScores WHERE Subject = 'Math'\n",
                "INTERSECT\n",
                "SELECT StudentID, Subject, Score FROM StudentScores WHERE Score > 85;"
            ],
            "metadata": {
                "language": "sql",
                "azdata_cell_guid": "9cfa3c1d-c650-4b26-a2d7-91e961ad6651"
            },
            "outputs": [
                {
                    "output_type": "display_data",
                    "data": {
                        "text/html": "(1 row affected)"
                    },
                    "metadata": {}
                },
                {
                    "output_type": "display_data",
                    "data": {
                        "text/html": "Total execution time: 00:00:00.056"
                    },
                    "metadata": {}
                },
                {
                    "output_type": "execute_result",
                    "metadata": {},
                    "execution_count": 6,
                    "data": {
                        "application/vnd.dataresource+json": {
                            "schema": {
                                "fields": [
                                    {
                                        "name": "StudentID"
                                    },
                                    {
                                        "name": "Subject"
                                    },
                                    {
                                        "name": "Score"
                                    }
                                ]
                            },
                            "data": [
                                {
                                    "StudentID": "5",
                                    "Subject": "Math",
                                    "Score": "90"
                                }
                            ]
                        },
                        "text/html": [
                            "<table>",
                            "<tr><th>StudentID</th><th>Subject</th><th>Score</th></tr>",
                            "<tr><td>5</td><td>Math</td><td>90</td></tr>",
                            "</table>"
                        ]
                    }
                }
            ],
            "execution_count": 6
        },
        {
            "cell_type": "markdown",
            "source": [
                " **\\`EXCEPT\\`:**\n",
                "\n",
                "- Returns the distinct rows from the result set of the first SELECT statement but not present in the result set of the second SELECT statement.\n",
                "\n",
                "**Syntax :**\n",
                "\n",
                "  \n",
                "\n",
                "SELECT column1, column2, ... FROM table1\n",
                "\n",
                "**EXCEPT**\n",
                "\n",
                "SELECT column1, column2, ... FROM table2;"
            ],
            "metadata": {
                "language": "sql",
                "azdata_cell_guid": "e600373c-fbd7-4541-91ed-c856f63b11c4"
            },
            "attachments": {}
        },
        {
            "cell_type": "code",
            "source": [
                "SELECT StudentID, Subject, Score FROM StudentScores WHERE Subject = 'Math'\n",
                "EXCEPT\n",
                "SELECT StudentID, Subject, Score FROM StudentScores WHERE Score > 85;"
            ],
            "metadata": {
                "language": "sql",
                "azdata_cell_guid": "b0198e89-1963-486f-8e6d-3e7b1d7620e0"
            },
            "outputs": [
                {
                    "output_type": "display_data",
                    "data": {
                        "text/html": "(1 row affected)"
                    },
                    "metadata": {}
                },
                {
                    "output_type": "display_data",
                    "data": {
                        "text/html": "Total execution time: 00:00:00.033"
                    },
                    "metadata": {}
                },
                {
                    "output_type": "execute_result",
                    "metadata": {},
                    "execution_count": 7,
                    "data": {
                        "application/vnd.dataresource+json": {
                            "schema": {
                                "fields": [
                                    {
                                        "name": "StudentID"
                                    },
                                    {
                                        "name": "Subject"
                                    },
                                    {
                                        "name": "Score"
                                    }
                                ]
                            },
                            "data": [
                                {
                                    "StudentID": "1",
                                    "Subject": "Math",
                                    "Score": "85"
                                }
                            ]
                        },
                        "text/html": [
                            "<table>",
                            "<tr><th>StudentID</th><th>Subject</th><th>Score</th></tr>",
                            "<tr><td>1</td><td>Math</td><td>85</td></tr>",
                            "</table>"
                        ]
                    }
                }
            ],
            "execution_count": 7
        },
        {
            "cell_type": "markdown",
            "source": [
                "###  **Peculiarities and Considerations for SET Operators:**\n",
                "\n",
                "  \n",
                "\n",
                "- **Data Types and Ordering:** The columns in the SELECT statements must have the same data types and appear in the same order.\n",
                "- **Column Aliases:** If using column aliases, the aliases in the first SELECT statement determine the column names in the result set."
            ],
            "metadata": {
                "language": "sql",
                "azdata_cell_guid": "765b6a7f-2560-43c3-9da1-df72ac5fd9e2"
            },
            "attachments": {}
        },
        {
            "cell_type": "markdown",
            "source": [
                "### **Most Common Mistakes:**\n",
                "\n",
                "- **Mismatched Columns:** Forgetting to match the number and order of columns in the SELECT statements when using SET operators.\n",
                "- **UNION vs UNION ALL:** Not understanding the difference between \\`UNION\\` (which removes duplicates) and \\`UNION ALL\\` (which includes all rows, including duplicates).\n",
                "- **Data Type Compatibility:** Ensuring that data types are compatible between corresponding columns in different SELECT statements."
            ],
            "metadata": {
                "language": "sql",
                "azdata_cell_guid": "6bc637d4-3082-46db-a8c5-45045f804ced"
            },
            "attachments": {}
        }
    ]
}