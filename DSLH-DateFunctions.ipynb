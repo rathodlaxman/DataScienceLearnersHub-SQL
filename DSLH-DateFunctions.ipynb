{
    "metadata": {
        "kernelspec": {
            "name": "SQL",
            "display_name": "SQL",
            "language": "sql"
        },
        "language_info": {
            "name": "sql",
            "version": ""
        }
    },
    "nbformat_minor": 2,
    "nbformat": 4,
    "cells": [
        {
            "cell_type": "markdown",
            "source": [
                "# **Data Science Learners Hub**\n",
                "\n",
                "**Module : SQL**\n",
                "\n",
                "**Topic :** Date Functions in SQL\n",
                "\n",
                "**email** :[datasciencelearnershub@gmail.com](https://github.com/rathodlaxman/DataScienceLearnersHub/blob/50de48da0c8f7145a545dd9942457c8b9cfc8fc5//mailto:datasciencelearnershub@gmail.com)"
            ],
            "metadata": {
                "azdata_cell_guid": "0825be03-b156-4796-b50c-d352a11f2255"
            },
            "attachments": {}
        },
        {
            "cell_type": "code",
            "source": [
                "USE DataScienceLearnersHub"
            ],
            "metadata": {
                "azdata_cell_guid": "6550923a-a70a-48b2-a1a8-e4e14d0262b7",
                "language": "sql"
            },
            "outputs": [
                {
                    "output_type": "display_data",
                    "data": {
                        "text/html": "Commands completed successfully."
                    },
                    "metadata": {}
                },
                {
                    "output_type": "display_data",
                    "data": {
                        "text/html": "Total execution time: 00:00:00.001"
                    },
                    "metadata": {}
                }
            ],
            "execution_count": 1
        },
        {
            "cell_type": "code",
            "source": [
                "CREATE TABLE orders_date_function (\n",
                "    order_id INT,\n",
                "    order_date DATE,\n",
                "    ship_date DATE\n",
                ");"
            ],
            "metadata": {
                "language": "sql",
                "azdata_cell_guid": "7b6241c4-781a-4044-9747-6ab82744f25c"
            },
            "outputs": [
                {
                    "output_type": "display_data",
                    "data": {
                        "text/html": "Commands completed successfully."
                    },
                    "metadata": {}
                },
                {
                    "output_type": "display_data",
                    "data": {
                        "text/html": "Total execution time: 00:00:00.013"
                    },
                    "metadata": {}
                }
            ],
            "execution_count": 1
        },
        {
            "cell_type": "code",
            "source": [
                "INSERT INTO orders_date_function (order_id, order_date, ship_date) VALUES \n",
                "(1, '2024-06-15', '2024-06-20'),\n",
                "(2, '2024-07-01', '2024-07-05');"
            ],
            "metadata": {
                "language": "sql",
                "azdata_cell_guid": "be54b464-ad0a-4a11-9031-3d63d1b0e71b"
            },
            "outputs": [
                {
                    "output_type": "display_data",
                    "data": {
                        "text/html": "(2 rows affected)"
                    },
                    "metadata": {}
                },
                {
                    "output_type": "display_data",
                    "data": {
                        "text/html": "Total execution time: 00:00:00.023"
                    },
                    "metadata": {}
                }
            ],
            "execution_count": 2
        },
        {
            "cell_type": "code",
            "source": [
                "SELECT * FROM orders_date_function"
            ],
            "metadata": {
                "language": "sql",
                "azdata_cell_guid": "a5e0e894-3b5e-4289-903b-7dc2563d324d"
            },
            "outputs": [
                {
                    "output_type": "display_data",
                    "data": {
                        "text/html": "(2 rows affected)"
                    },
                    "metadata": {}
                },
                {
                    "output_type": "display_data",
                    "data": {
                        "text/html": "Total execution time: 00:00:00.026"
                    },
                    "metadata": {}
                },
                {
                    "output_type": "execute_result",
                    "metadata": {},
                    "execution_count": 3,
                    "data": {
                        "application/vnd.dataresource+json": {
                            "schema": {
                                "fields": [
                                    {
                                        "name": "order_id"
                                    },
                                    {
                                        "name": "order_date"
                                    },
                                    {
                                        "name": "ship_date"
                                    }
                                ]
                            },
                            "data": [
                                {
                                    "order_id": "1",
                                    "order_date": "2024-06-15",
                                    "ship_date": "2024-06-20"
                                },
                                {
                                    "order_id": "2",
                                    "order_date": "2024-07-01",
                                    "ship_date": "2024-07-05"
                                }
                            ]
                        },
                        "text/html": [
                            "<table>",
                            "<tr><th>order_id</th><th>order_date</th><th>ship_date</th></tr>",
                            "<tr><td>1</td><td>2024-06-15</td><td>2024-06-20</td></tr>",
                            "<tr><td>2</td><td>2024-07-01</td><td>2024-07-05</td></tr>",
                            "</table>"
                        ]
                    }
                }
            ],
            "execution_count": 3
        },
        {
            "cell_type": "markdown",
            "source": [
                "### **`SQL Date Functions`**"
            ],
            "metadata": {
                "language": "sql",
                "azdata_cell_guid": "70b75198-0350-410c-b683-0ea8a0f86cab"
            },
            "attachments": {}
        },
        {
            "cell_type": "markdown",
            "source": [
                "#### Current Date and Time Functions\n",
                "\n",
                "| Function         | Syntax             | Input       | Return Type | One-line Explanation                         | Peculiarities/Considerations                  |\n",
                "|------------------|--------------------|-------------|-------------|----------------------------------------------|----------------------------------------------|\n",
                "| GETDATE()        | `GETDATE()`        | None        | DateTime    | <mark>Returns current date and time.</mark>               | <mark>**Depends on the system time of the database server.**</mark> |\n",
                ""
            ],
            "metadata": {
                "language": "sql",
                "azdata_cell_guid": "fc084626-5784-414e-8ecb-eb668ffea1a1"
            },
            "attachments": {}
        },
        {
            "cell_type": "code",
            "source": [
                "-- Current Date and Time\n",
                "SELECT GETDATE() AS CurrentDateTime;"
            ],
            "metadata": {
                "language": "sql",
                "azdata_cell_guid": "0bffb45b-2e16-4c14-8e2d-39bbfbbde1a7"
            },
            "outputs": [
                {
                    "output_type": "display_data",
                    "data": {
                        "text/html": "(1 row affected)"
                    },
                    "metadata": {}
                },
                {
                    "output_type": "display_data",
                    "data": {
                        "text/html": "Total execution time: 00:00:00.006"
                    },
                    "metadata": {}
                },
                {
                    "output_type": "execute_result",
                    "metadata": {},
                    "execution_count": 4,
                    "data": {
                        "application/vnd.dataresource+json": {
                            "schema": {
                                "fields": [
                                    {
                                        "name": "CurrentDateTime"
                                    }
                                ]
                            },
                            "data": [
                                {
                                    "CurrentDateTime": "2024-06-30 16:35:45.277"
                                }
                            ]
                        },
                        "text/html": [
                            "<table>",
                            "<tr><th>CurrentDateTime</th></tr>",
                            "<tr><td>2024-06-30 16:35:45.277</td></tr>",
                            "</table>"
                        ]
                    }
                }
            ],
            "execution_count": 4
        },
        {
            "cell_type": "markdown",
            "source": [
                "#### Date Extraction Functions\n",
                "\n",
                "| Function         | Syntax                    | Input       | Return Type | One-line Explanation                         | Peculiarities/Considerations                  |\n",
                "|------------------|---------------------------|-------------|-------------|----------------------------------------------|----------------------------------------------|\n",
                "| DATEPART()       | `DATEPART(datepart, date)` | DatePart    | Int         | <mark>Returns specified part of a date.</mark>            | <mark>**`datepart` specifies the date component to extract (e.g., year, month).**</mark> |\n",
                "| DAY()            | `DAY(date)`               | Date        | Int         | Returns the day part of a date.              | None                                         |\n",
                "| MONTH()          | `MONTH(date)`             | Date        | Int         | Returns the month part of a date.            | None                                         |\n",
                "| YEAR()           | `YEAR(date)`              | Date        | Int         | Returns the year part of a date.             | None                                         |\n",
                "\n",
                "\n",
                "**`Note :`**\n",
                "- <mark>The return types for all the above four functions is **`int`**</mark>"
            ],
            "metadata": {
                "language": "sql",
                "azdata_cell_guid": "f9cb698c-3156-4b67-ab05-c51dec66756f"
            },
            "attachments": {}
        },
        {
            "cell_type": "code",
            "source": [
                "-- Date Extraction\n",
                "SELECT \n",
                "    DATEPART(YEAR, order_date) AS OrderYear,\n",
                "    DAY(order_date) AS OrderDay,\n",
                "    MONTH(order_date) AS OrderMonth\n",
                "FROM orders_date_function"
            ],
            "metadata": {
                "language": "sql",
                "azdata_cell_guid": "4059d5b3-167e-477e-8f34-a40bab70600f"
            },
            "outputs": [
                {
                    "output_type": "display_data",
                    "data": {
                        "text/html": "(2 rows affected)"
                    },
                    "metadata": {}
                },
                {
                    "output_type": "display_data",
                    "data": {
                        "text/html": "Total execution time: 00:00:00.018"
                    },
                    "metadata": {}
                },
                {
                    "output_type": "execute_result",
                    "metadata": {},
                    "execution_count": 7,
                    "data": {
                        "application/vnd.dataresource+json": {
                            "schema": {
                                "fields": [
                                    {
                                        "name": "OrderYear"
                                    },
                                    {
                                        "name": "OrderDay"
                                    },
                                    {
                                        "name": "OrderMonth"
                                    }
                                ]
                            },
                            "data": [
                                {
                                    "OrderYear": "2024",
                                    "OrderDay": "15",
                                    "OrderMonth": "6"
                                },
                                {
                                    "OrderYear": "2024",
                                    "OrderDay": "1",
                                    "OrderMonth": "7"
                                }
                            ]
                        },
                        "text/html": [
                            "<table>",
                            "<tr><th>OrderYear</th><th>OrderDay</th><th>OrderMonth</th></tr>",
                            "<tr><td>2024</td><td>15</td><td>6</td></tr>",
                            "<tr><td>2024</td><td>1</td><td>7</td></tr>",
                            "</table>"
                        ]
                    }
                }
            ],
            "execution_count": 7
        },
        {
            "cell_type": "markdown",
            "source": [
                "#### Date Manipulation Functions\n",
                "\n",
                "| Function         | Syntax                            | Input       | Return Type | One-line Explanation                         | Peculiarities/Considerations                  |\n",
                "|------------------|-----------------------------------|-------------|-------------|----------------------------------------------|----------------------------------------------|\n",
                "| DATEDIFF()       | `DATEDIFF(datepart, start_date, end_date)` | DatePart, Date, Date | Int | <mark>Returns the difference between two dates.</mark>   | <mark>**`datepart` specifies the units (e.g., day, month) for the difference calculation.**</mark> |\n",
                "| EOMONTH()        | `EOMONTH(start_date, [month_to_add])` | Date, Int   | Date        | <mark>Returns the end of month date.</mark>              | <mark>**`[month_to_add]` is an optional parameter to add months before calculating end of month**</mark>. |\n",
                ""
            ],
            "metadata": {
                "language": "sql",
                "azdata_cell_guid": "dd64c8b0-8dc4-4895-9fa8-49b47bc726bc"
            },
            "attachments": {}
        },
        {
            "cell_type": "code",
            "source": [
                "-- Date Manipulation\n",
                "SELECT \n",
                "    DATEDIFF(DAY, order_date, ship_date) AS DaysToShip,\n",
                "    EOMONTH(order_date) AS LastDayOfMonth\n",
                "FROM orders_date_function"
            ],
            "metadata": {
                "language": "sql",
                "azdata_cell_guid": "d5b6e175-da17-4ddc-b2dc-a58a86edabf8"
            },
            "outputs": [
                {
                    "output_type": "display_data",
                    "data": {
                        "text/html": "(2 rows affected)"
                    },
                    "metadata": {}
                },
                {
                    "output_type": "display_data",
                    "data": {
                        "text/html": "Total execution time: 00:00:00.025"
                    },
                    "metadata": {}
                },
                {
                    "output_type": "execute_result",
                    "metadata": {},
                    "execution_count": 9,
                    "data": {
                        "application/vnd.dataresource+json": {
                            "schema": {
                                "fields": [
                                    {
                                        "name": "DaysToShip"
                                    },
                                    {
                                        "name": "LastDayOfMonth"
                                    }
                                ]
                            },
                            "data": [
                                {
                                    "DaysToShip": "5",
                                    "LastDayOfMonth": "2024-06-30"
                                },
                                {
                                    "DaysToShip": "4",
                                    "LastDayOfMonth": "2024-07-31"
                                }
                            ]
                        },
                        "text/html": [
                            "<table>",
                            "<tr><th>DaysToShip</th><th>LastDayOfMonth</th></tr>",
                            "<tr><td>5</td><td>2024-06-30</td></tr>",
                            "<tr><td>4</td><td>2024-07-31</td></tr>",
                            "</table>"
                        ]
                    }
                }
            ],
            "execution_count": 9
        },
        {
            "cell_type": "markdown",
            "source": [
                "#### Date Conversion and Formatting Functions\n",
                "\n",
                "| Function         | Syntax                             | Input       | Return Type | One-line Explanation                         | Peculiarities/Considerations                  |\n",
                "|------------------|------------------------------------|-------------|-------------|----------------------------------------------|----------------------------------------------|\n",
                "| CONVERT()        | <mark>`CONVERT(data_type, expression, [style])`</mark> | Data Type, Expression | Data Type   | <mark>Converts data types, optionally with style.</mark>  | <mark>Style affects date formatting (e.g., YYYYMMDD)</mark>. |\n",
                "| FORMAT()         | <mark>`FORMAT(value, format [, culture])`</mark> | Value       | NVARCHAR   | <mark>Formats a value based on format and culture.</mark> | <mark>Requires SQL Server 2012 or later. </mark>           |\n",
                ""
            ],
            "metadata": {
                "language": "sql",
                "azdata_cell_guid": "1cd71d42-e49f-48c9-8359-73ca9ba437d2"
            },
            "attachments": {}
        },
        {
            "cell_type": "code",
            "source": [
                "-- Date Conversion and Formatting\n",
                "SELECT \n",
                "    CONVERT(VARCHAR, order_date, 112) AS FormattedOrderDate,\n",
                "    FORMAT(order_date, 'yyyy-MM-dd') AS FormattedOrderDate2\n",
                "FROM orders_date_function"
            ],
            "metadata": {
                "language": "sql",
                "azdata_cell_guid": "c8059916-dd8a-4fc0-afd3-3d95580acc97"
            },
            "outputs": [
                {
                    "output_type": "display_data",
                    "data": {
                        "text/html": "Total execution time: 00:00:00.053"
                    },
                    "metadata": {}
                },
                {
                    "output_type": "execute_result",
                    "metadata": {},
                    "execution_count": 10,
                    "data": {
                        "application/vnd.dataresource+json": {
                            "schema": {
                                "fields": [
                                    {
                                        "name": "FormattedOrderDate"
                                    },
                                    {
                                        "name": "FormattedOrderDate2"
                                    }
                                ]
                            },
                            "data": []
                        },
                        "text/html": [
                            "<table>",
                            "<tr><th>FormattedOrderDate</th><th>FormattedOrderDate2</th></tr>",
                            "</table>"
                        ]
                    }
                },
                {
                    "output_type": "error",
                    "evalue": "Msg 10347, Level 16, State 1, Line 2\nCommon Language Runtime(CLR) is not enabled on this instance.",
                    "ename": "",
                    "traceback": []
                }
            ],
            "execution_count": 10
        },
        {
            "cell_type": "markdown",
            "source": [
                "| FormattedOrderDate | FormattedOrderDate2 |\n",
                "|--------------------|---------------------|\n",
                "| 20240615           | 2024-06-15          |\n",
                "| 20240701           | 2024-07-01          |\n",
                ""
            ],
            "metadata": {
                "language": "sql",
                "azdata_cell_guid": "aeab9581-ec2d-4dc7-8c3a-ef153d1e4ff1"
            },
            "attachments": {}
        },
        {
            "cell_type": "markdown",
            "source": [
                "### **`Some more example of Date FUnctions`**"
            ],
            "metadata": {
                "language": "sql",
                "azdata_cell_guid": "fdc3d1a5-df83-4579-8f32-91304e915d5c"
            },
            "attachments": {}
        },
        {
            "cell_type": "markdown",
            "source": [
                "**Create a table tblStudent:**"
            ],
            "metadata": {
                "language": "",
                "azdata_cell_guid": "1262951d-2f6c-42f2-9aa4-2122eb69f36f"
            },
            "attachments": {}
        },
        {
            "cell_type": "code",
            "source": [
                "-- Create below table to practice Date functions\n",
                "-- Creating the tblStudent table\n",
                "\n",
                "CREATE TABLE tblStudent (\n",
                "    id INT PRIMARY KEY,\n",
                "    name VARCHAR(50),\n",
                "    course VARCHAR(50),\n",
                "    date_of_joining DATE,\n",
                "    age INT,\n",
                "    city VARCHAR(50)\n",
                ");"
            ],
            "metadata": {
                "language": "sql",
                "azdata_cell_guid": "31401cc4-75ce-4c9f-9ff0-3edc144d38d1"
            },
            "outputs": [
                {
                    "output_type": "display_data",
                    "data": {
                        "text/html": "Commands completed successfully."
                    },
                    "metadata": {}
                },
                {
                    "output_type": "display_data",
                    "data": {
                        "text/html": "Total execution time: 00:00:00.050"
                    },
                    "metadata": {}
                }
            ],
            "execution_count": 2
        },
        {
            "cell_type": "code",
            "source": [
                "-- Inserting values into tblStudent\n",
                "INSERT INTO tblStudent (id, name, course, date_of_joining, age, city)\n",
                "VALUES\n",
                "    (1, 'Varsha', 'Mathematics', '2022-01-15', 22, 'Mahabubnagar'),\n",
                "    (2, 'Ananya', 'Physics', '2022-02-20', 25, 'San Hyderabad'),\n",
                "    (3, 'Harshita', 'Computer Science', '2022-03-10', 23, 'Pune'),\n",
                "    (4, 'Sai', 'Biology', '2022-04-05', 21, 'Anantapur'),\n",
                "    (5, 'Aanchal', 'Chemistry', '2022-05-12', 24, 'Bhopal');"
            ],
            "metadata": {
                "language": "sql",
                "azdata_cell_guid": "4c4391af-121a-4067-b55d-2144a9bb99b3"
            },
            "outputs": [
                {
                    "output_type": "display_data",
                    "data": {
                        "text/html": "(5 rows affected)"
                    },
                    "metadata": {}
                },
                {
                    "output_type": "display_data",
                    "data": {
                        "text/html": "Total execution time: 00:00:00.043"
                    },
                    "metadata": {}
                }
            ],
            "execution_count": 3
        },
        {
            "cell_type": "code",
            "source": [
                "SELECT * FROM tblStudent"
            ],
            "metadata": {
                "language": "sql",
                "azdata_cell_guid": "5ecaf6b3-236e-465c-a831-8c2a482812bf"
            },
            "outputs": [
                {
                    "output_type": "display_data",
                    "data": {
                        "text/html": "(5 rows affected)"
                    },
                    "metadata": {}
                },
                {
                    "output_type": "display_data",
                    "data": {
                        "text/html": "Total execution time: 00:00:00.016"
                    },
                    "metadata": {}
                },
                {
                    "output_type": "execute_result",
                    "execution_count": 4,
                    "data": {
                        "application/vnd.dataresource+json": {
                            "schema": {
                                "fields": [
                                    {
                                        "name": "id"
                                    },
                                    {
                                        "name": "name"
                                    },
                                    {
                                        "name": "course"
                                    },
                                    {
                                        "name": "date_of_joining"
                                    },
                                    {
                                        "name": "age"
                                    },
                                    {
                                        "name": "city"
                                    }
                                ]
                            },
                            "data": [
                                {
                                    "id": "1",
                                    "name": "Varsha",
                                    "course": "Mathematics",
                                    "date_of_joining": "2022-01-15",
                                    "age": "22",
                                    "city": "Mahabubnagar"
                                },
                                {
                                    "id": "2",
                                    "name": "Ananya",
                                    "course": "Physics",
                                    "date_of_joining": "2022-02-20",
                                    "age": "25",
                                    "city": "San Hyderabad"
                                },
                                {
                                    "id": "3",
                                    "name": "Harshita",
                                    "course": "Computer Science",
                                    "date_of_joining": "2022-03-10",
                                    "age": "23",
                                    "city": "Pune"
                                },
                                {
                                    "id": "4",
                                    "name": "Sai",
                                    "course": "Biology",
                                    "date_of_joining": "2022-04-05",
                                    "age": "21",
                                    "city": "Anantapur"
                                },
                                {
                                    "id": "5",
                                    "name": "Aanchal",
                                    "course": "Chemistry",
                                    "date_of_joining": "2022-05-12",
                                    "age": "24",
                                    "city": "Bhopal"
                                }
                            ]
                        },
                        "text/html": "<table><tr><th>id</th><th>name</th><th>course</th><th>date_of_joining</th><th>age</th><th>city</th></tr><tr><td>1</td><td>Varsha</td><td>Mathematics</td><td>2022-01-15</td><td>22</td><td>Mahabubnagar</td></tr><tr><td>2</td><td>Ananya</td><td>Physics</td><td>2022-02-20</td><td>25</td><td>San Hyderabad</td></tr><tr><td>3</td><td>Harshita</td><td>Computer Science</td><td>2022-03-10</td><td>23</td><td>Pune</td></tr><tr><td>4</td><td>Sai</td><td>Biology</td><td>2022-04-05</td><td>21</td><td>Anantapur</td></tr><tr><td>5</td><td>Aanchal</td><td>Chemistry</td><td>2022-05-12</td><td>24</td><td>Bhopal</td></tr></table>"
                    },
                    "metadata": {}
                }
            ],
            "execution_count": 4
        },
        {
            "cell_type": "markdown",
            "source": [
                "### **Date Functions in SQL:**\n",
                "\n",
                "  \n",
                "\n",
                "- Date Functions in SQL are used to perform operations on date and time data. They can be used to extract parts of a date, perform calculations, and manipulate date values. Some common Date Functions in SQL include:"
            ],
            "metadata": {
                "azdata_cell_guid": "068bbb6a-bd08-4ec7-a012-bb8a3dbab3e5"
            },
            "attachments": {}
        },
        {
            "cell_type": "markdown",
            "source": [
                "**\\`GETDATE()\\`:**\n",
                "\n",
                "  \n",
                "\n",
                "- Returns the current date and time."
            ],
            "metadata": {
                "azdata_cell_guid": "3dba869b-2b0f-41f0-a2e0-b16f682c6e77"
            },
            "attachments": {}
        },
        {
            "cell_type": "code",
            "source": [
                "SELECT GETDATE() AS CurrentDateTime;"
            ],
            "metadata": {
                "azdata_cell_guid": "ad2968f3-2d02-4e22-a4c3-1defdcee558d",
                "language": "sql"
            },
            "outputs": [
                {
                    "output_type": "display_data",
                    "data": {
                        "text/html": "(1 row affected)"
                    },
                    "metadata": {}
                },
                {
                    "output_type": "display_data",
                    "data": {
                        "text/html": "Total execution time: 00:00:00.011"
                    },
                    "metadata": {}
                },
                {
                    "output_type": "execute_result",
                    "execution_count": 5,
                    "data": {
                        "application/vnd.dataresource+json": {
                            "schema": {
                                "fields": [
                                    {
                                        "name": "CurrentDateTime"
                                    }
                                ]
                            },
                            "data": [
                                {
                                    "CurrentDateTime": "2023-12-10 07:24:38.377"
                                }
                            ]
                        },
                        "text/html": "<table><tr><th>CurrentDateTime</th></tr><tr><td>2023-12-10 07:24:38.377</td></tr></table>"
                    },
                    "metadata": {}
                }
            ],
            "execution_count": 5
        },
        {
            "cell_type": "markdown",
            "source": [
                "**\\`DATEPART()\\`:**\n",
                "\n",
                "- Extracts a specific part (such as year, month, day) from a date.\n",
                "- **Syntax** : SELECT DATEPART(part, date\\_expression) AS Result;"
            ],
            "metadata": {
                "language": "sql",
                "azdata_cell_guid": "6443aef1-0d06-47c7-8de8-32ac149acac7"
            },
            "attachments": {}
        },
        {
            "cell_type": "code",
            "source": [
                "SELECT DATEPART(YEAR, date_of_joining) AS JoiningYear FROM tblStudent;\n",
                "-- In the DATEPART first argument u can also mention MONTH, DAY"
            ],
            "metadata": {
                "language": "sql",
                "azdata_cell_guid": "ff326fe8-6166-4c21-b06a-80147969b02b"
            },
            "outputs": [
                {
                    "output_type": "display_data",
                    "data": {
                        "text/html": "(5 rows affected)"
                    },
                    "metadata": {}
                },
                {
                    "output_type": "display_data",
                    "data": {
                        "text/html": "Total execution time: 00:00:00.017"
                    },
                    "metadata": {}
                },
                {
                    "output_type": "execute_result",
                    "execution_count": 6,
                    "data": {
                        "application/vnd.dataresource+json": {
                            "schema": {
                                "fields": [
                                    {
                                        "name": "JoiningYear"
                                    }
                                ]
                            },
                            "data": [
                                {
                                    "JoiningYear": "2022"
                                },
                                {
                                    "JoiningYear": "2022"
                                },
                                {
                                    "JoiningYear": "2022"
                                },
                                {
                                    "JoiningYear": "2022"
                                },
                                {
                                    "JoiningYear": "2022"
                                }
                            ]
                        },
                        "text/html": "<table><tr><th>JoiningYear</th></tr><tr><td>2022</td></tr><tr><td>2022</td></tr><tr><td>2022</td></tr><tr><td>2022</td></tr><tr><td>2022</td></tr></table>"
                    },
                    "metadata": {}
                }
            ],
            "execution_count": 6
        },
        {
            "cell_type": "markdown",
            "source": [
                "**\\`DAY(), MONTH()\\` and \\`YEAR()\\` Functions:**\n",
                "\n",
                "- Extracts the day, month or year from a date.\n",
                "- Syntax : SELECT MONTH(date\\_expression) AS Month, YEAR(date\\_expression) AS Year FROM tblStudent;"
            ],
            "metadata": {
                "language": "sql",
                "azdata_cell_guid": "32527632-3176-4b32-b1ec-9d2bb98f2b79"
            },
            "attachments": {}
        },
        {
            "cell_type": "code",
            "source": [
                "SELECT DAY(date_of_joining) AS Day, MONTH(date_of_joining) AS Month, YEAR(date_of_joining) AS Year FROM tblStudent;"
            ],
            "metadata": {
                "language": "sql",
                "azdata_cell_guid": "9ff7065a-d654-423b-987b-7d9726896c54"
            },
            "outputs": [
                {
                    "output_type": "display_data",
                    "data": {
                        "text/html": "(5 rows affected)"
                    },
                    "metadata": {}
                },
                {
                    "output_type": "display_data",
                    "data": {
                        "text/html": "Total execution time: 00:00:00.006"
                    },
                    "metadata": {}
                },
                {
                    "output_type": "execute_result",
                    "execution_count": 13,
                    "data": {
                        "application/vnd.dataresource+json": {
                            "schema": {
                                "fields": [
                                    {
                                        "name": "Day"
                                    },
                                    {
                                        "name": "Month"
                                    },
                                    {
                                        "name": "Year"
                                    }
                                ]
                            },
                            "data": [
                                {
                                    "Day": "15",
                                    "Month": "1",
                                    "Year": "2022"
                                },
                                {
                                    "Day": "20",
                                    "Month": "2",
                                    "Year": "2022"
                                },
                                {
                                    "Day": "10",
                                    "Month": "3",
                                    "Year": "2022"
                                },
                                {
                                    "Day": "5",
                                    "Month": "4",
                                    "Year": "2022"
                                },
                                {
                                    "Day": "12",
                                    "Month": "5",
                                    "Year": "2022"
                                }
                            ]
                        },
                        "text/html": "<table><tr><th>Day</th><th>Month</th><th>Year</th></tr><tr><td>15</td><td>1</td><td>2022</td></tr><tr><td>20</td><td>2</td><td>2022</td></tr><tr><td>10</td><td>3</td><td>2022</td></tr><tr><td>5</td><td>4</td><td>2022</td></tr><tr><td>12</td><td>5</td><td>2022</td></tr></table>"
                    },
                    "metadata": {}
                }
            ],
            "execution_count": 13
        },
        {
            "cell_type": "code",
            "source": [
                "SELECT DATEPART(MONTH, date_of_joining) AS JoiningYear FROM tblStudent;\n",
                "SELECT DATEPART(DAY, date_of_joining) AS JoiningYear FROM tblStudent;"
            ],
            "metadata": {
                "language": "sql",
                "azdata_cell_guid": "07efb199-5eac-4f67-bebd-a9fd55cf3b04"
            },
            "outputs": [
                {
                    "output_type": "display_data",
                    "data": {
                        "text/html": "(5 rows affected)"
                    },
                    "metadata": {}
                },
                {
                    "output_type": "display_data",
                    "data": {
                        "text/html": "(5 rows affected)"
                    },
                    "metadata": {}
                },
                {
                    "output_type": "display_data",
                    "data": {
                        "text/html": "Total execution time: 00:00:00.015"
                    },
                    "metadata": {}
                },
                {
                    "output_type": "execute_result",
                    "execution_count": 8,
                    "data": {
                        "application/vnd.dataresource+json": {
                            "schema": {
                                "fields": [
                                    {
                                        "name": "JoiningYear"
                                    }
                                ]
                            },
                            "data": [
                                {
                                    "JoiningYear": "1"
                                },
                                {
                                    "JoiningYear": "2"
                                },
                                {
                                    "JoiningYear": "3"
                                },
                                {
                                    "JoiningYear": "4"
                                },
                                {
                                    "JoiningYear": "5"
                                }
                            ]
                        },
                        "text/html": "<table><tr><th>JoiningYear</th></tr><tr><td>1</td></tr><tr><td>2</td></tr><tr><td>3</td></tr><tr><td>4</td></tr><tr><td>5</td></tr></table>"
                    },
                    "metadata": {}
                },
                {
                    "output_type": "execute_result",
                    "execution_count": 8,
                    "data": {
                        "application/vnd.dataresource+json": {
                            "schema": {
                                "fields": [
                                    {
                                        "name": "JoiningYear"
                                    }
                                ]
                            },
                            "data": [
                                {
                                    "JoiningYear": "15"
                                },
                                {
                                    "JoiningYear": "20"
                                },
                                {
                                    "JoiningYear": "10"
                                },
                                {
                                    "JoiningYear": "5"
                                },
                                {
                                    "JoiningYear": "12"
                                }
                            ]
                        },
                        "text/html": "<table><tr><th>JoiningYear</th></tr><tr><td>15</td></tr><tr><td>20</td></tr><tr><td>10</td></tr><tr><td>5</td></tr><tr><td>12</td></tr></table>"
                    },
                    "metadata": {}
                }
            ],
            "execution_count": 8
        },
        {
            "cell_type": "markdown",
            "source": [
                "**\\`DATEDIFF()\\`:**\n",
                "\n",
                "- Calculates the difference between two dates.\n",
                "- **Syntax** : SELECT DATEDIFF(part, start\\_date, end\\_date) AS Result;"
            ],
            "metadata": {
                "language": "sql",
                "azdata_cell_guid": "e2c9e7be-cb32-41b0-ba2d-3b0cfec6730f"
            },
            "attachments": {}
        },
        {
            "cell_type": "code",
            "source": [
                "SELECT DATEDIFF(YEAR, date_of_joining, GETDATE()) AS YearsSinceJoining FROM tblStudent;\n",
                "-- The below output is 1 as the currentyear is 2023 so 2023-2022 = 1"
            ],
            "metadata": {
                "language": "sql",
                "azdata_cell_guid": "614fc48f-ee77-4faf-9dcd-f580f96c392e"
            },
            "outputs": [
                {
                    "output_type": "display_data",
                    "data": {
                        "text/html": "(5 rows affected)"
                    },
                    "metadata": {}
                },
                {
                    "output_type": "display_data",
                    "data": {
                        "text/html": "Total execution time: 00:00:00.010"
                    },
                    "metadata": {}
                },
                {
                    "output_type": "execute_result",
                    "execution_count": 7,
                    "data": {
                        "application/vnd.dataresource+json": {
                            "schema": {
                                "fields": [
                                    {
                                        "name": "YearsSinceJoining"
                                    }
                                ]
                            },
                            "data": [
                                {
                                    "YearsSinceJoining": "1"
                                },
                                {
                                    "YearsSinceJoining": "1"
                                },
                                {
                                    "YearsSinceJoining": "1"
                                },
                                {
                                    "YearsSinceJoining": "1"
                                },
                                {
                                    "YearsSinceJoining": "1"
                                }
                            ]
                        },
                        "text/html": "<table><tr><th>YearsSinceJoining</th></tr><tr><td>1</td></tr><tr><td>1</td></tr><tr><td>1</td></tr><tr><td>1</td></tr><tr><td>1</td></tr></table>"
                    },
                    "metadata": {}
                }
            ],
            "execution_count": 7
        },
        {
            "cell_type": "markdown",
            "source": [
                "**\\`CONVERT()\\` :**\n",
                "\n",
                "- Converts a date or time value to a specified data type.\n",
                "- Syntax : SELECT CONVERT(data\\_type, expression, style) AS Result;"
            ],
            "metadata": {
                "language": "sql",
                "azdata_cell_guid": "5b52877a-1957-4eb6-b547-54b3834934b7"
            },
            "attachments": {}
        },
        {
            "cell_type": "code",
            "source": [
                "SELECT CONVERT(VARCHAR, date_of_joining, 103) AS FormattedDate FROM tblStudent;"
            ],
            "metadata": {
                "language": "sql",
                "azdata_cell_guid": "b2d9eb25-6285-405e-8f80-74b2093157d4"
            },
            "outputs": [
                {
                    "output_type": "display_data",
                    "data": {
                        "text/html": "(5 rows affected)"
                    },
                    "metadata": {}
                },
                {
                    "output_type": "display_data",
                    "data": {
                        "text/html": "Total execution time: 00:00:00.020"
                    },
                    "metadata": {}
                },
                {
                    "output_type": "execute_result",
                    "execution_count": 9,
                    "data": {
                        "application/vnd.dataresource+json": {
                            "schema": {
                                "fields": [
                                    {
                                        "name": "FormattedDate"
                                    }
                                ]
                            },
                            "data": [
                                {
                                    "FormattedDate": "15/01/2022"
                                },
                                {
                                    "FormattedDate": "20/02/2022"
                                },
                                {
                                    "FormattedDate": "10/03/2022"
                                },
                                {
                                    "FormattedDate": "05/04/2022"
                                },
                                {
                                    "FormattedDate": "12/05/2022"
                                }
                            ]
                        },
                        "text/html": "<table><tr><th>FormattedDate</th></tr><tr><td>15/01/2022</td></tr><tr><td>20/02/2022</td></tr><tr><td>10/03/2022</td></tr><tr><td>05/04/2022</td></tr><tr><td>12/05/2022</td></tr></table>"
                    },
                    "metadata": {}
                }
            ],
            "execution_count": 9
        },
        {
            "cell_type": "markdown",
            "source": [
                "**\\`FORMAT()\\` Function (SQL Server 2012 and later):**\n",
                "\n",
                "- Formats a date or time value based on a specified format.\n",
                "- Syntax : SELECT FORMAT(date\\_expression, format) AS Result;"
            ],
            "metadata": {
                "language": "sql",
                "azdata_cell_guid": "4c82e1b6-53fd-446c-a83f-a04f0c722bfc"
            },
            "attachments": {}
        },
        {
            "cell_type": "code",
            "source": [
                "SELECT FORMAT(date_of_joining, 'dd/MM/yyyy') AS FormattedDate FROM tblStudent;\n",
                "\n",
                "-- Note : there is some issue with my MS SQL server setup so I am not getting\n",
                "-- the output but u will be getting in ur setup"
            ],
            "metadata": {
                "language": "sql",
                "azdata_cell_guid": "4ae835f8-d1da-4b53-bb6b-8e1d98de179b"
            },
            "outputs": [
                {
                    "output_type": "display_data",
                    "data": {
                        "text/html": "Total execution time: 00:00:00.029"
                    },
                    "metadata": {}
                },
                {
                    "output_type": "execute_result",
                    "execution_count": 10,
                    "data": {
                        "application/vnd.dataresource+json": {
                            "schema": {
                                "fields": [
                                    {
                                        "name": "FormattedDate"
                                    }
                                ]
                            },
                            "data": []
                        },
                        "text/html": "<table><tr><th>FormattedDate</th></tr></table>"
                    },
                    "metadata": {}
                },
                {
                    "output_type": "error",
                    "ename": "",
                    "evalue": "Msg 10347, Level 16, State 1, Line 1\nCommon Language Runtime(CLR) is not enabled on this instance.",
                    "traceback": []
                }
            ],
            "execution_count": 10
        },
        {
            "cell_type": "markdown",
            "source": [
                "**\\`EOMONTH()\\` Function:**\n",
                "\n",
                "- Returns the last day of the month for a given date.\n",
                "- Syntax : SELECT EOMONTH(date\\_expression) AS LastDayOfMonth FROM tblStudent;"
            ],
            "metadata": {
                "language": "sql",
                "azdata_cell_guid": "e3edd615-b182-4b08-9c1e-c44a173856c3"
            },
            "attachments": {}
        },
        {
            "cell_type": "code",
            "source": [
                "SELECT EOMONTH(date_of_joining) AS LastDayOfMonth FROM tblStudent;"
            ],
            "metadata": {
                "language": "sql",
                "azdata_cell_guid": "0a8f19b2-40f8-4cbc-98db-1c1b26eddd8b"
            },
            "outputs": [
                {
                    "output_type": "display_data",
                    "data": {
                        "text/html": "(5 rows affected)"
                    },
                    "metadata": {}
                },
                {
                    "output_type": "display_data",
                    "data": {
                        "text/html": "Total execution time: 00:00:00.020"
                    },
                    "metadata": {}
                },
                {
                    "output_type": "execute_result",
                    "execution_count": 14,
                    "data": {
                        "application/vnd.dataresource+json": {
                            "schema": {
                                "fields": [
                                    {
                                        "name": "LastDayOfMonth"
                                    }
                                ]
                            },
                            "data": [
                                {
                                    "LastDayOfMonth": "2022-01-31"
                                },
                                {
                                    "LastDayOfMonth": "2022-02-28"
                                },
                                {
                                    "LastDayOfMonth": "2022-03-31"
                                },
                                {
                                    "LastDayOfMonth": "2022-04-30"
                                },
                                {
                                    "LastDayOfMonth": "2022-05-31"
                                }
                            ]
                        },
                        "text/html": "<table><tr><th>LastDayOfMonth</th></tr><tr><td>2022-01-31</td></tr><tr><td>2022-02-28</td></tr><tr><td>2022-03-31</td></tr><tr><td>2022-04-30</td></tr><tr><td>2022-05-31</td></tr></table>"
                    },
                    "metadata": {}
                }
            ],
            "execution_count": 14
        },
        {
            "cell_type": "markdown",
            "source": [
                "### **Peculiarities and Considerations for Date Functions:**\n",
                "\n",
                "- **Timezone Awareness**: Know the timezone of your database, especially when using functions that involve the current date and time.\n",
                "- **Data Type Compatibility**: Ensure columns involved in date operations have compatible data types.operations are compatible."
            ],
            "metadata": {
                "language": "sql",
                "azdata_cell_guid": "0912e7e8-e949-41bf-9e82-4aebf9ee285c"
            },
            "attachments": {}
        },
        {
            "cell_type": "markdown",
            "source": [
                "### **Common Mistakes to Avoid:**\n",
                "\n",
                "- **Not Handling NULLs**: Date functions `can give unexpected results with NULL values`. Ensure NULLs are handled properly in date operations.\n",
                "- **Incorrect Date Formats**: `Use correct date formats accepted by SQL Server` (e.g., 'YYYY-MM-DD'). Incorrect formats cause errors.\n",
                "- **Ignoring Time Component**: B`e aware of the time component in `DATE` data types if it is relevant to your use case. Ignoring it can lead to inaccuracies.`"
            ],
            "metadata": {
                "language": "sql",
                "azdata_cell_guid": "0f475f03-a8e3-4d02-93fc-535be0e9f0ad"
            },
            "attachments": {}
        }
    ]
}