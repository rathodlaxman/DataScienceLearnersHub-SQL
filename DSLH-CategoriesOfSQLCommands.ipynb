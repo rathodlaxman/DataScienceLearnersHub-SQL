{
    "metadata": {
        "kernelspec": {
            "name": "SQL",
            "display_name": "SQL",
            "language": "sql"
        },
        "language_info": {
            "name": "sql",
            "version": ""
        }
    },
    "nbformat_minor": 2,
    "nbformat": 4,
    "cells": [
        {
            "cell_type": "markdown",
            "source": [
                "# **Data Science Learners Hub**\n",
                "\n",
                "**Module : SQL**\n",
                "\n",
                "**Topic :** <span style=\"font-weight: 600; font-family: -apple-system, BlinkMacSystemFont, sans-serif; color: var(--vscode-foreground);\">Categories of SQL Commands</span>\n",
                "\n",
                "**email** : [luckyrathod.forum@gmail.com](mailto:luckyrathod.forum@gmail.com)"
            ],
            "metadata": {
                "azdata_cell_guid": "4f98e7d0-7efb-4cc3-8c38-8fc345be401d"
            },
            "attachments": {}
        },
        {
            "cell_type": "markdown",
            "source": [
                "## **CATEGORIES OF SQL COMMANDS**\n",
                "\n",
                "There are many types of commands in SQL and they are categorised into four types as below\n",
                "\n",
                "**DQL** **: Data Query Language**\n",
                "\n",
                "- This category contains only **SELECT** command and it is used to retrieve data from the database without manipulating the database.\n",
                "\n",
                "**Syntax**\n",
                "\n",
                "SELECT \\<Column name separated with comma\\> or \\* FROM \\<Table Name\\>\n",
                "\n",
                "**DDL : Data Definition Language**\n",
                "\n",
                "- **CREATE :** Used to create new tables, views, indexes etc\n",
                "- **ALTER :**  Used to modify existing tables, views, indexes etc\n",
                "- **DROP :** Used to remove the **columns**, tables, views, indexes\n",
                "- **TRUNCATE :** Used to remove all the data/rows/information present in the table\n",
                "    - Databackups, data restore, data migration\n",
                "\n",
                "**DML : Data Manipulation Language**\n",
                "\n",
                "- **INSERT** : Used to inset only new rows\n",
                "- **UPDATE** : Used to modify existing rows\n",
                "- **DELETE** : Used to remove all data/ rows or specific rows/data from the tables\n",
                "\n",
                "**TCL : Transaction Control Language**\n",
                "\n",
                "We ususally use this commands whenever we do databse backup\n",
                "\n",
                "- **COMMIT :** Used to save the changes made within a transaction to the databse permanently\n",
                "- **ROLLBACK :** Used to undo the changes made within a transaction to the databse\n",
                "- **SAVE :** Before starting the backup the database save the current status of the database with a named point called savepoint within a transaction. \n",
                "    - For ex: If the backup fails u can tell the database to rollback to the savepoint.\n",
                "\n",
                "**DCL : Data Control Language**\n",
                "\n",
                "It is used for security purpose\n",
                "\n",
                "- **GRANT :**  Used to provide priviliges or roles to the user\n",
                "- **REVOKE :** Used to remove priviliges or roles to the user\n",
                "\n",
                "**MISC**\n",
                "\n",
                "- Since the above database and tables were created after opening the Managemnt Studio that is why it is not showing in intellisense while typing query. Since the same is not available in cache.\n",
                "- SQL is not case-sensitive\n",
                "- To avoid showing red lines under data objects  : Go to Edit-\\>Intellisense-\\>Refresh Local Cache"
            ],
            "metadata": {
                "azdata_cell_guid": "a408fd0d-e844-4fcc-8de5-9f00e0f189c4"
            },
            "attachments": {}
        }
    ]
}