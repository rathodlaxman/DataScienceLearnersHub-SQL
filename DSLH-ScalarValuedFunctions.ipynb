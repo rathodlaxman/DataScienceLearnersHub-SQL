{
    "metadata": {
        "kernelspec": {
            "name": "SQL",
            "display_name": "SQL",
            "language": "sql"
        },
        "language_info": {
            "name": "sql",
            "version": ""
        }
    },
    "nbformat_minor": 2,
    "nbformat": 4,
    "cells": [
        {
            "cell_type": "markdown",
            "source": [
                "# **Data Science Learners Hub**\n",
                "\n",
                "**Module : SQL**\n",
                "\n",
                "**email** : [datasciencelearnershub@gmail.com](mailto:datasciencelearnershub@gmail.com)"
            ],
            "metadata": {
                "azdata_cell_guid": "988483e0-9420-4c5a-92a4-09ce8831caf5"
            },
            "attachments": {}
        },
        {
            "cell_type": "markdown",
            "source": [
                "## **Topic : Scalar Valued Functions (SVFs)**"
            ],
            "metadata": {
                "azdata_cell_guid": "40a62919-a9a5-409b-ad03-f9b855840c58"
            },
            "attachments": {}
        },
        {
            "cell_type": "markdown",
            "source": [
                "#### Explanation:\n",
                "Scalar Valued Functions in SQL are akin to mathematical functions, where you provide an input, and the function returns a result. Imagine them as calculators for SQL queries, simplifying complex calculations.\n",
                "\n",
                "#### Definition:\n",
                "Scalar Valued Functions in MS SQL Server are user-defined functions that return a single value. They take input parameters, perform computations, and return a result.\n",
                "\n",
                "#### Importance in SQL:\n",
                "Scalar Valued Functions are crucial in SQL for enhancing code modularity and reusability. They allow developers to encapsulate logic and calculations into functions that can be easily called from various parts of a query.\n",
                "\n",
                "#### Real-World Application:\n",
                "Consider an online shopping platform where a Scalar Valued Function could calculate the total cost of items in a shopping cart, factoring in discounts, taxes, and any additional charges.\n",
                "\n",
                "#### Syntax for Scalar Valued Functions:\n",
                "```sql\n",
                "-- Syntax for creating a Scalar Valued Function\n",
                "CREATE FUNCTION functionName\n",
                "(\n",
                "    @Parameter1 DataType,\n",
                "    @Parameter2 DataType,\n",
                "    ...\n",
                ")\n",
                "RETURNS ReturnType\n",
                "AS\n",
                "BEGIN\n",
                "    -- Function logic here\n",
                "    RETURN Result;\n",
                "END;\n",
                "```\n",
                "\n",
                "#### Example:"
            ],
            "metadata": {
                "language": "sql",
                "azdata_cell_guid": "1ef7dbf3-d337-44f3-863a-34e590fbe685"
            },
            "attachments": {}
        },
        {
            "cell_type": "code",
            "source": [
                "USE DataScienceLearnersHub"
            ],
            "metadata": {
                "azdata_cell_guid": "ce545cbc-a25f-486a-b246-b4ff1720a4ac",
                "language": "sql"
            },
            "outputs": [
                {
                    "output_type": "display_data",
                    "data": {
                        "text/html": "Commands completed successfully."
                    },
                    "metadata": {}
                },
                {
                    "output_type": "display_data",
                    "data": {
                        "text/html": "Total execution time: 00:00:00.001"
                    },
                    "metadata": {}
                }
            ],
            "execution_count": 1
        },
        {
            "cell_type": "code",
            "source": [
                "CREATE FUNCTION CalculateDiscount\n",
                "(\n",
                "    @ItemPrice DECIMAL(10, 2),\n",
                "    @DiscountRate DECIMAL(5, 2)\n",
                ")\n",
                "RETURNS DECIMAL(10, 2)\n",
                "AS\n",
                "BEGIN\n",
                "    DECLARE @DiscountedPrice DECIMAL(10, 2);\n",
                "    SET @DiscountedPrice = @ItemPrice - (@ItemPrice * @DiscountRate / 100);\n",
                "    RETURN @DiscountedPrice;\n",
                "END;"
            ],
            "metadata": {
                "language": "sql",
                "azdata_cell_guid": "a3787f6f-6704-42d7-ab01-929becd81f93"
            },
            "outputs": [
                {
                    "output_type": "display_data",
                    "data": {
                        "text/html": "Commands completed successfully."
                    },
                    "metadata": {}
                },
                {
                    "output_type": "display_data",
                    "data": {
                        "text/html": "Total execution time: 00:00:00.055"
                    },
                    "metadata": {}
                }
            ],
            "execution_count": 2
        },
        {
            "cell_type": "markdown",
            "source": [
                "#### Considerations:\n",
                "When working with Scalar Valued Functions, choose appropriate data types for parameters and return types. Ensure the function logic is concise and handles potential errors gracefully.\n",
                "\n",
                "#### Common Mistakes:\n",
                "Common mistakes include forgetting to include the `BEGIN` and `END` statements in the function body or neglecting to handle errors using `TRY...CATCH` blocks.\n",
                "\n",
                "#### Create Table and Generate Insert Statements:\n",
                "Let's create a simple table and generate insert statements:"
            ],
            "metadata": {
                "azdata_cell_guid": "bdb359b1-6285-423c-9e29-e56c285d12de",
                "language": ""
            },
            "attachments": {}
        },
        {
            "cell_type": "code",
            "source": [
                "CREATE TABLE ShoppingCart (\n",
                "    ItemID INT PRIMARY KEY,\n",
                "    ItemName VARCHAR(50),\n",
                "    ItemPrice DECIMAL(10, 2),\n",
                "    Quantity INT\n",
                ");"
            ],
            "metadata": {
                "azdata_cell_guid": "745cf592-c789-490f-bfae-6942d3b8a34e",
                "language": "sql"
            },
            "outputs": [
                {
                    "output_type": "display_data",
                    "data": {
                        "text/html": "Commands completed successfully."
                    },
                    "metadata": {}
                },
                {
                    "output_type": "display_data",
                    "data": {
                        "text/html": "Total execution time: 00:00:00.032"
                    },
                    "metadata": {}
                }
            ],
            "execution_count": 3
        },
        {
            "cell_type": "code",
            "source": [
                "-- Insert statements\n",
                "INSERT INTO ShoppingCart VALUES (1, 'ProductA', 50.00, 2);\n",
                "INSERT INTO ShoppingCart VALUES (2, 'ProductB', 75.50, 1);\n",
                "INSERT INTO ShoppingCart VALUES (3, 'ProductC', 30.25, 3);"
            ],
            "metadata": {
                "language": "sql",
                "azdata_cell_guid": "badb45e5-59e8-41f2-89c2-d86bf4258fa2"
            },
            "outputs": [
                {
                    "output_type": "display_data",
                    "data": {
                        "text/html": "(1 row affected)"
                    },
                    "metadata": {}
                },
                {
                    "output_type": "display_data",
                    "data": {
                        "text/html": "(1 row affected)"
                    },
                    "metadata": {}
                },
                {
                    "output_type": "display_data",
                    "data": {
                        "text/html": "(1 row affected)"
                    },
                    "metadata": {}
                },
                {
                    "output_type": "display_data",
                    "data": {
                        "text/html": "Total execution time: 00:00:00.056"
                    },
                    "metadata": {}
                }
            ],
            "execution_count": 4
        },
        {
            "cell_type": "code",
            "source": [
                "SELECT * FROM ShoppingCart"
            ],
            "metadata": {
                "language": "sql",
                "azdata_cell_guid": "94822ba5-f31e-4cd9-b79d-9f8dbc65ae30"
            },
            "outputs": [
                {
                    "output_type": "display_data",
                    "data": {
                        "text/html": "(3 rows affected)"
                    },
                    "metadata": {}
                },
                {
                    "output_type": "display_data",
                    "data": {
                        "text/html": "Total execution time: 00:00:00.055"
                    },
                    "metadata": {}
                },
                {
                    "output_type": "execute_result",
                    "execution_count": 5,
                    "data": {
                        "application/vnd.dataresource+json": {
                            "schema": {
                                "fields": [
                                    {
                                        "name": "ItemID"
                                    },
                                    {
                                        "name": "ItemName"
                                    },
                                    {
                                        "name": "ItemPrice"
                                    },
                                    {
                                        "name": "Quantity"
                                    }
                                ]
                            },
                            "data": [
                                {
                                    "ItemID": "1",
                                    "ItemName": "ProductA",
                                    "ItemPrice": "50.00",
                                    "Quantity": "2"
                                },
                                {
                                    "ItemID": "2",
                                    "ItemName": "ProductB",
                                    "ItemPrice": "75.50",
                                    "Quantity": "1"
                                },
                                {
                                    "ItemID": "3",
                                    "ItemName": "ProductC",
                                    "ItemPrice": "30.25",
                                    "Quantity": "3"
                                }
                            ]
                        },
                        "text/html": "<table><tr><th>ItemID</th><th>ItemName</th><th>ItemPrice</th><th>Quantity</th></tr><tr><td>1</td><td>ProductA</td><td>50.00</td><td>2</td></tr><tr><td>2</td><td>ProductB</td><td>75.50</td><td>1</td></tr><tr><td>3</td><td>ProductC</td><td>30.25</td><td>3</td></tr></table>"
                    },
                    "metadata": {}
                }
            ],
            "execution_count": 5
        },
        {
            "cell_type": "markdown",
            "source": [
                "#### Practice Questions and Solutions:\n",
                "1. **Question 1:**\n",
                "   How would you call the \"CalculateDiscount\" function for an item priced at $50?\n",
                "\n",
                "   *Solution:*"
            ],
            "metadata": {
                "language": "sql",
                "azdata_cell_guid": "eb2aa603-d845-4c10-8621-5eca1dfcba20"
            },
            "attachments": {}
        },
        {
            "cell_type": "code",
            "source": [
                "SELECT dbo.CalculateDiscount(ItemPrice, 10) AS DiscountedPrice FROM ShoppingCart WHERE ItemID = 1;"
            ],
            "metadata": {
                "language": "sql",
                "azdata_cell_guid": "dac2bd2c-da19-4fb2-9797-1cf4e1c2cf2e"
            },
            "outputs": [
                {
                    "output_type": "display_data",
                    "data": {
                        "text/html": "(1 row affected)"
                    },
                    "metadata": {}
                },
                {
                    "output_type": "display_data",
                    "data": {
                        "text/html": "Total execution time: 00:00:00.053"
                    },
                    "metadata": {}
                },
                {
                    "output_type": "execute_result",
                    "execution_count": 6,
                    "data": {
                        "application/vnd.dataresource+json": {
                            "schema": {
                                "fields": [
                                    {
                                        "name": "DiscountedPrice"
                                    }
                                ]
                            },
                            "data": [
                                {
                                    "DiscountedPrice": "45.00"
                                }
                            ]
                        },
                        "text/html": "<table><tr><th>DiscountedPrice</th></tr><tr><td>45.00</td></tr></table>"
                    },
                    "metadata": {}
                }
            ],
            "execution_count": 6
        },
        {
            "cell_type": "markdown",
            "source": [
                "2. **Question 2:**\n",
                "   Assume a loyalty discount of 5%. Modify the function call for the item priced at $50 to include this additional discount.\n",
                "\n",
                "   *Solution:*"
            ],
            "metadata": {
                "language": "sql",
                "azdata_cell_guid": "b4f6118b-2bd9-4270-aad6-a0f517f58c16"
            },
            "attachments": {}
        },
        {
            "cell_type": "code",
            "source": [
                "SELECT dbo.CalculateDiscount(ItemPrice, 10 + 5) AS DiscountedPrice FROM ShoppingCart WHERE ItemID = 1;"
            ],
            "metadata": {
                "language": "sql",
                "azdata_cell_guid": "e68f5e01-9ef7-47e1-8b97-331e64a6a9a7"
            },
            "outputs": [
                {
                    "output_type": "display_data",
                    "data": {
                        "text/html": "(1 row affected)"
                    },
                    "metadata": {}
                },
                {
                    "output_type": "display_data",
                    "data": {
                        "text/html": "Total execution time: 00:00:00.024"
                    },
                    "metadata": {}
                },
                {
                    "output_type": "execute_result",
                    "execution_count": 7,
                    "data": {
                        "application/vnd.dataresource+json": {
                            "schema": {
                                "fields": [
                                    {
                                        "name": "DiscountedPrice"
                                    }
                                ]
                            },
                            "data": [
                                {
                                    "DiscountedPrice": "42.50"
                                }
                            ]
                        },
                        "text/html": "<table><tr><th>DiscountedPrice</th></tr><tr><td>42.50</td></tr></table>"
                    },
                    "metadata": {}
                }
            ],
            "execution_count": 7
        },
        {
            "cell_type": "markdown",
            "source": [
                "3. **Question 3:**\n",
                "   Create a new Scalar Valued Function named \"CalculateTotalCost\" that takes ItemID as a parameter and returns the total cost (Price * Quantity).\n",
                "\n",
                "   *Solution:*"
            ],
            "metadata": {
                "language": "sql",
                "azdata_cell_guid": "a86836cc-edc2-411d-b3e5-c1025fe649ac"
            },
            "attachments": {}
        },
        {
            "cell_type": "code",
            "source": [
                "  CREATE FUNCTION CalculateTotalCost\n",
                "   (\n",
                "       @ItemID INT\n",
                "   )\n",
                "   RETURNS DECIMAL(10, 2)\n",
                "   AS\n",
                "   BEGIN\n",
                "       DECLARE @TotalCost DECIMAL(10, 2);\n",
                "       SELECT @TotalCost = ItemPrice * Quantity FROM ShoppingCart WHERE ItemID = @ItemID;\n",
                "       RETURN @TotalCost;\n",
                "   END;"
            ],
            "metadata": {
                "language": "sql",
                "azdata_cell_guid": "42a6d098-3557-4acf-9899-9fdb43359575"
            },
            "outputs": [
                {
                    "output_type": "display_data",
                    "data": {
                        "text/html": "Commands completed successfully."
                    },
                    "metadata": {}
                },
                {
                    "output_type": "display_data",
                    "data": {
                        "text/html": "Total execution time: 00:00:00.024"
                    },
                    "metadata": {}
                }
            ],
            "execution_count": 8
        },
        {
            "cell_type": "markdown",
            "source": [
                "#### Homework Exercises:\n",
                "1. **Exercise 1:**\n",
                "   Create a Scalar Valued Function named \"CalculateTax\" that takes ItemID as a parameter and returns the calculated tax (assume a fixed tax rate).\n",
                "\n",
                "2. **Exercise 2:**\n",
                "   Modify the \"CalculateDiscount\" function to handle an optional loyalty discount parameter.\n",
                "\n",
                "3. **Exercise 3:**\n",
                "   Imagine a scenario where a new requirement arises to calculate a shipping cost based on the destination. Design a Scalar Valued Function for this purpose.\n",
                "\n",
                "#### Some Facts:\n",
                "Scalar Valued Functions play a crucial role in modularizing code, promoting reusability, and enhancing the overall maintainability of SQL scripts. They act as building blocks for creating efficient and flexible queries."
            ],
            "metadata": {
                "language": "sql",
                "azdata_cell_guid": "7666770f-d1ff-42cf-9fad-33ca5b609905"
            },
            "attachments": {}
        }
    ]
}