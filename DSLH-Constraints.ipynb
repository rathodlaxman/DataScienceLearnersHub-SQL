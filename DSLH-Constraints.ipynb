{
    "metadata": {
        "kernelspec": {
            "name": "SQL",
            "display_name": "SQL",
            "language": "sql"
        },
        "language_info": {
            "name": "sql",
            "version": ""
        }
    },
    "nbformat_minor": 2,
    "nbformat": 4,
    "cells": [
        {
            "cell_type": "markdown",
            "source": [
                "# **Data Science Learners Hub**\n",
                "\n",
                "**Module : SQL**\n",
                "\n",
                "**Created Date** : 03 Dec 2023\n",
                "\n",
                "**Topic :** Disabling and Enabling Constraints\n",
                "\n",
                "**email** : [datasciencelearnershub@gmail.com](mailto:datasciencelearnershub@gmail.com)"
            ],
            "metadata": {
                "azdata_cell_guid": "dc8263bb-22e1-4536-9517-a90207812391"
            },
            "attachments": {}
        },
        {
            "cell_type": "markdown",
            "source": [
                "#### What is a constraint ?\n",
                "\n",
                "Constraints are <mark>rules applied to columns</mark> in a table <mark>to ensure the integrity, accuracy, and reliability of the data</mark> within the database."
            ],
            "metadata": {
                "azdata_cell_guid": "92cb9383-12f6-4124-a492-ce17d3075f00"
            },
            "attachments": {}
        },
        {
            "cell_type": "markdown",
            "source": [
                "#### Commonly Used SQL Constraints (Microsoft SQL Server)"
            ],
            "metadata": {
                "azdata_cell_guid": "572c22b6-a7fa-411f-83ce-d5b7ff8b196d"
            },
            "attachments": {}
        },
        {
            "cell_type": "markdown",
            "source": [
                "\n",
                "\n",
                "| Constraint    | Syntax                         | One-Line Explainer                                      | Peculiarities/Considerations                                  |\n",
                "|---------------|--------------------------------|---------------------------------------------------------|--------------------------------------------------------------|\n",
                "| `PRIMARY KEY` | `PRIMARY KEY (column)`         | Uniquely identifies each record in a table.             | Only one primary key allowed per table; <mark>**can be a combination of columns (composite key)**</mark>. |\n",
                "| `FOREIGN KEY` | `FOREIGN KEY (column) REFERENCES table(column)` | Ensures referential integrity by linking to the primary key in another table. | <mark>**Values must match values in the referenced primary key column or be NULL.**</mark> |\n",
                "| `UNIQUE`      | `UNIQUE (column)`              | Ensures all values in a column are unique.              | <mark>**Multiple unique constraints allowed per table; can include NULL values.**</mark> |\n",
                "| `NOT NULL`    | `column datatype NOT NULL`     | Ensures a column cannot have NULL values.               | <mark>**Must be defined at column creation or altered later.**</mark>         |\n",
                "| `CHECK`       | `CHECK (condition)`            | Ensures all values in a <mark>**column meet a specific condition.**</mark> | <mark>**Can include expressions involving multiple columns.**</mark>           |\n",
                "| `DEFAULT`     | `column datatype DEFAULT value`| <mark>**Sets a default value for a column if no value is specified.**</mark> | Useful for setting common default values (e.g., status = 'active'). |\n",
                "| `INDEX`       | `CREATE INDEX index_name ON table(column)` | <mark>**Improves the speed of data retrieval.**</mark>                   | <mark>**Indexes can be unique or non-unique; affects performance on insert/update/delete operations.**</mark> |\n",
                ""
            ],
            "metadata": {
                "azdata_cell_guid": "391f1905-5f46-4c6c-813f-61fc9899330c"
            },
            "attachments": {}
        },
        {
            "cell_type": "code",
            "source": [
                "USE DataScienceLearnersHub"
            ],
            "metadata": {
                "azdata_cell_guid": "ad29c8cc-7052-4cfc-92a8-aa385b8bdc2c",
                "language": "sql"
            },
            "outputs": [
                {
                    "output_type": "display_data",
                    "data": {
                        "text/html": "Commands completed successfully."
                    },
                    "metadata": {}
                },
                {
                    "output_type": "display_data",
                    "data": {
                        "text/html": "Total execution time: 00:00:00.006"
                    },
                    "metadata": {}
                }
            ],
            "execution_count": 1
        },
        {
            "cell_type": "markdown",
            "source": [
                "### **Sample Table with Data and Constraints in SQL Server**\n",
                "\n",
                "#### Table Creation"
            ],
            "metadata": {
                "language": "sql",
                "azdata_cell_guid": "90ee3c46-3319-4a2f-92f7-b153db97ae91"
            },
            "attachments": {}
        },
        {
            "cell_type": "code",
            "source": [
                "CREATE TABLE Employees_Constraints (\n",
                "    EmployeeID INT PRIMARY KEY,\n",
                "    FirstName NVARCHAR(50) NOT NULL,\n",
                "    LastName NVARCHAR(50) NOT NULL,\n",
                "    Email NVARCHAR(100) UNIQUE,\n",
                "    HireDate DATE DEFAULT GETDATE(),\n",
                "    DepartmentID INT,\n",
                "    Salary DECIMAL(10, 2),\n",
                "    CONSTRAINT CHK_Salary CHECK (Salary > 0),\n",
                "    CONSTRAINT FK_Department FOREIGN KEY (DepartmentID) REFERENCES Departments(DepartmentID)\n",
                ");"
            ],
            "metadata": {
                "language": "sql",
                "azdata_cell_guid": "8d62d3c2-b752-4b29-ac80-453e42abf353"
            },
            "outputs": [
                {
                    "output_type": "display_data",
                    "data": {
                        "text/html": "Commands completed successfully."
                    },
                    "metadata": {}
                },
                {
                    "output_type": "display_data",
                    "data": {
                        "text/html": "Total execution time: 00:00:00.062"
                    },
                    "metadata": {}
                }
            ],
            "execution_count": 3
        },
        {
            "cell_type": "markdown",
            "source": [
                "### **Explanation of Each Constraint**\n",
                "\n",
                "1. **PRIMARY KEY (EmployeeID)**:\n",
                "   - **Explanation**: Ensures each employee has a unique identifier.\n",
                "   - **Peculiarities**: Only one primary key per table; `EmployeeID` must be unique and not NULL.\n",
                "\n",
                "2. **NOT NULL (FirstName, LastName)**:\n",
                "   - **Explanation**: Ensures that these fields cannot be left empty.\n",
                "   - **Peculiarities**: Mandatory values required during insertion.\n",
                "\n",
                "3. **UNIQUE (Email)**:\n",
                "   - **Explanation**: Ensures no two employees can have the same email address.\n",
                "   - **Peculiarities**: Allows only one NULL value (if not specified as NOT NULL).\n",
                "\n",
                "4. **DEFAULT (HireDate)**:\n",
                "   - **Explanation**: Automatically sets the hire date to the current date if not provided.\n",
                "   - **Peculiarities**: Simplifies data entry by providing default values.\n",
                "\n",
                "5. **CHECK (Salary > 0)**:\n",
                "   - **Explanation**: Ensures salary values must be greater than zero.\n",
                "   - **Peculiarities**: Prevents invalid data from being entered.\n",
                "\n",
                "6. **FOREIGN KEY (DepartmentID)**:\n",
                "   - **Explanation**: Links the `DepartmentID` in `Employees` table to the `Departments` table, ensuring referential integrity.\n",
                "   - **Peculiarities**: `DepartmentID` values must match an existing `DepartmentID` in the `Departments` table or be NULL."
            ],
            "metadata": {
                "language": "sql",
                "azdata_cell_guid": "cbedf075-bb53-45bc-bd66-bed14df9568b"
            },
            "attachments": {}
        },
        {
            "cell_type": "markdown",
            "source": [
                "### **Inserting Data**"
            ],
            "metadata": {
                "azdata_cell_guid": "5e99940e-03fb-4719-b944-f57d93ef0d16"
            },
            "attachments": {}
        },
        {
            "cell_type": "code",
            "source": [
                "-- Insert into Departments table for Foreign Key reference\n",
                "INSERT INTO Departments (DepartmentID, DepartmentName) VALUES (1, 'HR'), (2, 'Engineering');"
            ],
            "metadata": {
                "azdata_cell_guid": "c2212718-781c-4d9a-95c5-b10564f44d1f",
                "language": "sql",
                "tags": []
            },
            "outputs": [
                {
                    "output_type": "display_data",
                    "data": {
                        "text/html": "(2 rows affected)"
                    },
                    "metadata": {}
                },
                {
                    "output_type": "display_data",
                    "data": {
                        "text/html": "Total execution time: 00:00:00.023"
                    },
                    "metadata": {}
                }
            ],
            "execution_count": 4
        },
        {
            "cell_type": "code",
            "source": [
                "-- Insert data into Employees table\n",
                "INSERT INTO Employees_Constraints (EmployeeID, FirstName, LastName, Email, DepartmentID, Salary) VALUES\n",
                "(1, 'John', 'Doe', 'john.doe@example.com', 1, 50000.00),\n",
                "(2, 'Jane', 'Smith', 'jane.smith@example.com', 2, 60000.00),\n",
                "(3, 'Alice', 'Johnson', 'alice.j@example.com', NULL, 45000.00);"
            ],
            "metadata": {
                "language": "sql",
                "azdata_cell_guid": "9cf424dc-b125-4793-9575-9daa53fa2e21"
            },
            "outputs": [
                {
                    "output_type": "display_data",
                    "data": {
                        "text/html": "(3 rows affected)"
                    },
                    "metadata": {}
                },
                {
                    "output_type": "display_data",
                    "data": {
                        "text/html": "Total execution time: 00:00:00.041"
                    },
                    "metadata": {}
                }
            ],
            "execution_count": 5
        },
        {
            "cell_type": "markdown",
            "source": [
                "### **Explanation of Data Insertion with Constraints**\n",
                "\n",
                "1. **PRIMARY KEY**: Each `EmployeeID` is unique (1, 2, 3).\n",
                "2. **NOT NULL**: `FirstName` and `LastName` are provided for all rows.\n",
                "3. **UNIQUE**: Each `Email` is unique.\n",
                "4. **DEFAULT**: `HireDate` is automatically set to the current date if not specified.\n",
                "5. **CHECK**: `Salary` values are all greater than 0.\n",
                "6. **FOREIGN KEY**: `DepartmentID` values either match an existing department (1, 2) or are NULL.\n",
                "\n",
                ""
            ],
            "metadata": {
                "azdata_cell_guid": "ef129f4e-55e2-4ef0-9620-3069b4a548a0"
            },
            "attachments": {}
        },
        {
            "cell_type": "code",
            "source": [
                "CREATE DATABASE DataScienceLearnersHub"
            ],
            "metadata": {
                "azdata_cell_guid": "e882b0f7-bdeb-49a8-998b-a31a0bdb39f1",
                "language": "sql"
            },
            "outputs": [
                {
                    "output_type": "display_data",
                    "data": {
                        "text/html": "Commands completed successfully."
                    },
                    "metadata": {}
                },
                {
                    "output_type": "display_data",
                    "data": {
                        "text/html": "Total execution time: 00:00:00.502"
                    },
                    "metadata": {}
                }
            ],
            "execution_count": 2
        },
        {
            "cell_type": "code",
            "source": [
                "USE DataScienceLearnersHub"
            ],
            "metadata": {
                "language": "sql",
                "azdata_cell_guid": "d7d7f334-5469-4d86-87b0-ebd394f4eada"
            },
            "outputs": [
                {
                    "output_type": "display_data",
                    "data": {
                        "text/html": "Commands completed successfully."
                    },
                    "metadata": {}
                },
                {
                    "output_type": "display_data",
                    "data": {
                        "text/html": "Total execution time: 00:00:00.008"
                    },
                    "metadata": {}
                }
            ],
            "execution_count": 3
        },
        {
            "cell_type": "code",
            "source": [
                "CREATE TABLE TestConstraints(\n",
                "    emp_id INT NOT NULL UNIQUE CHECK(emp_id > 100),\n",
                "    emp_name CHAR(50) NOT NULL,\n",
                "    emp_salary INT CHECK(emp_salary > 10000)\n",
                ")"
            ],
            "metadata": {
                "language": "sql",
                "azdata_cell_guid": "d6067db2-0c31-45c5-9eb5-294708b283c3"
            },
            "outputs": [
                {
                    "output_type": "display_data",
                    "data": {
                        "text/html": "Commands completed successfully."
                    },
                    "metadata": {}
                },
                {
                    "output_type": "display_data",
                    "data": {
                        "text/html": "Total execution time: 00:00:00.019"
                    },
                    "metadata": {}
                }
            ],
            "execution_count": 4
        },
        {
            "cell_type": "code",
            "source": [
                "INSERT INTO TestConstraints VALUES (101,'laxman', 100000)"
            ],
            "metadata": {
                "language": "sql",
                "azdata_cell_guid": "c30848ff-09d9-4afb-9288-adfa48433bf3"
            },
            "outputs": [
                {
                    "output_type": "display_data",
                    "data": {
                        "text/html": "(1 row affected)"
                    },
                    "metadata": {}
                },
                {
                    "output_type": "display_data",
                    "data": {
                        "text/html": "Total execution time: 00:00:00.015"
                    },
                    "metadata": {}
                }
            ],
            "execution_count": 5
        },
        {
            "cell_type": "code",
            "source": [
                "-- Now here we are trying to insert emp_id whose value is less than 100\n",
                "\n",
                "INSERT INTO TestConstraints VALUES (10,'rajesh', 100000)\n",
                "\n",
                "-- NOTE :\n",
                "-- We get error here because while creating TestConstraints table we had mentioned CHECK(emp_id > 100)"
            ],
            "metadata": {
                "language": "sql",
                "azdata_cell_guid": "041cff96-5efd-4237-83d7-cd6a9f6947c2"
            },
            "outputs": [
                {
                    "output_type": "error",
                    "ename": "",
                    "evalue": "Msg 547, Level 16, State 0, Line 3\nThe INSERT statement conflicted with the CHECK constraint \"CK__TestConst__emp_i__37A5467C\". The conflict occurred in database \"DataScienceLearnersHub\", table \"dbo.TestConstraints\", column 'emp_id'.",
                    "traceback": []
                },
                {
                    "output_type": "display_data",
                    "data": {
                        "text/html": "The statement has been terminated."
                    },
                    "metadata": {}
                },
                {
                    "output_type": "display_data",
                    "data": {
                        "text/html": "Total execution time: 00:00:00.027"
                    },
                    "metadata": {}
                }
            ],
            "execution_count": 6
        },
        {
            "cell_type": "code",
            "source": [
                "-- After executing the below query we will be able to bypass the CHECK\n",
                "ALTER TABLE TestConstraints NOCHECK CONSTRAINT ALL;"
            ],
            "metadata": {
                "language": "sql",
                "azdata_cell_guid": "8a75f152-6c11-4dc0-bbcd-02b7c7ef868b"
            },
            "outputs": [
                {
                    "output_type": "display_data",
                    "data": {
                        "text/html": "Commands completed successfully."
                    },
                    "metadata": {}
                },
                {
                    "output_type": "display_data",
                    "data": {
                        "text/html": "Total execution time: 00:00:00.017"
                    },
                    "metadata": {}
                }
            ],
            "execution_count": 7
        },
        {
            "cell_type": "code",
            "source": [
                "INSERT INTO TestConstraints VALUES (10,'rajesh', 100000)\n",
                "\n",
                "-- NOTE : Here we are able to insert a row with emp_id value < 100"
            ],
            "metadata": {
                "language": "sql",
                "azdata_cell_guid": "faeed0d5-ab8a-46cf-826c-a36d39406176"
            },
            "outputs": [
                {
                    "output_type": "display_data",
                    "data": {
                        "text/html": "(1 row affected)"
                    },
                    "metadata": {}
                },
                {
                    "output_type": "display_data",
                    "data": {
                        "text/html": "Total execution time: 00:00:00.014"
                    },
                    "metadata": {}
                }
            ],
            "execution_count": 8
        },
        {
            "cell_type": "code",
            "source": [
                "-- To re-enable the CHECK constraint\n",
                "ALTER TABLE TestConstraints CHECK CONSTRAINT ALL;"
            ],
            "metadata": {
                "language": "sql",
                "azdata_cell_guid": "c6aeec2d-ddca-48b3-8bbb-be1e3e230dfd"
            },
            "outputs": [
                {
                    "output_type": "display_data",
                    "data": {
                        "text/html": "Commands completed successfully."
                    },
                    "metadata": {}
                },
                {
                    "output_type": "display_data",
                    "data": {
                        "text/html": "Total execution time: 00:00:00.032"
                    },
                    "metadata": {}
                }
            ],
            "execution_count": 9
        },
        {
            "cell_type": "code",
            "source": [
                "-- After enabling check constraint now again it will not allow emp_id < 100 and give error\n",
                "INSERT INTO TestConstraints VALUES (26,'Naina', 100000)"
            ],
            "metadata": {
                "language": "sql",
                "azdata_cell_guid": "da265940-f6aa-4327-abdf-bcc9bb671903"
            },
            "outputs": [
                {
                    "output_type": "error",
                    "ename": "",
                    "evalue": "Msg 547, Level 16, State 0, Line 2\nThe INSERT statement conflicted with the CHECK constraint \"CK__TestConst__emp_i__37A5467C\". The conflict occurred in database \"DataScienceLearnersHub\", table \"dbo.TestConstraints\", column 'emp_id'.",
                    "traceback": []
                },
                {
                    "output_type": "display_data",
                    "data": {
                        "text/html": "The statement has been terminated."
                    },
                    "metadata": {}
                },
                {
                    "output_type": "display_data",
                    "data": {
                        "text/html": "Total execution time: 00:00:00.023"
                    },
                    "metadata": {}
                }
            ],
            "execution_count": 10
        }
    ]
}