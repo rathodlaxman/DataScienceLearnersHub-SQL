{
    "metadata": {
        "kernelspec": {
            "name": "SQL",
            "display_name": "SQL",
            "language": "sql"
        },
        "language_info": {
            "name": "sql",
            "version": ""
        }
    },
    "nbformat_minor": 2,
    "nbformat": 4,
    "cells": [
        {
            "cell_type": "markdown",
            "source": [
                "# **Data Science Learners Hub**\n",
                "\n",
                "**Module : SQL**\n",
                "\n",
                "**Created Date** : 03 Dec 2023\n",
                "\n",
                "**Topic :** Disabling and Enabling Constraints\n",
                "\n",
                "**email** : [datasciencelearnershub@gmail.com](mailto:datasciencelearnershub@gmail.com)"
            ],
            "metadata": {
                "azdata_cell_guid": "dc8263bb-22e1-4536-9517-a90207812391"
            },
            "attachments": {}
        },
        {
            "cell_type": "markdown",
            "source": [
                "![](/Users/laxman/Documents/1.PROJECTS/DataScienceLearnersHub-SQL/images/DSLH-ConstrintsAndNOCHECK.jpeg)"
            ],
            "metadata": {
                "azdata_cell_guid": "f771a02c-b0f6-4d2f-9573-a2964db08bf8"
            },
            "attachments": {}
        },
        {
            "cell_type": "code",
            "source": [
                "CREATE DATABASE DataScienceLearnersHub"
            ],
            "metadata": {
                "azdata_cell_guid": "e882b0f7-bdeb-49a8-998b-a31a0bdb39f1",
                "language": "sql"
            },
            "outputs": [
                {
                    "output_type": "display_data",
                    "data": {
                        "text/html": "Commands completed successfully."
                    },
                    "metadata": {}
                },
                {
                    "output_type": "display_data",
                    "data": {
                        "text/html": "Total execution time: 00:00:00.502"
                    },
                    "metadata": {}
                }
            ],
            "execution_count": 2
        },
        {
            "cell_type": "code",
            "source": [
                "USE DataScienceLearnersHub"
            ],
            "metadata": {
                "language": "sql",
                "azdata_cell_guid": "d7d7f334-5469-4d86-87b0-ebd394f4eada"
            },
            "outputs": [
                {
                    "output_type": "display_data",
                    "data": {
                        "text/html": "Commands completed successfully."
                    },
                    "metadata": {}
                },
                {
                    "output_type": "display_data",
                    "data": {
                        "text/html": "Total execution time: 00:00:00.008"
                    },
                    "metadata": {}
                }
            ],
            "execution_count": 3
        },
        {
            "cell_type": "code",
            "source": [
                "CREATE TABLE TestConstraints(\n",
                "    emp_id INT NOT NULL UNIQUE CHECK(emp_id > 100),\n",
                "    emp_name CHAR(50) NOT NULL,\n",
                "    emp_salary INT CHECK(emp_salary > 10000)\n",
                ")"
            ],
            "metadata": {
                "language": "sql",
                "azdata_cell_guid": "d6067db2-0c31-45c5-9eb5-294708b283c3"
            },
            "outputs": [
                {
                    "output_type": "display_data",
                    "data": {
                        "text/html": "Commands completed successfully."
                    },
                    "metadata": {}
                },
                {
                    "output_type": "display_data",
                    "data": {
                        "text/html": "Total execution time: 00:00:00.019"
                    },
                    "metadata": {}
                }
            ],
            "execution_count": 4
        },
        {
            "cell_type": "code",
            "source": [
                "INSERT INTO TestConstraints VALUES (101,'laxman', 100000)"
            ],
            "metadata": {
                "language": "sql",
                "azdata_cell_guid": "c30848ff-09d9-4afb-9288-adfa48433bf3"
            },
            "outputs": [
                {
                    "output_type": "display_data",
                    "data": {
                        "text/html": "(1 row affected)"
                    },
                    "metadata": {}
                },
                {
                    "output_type": "display_data",
                    "data": {
                        "text/html": "Total execution time: 00:00:00.015"
                    },
                    "metadata": {}
                }
            ],
            "execution_count": 5
        },
        {
            "cell_type": "code",
            "source": [
                "-- Now here we are trying to insert emp_id whose value is less than 100\n",
                "\n",
                "INSERT INTO TestConstraints VALUES (10,'rajesh', 100000)\n",
                "\n",
                "-- NOTE :\n",
                "-- We get error here because while creating TestConstraints table we had mentioned CHECK(emp_id > 100)"
            ],
            "metadata": {
                "language": "sql",
                "azdata_cell_guid": "041cff96-5efd-4237-83d7-cd6a9f6947c2"
            },
            "outputs": [
                {
                    "output_type": "error",
                    "ename": "",
                    "evalue": "Msg 547, Level 16, State 0, Line 3\nThe INSERT statement conflicted with the CHECK constraint \"CK__TestConst__emp_i__37A5467C\". The conflict occurred in database \"DataScienceLearnersHub\", table \"dbo.TestConstraints\", column 'emp_id'.",
                    "traceback": []
                },
                {
                    "output_type": "display_data",
                    "data": {
                        "text/html": "The statement has been terminated."
                    },
                    "metadata": {}
                },
                {
                    "output_type": "display_data",
                    "data": {
                        "text/html": "Total execution time: 00:00:00.027"
                    },
                    "metadata": {}
                }
            ],
            "execution_count": 6
        },
        {
            "cell_type": "code",
            "source": [
                "-- After executing the below query we will be able to bypass the CHECK\n",
                "ALTER TABLE TestConstraints NOCHECK CONSTRAINT ALL;"
            ],
            "metadata": {
                "language": "sql",
                "azdata_cell_guid": "8a75f152-6c11-4dc0-bbcd-02b7c7ef868b"
            },
            "outputs": [
                {
                    "output_type": "display_data",
                    "data": {
                        "text/html": "Commands completed successfully."
                    },
                    "metadata": {}
                },
                {
                    "output_type": "display_data",
                    "data": {
                        "text/html": "Total execution time: 00:00:00.017"
                    },
                    "metadata": {}
                }
            ],
            "execution_count": 7
        },
        {
            "cell_type": "code",
            "source": [
                "INSERT INTO TestConstraints VALUES (10,'rajesh', 100000)\n",
                "\n",
                "-- NOTE : Here we are able to insert a row with emp_id value < 100"
            ],
            "metadata": {
                "language": "sql",
                "azdata_cell_guid": "faeed0d5-ab8a-46cf-826c-a36d39406176"
            },
            "outputs": [
                {
                    "output_type": "display_data",
                    "data": {
                        "text/html": "(1 row affected)"
                    },
                    "metadata": {}
                },
                {
                    "output_type": "display_data",
                    "data": {
                        "text/html": "Total execution time: 00:00:00.014"
                    },
                    "metadata": {}
                }
            ],
            "execution_count": 8
        },
        {
            "cell_type": "code",
            "source": [
                "-- To re-enable the CHECK constraint\n",
                "ALTER TABLE TestConstraints CHECK CONSTRAINT ALL;"
            ],
            "metadata": {
                "language": "sql",
                "azdata_cell_guid": "c6aeec2d-ddca-48b3-8bbb-be1e3e230dfd"
            },
            "outputs": [
                {
                    "output_type": "display_data",
                    "data": {
                        "text/html": "Commands completed successfully."
                    },
                    "metadata": {}
                },
                {
                    "output_type": "display_data",
                    "data": {
                        "text/html": "Total execution time: 00:00:00.032"
                    },
                    "metadata": {}
                }
            ],
            "execution_count": 9
        },
        {
            "cell_type": "code",
            "source": [
                "-- After enabling check constraint now again it will not allow emp_id < 100 and give error\n",
                "INSERT INTO TestConstraints VALUES (26,'Naina', 100000)"
            ],
            "metadata": {
                "language": "sql",
                "azdata_cell_guid": "da265940-f6aa-4327-abdf-bcc9bb671903"
            },
            "outputs": [
                {
                    "output_type": "error",
                    "ename": "",
                    "evalue": "Msg 547, Level 16, State 0, Line 2\nThe INSERT statement conflicted with the CHECK constraint \"CK__TestConst__emp_i__37A5467C\". The conflict occurred in database \"DataScienceLearnersHub\", table \"dbo.TestConstraints\", column 'emp_id'.",
                    "traceback": []
                },
                {
                    "output_type": "display_data",
                    "data": {
                        "text/html": "The statement has been terminated."
                    },
                    "metadata": {}
                },
                {
                    "output_type": "display_data",
                    "data": {
                        "text/html": "Total execution time: 00:00:00.023"
                    },
                    "metadata": {}
                }
            ],
            "execution_count": 10
        }
    ]
}