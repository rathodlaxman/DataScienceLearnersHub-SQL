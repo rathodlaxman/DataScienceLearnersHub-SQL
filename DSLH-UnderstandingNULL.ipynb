{
    "metadata": {
        "kernelspec": {
            "name": "SQL",
            "display_name": "SQL",
            "language": "sql"
        },
        "language_info": {
            "name": "sql",
            "version": ""
        }
    },
    "nbformat_minor": 2,
    "nbformat": 4,
    "cells": [
        {
            "cell_type": "markdown",
            "source": [
                "# **Data Science Learners Hub**\n",
                "\n",
                "**Module : SQL**\n",
                "\n",
                "**Topic :** **Understanding NULL**\n",
                "\n",
                "**email** : [datasciencelearnershub@gmail.com](mailto:datasciencelearnershub@gmail.com)"
            ],
            "metadata": {
                "azdata_cell_guid": "a9014ef8-caa3-40fe-95dd-f7a375660c97"
            },
            "attachments": {}
        },
        {
            "cell_type": "code",
            "source": [
                "USE DataScienceLearnersHub"
            ],
            "metadata": {
                "azdata_cell_guid": "9aa8b2e0-80a5-44c7-a4d0-946d050cc726",
                "language": "sql"
            },
            "outputs": [
                {
                    "output_type": "display_data",
                    "data": {
                        "text/html": "Commands completed successfully."
                    },
                    "metadata": {}
                },
                {
                    "output_type": "display_data",
                    "data": {
                        "text/html": "Total execution time: 00:00:00.001"
                    },
                    "metadata": {}
                }
            ],
            "execution_count": 1
        },
        {
            "cell_type": "code",
            "source": [
                "SELECT * FROM Emp"
            ],
            "metadata": {
                "language": "sql",
                "azdata_cell_guid": "0c45e691-6ad0-4a5f-9f47-032780915245"
            },
            "outputs": [
                {
                    "output_type": "display_data",
                    "data": {
                        "text/html": "(12 rows affected)"
                    },
                    "metadata": {}
                },
                {
                    "output_type": "display_data",
                    "data": {
                        "text/html": "Total execution time: 00:00:00.003"
                    },
                    "metadata": {}
                },
                {
                    "output_type": "execute_result",
                    "execution_count": 1,
                    "data": {
                        "application/vnd.dataresource+json": {
                            "schema": {
                                "fields": [
                                    {
                                        "name": "id"
                                    },
                                    {
                                        "name": "name"
                                    },
                                    {
                                        "name": "age"
                                    },
                                    {
                                        "name": "gender"
                                    },
                                    {
                                        "name": "salary"
                                    },
                                    {
                                        "name": "department"
                                    }
                                ]
                            },
                            "data": [
                                {
                                    "id": "1",
                                    "name": "Rajesh",
                                    "age": "30",
                                    "gender": "Male",
                                    "salary": "60000.00",
                                    "department": "IT"
                                },
                                {
                                    "id": "2",
                                    "name": "Padma",
                                    "age": "25",
                                    "gender": "Female",
                                    "salary": "55000.50",
                                    "department": "HR"
                                },
                                {
                                    "id": "3",
                                    "name": "Laxman",
                                    "age": "35",
                                    "gender": "Male",
                                    "salary": "70000.75",
                                    "department": "Finance"
                                },
                                {
                                    "id": "4",
                                    "name": "Ganga",
                                    "age": "28",
                                    "gender": "Female",
                                    "salary": "48000.25",
                                    "department": "Marketing"
                                },
                                {
                                    "id": "5",
                                    "name": "Nikhil",
                                    "age": "32",
                                    "gender": "Male",
                                    "salary": "72000.00",
                                    "department": "IT"
                                },
                                {
                                    "id": "6",
                                    "name": "Sarita",
                                    "age": "29",
                                    "gender": "Female",
                                    "salary": "58000.75",
                                    "department": "HR"
                                },
                                {
                                    "id": "7",
                                    "name": "Bunny",
                                    "age": "40",
                                    "gender": "Male",
                                    "salary": "85000.50",
                                    "department": "Finance"
                                },
                                {
                                    "id": "8",
                                    "name": "Namrata",
                                    "age": "26",
                                    "gender": "Female",
                                    "salary": "50000.50",
                                    "department": "Marketing"
                                },
                                {
                                    "id": "9",
                                    "name": "Abhiram",
                                    "age": "38",
                                    "gender": "Male",
                                    "salary": "78000.25",
                                    "department": "IT"
                                },
                                {
                                    "id": "10",
                                    "name": "Tikram",
                                    "age": "31",
                                    "gender": "Female",
                                    "salary": "62000.00",
                                    "department": "Finance"
                                },
                                {
                                    "id": "11",
                                    "name": "Ramulu",
                                    "age": "58",
                                    "gender": "Male",
                                    "salary": "178000.25",
                                    "department": "IT"
                                },
                                {
                                    "id": "12",
                                    "name": "Bala",
                                    "age": "51",
                                    "gender": "Female",
                                    "salary": "162000.00",
                                    "department": "Finance"
                                }
                            ]
                        },
                        "text/html": "<table><tr><th>id</th><th>name</th><th>age</th><th>gender</th><th>salary</th><th>department</th></tr><tr><td>1</td><td>Rajesh</td><td>30</td><td>Male</td><td>60000.00</td><td>IT</td></tr><tr><td>2</td><td>Padma</td><td>25</td><td>Female</td><td>55000.50</td><td>HR</td></tr><tr><td>3</td><td>Laxman</td><td>35</td><td>Male</td><td>70000.75</td><td>Finance</td></tr><tr><td>4</td><td>Ganga</td><td>28</td><td>Female</td><td>48000.25</td><td>Marketing</td></tr><tr><td>5</td><td>Nikhil</td><td>32</td><td>Male</td><td>72000.00</td><td>IT</td></tr><tr><td>6</td><td>Sarita</td><td>29</td><td>Female</td><td>58000.75</td><td>HR</td></tr><tr><td>7</td><td>Bunny</td><td>40</td><td>Male</td><td>85000.50</td><td>Finance</td></tr><tr><td>8</td><td>Namrata</td><td>26</td><td>Female</td><td>50000.50</td><td>Marketing</td></tr><tr><td>9</td><td>Abhiram</td><td>38</td><td>Male</td><td>78000.25</td><td>IT</td></tr><tr><td>10</td><td>Tikram</td><td>31</td><td>Female</td><td>62000.00</td><td>Finance</td></tr><tr><td>11</td><td>Ramulu</td><td>58</td><td>Male</td><td>178000.25</td><td>IT</td></tr><tr><td>12</td><td>Bala</td><td>51</td><td>Female</td><td>162000.00</td><td>Finance</td></tr></table>"
                    },
                    "metadata": {}
                }
            ],
            "execution_count": 1
        },
        {
            "cell_type": "code",
            "source": [
                "INSERT INTO Emp (id, name, gender)\n",
                "VALUES \n",
                "    (13, 'Ananya', 'Female'),\n",
                "    (14, 'Sai', 'Male'),\n",
                "    (15, 'Varsha', 'Female')\n",
                "\n",
                "-- NOTE : Since the values are not inserted in all the columns of the table so age, salary and department columns will have NULL values"
            ],
            "metadata": {
                "language": "sql",
                "azdata_cell_guid": "72be8156-d046-40e1-9343-0944eb1fed2c"
            },
            "outputs": [
                {
                    "output_type": "display_data",
                    "data": {
                        "text/html": "(3 rows affected)"
                    },
                    "metadata": {}
                },
                {
                    "output_type": "display_data",
                    "data": {
                        "text/html": "Total execution time: 00:00:00.012"
                    },
                    "metadata": {}
                }
            ],
            "execution_count": 3
        },
        {
            "cell_type": "code",
            "source": [
                "SELECT * FROM Emp"
            ],
            "metadata": {
                "language": "sql",
                "azdata_cell_guid": "0646c60f-8840-4a3f-9266-47ae4502ee2f"
            },
            "outputs": [
                {
                    "output_type": "display_data",
                    "data": {
                        "text/html": "(15 rows affected)"
                    },
                    "metadata": {}
                },
                {
                    "output_type": "display_data",
                    "data": {
                        "text/html": "Total execution time: 00:00:00.009"
                    },
                    "metadata": {}
                },
                {
                    "output_type": "execute_result",
                    "execution_count": 4,
                    "data": {
                        "application/vnd.dataresource+json": {
                            "schema": {
                                "fields": [
                                    {
                                        "name": "id"
                                    },
                                    {
                                        "name": "name"
                                    },
                                    {
                                        "name": "age"
                                    },
                                    {
                                        "name": "gender"
                                    },
                                    {
                                        "name": "salary"
                                    },
                                    {
                                        "name": "department"
                                    }
                                ]
                            },
                            "data": [
                                {
                                    "id": "1",
                                    "name": "Rajesh",
                                    "age": "30",
                                    "gender": "Male",
                                    "salary": "60000.00",
                                    "department": "IT"
                                },
                                {
                                    "id": "2",
                                    "name": "Padma",
                                    "age": "25",
                                    "gender": "Female",
                                    "salary": "55000.50",
                                    "department": "HR"
                                },
                                {
                                    "id": "3",
                                    "name": "Laxman",
                                    "age": "35",
                                    "gender": "Male",
                                    "salary": "70000.75",
                                    "department": "Finance"
                                },
                                {
                                    "id": "4",
                                    "name": "Ganga",
                                    "age": "28",
                                    "gender": "Female",
                                    "salary": "48000.25",
                                    "department": "Marketing"
                                },
                                {
                                    "id": "5",
                                    "name": "Nikhil",
                                    "age": "32",
                                    "gender": "Male",
                                    "salary": "72000.00",
                                    "department": "IT"
                                },
                                {
                                    "id": "6",
                                    "name": "Sarita",
                                    "age": "29",
                                    "gender": "Female",
                                    "salary": "58000.75",
                                    "department": "HR"
                                },
                                {
                                    "id": "7",
                                    "name": "Bunny",
                                    "age": "40",
                                    "gender": "Male",
                                    "salary": "85000.50",
                                    "department": "Finance"
                                },
                                {
                                    "id": "8",
                                    "name": "Namrata",
                                    "age": "26",
                                    "gender": "Female",
                                    "salary": "50000.50",
                                    "department": "Marketing"
                                },
                                {
                                    "id": "9",
                                    "name": "Abhiram",
                                    "age": "38",
                                    "gender": "Male",
                                    "salary": "78000.25",
                                    "department": "IT"
                                },
                                {
                                    "id": "10",
                                    "name": "Tikram",
                                    "age": "31",
                                    "gender": "Female",
                                    "salary": "62000.00",
                                    "department": "Finance"
                                },
                                {
                                    "id": "11",
                                    "name": "Ramulu",
                                    "age": "58",
                                    "gender": "Male",
                                    "salary": "178000.25",
                                    "department": "IT"
                                },
                                {
                                    "id": "12",
                                    "name": "Bala",
                                    "age": "51",
                                    "gender": "Female",
                                    "salary": "162000.00",
                                    "department": "Finance"
                                },
                                {
                                    "id": "13",
                                    "name": "Ananya",
                                    "age": "NULL",
                                    "gender": "Female",
                                    "salary": "NULL",
                                    "department": "NULL"
                                },
                                {
                                    "id": "14",
                                    "name": "Sai",
                                    "age": "NULL",
                                    "gender": "Male",
                                    "salary": "NULL",
                                    "department": "NULL"
                                },
                                {
                                    "id": "15",
                                    "name": "Varsha",
                                    "age": "NULL",
                                    "gender": "Female",
                                    "salary": "NULL",
                                    "department": "NULL"
                                }
                            ]
                        },
                        "text/html": "<table><tr><th>id</th><th>name</th><th>age</th><th>gender</th><th>salary</th><th>department</th></tr><tr><td>1</td><td>Rajesh</td><td>30</td><td>Male</td><td>60000.00</td><td>IT</td></tr><tr><td>2</td><td>Padma</td><td>25</td><td>Female</td><td>55000.50</td><td>HR</td></tr><tr><td>3</td><td>Laxman</td><td>35</td><td>Male</td><td>70000.75</td><td>Finance</td></tr><tr><td>4</td><td>Ganga</td><td>28</td><td>Female</td><td>48000.25</td><td>Marketing</td></tr><tr><td>5</td><td>Nikhil</td><td>32</td><td>Male</td><td>72000.00</td><td>IT</td></tr><tr><td>6</td><td>Sarita</td><td>29</td><td>Female</td><td>58000.75</td><td>HR</td></tr><tr><td>7</td><td>Bunny</td><td>40</td><td>Male</td><td>85000.50</td><td>Finance</td></tr><tr><td>8</td><td>Namrata</td><td>26</td><td>Female</td><td>50000.50</td><td>Marketing</td></tr><tr><td>9</td><td>Abhiram</td><td>38</td><td>Male</td><td>78000.25</td><td>IT</td></tr><tr><td>10</td><td>Tikram</td><td>31</td><td>Female</td><td>62000.00</td><td>Finance</td></tr><tr><td>11</td><td>Ramulu</td><td>58</td><td>Male</td><td>178000.25</td><td>IT</td></tr><tr><td>12</td><td>Bala</td><td>51</td><td>Female</td><td>162000.00</td><td>Finance</td></tr><tr><td>13</td><td>Ananya</td><td>NULL</td><td>Female</td><td>NULL</td><td>NULL</td></tr><tr><td>14</td><td>Sai</td><td>NULL</td><td>Male</td><td>NULL</td><td>NULL</td></tr><tr><td>15</td><td>Varsha</td><td>NULL</td><td>Female</td><td>NULL</td><td>NULL</td></tr></table>"
                    },
                    "metadata": {}
                }
            ],
            "execution_count": 4
        },
        {
            "cell_type": "markdown",
            "source": [
                "### **NULL**\n",
                "\n",
                "- In SQL, \\`NULL\\` is a special marker indicating the absence of a value. It is used to represent missing or undefined data.\n",
                "\n",
                "**Example :**\n",
                "\n",
                "  \n",
                "\n",
                "SELECT id, name, age, manager\\_id\n",
                "\n",
                "FROM Emp\n",
                "\n",
                "WHERE manager\\_id IS NULL;\n",
                "\n",
                "  \n",
                "\n",
                "Here, the \\`IS NULL\\` condition retrieves rows where the \"manager\\_id\" column has a \\`NULL\\` value, indicating employees without a specified manager."
            ],
            "metadata": {
                "language": "sql",
                "azdata_cell_guid": "bb383a34-cb47-4254-8966-24be7758b4bf"
            },
            "attachments": {}
        },
        {
            "cell_type": "markdown",
            "source": [
                "### **Peculiarities of NULL:**"
            ],
            "metadata": {
                "language": "sql",
                "azdata_cell_guid": "e10707ba-a32e-4784-b4da-7745c6ef690e"
            },
            "attachments": {}
        },
        {
            "cell_type": "markdown",
            "source": [
                "### **1\\. Comparison with NULL:**\n",
                "\n",
                "- Direct comparison using the equals (\\`=\\`) operator with \\`NULL\\` usually results in an unknown result. Instead, use \\`IS NULL\\` or \\`IS NOT NULL\\` for comparison."
            ],
            "metadata": {
                "language": "sql",
                "azdata_cell_guid": "6de8d946-4084-469c-bf73-ec8872d099dc"
            },
            "attachments": {}
        },
        {
            "cell_type": "code",
            "source": [
                "SELECT id, name\n",
                "FROM Emp\n",
                "WHERE age IS NULL;\n",
                ""
            ],
            "metadata": {
                "language": "sql",
                "azdata_cell_guid": "dd7f3556-6b18-4338-afcb-0c15525f8562"
            },
            "outputs": [
                {
                    "output_type": "display_data",
                    "data": {
                        "text/html": "(3 rows affected)"
                    },
                    "metadata": {}
                },
                {
                    "output_type": "display_data",
                    "data": {
                        "text/html": "Total execution time: 00:00:00.015"
                    },
                    "metadata": {}
                },
                {
                    "output_type": "execute_result",
                    "execution_count": 6,
                    "data": {
                        "application/vnd.dataresource+json": {
                            "schema": {
                                "fields": [
                                    {
                                        "name": "id"
                                    },
                                    {
                                        "name": "name"
                                    }
                                ]
                            },
                            "data": [
                                {
                                    "id": "13",
                                    "name": "Ananya"
                                },
                                {
                                    "id": "14",
                                    "name": "Sai"
                                },
                                {
                                    "id": "15",
                                    "name": "Varsha"
                                }
                            ]
                        },
                        "text/html": "<table><tr><th>id</th><th>name</th></tr><tr><td>13</td><td>Ananya</td></tr><tr><td>14</td><td>Sai</td></tr><tr><td>15</td><td>Varsha</td></tr></table>"
                    },
                    "metadata": {}
                }
            ],
            "execution_count": 6
        },
        {
            "cell_type": "markdown",
            "source": [
                "### **2\\. Aggregations and NULL:**\n",
                "\n",
                "- Aggregate functions generally ignore \\`NULL\\` values. Use functions like \\`COALESCE\\` or \\`ISNULL\\` to handle \\`NULL\\` values during aggregations."
            ],
            "metadata": {
                "language": "sql",
                "azdata_cell_guid": "771c2753-133f-43fb-90f2-49a917be4895"
            },
            "attachments": {}
        },
        {
            "cell_type": "code",
            "source": [
                "SELECT AVG(ISNULL(salary, 0))\n",
                "FROM Emp;\n",
                ""
            ],
            "metadata": {
                "language": "sql",
                "azdata_cell_guid": "e60cda1c-4011-495d-bf37-cf41882b31ea"
            },
            "outputs": [
                {
                    "output_type": "display_data",
                    "data": {
                        "text/html": "(1 row affected)"
                    },
                    "metadata": {}
                },
                {
                    "output_type": "display_data",
                    "data": {
                        "text/html": "Total execution time: 00:00:00.026"
                    },
                    "metadata": {}
                },
                {
                    "output_type": "execute_result",
                    "execution_count": 7,
                    "data": {
                        "application/vnd.dataresource+json": {
                            "schema": {
                                "fields": [
                                    {
                                        "name": "(No column name)"
                                    }
                                ]
                            },
                            "data": [
                                {
                                    "(No column name)": "65200.250000"
                                }
                            ]
                        },
                        "text/html": "<table><tr><th>(No column name)</th></tr><tr><td>65200.250000</td></tr></table>"
                    },
                    "metadata": {}
                }
            ],
            "execution_count": 7
        },
        {
            "cell_type": "markdown",
            "source": [
                "### **3\\. Sorting with NULL in Emp Table:**\n",
                "\n",
                "- When sorting results that include NULL values, be aware that NULLs may be placed at the beginning or end of the result set depending on the sorting order (\\`ORDER BY\\` clause)."
            ],
            "metadata": {
                "language": "sql",
                "azdata_cell_guid": "43111f78-818d-4a7b-bf1c-1dd1d3191f03"
            },
            "attachments": {}
        },
        {
            "cell_type": "code",
            "source": [
                "SELECT *\n",
                "FROM Emp\n",
                "ORDER BY id DESC; -- DESC places NULLs at the beginning\n",
                ""
            ],
            "metadata": {
                "language": "sql",
                "azdata_cell_guid": "6a089fb7-ff18-47bc-b01a-abd2b89337bd"
            },
            "outputs": [
                {
                    "output_type": "display_data",
                    "data": {
                        "text/html": "(15 rows affected)"
                    },
                    "metadata": {}
                },
                {
                    "output_type": "display_data",
                    "data": {
                        "text/html": "Total execution time: 00:00:00.018"
                    },
                    "metadata": {}
                },
                {
                    "output_type": "execute_result",
                    "execution_count": 2,
                    "data": {
                        "application/vnd.dataresource+json": {
                            "schema": {
                                "fields": [
                                    {
                                        "name": "id"
                                    },
                                    {
                                        "name": "name"
                                    },
                                    {
                                        "name": "age"
                                    },
                                    {
                                        "name": "gender"
                                    },
                                    {
                                        "name": "salary"
                                    },
                                    {
                                        "name": "department"
                                    }
                                ]
                            },
                            "data": [
                                {
                                    "id": "15",
                                    "name": "Varsha",
                                    "age": "NULL",
                                    "gender": "Female",
                                    "salary": "NULL",
                                    "department": "NULL"
                                },
                                {
                                    "id": "14",
                                    "name": "Sai",
                                    "age": "NULL",
                                    "gender": "Male",
                                    "salary": "NULL",
                                    "department": "NULL"
                                },
                                {
                                    "id": "13",
                                    "name": "Ananya",
                                    "age": "NULL",
                                    "gender": "Female",
                                    "salary": "NULL",
                                    "department": "NULL"
                                },
                                {
                                    "id": "12",
                                    "name": "Bala",
                                    "age": "51",
                                    "gender": "Female",
                                    "salary": "162000.00",
                                    "department": "Finance"
                                },
                                {
                                    "id": "11",
                                    "name": "Ramulu",
                                    "age": "58",
                                    "gender": "Male",
                                    "salary": "178000.25",
                                    "department": "IT"
                                },
                                {
                                    "id": "10",
                                    "name": "Tikram",
                                    "age": "31",
                                    "gender": "Female",
                                    "salary": "62000.00",
                                    "department": "Finance"
                                },
                                {
                                    "id": "9",
                                    "name": "Abhiram",
                                    "age": "38",
                                    "gender": "Male",
                                    "salary": "78000.25",
                                    "department": "IT"
                                },
                                {
                                    "id": "8",
                                    "name": "Namrata",
                                    "age": "26",
                                    "gender": "Female",
                                    "salary": "50000.50",
                                    "department": "Marketing"
                                },
                                {
                                    "id": "7",
                                    "name": "Bunny",
                                    "age": "40",
                                    "gender": "Male",
                                    "salary": "85000.50",
                                    "department": "Finance"
                                },
                                {
                                    "id": "6",
                                    "name": "Sarita",
                                    "age": "29",
                                    "gender": "Female",
                                    "salary": "58000.75",
                                    "department": "HR"
                                },
                                {
                                    "id": "5",
                                    "name": "Nikhil",
                                    "age": "32",
                                    "gender": "Male",
                                    "salary": "72000.00",
                                    "department": "IT"
                                },
                                {
                                    "id": "4",
                                    "name": "Ganga",
                                    "age": "28",
                                    "gender": "Female",
                                    "salary": "48000.25",
                                    "department": "Marketing"
                                },
                                {
                                    "id": "3",
                                    "name": "Laxman",
                                    "age": "35",
                                    "gender": "Male",
                                    "salary": "70000.75",
                                    "department": "Finance"
                                },
                                {
                                    "id": "2",
                                    "name": "Padma",
                                    "age": "25",
                                    "gender": "Female",
                                    "salary": "55000.50",
                                    "department": "HR"
                                },
                                {
                                    "id": "1",
                                    "name": "Rajesh",
                                    "age": "30",
                                    "gender": "Male",
                                    "salary": "60000.00",
                                    "department": "IT"
                                }
                            ]
                        },
                        "text/html": "<table><tr><th>id</th><th>name</th><th>age</th><th>gender</th><th>salary</th><th>department</th></tr><tr><td>15</td><td>Varsha</td><td>NULL</td><td>Female</td><td>NULL</td><td>NULL</td></tr><tr><td>14</td><td>Sai</td><td>NULL</td><td>Male</td><td>NULL</td><td>NULL</td></tr><tr><td>13</td><td>Ananya</td><td>NULL</td><td>Female</td><td>NULL</td><td>NULL</td></tr><tr><td>12</td><td>Bala</td><td>51</td><td>Female</td><td>162000.00</td><td>Finance</td></tr><tr><td>11</td><td>Ramulu</td><td>58</td><td>Male</td><td>178000.25</td><td>IT</td></tr><tr><td>10</td><td>Tikram</td><td>31</td><td>Female</td><td>62000.00</td><td>Finance</td></tr><tr><td>9</td><td>Abhiram</td><td>38</td><td>Male</td><td>78000.25</td><td>IT</td></tr><tr><td>8</td><td>Namrata</td><td>26</td><td>Female</td><td>50000.50</td><td>Marketing</td></tr><tr><td>7</td><td>Bunny</td><td>40</td><td>Male</td><td>85000.50</td><td>Finance</td></tr><tr><td>6</td><td>Sarita</td><td>29</td><td>Female</td><td>58000.75</td><td>HR</td></tr><tr><td>5</td><td>Nikhil</td><td>32</td><td>Male</td><td>72000.00</td><td>IT</td></tr><tr><td>4</td><td>Ganga</td><td>28</td><td>Female</td><td>48000.25</td><td>Marketing</td></tr><tr><td>3</td><td>Laxman</td><td>35</td><td>Male</td><td>70000.75</td><td>Finance</td></tr><tr><td>2</td><td>Padma</td><td>25</td><td>Female</td><td>55000.50</td><td>HR</td></tr><tr><td>1</td><td>Rajesh</td><td>30</td><td>Male</td><td>60000.00</td><td>IT</td></tr></table>"
                    },
                    "metadata": {}
                }
            ],
            "execution_count": 2
        },
        {
            "cell_type": "markdown",
            "source": [
                "### **4\\. Concatenation with NULL in Emp Table:**\n",
                "\n",
                "- Concatenating a NULL value with a string using the \\`+\\` operator results in a NULL value. Use the \\`CONCAT\\` function or \\`ISNULL\\` to handle concatenation with NULL."
            ],
            "metadata": {
                "language": "sql",
                "azdata_cell_guid": "8351171c-6d10-477b-a512-9fb32621a3ad"
            },
            "attachments": {}
        },
        {
            "cell_type": "code",
            "source": [
                "SELECT ISNULL(name, '') + ' ' + ISNULL(department, 'NoDepartment') AS Full_Name\n",
                "FROM Emp;\n",
                ""
            ],
            "metadata": {
                "language": "sql",
                "azdata_cell_guid": "bf43388e-8e2b-4a1d-bd6f-84722508dfa0"
            },
            "outputs": [
                {
                    "output_type": "display_data",
                    "data": {
                        "text/html": "(15 rows affected)"
                    },
                    "metadata": {}
                },
                {
                    "output_type": "display_data",
                    "data": {
                        "text/html": "Total execution time: 00:00:00.024"
                    },
                    "metadata": {}
                },
                {
                    "output_type": "execute_result",
                    "execution_count": 3,
                    "data": {
                        "application/vnd.dataresource+json": {
                            "schema": {
                                "fields": [
                                    {
                                        "name": "Full_Name"
                                    }
                                ]
                            },
                            "data": [
                                {
                                    "Full_Name": "Rajesh IT"
                                },
                                {
                                    "Full_Name": "Padma HR"
                                },
                                {
                                    "Full_Name": "Laxman Finance"
                                },
                                {
                                    "Full_Name": "Ganga Marketing"
                                },
                                {
                                    "Full_Name": "Nikhil IT"
                                },
                                {
                                    "Full_Name": "Sarita HR"
                                },
                                {
                                    "Full_Name": "Bunny Finance"
                                },
                                {
                                    "Full_Name": "Namrata Marketing"
                                },
                                {
                                    "Full_Name": "Abhiram IT"
                                },
                                {
                                    "Full_Name": "Tikram Finance"
                                },
                                {
                                    "Full_Name": "Ramulu IT"
                                },
                                {
                                    "Full_Name": "Bala Finance"
                                },
                                {
                                    "Full_Name": "Ananya NoDepartment"
                                },
                                {
                                    "Full_Name": "Sai NoDepartment"
                                },
                                {
                                    "Full_Name": "Varsha NoDepartment"
                                }
                            ]
                        },
                        "text/html": "<table><tr><th>Full_Name</th></tr><tr><td>Rajesh IT</td></tr><tr><td>Padma HR</td></tr><tr><td>Laxman Finance</td></tr><tr><td>Ganga Marketing</td></tr><tr><td>Nikhil IT</td></tr><tr><td>Sarita HR</td></tr><tr><td>Bunny Finance</td></tr><tr><td>Namrata Marketing</td></tr><tr><td>Abhiram IT</td></tr><tr><td>Tikram Finance</td></tr><tr><td>Ramulu IT</td></tr><tr><td>Bala Finance</td></tr><tr><td>Ananya NoDepartment</td></tr><tr><td>Sai NoDepartment</td></tr><tr><td>Varsha NoDepartment</td></tr></table>"
                    },
                    "metadata": {}
                }
            ],
            "execution_count": 3
        },
        {
            "cell_type": "code",
            "source": [
                "-- Concatenation with NULL using the + operator\n",
                "SELECT id, name + ' ' + department AS Full_Name\n",
                "FROM Emp;\n",
                ""
            ],
            "metadata": {
                "language": "sql",
                "azdata_cell_guid": "ef78a98e-3c7d-403f-a157-e805154fbc2a"
            },
            "outputs": [
                {
                    "output_type": "display_data",
                    "data": {
                        "text/html": "(15 rows affected)"
                    },
                    "metadata": {}
                },
                {
                    "output_type": "display_data",
                    "data": {
                        "text/html": "Total execution time: 00:00:00.046"
                    },
                    "metadata": {}
                },
                {
                    "output_type": "execute_result",
                    "execution_count": 4,
                    "data": {
                        "application/vnd.dataresource+json": {
                            "schema": {
                                "fields": [
                                    {
                                        "name": "id"
                                    },
                                    {
                                        "name": "Full_Name"
                                    }
                                ]
                            },
                            "data": [
                                {
                                    "id": "1",
                                    "Full_Name": "Rajesh IT"
                                },
                                {
                                    "id": "2",
                                    "Full_Name": "Padma HR"
                                },
                                {
                                    "id": "3",
                                    "Full_Name": "Laxman Finance"
                                },
                                {
                                    "id": "4",
                                    "Full_Name": "Ganga Marketing"
                                },
                                {
                                    "id": "5",
                                    "Full_Name": "Nikhil IT"
                                },
                                {
                                    "id": "6",
                                    "Full_Name": "Sarita HR"
                                },
                                {
                                    "id": "7",
                                    "Full_Name": "Bunny Finance"
                                },
                                {
                                    "id": "8",
                                    "Full_Name": "Namrata Marketing"
                                },
                                {
                                    "id": "9",
                                    "Full_Name": "Abhiram IT"
                                },
                                {
                                    "id": "10",
                                    "Full_Name": "Tikram Finance"
                                },
                                {
                                    "id": "11",
                                    "Full_Name": "Ramulu IT"
                                },
                                {
                                    "id": "12",
                                    "Full_Name": "Bala Finance"
                                },
                                {
                                    "id": "13",
                                    "Full_Name": "NULL"
                                },
                                {
                                    "id": "14",
                                    "Full_Name": "NULL"
                                },
                                {
                                    "id": "15",
                                    "Full_Name": "NULL"
                                }
                            ]
                        },
                        "text/html": "<table><tr><th>id</th><th>Full_Name</th></tr><tr><td>1</td><td>Rajesh IT</td></tr><tr><td>2</td><td>Padma HR</td></tr><tr><td>3</td><td>Laxman Finance</td></tr><tr><td>4</td><td>Ganga Marketing</td></tr><tr><td>5</td><td>Nikhil IT</td></tr><tr><td>6</td><td>Sarita HR</td></tr><tr><td>7</td><td>Bunny Finance</td></tr><tr><td>8</td><td>Namrata Marketing</td></tr><tr><td>9</td><td>Abhiram IT</td></tr><tr><td>10</td><td>Tikram Finance</td></tr><tr><td>11</td><td>Ramulu IT</td></tr><tr><td>12</td><td>Bala Finance</td></tr><tr><td>13</td><td>NULL</td></tr><tr><td>14</td><td>NULL</td></tr><tr><td>15</td><td>NULL</td></tr></table>"
                    },
                    "metadata": {}
                }
            ],
            "execution_count": 4
        },
        {
            "cell_type": "code",
            "source": [
                "-- Handling Concatenation with NULL using CONCAT function\n",
                "SELECT id, CONCAT(ISNULL(name, ''), ' ', ISNULL(department, 'NoDepartment')) AS Full_Name\n",
                "FROM Emp;\n",
                "\n",
                "-- NOTE :\n",
                "-- Here, the `CONCAT` function is used to concatenate the `name` and `department` columns. \n",
                "-- The `ISNULL` function is used to handle NULL values by replacing them with an empty string for `name` and 'NoDepartment' for `department`.\n",
                "\n",
                "-- The `CONCAT` function automatically handles NULL values without resulting in an overall NULL result."
            ],
            "metadata": {
                "language": "sql",
                "azdata_cell_guid": "1020fb0f-5030-43f0-b8a4-f5f155b7bd7d"
            },
            "outputs": [
                {
                    "output_type": "display_data",
                    "data": {
                        "text/html": "(15 rows affected)"
                    },
                    "metadata": {}
                },
                {
                    "output_type": "display_data",
                    "data": {
                        "text/html": "Total execution time: 00:00:00.030"
                    },
                    "metadata": {}
                },
                {
                    "output_type": "execute_result",
                    "execution_count": 5,
                    "data": {
                        "application/vnd.dataresource+json": {
                            "schema": {
                                "fields": [
                                    {
                                        "name": "id"
                                    },
                                    {
                                        "name": "Full_Name"
                                    }
                                ]
                            },
                            "data": [
                                {
                                    "id": "1",
                                    "Full_Name": "Rajesh IT"
                                },
                                {
                                    "id": "2",
                                    "Full_Name": "Padma HR"
                                },
                                {
                                    "id": "3",
                                    "Full_Name": "Laxman Finance"
                                },
                                {
                                    "id": "4",
                                    "Full_Name": "Ganga Marketing"
                                },
                                {
                                    "id": "5",
                                    "Full_Name": "Nikhil IT"
                                },
                                {
                                    "id": "6",
                                    "Full_Name": "Sarita HR"
                                },
                                {
                                    "id": "7",
                                    "Full_Name": "Bunny Finance"
                                },
                                {
                                    "id": "8",
                                    "Full_Name": "Namrata Marketing"
                                },
                                {
                                    "id": "9",
                                    "Full_Name": "Abhiram IT"
                                },
                                {
                                    "id": "10",
                                    "Full_Name": "Tikram Finance"
                                },
                                {
                                    "id": "11",
                                    "Full_Name": "Ramulu IT"
                                },
                                {
                                    "id": "12",
                                    "Full_Name": "Bala Finance"
                                },
                                {
                                    "id": "13",
                                    "Full_Name": "Ananya NoDepartment"
                                },
                                {
                                    "id": "14",
                                    "Full_Name": "Sai NoDepartment"
                                },
                                {
                                    "id": "15",
                                    "Full_Name": "Varsha NoDepartment"
                                }
                            ]
                        },
                        "text/html": "<table><tr><th>id</th><th>Full_Name</th></tr><tr><td>1</td><td>Rajesh IT</td></tr><tr><td>2</td><td>Padma HR</td></tr><tr><td>3</td><td>Laxman Finance</td></tr><tr><td>4</td><td>Ganga Marketing</td></tr><tr><td>5</td><td>Nikhil IT</td></tr><tr><td>6</td><td>Sarita HR</td></tr><tr><td>7</td><td>Bunny Finance</td></tr><tr><td>8</td><td>Namrata Marketing</td></tr><tr><td>9</td><td>Abhiram IT</td></tr><tr><td>10</td><td>Tikram Finance</td></tr><tr><td>11</td><td>Ramulu IT</td></tr><tr><td>12</td><td>Bala Finance</td></tr><tr><td>13</td><td>Ananya NoDepartment</td></tr><tr><td>14</td><td>Sai NoDepartment</td></tr><tr><td>15</td><td>Varsha NoDepartment</td></tr></table>"
                    },
                    "metadata": {}
                }
            ],
            "execution_count": 5
        },
        {
            "cell_type": "markdown",
            "source": [
                "### **5\\. Handling NULL in CASE Statements in Emp Table:**\n",
                "\n",
                "- When using \\`CASE\\` statements, be aware that NULL values may require explicit handling to avoid unexpected results."
            ],
            "metadata": {
                "azdata_cell_guid": "037822be-4d1b-490b-9f3f-1e52bbc181b7"
            },
            "attachments": {}
        },
        {
            "cell_type": "code",
            "source": [
                "SELECT *,\n",
                "    CASE\n",
                "        WHEN salary IS NULL THEN 'No Salary'\n",
                "        ELSE CAST(salary AS VARCHAR(10))\n",
                "    END AS Salary_Info\n",
                "FROM Emp;\n",
                ""
            ],
            "metadata": {
                "azdata_cell_guid": "15640d71-87dc-405e-bf68-1ee2a38b7b3e",
                "language": "sql"
            },
            "outputs": [
                {
                    "output_type": "display_data",
                    "data": {
                        "text/html": "(15 rows affected)"
                    },
                    "metadata": {}
                },
                {
                    "output_type": "display_data",
                    "data": {
                        "text/html": "Total execution time: 00:00:00.017"
                    },
                    "metadata": {}
                },
                {
                    "output_type": "execute_result",
                    "execution_count": 8,
                    "data": {
                        "application/vnd.dataresource+json": {
                            "schema": {
                                "fields": [
                                    {
                                        "name": "id"
                                    },
                                    {
                                        "name": "name"
                                    },
                                    {
                                        "name": "age"
                                    },
                                    {
                                        "name": "gender"
                                    },
                                    {
                                        "name": "salary"
                                    },
                                    {
                                        "name": "department"
                                    },
                                    {
                                        "name": "Salary_Info"
                                    }
                                ]
                            },
                            "data": [
                                {
                                    "id": "1",
                                    "name": "Rajesh",
                                    "age": "30",
                                    "gender": "Male",
                                    "salary": "60000.00",
                                    "department": "IT",
                                    "Salary_Info": "60000.00"
                                },
                                {
                                    "id": "2",
                                    "name": "Padma",
                                    "age": "25",
                                    "gender": "Female",
                                    "salary": "55000.50",
                                    "department": "HR",
                                    "Salary_Info": "55000.50"
                                },
                                {
                                    "id": "3",
                                    "name": "Laxman",
                                    "age": "35",
                                    "gender": "Male",
                                    "salary": "70000.75",
                                    "department": "Finance",
                                    "Salary_Info": "70000.75"
                                },
                                {
                                    "id": "4",
                                    "name": "Ganga",
                                    "age": "28",
                                    "gender": "Female",
                                    "salary": "48000.25",
                                    "department": "Marketing",
                                    "Salary_Info": "48000.25"
                                },
                                {
                                    "id": "5",
                                    "name": "Nikhil",
                                    "age": "32",
                                    "gender": "Male",
                                    "salary": "72000.00",
                                    "department": "IT",
                                    "Salary_Info": "72000.00"
                                },
                                {
                                    "id": "6",
                                    "name": "Sarita",
                                    "age": "29",
                                    "gender": "Female",
                                    "salary": "58000.75",
                                    "department": "HR",
                                    "Salary_Info": "58000.75"
                                },
                                {
                                    "id": "7",
                                    "name": "Bunny",
                                    "age": "40",
                                    "gender": "Male",
                                    "salary": "85000.50",
                                    "department": "Finance",
                                    "Salary_Info": "85000.50"
                                },
                                {
                                    "id": "8",
                                    "name": "Namrata",
                                    "age": "26",
                                    "gender": "Female",
                                    "salary": "50000.50",
                                    "department": "Marketing",
                                    "Salary_Info": "50000.50"
                                },
                                {
                                    "id": "9",
                                    "name": "Abhiram",
                                    "age": "38",
                                    "gender": "Male",
                                    "salary": "78000.25",
                                    "department": "IT",
                                    "Salary_Info": "78000.25"
                                },
                                {
                                    "id": "10",
                                    "name": "Tikram",
                                    "age": "31",
                                    "gender": "Female",
                                    "salary": "62000.00",
                                    "department": "Finance",
                                    "Salary_Info": "62000.00"
                                },
                                {
                                    "id": "11",
                                    "name": "Ramulu",
                                    "age": "58",
                                    "gender": "Male",
                                    "salary": "178000.25",
                                    "department": "IT",
                                    "Salary_Info": "178000.25"
                                },
                                {
                                    "id": "12",
                                    "name": "Bala",
                                    "age": "51",
                                    "gender": "Female",
                                    "salary": "162000.00",
                                    "department": "Finance",
                                    "Salary_Info": "162000.00"
                                },
                                {
                                    "id": "13",
                                    "name": "Ananya",
                                    "age": "NULL",
                                    "gender": "Female",
                                    "salary": "NULL",
                                    "department": "NULL",
                                    "Salary_Info": "No Salary"
                                },
                                {
                                    "id": "14",
                                    "name": "Sai",
                                    "age": "NULL",
                                    "gender": "Male",
                                    "salary": "NULL",
                                    "department": "NULL",
                                    "Salary_Info": "No Salary"
                                },
                                {
                                    "id": "15",
                                    "name": "Varsha",
                                    "age": "NULL",
                                    "gender": "Female",
                                    "salary": "NULL",
                                    "department": "NULL",
                                    "Salary_Info": "No Salary"
                                }
                            ]
                        },
                        "text/html": "<table><tr><th>id</th><th>name</th><th>age</th><th>gender</th><th>salary</th><th>department</th><th>Salary_Info</th></tr><tr><td>1</td><td>Rajesh</td><td>30</td><td>Male</td><td>60000.00</td><td>IT</td><td>60000.00</td></tr><tr><td>2</td><td>Padma</td><td>25</td><td>Female</td><td>55000.50</td><td>HR</td><td>55000.50</td></tr><tr><td>3</td><td>Laxman</td><td>35</td><td>Male</td><td>70000.75</td><td>Finance</td><td>70000.75</td></tr><tr><td>4</td><td>Ganga</td><td>28</td><td>Female</td><td>48000.25</td><td>Marketing</td><td>48000.25</td></tr><tr><td>5</td><td>Nikhil</td><td>32</td><td>Male</td><td>72000.00</td><td>IT</td><td>72000.00</td></tr><tr><td>6</td><td>Sarita</td><td>29</td><td>Female</td><td>58000.75</td><td>HR</td><td>58000.75</td></tr><tr><td>7</td><td>Bunny</td><td>40</td><td>Male</td><td>85000.50</td><td>Finance</td><td>85000.50</td></tr><tr><td>8</td><td>Namrata</td><td>26</td><td>Female</td><td>50000.50</td><td>Marketing</td><td>50000.50</td></tr><tr><td>9</td><td>Abhiram</td><td>38</td><td>Male</td><td>78000.25</td><td>IT</td><td>78000.25</td></tr><tr><td>10</td><td>Tikram</td><td>31</td><td>Female</td><td>62000.00</td><td>Finance</td><td>62000.00</td></tr><tr><td>11</td><td>Ramulu</td><td>58</td><td>Male</td><td>178000.25</td><td>IT</td><td>178000.25</td></tr><tr><td>12</td><td>Bala</td><td>51</td><td>Female</td><td>162000.00</td><td>Finance</td><td>162000.00</td></tr><tr><td>13</td><td>Ananya</td><td>NULL</td><td>Female</td><td>NULL</td><td>NULL</td><td>No Salary</td></tr><tr><td>14</td><td>Sai</td><td>NULL</td><td>Male</td><td>NULL</td><td>NULL</td><td>No Salary</td></tr><tr><td>15</td><td>Varsha</td><td>NULL</td><td>Female</td><td>NULL</td><td>NULL</td><td>No Salary</td></tr></table>"
                    },
                    "metadata": {}
                }
            ],
            "execution_count": 8
        },
        {
            "cell_type": "markdown",
            "source": [
                "### **6\\. NULL in Indexes:**\n",
                "\n",
                "- Some database systems may treat \\`NULL\\` values differently in indexes. Understand the behavior of \\`NULL\\` values in the specific database system being used.\n",
                "\n",
                "**Note :** \n",
                "\n",
                "- Understanding \\`NULL\\` and its handling is crucial in database design and query writing to avoid unexpected results and ensure accurate data representation, particularly with the \"Emp\" table or any other real-world data scenario."
            ],
            "metadata": {
                "language": "sql",
                "azdata_cell_guid": "c4d1808e-1903-4cec-b873-058b77282707"
            },
            "attachments": {}
        },
        {
            "cell_type": "markdown",
            "source": [
                "### **Statement 1: Any arithmetic operation performed with NULL will always result as NULL.**\n",
                "\n",
                "- **True**. In SQL Server, if you perform any arithmetic operation that involves NULL, the result will be NULL. This behavior is due to the three-valued logic used in SQL, where an unknown or undefined value (NULL) in an operation yields an unknown result."
            ],
            "metadata": {
                "language": "sql",
                "azdata_cell_guid": "4a12fecb-2331-4279-bcdd-9b13a8a0a939"
            },
            "attachments": {}
        },
        {
            "cell_type": "code",
            "source": [
                "SELECT NULL + 5; -- Result: NULL\n",
                ""
            ],
            "metadata": {
                "language": "sql",
                "azdata_cell_guid": "394e0a03-8b34-4201-a648-45ac21757601"
            },
            "outputs": [
                {
                    "output_type": "display_data",
                    "data": {
                        "text/html": "(1 row affected)"
                    },
                    "metadata": {}
                },
                {
                    "output_type": "display_data",
                    "data": {
                        "text/html": "Total execution time: 00:00:00.024"
                    },
                    "metadata": {}
                },
                {
                    "output_type": "execute_result",
                    "execution_count": 9,
                    "data": {
                        "application/vnd.dataresource+json": {
                            "schema": {
                                "fields": [
                                    {
                                        "name": "(No column name)"
                                    }
                                ]
                            },
                            "data": [
                                {
                                    "(No column name)": "NULL"
                                }
                            ]
                        },
                        "text/html": "<table><tr><th>(No column name)</th></tr><tr><td>NULL</td></tr></table>"
                    },
                    "metadata": {}
                }
            ],
            "execution_count": 9
        },
        {
            "cell_type": "markdown",
            "source": [
                "### **Statement 2: NULL and Zero are different.**\n",
                "\n",
                "  \n",
                "\n",
                "- **True**. NULL represents the absence of a value or an unknown value, whereas zero is a specific numeric value. They have different meanings."
            ],
            "metadata": {
                "language": "sql",
                "azdata_cell_guid": "47a722cb-b9d5-47ff-bc61-6b4a65fb23f9"
            },
            "attachments": {}
        },
        {
            "cell_type": "code",
            "source": [
                "SELECT NULL AS NullValue, 0 AS ZeroValue;\n",
                "\n",
                "-- The result will show a NULL value for `NullValue` and 0 for `ZeroValue`."
            ],
            "metadata": {
                "language": "sql",
                "azdata_cell_guid": "267aaa82-70b8-455a-b6ec-28d9ff845ee4"
            },
            "outputs": [
                {
                    "output_type": "display_data",
                    "data": {
                        "text/html": "(1 row affected)"
                    },
                    "metadata": {}
                },
                {
                    "output_type": "display_data",
                    "data": {
                        "text/html": "Total execution time: 00:00:00.021"
                    },
                    "metadata": {}
                },
                {
                    "output_type": "execute_result",
                    "execution_count": 10,
                    "data": {
                        "application/vnd.dataresource+json": {
                            "schema": {
                                "fields": [
                                    {
                                        "name": "NullValue"
                                    },
                                    {
                                        "name": "ZeroValue"
                                    }
                                ]
                            },
                            "data": [
                                {
                                    "NullValue": "NULL",
                                    "ZeroValue": "0"
                                }
                            ]
                        },
                        "text/html": "<table><tr><th>NullValue</th><th>ZeroValue</th></tr><tr><td>NULL</td><td>0</td></tr></table>"
                    },
                    "metadata": {}
                }
            ],
            "execution_count": 10
        },
        {
            "cell_type": "markdown",
            "source": [
                "### **Statement 3: Zero is a value. NULL is blank.**\n",
                "\n",
                "  \n",
                "\n",
                "- **Partially True**. While zero is indeed a specific numeric value, NULL is not \"blank\" in the traditional sense. NULL represents the absence of a value or an unknown value. It's not a specific value, and it's not the same as an empty string or an empty space."
            ],
            "metadata": {
                "language": "sql",
                "azdata_cell_guid": "a6bf7f4c-17c8-4b5c-895f-011591c4bbf9"
            },
            "attachments": {}
        },
        {
            "cell_type": "code",
            "source": [
                "SELECT '' AS EmptyString, NULL AS NullValue;\n",
                "\n",
                "-- The result will show an empty string for `EmptyString` and a NULL value for `NullValue`."
            ],
            "metadata": {
                "language": "sql",
                "azdata_cell_guid": "d4cf3246-da7f-4cb9-831b-3cb7e364ddf8"
            },
            "outputs": [
                {
                    "output_type": "display_data",
                    "data": {
                        "text/html": "(1 row affected)"
                    },
                    "metadata": {}
                },
                {
                    "output_type": "display_data",
                    "data": {
                        "text/html": "Total execution time: 00:00:00.017"
                    },
                    "metadata": {}
                },
                {
                    "output_type": "execute_result",
                    "execution_count": 11,
                    "data": {
                        "application/vnd.dataresource+json": {
                            "schema": {
                                "fields": [
                                    {
                                        "name": "EmptyString"
                                    },
                                    {
                                        "name": "NullValue"
                                    }
                                ]
                            },
                            "data": [
                                {
                                    "EmptyString": "",
                                    "NullValue": "NULL"
                                }
                            ]
                        },
                        "text/html": "<table><tr><th>EmptyString</th><th>NullValue</th></tr><tr><td></td><td>NULL</td></tr></table>"
                    },
                    "metadata": {}
                }
            ],
            "execution_count": 11
        },
        {
            "cell_type": "markdown",
            "source": [
                "**Note :**\n",
                "\n",
                "- Understanding these distinctions is crucial when working with SQL databases to avoid unexpected results and ensure accurate data representation."
            ],
            "metadata": {
                "language": "sql",
                "azdata_cell_guid": "33045af9-4343-4f68-94c9-4a84578dc21f"
            },
            "attachments": {}
        }
    ]
}