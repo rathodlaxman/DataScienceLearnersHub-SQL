{
    "metadata": {
        "kernelspec": {
            "name": "SQL",
            "display_name": "SQL",
            "language": "sql"
        },
        "language_info": {
            "name": "sql",
            "version": ""
        }
    },
    "nbformat_minor": 2,
    "nbformat": 4,
    "cells": [
        {
            "cell_type": "markdown",
            "source": [
                "# **Data Science Learners Hub**\n",
                "\n",
                "**Module : SQL**\n",
                "\n",
                "**Topic :** **Understanding NULL**\n",
                "\n",
                "**email** : [datasciencelearnershub@gmail.com](mailto:datasciencelearnershub@gmail.com)"
            ],
            "metadata": {
                "azdata_cell_guid": "a9014ef8-caa3-40fe-95dd-f7a375660c97"
            },
            "attachments": {}
        },
        {
            "cell_type": "code",
            "source": [
                "USE DataScienceLearnersHub"
            ],
            "metadata": {
                "azdata_cell_guid": "9aa8b2e0-80a5-44c7-a4d0-946d050cc726",
                "language": "sql"
            },
            "outputs": [
                {
                    "output_type": "display_data",
                    "data": {
                        "text/html": "Commands completed successfully."
                    },
                    "metadata": {}
                },
                {
                    "output_type": "display_data",
                    "data": {
                        "text/html": "Total execution time: 00:00:00.001"
                    },
                    "metadata": {}
                }
            ],
            "execution_count": 1
        },
        {
            "cell_type": "code",
            "source": [
                "SELECT * FROM Emp"
            ],
            "metadata": {
                "language": "sql",
                "azdata_cell_guid": "0c45e691-6ad0-4a5f-9f47-032780915245"
            },
            "outputs": [
                {
                    "output_type": "display_data",
                    "data": {
                        "text/html": "(12 rows affected)"
                    },
                    "metadata": {}
                },
                {
                    "output_type": "display_data",
                    "data": {
                        "text/html": "Total execution time: 00:00:00.003"
                    },
                    "metadata": {}
                },
                {
                    "output_type": "execute_result",
                    "execution_count": 1,
                    "data": {
                        "application/vnd.dataresource+json": {
                            "schema": {
                                "fields": [
                                    {
                                        "name": "id"
                                    },
                                    {
                                        "name": "name"
                                    },
                                    {
                                        "name": "age"
                                    },
                                    {
                                        "name": "gender"
                                    },
                                    {
                                        "name": "salary"
                                    },
                                    {
                                        "name": "department"
                                    }
                                ]
                            },
                            "data": [
                                {
                                    "id": "1",
                                    "name": "Rajesh",
                                    "age": "30",
                                    "gender": "Male",
                                    "salary": "60000.00",
                                    "department": "IT"
                                },
                                {
                                    "id": "2",
                                    "name": "Padma",
                                    "age": "25",
                                    "gender": "Female",
                                    "salary": "55000.50",
                                    "department": "HR"
                                },
                                {
                                    "id": "3",
                                    "name": "Laxman",
                                    "age": "35",
                                    "gender": "Male",
                                    "salary": "70000.75",
                                    "department": "Finance"
                                },
                                {
                                    "id": "4",
                                    "name": "Ganga",
                                    "age": "28",
                                    "gender": "Female",
                                    "salary": "48000.25",
                                    "department": "Marketing"
                                },
                                {
                                    "id": "5",
                                    "name": "Nikhil",
                                    "age": "32",
                                    "gender": "Male",
                                    "salary": "72000.00",
                                    "department": "IT"
                                },
                                {
                                    "id": "6",
                                    "name": "Sarita",
                                    "age": "29",
                                    "gender": "Female",
                                    "salary": "58000.75",
                                    "department": "HR"
                                },
                                {
                                    "id": "7",
                                    "name": "Bunny",
                                    "age": "40",
                                    "gender": "Male",
                                    "salary": "85000.50",
                                    "department": "Finance"
                                },
                                {
                                    "id": "8",
                                    "name": "Namrata",
                                    "age": "26",
                                    "gender": "Female",
                                    "salary": "50000.50",
                                    "department": "Marketing"
                                },
                                {
                                    "id": "9",
                                    "name": "Abhiram",
                                    "age": "38",
                                    "gender": "Male",
                                    "salary": "78000.25",
                                    "department": "IT"
                                },
                                {
                                    "id": "10",
                                    "name": "Tikram",
                                    "age": "31",
                                    "gender": "Female",
                                    "salary": "62000.00",
                                    "department": "Finance"
                                },
                                {
                                    "id": "11",
                                    "name": "Ramulu",
                                    "age": "58",
                                    "gender": "Male",
                                    "salary": "178000.25",
                                    "department": "IT"
                                },
                                {
                                    "id": "12",
                                    "name": "Bala",
                                    "age": "51",
                                    "gender": "Female",
                                    "salary": "162000.00",
                                    "department": "Finance"
                                }
                            ]
                        },
                        "text/html": "<table><tr><th>id</th><th>name</th><th>age</th><th>gender</th><th>salary</th><th>department</th></tr><tr><td>1</td><td>Rajesh</td><td>30</td><td>Male</td><td>60000.00</td><td>IT</td></tr><tr><td>2</td><td>Padma</td><td>25</td><td>Female</td><td>55000.50</td><td>HR</td></tr><tr><td>3</td><td>Laxman</td><td>35</td><td>Male</td><td>70000.75</td><td>Finance</td></tr><tr><td>4</td><td>Ganga</td><td>28</td><td>Female</td><td>48000.25</td><td>Marketing</td></tr><tr><td>5</td><td>Nikhil</td><td>32</td><td>Male</td><td>72000.00</td><td>IT</td></tr><tr><td>6</td><td>Sarita</td><td>29</td><td>Female</td><td>58000.75</td><td>HR</td></tr><tr><td>7</td><td>Bunny</td><td>40</td><td>Male</td><td>85000.50</td><td>Finance</td></tr><tr><td>8</td><td>Namrata</td><td>26</td><td>Female</td><td>50000.50</td><td>Marketing</td></tr><tr><td>9</td><td>Abhiram</td><td>38</td><td>Male</td><td>78000.25</td><td>IT</td></tr><tr><td>10</td><td>Tikram</td><td>31</td><td>Female</td><td>62000.00</td><td>Finance</td></tr><tr><td>11</td><td>Ramulu</td><td>58</td><td>Male</td><td>178000.25</td><td>IT</td></tr><tr><td>12</td><td>Bala</td><td>51</td><td>Female</td><td>162000.00</td><td>Finance</td></tr></table>"
                    },
                    "metadata": {}
                }
            ],
            "execution_count": 1
        },
        {
            "cell_type": "code",
            "source": [
                "INSERT INTO Emp (id, name, gender)\n",
                "VALUES \n",
                "    (13, 'Ananya', 'Female'),\n",
                "    (14, 'Sai', 'Male'),\n",
                "    (15, 'Varsha', 'Female')\n",
                "\n",
                "-- NOTE : Since the values are not inserted in all the columns of the table so age, salary and department columns will have NULL values"
            ],
            "metadata": {
                "language": "sql",
                "azdata_cell_guid": "72be8156-d046-40e1-9343-0944eb1fed2c"
            },
            "outputs": [
                {
                    "output_type": "display_data",
                    "data": {
                        "text/html": "(3 rows affected)"
                    },
                    "metadata": {}
                },
                {
                    "output_type": "display_data",
                    "data": {
                        "text/html": "Total execution time: 00:00:00.012"
                    },
                    "metadata": {}
                }
            ],
            "execution_count": 3
        },
        {
            "cell_type": "code",
            "source": [
                "SELECT * FROM Emp"
            ],
            "metadata": {
                "language": "sql",
                "azdata_cell_guid": "0646c60f-8840-4a3f-9266-47ae4502ee2f"
            },
            "outputs": [
                {
                    "output_type": "display_data",
                    "data": {
                        "text/html": "(15 rows affected)"
                    },
                    "metadata": {}
                },
                {
                    "output_type": "display_data",
                    "data": {
                        "text/html": "Total execution time: 00:00:00.009"
                    },
                    "metadata": {}
                },
                {
                    "output_type": "execute_result",
                    "execution_count": 4,
                    "data": {
                        "application/vnd.dataresource+json": {
                            "schema": {
                                "fields": [
                                    {
                                        "name": "id"
                                    },
                                    {
                                        "name": "name"
                                    },
                                    {
                                        "name": "age"
                                    },
                                    {
                                        "name": "gender"
                                    },
                                    {
                                        "name": "salary"
                                    },
                                    {
                                        "name": "department"
                                    }
                                ]
                            },
                            "data": [
                                {
                                    "id": "1",
                                    "name": "Rajesh",
                                    "age": "30",
                                    "gender": "Male",
                                    "salary": "60000.00",
                                    "department": "IT"
                                },
                                {
                                    "id": "2",
                                    "name": "Padma",
                                    "age": "25",
                                    "gender": "Female",
                                    "salary": "55000.50",
                                    "department": "HR"
                                },
                                {
                                    "id": "3",
                                    "name": "Laxman",
                                    "age": "35",
                                    "gender": "Male",
                                    "salary": "70000.75",
                                    "department": "Finance"
                                },
                                {
                                    "id": "4",
                                    "name": "Ganga",
                                    "age": "28",
                                    "gender": "Female",
                                    "salary": "48000.25",
                                    "department": "Marketing"
                                },
                                {
                                    "id": "5",
                                    "name": "Nikhil",
                                    "age": "32",
                                    "gender": "Male",
                                    "salary": "72000.00",
                                    "department": "IT"
                                },
                                {
                                    "id": "6",
                                    "name": "Sarita",
                                    "age": "29",
                                    "gender": "Female",
                                    "salary": "58000.75",
                                    "department": "HR"
                                },
                                {
                                    "id": "7",
                                    "name": "Bunny",
                                    "age": "40",
                                    "gender": "Male",
                                    "salary": "85000.50",
                                    "department": "Finance"
                                },
                                {
                                    "id": "8",
                                    "name": "Namrata",
                                    "age": "26",
                                    "gender": "Female",
                                    "salary": "50000.50",
                                    "department": "Marketing"
                                },
                                {
                                    "id": "9",
                                    "name": "Abhiram",
                                    "age": "38",
                                    "gender": "Male",
                                    "salary": "78000.25",
                                    "department": "IT"
                                },
                                {
                                    "id": "10",
                                    "name": "Tikram",
                                    "age": "31",
                                    "gender": "Female",
                                    "salary": "62000.00",
                                    "department": "Finance"
                                },
                                {
                                    "id": "11",
                                    "name": "Ramulu",
                                    "age": "58",
                                    "gender": "Male",
                                    "salary": "178000.25",
                                    "department": "IT"
                                },
                                {
                                    "id": "12",
                                    "name": "Bala",
                                    "age": "51",
                                    "gender": "Female",
                                    "salary": "162000.00",
                                    "department": "Finance"
                                },
                                {
                                    "id": "13",
                                    "name": "Ananya",
                                    "age": "NULL",
                                    "gender": "Female",
                                    "salary": "NULL",
                                    "department": "NULL"
                                },
                                {
                                    "id": "14",
                                    "name": "Sai",
                                    "age": "NULL",
                                    "gender": "Male",
                                    "salary": "NULL",
                                    "department": "NULL"
                                },
                                {
                                    "id": "15",
                                    "name": "Varsha",
                                    "age": "NULL",
                                    "gender": "Female",
                                    "salary": "NULL",
                                    "department": "NULL"
                                }
                            ]
                        },
                        "text/html": "<table><tr><th>id</th><th>name</th><th>age</th><th>gender</th><th>salary</th><th>department</th></tr><tr><td>1</td><td>Rajesh</td><td>30</td><td>Male</td><td>60000.00</td><td>IT</td></tr><tr><td>2</td><td>Padma</td><td>25</td><td>Female</td><td>55000.50</td><td>HR</td></tr><tr><td>3</td><td>Laxman</td><td>35</td><td>Male</td><td>70000.75</td><td>Finance</td></tr><tr><td>4</td><td>Ganga</td><td>28</td><td>Female</td><td>48000.25</td><td>Marketing</td></tr><tr><td>5</td><td>Nikhil</td><td>32</td><td>Male</td><td>72000.00</td><td>IT</td></tr><tr><td>6</td><td>Sarita</td><td>29</td><td>Female</td><td>58000.75</td><td>HR</td></tr><tr><td>7</td><td>Bunny</td><td>40</td><td>Male</td><td>85000.50</td><td>Finance</td></tr><tr><td>8</td><td>Namrata</td><td>26</td><td>Female</td><td>50000.50</td><td>Marketing</td></tr><tr><td>9</td><td>Abhiram</td><td>38</td><td>Male</td><td>78000.25</td><td>IT</td></tr><tr><td>10</td><td>Tikram</td><td>31</td><td>Female</td><td>62000.00</td><td>Finance</td></tr><tr><td>11</td><td>Ramulu</td><td>58</td><td>Male</td><td>178000.25</td><td>IT</td></tr><tr><td>12</td><td>Bala</td><td>51</td><td>Female</td><td>162000.00</td><td>Finance</td></tr><tr><td>13</td><td>Ananya</td><td>NULL</td><td>Female</td><td>NULL</td><td>NULL</td></tr><tr><td>14</td><td>Sai</td><td>NULL</td><td>Male</td><td>NULL</td><td>NULL</td></tr><tr><td>15</td><td>Varsha</td><td>NULL</td><td>Female</td><td>NULL</td><td>NULL</td></tr></table>"
                    },
                    "metadata": {}
                }
            ],
            "execution_count": 4
        },
        {
            "cell_type": "markdown",
            "source": [
                "**What are NULL Values in MS SQL Server ?**\n",
                "\n",
                "**Definition:**\n",
                "- **NULL** represents <mark>**`missing or unknown data`**</mark> in a database.\n",
                "\n",
                "**Key Points:**\n",
                "- **Not Zero or Empty**: <mark>**`NULL is different from zero, an empty string`**</mark>, or any other default value.\n",
                "- **Data Type Compatibility**: <mark>`Can appear in any data type (e.g., integers, strings, dates).`</mark>\n",
                "- **Handling**: Special functions like `IS NULL`, `IS NOT NULL`, and `COALESCE` are used to manage NULL values.\n",
                "\n",
                "**Usage Example:**\n",
                "```sql\n",
                "-- Check for NULL values in a column\n",
                "SELECT * FROM Employees\n",
                "WHERE manager_id IS NULL;\n",
                "```\n",
                "\n",
                "**Important Notes:**\n",
                "- **Comparisons**: <mark>NULL values cannot be compared using standard operators (e.g., =, <, >)</mark>.\n",
                "- **Aggregations**: <mark>Functions like `SUM`, `AVG`, ignore NULL values in calculations.</mark>"
            ],
            "metadata": {
                "azdata_cell_guid": "0867e04e-59c2-4acf-b77f-b7d87a2fb7c1"
            },
            "attachments": {}
        },
        {
            "cell_type": "markdown",
            "source": [
                "**Example :**\n",
                "\n",
                "- Here, the \\`IS NULL\\` condition retrieves rows where the \"salary\" column has a \\`NULL\\` value, indicating employees without a salary."
            ],
            "metadata": {
                "language": "sql",
                "azdata_cell_guid": "5ecbb9e8-d2bf-4bdc-9d7e-794dfe9c22a9"
            },
            "attachments": {}
        },
        {
            "cell_type": "code",
            "source": [
                "SELECT id, name, age, salary\n",
                "FROM Emp\n",
                "WHERE salary IS NULL;"
            ],
            "metadata": {
                "language": "sql",
                "azdata_cell_guid": "d5310f20-cb27-4ac9-984c-36aecd70df1a"
            },
            "outputs": [
                {
                    "output_type": "display_data",
                    "data": {
                        "text/html": "(3 rows affected)"
                    },
                    "metadata": {}
                },
                {
                    "output_type": "display_data",
                    "data": {
                        "text/html": "Total execution time: 00:00:00.063"
                    },
                    "metadata": {}
                },
                {
                    "output_type": "execute_result",
                    "execution_count": 2,
                    "data": {
                        "application/vnd.dataresource+json": {
                            "schema": {
                                "fields": [
                                    {
                                        "name": "id"
                                    },
                                    {
                                        "name": "name"
                                    },
                                    {
                                        "name": "age"
                                    },
                                    {
                                        "name": "salary"
                                    }
                                ]
                            },
                            "data": [
                                {
                                    "id": "13",
                                    "name": "Ananya",
                                    "age": "NULL",
                                    "salary": "NULL"
                                },
                                {
                                    "id": "14",
                                    "name": "Sai",
                                    "age": "NULL",
                                    "salary": "NULL"
                                },
                                {
                                    "id": "15",
                                    "name": "Varsha",
                                    "age": "NULL",
                                    "salary": "NULL"
                                }
                            ]
                        },
                        "text/html": "<table><tr><th>id</th><th>name</th><th>age</th><th>salary</th></tr><tr><td>13</td><td>Ananya</td><td>NULL</td><td>NULL</td></tr><tr><td>14</td><td>Sai</td><td>NULL</td><td>NULL</td></tr><tr><td>15</td><td>Varsha</td><td>NULL</td><td>NULL</td></tr></table>"
                    },
                    "metadata": {}
                }
            ],
            "execution_count": 2
        },
        {
            "cell_type": "markdown",
            "source": [
                "### **Peculiarities of NULL:**"
            ],
            "metadata": {
                "language": "sql",
                "azdata_cell_guid": "e10707ba-a32e-4784-b4da-7745c6ef690e"
            },
            "attachments": {}
        },
        {
            "cell_type": "markdown",
            "source": [
                "### **1. Can NULL be Compared with Another NULL?**\n",
                "\n",
                "**Explanation:**\n",
                "- **Equality Comparison**: <mark>NULL cannot be compared to another NULL using standard equality operators (`=`, `!=`).</mark>\n",
                "- **Reason**: NULL represents unknown or missing data, so two NULL values are not considered equal<mark> because the actual values are unknown.</mark>\n",
                "\n",
                "**Key Points:**\n",
                "- **Standard Comparison Fails**:\n",
                "  ```sql\n",
                "  SELECT * FROM Employees WHERE manager_id = NULL;  -- This does not work\n",
                "  ```\n",
                "- **Use IS NULL**:\n",
                "  ```sql\n",
                "  -- Correct way to check for NULL\n",
                "  SELECT * FROM Employees WHERE manager_id IS NULL;\n",
                "  ```\n",
                "- **Use IS NOT NULL**:\n",
                "  ```sql\n",
                "  -- Correct way to check for non-NULL\n",
                "  SELECT * FROM Employees WHERE manager_id IS NOT NULL;\n",
                "  ```\n",
                "\n",
                "**Important Note:**\n",
                "- **Three-Valued Logic**: <mark>SQL uses three-valued logic (true, false, unknown) where comparisons with NULL result in unknown.</mark>"
            ],
            "metadata": {
                "language": "sql",
                "azdata_cell_guid": "16d0a42e-7cde-4eca-9267-1ee4d8e9a249"
            },
            "attachments": {}
        },
        {
            "cell_type": "markdown",
            "source": [
                "#### Example"
            ],
            "metadata": {
                "azdata_cell_guid": "43bb55bb-cc71-4b40-b0d0-a393a9f8274e"
            },
            "attachments": {}
        },
        {
            "cell_type": "code",
            "source": [
                "SELECT id, name\n",
                "FROM Emp\n",
                "WHERE age IS NULL;\n",
                ""
            ],
            "metadata": {
                "language": "sql",
                "azdata_cell_guid": "dd7f3556-6b18-4338-afcb-0c15525f8562"
            },
            "outputs": [
                {
                    "output_type": "display_data",
                    "data": {
                        "text/html": "(3 rows affected)"
                    },
                    "metadata": {}
                },
                {
                    "output_type": "display_data",
                    "data": {
                        "text/html": "Total execution time: 00:00:00.015"
                    },
                    "metadata": {}
                },
                {
                    "output_type": "execute_result",
                    "execution_count": 6,
                    "data": {
                        "application/vnd.dataresource+json": {
                            "schema": {
                                "fields": [
                                    {
                                        "name": "id"
                                    },
                                    {
                                        "name": "name"
                                    }
                                ]
                            },
                            "data": [
                                {
                                    "id": "13",
                                    "name": "Ananya"
                                },
                                {
                                    "id": "14",
                                    "name": "Sai"
                                },
                                {
                                    "id": "15",
                                    "name": "Varsha"
                                }
                            ]
                        },
                        "text/html": "<table><tr><th>id</th><th>name</th></tr><tr><td>13</td><td>Ananya</td></tr><tr><td>14</td><td>Sai</td></tr><tr><td>15</td><td>Varsha</td></tr></table>"
                    },
                    "metadata": {}
                }
            ],
            "execution_count": 6
        },
        {
            "cell_type": "markdown",
            "source": [
                "### **2\\. Aggregations and NULL:**\n",
                "\n",
                "- Aggregate functions generally ignore \\`NULL\\` values. Use functions like \\`COALESCE\\` or \\`ISNULL\\` to handle \\`NULL\\` values during aggregations."
            ],
            "metadata": {
                "language": "sql",
                "azdata_cell_guid": "771c2753-133f-43fb-90f2-49a917be4895"
            },
            "attachments": {}
        },
        {
            "cell_type": "code",
            "source": [
                "SELECT AVG(ISNULL(salary, 0))\n",
                "FROM Emp;\n",
                ""
            ],
            "metadata": {
                "language": "sql",
                "azdata_cell_guid": "e60cda1c-4011-495d-bf37-cf41882b31ea"
            },
            "outputs": [
                {
                    "output_type": "display_data",
                    "data": {
                        "text/html": "(1 row affected)"
                    },
                    "metadata": {}
                },
                {
                    "output_type": "display_data",
                    "data": {
                        "text/html": "Total execution time: 00:00:00.026"
                    },
                    "metadata": {}
                },
                {
                    "output_type": "execute_result",
                    "execution_count": 7,
                    "data": {
                        "application/vnd.dataresource+json": {
                            "schema": {
                                "fields": [
                                    {
                                        "name": "(No column name)"
                                    }
                                ]
                            },
                            "data": [
                                {
                                    "(No column name)": "65200.250000"
                                }
                            ]
                        },
                        "text/html": "<table><tr><th>(No column name)</th></tr><tr><td>65200.250000</td></tr></table>"
                    },
                    "metadata": {}
                }
            ],
            "execution_count": 7
        },
        {
            "cell_type": "markdown",
            "source": [
                "### **3\\. Sorting with NULL in Emp Table:**\n",
                "\n",
                "- When sorting results that include NULL values, be aware that NULLs may be placed at the beginning or end of the result set depending on the sorting order (\\`ORDER BY\\` clause)."
            ],
            "metadata": {
                "language": "sql",
                "azdata_cell_guid": "43111f78-818d-4a7b-bf1c-1dd1d3191f03"
            },
            "attachments": {}
        },
        {
            "cell_type": "code",
            "source": [
                "SELECT *\n",
                "FROM Emp\n",
                "ORDER BY id DESC; -- DESC places NULLs at the beginning\n",
                ""
            ],
            "metadata": {
                "language": "sql",
                "azdata_cell_guid": "6a089fb7-ff18-47bc-b01a-abd2b89337bd"
            },
            "outputs": [
                {
                    "output_type": "display_data",
                    "data": {
                        "text/html": "(15 rows affected)"
                    },
                    "metadata": {}
                },
                {
                    "output_type": "display_data",
                    "data": {
                        "text/html": "Total execution time: 00:00:00.018"
                    },
                    "metadata": {}
                },
                {
                    "output_type": "execute_result",
                    "execution_count": 2,
                    "data": {
                        "application/vnd.dataresource+json": {
                            "schema": {
                                "fields": [
                                    {
                                        "name": "id"
                                    },
                                    {
                                        "name": "name"
                                    },
                                    {
                                        "name": "age"
                                    },
                                    {
                                        "name": "gender"
                                    },
                                    {
                                        "name": "salary"
                                    },
                                    {
                                        "name": "department"
                                    }
                                ]
                            },
                            "data": [
                                {
                                    "id": "15",
                                    "name": "Varsha",
                                    "age": "NULL",
                                    "gender": "Female",
                                    "salary": "NULL",
                                    "department": "NULL"
                                },
                                {
                                    "id": "14",
                                    "name": "Sai",
                                    "age": "NULL",
                                    "gender": "Male",
                                    "salary": "NULL",
                                    "department": "NULL"
                                },
                                {
                                    "id": "13",
                                    "name": "Ananya",
                                    "age": "NULL",
                                    "gender": "Female",
                                    "salary": "NULL",
                                    "department": "NULL"
                                },
                                {
                                    "id": "12",
                                    "name": "Bala",
                                    "age": "51",
                                    "gender": "Female",
                                    "salary": "162000.00",
                                    "department": "Finance"
                                },
                                {
                                    "id": "11",
                                    "name": "Ramulu",
                                    "age": "58",
                                    "gender": "Male",
                                    "salary": "178000.25",
                                    "department": "IT"
                                },
                                {
                                    "id": "10",
                                    "name": "Tikram",
                                    "age": "31",
                                    "gender": "Female",
                                    "salary": "62000.00",
                                    "department": "Finance"
                                },
                                {
                                    "id": "9",
                                    "name": "Abhiram",
                                    "age": "38",
                                    "gender": "Male",
                                    "salary": "78000.25",
                                    "department": "IT"
                                },
                                {
                                    "id": "8",
                                    "name": "Namrata",
                                    "age": "26",
                                    "gender": "Female",
                                    "salary": "50000.50",
                                    "department": "Marketing"
                                },
                                {
                                    "id": "7",
                                    "name": "Bunny",
                                    "age": "40",
                                    "gender": "Male",
                                    "salary": "85000.50",
                                    "department": "Finance"
                                },
                                {
                                    "id": "6",
                                    "name": "Sarita",
                                    "age": "29",
                                    "gender": "Female",
                                    "salary": "58000.75",
                                    "department": "HR"
                                },
                                {
                                    "id": "5",
                                    "name": "Nikhil",
                                    "age": "32",
                                    "gender": "Male",
                                    "salary": "72000.00",
                                    "department": "IT"
                                },
                                {
                                    "id": "4",
                                    "name": "Ganga",
                                    "age": "28",
                                    "gender": "Female",
                                    "salary": "48000.25",
                                    "department": "Marketing"
                                },
                                {
                                    "id": "3",
                                    "name": "Laxman",
                                    "age": "35",
                                    "gender": "Male",
                                    "salary": "70000.75",
                                    "department": "Finance"
                                },
                                {
                                    "id": "2",
                                    "name": "Padma",
                                    "age": "25",
                                    "gender": "Female",
                                    "salary": "55000.50",
                                    "department": "HR"
                                },
                                {
                                    "id": "1",
                                    "name": "Rajesh",
                                    "age": "30",
                                    "gender": "Male",
                                    "salary": "60000.00",
                                    "department": "IT"
                                }
                            ]
                        },
                        "text/html": "<table><tr><th>id</th><th>name</th><th>age</th><th>gender</th><th>salary</th><th>department</th></tr><tr><td>15</td><td>Varsha</td><td>NULL</td><td>Female</td><td>NULL</td><td>NULL</td></tr><tr><td>14</td><td>Sai</td><td>NULL</td><td>Male</td><td>NULL</td><td>NULL</td></tr><tr><td>13</td><td>Ananya</td><td>NULL</td><td>Female</td><td>NULL</td><td>NULL</td></tr><tr><td>12</td><td>Bala</td><td>51</td><td>Female</td><td>162000.00</td><td>Finance</td></tr><tr><td>11</td><td>Ramulu</td><td>58</td><td>Male</td><td>178000.25</td><td>IT</td></tr><tr><td>10</td><td>Tikram</td><td>31</td><td>Female</td><td>62000.00</td><td>Finance</td></tr><tr><td>9</td><td>Abhiram</td><td>38</td><td>Male</td><td>78000.25</td><td>IT</td></tr><tr><td>8</td><td>Namrata</td><td>26</td><td>Female</td><td>50000.50</td><td>Marketing</td></tr><tr><td>7</td><td>Bunny</td><td>40</td><td>Male</td><td>85000.50</td><td>Finance</td></tr><tr><td>6</td><td>Sarita</td><td>29</td><td>Female</td><td>58000.75</td><td>HR</td></tr><tr><td>5</td><td>Nikhil</td><td>32</td><td>Male</td><td>72000.00</td><td>IT</td></tr><tr><td>4</td><td>Ganga</td><td>28</td><td>Female</td><td>48000.25</td><td>Marketing</td></tr><tr><td>3</td><td>Laxman</td><td>35</td><td>Male</td><td>70000.75</td><td>Finance</td></tr><tr><td>2</td><td>Padma</td><td>25</td><td>Female</td><td>55000.50</td><td>HR</td></tr><tr><td>1</td><td>Rajesh</td><td>30</td><td>Male</td><td>60000.00</td><td>IT</td></tr></table>"
                    },
                    "metadata": {}
                }
            ],
            "execution_count": 2
        },
        {
            "cell_type": "markdown",
            "source": [
                "### **4\\. Concatenation with NULL in Emp Table:**\n",
                "\n",
                "- Concatenating a NULL value with a string using the \\`+\\` operator results in a NULL value. Use the \\`CONCAT\\` function or \\`ISNULL\\` to handle concatenation with NULL."
            ],
            "metadata": {
                "language": "sql",
                "azdata_cell_guid": "8351171c-6d10-477b-a512-9fb32621a3ad"
            },
            "attachments": {}
        },
        {
            "cell_type": "code",
            "source": [
                "SELECT ISNULL(name, '') + ' ' + ISNULL(department, 'NoDepartment') AS Full_Name\n",
                "FROM Emp;\n",
                ""
            ],
            "metadata": {
                "language": "sql",
                "azdata_cell_guid": "bf43388e-8e2b-4a1d-bd6f-84722508dfa0"
            },
            "outputs": [
                {
                    "output_type": "display_data",
                    "data": {
                        "text/html": "(15 rows affected)"
                    },
                    "metadata": {}
                },
                {
                    "output_type": "display_data",
                    "data": {
                        "text/html": "Total execution time: 00:00:00.024"
                    },
                    "metadata": {}
                },
                {
                    "output_type": "execute_result",
                    "execution_count": 3,
                    "data": {
                        "application/vnd.dataresource+json": {
                            "schema": {
                                "fields": [
                                    {
                                        "name": "Full_Name"
                                    }
                                ]
                            },
                            "data": [
                                {
                                    "Full_Name": "Rajesh IT"
                                },
                                {
                                    "Full_Name": "Padma HR"
                                },
                                {
                                    "Full_Name": "Laxman Finance"
                                },
                                {
                                    "Full_Name": "Ganga Marketing"
                                },
                                {
                                    "Full_Name": "Nikhil IT"
                                },
                                {
                                    "Full_Name": "Sarita HR"
                                },
                                {
                                    "Full_Name": "Bunny Finance"
                                },
                                {
                                    "Full_Name": "Namrata Marketing"
                                },
                                {
                                    "Full_Name": "Abhiram IT"
                                },
                                {
                                    "Full_Name": "Tikram Finance"
                                },
                                {
                                    "Full_Name": "Ramulu IT"
                                },
                                {
                                    "Full_Name": "Bala Finance"
                                },
                                {
                                    "Full_Name": "Ananya NoDepartment"
                                },
                                {
                                    "Full_Name": "Sai NoDepartment"
                                },
                                {
                                    "Full_Name": "Varsha NoDepartment"
                                }
                            ]
                        },
                        "text/html": "<table><tr><th>Full_Name</th></tr><tr><td>Rajesh IT</td></tr><tr><td>Padma HR</td></tr><tr><td>Laxman Finance</td></tr><tr><td>Ganga Marketing</td></tr><tr><td>Nikhil IT</td></tr><tr><td>Sarita HR</td></tr><tr><td>Bunny Finance</td></tr><tr><td>Namrata Marketing</td></tr><tr><td>Abhiram IT</td></tr><tr><td>Tikram Finance</td></tr><tr><td>Ramulu IT</td></tr><tr><td>Bala Finance</td></tr><tr><td>Ananya NoDepartment</td></tr><tr><td>Sai NoDepartment</td></tr><tr><td>Varsha NoDepartment</td></tr></table>"
                    },
                    "metadata": {}
                }
            ],
            "execution_count": 3
        },
        {
            "cell_type": "code",
            "source": [
                "-- Concatenation with NULL using the + operator\n",
                "SELECT id, name + ' ' + department AS Full_Name\n",
                "FROM Emp;\n",
                ""
            ],
            "metadata": {
                "language": "sql",
                "azdata_cell_guid": "ef78a98e-3c7d-403f-a157-e805154fbc2a"
            },
            "outputs": [
                {
                    "output_type": "display_data",
                    "data": {
                        "text/html": "(15 rows affected)"
                    },
                    "metadata": {}
                },
                {
                    "output_type": "display_data",
                    "data": {
                        "text/html": "Total execution time: 00:00:00.046"
                    },
                    "metadata": {}
                },
                {
                    "output_type": "execute_result",
                    "execution_count": 4,
                    "data": {
                        "application/vnd.dataresource+json": {
                            "schema": {
                                "fields": [
                                    {
                                        "name": "id"
                                    },
                                    {
                                        "name": "Full_Name"
                                    }
                                ]
                            },
                            "data": [
                                {
                                    "id": "1",
                                    "Full_Name": "Rajesh IT"
                                },
                                {
                                    "id": "2",
                                    "Full_Name": "Padma HR"
                                },
                                {
                                    "id": "3",
                                    "Full_Name": "Laxman Finance"
                                },
                                {
                                    "id": "4",
                                    "Full_Name": "Ganga Marketing"
                                },
                                {
                                    "id": "5",
                                    "Full_Name": "Nikhil IT"
                                },
                                {
                                    "id": "6",
                                    "Full_Name": "Sarita HR"
                                },
                                {
                                    "id": "7",
                                    "Full_Name": "Bunny Finance"
                                },
                                {
                                    "id": "8",
                                    "Full_Name": "Namrata Marketing"
                                },
                                {
                                    "id": "9",
                                    "Full_Name": "Abhiram IT"
                                },
                                {
                                    "id": "10",
                                    "Full_Name": "Tikram Finance"
                                },
                                {
                                    "id": "11",
                                    "Full_Name": "Ramulu IT"
                                },
                                {
                                    "id": "12",
                                    "Full_Name": "Bala Finance"
                                },
                                {
                                    "id": "13",
                                    "Full_Name": "NULL"
                                },
                                {
                                    "id": "14",
                                    "Full_Name": "NULL"
                                },
                                {
                                    "id": "15",
                                    "Full_Name": "NULL"
                                }
                            ]
                        },
                        "text/html": "<table><tr><th>id</th><th>Full_Name</th></tr><tr><td>1</td><td>Rajesh IT</td></tr><tr><td>2</td><td>Padma HR</td></tr><tr><td>3</td><td>Laxman Finance</td></tr><tr><td>4</td><td>Ganga Marketing</td></tr><tr><td>5</td><td>Nikhil IT</td></tr><tr><td>6</td><td>Sarita HR</td></tr><tr><td>7</td><td>Bunny Finance</td></tr><tr><td>8</td><td>Namrata Marketing</td></tr><tr><td>9</td><td>Abhiram IT</td></tr><tr><td>10</td><td>Tikram Finance</td></tr><tr><td>11</td><td>Ramulu IT</td></tr><tr><td>12</td><td>Bala Finance</td></tr><tr><td>13</td><td>NULL</td></tr><tr><td>14</td><td>NULL</td></tr><tr><td>15</td><td>NULL</td></tr></table>"
                    },
                    "metadata": {}
                }
            ],
            "execution_count": 4
        },
        {
            "cell_type": "markdown",
            "source": [
                "### **5. Handling Concatenation with NULL using CONCAT:**"
            ],
            "metadata": {
                "azdata_cell_guid": "11187f31-6710-421a-9f90-3b01d05cf64c"
            },
            "attachments": {}
        },
        {
            "cell_type": "code",
            "source": [
                "SELECT TOP 10 id, CONCAT(ISNULL(name, ''), ' ', ISNULL(department, 'NoDepartment')) AS Full_Name\n",
                "FROM Emp\n",
                "ORDER BY id DESC;"
            ],
            "metadata": {
                "azdata_cell_guid": "39ab4213-f855-46f7-bcdf-44993e4de17a",
                "language": "sql"
            },
            "outputs": [
                {
                    "output_type": "display_data",
                    "data": {
                        "text/html": "(10 rows affected)"
                    },
                    "metadata": {}
                },
                {
                    "output_type": "display_data",
                    "data": {
                        "text/html": "Total execution time: 00:00:00.015"
                    },
                    "metadata": {}
                },
                {
                    "output_type": "execute_result",
                    "metadata": {},
                    "execution_count": 3,
                    "data": {
                        "application/vnd.dataresource+json": {
                            "schema": {
                                "fields": [
                                    {
                                        "name": "id"
                                    },
                                    {
                                        "name": "Full_Name"
                                    }
                                ]
                            },
                            "data": [
                                {
                                    "id": "15",
                                    "Full_Name": "Varsha NoDepartment"
                                },
                                {
                                    "id": "14",
                                    "Full_Name": "Sai NoDepartment"
                                },
                                {
                                    "id": "13",
                                    "Full_Name": "Ananya NoDepartment"
                                },
                                {
                                    "id": "12",
                                    "Full_Name": "Bala Finance"
                                },
                                {
                                    "id": "11",
                                    "Full_Name": "Ramulu IT"
                                },
                                {
                                    "id": "10",
                                    "Full_Name": "Tikram Finance"
                                },
                                {
                                    "id": "9",
                                    "Full_Name": "Abhiram IT"
                                },
                                {
                                    "id": "8",
                                    "Full_Name": "Namrata Marketing"
                                },
                                {
                                    "id": "7",
                                    "Full_Name": "Bunny Finance"
                                },
                                {
                                    "id": "6",
                                    "Full_Name": "Sarita HR"
                                }
                            ]
                        },
                        "text/html": [
                            "<table>",
                            "<tr><th>id</th><th>Full_Name</th></tr>",
                            "<tr><td>15</td><td>Varsha NoDepartment</td></tr>",
                            "<tr><td>14</td><td>Sai NoDepartment</td></tr>",
                            "<tr><td>13</td><td>Ananya NoDepartment</td></tr>",
                            "<tr><td>12</td><td>Bala Finance</td></tr>",
                            "<tr><td>11</td><td>Ramulu IT</td></tr>",
                            "<tr><td>10</td><td>Tikram Finance</td></tr>",
                            "<tr><td>9</td><td>Abhiram IT</td></tr>",
                            "<tr><td>8</td><td>Namrata Marketing</td></tr>",
                            "<tr><td>7</td><td>Bunny Finance</td></tr>",
                            "<tr><td>6</td><td>Sarita HR</td></tr>",
                            "</table>"
                        ]
                    }
                }
            ],
            "execution_count": 3
        },
        {
            "cell_type": "markdown",
            "source": [
                "#### Explanation\n",
                "- **CONCAT Function**: Combines `name` and `department` columns.\n",
                "- **ISNULL Function**: Replaces NULL values with an empty string for `name` and 'NoDepartment' for `department`.\n",
                "- **Automatic Handling**: CONCAT handles NULL values, ensuring the result is not NULL."
            ],
            "metadata": {
                "language": "sql",
                "azdata_cell_guid": "ba455418-7737-4eda-9128-19c1c6af4a22"
            },
            "attachments": {}
        },
        {
            "cell_type": "markdown",
            "source": [
                "### **5\\. Handling NULL in CASE Statements in Emp Table:**\n",
                "\n",
                "- When using \\`CASE\\` statements, be aware that NULL values may require explicit handling to avoid unexpected results."
            ],
            "metadata": {
                "azdata_cell_guid": "037822be-4d1b-490b-9f3f-1e52bbc181b7"
            },
            "attachments": {}
        },
        {
            "cell_type": "code",
            "source": [
                "SELECT *,\n",
                "    CASE\n",
                "        WHEN salary IS NULL THEN 'No Salary'\n",
                "        ELSE CAST(salary AS VARCHAR(10))\n",
                "    END AS Salary_Info\n",
                "FROM Emp;\n",
                ""
            ],
            "metadata": {
                "azdata_cell_guid": "15640d71-87dc-405e-bf68-1ee2a38b7b3e",
                "language": "sql"
            },
            "outputs": [
                {
                    "output_type": "display_data",
                    "data": {
                        "text/html": "(15 rows affected)"
                    },
                    "metadata": {}
                },
                {
                    "output_type": "display_data",
                    "data": {
                        "text/html": "Total execution time: 00:00:00.017"
                    },
                    "metadata": {}
                },
                {
                    "output_type": "execute_result",
                    "execution_count": 8,
                    "data": {
                        "application/vnd.dataresource+json": {
                            "schema": {
                                "fields": [
                                    {
                                        "name": "id"
                                    },
                                    {
                                        "name": "name"
                                    },
                                    {
                                        "name": "age"
                                    },
                                    {
                                        "name": "gender"
                                    },
                                    {
                                        "name": "salary"
                                    },
                                    {
                                        "name": "department"
                                    },
                                    {
                                        "name": "Salary_Info"
                                    }
                                ]
                            },
                            "data": [
                                {
                                    "id": "1",
                                    "name": "Rajesh",
                                    "age": "30",
                                    "gender": "Male",
                                    "salary": "60000.00",
                                    "department": "IT",
                                    "Salary_Info": "60000.00"
                                },
                                {
                                    "id": "2",
                                    "name": "Padma",
                                    "age": "25",
                                    "gender": "Female",
                                    "salary": "55000.50",
                                    "department": "HR",
                                    "Salary_Info": "55000.50"
                                },
                                {
                                    "id": "3",
                                    "name": "Laxman",
                                    "age": "35",
                                    "gender": "Male",
                                    "salary": "70000.75",
                                    "department": "Finance",
                                    "Salary_Info": "70000.75"
                                },
                                {
                                    "id": "4",
                                    "name": "Ganga",
                                    "age": "28",
                                    "gender": "Female",
                                    "salary": "48000.25",
                                    "department": "Marketing",
                                    "Salary_Info": "48000.25"
                                },
                                {
                                    "id": "5",
                                    "name": "Nikhil",
                                    "age": "32",
                                    "gender": "Male",
                                    "salary": "72000.00",
                                    "department": "IT",
                                    "Salary_Info": "72000.00"
                                },
                                {
                                    "id": "6",
                                    "name": "Sarita",
                                    "age": "29",
                                    "gender": "Female",
                                    "salary": "58000.75",
                                    "department": "HR",
                                    "Salary_Info": "58000.75"
                                },
                                {
                                    "id": "7",
                                    "name": "Bunny",
                                    "age": "40",
                                    "gender": "Male",
                                    "salary": "85000.50",
                                    "department": "Finance",
                                    "Salary_Info": "85000.50"
                                },
                                {
                                    "id": "8",
                                    "name": "Namrata",
                                    "age": "26",
                                    "gender": "Female",
                                    "salary": "50000.50",
                                    "department": "Marketing",
                                    "Salary_Info": "50000.50"
                                },
                                {
                                    "id": "9",
                                    "name": "Abhiram",
                                    "age": "38",
                                    "gender": "Male",
                                    "salary": "78000.25",
                                    "department": "IT",
                                    "Salary_Info": "78000.25"
                                },
                                {
                                    "id": "10",
                                    "name": "Tikram",
                                    "age": "31",
                                    "gender": "Female",
                                    "salary": "62000.00",
                                    "department": "Finance",
                                    "Salary_Info": "62000.00"
                                },
                                {
                                    "id": "11",
                                    "name": "Ramulu",
                                    "age": "58",
                                    "gender": "Male",
                                    "salary": "178000.25",
                                    "department": "IT",
                                    "Salary_Info": "178000.25"
                                },
                                {
                                    "id": "12",
                                    "name": "Bala",
                                    "age": "51",
                                    "gender": "Female",
                                    "salary": "162000.00",
                                    "department": "Finance",
                                    "Salary_Info": "162000.00"
                                },
                                {
                                    "id": "13",
                                    "name": "Ananya",
                                    "age": "NULL",
                                    "gender": "Female",
                                    "salary": "NULL",
                                    "department": "NULL",
                                    "Salary_Info": "No Salary"
                                },
                                {
                                    "id": "14",
                                    "name": "Sai",
                                    "age": "NULL",
                                    "gender": "Male",
                                    "salary": "NULL",
                                    "department": "NULL",
                                    "Salary_Info": "No Salary"
                                },
                                {
                                    "id": "15",
                                    "name": "Varsha",
                                    "age": "NULL",
                                    "gender": "Female",
                                    "salary": "NULL",
                                    "department": "NULL",
                                    "Salary_Info": "No Salary"
                                }
                            ]
                        },
                        "text/html": "<table><tr><th>id</th><th>name</th><th>age</th><th>gender</th><th>salary</th><th>department</th><th>Salary_Info</th></tr><tr><td>1</td><td>Rajesh</td><td>30</td><td>Male</td><td>60000.00</td><td>IT</td><td>60000.00</td></tr><tr><td>2</td><td>Padma</td><td>25</td><td>Female</td><td>55000.50</td><td>HR</td><td>55000.50</td></tr><tr><td>3</td><td>Laxman</td><td>35</td><td>Male</td><td>70000.75</td><td>Finance</td><td>70000.75</td></tr><tr><td>4</td><td>Ganga</td><td>28</td><td>Female</td><td>48000.25</td><td>Marketing</td><td>48000.25</td></tr><tr><td>5</td><td>Nikhil</td><td>32</td><td>Male</td><td>72000.00</td><td>IT</td><td>72000.00</td></tr><tr><td>6</td><td>Sarita</td><td>29</td><td>Female</td><td>58000.75</td><td>HR</td><td>58000.75</td></tr><tr><td>7</td><td>Bunny</td><td>40</td><td>Male</td><td>85000.50</td><td>Finance</td><td>85000.50</td></tr><tr><td>8</td><td>Namrata</td><td>26</td><td>Female</td><td>50000.50</td><td>Marketing</td><td>50000.50</td></tr><tr><td>9</td><td>Abhiram</td><td>38</td><td>Male</td><td>78000.25</td><td>IT</td><td>78000.25</td></tr><tr><td>10</td><td>Tikram</td><td>31</td><td>Female</td><td>62000.00</td><td>Finance</td><td>62000.00</td></tr><tr><td>11</td><td>Ramulu</td><td>58</td><td>Male</td><td>178000.25</td><td>IT</td><td>178000.25</td></tr><tr><td>12</td><td>Bala</td><td>51</td><td>Female</td><td>162000.00</td><td>Finance</td><td>162000.00</td></tr><tr><td>13</td><td>Ananya</td><td>NULL</td><td>Female</td><td>NULL</td><td>NULL</td><td>No Salary</td></tr><tr><td>14</td><td>Sai</td><td>NULL</td><td>Male</td><td>NULL</td><td>NULL</td><td>No Salary</td></tr><tr><td>15</td><td>Varsha</td><td>NULL</td><td>Female</td><td>NULL</td><td>NULL</td><td>No Salary</td></tr></table>"
                    },
                    "metadata": {}
                }
            ],
            "execution_count": 8
        },
        {
            "cell_type": "markdown",
            "source": [
                "### **6.** <span style=\"font-size: 16.38px;\"><b>What is important to consider about NULL values in database indexes?</b></span>\n",
                "\n",
                "- Some database systems may treat \\`NULL\\` values differently in indexes. Understand the behavior of \\`NULL\\` values in the specific database system being used.\n",
                "\n",
                "**Note :** \n",
                "\n",
                "- Understanding \\`NULL\\` and its handling is crucial in database design and query writing to avoid unexpected results and ensure accurate data representation, particularly with the \"Emp\" table or any other real-world data scenario."
            ],
            "metadata": {
                "language": "sql",
                "azdata_cell_guid": "c4d1808e-1903-4cec-b873-058b77282707"
            },
            "attachments": {}
        },
        {
            "cell_type": "markdown",
            "source": [
                "### **6. What is important to consider about `NULL` values in database indexes?**\n",
                "\n",
                "- **Behavior in Indexes**: <mark>`NULL` values may be handled differently by various database systems in index structures.</mark>\n",
                "- **Crucial Understanding**:<mark> Understanding how `NULL` values are managed is essential for database design and querying.</mark>\n",
                "- **Avoiding Issues**: <mark>Helps prevent unexpected results</mark> and ensures accurate data representation, especially when working with tables like \"Emp\" or real-world datasets."
            ],
            "metadata": {
                "language": "sql",
                "azdata_cell_guid": "f8e69b82-8b00-42a0-9388-792e074a7987"
            },
            "attachments": {}
        },
        {
            "cell_type": "markdown",
            "source": [
                "### **Statement 1 : Is the statement \"Any arithmetic operation performed with NULL will always result in NULL\" true or false? Explain.**\n",
                "\n",
                "#### `True`.\n",
                "\n",
                "**Explanation:**\n",
                "- **Three-Valued Logic**: SQL uses three-valued logic (true, false, unknown).\n",
                "- **Result**: Any operation involving NULL results in NULL because NULL represents an unknown value."
            ],
            "metadata": {
                "language": "sql",
                "azdata_cell_guid": "3e8c83be-ba8c-46cc-8400-99a0bd4f5cf2"
            },
            "attachments": {}
        },
        {
            "cell_type": "code",
            "source": [
                "SELECT NULL + 5; -- Result: NULL\n",
                ""
            ],
            "metadata": {
                "language": "sql",
                "azdata_cell_guid": "394e0a03-8b34-4201-a648-45ac21757601"
            },
            "outputs": [
                {
                    "output_type": "display_data",
                    "data": {
                        "text/html": "(1 row affected)"
                    },
                    "metadata": {}
                },
                {
                    "output_type": "display_data",
                    "data": {
                        "text/html": "Total execution time: 00:00:00.024"
                    },
                    "metadata": {}
                },
                {
                    "output_type": "execute_result",
                    "execution_count": 9,
                    "data": {
                        "application/vnd.dataresource+json": {
                            "schema": {
                                "fields": [
                                    {
                                        "name": "(No column name)"
                                    }
                                ]
                            },
                            "data": [
                                {
                                    "(No column name)": "NULL"
                                }
                            ]
                        },
                        "text/html": "<table><tr><th>(No column name)</th></tr><tr><td>NULL</td></tr></table>"
                    },
                    "metadata": {}
                }
            ],
            "execution_count": 9
        },
        {
            "cell_type": "markdown",
            "source": [
                "### **Statement 2: NULL and Zero are different.**\n",
                "\n",
                "  \n",
                "\n",
                "- **True**. NULL represents the absence of a value or an unknown value, whereas zero is a specific numeric value. They have different meanings."
            ],
            "metadata": {
                "language": "sql",
                "azdata_cell_guid": "47a722cb-b9d5-47ff-bc61-6b4a65fb23f9"
            },
            "attachments": {}
        },
        {
            "cell_type": "markdown",
            "source": [
                "### **Statement 2 : NULL and Zero are Different. Is the statement True or False**\n",
                "\n",
                "#### `TRUE`\n",
                "\n",
                "**NULL and Zero are Different:**\n",
                "\n",
                "- **NULL**: Represents the absence or unknown value.\n",
                "- **Zero**: A specific numeric value.\n",
                "- **Different Meanings**: They are not interchangeable.\n",
                "\n",
                "**Example:**\n",
                "```sql\n",
                "SELECT id, name, salary\n",
                "FROM Employees\n",
                "WHERE salary IS NULL;  -- Finds employees with unknown salary\n",
                "\n",
                "SELECT id, name, salary\n",
                "FROM Employees\n",
                "WHERE salary = 0;  -- Finds employees with a salary of zero\n",
                "```"
            ],
            "metadata": {
                "language": "",
                "azdata_cell_guid": "0e917770-7625-45c2-9aab-8c7b1d88b011"
            },
            "attachments": {}
        },
        {
            "cell_type": "code",
            "source": [
                "SELECT NULL AS NullValue, 0 AS ZeroValue;\n",
                "\n",
                "-- The result will show a NULL value for `NullValue` and 0 for `ZeroValue`."
            ],
            "metadata": {
                "language": "sql",
                "azdata_cell_guid": "267aaa82-70b8-455a-b6ec-28d9ff845ee4"
            },
            "outputs": [
                {
                    "output_type": "display_data",
                    "data": {
                        "text/html": "(1 row affected)"
                    },
                    "metadata": {}
                },
                {
                    "output_type": "display_data",
                    "data": {
                        "text/html": "Total execution time: 00:00:00.021"
                    },
                    "metadata": {}
                },
                {
                    "output_type": "execute_result",
                    "execution_count": 10,
                    "data": {
                        "application/vnd.dataresource+json": {
                            "schema": {
                                "fields": [
                                    {
                                        "name": "NullValue"
                                    },
                                    {
                                        "name": "ZeroValue"
                                    }
                                ]
                            },
                            "data": [
                                {
                                    "NullValue": "NULL",
                                    "ZeroValue": "0"
                                }
                            ]
                        },
                        "text/html": "<table><tr><th>NullValue</th><th>ZeroValue</th></tr><tr><td>NULL</td><td>0</td></tr></table>"
                    },
                    "metadata": {}
                }
            ],
            "execution_count": 10
        },
        {
            "cell_type": "markdown",
            "source": [
                "### **Statement 3: Zero is a value. NULL is blank.**"
            ],
            "metadata": {
                "language": "sql",
                "azdata_cell_guid": "a6bf7f4c-17c8-4b5c-895f-011591c4bbf9"
            },
            "attachments": {}
        },
        {
            "cell_type": "markdown",
            "source": [
                "#### `FALSE`\n",
                "\n",
                "**Explanation:**\n",
                "- **Zero**: Is indeed a specific numeric value, typically used to denote the numerical quantity of zero.\n",
                "- **NULL**: Represents the absence of a value or an unknown value. It is not \"blank\" in the sense of being an empty string or empty space. NULL is a distinct concept from zero and any other value.\n",
                "\n",
                "In SQL:\n",
                "- Zero (`0`) is a concrete numeric value.\n",
                "- NULL <mark>**(`NULL`) is a placeholder indicating missing or unknown data**</mark>, <mark>**`and it is not comparable to any specific value, including zero and is also distinct from empty string and spaces`**</mark>.\n",
                "\n",
                "Therefore, the statement \"Zero is a value. NULL is blank\" is not true in SQL. It's important to understand the distinction between these concepts to use SQL effectively and accurately in database queries and operations."
            ],
            "metadata": {
                "language": "sql",
                "azdata_cell_guid": "5c76f733-6edf-4759-b6cf-6b95528cbef1"
            },
            "attachments": {}
        },
        {
            "cell_type": "code",
            "source": [
                "SELECT '' AS EmptyString, NULL AS NullValue;\n",
                "\n",
                "-- The result will show an empty string for `EmptyString` and a NULL value for `NullValue`."
            ],
            "metadata": {
                "language": "sql",
                "azdata_cell_guid": "d4cf3246-da7f-4cb9-831b-3cb7e364ddf8"
            },
            "outputs": [
                {
                    "output_type": "display_data",
                    "data": {
                        "text/html": "(1 row affected)"
                    },
                    "metadata": {}
                },
                {
                    "output_type": "display_data",
                    "data": {
                        "text/html": "Total execution time: 00:00:00.017"
                    },
                    "metadata": {}
                },
                {
                    "output_type": "execute_result",
                    "execution_count": 11,
                    "data": {
                        "application/vnd.dataresource+json": {
                            "schema": {
                                "fields": [
                                    {
                                        "name": "EmptyString"
                                    },
                                    {
                                        "name": "NullValue"
                                    }
                                ]
                            },
                            "data": [
                                {
                                    "EmptyString": "",
                                    "NullValue": "NULL"
                                }
                            ]
                        },
                        "text/html": "<table><tr><th>EmptyString</th><th>NullValue</th></tr><tr><td></td><td>NULL</td></tr></table>"
                    },
                    "metadata": {}
                }
            ],
            "execution_count": 11
        },
        {
            "cell_type": "markdown",
            "source": [
                "**Note :**\n",
                "\n",
                "- Understanding these distinctions is crucial when working with SQL databases to avoid unexpected results and ensure accurate data representation."
            ],
            "metadata": {
                "language": "sql",
                "azdata_cell_guid": "33045af9-4343-4f68-94c9-4a84578dc21f"
            },
            "attachments": {}
        }
    ]
}