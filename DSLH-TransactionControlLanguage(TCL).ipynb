{
    "metadata": {
        "kernelspec": {
            "name": "SQL",
            "display_name": "SQL",
            "language": "sql"
        },
        "language_info": {
            "name": "sql",
            "version": ""
        }
    },
    "nbformat_minor": 2,
    "nbformat": 4,
    "cells": [
        {
            "cell_type": "markdown",
            "source": [
                "# **Data Science Learners Hub**\n",
                "\n",
                "**Module : SQL**\n",
                "\n",
                "**Topic :** <span style=\"color: rgb(0, 0, 0); font-family: &quot;Helvetica Neue&quot;; font-size: 13px;\">Transaction Control Language(TCL)</span>\n",
                "\n",
                "**email** : [datasciencelearnershub@gmail.com](mailto:datasciencelearnershub@gmail.com)"
            ],
            "metadata": {
                "azdata_cell_guid": "17846500-64de-4b7c-9a40-743c171fed4c"
            },
            "attachments": {}
        },
        {
            "cell_type": "markdown",
            "source": [
                "## **# Transaction Control Language(TCL) in SQL**"
            ],
            "metadata": {
                "azdata_cell_guid": "31af2a70-48fd-4e8d-a4a9-4933679832a9"
            },
            "attachments": {}
        },
        {
            "cell_type": "code",
            "source": [
                "USE DataScienceLearnersHub"
            ],
            "metadata": {
                "azdata_cell_guid": "eaa3dca3-c33d-40c4-8671-195bd4605796",
                "language": "sql"
            },
            "outputs": [
                {
                    "output_type": "display_data",
                    "data": {
                        "text/html": "Commands completed successfully."
                    },
                    "metadata": {}
                },
                {
                    "output_type": "display_data",
                    "data": {
                        "text/html": "Total execution time: 00:00:00.006"
                    },
                    "metadata": {}
                }
            ],
            "execution_count": 1
        },
        {
            "cell_type": "markdown",
            "source": [
                "### 1. Create a Simple Table:"
            ],
            "metadata": {
                "azdata_cell_guid": "d306623a-7184-4c67-9a3a-83c09b321a77"
            },
            "attachments": {}
        },
        {
            "cell_type": "code",
            "source": [
                "CREATE TABLE StudentScores (\n",
                "    StudentID INT PRIMARY KEY,\n",
                "    Subject VARCHAR(50),\n",
                "    Score INT\n",
                ");"
            ],
            "metadata": {
                "azdata_cell_guid": "a888ea9f-8f83-4c44-a636-db924f108b9e",
                "language": "sql"
            },
            "outputs": [
                {
                    "output_type": "display_data",
                    "data": {
                        "text/html": "Commands completed successfully."
                    },
                    "metadata": {}
                },
                {
                    "output_type": "display_data",
                    "data": {
                        "text/html": "Total execution time: 00:00:00.013"
                    },
                    "metadata": {}
                }
            ],
            "execution_count": 4
        },
        {
            "cell_type": "markdown",
            "source": [
                "### 2. Generate Insert Queries:"
            ],
            "metadata": {
                "azdata_cell_guid": "a6dacb5a-4de8-4a6d-a8d9-50f49534c1e4"
            },
            "attachments": {}
        },
        {
            "cell_type": "code",
            "source": [
                "-- Insert data into the table\n",
                "INSERT INTO StudentScores VALUES\n",
                "    (1, 'Math', 90),\n",
                "    (2, 'English', 85),\n",
                "    (3, 'Science', 92);"
            ],
            "metadata": {
                "azdata_cell_guid": "f32d2c67-2495-4e4a-a56a-0c4b475d669f",
                "language": "sql"
            },
            "outputs": [
                {
                    "output_type": "display_data",
                    "data": {
                        "text/html": "(3 rows affected)"
                    },
                    "metadata": {}
                },
                {
                    "output_type": "display_data",
                    "data": {
                        "text/html": "Total execution time: 00:00:00.062"
                    },
                    "metadata": {}
                }
            ],
            "execution_count": 5
        },
        {
            "cell_type": "code",
            "source": [
                "SELECT * FROM StudentScores"
            ],
            "metadata": {
                "language": "sql",
                "azdata_cell_guid": "d9e338e6-9637-406a-8bcf-1f5f4852e9e6"
            },
            "outputs": [
                {
                    "output_type": "display_data",
                    "data": {
                        "text/html": "(3 rows affected)"
                    },
                    "metadata": {}
                },
                {
                    "output_type": "display_data",
                    "data": {
                        "text/html": "Total execution time: 00:00:00.053"
                    },
                    "metadata": {}
                },
                {
                    "output_type": "execute_result",
                    "execution_count": 6,
                    "data": {
                        "application/vnd.dataresource+json": {
                            "schema": {
                                "fields": [
                                    {
                                        "name": "StudentID"
                                    },
                                    {
                                        "name": "Subject"
                                    },
                                    {
                                        "name": "Score"
                                    }
                                ]
                            },
                            "data": [
                                {
                                    "StudentID": "1",
                                    "Subject": "Math",
                                    "Score": "90"
                                },
                                {
                                    "StudentID": "2",
                                    "Subject": "English",
                                    "Score": "85"
                                },
                                {
                                    "StudentID": "3",
                                    "Subject": "Science",
                                    "Score": "92"
                                }
                            ]
                        },
                        "text/html": "<table><tr><th>StudentID</th><th>Subject</th><th>Score</th></tr><tr><td>1</td><td>Math</td><td>90</td></tr><tr><td>2</td><td>English</td><td>85</td></tr><tr><td>3</td><td>Science</td><td>92</td></tr></table>"
                    },
                    "metadata": {}
                }
            ],
            "execution_count": 6
        },
        {
            "cell_type": "markdown",
            "source": [
                "### 3. What are Transaction Control Language(TCL) in MS SQL Server?\n",
                "\n",
                "- **Definition:** Transaction Control Language (TCL) is a set of SQL commands that manages transactions in a database. \n",
                "- It allows users to control the beginning and ending of transactions.\n",
                "- It provides commands to control transaction execution:\n",
                "* Start a transaction\n",
                "* Commit changes permanently\n",
                "* Rollback changes in case of errors\n",
                "\n",
                "### 4. Types of Transaction Control Language(TCL):\n",
                "\n",
                "- **BEGIN TRANSACTION**: Starts a new transaction.\n",
                "\n",
                "- **COMMIT TRANSACTION**: Saves all changes within the transaction permanently.\n",
                "\n",
                "- **ROLLBACK TRANSACTION**: Undoes all changes within the transaction.\n",
                "\n",
                "- **SAVE TRANSACTION**: Creates a savepoint within a transaction to allow partial rollbacks.\n",
                "\n",
                "### 5. Practical Application:\n",
                "\n",
                "- **Financial Transactions:** In a banking system, TCL ensures that a transfer between accounts is an atomic operation. It either completes successfully (COMMIT) or fails (ROLLBACK).\n",
                "\n",
                "- E-commerce orders\n",
                "\n",
                "- Data transfers between systems\n",
                "\n",
                "- Complex database updates\n",
                "\n",
                "- Protecting data integrity in critical operations\n",
                "\n",
                "### 6. Peculiarities and Considerations:\n",
                "\n",
                "- **Atomicity:** TCL ensures that a transaction is treated as a single, indivisible unit of work. Either all changes are applied (COMMIT) or none (ROLLBACK).\n",
                "\n",
                "- Transactions can impact performance, especially long-running ones.\n",
                "\n",
                "- Use transactions judiciously to avoid locking resources unnecessarily.\n",
                "\n",
                "- Consider isolation levels to control data visibility between transactions.\n",
                "\n",
                "### 7. Common Mistakes:\n",
                "\n",
                "- **Forgetting COMMIT or ROLLBACK:** Forgetting to commit a transaction can lead to data inconsistencies, and not rolling back when needed can cause unintended changes.\n",
                "\n",
                "- Not handling errors properly, leading to incomplete transactions.\n",
                "\n",
                "- Overusing transactions for simple operations."
            ],
            "metadata": {
                "language": "sql",
                "azdata_cell_guid": "ce7807d7-69de-4b7c-afe2-f183c9114ea6"
            },
            "attachments": {}
        },
        {
            "cell_type": "markdown",
            "source": [
                "### 8. Examples:\n",
                "\n",
                "#### Example 1: Atomicity"
            ],
            "metadata": {
                "azdata_cell_guid": "0a531dd1-ac87-43ce-8eae-6b2321246dcd"
            },
            "attachments": {}
        },
        {
            "cell_type": "code",
            "source": [
                "  BEGIN TRANSACTION;\n",
                "  UPDATE StudentScores SET Score = Score + 10 WHERE Subject = 'Math';\n",
                "  UPDATE StudentScores SET Score = Score - 5 WHERE Subject = 'English';\n",
                "  COMMIT; -- If any update fails, both updates are rolled back"
            ],
            "metadata": {
                "azdata_cell_guid": "afcf8209-d4c3-402f-b7c8-f9c4b54ab256",
                "language": "sql"
            },
            "outputs": [
                {
                    "output_type": "display_data",
                    "data": {
                        "text/html": "(1 row affected)"
                    },
                    "metadata": {}
                },
                {
                    "output_type": "display_data",
                    "data": {
                        "text/html": "(1 row affected)"
                    },
                    "metadata": {}
                },
                {
                    "output_type": "display_data",
                    "data": {
                        "text/html": "Total execution time: 00:00:00.058"
                    },
                    "metadata": {}
                }
            ],
            "execution_count": 7
        },
        {
            "cell_type": "markdown",
            "source": [
                "#### Example 2: Error Handling\n",
                "\n",
                "In this example, the `TRY...CATCH` block is used to handle errors. If an error occurs during the update for Science, the transaction is rolled back, and a message is printed. "
            ],
            "metadata": {
                "language": "sql",
                "azdata_cell_guid": "0420771b-ae94-4f05-90fa-c683b4c36a66"
            },
            "attachments": {}
        },
        {
            "cell_type": "code",
            "source": [
                "-- Assuming the StudentScores table already exists\n",
                "\n",
                "BEGIN TRY\n",
                "    BEGIN TRANSACTION;\n",
                "\n",
                "    -- Update scores for Science\n",
                "    UPDATE StudentScores SET Score = Score + 8 WHERE Subject = 'Science';\n",
                "\n",
                "    -- Simulate an error\n",
                "    RAISERROR('An error occurred', 16, 1);\n",
                "\n",
                "    -- If no error, commit the transaction\n",
                "    COMMIT;\n",
                "END TRY\n",
                "BEGIN CATCH\n",
                "    -- If an error occurs, rollback the transaction\n",
                "    ROLLBACK;\n",
                "    PRINT 'Transaction rolled back due to an error.';\n",
                "END CATCH;"
            ],
            "metadata": {
                "language": "sql",
                "azdata_cell_guid": "2401e7f9-e551-4c48-ad9e-4b721d296f2d"
            },
            "outputs": [
                {
                    "output_type": "display_data",
                    "data": {
                        "text/html": "(1 row affected)"
                    },
                    "metadata": {}
                },
                {
                    "output_type": "display_data",
                    "data": {
                        "text/html": "Transaction rolled back due to an error."
                    },
                    "metadata": {}
                },
                {
                    "output_type": "display_data",
                    "data": {
                        "text/html": "Total execution time: 00:00:00.019"
                    },
                    "metadata": {}
                }
            ],
            "execution_count": 10
        },
        {
            "cell_type": "markdown",
            "source": [
                "#### Example 3: Nested Transactions\n",
                "\n",
                "In this example, a nested transaction is used to update scores for English. If an issue occurs during the update for English, the nested transaction is rolled back, but the changes to Math are preserved. If there are no issues, the main transaction is committed."
            ],
            "metadata": {
                "language": "sql",
                "azdata_cell_guid": "b148938a-a212-49b8-83d4-8df50d819568"
            },
            "attachments": {}
        },
        {
            "cell_type": "code",
            "source": [
                "BEGIN TRY\n",
                "    BEGIN TRANSACTION;\n",
                "\n",
                "    -- Update scores for Math\n",
                "    UPDATE StudentScores SET Score = Score + 5 WHERE Subject = 'Math';\n",
                "\n",
                "    SAVE TRANSACTION NestedSavepoint;\n",
                "\n",
                "    -- Update scores for English\n",
                "    UPDATE StudentScores SET Score = Score - 2 WHERE Subject = 'English';\n",
                "\n",
                "    -- If something goes wrong, rollback to the savepoint\n",
                "    ROLLBACK TRANSACTION NestedSavepoint;\n",
                "\n",
                "    -- If everything is fine, commit the main transaction\n",
                "    COMMIT;\n",
                "END TRY\n",
                "BEGIN CATCH\n",
                "    -- If an error occurs, rollback the entire transaction\n",
                "    ROLLBACK;\n",
                "    PRINT 'Transaction rolled back due to an error.';\n",
                "END CATCH;\n",
                ""
            ],
            "metadata": {
                "language": "sql",
                "azdata_cell_guid": "772ea369-2e77-4970-a6c7-4135da1cbf8e"
            },
            "outputs": [
                {
                    "output_type": "display_data",
                    "data": {
                        "text/html": "(1 row affected)"
                    },
                    "metadata": {}
                },
                {
                    "output_type": "display_data",
                    "data": {
                        "text/html": "(1 row affected)"
                    },
                    "metadata": {}
                },
                {
                    "output_type": "display_data",
                    "data": {
                        "text/html": "Total execution time: 00:00:00.024"
                    },
                    "metadata": {}
                }
            ],
            "execution_count": 3
        },
        {
            "cell_type": "markdown",
            "source": [
                "#### Example 4: Error Handling with TRY...CATCH\n",
                "In this example, the `TRY...CATCH` block is used to handle errors. If an error occurs during the update for Science, the transaction is rolled back, and a message is printed."
            ],
            "metadata": {
                "language": "sql",
                "azdata_cell_guid": "76f7efa9-b5c4-46e1-acf0-0b1f59054a81"
            },
            "attachments": {}
        },
        {
            "cell_type": "code",
            "source": [
                "BEGIN TRY\n",
                "    BEGIN TRANSACTION;\n",
                "\n",
                "    -- Update scores for Science\n",
                "    UPDATE StudentScores SET Score = Score + 8 WHERE Subject = 'Science';\n",
                "\n",
                "    -- Simulate an error\n",
                "    RAISERROR('An error occurred', 16, 1);\n",
                "\n",
                "    -- If no error, commit the transaction\n",
                "    COMMIT;\n",
                "END TRY\n",
                "BEGIN CATCH\n",
                "    -- If an error occurs, rollback the transaction\n",
                "    ROLLBACK;\n",
                "    PRINT 'Transaction rolled back due to an error.';\n",
                "END CATCH;"
            ],
            "metadata": {
                "language": "sql",
                "azdata_cell_guid": "5cd74c5a-85b1-4a57-826f-e5fddbd65e17"
            },
            "outputs": [
                {
                    "output_type": "display_data",
                    "data": {
                        "text/html": "(1 row affected)"
                    },
                    "metadata": {}
                },
                {
                    "output_type": "display_data",
                    "data": {
                        "text/html": "Transaction rolled back due to an error."
                    },
                    "metadata": {}
                },
                {
                    "output_type": "display_data",
                    "data": {
                        "text/html": "Total execution time: 00:00:00.009"
                    },
                    "metadata": {}
                }
            ],
            "execution_count": 4
        },
        {
            "cell_type": "markdown",
            "source": [
                "#### Example 5: Savepoints\n",
                "In this example, a savepoint (`Savepoint1`) is set before simulating an error. If an error occurs, the transaction is rolled back to the savepoint, preserving the changes made before the error."
            ],
            "metadata": {
                "language": "sql",
                "azdata_cell_guid": "e4e86b43-6337-497c-8d73-cb336382f521"
            },
            "attachments": {}
        },
        {
            "cell_type": "code",
            "source": [
                "BEGIN TRY\n",
                "    BEGIN TRANSACTION;\n",
                "\n",
                "    -- Update scores for History\n",
                "    UPDATE StudentScores SET Score = Score + 7 WHERE Subject = 'History';\n",
                "\n",
                "    -- Savepoint\n",
                "    SAVE TRANSACTION Savepoint1;\n",
                "\n",
                "    -- Simulate an error\n",
                "    RAISERROR('Another error occurred', 16, 1);\n",
                "\n",
                "    -- If no error, commit the transaction\n",
                "    COMMIT;\n",
                "END TRY\n",
                "BEGIN CATCH\n",
                "    -- If an error occurs, rollback to the savepoint\n",
                "    ROLLBACK TRANSACTION Savepoint1;\n",
                "    PRINT 'Transaction rolled back due to an error.';\n",
                "END CATCH;\n",
                ""
            ],
            "metadata": {
                "language": "sql",
                "azdata_cell_guid": "1131e71b-3d7b-4cfc-8f05-6b12db4fac83"
            },
            "outputs": [
                {
                    "output_type": "display_data",
                    "data": {
                        "text/html": "(0 rows affected)"
                    },
                    "metadata": {}
                },
                {
                    "output_type": "display_data",
                    "data": {
                        "text/html": "Transaction rolled back due to an error."
                    },
                    "metadata": {}
                },
                {
                    "output_type": "display_data",
                    "data": {
                        "text/html": "Total execution time: 00:00:00.010"
                    },
                    "metadata": {}
                }
            ],
            "execution_count": 6
        },
        {
            "cell_type": "markdown",
            "source": [
                "### 9. Practice Questions:\n",
                "1. **Update the score for the student with ID 3 in the 'Science' subject to 95. Use a transaction to ensure atomicity.**\n",
                "   \n",
                "2. **Insert a new record for a student with ID 4, 'History' subject, and a score of 88.**\n",
                "3. **Write a script that updates the scores for all students in 'English' subject by adding 5 points. Use a transaction and handle errors appropriately.**\n",
                "4. **What is the purpose of the ROLLBACK command in TCL? Provide an example scenario.**\n",
                "5. **Explain the concept of atomicity in transactions. How does it relate to the COMMIT statement?**\n",
                "### 10. Famous Mishap or Advantage:\n",
                "- **Advantage:** TCL ensures that complex operations involving multiple statements are either fully applied (COMMIT) or fully undone (ROLLBACK), maintaining the integrity of the database.\n",
                "  \n",
                "- **Mishap:** Forgetting to commit a transaction could lead to a situation where changes are never applied, causing data inconsistency."
            ],
            "metadata": {Remember
                "language": "sql",
                "az "feae3c20-1a0f-487e-bcd6-5050388d2dd6"
            }
        }
    ]
}