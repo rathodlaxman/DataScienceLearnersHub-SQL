{
    "metadata": {
        "kernelspec": {
            "name": "SQL",
            "display_name": "SQL",
            "language": "sql"
        },
        "language_info": {
            "name": "sql",
            "version": ""
        }
    },
    "nbformat_minor": 2,
    "nbformat": 4,
    "cells": [
        {
            "cell_type": "markdown",
            "source": [
                "# **Data Science Learners Hub**\n",
                "**Module : SQL**\n",
                "**Topic :** **WITH statements also known as** <span style=\"color: rgb(0, 0, 0); font-family: &quot;Helvetica Neue&quot;; font-size: 13px;\"><b>Common Table Expression (CTE)</b></span>\n",
                "**email** : [datasciencelearnershub@gmail.com](mailto:datasciencelearnershub@gmail.com)"
            ],
            "metadata": {
                "azdata_cell_guid": "26b616a7-642c-429b-a5b6-ca3e72e12589"
            },
            "attachments": {}
        },
        {
            "cell_type": "markdown",
            "source": [
                "## **# WITH statements als known as Common Table Expression (CTE)**"
            ],
            "metadata": {
                "azdata_cell_guid": "a665b675-8620-4ba1-b4ec-6b28d2cd16c6"
            },
            "attachments": {}
        },
        {
            "cell_type": "code",
            "source": [
                "USE DataScienceLearnersHub"
            ],
            "metadata": {
                "azdata_cell_guid": "97e48c99-82eb-473e-98d2-0289bc11e527",
                "language": "sql"
            },
            "outputs": [
                {
                    "output_type": "display_data",
                    "data": {
                        "text/html": "Commands completed successfully."
                    },
                    "metadata": {}
                },
                {
                    "output_type": "display_data",
                    "data": {
                        "text/html": "Total execution time: 00:00:00.001"
                    },
                    "metadata": {}
                }
            ],
            "execution_count": 1
        },
        {
            "cell_type": "markdown",
            "source": [
                "### 1. Create a simple table to illustrate examples for WITH Statement"
            ],
            "metadata": {
                "language": "sql",
                "azdata_cell_guid": "43dc3c60-70dd-4ca7-8b31-d354bab71eb6"
            },
            "attachments": {}
        },
        {
            "cell_type": "code",
            "source": [
                "-- Create a simple table\n",
                "CREATE TABLE Orders (\n",
                "    OrderID INT PRIMARY KEY,\n",
                "    ProductName VARCHAR(50),\n",
                "    Quantity INT,\n",
                "    Price DECIMAL(10, 2)\n",
                ");"
            ],
            "metadata": {
                "language": "sql",
                "azdata_cell_guid": "2a5d7618-3b52-4682-8725-9ec972f1a572"
            },
            "outputs": [
                {
                    "output_type": "display_data",
                    "data": {
                        "text/html": "Commands completed successfully."
                    },
                    "metadata": {}
                },
                {
                    "output_type": "display_data",
                    "data": {
                        "text/html": "Total execution time: 00:00:00.014"
                    },
                    "metadata": {}
                }
            ],
            "execution_count": 5
        },
        {
            "cell_type": "code",
            "source": [
                "-- Create Employees table\n",
                "CREATE TABLE EmployeesforWithdemo (\n",
                "    EmployeeID INT PRIMARY KEY,\n",
                "    FirstName VARCHAR(50),\n",
                "    LastName VARCHAR(50),\n",
                "    ManagerID INT\n",
                ");"
            ],
            "metadata": {
                "language": "sql",
                "azdata_cell_guid": "77461b6e-5a1d-4034-b9f2-4c10310bf22f"
            },
            "outputs": [
                {
                    "output_type": "display_data",
                    "data": {
                        "text/html": "Commands completed successfully."
                    },
                    "metadata": {}
                },
                {
                    "output_type": "display_data",
                    "data": {
                        "text/html": "Total execution time: 00:00:00.036"
                    },
                    "metadata": {}
                }
            ],
            "execution_count": 11
        },
        {
            "cell_type": "markdown",
            "source": [
                "### 2. Generate insert queries to insert values into the newly created table"
            ],
            "metadata": {
                "language": "sql",
                "azdata_cell_guid": "e1149e2a-927e-47c0-80b0-a7124232d912"
            },
            "attachments": {}
        },
        {
            "cell_type": "code",
            "source": [
                "-- Insert values into the Orders table\n",
                "INSERT INTO Orders (OrderID, ProductName, Quantity, Price)\n",
                "VALUES\n",
                "    (1, 'Laptop', 2, 1200.00),\n",
                "    (2, 'Desk', 1, 150.00),\n",
                "    (3, 'Chair', 4, 80.00),\n",
                "    (4, 'Phone', 3, 500.00),\n",
                "    (5, 'Headphones', 2, 50.00);"
            ],
            "metadata": {
                "language": "sql",
                "azdata_cell_guid": "6c1e2a0c-a4a5-4ea8-ac0d-5660f9c6eab4"
            },
            "outputs": [
                {
                    "output_type": "display_data",
                    "data": {
                        "text/html": "(5 rows affected)"
                    },
                    "metadata": {}
                },
                {
                    "output_type": "display_data",
                    "data": {
                        "text/html": "Total execution time: 00:00:00.018"
                    },
                    "metadata": {}
                }
            ],
            "execution_count": 6
        },
        {
            "cell_type": "code",
            "source": [
                "-- Insert data into EmployeesforWithdemo table\n",
                "INSERT INTO EmployeesforWithdemo (EmployeeID, FirstName, LastName, ManagerID)\n",
                "VALUES\n",
                "    (1, 'Laxman', 'Rathod', NULL),\n",
                "    (2, 'Rajesh', 'Rathod', 1),\n",
                "    (3, 'Padma', 'Chauhan', 2),\n",
                "    (4, 'Sarita', 'Pawar', 2),\n",
                "    (5, 'Vijaylaxmi', 'K', 1),\n",
                "    (6, 'Hari', 'Singh', 3),\n",
                "    (7, 'Abhiram', 'A', 3),\n",
                "    (8, 'Ganga', 'A', 4),\n",
                "    (9, 'Kishan', 'M', 4),\n",
                "    (10, 'Naresh', 'M', 5);"
            ],
            "metadata": {
                "language": "sql",
                "azdata_cell_guid": "766a044e-dc02-4073-9e54-69693fd3cc62"
            },
            "outputs": [
                {
                    "output_type": "display_data",
                    "data": {
                        "text/html": "(10 rows affected)"
                    },
                    "metadata": {}
                },
                {
                    "output_type": "display_data",
                    "data": {
                        "text/html": "Total execution time: 00:00:00.025"
                    },
                    "metadata": {}
                }
            ],
            "execution_count": 13
        },
        {
            "cell_type": "code",
            "source": [
                "SELECT * FROM Orders"
            ],
            "metadata": {
                "language": "sql",
                "azdata_cell_guid": "8ccd7993-519d-4617-b72c-865dc4e7c2d6"
            },
            "outputs": [
                {
                    "output_type": "display_data",
                    "data": {
                        "text/html": "(5 rows affected)"
                    },
                    "metadata": {}
                },
                {
                    "output_type": "display_data",
                    "data": {
                        "text/html": "Total execution time: 00:00:00.014"
                    },
                    "metadata": {}
                },
                {
                    "output_type": "execute_result",
                    "metadata": {},
                    "execution_count": 7,
                    "data": {
                        "application/vnd.dataresource+json": {
                            "schema": {
                                "fields": [
                                    {
                                        "name": "OrderID"
                                    },
                                    {
                                        "name": "ProductName"
                                    },
                                    {
                                        "name": "Quantity"
                                    },
                                    {
                                        "name": "Price"
                                    }
                                ]
                            },
                            "data": [
                                {
                                    "OrderID": "1",
                                    "ProductName": "Laptop",
                                    "Quantity": "2",
                                    "Price": "1200.00"
                                },
                                {
                                    "OrderID": "2",
                                    "ProductName": "Desk",
                                    "Quantity": "1",
                                    "Price": "150.00"
                                },
                                {
                                    "OrderID": "3",
                                    "ProductName": "Chair",
                                    "Quantity": "4",
                                    "Price": "80.00"
                                },
                                {
                                    "OrderID": "4",
                                    "ProductName": "Phone",
                                    "Quantity": "3",
                                    "Price": "500.00"
                                },
                                {
                                    "OrderID": "5",
                                    "ProductName": "Headphones",
                                    "Quantity": "2",
                                    "Price": "50.00"
                                }
                            ]
                        },
                        "text/html": [
                            "<table>",
                            "<tr><th>OrderID</th><th>ProductName</th><th>Quantity</th><th>Price</th></tr>",
                            "<tr><td>1</td><td>Laptop</td><td>2</td><td>1200.00</td></tr>",
                            "<tr><td>2</td><td>Desk</td><td>1</td><td>150.00</td></tr>",
                            "<tr><td>3</td><td>Chair</td><td>4</td><td>80.00</td></tr>",
                            "<tr><td>4</td><td>Phone</td><td>3</td><td>500.00</td></tr>",
                            "<tr><td>5</td><td>Headphones</td><td>2</td><td>50.00</td></tr>",
                            "</table>"
                        ]
                    }
                }
            ],
            "execution_count": 7
        },
        {
            "cell_type": "code",
            "source": [
                "SELECT * FROM EmployeesforWithdemo"
            ],
            "metadata": {
                "language": "sql",
                "azdata_cell_guid": "692c5d57-3706-4246-8dbc-a3c27ffda0e5"
            },
            "outputs": [
                {
                    "output_type": "display_data",
                    "data": {
                        "text/html": "(10 rows affected)"
                    },
                    "metadata": {}
                },
                {
                    "output_type": "display_data",
                    "data": {
                        "text/html": "Total execution time: 00:00:00.016"
                    },
                    "metadata": {}
                },
                {
                    "output_type": "execute_result",
                    "metadata": {},
                    "execution_count": 16,
                    "data": {
                        "application/vnd.dataresource+json": {
                            "schema": {
                                "fields": [
                                    {
                                        "name": "EmployeeID"
                                    },
                                    {
                                        "name": "FirstName"
                                    },
                                    {
                                        "name": "LastName"
                                    },
                                    {
                                        "name": "ManagerID"
                                    }
                                ]
                            },
                            "data": [
                                {
                                    "EmployeeID": "1",
                                    "FirstName": "Laxman",
                                    "LastName": "Rathod",
                                    "ManagerID": "NULL"
                                },
                                {
                                    "EmployeeID": "2",
                                    "FirstName": "Rajesh",
                                    "LastName": "Rathod",
                                    "ManagerID": "1"
                                },
                                {
                                    "EmployeeID": "3",
                                    "FirstName": "Padma",
                                    "LastName": "Chauhan",
                                    "ManagerID": "2"
                                },
                                {
                                    "EmployeeID": "4",
                                    "FirstName": "Sarita",
                                    "LastName": "Pawar",
                                    "ManagerID": "2"
                                },
                                {
                                    "EmployeeID": "5",
                                    "FirstName": "Vijaylaxmi",
                                    "LastName": "K",
                                    "ManagerID": "1"
                                },
                                {
                                    "EmployeeID": "6",
                                    "FirstName": "Hari",
                                    "LastName": "Singh",
                                    "ManagerID": "3"
                                },
                                {
                                    "EmployeeID": "7",
                                    "FirstName": "Abhiram",
                                    "LastName": "A",
                                    "ManagerID": "3"
                                },
                                {
                                    "EmployeeID": "8",
                                    "FirstName": "Ganga",
                                    "LastName": "A",
                                    "ManagerID": "4"
                                },
                                {
                                    "EmployeeID": "9",
                                    "FirstName": "Kishan",
                                    "LastName": "M",
                                    "ManagerID": "4"
                                },
                                {
                                    "EmployeeID": "10",
                                    "FirstName": "Naresh",
                                    "LastName": "M",
                                    "ManagerID": "5"
                                }
                            ]
                        },
                        "text/html": [
                            "<table>",
                            "<tr><th>EmployeeID</th><th>FirstName</th><th>LastName</th><th>ManagerID</th></tr>",
                            "<tr><td>1</td><td>Laxman</td><td>Rathod</td><td>NULL</td></tr>",
                            "<tr><td>2</td><td>Rajesh</td><td>Rathod</td><td>1</td></tr>",
                            "<tr><td>3</td><td>Padma</td><td>Chauhan</td><td>2</td></tr>",
                            "<tr><td>4</td><td>Sarita</td><td>Pawar</td><td>2</td></tr>",
                            "<tr><td>5</td><td>Vijaylaxmi</td><td>K</td><td>1</td></tr>",
                            "<tr><td>6</td><td>Hari</td><td>Singh</td><td>3</td></tr>",
                            "<tr><td>7</td><td>Abhiram</td><td>A</td><td>3</td></tr>",
                            "<tr><td>8</td><td>Ganga</td><td>A</td><td>4</td></tr>",
                            "<tr><td>9</td><td>Kishan</td><td>M</td><td>4</td></tr>",
                            "<tr><td>10</td><td>Naresh</td><td>M</td><td>5</td></tr>",
                            "</table>"
                        ]
                    }
                }
            ],
            "execution_count": 16
        },
        {
            "cell_type": "markdown",
            "source": [
                "### 3. Understanding the WITH Statement:\n",
                "\n",
                "- In SQL, the WITH statement, also known as a Common Table Expression (CTE), is used to define a temporary result set that can be referred to within the context of a SELECT, INSERT, UPDATE, or DELETE statement.\n",
                "\n",
                "- It's like creating temporary tables on the fly, but without the overhead of physical storage.\n",
                "- CTEs can be used multiple times within the same query, making complex queries more readable and maintainable."
            ],
            "metadata": {
                "language": "sql",
                "azdata_cell_guid": "e8297c41-b90a-4c7d-a5fa-7e9d20248942"
            },
            "attachments": {}
        },
        {
            "cell_type": "markdown",
            "source": [
                "### 4. Types of WITH Statements"
            ],
            "metadata": {
                "language": "sql",
                "azdata_cell_guid": "8ba14a01-f95b-4c60-bb87-7992d46d8b6e"
            },
            "attachments": {}
        },
        {
            "cell_type": "markdown",
            "source": [
                "#### a. Simple CTE or Non-Recursive CTEs\n",
                "\n",
                "- Used for simpler scenarios, acting as temporary tables within a query.\n",
                "\n",
                "```sql\n",
                "-- Syntax\n",
                "WITH CTE_Name (Column1, Column2, ...) AS (\n",
                "    SELECT Column1, Column2, ...\n",
                "    FROM YourTable\n",
                ")\n",
                "SELECT *\n",
                "FROM CTE_Name;\n",
                "```"
            ],
            "metadata": {
                "language": "sql",
                "azdata_cell_guid": "0ae25a8d-3281-4ae2-a158-b0d67c1be1b4"
            },
            "attachments": {}
        },
        {
            "cell_type": "code",
            "source": [
                "-- Example\n",
                "WITH OrderCTE (ProductName, TotalPrice) AS (\n",
                "    SELECT ProductName, Quantity * Price AS TotalPrice\n",
                "    FROM Orders\n",
                ")\n",
                "SELECT *\n",
                "FROM OrderCTE;"
            ],
            "metadata": {
                "language": "sql",
                "azdata_cell_guid": "86bfc100-58b8-4fe1-af5f-c0664f4a102f"
            },
            "outputs": [
                {
                    "output_type": "display_data",
                    "data": {
                        "text/html": "(5 rows affected)"
                    },
                    "metadata": {}
                },
                {
                    "output_type": "display_data",
                    "data": {
                        "text/html": "Total execution time: 00:00:00.020"
                    },
                    "metadata": {}
                },
                {
                    "output_type": "execute_result",
                    "metadata": {},
                    "execution_count": 8,
                    "data": {
                        "application/vnd.dataresource+json": {
                            "schema": {
                                "fields": [
                                    {
                                        "name": "ProductName"
                                    },
                                    {
                                        "name": "TotalPrice"
                                    }
                                ]
                            },
                            "data": [
                                {
                                    "ProductName": "Laptop",
                                    "TotalPrice": "2400.00"
                                },
                                {
                                    "ProductName": "Desk",
                                    "TotalPrice": "150.00"
                                },
                                {
                                    "ProductName": "Chair",
                                    "TotalPrice": "320.00"
                                },
                                {
                                    "ProductName": "Phone",
                                    "TotalPrice": "1500.00"
                                },
                                {
                                    "ProductName": "Headphones",
                                    "TotalPrice": "100.00"
                                }
                            ]
                        },
                        "text/html": [
                            "<table>",
                            "<tr><th>ProductName</th><th>TotalPrice</th></tr>",
                            "<tr><td>Laptop</td><td>2400.00</td></tr>",
                            "<tr><td>Desk</td><td>150.00</td></tr>",
                            "<tr><td>Chair</td><td>320.00</td></tr>",
                            "<tr><td>Phone</td><td>1500.00</td></tr>",
                            "<tr><td>Headphones</td><td>100.00</td></tr>",
                            "</table>"
                        ]
                    }
                }
            ],
            "execution_count": 8
        },
        {
            "cell_type": "markdown",
            "source": [
                "#### b. Recursive CTEs\n",
                "\n",
                "- Allow self-referencing, enabling hierarchical data processing (e.g., tree structures, adjacency lists).\n",
                "\n",
                "```sql\n",
                "-- Syntax\n",
                "WITH RecursiveCTE (Column1, Column2, ...) AS (\n",
                "    SELECT AnchorQuery\n",
                "    UNION ALL\n",
                "    SELECT RecursiveQuery\n",
                "    FROM RecursiveCTE\n",
                "    WHERE Condition\n",
                ")\n",
                "SELECT *\n",
                "FROM RecursiveCTE;\n",
                "```\n",
                "\n",
                ""
            ],
            "metadata": {
                "language": "sql",
                "azdata_cell_guid": "a985488c-3b55-4bd7-aa1e-49d7df82253e"
            },
            "attachments": {}
        },
        {
            "cell_type": "code",
            "source": [
                "-- Example\n",
                "WITH RecursiveEmployeeCTE (ManagerID, EmployeeID, EmployeeName, Level) AS (\n",
                "    SELECT NULL, EmployeeID, FirstName + ' ' + LastName, 0\n",
                "    FROM EmployeesforWithdemo\n",
                "    WHERE ManagerID IS NULL\n",
                "    UNION ALL\n",
                "    SELECT e.ManagerID, e.EmployeeID, e.FirstName + ' ' + e.LastName, c.Level + 1\n",
                "    FROM EmployeesforWithdemo e\n",
                "    INNER JOIN RecursiveEmployeeCTE c ON e.ManagerID = c.EmployeeID\n",
                ")\n",
                "SELECT *\n",
                "FROM RecursiveEmployeeCTE;"
            ],
            "metadata": {
                "language": "sql",
                "azdata_cell_guid": "6d1bdbfc-754f-4706-be24-976ef13c5573"
            },
            "outputs": [
                {
                    "output_type": "display_data",
                    "data": {
                        "text/html": "(10 rows affected)"
                    },
                    "metadata": {}
                },
                {
                    "output_type": "display_data",
                    "data": {
                        "text/html": "Total execution time: 00:00:00.050"
                    },
                    "metadata": {}
                },
                {
                    "output_type": "execute_result",
                    "metadata": {},
                    "execution_count": 14,
                    "data": {
                        "application/vnd.dataresource+json": {
                            "schema": {
                                "fields": [
                                    {
                                        "name": "ManagerID"
                                    },
                                    {
                                        "name": "EmployeeID"
                                    },
                                    {
                                        "name": "EmployeeName"
                                    },
                                    {
                                        "name": "Level"
                                    }
                                ]
                            },
                            "data": [
                                {
                                    "ManagerID": "NULL",
                                    "EmployeeID": "1",
                                    "EmployeeName": "Laxman Rathod",
                                    "Level": "0"
                                },
                                {
                                    "ManagerID": "1",
                                    "EmployeeID": "2",
                                    "EmployeeName": "Rajesh Rathod",
                                    "Level": "1"
                                },
                                {
                                    "ManagerID": "1",
                                    "EmployeeID": "5",
                                    "EmployeeName": "Vijaylaxmi K",
                                    "Level": "1"
                                },
                                {
                                    "ManagerID": "5",
                                    "EmployeeID": "10",
                                    "EmployeeName": "Naresh M",
                                    "Level": "2"
                                },
                                {
                                    "ManagerID": "2",
                                    "EmployeeID": "3",
                                    "EmployeeName": "Padma Chauhan",
                                    "Level": "2"
                                },
                                {
                                    "ManagerID": "2",
                                    "EmployeeID": "4",
                                    "EmployeeName": "Sarita Pawar",
                                    "Level": "2"
                                },
                                {
                                    "ManagerID": "4",
                                    "EmployeeID": "8",
                                    "EmployeeName": "Ganga A",
                                    "Level": "3"
                                },
                                {
                                    "ManagerID": "4",
                                    "EmployeeID": "9",
                                    "EmployeeName": "Kishan M",
                                    "Level": "3"
                                },
                                {
                                    "ManagerID": "3",
                                    "EmployeeID": "6",
                                    "EmployeeName": "Hari Singh",
                                    "Level": "3"
                                },
                                {
                                    "ManagerID": "3",
                                    "EmployeeID": "7",
                                    "EmployeeName": "Abhiram A",
                                    "Level": "3"
                                }
                            ]
                        },
                        "text/html": [
                            "<table>",
                            "<tr><th>ManagerID</th><th>EmployeeID</th><th>EmployeeName</th><th>Level</th></tr>",
                            "<tr><td>NULL</td><td>1</td><td>Laxman Rathod</td><td>0</td></tr>",
                            "<tr><td>1</td><td>2</td><td>Rajesh Rathod</td><td>1</td></tr>",
                            "<tr><td>1</td><td>5</td><td>Vijaylaxmi K</td><td>1</td></tr>",
                            "<tr><td>5</td><td>10</td><td>Naresh M</td><td>2</td></tr>",
                            "<tr><td>2</td><td>3</td><td>Padma Chauhan</td><td>2</td></tr>",
                            "<tr><td>2</td><td>4</td><td>Sarita Pawar</td><td>2</td></tr>",
                            "<tr><td>4</td><td>8</td><td>Ganga A</td><td>3</td></tr>",
                            "<tr><td>4</td><td>9</td><td>Kishan M</td><td>3</td></tr>",
                            "<tr><td>3</td><td>6</td><td>Hari Singh</td><td>3</td></tr>",
                            "<tr><td>3</td><td>7</td><td>Abhiram A</td><td>3</td></tr>",
                            "</table>"
                        ]
                    }
                }
            ],
            "execution_count": 14
        },
        {
            "cell_type": "markdown",
            "source": [
                "### 5. Practical Applications :\n",
                "\n",
                "- **Data Transformation:** Simplifying complex data transformations by breaking them into manageable steps.\n",
                "- **Recursive Queries:** Handling hierarchical or tree-structured data, such as organizational charts or bill of materials.\n",
                "- **Code Readability:** Improving code readability by organizing complex queries into named CTEs\n",
                "- Reusing intermediate results multiple times."
            ],
            "metadata": {
                "language": "sql",
                "azdata_cell_guid": "0039e262-3081-48a8-b7fb-c410a6fc0966"
            },
            "attachments": {}
        },
        {
            "cell_type": "markdown",
            "source": [
                "### 6. Considerations\n",
                "\n",
                "- **Scope:** CTEs are only accessible within the statement in which they are defined.\n",
                "- **Performance:** Proper indexing and optimization are crucial for optimal performance.\n",
                "- Use recursion carefully to avoid infinite loops."
            ],
            "metadata": {
                "language": "",
                "azdata_cell_guid": "3bf1729f-3f9e-4f1d-ad9e-14efa11e13a5"
            },
            "attachments": {}
        },
        {
            "cell_type": "markdown",
            "source": [
                "### 7. Most common mistakes done while using WITH Statements\n",
                "\n",
                "- **Incorrect Syntax:** Missing or misplacing keywords like WITH, AS, SELECT, UNION ALL in the CTE definition.\n",
                "- **Unoptimized Recursive Queries:** Recursive CTEs should be used cautiously to avoid performance issues, especially in large datasets.\n",
                "- Trying to reference a CTE outside its scope.\n",
                "- Creating overly complex or inefficient CTEs."
            ],
            "metadata": {
                "azdata_cell_guid": "618672fd-af49-430f-bc75-94e2c82834c6"
            },
            "attachments": {}
        },
        {
            "cell_type": "markdown",
            "source": [
                "### 8. Hands On\n",
                "\n",
                "#### Question 1:\n",
                "Create a CTE named `TotalOrdersCTE` to calculate the total price for each product.\n",
                "\n",
                "#### Solution:"
            ],
            "metadata": {
                "azdata_cell_guid": "7eabfecf-8781-4253-a089-0b71c74b88d7"
            },
            "attachments": {}
        },
        {
            "cell_type": "code",
            "source": [
                "WITH TotalOrdersCTE (ProductName, TotalPrice) AS (\n",
                "    SELECT ProductName, Quantity * Price AS TotalPrice\n",
                "    FROM Orders\n",
                ")\n",
                "SELECT *\n",
                "FROM TotalOrdersCTE;"
            ],
            "metadata": {
                "azdata_cell_guid": "e2536176-1ec5-4b70-919e-4f7e23697602",
                "language": "sql"
            },
            "outputs": [
                {
                    "output_type": "display_data",
                    "data": {
                        "text/html": "(5 rows affected)"
                    },
                    "metadata": {}
                },
                {
                    "output_type": "display_data",
                    "data": {
                        "text/html": "Total execution time: 00:00:00.022"
                    },
                    "metadata": {}
                },
                {
                    "output_type": "execute_result",
                    "metadata": {},
                    "execution_count": 9,
                    "data": {
                        "application/vnd.dataresource+json": {
                            "schema": {
                                "fields": [
                                    {
                                        "name": "ProductName"
                                    },
                                    {
                                        "name": "TotalPrice"
                                    }
                                ]
                            },
                            "data": [
                                {
                                    "ProductName": "Laptop",
                                    "TotalPrice": "2400.00"
                                },
                                {
                                    "ProductName": "Desk",
                                    "TotalPrice": "150.00"
                                },
                                {
                                    "ProductName": "Chair",
                                    "TotalPrice": "320.00"
                                },
                                {
                                    "ProductName": "Phone",
                                    "TotalPrice": "1500.00"
                                },
                                {
                                    "ProductName": "Headphones",
                                    "TotalPrice": "100.00"
                                }
                            ]
                        },
                        "text/html": [
                            "<table>",
                            "<tr><th>ProductName</th><th>TotalPrice</th></tr>",
                            "<tr><td>Laptop</td><td>2400.00</td></tr>",
                            "<tr><td>Desk</td><td>150.00</td></tr>",
                            "<tr><td>Chair</td><td>320.00</td></tr>",
                            "<tr><td>Phone</td><td>1500.00</td></tr>",
                            "<tr><td>Headphones</td><td>100.00</td></tr>",
                            "</table>"
                        ]
                    }
                }
            ],
            "execution_count": 9
        },
        {
            "cell_type": "markdown",
            "source": [
                "#### Question 2:\n",
                "Create a recursive CTE named `EmployeeHierarchyCTE` to represent the hierarchy of employees in the 'Employees' table.\n",
                "\n",
                "#### Solution:"
            ],
            "metadata": {
                "language": "sql",
                "azdata_cell_guid": "71e66b12-3466-4985-900e-24084ce4f7ad"
            },
            "attachments": {}
        },
        {
            "cell_type": "code",
            "source": [
                "WITH RecursiveEmployeeCTE (ManagerID, EmployeeID, EmployeeName, Level) AS (\n",
                "    SELECT NULL, EmployeeID, FirstName + ' ' + LastName, 0\n",
                "    FROM EmployeesforWithdemo\n",
                "    WHERE ManagerID IS NULL\n",
                "    UNION ALL\n",
                "    SELECT e.ManagerID, e.EmployeeID, e.FirstName + ' ' + e.LastName, c.Level + 1\n",
                "    FROM EmployeesforWithdemo e\n",
                "    INNER JOIN RecursiveEmployeeCTE c ON e.ManagerID = c.EmployeeID\n",
                ")\n",
                "SELECT *\n",
                "FROM RecursiveEmployeeCTE;"
            ],
            "metadata": {
                "language": "sql",
                "azdata_cell_guid": "3633bb25-ce6e-43f8-82a2-426b0dd810c3"
            },
            "outputs": [
                {
                    "output_type": "display_data",
                    "data": {
                        "text/html": "(10 rows affected)"
                    },
                    "metadata": {}
                },
                {
                    "output_type": "display_data",
                    "data": {
                        "text/html": "Total execution time: 00:00:00.016"
                    },
                    "metadata": {}
                },
                {
                    "output_type": "execute_result",
                    "metadata": {},
                    "execution_count": 15,
                    "data": {
                        "application/vnd.dataresource+json": {
                            "schema": {
                                "fields": [
                                    {
                                        "name": "ManagerID"
                                    },
                                    {
                                        "name": "EmployeeID"
                                    },
                                    {
                                        "name": "EmployeeName"
                                    },
                                    {
                                        "name": "Level"
                                    }
                                ]
                            },
                            "data": [
                                {
                                    "ManagerID": "NULL",
                                    "EmployeeID": "1",
                                    "EmployeeName": "Laxman Rathod",
                                    "Level": "0"
                                },
                                {
                                    "ManagerID": "1",
                                    "EmployeeID": "2",
                                    "EmployeeName": "Rajesh Rathod",
                                    "Level": "1"
                                },
                                {
                                    "ManagerID": "1",
                                    "EmployeeID": "5",
                                    "EmployeeName": "Vijaylaxmi K",
                                    "Level": "1"
                                },
                                {
                                    "ManagerID": "5",
                                    "EmployeeID": "10",
                                    "EmployeeName": "Naresh M",
                                    "Level": "2"
                                },
                                {
                                    "ManagerID": "2",
                                    "EmployeeID": "3",
                                    "EmployeeName": "Padma Chauhan",
                                    "Level": "2"
                                },
                                {
                                    "ManagerID": "2",
                                    "EmployeeID": "4",
                                    "EmployeeName": "Sarita Pawar",
                                    "Level": "2"
                                },
                                {
                                    "ManagerID": "4",
                                    "EmployeeID": "8",
                                    "EmployeeName": "Ganga A",
                                    "Level": "3"
                                },
                                {
                                    "ManagerID": "4",
                                    "EmployeeID": "9",
                                    "EmployeeName": "Kishan M",
                                    "Level": "3"
                                },
                                {
                                    "ManagerID": "3",
                                    "EmployeeID": "6",
                                    "EmployeeName": "Hari Singh",
                                    "Level": "3"
                                },
                                {
                                    "ManagerID": "3",
                                    "EmployeeID": "7",
                                    "EmployeeName": "Abhiram A",
                                    "Level": "3"
                                }
                            ]
                        },
                        "text/html": [
                            "<table>",
                            "<tr><th>ManagerID</th><th>EmployeeID</th><th>EmployeeName</th><th>Level</th></tr>",
                            "<tr><td>NULL</td><td>1</td><td>Laxman Rathod</td><td>0</td></tr>",
                            "<tr><td>1</td><td>2</td><td>Rajesh Rathod</td><td>1</td></tr>",
                            "<tr><td>1</td><td>5</td><td>Vijaylaxmi K</td><td>1</td></tr>",
                            "<tr><td>5</td><td>10</td><td>Naresh M</td><td>2</td></tr>",
                            "<tr><td>2</td><td>3</td><td>Padma Chauhan</td><td>2</td></tr>",
                            "<tr><td>2</td><td>4</td><td>Sarita Pawar</td><td>2</td></tr>",
                            "<tr><td>4</td><td>8</td><td>Ganga A</td><td>3</td></tr>",
                            "<tr><td>4</td><td>9</td><td>Kishan M</td><td>3</td></tr>",
                            "<tr><td>3</td><td>6</td><td>Hari Singh</td><td>3</td></tr>",
                            "<tr><td>3</td><td>7</td><td>Abhiram A</td><td>3</td></tr>",
                            "</table>"
                        ]
                    }
                }
            ],
            "execution_count": 15
        },
        {
            "cell_type": "markdown",
            "source": [
                "### 9. Practice Exercise\n",
                "\n",
                "#### Question 1:\n",
                "Create a CTE named `ProductsWithHighQuantityCTE` to select products with a quantity higher than 2.\n",
                "\n",
                "#### Question 2:\n",
                "Create a CTE named `ExpensiveProductsCTE` to select products with a price higher than $100.\n",
                "\n",
                "#### Question 3:\n",
                "Create a recursive CTE named `ManagerSubordinatesCTE` to represent the hierarchy of managers and their subordinates in the 'Employees' table."
            ],
            "metadata": {
                "language": "sql",
                "azdata_cell_guid": "2c64f996-ec22-43a9-83af-fcaf4e942306"
            },
            "attachments": {}
        },
        {
            "cell_type": "markdown",
            "source": [
                "### 10. Extra Innings\n",
                "\n",
                "#### When to use WITH\n",
                "- When u use aggregate function using GROUP BY along with one or more column in SELECT Statement and based on the resultset u want to apply one more condition on the resultset"
            ],
            "metadata": {
                "language": "sql",
                "azdata_cell_guid": "e3a74083-81eb-43af-8c6c-41f1226e0c3c"
            },
            "attachments": {}
        }
    ]
}