{
    "metadata": {
        "kernelspec": {
            "name": "SQL",
            "display_name": "SQL",
            "language": "sql"
        },
        "language_info": {
            "name": "sql",
            "version": ""
        }
    },
    "nbformat_minor": 2,
    "nbformat": 4,
    "cells": [
        {
            "cell_type": "markdown",
            "source": [
                "# **Data Science Learners Hub**\n",
                "\n",
                "**Module : SQL**\n",
                "\n",
                "**Topic :** **Playground**\n",
                "\n",
                "**email** : [datasciencelearnershub@gmail.com](mailto:datasciencelearnershub@gmail.com)"
            ],
            "metadata": {
                "azdata_cell_guid": "b0adb209-d56d-41c0-8557-ee1bb25c5ab0"
            },
            "attachments": {}
        },
        {
            "cell_type": "code",
            "source": [
                "USE DataScienceLearnersHub"
            ],
            "metadata": {
                "azdata_cell_guid": "6235ad71-975b-4e7d-94b7-1952224c9d83",
                "language": "sql"
            },
            "outputs": [
                {
                    "output_type": "display_data",
                    "data": {
                        "text/html": "Commands completed successfully."
                    },
                    "metadata": {}
                },
                {
                    "output_type": "display_data",
                    "data": {
                        "text/html": "Total execution time: 00:00:00.005"
                    },
                    "metadata": {}
                }
            ],
            "execution_count": 1
        },
        {
            "cell_type": "code",
            "source": [
                "SELECT * FROM Emp"
            ],
            "metadata": {
                "language": "sql",
                "azdata_cell_guid": "9a45fb29-4e52-4ad2-9ed3-be483490502c"
            },
            "outputs": [
                {
                    "output_type": "display_data",
                    "data": {
                        "text/html": "(12 rows affected)"
                    },
                    "metadata": {}
                },
                {
                    "output_type": "display_data",
                    "data": {
                        "text/html": "Total execution time: 00:00:00.055"
                    },
                    "metadata": {}
                },
                {
                    "output_type": "execute_result",
                    "metadata": {},
                    "execution_count": 2,
                    "data": {
                        "application/vnd.dataresource+json": {
                            "schema": {
                                "fields": [
                                    {
                                        "name": "id"
                                    },
                                    {
                                        "name": "name"
                                    },
                                    {
                                        "name": "age"
                                    },
                                    {
                                        "name": "gender"
                                    },
                                    {
                                        "name": "salary"
                                    },
                                    {
                                        "name": "department"
                                    },
                                    {
                                        "name": "MonthlySalary"
                                    },
                                    {
                                        "name": "EmailAddress"
                                    },
                                    {
                                        "name": "FullName"
                                    }
                                ]
                            },
                            "data": [
                                {
                                    "id": "1",
                                    "name": "Rajesh",
                                    "age": "30",
                                    "gender": "Male",
                                    "salary": "60000.00",
                                    "department": "IT",
                                    "MonthlySalary": "5000.000000",
                                    "EmailAddress": "Rajesh_1@company.com",
                                    "FullName": "Rajesh IT"
                                },
                                {
                                    "id": "3",
                                    "name": "Laxman",
                                    "age": "35",
                                    "gender": "Male",
                                    "salary": "70000.75",
                                    "department": "Finance",
                                    "MonthlySalary": "5833.395833",
                                    "EmailAddress": "Laxman_3@company.com",
                                    "FullName": "Laxman Finance"
                                },
                                {
                                    "id": "4",
                                    "name": "Ganga",
                                    "age": "28",
                                    "gender": "Female",
                                    "salary": "48000.25",
                                    "department": "Marketing",
                                    "MonthlySalary": "4000.020833",
                                    "EmailAddress": "Ganga_4@company.com",
                                    "FullName": "Ganga Marketing"
                                },
                                {
                                    "id": "5",
                                    "name": "Nikhil",
                                    "age": "32",
                                    "gender": "Male",
                                    "salary": "72000.00",
                                    "department": "IT",
                                    "MonthlySalary": "6000.000000",
                                    "EmailAddress": "Nikhil_5@company.com",
                                    "FullName": "Nikhil IT"
                                },
                                {
                                    "id": "6",
                                    "name": "Sarita",
                                    "age": "29",
                                    "gender": "Female",
                                    "salary": "58000.75",
                                    "department": "HR",
                                    "MonthlySalary": "4833.395833",
                                    "EmailAddress": "Sarita_6@company.com",
                                    "FullName": "Sarita HR"
                                },
                                {
                                    "id": "7",
                                    "name": "Bunny",
                                    "age": "40",
                                    "gender": "Male",
                                    "salary": "85000.50",
                                    "department": "Finance",
                                    "MonthlySalary": "7083.375000",
                                    "EmailAddress": "Bunny_7@company.com",
                                    "FullName": "Bunny Finance"
                                },
                                {
                                    "id": "8",
                                    "name": "Namrata",
                                    "age": "26",
                                    "gender": "Female",
                                    "salary": "50000.50",
                                    "department": "Marketing",
                                    "MonthlySalary": "4166.708333",
                                    "EmailAddress": "Namrata_8@company.com",
                                    "FullName": "Namrata Marketing"
                                },
                                {
                                    "id": "9",
                                    "name": "Abhiram",
                                    "age": "38",
                                    "gender": "Male",
                                    "salary": "78000.25",
                                    "department": "IT",
                                    "MonthlySalary": "6500.020833",
                                    "EmailAddress": "Abhiram_9@company.com",
                                    "FullName": "Abhiram IT"
                                },
                                {
                                    "id": "10",
                                    "name": "Tikram",
                                    "age": "31",
                                    "gender": "Female",
                                    "salary": "62000.00",
                                    "department": "Finance",
                                    "MonthlySalary": "5166.666666",
                                    "EmailAddress": "Tikram_10@company.com",
                                    "FullName": "Tikram Finance"
                                },
                                {
                                    "id": "11",
                                    "name": "Ramulu",
                                    "age": "58",
                                    "gender": "Male",
                                    "salary": "178000.25",
                                    "department": "IT",
                                    "MonthlySalary": "14833.354166",
                                    "EmailAddress": "Ramulu_11@company.com",
                                    "FullName": "Ramulu IT"
                                },
                                {
                                    "id": "12",
                                    "name": "Bala",
                                    "age": "51",
                                    "gender": "Female",
                                    "salary": "162000.00",
                                    "department": "Finance",
                                    "MonthlySalary": "13500.000000",
                                    "EmailAddress": "Bala_12@company.com",
                                    "FullName": "Bala Finance"
                                },
                                {
                                    "id": "16",
                                    "name": "Arjun",
                                    "age": "31",
                                    "gender": "NULL",
                                    "salary": "NULL",
                                    "department": "NULL",
                                    "MonthlySalary": "NULL",
                                    "EmailAddress": "Arjun_16@company.com",
                                    "FullName": "Arjun "
                                }
                            ]
                        },
                        "text/html": [
                            "<table>",
                            "<tr><th>id</th><th>name</th><th>age</th><th>gender</th><th>salary</th><th>department</th><th>MonthlySalary</th><th>EmailAddress</th><th>FullName</th></tr>",
                            "<tr><td>1</td><td>Rajesh</td><td>30</td><td>Male</td><td>60000.00</td><td>IT</td><td>5000.000000</td><td>Rajesh_1@company.com</td><td>Rajesh IT</td></tr>",
                            "<tr><td>3</td><td>Laxman</td><td>35</td><td>Male</td><td>70000.75</td><td>Finance</td><td>5833.395833</td><td>Laxman_3@company.com</td><td>Laxman Finance</td></tr>",
                            "<tr><td>4</td><td>Ganga</td><td>28</td><td>Female</td><td>48000.25</td><td>Marketing</td><td>4000.020833</td><td>Ganga_4@company.com</td><td>Ganga Marketing</td></tr>",
                            "<tr><td>5</td><td>Nikhil</td><td>32</td><td>Male</td><td>72000.00</td><td>IT</td><td>6000.000000</td><td>Nikhil_5@company.com</td><td>Nikhil IT</td></tr>",
                            "<tr><td>6</td><td>Sarita</td><td>29</td><td>Female</td><td>58000.75</td><td>HR</td><td>4833.395833</td><td>Sarita_6@company.com</td><td>Sarita HR</td></tr>",
                            "<tr><td>7</td><td>Bunny</td><td>40</td><td>Male</td><td>85000.50</td><td>Finance</td><td>7083.375000</td><td>Bunny_7@company.com</td><td>Bunny Finance</td></tr>",
                            "<tr><td>8</td><td>Namrata</td><td>26</td><td>Female</td><td>50000.50</td><td>Marketing</td><td>4166.708333</td><td>Namrata_8@company.com</td><td>Namrata Marketing</td></tr>",
                            "<tr><td>9</td><td>Abhiram</td><td>38</td><td>Male</td><td>78000.25</td><td>IT</td><td>6500.020833</td><td>Abhiram_9@company.com</td><td>Abhiram IT</td></tr>",
                            "<tr><td>10</td><td>Tikram</td><td>31</td><td>Female</td><td>62000.00</td><td>Finance</td><td>5166.666666</td><td>Tikram_10@company.com</td><td>Tikram Finance</td></tr>",
                            "<tr><td>11</td><td>Ramulu</td><td>58</td><td>Male</td><td>178000.25</td><td>IT</td><td>14833.354166</td><td>Ramulu_11@company.com</td><td>Ramulu IT</td></tr>",
                            "<tr><td>12</td><td>Bala</td><td>51</td><td>Female</td><td>162000.00</td><td>Finance</td><td>13500.000000</td><td>Bala_12@company.com</td><td>Bala Finance</td></tr>",
                            "<tr><td>16</td><td>Arjun</td><td>31</td><td>NULL</td><td>NULL</td><td>NULL</td><td>NULL</td><td>Arjun_16@company.com</td><td>Arjun </td></tr>",
                            "</table>"
                        ]
                    }
                }
            ],
            "execution_count": 2
        },
        {
            "cell_type": "code",
            "source": [
                "CREATE TABLE delete_me\n",
                "    (\n",
                "        ename VARCHAR(20),\n",
                "        age INT\n",
                "    )\n",
                "   "
            ],
            "metadata": {
                "language": "sql",
                "azdata_cell_guid": "d0cf05d2-937e-4686-9829-627d72c38b1d"
            },
            "outputs": [
                {
                    "output_type": "display_data",
                    "data": {
                        "text/html": "Commands completed successfully."
                    },
                    "metadata": {}
                },
                {
                    "output_type": "display_data",
                    "data": {
                        "text/html": "Total execution time: 00:00:00.019"
                    },
                    "metadata": {}
                }
            ],
            "execution_count": 4
        },
        {
            "cell_type": "code",
            "source": [
                "INSERT INTO delete_me\n",
                "SELECT name, age FROM Emp"
            ],
            "metadata": {
                "language": "sql",
                "azdata_cell_guid": "425725d2-f1cd-4c5c-b2b9-d07a8df055ad"
            },
            "outputs": [
                {
                    "output_type": "display_data",
                    "data": {
                        "text/html": "(12 rows affected)"
                    },
                    "metadata": {}
                },
                {
                    "output_type": "display_data",
                    "data": {
                        "text/html": "Total execution time: 00:00:00.019"
                    },
                    "metadata": {}
                }
            ],
            "execution_count": 5
        },
        {
            "cell_type": "code",
            "source": [
                "INSERT INTO delete_me(ename)\n",
                "SELECT name FROM Emp"
            ],
            "metadata": {
                "language": "sql",
                "azdata_cell_guid": "0c2a5b47-ddab-4aa7-aa7b-d9332cda52a2",
                "tags": []
            },
            "outputs": [
                {
                    "output_type": "display_data",
                    "data": {
                        "text/html": "(12 rows affected)"
                    },
                    "metadata": {}
                },
                {
                    "output_type": "display_data",
                    "data": {
                        "text/html": "Total execution time: 00:00:00.020"
                    },
                    "metadata": {}
                }
            ],
            "execution_count": 7
        }
    ]
}