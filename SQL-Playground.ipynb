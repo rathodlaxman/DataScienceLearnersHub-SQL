{
    "metadata": {
        "kernelspec": {
            "name": "SQL",
            "display_name": "SQL",
            "language": "sql"
        },
        "language_info": {
            "name": "sql",
            "version": ""
        }
    },
    "nbformat_minor": 2,
    "nbformat": 4,
    "cells": [
        {
            "cell_type": "markdown",
            "source": [
                "# **Data Science Learners Hub**\n",
                "\n",
                "**Module : SQL**\n",
                "\n",
                "**Topic :** **Playground**\n",
                "\n",
                "**email** : [datasciencelearnershub@gmail.com](mailto:datasciencelearnershub@gmail.com)"
            ],
            "metadata": {
                "azdata_cell_guid": "b0adb209-d56d-41c0-8557-ee1bb25c5ab0"
            },
            "attachments": {}
        },
        {
            "cell_type": "code",
            "source": [
                "USE DataScienceLearnersHub"
            ],
            "metadata": {
                "azdata_cell_guid": "6235ad71-975b-4e7d-94b7-1952224c9d83",
                "language": "sql"
            },
            "outputs": [
                {
                    "output_type": "display_data",
                    "data": {
                        "text/html": "Commands completed successfully."
                    },
                    "metadata": {}
                },
                {
                    "output_type": "display_data",
                    "data": {
                        "text/html": "Total execution time: 00:00:00.005"
                    },
                    "metadata": {}
                }
            ],
            "execution_count": 1
        },
        {
            "cell_type": "code",
            "source": [
                "SELECT * FROM Emp"
            ],
            "metadata": {
                "language": "sql",
                "azdata_cell_guid": "9a45fb29-4e52-4ad2-9ed3-be483490502c"
            },
            "outputs": [
                {
                    "output_type": "display_data",
                    "data": {
                        "text/html": "(12 rows affected)"
                    },
                    "metadata": {}
                },
                {
                    "output_type": "display_data",
                    "data": {
                        "text/html": "Total execution time: 00:00:00.055"
                    },
                    "metadata": {}
                },
                {
                    "output_type": "execute_result",
                    "execution_count": 2,
                    "data": {
                        "application/vnd.dataresource+json": {
                            "schema": {
                                "fields": [
                                    {
                                        "name": "id"
                                    },
                                    {
                                        "name": "name"
                                    },
                                    {
                                        "name": "age"
                                    },
                                    {
                                        "name": "gender"
                                    },
                                    {
                                        "name": "salary"
                                    },
                                    {
                                        "name": "department"
                                    },
                                    {
                                        "name": "MonthlySalary"
                                    },
                                    {
                                        "name": "EmailAddress"
                                    },
                                    {
                                        "name": "FullName"
                                    }
                                ]
                            },
                            "data": [
                                {
                                    "id": "1",
                                    "name": "Rajesh",
                                    "age": "30",
                                    "gender": "Male",
                                    "salary": "60000.00",
                                    "department": "IT",
                                    "MonthlySalary": "5000.000000",
                                    "EmailAddress": "Rajesh_1@company.com",
                                    "FullName": "Rajesh IT"
                                },
                                {
                                    "id": "3",
                                    "name": "Laxman",
                                    "age": "35",
                                    "gender": "Male",
                                    "salary": "70000.75",
                                    "department": "Finance",
                                    "MonthlySalary": "5833.395833",
                                    "EmailAddress": "Laxman_3@company.com",
                                    "FullName": "Laxman Finance"
                                },
                                {
                                    "id": "4",
                                    "name": "Ganga",
                                    "age": "28",
                                    "gender": "Female",
                                    "salary": "48000.25",
                                    "department": "Marketing",
                                    "MonthlySalary": "4000.020833",
                                    "EmailAddress": "Ganga_4@company.com",
                                    "FullName": "Ganga Marketing"
                                },
                                {
                                    "id": "5",
                                    "name": "Nikhil",
                                    "age": "32",
                                    "gender": "Male",
                                    "salary": "72000.00",
                                    "department": "IT",
                                    "MonthlySalary": "6000.000000",
                                    "EmailAddress": "Nikhil_5@company.com",
                                    "FullName": "Nikhil IT"
                                },
                                {
                                    "id": "6",
                                    "name": "Sarita",
                                    "age": "29",
                                    "gender": "Female",
                                    "salary": "58000.75",
                                    "department": "HR",
                                    "MonthlySalary": "4833.395833",
                                    "EmailAddress": "Sarita_6@company.com",
                                    "FullName": "Sarita HR"
                                },
                                {
                                    "id": "7",
                                    "name": "Bunny",
                                    "age": "40",
                                    "gender": "Male",
                                    "salary": "85000.50",
                                    "department": "Finance",
                                    "MonthlySalary": "7083.375000",
                                    "EmailAddress": "Bunny_7@company.com",
                                    "FullName": "Bunny Finance"
                                },
                                {
                                    "id": "8",
                                    "name": "Namrata",
                                    "age": "26",
                                    "gender": "Female",
                                    "salary": "50000.50",
                                    "department": "Marketing",
                                    "MonthlySalary": "4166.708333",
                                    "EmailAddress": "Namrata_8@company.com",
                                    "FullName": "Namrata Marketing"
                                },
                                {
                                    "id": "9",
                                    "name": "Abhiram",
                                    "age": "38",
                                    "gender": "Male",
                                    "salary": "78000.25",
                                    "department": "IT",
                                    "MonthlySalary": "6500.020833",
                                    "EmailAddress": "Abhiram_9@company.com",
                                    "FullName": "Abhiram IT"
                                },
                                {
                                    "id": "10",
                                    "name": "Tikram",
                                    "age": "31",
                                    "gender": "Female",
                                    "salary": "62000.00",
                                    "department": "Finance",
                                    "MonthlySalary": "5166.666666",
                                    "EmailAddress": "Tikram_10@company.com",
                                    "FullName": "Tikram Finance"
                                },
                                {
                                    "id": "11",
                                    "name": "Ramulu",
                                    "age": "58",
                                    "gender": "Male",
                                    "salary": "178000.25",
                                    "department": "IT",
                                    "MonthlySalary": "14833.354166",
                                    "EmailAddress": "Ramulu_11@company.com",
                                    "FullName": "Ramulu IT"
                                },
                                {
                                    "id": "12",
                                    "name": "Bala",
                                    "age": "51",
                                    "gender": "Female",
                                    "salary": "162000.00",
                                    "department": "Finance",
                                    "MonthlySalary": "13500.000000",
                                    "EmailAddress": "Bala_12@company.com",
                                    "FullName": "Bala Finance"
                                },
                                {
                                    "id": "16",
                                    "name": "Arjun",
                                    "age": "31",
                                    "gender": "NULL",
                                    "salary": "NULL",
                                    "department": "NULL",
                                    "MonthlySalary": "NULL",
                                    "EmailAddress": "Arjun_16@company.com",
                                    "FullName": "Arjun "
                                }
                            ]
                        },
                        "text/html": "<table><tr><th>id</th><th>name</th><th>age</th><th>gender</th><th>salary</th><th>department</th><th>MonthlySalary</th><th>EmailAddress</th><th>FullName</th></tr><tr><td>1</td><td>Rajesh</td><td>30</td><td>Male</td><td>60000.00</td><td>IT</td><td>5000.000000</td><td>Rajesh_1@company.com</td><td>Rajesh IT</td></tr><tr><td>3</td><td>Laxman</td><td>35</td><td>Male</td><td>70000.75</td><td>Finance</td><td>5833.395833</td><td>Laxman_3@company.com</td><td>Laxman Finance</td></tr><tr><td>4</td><td>Ganga</td><td>28</td><td>Female</td><td>48000.25</td><td>Marketing</td><td>4000.020833</td><td>Ganga_4@company.com</td><td>Ganga Marketing</td></tr><tr><td>5</td><td>Nikhil</td><td>32</td><td>Male</td><td>72000.00</td><td>IT</td><td>6000.000000</td><td>Nikhil_5@company.com</td><td>Nikhil IT</td></tr><tr><td>6</td><td>Sarita</td><td>29</td><td>Female</td><td>58000.75</td><td>HR</td><td>4833.395833</td><td>Sarita_6@company.com</td><td>Sarita HR</td></tr><tr><td>7</td><td>Bunny</td><td>40</td><td>Male</td><td>85000.50</td><td>Finance</td><td>7083.375000</td><td>Bunny_7@company.com</td><td>Bunny Finance</td></tr><tr><td>8</td><td>Namrata</td><td>26</td><td>Female</td><td>50000.50</td><td>Marketing</td><td>4166.708333</td><td>Namrata_8@company.com</td><td>Namrata Marketing</td></tr><tr><td>9</td><td>Abhiram</td><td>38</td><td>Male</td><td>78000.25</td><td>IT</td><td>6500.020833</td><td>Abhiram_9@company.com</td><td>Abhiram IT</td></tr><tr><td>10</td><td>Tikram</td><td>31</td><td>Female</td><td>62000.00</td><td>Finance</td><td>5166.666666</td><td>Tikram_10@company.com</td><td>Tikram Finance</td></tr><tr><td>11</td><td>Ramulu</td><td>58</td><td>Male</td><td>178000.25</td><td>IT</td><td>14833.354166</td><td>Ramulu_11@company.com</td><td>Ramulu IT</td></tr><tr><td>12</td><td>Bala</td><td>51</td><td>Female</td><td>162000.00</td><td>Finance</td><td>13500.000000</td><td>Bala_12@company.com</td><td>Bala Finance</td></tr><tr><td>16</td><td>Arjun</td><td>31</td><td>NULL</td><td>NULL</td><td>NULL</td><td>NULL</td><td>Arjun_16@company.com</td><td>Arjun </td></tr></table>"
                    },
                    "metadata": {}
                }
            ],
            "execution_count": 2
        },
        {
            "cell_type": "code",
            "source": [
                "CREATE TABLE delete_me\n",
                "    (\n",
                "        ename VARCHAR(20),\n",
                "        age INT\n",
                "    )\n",
                "   "
            ],
            "metadata": {
                "language": "sql",
                "azdata_cell_guid": "d0cf05d2-937e-4686-9829-627d72c38b1d"
            },
            "outputs": [
                {
                    "output_type": "display_data",
                    "data": {
                        "text/html": "Commands completed successfully."
                    },
                    "metadata": {}
                },
                {
                    "output_type": "display_data",
                    "data": {
                        "text/html": "Total execution time: 00:00:00.019"
                    },
                    "metadata": {}
                }
            ],
            "execution_count": 4
        },
        {
            "cell_type": "code",
            "source": [
                "INSERT INTO delete_me\n",
                "SELECT name, age FROM Emp"
            ],
            "metadata": {
                "language": "sql",
                "azdata_cell_guid": "425725d2-f1cd-4c5c-b2b9-d07a8df055ad"
            },
            "outputs": [
                {
                    "output_type": "display_data",
                    "data": {
                        "text/html": "(12 rows affected)"
                    },
                    "metadata": {}
                },
                {
                    "output_type": "display_data",
                    "data": {
                        "text/html": "Total execution time: 00:00:00.019"
                    },
                    "metadata": {}
                }
            ],
            "execution_count": 5
        },
        {
            "cell_type": "code",
            "source": [
                "INSERT INTO delete_me(ename)\n",
                "SELECT name FROM Emp"
            ],
            "metadata": {
                "language": "sql",
                "azdata_cell_guid": "0c2a5b47-ddab-4aa7-aa7b-d9332cda52a2",
                "tags": []
            },
            "outputs": [
                {
                    "output_type": "display_data",
                    "data": {
                        "text/html": "(12 rows affected)"
                    },
                    "metadata": {}
                },
                {
                    "output_type": "display_data",
                    "data": {
                        "text/html": "Total execution time: 00:00:00.020"
                    },
                    "metadata": {}
                }
            ],
            "execution_count": 7
        },
        {
            "cell_type": "markdown",
            "source": [
                "Sure, let's combine all the string functions into a single table and categorize them within the table. This will provide a comprehensive view of all the string functions and their details in one place.\n",
                "\n",
                "### Combined String Functions Table\n",
                "\n",
                "| Category                  | Function       | Syntax                                     | Input               | Return Type       | One-line Explanation                                     | Peculiarities/Considerations                              |\n",
                "|---------------------------|----------------|--------------------------------------------|---------------------|-------------------|----------------------------------------------------------|----------------------------------------------------------|\n",
                "| **Length and Size**       | LEN()          | `LEN(expression)`                          | String              | Integer           | Returns the number of characters in a string.            | Does not include trailing spaces.                         |\n",
                "|                           | DATALENGTH()   | `DATALENGTH(expression)`                   | String/Binary       | Integer           | Returns the number of bytes used to represent an expression. | Includes trailing spaces. Useful for binary data.        |\n",
                "| **Case**                  | UPPER()        | `UPPER(expression)`                        | String              | String            | Converts all characters to uppercase.                    | None                                                     |\n",
                "|                           | LOWER()        | `LOWER(expression)`                        | String              | String            | Converts all characters to lowercase.                    | None                                                     |\n",
                "| **Substring and Position**| SUBSTRING()    | `SUBSTRING(expression, start, length)`     | String, Int, Int    | String            | Extracts a substring from a string.                      | `start` is 1-based index.                                |\n",
                "|                           | CHARINDEX()    | `CHARINDEX(search_expression, expression)` | String, String      | Integer           | Returns the starting position of a substring.            | Returns 0 if not found.                                  |\n",
                "| **Concatenation**         | CONCAT()       | `CONCAT(expression1, expression2, ...)`    | String              | String            | Concatenates two or more strings.                        | NULL values are treated as empty strings.                |\n",
                "|                           | STRING_AGG()   | `STRING_AGG(expression, separator)`        | String, String      | String            | Concatenates values with a separator.                    | Available in SQL Server 2017 and later.                  |\n",
                "| **Trimming**              | LTRIM()        | `LTRIM(expression)`                        | String              | String            | Removes leading spaces from a string.                    | None                                                     |\n",
                "|                           | RTRIM()        | `RTRIM(expression)`                        | String              | String            | Removes trailing spaces from a string.                   | None                                                     |\n",
                "| **Left and Right**        | LEFT()         | `LEFT(expression, number)`                 | String, Int         | String            | Returns the left part of a string.                       | `number` specifies how many characters to return.        |\n",
                "|                           | RIGHT()        | `RIGHT(expression, number)`                | String, Int         | String            | Returns the right part of a string.                      | `number` specifies how many characters to return.        |\n",
                "| **Replacement**           | REPLACE()      | `REPLACE(expression, search, replace)`     | String, String, String | String        | Replaces all occurrences of a substring.                | Case-sensitive.                                          |\n",
                "| **Miscellaneous**         | STUFF()        | `STUFF(expression, start, length, replace)`| String, Int, Int, String | String | Deletes part of a string and inserts another.            | `start` is 1-based index.                                |\n",
                "|                           | REPLICATE()    | `REPLICATE(expression, count)`             | String, Int         | String            | Repeats a string a specified number of times.            | None                                                     |\n",
                "|                           | SPACE()        | `SPACE(count)`                             | Int                 | String            | Returns a string of repeated spaces.                     | None                                                     |\n",
                "| **Conversion**            | CONVERT()      | `CONVERT(data_type, expression)`           | Any                 | Specified data type | Converts a value to a specified data type.               | Commonly used for date and string conversions.           |\n",
                "|                           | CAST()         | `CAST(expression AS data_type)`            | Any                 | Specified data type | Converts a value to a specified data type.               | Standard SQL syntax for conversions.                     |\n",
                "| **Parsing**               | PARSE()        | `PARSE(expression AS data_type)`           | String              | Specified data type | Converts a string to a specified data type.              | Suitable for converting string representations of dates and numbers. |\n",
                "|                           | TRY_PARSE()    | `TRY_PARSE(expression AS data_type)`       | String              | Specified data type | Tries to convert a string to a specified data type.      | Returns NULL if conversion fails, avoiding errors.       |\n",
                "\n",
                "### Sample Table to Explain Functions with Examples\n",
                "\n",
                "Let's use the sample `students` table to illustrate these functions:\n",
                "\n",
                "```sql\n",
                "CREATE TABLE students (\n",
                "    id INT,\n",
                "    name VARCHAR(50),\n",
                "    address VARCHAR(100)\n",
                ");\n",
                "\n",
                "INSERT INTO students (id, name, address) VALUES \n",
                "(1, 'Alice Johnson', '123 Main St'),\n",
                "(2, 'Bob Smith', '456 Oak St'),\n",
                "(3, 'Carol O\\'Connor', '789 Pine St');\n",
                "```\n",
                "\n",
                "#### Examples\n",
                "\n",
                "**Length and Size Functions**:\n",
                "```sql\n",
                "SELECT LEN(name) AS NameLength, DATALENGTH(name) AS DataLength FROM students;\n",
                "```\n",
                "\n",
                "**Case Functions**:\n",
                "```sql\n",
                "SELECT UPPER(name) AS UpperName, LOWER(name) AS LowerName FROM students;\n",
                "```\n",
                "\n",
                "**Substring and Position Functions**:\n",
                "```sql\n",
                "SELECT SUBSTRING(name, 1, 5) AS SubName, CHARINDEX('Smith', name) AS Position FROM students;\n",
                "```\n",
                "\n",
                "**Concatenation Functions**:\n",
                "```sql\n",
                "SELECT CONCAT(name, ', ', address) AS FullInfo FROM students;\n",
                "SELECT STRING_AGG(name, ', ') AS NameList FROM students;\n",
                "```\n",
                "\n",
                "**Trimming Functions**:\n",
                "```sql\n",
                "SELECT LTRIM('   Alice') AS TrimmedLeft, RTRIM('Alice   ') AS TrimmedRight;\n",
                "```\n",
                "\n",
                "**Left and Right Functions**:\n",
                "```sql\n",
                "SELECT LEFT(name, 3) AS LeftPart, RIGHT(name, 3) AS RightPart FROM students;\n",
                "```\n",
                "\n",
                "**Replacement Functions**:\n",
                "```sql\n",
                "SELECT REPLACE(name, 'Smith', 'Brown') AS NewName FROM students;\n",
                "```\n",
                "\n",
                "**Miscellaneous Functions**:\n",
                "```sql\n",
                "SELECT STUFF(name, 2, 3, '***') AS StuffedName FROM students;\n",
                "SELECT REPLICATE('A', 5) AS ReplicatedString;\n",
                "SELECT SPACE(5) + 'End' AS SpacedString;\n",
                "```\n",
                "\n",
                "**Conversion Functions**:\n",
                "```sql\n",
                "SELECT CONVERT(VARCHAR, GETDATE(), 101) AS ConvertedDate;\n",
                "SELECT CAST(12345 AS VARCHAR) AS CastedString;\n",
                "```\n",
                "\n",
                "**Parsing Functions**:\n",
                "```sql\n",
                "SELECT PARSE('2024-06-30' AS DATE) AS ParsedDate;\n",
                "SELECT TRY_PARSE('InvalidNumber' AS INT) AS TryParsedNumber;\n",
                "```\n",
                "\n",
                "This combined table with categorized functions should provide a clear and comprehensive guide to commonly used string functions in SQL."
            ],
            "metadata": {
                "language": "sql",
                "azdata_cell_guid": "4af89bde-7acc-4b10-a38f-7ef78eb92328"
            },
            "attachments": {}
        },
        {
            "cell_type": "markdown",
            "source": [
                "Sure, let's break down the commonly used string functions in SQL into a tabular form and provide examples with a sample table. We'll group related functions together under appropriate headings.\n",
                "\n",
                "### Sample Table\n",
                "\n",
                "```sql\n",
                "CREATE TABLE students (\n",
                "    id INT,\n",
                "    name VARCHAR(50),\n",
                "    address VARCHAR(100)\n",
                ");\n",
                "\n",
                "INSERT INTO students (id, name, address) VALUES \n",
                "(1, 'Alice Johnson', '123 Main St'),\n",
                "(2, 'Bob Smith', '456 Oak St'),\n",
                "(3, 'Carol O\\'Connor', '789 Pine St');\n",
                "```\n",
                "\n",
                "### String Functions\n",
                "\n",
                "#### Length and Size Functions\n",
                "\n",
                "| Function       | Syntax                     | Input         | Return Type | One-line Explanation                            | Peculiarities/Considerations                                     |\n",
                "|----------------|----------------------------|---------------|-------------|-------------------------------------------------|-----------------------------------------------------------------|\n",
                "| LEN()          | `LEN(expression)`          | String        | Integer     | Returns the number of characters in a string.   | Does not include trailing spaces.                               |\n",
                "| DATALENGTH()   | `DATALENGTH(expression)`   | String/Binary | Integer     | Returns the number of bytes used to represent an expression. | Includes trailing spaces. Useful for binary data.              |\n",
                "\n",
                "**Example**:\n",
                "```sql\n",
                "SELECT LEN(name) AS NameLength, DATALENGTH(name) AS DataLength FROM students;\n",
                "```\n",
                "\n",
                "#### Case Functions\n",
                "\n",
                "| Function       | Syntax                     | Input   | Return Type | One-line Explanation                 | Peculiarities/Considerations                |\n",
                "|----------------|----------------------------|---------|-------------|--------------------------------------|--------------------------------------------|\n",
                "| UPPER()        | `UPPER(expression)`        | String  | String      | Converts all characters to uppercase.| None                                       |\n",
                "| LOWER()        | `LOWER(expression)`        | String  | String      | Converts all characters to lowercase.| None                                       |\n",
                "\n",
                "**Example**:\n",
                "```sql\n",
                "SELECT UPPER(name) AS UpperName, LOWER(name) AS LowerName FROM students;\n",
                "```\n",
                "\n",
                "#### Substring and Position Functions\n",
                "\n",
                "| Function       | Syntax                                     | Input               | Return Type | One-line Explanation                                   | Peculiarities/Considerations                          |\n",
                "|----------------|--------------------------------------------|---------------------|-------------|--------------------------------------------------------|------------------------------------------------------|\n",
                "| SUBSTRING()    | `SUBSTRING(expression, start, length)`     | String, Int, Int    | String      | Extracts a substring from a string.                    | `start` is 1-based index.                            |\n",
                "| CHARINDEX()    | `CHARINDEX(search_expression, expression)` | String, String      | Integer     | Returns the starting position of a substring.          | Returns 0 if not found.                              |\n",
                "\n",
                "**Example**:\n",
                "```sql\n",
                "SELECT SUBSTRING(name, 1, 5) AS SubName, CHARINDEX('Smith', name) AS Position FROM students;\n",
                "```\n",
                "\n",
                "#### Concatenation Functions\n",
                "\n",
                "| Function       | Syntax                                     | Input         | Return Type | One-line Explanation                 | Peculiarities/Considerations                            |\n",
                "|----------------|--------------------------------------------|---------------|-------------|--------------------------------------|--------------------------------------------------------|\n",
                "| CONCAT()       | `CONCAT(expression1, expression2, ...)`    | String        | String      | Concatenates two or more strings.    | NULL values are treated as empty strings.              |\n",
                "| STRING_AGG()   | `STRING_AGG(expression, separator)`        | String, String| String      | Concatenates values with a separator.| Available in SQL Server 2017 and later.                |\n",
                "\n",
                "**Example**:\n",
                "```sql\n",
                "SELECT CONCAT(name, ', ', address) AS FullInfo FROM students;\n",
                "SELECT STRING_AGG(name, ', ') AS NameList FROM students;\n",
                "```\n",
                "\n",
                "#### Trimming Functions\n",
                "\n",
                "| Function       | Syntax                     | Input   | Return Type | One-line Explanation                       | Peculiarities/Considerations                          |\n",
                "|----------------|----------------------------|---------|-------------|--------------------------------------------|------------------------------------------------------|\n",
                "| LTRIM()        | `LTRIM(expression)`        | String  | String      | Removes leading spaces from a string.      | None                                                 |\n",
                "| RTRIM()        | `RTRIM(expression)`        | String  | String      | Removes trailing spaces from a string.     | None                                                 |\n",
                "\n",
                "**Example**:\n",
                "```sql\n",
                "SELECT LTRIM('   Alice') AS TrimmedLeft, RTRIM('Alice   ') AS TrimmedRight;\n",
                "```\n",
                "\n",
                "#### Left and Right Functions\n",
                "\n",
                "| Function       | Syntax                     | Input      | Return Type | One-line Explanation                | Peculiarities/Considerations                          |\n",
                "|----------------|----------------------------|------------|-------------|-------------------------------------|------------------------------------------------------|\n",
                "| LEFT()         | `LEFT(expression, number)` | String, Int| String      | Returns the left part of a string.  | `number` specifies how many characters to return.    |\n",
                "| RIGHT()        | `RIGHT(expression, number)`| String, Int| String      | Returns the right part of a string. | `number` specifies how many characters to return.    |\n",
                "\n",
                "**Example**:\n",
                "```sql\n",
                "SELECT LEFT(name, 3) AS LeftPart, RIGHT(name, 3) AS RightPart FROM students;\n",
                "```\n",
                "\n",
                "#### Replacement Functions\n",
                "\n",
                "| Function       | Syntax                                     | Input                     | Return Type | One-line Explanation                | Peculiarities/Considerations                          |\n",
                "|----------------|--------------------------------------------|---------------------------|-------------|-------------------------------------|------------------------------------------------------|\n",
                "| REPLACE()      | `REPLACE(expression, search, replace)`     | String, String, String    | String      | Replaces all occurrences of a substring. | Case-sensitive.                                      |\n",
                "\n",
                "**Example**:\n",
                "```sql\n",
                "SELECT REPLACE(name, 'Smith', 'Brown') AS NewName FROM students;\n",
                "```\n",
                "\n",
                "#### Miscellaneous Functions\n",
                "\n",
                "| Function       | Syntax                                     | Input             | Return Type | One-line Explanation                | Peculiarities/Considerations                          |\n",
                "|----------------|--------------------------------------------|-------------------|-------------|-------------------------------------|------------------------------------------------------|\n",
                "| STUFF()        | `STUFF(expression, start, length, replace)`| String, Int, Int, String | String      | Deletes part of a string and inserts another. | `start` is 1-based index.                            |\n",
                "| REPLICATE()    | `REPLICATE(expression, count)`             | String, Int       | String      | Repeats a string a specified number of times. | None                                                 |\n",
                "| SPACE()        | `SPACE(count)`                             | Int               | String      | Returns a string of repeated spaces. | None                                                 |\n",
                "\n",
                "**Example**:\n",
                "```sql\n",
                "SELECT STUFF(name, 2, 3, '***') AS StuffedName FROM students;\n",
                "SELECT REPLICATE('A', 5) AS ReplicatedString;\n",
                "SELECT SPACE(5) + 'End' AS SpacedString;\n",
                "```\n",
                "\n",
                "#### Conversion Functions\n",
                "\n",
                "| Function       | Syntax                     | Input      | Return Type | One-line Explanation                | Peculiarities/Considerations                          |\n",
                "|----------------|----------------------------|------------|-------------|-------------------------------------|------------------------------------------------------|\n",
                "| CONVERT()      | `CONVERT(data_type, expression)` | Any     | Specified data type | Converts a value to a specified data type. | Commonly used for date and string conversions.       |\n",
                "| CAST()         | `CAST(expression AS data_type)` | Any     | Specified data type | Converts a value to a specified data type. | Standard SQL syntax for conversions.                 |\n",
                "\n",
                "**Example**:\n",
                "```sql\n",
                "SELECT CONVERT(VARCHAR, GETDATE(), 101) AS ConvertedDate;\n",
                "SELECT CAST(12345 AS VARCHAR) AS CastedString;\n",
                "```\n",
                "\n",
                "#### Parsing Functions\n",
                "\n",
                "| Function       | Syntax                                     | Input             | Return Type | One-line Explanation                | Peculiarities/Considerations                          |\n",
                "|----------------|--------------------------------------------|-------------------|-------------|-------------------------------------|------------------------------------------------------|\n",
                "| PARSE()        | `PARSE(expression AS data_type)`           | String            | Specified data type | Converts a string to a specified data type. | Suitable for converting string representations of dates and numbers. |\n",
                "| TRY_PARSE()    | `TRY_PARSE(expression AS data_type)`       | String            | Specified data type | Tries to convert a string to a specified data type. | Returns NULL if conversion fails, avoiding errors.    |\n",
                "\n",
                "**Example**:\n",
                "```sql\n",
                "SELECT PARSE('2024-06-30' AS DATE) AS ParsedDate;\n",
                "SELECT TRY_PARSE('InvalidNumber' AS INT) AS TryParsedNumber;\n",
                "```\n",
                "\n",
                "This tabular format covers commonly used string functions in SQL, providing syntax, input, return type, a brief explanation, and any special considerations. The examples use a sample table to illustrate how each function works in practice."
            ],
            "metadata": {
                "azdata_cell_guid": "fe4de8e9-dc65-4da0-b5aa-f48938dd928f"
            },
            "attachments": {}
        }
    ]
}