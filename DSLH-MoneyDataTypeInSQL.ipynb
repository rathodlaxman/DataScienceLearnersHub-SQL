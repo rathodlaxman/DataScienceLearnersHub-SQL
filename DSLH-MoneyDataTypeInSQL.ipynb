{
    "metadata": {
        "kernelspec": {
            "name": "SQL",
            "display_name": "SQL",
            "language": "sql"
        },
        "language_info": {
            "name": "sql",
            "version": ""
        }
    },
    "nbformat_minor": 2,
    "nbformat": 4,
    "cells": [
        {
            "cell_type": "markdown",
            "source": [
                "# **`Data Science Learners Hub`**\n",
                "\n",
                "**Module : SQL**\n",
                "\n",
                "**email** : [datasciencelearnershub@gmail.com](mailto:datasciencelearnershub@gmail.com)"
            ],
            "metadata": {
                "azdata_cell_guid": "d6079b3b-1506-474d-8f08-c682b67db8ae"
            },
            "attachments": {}
        },
        {
            "cell_type": "markdown",
            "source": [
                "### **`# MONEY Data Type in SQL`**"
            ],
            "metadata": {
                "azdata_cell_guid": "6f5e80d9-8b09-46e1-9f9d-f9b1fab68620"
            },
            "attachments": {}
        },
        {
            "cell_type": "markdown",
            "source": [
                "### 1. Introduction:\n",
                "\n",
                "- In SQL, the `MONEY` data type is used to store monetary or currency values. \n",
                "- A fixed-precision numeric data type specifically designed to store monetary values.\n",
                "- Stores values with four decimal places of precision, representing cents or hundredths of a currency unit.\n",
                "- Useful for financial calculations and storing currency values in databases.\n",
                "\n",
                "### 2. Key characteristics:\n",
                "- Storage size: 8 bytes\n",
                "- Range of values: -922,337,203,685,477.5808 to 922,337,203,685,477.5807\n",
                "- Precision: 19 digits (4 to the right of the decimal point)\n",
                "\n",
                "Here's a brief explanation with examples:\n",
                "\n",
                "### 3. Syntax:\n",
                "\n",
                "```sql\n",
                "column_name MONEY\n",
                "```"
            ],
            "metadata": {
                "azdata_cell_guid": "e0a78b47-c14d-4bb5-b795-e790a3117544"
            },
            "attachments": {}
        },
        {
            "cell_type": "code",
            "source": [
                "USE DataScienceLearnersHub"
            ],
            "metadata": {
                "azdata_cell_guid": "0cd58058-6210-46d1-a67b-b3b12751bec7",
                "language": "sql"
            },
            "outputs": [
                {
                    "output_type": "display_data",
                    "data": {
                        "text/html": "Commands completed successfully."
                    },
                    "metadata": {}
                },
                {
                    "output_type": "display_data",
                    "data": {
                        "text/html": "Total execution time: 00:00:00.006"
                    },
                    "metadata": {}
                }
            ],
            "execution_count": 1
        },
        {
            "cell_type": "markdown",
            "source": [
                "### 2. Examples:\n",
                "\n",
                "#### Creating a Table with a `MONEY` Column:"
            ],
            "metadata": {
                "language": "sql",
                "azdata_cell_guid": "c1b12705-1ebd-48c0-a1de-06dbfe2b019d"
            },
            "attachments": {}
        },
        {
            "cell_type": "code",
            "source": [
                "CREATE TABLE Sales (\n",
                "    SaleID INT PRIMARY KEY,\n",
                "    ProductName VARCHAR(50),\n",
                "    SaleAmount MONEY\n",
                ");\n",
                "\n",
                "-- Inserting Data\n",
                "INSERT INTO Sales (SaleID, ProductName, SaleAmount)\n",
                "VALUES (1, 'Product A', 150.25),\n",
                "       (2, 'Product B', 99.50),\n",
                "       (3, 'Product C', 299.75);"
            ],
            "metadata": {
                "language": "sql",
                "azdata_cell_guid": "9e4cea48-bc98-41e9-a5bc-5fe02c180156"
            },
            "outputs": [],
            "execution_count": null
        },
        {
            "cell_type": "markdown",
            "source": [
                "#### Querying Data with `MONEY`:"
            ],
            "metadata": {
                "language": "sql",
                "azdata_cell_guid": "87e869a8-24aa-424e-845b-864fe042b295"
            },
            "attachments": {}
        },
        {
            "cell_type": "code",
            "source": [
                "-- Selecting all sales\n",
                "SELECT * FROM Sales;"
            ],
            "metadata": {
                "language": "sql",
                "azdata_cell_guid": "09131572-61da-4cdf-bf17-2f521470af3a"
            },
            "outputs": [
                {
                    "output_type": "display_data",
                    "data": {
                        "text/html": "(5 rows affected)"
                    },
                    "metadata": {}
                },
                {
                    "output_type": "display_data",
                    "data": {
                        "text/html": "Total execution time: 00:00:00.105"
                    },
                    "metadata": {}
                },
                {
                    "output_type": "execute_result",
                    "metadata": {},
                    "execution_count": 2,
                    "data": {
                        "application/vnd.dataresource+json": {
                            "schema": {
                                "fields": [
                                    {
                                        "name": "SaleID"
                                    },
                                    {
                                        "name": "ProductName"
                                    },
                                    {
                                        "name": "Category"
                                    },
                                    {
                                        "name": "SaleAmount"
                                    },
                                    {
                                        "name": "SaleDate"
                                    }
                                ]
                            },
                            "data": [
                                {
                                    "SaleID": "1",
                                    "ProductName": "Product A",
                                    "Category": "Electronics",
                                    "SaleAmount": "500.00",
                                    "SaleDate": "2023-01-01"
                                },
                                {
                                    "SaleID": "2",
                                    "ProductName": "Product B",
                                    "Category": "Clothing",
                                    "SaleAmount": "300.00",
                                    "SaleDate": "2023-01-02"
                                },
                                {
                                    "SaleID": "3",
                                    "ProductName": "Product C",
                                    "Category": "Electronics",
                                    "SaleAmount": "800.00",
                                    "SaleDate": "2023-01-03"
                                },
                                {
                                    "SaleID": "4",
                                    "ProductName": "Product D",
                                    "Category": "Clothing",
                                    "SaleAmount": "450.00",
                                    "SaleDate": "2023-01-04"
                                },
                                {
                                    "SaleID": "5",
                                    "ProductName": "Product E",
                                    "Category": "Electronics",
                                    "SaleAmount": "700.00",
                                    "SaleDate": "2023-01-05"
                                }
                            ]
                        },
                        "text/html": [
                            "<table>",
                            "<tr><th>SaleID</th><th>ProductName</th><th>Category</th><th>SaleAmount</th><th>SaleDate</th></tr>",
                            "<tr><td>1</td><td>Product A</td><td>Electronics</td><td>500.00</td><td>2023-01-01</td></tr>",
                            "<tr><td>2</td><td>Product B</td><td>Clothing</td><td>300.00</td><td>2023-01-02</td></tr>",
                            "<tr><td>3</td><td>Product C</td><td>Electronics</td><td>800.00</td><td>2023-01-03</td></tr>",
                            "<tr><td>4</td><td>Product D</td><td>Clothing</td><td>450.00</td><td>2023-01-04</td></tr>",
                            "<tr><td>5</td><td>Product E</td><td>Electronics</td><td>700.00</td><td>2023-01-05</td></tr>",
                            "</table>"
                        ]
                    }
                }
            ],
            "execution_count": 2
        },
        {
            "cell_type": "code",
            "source": [
                "-- Calculating total sales\n",
                "SELECT SUM(SaleAmount) AS TotalSales FROM Sales;"
            ],
            "metadata": {
                "language": "sql",
                "azdata_cell_guid": "12c46496-362b-4b20-ba1e-36e7591649db"
            },
            "outputs": [
                {
                    "output_type": "display_data",
                    "data": {
                        "text/html": "(1 row affected)"
                    },
                    "metadata": {}
                },
                {
                    "output_type": "display_data",
                    "data": {
                        "text/html": "Total execution time: 00:00:00.069"
                    },
                    "metadata": {}
                },
                {
                    "output_type": "execute_result",
                    "metadata": {},
                    "execution_count": 3,
                    "data": {
                        "application/vnd.dataresource+json": {
                            "schema": {
                                "fields": [
                                    {
                                        "name": "TotalSales"
                                    }
                                ]
                            },
                            "data": [
                                {
                                    "TotalSales": "2750.00"
                                }
                            ]
                        },
                        "text/html": [
                            "<table>",
                            "<tr><th>TotalSales</th></tr>",
                            "<tr><td>2750.00</td></tr>",
                            "</table>"
                        ]
                    }
                }
            ],
            "execution_count": 3
        },
        {
            "cell_type": "code",
            "source": [
                "-- Filtering sales above a certain amount\n",
                "SELECT * FROM Sales WHERE SaleAmount > 100.00;"
            ],
            "metadata": {
                "language": "",
                "azdata_cell_guid": "79d0b0d6-d0b9-4e81-8582-f1f4f43ff552"
            },
            "outputs": [
                {
                    "output_type": "display_data",
                    "data": {
                        "text/html": "(5 rows affected)"
                    },
                    "metadata": {}
                },
                {
                    "output_type": "display_data",
                    "data": {
                        "text/html": "Total execution time: 00:00:00.069"
                    },
                    "metadata": {}
                },
                {
                    "output_type": "execute_result",
                    "metadata": {},
                    "execution_count": 4,
                    "data": {
                        "application/vnd.dataresource+json": {
                            "schema": {
                                "fields": [
                                    {
                                        "name": "SaleID"
                                    },
                                    {
                                        "name": "ProductName"
                                    },
                                    {
                                        "name": "Category"
                                    },
                                    {
                                        "name": "SaleAmount"
                                    },
                                    {
                                        "name": "SaleDate"
                                    }
                                ]
                            },
                            "data": [
                                {
                                    "SaleID": "1",
                                    "ProductName": "Product A",
                                    "Category": "Electronics",
                                    "SaleAmount": "500.00",
                                    "SaleDate": "2023-01-01"
                                },
                                {
                                    "SaleID": "2",
                                    "ProductName": "Product B",
                                    "Category": "Clothing",
                                    "SaleAmount": "300.00",
                                    "SaleDate": "2023-01-02"
                                },
                                {
                                    "SaleID": "3",
                                    "ProductName": "Product C",
                                    "Category": "Electronics",
                                    "SaleAmount": "800.00",
                                    "SaleDate": "2023-01-03"
                                },
                                {
                                    "SaleID": "4",
                                    "ProductName": "Product D",
                                    "Category": "Clothing",
                                    "SaleAmount": "450.00",
                                    "SaleDate": "2023-01-04"
                                },
                                {
                                    "SaleID": "5",
                                    "ProductName": "Product E",
                                    "Category": "Electronics",
                                    "SaleAmount": "700.00",
                                    "SaleDate": "2023-01-05"
                                }
                            ]
                        },
                        "text/html": [
                            "<table>",
                            "<tr><th>SaleID</th><th>ProductName</th><th>Category</th><th>SaleAmount</th><th>SaleDate</th></tr>",
                            "<tr><td>1</td><td>Product A</td><td>Electronics</td><td>500.00</td><td>2023-01-01</td></tr>",
                            "<tr><td>2</td><td>Product B</td><td>Clothing</td><td>300.00</td><td>2023-01-02</td></tr>",
                            "<tr><td>3</td><td>Product C</td><td>Electronics</td><td>800.00</td><td>2023-01-03</td></tr>",
                            "<tr><td>4</td><td>Product D</td><td>Clothing</td><td>450.00</td><td>2023-01-04</td></tr>",
                            "<tr><td>5</td><td>Product E</td><td>Electronics</td><td>700.00</td><td>2023-01-05</td></tr>",
                            "</table>"
                        ]
                    }
                }
            ],
            "execution_count": 4
        },
        {
            "cell_type": "markdown",
            "source": [
                "### 3. Importance:\n",
                "\n",
                "- **Precision:** The `MONEY` data type is appropriate for financial calculations that require fixed-point precision.\n",
                "\n",
                "### 4. Considerations:\n",
                "\n",
                "- **Avoid Floating Point:** It is preferable to use `MONEY` instead of `FLOAT` or `REAL` for financial data because floating-point types can lead to precision errors.\n",
                "\n",
                "* While money is useful for financial data, it doesn't store currency symbols or information about specific currencies.\n",
                "* For more complex financial calculations or currency conversions, you might consider using the decimal data type with appropriate precision and scale.\n",
                "* If you need to store a wide range of values, but don't require as much precision, you might consider using the smallmoney data type, which uses 4 bytes of storage.\n",
                "\n",
                "### 5. Common Mistakes:\n",
                "\n",
                "- **Incorrect Rounding:** Developers should be cautious about rounding errors that may occur in financial calculations. It's often a good practice to round values to the necessary precision.\n",
                "\n",
                "### 6. Practical Application:\n",
                "\n",
                "- **Financial Systems:** The `MONEY` data type is commonly used in financial applications such as accounting systems, where precise representation of currency values is critical."
            ],
            "metadata": {
                "azdata_cell_guid": "cdbfc0d9-6abe-43c8-af3a-ad8cf012127d"
            },
            "attachments": {}
        },
        {
            "cell_type": "markdown",
            "source": [
                "### 7. Example:\n",
                "\n",
                "Let's say we have a `Sales` table:\n",
                "\n",
                "| SaleID | ProductName | SaleAmount |\n",
                "| ------ | ----------- | ---------- |\n",
                "| 1      | Product A   | 150.25     |\n",
                "| 2      | Product B   | 99.50      |\n",
                "| 3      | Product C   | 299.75     |\n",
                "\n",
                "- **Total Sales Calculation:**\n",
                "  ```sql\n",
                "  SELECT SUM(SaleAmount) AS TotalSales FROM Sales;\n",
                "  -- Output: TotalSales\n",
                "  --         549.50\n",
                "  ```\n",
                "\n",
                "- **Filtering Sales Above $100:**\n",
                "  ```sql\n",
                "  SELECT * FROM Sales WHERE SaleAmount > 100.00;\n",
                "  -- Output:\n",
                "  -- | SaleID | ProductName | SaleAmount |\n",
                "  -- | ------ | ----------- | ---------- |\n",
                "  -- | 1      | Product A   | 150.25     |\n",
                "  -- | 3      | Product C   | 299.75     |\n",
                "  ```\n",
                "\n",
                "This demonstrates how the `MONEY` data type can be used to store and manipulate monetary values in a SQL database."
            ],
            "metadata": {
                "azdata_cell_guid": "6c008fc2-fad2-43c1-99e2-7fb2fb2c7ac4"
            },
            "attachments": {}
        },
        {
            "cell_type": "markdown",
            "source": [
                ""
            ],
            "metadata": {
                "azdata_cell_guid": "458f9f48-f04c-4337-8474-4eb16540cdeb"
            }
        }
    ]
}