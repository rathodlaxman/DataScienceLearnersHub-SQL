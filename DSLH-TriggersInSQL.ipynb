{
    "metadata": {
        "kernelspec": {
            "name": "SQL",
            "display_name": "SQL",
            "language": "sql"
        },
        "language_info": {
            "name": "sql",
            "version": ""
        }
    },
    "nbformat_minor": 2,
    "nbformat": 4,
    "cells": [
        {
            "cell_type": "markdown",
            "source": [
                "# **Data Science Learners Hub**\n",
                "\n",
                "**Module : SQL**\n",
                "\n",
                "**Topic :** <span style=\"color: rgb(0, 0, 0); font-family: &quot;Helvetica Neue&quot;; font-size: 13px;\">Triggers in SQL</span>\n",
                "\n",
                "**email** : [datasciencelearnershub@gmail.com](mailto:datasciencelearnershub@gmail.com)"
            ],
            "metadata": {
                "azdata_cell_guid": "e12e50d3-3740-4503-8376-7e9a9e42b985"
            },
            "attachments": {}
        },
        {
            "cell_type": "markdown",
            "source": [
                "## **\\# Triggers in SQL**"
            ],
            "metadata": {
                "azdata_cell_guid": "cb108cad-8a22-4d96-9326-a14328ef6b22"
            },
            "attachments": {}
        },
        {
            "cell_type": "markdown",
            "source": [
                "**1. Introduction:**\n",
                "\n",
                "Triggers in MS SQL Server are special stored procedures that are automatically executed (or \"triggered\") in response to specific events on a particular table or view. Think of triggers as the watchers of your database—they keep an eye on changes and respond accordingly.\n",
                "\n",
                "**2. Why Learn Triggers:**\n",
                "\n",
                "Understanding triggers is crucial in SQL because they allow you to enforce business rules, maintain data integrity, and automate certain actions without manual intervention. It's like having a guardian for your database, ensuring that specific conditions are met or actions are taken automatically.\n",
                "\n",
                "**3. Real-world Applications:**\n",
                "\n",
                "Consider an online store's database. You might want to update the inventory automatically when a product is sold, or you might want to log changes to customer information for auditing purposes. Triggers help automate these processes in real-time, making database management more efficient.\n",
                "\n",
                "**4. Syntax and Types:**\n",
                "\n",
                "In SQL Server, there are mainly two types of triggers: `AFTER` triggers and `INSTEAD OF` triggers. Let's look at the syntax for an `AFTER` trigger:\n",
                "\n",
                "```sql\n",
                "CREATE TRIGGER trigger_name\n",
                "ON table_name\n",
                "AFTER INSERT, UPDATE, DELETE\n",
                "AS\n",
                "BEGIN\n",
                "   -- Trigger logic here\n",
                "END;\n",
                "```\n",
                "\n",
                "And for an `INSTEAD OF` trigger:\n",
                "\n",
                "```sql\n",
                "CREATE TRIGGER trigger_name\n",
                "ON table_name\n",
                "INSTEAD OF INSERT, UPDATE, DELETE\n",
                "AS\n",
                "BEGIN\n",
                "   -- Trigger logic here\n",
                "END;\n",
                "```\n",
                "\n",
                "`AFTER` triggers execute after the event (insert, update, or delete) has occurred, while `INSTEAD OF` triggers allow you to replace the original event with your custom logic."
            ],
            "metadata": {
                "azdata_cell_guid": "e6dd25e1-ae81-45c3-a051-602ca7560379"
            },
            "attachments": {}
        },
        {
            "cell_type": "code",
            "source": [
                "USE DataScienceLearnersHub"
            ],
            "metadata": {
                "azdata_cell_guid": "67c2d0bd-943d-41d5-9680-1ef91f81747b",
                "language": "sql"
            },
            "outputs": [
                {
                    "output_type": "display_data",
                    "data": {
                        "text/html": "Commands completed successfully."
                    },
                    "metadata": {}
                },
                {
                    "output_type": "display_data",
                    "data": {
                        "text/html": "Total execution time: 00:00:00.006"
                    },
                    "metadata": {}
                }
            ],
            "execution_count": 1
        },
        {
            "cell_type": "markdown",
            "source": [
                "#### 5. Create a Simple Table and Insert Queries:"
            ],
            "metadata": {
                "language": "",
                "azdata_cell_guid": "70cab0e6-6061-48ab-b885-432f45ed7f94"
            },
            "attachments": {}
        },
        {
            "cell_type": "code",
            "source": [
                "-- Creating a table named \"Orders\"\n",
                "CREATE TABLE OrdersForTriggers (\n",
                "    OrderID INT PRIMARY KEY,\n",
                "    OrderDate DATE,\n",
                "    CustomerName VARCHAR(255),\n",
                "    TotalAmount DECIMAL(10, 2)\n",
                ");"
            ],
            "metadata": {
                "azdata_cell_guid": "874bdbfd-5930-44f8-8b83-e7bb18b54899",
                "language": "sql"
            },
            "outputs": [
                {
                    "output_type": "display_data",
                    "data": {
                        "text/html": "Commands completed successfully."
                    },
                    "metadata": {}
                },
                {
                    "output_type": "display_data",
                    "data": {
                        "text/html": "Total execution time: 00:00:00.013"
                    },
                    "metadata": {}
                }
            ],
            "execution_count": 6
        },
        {
            "cell_type": "code",
            "source": [
                "-- Insert Statements\n",
                "INSERT INTO OrdersForTriggers (OrderID, OrderDate, CustomerName, TotalAmount) VALUES\n",
                "(1, '2023-01-15', 'Laxman', 150.00),\n",
                "(2, '2023-01-16', 'James', 200.50),\n",
                "(3, '2023-01-17', 'Bobby', 75.25),\n",
                "(4, '2023-01-18', 'Alisha', 120.75);"
            ],
            "metadata": {
                "language": "sql",
                "azdata_cell_guid": "b2a3c09b-3872-4fa5-838c-7b24d9fd250b"
            },
            "outputs": [
                {
                    "output_type": "display_data",
                    "data": {
                        "text/html": "(4 rows affected)"
                    },
                    "metadata": {}
                },
                {
                    "output_type": "display_data",
                    "data": {
                        "text/html": "Total execution time: 00:00:00.023"
                    },
                    "metadata": {}
                }
            ],
            "execution_count": 7
        },
        {
            "cell_type": "code",
            "source": [
                "SELECT * FROm OrdersForTriggers"
            ],
            "metadata": {
                "language": "sql",
                "azdata_cell_guid": "70061c36-9681-46cf-892e-49b62e4026cb"
            },
            "outputs": [
                {
                    "output_type": "display_data",
                    "data": {
                        "text/html": "(4 rows affected)"
                    },
                    "metadata": {}
                },
                {
                    "output_type": "display_data",
                    "data": {
                        "text/html": "Total execution time: 00:00:00.040"
                    },
                    "metadata": {}
                },
                {
                    "output_type": "execute_result",
                    "metadata": {},
                    "execution_count": 8,
                    "data": {
                        "application/vnd.dataresource+json": {
                            "schema": {
                                "fields": [
                                    {
                                        "name": "OrderID"
                                    },
                                    {
                                        "name": "OrderDate"
                                    },
                                    {
                                        "name": "CustomerName"
                                    },
                                    {
                                        "name": "TotalAmount"
                                    }
                                ]
                            },
                            "data": [
                                {
                                    "OrderID": "1",
                                    "OrderDate": "2023-01-15",
                                    "CustomerName": "Laxman",
                                    "TotalAmount": "150.00"
                                },
                                {
                                    "OrderID": "2",
                                    "OrderDate": "2023-01-16",
                                    "CustomerName": "James",
                                    "TotalAmount": "200.50"
                                },
                                {
                                    "OrderID": "3",
                                    "OrderDate": "2023-01-17",
                                    "CustomerName": "Bobby",
                                    "TotalAmount": "75.25"
                                },
                                {
                                    "OrderID": "4",
                                    "OrderDate": "2023-01-18",
                                    "CustomerName": "Alisha",
                                    "TotalAmount": "120.75"
                                }
                            ]
                        },
                        "text/html": [
                            "<table>",
                            "<tr><th>OrderID</th><th>OrderDate</th><th>CustomerName</th><th>TotalAmount</th></tr>",
                            "<tr><td>1</td><td>2023-01-15</td><td>Laxman</td><td>150.00</td></tr>",
                            "<tr><td>2</td><td>2023-01-16</td><td>James</td><td>200.50</td></tr>",
                            "<tr><td>3</td><td>2023-01-17</td><td>Bobby</td><td>75.25</td></tr>",
                            "<tr><td>4</td><td>2023-01-18</td><td>Alisha</td><td>120.75</td></tr>",
                            "</table>"
                        ]
                    }
                }
            ],
            "execution_count": 8
        },
        {
            "cell_type": "code",
            "source": [
                "-- Creating an AuditLog table\n",
                "CREATE TABLE AuditLog (\n",
                "    LogID INT PRIMARY KEY IDENTITY(1,1),\n",
                "    LogDate DATETIME DEFAULT GETDATE(),\n",
                "    LogMessage VARCHAR(500)\n",
                ");\n",
                ""
            ],
            "metadata": {
                "language": "sql",
                "azdata_cell_guid": "273bb5bd-feb9-4429-9ac8-1352ee15a5d0"
            },
            "outputs": [
                {
                    "output_type": "display_data",
                    "data": {
                        "text/html": "Commands completed successfully."
                    },
                    "metadata": {}
                },
                {
                    "output_type": "display_data",
                    "data": {
                        "text/html": "Total execution time: 00:00:00.028"
                    },
                    "metadata": {}
                }
            ],
            "execution_count": 5
        },
        {
            "cell_type": "markdown",
            "source": [
                "#### 6\\. Create Triggers:"
            ],
            "metadata": {
                "language": "",
                "azdata_cell_guid": "85453fb0-1d7d-4ddf-9e2f-5052b1bacf1d"
            },
            "attachments": {}
        },
        {
            "cell_type": "code",
            "source": [
                "-- Create an AFTER INSERT Trigger on Orders table\n",
                "CREATE TRIGGER AfterInsertTrigger\n",
                "ON OrdersForTriggers\n",
                "AFTER INSERT\n",
                "AS\n",
                "BEGIN\n",
                "    -- Insert into AuditLog table after every insert in Orders\n",
                "    INSERT INTO AuditLog (LogMessage)\n",
                "    VALUES ('New order added');\n",
                "\n",
                "    -- Your additional logic here, if any\n",
                "END;\n",
                ""
            ],
            "metadata": {
                "language": "sql",
                "azdata_cell_guid": "8faa1e64-32d9-4e13-b05a-dc71b5568797"
            },
            "outputs": [
                {
                    "output_type": "display_data",
                    "data": {
                        "text/html": "Commands completed successfully."
                    },
                    "metadata": {}
                },
                {
                    "output_type": "display_data",
                    "data": {
                        "text/html": "Total execution time: 00:00:00.010"
                    },
                    "metadata": {}
                }
            ],
            "execution_count": 11
        },
        {
            "cell_type": "code",
            "source": [
                "-- Create an INSTEAD OF UPDATE Trigger on Orders table\n",
                "CREATE TRIGGER InsteadOfUpdateTrigger\n",
                "ON OrdersForTriggers\n",
                "INSTEAD OF UPDATE\n",
                "AS\n",
                "BEGIN\n",
                "    -- Prevent the actual update, perform custom logic, and log to AuditLog\n",
                "    UPDATE AuditLog\n",
                "    SET LogMessage = 'Update operation prevented for Orders table';\n",
                "\n",
                "    -- Your additional logic here, if any\n",
                "END;\n",
                ""
            ],
            "metadata": {
                "language": "sql",
                "azdata_cell_guid": "aa3635f1-2a89-41c5-99c4-735a1d853e38"
            },
            "outputs": [
                {
                    "output_type": "display_data",
                    "data": {
                        "text/html": "Commands completed successfully."
                    },
                    "metadata": {}
                },
                {
                    "output_type": "display_data",
                    "data": {
                        "text/html": "Total execution time: 00:00:00.010"
                    },
                    "metadata": {}
                }
            ],
            "execution_count": 12
        },
        {
            "cell_type": "markdown",
            "source": [
                "#### 7. Examples with Solutions:\n",
                "\n",
                "1. **Example 1 - AFTER INSERT Trigger:**"
            ],
            "metadata": {
                "language": "",
                "azdata_cell_guid": "87f651f6-1704-4470-8f92-50eeb28740a8"
            },
            "attachments": {}
        },
        {
            "cell_type": "code",
            "source": [
                " INSERT INTO OrdersForTriggers (OrderID, OrderDate, CustomerName, TotalAmount) VALUES (6, '2023-01-19', 'Mark Johnson', 90.00);\n",
                "   -- Check the AuditLog table for the log message.\n",
                "   SELECT * FROM AuditLog;"
            ],
            "metadata": {
                "azdata_cell_guid": "0c31d152-3411-4cb5-b754-c2007b524a15",
                "language": "sql"
            },
            "outputs": [
                {
                    "output_type": "display_data",
                    "data": {
                        "text/html": "(1 row affected)"
                    },
                    "metadata": {}
                },
                {
                    "output_type": "display_data",
                    "data": {
                        "text/html": "(1 row affected)"
                    },
                    "metadata": {}
                },
                {
                    "output_type": "display_data",
                    "data": {
                        "text/html": "(1 row affected)"
                    },
                    "metadata": {}
                },
                {
                    "output_type": "display_data",
                    "data": {
                        "text/html": "Total execution time: 00:00:00.019"
                    },
                    "metadata": {}
                },
                {
                    "output_type": "execute_result",
                    "metadata": {},
                    "execution_count": 21,
                    "data": {
                        "application/vnd.dataresource+json": {
                            "schema": {
                                "fields": [
                                    {
                                        "name": "LogID"
                                    },
                                    {
                                        "name": "LogDate"
                                    },
                                    {
                                        "name": "LogMessage"
                                    }
                                ]
                            },
                            "data": [
                                {
                                    "LogID": "1",
                                    "LogDate": "2024-01-02 05:39:34.807",
                                    "LogMessage": "New order added"
                                }
                            ]
                        },
                        "text/html": [
                            "<table>",
                            "<tr><th>LogID</th><th>LogDate</th><th>LogMessage</th></tr>",
                            "<tr><td>1</td><td>2024-01-02 05:39:34.807</td><td>New order added</td></tr>",
                            "</table>"
                        ]
                    }
                }
            ],
            "execution_count": 21
        },
        {
            "cell_type": "markdown",
            "source": [
                "2. **Example 2 - INSTEAD OF UPDATE Trigger:**"
            ],
            "metadata": {
                "language": "sql",
                "azdata_cell_guid": "b6e2df9e-9c06-4ae4-92a0-e3365c120554"
            },
            "attachments": {}
        },
        {
            "cell_type": "code",
            "source": [
                "UPDATE OrdersForTriggers SET TotalAmount = 150.00 WHERE OrderID = 1;\n",
                "-- Check the messages in the output window."
            ],
            "metadata": {
                "language": "sql",
                "azdata_cell_guid": "d7ec933f-4d0d-4585-bc21-6752a5eb0722"
            },
            "outputs": [
                {
                    "output_type": "display_data",
                    "data": {
                        "text/html": "(1 row affected)"
                    },
                    "metadata": {}
                },
                {
                    "output_type": "display_data",
                    "data": {
                        "text/html": "(1 row affected)"
                    },
                    "metadata": {}
                },
                {
                    "output_type": "display_data",
                    "data": {
                        "text/html": "Total execution time: 00:00:00.006"
                    },
                    "metadata": {}
                }
            ],
            "execution_count": 22
        },
        {
            "cell_type": "code",
            "source": [
                "SELECT * FROM AuditLog;"
            ],
            "metadata": {
                "language": "sql",
                "azdata_cell_guid": "d2210b65-7e20-44e0-a643-b775dff2b556"
            },
            "outputs": [
                {
                    "output_type": "display_data",
                    "data": {
                        "text/html": "(1 row affected)"
                    },
                    "metadata": {}
                },
                {
                    "output_type": "display_data",
                    "data": {
                        "text/html": "Total execution time: 00:00:00.007"
                    },
                    "metadata": {}
                },
                {
                    "output_type": "execute_result",
                    "metadata": {},
                    "execution_count": 23,
                    "data": {
                        "application/vnd.dataresource+json": {
                            "schema": {
                                "fields": [
                                    {
                                        "name": "LogID"
                                    },
                                    {
                                        "name": "LogDate"
                                    },
                                    {
                                        "name": "LogMessage"
                                    }
                                ]
                            },
                            "data": [
                                {
                                    "LogID": "1",
                                    "LogDate": "2024-01-02 05:39:34.807",
                                    "LogMessage": "Update operation prevented for Orders table"
                                }
                            ]
                        },
                        "text/html": [
                            "<table>",
                            "<tr><th>LogID</th><th>LogDate</th><th>LogMessage</th></tr>",
                            "<tr><td>1</td><td>2024-01-02 05:39:34.807</td><td>Update operation prevented for Orders table</td></tr>",
                            "</table>"
                        ]
                    }
                }
            ],
            "execution_count": 23
        },
        {
            "cell_type": "markdown",
            "source": [
                "#### 8. Practice Questions:\n",
                "\n",
                "1. **Question 1:**\n",
                "   Explain the difference between AFTER and INSTEAD OF triggers.\n",
                "\n",
                "2. **Question 2:**\n",
                "   Create an AFTER DELETE trigger that logs deleted orders into an AuditLog table.\n",
                "\n",
                "3. **Question 3:**\n",
                "   How can triggers be used for data validation?\n",
                "\n",
                "4. **Question 4:**\n",
                "   Create an INSTEAD OF INSERT trigger that prevents inserting orders with a TotalAmount less than 50.\n",
                "\n",
                "5. **Question 5:**\n",
                "   Discuss the potential impact of poorly designed triggers on database performance."
            ],
            "metadata": {
                "language": "sql",
                "azdata_cell_guid": "9cd51955-9854-434a-a39b-13870115b0a9"
            },
            "attachments": {}
        },
        {
            "cell_type": "markdown",
            "source": [
                "**9. Some Facts:**\n",
                "\n",
                "Triggers can be powerful tools for implementing complex business logic within the database? They offer a way to enforce data integrity, automate tasks, and handle various events, making them a valuable feature in SQL Server. As you delve deeper into the world of triggers, you'll discover more ways to optimize and customize database operations."
            ],
            "metadata": {
                "language": "sql",
                "azdata_cell_guid": "31db3c23-f264-4ab8-8d0f-ebb227314105"
            },
            "attachments": {}
        },
        {
            "cell_type": "markdown",
            "source": [
                "**10. Do you know ?**\n",
                "\n",
                "Did you know that triggers have been around since the early days of databases? They were first introduced in the 1970s as a way to automate certain actions, and their role has evolved over time with advancements in database technology. Triggers are like the unsung heroes quietly working behind the scenes in the database world!"
            ],
            "metadata": {
                "language": "sql",
                "azdata_cell_guid": "cc647052-1a17-4a0d-9f65-fd94c5fd257a"
            },
            "attachments": {}
        }
    ]
}