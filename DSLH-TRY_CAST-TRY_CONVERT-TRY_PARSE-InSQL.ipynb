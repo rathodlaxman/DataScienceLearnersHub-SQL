{
    "metadata": {
        "kernelspec": {
            "name": "SQL",
            "display_name": "SQL",
            "language": "sql"
        },
        "language_info": {
            "name": "sql",
            "version": ""
        }
    },
    "nbformat_minor": 2,
    "nbformat": 4,
    "cells": [
        {
            "cell_type": "markdown",
            "source": [
                "# **`Data Science Learners Hub`**\n",
                "\n",
                "**Module : SQL**\n",
                "\n",
                "**email** : [datasciencelearnershub@gmail.com](mailto:datasciencelearnershub@gmail.com)"
            ],
            "metadata": {
                "azdata_cell_guid": "1850d65c-ce49-4e3a-8d36-c211124e6069"
            },
            "attachments": {}
        },
        {
            "cell_type": "markdown",
            "source": [
                "### **# `TRY_CAST`, `TRY_CONVERT`, and `TRY_PARSE` in SQL:**"
            ],
            "metadata": {
                "azdata_cell_guid": "8eb9b49a-4932-4f70-9758-f9dca829e091"
            },
            "attachments": {}
        },
        {
            "cell_type": "markdown",
            "source": [
                "**1. Introduction:**\n",
                "\n",
                "In SQL, when we want to convert or parse data from one type to another, we use functions like `CAST`, `CONVERT`, and `PARSE`. However, sometimes the conversion might fail, leading to errors. That's where the `TRY_CAST`, `TRY_CONVERT`, and `TRY_PARSE` functions come in—they attempt the conversion and return `NULL` if it fails, preventing your query from breaking.\n",
                "\n",
                "**2. Why Learn This Topic:**\n",
                "\n",
                "Learning these functions is crucial because they help handle potential errors during data conversion. In real-world scenarios, you might encounter data in unexpected formats, and these functions allow you to gracefully handle such situations without crashing your SQL statements.\n",
                "\n",
                "**3. Real-world Applications:**\n",
                "\n",
                "Consider a scenario where you are dealing with user-input data in a web form. Users may input dates, numbers, or other information in various formats. Using `TRY_CAST`, `TRY_CONVERT`, and `TRY_PARSE` can help ensure that your database doesn't reject entries due to format discrepancies, providing a smoother user experience.\n",
                "\n",
                "**4. Syntax and Types:**\n",
                "\n",
                "a. **`TRY_CAST`:**\n",
                "   ```sql\n",
                "   TRY_CAST ( expression AS data_type )\n",
                "   ```\n",
                "   Example:\n",
                "   ```sql\n",
                "   SELECT TRY_CAST('2022-01-01' AS DATE) AS ConvertedDate;\n",
                "   ```\n",
                "\n",
                "b. **`TRY_CONVERT`:**\n",
                "   ```sql\n",
                "   TRY_CONVERT ( data_type, expression [, style] )\n",
                "   ```\n",
                "   Example:\n",
                "   ```sql\n",
                "   SELECT TRY_CONVERT(DATE, '2022-01-01', 120) AS ConvertedDate;\n",
                "   ```\n",
                "\n",
                "c. **`TRY_PARSE`:**\n",
                "   ```sql\n",
                "   TRY_PARSE ( string_value AS data_type [ USING culture ] )\n",
                "   ```\n",
                "   Example:\n",
                "   ```sql\n",
                "   SELECT TRY_PARSE('2022-01-01' AS DATE) AS ConvertedDate;\n",
                "   ```\n",
                "\n",
                "**5. Practical Applications:**\n",
                "\n",
                "- **Handling mixed-type columns**: Safely convert values during analysis.\n",
                "\n",
                "- **User input validation**: Prevent errors from invalid data entry.\n",
                "\n",
                "- **Data cleaning**: Identify and correct invalid data types.\n",
                "\n",
                "- **Data integration**: Handle inconsistencies between data sources.\n",
                "\n",
                "**6. Considerations:**\n",
                "\n",
                "- These functions return `NULL` if the conversion fails, so always check for `NULL` in your subsequent logic.\n",
                "- The optional parameters, such as `style` for `TRY_CONVERT` and `culture` for `TRY_PARSE`, provide additional control over the conversion process.\n",
                "\n",
                "**7. Common Mistakes:**\n",
                "\n",
                "A common mistake is assuming that these functions always return the expected result. It's essential to handle the potential `NULL` result and implement appropriate logic.\n",
                ""
            ],
            "metadata": {
                "azdata_cell_guid": "d185371e-263e-4ae4-a7e0-7ec2873e98ce"
            },
            "attachments": {}
        },
        {
            "cell_type": "markdown",
            "source": [
                "**8. Hands-on Experience:**\n",
                "\n",
                "Let's create a sample table and use these functions:"
            ],
            "metadata": {
                "azdata_cell_guid": "928ef36a-6003-4914-bba2-de2d29bea0c5"
            },
            "attachments": {}
        },
        {
            "cell_type": "code",
            "source": [
                "USE DataScienceLearnersHub"
            ],
            "metadata": {
                "azdata_cell_guid": "41d33a66-48d2-40ae-9db4-36fd84514f69",
                "language": "sql"
            },
            "outputs": [
                {
                    "output_type": "display_data",
                    "data": {
                        "text/html": "Commands completed successfully."
                    },
                    "metadata": {}
                },
                {
                    "output_type": "display_data",
                    "data": {
                        "text/html": "Total execution time: 00:00:00.001"
                    },
                    "metadata": {}
                }
            ],
            "execution_count": 1
        },
        {
            "cell_type": "code",
            "source": [
                "-- Creating a Sample Table\n",
                "CREATE TABLE student_scores (\n",
                "    student_id INT PRIMARY KEY,\n",
                "    math_score VARCHAR(10)\n",
                ");"
            ],
            "metadata": {
                "language": "sql",
                "azdata_cell_guid": "7a1dfb22-e43d-4801-9b58-5be2826cc7d8"
            },
            "outputs": [
                {
                    "output_type": "display_data",
                    "data": {
                        "text/html": "Commands completed successfully."
                    },
                    "metadata": {}
                },
                {
                    "output_type": "display_data",
                    "data": {
                        "text/html": "Total execution time: 00:00:00.023"
                    },
                    "metadata": {}
                }
            ],
            "execution_count": 1
        },
        {
            "cell_type": "code",
            "source": [
                "-- Inserting Sample Data\n",
                "INSERT INTO student_scores VALUES (1, '90'), (2, 'ABC'), (3, '85'), (4, '95');\n",
                ""
            ],
            "metadata": {
                "language": "sql",
                "azdata_cell_guid": "380a4d7a-f84d-484f-8f23-058472c4110b"
            },
            "outputs": [
                {
                    "output_type": "display_data",
                    "data": {
                        "text/html": "(4 rows affected)"
                    },
                    "metadata": {}
                },
                {
                    "output_type": "display_data",
                    "data": {
                        "text/html": "Total execution time: 00:00:00.007"
                    },
                    "metadata": {}
                }
            ],
            "execution_count": 11
        },
        {
            "cell_type": "code",
            "source": [
                "SELECT * FROM student_scores"
            ],
            "metadata": {
                "language": "sql",
                "azdata_cell_guid": "b698377c-ce72-4f07-b729-aaa853927c8c"
            },
            "outputs": [
                {
                    "output_type": "display_data",
                    "data": {
                        "text/html": "(4 rows affected)"
                    },
                    "metadata": {}
                },
                {
                    "output_type": "display_data",
                    "data": {
                        "text/html": "Total execution time: 00:00:00.005"
                    },
                    "metadata": {}
                },
                {
                    "output_type": "execute_result",
                    "metadata": {},
                    "execution_count": 12,
                    "data": {
                        "application/vnd.dataresource+json": {
                            "schema": {
                                "fields": [
                                    {
                                        "name": "student_id"
                                    },
                                    {
                                        "name": "math_score"
                                    }
                                ]
                            },
                            "data": [
                                {
                                    "student_id": "1",
                                    "math_score": "90"
                                },
                                {
                                    "student_id": "2",
                                    "math_score": "ABC"
                                },
                                {
                                    "student_id": "3",
                                    "math_score": "85"
                                },
                                {
                                    "student_id": "4",
                                    "math_score": "95"
                                }
                            ]
                        },
                        "text/html": [
                            "<table>",
                            "<tr><th>student_id</th><th>math_score</th></tr>",
                            "<tr><td>1</td><td>90</td></tr>",
                            "<tr><td>2</td><td>ABC</td></tr>",
                            "<tr><td>3</td><td>85</td></tr>",
                            "<tr><td>4</td><td>95</td></tr>",
                            "</table>"
                        ]
                    }
                }
            ],
            "execution_count": 12
        },
        {
            "cell_type": "markdown",
            "source": [
                "**Question 1. Handling Numeric Values:**\n",
                "   - Use `TRY_CAST` to convert `math_score` to an integer, and handle any conversion errors."
            ],
            "metadata": {
                "language": "sql",
                "azdata_cell_guid": "107a0e12-5817-4ad8-9ed3-9feb84c444a5"
            },
            "attachments": {}
        },
        {
            "cell_type": "code",
            "source": [
                "SELECT student_id, TRY_CAST(math_score AS INT) AS converted_math_score FROM student_scores;"
            ],
            "metadata": {
                "language": "sql",
                "azdata_cell_guid": "b8aa28dc-e599-4c22-92b7-7274d3fb6420"
            },
            "outputs": [
                {
                    "output_type": "display_data",
                    "data": {
                        "text/html": "(4 rows affected)"
                    },
                    "metadata": {}
                },
                {
                    "output_type": "display_data",
                    "data": {
                        "text/html": "Total execution time: 00:00:00.004"
                    },
                    "metadata": {}
                },
                {
                    "output_type": "execute_result",
                    "metadata": {},
                    "execution_count": 13,
                    "data": {
                        "application/vnd.dataresource+json": {
                            "schema": {
                                "fields": [
                                    {
                                        "name": "student_id"
                                    },
                                    {
                                        "name": "converted_math_score"
                                    }
                                ]
                            },
                            "data": [
                                {
                                    "student_id": "1",
                                    "converted_math_score": "90"
                                },
                                {
                                    "student_id": "2",
                                    "converted_math_score": "NULL"
                                },
                                {
                                    "student_id": "3",
                                    "converted_math_score": "85"
                                },
                                {
                                    "student_id": "4",
                                    "converted_math_score": "95"
                                }
                            ]
                        },
                        "text/html": [
                            "<table>",
                            "<tr><th>student_id</th><th>converted_math_score</th></tr>",
                            "<tr><td>1</td><td>90</td></tr>",
                            "<tr><td>2</td><td>NULL</td></tr>",
                            "<tr><td>3</td><td>85</td></tr>",
                            "<tr><td>4</td><td>95</td></tr>",
                            "</table>"
                        ]
                    }
                }
            ],
            "execution_count": 13
        },
        {
            "cell_type": "markdown",
            "source": [
                "**Question 2. Style in Date Conversion:**\n",
                "   - Use `TRY_CONVERT` to convert `math_score` to an integer, specifying a style of your choice."
            ],
            "metadata": {
                "language": "sql",
                "azdata_cell_guid": "1298f105-470c-4897-9085-b7df5d31ce05"
            },
            "attachments": {}
        },
        {
            "cell_type": "code",
            "source": [
                "INSERT INTO student_scores VALUES (5, '90'), (6, 'ABC'), (7, '85');"
            ],
            "metadata": {
                "language": "sql",
                "azdata_cell_guid": "f5b34d92-3ae5-4b03-9ca2-0ddfdf0b5c43"
            },
            "outputs": [
                {
                    "output_type": "display_data",
                    "data": {
                        "text/html": "(3 rows affected)"
                    },
                    "metadata": {}
                },
                {
                    "output_type": "display_data",
                    "data": {
                        "text/html": "Total execution time: 00:00:00.006"
                    },
                    "metadata": {}
                }
            ],
            "execution_count": 14
        },
        {
            "cell_type": "code",
            "source": [
                "SELECT * FROM student_scores"
            ],
            "metadata": {
                "language": "sql",
                "azdata_cell_guid": "b7992f64-1e1c-43d4-9eb2-67a084c2298e"
            },
            "outputs": [
                {
                    "output_type": "display_data",
                    "data": {
                        "text/html": "(7 rows affected)"
                    },
                    "metadata": {}
                },
                {
                    "output_type": "display_data",
                    "data": {
                        "text/html": "Total execution time: 00:00:00.003"
                    },
                    "metadata": {}
                },
                {
                    "output_type": "execute_result",
                    "metadata": {},
                    "execution_count": 15,
                    "data": {
                        "application/vnd.dataresource+json": {
                            "schema": {
                                "fields": [
                                    {
                                        "name": "student_id"
                                    },
                                    {
                                        "name": "math_score"
                                    }
                                ]
                            },
                            "data": [
                                {
                                    "student_id": "1",
                                    "math_score": "90"
                                },
                                {
                                    "student_id": "2",
                                    "math_score": "ABC"
                                },
                                {
                                    "student_id": "3",
                                    "math_score": "85"
                                },
                                {
                                    "student_id": "4",
                                    "math_score": "95"
                                },
                                {
                                    "student_id": "5",
                                    "math_score": "90"
                                },
                                {
                                    "student_id": "6",
                                    "math_score": "ABC"
                                },
                                {
                                    "student_id": "7",
                                    "math_score": "85"
                                }
                            ]
                        },
                        "text/html": [
                            "<table>",
                            "<tr><th>student_id</th><th>math_score</th></tr>",
                            "<tr><td>1</td><td>90</td></tr>",
                            "<tr><td>2</td><td>ABC</td></tr>",
                            "<tr><td>3</td><td>85</td></tr>",
                            "<tr><td>4</td><td>95</td></tr>",
                            "<tr><td>5</td><td>90</td></tr>",
                            "<tr><td>6</td><td>ABC</td></tr>",
                            "<tr><td>7</td><td>85</td></tr>",
                            "</table>"
                        ]
                    }
                }
            ],
            "execution_count": 15
        },
        {
            "cell_type": "code",
            "source": [
                "SELECT student_id, TRY_CONVERT(INT, math_score, 1) AS converted_math_score FROM student_scores;"
            ],
            "metadata": {
                "language": "sql",
                "azdata_cell_guid": "c8c9bd6f-a9a4-49d3-a5ad-2b4802ce1763"
            },
            "outputs": [
                {
                    "output_type": "display_data",
                    "data": {
                        "text/html": "(7 rows affected)"
                    },
                    "metadata": {}
                },
                {
                    "output_type": "display_data",
                    "data": {
                        "text/html": "Total execution time: 00:00:00.003"
                    },
                    "metadata": {}
                },
                {
                    "output_type": "execute_result",
                    "metadata": {},
                    "execution_count": 16,
                    "data": {
                        "application/vnd.dataresource+json": {
                            "schema": {
                                "fields": [
                                    {
                                        "name": "student_id"
                                    },
                                    {
                                        "name": "converted_math_score"
                                    }
                                ]
                            },
                            "data": [
                                {
                                    "student_id": "1",
                                    "converted_math_score": "90"
                                },
                                {
                                    "student_id": "2",
                                    "converted_math_score": "NULL"
                                },
                                {
                                    "student_id": "3",
                                    "converted_math_score": "85"
                                },
                                {
                                    "student_id": "4",
                                    "converted_math_score": "95"
                                },
                                {
                                    "student_id": "5",
                                    "converted_math_score": "90"
                                },
                                {
                                    "student_id": "6",
                                    "converted_math_score": "NULL"
                                },
                                {
                                    "student_id": "7",
                                    "converted_math_score": "85"
                                }
                            ]
                        },
                        "text/html": [
                            "<table>",
                            "<tr><th>student_id</th><th>converted_math_score</th></tr>",
                            "<tr><td>1</td><td>90</td></tr>",
                            "<tr><td>2</td><td>NULL</td></tr>",
                            "<tr><td>3</td><td>85</td></tr>",
                            "<tr><td>4</td><td>95</td></tr>",
                            "<tr><td>5</td><td>90</td></tr>",
                            "<tr><td>6</td><td>NULL</td></tr>",
                            "<tr><td>7</td><td>85</td></tr>",
                            "</table>"
                        ]
                    }
                }
            ],
            "execution_count": 16
        },
        {
            "cell_type": "markdown",
            "source": [
                "**Question 3. Cultural Date Parsing:**\n",
                "   - Use `TRY_PARSE` to convert `math_score` to a date, specifying a culture of your choice."
            ],
            "metadata": {
                "language": "sql",
                "azdata_cell_guid": "875cd5c2-5445-4ee9-a385-67ba51f3a3b5"
            },
            "attachments": {}
        },
        {
            "cell_type": "code",
            "source": [
                "SELECT student_id, TRY_PARSE(math_score AS DATE USING 'en-US') AS converted_math_score FROM student_scores;"
            ],
            "metadata": {
                "language": "sql",
                "azdata_cell_guid": "3d7e9528-5f01-4c8c-a317-30f4fbb91e24"
            },
            "outputs": [
                {
                    "output_type": "display_data",
                    "data": {
                        "text/html": "Total execution time: 00:00:00.030"
                    },
                    "metadata": {}
                },
                {
                    "output_type": "execute_result",
                    "metadata": {},
                    "execution_count": 17,
                    "data": {
                        "application/vnd.dataresource+json": {
                            "schema": {
                                "fields": [
                                    {
                                        "name": "student_id"
                                    },
                                    {
                                        "name": "converted_math_score"
                                    }
                                ]
                            },
                            "data": []
                        },
                        "text/html": [
                            "<table>",
                            "<tr><th>student_id</th><th>converted_math_score</th></tr>",
                            "</table>"
                        ]
                    }
                },
                {
                    "output_type": "error",
                    "evalue": "Msg 10347, Level 16, State 1, Line 1\nCommon Language Runtime(CLR) is not enabled on this instance.",
                    "ename": "",
                    "traceback": []
                }
            ],
            "execution_count": 17
        },
        {
            "cell_type": "markdown",
            "source": [
                "**Question 4. Aggregate Function with TRY:**\n",
                "   - Use an aggregate function (e.g., `SUM`) along with `TRY_CAST` to calculate the total math scores, handling any conversion errors."
            ],
            "metadata": {
                "language": "sql",
                "azdata_cell_guid": "fd979597-eb73-4483-8042-7b3c5006e724"
            },
            "attachments": {}
        },
        {
            "cell_type": "code",
            "source": [
                "SELECT SUM(TRY_CAST(math_score AS INT)) AS total_math_score FROM student_scores;"
            ],
            "metadata": {
                "language": "sql",
                "azdata_cell_guid": "525116a7-375a-4fed-b389-6e67732c7ee9"
            },
            "outputs": [
                {
                    "output_type": "display_data",
                    "data": {
                        "text/html": "Warning: Null value is eliminated by an aggregate or other SET operation."
                    },
                    "metadata": {}
                },
                {
                    "output_type": "display_data",
                    "data": {
                        "text/html": "(1 row affected)"
                    },
                    "metadata": {}
                },
                {
                    "output_type": "display_data",
                    "data": {
                        "text/html": "Total execution time: 00:00:00.028"
                    },
                    "metadata": {}
                },
                {
                    "output_type": "execute_result",
                    "metadata": {},
                    "execution_count": 18,
                    "data": {
                        "application/vnd.dataresource+json": {
                            "schema": {
                                "fields": [
                                    {
                                        "name": "total_math_score"
                                    }
                                ]
                            },
                            "data": [
                                {
                                    "total_math_score": "445"
                                }
                            ]
                        },
                        "text/html": [
                            "<table>",
                            "<tr><th>total_math_score</th></tr>",
                            "<tr><td>445</td></tr>",
                            "</table>"
                        ]
                    }
                }
            ],
            "execution_count": 18
        },
        {
            "cell_type": "markdown",
            "source": [
                "**9. Homework Assignment:**\n",
                "\n",
                "a. **Advanced Conversion:**\n",
                "   - Implement a scenario where you need to convert a string to a decimal with precision. Use `TRY_CAST` and handle the errors appropriately.\n",
                "\n",
                "b. **Conditional Logic:**\n",
                "   - Create a query that includes a conditional statement based on the result of `TRY_CONVERT`. For example, print 'Pass' if the conversion is successful and 'Fail' otherwise.\n",
                "\n",
                "c. **Custom Handling:**\n",
                "   - Implement custom logic for handling conversion errors. For instance, if a score is not a valid number, set it to a default value.\n",
                "\n",
                "d. **Multiple Conversions:**\n",
                "   - Work with a scenario where you need to perform multiple conversions in a single query, using a combination of these functions.\n",
                "\n",
                "e. **Handling Date Range:**\n",
                "   - Convert a date string to a date type using `TRY_PARSE` and ensure that the result falls within a specified date range."
            ],
            "metadata": {
                "language": "sql",
                "azdata_cell_guid": "ebb06ca9-edc0-42f1-9bd9-71af6357d2ad"
            },
            "attachments": {}
        },
        {
            "cell_type": "markdown",
            "source": [
                "**`Note` :** Solutions provided at the end. First try by urself"
            ],
            "metadata": {
                "language": "sql",
                "azdata_cell_guid": "7037399c-c5d2-45d3-ac2f-b1afc3cd2062"
            },
            "attachments": {}
        },
        {
            "cell_type": "markdown",
            "source": [
                "**10. Do you know ?:**\n",
                "\n",
                "Did you know that these functions are a part of T-SQL enhancements introduced in SQL Server 2012? They provide more robust ways to handle data conversions and parsing, making it easier for developers to deal with diverse data formats in a SQL Server environment. Always check the documentation for the specific version you are using to ensure compatibility and access to the latest features."
            ],
            "metadata": {
                "language": "sql",
                "azdata_cell_guid": "f750258a-1567-464b-8e42-3cd852513077"
            },
            "attachments": {}
        },
        {
            "cell_type": "markdown",
            "source": [
                "**11. Solution for the Homework Assignment:**"
            ],
            "metadata": {
                "language": "sql",
                "azdata_cell_guid": "a74f11dc-2d03-4304-a62a-1d2d01af3cc0"
            },
            "attachments": {}
        },
        {
            "cell_type": "markdown",
            "source": [
                "**Question (a). Advanced Conversion:**\n",
                "   - Implement a scenario where you need to convert a string to a decimal with precision. Use `TRY_CAST` and handle the errors appropriately."
            ],
            "metadata": {
                "language": "sql",
                "azdata_cell_guid": "fc274bd4-0454-4155-93f2-62107c9ca58b"
            },
            "attachments": {}
        },
        {
            "cell_type": "code",
            "source": [
                " SELECT student_id, TRY_CAST(math_score AS DECIMAL(5,2)) AS converted_math_score FROM student_scores;"
            ],
            "metadata": {
                "language": "sql",
                "azdata_cell_guid": "7deb1c8a-c3c6-4d16-8251-22e9d8b18deb"
            },
            "outputs": [
                {
                    "output_type": "display_data",
                    "data": {
                        "text/html": "(7 rows affected)"
                    },
                    "metadata": {}
                },
                {
                    "output_type": "display_data",
                    "data": {
                        "text/html": "Total execution time: 00:00:00.013"
                    },
                    "metadata": {}
                },
                {
                    "output_type": "execute_result",
                    "metadata": {},
                    "execution_count": 19,
                    "data": {
                        "application/vnd.dataresource+json": {
                            "schema": {
                                "fields": [
                                    {
                                        "name": "student_id"
                                    },
                                    {
                                        "name": "converted_math_score"
                                    }
                                ]
                            },
                            "data": [
                                {
                                    "student_id": "1",
                                    "converted_math_score": "90.00"
                                },
                                {
                                    "student_id": "2",
                                    "converted_math_score": "NULL"
                                },
                                {
                                    "student_id": "3",
                                    "converted_math_score": "85.00"
                                },
                                {
                                    "student_id": "4",
                                    "converted_math_score": "95.00"
                                },
                                {
                                    "student_id": "5",
                                    "converted_math_score": "90.00"
                                },
                                {
                                    "student_id": "6",
                                    "converted_math_score": "NULL"
                                },
                                {
                                    "student_id": "7",
                                    "converted_math_score": "85.00"
                                }
                            ]
                        },
                        "text/html": [
                            "<table>",
                            "<tr><th>student_id</th><th>converted_math_score</th></tr>",
                            "<tr><td>1</td><td>90.00</td></tr>",
                            "<tr><td>2</td><td>NULL</td></tr>",
                            "<tr><td>3</td><td>85.00</td></tr>",
                            "<tr><td>4</td><td>95.00</td></tr>",
                            "<tr><td>5</td><td>90.00</td></tr>",
                            "<tr><td>6</td><td>NULL</td></tr>",
                            "<tr><td>7</td><td>85.00</td></tr>",
                            "</table>"
                        ]
                    }
                }
            ],
            "execution_count": 19
        },
        {
            "cell_type": "markdown",
            "source": [
                "**Question (b). Conditional Logic:**\n",
                "   - Create a query that includes a conditional statement based on the result of `TRY_CONVERT`. For example, print 'Pass' if the conversion is successful and 'Fail' otherwise."
            ],
            "metadata": {
                "language": "sql",
                "azdata_cell_guid": "4e9d817d-16c9-4b3d-ba6a-5e11feca8c4c"
            },
            "attachments": {}
        },
        {
            "cell_type": "code",
            "source": [
                "SELECT \n",
                "    student_id,\n",
                "    CASE \n",
                "        WHEN TRY_CONVERT(INT, math_score) IS NOT NULL THEN 'Pass'\n",
                "        ELSE 'Fail'\n",
                "    END AS result\n",
                "FROM student_scores;"
            ],
            "metadata": {
                "language": "",
                "azdata_cell_guid": "3ad932dd-879f-4d9e-ac19-4b25b962199f"
            },
            "outputs": [
                {
                    "output_type": "display_data",
                    "data": {
                        "text/html": "(7 rows affected)"
                    },
                    "metadata": {}
                },
                {
                    "output_type": "display_data",
                    "data": {
                        "text/html": "Total execution time: 00:00:00.012"
                    },
                    "metadata": {}
                },
                {
                    "output_type": "execute_result",
                    "metadata": {},
                    "execution_count": 20,
                    "data": {
                        "application/vnd.dataresource+json": {
                            "schema": {
                                "fields": [
                                    {
                                        "name": "student_id"
                                    },
                                    {
                                        "name": "result"
                                    }
                                ]
                            },
                            "data": [
                                {
                                    "student_id": "1",
                                    "result": "Pass"
                                },
                                {
                                    "student_id": "2",
                                    "result": "Fail"
                                },
                                {
                                    "student_id": "3",
                                    "result": "Pass"
                                },
                                {
                                    "student_id": "4",
                                    "result": "Pass"
                                },
                                {
                                    "student_id": "5",
                                    "result": "Pass"
                                },
                                {
                                    "student_id": "6",
                                    "result": "Fail"
                                },
                                {
                                    "student_id": "7",
                                    "result": "Pass"
                                }
                            ]
                        },
                        "text/html": [
                            "<table>",
                            "<tr><th>student_id</th><th>result</th></tr>",
                            "<tr><td>1</td><td>Pass</td></tr>",
                            "<tr><td>2</td><td>Fail</td></tr>",
                            "<tr><td>3</td><td>Pass</td></tr>",
                            "<tr><td>4</td><td>Pass</td></tr>",
                            "<tr><td>5</td><td>Pass</td></tr>",
                            "<tr><td>6</td><td>Fail</td></tr>",
                            "<tr><td>7</td><td>Pass</td></tr>",
                            "</table>"
                        ]
                    }
                }
            ],
            "execution_count": 20
        },
        {
            "cell_type": "markdown",
            "source": [
                "**Question (c). Custom Handling:**\n",
                "   - Implement custom logic for handling conversion errors. For instance, if a score is not a valid number, set it to a default value.\n",
                ""
            ],
            "metadata": {
                "azdata_cell_guid": "332ba2e1-814c-43e3-9dd1-382f908b88a3"
            },
            "attachments": {}
        },
        {
            "cell_type": "code",
            "source": [
                "SELECT \n",
                "    student_id,\n",
                "    COALESCE(TRY_CAST(math_score AS INT), -1) AS converted_math_score\n",
                "FROM student_scores;"
            ],
            "metadata": {
                "azdata_cell_guid": "e77da8a5-0fc6-4d52-9651-f309d83503db",
                "language": "sql"
            },
            "outputs": [
                {
                    "output_type": "display_data",
                    "data": {
                        "text/html": "(7 rows affected)"
                    },
                    "metadata": {}
                },
                {
                    "output_type": "display_data",
                    "data": {
                        "text/html": "Total execution time: 00:00:00.013"
                    },
                    "metadata": {}
                },
                {
                    "output_type": "execute_result",
                    "metadata": {},
                    "execution_count": 21,
                    "data": {
                        "application/vnd.dataresource+json": {
                            "schema": {
                                "fields": [
                                    {
                                        "name": "student_id"
                                    },
                                    {
                                        "name": "converted_math_score"
                                    }
                                ]
                            },
                            "data": [
                                {
                                    "student_id": "1",
                                    "converted_math_score": "90"
                                },
                                {
                                    "student_id": "2",
                                    "converted_math_score": "-1"
                                },
                                {
                                    "student_id": "3",
                                    "converted_math_score": "85"
                                },
                                {
                                    "student_id": "4",
                                    "converted_math_score": "95"
                                },
                                {
                                    "student_id": "5",
                                    "converted_math_score": "90"
                                },
                                {
                                    "student_id": "6",
                                    "converted_math_score": "-1"
                                },
                                {
                                    "student_id": "7",
                                    "converted_math_score": "85"
                                }
                            ]
                        },
                        "text/html": [
                            "<table>",
                            "<tr><th>student_id</th><th>converted_math_score</th></tr>",
                            "<tr><td>1</td><td>90</td></tr>",
                            "<tr><td>2</td><td>-1</td></tr>",
                            "<tr><td>3</td><td>85</td></tr>",
                            "<tr><td>4</td><td>95</td></tr>",
                            "<tr><td>5</td><td>90</td></tr>",
                            "<tr><td>6</td><td>-1</td></tr>",
                            "<tr><td>7</td><td>85</td></tr>",
                            "</table>"
                        ]
                    }
                }
            ],
            "execution_count": 21
        },
        {
            "cell_type": "markdown",
            "source": [
                "**Question (d). Multiple Conversions:**\n",
                "   - Work with a scenario where you need to perform multiple conversions in a single query, using a combination of these functions."
            ],
            "metadata": {
                "language": "sql",
                "azdata_cell_guid": "5f6c3d6d-7b69-42a2-8b41-1fad88b90dba"
            },
            "attachments": {}
        },
        {
            "cell_type": "code",
            "source": [
                "SELECT \n",
                "    student_id,\n",
                "    TRY_CAST(math_score AS INT) AS converted_math_score,\n",
                "    TRY_PARSE(math_score AS DATE USING 'en-US') AS parsed_date\n",
                "FROM student_scores;"
            ],
            "metadata": {
                "language": "sql",
                "azdata_cell_guid": "74548fb6-a4ef-4a9a-b973-86a3640661af"
            },
            "outputs": [
                {
                    "output_type": "display_data",
                    "data": {
                        "text/html": "Total execution time: 00:00:00.016"
                    },
                    "metadata": {}
                },
                {
                    "output_type": "execute_result",
                    "metadata": {},
                    "execution_count": 22,
                    "data": {
                        "application/vnd.dataresource+json": {
                            "schema": {
                                "fields": [
                                    {
                                        "name": "student_id"
                                    },
                                    {
                                        "name": "converted_math_score"
                                    },
                                    {
                                        "name": "parsed_date"
                                    }
                                ]
                            },
                            "data": []
                        },
                        "text/html": [
                            "<table>",
                            "<tr><th>student_id</th><th>converted_math_score</th><th>parsed_date</th></tr>",
                            "</table>"
                        ]
                    }
                },
                {
                    "output_type": "error",
                    "evalue": "Msg 10347, Level 16, State 1, Line 1\nCommon Language Runtime(CLR) is not enabled on this instance.",
                    "ename": "",
                    "traceback": []
                }
            ],
            "execution_count": 22
        },
        {
            "cell_type": "markdown",
            "source": [
                "**Question (e). Handling Date Range:**\n",
                "   - Convert a date string to a date type using `TRY_PARSE` and ensure that the result falls within a specified date range."
            ],
            "metadata": {
                "language": "sql",
                "azdata_cell_guid": "50a69686-7a53-4ce6-b5b9-d6eb8f19a859"
            },
            "attachments": {}
        },
        {
            "cell_type": "code",
            "source": [
                "SELECT \n",
                "    student_id,\n",
                "    TRY_PARSE(math_score AS DATE USING 'en-US') AS parsed_date\n",
                "FROM student_scores\n",
                "WHERE TRY_PARSE(math_score AS DATE USING 'en-US') BETWEEN '2022-01-01' AND '2022-12-31';"
            ],
            "metadata": {
                "language": "sql",
                "azdata_cell_guid": "ab3b06e7-c273-4622-a20d-9892f4438885"
            },
            "outputs": [
                {
                    "output_type": "display_data",
                    "data": {
                        "text/html": "Total execution time: 00:00:00.021"
                    },
                    "metadata": {}
                },
                {
                    "output_type": "execute_result",
                    "metadata": {},
                    "execution_count": 23,
                    "data": {
                        "application/vnd.dataresource+json": {
                            "schema": {
                                "fields": [
                                    {
                                        "name": "student_id"
                                    },
                                    {
                                        "name": "parsed_date"
                                    }
                                ]
                            },
                            "data": []
                        },
                        "text/html": [
                            "<table>",
                            "<tr><th>student_id</th><th>parsed_date</th></tr>",
                            "</table>"
                        ]
                    }
                },
                {
                    "output_type": "error",
                    "evalue": "Msg 10347, Level 16, State 1, Line 1\nCommon Language Runtime(CLR) is not enabled on this instance.",
                    "ename": "",
                    "traceback": []
                }
            ],
            "execution_count": 23
        }
    ]
}