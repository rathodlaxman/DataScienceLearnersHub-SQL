{
    "metadata": {
        "kernelspec": {
            "name": "SQL",
            "display_name": "SQL",
            "language": "sql"
        },
        "language_info": {
            "name": "sql",
            "version": ""
        }
    },
    "nbformat_minor": 2,
    "nbformat": 4,
    "cells": [
        {
            "cell_type": "markdown",
            "source": [
                "# **Data Science Learners Hub**\n",
                "\n",
                "**Module : SQL**\n",
                "\n",
                "**Topic :** HAVING Clause\n",
                "\n",
                "**email** : [datasciencelearnershub@gmail.com](mailto:datasciencelearnershub@gmail.com)"
            ],
            "metadata": {
                "azdata_cell_guid": "b3b99144-c695-4231-af5e-dfa77534763e"
            },
            "attachments": {}
        },
        {
            "cell_type": "code",
            "source": [
                "USE DataScienceLearnersHub"
            ],
            "metadata": {
                "azdata_cell_guid": "ff155bfb-50a5-4f5f-901d-a00df6509f50",
                "language": "sql"
            },
            "outputs": [
                {
                    "output_type": "display_data",
                    "data": {
                        "text/html": "Commands completed successfully."
                    },
                    "metadata": {}
                },
                {
                    "output_type": "display_data",
                    "data": {
                        "text/html": "Total execution time: 00:00:00.002"
                    },
                    "metadata": {}
                }
            ],
            "execution_count": 1
        },
        {
            "cell_type": "markdown",
            "source": [
                "### **1\\. Create a simple table:**\n",
                "\n",
                "### \n",
                "\n",
                "- Let's create a table called \\`Orders\\` to illustrate examples for the HAVING clause."
            ],
            "metadata": {
                "language": "sql",
                "azdata_cell_guid": "8888618b-0c92-40eb-9e4d-222b730d351a"
            },
            "attachments": {}
        },
        {
            "cell_type": "code",
            "source": [
                "CREATE TABLE tblOrders (\n",
                "    OrderID INT PRIMARY KEY,\n",
                "    CustomerID INT,\n",
                "    OrderDate DATE,\n",
                "    TotalAmount DECIMAL(10, 2)\n",
                ");"
            ],
            "metadata": {
                "language": "sql",
                "azdata_cell_guid": "6073c942-91b3-4e09-a9f0-777b5052ef31"
            },
            "outputs": [
                {
                    "output_type": "display_data",
                    "data": {
                        "text/html": "Commands completed successfully."
                    },
                    "metadata": {}
                },
                {
                    "output_type": "display_data",
                    "data": {
                        "text/html": "Total execution time: 00:00:00.048"
                    },
                    "metadata": {}
                }
            ],
            "execution_count": 3
        },
        {
            "cell_type": "markdown",
            "source": [
                "### **2\\. Insert queries:**\n",
                "\n",
                "  \n",
                "\n",
                "- Insert some sample data into the table:"
            ],
            "metadata": {
                "language": "sql",
                "azdata_cell_guid": "1e25439e-caf2-4e04-ad53-11a375204f53"
            },
            "attachments": {}
        },
        {
            "cell_type": "code",
            "source": [
                "INSERT INTO tblOrders VALUES (1, 101, '2023-01-01', 500.00);\n",
                "INSERT INTO tblOrders VALUES (2, 102, '2023-01-02', 300.00);\n",
                "INSERT INTO tblOrders VALUES (3, 101, '2023-01-03', 800.00);\n",
                "INSERT INTO tblOrders VALUES (4, 103, '2023-01-04', 450.00);\n",
                "INSERT INTO tblOrders VALUES (5, 102, '2023-01-05', 700.00);"
            ],
            "metadata": {
                "language": "sql",
                "azdata_cell_guid": "d0b6f92a-2532-43ee-971c-f4f68fa04806"
            },
            "outputs": [
                {
                    "output_type": "display_data",
                    "data": {
                        "text/html": "(1 row affected)"
                    },
                    "metadata": {}
                },
                {
                    "output_type": "display_data",
                    "data": {
                        "text/html": "(1 row affected)"
                    },
                    "metadata": {}
                },
                {
                    "output_type": "display_data",
                    "data": {
                        "text/html": "(1 row affected)"
                    },
                    "metadata": {}
                },
                {
                    "output_type": "display_data",
                    "data": {
                        "text/html": "(1 row affected)"
                    },
                    "metadata": {}
                },
                {
                    "output_type": "display_data",
                    "data": {
                        "text/html": "(1 row affected)"
                    },
                    "metadata": {}
                },
                {
                    "output_type": "display_data",
                    "data": {
                        "text/html": "Total execution time: 00:00:00.023"
                    },
                    "metadata": {}
                }
            ],
            "execution_count": 5
        },
        {
            "cell_type": "code",
            "source": [
                "SELECT * FROM tblOrders"
            ],
            "metadata": {
                "language": "sql",
                "azdata_cell_guid": "01eeb0e8-5cd2-4148-bc70-09221b0a94ee"
            },
            "outputs": [
                {
                    "output_type": "display_data",
                    "data": {
                        "text/html": "(5 rows affected)"
                    },
                    "metadata": {}
                },
                {
                    "output_type": "display_data",
                    "data": {
                        "text/html": "Total execution time: 00:00:00.034"
                    },
                    "metadata": {}
                },
                {
                    "output_type": "execute_result",
                    "metadata": {},
                    "execution_count": 6,
                    "data": {
                        "application/vnd.dataresource+json": {
                            "schema": {
                                "fields": [
                                    {
                                        "name": "OrderID"
                                    },
                                    {
                                        "name": "CustomerID"
                                    },
                                    {
                                        "name": "OrderDate"
                                    },
                                    {
                                        "name": "TotalAmount"
                                    }
                                ]
                            },
                            "data": [
                                {
                                    "OrderID": "1",
                                    "CustomerID": "101",
                                    "OrderDate": "2023-01-01",
                                    "TotalAmount": "500.00"
                                },
                                {
                                    "OrderID": "2",
                                    "CustomerID": "102",
                                    "OrderDate": "2023-01-02",
                                    "TotalAmount": "300.00"
                                },
                                {
                                    "OrderID": "3",
                                    "CustomerID": "101",
                                    "OrderDate": "2023-01-03",
                                    "TotalAmount": "800.00"
                                },
                                {
                                    "OrderID": "4",
                                    "CustomerID": "103",
                                    "OrderDate": "2023-01-04",
                                    "TotalAmount": "450.00"
                                },
                                {
                                    "OrderID": "5",
                                    "CustomerID": "102",
                                    "OrderDate": "2023-01-05",
                                    "TotalAmount": "700.00"
                                }
                            ]
                        },
                        "text/html": [
                            "<table>",
                            "<tr><th>OrderID</th><th>CustomerID</th><th>OrderDate</th><th>TotalAmount</th></tr>",
                            "<tr><td>1</td><td>101</td><td>2023-01-01</td><td>500.00</td></tr>",
                            "<tr><td>2</td><td>102</td><td>2023-01-02</td><td>300.00</td></tr>",
                            "<tr><td>3</td><td>101</td><td>2023-01-03</td><td>800.00</td></tr>",
                            "<tr><td>4</td><td>103</td><td>2023-01-04</td><td>450.00</td></tr>",
                            "<tr><td>5</td><td>102</td><td>2023-01-05</td><td>700.00</td></tr>",
                            "</table>"
                        ]
                    }
                }
            ],
            "execution_count": 6
        },
        {
            "cell_type": "markdown",
            "source": [
                "### **3\\. HAVING Clause in MS SQL Server:**\n",
                "\n",
                "  \n",
                "\n",
                "- The \\`HAVING\\` clause is used in combination with the \\`GROUP BY\\` clause to filter the results of a query based on aggregate conditions.\n",
                "- It is specifically used to filter groups of rows returned by a \\`GROUP BY\\` clause.\n",
                "-"
            ],
            "metadata": {
                "language": "",
                "azdata_cell_guid": "96ca45bb-538e-4e11-876e-1a31bd4396da"
            },
            "attachments": {}
        },
        {
            "cell_type": "markdown",
            "source": [
                "### **4\\. Examples of HAVING Clause uses:**"
            ],
            "metadata": {
                "azdata_cell_guid": "ed5c1f27-27a2-43a9-9e33-ffac410c3445"
            },
            "attachments": {}
        },
        {
            "cell_type": "markdown",
            "source": [
                "**a. Simple HAVING:**\n",
                "\n",
                "- This query will return the average total amount for each customer, but only for those customers whose average total amount is greater than 500."
            ],
            "metadata": {
                "azdata_cell_guid": "91274146-b300-4406-907c-550e4aad8d1f"
            },
            "attachments": {}
        },
        {
            "cell_type": "code",
            "source": [
                "SELECT CustomerID, AVG(TotalAmount) AS AvgAmount\n",
                "FROM tblOrders\n",
                "GROUP BY CustomerID\n",
                "HAVING AVG(TotalAmount) > 500;"
            ],
            "metadata": {
                "azdata_cell_guid": "0c29c202-4a1a-4ebc-bd7d-710e0e53d1a1",
                "language": "sql"
            },
            "outputs": [
                {
                    "output_type": "display_data",
                    "data": {
                        "text/html": "(1 row affected)"
                    },
                    "metadata": {}
                },
                {
                    "output_type": "display_data",
                    "data": {
                        "text/html": "Total execution time: 00:00:00.049"
                    },
                    "metadata": {}
                },
                {
                    "output_type": "execute_result",
                    "metadata": {},
                    "execution_count": 8,
                    "data": {
                        "application/vnd.dataresource+json": {
                            "schema": {
                                "fields": [
                                    {
                                        "name": "CustomerID"
                                    },
                                    {
                                        "name": "AvgAmount"
                                    }
                                ]
                            },
                            "data": [
                                {
                                    "CustomerID": "101",
                                    "AvgAmount": "650.000000"
                                }
                            ]
                        },
                        "text/html": [
                            "<table>",
                            "<tr><th>CustomerID</th><th>AvgAmount</th></tr>",
                            "<tr><td>101</td><td>650.000000</td></tr>",
                            "</table>"
                        ]
                    }
                }
            ],
            "execution_count": 8
        },
        {
            "cell_type": "markdown",
            "source": [
                "**b. HAVING with COUNT:**\n",
                "\n",
                "- This query will show customers who have placed at least 2 orders."
            ],
            "metadata": {
                "language": "sql",
                "azdata_cell_guid": "dc0f6ce6-7948-48a6-85a2-3595d2f66da5"
            },
            "attachments": {}
        },
        {
            "cell_type": "code",
            "source": [
                "SELECT CustomerID, COUNT(OrderID) AS OrderCount\n",
                "FROM tblOrders\n",
                "GROUP BY CustomerID\n",
                "HAVING COUNT(OrderID) >= 2;"
            ],
            "metadata": {
                "language": "sql",
                "azdata_cell_guid": "e02ba052-dd80-43a7-be56-c317450f2909"
            },
            "outputs": [
                {
                    "output_type": "display_data",
                    "data": {
                        "text/html": "(2 rows affected)"
                    },
                    "metadata": {}
                },
                {
                    "output_type": "display_data",
                    "data": {
                        "text/html": "Total execution time: 00:00:00.037"
                    },
                    "metadata": {}
                },
                {
                    "output_type": "execute_result",
                    "metadata": {},
                    "execution_count": 9,
                    "data": {
                        "application/vnd.dataresource+json": {
                            "schema": {
                                "fields": [
                                    {
                                        "name": "CustomerID"
                                    },
                                    {
                                        "name": "OrderCount"
                                    }
                                ]
                            },
                            "data": [
                                {
                                    "CustomerID": "101",
                                    "OrderCount": "2"
                                },
                                {
                                    "CustomerID": "102",
                                    "OrderCount": "2"
                                }
                            ]
                        },
                        "text/html": [
                            "<table>",
                            "<tr><th>CustomerID</th><th>OrderCount</th></tr>",
                            "<tr><td>101</td><td>2</td></tr>",
                            "<tr><td>102</td><td>2</td></tr>",
                            "</table>"
                        ]
                    }
                }
            ],
            "execution_count": 9
        },
        {
            "cell_type": "markdown",
            "source": [
                "### **5\\. Practical application of HAVING Clause:**\n",
                "\n",
                "  \n",
                "\n",
                "- Practically, the \\`HAVING\\` clause is commonly used in scenarios where you want to filter aggregated results. \n",
                "- **Real-World Applications:**\n",
                "    - **Retail**: Identifying profitable product categories, monitoring low-stock items.\n",
                "    - **Finance**: Filtering investment portfolios by average return and risk.\n",
                "    - **Marketing**: Targeting ad campaigns based on customer demographics and purchase behavior."
            ],
            "metadata": {
                "language": "sql",
                "azdata_cell_guid": "ddb93567-c2f6-4877-bd9d-7ebbfb1d4f23"
            },
            "attachments": {}
        },
        {
            "cell_type": "markdown",
            "source": [
                "### **6\\. Peculiarities and Considerations:**\n",
                "\n",
                "  \n",
                "\n",
                "- The \\`HAVING\\` clause is applied after the \\`GROUP BY\\` clause.\n",
                "- It operates on aggregated data, so it's essential to use it with aggregate functions.\n",
                "- Conditions in the \\`HAVING\\` clause can involve any aggregate function.\n",
                "- **Be mindful of NULL values:** They may affect your HAVING conditions like unexpected guests.\n",
                "- **Don't confuse HAVING with WHERE:** Use WHERE to filter individual rows before grouping, HAVING to filter groups after."
            ],
            "metadata": {
                "language": "sql",
                "azdata_cell_guid": "1b6dd9cd-b570-435e-9187-b542b3208f74"
            },
            "attachments": {}
        },
        {
            "cell_type": "markdown",
            "source": [
                "### **7\\. Common mistakes:**\n",
                "\n",
                "  \n",
                "\n",
                "- Forgetting to use the \\`GROUP BY\\` clause before \\`HAVING\\`.\n",
                "- Incorrectly referencing columns in the \\`HAVING\\` clause.\n",
                "- Using column aliases defined in the \\`SELECT\\` clause directly in the \\`HAVING\\` clause (this might not work in all database systems).\n",
                "- Mixing non-aggregated columns with HAVING conditions"
            ],
            "metadata": {
                "language": "sql",
                "azdata_cell_guid": "b407ef6f-a285-4b21-843c-d210226fc428"
            },
            "attachments": {}
        },
        {
            "cell_type": "markdown",
            "source": [
                "### **8\\. Misc Points**\n",
                "\n",
                "- sd"
            ],
            "metadata": {
                "language": "sql",
                "azdata_cell_guid": "51f5d0f5-11b2-41d5-ab7f-9dcb6ac87d25"
            },
            "attachments": {}
        }
    ]
}