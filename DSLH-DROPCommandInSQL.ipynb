{
    "metadata": {
        "kernelspec": {
            "name": "SQL",
            "display_name": "SQL",
            "language": "sql"
        },
        "language_info": {
            "name": "sql",
            "version": ""
        }
    },
    "nbformat_minor": 2,
    "nbformat": 4,
    "cells": [
        {
            "cell_type": "markdown",
            "source": [
                "# **Data Science Learners Hub**\n",
                "\n",
                "**Module : SQL**\n",
                "\n",
                "**Topic :** **DROP Command**\n",
                "\n",
                "**email** : [datasciencelearnershub@gmail.com](mailto:datasciencelearnershub@gmail.com)"
            ],
            "metadata": {
                "azdata_cell_guid": "3a163020-205e-4b01-a88e-3c159b9dee9d"
            },
            "attachments": {}
        },
        {
            "cell_type": "markdown",
            "source": [
                "## **# DROP Command**"
            ],
            "metadata": {
                "azdata_cell_guid": "c2941cfe-1f78-4805-9840-49d7e304d16b"
            },
            "attachments": {}
        },
        {
            "cell_type": "code",
            "source": [
                "USE DataScienceLearnersHub"
            ],
            "metadata": {
                "azdata_cell_guid": "8938c308-9a67-4ea2-b580-9f35e10096f7",
                "language": "sql"
            },
            "outputs": [
                {
                    "output_type": "display_data",
                    "data": {
                        "text/html": "Commands completed successfully."
                    },
                    "metadata": {}
                },
                {
                    "output_type": "display_data",
                    "data": {
                        "text/html": "Total execution time: 00:00:00.005"
                    },
                    "metadata": {}
                }
            ],
            "execution_count": 2
        },
        {
            "cell_type": "code",
            "source": [
                "SELECT table_name\n",
                "FROM information_schema.tables\n",
                "WHERE table_type = 'BASE TABLE';\n",
                "\n",
                "-- NOTE : In the below output there is already Employees table so we will create a new table with name Employee"
            ],
            "metadata": {
                "language": "sql",
                "azdata_cell_guid": "873b6a57-15ac-40f9-8db4-5ab28c86215d",
                "tags": []
            },
            "outputs": [
                {
                    "output_type": "display_data",
                    "data": {
                        "text/html": "(17 rows affected)"
                    },
                    "metadata": {}
                },
                {
                    "output_type": "display_data",
                    "data": {
                        "text/html": "Total execution time: 00:00:00.063"
                    },
                    "metadata": {}
                },
                {
                    "output_type": "execute_result",
                    "metadata": {},
                    "execution_count": 3,
                    "data": {
                        "application/vnd.dataresource+json": {
                            "schema": {
                                "fields": [
                                    {
                                        "name": "table_name"
                                    }
                                ]
                            },
                            "data": [
                                {
                                    "table_name": "TestConstraints"
                                },
                                {
                                    "table_name": "employeeDetails"
                                },
                                {
                                    "table_name": "Emp"
                                },
                                {
                                    "table_name": "Emp_Temp"
                                },
                                {
                                    "table_name": "TEmp"
                                },
                                {
                                    "table_name": "Emp_Virtual_Column"
                                },
                                {
                                    "table_name": "Employees"
                                },
                                {
                                    "table_name": "customers"
                                },
                                {
                                    "table_name": "orders"
                                },
                                {
                                    "table_name": "products"
                                },
                                {
                                    "table_name": "tblStudent"
                                },
                                {
                                    "table_name": "StudentScores"
                                },
                                {
                                    "table_name": "Sales"
                                },
                                {
                                    "table_name": "tblOrders"
                                },
                                {
                                    "table_name": "tblSalesData"
                                },
                                {
                                    "table_name": "tblEmployeesNew"
                                },
                                {
                                    "table_name": "Student"
                                }
                            ]
                        },
                        "text/html": [
                            "<table>",
                            "<tr><th>table_name</th></tr>",
                            "<tr><td>TestConstraints</td></tr>",
                            "<tr><td>employeeDetails</td></tr>",
                            "<tr><td>Emp</td></tr>",
                            "<tr><td>Emp_Temp</td></tr>",
                            "<tr><td>TEmp</td></tr>",
                            "<tr><td>Emp_Virtual_Column</td></tr>",
                            "<tr><td>Employees</td></tr>",
                            "<tr><td>customers</td></tr>",
                            "<tr><td>orders</td></tr>",
                            "<tr><td>products</td></tr>",
                            "<tr><td>tblStudent</td></tr>",
                            "<tr><td>StudentScores</td></tr>",
                            "<tr><td>Sales</td></tr>",
                            "<tr><td>tblOrders</td></tr>",
                            "<tr><td>tblSalesData</td></tr>",
                            "<tr><td>tblEmployeesNew</td></tr>",
                            "<tr><td>Student</td></tr>",
                            "</table>"
                        ]
                    }
                }
            ],
            "execution_count": 3
        },
        {
            "cell_type": "markdown",
            "source": [
                "### **1. Create a simple table to illustrate examples for DROP Command**"
            ],
            "metadata": {
                "language": "sql",
                "azdata_cell_guid": "5b97f8a7-32ba-46be-9c51-2d72f6121d34"
            },
            "attachments": {}
        },
        {
            "cell_type": "code",
            "source": [
                "-- Create a simple table\n",
                "CREATE TABLE Employee (\n",
                "    EmployeeID INT PRIMARY KEY,\n",
                "    FirstName VARCHAR(50),\n",
                "    LastName VARCHAR(50),\n",
                "    Department VARCHAR(50)\n",
                ");"
            ],
            "metadata": {
                "language": "sql",
                "azdata_cell_guid": "78597dc2-ec8a-4fca-90be-17b0f51baf00"
            },
            "outputs": [
                {
                    "output_type": "display_data",
                    "data": {
                        "text/html": "Commands completed successfully."
                    },
                    "metadata": {}
                },
                {
                    "output_type": "display_data",
                    "data": {
                        "text/html": "Total execution time: 00:00:00.030"
                    },
                    "metadata": {}
                }
            ],
            "execution_count": 4
        },
        {
            "cell_type": "markdown",
            "source": [
                "### 2. **Generate insert queries to insert values into the newly created table**"
            ],
            "metadata": {
                "language": "sql",
                "azdata_cell_guid": "b736dda8-5e84-4df5-80f0-56471a5f869e"
            },
            "attachments": {}
        },
        {
            "cell_type": "code",
            "source": [
                "-- Insert values into the Employee table\n",
                "INSERT INTO Employee (EmployeeID, FirstName, LastName, Department)\n",
                "VALUES\n",
                "    (1, 'Laxman', 'Rathod', 'IT'),\n",
                "    (2, 'Padma', 'Chauhan', 'HR'),\n",
                "    (3, 'Vandana', 'Singh', 'Finance');"
            ],
            "metadata": {
                "language": "sql",
                "azdata_cell_guid": "221a62df-4c40-4464-8ee7-6be0290c4e50"
            },
            "outputs": [
                {
                    "output_type": "display_data",
                    "data": {
                        "text/html": "(3 rows affected)"
                    },
                    "metadata": {}
                },
                {
                    "output_type": "display_data",
                    "data": {
                        "text/html": "Total execution time: 00:00:00.012"
                    },
                    "metadata": {}
                }
            ],
            "execution_count": 7
        },
        {
            "cell_type": "code",
            "source": [
                "SELECT * FROM Employee"
            ],
            "metadata": {
                "language": "sql",
                "azdata_cell_guid": "303fefb9-7986-4421-86a6-4ef961b68f00"
            },
            "outputs": [
                {
                    "output_type": "display_data",
                    "data": {
                        "text/html": "(3 rows affected)"
                    },
                    "metadata": {}
                },
                {
                    "output_type": "display_data",
                    "data": {
                        "text/html": "Total execution time: 00:00:00.015"
                    },
                    "metadata": {}
                },
                {
                    "output_type": "execute_result",
                    "metadata": {},
                    "execution_count": 8,
                    "data": {
                        "application/vnd.dataresource+json": {
                            "schema": {
                                "fields": [
                                    {
                                        "name": "EmployeeID"
                                    },
                                    {
                                        "name": "FirstName"
                                    },
                                    {
                                        "name": "LastName"
                                    },
                                    {
                                        "name": "Department"
                                    }
                                ]
                            },
                            "data": [
                                {
                                    "EmployeeID": "1",
                                    "FirstName": "Laxman",
                                    "LastName": "Rathod",
                                    "Department": "IT"
                                },
                                {
                                    "EmployeeID": "2",
                                    "FirstName": "Padma",
                                    "LastName": "Chauhan",
                                    "Department": "HR"
                                },
                                {
                                    "EmployeeID": "3",
                                    "FirstName": "Vandana",
                                    "LastName": "Singh",
                                    "Department": "Finance"
                                }
                            ]
                        },
                        "text/html": [
                            "<table>",
                            "<tr><th>EmployeeID</th><th>FirstName</th><th>LastName</th><th>Department</th></tr>",
                            "<tr><td>1</td><td>Laxman</td><td>Rathod</td><td>IT</td></tr>",
                            "<tr><td>2</td><td>Padma</td><td>Chauhan</td><td>HR</td></tr>",
                            "<tr><td>3</td><td>Vandana</td><td>Singh</td><td>Finance</td></tr>",
                            "</table>"
                        ]
                    }
                }
            ],
            "execution_count": 8
        },
        {
            "cell_type": "markdown",
            "source": [
                "### **3. Understanding DROP Commands**\n",
                "\n",
                "**Purpose**: Permanently remove database objects like tables, views, indexes, etc.\n",
                "\n",
                "**Key Point**: Data deletion is usually irreversible, so use with caution."
            ],
            "metadata": {
                "language": "sql",
                "azdata_cell_guid": "15418111-862a-4d4b-b932-edbed5cf3c31"
            },
            "attachments": {}
        },
        {
            "cell_type": "markdown",
            "source": [
                "### 4. **Common DROP Commands**"
            ],
            "metadata": {
                "language": "sql",
                "azdata_cell_guid": "e1895db6-68c0-483c-bea8-175bd5cd59e4"
            },
            "attachments": {}
        },
        {
            "cell_type": "markdown",
            "source": [
                "#### a. DROP TABLE\n",
                "```sql\n",
                "-- Syntax\n",
                "DROP TABLE table_name;\n",
                "\n",
                "-- Example\n",
                "DROP TABLE Employee;\n",
                "```"
            ],
            "metadata": {
                "language": "sql",
                "azdata_cell_guid": "675fd441-ed90-430f-8997-ccce6206a3cb"
            },
            "attachments": {}
        },
        {
            "cell_type": "markdown",
            "source": [
                "#### b. DROP INDEX\n",
                "```sql\n",
                "-- Syntax\n",
                "DROP INDEX index_name ON table_name;\n",
                "\n",
                "-- Example\n",
                "DROP INDEX IX_Employee_Department ON Employee;\n",
                "```\n",
                ""
            ],
            "metadata": {
                "language": "sql",
                "azdata_cell_guid": "1ac758e9-21f4-4194-adc0-cff8d34e7929"
            },
            "attachments": {}
        },
        {
            "cell_type": "markdown",
            "source": [
                "#### c. DROP CONSTRAINT\n",
                "```sql\n",
                "-- Syntax\n",
                "ALTER TABLE table_name\n",
                "DROP CONSTRAINT constraint_name;\n",
                "\n",
                "-- Example\n",
                "ALTER TABLE Employee\n",
                "DROP CONSTRAINT PK_EmployeeID;\n",
                "```\n",
                ""
            ],
            "metadata": {
                "language": "sql",
                "azdata_cell_guid": "550a2afd-ccfd-40f0-a5c1-2b06725a4283"
            },
            "attachments": {}
        },
        {
            "cell_type": "markdown",
            "source": [
                "#### c. DROP VIEW\n",
                "```sql\n",
                "-- Syntax\n",
                "DROP VIEW view_name;\n",
                "\n",
                "-- Example\n",
                "DROP VIEW SomeExistingViewInDb\n",
                "```"
            ],
            "metadata": {
                "language": "sql",
                "azdata_cell_guid": "46ff51de-b225-425a-83e1-49d757c89314"
            },
            "attachments": {}
        },
        {
            "cell_type": "markdown",
            "source": [
                "#### d. DROP PROCEDURE\n",
                "```sql\n",
                "-- Syntax\n",
                "DROP PROCEDURE SomeExistingProcedureInDb;\n",
                "\n",
                "-- Example\n",
                "DROP PROCEDURE SomeExistingProcedureInDb\n",
                "```"
            ],
            "metadata": {
                "language": "sql",
                "azdata_cell_guid": "268a04ef-5e7e-4d61-9ae8-a235bd8c7a00"
            },
            "attachments": {}
        },
        {
            "cell_type": "markdown",
            "source": [
                "#### e. DROP FUNCTION\n",
                "```sql\n",
                "-- Syntax\n",
                "DROP FUNCTION SomeExistingFunctionInDb;\n",
                "\n",
                "-- Example\n",
                "DROP FUNCTION SomeExistingFunctionInDb\n",
                "```"
            ],
            "metadata": {
                "language": "sql",
                "azdata_cell_guid": "4724b5aa-0035-4f54-87ed-0468fb4b340e"
            },
            "attachments": {}
        },
        {
            "cell_type": "markdown",
            "source": [
                "### **5. Practical applications**\n",
                "\n",
                "- **Removing Unused/ Obsolete Tables:** When tables are no longer needed, they can be dropped to free up space.\n",
                "- **Dropping Indexes:** In cases where an index is no longer beneficial or needs to be replaced.\n",
                "- **Dropping Constraints:** When constraints are modified or no longer necessary.\n",
                "- Reorganizing database structure for efficiency or maintainability.\n",
                "- Deleting temporary objects after their purpose is fulfilled."
            ],
            "metadata": {
                "language": "sql",
                "azdata_cell_guid": "e130cf2e-b021-4dc5-917d-09ebdb6d4761"
            },
            "attachments": {}
        },
        {
            "cell_type": "markdown",
            "source": [
                "### **6. Peculiarities and Considerations**\n",
                "\n",
                "- **Irreversibility:** DROP commands are generally irreversible, and dropped objects cannot be recovered without a backup.\n",
                "- **Dependencies:** Be cautious of dependencies to avoid unintentional drops of objects referenced by others\n",
                "- **Permissions:** Ensure you have necessary permissions to drop objects."
            ],
            "metadata": {
                "language": "sql",
                "azdata_cell_guid": "ef3eb785-718b-49e5-90c4-b57209c4c0d0"
            },
            "attachments": {}
        },
        {
            "cell_type": "markdown",
            "source": [
                "### **7. Most common mistakes**\n",
                "\n",
                "- **Forgetting WHERE Clause:** When using `DELETE` without a `WHERE` clause, it deletes all rows. This is different from `DROP TABLE` which removes the entire table structure.\n",
                "- **Dropping Tables Without Checking Dependencies:** Not checking for dependencies before dropping a table or other objects.\n",
                "- **Dropping the wrong object**: Double-check object names before dropping.\n",
                "- **Not considering dependencies**: Identify and address dependencies beforehand.\n",
                "- **Forgetting backups**: Back up databases before significant deletions."
            ],
            "metadata": {
                "language": "sql",
                "azdata_cell_guid": "966d69c0-41dd-4430-920f-9506b5a2718d"
            },
            "attachments": {}
        },
        {
            "cell_type": "markdown",
            "source": [
                "### **8. Hands On**"
            ],
            "metadata": {
                "language": "sql",
                "azdata_cell_guid": "5f34793f-f4df-457e-8179-a759e500c867"
            },
            "attachments": {}
        },
        {
            "cell_type": "markdown",
            "source": [
                "#### Question 1:\n",
                "Drop the table named `Employee`.\n",
                "\n",
                "#### Solution:\n",
                "```sql\n",
                "DROP TABLE Employee;\n",
                "```"
            ],
            "metadata": {
                "language": "sql",
                "azdata_cell_guid": "bf494b7e-7046-42c4-8754-c87a02d96705"
            },
            "attachments": {}
        },
        {
            "cell_type": "markdown",
            "source": [
                "#### Question 2:\n",
                "Remove the primary key constraint named `PK_EmployeeID` from the table `Employee`.\n",
                "\n",
                "#### Solution:\n",
                "```sql\n",
                "ALTER TABLE Employee\n",
                "DROP CONSTRAINT PK_EmployeeID;\n",
                "```"
            ],
            "metadata": {
                "language": "sql",
                "azdata_cell_guid": "b5f5ad56-5b1d-4d86-babd-ffd7048a9687"
            },
            "attachments": {}
        },
        {
            "cell_type": "markdown",
            "source": [
                "#### Question 3:\n",
                "Drop the index named `IX_Employee_Department` from the table `Employee`.\n",
                "\n",
                "#### Solution:\n",
                "```sql\n",
                "DROP INDEX IX_Employee_Department ON Employee;\n",
                "```"
            ],
            "metadata": {
                "language": "sql",
                "azdata_cell_guid": "3221fb38-685c-4c20-a57a-16b180cdb266"
            },
            "attachments": {}
        },
        {
            "cell_type": "markdown",
            "source": [
                "### **9. Practice Questions**"
            ],
            "metadata": {
                "language": "sql",
                "azdata_cell_guid": "0f00098a-6d09-44a9-a92e-bcb5d17fb0fb"
            },
            "attachments": {}
        },
        {
            "cell_type": "markdown",
            "source": [
                "#### Question 1:\n",
                "Drop the table named `Employee`.\n",
                "\n",
                "#### Question 2:\n",
                "Remove the primary key constraint named `PK_EmployeeID` from the table `Employee`.\n",
                "\n",
                "#### Question 3:\n",
                "Drop the index named `IX_Employee_Department` from the table `Employee`."
            ],
            "metadata": {
                "language": "sql",
                "azdata_cell_guid": "1aae1b9e-9591-4c6d-ad58-2084b94f25c9"
            },
            "attachments": {}
        },
        {
            "cell_type": "markdown",
            "source": [
                ""
            ],
            "metadata": {
                "language": "sql",
                "azdata_cell_guid": "1fb0b491-cc78-46fe-977c-96fbc220796e"
            }
        }
    ]
}