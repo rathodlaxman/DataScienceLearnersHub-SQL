{
    "metadata": {
        "kernelspec": {
            "name": "SQL",
            "display_name": "SQL",
            "language": "sql"
        },
        "language_info": {
            "name": "sql",
            "version": ""
        }
    },
    "nbformat_minor": 2,
    "nbformat": 4,
    "cells": [
        {
            "cell_type": "markdown",
            "source": [
                "# **`Data Science Learners Hub`**\n",
                "\n",
                "**Module : SQL**\n",
                "\n",
                "**email** : [datasciencelearnershub@gmail.com](mailto:datasciencelearnershub@gmail.com)"
            ],
            "metadata": {
                "azdata_cell_guid": "bfe5514d-97a9-42a0-a63c-58cb2255d396"
            },
            "attachments": {}
        },
        {
            "cell_type": "markdown",
            "source": [
                "### **# `SET`, `DECLARE`, and `OUTPUT` in SQL:**"
            ],
            "metadata": {
                "azdata_cell_guid": "44635d9d-4d02-4f54-b335-0db71c9a0c6a"
            },
            "attachments": {}
        },
        {
            "cell_type": "markdown",
            "source": [
                "**1. Introduction:**\n",
                "\n",
                "In SQL, `SET`, `DECLARE`, and `OUTPUT` are used to handle variables, store values, and capture the results of queries. Understanding these concepts is fundamental for managing data and performing dynamic operations in SQL.\n",
                "\n",
                "**2. Why Learn This Topic:**\n",
                "\n",
                "Learning about `SET`, `DECLARE`, and `OUTPUT` is crucial as they provide a way to store and manipulate data within SQL scripts. This is essential for building dynamic queries, performing calculations, and efficiently managing data during script execution.\n",
                "\n",
                "**3. Real-world Applications:**\n",
                "\n",
                "Consider a scenario where you need to calculate and store intermediate results in a complex financial transaction or in an inventory management system. Variables and output parameters become valuable tools to handle and process data dynamically.\n",
                "\n",
                "**4. Syntax and Examples:**\n",
                "\n",
                "1. **`SET`:**\n",
                "   - Used to assign a value to a variable or set the value of a system variable.\n",
                "   ```sql\n",
                "   SET @variable_name = value;\n",
                "   ```\n",
                "   Example:\n",
                "   ```sql\n",
                "   SET @counter = 1;\n",
                "   ```\n",
                "\n",
                "2. **`DECLARE`:**\n",
                "   - Used to declare a variable along with its data type.\n",
                "   ```sql\n",
                "   DECLARE @variable_name data_type;\n",
                "   ```\n",
                "   Example:\n",
                "   ```sql\n",
                "   DECLARE @total_sales DECIMAL(10, 2);\n",
                "   ```\n",
                "\n",
                "3. **`OUTPUT`:**\n",
                "   - Used with stored procedures to return values back to the calling program.\n",
                "   ```sql\n",
                "   CREATE PROCEDURE procedure_name\n",
                "   @input_parameter data_type,\n",
                "   @output_parameter data_type OUTPUT\n",
                "   AS\n",
                "   -- Procedure logic here\n",
                "   ```\n",
                "   Example:\n",
                "   ```sql\n",
                "   CREATE PROCEDURE GetTotalSales\n",
                "   @startDate DATE,\n",
                "   @totalSales DECIMAL(10, 2) OUTPUT\n",
                "   AS\n",
                "   -- Procedure logic to calculate total sales\n",
                "   ```\n",
                "\n",
                "**5. Understanding SET, DECLARE, and OUTPUT:**\n",
                "\n",
                "- `SET` is used for simple assignment operations.\n",
                "- `DECLARE` is used to define variables before they are used in a script or stored procedure.\n",
                "- `OUTPUT` is commonly used in stored procedures to return values. Captures and returns results of data modifications, such as inserted or deleted rows.\n",
                "\n",
                "**6. Practical Applications:**\n",
                "\n",
                "- `Dynamic calculations`: Discount prices, apply taxes, adjust quantities based on conditions.\n",
                "\n",
                "- `Temporary storage`: Hold intermediate results or values for later use.\n",
                "\n",
                "- `Audit trails`: Capture changes for logging or tracking purposes.\n",
                "\n",
                "- `Data synchronization`: Replicate or transfer data between tables or databases.\n",
                "\n",
                " **7. Considerations**:\n",
                "\n",
                "- `Scope of variables`: Declared within blocks (e.g., stored procedures, batches), not globally.\n",
                "\n",
                "- `OUTPUT clause`: Limited to data modification statements (INSERT, UPDATE, DELETE).\n",
                "\n",
                "- `Performance implications`: Use cautiously with large datasets.\n",
                "\n",
                "**7. Common Mistakes:**\n",
                "\n",
                "- Forgetting to declare a variable using `DECLARE` before using it in a script.\n",
                "\n",
                "- Incorrectly using `SET` to declare a variable. `DECLARE` is the appropriate keyword for variable declaration.\n",
                "\n",
                "- Expecting `OUTPUT` to return results for queries without data modification.\n",
                "\n",
                ""
            ],
            "metadata": {
                "azdata_cell_guid": "afc25f73-38b9-4b62-90b6-510dd95d5b3d"
            },
            "attachments": {}
        },
        {
            "cell_type": "markdown",
            "source": [
                "**8. Hands-on Experience:**\n",
                "\n",
                "Let's create a sample table and use these concepts:"
            ],
            "metadata": {
                "azdata_cell_guid": "3da8075a-c397-44aa-97d3-f6e1ea4c6aa5"
            },
            "attachments": {}
        },
        {
            "cell_type": "code",
            "source": [
                "USE DataScienceLearnersHub"
            ],
            "metadata": {
                "azdata_cell_guid": "6e2f9354-630a-4cff-8e54-e9d1f38669c7",
                "language": "sql"
            },
            "outputs": [
                {
                    "output_type": "display_data",
                    "data": {
                        "text/html": "Commands completed successfully."
                    },
                    "metadata": {}
                },
                {
                    "output_type": "display_data",
                    "data": {
                        "text/html": "Total execution time: 00:00:00.001"
                    },
                    "metadata": {}
                }
            ],
            "execution_count": 1
        },
        {
            "cell_type": "code",
            "source": [
                "DROP TABLE employee"
            ],
            "metadata": {
                "language": "sql",
                "azdata_cell_guid": "2d346184-7d85-48cc-9e74-d959f46f543e"
            },
            "outputs": [
                {
                    "output_type": "display_data",
                    "data": {
                        "text/html": "Commands completed successfully."
                    },
                    "metadata": {}
                },
                {
                    "output_type": "display_data",
                    "data": {
                        "text/html": "Total execution time: 00:00:00.011"
                    },
                    "metadata": {}
                }
            ],
            "execution_count": 7
        },
        {
            "cell_type": "code",
            "source": [
                "-- Creating a Sample Table\n",
                "CREATE TABLE employee (\n",
                "    employee_id INT PRIMARY KEY,\n",
                "    employee_name VARCHAR(50),\n",
                "    salary DECIMAL(10, 2)\n",
                ");\n",
                "\n",
                "-- Inserting Sample Data\n",
                "INSERT INTO employee VALUES (1, 'Laxman Rathod', 50000.00), (2, 'Naina Rathod', 60000.00);\n",
                "\n",
                "SELECT * FROM employee"
            ],
            "metadata": {
                "language": "sql",
                "azdata_cell_guid": "cb296a30-88b3-483b-9c39-ada9f839d911"
            },
            "outputs": [
                {
                    "output_type": "display_data",
                    "data": {
                        "text/html": "(2 rows affected)"
                    },
                    "metadata": {}
                },
                {
                    "output_type": "display_data",
                    "data": {
                        "text/html": "(2 rows affected)"
                    },
                    "metadata": {}
                },
                {
                    "output_type": "display_data",
                    "data": {
                        "text/html": "Total execution time: 00:00:00.027"
                    },
                    "metadata": {}
                },
                {
                    "output_type": "execute_result",
                    "metadata": {},
                    "execution_count": 8,
                    "data": {
                        "application/vnd.dataresource+json": {
                            "schema": {
                                "fields": [
                                    {
                                        "name": "employee_id"
                                    },
                                    {
                                        "name": "employee_name"
                                    },
                                    {
                                        "name": "salary"
                                    }
                                ]
                            },
                            "data": [
                                {
                                    "employee_id": "1",
                                    "employee_name": "Laxman Rathod",
                                    "salary": "50000.00"
                                },
                                {
                                    "employee_id": "2",
                                    "employee_name": "Naina Rathod",
                                    "salary": "60000.00"
                                }
                            ]
                        },
                        "text/html": [
                            "<table>",
                            "<tr><th>employee_id</th><th>employee_name</th><th>salary</th></tr>",
                            "<tr><td>1</td><td>Laxman Rathod</td><td>50000.00</td></tr>",
                            "<tr><td>2</td><td>Naina Rathod</td><td>60000.00</td></tr>",
                            "</table>"
                        ]
                    }
                }
            ],
            "execution_count": 8
        },
        {
            "cell_type": "markdown",
            "source": [
                "Now, let's use `SET` and `DECLARE`:"
            ],
            "metadata": {
                "language": "sql",
                "azdata_cell_guid": "4d35fd1e-9398-4c4e-8a99-b7e27ab41a04"
            },
            "attachments": {}
        },
        {
            "cell_type": "code",
            "source": [
                "-- Using SET to Assign Values\n",
                "SET @counter = 1;\n",
                "\n",
                "-- Using DECLARE to Define Variables\n",
                "DECLARE @totalSalary DECIMAL(10, 2);\n",
                "SET @totalSalary = 0;"
            ],
            "metadata": {
                "language": "sql",
                "azdata_cell_guid": "577e9d00-753d-4dc8-9494-c4c261f75b7f"
            },
            "outputs": [
                {
                    "output_type": "error",
                    "evalue": "Msg 137, Level 15, State 1, Line 2\nMust declare the scalar variable \"@counter\".",
                    "ename": "",
                    "traceback": []
                },
                {
                    "output_type": "display_data",
                    "data": {
                        "text/html": "Total execution time: 00:00:00.004"
                    },
                    "metadata": {}
                }
            ],
            "execution_count": 13
        },
        {
            "cell_type": "markdown",
            "source": [
                "**Note :** You are getting the above error because the variable `@counter` is not declared before using it"
            ],
            "metadata": {
                "language": "sql",
                "azdata_cell_guid": "821ff1f5-8d76-4f06-96bb-6f53cfc6c320"
            },
            "attachments": {}
        },
        {
            "cell_type": "code",
            "source": [
                "-- Corrected Declaration of @counter\n",
                "DECLARE @counter INT;\n",
                "SET @counter = 1;\n",
                "\n",
                "-- Using DECLARE to Define Variables\n",
                "DECLARE @totalSalary DECIMAL(10, 2);\n",
                "SET @totalSalary = 0;"
            ],
            "metadata": {
                "language": "sql",
                "azdata_cell_guid": "f9bd3553-8792-4b03-a137-a87c90e79214"
            },
            "outputs": [
                {
                    "output_type": "display_data",
                    "data": {
                        "text/html": "Commands completed successfully."
                    },
                    "metadata": {}
                },
                {
                    "output_type": "display_data",
                    "data": {
                        "text/html": "Total execution time: 00:00:00.005"
                    },
                    "metadata": {}
                }
            ],
            "execution_count": 14
        },
        {
            "cell_type": "markdown",
            "source": [
                "**Questions Based on the Table:**"
            ],
            "metadata": {
                "language": "sql",
                "azdata_cell_guid": "9f3d6982-a4e5-4116-a03a-53f1794c9104"
            },
            "attachments": {}
        },
        {
            "cell_type": "markdown",
            "source": [
                "**Question 1. Incremental Salary Calculation:**\n",
                "   - Use `SET` to increment the salary of all employees by 10%."
            ],
            "metadata": {
                "language": "sql",
                "azdata_cell_guid": "49cc3155-ec18-43b5-9629-6706836ebc27"
            },
            "attachments": {}
        },
        {
            "cell_type": "code",
            "source": [
                "DECLARE @counter INT;\n",
                "SET @counter = 1;\n",
                "WHILE @counter <= (SELECT COUNT(*) FROM employee)\n",
                "BEGIN\n",
                "    UPDATE employee\n",
                "    SET salary = salary * 1.1\n",
                "    WHERE employee_id = @counter;\n",
                "\n",
                "    SET @counter = @counter + 1;\n",
                "END;"
            ],
            "metadata": {
                "language": "sql",
                "azdata_cell_guid": "ca9bcd51-de30-4c22-b210-978b7b52d62c"
            },
            "outputs": [
                {
                    "output_type": "display_data",
                    "data": {
                        "text/html": "(1 row affected)"
                    },
                    "metadata": {}
                },
                {
                    "output_type": "display_data",
                    "data": {
                        "text/html": "(1 row affected)"
                    },
                    "metadata": {}
                },
                {
                    "output_type": "display_data",
                    "data": {
                        "text/html": "Total execution time: 00:00:00.050"
                    },
                    "metadata": {}
                }
            ],
            "execution_count": 16
        },
        {
            "cell_type": "markdown",
            "source": [
                "**Question 2. Total Salary Calculation:**\n",
                "   - Use `DECLARE` to define a variable for total salary and calculate the sum of all salaries in the `employee` table."
            ],
            "metadata": {
                "language": "sql",
                "azdata_cell_guid": "860a1c53-f5c4-4763-9da1-d104d5e9e5ad"
            },
            "attachments": {}
        },
        {
            "cell_type": "code",
            "source": [
                "DECLARE @totalSalary DECIMAL(10, 2);\n",
                "SET @totalSalary = 0;\n",
                "\n",
                "SELECT @totalSalary = @totalSalary + salary\n",
                "FROM employee;\n",
                "\n",
                "PRINT 'Total Salary: ' + CAST(@totalSalary AS VARCHAR(20));"
            ],
            "metadata": {
                "language": "sql",
                "azdata_cell_guid": "0c1c2b30-e2f8-4a34-8e4e-d77e77f76c67"
            },
            "outputs": [
                {
                    "output_type": "display_data",
                    "data": {
                        "text/html": "Total Salary: 121000.00"
                    },
                    "metadata": {}
                },
                {
                    "output_type": "display_data",
                    "data": {
                        "text/html": "Total execution time: 00:00:00.023"
                    },
                    "metadata": {}
                }
            ],
            "execution_count": 17
        },
        {
            "cell_type": "markdown",
            "source": [
                "**Question 3. Conditional Update:**\n",
                "   - Use `SET` to update the salary of employees based on a condition, e.g., increase the salary by 15% for employees with a salary less than 55000.00."
            ],
            "metadata": {
                "language": "sql",
                "azdata_cell_guid": "5ac3c99e-2832-4e82-8e77-d382fb81cff3"
            },
            "attachments": {}
        },
        {
            "cell_type": "code",
            "source": [
                "UPDATE employee\n",
                "SET salary = salary * 1.15\n",
                "WHERE salary < 55000.00;"
            ],
            "metadata": {
                "language": "sql",
                "azdata_cell_guid": "5040873d-1214-4bb6-839b-c223fef95620",
                "tags": [
                    "hide_input"
                ]
            },
            "outputs": [
                {
                    "output_type": "display_data",
                    "data": {
                        "text/html": "(0 rows affected)"
                    },
                    "metadata": {}
                },
                {
                    "output_type": "display_data",
                    "data": {
                        "text/html": "Total execution time: 00:00:00.055"
                    },
                    "metadata": {}
                }
            ],
            "execution_count": 18
        },
        {
            "cell_type": "markdown",
            "source": [
                "**Question 4. Stored Procedure with OUTPUT:**\n",
                "   - Create a stored procedure that takes an employee ID as input, retrieves the employee's name and salary, and outputs the salary.\n",
                "\n",
                "`Note` : Stored procedure is not yet discussed, same will be discussed in detail in next topic. So not to worry"
            ],
            "metadata": {
                "language": "sql",
                "azdata_cell_guid": "2732e33d-6874-4e43-84f1-042f47ddc21e"
            },
            "attachments": {}
        },
        {
            "cell_type": "code",
            "source": [
                "CREATE PROCEDURE GetEmployeeSalary\n",
                "    @employeeID INT,\n",
                "    @employeeName VARCHAR(50) OUTPUT,\n",
                "    @employeeSalary DECIMAL(10, 2) OUTPUT\n",
                "AS\n",
                "BEGIN\n",
                "    SELECT @employeeName = employee_name, @employeeSalary = salary\n",
                "    FROM employee\n",
                "    WHERE employee_id = @employeeID;\n",
                "END;"
            ],
            "metadata": {
                "language": "sql",
                "azdata_cell_guid": "aea9423f-7d0c-47c6-b7ce-aff7bfeb753c"
            },
            "outputs": [
                {
                    "output_type": "display_data",
                    "data": {
                        "text/html": "Commands completed successfully."
                    },
                    "metadata": {}
                },
                {
                    "output_type": "display_data",
                    "data": {
                        "text/html": "Total execution time: 00:00:00.068"
                    },
                    "metadata": {}
                }
            ],
            "execution_count": 19
        },
        {
            "cell_type": "markdown",
            "source": [
                "Now, To execute the stored procedure:"
            ],
            "metadata": {
                "language": "sql",
                "azdata_cell_guid": "ea3c3638-eb7d-43d8-a485-30f28b0688df"
            },
            "attachments": {}
        },
        {
            "cell_type": "code",
            "source": [
                "DECLARE @empName VARCHAR(50);\n",
                "DECLARE @empSalary DECIMAL(10, 2);\n",
                "\n",
                "EXEC GetEmployeeSalary @employeeID = 1, @employeeName = @empName OUTPUT, @employeeSalary = @empSalary OUTPUT;\n",
                "\n",
                "PRINT 'Employee Name: ' + @empName;\n",
                "PRINT 'Employee Salary: ' + CAST(@empSalary AS VARCHAR(20));"
            ],
            "metadata": {
                "language": "sql",
                "azdata_cell_guid": "95e7cd44-e1f2-434c-b9a8-1b66f73a095b"
            },
            "outputs": [
                {
                    "output_type": "display_data",
                    "data": {
                        "text/html": "Employee Name: Laxman Rathod"
                    },
                    "metadata": {}
                },
                {
                    "output_type": "display_data",
                    "data": {
                        "text/html": "Employee Salary: 55000.00"
                    },
                    "metadata": {}
                },
                {
                    "output_type": "display_data",
                    "data": {
                        "text/html": "Total execution time: 00:00:00.051"
                    },
                    "metadata": {}
                }
            ],
            "execution_count": 20
        },
        {
            "cell_type": "markdown",
            "source": [
                "**9. Homework Assignment:**\n",
                "\n",
                "1. **Dynamic Salary Update:**\n",
                "   - Write a script that dynamically updates the salary of an employee. Use user input or a parameterized query to specify the employee ID and the new salary.\n",
                "\n",
                "2. **Total Salary Calculation in a Stored Procedure:**\n",
                "   - Create a stored procedure that calculates the total salary for all employees and outputs the result.\n",
                "\n",
                "3. **Conditional Variable Declaration:**\n",
                "   - Write a script that declares a variable based on a condition. For example, declare a variable with the data type `INT` if the salary is less than 60000.00, otherwise declare it as `DECIMAL(10, 2)`.\n",
                "\n",
                "4. **Stored Procedure with Multiple OUTPUT Parameters:**\n",
                "   - Enhance the stored procedure from the hands-on experience to include multiple `OUTPUT` parameters, such as the total number of employees.\n",
                "\n",
                "5. **Advanced Dynamic Scripting:**\n",
                "   - Explore advanced dynamic scripting by writing a script that generates dynamic SQL statements based on certain conditions. Use `SET` to execute the dynamic statements."
            ],
            "metadata": {
                "language": "sql",
                "azdata_cell_guid": "3154204f-7fae-4452-bcd2-c858ff32dc1e"
            },
            "attachments": {}
        },
        {
            "cell_type": "markdown",
            "source": [
                "**10. Do you know ?**\n",
                "\n",
                "Did you know that `SET` and `DECLARE` are fundamental building blocks for dynamic SQL scripting? In more complex scenarios, dynamic SQL allows you to build and execute SQL statements dynamically, enhancing the flexibility and versatility of your scripts. Understanding these concepts is a gateway to mastering dynamic SQL in SQL Server."
            ],
            "metadata": {
                "language": "sql",
                "azdata_cell_guid": "33a759ae-dda4-4985-8ad7-c4f35179cdba"
            },
            "attachments": {}
        }
    ]
}