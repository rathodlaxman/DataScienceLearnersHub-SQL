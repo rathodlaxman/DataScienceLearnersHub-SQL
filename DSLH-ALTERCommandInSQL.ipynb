{
    "metadata": {
        "kernelspec": {
            "name": "SQL",
            "display_name": "SQL",
            "language": "sql"
        },
        "language_info": {
            "name": "sql",
            "version": ""
        }
    },
    "nbformat_minor": 2,
    "nbformat": 4,
    "cells": [
        {
            "cell_type": "markdown",
            "source": [
                "# **Data Science Learners Hub**\n",
                "\n",
                "**Module : SQL**\n",
                "\n",
                "**Topic :** **ALTER Command**\n",
                "\n",
                "**email** : [datasciencelearnershub@gmail.com](mailto:datasciencelearnershub@gmail.com)"
            ],
            "metadata": {
                "azdata_cell_guid": "67405f8a-a4e7-458a-9beb-7a2a249203a0"
            },
            "attachments": {}
        },
        {
            "cell_type": "markdown",
            "source": [
                "## **# ALTER Command**"
            ],
            "metadata": {
                "azdata_cell_guid": "705ef4fa-7bb7-4f73-81ad-08ad6fad456f"
            },
            "attachments": {}
        },
        {
            "cell_type": "code",
            "source": [
                "USE DataScienceLearnersHub"
            ],
            "metadata": {
                "azdata_cell_guid": "ee1bc1f3-b14b-4177-bc4b-c666e9574e4b",
                "language": "sql"
            },
            "outputs": [
                {
                    "output_type": "display_data",
                    "data": {
                        "text/html": "Commands completed successfully."
                    },
                    "metadata": {}
                },
                {
                    "output_type": "display_data",
                    "data": {
                        "text/html": "Total execution time: 00:00:00.006"
                    },
                    "metadata": {}
                }
            ],
            "execution_count": 1
        },
        {
            "cell_type": "markdown",
            "source": [
                "### **1\\. Create a simple table to illustrate examples for ALTER Command**"
            ],
            "metadata": {
                "language": "sql",
                "azdata_cell_guid": "ec0c7f62-a15b-4be1-8f09-dada2fa218d8"
            },
            "attachments": {}
        },
        {
            "cell_type": "code",
            "source": [
                "CREATE TABLE Student (\n",
                "    StudentID INT PRIMARY KEY,\n",
                "    FirstName VARCHAR(50),\n",
                "    LastName VARCHAR(50),\n",
                "    Age INT,\n",
                "    GPA DECIMAL(3, 2)\n",
                ");"
            ],
            "metadata": {
                "language": "sql",
                "azdata_cell_guid": "6a2445e7-5260-4991-9ce4-68b0bda0e624"
            },
            "outputs": [
                {
                    "output_type": "display_data",
                    "data": {
                        "text/html": "Commands completed successfully."
                    },
                    "metadata": {}
                },
                {
                    "output_type": "display_data",
                    "data": {
                        "text/html": "Total execution time: 00:00:00.039"
                    },
                    "metadata": {}
                }
            ],
            "execution_count": 2
        },
        {
            "cell_type": "markdown",
            "source": [
                "### **2\\. Generate insert queries to insert values into the newly created table**"
            ],
            "metadata": {
                "language": "sql",
                "azdata_cell_guid": "98f3a1cf-cacd-4602-abb4-d8465ae6a2f0"
            },
            "attachments": {}
        },
        {
            "cell_type": "code",
            "source": [
                "INSERT INTO Student (StudentID, FirstName, LastName, Age, GPA)\n",
                "VALUES\n",
                "    (1, 'Laxman', 'Rathod', 20, 3.5),\n",
                "    (2, 'Padma', 'Chauhan', 22, 3.9),\n",
                "    (3, 'Hari', 'Singh', 21, 3.2);"
            ],
            "metadata": {
                "language": "sql",
                "azdata_cell_guid": "af464084-0314-4980-b789-6abbb622a072"
            },
            "outputs": [
                {
                    "output_type": "display_data",
                    "data": {
                        "text/html": "(3 rows affected)"
                    },
                    "metadata": {}
                },
                {
                    "output_type": "display_data",
                    "data": {
                        "text/html": "Total execution time: 00:00:00.043"
                    },
                    "metadata": {}
                }
            ],
            "execution_count": 3
        },
        {
            "cell_type": "code",
            "source": [
                "SELECT * FROM Student"
            ],
            "metadata": {
                "language": "sql",
                "azdata_cell_guid": "c237b94c-9a36-42a2-8305-23a730aadd87"
            },
            "outputs": [
                {
                    "output_type": "display_data",
                    "data": {
                        "text/html": "(3 rows affected)"
                    },
                    "metadata": {}
                },
                {
                    "output_type": "display_data",
                    "data": {
                        "text/html": "Total execution time: 00:00:00.053"
                    },
                    "metadata": {}
                },
                {
                    "output_type": "execute_result",
                    "metadata": {},
                    "execution_count": 4,
                    "data": {
                        "application/vnd.dataresource+json": {
                            "schema": {
                                "fields": [
                                    {
                                        "name": "StudentID"
                                    },
                                    {
                                        "name": "FirstName"
                                    },
                                    {
                                        "name": "LastName"
                                    },
                                    {
                                        "name": "Age"
                                    },
                                    {
                                        "name": "GPA"
                                    }
                                ]
                            },
                            "data": [
                                {
                                    "StudentID": "1",
                                    "FirstName": "Laxman",
                                    "LastName": "Rathod",
                                    "Age": "20",
                                    "GPA": "3.50"
                                },
                                {
                                    "StudentID": "2",
                                    "FirstName": "Padma",
                                    "LastName": "Chauhan",
                                    "Age": "22",
                                    "GPA": "3.90"
                                },
                                {
                                    "StudentID": "3",
                                    "FirstName": "Hari",
                                    "LastName": "Singh",
                                    "Age": "21",
                                    "GPA": "3.20"
                                }
                            ]
                        },
                        "text/html": [
                            "<table>",
                            "<tr><th>StudentID</th><th>FirstName</th><th>LastName</th><th>Age</th><th>GPA</th></tr>",
                            "<tr><td>1</td><td>Laxman</td><td>Rathod</td><td>20</td><td>3.50</td></tr>",
                            "<tr><td>2</td><td>Padma</td><td>Chauhan</td><td>22</td><td>3.90</td></tr>",
                            "<tr><td>3</td><td>Hari</td><td>Singh</td><td>21</td><td>3.20</td></tr>",
                            "</table>"
                        ]
                    }
                }
            ],
            "execution_count": 4
        },
        {
            "cell_type": "markdown",
            "source": [
                "### **3\\. Understanding ALTER Command**\n",
                "\n",
                "\\- In MS SQL Server, the ALTER command is used to modify existing database objects such as tables, columns, constraints, views, or procedures. It allows you to make changes to the structure of the database without dropping and recreating the object.\n",
                "\n",
                "\\- **Key Point**: They don't change the data itself, but how it's organized."
            ],
            "metadata": {
                "language": "sql",
                "azdata_cell_guid": "108ca03d-5136-41f3-a1d3-5327541fcdf0"
            },
            "attachments": {}
        },
        {
            "cell_type": "markdown",
            "source": [
                "### **4\\. Common ALTER Commands**"
            ],
            "metadata": {
                "language": "sql",
                "azdata_cell_guid": "eb55fd1b-5aa7-4817-a118-9a6c7bc2468f"
            },
            "attachments": {}
        },
        {
            "cell_type": "markdown",
            "source": [
                "**a. ALTER TABLE (Add a new column)**\n",
                "\n",
                "  \n",
                "\n",
                "\\-- **Syntax**\n",
                "\n",
                "ALTER TABLE table\\_name\n",
                "\n",
                "ADD column\\_name datatype;"
            ],
            "metadata": {
                "language": "sql",
                "azdata_cell_guid": "1b67ac0f-170e-48dd-9786-3cdaac701683"
            },
            "attachments": {}
        },
        {
            "cell_type": "code",
            "source": [
                "-- Example\n",
                "ALTER TABLE Student\n",
                "ADD PhoneNumber VARCHAR(15);"
            ],
            "metadata": {
                "language": "sql",
                "azdata_cell_guid": "472abff9-6ea1-42ac-9280-e46f8b5f4e53"
            },
            "outputs": [
                {
                    "output_type": "display_data",
                    "data": {
                        "text/html": "Commands completed successfully."
                    },
                    "metadata": {}
                },
                {
                    "output_type": "display_data",
                    "data": {
                        "text/html": "Total execution time: 00:00:00.044"
                    },
                    "metadata": {}
                }
            ],
            "execution_count": 5
        },
        {
            "cell_type": "code",
            "source": [
                "SELECT * FROM Student"
            ],
            "metadata": {
                "language": "sql",
                "azdata_cell_guid": "784befce-aa0a-40fa-9c86-db700ed883ba"
            },
            "outputs": [
                {
                    "output_type": "display_data",
                    "data": {
                        "text/html": "(3 rows affected)"
                    },
                    "metadata": {}
                },
                {
                    "output_type": "display_data",
                    "data": {
                        "text/html": "Total execution time: 00:00:00.024"
                    },
                    "metadata": {}
                },
                {
                    "output_type": "execute_result",
                    "metadata": {},
                    "execution_count": 6,
                    "data": {
                        "application/vnd.dataresource+json": {
                            "schema": {
                                "fields": [
                                    {
                                        "name": "StudentID"
                                    },
                                    {
                                        "name": "FirstName"
                                    },
                                    {
                                        "name": "LastName"
                                    },
                                    {
                                        "name": "Age"
                                    },
                                    {
                                        "name": "GPA"
                                    },
                                    {
                                        "name": "PhoneNumber"
                                    }
                                ]
                            },
                            "data": [
                                {
                                    "StudentID": "1",
                                    "FirstName": "Laxman",
                                    "LastName": "Rathod",
                                    "Age": "20",
                                    "GPA": "3.50",
                                    "PhoneNumber": "NULL"
                                },
                                {
                                    "StudentID": "2",
                                    "FirstName": "Padma",
                                    "LastName": "Chauhan",
                                    "Age": "22",
                                    "GPA": "3.90",
                                    "PhoneNumber": "NULL"
                                },
                                {
                                    "StudentID": "3",
                                    "FirstName": "Hari",
                                    "LastName": "Singh",
                                    "Age": "21",
                                    "GPA": "3.20",
                                    "PhoneNumber": "NULL"
                                }
                            ]
                        },
                        "text/html": [
                            "<table>",
                            "<tr><th>StudentID</th><th>FirstName</th><th>LastName</th><th>Age</th><th>GPA</th><th>PhoneNumber</th></tr>",
                            "<tr><td>1</td><td>Laxman</td><td>Rathod</td><td>20</td><td>3.50</td><td>NULL</td></tr>",
                            "<tr><td>2</td><td>Padma</td><td>Chauhan</td><td>22</td><td>3.90</td><td>NULL</td></tr>",
                            "<tr><td>3</td><td>Hari</td><td>Singh</td><td>21</td><td>3.20</td><td>NULL</td></tr>",
                            "</table>"
                        ]
                    }
                }
            ],
            "execution_count": 6
        },
        {
            "cell_type": "markdown",
            "source": [
                "**b. ALTER TABLE (Modify column data type)**\n",
                "\n",
                "  \n",
                "\n",
                "**\\-- Syntax**\n",
                "\n",
                "ALTER TABLE table\\_name\n",
                "\n",
                "ALTER COLUMN column\\_name new\\_datatype;"
            ],
            "metadata": {
                "language": "sql",
                "azdata_cell_guid": "480c7531-6d80-4ac9-9103-0feb5485c20e"
            },
            "attachments": {}
        },
        {
            "cell_type": "code",
            "source": [
                "-- Example\n",
                "ALTER TABLE Student\n",
                "ALTER COLUMN GPA DECIMAL(4, 2);"
            ],
            "metadata": {
                "language": "sql",
                "azdata_cell_guid": "cbccdc69-9fbf-47c3-8b62-2067c0d56f39"
            },
            "outputs": [
                {
                    "output_type": "display_data",
                    "data": {
                        "text/html": "Commands completed successfully."
                    },
                    "metadata": {}
                },
                {
                    "output_type": "display_data",
                    "data": {
                        "text/html": "Total execution time: 00:00:00.039"
                    },
                    "metadata": {}
                }
            ],
            "execution_count": 7
        },
        {
            "cell_type": "markdown",
            "source": [
                "**c. ALTER TABLE (Drop a column)**\n",
                "\n",
                "  \n",
                "\n",
                "**\\-- Syntax**\n",
                "\n",
                "ALTER TABLE table\\_name\n",
                "\n",
                "DROP COLUMN column\\_name;"
            ],
            "metadata": {
                "language": "sql",
                "azdata_cell_guid": "e332b610-18c9-4a44-9757-d184d6cc188e"
            },
            "attachments": {}
        },
        {
            "cell_type": "code",
            "source": [
                "-- Example\n",
                "ALTER TABLE Student\n",
                "DROP COLUMN Age;"
            ],
            "metadata": {
                "language": "sql",
                "azdata_cell_guid": "d9c565e5-3125-4716-9b28-c965a3184df0"
            },
            "outputs": [
                {
                    "output_type": "display_data",
                    "data": {
                        "text/html": "Commands completed successfully."
                    },
                    "metadata": {}
                },
                {
                    "output_type": "display_data",
                    "data": {
                        "text/html": "Total execution time: 00:00:00.020"
                    },
                    "metadata": {}
                }
            ],
            "execution_count": 8
        },
        {
            "cell_type": "code",
            "source": [
                "SELECT * FROM Student"
            ],
            "metadata": {
                "language": "sql",
                "azdata_cell_guid": "8f5f93b5-1ac9-4a68-8197-940d842d5dd1"
            },
            "outputs": [
                {
                    "output_type": "display_data",
                    "data": {
                        "text/html": "(3 rows affected)"
                    },
                    "metadata": {}
                },
                {
                    "output_type": "display_data",
                    "data": {
                        "text/html": "Total execution time: 00:00:00.015"
                    },
                    "metadata": {}
                },
                {
                    "output_type": "execute_result",
                    "metadata": {},
                    "execution_count": 9,
                    "data": {
                        "application/vnd.dataresource+json": {
                            "schema": {
                                "fields": [
                                    {
                                        "name": "StudentID"
                                    },
                                    {
                                        "name": "FirstName"
                                    },
                                    {
                                        "name": "LastName"
                                    },
                                    {
                                        "name": "GPA"
                                    },
                                    {
                                        "name": "PhoneNumber"
                                    }
                                ]
                            },
                            "data": [
                                {
                                    "StudentID": "1",
                                    "FirstName": "Laxman",
                                    "LastName": "Rathod",
                                    "GPA": "3.50",
                                    "PhoneNumber": "NULL"
                                },
                                {
                                    "StudentID": "2",
                                    "FirstName": "Padma",
                                    "LastName": "Chauhan",
                                    "GPA": "3.90",
                                    "PhoneNumber": "NULL"
                                },
                                {
                                    "StudentID": "3",
                                    "FirstName": "Hari",
                                    "LastName": "Singh",
                                    "GPA": "3.20",
                                    "PhoneNumber": "NULL"
                                }
                            ]
                        },
                        "text/html": [
                            "<table>",
                            "<tr><th>StudentID</th><th>FirstName</th><th>LastName</th><th>GPA</th><th>PhoneNumber</th></tr>",
                            "<tr><td>1</td><td>Laxman</td><td>Rathod</td><td>3.50</td><td>NULL</td></tr>",
                            "<tr><td>2</td><td>Padma</td><td>Chauhan</td><td>3.90</td><td>NULL</td></tr>",
                            "<tr><td>3</td><td>Hari</td><td>Singh</td><td>3.20</td><td>NULL</td></tr>",
                            "</table>"
                        ]
                    }
                }
            ],
            "execution_count": 9
        },
        {
            "cell_type": "markdown",
            "source": [
                "**d. Adding a Constraint:**\n",
                "\n",
                "  \n",
                "\n",
                "  \n",
                "\n",
                "**\\-- Syntax**\n",
                "\n",
                "ALTER TABLE table\\_name\n",
                "\n",
                "ADD CONSTRAINT constraint\\_name\n",
                "\n",
                "CHECK (condition);"
            ],
            "metadata": {
                "language": "sql",
                "azdata_cell_guid": "5e4c4197-d641-45ec-9438-a5bf80bb17be"
            },
            "attachments": {}
        },
        {
            "cell_type": "code",
            "source": [
                "--  Example: Add a CHECK constraint to ensure GPA is within a specific range.\n",
                "ALTER TABLE Student\n",
                "ADD CONSTRAINT CHK_GPA_Range\n",
                "CHECK (GPA >= 0 AND GPA <= 4.0);"
            ],
            "metadata": {
                "language": "sql",
                "azdata_cell_guid": "ca64267b-2e11-478e-9039-f2f5cae5180c"
            },
            "outputs": [
                {
                    "output_type": "display_data",
                    "data": {
                        "text/html": "Commands completed successfully."
                    },
                    "metadata": {}
                },
                {
                    "output_type": "display_data",
                    "data": {
                        "text/html": "Total execution time: 00:00:00.062"
                    },
                    "metadata": {}
                }
            ],
            "execution_count": 10
        },
        {
            "cell_type": "code",
            "source": [
                "INSERT INTO Student (StudentID, FirstName, LastName, GPA)\n",
                "VALUES (4, 'Varsha', 'A', 4.5)\n",
                "\n",
                "\n",
                "-- NOTE : On executing it will give error because we are trying to \n",
                "-- insert GPA value of more than 4.0, therby the above added constraint dosent allow us"
            ],
            "metadata": {
                "language": "sql",
                "azdata_cell_guid": "fc3fd760-b398-4a5a-8768-25bc1926c7cc"
            },
            "outputs": [
                {
                    "output_type": "error",
                    "evalue": "Msg 547, Level 16, State 0, Line 1\nThe INSERT statement conflicted with the CHECK constraint \"CHK_GPA_Range\". The conflict occurred in database \"DataScienceLearnersHub\", table \"dbo.Student\", column 'GPA'.",
                    "ename": "",
                    "traceback": []
                },
                {
                    "output_type": "display_data",
                    "data": {
                        "text/html": "The statement has been terminated."
                    },
                    "metadata": {}
                },
                {
                    "output_type": "display_data",
                    "data": {
                        "text/html": "Total execution time: 00:00:00.035"
                    },
                    "metadata": {}
                }
            ],
            "execution_count": 12
        },
        {
            "cell_type": "markdown",
            "source": [
                "**e. <span style=\"color: rgb(0, 0, 0); font-family: &quot;Helvetica Neue&quot;; font-size: 13px;\">Dropping a Constraint:</span>**\n",
                "\n",
                "  \n",
                "\n",
                "**\\-- Syntax**\n",
                "\n",
                "ALTER TABLE table\\_name\n",
                "\n",
                "DROP CONSTRAINT constraint\\_name;"
            ],
            "metadata": {
                "language": "sql",
                "azdata_cell_guid": "783904b4-635c-4fbf-bb81-753bdd125b62"
            },
            "attachments": {}
        },
        {
            "cell_type": "code",
            "source": [
                "-- Example: Drop the previously added CHECK constraint\n",
                "ALTER TABLE Student\n",
                "DROP CONSTRAINT CHK_GPA_Range;"
            ],
            "metadata": {
                "language": "sql",
                "azdata_cell_guid": "5ff0e8ff-42d4-4c22-be80-fcd3fee56856"
            },
            "outputs": [
                {
                    "output_type": "display_data",
                    "data": {
                        "text/html": "Commands completed successfully."
                    },
                    "metadata": {}
                },
                {
                    "output_type": "display_data",
                    "data": {
                        "text/html": "Total execution time: 00:00:00.033"
                    },
                    "metadata": {}
                }
            ],
            "execution_count": 13
        },
        {
            "cell_type": "code",
            "source": [
                "-- NOTE : Now since we have dropped the constraint so now we can enter \n",
                "-- GPA value of more than 4.0 also\n",
                "\n",
                "INSERT INTO Student (StudentID, FirstName, LastName, GPA)\n",
                "VALUES (4, 'Varsha', 'A', 4.5)"
            ],
            "metadata": {
                "language": "sql",
                "azdata_cell_guid": "5bf13ee4-ea4f-4748-8f51-50e6f7735f71"
            },
            "outputs": [
                {
                    "output_type": "display_data",
                    "data": {
                        "text/html": "(1 row affected)"
                    },
                    "metadata": {}
                },
                {
                    "output_type": "display_data",
                    "data": {
                        "text/html": "Total execution time: 00:00:00.042"
                    },
                    "metadata": {}
                }
            ],
            "execution_count": 14
        },
        {
            "cell_type": "code",
            "source": [
                "SELECT * FROM Student"
            ],
            "metadata": {
                "language": "sql",
                "azdata_cell_guid": "c1ec995b-538b-4e6b-8710-5b684abba6a6"
            },
            "outputs": [
                {
                    "output_type": "display_data",
                    "data": {
                        "text/html": "(4 rows affected)"
                    },
                    "metadata": {}
                },
                {
                    "output_type": "display_data",
                    "data": {
                        "text/html": "Total execution time: 00:00:00.025"
                    },
                    "metadata": {}
                },
                {
                    "output_type": "execute_result",
                    "metadata": {},
                    "execution_count": 15,
                    "data": {
                        "application/vnd.dataresource+json": {
                            "schema": {
                                "fields": [
                                    {
                                        "name": "StudentID"
                                    },
                                    {
                                        "name": "FirstName"
                                    },
                                    {
                                        "name": "LastName"
                                    },
                                    {
                                        "name": "GPA"
                                    },
                                    {
                                        "name": "PhoneNumber"
                                    }
                                ]
                            },
                            "data": [
                                {
                                    "StudentID": "1",
                                    "FirstName": "Laxman",
                                    "LastName": "Rathod",
                                    "GPA": "3.50",
                                    "PhoneNumber": "NULL"
                                },
                                {
                                    "StudentID": "2",
                                    "FirstName": "Padma",
                                    "LastName": "Chauhan",
                                    "GPA": "3.90",
                                    "PhoneNumber": "NULL"
                                },
                                {
                                    "StudentID": "3",
                                    "FirstName": "Hari",
                                    "LastName": "Singh",
                                    "GPA": "3.20",
                                    "PhoneNumber": "NULL"
                                },
                                {
                                    "StudentID": "4",
                                    "FirstName": "Varsha",
                                    "LastName": "A",
                                    "GPA": "4.50",
                                    "PhoneNumber": "NULL"
                                }
                            ]
                        },
                        "text/html": [
                            "<table>",
                            "<tr><th>StudentID</th><th>FirstName</th><th>LastName</th><th>GPA</th><th>PhoneNumber</th></tr>",
                            "<tr><td>1</td><td>Laxman</td><td>Rathod</td><td>3.50</td><td>NULL</td></tr>",
                            "<tr><td>2</td><td>Padma</td><td>Chauhan</td><td>3.90</td><td>NULL</td></tr>",
                            "<tr><td>3</td><td>Hari</td><td>Singh</td><td>3.20</td><td>NULL</td></tr>",
                            "<tr><td>4</td><td>Varsha</td><td>A</td><td>4.50</td><td>NULL</td></tr>",
                            "</table>"
                        ]
                    }
                }
            ],
            "execution_count": 15
        },
        {
            "cell_type": "markdown",
            "source": [
                "### **5. Practical applications of ALTER Command**\n",
                "\n",
                "- **Schema Evolution:** When you need to add or modify columns to adapt to changing business requirements.\n",
                "- **Data Migration:** Altering tables to accommodate data changes or moving data between columns.\n",
                "- **Performance Tuning:** Modifying indexes or constraints for better query performance."
            ],
            "metadata": {
                "language": "sql",
                "azdata_cell_guid": "0b0ed45d-f27d-46f7-8d1a-26a4e5a8bcf8"
            },
            "attachments": {}
        },
        {
            "cell_type": "markdown",
            "source": [
                "### **6. Peculiarities and Considerations for ALTER Commands**\n",
                "\n",
                "- **Locking:** Some ALTER operations may require exclusive locks, impacting concurrent access.\n",
                "- **Dependencies:** Be mindful of dependencies, especially when altering primary key columns or dropping columns."
            ],
            "metadata": {
                "language": "sql",
                "azdata_cell_guid": "f8b73db9-26e8-41bf-999e-122d4c20a8f3"
            },
            "attachments": {}
        },
        {
            "cell_type": "markdown",
            "source": [
                "### **7. Most common mistakes done while using ALTER Commands**\n",
                "\n",
                "- **Not checking dependencies:** Forgetting to check for dependencies before altering an object.\n",
                "- **No backup:** Making changes without a backup can lead to data loss if something goes wrong.\n",
                ""
            ],
            "metadata": {
                "language": "sql",
                "azdata_cell_guid": "23e9563f-be8d-4828-88e5-c749c8366877"
            },
            "attachments": {}
        },
        {
            "cell_type": "markdown",
            "source": [
                "### **8. Handson**"
            ],
            "metadata": {
                "language": "sql",
                "azdata_cell_guid": "0b2dfd68-669f-4517-bd0e-fbadf1378c27"
            },
            "attachments": {}
        },
        {
            "cell_type": "markdown",
            "source": [
                "#### Question 1:\n",
                "Add a new column called `Email` of type `VARCHAR(100)` to the `Student` table.\n",
                "\n",
                "#### Solution:\n",
                "```sql\n",
                "ALTER TABLE Student\n",
                "ADD Email VARCHAR(100);\n",
                "```"
            ],
            "metadata": {
                "language": "sql",
                "azdata_cell_guid": "049048e7-ee0c-41b5-a256-a048f1ef0056"
            },
            "attachments": {}
        },
        {
            "cell_type": "markdown",
            "source": [
                "#### Question 2:\n",
                "Modify the data type of the `Age` column to `SMALLINT` in the `Student` table.\n",
                "\n",
                "#### Solution:\n",
                "```sql\n",
                "ALTER TABLE Student\n",
                "ALTER COLUMN Age SMALLINT;\n",
                "```"
            ],
            "metadata": {
                "language": "sql",
                "azdata_cell_guid": "c07a44a2-f420-4b22-97c9-7c0255effbab"
            },
            "attachments": {}
        },
        {
            "cell_type": "markdown",
            "source": [
                "#### Question 3:\n",
                "Remove the `PhoneNumber` column from the `Student` table.\n",
                "\n",
                "#### Solution:\n",
                "```sql\n",
                "ALTER TABLE Student\n",
                "DROP COLUMN PhoneNumber;\n",
                "```"
            ],
            "metadata": {
                "language": "sql",
                "azdata_cell_guid": "51397bad-8d1c-4a15-afda-b2974445dacf"
            },
            "attachments": {}
        },
        {
            "cell_type": "markdown",
            "source": [
                "### **9. Practice Questions**\n",
                "\n",
                "#### Question 1:\n",
                "Add a new column named `Course` with data type `VARCHAR(50)` to the existing table named `Enrollment`.\n",
                "\n",
                "#### Question 2:\n",
                "Modify the data type of the column `BirthDate` in the table `Employee` to `DATE`.\n",
                "\n",
                "#### Question 3:\n",
                "Remove the primary key constraint named `PK_ProductID` from the table `Product`.\n",
                "\n",
                "#### Question 4:\n",
                "Add a NOT NULL constraint to the column `Email` in the table `Customer`.\n",
                "\n",
                "#### Question 5:\n",
                "Drop the unique constraint named `UQ_StudentID` from the table `Student`.\n",
                "\n",
                "#### Question 6:\n",
                "Add a foreign key constraint named `FK_DepartmentID` to the column `DepartmentID` in the table `Employee`, referencing the `Department` table.\n",
                "\n",
                "#### Question 7:\n",
                "Remove the default constraint named `DF_Status` from the column `Status` in the table `Order`.\n",
                "\n",
                "#### Question 8:\n",
                "Add a check constraint named `CHK_Salary` to ensure that the column `Salary` in the table `Employee` is greater than 0.\n",
                "\n",
                "#### Question 9:\n",
                "Modify the column `City` in the table `Address` to have a maximum length of 100 characters.\n",
                "\n",
                "#### Question 10:\n",
                "Remove the column `Discount` from the table `Invoice`."
            ],
            "metadata": {
                "language": "sql",
                "azdata_cell_guid": "a29fb50a-8e09-4bc5-b7cd-fc21d5850416"
            },
            "attachments": {}
        },
        {
            "cell_type": "markdown",
            "source": [
                "### **10. Solutions to above questions**\n",
                "\n",
                "#### Solutions:\n",
                "\n",
                "1.\n",
                "```sql\n",
                "ALTER TABLE Enrollment\n",
                "ADD Course VARCHAR(50);\n",
                "```\n",
                "\n",
                "2.\n",
                "```sql\n",
                "ALTER TABLE Employee\n",
                "ALTER COLUMN BirthDate DATE;\n",
                "```\n",
                "\n",
                "3.\n",
                "```sql\n",
                "ALTER TABLE Product\n",
                "DROP CONSTRAINT PK_ProductID;\n",
                "```\n",
                "\n",
                "4.\n",
                "```sql\n",
                "ALTER TABLE Customer\n",
                "ALTER COLUMN Email VARCHAR(255) NOT NULL;\n",
                "```\n",
                "\n",
                "5.\n",
                "```sql\n",
                "ALTER TABLE Student\n",
                "DROP CONSTRAINT UQ_StudentID;\n",
                "```\n",
                "\n",
                "6.\n",
                "```sql\n",
                "ALTER TABLE Employee\n",
                "ADD CONSTRAINT FK_DepartmentID\n",
                "FOREIGN KEY (DepartmentID)\n",
                "REFERENCES Department(DepartmentID);\n",
                "```\n",
                "\n",
                "7.\n",
                "```sql\n",
                "ALTER TABLE Order\n",
                "DROP CONSTRAINT DF_Status;\n",
                "```\n",
                "\n",
                "8.\n",
                "```sql\n",
                "ALTER TABLE Employee\n",
                "ADD CONSTRAINT CHK_Salary\n",
                "CHECK (Salary > 0);\n",
                "```\n",
                "\n",
                "9.\n",
                "```sql\n",
                "ALTER TABLE Address\n",
                "ALTER COLUMN City VARCHAR(100);\n",
                "```\n",
                "\n",
                "10.\n",
                "```sql\n",
                "ALTER TABLE Invoice\n",
                "DROP COLUMN Discount;\n",
                "```\n",
                ""
            ],
            "metadata": {
                "language": "sql",
                "azdata_cell_guid": "a22679f0-07e4-496d-b212-f2b864cf6cde"
            },
            "attachments": {}
        }
    ]
}