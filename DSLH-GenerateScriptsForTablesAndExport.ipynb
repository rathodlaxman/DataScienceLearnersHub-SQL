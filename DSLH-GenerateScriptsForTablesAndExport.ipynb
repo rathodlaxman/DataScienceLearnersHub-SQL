{
    "metadata": {
        "kernelspec": {
            "name": "SQL",
            "display_name": "SQL",
            "language": "sql"
        },
        "language_info": {
            "name": "sql",
            "version": ""
        }
    },
    "nbformat_minor": 2,
    "nbformat": 4,
    "cells": [
        {
            "cell_type": "markdown",
            "source": [
                "# **Data Science Learners Hub**\n",
                "\n",
                "**Module : SQL**\n",
                "\n",
                "**Topic :** <span style=\"font-weight: 600; font-family: -apple-system, BlinkMacSystemFont, sans-serif; color: var(--vscode-foreground);\">Generate Scripts for Tables and Export</span>\n",
                "\n",
                "**email** : [datasciencelearnershub@gmail.com](mailto:datasciencelearnershub@gmail.com)\n",
                "\n",
                "**Telegram** : [https://t.me/DataScienceLearnersHub](https://t.me/DataScienceLearnersHub)"
            ],
            "metadata": {
                "azdata_cell_guid": "b4a02d45-7505-4b5d-88b3-69ceb940e26f"
            },
            "attachments": {}
        },
        {
            "cell_type": "markdown",
            "source": [
                "### **STEPS TO GENERATE SCRIPT FOR EXISTING TABLE WITH DATA TO EXPORT TO ANOTHER DATABASE (Ex : MACBOOK)**\n",
                "\n",
                "1. By default, SSMS will generate a script that inserts the data row-by-row. If you have a large amount of data, this approach may not be efficient. To script data in bulk, follow these additional steps:  \n",
                "    a. Right-click on the database in Object Explorer and choose \"Tasks\" \\> \"Generate Scripts.\"  \n",
                "    b. In the Generate Scripts wizard, select the specific table you want to script.  \n",
                "    c. On the \"Set Scripting Options\" page, click on the \"Advanced\" button.  \n",
                "    d. In the \"Advanced Scripting Options\" dialog, find the \"Types of data to script\" option and set it to \"Schema and data.\"  \n",
                "    e. You can further adjust options like \"Script for Server Version\" and \"Script Data Compression Options\" as per your requirements.  \n",
                "    f. Click \"OK\" to close the \"Advanced Scripting Options\" dialog.  \n",
                "    g. Back in the \"Set Scripting Options\" page, click \"Next\" to proceed.  \n",
                "    h. On subsequent wizard pages, you can choose whether to script to a file or a new query window. Make your selection and click \"Next\" to proceed.  \n",
                "    i. Review your selections on the \"Summary\" page and click \"Next\" to start the scripting process.  \n",
                "    j. The script generation process may take some time, especially for large tables with a lot of data.\n",
                "2. Once the script is generated, you can copy it to the clipboard or save it as a .sql file.\n",
                "3. Connect to the target database (the one where you want to create the table and insert data), and open a new query window.\n",
                "4. Paste the copied script into the new query window.\n",
                "5. Execute the script by clicking the \"Execute\" button (or pressing F5). This will create the table with the same structure and insert the data into the new database."
            ],
            "metadata": {
                "azdata_cell_guid": "8a87fe01-2e7f-4cb5-bd8b-a8a6431eb383"
            },
            "attachments": {}
        },
        {
            "cell_type": "markdown",
            "source": [
                ""
            ],
            "metadata": {
                "azdata_cell_guid": "fa8d8846-4d18-4df1-930f-35b4d667c810"
            }
        }
    ]
}