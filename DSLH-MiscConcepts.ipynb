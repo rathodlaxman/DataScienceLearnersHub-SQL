{
    "metadata": {
        "kernelspec": {
            "name": "SQL",
            "display_name": "SQL",
            "language": "sql"
        },
        "language_info": {
            "name": "sql",
            "version": ""
        }
    },
    "nbformat_minor": 2,
    "nbformat": 4,
    "cells": [
        {
            "cell_type": "markdown",
            "source": [
                "# **Data Science Learners Hub**\n",
                "\n",
                "**Module : SQL**\n",
                "\n",
                "**Topic :** <span style=\"font-weight: 600; font-family: -apple-system, BlinkMacSystemFont, sans-serif; color: var(--vscode-foreground);\">Misc Concepts</span>\n",
                "\n",
                "**email** : [luckyrathod.forum@gmail.com](mailto:luckyrathod.forum@gmail.com)"
            ],
            "metadata": {
                "azdata_cell_guid": "d438c67d-1ff3-4f88-8015-baa03245d5c2"
            },
            "attachments": {}
        },
        {
            "cell_type": "code",
            "source": [
                "CREATE TABLE EMPLOYEE\n",
                "       (EMPNO NUMERIC(4) NOT NULL,\n",
                "        ENAME VARCHAR(10),\n",
                "        JOB VARCHAR(9),\n",
                "        MGR NUMERIC(4),\n",
                "        HIREDATE DATE,\n",
                "        SAL NUMERIC(7, 2),\n",
                "        COMM NUMERIC(7, 2),\n",
                "        DEPTNO NUMERIC(2));\n",
                "\n",
                ""
            ],
            "metadata": {
                "language": "sql",
                "azdata_cell_guid": "a3d7dcfa-37e8-42ef-a442-f81b469855b7"
            },
            "outputs": [
                {
                    "output_type": "display_data",
                    "data": {
                        "text/html": "Commands completed successfully."
                    },
                    "metadata": {}
                },
                {
                    "output_type": "display_data",
                    "data": {
                        "text/html": "Total execution time: 00:00:00.050"
                    },
                    "metadata": {}
                }
            ],
            "execution_count": 3
        },
        {
            "cell_type": "code",
            "source": [
                "INSERT INTO EMPLOYEE VALUES\n",
                "        (7369, 'SMITH',  'CLERK',     7902,\n",
                "        '17-DEC-1980',  800, NULL, 20);\n",
                "INSERT INTO EMPLOYEE VALUES\n",
                "        (7499, 'ALLEN',  'SALESMAN',  7698,\n",
                "        '20-FEB-1981', 1600,  300, 30);\n",
                "INSERT INTO EMPLOYEE VALUES\n",
                "        (7521, 'WARD',   'SALESMAN',  7698,\n",
                "        '22-FEB-1981', 1250,  500, 30);\n",
                "INSERT INTO EMPLOYEE VALUES\n",
                "        (7566, 'JONES',  'MANAGER',   7839,\n",
                "        '2-APR-1981',  2975, NULL, 20);\n",
                "INSERT INTO EMPLOYEE VALUES\n",
                "        (7654, 'MARTIN', 'SALESMAN',  7698,\n",
                "        '28-SEP-1981', 1250, 1400, 30);\n",
                "INSERT INTO EMPLOYEE VALUES\n",
                "        (7698, 'BLAKE',  'MANAGER',   7839,\n",
                "        '1-MAY-1981',  2850, NULL, 30);\n",
                "INSERT INTO EMPLOYEE VALUES\n",
                "        (7782, 'CLARK',  'MANAGER',   7839,\n",
                "        '9-JUN-1981',  2450, NULL, 10);\n",
                "INSERT INTO EMPLOYEE VALUES\n",
                "        (7788, 'SCOTT',  'ANALYST',   7566,\n",
                "        '09-DEC-1982', 3000, NULL, 20);\n",
                "INSERT INTO EMPLOYEE VALUES\n",
                "        (7839, 'KING',   'PRESIDENT', NULL,\n",
                "        '17-NOV-1981', 5000, NULL, 10);\n",
                "INSERT INTO EMPLOYEE VALUES\n",
                "        (7844, 'TURNER', 'SALESMAN',  7698,\n",
                "        '8-SEP-1981',  1500,    0, 30);\n",
                "INSERT INTO EMPLOYEE VALUES\n",
                "        (7876, 'ADAMS',  'CLERK',     7788,\n",
                "        '12-JAN-1983', 1100, NULL, 20);\n",
                "INSERT INTO EMPLOYEE VALUES\n",
                "        (7900, 'JAMES',  'CLERK',     7698,\n",
                "        '3-DEC-1981',   950, NULL, 30);\n",
                "INSERT INTO EMPLOYEE VALUES\n",
                "        (7902, 'FORD',   'ANALYST',   7566,\n",
                "        '3-DEC-1981',  3000, NULL, 20);\n",
                "INSERT INTO EMPLOYEE VALUES\n",
                "        (7934, 'MILLER', 'CLERK',     7782,\n",
                "        '23-JAN-1982', 1300, NULL, 10);"
            ],
            "metadata": {
                "language": "sql",
                "azdata_cell_guid": "97d4a75e-2b1f-437e-bedd-7ee9f34b4224"
            },
            "outputs": [
                {
                    "output_type": "display_data",
                    "data": {
                        "text/html": "(1 row affected)"
                    },
                    "metadata": {}
                },
                {
                    "output_type": "display_data",
                    "data": {
                        "text/html": "(1 row affected)"
                    },
                    "metadata": {}
                },
                {
                    "output_type": "display_data",
                    "data": {
                        "text/html": "(1 row affected)"
                    },
                    "metadata": {}
                },
                {
                    "output_type": "display_data",
                    "data": {
                        "text/html": "(1 row affected)"
                    },
                    "metadata": {}
                },
                {
                    "output_type": "display_data",
                    "data": {
                        "text/html": "(1 row affected)"
                    },
                    "metadata": {}
                },
                {
                    "output_type": "display_data",
                    "data": {
                        "text/html": "(1 row affected)"
                    },
                    "metadata": {}
                },
                {
                    "output_type": "display_data",
                    "data": {
                        "text/html": "(1 row affected)"
                    },
                    "metadata": {}
                },
                {
                    "output_type": "display_data",
                    "data": {
                        "text/html": "(1 row affected)"
                    },
                    "metadata": {}
                },
                {
                    "output_type": "display_data",
                    "data": {
                        "text/html": "(1 row affected)"
                    },
                    "metadata": {}
                },
                {
                    "output_type": "display_data",
                    "data": {
                        "text/html": "(1 row affected)"
                    },
                    "metadata": {}
                },
                {
                    "output_type": "display_data",
                    "data": {
                        "text/html": "(1 row affected)"
                    },
                    "metadata": {}
                },
                {
                    "output_type": "display_data",
                    "data": {
                        "text/html": "(1 row affected)"
                    },
                    "metadata": {}
                },
                {
                    "output_type": "display_data",
                    "data": {
                        "text/html": "(1 row affected)"
                    },
                    "metadata": {}
                },
                {
                    "output_type": "display_data",
                    "data": {
                        "text/html": "(1 row affected)"
                    },
                    "metadata": {}
                },
                {
                    "output_type": "display_data",
                    "data": {
                        "text/html": "Total execution time: 00:00:00.065"
                    },
                    "metadata": {}
                }
            ],
            "execution_count": 8
        },
        {
            "cell_type": "code",
            "source": [
                "SELECT * from EMPLOYEE WHERE hiredate >= '01-jan-1981' and hiredate <= '31-dec-1981'\n",
                "-- The above condition is like between condition\n",
                "--Doubt\n",
                "--Sir, should the date format be always in this format '31-dec-1981' \n",
                "-- DD-MMM-YYYY, YYYY-MM-DD, DD-MM-YYYY\n",
                "-- Most of the commonly used format it recognises"
            ],
            "metadata": {
                "azdata_cell_guid": "32e988b8-4007-4ff3-83d5-df0cfc47a1bc",
                "language": "sql"
            },
            "outputs": [
                {
                    "output_type": "display_data",
                    "data": {
                        "text/html": "(10 rows affected)"
                    },
                    "metadata": {}
                },
                {
                    "output_type": "display_data",
                    "data": {
                        "text/html": "Total execution time: 00:00:00.009"
                    },
                    "metadata": {}
                },
                {
                    "output_type": "execute_result",
                    "execution_count": 10,
                    "data": {
                        "application/vnd.dataresource+json": {
                            "schema": {
                                "fields": [
                                    {
                                        "name": "EMPNO"
                                    },
                                    {
                                        "name": "ENAME"
                                    },
                                    {
                                        "name": "JOB"
                                    },
                                    {
                                        "name": "MGR"
                                    },
                                    {
                                        "name": "HIREDATE"
                                    },
                                    {
                                        "name": "SAL"
                                    },
                                    {
                                        "name": "COMM"
                                    },
                                    {
                                        "name": "DEPTNO"
                                    }
                                ]
                            },
                            "data": [
                                {
                                    "EMPNO": "7499",
                                    "ENAME": "ALLEN",
                                    "JOB": "SALESMAN",
                                    "MGR": "7698",
                                    "HIREDATE": "1981-02-20",
                                    "SAL": "1600.00",
                                    "COMM": "300.00",
                                    "DEPTNO": "30"
                                },
                                {
                                    "EMPNO": "7521",
                                    "ENAME": "WARD",
                                    "JOB": "SALESMAN",
                                    "MGR": "7698",
                                    "HIREDATE": "1981-02-22",
                                    "SAL": "1250.00",
                                    "COMM": "500.00",
                                    "DEPTNO": "30"
                                },
                                {
                                    "EMPNO": "7566",
                                    "ENAME": "JONES",
                                    "JOB": "MANAGER",
                                    "MGR": "7839",
                                    "HIREDATE": "1981-04-02",
                                    "SAL": "2975.00",
                                    "COMM": "NULL",
                                    "DEPTNO": "20"
                                },
                                {
                                    "EMPNO": "7654",
                                    "ENAME": "MARTIN",
                                    "JOB": "SALESMAN",
                                    "MGR": "7698",
                                    "HIREDATE": "1981-09-28",
                                    "SAL": "1250.00",
                                    "COMM": "1400.00",
                                    "DEPTNO": "30"
                                },
                                {
                                    "EMPNO": "7698",
                                    "ENAME": "BLAKE",
                                    "JOB": "MANAGER",
                                    "MGR": "7839",
                                    "HIREDATE": "1981-05-01",
                                    "SAL": "2850.00",
                                    "COMM": "NULL",
                                    "DEPTNO": "30"
                                },
                                {
                                    "EMPNO": "7782",
                                    "ENAME": "CLARK",
                                    "JOB": "MANAGER",
                                    "MGR": "7839",
                                    "HIREDATE": "1981-06-09",
                                    "SAL": "2450.00",
                                    "COMM": "NULL",
                                    "DEPTNO": "10"
                                },
                                {
                                    "EMPNO": "7839",
                                    "ENAME": "KING",
                                    "JOB": "PRESIDENT",
                                    "MGR": "NULL",
                                    "HIREDATE": "1981-11-17",
                                    "SAL": "5000.00",
                                    "COMM": "NULL",
                                    "DEPTNO": "10"
                                },
                                {
                                    "EMPNO": "7844",
                                    "ENAME": "TURNER",
                                    "JOB": "SALESMAN",
                                    "MGR": "7698",
                                    "HIREDATE": "1981-09-08",
                                    "SAL": "1500.00",
                                    "COMM": "0.00",
                                    "DEPTNO": "30"
                                },
                                {
                                    "EMPNO": "7900",
                                    "ENAME": "JAMES",
                                    "JOB": "CLERK",
                                    "MGR": "7698",
                                    "HIREDATE": "1981-12-03",
                                    "SAL": "950.00",
                                    "COMM": "NULL",
                                    "DEPTNO": "30"
                                },
                                {
                                    "EMPNO": "7902",
                                    "ENAME": "FORD",
                                    "JOB": "ANALYST",
                                    "MGR": "7566",
                                    "HIREDATE": "1981-12-03",
                                    "SAL": "3000.00",
                                    "COMM": "NULL",
                                    "DEPTNO": "20"
                                }
                            ]
                        },
                        "text/html": "<table><tr><th>EMPNO</th><th>ENAME</th><th>JOB</th><th>MGR</th><th>HIREDATE</th><th>SAL</th><th>COMM</th><th>DEPTNO</th></tr><tr><td>7499</td><td>ALLEN</td><td>SALESMAN</td><td>7698</td><td>1981-02-20</td><td>1600.00</td><td>300.00</td><td>30</td></tr><tr><td>7521</td><td>WARD</td><td>SALESMAN</td><td>7698</td><td>1981-02-22</td><td>1250.00</td><td>500.00</td><td>30</td></tr><tr><td>7566</td><td>JONES</td><td>MANAGER</td><td>7839</td><td>1981-04-02</td><td>2975.00</td><td>NULL</td><td>20</td></tr><tr><td>7654</td><td>MARTIN</td><td>SALESMAN</td><td>7698</td><td>1981-09-28</td><td>1250.00</td><td>1400.00</td><td>30</td></tr><tr><td>7698</td><td>BLAKE</td><td>MANAGER</td><td>7839</td><td>1981-05-01</td><td>2850.00</td><td>NULL</td><td>30</td></tr><tr><td>7782</td><td>CLARK</td><td>MANAGER</td><td>7839</td><td>1981-06-09</td><td>2450.00</td><td>NULL</td><td>10</td></tr><tr><td>7839</td><td>KING</td><td>PRESIDENT</td><td>NULL</td><td>1981-11-17</td><td>5000.00</td><td>NULL</td><td>10</td></tr><tr><td>7844</td><td>TURNER</td><td>SALESMAN</td><td>7698</td><td>1981-09-08</td><td>1500.00</td><td>0.00</td><td>30</td></tr><tr><td>7900</td><td>JAMES</td><td>CLERK</td><td>7698</td><td>1981-12-03</td><td>950.00</td><td>NULL</td><td>30</td></tr><tr><td>7902</td><td>FORD</td><td>ANALYST</td><td>7566</td><td>1981-12-03</td><td>3000.00</td><td>NULL</td><td>20</td></tr></table>"
                    },
                    "metadata": {}
                }
            ],
            "execution_count": 10
        },
        {
            "cell_type": "markdown",
            "source": [
                "**HOW TO MAKE THE ABOVE QUERY COMPACT USING <mark>ALIAS</mark>**\n",
                "\n",
                "- By using Alias u can make compact\n",
                "- if the table name is very lengthly it becomes difficult to JOIN multiple tables\n",
                "- The column name can be prefixed with Alias name\n",
                "- The alias name holds good for current query only\n",
                "- The scope of alias is limited to the same query in which it is used\n",
                "- Note : Once u define an alias for the table, therafter u can access the columns of table only using alias name"
            ],
            "metadata": {
                "azdata_cell_guid": "153d3082-0f60-40c7-8b31-1fa91f22f229"
            },
            "attachments": {}
        },
        {
            "cell_type": "markdown",
            "source": [
                "### **How to get Grand Total  using ROLLUP() ?**\n",
                "\n",
                "- A ROLLUP is an extended version of GROUP BY\n",
                "- Rollup is used with GROUP BY for adding the rows retrieved by Group BY  \n",
                "\n",
                "  <span style=\"font-family: -apple-system, BlinkMacSystemFont, sans-serif; color: var(--vscode-foreground);\"><b>Syntax</b></span>\n",
                "\n",
                "  \n",
                "\n",
                "SELECT \\<Column Names\\>\n",
                "\n",
                "  \n",
                "\n",
                "FROM \\<Table name\\>\n",
                "\n",
                "  \n",
                "\n",
                "GROUP BY ROLLUP(\\<Column Name\\>)"
            ],
            "metadata": {
                "language": "sql",
                "azdata_cell_guid": "5d5d926f-db0b-4113-88e4-19665f9e2569"
            },
            "attachments": {}
        },
        {
            "cell_type": "code",
            "source": [
                "SELECT Region, SUM(SALES) AS SalesAmount, SUM(Profit) AS ProfitAmount, COUNT(*) AS TotalOrderCount\n",
                "FROM SalesOrder\n",
                "GROUP BY ROLLUP(Region)"
            ],
            "metadata": {
                "language": "sql",
                "azdata_cell_guid": "d185d4e0-5f95-4293-9d7d-f7b3ee502a96"
            },
            "outputs": [
                {
                    "output_type": "display_data",
                    "data": {
                        "text/html": "(5 rows affected)"
                    },
                    "metadata": {}
                },
                {
                    "output_type": "display_data",
                    "data": {
                        "text/html": "Total execution time: 00:00:00.036"
                    },
                    "metadata": {}
                },
                {
                    "output_type": "execute_result",
                    "metadata": {},
                    "execution_count": 1,
                    "data": {
                        "application/vnd.dataresource+json": {
                            "schema": {
                                "fields": [
                                    {
                                        "name": "Region"
                                    },
                                    {
                                        "name": "SalesAmount"
                                    },
                                    {
                                        "name": "ProfitAmount"
                                    },
                                    {
                                        "name": "TotalOrderCount"
                                    }
                                ]
                            },
                            "data": [
                                {
                                    "Region": "Central",
                                    "SalesAmount": "501239.89080000046",
                                    "ProfitAmount": "39706.362500000105",
                                    "TotalOrderCount": "2323"
                                },
                                {
                                    "Region": "East",
                                    "SalesAmount": "678781.2399999982",
                                    "ProfitAmount": "91522.78000000017",
                                    "TotalOrderCount": "2848"
                                },
                                {
                                    "Region": "South",
                                    "SalesAmount": "391721.90500000067",
                                    "ProfitAmount": "46749.43030000008",
                                    "TotalOrderCount": "1620"
                                },
                                {
                                    "Region": "West",
                                    "SalesAmount": "725457.8244999994",
                                    "ProfitAmount": "108418.4489000001",
                                    "TotalOrderCount": "3203"
                                },
                                {
                                    "Region": "NULL",
                                    "SalesAmount": "2297200.860299999",
                                    "ProfitAmount": "286397.0217000005",
                                    "TotalOrderCount": "9994"
                                }
                            ]
                        },
                        "text/html": [
                            "<table>",
                            "<tr><th>Region</th><th>SalesAmount</th><th>ProfitAmount</th><th>TotalOrderCount</th></tr>",
                            "<tr><td>Central</td><td>501239.89080000046</td><td>39706.362500000105</td><td>2323</td></tr>",
                            "<tr><td>East</td><td>678781.2399999982</td><td>91522.78000000017</td><td>2848</td></tr>",
                            "<tr><td>South</td><td>391721.90500000067</td><td>46749.43030000008</td><td>1620</td></tr>",
                            "<tr><td>West</td><td>725457.8244999994</td><td>108418.4489000001</td><td>3203</td></tr>",
                            "<tr><td>NULL</td><td>2297200.860299999</td><td>286397.0217000005</td><td>9994</td></tr>",
                            "</table>"
                        ]
                    }
                }
            ],
            "execution_count": 1
        },
        {
            "cell_type": "markdown",
            "source": [
                "### **How to rename NULL to GrandTotal**\n",
                "\n",
                "- This can be done using **COALESCE**() function : It looks for null values in region column and replace with grand total\n",
                "- **Note** : If there are multiple NULL values in region column than COALESCE() function does not work"
            ],
            "metadata": {
                "language": "sql",
                "azdata_cell_guid": "9189c819-7dc9-4e1b-ae2b-2dc9442eb224"
            },
            "attachments": {}
        },
        {
            "cell_type": "code",
            "source": [
                "SELECT COALESCE(Region,'GrandTotal'), SUM(SALES) AS SalesAmount, SUM(Profit) AS ProfitAmount, COUNT(*) AS TotalOrderCount\n",
                "FROM SalesOrder\n",
                "GROUP BY ROLLUP(Region)"
            ],
            "metadata": {
                "language": "sql",
                "azdata_cell_guid": "481c524f-a85e-4140-8453-71dde0999cc9"
            },
            "outputs": [
                {
                    "output_type": "display_data",
                    "data": {
                        "text/html": "(5 rows affected)"
                    },
                    "metadata": {}
                },
                {
                    "output_type": "display_data",
                    "data": {
                        "text/html": "Total execution time: 00:00:00.036"
                    },
                    "metadata": {}
                },
                {
                    "output_type": "execute_result",
                    "metadata": {},
                    "execution_count": 2,
                    "data": {
                        "application/vnd.dataresource+json": {
                            "schema": {
                                "fields": [
                                    {
                                        "name": "(No column name)"
                                    },
                                    {
                                        "name": "SalesAmount"
                                    },
                                    {
                                        "name": "ProfitAmount"
                                    },
                                    {
                                        "name": "TotalOrderCount"
                                    }
                                ]
                            },
                            "data": [
                                {
                                    "(No column name)": "Central",
                                    "SalesAmount": "501239.89080000046",
                                    "ProfitAmount": "39706.362500000105",
                                    "TotalOrderCount": "2323"
                                },
                                {
                                    "(No column name)": "East",
                                    "SalesAmount": "678781.2399999982",
                                    "ProfitAmount": "91522.78000000017",
                                    "TotalOrderCount": "2848"
                                },
                                {
                                    "(No column name)": "South",
                                    "SalesAmount": "391721.90500000067",
                                    "ProfitAmount": "46749.43030000008",
                                    "TotalOrderCount": "1620"
                                },
                                {
                                    "(No column name)": "West",
                                    "SalesAmount": "725457.8244999994",
                                    "ProfitAmount": "108418.4489000001",
                                    "TotalOrderCount": "3203"
                                },
                                {
                                    "(No column name)": "GrandTotal",
                                    "SalesAmount": "2297200.860299999",
                                    "ProfitAmount": "286397.0217000005",
                                    "TotalOrderCount": "9994"
                                }
                            ]
                        },
                        "text/html": [
                            "<table>",
                            "<tr><th>(No column name)</th><th>SalesAmount</th><th>ProfitAmount</th><th>TotalOrderCount</th></tr>",
                            "<tr><td>Central</td><td>501239.89080000046</td><td>39706.362500000105</td><td>2323</td></tr>",
                            "<tr><td>East</td><td>678781.2399999982</td><td>91522.78000000017</td><td>2848</td></tr>",
                            "<tr><td>South</td><td>391721.90500000067</td><td>46749.43030000008</td><td>1620</td></tr>",
                            "<tr><td>West</td><td>725457.8244999994</td><td>108418.4489000001</td><td>3203</td></tr>",
                            "<tr><td>GrandTotal</td><td>2297200.860299999</td><td>286397.0217000005</td><td>9994</td></tr>",
                            "</table>"
                        ]
                    }
                }
            ],
            "execution_count": 2
        },
        {
            "cell_type": "markdown",
            "source": [
                "### **Note** : If your column name contains hyphen or space use \\[\\] to that column name"
            ],
            "metadata": {
                "language": "sql",
                "azdata_cell_guid": "e89f38c2-443b-402c-a34d-85cd6b29ee80"
            },
            "attachments": {}
        },
        {
            "cell_type": "markdown",
            "source": [
                "## **<mark>JOINS</mark>**[](http://localhost:8888/notebooks/Documents/1.PROJECTS/SelfPacedSQL/SQLClass.ipynb#JOINS)\n",
                "\n",
                "**<mark>Joins is very very very important</mark>**\n",
                "\n",
                "Used to get multiple table info in one query by join\n",
                "\n",
                "Without having a common column we cannot join two tables\n",
                "\n",
                "**TYPES OF JOIN**\n",
                "\n",
                "**Important JOINs**\n",
                "\n",
                "INNER JOIN (Also called as EQUI JOIN or JOIN)\n",
                "\n",
                "RIGHT JOIN (Also called as RIGHT OUTER JOIN)\n",
                "\n",
                "LEFT JOIN (Also called as LEFT OUTER JOIN)\n",
                "\n",
                "**Less Important Join**\n",
                "\n",
                "FULL JOIN (Also called as FULL OUTER JOIN)\n",
                "\n",
                "CARTESIAN JOIN\n",
                "\n",
                "Database.xls file is uploaded for tmrw practise on google drive :"
            ],
            "metadata": {
                "language": "sql",
                "azdata_cell_guid": "18ae041b-be56-4a61-90fa-4dcfe59b27f2"
            },
            "attachments": {}
        },
        {
            "cell_type": "code",
            "source": [
                "-- JOIN BASICALLY IS MANY TO MANY RELATION\n",
                "-- Here * indicates all the columns from emp table and dept table (SELECT * FROM emp INNER JOIN Dept)\n",
                "-- This tables are not actually joined in the db. The joined table is in temp memory\n",
                "\n",
                "SELECT Top 5 * \n",
                "FROM emp \n",
                "INNER JOIN Dept \n",
                "ON emp.deptno=dept.deptno\n",
                "ORDER BY emp.deptno\n",
                "\n",
                "SELECT COUNT(*) FROM emp\n",
                "SELECT COUNT(*) FROM dept"
            ],
            "metadata": {
                "language": "sql",
                "azdata_cell_guid": "3322743e-48b3-4889-b90c-01a98c5723b9"
            },
            "outputs": [],
            "execution_count": null
        },
        {
            "cell_type": "code",
            "source": [
                "-- GET all orders placed by the customer add column returned from returns table\n",
                "-- RETURNS keyword use\n",
                "SELECT Top 5 SalesOrder.[Customer Name],SalesOrder.Discount, SalesOrder.[Product Name], SalesOrder.[Order ID], [Returns].Returned\n",
                "FROM SalesOrder\n",
                "LEFT JOIN [Returns]\n",
                "ON SalesOrder.[Order ID]=[Returns].[Order ID]\n",
                "ORDER BY SalesOrder.[Customer Name]"
            ],
            "metadata": {
                "language": "sql",
                "azdata_cell_guid": "8e5a2a2b-890b-4433-b6aa-89fb82ce22e9"
            },
            "outputs": [],
            "execution_count": null
        },
        {
            "cell_type": "code",
            "source": [
                "-- LEFT JOIN\n",
                "-- Matched rows + unmatched rows from SalesOrder table\n",
                "\n",
                "SELECT Top 5 SalesOrder.[Customer Name],SalesOrder.Discount, SalesOrder.[Product Name], SalesOrder.[Order ID], [Returns].Returned, SalesOrder.Region\n",
                "FROM SalesOrder\n",
                "LEFT JOIN [Returns]\n",
                "ON SalesOrder.[Order ID]=[Returns].[Order ID]\n",
                "ORDER BY SalesOrder.[Customer Name]"
            ],
            "metadata": {
                "language": "sql",
                "azdata_cell_guid": "60cc8446-63c8-4c63-8c6d-be0a176dcf3e"
            },
            "outputs": [],
            "execution_count": null
        },
        {
            "cell_type": "code",
            "source": [
                "-- RIGHT JOIN\n",
                "-- Matched rows + unmatched rows from Returns table\n",
                "\n",
                "SELECT Top 5 SalesOrder.[Customer Name],SalesOrder.Discount, SalesOrder.[Product Name], SalesOrder.[Order ID], [Returns].Returned, SalesOrder.Region\n",
                "FROM SalesOrder\n",
                "RIGHT JOIN [Returns]\n",
                "ON SalesOrder.[Order ID]=[Returns].[Order ID]\n",
                "ORDER BY SalesOrder.[Customer Name]"
            ],
            "metadata": {
                "language": "sql",
                "azdata_cell_guid": "0dfcac22-60af-4267-8af3-77811e63156f"
            },
            "outputs": [],
            "execution_count": null
        },
        {
            "cell_type": "markdown",
            "source": [
                "### **<mark>SELF JOIN</mark>**[](http://localhost:8888/notebooks/Documents/1.PROJECTS/SelfPacedSQL/SQLClass.ipynb#SELF-JOIN)\n",
                "\n",
                "- The self join is used on limited scenarios only\n",
                "- We use self join on a table if a particular colum has a link with another columns data values. \n",
                "- Like in case of emp table the Mgr column as Manager No. This manager no is actually the Emp No of Emp No column.\n",
                "- Now to get the manager name u need to do self join\n",
                "- Since we are joining u use JOIN keyword and u need two tables. So in this case we will use one table with two different aliases ex : E1 and E2.\n",
                "- Both E1 and E2 are the aliases of the empno\n",
                "- Definition : Self join is a type of join where the table is join to itself"
            ],
            "metadata": {
                "language": "sql",
                "azdata_cell_guid": "fe545942-9cef-458d-befc-c33ccee09d75"
            },
            "attachments": {}
        },
        {
            "cell_type": "markdown",
            "source": [
                "### **<mark>CROSS JOIN</mark>**[](http://localhost:8888/notebooks/Documents/1.PROJECTS/SelfPacedSQL/SQLClass.ipynb#CROSS-JOIN)\n",
                "\n",
                "- We never use it\n",
                "- Every record in the first table will join with the every other record of the second table\n",
                "\n",
                "**Syntax**\n",
                "\n",
                "SELECT \\* FROM \\<Table1\\>... \\<Table N\\>"
            ],
            "metadata": {
                "language": "sql",
                "azdata_cell_guid": "d75f215c-a010-4b75-b7b8-5e3fd3954b01"
            },
            "attachments": {}
        },
        {
            "cell_type": "markdown",
            "source": [
                "**<mark>DELETE AND TRUNCATE STATEMENT</mark>**\n",
                "\n",
                "- DELETE used to remove partial rows in table\n",
                "- DELETE Generates a log file for each record deleted\n",
                "- Delete all records but the memory spaces alloted to this records are not deleted and cant be allocated to other purposes. \n",
                "- Above problem is solved with TRUNCATE command. TRUNCATE will delete all the records and deallocates the memory alloted to these deleted records.\n",
                "- WHERE clause cannot be used with TRUNCATE command\n",
                "- TRUNCATE does not have a log file so we will not know what records are deleted\n",
                "- TRUNCATE generates log file with a single statement saying data has been deleted from the table\n",
                "- In real time when u use data backup, data migration TRUNCATE is used.\n",
                "- TRUNCATE is powerful and fast"
            ],
            "metadata": {
                "language": "sql",
                "azdata_cell_guid": "99051324-483f-4f43-9f7f-ccd442d99887"
            },
            "attachments": {}
        },
        {
            "cell_type": "markdown",
            "source": [
                "**<mark>RULES/CONSTRAINTS</mark>**\n",
                "\n",
                "- If u dont create rules while creating table than it will except duplicate values\n",
                "- Column values cannot be restricted\n",
                "- Column values can consider NULL values if user missed to insert the data\n",
                "- Rules have to applied while creating a table\n",
                "- Rules can also be applied post creating a table"
            ],
            "metadata": {
                "language": "sql",
                "azdata_cell_guid": "bddc9108-0a24-4da2-8b74-9478f182cd65"
            },
            "attachments": {}
        },
        {
            "cell_type": "markdown",
            "source": [
                "**Question** :  <span style=\"box-sizing: border-box; font-family: &quot;Helvetica Neue&quot;, Helvetica, Arial, sans-serif; color: rgb(0, 0, 255);\">If</span>  <span style=\"caret-color: rgb(0, 0, 0); color: rgb(0, 0, 0); font-family: &quot;Helvetica Neue&quot;, Helvetica, Arial, sans-serif; background-color: rgb(255, 255, 255);\"><span class=\"Apple-converted-space\">&nbsp;</span>u mention only<span class=\"Apple-converted-space\">&nbsp;</span></span>  <span style=\"box-sizing: border-box; font-family: &quot;Helvetica Neue&quot;, Helvetica, Arial, sans-serif; color: rgb(0, 0, 255);\">UNIQUE</span> <span style=\"box-sizing: border-box; font-family: &quot;Helvetica Neue&quot;, Helvetica, Arial, sans-serif; color: rgb(0, 0, 255);\">constraint</span> <span style=\"box-sizing: border-box; font-family: &quot;Helvetica Neue&quot;, Helvetica, Arial, sans-serif; color: rgb(0, 0, 255);\">without</span>  <span style=\"caret-color: rgb(0, 0, 0); color: rgb(0, 0, 0); font-family: &quot;Helvetica Neue&quot;, Helvetica, Arial, sans-serif; background-color: rgb(255, 255, 255);\"><span class=\"Apple-converted-space\">&nbsp;</span>mentioning<span class=\"Apple-converted-space\">&nbsp;</span></span>  <span style=\"box-sizing: border-box; font-family: &quot;Helvetica Neue&quot;, Helvetica, Arial, sans-serif; color: rgb(0, 0, 255);\">NOT NULL</span>  <span style=\"caret-color: rgb(0, 0, 0); color: rgb(0, 0, 0); font-family: &quot;Helvetica Neue&quot;, Helvetica, Arial, sans-serif; background-color: rgb(255, 255, 255);\"><span class=\"Apple-converted-space\">&nbsp;</span>will that column accept<span class=\"Apple-converted-space\">&nbsp;</span></span>  <span style=\"box-sizing: border-box; font-family: &quot;Helvetica Neue&quot;, Helvetica, Arial, sans-serif; color: rgb(0, 0, 255);\">NULL</span> <span style=\"box-sizing: border-box; font-family: &quot;Helvetica Neue&quot;, Helvetica, Arial, sans-serif; color: rgb(0, 0, 255);\">VALUE</span>\n",
                "\n",
                "**Ans**  <span style=\"caret-color: rgb(0, 0, 0); color: rgb(0, 0, 0); font-family: &quot;Helvetica Neue&quot;, Helvetica, Arial, sans-serif; background-color: rgb(255, 255, 255);\"><span class=\"Apple-converted-space\">&nbsp;</span>: Only once, because the second NULL will become duplicate</span>"
            ],
            "metadata": {
                "language": "sql",
                "azdata_cell_guid": "91748774-a4c5-4c76-b985-5ec0082d6ffd"
            },
            "attachments": {}
        },
        {
            "cell_type": "code",
            "source": [
                "CREATE TABLE Rule02\n",
                "(\n",
                "    empno CHAR(5) NOT NULL UNIQUE, -- Can this be considered as PRIMARY KEY ?\n",
                "    ename VARCHAR(40) NOT NULL,\n",
                "    DoJ DATE NOT NULL,\n",
                "    Sal NUMERIC(10)\n",
                ")"
            ],
            "metadata": {
                "language": "sql",
                "azdata_cell_guid": "3e93109c-5f51-4fee-8316-fe2751bc0686"
            },
            "outputs": [],
            "execution_count": null
        },
        {
            "cell_type": "markdown",
            "source": [
                "**<mark>PRIMARY KEY</mark>**\n",
                "\n",
                "- NOTE : In a table only one primary key is present\n",
                "- Does not accept NULL values and duplicate values\n",
                "- Indirectly NOT NULL + UNIQUE is referred as PRIMARY KEY constraint\n",
                "- Why do we need PRIMARY KEY\n",
                "\n",
                "Question : Sir, what is the difference between NOT NULL + UNIQUE constraint and  PRIMARY KEY ?\n",
                "\n",
                "Answer : Foreign Key will only refer to the Primary Key"
            ],
            "metadata": {
                "language": "sql",
                "azdata_cell_guid": "ec68d224-ac05-4478-8586-d6baeb607a8a"
            },
            "attachments": {}
        },
        {
            "cell_type": "markdown",
            "source": [
                "**<mark>COMPOSITE KEY AND FOREIGN KEY</mark>**\n",
                "\n",
                "- In SQL, a composite key, also known as a composite primary key, is a combination of two or more columns that uniquely identifies a row or record in a database table. Unlike a single-column primary key, which uses a single field to uniquely identify each record, a composite key relies on multiple columns working together to ensure uniqueness.\n",
                "    \n",
                "- Composite keys are useful when you need to ensure uniqueness based on a combination of columns rather than just a single column. They are often used in tables that represent relationships between two or more entities.\n",
                "    \n",
                "- It is just like primary key. Primary key is applied on single column whereas composite key is applied on two or more columns to identify unique rows\n",
                "    \n",
                "- A composite key is applied on multiple columns\n",
                "    \n",
                "- Multiple columns together are considered as unique"
            ],
            "metadata": {
                "language": "sql",
                "azdata_cell_guid": "bb67f77d-d41b-498d-a756-a1231a3c6a68"
            },
            "attachments": {}
        },
        {
            "cell_type": "markdown",
            "source": [
                "**<mark>FOREIGN KEY CONSTRAINT</mark>**\n",
                "\n",
                "- Foreign Key can be applied on both PRIMARY KEY and UNIQUE columns"
            ],
            "metadata": {
                "language": "sql",
                "azdata_cell_guid": "78cf59e6-f0ed-4c48-b35e-1325778806a9"
            },
            "attachments": {}
        },
        {
            "cell_type": "markdown",
            "source": [
                "**<mark>DOUBTS</mark>**\n",
                "\n",
                "- Sir, can FOREIGN KEY be applied on Column with UNIQUE constraint ?\n",
                "    - Yes, but it might become a loop hole Since UNIQUE can accept one single NULL value\n",
                "- Can FOREIGN KEY can be applied on COMPOSITE KEY\n",
                "    - Yes, but should refer to multiple comloumns as defined in Composite Key Constraint\n",
                "- Sir what is the difference between UNIQUE+ NOT NULL on a column and PRIMARY KEY on a column\n",
                "    - Both are same"
            ],
            "metadata": {
                "language": "sql",
                "azdata_cell_guid": "0bec1ffb-0c89-4252-90de-85617cb5bb53"
            },
            "attachments": {}
        },
        {
            "cell_type": "markdown",
            "source": [
                "### **<mark>OPERATORS</mark>**[](http://localhost:8888/notebooks/Documents/1.PROJECTS/SelfPacedSQL/SQLClass.ipynb#OPERATORS)\n",
                "\n",
                "- Two SELECT statement you want to append it to make a single statement\n",
                "- Used to append multiple select statement with different scenarios\n",
                "- Make sure that SELECT statement get same column details as well as same no of coluns also\n",
                "\n",
                "UNION ALL : Combines both the SELECT statement including the duplicates\n",
                "\n",
                "UNION : Combines both the SELECT statement and keeps only one copy of the duplicates \n",
                "\n",
                "INTERSECT : Common records present in both the select statement \n",
                "\n",
                "EXCEPT : Records present in first select statement"
            ],
            "metadata": {
                "language": "sql",
                "azdata_cell_guid": "dab93f9a-7af5-4ece-b358-72f0e9ee953b"
            },
            "attachments": {}
        },
        {
            "cell_type": "markdown",
            "source": [
                "### **<mark>SUB QUERIES</mark>**[](http://localhost:8888/notebooks/Documents/1.PROJECTS/SelfPacedSQL/SQLClass.ipynb#SUB-QUERIES)\n",
                "\n",
                "- It is used when u want to access a column within same table\n",
                "- It is used when we use aggregate functions value to get a set of records"
            ],
            "metadata": {
                "language": "sql",
                "azdata_cell_guid": "70313ff0-c91c-47ec-89aa-c44090c80aa6"
            },
            "attachments": {}
        },
        {
            "cell_type": "markdown",
            "source": [
                "### **<mark>TEMPORARY TABLES</mark>**[](http://localhost:8888/notebooks/Documents/1.PROJECTS/SelfPacedSQL/SQLClass.ipynb#TEMPORARY-TABLES)\n",
                "\n",
                "- These tables are created for temporary usage and the duration of this table is limited to the session or transaction\n",
                "- Session gets created when u open the query window and gets closed once u close the query window\n",
                "- temporary tables are created as normal tables except that the tempory table name is prefixed by '#'\n",
                "- The temporary table gets stored in Database-\\>Tempdb-\\>Temporary Tables\n",
                "\n",
                "**<mark>Types of Temporary Table</mark>**\n",
                "\n",
                "- **Local temp table** : starts with #\n",
                "    - Are accessible within the same session that created it\n",
                "- **Global temp table** : starts with ##\n",
                "    - Accessible across the LAN until every user on the lan closes the session\n",
                "    - Accessible across multiple session within the same database\n",
                "\n",
                "**<mark>Misc</mark>**\n",
                "\n",
                "- The temp table gets remoed or dropped automatically"
            ],
            "metadata": {
                "language": "sql",
                "azdata_cell_guid": "a36e37f5-6d5a-4dfa-bf5f-ac3790e7563a"
            },
            "attachments": {}
        },
        {
            "cell_type": "markdown",
            "source": [
                "### **<mark>DOUBTS CLARIFICATION</mark>**[](http://localhost:8888/notebooks/Documents/1.PROJECTS/SelfPacedSQL/SQLClass.ipynb#DOUBTS-CLARIFICATION)\n",
                "\n",
                "- Sir, can FOREIGN KEY be applied on Column with UNIQUE constraint ?\n",
                "    \n",
                "    - Yes, but it might become a loop hole Since UNIQUE can accept one single NULL value\n",
                "- Can FOREIGN KEY can be applied on COMPOSITE KEY\n",
                "    \n",
                "    - Yes, but should refer to multiple Columns as defined in Composite Key Constraint\n",
                "- Sir what is the difference between UNIQUE+ NOT NULL on a column and PRIMARY KEY on a column\n",
                "    \n",
                "    - Both are same\n",
                "- Sir, can we change the DEFAULT value after creating the table\n",
                "    \n",
                "    - Yes\n",
                "- Sir, Can FOREIGN KEY be applied on a column which is not UNIQUE, not a PRIMARY or COMPOSITE Key\n",
                "    \n",
                "    - Not Possible (Pls check)\n",
                "- Sir, cant we ALTER multiple column in single ALTER SQL statement ?\n",
                "    \n",
                "    - No we cannot alter multiple columns in one go\n",
                "- Sir, is it mandatory to mention the column datatype whenever we try to alter a column\n",
                "    \n",
                "    - Yes you have to always mention the datatype along with constraint if any\n",
                "    - ex : ALTER COLUMN eid INT NOT NULL\n",
                "- Sir, how to change the DEFAULT value given to a column as the following statement is giving error\n",
                "    \n",
                "    ```\n",
                "    ALTER TABLE EmpAddressTest\n",
                "    ALTER COLUMN city VARCHAR(50) DEFAULT 'Mahabubnagar'\n",
                "    \n",
                "    ```\n",
                "    \n",
                "    - Drop the default constriant on City and than try to execute the below command\n",
                "    \n",
                "    ```\n",
                "    ALTER TABLE EmpAddressTest\n",
                "    ADD CONSTRAINT DF_CITY DEFAULT 'Mahabubnagar' FOR CITY\n",
                "    \n",
                "    ```\n",
                "    \n",
                "- Sir can all the above Operators used on more than two select statement\n",
                "    \n",
                "    - Yes, frame the paranthesis properly and use it depending on the requirement\n",
                "- The Temporary table is not shown under Database→tempdb→TemporaryTables"
            ],
            "metadata": {
                "language": "sql",
                "azdata_cell_guid": "f11b63e4-3486-4a02-bf03-df5ddbf61cc4"
            },
            "attachments": {}
        },
        {
            "cell_type": "markdown",
            "source": [
                "Note\n",
                "\n",
                "There is a difference between '=' and 'LIKE'\n",
                "\n",
                "We use 'LIKE' when we need to do comparison with approximate types of value\n",
                "\n",
                "We use '=' when we require a specific value\n",
                "\n",
                "The wild character '%' is not used with '=' operator\n",
                "\n",
                "  \n",
                "\n",
                "NOT EQUAL to operator '\\<\\>'\n",
                "\n",
                "select \\* from emp where ename='SCOTT'"
            ],
            "metadata": {
                "language": "sql",
                "azdata_cell_guid": "a0751563-59c9-4a2a-9968-ddce1a049b8a"
            },
            "attachments": {}
        },
        {
            "cell_type": "markdown",
            "source": [
                "### **<mark>GROUP BY</mark>**[](http://localhost:8888/notebooks/Documents/1.PROJECTS/SelfPacedSQL/SQLClass.ipynb#GROUP-BY)\n",
                "\n",
                "- Generally used to create summary reports or high level dashboards in BI Tools like PowerBI, Informatica, Tableau, SQL\n",
                "- We group rows based on some criteria like 'deptno' and grouping into one row\n",
                "- **Numerical columns you can use aggregate function only**\n",
                "- **Text values u can do COUNT only**\n",
                "- In BI tools we dont write queries we just do drag and drop\n",
                "- Never use \\* with select statement if u are using GROUP BY"
            ],
            "metadata": {
                "language": "sql",
                "azdata_cell_guid": "5d4e75f5-74f0-47be-8d79-0d566c25d4ad"
            },
            "attachments": {}
        }
    ]
}