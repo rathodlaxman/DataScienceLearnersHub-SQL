{
    "metadata": {
        "kernelspec": {
            "name": "SQL",
            "display_name": "SQL",
            "language": "sql"
        },
        "language_info": {
            "name": "sql",
            "version": ""
        }
    },
    "nbformat_minor": 2,
    "nbformat": 4,
    "cells": [
        {
            "cell_type": "markdown",
            "source": [
                "# **Data Science Learners Hub**\n",
                "\n",
                "**Module : SQL**\n",
                "\n",
                "**Topic :** <span style=\"color: var(--vscode-foreground); font-family: -apple-system, BlinkMacSystemFont, sans-serif; font-weight: 600;\">String Functions</span>\n",
                "\n",
                "**email** : [luckyrathod.forum@gmail.com](mailto:luckyrathod.forum@gmail.com)"
            ],
            "metadata": {
                "azdata_cell_guid": "6f12c0af-765e-4c8a-8e22-9e2e6cbe6de1"
            },
            "attachments": {}
        },
        {
            "cell_type": "markdown",
            "source": [
                "## **String Functions in SQL**"
            ],
            "metadata": {
                "azdata_cell_guid": "48d29a3d-742c-4b85-90e0-1f9fa0f0adbc",
                "language": ""
            },
            "attachments": {}
        },
        {
            "cell_type": "markdown",
            "source": [
                "### **What are String Functions in SQL?**\n",
                "\n",
                "  \n",
                "\n",
                "- String functions in SQL are special operations or methods that are applied to character or text data. These functions allow you to manipulate and perform operations on strings, such as extracting a substring, changing the case, concatenating strings, searching for a specific pattern, and more."
            ],
            "metadata": {
                "azdata_cell_guid": "356df634-45a1-4d09-8a65-17e752805c18"
            },
            "attachments": {}
        },
        {
            "cell_type": "code",
            "source": [
                "USE DataScienceLearnersHub"
            ],
            "metadata": {
                "azdata_cell_guid": "e4ca2a05-f231-4e3b-82e4-0bab4fd4e99a",
                "language": "sql"
            },
            "outputs": [
                {
                    "output_type": "display_data",
                    "data": {
                        "text/html": "Commands completed successfully."
                    },
                    "metadata": {}
                },
                {
                    "output_type": "display_data",
                    "data": {
                        "text/html": "Total execution time: 00:00:00.005"
                    },
                    "metadata": {}
                }
            ],
            "execution_count": 2
        },
        {
            "cell_type": "code",
            "source": [
                "SELECT * FROM employeeDetails"
            ],
            "metadata": {
                "language": "sql",
                "azdata_cell_guid": "7d5a046b-76eb-47a0-839d-a1f60d01b314"
            },
            "outputs": [
                {
                    "output_type": "display_data",
                    "data": {
                        "text/html": "(17 rows affected)"
                    },
                    "metadata": {}
                },
                {
                    "output_type": "display_data",
                    "data": {
                        "text/html": "Total execution time: 00:00:00.037"
                    },
                    "metadata": {}
                },
                {
                    "output_type": "execute_result",
                    "metadata": {},
                    "execution_count": 3,
                    "data": {
                        "application/vnd.dataresource+json": {
                            "schema": {
                                "fields": [
                                    {
                                        "name": "id"
                                    },
                                    {
                                        "name": "name"
                                    },
                                    {
                                        "name": "gender"
                                    },
                                    {
                                        "name": "salary"
                                    },
                                    {
                                        "name": "department"
                                    },
                                    {
                                        "name": "FullName"
                                    },
                                    {
                                        "name": "MonthlySalary"
                                    },
                                    {
                                        "name": "EmailAddress"
                                    },
                                    {
                                        "name": "age"
                                    }
                                ]
                            },
                            "data": [
                                {
                                    "id": "1",
                                    "name": "Laxman",
                                    "gender": "Male",
                                    "salary": "5000",
                                    "department": "Sales",
                                    "FullName": "Laxman Sales",
                                    "MonthlySalary": "416",
                                    "EmailAddress": "Laxman_1@company.com",
                                    "age": "27"
                                },
                                {
                                    "id": "2",
                                    "name": "Padma",
                                    "gender": "Female",
                                    "salary": "6000",
                                    "department": "Finance",
                                    "FullName": "Padma Finance",
                                    "MonthlySalary": "500",
                                    "EmailAddress": "Padma_2@company.com",
                                    "age": "33"
                                },
                                {
                                    "id": "3",
                                    "name": "Naina",
                                    "gender": "Female",
                                    "salary": "7500",
                                    "department": "IT",
                                    "FullName": "Naina IT",
                                    "MonthlySalary": "625",
                                    "EmailAddress": "Naina_3@company.com",
                                    "age": "41"
                                },
                                {
                                    "id": "4",
                                    "name": "Ramulu",
                                    "gender": "Male",
                                    "salary": "6500",
                                    "department": "HR",
                                    "FullName": "Ramulu HR",
                                    "MonthlySalary": "541",
                                    "EmailAddress": "Ramulu_4@company.com",
                                    "age": "36"
                                },
                                {
                                    "id": "5",
                                    "name": "Harshita",
                                    "gender": "Female",
                                    "salary": "5500",
                                    "department": "Marketing",
                                    "FullName": "Harshita Marketing",
                                    "MonthlySalary": "458",
                                    "EmailAddress": "Harshita_5@company.com",
                                    "age": "30"
                                },
                                {
                                    "id": "6",
                                    "name": "Rajesh",
                                    "gender": "Male",
                                    "salary": "8000",
                                    "department": "Sales",
                                    "FullName": "Rajesh Sales",
                                    "MonthlySalary": "666",
                                    "EmailAddress": "Rajesh_6@company.com",
                                    "age": "44"
                                },
                                {
                                    "id": "7",
                                    "name": "Tikram",
                                    "gender": "Male",
                                    "salary": "7200",
                                    "department": "Finance",
                                    "FullName": "Tikram Finance",
                                    "MonthlySalary": "600",
                                    "EmailAddress": "Tikram_7@company.com",
                                    "age": "40"
                                },
                                {
                                    "id": "8",
                                    "name": "Ganga",
                                    "gender": "Female",
                                    "salary": "6600",
                                    "department": "IT",
                                    "FullName": "Ganga IT",
                                    "MonthlySalary": "550",
                                    "EmailAddress": "Ganga_8@company.com",
                                    "age": "36"
                                },
                                {
                                    "id": "9",
                                    "name": "Jamuna",
                                    "gender": "Female",
                                    "salary": "5400",
                                    "department": "HR",
                                    "FullName": "Jamuna HR",
                                    "MonthlySalary": "450",
                                    "EmailAddress": "Jamuna_9@company.com",
                                    "age": "30"
                                },
                                {
                                    "id": "10",
                                    "name": "Namrata",
                                    "gender": "Female",
                                    "salary": "6300",
                                    "department": "Marketing",
                                    "FullName": "Namrata Marketing",
                                    "MonthlySalary": "525",
                                    "EmailAddress": "Namrata_10@company.com",
                                    "age": "35"
                                },
                                {
                                    "id": "11",
                                    "name": "Bunny",
                                    "gender": "Male",
                                    "salary": "5700",
                                    "department": "Sales",
                                    "FullName": "Bunny Sales",
                                    "MonthlySalary": "475",
                                    "EmailAddress": "Bunny_11@company.com",
                                    "age": "31"
                                },
                                {
                                    "id": "12",
                                    "name": "Abhiram",
                                    "gender": "Male",
                                    "salary": "7000",
                                    "department": "Finance",
                                    "FullName": "Abhiram Finance",
                                    "MonthlySalary": "583",
                                    "EmailAddress": "Abhiram_12@company.com",
                                    "age": "38"
                                },
                                {
                                    "id": "13",
                                    "name": "Varsha",
                                    "gender": "Female",
                                    "salary": "7100",
                                    "department": "IT",
                                    "FullName": "Varsha IT",
                                    "MonthlySalary": "591",
                                    "EmailAddress": "Varsha_13@company.com",
                                    "age": "39"
                                },
                                {
                                    "id": "14",
                                    "name": "Ananya",
                                    "gender": "Female",
                                    "salary": "6800",
                                    "department": "HR",
                                    "FullName": "Ananya HR",
                                    "MonthlySalary": "566",
                                    "EmailAddress": "Ananya_14@company.com",
                                    "age": "37"
                                },
                                {
                                    "id": "15",
                                    "name": "Nikhil",
                                    "gender": "Male",
                                    "salary": "5000",
                                    "department": "Marketing",
                                    "FullName": "Nikhil Marketing",
                                    "MonthlySalary": "416",
                                    "EmailAddress": "Nikhil_15@company.com",
                                    "age": "27"
                                },
                                {
                                    "id": "16",
                                    "name": "Bala",
                                    "gender": "Female",
                                    "salary": "5800",
                                    "department": "HR",
                                    "FullName": "Bala HR",
                                    "MonthlySalary": "483",
                                    "EmailAddress": "Bala_16@company.com",
                                    "age": "32"
                                },
                                {
                                    "id": "17",
                                    "name": "Lax%man",
                                    "gender": "Male",
                                    "salary": "5000",
                                    "department": "Sales",
                                    "FullName": "Lax%man Sales",
                                    "MonthlySalary": "416",
                                    "EmailAddress": "Lax%man_17@company.com",
                                    "age": "27"
                                }
                            ]
                        },
                        "text/html": [
                            "<table>",
                            "<tr><th>id</th><th>name</th><th>gender</th><th>salary</th><th>department</th><th>FullName</th><th>MonthlySalary</th><th>EmailAddress</th><th>age</th></tr>",
                            "<tr><td>1</td><td>Laxman</td><td>Male</td><td>5000</td><td>Sales</td><td>Laxman Sales</td><td>416</td><td>Laxman_1@company.com</td><td>27</td></tr>",
                            "<tr><td>2</td><td>Padma</td><td>Female</td><td>6000</td><td>Finance</td><td>Padma Finance</td><td>500</td><td>Padma_2@company.com</td><td>33</td></tr>",
                            "<tr><td>3</td><td>Naina</td><td>Female</td><td>7500</td><td>IT</td><td>Naina IT</td><td>625</td><td>Naina_3@company.com</td><td>41</td></tr>",
                            "<tr><td>4</td><td>Ramulu</td><td>Male</td><td>6500</td><td>HR</td><td>Ramulu HR</td><td>541</td><td>Ramulu_4@company.com</td><td>36</td></tr>",
                            "<tr><td>5</td><td>Harshita</td><td>Female</td><td>5500</td><td>Marketing</td><td>Harshita Marketing</td><td>458</td><td>Harshita_5@company.com</td><td>30</td></tr>",
                            "<tr><td>6</td><td>Rajesh</td><td>Male</td><td>8000</td><td>Sales</td><td>Rajesh Sales</td><td>666</td><td>Rajesh_6@company.com</td><td>44</td></tr>",
                            "<tr><td>7</td><td>Tikram</td><td>Male</td><td>7200</td><td>Finance</td><td>Tikram Finance</td><td>600</td><td>Tikram_7@company.com</td><td>40</td></tr>",
                            "<tr><td>8</td><td>Ganga</td><td>Female</td><td>6600</td><td>IT</td><td>Ganga IT</td><td>550</td><td>Ganga_8@company.com</td><td>36</td></tr>",
                            "<tr><td>9</td><td>Jamuna</td><td>Female</td><td>5400</td><td>HR</td><td>Jamuna HR</td><td>450</td><td>Jamuna_9@company.com</td><td>30</td></tr>",
                            "<tr><td>10</td><td>Namrata</td><td>Female</td><td>6300</td><td>Marketing</td><td>Namrata Marketing</td><td>525</td><td>Namrata_10@company.com</td><td>35</td></tr>",
                            "<tr><td>11</td><td>Bunny</td><td>Male</td><td>5700</td><td>Sales</td><td>Bunny Sales</td><td>475</td><td>Bunny_11@company.com</td><td>31</td></tr>",
                            "<tr><td>12</td><td>Abhiram</td><td>Male</td><td>7000</td><td>Finance</td><td>Abhiram Finance</td><td>583</td><td>Abhiram_12@company.com</td><td>38</td></tr>",
                            "<tr><td>13</td><td>Varsha</td><td>Female</td><td>7100</td><td>IT</td><td>Varsha IT</td><td>591</td><td>Varsha_13@company.com</td><td>39</td></tr>",
                            "<tr><td>14</td><td>Ananya</td><td>Female</td><td>6800</td><td>HR</td><td>Ananya HR</td><td>566</td><td>Ananya_14@company.com</td><td>37</td></tr>",
                            "<tr><td>15</td><td>Nikhil</td><td>Male</td><td>5000</td><td>Marketing</td><td>Nikhil Marketing</td><td>416</td><td>Nikhil_15@company.com</td><td>27</td></tr>",
                            "<tr><td>16</td><td>Bala</td><td>Female</td><td>5800</td><td>HR</td><td>Bala HR</td><td>483</td><td>Bala_16@company.com</td><td>32</td></tr>",
                            "<tr><td>17</td><td>Lax%man</td><td>Male</td><td>5000</td><td>Sales</td><td>Lax%man Sales</td><td>416</td><td>Lax%man_17@company.com</td><td>27</td></tr>",
                            "</table>"
                        ]
                    }
                }
            ],
            "execution_count": 3
        },
        {
            "cell_type": "markdown",
            "source": [
                "### **Different Types of String Functions in SQL with Examples:**"
            ],
            "metadata": {
                "language": "sql",
                "azdata_cell_guid": "f9fdba79-201f-4cfa-a542-56941080b58e"
            },
            "attachments": {}
        },
        {
            "cell_type": "markdown",
            "source": [
                "**LEN() Function:** Returns the length of a string."
            ],
            "metadata": {
                "language": "sql",
                "azdata_cell_guid": "c3c16aca-468c-4438-bb09-8e517173ac07"
            },
            "attachments": {}
        },
        {
            "cell_type": "code",
            "source": [
                "   SELECT TOP 5 name, LEN(name) AS NameLength FROM employeeDetails;"
            ],
            "metadata": {
                "language": "sql",
                "azdata_cell_guid": "9d4d03ed-fec5-456d-a5ca-5f10596a125d"
            },
            "outputs": [
                {
                    "output_type": "display_data",
                    "data": {
                        "text/html": "(5 rows affected)"
                    },
                    "metadata": {}
                },
                {
                    "output_type": "display_data",
                    "data": {
                        "text/html": "Total execution time: 00:00:00.015"
                    },
                    "metadata": {}
                },
                {
                    "output_type": "execute_result",
                    "metadata": {},
                    "execution_count": 9,
                    "data": {
                        "application/vnd.dataresource+json": {
                            "schema": {
                                "fields": [
                                    {
                                        "name": "name"
                                    },
                                    {
                                        "name": "NameLength"
                                    }
                                ]
                            },
                            "data": [
                                {
                                    "name": "Laxman",
                                    "NameLength": "6"
                                },
                                {
                                    "name": "Padma",
                                    "NameLength": "5"
                                },
                                {
                                    "name": "Naina",
                                    "NameLength": "5"
                                },
                                {
                                    "name": "Ramulu",
                                    "NameLength": "6"
                                },
                                {
                                    "name": "Harshita",
                                    "NameLength": "8"
                                }
                            ]
                        },
                        "text/html": [
                            "<table>",
                            "<tr><th>name</th><th>NameLength</th></tr>",
                            "<tr><td>Laxman</td><td>6</td></tr>",
                            "<tr><td>Padma</td><td>5</td></tr>",
                            "<tr><td>Naina</td><td>5</td></tr>",
                            "<tr><td>Ramulu</td><td>6</td></tr>",
                            "<tr><td>Harshita</td><td>8</td></tr>",
                            "</table>"
                        ]
                    }
                }
            ],
            "execution_count": 9
        },
        {
            "cell_type": "markdown",
            "source": [
                "**UPPER() and LOWER() Functions:**\n",
                "\n",
                "- UPPER() converts a string to uppercase.\n",
                "- LOWER() converts a string to lowercase."
            ],
            "metadata": {
                "language": "sql",
                "azdata_cell_guid": "d629b3ed-7230-42dc-b68c-7df72fbbc107"
            },
            "attachments": {}
        },
        {
            "cell_type": "code",
            "source": [
                "   SELECT Top 5 name, UPPER(name) AS UpperName, LOWER(name) AS LowerName FROM employeeDetails;"
            ],
            "metadata": {
                "language": "sql",
                "azdata_cell_guid": "ac1d7b68-bb22-461e-9661-06d21c485637"
            },
            "outputs": [
                {
                    "output_type": "display_data",
                    "data": {
                        "text/html": "(5 rows affected)"
                    },
                    "metadata": {}
                },
                {
                    "output_type": "display_data",
                    "data": {
                        "text/html": "Total execution time: 00:00:00.008"
                    },
                    "metadata": {}
                },
                {
                    "output_type": "execute_result",
                    "metadata": {},
                    "execution_count": 10,
                    "data": {
                        "application/vnd.dataresource+json": {
                            "schema": {
                                "fields": [
                                    {
                                        "name": "name"
                                    },
                                    {
                                        "name": "UpperName"
                                    },
                                    {
                                        "name": "LowerName"
                                    }
                                ]
                            },
                            "data": [
                                {
                                    "name": "Laxman",
                                    "UpperName": "LAXMAN",
                                    "LowerName": "laxman"
                                },
                                {
                                    "name": "Padma",
                                    "UpperName": "PADMA",
                                    "LowerName": "padma"
                                },
                                {
                                    "name": "Naina",
                                    "UpperName": "NAINA",
                                    "LowerName": "naina"
                                },
                                {
                                    "name": "Ramulu",
                                    "UpperName": "RAMULU",
                                    "LowerName": "ramulu"
                                },
                                {
                                    "name": "Harshita",
                                    "UpperName": "HARSHITA",
                                    "LowerName": "harshita"
                                }
                            ]
                        },
                        "text/html": [
                            "<table>",
                            "<tr><th>name</th><th>UpperName</th><th>LowerName</th></tr>",
                            "<tr><td>Laxman</td><td>LAXMAN</td><td>laxman</td></tr>",
                            "<tr><td>Padma</td><td>PADMA</td><td>padma</td></tr>",
                            "<tr><td>Naina</td><td>NAINA</td><td>naina</td></tr>",
                            "<tr><td>Ramulu</td><td>RAMULU</td><td>ramulu</td></tr>",
                            "<tr><td>Harshita</td><td>HARSHITA</td><td>harshita</td></tr>",
                            "</table>"
                        ]
                    }
                }
            ],
            "execution_count": 10
        },
        {
            "cell_type": "markdown",
            "source": [
                "**SUBSTRING() Function:**\n",
                "\n",
                "- Extracts a substring from a string."
            ],
            "metadata": {
                "language": "sql",
                "azdata_cell_guid": "aca0b757-49e1-4d98-972c-4cc1c99ab303"
            },
            "attachments": {}
        },
        {
            "cell_type": "code",
            "source": [
                "SELECT TOP 5 name, SUBSTRING(name, 1, 3) AS SubName FROM employeeDetails;"
            ],
            "metadata": {
                "language": "sql",
                "azdata_cell_guid": "c3e8ad07-f28b-4635-bfb3-b7b09a498f6b"
            },
            "outputs": [
                {
                    "output_type": "display_data",
                    "data": {
                        "text/html": "(5 rows affected)"
                    },
                    "metadata": {}
                },
                {
                    "output_type": "display_data",
                    "data": {
                        "text/html": "Total execution time: 00:00:00.007"
                    },
                    "metadata": {}
                },
                {
                    "output_type": "execute_result",
                    "metadata": {},
                    "execution_count": 11,
                    "data": {
                        "application/vnd.dataresource+json": {
                            "schema": {
                                "fields": [
                                    {
                                        "name": "name"
                                    },
                                    {
                                        "name": "SubName"
                                    }
                                ]
                            },
                            "data": [
                                {
                                    "name": "Laxman",
                                    "SubName": "Lax"
                                },
                                {
                                    "name": "Padma",
                                    "SubName": "Pad"
                                },
                                {
                                    "name": "Naina",
                                    "SubName": "Nai"
                                },
                                {
                                    "name": "Ramulu",
                                    "SubName": "Ram"
                                },
                                {
                                    "name": "Harshita",
                                    "SubName": "Har"
                                }
                            ]
                        },
                        "text/html": [
                            "<table>",
                            "<tr><th>name</th><th>SubName</th></tr>",
                            "<tr><td>Laxman</td><td>Lax</td></tr>",
                            "<tr><td>Padma</td><td>Pad</td></tr>",
                            "<tr><td>Naina</td><td>Nai</td></tr>",
                            "<tr><td>Ramulu</td><td>Ram</td></tr>",
                            "<tr><td>Harshita</td><td>Har</td></tr>",
                            "</table>"
                        ]
                    }
                }
            ],
            "execution_count": 11
        },
        {
            "cell_type": "markdown",
            "source": [
                "**CONCAT() Function:**\n",
                "\n",
                "- Concatenates two or more strings."
            ],
            "metadata": {
                "language": "sql",
                "azdata_cell_guid": "0242d171-e818-4d62-bd34-872d82593b69"
            },
            "attachments": {}
        },
        {
            "cell_type": "code",
            "source": [
                "SELECT TOP 5 name, department, CONCAT(name, ' - ', department) AS FullName FROM employeeDetails;"
            ],
            "metadata": {
                "language": "sql",
                "azdata_cell_guid": "2e0df8fa-ea28-4b7e-afbb-c4002af487a3"
            },
            "outputs": [
                {
                    "output_type": "display_data",
                    "data": {
                        "text/html": "(5 rows affected)"
                    },
                    "metadata": {}
                },
                {
                    "output_type": "display_data",
                    "data": {
                        "text/html": "Total execution time: 00:00:00.016"
                    },
                    "metadata": {}
                },
                {
                    "output_type": "execute_result",
                    "metadata": {},
                    "execution_count": 12,
                    "data": {
                        "application/vnd.dataresource+json": {
                            "schema": {
                                "fields": [
                                    {
                                        "name": "name"
                                    },
                                    {
                                        "name": "department"
                                    },
                                    {
                                        "name": "FullName"
                                    }
                                ]
                            },
                            "data": [
                                {
                                    "name": "Laxman",
                                    "department": "Sales",
                                    "FullName": "Laxman - Sales"
                                },
                                {
                                    "name": "Padma",
                                    "department": "Finance",
                                    "FullName": "Padma - Finance"
                                },
                                {
                                    "name": "Naina",
                                    "department": "IT",
                                    "FullName": "Naina - IT"
                                },
                                {
                                    "name": "Ramulu",
                                    "department": "HR",
                                    "FullName": "Ramulu - HR"
                                },
                                {
                                    "name": "Harshita",
                                    "department": "Marketing",
                                    "FullName": "Harshita - Marketing"
                                }
                            ]
                        },
                        "text/html": [
                            "<table>",
                            "<tr><th>name</th><th>department</th><th>FullName</th></tr>",
                            "<tr><td>Laxman</td><td>Sales</td><td>Laxman - Sales</td></tr>",
                            "<tr><td>Padma</td><td>Finance</td><td>Padma - Finance</td></tr>",
                            "<tr><td>Naina</td><td>IT</td><td>Naina - IT</td></tr>",
                            "<tr><td>Ramulu</td><td>HR</td><td>Ramulu - HR</td></tr>",
                            "<tr><td>Harshita</td><td>Marketing</td><td>Harshita - Marketing</td></tr>",
                            "</table>"
                        ]
                    }
                }
            ],
            "execution_count": 12
        },
        {
            "cell_type": "markdown",
            "source": [
                "**CHARINDEX()  Function:**\n",
                "\n",
                "- CHARINDEX() returns the starting position of a substring in a string."
            ],
            "metadata": {
                "language": "sql",
                "azdata_cell_guid": "6a00987d-5c42-4263-a418-89b2417962f8"
            },
            "attachments": {}
        },
        {
            "cell_type": "code",
            "source": [
                "SELECT TOP 5 name, CHARINDEX('a', name) AS PositionOfA FROM employeeDetails;"
            ],
            "metadata": {
                "language": "sql",
                "azdata_cell_guid": "36365e71-7d61-419f-974a-836c594ebeb1"
            },
            "outputs": [
                {
                    "output_type": "display_data",
                    "data": {
                        "text/html": "(5 rows affected)"
                    },
                    "metadata": {}
                },
                {
                    "output_type": "display_data",
                    "data": {
                        "text/html": "Total execution time: 00:00:00.010"
                    },
                    "metadata": {}
                },
                {
                    "output_type": "execute_result",
                    "metadata": {},
                    "execution_count": 13,
                    "data": {
                        "application/vnd.dataresource+json": {
                            "schema": {
                                "fields": [
                                    {
                                        "name": "name"
                                    },
                                    {
                                        "name": "PositionOfA"
                                    }
                                ]
                            },
                            "data": [
                                {
                                    "name": "Laxman",
                                    "PositionOfA": "2"
                                },
                                {
                                    "name": "Padma",
                                    "PositionOfA": "2"
                                },
                                {
                                    "name": "Naina",
                                    "PositionOfA": "2"
                                },
                                {
                                    "name": "Ramulu",
                                    "PositionOfA": "2"
                                },
                                {
                                    "name": "Harshita",
                                    "PositionOfA": "2"
                                }
                            ]
                        },
                        "text/html": [
                            "<table>",
                            "<tr><th>name</th><th>PositionOfA</th></tr>",
                            "<tr><td>Laxman</td><td>2</td></tr>",
                            "<tr><td>Padma</td><td>2</td></tr>",
                            "<tr><td>Naina</td><td>2</td></tr>",
                            "<tr><td>Ramulu</td><td>2</td></tr>",
                            "<tr><td>Harshita</td><td>2</td></tr>",
                            "</table>"
                        ]
                    }
                }
            ],
            "execution_count": 13
        },
        {
            "cell_type": "markdown",
            "source": [
                "**REPLACE() Function:**\n",
                "\n",
                "- Replaces occurrences of a specified string."
            ],
            "metadata": {
                "language": "sql",
                "azdata_cell_guid": "fcfe4956-c607-45c2-bdb4-0b1e6e61ae85"
            },
            "attachments": {}
        },
        {
            "cell_type": "code",
            "source": [
                "   SELECT TOP 5 name, REPLACE(name, 'a', 'X') AS NameWithX FROM employeeDetails;"
            ],
            "metadata": {
                "language": "sql",
                "azdata_cell_guid": "3fe48333-f718-4ec8-8d74-bb0ed6b5a517"
            },
            "outputs": [
                {
                    "output_type": "display_data",
                    "data": {
                        "text/html": "(5 rows affected)"
                    },
                    "metadata": {}
                },
                {
                    "output_type": "display_data",
                    "data": {
                        "text/html": "Total execution time: 00:00:00.009"
                    },
                    "metadata": {}
                },
                {
                    "output_type": "execute_result",
                    "metadata": {},
                    "execution_count": 15,
                    "data": {
                        "application/vnd.dataresource+json": {
                            "schema": {
                                "fields": [
                                    {
                                        "name": "name"
                                    },
                                    {
                                        "name": "NameWithX"
                                    }
                                ]
                            },
                            "data": [
                                {
                                    "name": "Laxman",
                                    "NameWithX": "LXxmXn"
                                },
                                {
                                    "name": "Padma",
                                    "NameWithX": "PXdmX"
                                },
                                {
                                    "name": "Naina",
                                    "NameWithX": "NXinX"
                                },
                                {
                                    "name": "Ramulu",
                                    "NameWithX": "RXmulu"
                                },
                                {
                                    "name": "Harshita",
                                    "NameWithX": "HXrshitX"
                                }
                            ]
                        },
                        "text/html": [
                            "<table>",
                            "<tr><th>name</th><th>NameWithX</th></tr>",
                            "<tr><td>Laxman</td><td>LXxmXn</td></tr>",
                            "<tr><td>Padma</td><td>PXdmX</td></tr>",
                            "<tr><td>Naina</td><td>NXinX</td></tr>",
                            "<tr><td>Ramulu</td><td>RXmulu</td></tr>",
                            "<tr><td>Harshita</td><td>HXrshitX</td></tr>",
                            "</table>"
                        ]
                    }
                }
            ],
            "execution_count": 15
        },
        {
            "cell_type": "markdown",
            "source": [
                "**LTRIM() and RTRIM() Functions:**\n",
                "\n",
                "- LTRIM() removes leading spaces from a string.\n",
                "- RTRIM() removes trailing spaces from a string."
            ],
            "metadata": {
                "language": "sql",
                "azdata_cell_guid": "7640b3e6-5eee-4d9d-8754-7978ffa2428b"
            },
            "attachments": {}
        },
        {
            "cell_type": "code",
            "source": [
                "SELECT LTRIM('  Hello') AS TrimmedLeft, RTRIM('Hello  ') AS TrimmedRight;"
            ],
            "metadata": {
                "language": "sql",
                "azdata_cell_guid": "7e509937-6eed-41b7-8d0e-57969af9f982"
            },
            "outputs": [
                {
                    "output_type": "display_data",
                    "data": {
                        "text/html": "(1 row affected)"
                    },
                    "metadata": {}
                },
                {
                    "output_type": "display_data",
                    "data": {
                        "text/html": "Total execution time: 00:00:00.006"
                    },
                    "metadata": {}
                },
                {
                    "output_type": "execute_result",
                    "metadata": {},
                    "execution_count": 16,
                    "data": {
                        "application/vnd.dataresource+json": {
                            "schema": {
                                "fields": [
                                    {
                                        "name": "TrimmedLeft"
                                    },
                                    {
                                        "name": "TrimmedRight"
                                    }
                                ]
                            },
                            "data": [
                                {
                                    "TrimmedLeft": "Hello",
                                    "TrimmedRight": "Hello"
                                }
                            ]
                        },
                        "text/html": [
                            "<table>",
                            "<tr><th>TrimmedLeft</th><th>TrimmedRight</th></tr>",
                            "<tr><td>Hello</td><td>Hello</td></tr>",
                            "</table>"
                        ]
                    }
                }
            ],
            "execution_count": 16
        },
        {
            "cell_type": "markdown",
            "source": [
                "**LEFT() and RIGHT() Functions:**\n",
                "\n",
                "   \\- LEFT() returns a specified number of characters from the beginning of a string.\n",
                "\n",
                "   \\- RIGHT() returns a specified number of characters from the end of a string."
            ],
            "metadata": {
                "language": "sql",
                "azdata_cell_guid": "364d5ff0-2691-4006-93e2-afb23bbf0b1d"
            },
            "attachments": {}
        },
        {
            "cell_type": "code",
            "source": [
                "SELECT TOP 5 name, LEFT(name, 3) AS Left3, RIGHT(name, 3) AS Right3 FROM employeeDetails;"
            ],
            "metadata": {
                "language": "sql",
                "azdata_cell_guid": "7cf76d5d-126f-4864-8060-d662b742b596"
            },
            "outputs": [
                {
                    "output_type": "display_data",
                    "data": {
                        "text/html": "(5 rows affected)"
                    },
                    "metadata": {}
                },
                {
                    "output_type": "display_data",
                    "data": {
                        "text/html": "Total execution time: 00:00:00.018"
                    },
                    "metadata": {}
                },
                {
                    "output_type": "execute_result",
                    "metadata": {},
                    "execution_count": 17,
                    "data": {
                        "application/vnd.dataresource+json": {
                            "schema": {
                                "fields": [
                                    {
                                        "name": "name"
                                    },
                                    {
                                        "name": "Left3"
                                    },
                                    {
                                        "name": "Right3"
                                    }
                                ]
                            },
                            "data": [
                                {
                                    "name": "Laxman",
                                    "Left3": "Lax",
                                    "Right3": "man"
                                },
                                {
                                    "name": "Padma",
                                    "Left3": "Pad",
                                    "Right3": "dma"
                                },
                                {
                                    "name": "Naina",
                                    "Left3": "Nai",
                                    "Right3": "ina"
                                },
                                {
                                    "name": "Ramulu",
                                    "Left3": "Ram",
                                    "Right3": "ulu"
                                },
                                {
                                    "name": "Harshita",
                                    "Left3": "Har",
                                    "Right3": "ita"
                                }
                            ]
                        },
                        "text/html": [
                            "<table>",
                            "<tr><th>name</th><th>Left3</th><th>Right3</th></tr>",
                            "<tr><td>Laxman</td><td>Lax</td><td>man</td></tr>",
                            "<tr><td>Padma</td><td>Pad</td><td>dma</td></tr>",
                            "<tr><td>Naina</td><td>Nai</td><td>ina</td></tr>",
                            "<tr><td>Ramulu</td><td>Ram</td><td>ulu</td></tr>",
                            "<tr><td>Harshita</td><td>Har</td><td>ita</td></tr>",
                            "</table>"
                        ]
                    }
                }
            ],
            "execution_count": 17
        },
        {
            "cell_type": "markdown",
            "source": [
                "**STUFF() Function:**\n",
                "\n",
                "   \\- Deletes a specified length of characters and then inserts a new set of characters at a specified starting point."
            ],
            "metadata": {
                "language": "sql",
                "azdata_cell_guid": "2647beaa-9a3f-49ad-a05f-4952af773a6c"
            },
            "attachments": {}
        },
        {
            "cell_type": "code",
            "source": [
                "SELECT TOP 5 STUFF(name, 3, 2, 'XX') AS ModifiedName FROM employeeDetails;"
            ],
            "metadata": {
                "language": "sql",
                "azdata_cell_guid": "c8594635-2695-46ca-9693-cf17221e47cc"
            },
            "outputs": [
                {
                    "output_type": "display_data",
                    "data": {
                        "text/html": "(5 rows affected)"
                    },
                    "metadata": {}
                },
                {
                    "output_type": "display_data",
                    "data": {
                        "text/html": "Total execution time: 00:00:00.008"
                    },
                    "metadata": {}
                },
                {
                    "output_type": "execute_result",
                    "metadata": {},
                    "execution_count": 18,
                    "data": {
                        "application/vnd.dataresource+json": {
                            "schema": {
                                "fields": [
                                    {
                                        "name": "ModifiedName"
                                    }
                                ]
                            },
                            "data": [
                                {
                                    "ModifiedName": "LaXXan"
                                },
                                {
                                    "ModifiedName": "PaXXa"
                                },
                                {
                                    "ModifiedName": "NaXXa"
                                },
                                {
                                    "ModifiedName": "RaXXlu"
                                },
                                {
                                    "ModifiedName": "HaXXhita"
                                }
                            ]
                        },
                        "text/html": [
                            "<table>",
                            "<tr><th>ModifiedName</th></tr>",
                            "<tr><td>LaXXan</td></tr>",
                            "<tr><td>PaXXa</td></tr>",
                            "<tr><td>NaXXa</td></tr>",
                            "<tr><td>RaXXlu</td></tr>",
                            "<tr><td>HaXXhita</td></tr>",
                            "</table>"
                        ]
                    }
                }
            ],
            "execution_count": 18
        },
        {
            "cell_type": "markdown",
            "source": [
                "**REPLICATE() Function:**\n",
                "\n",
                "   \\- Repeats a string a specified number of times."
            ],
            "metadata": {
                "language": "sql",
                "azdata_cell_guid": "89f77e16-990a-40c8-a3a7-9996f46da5b8"
            },
            "attachments": {}
        },
        {
            "cell_type": "code",
            "source": [
                "SELECT TOP 5 name, REPLICATE(name, 2) AS RepeatedName FROM employeeDetails;"
            ],
            "metadata": {
                "language": "sql",
                "azdata_cell_guid": "18c4e76c-b210-4dd3-a4cc-a2da90034aa4"
            },
            "outputs": [
                {
                    "output_type": "display_data",
                    "data": {
                        "text/html": "(5 rows affected)"
                    },
                    "metadata": {}
                },
                {
                    "output_type": "display_data",
                    "data": {
                        "text/html": "Total execution time: 00:00:00.008"
                    },
                    "metadata": {}
                },
                {
                    "output_type": "execute_result",
                    "metadata": {},
                    "execution_count": 19,
                    "data": {
                        "application/vnd.dataresource+json": {
                            "schema": {
                                "fields": [
                                    {
                                        "name": "name"
                                    },
                                    {
                                        "name": "RepeatedName"
                                    }
                                ]
                            },
                            "data": [
                                {
                                    "name": "Laxman",
                                    "RepeatedName": "LaxmanLaxman"
                                },
                                {
                                    "name": "Padma",
                                    "RepeatedName": "PadmaPadma"
                                },
                                {
                                    "name": "Naina",
                                    "RepeatedName": "NainaNaina"
                                },
                                {
                                    "name": "Ramulu",
                                    "RepeatedName": "RamuluRamulu"
                                },
                                {
                                    "name": "Harshita",
                                    "RepeatedName": "HarshitaHarshita"
                                }
                            ]
                        },
                        "text/html": [
                            "<table>",
                            "<tr><th>name</th><th>RepeatedName</th></tr>",
                            "<tr><td>Laxman</td><td>LaxmanLaxman</td></tr>",
                            "<tr><td>Padma</td><td>PadmaPadma</td></tr>",
                            "<tr><td>Naina</td><td>NainaNaina</td></tr>",
                            "<tr><td>Ramulu</td><td>RamuluRamulu</td></tr>",
                            "<tr><td>Harshita</td><td>HarshitaHarshita</td></tr>",
                            "</table>"
                        ]
                    }
                }
            ],
            "execution_count": 19
        },
        {
            "cell_type": "markdown",
            "source": [
                "**LEN() with DATALENGTH() Function:**\n",
                "\n",
                "   \\- LEN() returns the number of characters in a string, while DATALENGTH() returns the length in bytes."
            ],
            "metadata": {
                "language": "sql",
                "azdata_cell_guid": "9b770acb-541a-4b75-956e-8b10f119ad69"
            },
            "attachments": {}
        },
        {
            "cell_type": "code",
            "source": [
                "SELECT TOP 5 name, LEN(name) AS CharLength, DATALENGTH(name) AS ByteLength FROM employeeDetails;"
            ],
            "metadata": {
                "language": "sql",
                "azdata_cell_guid": "c3b1ce75-bd3c-4b1c-a5f3-e0b26fa8b874"
            },
            "outputs": [
                {
                    "output_type": "display_data",
                    "data": {
                        "text/html": "(5 rows affected)"
                    },
                    "metadata": {}
                },
                {
                    "output_type": "display_data",
                    "data": {
                        "text/html": "Total execution time: 00:00:00.021"
                    },
                    "metadata": {}
                },
                {
                    "output_type": "execute_result",
                    "metadata": {},
                    "execution_count": 20,
                    "data": {
                        "application/vnd.dataresource+json": {
                            "schema": {
                                "fields": [
                                    {
                                        "name": "name"
                                    },
                                    {
                                        "name": "CharLength"
                                    },
                                    {
                                        "name": "ByteLength"
                                    }
                                ]
                            },
                            "data": [
                                {
                                    "name": "Laxman",
                                    "CharLength": "6",
                                    "ByteLength": "6"
                                },
                                {
                                    "name": "Padma",
                                    "CharLength": "5",
                                    "ByteLength": "5"
                                },
                                {
                                    "name": "Naina",
                                    "CharLength": "5",
                                    "ByteLength": "5"
                                },
                                {
                                    "name": "Ramulu",
                                    "CharLength": "6",
                                    "ByteLength": "6"
                                },
                                {
                                    "name": "Harshita",
                                    "CharLength": "8",
                                    "ByteLength": "8"
                                }
                            ]
                        },
                        "text/html": [
                            "<table>",
                            "<tr><th>name</th><th>CharLength</th><th>ByteLength</th></tr>",
                            "<tr><td>Laxman</td><td>6</td><td>6</td></tr>",
                            "<tr><td>Padma</td><td>5</td><td>5</td></tr>",
                            "<tr><td>Naina</td><td>5</td><td>5</td></tr>",
                            "<tr><td>Ramulu</td><td>6</td><td>6</td></tr>",
                            "<tr><td>Harshita</td><td>8</td><td>8</td></tr>",
                            "</table>"
                        ]
                    }
                }
            ],
            "execution_count": 20
        },
        {
            "cell_type": "markdown",
            "source": [
                "**SPACE() Function:**\n",
                "\n",
                "   \\- Returns a string consisting of a specified number of spaces."
            ],
            "metadata": {
                "language": "sql",
                "azdata_cell_guid": "5e9a02b4-26f9-4719-bd30-03236f4c56bb"
            },
            "attachments": {}
        },
        {
            "cell_type": "code",
            "source": [
                "SELECT TOP 5 SPACE(5) + name AS PaddedName FROM employeeDetails;"
            ],
            "metadata": {
                "language": "sql",
                "azdata_cell_guid": "31bd4ba0-2426-4343-90f5-7d5346e85c16"
            },
            "outputs": [
                {
                    "output_type": "display_data",
                    "data": {
                        "text/html": "(5 rows affected)"
                    },
                    "metadata": {}
                },
                {
                    "output_type": "display_data",
                    "data": {
                        "text/html": "Total execution time: 00:00:00.009"
                    },
                    "metadata": {}
                },
                {
                    "output_type": "execute_result",
                    "metadata": {},
                    "execution_count": 21,
                    "data": {
                        "application/vnd.dataresource+json": {
                            "schema": {
                                "fields": [
                                    {
                                        "name": "PaddedName"
                                    }
                                ]
                            },
                            "data": [
                                {
                                    "PaddedName": "     Laxman"
                                },
                                {
                                    "PaddedName": "     Padma"
                                },
                                {
                                    "PaddedName": "     Naina"
                                },
                                {
                                    "PaddedName": "     Ramulu"
                                },
                                {
                                    "PaddedName": "     Harshita"
                                }
                            ]
                        },
                        "text/html": [
                            "<table>",
                            "<tr><th>PaddedName</th></tr>",
                            "<tr><td>     Laxman</td></tr>",
                            "<tr><td>     Padma</td></tr>",
                            "<tr><td>     Naina</td></tr>",
                            "<tr><td>     Ramulu</td></tr>",
                            "<tr><td>     Harshita</td></tr>",
                            "</table>"
                        ]
                    }
                }
            ],
            "execution_count": 21
        },
        {
            "cell_type": "markdown",
            "source": [
                "**CONVERT() and CAST() Functions:**\n",
                "\n",
                "- CONVERT() and CAST() are used for converting data types. They can be useful when dealing with string representations of dates or numbers.\n",
                "\n",
                "**CONVERT()**\n",
                "\n",
                "- <span style=\"font-family: -apple-system, BlinkMacSystemFont, sans-serif; color: var(--vscode-foreground);\"><b>Syntax</b>&nbsp;: CONVERT(data_type, expression, [style])</span>\n",
                "- <span style=\"font-family: -apple-system, BlinkMacSystemFont, sans-serif; color: var(--vscode-foreground);\"><p class=\"p1\" style=\"margin: 0px; font-variant-numeric: normal; font-variant-east-asian: normal; font-variant-alternates: normal; font-kerning: auto; font-optical-sizing: auto; font-feature-settings: normal; font-variation-settings: normal; font-stretch: normal; font-size: 13px; line-height: normal; font-family: &quot;Helvetica Neue&quot;; color: rgb(0, 0, 0);\">The <b>CONVERT()</b> function allows you to specify an optional third argument, the style, which is used for formatting date and time values.</p></span>\n",
                "\n",
                "<span style=\"font-size: 13px;\"><b>CAST()</b></span>\n",
                "\n",
                "- <span style=\"font-size: 13px;\">Syntax :&nbsp;</span> CAST(expression AS data\\_type)\n",
                "- The **CAST()** <span style=\"color: rgb(0, 0, 0); font-family: &quot;Helvetica Neue&quot;; font-size: 13px;\"> function uses a simpler syntax with the keyword </span> **AS** <span style=\"color: rgb(0, 0, 0); font-family: &quot;Helvetica Neue&quot;; font-size: 13px;\"> to indicate the target data type.</span>"
            ],
            "metadata": {
                "language": "sql",
                "azdata_cell_guid": "4cbba6c1-0303-426c-a8fa-73ca7cb247f4"
            },
            "attachments": {}
        },
        {
            "cell_type": "code",
            "source": [
                "SELECT TOP 5 name, CONVERT(VARCHAR, MonthlySalary) AS MonthlySalaryStr, CAST(age AS VARCHAR) AS AgeStr FROM employeeDetails;"
            ],
            "metadata": {
                "language": "sql",
                "azdata_cell_guid": "000990c0-518d-4a58-b14d-c5d29699f5b8"
            },
            "outputs": [
                {
                    "output_type": "display_data",
                    "data": {
                        "text/html": "(5 rows affected)"
                    },
                    "metadata": {}
                },
                {
                    "output_type": "display_data",
                    "data": {
                        "text/html": "Total execution time: 00:00:00.010"
                    },
                    "metadata": {}
                },
                {
                    "output_type": "execute_result",
                    "metadata": {},
                    "execution_count": 27,
                    "data": {
                        "application/vnd.dataresource+json": {
                            "schema": {
                                "fields": [
                                    {
                                        "name": "name"
                                    },
                                    {
                                        "name": "MonthlySalaryStr"
                                    },
                                    {
                                        "name": "AgeStr"
                                    }
                                ]
                            },
                            "data": [
                                {
                                    "name": "Laxman",
                                    "MonthlySalaryStr": "416",
                                    "AgeStr": "27"
                                },
                                {
                                    "name": "Padma",
                                    "MonthlySalaryStr": "500",
                                    "AgeStr": "33"
                                },
                                {
                                    "name": "Naina",
                                    "MonthlySalaryStr": "625",
                                    "AgeStr": "41"
                                },
                                {
                                    "name": "Ramulu",
                                    "MonthlySalaryStr": "541",
                                    "AgeStr": "36"
                                },
                                {
                                    "name": "Harshita",
                                    "MonthlySalaryStr": "458",
                                    "AgeStr": "30"
                                }
                            ]
                        },
                        "text/html": [
                            "<table>",
                            "<tr><th>name</th><th>MonthlySalaryStr</th><th>AgeStr</th></tr>",
                            "<tr><td>Laxman</td><td>416</td><td>27</td></tr>",
                            "<tr><td>Padma</td><td>500</td><td>33</td></tr>",
                            "<tr><td>Naina</td><td>625</td><td>41</td></tr>",
                            "<tr><td>Ramulu</td><td>541</td><td>36</td></tr>",
                            "<tr><td>Harshita</td><td>458</td><td>30</td></tr>",
                            "</table>"
                        ]
                    }
                }
            ],
            "execution_count": 27
        },
        {
            "cell_type": "markdown",
            "source": [
                "**FORMAT() Function:**\n",
                "\n",
                "   \\- Formats a value with the specified format mask."
            ],
            "metadata": {
                "language": "sql",
                "azdata_cell_guid": "f3893194-1eea-4b76-848f-593c47aa5458"
            },
            "attachments": {}
        },
        {
            "cell_type": "code",
            "source": [
                "SELECT name, FORMAT(GETDATE(), 'dd/MM/yyyy') AS FormattedDate FROM employeeDetails;"
            ],
            "metadata": {
                "language": "sql",
                "azdata_cell_guid": "7ec581fe-9387-44cf-83f9-68e96f33faaf"
            },
            "outputs": [
                {
                    "output_type": "display_data",
                    "data": {
                        "text/html": "Total execution time: 00:00:00.038"
                    },
                    "metadata": {}
                },
                {
                    "output_type": "execute_result",
                    "metadata": {},
                    "execution_count": 28,
                    "data": {
                        "application/vnd.dataresource+json": {
                            "schema": {
                                "fields": [
                                    {
                                        "name": "name"
                                    },
                                    {
                                        "name": "FormattedDate"
                                    }
                                ]
                            },
                            "data": []
                        },
                        "text/html": [
                            "<table>",
                            "<tr><th>name</th><th>FormattedDate</th></tr>",
                            "</table>"
                        ]
                    }
                },
                {
                    "output_type": "error",
                    "evalue": "Msg 10347, Level 16, State 1, Line 1\nCommon Language Runtime(CLR) is not enabled on this instance.",
                    "ename": "",
                    "traceback": []
                }
            ],
            "execution_count": 28
        },
        {
            "cell_type": "markdown",
            "source": [
                "**PARSE() and TRY\\_PARSE() Functions:**\n",
                "\n",
                "   \\- PARSE() converts a string to a specified data type.\n",
                "\n",
                "   \\- TRY\\_PARSE() is similar but returns NULL if the conversion fails instead of an error."
            ],
            "metadata": {
                "language": "sql",
                "azdata_cell_guid": "4ad3b555-a9c1-46ca-acba-9f4fb9b5d334"
            },
            "attachments": {}
        },
        {
            "cell_type": "code",
            "source": [
                "SELECT name, PARSE('2022-01-01' AS DATE) AS ParsedDate, TRY_PARSE('NotADate' AS DATE) AS TryParsedDate FROM employeeDetails;"
            ],
            "metadata": {
                "language": "sql",
                "azdata_cell_guid": "94cc2022-06f8-47d2-bdbc-5e7fc1ff72b6"
            },
            "outputs": [
                {
                    "output_type": "display_data",
                    "data": {
                        "text/html": "Total execution time: 00:00:00.018"
                    },
                    "metadata": {}
                },
                {
                    "output_type": "execute_result",
                    "metadata": {},
                    "execution_count": 36,
                    "data": {
                        "application/vnd.dataresource+json": {
                            "schema": {
                                "fields": [
                                    {
                                        "name": "name"
                                    },
                                    {
                                        "name": "ParsedDate"
                                    },
                                    {
                                        "name": "TryParsedDate"
                                    }
                                ]
                            },
                            "data": []
                        },
                        "text/html": [
                            "<table>",
                            "<tr><th>name</th><th>ParsedDate</th><th>TryParsedDate</th></tr>",
                            "</table>"
                        ]
                    }
                },
                {
                    "output_type": "error",
                    "evalue": "Msg 10347, Level 16, State 1, Line 1\nCommon Language Runtime(CLR) is not enabled on this instance.",
                    "ename": "",
                    "traceback": []
                }
            ],
            "execution_count": 36
        },
        {
            "cell_type": "markdown",
            "source": [
                "**STRING\\_AGG() Function:**\n",
                "\n",
                "   - Concatenates values from a column into a single string with a specified separator."
            ],
            "metadata": {
                "language": "sql",
                "azdata_cell_guid": "9d26ff8e-420c-4252-a7a5-630b4fe29616"
            },
            "attachments": {}
        },
        {
            "cell_type": "code",
            "source": [
                "SELECT department, STRING_AGG(name, ', ') AS EmployeeList FROM employeeDetails GROUP BY department;"
            ],
            "metadata": {
                "language": "sql",
                "azdata_cell_guid": "3fbfc764-0046-4533-a64f-5a27b4d0bcb4"
            },
            "outputs": [
                {
                    "output_type": "display_data",
                    "data": {
                        "text/html": "(5 rows affected)"
                    },
                    "metadata": {}
                },
                {
                    "output_type": "display_data",
                    "data": {
                        "text/html": "Total execution time: 00:00:00.015"
                    },
                    "metadata": {}
                },
                {
                    "output_type": "execute_result",
                    "metadata": {},
                    "execution_count": 37,
                    "data": {
                        "application/vnd.dataresource+json": {
                            "schema": {
                                "fields": [
                                    {
                                        "name": "department"
                                    },
                                    {
                                        "name": "EmployeeList"
                                    }
                                ]
                            },
                            "data": [
                                {
                                    "department": "Finance",
                                    "EmployeeList": "Padma, Tikram, Abhiram"
                                },
                                {
                                    "department": "HR",
                                    "EmployeeList": "Ananya, Bala, Jamuna, Ramulu"
                                },
                                {
                                    "department": "IT",
                                    "EmployeeList": "Naina, Ganga, Lucky143, Varsha"
                                },
                                {
                                    "department": "Marketing",
                                    "EmployeeList": "Nikhil, Namrata, Harshita"
                                },
                                {
                                    "department": "Sales",
                                    "EmployeeList": "Rajesh, Bunny, Laxman, Lax%man"
                                }
                            ]
                        },
                        "text/html": [
                            "<table>",
                            "<tr><th>department</th><th>EmployeeList</th></tr>",
                            "<tr><td>Finance</td><td>Padma, Tikram, Abhiram</td></tr>",
                            "<tr><td>HR</td><td>Ananya, Bala, Jamuna, Ramulu</td></tr>",
                            "<tr><td>IT</td><td>Naina, Ganga, Lucky143, Varsha</td></tr>",
                            "<tr><td>Marketing</td><td>Nikhil, Namrata, Harshita</td></tr>",
                            "<tr><td>Sales</td><td>Rajesh, Bunny, Laxman, Lax%man</td></tr>",
                            "</table>"
                        ]
                    }
                }
            ],
            "execution_count": 37
        },
        {
            "cell_type": "code",
            "source": [
                "SELECT department, STUFF((SELECT ', ' + name FROM employeeDetails e2 WHERE e1.department = e2.department FOR XML PATH('')), 1, 2, '') AS EmployeeList FROM employeeDetails e1 GROUP BY department;"
            ],
            "metadata": {
                "language": "sql",
                "azdata_cell_guid": "ebf45eeb-ac83-4076-9d6e-1ef3a1629994"
            },
            "outputs": [
                {
                    "output_type": "display_data",
                    "data": {
                        "text/html": "(5 rows affected)"
                    },
                    "metadata": {}
                },
                {
                    "output_type": "display_data",
                    "data": {
                        "text/html": "Total execution time: 00:00:00.028"
                    },
                    "metadata": {}
                },
                {
                    "output_type": "execute_result",
                    "metadata": {},
                    "execution_count": 38,
                    "data": {
                        "application/vnd.dataresource+json": {
                            "schema": {
                                "fields": [
                                    {
                                        "name": "department"
                                    },
                                    {
                                        "name": "EmployeeList"
                                    }
                                ]
                            },
                            "data": [
                                {
                                    "department": "Finance",
                                    "EmployeeList": "Padma, Tikram, Abhiram"
                                },
                                {
                                    "department": "HR",
                                    "EmployeeList": "Ramulu, Jamuna, Ananya, Bala"
                                },
                                {
                                    "department": "IT",
                                    "EmployeeList": "Naina, Ganga, Varsha, Lucky143"
                                },
                                {
                                    "department": "Marketing",
                                    "EmployeeList": "Harshita, Namrata, Nikhil"
                                },
                                {
                                    "department": "Sales",
                                    "EmployeeList": "Laxman, Rajesh, Bunny, Lax%man"
                                }
                            ]
                        },
                        "text/html": [
                            "<table>",
                            "<tr><th>department</th><th>EmployeeList</th></tr>",
                            "<tr><td>Finance</td><td>Padma, Tikram, Abhiram</td></tr>",
                            "<tr><td>HR</td><td>Ramulu, Jamuna, Ananya, Bala</td></tr>",
                            "<tr><td>IT</td><td>Naina, Ganga, Varsha, Lucky143</td></tr>",
                            "<tr><td>Marketing</td><td>Harshita, Namrata, Nikhil</td></tr>",
                            "<tr><td>Sales</td><td>Laxman, Rajesh, Bunny, Lax%man</td></tr>",
                            "</table>"
                        ]
                    }
                }
            ],
            "execution_count": 38
        },
        {
            "cell_type": "markdown",
            "source": [
                "### **Peculiarities and Considerations for String Functions:**\n",
                "\n",
                "- **Case Sensitivity**: String functions may be case-sensitive depending on the collation settings of the database.\n",
                "- **Data Types**: Ensure that the data types used in string functions are compatible.\n",
                "- **Performance**: Some string functions can impact performance, especially on large datasets. Also Complex string manipulations within queries can impact performance."
            ],
            "metadata": {
                "language": "sql",
                "azdata_cell_guid": "4a25069f-7647-4b77-9d8e-7e169433341d"
            },
            "attachments": {}
        },
        {
            "cell_type": "markdown",
            "source": [
                "### **Most Common Mistakes while Using String Functions:**\n",
                "\n",
                "- **Not Handling NULL Values:** Some functions may return unexpected results or errors when applied to NULL values.\n",
                "- **Ignoring Collation:** Collation settings can affect string comparisons and sorting.\n",
                "- **Incorrect Parameters:** Ensure that you provide the correct parameters to functions to avoid errors.\n",
                "- **Data Type Mismatch:** Ensure that the data types used in string functions match the expected types.\n",
                "- Misusing LIKE pattern matching operators.\n",
                "- Not checking for NULL values in input strings.\n",
                "- Forgetting to handle case sensitivity when necessary.\n",
                "- Not considering potential performance impacts of complex string operations.\n",
                "- Using inefficient string manipulation techniques."
            ],
            "metadata": {
                "language": "sql",
                "azdata_cell_guid": "d07bb057-dfd4-4d1b-bac5-ecb21594f745"
            },
            "attachments": {}
        },
        {
            "cell_type": "markdown",
            "source": [
                "**Note:**\n",
                "\n",
                "- In the provided data, the \\`Lax%man\\` entry may cause issues in certain string functions due to the special character '%'. Proper handling or cleaning of such data may be necessary."
            ],
            "metadata": {
                "language": "sql",
                "azdata_cell_guid": "c3119243-f690-4d81-bac9-f12e9e2aaa5f"
            },
            "attachments": {}
        },
        {
            "cell_type": "code",
            "source": [
                "SELECT table_name\n",
                "FROM information_schema.tables\n",
                "WHERE table_type = 'BASE TABLE';"
            ],
            "metadata": {
                "language": "sql",
                "azdata_cell_guid": "290d359b-f5f7-41b5-b973-3ba3a30e90b9"
            },
            "outputs": [
                {
                    "output_type": "display_data",
                    "data": {
                        "text/html": "(7 rows affected)"
                    },
                    "metadata": {}
                },
                {
                    "output_type": "display_data",
                    "data": {
                        "text/html": "Total execution time: 00:00:00.098"
                    },
                    "metadata": {}
                },
                {
                    "output_type": "execute_result",
                    "execution_count": 2,
                    "data": {
                        "application/vnd.dataresource+json": {
                            "schema": {
                                "fields": [
                                    {
                                        "name": "table_name"
                                    }
                                ]
                            },
                            "data": [
                                {
                                    "table_name": "TestConstraints"
                                },
                                {
                                    "table_name": "employeeDetails"
                                },
                                {
                                    "table_name": "Emp"
                                },
                                {
                                    "table_name": "Emp_Temp"
                                },
                                {
                                    "table_name": "TEmp"
                                },
                                {
                                    "table_name": "Emp_Virtual_Column"
                                },
                                {
                                    "table_name": "Employees"
                                }
                            ]
                        },
                        "text/html": "<table><tr><th>table_name</th></tr><tr><td>TestConstraints</td></tr><tr><td>employeeDetails</td></tr><tr><td>Emp</td></tr><tr><td>Emp_Temp</td></tr><tr><td>TEmp</td></tr><tr><td>Emp_Virtual_Column</td></tr><tr><td>Employees</td></tr></table>"
                    },
                    "metadata": {}
                }
            ],
            "execution_count": 2
        }
    ]
}