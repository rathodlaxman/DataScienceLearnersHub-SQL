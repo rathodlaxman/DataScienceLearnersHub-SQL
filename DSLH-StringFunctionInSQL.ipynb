{
    "metadata": {
        "kernelspec": {
            "name": "SQL",
            "display_name": "SQL",
            "language": "sql"
        },
        "language_info": {
            "name": "sql",
            "version": ""
        }
    },
    "nbformat_minor": 2,
    "nbformat": 4,
    "cells": [
        {
            "cell_type": "markdown",
            "source": [
                "# **Data Science Learners Hub**\n",
                "\n",
                "**Module : SQL**\n",
                "\n",
                "**Topic :** String Functions\n",
                "\n",
                "**email** : [datasciencelearnershub@gmail.com](mailto:datasciencelearnershub@gmail.com)"
            ],
            "metadata": {
                "azdata_cell_guid": "6f12c0af-765e-4c8a-8e22-9e2e6cbe6de1"
            },
            "attachments": {}
        },
        {
            "cell_type": "markdown",
            "source": [
                "## **String Functions in SQL**"
            ],
            "metadata": {
                "azdata_cell_guid": "48d29a3d-742c-4b85-90e0-1f9fa0f0adbc",
                "language": ""
            },
            "attachments": {}
        },
        {
            "cell_type": "markdown",
            "source": [
                "### **What are String Functions in SQL?**\n",
                "\n",
                "  \n",
                "\n",
                "- String functions in SQL are special operations or methods that are applied to character or text data. These functions allow you to manipulate and perform operations on strings, such as extracting a substring, changing the case, concatenating strings, searching for a specific pattern, and more."
            ],
            "metadata": {
                "azdata_cell_guid": "356df634-45a1-4d09-8a65-17e752805c18"
            },
            "attachments": {}
        },
        {
            "cell_type": "code",
            "source": [
                "USE DataScienceLearnersHub"
            ],
            "metadata": {
                "azdata_cell_guid": "e4ca2a05-f231-4e3b-82e4-0bab4fd4e99a",
                "language": "sql"
            },
            "outputs": [
                {
                    "output_type": "display_data",
                    "data": {
                        "text/html": "Commands completed successfully."
                    },
                    "metadata": {}
                },
                {
                    "output_type": "display_data",
                    "data": {
                        "text/html": "Total execution time: 00:00:00.005"
                    },
                    "metadata": {}
                }
            ],
            "execution_count": 2
        },
        {
            "cell_type": "code",
            "source": [
                "SELECT * FROM employeeDetails"
            ],
            "metadata": {
                "language": "sql",
                "azdata_cell_guid": "7d5a046b-76eb-47a0-839d-a1f60d01b314"
            },
            "outputs": [
                {
                    "output_type": "display_data",
                    "data": {
                        "text/html": "(17 rows affected)"
                    },
                    "metadata": {}
                },
                {
                    "output_type": "display_data",
                    "data": {
                        "text/html": "Total execution time: 00:00:00.037"
                    },
                    "metadata": {}
                },
                {
                    "output_type": "execute_result",
                    "execution_count": 3,
                    "data": {
                        "application/vnd.dataresource+json": {
                            "schema": {
                                "fields": [
                                    {
                                        "name": "id"
                                    },
                                    {
                                        "name": "name"
                                    },
                                    {
                                        "name": "gender"
                                    },
                                    {
                                        "name": "salary"
                                    },
                                    {
                                        "name": "department"
                                    },
                                    {
                                        "name": "FullName"
                                    },
                                    {
                                        "name": "MonthlySalary"
                                    },
                                    {
                                        "name": "EmailAddress"
                                    },
                                    {
                                        "name": "age"
                                    }
                                ]
                            },
                            "data": [
                                {
                                    "id": "1",
                                    "name": "Laxman",
                                    "gender": "Male",
                                    "salary": "5000",
                                    "department": "Sales",
                                    "FullName": "Laxman Sales",
                                    "MonthlySalary": "416",
                                    "EmailAddress": "Laxman_1@company.com",
                                    "age": "27"
                                },
                                {
                                    "id": "2",
                                    "name": "Padma",
                                    "gender": "Female",
                                    "salary": "6000",
                                    "department": "Finance",
                                    "FullName": "Padma Finance",
                                    "MonthlySalary": "500",
                                    "EmailAddress": "Padma_2@company.com",
                                    "age": "33"
                                },
                                {
                                    "id": "3",
                                    "name": "Naina",
                                    "gender": "Female",
                                    "salary": "7500",
                                    "department": "IT",
                                    "FullName": "Naina IT",
                                    "MonthlySalary": "625",
                                    "EmailAddress": "Naina_3@company.com",
                                    "age": "41"
                                },
                                {
                                    "id": "4",
                                    "name": "Ramulu",
                                    "gender": "Male",
                                    "salary": "6500",
                                    "department": "HR",
                                    "FullName": "Ramulu HR",
                                    "MonthlySalary": "541",
                                    "EmailAddress": "Ramulu_4@company.com",
                                    "age": "36"
                                },
                                {
                                    "id": "5",
                                    "name": "Harshita",
                                    "gender": "Female",
                                    "salary": "5500",
                                    "department": "Marketing",
                                    "FullName": "Harshita Marketing",
                                    "MonthlySalary": "458",
                                    "EmailAddress": "Harshita_5@company.com",
                                    "age": "30"
                                },
                                {
                                    "id": "6",
                                    "name": "Rajesh",
                                    "gender": "Male",
                                    "salary": "8000",
                                    "department": "Sales",
                                    "FullName": "Rajesh Sales",
                                    "MonthlySalary": "666",
                                    "EmailAddress": "Rajesh_6@company.com",
                                    "age": "44"
                                },
                                {
                                    "id": "7",
                                    "name": "Tikram",
                                    "gender": "Male",
                                    "salary": "7200",
                                    "department": "Finance",
                                    "FullName": "Tikram Finance",
                                    "MonthlySalary": "600",
                                    "EmailAddress": "Tikram_7@company.com",
                                    "age": "40"
                                },
                                {
                                    "id": "8",
                                    "name": "Ganga",
                                    "gender": "Female",
                                    "salary": "6600",
                                    "department": "IT",
                                    "FullName": "Ganga IT",
                                    "MonthlySalary": "550",
                                    "EmailAddress": "Ganga_8@company.com",
                                    "age": "36"
                                },
                                {
                                    "id": "9",
                                    "name": "Jamuna",
                                    "gender": "Female",
                                    "salary": "5400",
                                    "department": "HR",
                                    "FullName": "Jamuna HR",
                                    "MonthlySalary": "450",
                                    "EmailAddress": "Jamuna_9@company.com",
                                    "age": "30"
                                },
                                {
                                    "id": "10",
                                    "name": "Namrata",
                                    "gender": "Female",
                                    "salary": "6300",
                                    "department": "Marketing",
                                    "FullName": "Namrata Marketing",
                                    "MonthlySalary": "525",
                                    "EmailAddress": "Namrata_10@company.com",
                                    "age": "35"
                                },
                                {
                                    "id": "11",
                                    "name": "Bunny",
                                    "gender": "Male",
                                    "salary": "5700",
                                    "department": "Sales",
                                    "FullName": "Bunny Sales",
                                    "MonthlySalary": "475",
                                    "EmailAddress": "Bunny_11@company.com",
                                    "age": "31"
                                },
                                {
                                    "id": "12",
                                    "name": "Abhiram",
                                    "gender": "Male",
                                    "salary": "7000",
                                    "department": "Finance",
                                    "FullName": "Abhiram Finance",
                                    "MonthlySalary": "583",
                                    "EmailAddress": "Abhiram_12@company.com",
                                    "age": "38"
                                },
                                {
                                    "id": "13",
                                    "name": "Varsha",
                                    "gender": "Female",
                                    "salary": "7100",
                                    "department": "IT",
                                    "FullName": "Varsha IT",
                                    "MonthlySalary": "591",
                                    "EmailAddress": "Varsha_13@company.com",
                                    "age": "39"
                                },
                                {
                                    "id": "14",
                                    "name": "Ananya",
                                    "gender": "Female",
                                    "salary": "6800",
                                    "department": "HR",
                                    "FullName": "Ananya HR",
                                    "MonthlySalary": "566",
                                    "EmailAddress": "Ananya_14@company.com",
                                    "age": "37"
                                },
                                {
                                    "id": "15",
                                    "name": "Nikhil",
                                    "gender": "Male",
                                    "salary": "5000",
                                    "department": "Marketing",
                                    "FullName": "Nikhil Marketing",
                                    "MonthlySalary": "416",
                                    "EmailAddress": "Nikhil_15@company.com",
                                    "age": "27"
                                },
                                {
                                    "id": "16",
                                    "name": "Bala",
                                    "gender": "Female",
                                    "salary": "5800",
                                    "department": "HR",
                                    "FullName": "Bala HR",
                                    "MonthlySalary": "483",
                                    "EmailAddress": "Bala_16@company.com",
                                    "age": "32"
                                },
                                {
                                    "id": "17",
                                    "name": "Lax%man",
                                    "gender": "Male",
                                    "salary": "5000",
                                    "department": "Sales",
                                    "FullName": "Lax%man Sales",
                                    "MonthlySalary": "416",
                                    "EmailAddress": "Lax%man_17@company.com",
                                    "age": "27"
                                }
                            ]
                        },
                        "text/html": "<table><tr><th>id</th><th>name</th><th>gender</th><th>salary</th><th>department</th><th>FullName</th><th>MonthlySalary</th><th>EmailAddress</th><th>age</th></tr><tr><td>1</td><td>Laxman</td><td>Male</td><td>5000</td><td>Sales</td><td>Laxman Sales</td><td>416</td><td>Laxman_1@company.com</td><td>27</td></tr><tr><td>2</td><td>Padma</td><td>Female</td><td>6000</td><td>Finance</td><td>Padma Finance</td><td>500</td><td>Padma_2@company.com</td><td>33</td></tr><tr><td>3</td><td>Naina</td><td>Female</td><td>7500</td><td>IT</td><td>Naina IT</td><td>625</td><td>Naina_3@company.com</td><td>41</td></tr><tr><td>4</td><td>Ramulu</td><td>Male</td><td>6500</td><td>HR</td><td>Ramulu HR</td><td>541</td><td>Ramulu_4@company.com</td><td>36</td></tr><tr><td>5</td><td>Harshita</td><td>Female</td><td>5500</td><td>Marketing</td><td>Harshita Marketing</td><td>458</td><td>Harshita_5@company.com</td><td>30</td></tr><tr><td>6</td><td>Rajesh</td><td>Male</td><td>8000</td><td>Sales</td><td>Rajesh Sales</td><td>666</td><td>Rajesh_6@company.com</td><td>44</td></tr><tr><td>7</td><td>Tikram</td><td>Male</td><td>7200</td><td>Finance</td><td>Tikram Finance</td><td>600</td><td>Tikram_7@company.com</td><td>40</td></tr><tr><td>8</td><td>Ganga</td><td>Female</td><td>6600</td><td>IT</td><td>Ganga IT</td><td>550</td><td>Ganga_8@company.com</td><td>36</td></tr><tr><td>9</td><td>Jamuna</td><td>Female</td><td>5400</td><td>HR</td><td>Jamuna HR</td><td>450</td><td>Jamuna_9@company.com</td><td>30</td></tr><tr><td>10</td><td>Namrata</td><td>Female</td><td>6300</td><td>Marketing</td><td>Namrata Marketing</td><td>525</td><td>Namrata_10@company.com</td><td>35</td></tr><tr><td>11</td><td>Bunny</td><td>Male</td><td>5700</td><td>Sales</td><td>Bunny Sales</td><td>475</td><td>Bunny_11@company.com</td><td>31</td></tr><tr><td>12</td><td>Abhiram</td><td>Male</td><td>7000</td><td>Finance</td><td>Abhiram Finance</td><td>583</td><td>Abhiram_12@company.com</td><td>38</td></tr><tr><td>13</td><td>Varsha</td><td>Female</td><td>7100</td><td>IT</td><td>Varsha IT</td><td>591</td><td>Varsha_13@company.com</td><td>39</td></tr><tr><td>14</td><td>Ananya</td><td>Female</td><td>6800</td><td>HR</td><td>Ananya HR</td><td>566</td><td>Ananya_14@company.com</td><td>37</td></tr><tr><td>15</td><td>Nikhil</td><td>Male</td><td>5000</td><td>Marketing</td><td>Nikhil Marketing</td><td>416</td><td>Nikhil_15@company.com</td><td>27</td></tr><tr><td>16</td><td>Bala</td><td>Female</td><td>5800</td><td>HR</td><td>Bala HR</td><td>483</td><td>Bala_16@company.com</td><td>32</td></tr><tr><td>17</td><td>Lax%man</td><td>Male</td><td>5000</td><td>Sales</td><td>Lax%man Sales</td><td>416</td><td>Lax%man_17@company.com</td><td>27</td></tr></table>"
                    },
                    "metadata": {}
                }
            ],
            "execution_count": 3
        },
        {
            "cell_type": "markdown",
            "source": [
                "### **String Functions in SQL**\n",
                "\n",
                "| Category                  | Function       | Syntax                                     | Input               | Return Type       | One-line Explanation                                     | Peculiarities/Considerations                              |\n",
                "|---------------------------|----------------|--------------------------------------------|---------------------|-------------------|----------------------------------------------------------|----------------------------------------------------------|\n",
                "| **Length and Size**       | LEN()          | `LEN(expression)`                          | String              | Integer           | <mark>Returns the number of characters in a string.</mark>            | <mark>**Does not include trailing spaces.**</mark>                        |\n",
                "|                           | <mark>DATALENGTH() </mark>  | `DATALENGTH(expression)`                   | String/Binary       | <mark>**Integer**</mark>          | <mark>Returns the number of bytes </mark>used to represent an expression. | <mark>**Includes trailing spaces. Useful for binary data.**</mark>      |\n",
                "| **Case**                  | UPPER()        | `UPPER(expression)`                        | String              | String            | Converts all characters to uppercase.                    | None                                                     |\n",
                "|                           | LOWER()        | `LOWER(expression)`                        | String              | String            | Converts all characters to lowercase.                    | None                                                     |\n",
                "| **Substring and Position**| SUBSTRING()    | <mark>**`SUBSTRING(expression, start, length)`**</mark>    | String, Int, Int    | String            | Extracts a substring from a string.                      | <mark>**`start` is 1-based index.**</mark>                               |\n",
                "|                           | CHARINDEX()    | <mark>**`CHARINDEX(search_expression, expression)`**</mark> | String, String      | Integer           | <mark>Returns the starting position of a substring.</mark>            | <mark>**Returns 0 if not found.**</mark>                                  |\n",
                "| **Concatenation**         | CONCAT()       | `CONCAT(expression1, expression2, ...)`    | String              | String            | C<mark>oncatenates two or more strings.</mark>                        | <mark>**NULL values are treated as empty strings.**</mark>                |\n",
                "|                           | STRING_AGG()   | <mark>**`STRING_AGG(expression, separator)`**</mark>        | String, String      | String            | <mark>**Concatenates values with a separator.**</mark>                    | <mark>Available in SQL Server 2017 and later.</mark>                  |\n",
                "| **Trimming**              | LTRIM()        | `LTRIM(expression)`                        | String              | String            | Removes leading spaces from a string.                    | None                                                     |\n",
                "|                           | RTRIM()        | `RTRIM(expression)`                        | String              | String            | Removes trailing spaces from a string.                   | None                                                     |\n",
                "| **Left and Right**        | LEFT()         | <mark>`LEFT(expression, number)`</mark>                 | String, Int         | String            | <mark>Returns the left part of a string.</mark>                       | <mark>`number` specifies how many characters to return.</mark>        |\n",
                "|                           | RIGHT()        | `RIGHT(expression, number)`                | String, Int         | String            | Returns the right part of a string.                      | `number` specifies how many characters to return.        |\n",
                "| **Replacement**           | REPLACE()      | <mark>**`REPLACE(expression, search, replace)`**</mark>     | <mark>String, String, String</mark> | String        | <mark>**Replaces all occurrences of a substring.**</mark>                | <mark>**Case-sensitive.**</mark>                                          |\n",
                "| **Miscellaneous**         | STUFF()        | <mark>**`STUFF(expression, start, length, replace)`**</mark>| String, Int, Int, String | String | <mark>**Deletes part of a string and inserts another.**</mark>            | <mark>**`start` is 1-based index.**</mark>                               |\n",
                "|                           | REPLICATE()    | <mark>**`REPLICATE(expression, count)`**</mark>             | String, Int         | String            | <mark>Repeats a string a specified number of times.</mark>            | None                                                     |\n",
                "|                           | SPACE()        | <mark>**`SPACE(count)`**</mark>                             | Int                 | String            | <mark>Returns a string of repeated spaces.</mark>                     | None                                                     |\n",
                "| **Conversion**            | CONVERT()      | <mark>`CONVERT(data_type, expression)`</mark>           | Any                 | Specified data type | Converts a value to a specified data type.               | <mark>Commonly used for date and string conversions.</mark>           |\n",
                "|                           | CAST()         | <mark>`CAST(expression AS data_type)`</mark>            | Any                 | Specified data type | Converts a value to a specified data type.               | <mark>Standard SQL syntax for conversions.</mark>                     |\n",
                "| **Parsing**               | PARSE()        | <mark>`PARSE(expression AS data_type)`</mark>           | String              | Specified data type | <mark>**Converts a string to a specified data type.**</mark>              | <mark>Suitable for converting string representations of dates and numbers.</mark> |\n",
                "|                           | TRY_PARSE()    | <mark>`TRY_PARSE(expression AS data_type)` </mark>      | String              | Specified data type | Tries to convert a string to a specified data type.      | <mark>**Returns NULL if conversion fails, avoiding errors.**</mark>      |\n",
                ""
            ],
            "metadata": {
                "azdata_cell_guid": "31678a3b-fd42-4a23-a834-301745e3a52a"
            },
            "attachments": {}
        },
        {
            "cell_type": "code",
            "source": [
                "CREATE TABLE students (\n",
                "    id INT,\n",
                "    name VARCHAR(50),\n",
                "    address VARCHAR(100)\n",
                ");\n",
                "\n",
                "INSERT INTO students (id, name, address) VALUES \n",
                "(1, 'Laxman Rathod', '505 Asmit Resi'),\n",
                "(2, 'Sai Amgoath', '456 Shakti Street'),\n",
                "(3, 'Varsha nayak', '789 Hyd St');"
            ],
            "metadata": {
                "azdata_cell_guid": "e29e618c-808b-4620-99a7-6116199152fd",
                "language": "sql",
                "tags": []
            },
            "outputs": [
                {
                    "output_type": "display_data",
                    "data": {
                        "text/html": "(3 rows affected)"
                    },
                    "metadata": {}
                },
                {
                    "output_type": "display_data",
                    "data": {
                        "text/html": "Total execution time: 00:00:00.078"
                    },
                    "metadata": {}
                }
            ],
            "execution_count": 3
        },
        {
            "cell_type": "code",
            "source": [
                "SELECT * FROM students"
            ],
            "metadata": {
                "language": "sql",
                "azdata_cell_guid": "06fb19cd-9d54-41d4-b132-09b8b13b60a8"
            },
            "outputs": [
                {
                    "output_type": "display_data",
                    "data": {
                        "text/html": "(3 rows affected)"
                    },
                    "metadata": {}
                },
                {
                    "output_type": "display_data",
                    "data": {
                        "text/html": "Total execution time: 00:00:00.039"
                    },
                    "metadata": {}
                },
                {
                    "output_type": "execute_result",
                    "metadata": {},
                    "execution_count": 4,
                    "data": {
                        "application/vnd.dataresource+json": {
                            "schema": {
                                "fields": [
                                    {
                                        "name": "id"
                                    },
                                    {
                                        "name": "name"
                                    },
                                    {
                                        "name": "address"
                                    }
                                ]
                            },
                            "data": [
                                {
                                    "id": "1",
                                    "name": "Laxman Rathod",
                                    "address": "505 Asmit Resi"
                                },
                                {
                                    "id": "2",
                                    "name": "Sai Amgoath",
                                    "address": "456 Shakti Street"
                                },
                                {
                                    "id": "3",
                                    "name": "Varsha nayak",
                                    "address": "789 Hyd St"
                                }
                            ]
                        },
                        "text/html": [
                            "<table>",
                            "<tr><th>id</th><th>name</th><th>address</th></tr>",
                            "<tr><td>1</td><td>Laxman Rathod</td><td>505 Asmit Resi</td></tr>",
                            "<tr><td>2</td><td>Sai Amgoath</td><td>456 Shakti Street</td></tr>",
                            "<tr><td>3</td><td>Varsha nayak</td><td>789 Hyd St</td></tr>",
                            "</table>"
                        ]
                    }
                }
            ],
            "execution_count": 4
        },
        {
            "cell_type": "markdown",
            "source": [
                "#### Length and Size Functions\n",
                "\n",
                "| Function       | Syntax                     | Input         | Return Type | One-line Explanation                            | Peculiarities/Considerations                                     |\n",
                "|----------------|----------------------------|---------------|-------------|-------------------------------------------------|-----------------------------------------------------------------|\n",
                "| LEN()          | `LEN(expression)`          | String        | Integer     | <mark>Returns the number of characters in a string.</mark>   | <mark>**Does not include trailing spaces.**</mark>                               |\n",
                "| DATALENGTH()   | `DATALENGTH(expression)`   | String/Binary | Integer     | <mark>**Returns the number of bytes used to represent an expression.**</mark> | <mark>**Includes trailing spaces.**</mark> Useful for binary data.  "
            ],
            "metadata": {
                "language": "sql",
                "azdata_cell_guid": "25ea9345-84f1-404c-99c7-7ae3cb5eb436"
            },
            "attachments": {}
        },
        {
            "cell_type": "code",
            "source": [
                "SELECT LEN(name) AS NameLength, DATALENGTH(name) AS DataLength FROM students;"
            ],
            "metadata": {
                "language": "sql",
                "azdata_cell_guid": "4342b140-be62-4cbb-8e80-ff8af4041864"
            },
            "outputs": [
                {
                    "output_type": "display_data",
                    "data": {
                        "text/html": "(3 rows affected)"
                    },
                    "metadata": {}
                },
                {
                    "output_type": "display_data",
                    "data": {
                        "text/html": "Total execution time: 00:00:00.023"
                    },
                    "metadata": {}
                },
                {
                    "output_type": "execute_result",
                    "metadata": {},
                    "execution_count": 5,
                    "data": {
                        "application/vnd.dataresource+json": {
                            "schema": {
                                "fields": [
                                    {
                                        "name": "NameLength"
                                    },
                                    {
                                        "name": "DataLength"
                                    }
                                ]
                            },
                            "data": [
                                {
                                    "NameLength": "13",
                                    "DataLength": "13"
                                },
                                {
                                    "NameLength": "11",
                                    "DataLength": "11"
                                },
                                {
                                    "NameLength": "12",
                                    "DataLength": "12"
                                }
                            ]
                        },
                        "text/html": [
                            "<table>",
                            "<tr><th>NameLength</th><th>DataLength</th></tr>",
                            "<tr><td>13</td><td>13</td></tr>",
                            "<tr><td>11</td><td>11</td></tr>",
                            "<tr><td>12</td><td>12</td></tr>",
                            "</table>"
                        ]
                    }
                }
            ],
            "execution_count": 5
        },
        {
            "cell_type": "markdown",
            "source": [
                "#### Case Functions\n",
                "\n",
                "| Function       | Syntax                     | Input   | Return Type | One-line Explanation                 | Peculiarities/Considerations                |\n",
                "|----------------|----------------------------|---------|-------------|--------------------------------------|--------------------------------------------|\n",
                "| UPPER()        | `UPPER(expression)`        | String  | String      | Converts all characters to uppercase.| None                                       |\n",
                "| LOWER()        | `LOWER(expression)`        | String  | String      | Converts all characters to lowercase.| None   "
            ],
            "metadata": {
                "language": "sql",
                "azdata_cell_guid": "527baaca-76f4-4c45-a51e-505ad74557df"
            },
            "attachments": {}
        },
        {
            "cell_type": "code",
            "source": [
                "SELECT UPPER(name) AS UpperName, LOWER(name) AS LowerName FROM students;"
            ],
            "metadata": {
                "language": "sql",
                "azdata_cell_guid": "5833b7b9-e2bf-40f6-8d8e-9b444c613402"
            },
            "outputs": [
                {
                    "output_type": "display_data",
                    "data": {
                        "text/html": "(3 rows affected)"
                    },
                    "metadata": {}
                },
                {
                    "output_type": "display_data",
                    "data": {
                        "text/html": "Total execution time: 00:00:00.033"
                    },
                    "metadata": {}
                },
                {
                    "output_type": "execute_result",
                    "metadata": {},
                    "execution_count": 6,
                    "data": {
                        "application/vnd.dataresource+json": {
                            "schema": {
                                "fields": [
                                    {
                                        "name": "UpperName"
                                    },
                                    {
                                        "name": "LowerName"
                                    }
                                ]
                            },
                            "data": [
                                {
                                    "UpperName": "LAXMAN RATHOD",
                                    "LowerName": "laxman rathod"
                                },
                                {
                                    "UpperName": "SAI AMGOATH",
                                    "LowerName": "sai amgoath"
                                },
                                {
                                    "UpperName": "VARSHA NAYAK",
                                    "LowerName": "varsha nayak"
                                }
                            ]
                        },
                        "text/html": [
                            "<table>",
                            "<tr><th>UpperName</th><th>LowerName</th></tr>",
                            "<tr><td>LAXMAN RATHOD</td><td>laxman rathod</td></tr>",
                            "<tr><td>SAI AMGOATH</td><td>sai amgoath</td></tr>",
                            "<tr><td>VARSHA NAYAK</td><td>varsha nayak</td></tr>",
                            "</table>"
                        ]
                    }
                }
            ],
            "execution_count": 6
        },
        {
            "cell_type": "markdown",
            "source": [
                "#### Substring and Position Functions\n",
                "\n",
                "| Function       | Syntax                                     | Input               | Return Type | One-line Explanation                                   | Peculiarities/Considerations                          |\n",
                "|----------------|--------------------------------------------|---------------------|-------------|--------------------------------------------------------|------------------------------------------------------|\n",
                "| SUBSTRING()    | <mark>`SUBSTRING(expression, start, length)`</mark>     | String, Int, Int    | String      | Extracts a substring from a string.                    | <mark>**`start` is 1-based index.**</mark>                            |\n",
                "| CHARINDEX()    | <mark>`CHARINDEX(search_expression, expression)`</mark> | String, String      | Integer     | Returns the starting position of a substring.          | <mark>**Returns 0 if not found.**</mark>  "
            ],
            "metadata": {
                "language": "sql",
                "azdata_cell_guid": "2c2a7ad8-ac5b-4c50-9f5b-a30e4e74700f"
            },
            "attachments": {}
        },
        {
            "cell_type": "code",
            "source": [
                "SELECT SUBSTRING(name, 1, 5) AS SubName, CHARINDEX('rathod', name) AS Position FROM students;"
            ],
            "metadata": {
                "language": "sql",
                "azdata_cell_guid": "17ed5ea6-c734-4783-9581-5f4143cc1f87"
            },
            "outputs": [
                {
                    "output_type": "display_data",
                    "data": {
                        "text/html": "(3 rows affected)"
                    },
                    "metadata": {}
                },
                {
                    "output_type": "display_data",
                    "data": {
                        "text/html": "Total execution time: 00:00:00.026"
                    },
                    "metadata": {}
                },
                {
                    "output_type": "execute_result",
                    "metadata": {},
                    "execution_count": 8,
                    "data": {
                        "application/vnd.dataresource+json": {
                            "schema": {
                                "fields": [
                                    {
                                        "name": "SubName"
                                    },
                                    {
                                        "name": "Position"
                                    }
                                ]
                            },
                            "data": [
                                {
                                    "SubName": "Laxma",
                                    "Position": "8"
                                },
                                {
                                    "SubName": "Sai A",
                                    "Position": "0"
                                },
                                {
                                    "SubName": "Varsh",
                                    "Position": "0"
                                }
                            ]
                        },
                        "text/html": [
                            "<table>",
                            "<tr><th>SubName</th><th>Position</th></tr>",
                            "<tr><td>Laxma</td><td>8</td></tr>",
                            "<tr><td>Sai A</td><td>0</td></tr>",
                            "<tr><td>Varsh</td><td>0</td></tr>",
                            "</table>"
                        ]
                    }
                }
            ],
            "execution_count": 8
        },
        {
            "cell_type": "markdown",
            "source": [
                "#### Concatenation Functions\n",
                "\n",
                "| Function       | Syntax                                     | Input         | Return Type | One-line Explanation                 | Peculiarities/Considerations                            |\n",
                "|----------------|--------------------------------------------|---------------|-------------|--------------------------------------|--------------------------------------------------------|\n",
                "| CONCAT()       | <mark>`CONCAT(expression1, expression2, ...)`</mark>    | String        | String      | <mark>Concatenates two or more strings.</mark>    | <mark>**NULL values are treated as empty strings.**</mark>              |\n",
                "| STRING_AGG()   | <mark>**`STRING_AGG(expression, separator)`**</mark>        | String, String| String      | Concatenates values with a separator.| Available in SQL Server 2017 and later.                |\n",
                ""
            ],
            "metadata": {
                "language": "sql",
                "azdata_cell_guid": "3f05725f-9c80-46a7-aae5-e408ab5b9317"
            },
            "attachments": {}
        },
        {
            "cell_type": "code",
            "source": [
                "SELECT CONCAT(name, ', ', address) AS FullInfo FROM students;\n",
                "SELECT STRING_AGG(name, ', ') AS NameList FROM students;"
            ],
            "metadata": {
                "language": "sql",
                "azdata_cell_guid": "0146b4a7-0b3a-4471-9550-5ee5ebc46c2d"
            },
            "outputs": [
                {
                    "output_type": "display_data",
                    "data": {
                        "text/html": "(3 rows affected)"
                    },
                    "metadata": {}
                },
                {
                    "output_type": "display_data",
                    "data": {
                        "text/html": "(1 row affected)"
                    },
                    "metadata": {}
                },
                {
                    "output_type": "display_data",
                    "data": {
                        "text/html": "Total execution time: 00:00:00.035"
                    },
                    "metadata": {}
                },
                {
                    "output_type": "execute_result",
                    "metadata": {},
                    "execution_count": 9,
                    "data": {
                        "application/vnd.dataresource+json": {
                            "schema": {
                                "fields": [
                                    {
                                        "name": "FullInfo"
                                    }
                                ]
                            },
                            "data": [
                                {
                                    "FullInfo": "Laxman Rathod, 505 Asmit Resi"
                                },
                                {
                                    "FullInfo": "Sai Amgoath, 456 Shakti Street"
                                },
                                {
                                    "FullInfo": "Varsha nayak, 789 Hyd St"
                                }
                            ]
                        },
                        "text/html": [
                            "<table>",
                            "<tr><th>FullInfo</th></tr>",
                            "<tr><td>Laxman Rathod, 505 Asmit Resi</td></tr>",
                            "<tr><td>Sai Amgoath, 456 Shakti Street</td></tr>",
                            "<tr><td>Varsha nayak, 789 Hyd St</td></tr>",
                            "</table>"
                        ]
                    }
                },
                {
                    "output_type": "execute_result",
                    "metadata": {},
                    "execution_count": 9,
                    "data": {
                        "application/vnd.dataresource+json": {
                            "schema": {
                                "fields": [
                                    {
                                        "name": "NameList"
                                    }
                                ]
                            },
                            "data": [
                                {
                                    "NameList": "Laxman Rathod, Sai Amgoath, Varsha nayak"
                                }
                            ]
                        },
                        "text/html": [
                            "<table>",
                            "<tr><th>NameList</th></tr>",
                            "<tr><td>Laxman Rathod, Sai Amgoath, Varsha nayak</td></tr>",
                            "</table>"
                        ]
                    }
                }
            ],
            "execution_count": 9
        },
        {
            "cell_type": "markdown",
            "source": [
                "#### Trimming Functions\n",
                "\n",
                "| Function       | Syntax                     | Input   | Return Type | One-line Explanation                       | Peculiarities/Considerations                          |\n",
                "|----------------|----------------------------|---------|-------------|--------------------------------------------|------------------------------------------------------|\n",
                "| LTRIM()        | `LTRIM(expression)`        | String  | String      | Removes leading spaces from a string.      | None                                                 |\n",
                "| RTRIM()        | `RTRIM(expression)`        | String  | String      | Removes trailing spaces from a string.     | None   "
            ],
            "metadata": {
                "azdata_cell_guid": "9ce405d5-abd4-4943-bdf0-8c6e8ad08860"
            },
            "attachments": {}
        },
        {
            "cell_type": "code",
            "source": [
                "SELECT LTRIM('   Naina') AS TrimmedLeft, RTRIM('Naina   ') AS TrimmedRight;"
            ],
            "metadata": {
                "azdata_cell_guid": "f2ffa795-387b-425f-bd24-233745eab4c5",
                "language": "sql"
            },
            "outputs": [
                {
                    "output_type": "display_data",
                    "data": {
                        "text/html": "(1 row affected)"
                    },
                    "metadata": {}
                },
                {
                    "output_type": "display_data",
                    "data": {
                        "text/html": "Total execution time: 00:00:00.033"
                    },
                    "metadata": {}
                },
                {
                    "output_type": "execute_result",
                    "metadata": {},
                    "execution_count": 11,
                    "data": {
                        "application/vnd.dataresource+json": {
                            "schema": {
                                "fields": [
                                    {
                                        "name": "TrimmedLeft"
                                    },
                                    {
                                        "name": "TrimmedRight"
                                    }
                                ]
                            },
                            "data": [
                                {
                                    "TrimmedLeft": "Naina",
                                    "TrimmedRight": "Naina"
                                }
                            ]
                        },
                        "text/html": [
                            "<table>",
                            "<tr><th>TrimmedLeft</th><th>TrimmedRight</th></tr>",
                            "<tr><td>Naina</td><td>Naina</td></tr>",
                            "</table>"
                        ]
                    }
                }
            ],
            "execution_count": 11
        },
        {
            "cell_type": "markdown",
            "source": [
                "#### Left and Right Functions\n",
                "\n",
                "| Function       | Syntax                     | Input      | Return Type | One-line Explanation                | Peculiarities/Considerations                          |\n",
                "|----------------|----------------------------|------------|-------------|-------------------------------------|------------------------------------------------------|\n",
                "| LEFT()         | <mark>`LEFT(expression, number)`</mark> | String, Int| String      | <mark>Returns the left part of a string.</mark>  | <mark>`number` specifies how many characters to return.</mark>    |\n",
                "| RIGHT()        | `RIGHT(expression, number)`| String, Int| String      | Returns the right part of a string. | `number` specifies how many characters to return.    |\n",
                ""
            ],
            "metadata": {
                "language": "sql",
                "azdata_cell_guid": "fca4ca87-c520-43c2-ac95-eb1347e5523c"
            },
            "attachments": {}
        },
        {
            "cell_type": "code",
            "source": [
                "SELECT LEFT(name, 3) AS LeftPart, RIGHT(name, 3) AS RightPart FROM students;"
            ],
            "metadata": {
                "language": "sql",
                "azdata_cell_guid": "6a525f39-de46-41b2-9f0f-deab2139566d"
            },
            "outputs": [
                {
                    "output_type": "display_data",
                    "data": {
                        "text/html": "(3 rows affected)"
                    },
                    "metadata": {}
                },
                {
                    "output_type": "display_data",
                    "data": {
                        "text/html": "Total execution time: 00:00:00.031"
                    },
                    "metadata": {}
                },
                {
                    "output_type": "execute_result",
                    "metadata": {},
                    "execution_count": 12,
                    "data": {
                        "application/vnd.dataresource+json": {
                            "schema": {
                                "fields": [
                                    {
                                        "name": "LeftPart"
                                    },
                                    {
                                        "name": "RightPart"
                                    }
                                ]
                            },
                            "data": [
                                {
                                    "LeftPart": "Lax",
                                    "RightPart": "hod"
                                },
                                {
                                    "LeftPart": "Sai",
                                    "RightPart": "ath"
                                },
                                {
                                    "LeftPart": "Var",
                                    "RightPart": "yak"
                                }
                            ]
                        },
                        "text/html": [
                            "<table>",
                            "<tr><th>LeftPart</th><th>RightPart</th></tr>",
                            "<tr><td>Lax</td><td>hod</td></tr>",
                            "<tr><td>Sai</td><td>ath</td></tr>",
                            "<tr><td>Var</td><td>yak</td></tr>",
                            "</table>"
                        ]
                    }
                }
            ],
            "execution_count": 12
        },
        {
            "cell_type": "markdown",
            "source": [
                "#### Replacement Functions\n",
                "\n",
                "| Function       | Syntax                                     | Input                     | Return Type | One-line Explanation                | Peculiarities/Considerations                          |\n",
                "|----------------|--------------------------------------------|---------------------------|-------------|-------------------------------------|------------------------------------------------------|\n",
                "| REPLACE()      | <mark>**`REPLACE(expression, search, replace)`**</mark>     | String, String, String    | String      | <mark>**Replaces all occurrences of a substring.**</mark> | <mark>**Case-sensitive.**</mark>                                      |\n",
                ""
            ],
            "metadata": {
                "azdata_cell_guid": "b4a14b3d-264d-48de-9bd0-a98bcc69da46"
            },
            "attachments": {}
        },
        {
            "cell_type": "code",
            "source": [
                "SELECT REPLACE(name, 'Laxman', 'Lucky') AS NewName FROM students;"
            ],
            "metadata": {
                "azdata_cell_guid": "a6870c0f-eb66-4579-89df-8bad89d12db3",
                "language": "sql"
            },
            "outputs": [
                {
                    "output_type": "display_data",
                    "data": {
                        "text/html": "(3 rows affected)"
                    },
                    "metadata": {}
                },
                {
                    "output_type": "display_data",
                    "data": {
                        "text/html": "Total execution time: 00:00:00.025"
                    },
                    "metadata": {}
                },
                {
                    "output_type": "execute_result",
                    "metadata": {},
                    "execution_count": 21,
                    "data": {
                        "application/vnd.dataresource+json": {
                            "schema": {
                                "fields": [
                                    {
                                        "name": "NewName"
                                    }
                                ]
                            },
                            "data": [
                                {
                                    "NewName": "Lucky Rathod"
                                },
                                {
                                    "NewName": "Sai Amgoath"
                                },
                                {
                                    "NewName": "Varsha nayak"
                                }
                            ]
                        },
                        "text/html": [
                            "<table>",
                            "<tr><th>NewName</th></tr>",
                            "<tr><td>Lucky Rathod</td></tr>",
                            "<tr><td>Sai Amgoath</td></tr>",
                            "<tr><td>Varsha nayak</td></tr>",
                            "</table>"
                        ]
                    }
                }
            ],
            "execution_count": 21
        },
        {
            "cell_type": "markdown",
            "source": [
                "#### Conversion Functions\n",
                "\n",
                "| Function       | Syntax                     | Input      | Return Type | One-line Explanation                | Peculiarities/Considerations                          |\n",
                "|----------------|----------------------------|------------|-------------|-------------------------------------|------------------------------------------------------|\n",
                "| CONVERT()      | <mark>**`CONVERT(data_type, expression)`**</mark> | Any     | Specified data type | <mark>Converts a value to a specified data type.</mark> | <mark>Commonly used for date and string conversions.</mark>       |\n",
                "| CAST()         | <mark>**`CAST(expression AS data_type)`**</mark> | Any     | Specified data type | <mark>Converts a value to a specified data type.</mark> | <mark>Standard SQL syntax for conversions.</mark>                 |\n",
                ""
            ],
            "metadata": {
                "language": "sql",
                "azdata_cell_guid": "e18f24bf-71b4-458f-abb5-1759b5a1e24d"
            },
            "attachments": {}
        },
        {
            "cell_type": "code",
            "source": [
                "SELECT CONVERT(VARCHAR, GETDATE(), 101) AS ConvertedDate;\n",
                "SELECT CAST(12345 AS VARCHAR) AS CastedString;"
            ],
            "metadata": {
                "language": "sql",
                "azdata_cell_guid": "5451e869-aee7-4b55-9219-828fe7e94392"
            },
            "outputs": [
                {
                    "output_type": "display_data",
                    "data": {
                        "text/html": "(1 row affected)"
                    },
                    "metadata": {}
                },
                {
                    "output_type": "display_data",
                    "data": {
                        "text/html": "(1 row affected)"
                    },
                    "metadata": {}
                },
                {
                    "output_type": "display_data",
                    "data": {
                        "text/html": "Total execution time: 00:00:00.011"
                    },
                    "metadata": {}
                },
                {
                    "output_type": "execute_result",
                    "metadata": {},
                    "execution_count": 14,
                    "data": {
                        "application/vnd.dataresource+json": {
                            "schema": {
                                "fields": [
                                    {
                                        "name": "ConvertedDate"
                                    }
                                ]
                            },
                            "data": [
                                {
                                    "ConvertedDate": "06/30/2024"
                                }
                            ]
                        },
                        "text/html": [
                            "<table>",
                            "<tr><th>ConvertedDate</th></tr>",
                            "<tr><td>06/30/2024</td></tr>",
                            "</table>"
                        ]
                    }
                },
                {
                    "output_type": "execute_result",
                    "metadata": {},
                    "execution_count": 14,
                    "data": {
                        "application/vnd.dataresource+json": {
                            "schema": {
                                "fields": [
                                    {
                                        "name": "CastedString"
                                    }
                                ]
                            },
                            "data": [
                                {
                                    "CastedString": "12345"
                                }
                            ]
                        },
                        "text/html": [
                            "<table>",
                            "<tr><th>CastedString</th></tr>",
                            "<tr><td>12345</td></tr>",
                            "</table>"
                        ]
                    }
                }
            ],
            "execution_count": 14
        },
        {
            "cell_type": "markdown",
            "source": [
                "#### Parsing Functions\n",
                "\n",
                "| Function       | Syntax                                     | Input             | Return Type | One-line Explanation                | Peculiarities/Considerations                          |\n",
                "|----------------|--------------------------------------------|-------------------|-------------|-------------------------------------|------------------------------------------------------|\n",
                "| PARSE()        | <mark>**`PARSE(expression AS data_type)`**</mark>           | String            | Specified data type | Converts a string to a specified data type. | <mark>Suitable for converting string representations of dates and numbers.</mark> |\n",
                "| TRY_PARSE()    | <mark>**`TRY_PARSE(expression AS data_type)`**</mark>       | String            | Specified data type | Tries to convert a string to a specified data type. | <mark>**Returns NULL if conversion fails, avoiding errors.**</mark>    |\n",
                ""
            ],
            "metadata": {
                "language": "sql",
                "azdata_cell_guid": "ec8f9ba9-8b30-4839-a885-f0a0f083e24e"
            },
            "attachments": {}
        },
        {
            "cell_type": "markdown",
            "source": [
                "![Screenshot 2024-06-30 at 19.01.40.png](attachment:Screenshot2024-06-30at19.01.40.png)"
            ],
            "metadata": {
                "language": "",
                "azdata_cell_guid": "eda01b54-0337-4282-a5db-ee5312f8b771"
            },
            "attachments": {
                "Screenshot2024-06-30at19.01.40.png": {
                    "image/png": "[encoded data removed]"
                }
            }
        },
        {
            "cell_type": "code",
            "source": [
                "SELECT PARSE('2024-06-30' AS DATE) AS ParsedDate;\n",
                "SELECT TRY_PARSE('InvalidNumber' AS INT) AS TryParsedNumber;"
            ],
            "metadata": {
                "language": "sql",
                "azdata_cell_guid": "2bc57d12-ab85-4f5f-875d-cf56c94b5111",
                "tags": []
            },
            "outputs": [
                {
                    "output_type": "display_data",
                    "data": {
                        "text/html": "Total execution time: 00:00:00.073"
                    },
                    "metadata": {}
                },
                {
                    "output_type": "execute_result",
                    "metadata": {},
                    "execution_count": 15,
                    "data": {
                        "application/vnd.dataresource+json": {
                            "schema": {
                                "fields": [
                                    {
                                        "name": "ParsedDate"
                                    }
                                ]
                            },
                            "data": []
                        },
                        "text/html": [
                            "<table>",
                            "<tr><th>ParsedDate</th></tr>",
                            "</table>"
                        ]
                    }
                },
                {
                    "output_type": "execute_result",
                    "metadata": {},
                    "execution_count": 15,
                    "data": {
                        "application/vnd.dataresource+json": {
                            "schema": {
                                "fields": [
                                    {
                                        "name": "TryParsedNumber"
                                    }
                                ]
                            },
                            "data": []
                        },
                        "text/html": [
                            "<table>",
                            "<tr><th>TryParsedNumber</th></tr>",
                            "</table>"
                        ]
                    }
                },
                {
                    "output_type": "error",
                    "evalue": "Msg 10347, Level 16, State 1, Line 1\nCommon Language Runtime(CLR) is not enabled on this instance.",
                    "ename": "",
                    "traceback": []
                },
                {
                    "output_type": "error",
                    "evalue": "Msg 10347, Level 16, State 1, Line 2\nCommon Language Runtime(CLR) is not enabled on this instance.",
                    "ename": "",
                    "traceback": []
                }
            ],
            "execution_count": 15
        },
        {
            "cell_type": "markdown",
            "source": [
                "#### Miscellaneous Functions\n",
                "\n",
                "| Function       | Syntax                                     | Input             | Return Type | One-line Explanation                | Peculiarities/Considerations                          |\n",
                "|----------------|--------------------------------------------|-------------------|-------------|-------------------------------------|------------------------------------------------------|\n",
                "| STUFF()        | <mark>**`STUFF(expression, start, length, replace)`**</mark>| String, Int, Int, String | String      | <mark>Deletes part of a string and inserts another.</mark> | <mark>`start` is 1-based index. </mark>                           |\n",
                "| REPLICATE()    | <mark>**`REPLICATE(expression, count)`**</mark>             | String, Int       | String      | <mark>**Repeats a string a specified number of times.**</mark> | None                                                 |\n",
                "| SPACE()        | <mark>**`SPACE(count)`**</mark>                             | Int               | String      | <mark>**Returns a string of repeated spaces.**</mark> | None                                                 |\n",
                ""
            ],
            "metadata": {
                "language": "sql",
                "azdata_cell_guid": "95211575-8185-4c3a-8016-554666d8b9cb"
            },
            "attachments": {}
        },
        {
            "cell_type": "code",
            "source": [
                "SELECT STUFF(name, 2, 3, '***') AS StuffedName FROM students;\n",
                "SELECT REPLICATE('A', 5) AS ReplicatedString;\n",
                "SELECT SPACE(5) + 'End' AS SpacedString;"
            ],
            "metadata": {
                "language": "sql",
                "azdata_cell_guid": "a08c2307-f55d-4a1e-8e94-9d8592a955c0"
            },
            "outputs": [
                {
                    "output_type": "display_data",
                    "data": {
                        "text/html": "(3 rows affected)"
                    },
                    "metadata": {}
                },
                {
                    "output_type": "display_data",
                    "data": {
                        "text/html": "(1 row affected)"
                    },
                    "metadata": {}
                },
                {
                    "output_type": "display_data",
                    "data": {
                        "text/html": "(1 row affected)"
                    },
                    "metadata": {}
                },
                {
                    "output_type": "display_data",
                    "data": {
                        "text/html": "Total execution time: 00:00:00.021"
                    },
                    "metadata": {}
                },
                {
                    "output_type": "execute_result",
                    "metadata": {},
                    "execution_count": 16,
                    "data": {
                        "application/vnd.dataresource+json": {
                            "schema": {
                                "fields": [
                                    {
                                        "name": "StuffedName"
                                    }
                                ]
                            },
                            "data": [
                                {
                                    "StuffedName": "L***an Rathod"
                                },
                                {
                                    "StuffedName": "S***Amgoath"
                                },
                                {
                                    "StuffedName": "V***ha nayak"
                                }
                            ]
                        },
                        "text/html": [
                            "<table>",
                            "<tr><th>StuffedName</th></tr>",
                            "<tr><td>L***an Rathod</td></tr>",
                            "<tr><td>S***Amgoath</td></tr>",
                            "<tr><td>V***ha nayak</td></tr>",
                            "</table>"
                        ]
                    }
                },
                {
                    "output_type": "execute_result",
                    "metadata": {},
                    "execution_count": 16,
                    "data": {
                        "application/vnd.dataresource+json": {
                            "schema": {
                                "fields": [
                                    {
                                        "name": "ReplicatedString"
                                    }
                                ]
                            },
                            "data": [
                                {
                                    "ReplicatedString": "AAAAA"
                                }
                            ]
                        },
                        "text/html": [
                            "<table>",
                            "<tr><th>ReplicatedString</th></tr>",
                            "<tr><td>AAAAA</td></tr>",
                            "</table>"
                        ]
                    }
                },
                {
                    "output_type": "execute_result",
                    "metadata": {},
                    "execution_count": 16,
                    "data": {
                        "application/vnd.dataresource+json": {
                            "schema": {
                                "fields": [
                                    {
                                        "name": "SpacedString"
                                    }
                                ]
                            },
                            "data": [
                                {
                                    "SpacedString": "     End"
                                }
                            ]
                        },
                        "text/html": [
                            "<table>",
                            "<tr><th>SpacedString</th></tr>",
                            "<tr><td>     End</td></tr>",
                            "</table>"
                        ]
                    }
                }
            ],
            "execution_count": 16
        },
        {
            "cell_type": "markdown",
            "source": [
                "### **Few more examples for different Types of String Functions in SQL with Examples:**"
            ],
            "metadata": {
                "language": "sql",
                "azdata_cell_guid": "f9fdba79-201f-4cfa-a542-56941080b58e"
            },
            "attachments": {}
        },
        {
            "cell_type": "markdown",
            "source": [
                "**LEN() Function:** Returns the length of a string."
            ],
            "metadata": {
                "language": "sql",
                "azdata_cell_guid": "c3c16aca-468c-4438-bb09-8e517173ac07"
            },
            "attachments": {}
        },
        {
            "cell_type": "code",
            "source": [
                "   SELECT TOP 5 name, LEN(name) AS NameLength FROM employeeDetails;"
            ],
            "metadata": {
                "language": "sql",
                "azdata_cell_guid": "9d4d03ed-fec5-456d-a5ca-5f10596a125d"
            },
            "outputs": [
                {
                    "output_type": "display_data",
                    "data": {
                        "text/html": "(5 rows affected)"
                    },
                    "metadata": {}
                },
                {
                    "output_type": "display_data",
                    "data": {
                        "text/html": "Total execution time: 00:00:00.015"
                    },
                    "metadata": {}
                },
                {
                    "output_type": "execute_result",
                    "execution_count": 9,
                    "data": {
                        "application/vnd.dataresource+json": {
                            "schema": {
                                "fields": [
                                    {
                                        "name": "name"
                                    },
                                    {
                                        "name": "NameLength"
                                    }
                                ]
                            },
                            "data": [
                                {
                                    "name": "Laxman",
                                    "NameLength": "6"
                                },
                                {
                                    "name": "Padma",
                                    "NameLength": "5"
                                },
                                {
                                    "name": "Naina",
                                    "NameLength": "5"
                                },
                                {
                                    "name": "Ramulu",
                                    "NameLength": "6"
                                },
                                {
                                    "name": "Harshita",
                                    "NameLength": "8"
                                }
                            ]
                        },
                        "text/html": "<table><tr><th>name</th><th>NameLength</th></tr><tr><td>Laxman</td><td>6</td></tr><tr><td>Padma</td><td>5</td></tr><tr><td>Naina</td><td>5</td></tr><tr><td>Ramulu</td><td>6</td></tr><tr><td>Harshita</td><td>8</td></tr></table>"
                    },
                    "metadata": {}
                }
            ],
            "execution_count": 9
        },
        {
            "cell_type": "markdown",
            "source": [
                "**UPPER() and LOWER() Functions:**\n",
                "\n",
                "- UPPER() converts a string to uppercase.\n",
                "- LOWER() converts a string to lowercase."
            ],
            "metadata": {
                "language": "sql",
                "azdata_cell_guid": "d629b3ed-7230-42dc-b68c-7df72fbbc107"
            },
            "attachments": {}
        },
        {
            "cell_type": "code",
            "source": [
                "   SELECT Top 5 name, UPPER(name) AS UpperName, LOWER(name) AS LowerName FROM employeeDetails;"
            ],
            "metadata": {
                "language": "sql",
                "azdata_cell_guid": "ac1d7b68-bb22-461e-9661-06d21c485637"
            },
            "outputs": [
                {
                    "output_type": "display_data",
                    "data": {
                        "text/html": "(5 rows affected)"
                    },
                    "metadata": {}
                },
                {
                    "output_type": "display_data",
                    "data": {
                        "text/html": "Total execution time: 00:00:00.008"
                    },
                    "metadata": {}
                },
                {
                    "output_type": "execute_result",
                    "execution_count": 10,
                    "data": {
                        "application/vnd.dataresource+json": {
                            "schema": {
                                "fields": [
                                    {
                                        "name": "name"
                                    },
                                    {
                                        "name": "UpperName"
                                    },
                                    {
                                        "name": "LowerName"
                                    }
                                ]
                            },
                            "data": [
                                {
                                    "name": "Laxman",
                                    "UpperName": "LAXMAN",
                                    "LowerName": "laxman"
                                },
                                {
                                    "name": "Padma",
                                    "UpperName": "PADMA",
                                    "LowerName": "padma"
                                },
                                {
                                    "name": "Naina",
                                    "UpperName": "NAINA",
                                    "LowerName": "naina"
                                },
                                {
                                    "name": "Ramulu",
                                    "UpperName": "RAMULU",
                                    "LowerName": "ramulu"
                                },
                                {
                                    "name": "Harshita",
                                    "UpperName": "HARSHITA",
                                    "LowerName": "harshita"
                                }
                            ]
                        },
                        "text/html": "<table><tr><th>name</th><th>UpperName</th><th>LowerName</th></tr><tr><td>Laxman</td><td>LAXMAN</td><td>laxman</td></tr><tr><td>Padma</td><td>PADMA</td><td>padma</td></tr><tr><td>Naina</td><td>NAINA</td><td>naina</td></tr><tr><td>Ramulu</td><td>RAMULU</td><td>ramulu</td></tr><tr><td>Harshita</td><td>HARSHITA</td><td>harshita</td></tr></table>"
                    },
                    "metadata": {}
                }
            ],
            "execution_count": 10
        },
        {
            "cell_type": "markdown",
            "source": [
                "**SUBSTRING() Function:**\n",
                "\n",
                "- Extracts a substring from a string."
            ],
            "metadata": {
                "language": "sql",
                "azdata_cell_guid": "aca0b757-49e1-4d98-972c-4cc1c99ab303"
            },
            "attachments": {}
        },
        {
            "cell_type": "code",
            "source": [
                "SELECT TOP 5 name, SUBSTRING(name, 1, 3) AS SubName FROM employeeDetails;"
            ],
            "metadata": {
                "language": "sql",
                "azdata_cell_guid": "c3e8ad07-f28b-4635-bfb3-b7b09a498f6b"
            },
            "outputs": [
                {
                    "output_type": "display_data",
                    "data": {
                        "text/html": "(5 rows affected)"
                    },
                    "metadata": {}
                },
                {
                    "output_type": "display_data",
                    "data": {
                        "text/html": "Total execution time: 00:00:00.007"
                    },
                    "metadata": {}
                },
                {
                    "output_type": "execute_result",
                    "execution_count": 11,
                    "data": {
                        "application/vnd.dataresource+json": {
                            "schema": {
                                "fields": [
                                    {
                                        "name": "name"
                                    },
                                    {
                                        "name": "SubName"
                                    }
                                ]
                            },
                            "data": [
                                {
                                    "name": "Laxman",
                                    "SubName": "Lax"
                                },
                                {
                                    "name": "Padma",
                                    "SubName": "Pad"
                                },
                                {
                                    "name": "Naina",
                                    "SubName": "Nai"
                                },
                                {
                                    "name": "Ramulu",
                                    "SubName": "Ram"
                                },
                                {
                                    "name": "Harshita",
                                    "SubName": "Har"
                                }
                            ]
                        },
                        "text/html": "<table><tr><th>name</th><th>SubName</th></tr><tr><td>Laxman</td><td>Lax</td></tr><tr><td>Padma</td><td>Pad</td></tr><tr><td>Naina</td><td>Nai</td></tr><tr><td>Ramulu</td><td>Ram</td></tr><tr><td>Harshita</td><td>Har</td></tr></table>"
                    },
                    "metadata": {}
                }
            ],
            "execution_count": 11
        },
        {
            "cell_type": "markdown",
            "source": [
                "**CONCAT() Function:**\n",
                "\n",
                "- Concatenates two or more strings."
            ],
            "metadata": {
                "language": "sql",
                "azdata_cell_guid": "0242d171-e818-4d62-bd34-872d82593b69"
            },
            "attachments": {}
        },
        {
            "cell_type": "code",
            "source": [
                "SELECT TOP 5 name, department, CONCAT(name, ' - ', department) AS FullName FROM employeeDetails;"
            ],
            "metadata": {
                "language": "sql",
                "azdata_cell_guid": "2e0df8fa-ea28-4b7e-afbb-c4002af487a3"
            },
            "outputs": [
                {
                    "output_type": "display_data",
                    "data": {
                        "text/html": "(5 rows affected)"
                    },
                    "metadata": {}
                },
                {
                    "output_type": "display_data",
                    "data": {
                        "text/html": "Total execution time: 00:00:00.016"
                    },
                    "metadata": {}
                },
                {
                    "output_type": "execute_result",
                    "execution_count": 12,
                    "data": {
                        "application/vnd.dataresource+json": {
                            "schema": {
                                "fields": [
                                    {
                                        "name": "name"
                                    },
                                    {
                                        "name": "department"
                                    },
                                    {
                                        "name": "FullName"
                                    }
                                ]
                            },
                            "data": [
                                {
                                    "name": "Laxman",
                                    "department": "Sales",
                                    "FullName": "Laxman - Sales"
                                },
                                {
                                    "name": "Padma",
                                    "department": "Finance",
                                    "FullName": "Padma - Finance"
                                },
                                {
                                    "name": "Naina",
                                    "department": "IT",
                                    "FullName": "Naina - IT"
                                },
                                {
                                    "name": "Ramulu",
                                    "department": "HR",
                                    "FullName": "Ramulu - HR"
                                },
                                {
                                    "name": "Harshita",
                                    "department": "Marketing",
                                    "FullName": "Harshita - Marketing"
                                }
                            ]
                        },
                        "text/html": "<table><tr><th>name</th><th>department</th><th>FullName</th></tr><tr><td>Laxman</td><td>Sales</td><td>Laxman - Sales</td></tr><tr><td>Padma</td><td>Finance</td><td>Padma - Finance</td></tr><tr><td>Naina</td><td>IT</td><td>Naina - IT</td></tr><tr><td>Ramulu</td><td>HR</td><td>Ramulu - HR</td></tr><tr><td>Harshita</td><td>Marketing</td><td>Harshita - Marketing</td></tr></table>"
                    },
                    "metadata": {}
                }
            ],
            "execution_count": 12
        },
        {
            "cell_type": "markdown",
            "source": [
                "**CHARINDEX()  Function:**\n",
                "\n",
                "- CHARINDEX() returns the starting position of a substring in a string."
            ],
            "metadata": {
                "language": "sql",
                "azdata_cell_guid": "6a00987d-5c42-4263-a418-89b2417962f8"
            },
            "attachments": {}
        },
        {
            "cell_type": "code",
            "source": [
                "SELECT TOP 5 name, CHARINDEX('a', name) AS PositionOfA FROM employeeDetails;"
            ],
            "metadata": {
                "language": "sql",
                "azdata_cell_guid": "36365e71-7d61-419f-974a-836c594ebeb1"
            },
            "outputs": [
                {
                    "output_type": "display_data",
                    "data": {
                        "text/html": "(5 rows affected)"
                    },
                    "metadata": {}
                },
                {
                    "output_type": "display_data",
                    "data": {
                        "text/html": "Total execution time: 00:00:00.010"
                    },
                    "metadata": {}
                },
                {
                    "output_type": "execute_result",
                    "execution_count": 13,
                    "data": {
                        "application/vnd.dataresource+json": {
                            "schema": {
                                "fields": [
                                    {
                                        "name": "name"
                                    },
                                    {
                                        "name": "PositionOfA"
                                    }
                                ]
                            },
                            "data": [
                                {
                                    "name": "Laxman",
                                    "PositionOfA": "2"
                                },
                                {
                                    "name": "Padma",
                                    "PositionOfA": "2"
                                },
                                {
                                    "name": "Naina",
                                    "PositionOfA": "2"
                                },
                                {
                                    "name": "Ramulu",
                                    "PositionOfA": "2"
                                },
                                {
                                    "name": "Harshita",
                                    "PositionOfA": "2"
                                }
                            ]
                        },
                        "text/html": "<table><tr><th>name</th><th>PositionOfA</th></tr><tr><td>Laxman</td><td>2</td></tr><tr><td>Padma</td><td>2</td></tr><tr><td>Naina</td><td>2</td></tr><tr><td>Ramulu</td><td>2</td></tr><tr><td>Harshita</td><td>2</td></tr></table>"
                    },
                    "metadata": {}
                }
            ],
            "execution_count": 13
        },
        {
            "cell_type": "markdown",
            "source": [
                "**REPLACE() Function:**\n",
                "\n",
                "- Replaces occurrences of a specified string."
            ],
            "metadata": {
                "language": "sql",
                "azdata_cell_guid": "fcfe4956-c607-45c2-bdb4-0b1e6e61ae85"
            },
            "attachments": {}
        },
        {
            "cell_type": "code",
            "source": [
                "   SELECT TOP 5 name, REPLACE(name, 'a', 'X') AS NameWithX FROM employeeDetails;"
            ],
            "metadata": {
                "language": "sql",
                "azdata_cell_guid": "3fe48333-f718-4ec8-8d74-bb0ed6b5a517"
            },
            "outputs": [
                {
                    "output_type": "display_data",
                    "data": {
                        "text/html": "(5 rows affected)"
                    },
                    "metadata": {}
                },
                {
                    "output_type": "display_data",
                    "data": {
                        "text/html": "Total execution time: 00:00:00.009"
                    },
                    "metadata": {}
                },
                {
                    "output_type": "execute_result",
                    "execution_count": 15,
                    "data": {
                        "application/vnd.dataresource+json": {
                            "schema": {
                                "fields": [
                                    {
                                        "name": "name"
                                    },
                                    {
                                        "name": "NameWithX"
                                    }
                                ]
                            },
                            "data": [
                                {
                                    "name": "Laxman",
                                    "NameWithX": "LXxmXn"
                                },
                                {
                                    "name": "Padma",
                                    "NameWithX": "PXdmX"
                                },
                                {
                                    "name": "Naina",
                                    "NameWithX": "NXinX"
                                },
                                {
                                    "name": "Ramulu",
                                    "NameWithX": "RXmulu"
                                },
                                {
                                    "name": "Harshita",
                                    "NameWithX": "HXrshitX"
                                }
                            ]
                        },
                        "text/html": "<table><tr><th>name</th><th>NameWithX</th></tr><tr><td>Laxman</td><td>LXxmXn</td></tr><tr><td>Padma</td><td>PXdmX</td></tr><tr><td>Naina</td><td>NXinX</td></tr><tr><td>Ramulu</td><td>RXmulu</td></tr><tr><td>Harshita</td><td>HXrshitX</td></tr></table>"
                    },
                    "metadata": {}
                }
            ],
            "execution_count": 15
        },
        {
            "cell_type": "markdown",
            "source": [
                "**LTRIM() and RTRIM() Functions:**\n",
                "\n",
                "- LTRIM() removes leading spaces from a string.\n",
                "- RTRIM() removes trailing spaces from a string."
            ],
            "metadata": {
                "language": "sql",
                "azdata_cell_guid": "7640b3e6-5eee-4d9d-8754-7978ffa2428b"
            },
            "attachments": {}
        },
        {
            "cell_type": "code",
            "source": [
                "SELECT LTRIM('  Hello') AS TrimmedLeft, RTRIM('Hello  ') AS TrimmedRight;"
            ],
            "metadata": {
                "language": "sql",
                "azdata_cell_guid": "7e509937-6eed-41b7-8d0e-57969af9f982"
            },
            "outputs": [
                {
                    "output_type": "display_data",
                    "data": {
                        "text/html": "(1 row affected)"
                    },
                    "metadata": {}
                },
                {
                    "output_type": "display_data",
                    "data": {
                        "text/html": "Total execution time: 00:00:00.006"
                    },
                    "metadata": {}
                },
                {
                    "output_type": "execute_result",
                    "execution_count": 16,
                    "data": {
                        "application/vnd.dataresource+json": {
                            "schema": {
                                "fields": [
                                    {
                                        "name": "TrimmedLeft"
                                    },
                                    {
                                        "name": "TrimmedRight"
                                    }
                                ]
                            },
                            "data": [
                                {
                                    "TrimmedLeft": "Hello",
                                    "TrimmedRight": "Hello"
                                }
                            ]
                        },
                        "text/html": "<table><tr><th>TrimmedLeft</th><th>TrimmedRight</th></tr><tr><td>Hello</td><td>Hello</td></tr></table>"
                    },
                    "metadata": {}
                }
            ],
            "execution_count": 16
        },
        {
            "cell_type": "markdown",
            "source": [
                "**LEFT() and RIGHT() Functions:**\n",
                "\n",
                "   \\- LEFT() returns a specified number of characters from the beginning of a string.\n",
                "\n",
                "   \\- RIGHT() returns a specified number of characters from the end of a string."
            ],
            "metadata": {
                "language": "sql",
                "azdata_cell_guid": "364d5ff0-2691-4006-93e2-afb23bbf0b1d"
            },
            "attachments": {}
        },
        {
            "cell_type": "code",
            "source": [
                "SELECT TOP 5 name, LEFT(name, 3) AS Left3, RIGHT(name, 3) AS Right3 FROM employeeDetails;"
            ],
            "metadata": {
                "language": "sql",
                "azdata_cell_guid": "7cf76d5d-126f-4864-8060-d662b742b596"
            },
            "outputs": [
                {
                    "output_type": "display_data",
                    "data": {
                        "text/html": "(5 rows affected)"
                    },
                    "metadata": {}
                },
                {
                    "output_type": "display_data",
                    "data": {
                        "text/html": "Total execution time: 00:00:00.018"
                    },
                    "metadata": {}
                },
                {
                    "output_type": "execute_result",
                    "execution_count": 17,
                    "data": {
                        "application/vnd.dataresource+json": {
                            "schema": {
                                "fields": [
                                    {
                                        "name": "name"
                                    },
                                    {
                                        "name": "Left3"
                                    },
                                    {
                                        "name": "Right3"
                                    }
                                ]
                            },
                            "data": [
                                {
                                    "name": "Laxman",
                                    "Left3": "Lax",
                                    "Right3": "man"
                                },
                                {
                                    "name": "Padma",
                                    "Left3": "Pad",
                                    "Right3": "dma"
                                },
                                {
                                    "name": "Naina",
                                    "Left3": "Nai",
                                    "Right3": "ina"
                                },
                                {
                                    "name": "Ramulu",
                                    "Left3": "Ram",
                                    "Right3": "ulu"
                                },
                                {
                                    "name": "Harshita",
                                    "Left3": "Har",
                                    "Right3": "ita"
                                }
                            ]
                        },
                        "text/html": "<table><tr><th>name</th><th>Left3</th><th>Right3</th></tr><tr><td>Laxman</td><td>Lax</td><td>man</td></tr><tr><td>Padma</td><td>Pad</td><td>dma</td></tr><tr><td>Naina</td><td>Nai</td><td>ina</td></tr><tr><td>Ramulu</td><td>Ram</td><td>ulu</td></tr><tr><td>Harshita</td><td>Har</td><td>ita</td></tr></table>"
                    },
                    "metadata": {}
                }
            ],
            "execution_count": 17
        },
        {
            "cell_type": "markdown",
            "source": [
                "**STUFF() Function:**\n",
                "\n",
                "   \\- Deletes a specified length of characters and then inserts a new set of characters at a specified starting point."
            ],
            "metadata": {
                "language": "sql",
                "azdata_cell_guid": "2647beaa-9a3f-49ad-a05f-4952af773a6c"
            },
            "attachments": {}
        },
        {
            "cell_type": "code",
            "source": [
                "SELECT TOP 5 STUFF(name, 3, 2, 'XX') AS ModifiedName FROM employeeDetails;"
            ],
            "metadata": {
                "language": "sql",
                "azdata_cell_guid": "c8594635-2695-46ca-9693-cf17221e47cc"
            },
            "outputs": [
                {
                    "output_type": "display_data",
                    "data": {
                        "text/html": "(5 rows affected)"
                    },
                    "metadata": {}
                },
                {
                    "output_type": "display_data",
                    "data": {
                        "text/html": "Total execution time: 00:00:00.008"
                    },
                    "metadata": {}
                },
                {
                    "output_type": "execute_result",
                    "execution_count": 18,
                    "data": {
                        "application/vnd.dataresource+json": {
                            "schema": {
                                "fields": [
                                    {
                                        "name": "ModifiedName"
                                    }
                                ]
                            },
                            "data": [
                                {
                                    "ModifiedName": "LaXXan"
                                },
                                {
                                    "ModifiedName": "PaXXa"
                                },
                                {
                                    "ModifiedName": "NaXXa"
                                },
                                {
                                    "ModifiedName": "RaXXlu"
                                },
                                {
                                    "ModifiedName": "HaXXhita"
                                }
                            ]
                        },
                        "text/html": "<table><tr><th>ModifiedName</th></tr><tr><td>LaXXan</td></tr><tr><td>PaXXa</td></tr><tr><td>NaXXa</td></tr><tr><td>RaXXlu</td></tr><tr><td>HaXXhita</td></tr></table>"
                    },
                    "metadata": {}
                }
            ],
            "execution_count": 18
        },
        {
            "cell_type": "markdown",
            "source": [
                "**REPLICATE() Function:**\n",
                "\n",
                "   \\- Repeats a string a specified number of times."
            ],
            "metadata": {
                "language": "sql",
                "azdata_cell_guid": "89f77e16-990a-40c8-a3a7-9996f46da5b8"
            },
            "attachments": {}
        },
        {
            "cell_type": "code",
            "source": [
                "SELECT TOP 5 name, REPLICATE(name, 2) AS RepeatedName FROM employeeDetails;"
            ],
            "metadata": {
                "language": "sql",
                "azdata_cell_guid": "18c4e76c-b210-4dd3-a4cc-a2da90034aa4"
            },
            "outputs": [
                {
                    "output_type": "display_data",
                    "data": {
                        "text/html": "(5 rows affected)"
                    },
                    "metadata": {}
                },
                {
                    "output_type": "display_data",
                    "data": {
                        "text/html": "Total execution time: 00:00:00.008"
                    },
                    "metadata": {}
                },
                {
                    "output_type": "execute_result",
                    "execution_count": 19,
                    "data": {
                        "application/vnd.dataresource+json": {
                            "schema": {
                                "fields": [
                                    {
                                        "name": "name"
                                    },
                                    {
                                        "name": "RepeatedName"
                                    }
                                ]
                            },
                            "data": [
                                {
                                    "name": "Laxman",
                                    "RepeatedName": "LaxmanLaxman"
                                },
                                {
                                    "name": "Padma",
                                    "RepeatedName": "PadmaPadma"
                                },
                                {
                                    "name": "Naina",
                                    "RepeatedName": "NainaNaina"
                                },
                                {
                                    "name": "Ramulu",
                                    "RepeatedName": "RamuluRamulu"
                                },
                                {
                                    "name": "Harshita",
                                    "RepeatedName": "HarshitaHarshita"
                                }
                            ]
                        },
                        "text/html": "<table><tr><th>name</th><th>RepeatedName</th></tr><tr><td>Laxman</td><td>LaxmanLaxman</td></tr><tr><td>Padma</td><td>PadmaPadma</td></tr><tr><td>Naina</td><td>NainaNaina</td></tr><tr><td>Ramulu</td><td>RamuluRamulu</td></tr><tr><td>Harshita</td><td>HarshitaHarshita</td></tr></table>"
                    },
                    "metadata": {}
                }
            ],
            "execution_count": 19
        },
        {
            "cell_type": "markdown",
            "source": [
                "**LEN() with DATALENGTH() Function:**\n",
                "\n",
                "   \\- LEN() returns the number of characters in a string, while DATALENGTH() returns the length in bytes."
            ],
            "metadata": {
                "language": "sql",
                "azdata_cell_guid": "9b770acb-541a-4b75-956e-8b10f119ad69"
            },
            "attachments": {}
        },
        {
            "cell_type": "code",
            "source": [
                "SELECT TOP 5 name, LEN(name) AS CharLength, DATALENGTH(name) AS ByteLength FROM employeeDetails;"
            ],
            "metadata": {
                "language": "sql",
                "azdata_cell_guid": "c3b1ce75-bd3c-4b1c-a5f3-e0b26fa8b874"
            },
            "outputs": [
                {
                    "output_type": "display_data",
                    "data": {
                        "text/html": "(5 rows affected)"
                    },
                    "metadata": {}
                },
                {
                    "output_type": "display_data",
                    "data": {
                        "text/html": "Total execution time: 00:00:00.021"
                    },
                    "metadata": {}
                },
                {
                    "output_type": "execute_result",
                    "execution_count": 20,
                    "data": {
                        "application/vnd.dataresource+json": {
                            "schema": {
                                "fields": [
                                    {
                                        "name": "name"
                                    },
                                    {
                                        "name": "CharLength"
                                    },
                                    {
                                        "name": "ByteLength"
                                    }
                                ]
                            },
                            "data": [
                                {
                                    "name": "Laxman",
                                    "CharLength": "6",
                                    "ByteLength": "6"
                                },
                                {
                                    "name": "Padma",
                                    "CharLength": "5",
                                    "ByteLength": "5"
                                },
                                {
                                    "name": "Naina",
                                    "CharLength": "5",
                                    "ByteLength": "5"
                                },
                                {
                                    "name": "Ramulu",
                                    "CharLength": "6",
                                    "ByteLength": "6"
                                },
                                {
                                    "name": "Harshita",
                                    "CharLength": "8",
                                    "ByteLength": "8"
                                }
                            ]
                        },
                        "text/html": "<table><tr><th>name</th><th>CharLength</th><th>ByteLength</th></tr><tr><td>Laxman</td><td>6</td><td>6</td></tr><tr><td>Padma</td><td>5</td><td>5</td></tr><tr><td>Naina</td><td>5</td><td>5</td></tr><tr><td>Ramulu</td><td>6</td><td>6</td></tr><tr><td>Harshita</td><td>8</td><td>8</td></tr></table>"
                    },
                    "metadata": {}
                }
            ],
            "execution_count": 20
        },
        {
            "cell_type": "markdown",
            "source": [
                "**SPACE() Function:**\n",
                "\n",
                "   \\- Returns a string consisting of a specified number of spaces."
            ],
            "metadata": {
                "language": "sql",
                "azdata_cell_guid": "5e9a02b4-26f9-4719-bd30-03236f4c56bb"
            },
            "attachments": {}
        },
        {
            "cell_type": "code",
            "source": [
                "SELECT TOP 5 SPACE(5) + name AS PaddedName FROM employeeDetails;"
            ],
            "metadata": {
                "language": "sql",
                "azdata_cell_guid": "31bd4ba0-2426-4343-90f5-7d5346e85c16"
            },
            "outputs": [
                {
                    "output_type": "display_data",
                    "data": {
                        "text/html": "(5 rows affected)"
                    },
                    "metadata": {}
                },
                {
                    "output_type": "display_data",
                    "data": {
                        "text/html": "Total execution time: 00:00:00.009"
                    },
                    "metadata": {}
                },
                {
                    "output_type": "execute_result",
                    "execution_count": 21,
                    "data": {
                        "application/vnd.dataresource+json": {
                            "schema": {
                                "fields": [
                                    {
                                        "name": "PaddedName"
                                    }
                                ]
                            },
                            "data": [
                                {
                                    "PaddedName": "     Laxman"
                                },
                                {
                                    "PaddedName": "     Padma"
                                },
                                {
                                    "PaddedName": "     Naina"
                                },
                                {
                                    "PaddedName": "     Ramulu"
                                },
                                {
                                    "PaddedName": "     Harshita"
                                }
                            ]
                        },
                        "text/html": "<table><tr><th>PaddedName</th></tr><tr><td>     Laxman</td></tr><tr><td>     Padma</td></tr><tr><td>     Naina</td></tr><tr><td>     Ramulu</td></tr><tr><td>     Harshita</td></tr></table>"
                    },
                    "metadata": {}
                }
            ],
            "execution_count": 21
        },
        {
            "cell_type": "markdown",
            "source": [
                "### **CONVERT() and CAST() Functions**\n",
                "\n",
                "**Purpose**:\n",
                "- Both convert data types, useful for handling string representations of dates or numbers.\n",
                "\n",
                "**CONVERT()**:\n",
                "- **Syntax**: `CONVERT(data_type, expression, [style])`\n",
                "- **Key Point**: Optional third argument (`style`) formats date and time values.\n",
                "\n",
                "**CAST()**:\n",
                "- **Syntax**: `CAST(expression AS data_type)`\n",
                "- **Key Point**: Uses `AS` keyword for target data type, simpler syntax."
            ],
            "metadata": {
                "language": "sql",
                "azdata_cell_guid": "4cbba6c1-0303-426c-a8fa-73ca7cb247f4"
            },
            "attachments": {}
        },
        {
            "cell_type": "markdown",
            "source": [
                "#### Example of convert() with optional third parameter"
            ],
            "metadata": {
                "language": "sql",
                "azdata_cell_guid": "9cef028f-e99b-4254-b33b-1a43fb20c9ec"
            },
            "attachments": {}
        },
        {
            "cell_type": "code",
            "source": [
                "CREATE TABLE str_orders (\n",
                "    order_id INT,\n",
                "    order_date DATETIME\n",
                ");\n",
                "\n",
                "INSERT INTO str_orders (order_id, order_date) VALUES \n",
                "(1, '2023-06-30 14:30:00'),\n",
                "(2, '2024-01-15 09:45:00'),\n",
                "(3, '2025-12-25 18:00:00');\n",
                ""
            ],
            "metadata": {
                "language": "sql",
                "azdata_cell_guid": "6a2ed38a-0eff-4ab0-8c36-983dfcafa32d"
            },
            "outputs": [
                {
                    "output_type": "display_data",
                    "data": {
                        "text/html": "(3 rows affected)"
                    },
                    "metadata": {}
                },
                {
                    "output_type": "display_data",
                    "data": {
                        "text/html": "Total execution time: 00:00:00.083"
                    },
                    "metadata": {}
                }
            ],
            "execution_count": 17
        },
        {
            "cell_type": "code",
            "source": [
                "SELECT * FROM str_orders"
            ],
            "metadata": {
                "language": "sql",
                "azdata_cell_guid": "7a9dc9dd-2655-413b-9fb3-ba28ca4e2ea5"
            },
            "outputs": [
                {
                    "output_type": "display_data",
                    "data": {
                        "text/html": "(3 rows affected)"
                    },
                    "metadata": {}
                },
                {
                    "output_type": "display_data",
                    "data": {
                        "text/html": "Total execution time: 00:00:00.031"
                    },
                    "metadata": {}
                },
                {
                    "output_type": "execute_result",
                    "metadata": {},
                    "execution_count": 18,
                    "data": {
                        "application/vnd.dataresource+json": {
                            "schema": {
                                "fields": [
                                    {
                                        "name": "order_id"
                                    },
                                    {
                                        "name": "order_date"
                                    }
                                ]
                            },
                            "data": [
                                {
                                    "order_id": "1",
                                    "order_date": "2023-06-30 14:30:00.000"
                                },
                                {
                                    "order_id": "2",
                                    "order_date": "2024-01-15 09:45:00.000"
                                },
                                {
                                    "order_id": "3",
                                    "order_date": "2025-12-25 18:00:00.000"
                                }
                            ]
                        },
                        "text/html": [
                            "<table>",
                            "<tr><th>order_id</th><th>order_date</th></tr>",
                            "<tr><td>1</td><td>2023-06-30 14:30:00.000</td></tr>",
                            "<tr><td>2</td><td>2024-01-15 09:45:00.000</td></tr>",
                            "<tr><td>3</td><td>2025-12-25 18:00:00.000</td></tr>",
                            "</table>"
                        ]
                    }
                }
            ],
            "execution_count": 18
        },
        {
            "cell_type": "code",
            "source": [
                "SELECT order_id, \n",
                "       CONVERT(VARCHAR, order_date, 101) AS FormattedDate \n",
                "FROM orders;\n",
                ""
            ],
            "metadata": {
                "language": "sql",
                "azdata_cell_guid": "e929dd9b-515a-4af0-8afa-b5ff247aef7a"
            },
            "outputs": [
                {
                    "output_type": "display_data",
                    "data": {
                        "text/html": "(5 rows affected)"
                    },
                    "metadata": {}
                },
                {
                    "output_type": "display_data",
                    "data": {
                        "text/html": "Total execution time: 00:00:00.033"
                    },
                    "metadata": {}
                },
                {
                    "output_type": "execute_result",
                    "metadata": {},
                    "execution_count": 19,
                    "data": {
                        "application/vnd.dataresource+json": {
                            "schema": {
                                "fields": [
                                    {
                                        "name": "order_id"
                                    },
                                    {
                                        "name": "FormattedDate"
                                    }
                                ]
                            },
                            "data": [
                                {
                                    "order_id": "O-01",
                                    "FormattedDate": "08/01/2023"
                                },
                                {
                                    "order_id": "O-02",
                                    "FormattedDate": "06/01/2023"
                                },
                                {
                                    "order_id": "O-03",
                                    "FormattedDate": "03/21/2023"
                                },
                                {
                                    "order_id": "O-04",
                                    "FormattedDate": "07/01/2023"
                                },
                                {
                                    "order_id": "O-05",
                                    "FormattedDate": "01/01/2023"
                                }
                            ]
                        },
                        "text/html": [
                            "<table>",
                            "<tr><th>order_id</th><th>FormattedDate</th></tr>",
                            "<tr><td>O-01</td><td>08/01/2023</td></tr>",
                            "<tr><td>O-02</td><td>06/01/2023</td></tr>",
                            "<tr><td>O-03</td><td>03/21/2023</td></tr>",
                            "<tr><td>O-04</td><td>07/01/2023</td></tr>",
                            "<tr><td>O-05</td><td>01/01/2023</td></tr>",
                            "</table>"
                        ]
                    }
                }
            ],
            "execution_count": 19
        },
        {
            "cell_type": "markdown",
            "source": [
                "### **Differences Between CONVERT() and CAST()**\n",
                "\n",
                "| Feature        | CONVERT()                                | CAST()                                |\n",
                "|----------------|------------------------------------------|---------------------------------------|\n",
                "| Syntax         | `CONVERT(data_type, expression, [style])`| `CAST(expression AS data_type)`       |\n",
                "| Style Argument | Yes, for formatting dates and times.     | No                                   |\n",
                "| Standard       | T-SQL (Transact-SQL) specific.           | ANSI SQL standard.                   |\n",
                "| Readability    | More complex due to optional style.      | Simpler and more readable.           |\n",
                "| Use Case       | Preferred when specific formatting is needed. | Preferred for standard type conversions. |\n",
                ""
            ],
            "metadata": {
                "language": "sql",
                "azdata_cell_guid": "9d2c1e78-5f5e-46ce-a9f8-dc5268d23723"
            },
            "attachments": {}
        },
        {
            "cell_type": "markdown",
            "source": [
                "### **Can Convert() and Cast() be used Interchangeability ?**\n",
                "\n",
                "- **Yes, but with Considerations**:\n",
                "  - **Standard Conversions**: Both can be used interchangeably for standard type conversions.\n",
                "  - **Formatting**: Use `CONVERT()` when you need specific date or time formatting using the `style` parameter.\n",
                "  - **Portability**: `CAST()` is preferred for better portability across different SQL databases because it adheres to the ANSI SQL standard.\n",
                "\n",
                "### Example Usage\n",
                "\n",
                "**Using CONVERT()**:\n",
                "```sql\n",
                "SELECT CONVERT(VARCHAR, GETDATE(), 101) AS FormattedDate;\n",
                "```\n",
                "- **Explanation**: Converts the current date to `VARCHAR` in `mm/dd/yyyy` format.\n",
                "\n",
                "**Using CAST()**:\n",
                "```sql\n",
                "SELECT CAST(12345 AS VARCHAR) AS CastedString;\n",
                "```\n",
                "- **Explanation**: Converts the integer `12345` to a string.\n",
                "\n",
                "Both functions serve the purpose of data type conversion but are chosen based on the specific needs of formatting and standardization."
            ],
            "metadata": {
                "azdata_cell_guid": "c79e324a-1db9-4187-8977-86aa3875da91"
            },
            "attachments": {}
        },
        {
            "cell_type": "markdown",
            "source": [
                "### **What are the different styling parameters available for convert() ?**"
            ],
            "metadata": {
                "language": "sql",
                "azdata_cell_guid": "fdc6cb21-2814-4835-9d54-4034b55b0f31"
            },
            "attachments": {}
        },
        {
            "cell_type": "markdown",
            "source": [
                "\n",
                "\n",
                "| Style Code | Date Format        | Example           | Description                                      |\n",
                "|------------|--------------------|-------------------|--------------------------------------------------|\n",
                "| 100        | mon dd yyyy hh:miAM (or PM) | Jan  1 2000 12:00AM | Standard format for datetime. |\n",
                "| 101        | mm/dd/yyyy         | 12/31/2024        | U.S. standard date format.                        |\n",
                "| 103        | dd/mm/yyyy         | 31/12/2024        | British/French standard date format.              |\n",
                "| 104        | dd.mm.yyyy         | 31.12.2024        | German standard date format.                      |\n",
                "| 105        | dd-mm-yyyy         | 31-12-2024        | Italian standard date format.                     |\n",
                "| 106        | dd mon yyyy        | 31 Dec 2024       | European standard date format.                    |\n",
                "| 107        | Mon dd, yyyy       | Dec 31, 2024      | U.S. standard with month abbreviation.            |\n",
                "| 110        | mm-dd-yyyy         | 12-31-2024        | U.S. standard date format with dashes.            |\n",
                "| 111        | yyyy/mm/dd         | 2024/12/31        | Japanese standard date format.                    |\n",
                "| 112        | yyyymmdd           | 20241231          | ISO standard date format without delimiters.      |\n",
                "| 120        | yyyy-mm-dd hh:mi:ss| 2024-12-31 12:00:00 | ODBC canonical format.                         |\n",
                "| 121        | yyyy-mm-dd hh:mi:ss.mmm | 2024-12-31 12:00:00.000 | ODBC canonical with milliseconds.              |\n",
                "| 126        | yyyy-mm-ddThh:mm:ss | 2024-12-31T12:00:00 | ISO 8601 format.                              |\n",
                "| 130        | dd mon yyyy hh:mi:ss:mmmAM (or PM) | 31 Dec 2024 12:00:00:000AM | Hijri (Islamic) calendar format.  |\n",
                "| 131        | dd/mm/yyyy hh:mi:ss:mmmAM (or PM) | 31/12/2024 12:00:00:000AM | Hijri (Islamic) calendar format.  |\n",
                ""
            ],
            "metadata": {
                "language": "sql",
                "azdata_cell_guid": "38f14841-c742-421f-a501-9b7f531f6d19"
            },
            "attachments": {}
        },
        {
            "cell_type": "markdown",
            "source": [
                "Here are some additional popular style codes for the `CONVERT()` function in SQL, along with their corresponding date formats:\n",
                "\n",
                "| Style Code | Date Format        | Example           | Description                                      |\n",
                "|------------|--------------------|-------------------|--------------------------------------------------|\n",
                "| 100        | mon dd yyyy hh:miAM (or PM) | Jan  1 2000 12:00AM | Standard format for datetime. |\n",
                "| 101        | mm/dd/yyyy         | 12/31/2024        | U.S. standard date format.                        |\n",
                "| 103        | dd/mm/yyyy         | 31/12/2024        | British/French standard date format.              |\n",
                "| 104        | dd.mm.yyyy         | 31.12.2024        | German standard date format.                      |\n",
                "| 105        | dd-mm-yyyy         | 31-12-2024        | Italian standard date format.                     |\n",
                "| 106        | dd mon yyyy        | 31 Dec 2024       | European standard date format.                    |\n",
                "| 107        | Mon dd, yyyy       | Dec 31, 2024      | U.S. standard with month abbreviation.            |\n",
                "| 110        | mm-dd-yyyy         | 12-31-2024        | U.S. standard date format with dashes.            |\n",
                "| 111        | yyyy/mm/dd         | 2024/12/31        | Japanese standard date format.                    |\n",
                "| 112        | yyyymmdd           | 20241231          | ISO standard date format without delimiters.      |\n",
                "| 120        | yyyy-mm-dd hh:mi:ss| 2024-12-31 12:00:00 | ODBC canonical format.                         |\n",
                "| 121        | yyyy-mm-dd hh:mi:ss.mmm | 2024-12-31 12:00:00.000 | ODBC canonical with milliseconds.              |\n",
                "| 126        | yyyy-mm-ddThh:mm:ss | 2024-12-31T12:00:00 | ISO 8601 format.                              |\n",
                "| 130        | dd mon yyyy hh:mi:ss:mmmAM (or PM) | 31 Dec 2024 12:00:00:000AM | Hijri (Islamic) calendar format.  |\n",
                "| 131        | dd/mm/yyyy hh:mi:ss:mmmAM (or PM) | 31/12/2024 12:00:00:000AM | Hijri (Islamic) calendar format.  |\n",
                "\n",
                "### Example Usage:\n",
                "\n",
                "```sql\n",
                "SELECT \n",
                "    CONVERT(VARCHAR, GETDATE(), 100) AS Style100,\n",
                "    CONVERT(VARCHAR, GETDATE(), 103) AS Style103,\n",
                "    CONVERT(VARCHAR, GETDATE(), 112) AS Style112,\n",
                "    CONVERT(VARCHAR, GETDATE(), 126) AS Style126;\n",
                "```\n",
                "\n",
                "### Output:\n",
                "\n",
                "| Style100                | Style103   | Style112   | Style126             |\n",
                "|-------------------------|------------|------------|----------------------|\n",
                "| Jan  1 2000 12:00AM     | 31/12/2024 | 20241231   | 2024-12-31T12:00:00  |\n",
                "\n",
                ""
            ],
            "metadata": {
                "language": "sql",
                "azdata_cell_guid": "02e1e1b0-a911-4fd0-be3b-8b61f68ccbd9"
            },
            "attachments": {}
        },
        {
            "cell_type": "code",
            "source": [
                "SELECT \n",
                "    CONVERT(VARCHAR, GETDATE(), 100) AS Style100,\n",
                "    CONVERT(VARCHAR, GETDATE(), 103) AS Style103,\n",
                "    CONVERT(VARCHAR, GETDATE(), 112) AS Style112,\n",
                "    CONVERT(VARCHAR, GETDATE(), 126) AS Style126;"
            ],
            "metadata": {
                "azdata_cell_guid": "ae56ccd0-ea16-47ca-ab48-59084ad41ec9",
                "language": "sql"
            },
            "outputs": [
                {
                    "output_type": "display_data",
                    "data": {
                        "text/html": "(1 row affected)"
                    },
                    "metadata": {}
                },
                {
                    "output_type": "display_data",
                    "data": {
                        "text/html": "Total execution time: 00:00:00.004"
                    },
                    "metadata": {}
                },
                {
                    "output_type": "execute_result",
                    "metadata": {},
                    "execution_count": 20,
                    "data": {
                        "application/vnd.dataresource+json": {
                            "schema": {
                                "fields": [
                                    {
                                        "name": "Style100"
                                    },
                                    {
                                        "name": "Style103"
                                    },
                                    {
                                        "name": "Style112"
                                    },
                                    {
                                        "name": "Style126"
                                    }
                                ]
                            },
                            "data": [
                                {
                                    "Style100": "Jun 30 2024  1:09PM",
                                    "Style103": "30/06/2024",
                                    "Style112": "20240630",
                                    "Style126": "2024-06-30T13:09:13.480"
                                }
                            ]
                        },
                        "text/html": [
                            "<table>",
                            "<tr><th>Style100</th><th>Style103</th><th>Style112</th><th>Style126</th></tr>",
                            "<tr><td>Jun 30 2024  1:09PM</td><td>30/06/2024</td><td>20240630</td><td>2024-06-30T13:09:13.480</td></tr>",
                            "</table>"
                        ]
                    }
                }
            ],
            "execution_count": 20
        },
        {
            "cell_type": "code",
            "source": [
                "SELECT TOP 5 name, CONVERT(VARCHAR, MonthlySalary) AS MonthlySalaryStr, CAST(age AS VARCHAR) AS AgeStr FROM employeeDetails;"
            ],
            "metadata": {
                "language": "sql",
                "azdata_cell_guid": "000990c0-518d-4a58-b14d-c5d29699f5b8"
            },
            "outputs": [
                {
                    "output_type": "display_data",
                    "data": {
                        "text/html": "(5 rows affected)"
                    },
                    "metadata": {}
                },
                {
                    "output_type": "display_data",
                    "data": {
                        "text/html": "Total execution time: 00:00:00.010"
                    },
                    "metadata": {}
                },
                {
                    "output_type": "execute_result",
                    "execution_count": 27,
                    "data": {
                        "application/vnd.dataresource+json": {
                            "schema": {
                                "fields": [
                                    {
                                        "name": "name"
                                    },
                                    {
                                        "name": "MonthlySalaryStr"
                                    },
                                    {
                                        "name": "AgeStr"
                                    }
                                ]
                            },
                            "data": [
                                {
                                    "name": "Laxman",
                                    "MonthlySalaryStr": "416",
                                    "AgeStr": "27"
                                },
                                {
                                    "name": "Padma",
                                    "MonthlySalaryStr": "500",
                                    "AgeStr": "33"
                                },
                                {
                                    "name": "Naina",
                                    "MonthlySalaryStr": "625",
                                    "AgeStr": "41"
                                },
                                {
                                    "name": "Ramulu",
                                    "MonthlySalaryStr": "541",
                                    "AgeStr": "36"
                                },
                                {
                                    "name": "Harshita",
                                    "MonthlySalaryStr": "458",
                                    "AgeStr": "30"
                                }
                            ]
                        },
                        "text/html": "<table><tr><th>name</th><th>MonthlySalaryStr</th><th>AgeStr</th></tr><tr><td>Laxman</td><td>416</td><td>27</td></tr><tr><td>Padma</td><td>500</td><td>33</td></tr><tr><td>Naina</td><td>625</td><td>41</td></tr><tr><td>Ramulu</td><td>541</td><td>36</td></tr><tr><td>Harshita</td><td>458</td><td>30</td></tr></table>"
                    },
                    "metadata": {}
                }
            ],
            "execution_count": 27
        },
        {
            "cell_type": "markdown",
            "source": [
                "### **FORMAT() Function**\n",
                "\n",
                "**Purpose**:\n",
                "- The `FORMAT()` function formats a value according to a specified format and culture.\n",
                "\n",
                "### Syntax:\n",
                "```sql\n",
                "FORMAT(value, format [, culture])\n",
                "```\n",
                "- **value**: The value to be formatted (can be a date, number, etc.).\n",
                "- **format**: A string that specifies the format (e.g., `\"yyyy-MM-dd\"`, `\"C\"` for currency).\n",
                "- **culture**: Optional. Specifies the culture for formatting (e.g., `\"en-US\"`, `\"fr-FR\"`).\n",
                "\n",
                "### Example:\n",
                "\n",
                "**Table: `sales`**\n",
                "```sql\n",
                "CREATE TABLE sales (\n",
                "    sale_id INT,\n",
                "    sale_date DATETIME,\n",
                "    amount DECIMAL(10, 2)\n",
                ");\n",
                "\n",
                "INSERT INTO sales (sale_id, sale_date, amount) VALUES \n",
                "(1, '2024-06-30 14:30:00', 1234.56),\n",
                "(2, '2024-07-01 09:45:00', 7890.12);\n",
                "```\n",
                "\n",
                "**Using FORMAT()**:\n",
                "```sql\n",
                "SELECT \n",
                "    sale_id,\n",
                "    FORMAT(sale_date, 'yyyy-MM-dd') AS FormattedDate,\n",
                "    FORMAT(amount, 'C', 'en-US') AS FormattedAmount\n",
                "FROM sales;\n",
                "```\n",
                "\n",
                "### Explanation:\n",
                "- **FORMAT(sale_date, 'yyyy-MM-dd')**: Formats the `sale_date` as `yyyy-MM-dd`.\n",
                "- **FORMAT(amount, 'C', 'en-US')**: Formats the `amount` as currency in the US culture.\n",
                "\n",
                "### Output:\n",
                "\n",
                "| sale_id | FormattedDate | FormattedAmount |\n",
                "|---------|----------------|-----------------|\n",
                "| 1       | 2024-06-30     | $1,234.56       |\n",
                "| 2       | 2024-07-01     | $7,890.12       |\n",
                "\n",
                "### Key Points:\n",
                "- **Flexible Formatting**: Supports various formats for dates and numbers.\n",
                "- **Culture**: Optional culture parameter allows formatting according to regional standards.\n",
                "- **Versatility**: Useful for displaying data in user-friendly formats."
            ],
            "metadata": {
                "language": "sql",
                "azdata_cell_guid": "23a983f8-2b45-4819-95ea-456729dd61b9"
            },
            "attachments": {}
        },
        {
            "cell_type": "markdown",
            "source": [
                "**FORMAT() Function:**\n",
                "\n",
                "   \\- Formats a value with the specified format mask."
            ],
            "metadata": {
                "language": "sql",
                "azdata_cell_guid": "f3893194-1eea-4b76-848f-593c47aa5458"
            },
            "attachments": {}
        },
        {
            "cell_type": "code",
            "source": [
                "SELECT name, FORMAT(GETDATE(), 'dd/MM/yyyy') AS FormattedDate FROM employeeDetails;"
            ],
            "metadata": {
                "language": "sql",
                "azdata_cell_guid": "7ec581fe-9387-44cf-83f9-68e96f33faaf"
            },
            "outputs": [
                {
                    "output_type": "display_data",
                    "data": {
                        "text/html": "Total execution time: 00:00:00.038"
                    },
                    "metadata": {}
                },
                {
                    "output_type": "execute_result",
                    "execution_count": 28,
                    "data": {
                        "application/vnd.dataresource+json": {
                            "schema": {
                                "fields": [
                                    {
                                        "name": "name"
                                    },
                                    {
                                        "name": "FormattedDate"
                                    }
                                ]
                            },
                            "data": []
                        },
                        "text/html": "<table><tr><th>name</th><th>FormattedDate</th></tr></table>"
                    },
                    "metadata": {}
                },
                {
                    "output_type": "error",
                    "ename": "",
                    "evalue": "Msg 10347, Level 16, State 1, Line 1\nCommon Language Runtime(CLR) is not enabled on this instance.",
                    "traceback": []
                }
            ],
            "execution_count": 28
        },
        {
            "cell_type": "markdown",
            "source": [
                "**PARSE() and TRY\\_PARSE() Functions:**\n",
                "\n",
                "   \\- PARSE() converts a string to a specified data type.\n",
                "\n",
                "   \\- TRY\\_PARSE() is similar but returns NULL if the conversion fails instead of an error."
            ],
            "metadata": {
                "language": "sql",
                "azdata_cell_guid": "4ad3b555-a9c1-46ca-acba-9f4fb9b5d334"
            },
            "attachments": {}
        },
        {
            "cell_type": "code",
            "source": [
                "SELECT name, PARSE('2022-01-01' AS DATE) AS ParsedDate, TRY_PARSE('NotADate' AS DATE) AS TryParsedDate FROM employeeDetails;"
            ],
            "metadata": {
                "language": "sql",
                "azdata_cell_guid": "94cc2022-06f8-47d2-bdbc-5e7fc1ff72b6"
            },
            "outputs": [
                {
                    "output_type": "display_data",
                    "data": {
                        "text/html": "Total execution time: 00:00:00.018"
                    },
                    "metadata": {}
                },
                {
                    "output_type": "execute_result",
                    "execution_count": 36,
                    "data": {
                        "application/vnd.dataresource+json": {
                            "schema": {
                                "fields": [
                                    {
                                        "name": "name"
                                    },
                                    {
                                        "name": "ParsedDate"
                                    },
                                    {
                                        "name": "TryParsedDate"
                                    }
                                ]
                            },
                            "data": []
                        },
                        "text/html": "<table><tr><th>name</th><th>ParsedDate</th><th>TryParsedDate</th></tr></table>"
                    },
                    "metadata": {}
                },
                {
                    "output_type": "error",
                    "ename": "",
                    "evalue": "Msg 10347, Level 16, State 1, Line 1\nCommon Language Runtime(CLR) is not enabled on this instance.",
                    "traceback": []
                }
            ],
            "execution_count": 36
        },
        {
            "cell_type": "markdown",
            "source": [
                "**STRING\\_AGG() Function:**\n",
                "\n",
                "   - Concatenates values from a column into a single string with a specified separator."
            ],
            "metadata": {
                "language": "sql",
                "azdata_cell_guid": "9d26ff8e-420c-4252-a7a5-630b4fe29616"
            },
            "attachments": {}
        },
        {
            "cell_type": "code",
            "source": [
                "SELECT department, STRING_AGG(name, ', ') AS EmployeeList FROM employeeDetails GROUP BY department;"
            ],
            "metadata": {
                "language": "sql",
                "azdata_cell_guid": "3fbfc764-0046-4533-a64f-5a27b4d0bcb4"
            },
            "outputs": [
                {
                    "output_type": "display_data",
                    "data": {
                        "text/html": "(5 rows affected)"
                    },
                    "metadata": {}
                },
                {
                    "output_type": "display_data",
                    "data": {
                        "text/html": "Total execution time: 00:00:00.015"
                    },
                    "metadata": {}
                },
                {
                    "output_type": "execute_result",
                    "execution_count": 37,
                    "data": {
                        "application/vnd.dataresource+json": {
                            "schema": {
                                "fields": [
                                    {
                                        "name": "department"
                                    },
                                    {
                                        "name": "EmployeeList"
                                    }
                                ]
                            },
                            "data": [
                                {
                                    "department": "Finance",
                                    "EmployeeList": "Padma, Tikram, Abhiram"
                                },
                                {
                                    "department": "HR",
                                    "EmployeeList": "Ananya, Bala, Jamuna, Ramulu"
                                },
                                {
                                    "department": "IT",
                                    "EmployeeList": "Naina, Ganga, Lucky143, Varsha"
                                },
                                {
                                    "department": "Marketing",
                                    "EmployeeList": "Nikhil, Namrata, Harshita"
                                },
                                {
                                    "department": "Sales",
                                    "EmployeeList": "Rajesh, Bunny, Laxman, Lax%man"
                                }
                            ]
                        },
                        "text/html": "<table><tr><th>department</th><th>EmployeeList</th></tr><tr><td>Finance</td><td>Padma, Tikram, Abhiram</td></tr><tr><td>HR</td><td>Ananya, Bala, Jamuna, Ramulu</td></tr><tr><td>IT</td><td>Naina, Ganga, Lucky143, Varsha</td></tr><tr><td>Marketing</td><td>Nikhil, Namrata, Harshita</td></tr><tr><td>Sales</td><td>Rajesh, Bunny, Laxman, Lax%man</td></tr></table>"
                    },
                    "metadata": {}
                }
            ],
            "execution_count": 37
        },
        {
            "cell_type": "code",
            "source": [
                "SELECT department, STUFF((SELECT ', ' + name FROM employeeDetails e2 WHERE e1.department = e2.department FOR XML PATH('')), 1, 2, '') AS EmployeeList FROM employeeDetails e1 GROUP BY department;"
            ],
            "metadata": {
                "language": "sql",
                "azdata_cell_guid": "ebf45eeb-ac83-4076-9d6e-1ef3a1629994"
            },
            "outputs": [
                {
                    "output_type": "display_data",
                    "data": {
                        "text/html": "(5 rows affected)"
                    },
                    "metadata": {}
                },
                {
                    "output_type": "display_data",
                    "data": {
                        "text/html": "Total execution time: 00:00:00.028"
                    },
                    "metadata": {}
                },
                {
                    "output_type": "execute_result",
                    "execution_count": 38,
                    "data": {
                        "application/vnd.dataresource+json": {
                            "schema": {
                                "fields": [
                                    {
                                        "name": "department"
                                    },
                                    {
                                        "name": "EmployeeList"
                                    }
                                ]
                            },
                            "data": [
                                {
                                    "department": "Finance",
                                    "EmployeeList": "Padma, Tikram, Abhiram"
                                },
                                {
                                    "department": "HR",
                                    "EmployeeList": "Ramulu, Jamuna, Ananya, Bala"
                                },
                                {
                                    "department": "IT",
                                    "EmployeeList": "Naina, Ganga, Varsha, Lucky143"
                                },
                                {
                                    "department": "Marketing",
                                    "EmployeeList": "Harshita, Namrata, Nikhil"
                                },
                                {
                                    "department": "Sales",
                                    "EmployeeList": "Laxman, Rajesh, Bunny, Lax%man"
                                }
                            ]
                        },
                        "text/html": "<table><tr><th>department</th><th>EmployeeList</th></tr><tr><td>Finance</td><td>Padma, Tikram, Abhiram</td></tr><tr><td>HR</td><td>Ramulu, Jamuna, Ananya, Bala</td></tr><tr><td>IT</td><td>Naina, Ganga, Varsha, Lucky143</td></tr><tr><td>Marketing</td><td>Harshita, Namrata, Nikhil</td></tr><tr><td>Sales</td><td>Laxman, Rajesh, Bunny, Lax%man</td></tr></table>"
                    },
                    "metadata": {}
                }
            ],
            "execution_count": 38
        },
        {
            "cell_type": "markdown",
            "source": [
                "### **Peculiarities and Considerations for String Functions:**\n",
                "\n",
                "- **Case Sensitivity**: String functions may be case-sensitive depending on the collation settings of the database.\n",
                "- **Data Types**: Ensure that the data types used in string functions are compatible.\n",
                "- **Performance**: Some string functions can impact performance, especially on large datasets. Also Complex string manipulations within queries can impact performance."
            ],
            "metadata": {
                "language": "sql",
                "azdata_cell_guid": "4a25069f-7647-4b77-9d8e-7e169433341d"
            },
            "attachments": {}
        },
        {
            "cell_type": "markdown",
            "source": [
                "### **Most Common Mistakes while Using String Functions:**\n",
                "\n",
                "- **Not Handling NULL Values:** Some functions may return unexpected results or errors when applied to NULL values.\n",
                "- **Ignoring Collation:** Collation settings can affect string comparisons and sorting.\n",
                "- **Incorrect Parameters:** Ensure that you provide the correct parameters to functions to avoid errors.\n",
                "- **Data Type Mismatch:** Ensure that the data types used in string functions match the expected types.\n",
                "- Misusing LIKE pattern matching operators.\n",
                "- Not checking for NULL values in input strings.\n",
                "- Forgetting to handle case sensitivity when necessary.\n",
                "- Not considering potential performance impacts of complex string operations.\n",
                "- Using inefficient string manipulation techniques."
            ],
            "metadata": {
                "language": "sql",
                "azdata_cell_guid": "d07bb057-dfd4-4d1b-bac5-ecb21594f745"
            },
            "attachments": {}
        },
        {
            "cell_type": "markdown",
            "source": [
                "**Note:**\n",
                "\n",
                "- In the provided data, the \\`Lax%man\\` entry may cause issues in certain string functions due to the special character '%'. Proper handling or cleaning of such data may be necessary."
            ],
            "metadata": {
                "language": "sql",
                "azdata_cell_guid": "c3119243-f690-4d81-bac9-f12e9e2aaa5f"
            },
            "attachments": {}
        }
    ]
}